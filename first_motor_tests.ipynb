{
 "cells": [
  {
   "cell_type": "code",
   "execution_count": 1,
   "metadata": {},
   "outputs": [
    {
     "data": {
      "text/html": [
       "<script type=\"text/javascript\">window.PlotlyConfig = {MathJaxConfig: 'local'};</script><script type=\"text/javascript\">if (window.MathJax) {MathJax.Hub.Config({SVG: {font: \"STIX-Web\"}});}</script><script>requirejs.config({paths: { 'plotly': ['https://cdn.plot.ly/plotly-latest.min']},});if(!window._Plotly) {require(['plotly'],function(plotly) {window._Plotly=plotly;});}</script>"
      ],
      "text/vnd.plotly.v1+html": [
       "<script type=\"text/javascript\">window.PlotlyConfig = {MathJaxConfig: 'local'};</script><script type=\"text/javascript\">if (window.MathJax) {MathJax.Hub.Config({SVG: {font: \"STIX-Web\"}});}</script><script>requirejs.config({paths: { 'plotly': ['https://cdn.plot.ly/plotly-latest.min']},});if(!window._Plotly) {require(['plotly'],function(plotly) {window._Plotly=plotly;});}</script>"
      ]
     },
     "metadata": {},
     "output_type": "display_data"
    }
   ],
   "source": [
    "import epics\n",
    "from IPython.display import clear_output, update_display, Markdown, Image\n",
    "import ipywidgets as widgets\n",
    "\n",
    "from py4syn.epics.MotorClass import Motor\n",
    "\n",
    "\n",
    "import pandas as pd\n",
    "import numpy as np\n",
    "import scipy as sp\n",
    "import plotly.offline as py\n",
    "import plotly.graph_objs as go\n",
    "\n",
    "py.init_notebook_mode(connected=True)"
   ]
  },
  {
   "cell_type": "code",
   "execution_count": 2,
   "metadata": {},
   "outputs": [],
   "source": [
    "def display_callback(pvname=None, char_value='', **kw):\n",
    "    update_display(pvname + \" \" + char_value, display_id=pvname)"
   ]
  },
  {
   "cell_type": "code",
   "execution_count": 3,
   "metadata": {},
   "outputs": [],
   "source": [
    "def display_mark_callback(pvname=None, char_value='', **kw):\n",
    "    update_display(Markdown(\"\"\"|IOC:m1.DMOV|\n",
    "            |------------|\n",
    "            |\"\"\"+ char_value +\"\"\"|\"\"\"), display_id=pvname)"
   ]
  },
  {
   "cell_type": "code",
   "execution_count": 4,
   "metadata": {},
   "outputs": [
    {
     "data": {
      "text/plain": [
       "'0'"
      ]
     },
     "metadata": {},
     "output_type": "display_data"
    }
   ],
   "source": [
    "display(\"0\", display_id=\"IOC:m1.RBV\")\n",
    "epics.camonitor(\"IOC:m1.RBV\", callback=display_callback)"
   ]
  },
  {
   "cell_type": "code",
   "execution_count": 5,
   "metadata": {},
   "outputs": [
    {
     "data": {
      "text/plain": [
       "'0'"
      ]
     },
     "metadata": {},
     "output_type": "display_data"
    }
   ],
   "source": [
    "display(\"0\", display_id=\"IOC:m1.DMOV\")\n",
    "epics.camonitor(\"IOC:m1.DMOV\", callback=display_callback)\n"
   ]
  },
  {
   "cell_type": "code",
   "execution_count": 6,
   "metadata": {},
   "outputs": [
    {
     "data": {
      "application/vnd.jupyter.widget-view+json": {
       "model_id": "33448eea1ef14e1395c8b8219877e37b",
       "version_major": 2,
       "version_minor": 0
      },
      "text/plain": [
       "BoundedFloatText(value=7.5, description='VAL Target:', max=200.0, min=-200.0, step=0.1)"
      ]
     },
     "metadata": {},
     "output_type": "display_data"
    },
    {
     "data": {
      "application/vnd.jupyter.widget-view+json": {
       "model_id": "0bebcdbacce348948c33cb2fe10464d9",
       "version_major": 2,
       "version_minor": 0
      },
      "text/plain": [
       "Button(description='Start Motor', style=ButtonStyle())"
      ]
     },
     "metadata": {},
     "output_type": "display_data"
    }
   ],
   "source": [
    "VAL_selection = widgets.BoundedFloatText(\n",
    "    value=7.5,\n",
    "    min=-200,\n",
    "    max=200.0,\n",
    "    step=0.1,\n",
    "    description='VAL Target:',\n",
    "    disabled=False\n",
    ")\n",
    "\n",
    "display(VAL_selection)\n",
    "\n",
    "button = widgets.Button(description=\"Start Motor\")\n",
    "display(button)\n",
    "\n",
    "def on_button_clicked(b):\n",
    "    epics.caput(\"IOC:m1.VAL\", VAL_selection.value)\n",
    "\n",
    "button.on_click(on_button_clicked)\n",
    "\n"
   ]
  },
  {
   "cell_type": "code",
   "execution_count": 7,
   "metadata": {},
   "outputs": [],
   "source": [
    "m1 = Motor(\"IOC:m1\", \"m1\")"
   ]
  },
  {
   "cell_type": "code",
   "execution_count": 8,
   "metadata": {},
   "outputs": [],
   "source": [
    "m1.setValue(20)"
   ]
  },
  {
   "cell_type": "code",
   "execution_count": 9,
   "metadata": {},
   "outputs": [],
   "source": [
    "corrente = epics.PV(\"LNLS:ANEL:corrente\")"
   ]
  },
  {
   "cell_type": "code",
   "execution_count": 10,
   "metadata": {},
   "outputs": [
    {
     "data": {
      "text/plain": [
       "244.512"
      ]
     },
     "execution_count": 10,
     "metadata": {},
     "output_type": "execute_result"
    }
   ],
   "source": [
    "corrente.get()"
   ]
  },
  {
   "cell_type": "code",
   "execution_count": 11,
   "metadata": {},
   "outputs": [
    {
     "data": {
      "text/plain": [
       "1554897109.258579"
      ]
     },
     "execution_count": 11,
     "metadata": {},
     "output_type": "execute_result"
    }
   ],
   "source": [
    "corrente.timestamp"
   ]
  },
  {
   "cell_type": "code",
   "execution_count": 12,
   "metadata": {},
   "outputs": [],
   "source": [
    "def plot_current(current_data, last_range):\n",
    "    # make figure\n",
    "    figure = {\n",
    "        'data': [],\n",
    "        'layout': {},\n",
    "    }\n",
    "\n",
    "    # fill in most of layout\n",
    "    figure['layout']['xaxis'] = {'range': last_range, 'title': 'Time (s)'}\n",
    "    figure['layout']['yaxis'] = {'title': 'Corrent value (Amperes)', 'type': 'linear'}\n",
    "    figure['layout']['hovermode'] = 'closest'\n",
    "\n",
    "    # make data\n",
    "    data_dict = {\n",
    "        'x': list(current_data[\"time\"]),\n",
    "        'y': list(current_data[\"value\"]),\n",
    "        'mode': 'lines+markers',\n",
    "    }\n",
    "    figure['data'].append(data_dict)\n",
    "\n",
    "    return go.FigureWidget(figure['data'], figure['layout'])\n",
    "    "
   ]
  },
  {
   "cell_type": "code",
   "execution_count": 13,
   "metadata": {},
   "outputs": [
    {
     "data": {
      "application/vnd.jupyter.widget-view+json": {
       "model_id": "86e3f153850a43d3aff5a4f8e9024a7f",
       "version_major": 2,
       "version_minor": 0
      },
      "text/plain": [
       "FigureWidget({\n",
       "    'data': [{'mode': 'lines+markers',\n",
       "              'type': 'scatter',\n",
       "              'uid': '1…"
      ]
     },
     "metadata": {},
     "output_type": "display_data"
    }
   ],
   "source": [
    "a = {\"value\": [20, 30, 40, 34], \"time\": [1, 2, 3, 4]}\n",
    "g = plot_current(a, [0, 10])\n",
    "display(g)\n"
   ]
  },
  {
   "cell_type": "code",
   "execution_count": null,
   "metadata": {},
   "outputs": [],
   "source": []
  },
  {
   "cell_type": "code",
   "execution_count": 43,
   "metadata": {
    "scrolled": true
   },
   "outputs": [
    {
     "data": {
      "text/plain": [
       "1"
      ]
     },
     "execution_count": 43,
     "metadata": {},
     "output_type": "execute_result"
    }
   ],
   "source": [
    "initial_time = corrente.timestamp\n",
    "\n",
    "plot_limit_time_range = 100\n",
    "slider_limit_subdivision = 2\n",
    "\n",
    "corrente_data = {\"value\": [], \"time\": []}\n",
    "time_slider = [0]\n",
    "\n",
    "g = plot_current(corrente_data, [time_slider[-1] - 100, time_slider[-1]] if time_slider[-1] > 100 else [0, 100])\n",
    "\n",
    "def plot_data_callback(pvname=None, value=0, timestamp=0, **kwargs):\n",
    "    with g.batch_update():\n",
    "        if len(corrente_data[\"value\"]) != 0 and value == corrente_data[\"value\"][-1]:\n",
    "            return\n",
    "\n",
    "        corrente_data[\"value\"].append(value)\n",
    "        corrente_data[\"time\"].append(timestamp - initial_time)\n",
    "\n",
    "        if timestamp - initial_time > time_slider[-1] + plot_limit_time_range / slider_limit_subdivision:\n",
    "            time_slider.append(round(timestamp - initial_time))\n",
    "    \n",
    "corrente = epics.PV(\"LNLS:ANEL:corrente\", auto_monitor=True)\n",
    "corrente.add_callback(plot_data_callback)"
   ]
  },
  {
   "cell_type": "code",
   "execution_count": 50,
   "metadata": {},
   "outputs": [
    {
     "data": {
      "application/vnd.jupyter.widget-view+json": {
       "model_id": "0d5e839405a34333b978099d1342efc0",
       "version_major": 2,
       "version_minor": 0
      },
      "text/plain": [
       "FigureWidget({\n",
       "    'data': [{'mode': 'lines+markers',\n",
       "              'type': 'scatter',\n",
       "              'uid': '0…"
      ]
     },
     "metadata": {},
     "output_type": "display_data"
    }
   ],
   "source": [
    "g"
   ]
  },
  {
   "cell_type": "code",
   "execution_count": 49,
   "metadata": {},
   "outputs": [
    {
     "data": {
      "text/plain": [
       "{'time': [0.0,\n",
       "  9.99993085861206,\n",
       "  19.999979972839355,\n",
       "  30.00002098083496,\n",
       "  39.99986696243286],\n",
       " 'value': [240.622, 240.573, 240.508, 240.459, 240.41]}"
      ]
     },
     "execution_count": 49,
     "metadata": {},
     "output_type": "execute_result"
    }
   ],
   "source": [
    "corrente_data\n",
    "# time_slider"
   ]
  }
 ],
 "metadata": {
  "celltoolbar": "Attachments",
  "kernelspec": {
   "display_name": "test",
   "language": "python",
   "name": "test"
  },
  "language_info": {
   "codemirror_mode": {
    "name": "ipython",
    "version": 3
   },
   "file_extension": ".py",
   "mimetype": "text/x-python",
   "name": "python",
   "nbconvert_exporter": "python",
   "pygments_lexer": "ipython3",
   "version": "3.5.3"
  }
 },
 "nbformat": 4,
 "nbformat_minor": 2
}
