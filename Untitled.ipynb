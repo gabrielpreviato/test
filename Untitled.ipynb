{
 "cells": [
  {
   "cell_type": "code",
   "execution_count": 1,
   "metadata": {},
   "outputs": [
    {
     "data": {
      "text/html": [
       "<script type=\"text/javascript\">window.PlotlyConfig = {MathJaxConfig: 'local'};</script><script type=\"text/javascript\">if (window.MathJax) {MathJax.Hub.Config({SVG: {font: \"STIX-Web\"}});}</script><script>requirejs.config({paths: { 'plotly': ['https://cdn.plot.ly/plotly-latest.min']},});if(!window._Plotly) {require(['plotly'],function(plotly) {window._Plotly=plotly;});}</script>"
      ],
      "text/vnd.plotly.v1+html": [
       "<script type=\"text/javascript\">window.PlotlyConfig = {MathJaxConfig: 'local'};</script><script type=\"text/javascript\">if (window.MathJax) {MathJax.Hub.Config({SVG: {font: \"STIX-Web\"}});}</script><script>requirejs.config({paths: { 'plotly': ['https://cdn.plot.ly/plotly-latest.min']},});if(!window._Plotly) {require(['plotly'],function(plotly) {window._Plotly=plotly;});}</script>"
      ]
     },
     "metadata": {},
     "output_type": "display_data"
    }
   ],
   "source": [
    "# Import jupy4syn libraries\n",
    "from lib.EnergyScanButton import EnergyScanButton\n",
    "from lib.Configuration import Configuration\n",
    "\n",
    "# Enable offline plots from Plotly\n",
    "import plotly.offline as py\n",
    "py.init_notebook_mode(connected=True)"
   ]
  },
  {
   "cell_type": "code",
   "execution_count": 2,
   "metadata": {},
   "outputs": [
    {
     "data": {
      "application/vnd.jupyter.widget-view+json": {
       "model_id": "5e0e2f978a1f4af5889f7f9d430be2c1",
       "version_major": 2,
       "version_minor": 0
      },
      "text/plain": [
       "Checkbox(value=False, description=\"Print log in Notebook's cells\", style=DescriptionStyle(description_width='i…"
      ]
     },
     "metadata": {},
     "output_type": "display_data"
    },
    {
     "data": {
      "application/vnd.jupyter.widget-view+json": {
       "model_id": "5a2a5820f5c549988091c9facf590064",
       "version_major": 2,
       "version_minor": 0
      },
      "text/plain": [
       "HBox(children=(Label(value=\"Notebook's name: \"), Text(value='', layout=Layout(width='300px'), placeholder=\"Typ…"
      ]
     },
     "metadata": {},
     "output_type": "display_data"
    },
    {
     "data": {
      "application/vnd.jupyter.widget-view+json": {
       "model_id": "8c6ac62e031e493a8d5df872b8d42252",
       "version_major": 2,
       "version_minor": 0
      },
      "text/plain": [
       "Output()"
      ]
     },
     "metadata": {},
     "output_type": "display_data"
    }
   ],
   "source": [
    "config = Configuration()\n",
    "config.display()"
   ]
  },
  {
   "cell_type": "code",
   "execution_count": 3,
   "metadata": {
    "scrolled": false
   },
   "outputs": [
    {
     "data": {
      "application/vnd.jupyter.widget-view+json": {
       "model_id": "73005fcecaf94763bf42ed379c71afe1",
       "version_major": 2,
       "version_minor": 0
      },
      "text/plain": [
       "VBox(children=(HBox(children=(Label(value='Motors names', layout=Layout(width='150px')), Textarea(value='', pl…"
      ]
     },
     "metadata": {},
     "output_type": "display_data"
    },
    {
     "data": {
      "application/vnd.jupyter.widget-view+json": {
       "model_id": "1183a556d29146d6b8f185bd00fdd74a",
       "version_major": 2,
       "version_minor": 0
      },
      "text/plain": [
       "Box()"
      ]
     },
     "metadata": {},
     "output_type": "display_data"
    },
    {
     "data": {
      "application/vnd.jupyter.widget-view+json": {
       "model_id": "bca77b17248c4d88ae71720534ff9c44",
       "version_major": 2,
       "version_minor": 0
      },
      "text/plain": [
       "Output()"
      ]
     },
     "metadata": {},
     "output_type": "display_data"
    }
   ],
   "source": [
    "energy_scan = EnergyScanButton(config)\n",
    "energy_scan.display()"
   ]
  },
  {
   "cell_type": "code",
   "execution_count": null,
   "metadata": {},
   "outputs": [],
   "source": [
    "i = 3\n",
    "energy_scan.fig['layout']['yaxis'+str(2*i+1)] = dict(overlaying='y'+(str(2*i) if i != 0 else \"\"), anchor=\"x\"+(str(2*i) if i != 0 else \"\"), side='right', showgrid=False, title=\"y\"+str(2*i+1))"
   ]
  },
  {
   "cell_type": "code",
   "execution_count": 4,
   "metadata": {},
   "outputs": [
    {
     "name": "stdout",
     "output_type": "stream",
     "text": [
      "FigureWidget({\n",
      "    'data': [{'mode': 'lines+markers',\n",
      "              'name': 'f2',\n",
      "              'type': 'scatter',\n",
      "              'uid': '12af6ab0-32d4-43f9-ad70-17bd0c78c210',\n",
      "              'x': array([0, 1, 2, 3, 4, 5, 6, 7, 8, 9]),\n",
      "              'xaxis': 'x',\n",
      "              'y': array([68., 58., 11., 28., 53., 10., 71.,  0., 37., 86.]),\n",
      "              'yaxis': 'y'},\n",
      "             {'mode': 'lines+markers',\n",
      "              'name': 'df2',\n",
      "              'type': 'scatter',\n",
      "              'uid': '3e123a3d-b7b8-4b2b-9e0a-69dd0c5917c7',\n",
      "              'x': array([1, 2, 3, 4, 5, 6, 7, 8, 9]),\n",
      "              'xaxis': 'x',\n",
      "              'y': array([-10., -47.,  17.,  25., -43.,  61., -71.,  37.,  49.]),\n",
      "              'yaxis': 'y'},\n",
      "             {'mode': 'lines+markers',\n",
      "              'name': 'f3',\n",
      "              'type': 'scatter',\n",
      "              'uid': 'a264b858-83be-44e9-a4b1-151000019545',\n",
      "              'x': array([0, 1, 2, 3, 4, 5, 6, 7, 8, 9]),\n",
      "              'xaxis': 'x2',\n",
      "              'y': array([68., 58., 11., 28., 53., 10., 71.,  0., 37., 86.]),\n",
      "              'yaxis': 'y2'},\n",
      "             {'mode': 'lines+markers',\n",
      "              'name': 'df3',\n",
      "              'type': 'scatter',\n",
      "              'uid': '1fcfee4d-f8b7-4481-87f6-e5924892ff06',\n",
      "              'x': array([1, 2, 3, 4, 5, 6, 7, 8, 9]),\n",
      "              'xaxis': 'x2',\n",
      "              'y': array([-10., -47.,  17.,  25., -43.,  61., -71.,  37.,  49.]),\n",
      "              'yaxis': 'y2'}],\n",
      "    'layout': {'autosize': True,\n",
      "               'plot_bgcolor': 'rgb(230, 230, 230)',\n",
      "               'title': {'text': 'Scan'},\n",
      "               'xaxis': {'anchor': 'y', 'autorange': True, 'domain': [0.0, 1.0], 'showspikes': False},\n",
      "               'xaxis2': {'anchor': 'y2',\n",
      "                          'range': [0.4860494610019024, 10.644578313253012],\n",
      "                          'showspikes': False,\n",
      "                          'title': {'text': 'x2'}},\n",
      "               'xaxis4': {'anchor': 'y4', 'title': {'text': 'x4'}},\n",
      "               'yaxis': {'anchor': 'x', 'autorange': True, 'domain': [0.575, 1.0], 'showspikes': False},\n",
      "               'yaxis2': {'anchor': 'x2',\n",
      "                          'range': [-51.83333333333333, 128.16666666666666],\n",
      "                          'showgrid': True,\n",
      "                          'showspikes': False,\n",
      "                          'side': 'left',\n",
      "                          'title': {'text': 'y2'}},\n",
      "               'yaxis3': {'anchor': 'x2', 'overlaying': 'y2', 'showgrid': False, 'side': 'right', 'title': {'text': 'y3'}},\n",
      "               'yaxis4': {'anchor': 'x4', 'showgrid': True, 'side': 'left', 'title': {'text': 'y4'}},\n",
      "               'yaxis5': {'anchor': 'x4',\n",
      "                          'overlaying': 'y4',\n",
      "                          'showgrid': False,\n",
      "                          'side': 'right',\n",
      "                          'title': {'text': 'y5'}}}\n",
      "})\n"
     ]
    }
   ],
   "source": [
    "print(energy_scan.fig)"
   ]
  },
  {
   "cell_type": "code",
   "execution_count": null,
   "metadata": {},
   "outputs": [],
   "source": [
    "import plotly.graph_objs as go\n",
    "\n",
    "energy_scan.fig.update(layout=go.Layout(\n",
    "    title='Double Y Axis Example',\n",
    "    # Top left\n",
    "    xaxis1=dict(\n",
    "        title=\"xaxis title\",\n",
    "#         domain=[0.0, 1.0],\n",
    "        anchor='y'\n",
    "    ),\n",
    "    xaxis2=dict(\n",
    "        title=\"xaxis title\",\n",
    "#         domain=[0.0, 1.0],\n",
    "        anchor='y2'\n",
    "    ),\n",
    "    yaxis1=dict(\n",
    "        title='yaxis title',\n",
    "#         domain=[0.6, 1.0],\n",
    "        side=\"left\",\n",
    "        anchor='x'\n",
    "    ),\n",
    "    yaxis2=dict(\n",
    "        title='yaxis2 title',\n",
    "        #overlaying='y',\n",
    "#         domain=[0.0, 1.0]\n",
    "        side=\"right\",\n",
    "        anchor='x2'\n",
    "    ),\n",
    "    yaxis3=dict(\n",
    "            title='yaxis3 title',\n",
    "            domain=[0.6, 1.0],\n",
    "            overlaying='y2',\n",
    "            side=\"left\",\n",
    "            anchor='x2'\n",
    "    )))"
   ]
  },
  {
   "cell_type": "code",
   "execution_count": null,
   "metadata": {},
   "outputs": [],
   "source": [
    "# energy_scan.fig.data[1].yaxis = \"y3\"\n",
    "energy_scan.fig['data'][1].update(yaxis='y3')\n",
    "energy_scan.fig['data'][1].update(xaxis='x2')"
   ]
  },
  {
   "cell_type": "code",
   "execution_count": null,
   "metadata": {},
   "outputs": [],
   "source": [
    "print(energy_scan.fig)"
   ]
  }
 ],
 "metadata": {
  "kernelspec": {
   "display_name": "Python 3",
   "language": "python",
   "name": "python3"
  },
  "language_info": {
   "codemirror_mode": {
    "name": "ipython",
    "version": 3
   },
   "file_extension": ".py",
   "mimetype": "text/x-python",
   "name": "python",
   "nbconvert_exporter": "python",
   "pygments_lexer": "ipython3",
   "version": "3.5.3"
  }
 },
 "nbformat": 4,
 "nbformat_minor": 2
}
