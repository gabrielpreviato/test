{
 "cells": [
  {
   "cell_type": "code",
   "execution_count": 1,
   "metadata": {},
   "outputs": [
    {
     "data": {
      "text/html": [
       "<script type=\"text/javascript\">window.PlotlyConfig = {MathJaxConfig: 'local'};</script><script type=\"text/javascript\">if (window.MathJax) {MathJax.Hub.Config({SVG: {font: \"STIX-Web\"}});}</script><script>requirejs.config({paths: { 'plotly': ['https://cdn.plot.ly/plotly-latest.min']},});if(!window._Plotly) {require(['plotly'],function(plotly) {window._Plotly=plotly;});}</script>"
      ],
      "text/vnd.plotly.v1+html": [
       "<script type=\"text/javascript\">window.PlotlyConfig = {MathJaxConfig: 'local'};</script><script type=\"text/javascript\">if (window.MathJax) {MathJax.Hub.Config({SVG: {font: \"STIX-Web\"}});}</script><script>requirejs.config({paths: { 'plotly': ['https://cdn.plot.ly/plotly-latest.min']},});if(!window._Plotly) {require(['plotly'],function(plotly) {window._Plotly=plotly;});}</script>"
      ]
     },
     "metadata": {},
     "output_type": "display_data"
    }
   ],
   "source": [
    "# Import jupy4syn libraries\n",
    "from lib.StartMotorsButton import StartMotorsButton\n",
    "from lib.ManualAlignmentButton import ManualAlignmentButton\n",
    "from lib.PVMonitor import PVMonitor\n",
    "from lib.ScalerButton import ScalerButton\n",
    "from lib.MonitorScanSave import MonitorScanSave\n",
    "from lib.EnergyScanButton import EnergyScanButton\n",
    "from lib.ExportButtonLatex import ExportButtonLatex\n",
    "from lib.ExportButtonHTML import ExportButtonHTML\n",
    "from lib.Configuration import Configuration\n",
    "\n",
    "# Enable offline plots from Plotly\n",
    "import plotly.offline as py\n",
    "py.init_notebook_mode(connected=True)"
   ]
  },
  {
   "cell_type": "markdown",
   "metadata": {},
   "source": [
    "### Configuration"
   ]
  },
  {
   "cell_type": "code",
   "execution_count": 2,
   "metadata": {},
   "outputs": [
    {
     "data": {
      "application/vnd.jupyter.widget-view+json": {
       "model_id": "85639678156e45fd94380a4bdaccc4af",
       "version_major": 2,
       "version_minor": 0
      },
      "text/plain": [
       "Checkbox(value=False, description=\"Print log in Notebook's cells\", style=DescriptionStyle(description_width='i…"
      ]
     },
     "metadata": {},
     "output_type": "display_data"
    },
    {
     "data": {
      "application/vnd.jupyter.widget-view+json": {
       "model_id": "5e32024de0fe4e4496fcda0ef3b33544",
       "version_major": 2,
       "version_minor": 0
      },
      "text/plain": [
       "HBox(children=(Label(value=\"Notebook's name: \"), Text(value='', layout=Layout(width='300px'), placeholder=\"Typ…"
      ]
     },
     "metadata": {},
     "output_type": "display_data"
    },
    {
     "data": {
      "application/vnd.jupyter.widget-view+json": {
       "model_id": "e5ee371ca47345e4a1f11255b645be6f",
       "version_major": 2,
       "version_minor": 0
      },
      "text/plain": [
       "Output()"
      ]
     },
     "metadata": {},
     "output_type": "display_data"
    }
   ],
   "source": [
    "config = Configuration()\n",
    "config.display()"
   ]
  },
  {
   "cell_type": "markdown",
   "metadata": {},
   "source": [
    "### First manual alignment"
   ]
  },
  {
   "cell_type": "code",
   "execution_count": 3,
   "metadata": {
    "scrolled": true
   },
   "outputs": [
    {
     "data": {
      "application/vnd.jupyter.widget-view+json": {
       "model_id": "6a5b3d2d363f4c41b50ce3d05bf5c3e9",
       "version_major": 2,
       "version_minor": 0
      },
      "text/plain": [
       "VBox(children=(Textarea(value='', placeholder='Example: IOC:m1 IOC:m3 LNLS:TEST:motor_g3'), StartMotorsButton(…"
      ]
     },
     "metadata": {},
     "output_type": "display_data"
    },
    {
     "data": {
      "application/vnd.jupyter.widget-view+json": {
       "model_id": "1e45535a7ac34708aee755c58d5a1dbe",
       "version_major": 2,
       "version_minor": 0
      },
      "text/plain": [
       "Output()"
      ]
     },
     "metadata": {},
     "output_type": "display_data"
    },
    {
     "data": {
      "application/vnd.jupyter.widget-view+json": {
       "model_id": "286719b94b8247cab4130f3a3735873c",
       "version_major": 2,
       "version_minor": 0
      },
      "text/plain": [
       "VBox(children=(Label(value='No motors initilized to be showed.'),))"
      ]
     },
     "metadata": {},
     "output_type": "display_data"
    }
   ],
   "source": [
    "# Jupyter textbox interface\n",
    "start_motor_button_box = StartMotorsButton(config)\n",
    "start_motor_button_box.display()"
   ]
  },
  {
   "cell_type": "code",
   "execution_count": 4,
   "metadata": {},
   "outputs": [],
   "source": [
    "#!caput SOL:m1.RBV 10"
   ]
  },
  {
   "cell_type": "code",
   "execution_count": 5,
   "metadata": {},
   "outputs": [
    {
     "data": {
      "application/vnd.jupyter.widget-view+json": {
       "model_id": "01739f4da8c8463ca96a2c138b860293",
       "version_major": 2,
       "version_minor": 0
      },
      "text/plain": [
       "VBox(children=(ManualAlignmentButton(button_style='success', description='Start Manual Alignment', layout=Layo…"
      ]
     },
     "metadata": {},
     "output_type": "display_data"
    }
   ],
   "source": [
    "# Slit PyQt Interface\n",
    "slit = ManualAlignmentButton(config)\n",
    "slit.display()"
   ]
  },
  {
   "cell_type": "code",
   "execution_count": 6,
   "metadata": {},
   "outputs": [],
   "source": [
    "#!pydm --hide-nav-bar --hide-menu-bar /usr/local/SOL/GUI/sol-widgets/examples/motor/slits.ui"
   ]
  },
  {
   "cell_type": "code",
   "execution_count": 7,
   "metadata": {
    "scrolled": true
   },
   "outputs": [
    {
     "data": {
      "application/vnd.jupyter.widget-view+json": {
       "model_id": "e11d2e07c5a14745a8a0108a1f8a81cc",
       "version_major": 2,
       "version_minor": 0
      },
      "text/plain": [
       "Text(value='', layout=Layout(width='300px'), placeholder='Type the macro')"
      ]
     },
     "metadata": {},
     "output_type": "display_data"
    },
    {
     "data": {
      "application/vnd.jupyter.widget-view+json": {
       "model_id": "c296f07ed4644fa3a6d2394b519115b4",
       "version_major": 2,
       "version_minor": 0
      },
      "text/plain": [
       "VBox(children=(ScalerButton(button_style='success', description='Start Scaler GUI', layout=Layout(width='300px…"
      ]
     },
     "metadata": {},
     "output_type": "display_data"
    },
    {
     "data": {
      "application/vnd.jupyter.widget-view+json": {
       "model_id": "ccac43e1fa3d40779cc86f3a222b301e",
       "version_major": 2,
       "version_minor": 0
      },
      "text/plain": [
       "Output()"
      ]
     },
     "metadata": {},
     "output_type": "display_data"
    }
   ],
   "source": [
    "# Scaler interface\n",
    "scaler = ScalerButton(config)\n",
    "scaler.display()"
   ]
  },
  {
   "cell_type": "code",
   "execution_count": 8,
   "metadata": {},
   "outputs": [],
   "source": [
    "#!pydm --hide-nav-bar --hide-menu-bar /usr/local/SOL/GUI/Scaler_GUI/scaler.py"
   ]
  },
  {
   "cell_type": "markdown",
   "metadata": {},
   "source": [
    "### PV's monitoring"
   ]
  },
  {
   "cell_type": "code",
   "execution_count": 9,
   "metadata": {},
   "outputs": [
    {
     "data": {
      "application/vnd.jupyter.widget-view+json": {
       "model_id": "ef2270a2f29b48478350a61326274762",
       "version_major": 2,
       "version_minor": 0
      },
      "text/plain": [
       "VBox(children=(Textarea(value='', placeholder='Example: IOC:m1.DMOV IOC:m3.RBV LNLS:ANEL:corrente.VAL'), PVMon…"
      ]
     },
     "metadata": {},
     "output_type": "display_data"
    },
    {
     "data": {
      "application/vnd.jupyter.widget-view+json": {
       "model_id": "1e2c75cb525b4bd2ba0c834de75fdc97",
       "version_major": 2,
       "version_minor": 0
      },
      "text/plain": [
       "Output()"
      ]
     },
     "metadata": {},
     "output_type": "display_data"
    }
   ],
   "source": [
    "pv_monitor = PVMonitor(config)\n",
    "pv_monitor.display()"
   ]
  },
  {
   "cell_type": "code",
   "execution_count": 10,
   "metadata": {},
   "outputs": [],
   "source": [
    "#!camonitor SOL:m1.RBV"
   ]
  },
  {
   "cell_type": "markdown",
   "metadata": {},
   "source": [
    "### Scan"
   ]
  },
  {
   "cell_type": "code",
   "execution_count": 11,
   "metadata": {
    "scrolled": true
   },
   "outputs": [
    {
     "data": {
      "application/vnd.jupyter.widget-view+json": {
       "model_id": "241d47d6f199456f8254b845920a94d3",
       "version_major": 2,
       "version_minor": 0
      },
      "text/plain": [
       "Dropdown(options=('Plot after ends with PyQt', 'Plot after ends with Plotly', 'Live Plot'), style=DescriptionS…"
      ]
     },
     "metadata": {},
     "output_type": "display_data"
    },
    {
     "data": {
      "application/vnd.jupyter.widget-view+json": {
       "model_id": "993a91d712594a2b93c88202438dd7eb",
       "version_major": 2,
       "version_minor": 0
      },
      "text/plain": [
       "VBox(children=(MonitorScanSave(button_style='success', description='Start Scanning Plot', layout=Layout(width=…"
      ]
     },
     "metadata": {},
     "output_type": "display_data"
    },
    {
     "data": {
      "application/vnd.jupyter.widget-view+json": {
       "model_id": "0a593b1e26ec4b28ab23b539d895a04e",
       "version_major": 2,
       "version_minor": 0
      },
      "text/plain": [
       "Box(layout=Layout(height='40px', width='40px'))"
      ]
     },
     "metadata": {},
     "output_type": "display_data"
    },
    {
     "data": {
      "application/vnd.jupyter.widget-view+json": {
       "model_id": "c66ed1fa01344c1f91ee72f12f0eff18",
       "version_major": 2,
       "version_minor": 0
      },
      "text/plain": [
       "Box()"
      ]
     },
     "metadata": {},
     "output_type": "display_data"
    },
    {
     "data": {
      "application/vnd.jupyter.widget-view+json": {
       "model_id": "864b736f984d4ac78c1149d6aae10395",
       "version_major": 2,
       "version_minor": 0
      },
      "text/plain": [
       "Output()"
      ]
     },
     "metadata": {},
     "output_type": "display_data"
    },
    {
     "data": {
      "text/plain": [
       "''"
      ]
     },
     "metadata": {},
     "output_type": "display_data"
    },
    {
     "data": {
      "text/plain": [
       "''"
      ]
     },
     "metadata": {},
     "output_type": "display_data"
    }
   ],
   "source": [
    "# Scan-gui\n",
    "scan_plot = MonitorScanSave(config)\n",
    "scan_plot.display()"
   ]
  },
  {
   "cell_type": "code",
   "execution_count": 12,
   "metadata": {},
   "outputs": [],
   "source": [
    "#!pydm --hide-nav-bar --hide-menu-bar /usr/local/SOL/GUI/scan-gui/scan_gui.py"
   ]
  },
  {
   "cell_type": "markdown",
   "metadata": {},
   "source": [
    "### Energy scan"
   ]
  },
  {
   "cell_type": "code",
   "execution_count": 13,
   "metadata": {},
   "outputs": [
    {
     "data": {
      "application/vnd.jupyter.widget-view+json": {
       "model_id": "5b5527a606b1400aaca565f0417422bf",
       "version_major": 2,
       "version_minor": 0
      },
      "text/plain": [
       "VBox(children=(HBox(children=(Label(value='Motors names', layout=Layout(width='150px')), Textarea(value='', pl…"
      ]
     },
     "metadata": {},
     "output_type": "display_data"
    },
    {
     "data": {
      "application/vnd.jupyter.widget-view+json": {
       "model_id": "78377bd63bcd48e18fc77698cb685b5d",
       "version_major": 2,
       "version_minor": 0
      },
      "text/plain": [
       "Output()"
      ]
     },
     "metadata": {},
     "output_type": "display_data"
    }
   ],
   "source": [
    "energy_scan = EnergyScanButton(config)\n",
    "energy_scan.display()"
   ]
  },
  {
   "cell_type": "markdown",
   "metadata": {},
   "source": [
    "### Export (shows config again)"
   ]
  },
  {
   "cell_type": "code",
   "execution_count": 14,
   "metadata": {
    "scrolled": true
   },
   "outputs": [
    {
     "data": {
      "application/vnd.jupyter.widget-view+json": {
       "model_id": "85639678156e45fd94380a4bdaccc4af",
       "version_major": 2,
       "version_minor": 0
      },
      "text/plain": [
       "Checkbox(value=False, description=\"Print log in Notebook's cells\", style=DescriptionStyle(description_width='i…"
      ]
     },
     "metadata": {},
     "output_type": "display_data"
    },
    {
     "data": {
      "application/vnd.jupyter.widget-view+json": {
       "model_id": "e7c49cabd2f24c7ca41ac76162bc2784",
       "version_major": 2,
       "version_minor": 0
      },
      "text/plain": [
       "HBox(children=(Label(value=\"Notebook's name: \"), Text(value='', layout=Layout(width='300px'), placeholder=\"Typ…"
      ]
     },
     "metadata": {},
     "output_type": "display_data"
    },
    {
     "data": {
      "application/vnd.jupyter.widget-view+json": {
       "model_id": "e5ee371ca47345e4a1f11255b645be6f",
       "version_major": 2,
       "version_minor": 0
      },
      "text/plain": [
       "Output()"
      ]
     },
     "metadata": {},
     "output_type": "display_data"
    }
   ],
   "source": [
    "config.display()"
   ]
  },
  {
   "cell_type": "code",
   "execution_count": 15,
   "metadata": {},
   "outputs": [
    {
     "data": {
      "application/vnd.jupyter.widget-view+json": {
       "model_id": "c91d09e50a9a456c993848f246ea00e1",
       "version_major": 2,
       "version_minor": 0
      },
      "text/plain": [
       "VBox(children=(ExportButtonLatex(button_style='warning', description='Export Notebook to Latex', layout=Layout…"
      ]
     },
     "metadata": {},
     "output_type": "display_data"
    }
   ],
   "source": [
    "export_latex = ExportButtonLatex(config)\n",
    "export_latex.display()"
   ]
  },
  {
   "cell_type": "code",
   "execution_count": 16,
   "metadata": {},
   "outputs": [],
   "source": [
    "#!python3 -m nbconvert work-notebook.ipynb --template=nbextensions --output-dir=./exports --output=work_notebook.tex --to tex"
   ]
  },
  {
   "cell_type": "code",
   "execution_count": 17,
   "metadata": {},
   "outputs": [
    {
     "data": {
      "application/vnd.jupyter.widget-view+json": {
       "model_id": "f7e75d879cdd48009fe4be00b2b7b07c",
       "version_major": 2,
       "version_minor": 0
      },
      "text/plain": [
       "VBox(children=(ExportButtonHTML(button_style='warning', description='Export Notebook to HTML', layout=Layout(w…"
      ]
     },
     "metadata": {},
     "output_type": "display_data"
    }
   ],
   "source": [
    "export_html = ExportButtonHTML(config)\n",
    "export_html.display()"
   ]
  },
  {
   "cell_type": "code",
   "execution_count": 18,
   "metadata": {},
   "outputs": [],
   "source": [
    "#!python3 -m nbconvert work-notebook.ipynb --template=nbextensions --output-dir=./exports --output=work_notebook.html --to html"
   ]
  }
 ],
 "metadata": {
  "kernelspec": {
   "display_name": "Python 3",
   "language": "python",
   "name": "python3"
  },
  "language_info": {
   "codemirror_mode": {
    "name": "ipython",
    "version": 3
   },
   "file_extension": ".py",
   "mimetype": "text/x-python",
   "name": "python",
   "nbconvert_exporter": "python",
   "pygments_lexer": "ipython3",
   "version": "3.5.3"
  },
  "widgets": {
   "application/vnd.jupyter.widget-state+json": {
    "state": {
     "00230b3f60554f72be1c8650e96b2a37": {
      "model_module": "@jupyter-widgets/base",
      "model_module_version": "1.1.0",
      "model_name": "LayoutModel",
      "state": {
       "width": "300px"
      }
     },
     "003a0e555908478a9a0fa7a9cc3e3abe": {
      "model_module": "@jupyter-widgets/controls",
      "model_module_version": "1.4.0",
      "model_name": "ButtonStyleModel",
      "state": {}
     },
     "008e3bcc810146b98b59ac7c3ff50e03": {
      "model_module": "@jupyter-widgets/base",
      "model_module_version": "1.1.0",
      "model_name": "LayoutModel",
      "state": {}
     },
     "00a87709b6b34849a89e505948b8a4ac": {
      "model_module": "@jupyter-widgets/controls",
      "model_module_version": "1.4.0",
      "model_name": "DescriptionStyleModel",
      "state": {
       "description_width": "initial"
      }
     },
     "00e49d5c5e024064a7e6fa4d4dd12e68": {
      "model_module": "@jupyter-widgets/base",
      "model_module_version": "1.1.0",
      "model_name": "LayoutModel",
      "state": {
       "width": "300px"
      }
     },
     "0103ecc04ffc4ec0a67230e8b1c17b94": {
      "model_module": "@jupyter-widgets/controls",
      "model_module_version": "1.4.0",
      "model_name": "DescriptionStyleModel",
      "state": {
       "description_width": "initial"
      }
     },
     "01b99f45f98c4c698b6385a18e5bdfed": {
      "model_module": "@jupyter-widgets/controls",
      "model_module_version": "1.4.0",
      "model_name": "DescriptionStyleModel",
      "state": {
       "description_width": ""
      }
     },
     "01f2580442614e239d7aa35b13c1882f": {
      "model_module": "@jupyter-widgets/output",
      "model_module_version": "1.0.0",
      "model_name": "OutputModel",
      "state": {
       "layout": "IPY_MODEL_3c22bb4fcb574948882c2bfa0f81a9d5"
      }
     },
     "02f760a4d77e4a978ac6917bd15f174b": {
      "model_module": "@jupyter-widgets/controls",
      "model_module_version": "1.4.0",
      "model_name": "TextareaModel",
      "state": {
       "layout": "IPY_MODEL_24b94086d1e9424e94acf8ddc4a4a26d",
       "placeholder": "Example: IOC:m1 IOC:m3 LNLS:TEST:motor_g3",
       "style": "IPY_MODEL_ed5b5e72efa04a538027157e4e3f46a0"
      }
     },
     "02f8e09296714a4d86491150cfc03790": {
      "model_module": "@jupyter-widgets/base",
      "model_module_version": "1.1.0",
      "model_name": "LayoutModel",
      "state": {}
     },
     "031cc156783143c198fa697a7d4216b2": {
      "model_module": "@jupyter-widgets/base",
      "model_module_version": "1.1.0",
      "model_name": "LayoutModel",
      "state": {}
     },
     "03403b4945b543199465fbdbdfcfbab5": {
      "model_module": "@jupyter-widgets/controls",
      "model_module_version": "1.4.0",
      "model_name": "DescriptionStyleModel",
      "state": {
       "description_width": ""
      }
     },
     "0388004d38df4dac810ea560ea777209": {
      "model_module": "@jupyter-widgets/controls",
      "model_module_version": "1.4.0",
      "model_name": "ButtonStyleModel",
      "state": {}
     },
     "03cb4b8d9ade4e68babd03273f71756f": {
      "model_module": "@jupyter-widgets/base",
      "model_module_version": "1.1.0",
      "model_name": "LayoutModel",
      "state": {}
     },
     "03ce81d351e3439d84c9b724f6a7e873": {
      "model_module": "@jupyter-widgets/base",
      "model_module_version": "1.1.0",
      "model_name": "LayoutModel",
      "state": {}
     },
     "04116bf700324ec89d7c454fc53ede02": {
      "model_module": "plotlywidget",
      "model_module_version": "0.8.0",
      "model_name": "FigureModel",
      "state": {
       "_config": {
        "plotlyServerURL": "https://plot.ly"
       },
       "_js2py_layoutDelta": {},
       "_js2py_pointsCallback": {},
       "_js2py_relayout": {},
       "_js2py_restyle": {},
       "_js2py_traceDeltas": {},
       "_js2py_update": {},
       "_layout": {
        "template": {}
       },
       "_model_module_version": "0.8.0",
       "_py2js_addTraces": {},
       "_py2js_animate": {},
       "_py2js_deleteTraces": {},
       "_py2js_moveTraces": {},
       "_py2js_removeLayoutProps": {},
       "_py2js_removeTraceProps": {},
       "_py2js_restyle": {},
       "_py2js_update": {},
       "_view_count": 0,
       "_view_module_version": "0.8.0"
      }
     },
     "04653d3df17249ae9b1610753149ac92": {
      "model_module": "@jupyter-widgets/base",
      "model_module_version": "1.1.0",
      "model_name": "LayoutModel",
      "state": {}
     },
     "046604bef15a4a15adb77c6368224718": {
      "model_module": "@jupyter-widgets/base",
      "model_module_version": "1.1.0",
      "model_name": "LayoutModel",
      "state": {}
     },
     "047332796a424908aa7568c07885ee71": {
      "model_module": "@jupyter-widgets/controls",
      "model_module_version": "1.4.0",
      "model_name": "VBoxModel",
      "state": {
       "children": [
        "IPY_MODEL_cb40802f12154ab0a7126cd48ae3568b",
        "IPY_MODEL_6ebd247dcfd3471e9e6b23e840f7ace2"
       ],
       "layout": "IPY_MODEL_e277bf4241f44fd6a5d4ce177503c8ba"
      }
     },
     "047508317efc45e28b36e4d1368524ff": {
      "model_module": "plotlywidget",
      "model_module_version": "0.8.0",
      "model_name": "FigureModel",
      "state": {
       "_config": {
        "plotlyServerURL": "https://plot.ly"
       },
       "_js2py_layoutDelta": {},
       "_js2py_pointsCallback": {},
       "_js2py_relayout": {},
       "_js2py_restyle": {},
       "_js2py_traceDeltas": {},
       "_js2py_update": {},
       "_layout": {
        "template": {}
       },
       "_model_module_version": "0.8.0",
       "_py2js_addTraces": {},
       "_py2js_animate": {},
       "_py2js_deleteTraces": {},
       "_py2js_moveTraces": {},
       "_py2js_removeLayoutProps": {},
       "_py2js_removeTraceProps": {},
       "_py2js_restyle": {},
       "_py2js_update": {},
       "_view_count": 0,
       "_view_module_version": "0.8.0"
      }
     },
     "04940961b0b840b386e6756ac4ebbc91": {
      "model_module": "@jupyter-widgets/controls",
      "model_module_version": "1.4.0",
      "model_name": "VBoxModel",
      "state": {
       "children": [
        "IPY_MODEL_c617347be3fa43aaa169db563af7cc33",
        "IPY_MODEL_827d24f845ab4f36b8152c3ee244e87e"
       ],
       "layout": "IPY_MODEL_3ad01882990c490e9276d7c658e286a4"
      }
     },
     "04fbd6b900364159b47444885c233936": {
      "model_module": "@jupyter-widgets/controls",
      "model_module_version": "1.4.0",
      "model_name": "HBoxModel",
      "state": {
       "children": [
        "IPY_MODEL_4386ef171712498c903d899449c80148",
        "IPY_MODEL_6187d0996417440c841e322ce571f48e"
       ],
       "layout": "IPY_MODEL_bb38952eb6ca4a08ae6b7b65cc2175f9"
      }
     },
     "050399cd7d0f46c1827f9706e7086a72": {
      "model_module": "@jupyter-widgets/output",
      "model_module_version": "1.0.0",
      "model_name": "OutputModel",
      "state": {
       "layout": "IPY_MODEL_eb11ccd182c1411abf377201a9e64b3d"
      }
     },
     "0515b67478a4446f8782163291d12e0f": {
      "buffers": [
       {
        "data": "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",
        "encoding": "base64",
        "path": [
         "value"
        ]
       }
      ],
      "model_module": "@jupyter-widgets/controls",
      "model_module_version": "1.4.0",
      "model_name": "ImageModel",
      "state": {
       "height": "35",
       "layout": "IPY_MODEL_7b7c87acdbae411daa91f94811a15eda",
       "value": {},
       "width": "35"
      }
     },
     "05d4b2f56f9649a1aeb9b6e4e67cb826": {
      "model_module": "@jupyter-widgets/base",
      "model_module_version": "1.1.0",
      "model_name": "LayoutModel",
      "state": {}
     },
     "05d9d947dae24881b0f46e3ca77494c4": {
      "model_module": "@jupyter-widgets/controls",
      "model_module_version": "1.4.0",
      "model_name": "ButtonStyleModel",
      "state": {}
     },
     "0682720178cf44f2903729cad9272241": {
      "model_module": "@jupyter-widgets/base",
      "model_module_version": "1.1.0",
      "model_name": "LayoutModel",
      "state": {
       "width": "300px"
      }
     },
     "069ebf460940451aa2f490ff8497e203": {
      "model_module": "@jupyter-widgets/base",
      "model_module_version": "1.1.0",
      "model_name": "LayoutModel",
      "state": {}
     },
     "06b1f52654944493bdd92046299c9949": {
      "model_module": "@jupyter-widgets/base",
      "model_module_version": "1.1.0",
      "model_name": "LayoutModel",
      "state": {}
     },
     "06dcf95f88ca4715821ada8e5fe586e1": {
      "model_module": "@jupyter-widgets/base",
      "model_module_version": "1.1.0",
      "model_name": "LayoutModel",
      "state": {}
     },
     "0752b91951a14ae7ab831bd07224b159": {
      "model_module": "@jupyter-widgets/base",
      "model_module_version": "1.1.0",
      "model_name": "LayoutModel",
      "state": {
       "width": "300px"
      }
     },
     "07806932770446d99f9f96cd3eb64976": {
      "model_module": "@jupyter-widgets/base",
      "model_module_version": "1.1.0",
      "model_name": "LayoutModel",
      "state": {
       "width": "300px"
      }
     },
     "07a4bdf14c664ce18c11d6a6cbeaf824": {
      "model_module": "@jupyter-widgets/base",
      "model_module_version": "1.1.0",
      "model_name": "LayoutModel",
      "state": {
       "width": "300px"
      }
     },
     "081b0c55f6a943c799796914c8e11caf": {
      "model_module": "@jupyter-widgets/base",
      "model_module_version": "1.1.0",
      "model_name": "LayoutModel",
      "state": {}
     },
     "0976b47fa96d4836b17ffb8b93437fb5": {
      "model_module": "@jupyter-widgets/controls",
      "model_module_version": "1.4.0",
      "model_name": "DropdownModel",
      "state": {
       "_options_labels": [
        "Plot after ends with PyQt",
        "Plot after ends with Plotly",
        "Live Plot"
       ],
       "disabled": true,
       "index": 0,
       "layout": "IPY_MODEL_ceaa763ba43f4473bb1535350226741f",
       "style": "IPY_MODEL_464fae507c164647905d7a6f0ed08602"
      }
     },
     "09a423e95d754ad299b93d9a175840e6": {
      "model_module": "@jupyter-widgets/base",
      "model_module_version": "1.1.0",
      "model_name": "LayoutModel",
      "state": {}
     },
     "09b76777dada47d2bdec3bfc52eb32c5": {
      "model_module": "@jupyter-widgets/controls",
      "model_module_version": "1.4.0",
      "model_name": "ButtonStyleModel",
      "state": {}
     },
     "0a29e696b63c4abe83eaeb53a13538f7": {
      "buffers": [
       {
        "data": "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",
        "encoding": "base64",
        "path": [
         "value"
        ]
       }
      ],
      "model_module": "@jupyter-widgets/controls",
      "model_module_version": "1.4.0",
      "model_name": "ImageModel",
      "state": {
       "height": "35",
       "layout": "IPY_MODEL_915519bd277541ee92c4057e40de4bda",
       "value": {},
       "width": "35"
      }
     },
     "0ae72a36c7814a1f994b7c72f1d3ddf0": {
      "model_module": "@jupyter-widgets/base",
      "model_module_version": "1.1.0",
      "model_name": "LayoutModel",
      "state": {}
     },
     "0affc4e961cb483ea1ee3cabb84934f3": {
      "model_module": "@jupyter-widgets/base",
      "model_module_version": "1.1.0",
      "model_name": "LayoutModel",
      "state": {}
     },
     "0b0a2b91e42947948d9dddc10c7c7eae": {
      "model_module": "@jupyter-widgets/controls",
      "model_module_version": "1.4.0",
      "model_name": "DescriptionStyleModel",
      "state": {
       "description_width": ""
      }
     },
     "0b7d9decd0b8459d81072fd8e218dfa8": {
      "model_module": "@jupyter-widgets/controls",
      "model_module_version": "1.4.0",
      "model_name": "DescriptionStyleModel",
      "state": {
       "description_width": ""
      }
     },
     "0b85f420dfcd4e47aa6359385757d3f2": {
      "model_module": "@jupyter-widgets/controls",
      "model_module_version": "1.4.0",
      "model_name": "DescriptionStyleModel",
      "state": {
       "description_width": "initial"
      }
     },
     "0bcc08b985e74b6cae12f6231b459b6f": {
      "model_module": "@jupyter-widgets/controls",
      "model_module_version": "1.4.0",
      "model_name": "VBoxModel",
      "state": {
       "children": [
        "IPY_MODEL_33c441fc7e96433bbfcb54362f7e1ab8",
        "IPY_MODEL_5b817b37a937468faa210858195eddbb"
       ],
       "layout": "IPY_MODEL_b4ebd2d97403453987569705f77048a2"
      }
     },
     "0bcf2d924aba47dcbf3af2d7d0f9d788": {
      "model_module": "@jupyter-widgets/controls",
      "model_module_version": "1.4.0",
      "model_name": "LabelModel",
      "state": {
       "layout": "IPY_MODEL_99de3516661049699c90dd46dd16b91a",
       "style": "IPY_MODEL_01b99f45f98c4c698b6385a18e5bdfed",
       "value": "Notebook's name: "
      }
     },
     "0bd7be9283024611b8aefff115a4e901": {
      "model_module": "@jupyter-widgets/base",
      "model_module_version": "1.1.0",
      "model_name": "LayoutModel",
      "state": {}
     },
     "0c18b590a06f458dbf4973ba8ff5daf4": {
      "model_module": "@jupyter-widgets/base",
      "model_module_version": "1.1.0",
      "model_name": "LayoutModel",
      "state": {}
     },
     "0c73ec25d4364274a3b1d0eb4276e14c": {
      "model_module": "@jupyter-widgets/base",
      "model_module_version": "1.1.0",
      "model_name": "LayoutModel",
      "state": {}
     },
     "0cb262bdaf1341f680b3f3706f464468": {
      "model_module": "@jupyter-widgets/base",
      "model_module_version": "1.1.0",
      "model_name": "LayoutModel",
      "state": {
       "width": "300px"
      }
     },
     "0cf84c8e39644ae28975874038b15253": {
      "model_module": "@jupyter-widgets/controls",
      "model_module_version": "1.4.0",
      "model_name": "CheckboxModel",
      "state": {
       "description": "Live plot in Jupyter: ",
       "disabled": true,
       "layout": "IPY_MODEL_38a23cb5d61f4171948a205d28e96281",
       "style": "IPY_MODEL_32cf175048074e2780d5fffc842e1cf0",
       "value": false
      }
     },
     "0d32f21b8e0440f0a945333babe63087": {
      "model_module": "@jupyter-widgets/base",
      "model_module_version": "1.1.0",
      "model_name": "LayoutModel",
      "state": {}
     },
     "0d8c74b6448e4513801675d196ee5123": {
      "model_module": "@jupyter-widgets/controls",
      "model_module_version": "1.4.0",
      "model_name": "CheckboxModel",
      "state": {
       "description": "Print log in Notebook's cells",
       "disabled": false,
       "layout": "IPY_MODEL_ab11c3ae3e5248ad986a11cefe80c2aa",
       "style": "IPY_MODEL_efc4ab2810ee49f6ab94709ba85ce757",
       "value": false
      }
     },
     "0d96f33d94d34337993b083e79337b45": {
      "model_module": "@jupyter-widgets/base",
      "model_module_version": "1.1.0",
      "model_name": "LayoutModel",
      "state": {
       "width": "300px"
      }
     },
     "0e363ad852c64bafa90e4e3867ce3a31": {
      "model_module": "@jupyter-widgets/controls",
      "model_module_version": "1.4.0",
      "model_name": "CheckboxModel",
      "state": {
       "description": "Print log in Notebook's cells",
       "disabled": false,
       "layout": "IPY_MODEL_7d8a8a1ad0174e9eb4d371d4f9c0395f",
       "style": "IPY_MODEL_1a0a445f49864d5290c2a27ce27b2b1d",
       "value": false
      }
     },
     "0e4463dedd234e418acd27ad060a490a": {
      "model_module": "@jupyter-widgets/controls",
      "model_module_version": "1.4.0",
      "model_name": "TextModel",
      "state": {
       "layout": "IPY_MODEL_ccb7c144d73149c8b17786ca43a669eb",
       "placeholder": "Type the macro",
       "style": "IPY_MODEL_d077ce6545b244aa9ebb1c0446fd98da"
      }
     },
     "0e8dbd8ae7c94edba663a0be8a3afba7": {
      "model_module": "@jupyter-widgets/controls",
      "model_module_version": "1.4.0",
      "model_name": "VBoxModel",
      "state": {
       "children": [
        "IPY_MODEL_74704aee4959469ca996f75c27eb316d",
        "IPY_MODEL_46755f2e0ded47349a41916b781fa170"
       ],
       "layout": "IPY_MODEL_f2b03d5077e2426c94d89301e7e67b61"
      }
     },
     "0edd0d1d1ccd4a7091b28ded10360493": {
      "model_module": "@jupyter-widgets/controls",
      "model_module_version": "1.4.0",
      "model_name": "TextareaModel",
      "state": {
       "layout": "IPY_MODEL_3f9d5054ae2244c5a77930b7f8d43cd3",
       "placeholder": "Example: IOC:m1.DMOV IOC:m3.RBV LNLS:ANEL:corrente.VAL",
       "style": "IPY_MODEL_407f817f129b4c5ca61baa6b4ae0f252"
      }
     },
     "0eed412847414233a493045f4d1a9fd8": {
      "model_module": "@jupyter-widgets/base",
      "model_module_version": "1.1.0",
      "model_name": "LayoutModel",
      "state": {}
     },
     "0f7477ecdd8b42ee966d8884da23d249": {
      "model_module": "@jupyter-widgets/controls",
      "model_module_version": "1.4.0",
      "model_name": "VBoxModel",
      "state": {
       "children": [
        "IPY_MODEL_1a09a96ba3a04810932616c5ecf747c0",
        "IPY_MODEL_fe56747e02a44ec5a5632794eb86c73d"
       ],
       "layout": "IPY_MODEL_ca3b0f0ff48f4955b2cbdb1384a7c56f"
      }
     },
     "0f805c20840b4610a12dfdcb14ea3d6a": {
      "model_module": "@jupyter-widgets/base",
      "model_module_version": "1.1.0",
      "model_name": "LayoutModel",
      "state": {}
     },
     "0f910c7c3d984ab5a3dadac596556c90": {
      "model_module": "@jupyter-widgets/base",
      "model_module_version": "1.1.0",
      "model_name": "LayoutModel",
      "state": {}
     },
     "0f96fb60838941a998f5e00a47e45f59": {
      "model_module": "@jupyter-widgets/base",
      "model_module_version": "1.1.0",
      "model_name": "LayoutModel",
      "state": {
       "height": "40px",
       "width": "40px"
      }
     },
     "1028bb7c87c34c04b3819261fb640359": {
      "model_module": "@jupyter-widgets/controls",
      "model_module_version": "1.4.0",
      "model_name": "TextModel",
      "state": {
       "layout": "IPY_MODEL_2721c76117204976b9340387497d1123",
       "placeholder": "Type the macro",
       "style": "IPY_MODEL_65ace43cb6694a9fb170cd55c29836de"
      }
     },
     "104430608d564b7c8d5b90af83f0bee8": {
      "model_module": "@jupyter-widgets/base",
      "model_module_version": "1.1.0",
      "model_name": "LayoutModel",
      "state": {}
     },
     "10479785680c4372971bb2fa7b913950": {
      "model_module": "@jupyter-widgets/controls",
      "model_module_version": "1.4.0",
      "model_name": "ButtonModel",
      "state": {
       "button_style": "danger",
       "description": "Stop Scanning Plot",
       "layout": "IPY_MODEL_5ec3d734f39f4a5d9445da5f0421f029",
       "style": "IPY_MODEL_33177091ae5a487598c5b7c978e3d97e",
       "tooltip": "Click me"
      }
     },
     "10615b9f71174a33a168d7dd2e574384": {
      "model_module": "@jupyter-widgets/base",
      "model_module_version": "1.1.0",
      "model_name": "LayoutModel",
      "state": {}
     },
     "106657fe9cbc42e7939a3a04dcb50d2f": {
      "model_module": "@jupyter-widgets/controls",
      "model_module_version": "1.4.0",
      "model_name": "DescriptionStyleModel",
      "state": {
       "description_width": "initial"
      }
     },
     "1066bcf6106d4e9a86a2149947f90c69": {
      "model_module": "@jupyter-widgets/controls",
      "model_module_version": "1.4.0",
      "model_name": "CheckboxModel",
      "state": {
       "description": "Print log in Notebook's cells",
       "disabled": false,
       "layout": "IPY_MODEL_acb75e604e1b4ee38a10cfc0e970179c",
       "style": "IPY_MODEL_58d6643ee7b74dbf80c3094bae8b8a69",
       "value": false
      }
     },
     "106e030cf1aa4253a08a009509c22df1": {
      "model_module": "@jupyter-widgets/base",
      "model_module_version": "1.1.0",
      "model_name": "LayoutModel",
      "state": {}
     },
     "10a31a8230054201a55b573919d072c5": {
      "model_module": "@jupyter-widgets/controls",
      "model_module_version": "1.4.0",
      "model_name": "ButtonStyleModel",
      "state": {}
     },
     "10b181a0c1bb44cda764b4f52455ab6a": {
      "model_module": "@jupyter-widgets/base",
      "model_module_version": "1.1.0",
      "model_name": "LayoutModel",
      "state": {}
     },
     "11707bf27d2e4a2cbec5684420c4ebc3": {
      "model_module": "@jupyter-widgets/base",
      "model_module_version": "1.1.0",
      "model_name": "LayoutModel",
      "state": {
       "width": "300px"
      }
     },
     "11b8aaa62ca84cfe986cdff30904d6b0": {
      "buffers": [
       {
        "data": "AAAAAAAAEEAAAAAAAAAgQAAAAAAAABRAAAAAAAAAAAAAAAAAAAAAAA==",
        "encoding": "base64",
        "path": [
         "_data",
         0,
         "y",
         "value"
        ]
       },
       {
        "data": "AAAAAAAAEEAAAAAAAAAgQAAAAAAAABRAAAAAAAAAAAAAAAAAAAAAAA==",
        "encoding": "base64",
        "path": [
         "_data",
         1,
         "y",
         "value"
        ]
       }
      ],
      "model_module": "plotlywidget",
      "model_module_version": "0.8.0",
      "model_name": "FigureModel",
      "state": {
       "_config": {
        "plotlyServerURL": "https://plot.ly"
       },
       "_data": [
        {
         "mode": "lines+markers",
         "name": "line1",
         "type": "scatter",
         "uid": "1585fefd-8633-4453-9a2f-287c14a22572",
         "x": [
          0,
          1,
          2,
          3,
          4
         ],
         "xaxis": "x",
         "y": {
          "dtype": "float64",
          "shape": [
           5
          ],
          "value": {}
         },
         "yaxis": "y"
        },
        {
         "mode": "lines+markers",
         "name": "line2",
         "type": "scatter",
         "uid": "8c194725-4fb6-4c67-8101-4f8deb5f1a02",
         "x": [
          0,
          1,
          2,
          3,
          4
         ],
         "xaxis": "x2",
         "y": {
          "dtype": "float64",
          "shape": [
           5
          ],
          "value": {}
         },
         "yaxis": "y2"
        }
       ],
       "_js2py_pointsCallback": {},
       "_js2py_restyle": {},
       "_js2py_update": {},
       "_last_layout_edit_id": 8,
       "_last_trace_edit_id": 7,
       "_layout": {
        "autosize": true,
        "plot_bgcolor": "rgb(230, 230, 230)",
        "template": {},
        "title": {
         "text": "Scan"
        },
        "xaxis": {
         "anchor": "y",
         "domain": [
          0,
          1
         ]
        },
        "xaxis2": {
         "anchor": "y2",
         "domain": [
          0,
          1
         ]
        },
        "yaxis": {
         "anchor": "x",
         "domain": [
          0.575,
          1
         ]
        },
        "yaxis2": {
         "anchor": "x2",
         "domain": [
          0,
          0.425
         ]
        }
       },
       "_model_module_version": "0.8.0",
       "_py2js_animate": {},
       "_py2js_deleteTraces": {},
       "_py2js_moveTraces": {},
       "_py2js_removeLayoutProps": {},
       "_py2js_removeTraceProps": {},
       "_view_count": 0,
       "_view_module_version": "0.8.0"
      }
     },
     "12a8e9380c844832b8717c39988815ba": {
      "model_module": "@jupyter-widgets/base",
      "model_module_version": "1.1.0",
      "model_name": "LayoutModel",
      "state": {}
     },
     "12ec1a88bb934977bfc100d2e1ff02dc": {
      "model_module": "@jupyter-widgets/base",
      "model_module_version": "1.1.0",
      "model_name": "LayoutModel",
      "state": {}
     },
     "135059ed05fb4bc3a499ce67c456b24a": {
      "model_module": "@jupyter-widgets/base",
      "model_module_version": "1.1.0",
      "model_name": "LayoutModel",
      "state": {}
     },
     "1399320153024ed5a0787981b39eeeef": {
      "model_module": "@jupyter-widgets/controls",
      "model_module_version": "1.4.0",
      "model_name": "CheckboxModel",
      "state": {
       "description": "Print log in Notebook's cells",
       "disabled": false,
       "layout": "IPY_MODEL_8458ed124f504acfb658f7ea3aab8abc",
       "style": "IPY_MODEL_1cee448f29e04e5e8e80499567c9a2e7",
       "value": false
      }
     },
     "13ad43fa911f4bb5816fc8a434213ad4": {
      "model_module": "@jupyter-widgets/controls",
      "model_module_version": "1.4.0",
      "model_name": "DescriptionStyleModel",
      "state": {
       "description_width": ""
      }
     },
     "13ea239cea2446c69cf622ad041ce301": {
      "model_module": "@jupyter-widgets/controls",
      "model_module_version": "1.4.0",
      "model_name": "VBoxModel",
      "state": {
       "children": [
        "IPY_MODEL_8906c1d2afaf426f9bae7a866f40b369",
        "IPY_MODEL_89c3d8077d444b6eab4a489a043672ef"
       ],
       "layout": "IPY_MODEL_d2b07a86cf914b33b7bba0d4465cd85b"
      }
     },
     "144df4d59a2d4e07a3d804341bf3e208": {
      "model_module": "@jupyter-widgets/base",
      "model_module_version": "1.1.0",
      "model_name": "LayoutModel",
      "state": {}
     },
     "14579a9783cf4cf3bb41f0c1716c4a58": {
      "model_module": "@jupyter-widgets/controls",
      "model_module_version": "1.4.0",
      "model_name": "ButtonModel",
      "state": {
       "button_style": "success",
       "description": "Start Manual Alignment",
       "layout": "IPY_MODEL_f4162a9d7c004db38e1906b11f270a65",
       "style": "IPY_MODEL_8abc0f3340f143da8c58d2f7296eba93",
       "tooltip": "Click me"
      }
     },
     "1468f8d2e9c0435d9029841996840b8c": {
      "model_module": "@jupyter-widgets/output",
      "model_module_version": "1.0.0",
      "model_name": "OutputModel",
      "state": {
       "layout": "IPY_MODEL_0c18b590a06f458dbf4973ba8ff5daf4",
       "outputs": [
        {
         "data": {
          "application/javascript": "IPython.notebook.save_checkpoint();",
          "text/plain": "<IPython.core.display.Javascript object>"
         },
         "metadata": {},
         "output_type": "display_data"
        }
       ]
      }
     },
     "1496f62206a24776a3b85f8cd2903ec2": {
      "model_module": "@jupyter-widgets/output",
      "model_module_version": "1.0.0",
      "model_name": "OutputModel",
      "state": {
       "layout": "IPY_MODEL_ec4e7d72442a4f08bc35b5553222f7fd"
      }
     },
     "1511ed842dcf441d8c7114484874d4a6": {
      "model_module": "@jupyter-widgets/base",
      "model_module_version": "1.1.0",
      "model_name": "LayoutModel",
      "state": {}
     },
     "154d6457e4c24f7b9a620c345210633b": {
      "model_module": "@jupyter-widgets/base",
      "model_module_version": "1.1.0",
      "model_name": "LayoutModel",
      "state": {}
     },
     "156b1f463f744abf8ca665fe3ec21066": {
      "model_module": "@jupyter-widgets/output",
      "model_module_version": "1.0.0",
      "model_name": "OutputModel",
      "state": {
       "layout": "IPY_MODEL_081b0c55f6a943c799796914c8e11caf"
      }
     },
     "159fc86eaab543e88d5820f57e428620": {
      "model_module": "@jupyter-widgets/controls",
      "model_module_version": "1.4.0",
      "model_name": "ButtonStyleModel",
      "state": {}
     },
     "15a683c0700b41fa884a58437b9b429c": {
      "model_module": "@jupyter-widgets/base",
      "model_module_version": "1.1.0",
      "model_name": "LayoutModel",
      "state": {
       "height": "40px",
       "width": "40px"
      }
     },
     "15ced3836cd14426bd849e38252980e6": {
      "model_module": "@jupyter-widgets/controls",
      "model_module_version": "1.4.0",
      "model_name": "BoxModel",
      "state": {
       "children": [
        "IPY_MODEL_e43cb2a91e3c470e9bcf5fd0504eca6f"
       ],
       "layout": "IPY_MODEL_a662a7b9b8e4462091e76c6d909fffb4"
      }
     },
     "16331a51a35e4e29a0392acb78b0547f": {
      "model_module": "@jupyter-widgets/controls",
      "model_module_version": "1.4.0",
      "model_name": "DescriptionStyleModel",
      "state": {
       "description_width": "initial"
      }
     },
     "1699cd9bceb944929515f2ba5c3fb8dd": {
      "model_module": "@jupyter-widgets/base",
      "model_module_version": "1.1.0",
      "model_name": "LayoutModel",
      "state": {}
     },
     "16b55d662ee14293893aaf2952b84a27": {
      "model_module": "@jupyter-widgets/output",
      "model_module_version": "1.0.0",
      "model_name": "OutputModel",
      "state": {
       "layout": "IPY_MODEL_cefb48fbdd91464faa6288b52666f1d0"
      }
     },
     "16e88cb7bcf74ee88ff0cce898856f2f": {
      "model_module": "@jupyter-widgets/base",
      "model_module_version": "1.1.0",
      "model_name": "LayoutModel",
      "state": {}
     },
     "1728725c8f4846b89006d8f75277ab2a": {
      "model_module": "@jupyter-widgets/controls",
      "model_module_version": "1.4.0",
      "model_name": "DescriptionStyleModel",
      "state": {
       "description_width": "initial"
      }
     },
     "1750afec345e44599ca7069e0cf33312": {
      "model_module": "@jupyter-widgets/controls",
      "model_module_version": "1.4.0",
      "model_name": "VBoxModel",
      "state": {
       "children": [
        "IPY_MODEL_66c560ef395c4be3a85dd115df1d8b69"
       ],
       "layout": "IPY_MODEL_727df9b672f644728f2c46c142a1533a"
      }
     },
     "17aa83919f4d4bcb8887fca2d51f708f": {
      "model_module": "@jupyter-widgets/controls",
      "model_module_version": "1.4.0",
      "model_name": "VBoxModel",
      "state": {
       "children": [
        "IPY_MODEL_e861ad2fe3504e7f952f4010d4fe9710",
        "IPY_MODEL_95078a4dadcd4c79b2e18b681a44de00"
       ],
       "layout": "IPY_MODEL_0f805c20840b4610a12dfdcb14ea3d6a"
      }
     },
     "17b3d96f736a4361884115b214688b1b": {
      "model_module": "@jupyter-widgets/controls",
      "model_module_version": "1.4.0",
      "model_name": "TextModel",
      "state": {
       "layout": "IPY_MODEL_37583fb149bf4077a11766a02b2bb9fd",
       "placeholder": "Type the notebook's name without file format",
       "style": "IPY_MODEL_f96d8eb6d78e461182d60b4951071716"
      }
     },
     "17bcf9cc330c48109229b21916a4a9da": {
      "model_module": "@jupyter-widgets/base",
      "model_module_version": "1.1.0",
      "model_name": "LayoutModel",
      "state": {}
     },
     "190361c98f0e4ec09bf9e8757d7b6195": {
      "model_module": "@jupyter-widgets/base",
      "model_module_version": "1.1.0",
      "model_name": "LayoutModel",
      "state": {
       "width": "300px"
      }
     },
     "19b94e66bc6c4ab68761111713e50be6": {
      "model_module": "@jupyter-widgets/base",
      "model_module_version": "1.1.0",
      "model_name": "LayoutModel",
      "state": {}
     },
     "19dc8826a9f84d6680c493ae107a8fdf": {
      "model_module": "@jupyter-widgets/controls",
      "model_module_version": "1.4.0",
      "model_name": "ButtonStyleModel",
      "state": {}
     },
     "1a09a96ba3a04810932616c5ecf747c0": {
      "model_module": "@jupyter-widgets/controls",
      "model_module_version": "1.4.0",
      "model_name": "ButtonModel",
      "state": {
       "button_style": "warning",
       "description": "Export Notebook to Latex",
       "layout": "IPY_MODEL_de6ce21412004a2d806b85e799c8db9a",
       "style": "IPY_MODEL_5e59d5f22b534aa3b29bbf83e9b47fc3",
       "tooltip": "Click me"
      }
     },
     "1a0a445f49864d5290c2a27ce27b2b1d": {
      "model_module": "@jupyter-widgets/controls",
      "model_module_version": "1.4.0",
      "model_name": "DescriptionStyleModel",
      "state": {
       "description_width": "initial"
      }
     },
     "1a0b1c77357e419ebd4eee99c96c249d": {
      "model_module": "@jupyter-widgets/controls",
      "model_module_version": "1.4.0",
      "model_name": "ButtonModel",
      "state": {
       "button_style": "danger",
       "description": "Stop Scanning Plot",
       "layout": "IPY_MODEL_fc1f3f52fa584c068907a08ace1742c8",
       "style": "IPY_MODEL_9f1e0770858d44a7a0fafa09a326df19",
       "tooltip": "Click me"
      }
     },
     "1a6fc990c8e64ba083cfdbcab1332557": {
      "model_module": "@jupyter-widgets/base",
      "model_module_version": "1.1.0",
      "model_name": "LayoutModel",
      "state": {
       "width": "300px"
      }
     },
     "1ac483f39a304d248fbe2bc7a8c0ffff": {
      "model_module": "@jupyter-widgets/base",
      "model_module_version": "1.1.0",
      "model_name": "LayoutModel",
      "state": {}
     },
     "1b12434fbc5e4a35962146b41268a173": {
      "model_module": "@jupyter-widgets/base",
      "model_module_version": "1.1.0",
      "model_name": "LayoutModel",
      "state": {}
     },
     "1b3d3755e74946ccb7b08ac7dd01ddac": {
      "model_module": "@jupyter-widgets/base",
      "model_module_version": "1.1.0",
      "model_name": "LayoutModel",
      "state": {
       "width": "300px"
      }
     },
     "1b54be9bb43e49d9856cadec42c76f79": {
      "model_module": "@jupyter-widgets/base",
      "model_module_version": "1.1.0",
      "model_name": "LayoutModel",
      "state": {}
     },
     "1b713ec09dfd4153a917912f294ee466": {
      "model_module": "@jupyter-widgets/base",
      "model_module_version": "1.1.0",
      "model_name": "LayoutModel",
      "state": {}
     },
     "1b869443ba50433c9ea43754849fd6f4": {
      "model_module": "@jupyter-widgets/controls",
      "model_module_version": "1.4.0",
      "model_name": "HBoxModel",
      "state": {
       "children": [
        "IPY_MODEL_0bcf2d924aba47dcbf3af2d7d0f9d788",
        "IPY_MODEL_6ef61590e29442378782c3a71f969d51"
       ],
       "layout": "IPY_MODEL_63a5aba5bd0c4bfa9a6d6acbea9e8b6e"
      }
     },
     "1bd1b0e305bb4afdab604c770a81683b": {
      "model_module": "@jupyter-widgets/controls",
      "model_module_version": "1.4.0",
      "model_name": "CheckboxModel",
      "state": {
       "description": "Plot with PyQtGraph after scan ends: ",
       "disabled": false,
       "layout": "IPY_MODEL_09a423e95d754ad299b93d9a175840e6",
       "style": "IPY_MODEL_48e55859c5a0449a91de5a53aca0f228",
       "value": true
      }
     },
     "1c71a66406d84b67b73012d6c53596cd": {
      "model_module": "@jupyter-widgets/controls",
      "model_module_version": "1.4.0",
      "model_name": "DescriptionStyleModel",
      "state": {
       "description_width": ""
      }
     },
     "1c7ab8d7f063478f8923fcf3d1992b1a": {
      "model_module": "@jupyter-widgets/controls",
      "model_module_version": "1.4.0",
      "model_name": "VBoxModel",
      "state": {
       "children": [
        "IPY_MODEL_0edd0d1d1ccd4a7091b28ded10360493",
        "IPY_MODEL_55f2523a344e44ebb78a5154f025cc51"
       ],
       "layout": "IPY_MODEL_672ec8b0371b4ffb90267bf9ace491f0"
      }
     },
     "1cee448f29e04e5e8e80499567c9a2e7": {
      "model_module": "@jupyter-widgets/controls",
      "model_module_version": "1.4.0",
      "model_name": "DescriptionStyleModel",
      "state": {
       "description_width": "initial"
      }
     },
     "1d099779e7634a20ac81f6f7ef24d6f0": {
      "model_module": "@jupyter-widgets/base",
      "model_module_version": "1.1.0",
      "model_name": "LayoutModel",
      "state": {}
     },
     "1d4c4953c3e145bd88b6b19d00b6b455": {
      "model_module": "@jupyter-widgets/controls",
      "model_module_version": "1.4.0",
      "model_name": "VBoxModel",
      "state": {
       "children": [
        "IPY_MODEL_1ea7f6672a564025a86953da18db083a",
        "IPY_MODEL_478adf314a5e452f9ea8b62e2550f6e4"
       ],
       "layout": "IPY_MODEL_848e502cc13e4455a826d8e1d45e32b6"
      }
     },
     "1d6d445d04cd4fde8064fa0f256d1388": {
      "model_module": "@jupyter-widgets/controls",
      "model_module_version": "1.4.0",
      "model_name": "LabelModel",
      "state": {
       "layout": "IPY_MODEL_9c3fb1dbc48249789b5a86234fb5724a",
       "style": "IPY_MODEL_3dbf1edb59b1487fac8eb9d8fd874808",
       "value": "Notebook's name: "
      }
     },
     "1dc4f729cd6e4c3a9efab32155b6c625": {
      "buffers": [
       {
        "data": "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",
        "encoding": "base64",
        "path": [
         "value"
        ]
       }
      ],
      "model_module": "@jupyter-widgets/controls",
      "model_module_version": "1.4.0",
      "model_name": "ImageModel",
      "state": {
       "height": "35",
       "layout": "IPY_MODEL_12a8e9380c844832b8717c39988815ba",
       "value": {},
       "width": "35"
      }
     },
     "1de6745bc59f4a71822ec430a74aa2d1": {
      "model_module": "@jupyter-widgets/controls",
      "model_module_version": "1.4.0",
      "model_name": "VBoxModel",
      "state": {
       "children": [
        "IPY_MODEL_2a935d865a264135a90f3cec4638a31f",
        "IPY_MODEL_69238242ee8f4fcebc67f067ece6e519"
       ],
       "layout": "IPY_MODEL_8ce793bba83c4c8d995220237fc00d44"
      }
     },
     "1e04b640e1614ba199c476db368bd0ce": {
      "model_module": "@jupyter-widgets/base",
      "model_module_version": "1.1.0",
      "model_name": "LayoutModel",
      "state": {}
     },
     "1e82988751f24395a2637d32435d7f6b": {
      "model_module": "plotlywidget",
      "model_module_version": "0.8.0",
      "model_name": "FigureModel",
      "state": {
       "_config": {
        "plotlyServerURL": "https://plot.ly"
       },
       "_js2py_layoutDelta": {},
       "_js2py_pointsCallback": {},
       "_js2py_relayout": {},
       "_js2py_restyle": {},
       "_js2py_traceDeltas": {},
       "_js2py_update": {},
       "_layout": {
        "template": {}
       },
       "_model_module_version": "0.8.0",
       "_py2js_addTraces": {},
       "_py2js_animate": {},
       "_py2js_deleteTraces": {},
       "_py2js_moveTraces": {},
       "_py2js_removeLayoutProps": {},
       "_py2js_removeTraceProps": {},
       "_py2js_restyle": {},
       "_py2js_update": {},
       "_view_count": 0,
       "_view_module_version": "0.8.0"
      }
     },
     "1ea7f6672a564025a86953da18db083a": {
      "model_module": "@jupyter-widgets/controls",
      "model_module_version": "1.4.0",
      "model_name": "TextareaModel",
      "state": {
       "layout": "IPY_MODEL_069ebf460940451aa2f490ff8497e203",
       "placeholder": "Example: IOC:m1 IOC:m3 LNLS:TEST:motor_g3",
       "style": "IPY_MODEL_2f82e47ec71b43019883d7db5cb65827"
      }
     },
     "1ecf4ad83ee0492ea9952d7295f9a751": {
      "model_module": "@jupyter-widgets/controls",
      "model_module_version": "1.4.0",
      "model_name": "DescriptionStyleModel",
      "state": {
       "description_width": ""
      }
     },
     "1fa566db850b44d48bee087c9931dca8": {
      "model_module": "@jupyter-widgets/controls",
      "model_module_version": "1.4.0",
      "model_name": "DescriptionStyleModel",
      "state": {
       "description_width": "initial"
      }
     },
     "1fb19c7e0bbf47db909c06444a0d7585": {
      "model_module": "@jupyter-widgets/base",
      "model_module_version": "1.1.0",
      "model_name": "LayoutModel",
      "state": {
       "height": "40px",
       "width": "40px"
      }
     },
     "1fdee0f5dd4943b0bdbc7687df448df3": {
      "model_module": "@jupyter-widgets/controls",
      "model_module_version": "1.4.0",
      "model_name": "VBoxModel",
      "state": {
       "children": [
        "IPY_MODEL_02f760a4d77e4a978ac6917bd15f174b",
        "IPY_MODEL_bf597f69d0244a11bde6a5ee0f06b1bc"
       ],
       "layout": "IPY_MODEL_edc7508cd7e74564b5282603c19343e3"
      }
     },
     "203ed641cb6640839e339d3008c18276": {
      "model_module": "@jupyter-widgets/base",
      "model_module_version": "1.1.0",
      "model_name": "LayoutModel",
      "state": {}
     },
     "20b806bdb44d449eac46b52c0a86d7b1": {
      "model_module": "@jupyter-widgets/base",
      "model_module_version": "1.1.0",
      "model_name": "LayoutModel",
      "state": {}
     },
     "217fe260561447c980be839e80f97a1d": {
      "model_module": "@jupyter-widgets/controls",
      "model_module_version": "1.4.0",
      "model_name": "BoxModel",
      "state": {
       "children": [
        "IPY_MODEL_2f12bc50a79549049b17b0afea2b6859"
       ],
       "layout": "IPY_MODEL_e7f5a25aa32a49a1a5fc51c1676d2382"
      }
     },
     "224a71d68baf41cda5c297b83b7773ca": {
      "model_module": "@jupyter-widgets/controls",
      "model_module_version": "1.4.0",
      "model_name": "VBoxModel",
      "state": {
       "children": [
        "IPY_MODEL_cb7c628f13d54496a3311d24f0f2a74e",
        "IPY_MODEL_8f1b426535af4981bd750b9367f9e2f9"
       ],
       "layout": "IPY_MODEL_2f577d2a65664291835837ec769767cb"
      }
     },
     "22c9375b29f742c1b3d6e52f49710622": {
      "model_module": "@jupyter-widgets/output",
      "model_module_version": "1.0.0",
      "model_name": "OutputModel",
      "state": {
       "layout": "IPY_MODEL_0ae72a36c7814a1f994b7c72f1d3ddf0"
      }
     },
     "22dc15de4ade4fc1bbc89dbe166daeb6": {
      "model_module": "@jupyter-widgets/base",
      "model_module_version": "1.1.0",
      "model_name": "LayoutModel",
      "state": {}
     },
     "233096ddf7c74abda36e378caceae71e": {
      "model_module": "@jupyter-widgets/controls",
      "model_module_version": "1.4.0",
      "model_name": "ButtonStyleModel",
      "state": {}
     },
     "2359b04812f049e9a22c81145a665eb5": {
      "model_module": "@jupyter-widgets/base",
      "model_module_version": "1.1.0",
      "model_name": "LayoutModel",
      "state": {}
     },
     "238dcdc7360e4406801f0809b57c7fdd": {
      "model_module": "@jupyter-widgets/base",
      "model_module_version": "1.1.0",
      "model_name": "LayoutModel",
      "state": {}
     },
     "23a1049fe87946078567c2855b18c76d": {
      "model_module": "@jupyter-widgets/base",
      "model_module_version": "1.1.0",
      "model_name": "LayoutModel",
      "state": {}
     },
     "243263f976e34123ad99df44f6e0d842": {
      "model_module": "@jupyter-widgets/base",
      "model_module_version": "1.1.0",
      "model_name": "LayoutModel",
      "state": {}
     },
     "245a0a5849dc40ffb3f7232dcd151679": {
      "model_module": "@jupyter-widgets/base",
      "model_module_version": "1.1.0",
      "model_name": "LayoutModel",
      "state": {}
     },
     "24b94086d1e9424e94acf8ddc4a4a26d": {
      "model_module": "@jupyter-widgets/base",
      "model_module_version": "1.1.0",
      "model_name": "LayoutModel",
      "state": {}
     },
     "24bfd418264f4feb9012fcb5fb033c98": {
      "model_module": "@jupyter-widgets/controls",
      "model_module_version": "1.4.0",
      "model_name": "CheckboxModel",
      "state": {
       "description": "Live plot in Jupyter: ",
       "disabled": true,
       "layout": "IPY_MODEL_5bb91f4b85b84aef909588f1d8b33c8e",
       "style": "IPY_MODEL_cbb118c1ea454e9ea297a2184d01b82a",
       "value": false
      }
     },
     "253540e70b944bdc9746eebce358e10d": {
      "model_module": "@jupyter-widgets/output",
      "model_module_version": "1.0.0",
      "model_name": "OutputModel",
      "state": {
       "layout": "IPY_MODEL_10b181a0c1bb44cda764b4f52455ab6a"
      }
     },
     "2557b824d4054f02b8a4c9ef7bd3b3e6": {
      "model_module": "@jupyter-widgets/controls",
      "model_module_version": "1.4.0",
      "model_name": "ButtonStyleModel",
      "state": {}
     },
     "25f148c71e42401a99fe474525218812": {
      "model_module": "@jupyter-widgets/base",
      "model_module_version": "1.1.0",
      "model_name": "LayoutModel",
      "state": {}
     },
     "26c75cbfdb1d4836bee4535badb65d88": {
      "model_module": "@jupyter-widgets/controls",
      "model_module_version": "1.4.0",
      "model_name": "VBoxModel",
      "state": {
       "children": [
        "IPY_MODEL_3383478854014012bd70a28dfd2e4b39"
       ],
       "layout": "IPY_MODEL_515fda7c72c340028357d9577c94d512"
      }
     },
     "27010cc227a54d3384a6e8861c5e6160": {
      "model_module": "@jupyter-widgets/controls",
      "model_module_version": "1.4.0",
      "model_name": "DescriptionStyleModel",
      "state": {
       "description_width": "initial"
      }
     },
     "2721c76117204976b9340387497d1123": {
      "model_module": "@jupyter-widgets/base",
      "model_module_version": "1.1.0",
      "model_name": "LayoutModel",
      "state": {
       "width": "300px"
      }
     },
     "27b617a41bb74252a1e8b40b97f06186": {
      "model_module": "@jupyter-widgets/controls",
      "model_module_version": "1.4.0",
      "model_name": "ButtonStyleModel",
      "state": {}
     },
     "27c9da3b318949338039990dfcf5be32": {
      "model_module": "@jupyter-widgets/controls",
      "model_module_version": "1.4.0",
      "model_name": "ButtonStyleModel",
      "state": {}
     },
     "27e467fb10d640689f1f0a513711251d": {
      "model_module": "@jupyter-widgets/controls",
      "model_module_version": "1.4.0",
      "model_name": "DescriptionStyleModel",
      "state": {
       "description_width": ""
      }
     },
     "283390c9728642c892861ad95a853a3d": {
      "model_module": "@jupyter-widgets/controls",
      "model_module_version": "1.4.0",
      "model_name": "DescriptionStyleModel",
      "state": {
       "description_width": ""
      }
     },
     "28aea0b5c0684972bebacca8fb4e7480": {
      "model_module": "@jupyter-widgets/base",
      "model_module_version": "1.1.0",
      "model_name": "LayoutModel",
      "state": {}
     },
     "28af57933aff4d93b02d68576b9696de": {
      "model_module": "@jupyter-widgets/controls",
      "model_module_version": "1.4.0",
      "model_name": "CheckboxModel",
      "state": {
       "description": "Plot with PyQtGraph after scan ends: ",
       "disabled": false,
       "layout": "IPY_MODEL_1511ed842dcf441d8c7114484874d4a6",
       "style": "IPY_MODEL_baa9253029964099bd974aaeb4f57008",
       "value": true
      }
     },
     "293cd13093054e959517be31071eda5d": {
      "model_module": "@jupyter-widgets/base",
      "model_module_version": "1.1.0",
      "model_name": "LayoutModel",
      "state": {}
     },
     "2950d5231a0946ab9c8ba9fad6fe6dad": {
      "model_module": "@jupyter-widgets/base",
      "model_module_version": "1.1.0",
      "model_name": "LayoutModel",
      "state": {}
     },
     "295280207c714b35abc583c154a6409c": {
      "model_module": "@jupyter-widgets/base",
      "model_module_version": "1.1.0",
      "model_name": "LayoutModel",
      "state": {}
     },
     "29e131335df0420bb694280c4b4077e5": {
      "model_module": "@jupyter-widgets/controls",
      "model_module_version": "1.4.0",
      "model_name": "ButtonModel",
      "state": {
       "button_style": "warning",
       "description": "Export Notebook to Latex",
       "layout": "IPY_MODEL_7ffa54139e6042df81a1df06f20d5bb9",
       "style": "IPY_MODEL_05d9d947dae24881b0f46e3ca77494c4",
       "tooltip": "Click me"
      }
     },
     "2a382e6a9f28489e9b7c045811e0d5bf": {
      "model_module": "@jupyter-widgets/output",
      "model_module_version": "1.0.0",
      "model_name": "OutputModel",
      "state": {
       "layout": "IPY_MODEL_0f910c7c3d984ab5a3dadac596556c90"
      }
     },
     "2a935d865a264135a90f3cec4638a31f": {
      "model_module": "@jupyter-widgets/controls",
      "model_module_version": "1.4.0",
      "model_name": "TextareaModel",
      "state": {
       "layout": "IPY_MODEL_590d087dc10547cbbe877820d5c13152",
       "placeholder": "Example: IOC:m1 IOC:m3 LNLS:TEST:motor_g3",
       "style": "IPY_MODEL_e1b67609c82d4e709f700c245a5b9a24"
      }
     },
     "2ac5fc540bbf4720857d5872803c458d": {
      "model_module": "@jupyter-widgets/controls",
      "model_module_version": "1.4.0",
      "model_name": "ButtonStyleModel",
      "state": {}
     },
     "2b1ba76753714ddc93ff6783daca452a": {
      "model_module": "@jupyter-widgets/controls",
      "model_module_version": "1.4.0",
      "model_name": "CheckboxModel",
      "state": {
       "description": "Live plot in Jupyter: ",
       "disabled": true,
       "layout": "IPY_MODEL_ea5778fd7b5249ca952c9ed7046a518e",
       "style": "IPY_MODEL_e091b61aa72b499d832d3a217eb9b111",
       "value": false
      }
     },
     "2b6aebb3106346f18eeb7cd834c73e2c": {
      "model_module": "@jupyter-widgets/controls",
      "model_module_version": "1.4.0",
      "model_name": "DescriptionStyleModel",
      "state": {
       "description_width": ""
      }
     },
     "2bdc175f137246c381bf457a23ca0bcb": {
      "model_module": "@jupyter-widgets/base",
      "model_module_version": "1.1.0",
      "model_name": "LayoutModel",
      "state": {}
     },
     "2be03a95a80f46a18262730d52ee3599": {
      "model_module": "@jupyter-widgets/base",
      "model_module_version": "1.1.0",
      "model_name": "LayoutModel",
      "state": {}
     },
     "2d03486a2a224bdf8188e27e3eae2f92": {
      "model_module": "@jupyter-widgets/base",
      "model_module_version": "1.1.0",
      "model_name": "LayoutModel",
      "state": {}
     },
     "2d1dd14bdcff46399aa7e5a1b8cc92be": {
      "model_module": "@jupyter-widgets/base",
      "model_module_version": "1.1.0",
      "model_name": "LayoutModel",
      "state": {}
     },
     "2d31a421b3524820bfe9f4cfc4ab857d": {
      "model_module": "@jupyter-widgets/controls",
      "model_module_version": "1.4.0",
      "model_name": "ButtonStyleModel",
      "state": {}
     },
     "2d448a1df17a450992a896032f267676": {
      "model_module": "@jupyter-widgets/base",
      "model_module_version": "1.1.0",
      "model_name": "LayoutModel",
      "state": {
       "width": "300px"
      }
     },
     "2e3e99af871842de84d8773373c8b034": {
      "model_module": "@jupyter-widgets/base",
      "model_module_version": "1.1.0",
      "model_name": "LayoutModel",
      "state": {
       "width": "300px"
      }
     },
     "2e42e7da6fce457c8ae23f75745621c3": {
      "model_module": "@jupyter-widgets/controls",
      "model_module_version": "1.4.0",
      "model_name": "CheckboxModel",
      "state": {
       "description": "Plot with Plotly after scan ends: ",
       "disabled": true,
       "layout": "IPY_MODEL_45c3fbb07ee04f52b9a2e53c551b0182",
       "style": "IPY_MODEL_58112f1a44aa420f88990b57f9378a33",
       "value": false
      }
     },
     "2ea1247e5e06436ea6f86e1e24e34c4f": {
      "model_module": "@jupyter-widgets/controls",
      "model_module_version": "1.4.0",
      "model_name": "DescriptionStyleModel",
      "state": {
       "description_width": ""
      }
     },
     "2f12bc50a79549049b17b0afea2b6859": {
      "buffers": [
       {
        "data": "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",
        "encoding": "base64",
        "path": [
         "value"
        ]
       }
      ],
      "model_module": "@jupyter-widgets/controls",
      "model_module_version": "1.4.0",
      "model_name": "ImageModel",
      "state": {
       "height": "35",
       "layout": "IPY_MODEL_666ebe9d30514e658619d496c0002b27",
       "value": {},
       "width": "35"
      }
     },
     "2f577d2a65664291835837ec769767cb": {
      "model_module": "@jupyter-widgets/base",
      "model_module_version": "1.1.0",
      "model_name": "LayoutModel",
      "state": {}
     },
     "2f82e47ec71b43019883d7db5cb65827": {
      "model_module": "@jupyter-widgets/controls",
      "model_module_version": "1.4.0",
      "model_name": "DescriptionStyleModel",
      "state": {
       "description_width": ""
      }
     },
     "2f91de0a34ee47b396deb3df8d5c5a4a": {
      "model_module": "@jupyter-widgets/base",
      "model_module_version": "1.1.0",
      "model_name": "LayoutModel",
      "state": {}
     },
     "300130c7f42b4ae280f7ab5946edd5ed": {
      "model_module": "@jupyter-widgets/base",
      "model_module_version": "1.1.0",
      "model_name": "LayoutModel",
      "state": {}
     },
     "302d4fde035e4c228946fcbd692d466d": {
      "model_module": "@jupyter-widgets/base",
      "model_module_version": "1.1.0",
      "model_name": "LayoutModel",
      "state": {}
     },
     "306a5401c324497f845592f78c84178d": {
      "model_module": "@jupyter-widgets/base",
      "model_module_version": "1.1.0",
      "model_name": "LayoutModel",
      "state": {}
     },
     "309449286595467aa6da2badd1396896": {
      "model_module": "@jupyter-widgets/controls",
      "model_module_version": "1.4.0",
      "model_name": "VBoxModel",
      "state": {
       "children": [
        "IPY_MODEL_60aafaea3e004c81bd595fdd76c218d6",
        "IPY_MODEL_56ff182bb67c457abc6bfbf2a755687b"
       ],
       "layout": "IPY_MODEL_9bc04e0c4be04f388e798acfb349879a"
      }
     },
     "30c429f1a7b64c2e83e82bb57e053f51": {
      "model_module": "@jupyter-widgets/base",
      "model_module_version": "1.1.0",
      "model_name": "LayoutModel",
      "state": {
       "width": "300px"
      }
     },
     "30d7b573616940839409b74bcef72558": {
      "model_module": "@jupyter-widgets/controls",
      "model_module_version": "1.4.0",
      "model_name": "ButtonStyleModel",
      "state": {}
     },
     "30f9232e3ab44da8a828d5e25fd55941": {
      "model_module": "@jupyter-widgets/controls",
      "model_module_version": "1.4.0",
      "model_name": "TextareaModel",
      "state": {
       "layout": "IPY_MODEL_7b7f93322db043748a1a85abb7c390d1",
       "placeholder": "Example: IOC:m1.DMOV IOC:m3.RBV LNLS:ANEL:corrente.VAL",
       "style": "IPY_MODEL_bbf030eeb7c5467198312a0012eae107"
      }
     },
     "311caf0bdedb42e3bb426afea6b2d790": {
      "model_module": "@jupyter-widgets/controls",
      "model_module_version": "1.4.0",
      "model_name": "ButtonModel",
      "state": {
       "button_style": "success",
       "description": "Start Scaler GUI",
       "layout": "IPY_MODEL_6f64cfcd7dd045bab996fe8c93cc3887",
       "style": "IPY_MODEL_19dc8826a9f84d6680c493ae107a8fdf",
       "tooltip": "Click me"
      }
     },
     "316bddd7a8cf47d58e209c97a3c92288": {
      "model_module": "@jupyter-widgets/controls",
      "model_module_version": "1.4.0",
      "model_name": "ButtonStyleModel",
      "state": {}
     },
     "316f983260f44bca959fc5d7259664a0": {
      "model_module": "@jupyter-widgets/base",
      "model_module_version": "1.1.0",
      "model_name": "LayoutModel",
      "state": {}
     },
     "31be4226feb64f1a8617b2544621adc8": {
      "model_module": "@jupyter-widgets/controls",
      "model_module_version": "1.4.0",
      "model_name": "DescriptionStyleModel",
      "state": {
       "description_width": "initial"
      }
     },
     "32436c26e4ca47bdb0ac8bfaf04cac2f": {
      "model_module": "@jupyter-widgets/base",
      "model_module_version": "1.1.0",
      "model_name": "LayoutModel",
      "state": {}
     },
     "3257d7b851d24c448d86ec507a316656": {
      "model_module": "@jupyter-widgets/base",
      "model_module_version": "1.1.0",
      "model_name": "LayoutModel",
      "state": {}
     },
     "32cf175048074e2780d5fffc842e1cf0": {
      "model_module": "@jupyter-widgets/controls",
      "model_module_version": "1.4.0",
      "model_name": "DescriptionStyleModel",
      "state": {
       "description_width": "initial"
      }
     },
     "32cf8192a0db4efdbadd87b42b253e54": {
      "model_module": "@jupyter-widgets/controls",
      "model_module_version": "1.4.0",
      "model_name": "LabelModel",
      "state": {
       "layout": "IPY_MODEL_1d099779e7634a20ac81f6f7ef24d6f0",
       "style": "IPY_MODEL_bf20bf67cd39402d96ba48d0fa231d8d",
       "value": "No motors initilized to be showed."
      }
     },
     "3316815337544acfaad6499f62941faa": {
      "model_module": "@jupyter-widgets/base",
      "model_module_version": "1.1.0",
      "model_name": "LayoutModel",
      "state": {}
     },
     "33177091ae5a487598c5b7c978e3d97e": {
      "model_module": "@jupyter-widgets/controls",
      "model_module_version": "1.4.0",
      "model_name": "ButtonStyleModel",
      "state": {}
     },
     "3338f8ca29a740bbb9079aad13dc40f3": {
      "model_module": "@jupyter-widgets/base",
      "model_module_version": "1.1.0",
      "model_name": "LayoutModel",
      "state": {
       "width": "300px"
      }
     },
     "335845ed5d5f47cab3a61196209a63ac": {
      "model_module": "@jupyter-widgets/controls",
      "model_module_version": "1.4.0",
      "model_name": "DescriptionStyleModel",
      "state": {
       "description_width": ""
      }
     },
     "3383478854014012bd70a28dfd2e4b39": {
      "model_module": "@jupyter-widgets/controls",
      "model_module_version": "1.4.0",
      "model_name": "ButtonModel",
      "state": {
       "button_style": "danger",
       "description": "Stop Scanning Plot",
       "layout": "IPY_MODEL_6b429e2e411a458ca99dc883729b8d55",
       "style": "IPY_MODEL_b2e21838142344b69782033bfa3c39f1",
       "tooltip": "Click me"
      }
     },
     "33891d11cf5d4a519cabbacb6d509c14": {
      "model_module": "@jupyter-widgets/base",
      "model_module_version": "1.1.0",
      "model_name": "LayoutModel",
      "state": {}
     },
     "339b8dd8b6964610b84a1431d1219214": {
      "model_module": "@jupyter-widgets/controls",
      "model_module_version": "1.4.0",
      "model_name": "CheckboxModel",
      "state": {
       "description": "Plot with PyQtGraph after scan ends: ",
       "disabled": false,
       "layout": "IPY_MODEL_ed93e024fc134dda852f107a6e738bee",
       "style": "IPY_MODEL_3441a977d474412aa6bc00fd653110ad",
       "value": true
      }
     },
     "33c441fc7e96433bbfcb54362f7e1ab8": {
      "model_module": "@jupyter-widgets/controls",
      "model_module_version": "1.4.0",
      "model_name": "ButtonModel",
      "state": {
       "button_style": "success",
       "description": "Start Manual Alignment",
       "layout": "IPY_MODEL_9c94ebb9a88d45018d65c37979bcd955",
       "style": "IPY_MODEL_7cfd024af8824057afb1002b1c90d75c",
       "tooltip": "Click me"
      }
     },
     "33f7e81ecea4444eb13611b8fd9f6a5c": {
      "model_module": "@jupyter-widgets/base",
      "model_module_version": "1.1.0",
      "model_name": "LayoutModel",
      "state": {}
     },
     "34134cc7a6b542099d675d0f58dc8544": {
      "model_module": "@jupyter-widgets/base",
      "model_module_version": "1.1.0",
      "model_name": "LayoutModel",
      "state": {
       "height": "40px",
       "width": "40px"
      }
     },
     "3438c3c971844917b049483182460fa6": {
      "model_module": "@jupyter-widgets/base",
      "model_module_version": "1.1.0",
      "model_name": "LayoutModel",
      "state": {}
     },
     "3439f3d8176a45308eae99396254d03d": {
      "model_module": "plotlywidget",
      "model_module_version": "0.8.0",
      "model_name": "FigureModel",
      "state": {
       "_config": {
        "plotlyServerURL": "https://plot.ly"
       },
       "_js2py_layoutDelta": {},
       "_js2py_pointsCallback": {},
       "_js2py_relayout": {},
       "_js2py_restyle": {},
       "_js2py_traceDeltas": {},
       "_js2py_update": {},
       "_layout": {
        "template": {}
       },
       "_model_module_version": "0.8.0",
       "_py2js_addTraces": {},
       "_py2js_animate": {},
       "_py2js_deleteTraces": {},
       "_py2js_moveTraces": {},
       "_py2js_removeLayoutProps": {},
       "_py2js_removeTraceProps": {},
       "_py2js_restyle": {},
       "_py2js_update": {},
       "_view_count": 0,
       "_view_module_version": "0.8.0"
      }
     },
     "3441a977d474412aa6bc00fd653110ad": {
      "model_module": "@jupyter-widgets/controls",
      "model_module_version": "1.4.0",
      "model_name": "DescriptionStyleModel",
      "state": {
       "description_width": "initial"
      }
     },
     "345217355505438b875b277c3e844716": {
      "model_module": "@jupyter-widgets/base",
      "model_module_version": "1.1.0",
      "model_name": "LayoutModel",
      "state": {}
     },
     "3480fa35728d4b6ba8fe0402b52c1fc5": {
      "model_module": "@jupyter-widgets/controls",
      "model_module_version": "1.4.0",
      "model_name": "CheckboxModel",
      "state": {
       "description": "Print log in Notebook's cells",
       "disabled": false,
       "layout": "IPY_MODEL_478cc5a39eaa4030ba25cb6c97cf1e08",
       "style": "IPY_MODEL_3577ee05a2554b9ca8e97cd04d96b511",
       "value": true
      }
     },
     "34e82f859b09432c9b311d1e4a640449": {
      "model_module": "@jupyter-widgets/base",
      "model_module_version": "1.1.0",
      "model_name": "LayoutModel",
      "state": {
       "width": "300px"
      }
     },
     "354f36747bfe46b0a2043f9f7e22ee2b": {
      "model_module": "@jupyter-widgets/controls",
      "model_module_version": "1.4.0",
      "model_name": "VBoxModel",
      "state": {
       "children": [
        "IPY_MODEL_c93158bc71804b0bac8a966950ac1c60",
        "IPY_MODEL_7e957def1a35443fa97dbb152f6f6ddb"
       ],
       "layout": "IPY_MODEL_32436c26e4ca47bdb0ac8bfaf04cac2f"
      }
     },
     "3577ee05a2554b9ca8e97cd04d96b511": {
      "model_module": "@jupyter-widgets/controls",
      "model_module_version": "1.4.0",
      "model_name": "DescriptionStyleModel",
      "state": {
       "description_width": "initial"
      }
     },
     "35ab54149e7b4651b4879e6442d680b7": {
      "model_module": "@jupyter-widgets/base",
      "model_module_version": "1.1.0",
      "model_name": "LayoutModel",
      "state": {}
     },
     "35c1d3c7446f4f11b587612f7e5fad9f": {
      "model_module": "@jupyter-widgets/controls",
      "model_module_version": "1.4.0",
      "model_name": "LabelModel",
      "state": {
       "layout": "IPY_MODEL_19b94e66bc6c4ab68761111713e50be6",
       "style": "IPY_MODEL_d7f3cd00431749ee9600f597feee0084",
       "value": "Notebook's name: "
      }
     },
     "35d8d40a4f7a42b39daa2e2ab6bc52ea": {
      "model_module": "@jupyter-widgets/base",
      "model_module_version": "1.1.0",
      "model_name": "LayoutModel",
      "state": {}
     },
     "36c53403fbb04be3b363d3eb3ac4d532": {
      "model_module": "@jupyter-widgets/controls",
      "model_module_version": "1.4.0",
      "model_name": "CheckboxModel",
      "state": {
       "description": "Plot with PyQtGraph after scan ends: ",
       "disabled": false,
       "layout": "IPY_MODEL_17bcf9cc330c48109229b21916a4a9da",
       "style": "IPY_MODEL_7290b8c15e3545f9a612f8e3aacbb509",
       "value": true
      }
     },
     "373612b69e1a484da0d83d920fedcd86": {
      "model_module": "@jupyter-widgets/base",
      "model_module_version": "1.1.0",
      "model_name": "LayoutModel",
      "state": {}
     },
     "374ef0a33e834c67a5edbfff2e8c4d6f": {
      "model_module": "@jupyter-widgets/controls",
      "model_module_version": "1.4.0",
      "model_name": "ButtonModel",
      "state": {
       "button_style": "success",
       "description": "Start Motor Initializaton",
       "layout": "IPY_MODEL_9717566c41d242cb9df97f57c0038012",
       "style": "IPY_MODEL_9f31c152765e44bb838cb02a0e5c3bd8",
       "tooltip": "Click me"
      }
     },
     "37583fb149bf4077a11766a02b2bb9fd": {
      "model_module": "@jupyter-widgets/base",
      "model_module_version": "1.1.0",
      "model_name": "LayoutModel",
      "state": {
       "width": "300px"
      }
     },
     "3764a22ccfde4750aba992a4a3eb3a6f": {
      "model_module": "@jupyter-widgets/controls",
      "model_module_version": "1.4.0",
      "model_name": "ButtonModel",
      "state": {
       "button_style": "success",
       "description": "Start PV Monitoring",
       "layout": "IPY_MODEL_6cbac2c1de5c41c9a15166d345ba2ae3",
       "style": "IPY_MODEL_3aeb04c84fb64b3eb840299bb67c8647",
       "tooltip": "Click me"
      }
     },
     "376ebd7bef524a72a2ba4551450b8d24": {
      "model_module": "@jupyter-widgets/controls",
      "model_module_version": "1.4.0",
      "model_name": "TextareaModel",
      "state": {
       "layout": "IPY_MODEL_89804909cf6d40549c43000487aeb9e6",
       "placeholder": "Example: IOC:m1 IOC:m3 LNLS:TEST:motor_g3",
       "style": "IPY_MODEL_1ecf4ad83ee0492ea9952d7295f9a751"
      }
     },
     "37a36ec8548b4cdea110f38cc0f084c6": {
      "model_module": "@jupyter-widgets/controls",
      "model_module_version": "1.4.0",
      "model_name": "LabelModel",
      "state": {
       "layout": "IPY_MODEL_d3935376d7a249f68c9ab9e54bb26b83",
       "style": "IPY_MODEL_8ff4e56028454020845ff1268607684c",
       "value": "Notebook's name: "
      }
     },
     "37c63cfdbf7547859b3b1a9e9c8e7b5e": {
      "model_module": "@jupyter-widgets/controls",
      "model_module_version": "1.4.0",
      "model_name": "HBoxModel",
      "state": {
       "children": [
        "IPY_MODEL_c5018922b2604222a0329daa91d783f7",
        "IPY_MODEL_6187d0996417440c841e322ce571f48e"
       ],
       "layout": "IPY_MODEL_5ed3b762c7d846ddbf54556d5996adb6"
      }
     },
     "3820d2c8157e45648e989ca29272f568": {
      "model_module": "@jupyter-widgets/base",
      "model_module_version": "1.1.0",
      "model_name": "LayoutModel",
      "state": {
       "width": "300px"
      }
     },
     "389b30453a79425e949735445d10cb40": {
      "model_module": "@jupyter-widgets/controls",
      "model_module_version": "1.4.0",
      "model_name": "ButtonModel",
      "state": {
       "button_style": "warning",
       "description": "Export Notebook to HTML",
       "layout": "IPY_MODEL_5052044e31fa49d2b61d16a29a5a86ab",
       "style": "IPY_MODEL_91f8d738627a4474a062b9352dc8c946",
       "tooltip": "Click me"
      }
     },
     "38a23cb5d61f4171948a205d28e96281": {
      "model_module": "@jupyter-widgets/base",
      "model_module_version": "1.1.0",
      "model_name": "LayoutModel",
      "state": {}
     },
     "38ade511fd804da9ba2c4d97e6fd8d56": {
      "model_module": "@jupyter-widgets/controls",
      "model_module_version": "1.4.0",
      "model_name": "VBoxModel",
      "state": {
       "children": [
        "IPY_MODEL_86dde96ad9304fbb8b236063d00dc5b9"
       ],
       "layout": "IPY_MODEL_1699cd9bceb944929515f2ba5c3fb8dd"
      }
     },
     "38f27ec245ec4f7e97cfa95151cee9df": {
      "model_module": "@jupyter-widgets/base",
      "model_module_version": "1.1.0",
      "model_name": "LayoutModel",
      "state": {
       "width": "300px"
      }
     },
     "399deb4616654afda4cb411219f8ba5c": {
      "model_module": "@jupyter-widgets/controls",
      "model_module_version": "1.4.0",
      "model_name": "DescriptionStyleModel",
      "state": {
       "description_width": ""
      }
     },
     "399f13048cdb42c18b9dd4ac6ae1c709": {
      "model_module": "@jupyter-widgets/base",
      "model_module_version": "1.1.0",
      "model_name": "LayoutModel",
      "state": {
       "height": "40px",
       "width": "40px"
      }
     },
     "3a4d90321f154783a36f0b4d0e4d45e3": {
      "model_module": "@jupyter-widgets/output",
      "model_module_version": "1.0.0",
      "model_name": "OutputModel",
      "state": {
       "layout": "IPY_MODEL_d4be581eefba4456bcaa09bd9fbecf3c"
      }
     },
     "3aa367d0402a44b697231cd5bc503c41": {
      "model_module": "@jupyter-widgets/output",
      "model_module_version": "1.0.0",
      "model_name": "OutputModel",
      "state": {
       "layout": "IPY_MODEL_7ce39c2cd67d4d0789643bcce67aa628"
      }
     },
     "3aa8fec34c0544a6b9b87e5542dbf487": {
      "model_module": "@jupyter-widgets/controls",
      "model_module_version": "1.4.0",
      "model_name": "ButtonModel",
      "state": {
       "button_style": "success",
       "description": "Start PV Monitoring",
       "layout": "IPY_MODEL_5ceaa9d4f1f44313947c1be10b76fb56",
       "style": "IPY_MODEL_30d7b573616940839409b74bcef72558",
       "tooltip": "Click me"
      }
     },
     "3ad01882990c490e9276d7c658e286a4": {
      "model_module": "@jupyter-widgets/base",
      "model_module_version": "1.1.0",
      "model_name": "LayoutModel",
      "state": {}
     },
     "3aeb04c84fb64b3eb840299bb67c8647": {
      "model_module": "@jupyter-widgets/controls",
      "model_module_version": "1.4.0",
      "model_name": "ButtonStyleModel",
      "state": {}
     },
     "3b7d1f3f3a574548a987b31c74d5b46a": {
      "model_module": "@jupyter-widgets/controls",
      "model_module_version": "1.4.0",
      "model_name": "TextModel",
      "state": {
       "layout": "IPY_MODEL_70fe85b3869340adb5fef855cc4035bc",
       "placeholder": "Type the notebook's name without file format",
       "style": "IPY_MODEL_82ef85f5b99b4824beb2c42c2057b063"
      }
     },
     "3c22bb4fcb574948882c2bfa0f81a9d5": {
      "model_module": "@jupyter-widgets/base",
      "model_module_version": "1.1.0",
      "model_name": "LayoutModel",
      "state": {}
     },
     "3c6e8c49e6e94a6c867189fc5ef03038": {
      "model_module": "@jupyter-widgets/controls",
      "model_module_version": "1.4.0",
      "model_name": "ButtonStyleModel",
      "state": {}
     },
     "3c76e066ed5c4fc39dc14f68ad971cd0": {
      "model_module": "@jupyter-widgets/base",
      "model_module_version": "1.1.0",
      "model_name": "LayoutModel",
      "state": {}
     },
     "3d30f549f4ea4e339133831c0cdc5e2f": {
      "model_module": "@jupyter-widgets/controls",
      "model_module_version": "1.4.0",
      "model_name": "ButtonStyleModel",
      "state": {}
     },
     "3d32f44b46f0426597e5384e0a31cb0c": {
      "model_module": "@jupyter-widgets/controls",
      "model_module_version": "1.4.0",
      "model_name": "TextModel",
      "state": {
       "layout": "IPY_MODEL_92495e751fdc479c9a0925244eadfa94",
       "placeholder": "Type the notebook's name without file format",
       "style": "IPY_MODEL_b1b374e36e994668aa679c37cbb22c53",
       "value": "work-notebook"
      }
     },
     "3dbb4641ae774c4d9dc2bae503c2bb6b": {
      "model_module": "@jupyter-widgets/base",
      "model_module_version": "1.1.0",
      "model_name": "LayoutModel",
      "state": {}
     },
     "3dbf1edb59b1487fac8eb9d8fd874808": {
      "model_module": "@jupyter-widgets/controls",
      "model_module_version": "1.4.0",
      "model_name": "DescriptionStyleModel",
      "state": {
       "description_width": ""
      }
     },
     "3dcbed4e25c24e7b8dee036a7165df4a": {
      "model_module": "@jupyter-widgets/controls",
      "model_module_version": "1.4.0",
      "model_name": "DescriptionStyleModel",
      "state": {
       "description_width": "initial"
      }
     },
     "3de088d6409a40848eb89547ddb4b059": {
      "model_module": "@jupyter-widgets/base",
      "model_module_version": "1.1.0",
      "model_name": "LayoutModel",
      "state": {}
     },
     "3e59c3e8c7104a93965dd077d68c1c2a": {
      "model_module": "@jupyter-widgets/controls",
      "model_module_version": "1.4.0",
      "model_name": "HBoxModel",
      "state": {
       "children": [
        "IPY_MODEL_9aa10dfbb3364d48a090bb927e207378",
        "IPY_MODEL_99a59892f5d1496a9ffe00e3ebef3600"
       ],
       "layout": "IPY_MODEL_d747869d929c4026bc6c919b0e73dc38"
      }
     },
     "3e885d7a95e94af89430ffaf90de50fd": {
      "model_module": "@jupyter-widgets/controls",
      "model_module_version": "1.4.0",
      "model_name": "VBoxModel",
      "state": {
       "children": [
        "IPY_MODEL_769f630151d64e34bc9d50b566ff2441"
       ],
       "layout": "IPY_MODEL_d43fd629f1b44fe2ad69d2d62e95b1d1"
      }
     },
     "3e8dbcd5e62649e9ae0408688bc65790": {
      "model_module": "@jupyter-widgets/base",
      "model_module_version": "1.1.0",
      "model_name": "LayoutModel",
      "state": {
       "width": "300px"
      }
     },
     "3ecdf2b653d34e4b80970862d51b5400": {
      "model_module": "@jupyter-widgets/output",
      "model_module_version": "1.0.0",
      "model_name": "OutputModel",
      "state": {
       "layout": "IPY_MODEL_e89bbe51b6664b61897100077a6c28c1"
      }
     },
     "3ede45d5f7be42e0bb749ba359fa288c": {
      "model_module": "@jupyter-widgets/controls",
      "model_module_version": "1.4.0",
      "model_name": "VBoxModel",
      "state": {
       "children": [
        "IPY_MODEL_5e9ce4a3bf334cc0991552c65eba881f"
       ],
       "layout": "IPY_MODEL_22dc15de4ade4fc1bbc89dbe166daeb6"
      }
     },
     "3f9d5054ae2244c5a77930b7f8d43cd3": {
      "model_module": "@jupyter-widgets/base",
      "model_module_version": "1.1.0",
      "model_name": "LayoutModel",
      "state": {}
     },
     "3ff3e700f1054baea8724720f0aa09b1": {
      "model_module": "@jupyter-widgets/base",
      "model_module_version": "1.1.0",
      "model_name": "LayoutModel",
      "state": {
       "height": "40px",
       "width": "40px"
      }
     },
     "3ff4a929472349359ec8096f5c3acd81": {
      "model_module": "@jupyter-widgets/controls",
      "model_module_version": "1.4.0",
      "model_name": "ButtonStyleModel",
      "state": {}
     },
     "407f817f129b4c5ca61baa6b4ae0f252": {
      "model_module": "@jupyter-widgets/controls",
      "model_module_version": "1.4.0",
      "model_name": "DescriptionStyleModel",
      "state": {
       "description_width": ""
      }
     },
     "41f9add213d942a3876a1e7d52fc0597": {
      "model_module": "@jupyter-widgets/controls",
      "model_module_version": "1.4.0",
      "model_name": "DescriptionStyleModel",
      "state": {
       "description_width": "initial"
      }
     },
     "42d53265afe946d8bfd03f089136da89": {
      "model_module": "@jupyter-widgets/base",
      "model_module_version": "1.1.0",
      "model_name": "LayoutModel",
      "state": {
       "width": "300px"
      }
     },
     "4386ef171712498c903d899449c80148": {
      "model_module": "@jupyter-widgets/controls",
      "model_module_version": "1.4.0",
      "model_name": "LabelModel",
      "state": {
       "layout": "IPY_MODEL_4e7714b80daa4717a44a9a5423432c64",
       "style": "IPY_MODEL_2b6aebb3106346f18eeb7cd834c73e2c",
       "value": "Notebook's name: "
      }
     },
     "43b5d04e80994629abb2c9eeeaa36f8d": {
      "model_module": "@jupyter-widgets/controls",
      "model_module_version": "1.4.0",
      "model_name": "ButtonModel",
      "state": {
       "button_style": "warning",
       "description": "Export Notebook to Latex",
       "layout": "IPY_MODEL_a93544c9b16145fe91b56287b80305d8",
       "style": "IPY_MODEL_ee7e84142adb46338169d877a99c3206",
       "tooltip": "Click me"
      }
     },
     "43c66c558a5d41079126f9660ea3013f": {
      "model_module": "@jupyter-widgets/base",
      "model_module_version": "1.1.0",
      "model_name": "LayoutModel",
      "state": {}
     },
     "43cb3a4bbdc94aec83e02e60f9ca3caa": {
      "model_module": "@jupyter-widgets/base",
      "model_module_version": "1.1.0",
      "model_name": "LayoutModel",
      "state": {}
     },
     "4461183089064663a80803576f7477c3": {
      "model_module": "@jupyter-widgets/base",
      "model_module_version": "1.1.0",
      "model_name": "LayoutModel",
      "state": {}
     },
     "4467d7f9d51140c5a78c1d902492f78e": {
      "model_module": "@jupyter-widgets/output",
      "model_module_version": "1.0.0",
      "model_name": "OutputModel",
      "state": {
       "layout": "IPY_MODEL_560630a896904883bdd1b46a0015eca0"
      }
     },
     "4565d9598fef4e178362efc692f985de": {
      "model_module": "@jupyter-widgets/base",
      "model_module_version": "1.1.0",
      "model_name": "LayoutModel",
      "state": {
       "width": "300px"
      }
     },
     "457520859e304253a2bf83b4424a69f2": {
      "model_module": "@jupyter-widgets/base",
      "model_module_version": "1.1.0",
      "model_name": "LayoutModel",
      "state": {}
     },
     "45c3fbb07ee04f52b9a2e53c551b0182": {
      "model_module": "@jupyter-widgets/base",
      "model_module_version": "1.1.0",
      "model_name": "LayoutModel",
      "state": {}
     },
     "464fae507c164647905d7a6f0ed08602": {
      "model_module": "@jupyter-widgets/controls",
      "model_module_version": "1.4.0",
      "model_name": "DescriptionStyleModel",
      "state": {
       "description_width": "initial"
      }
     },
     "46755f2e0ded47349a41916b781fa170": {
      "model_module": "@jupyter-widgets/output",
      "model_module_version": "1.0.0",
      "model_name": "OutputModel",
      "state": {
       "layout": "IPY_MODEL_873e8101691e4c1b93f130e0ba5347e4"
      }
     },
     "4787b0e783ec4f6a9d3ee871d6120b1a": {
      "model_module": "@jupyter-widgets/controls",
      "model_module_version": "1.4.0",
      "model_name": "DescriptionStyleModel",
      "state": {
       "description_width": ""
      }
     },
     "478adf314a5e452f9ea8b62e2550f6e4": {
      "model_module": "@jupyter-widgets/controls",
      "model_module_version": "1.4.0",
      "model_name": "ButtonModel",
      "state": {
       "button_style": "success",
       "description": "Start Motor Initializaton",
       "layout": "IPY_MODEL_1a6fc990c8e64ba083cfdbcab1332557",
       "style": "IPY_MODEL_2d31a421b3524820bfe9f4cfc4ab857d",
       "tooltip": "Click me"
      }
     },
     "478cc5a39eaa4030ba25cb6c97cf1e08": {
      "model_module": "@jupyter-widgets/base",
      "model_module_version": "1.1.0",
      "model_name": "LayoutModel",
      "state": {}
     },
     "478fca1102444310b37f4415b04d6276": {
      "model_module": "@jupyter-widgets/output",
      "model_module_version": "1.0.0",
      "model_name": "OutputModel",
      "state": {
       "layout": "IPY_MODEL_2950d5231a0946ab9c8ba9fad6fe6dad"
      }
     },
     "4870603b2a2f4ad4924420e0875da80f": {
      "model_module": "@jupyter-widgets/controls",
      "model_module_version": "1.4.0",
      "model_name": "VBoxModel",
      "state": {
       "children": [
        "IPY_MODEL_7cbe5dbdcb6d4d1d8b2ee8b91440f6a2"
       ],
       "layout": "IPY_MODEL_839d91afa48048d8aa730c7fa4db0f74"
      }
     },
     "487ddcac423c4b1aa3d1ce64a7b75443": {
      "model_module": "@jupyter-widgets/base",
      "model_module_version": "1.1.0",
      "model_name": "LayoutModel",
      "state": {
       "width": "300px"
      }
     },
     "48d67204d688414b9e6c5e27c9152a90": {
      "model_module": "@jupyter-widgets/controls",
      "model_module_version": "1.4.0",
      "model_name": "LabelModel",
      "state": {
       "layout": "IPY_MODEL_d8654343b1984648955107becfabf146",
       "style": "IPY_MODEL_4787b0e783ec4f6a9d3ee871d6120b1a",
       "value": "No motors initilized to be showed."
      }
     },
     "48e55859c5a0449a91de5a53aca0f228": {
      "model_module": "@jupyter-widgets/controls",
      "model_module_version": "1.4.0",
      "model_name": "DescriptionStyleModel",
      "state": {
       "description_width": "initial"
      }
     },
     "48e72068933442c5990c67fc802cc099": {
      "model_module": "@jupyter-widgets/controls",
      "model_module_version": "1.4.0",
      "model_name": "ButtonStyleModel",
      "state": {}
     },
     "49745e5b81604418bd484768a9ad4bb0": {
      "model_module": "@jupyter-widgets/controls",
      "model_module_version": "1.4.0",
      "model_name": "ButtonStyleModel",
      "state": {}
     },
     "499c80e74cb74c36b7e57fe6c5668627": {
      "model_module": "@jupyter-widgets/controls",
      "model_module_version": "1.4.0",
      "model_name": "BoxModel",
      "state": {
       "children": [
        "IPY_MODEL_690507fc9ad34538b3117291f851fe9e"
       ],
       "layout": "IPY_MODEL_ef79bc3639f746f2b27c95019ab06916"
      }
     },
     "49bbcc5490674434a83640cb800cded5": {
      "buffers": [
       {
        "data": "AAAAAAAAEEAAAAAAAAAgQAAAAAAAAPA/AAAAAAAACEAAAAAAAAAIQA==",
        "encoding": "base64",
        "path": [
         "_data",
         0,
         "y",
         "value"
        ]
       },
       {
        "data": "AAAAAAAAEEAAAAAAAAAgQAAAAAAAAPA/AAAAAAAACEAAAAAAAAAIQA==",
        "encoding": "base64",
        "path": [
         "_data",
         1,
         "y",
         "value"
        ]
       }
      ],
      "model_module": "plotlywidget",
      "model_module_version": "0.8.0",
      "model_name": "FigureModel",
      "state": {
       "_config": {
        "plotlyServerURL": "https://plot.ly"
       },
       "_data": [
        {
         "mode": "lines+markers",
         "name": "line1",
         "type": "scatter",
         "uid": "bdabf2ae-a413-43b3-bba8-698d426f1054",
         "x": [
          0,
          1,
          2,
          3,
          4
         ],
         "xaxis": "x",
         "y": {
          "dtype": "float64",
          "shape": [
           5
          ],
          "value": {}
         },
         "yaxis": "y"
        },
        {
         "mode": "lines+markers",
         "name": "line2",
         "type": "scatter",
         "uid": "ea507eb6-1c90-434d-a69a-c38723a5bf6e",
         "x": [
          0,
          1,
          2,
          3,
          4
         ],
         "xaxis": "x2",
         "y": {
          "dtype": "float64",
          "shape": [
           5
          ],
          "value": {}
         },
         "yaxis": "y2"
        }
       ],
       "_js2py_restyle": {},
       "_js2py_update": {},
       "_last_layout_edit_id": 8,
       "_last_trace_edit_id": 7,
       "_layout": {
        "autosize": true,
        "plot_bgcolor": "rgb(230, 230, 230)",
        "template": {},
        "title": {
         "text": "Scan"
        },
        "xaxis": {
         "anchor": "y",
         "domain": [
          0,
          1
         ]
        },
        "xaxis2": {
         "anchor": "y2",
         "domain": [
          0,
          1
         ]
        },
        "yaxis": {
         "anchor": "x",
         "domain": [
          0.575,
          1
         ]
        },
        "yaxis2": {
         "anchor": "x2",
         "domain": [
          0,
          0.425
         ]
        }
       },
       "_model_module_version": "0.8.0",
       "_py2js_animate": {},
       "_py2js_deleteTraces": {},
       "_py2js_moveTraces": {},
       "_py2js_removeLayoutProps": {},
       "_py2js_removeTraceProps": {},
       "_view_count": 0,
       "_view_module_version": "0.8.0"
      }
     },
     "49c2c31aeafd46d29053c9d6a9067dbb": {
      "model_module": "@jupyter-widgets/controls",
      "model_module_version": "1.4.0",
      "model_name": "VBoxModel",
      "state": {
       "children": [
        "IPY_MODEL_62ca3e162cc9442394512828f32a08dc",
        "IPY_MODEL_01f2580442614e239d7aa35b13c1882f"
       ],
       "layout": "IPY_MODEL_b8d33b55d5254651894d2e76bdb0cb86"
      }
     },
     "4a5e9b1016ba4f45a8b9d5371041369f": {
      "model_module": "@jupyter-widgets/controls",
      "model_module_version": "1.4.0",
      "model_name": "BoxModel",
      "state": {
       "children": [
        "IPY_MODEL_99c4b52f222846a1a1702bc1c9c673c0"
       ],
       "layout": "IPY_MODEL_c4eed2fe6c6a4655a4dbdbb2fd4c76ef"
      }
     },
     "4a6e9fe00a1045809c610d491701d1a3": {
      "model_module": "@jupyter-widgets/base",
      "model_module_version": "1.1.0",
      "model_name": "LayoutModel",
      "state": {
       "height": "40px",
       "width": "40px"
      }
     },
     "4a87e6f14d8b4d4ba47f2ac381426ee5": {
      "model_module": "@jupyter-widgets/base",
      "model_module_version": "1.1.0",
      "model_name": "LayoutModel",
      "state": {
       "width": "300px"
      }
     },
     "4ae179910c7240f0be2f45f1bd8cad05": {
      "model_module": "@jupyter-widgets/controls",
      "model_module_version": "1.4.0",
      "model_name": "CheckboxModel",
      "state": {
       "description": "Plot with Plotly after scan ends: ",
       "disabled": true,
       "layout": "IPY_MODEL_e2c6e41063004134b0f6231288699e34",
       "style": "IPY_MODEL_1728725c8f4846b89006d8f75277ab2a",
       "value": false
      }
     },
     "4b2dfdcbb0444189bb82a3a902c9aa3b": {
      "model_module": "@jupyter-widgets/base",
      "model_module_version": "1.1.0",
      "model_name": "LayoutModel",
      "state": {}
     },
     "4b8bdd6da6804e40a32dd6e2e8c496e2": {
      "model_module": "@jupyter-widgets/base",
      "model_module_version": "1.1.0",
      "model_name": "LayoutModel",
      "state": {
       "width": "300px"
      }
     },
     "4bbe83b580d044638d5db335c6148878": {
      "model_module": "@jupyter-widgets/controls",
      "model_module_version": "1.4.0",
      "model_name": "ButtonModel",
      "state": {
       "button_style": "warning",
       "description": "Export Notebook to HTML",
       "layout": "IPY_MODEL_2e3e99af871842de84d8773373c8b034",
       "style": "IPY_MODEL_f4f97888d7924ffaaf1354579a6d9a5e",
       "tooltip": "Click me"
      }
     },
     "4bde69091e6b443fb74a57ead9da3380": {
      "model_module": "@jupyter-widgets/base",
      "model_module_version": "1.1.0",
      "model_name": "LayoutModel",
      "state": {}
     },
     "4be475c0d3254a228be45cc1c820f5d8": {
      "model_module": "@jupyter-widgets/controls",
      "model_module_version": "1.4.0",
      "model_name": "ButtonStyleModel",
      "state": {}
     },
     "4c24b7f4542045aa8077630ff08a2b9b": {
      "model_module": "@jupyter-widgets/base",
      "model_module_version": "1.1.0",
      "model_name": "LayoutModel",
      "state": {
       "width": "300px"
      }
     },
     "4c698c51e4714ba4855c1668032a91ff": {
      "model_module": "@jupyter-widgets/controls",
      "model_module_version": "1.4.0",
      "model_name": "CheckboxModel",
      "state": {
       "description": "Print log in Notebook's cells",
       "disabled": false,
       "layout": "IPY_MODEL_d8f5a2418c944fe6869a09913abc18cf",
       "style": "IPY_MODEL_82c50d9ef04a40d38791865c67a518d6",
       "value": false
      }
     },
     "4c8c169837f54e4d95d6397001bef802": {
      "model_module": "@jupyter-widgets/base",
      "model_module_version": "1.1.0",
      "model_name": "LayoutModel",
      "state": {}
     },
     "4cafcf7514924308a0e37d939d6a3c39": {
      "model_module": "@jupyter-widgets/base",
      "model_module_version": "1.1.0",
      "model_name": "LayoutModel",
      "state": {
       "height": "40px",
       "width": "40px"
      }
     },
     "4d6fe98f8e0d485b8d20107d83f82fd5": {
      "model_module": "@jupyter-widgets/controls",
      "model_module_version": "1.4.0",
      "model_name": "VBoxModel",
      "state": {
       "children": [
        "IPY_MODEL_b595f79e05514d1b95f87f58ba6c9ca3",
        "IPY_MODEL_5611acab4f4b46f2bdebf7f5d6ace7b6"
       ],
       "layout": "IPY_MODEL_8c4248ecf9a04170a4da90687c063166"
      }
     },
     "4d7f11670f0045f89aa467a5e3c3118a": {
      "model_module": "@jupyter-widgets/base",
      "model_module_version": "1.1.0",
      "model_name": "LayoutModel",
      "state": {}
     },
     "4dbbb825f1dd4dacbcaa186744a3a185": {
      "model_module": "@jupyter-widgets/base",
      "model_module_version": "1.1.0",
      "model_name": "LayoutModel",
      "state": {}
     },
     "4e64d0c5599a4dc48b7be09ad1fcd774": {
      "model_module": "@jupyter-widgets/base",
      "model_module_version": "1.1.0",
      "model_name": "LayoutModel",
      "state": {}
     },
     "4e7714b80daa4717a44a9a5423432c64": {
      "model_module": "@jupyter-widgets/base",
      "model_module_version": "1.1.0",
      "model_name": "LayoutModel",
      "state": {}
     },
     "4f09490df2a44262b5f4c503a528c7fa": {
      "model_module": "@jupyter-widgets/output",
      "model_module_version": "1.0.0",
      "model_name": "OutputModel",
      "state": {
       "layout": "IPY_MODEL_959f58e55882455da2728ebbb510e024"
      }
     },
     "4f3e380c30004b8d8fad49744555d95e": {
      "model_module": "@jupyter-widgets/output",
      "model_module_version": "1.0.0",
      "model_name": "OutputModel",
      "state": {
       "layout": "IPY_MODEL_c27b24de19604bdbaa7cf25c21fd1219"
      }
     },
     "4f5a393e93374f58ae132e54b7e1476f": {
      "model_module": "@jupyter-widgets/base",
      "model_module_version": "1.1.0",
      "model_name": "LayoutModel",
      "state": {
       "width": "300px"
      }
     },
     "4fd54e096b5c4c27ba36ae902c277d0d": {
      "model_module": "@jupyter-widgets/controls",
      "model_module_version": "1.4.0",
      "model_name": "DescriptionStyleModel",
      "state": {
       "description_width": ""
      }
     },
     "50473f3269014873884b66bb86a73131": {
      "model_module": "@jupyter-widgets/base",
      "model_module_version": "1.1.0",
      "model_name": "LayoutModel",
      "state": {}
     },
     "5052044e31fa49d2b61d16a29a5a86ab": {
      "model_module": "@jupyter-widgets/base",
      "model_module_version": "1.1.0",
      "model_name": "LayoutModel",
      "state": {
       "width": "300px"
      }
     },
     "50b32b0b1ade441ea509b8a8721d2fad": {
      "model_module": "@jupyter-widgets/base",
      "model_module_version": "1.1.0",
      "model_name": "LayoutModel",
      "state": {
       "width": "300px"
      }
     },
     "513b6178d293440fa3a7b0494caca01b": {
      "model_module": "@jupyter-widgets/output",
      "model_module_version": "1.0.0",
      "model_name": "OutputModel",
      "state": {
       "layout": "IPY_MODEL_306a5401c324497f845592f78c84178d"
      }
     },
     "515fda7c72c340028357d9577c94d512": {
      "model_module": "@jupyter-widgets/base",
      "model_module_version": "1.1.0",
      "model_name": "LayoutModel",
      "state": {}
     },
     "5174cab3074f42a79eb68788d0f2be84": {
      "model_module": "@jupyter-widgets/controls",
      "model_module_version": "1.4.0",
      "model_name": "LabelModel",
      "state": {
       "layout": "IPY_MODEL_52c4376504d34cfabc8e38254b90d786",
       "style": "IPY_MODEL_d3bf6dc93b8c48678fdb59a4fd6b36ce",
       "value": "Notebook's name: "
      }
     },
     "5250ff443e8b485db4a3746873763440": {
      "model_module": "@jupyter-widgets/controls",
      "model_module_version": "1.4.0",
      "model_name": "CheckboxModel",
      "state": {
       "description": "Live plot in Jupyter: ",
       "disabled": true,
       "layout": "IPY_MODEL_12ec1a88bb934977bfc100d2e1ff02dc",
       "style": "IPY_MODEL_904e2cea959240989d6304accf1a5e7c",
       "value": false
      }
     },
     "52787259294a42ad95d5ac671c5bbd93": {
      "model_module": "@jupyter-widgets/controls",
      "model_module_version": "1.4.0",
      "model_name": "LabelModel",
      "state": {
       "layout": "IPY_MODEL_b5fd3cbb5f4c4310923961af45a42548",
       "style": "IPY_MODEL_c4fbf4ac15d6445594b1d6e8755dcebd",
       "value": "No motors initilized to be showed."
      }
     },
     "527b3cc77e1e42e29ddc4f1b8e6e9ce3": {
      "model_module": "@jupyter-widgets/controls",
      "model_module_version": "1.4.0",
      "model_name": "ButtonStyleModel",
      "state": {}
     },
     "52a54f44551e474783b743cc112695bc": {
      "model_module": "@jupyter-widgets/controls",
      "model_module_version": "1.4.0",
      "model_name": "DescriptionStyleModel",
      "state": {
       "description_width": ""
      }
     },
     "52c4376504d34cfabc8e38254b90d786": {
      "model_module": "@jupyter-widgets/base",
      "model_module_version": "1.1.0",
      "model_name": "LayoutModel",
      "state": {}
     },
     "534663a9826b46a58dcb5dad573a822e": {
      "model_module": "@jupyter-widgets/base",
      "model_module_version": "1.1.0",
      "model_name": "LayoutModel",
      "state": {
       "width": "300px"
      }
     },
     "53ece4ecb55a42ba95d4160e9c710881": {
      "model_module": "@jupyter-widgets/controls",
      "model_module_version": "1.4.0",
      "model_name": "CheckboxModel",
      "state": {
       "description": "Live plot in Jupyter: ",
       "disabled": true,
       "layout": "IPY_MODEL_33f7e81ecea4444eb13611b8fd9f6a5c",
       "style": "IPY_MODEL_31be4226feb64f1a8617b2544621adc8",
       "value": false
      }
     },
     "54b3b721c514467881c0e4f853a20088": {
      "model_module": "@jupyter-widgets/base",
      "model_module_version": "1.1.0",
      "model_name": "LayoutModel",
      "state": {}
     },
     "54e7e60e12ed45fe9d1e74e6855d4bfb": {
      "model_module": "@jupyter-widgets/base",
      "model_module_version": "1.1.0",
      "model_name": "LayoutModel",
      "state": {}
     },
     "54f3392f3080471cac18e1fb72174851": {
      "model_module": "@jupyter-widgets/base",
      "model_module_version": "1.1.0",
      "model_name": "LayoutModel",
      "state": {}
     },
     "55959d4ed4f54f7782fb20b3130441fd": {
      "model_module": "@jupyter-widgets/controls",
      "model_module_version": "1.4.0",
      "model_name": "ButtonStyleModel",
      "state": {}
     },
     "55bcfe22cd734b2e879927e300a06dfb": {
      "model_module": "@jupyter-widgets/base",
      "model_module_version": "1.1.0",
      "model_name": "LayoutModel",
      "state": {
       "width": "300px"
      }
     },
     "55f2523a344e44ebb78a5154f025cc51": {
      "model_module": "@jupyter-widgets/controls",
      "model_module_version": "1.4.0",
      "model_name": "ButtonModel",
      "state": {
       "button_style": "success",
       "description": "Start PV Monitoring",
       "layout": "IPY_MODEL_190361c98f0e4ec09bf9e8757d7b6195",
       "style": "IPY_MODEL_233096ddf7c74abda36e378caceae71e",
       "tooltip": "Click me"
      }
     },
     "55fdac834fb74d05a54f2c9c57f99608": {
      "model_module": "@jupyter-widgets/controls",
      "model_module_version": "1.4.0",
      "model_name": "DescriptionStyleModel",
      "state": {
       "description_width": ""
      }
     },
     "560630a896904883bdd1b46a0015eca0": {
      "model_module": "@jupyter-widgets/base",
      "model_module_version": "1.1.0",
      "model_name": "LayoutModel",
      "state": {}
     },
     "5611acab4f4b46f2bdebf7f5d6ace7b6": {
      "model_module": "@jupyter-widgets/controls",
      "model_module_version": "1.4.0",
      "model_name": "ButtonModel",
      "state": {
       "button_style": "success",
       "description": "Start Motor Initializaton",
       "layout": "IPY_MODEL_f1d22f98f2e746ee9abb7f0385c8c50f",
       "style": "IPY_MODEL_316bddd7a8cf47d58e209c97a3c92288",
       "tooltip": "Click me"
      }
     },
     "56ff182bb67c457abc6bfbf2a755687b": {
      "model_module": "@jupyter-widgets/output",
      "model_module_version": "1.0.0",
      "model_name": "OutputModel",
      "state": {
       "layout": "IPY_MODEL_2bdc175f137246c381bf457a23ca0bcb",
       "outputs": [
        {
         "data": {
          "application/javascript": "IPython.notebook.save_checkpoint();",
          "text/plain": "<IPython.core.display.Javascript object>"
         },
         "metadata": {},
         "output_type": "display_data"
        },
        {
         "data": {
          "application/javascript": "IPython.notebook.save_checkpoint();",
          "text/plain": "<IPython.core.display.Javascript object>"
         },
         "metadata": {},
         "output_type": "display_data"
        },
        {
         "data": {
          "application/javascript": "IPython.notebook.save_checkpoint();",
          "text/plain": "<IPython.core.display.Javascript object>"
         },
         "metadata": {},
         "output_type": "display_data"
        }
       ]
      }
     },
     "575944909a2047ee840dceeeb0948d7b": {
      "model_module": "@jupyter-widgets/base",
      "model_module_version": "1.1.0",
      "model_name": "LayoutModel",
      "state": {}
     },
     "580c102252e042c284e648688ab3d617": {
      "model_module": "@jupyter-widgets/controls",
      "model_module_version": "1.4.0",
      "model_name": "ButtonStyleModel",
      "state": {}
     },
     "58112f1a44aa420f88990b57f9378a33": {
      "model_module": "@jupyter-widgets/controls",
      "model_module_version": "1.4.0",
      "model_name": "DescriptionStyleModel",
      "state": {
       "description_width": "initial"
      }
     },
     "5827ad74b27342119fb029c121c51ca0": {
      "model_module": "@jupyter-widgets/output",
      "model_module_version": "1.0.0",
      "model_name": "OutputModel",
      "state": {
       "layout": "IPY_MODEL_6cec6b2f39114b76b5b64fb5db0676f1"
      }
     },
     "58a01fc0488c4053b290dcaa437faf0e": {
      "model_module": "@jupyter-widgets/controls",
      "model_module_version": "1.4.0",
      "model_name": "DescriptionStyleModel",
      "state": {
       "description_width": ""
      }
     },
     "58c0542c5645447896e757ba7475412e": {
      "model_module": "@jupyter-widgets/output",
      "model_module_version": "1.0.0",
      "model_name": "OutputModel",
      "state": {
       "layout": "IPY_MODEL_457520859e304253a2bf83b4424a69f2"
      }
     },
     "58d6643ee7b74dbf80c3094bae8b8a69": {
      "model_module": "@jupyter-widgets/controls",
      "model_module_version": "1.4.0",
      "model_name": "DescriptionStyleModel",
      "state": {
       "description_width": "initial"
      }
     },
     "58e5dbfdb4bc4fd4b2943c7429fd3e74": {
      "model_module": "@jupyter-widgets/base",
      "model_module_version": "1.1.0",
      "model_name": "LayoutModel",
      "state": {}
     },
     "590d087dc10547cbbe877820d5c13152": {
      "model_module": "@jupyter-widgets/base",
      "model_module_version": "1.1.0",
      "model_name": "LayoutModel",
      "state": {}
     },
     "59429bb976644250b2868c70b3bcd0b5": {
      "model_module": "@jupyter-widgets/controls",
      "model_module_version": "1.4.0",
      "model_name": "CheckboxModel",
      "state": {
       "description": "Print log in Notebook's cells",
       "disabled": false,
       "layout": "IPY_MODEL_23a1049fe87946078567c2855b18c76d",
       "style": "IPY_MODEL_cfc8c2db82d444ba8696e2a202baf87c",
       "value": false
      }
     },
     "598f72befa5b4ccebba3203868144836": {
      "model_module": "@jupyter-widgets/output",
      "model_module_version": "1.0.0",
      "model_name": "OutputModel",
      "state": {
       "layout": "IPY_MODEL_77b9c80395d7425fae4255a108ee9b01"
      }
     },
     "5a2bc86042b94e9baa91974dc3df556e": {
      "model_module": "@jupyter-widgets/controls",
      "model_module_version": "1.4.0",
      "model_name": "DescriptionStyleModel",
      "state": {
       "description_width": ""
      }
     },
     "5ac1c63e31e0412d9412666ebd49fa0f": {
      "model_module": "@jupyter-widgets/controls",
      "model_module_version": "1.4.0",
      "model_name": "DropdownModel",
      "state": {
       "_options_labels": [
        "Plot after ends with PyQt",
        "Plot after ends with Plotly",
        "Live Plot"
       ],
       "disabled": true,
       "index": 1,
       "layout": "IPY_MODEL_c0683f4875b74e3b8b29de21228a318b",
       "style": "IPY_MODEL_b9d55a16847b448bba77db04e96f7ee5"
      }
     },
     "5b4fa1c65137451489b388cbba27bb07": {
      "model_module": "@jupyter-widgets/controls",
      "model_module_version": "1.4.0",
      "model_name": "DescriptionStyleModel",
      "state": {
       "description_width": "initial"
      }
     },
     "5b817b37a937468faa210858195eddbb": {
      "model_module": "@jupyter-widgets/output",
      "model_module_version": "1.0.0",
      "model_name": "OutputModel",
      "state": {
       "layout": "IPY_MODEL_8f5a0c690e9e4a1eb0bca81104fde2e3"
      }
     },
     "5b8697bc159b4ee28b620da8d0c14307": {
      "model_module": "@jupyter-widgets/base",
      "model_module_version": "1.1.0",
      "model_name": "LayoutModel",
      "state": {}
     },
     "5bb91f4b85b84aef909588f1d8b33c8e": {
      "model_module": "@jupyter-widgets/base",
      "model_module_version": "1.1.0",
      "model_name": "LayoutModel",
      "state": {}
     },
     "5beb0043a5bc431c80153334e203a371": {
      "model_module": "@jupyter-widgets/output",
      "model_module_version": "1.0.0",
      "model_name": "OutputModel",
      "state": {
       "layout": "IPY_MODEL_efe9319d4b7d47aa89075ee81471b8c9"
      }
     },
     "5cb3a788adb64b81814bda83ec956350": {
      "model_module": "@jupyter-widgets/controls",
      "model_module_version": "1.4.0",
      "model_name": "VBoxModel",
      "state": {
       "children": [
        "IPY_MODEL_30f9232e3ab44da8a828d5e25fd55941",
        "IPY_MODEL_3764a22ccfde4750aba992a4a3eb3a6f"
       ],
       "layout": "IPY_MODEL_54e7e60e12ed45fe9d1e74e6855d4bfb"
      }
     },
     "5cdd4ac50ba84b08ba05ef3e09cd6170": {
      "model_module": "@jupyter-widgets/controls",
      "model_module_version": "1.4.0",
      "model_name": "ButtonModel",
      "state": {
       "button_style": "danger",
       "description": "Stop Scanning Plot",
       "layout": "IPY_MODEL_00e49d5c5e024064a7e6fa4d4dd12e68",
       "style": "IPY_MODEL_e5f10511b0284639bd105897bf19ee4b",
       "tooltip": "Click me"
      }
     },
     "5ceaa9d4f1f44313947c1be10b76fb56": {
      "model_module": "@jupyter-widgets/base",
      "model_module_version": "1.1.0",
      "model_name": "LayoutModel",
      "state": {
       "width": "300px"
      }
     },
     "5d530b837a8049ef933d575f07c6c2be": {
      "model_module": "@jupyter-widgets/base",
      "model_module_version": "1.1.0",
      "model_name": "LayoutModel",
      "state": {}
     },
     "5d73705d1101486598dac4b1157fd1d5": {
      "model_module": "plotlywidget",
      "model_module_version": "0.8.0",
      "model_name": "FigureModel",
      "state": {
       "_config": {
        "plotlyServerURL": "https://plot.ly"
       },
       "_js2py_layoutDelta": {},
       "_js2py_pointsCallback": {},
       "_js2py_relayout": {},
       "_js2py_restyle": {},
       "_js2py_traceDeltas": {},
       "_js2py_update": {},
       "_layout": {
        "template": {}
       },
       "_model_module_version": "0.8.0",
       "_py2js_addTraces": {},
       "_py2js_animate": {},
       "_py2js_deleteTraces": {},
       "_py2js_moveTraces": {},
       "_py2js_removeLayoutProps": {},
       "_py2js_removeTraceProps": {},
       "_py2js_restyle": {},
       "_py2js_update": {},
       "_view_count": 0,
       "_view_module_version": "0.8.0"
      }
     },
     "5e59d5f22b534aa3b29bbf83e9b47fc3": {
      "model_module": "@jupyter-widgets/controls",
      "model_module_version": "1.4.0",
      "model_name": "ButtonStyleModel",
      "state": {}
     },
     "5e9ce4a3bf334cc0991552c65eba881f": {
      "model_module": "@jupyter-widgets/controls",
      "model_module_version": "1.4.0",
      "model_name": "ButtonModel",
      "state": {
       "button_style": "danger",
       "description": "Stop Scanning Plot",
       "layout": "IPY_MODEL_4565d9598fef4e178362efc692f985de",
       "style": "IPY_MODEL_48e72068933442c5990c67fc802cc099",
       "tooltip": "Click me"
      }
     },
     "5eae7e88a324410f9cde045a998627ce": {
      "model_module": "@jupyter-widgets/base",
      "model_module_version": "1.1.0",
      "model_name": "LayoutModel",
      "state": {}
     },
     "5ec3d734f39f4a5d9445da5f0421f029": {
      "model_module": "@jupyter-widgets/base",
      "model_module_version": "1.1.0",
      "model_name": "LayoutModel",
      "state": {
       "width": "300px"
      }
     },
     "5ed3b762c7d846ddbf54556d5996adb6": {
      "model_module": "@jupyter-widgets/base",
      "model_module_version": "1.1.0",
      "model_name": "LayoutModel",
      "state": {}
     },
     "5fd6be31d66146b2a1b4186acf5fb0c1": {
      "model_module": "@jupyter-widgets/controls",
      "model_module_version": "1.4.0",
      "model_name": "DropdownModel",
      "state": {
       "_options_labels": [
        "Plot after ends with PyQt",
        "Plot after ends with Plotly",
        "Live Plot"
       ],
       "disabled": true,
       "index": 1,
       "layout": "IPY_MODEL_dc99f30211f54fe7ab1178cbe1c8240c",
       "style": "IPY_MODEL_0103ecc04ffc4ec0a67230e8b1c17b94"
      }
     },
     "5fea8befd4174d0f87c51ec5bed3ecd2": {
      "model_module": "@jupyter-widgets/controls",
      "model_module_version": "1.4.0",
      "model_name": "TextModel",
      "state": {
       "layout": "IPY_MODEL_3338f8ca29a740bbb9079aad13dc40f3",
       "placeholder": "Type the notebook's name without file format",
       "style": "IPY_MODEL_b87fb164a89c4f0eb00c2ddf26dcc77d"
      }
     },
     "60070f09b2aa4b15ba404de4fb124695": {
      "model_module": "@jupyter-widgets/controls",
      "model_module_version": "1.4.0",
      "model_name": "BoxModel",
      "state": {
       "children": [
        "IPY_MODEL_9db68b5b25324bdd97b6fd0ca4ed3011"
       ],
       "layout": "IPY_MODEL_dd8f9d06ac194162941d296757f9dda3"
      }
     },
     "60a4d3ded09242e6b664d60c5a3777dd": {
      "model_module": "@jupyter-widgets/controls",
      "model_module_version": "1.4.0",
      "model_name": "HBoxModel",
      "state": {
       "children": [
        "IPY_MODEL_7b57353021d24c2092ba0588feec7a9d",
        "IPY_MODEL_3d32f44b46f0426597e5384e0a31cb0c"
       ],
       "layout": "IPY_MODEL_1b713ec09dfd4153a917912f294ee466"
      }
     },
     "60aafaea3e004c81bd595fdd76c218d6": {
      "model_module": "@jupyter-widgets/controls",
      "model_module_version": "1.4.0",
      "model_name": "ButtonModel",
      "state": {
       "button_style": "warning",
       "description": "Export Notebook to HTML",
       "layout": "IPY_MODEL_615a0d2cc2fc423f915a159597643562",
       "style": "IPY_MODEL_27c9da3b318949338039990dfcf5be32",
       "tooltip": "Click me"
      }
     },
     "6145e72e10f74eb098be9f81e8253c0b": {
      "model_module": "@jupyter-widgets/base",
      "model_module_version": "1.1.0",
      "model_name": "LayoutModel",
      "state": {}
     },
     "615a0d2cc2fc423f915a159597643562": {
      "model_module": "@jupyter-widgets/base",
      "model_module_version": "1.1.0",
      "model_name": "LayoutModel",
      "state": {
       "width": "300px"
      }
     },
     "6187d0996417440c841e322ce571f48e": {
      "model_module": "@jupyter-widgets/controls",
      "model_module_version": "1.4.0",
      "model_name": "TextModel",
      "state": {
       "layout": "IPY_MODEL_4c24b7f4542045aa8077630ff08a2b9b",
       "placeholder": "Type the notebook's name without file format",
       "style": "IPY_MODEL_fa6a81b3a259478bad95248549274435",
       "value": "work-notebook"
      }
     },
     "618e1c0c64804a93b9d5708aa8b96dc8": {
      "model_module": "@jupyter-widgets/controls",
      "model_module_version": "1.4.0",
      "model_name": "DescriptionStyleModel",
      "state": {
       "description_width": "initial"
      }
     },
     "619e7b5984b04561b723c3a08ebe6a43": {
      "model_module": "@jupyter-widgets/base",
      "model_module_version": "1.1.0",
      "model_name": "LayoutModel",
      "state": {}
     },
     "61c992c828084c54bd5fcfc5d308caae": {
      "model_module": "@jupyter-widgets/base",
      "model_module_version": "1.1.0",
      "model_name": "LayoutModel",
      "state": {
       "height": "40px",
       "width": "40px"
      }
     },
     "61dc77190f5f48c1866937c9eb693025": {
      "model_module": "@jupyter-widgets/controls",
      "model_module_version": "1.4.0",
      "model_name": "VBoxModel",
      "state": {
       "children": [
        "IPY_MODEL_311caf0bdedb42e3bb426afea6b2d790"
       ],
       "layout": "IPY_MODEL_f51e8de527464b6cab1e8a56073ae98d"
      }
     },
     "61e6d3275e57412bb58d8e6f8bf15ff8": {
      "model_module": "@jupyter-widgets/controls",
      "model_module_version": "1.4.0",
      "model_name": "DescriptionStyleModel",
      "state": {
       "description_width": "initial"
      }
     },
     "61ebdd6cc21d4832abe61faa7dff4fa7": {
      "model_module": "@jupyter-widgets/base",
      "model_module_version": "1.1.0",
      "model_name": "LayoutModel",
      "state": {}
     },
     "623b81f2e3a34aef9905ecf131296e22": {
      "model_module": "@jupyter-widgets/output",
      "model_module_version": "1.0.0",
      "model_name": "OutputModel",
      "state": {
       "layout": "IPY_MODEL_5eae7e88a324410f9cde045a998627ce"
      }
     },
     "6280320709d1445389a05736958bbde2": {
      "model_module": "@jupyter-widgets/base",
      "model_module_version": "1.1.0",
      "model_name": "LayoutModel",
      "state": {}
     },
     "62ca3e162cc9442394512828f32a08dc": {
      "model_module": "@jupyter-widgets/controls",
      "model_module_version": "1.4.0",
      "model_name": "ButtonModel",
      "state": {
       "button_style": "success",
       "description": "Start Manual Alignment",
       "layout": "IPY_MODEL_d850fbc8c6ff4cc0a83faaa35523fb7a",
       "style": "IPY_MODEL_9c4e6aafa0ab40009c743f8230099fe8",
       "tooltip": "Click me"
      }
     },
     "635379964e3c4e23bbac58e15ed9d981": {
      "buffers": [
       {
        "data": "AAAAAAAAEEAAAAAAAADwPwAAAAAAAAhAAAAAAAAAEEAAAAAAAAAcQA==",
        "encoding": "base64",
        "path": [
         "_data",
         0,
         "y",
         "value"
        ]
       },
       {
        "data": "AAAAAAAAEEAAAAAAAADwPwAAAAAAAAhAAAAAAAAAEEAAAAAAAAAcQA==",
        "encoding": "base64",
        "path": [
         "_data",
         1,
         "y",
         "value"
        ]
       }
      ],
      "model_module": "plotlywidget",
      "model_module_version": "0.8.0",
      "model_name": "FigureModel",
      "state": {
       "_config": {
        "plotlyServerURL": "https://plot.ly"
       },
       "_data": [
        {
         "mode": "lines+markers",
         "name": "line1",
         "type": "scatter",
         "uid": "85385267-7f61-47ea-951e-95cedcc804c0",
         "x": [
          0,
          1,
          2,
          3,
          4
         ],
         "xaxis": "x",
         "y": {
          "dtype": "float64",
          "shape": [
           5
          ],
          "value": {}
         },
         "yaxis": "y"
        },
        {
         "mode": "lines+markers",
         "name": "line2",
         "type": "scatter",
         "uid": "f555c06e-b944-410e-992d-c0b60678fbf2",
         "x": [
          0,
          1,
          2,
          3,
          4
         ],
         "xaxis": "x2",
         "y": {
          "dtype": "float64",
          "shape": [
           5
          ],
          "value": {}
         },
         "yaxis": "y2"
        }
       ],
       "_js2py_pointsCallback": {},
       "_js2py_restyle": {},
       "_js2py_update": {},
       "_last_layout_edit_id": 8,
       "_last_trace_edit_id": 7,
       "_layout": {
        "autosize": true,
        "plot_bgcolor": "rgb(230, 230, 230)",
        "template": {},
        "title": {
         "text": "Scan"
        },
        "xaxis": {
         "anchor": "y",
         "domain": [
          0,
          1
         ]
        },
        "xaxis2": {
         "anchor": "y2",
         "domain": [
          0,
          1
         ]
        },
        "yaxis": {
         "anchor": "x",
         "domain": [
          0.575,
          1
         ]
        },
        "yaxis2": {
         "anchor": "x2",
         "domain": [
          0,
          0.425
         ]
        }
       },
       "_model_module_version": "0.8.0",
       "_py2js_animate": {},
       "_py2js_deleteTraces": {},
       "_py2js_moveTraces": {},
       "_py2js_removeLayoutProps": {},
       "_py2js_removeTraceProps": {},
       "_view_count": 0,
       "_view_module_version": "0.8.0"
      }
     },
     "63599d5e636642ac95639214cb438d33": {
      "model_module": "@jupyter-widgets/controls",
      "model_module_version": "1.4.0",
      "model_name": "TextModel",
      "state": {
       "layout": "IPY_MODEL_f7a8b6d235944ff4b7b97c4cd178dc56",
       "placeholder": "Type the notebook's name without file format",
       "style": "IPY_MODEL_f78a0b9fb7d64e16a59c8df6cea5da1f",
       "value": "work-notebook"
      }
     },
     "636988f76c5e46e6882c638f6a3a9c0a": {
      "model_module": "@jupyter-widgets/base",
      "model_module_version": "1.1.0",
      "model_name": "LayoutModel",
      "state": {
       "width": "300px"
      }
     },
     "637d134ae7be4f9192a8f7027e082641": {
      "model_module": "@jupyter-widgets/base",
      "model_module_version": "1.1.0",
      "model_name": "LayoutModel",
      "state": {
       "width": "300px"
      }
     },
     "63a5aba5bd0c4bfa9a6d6acbea9e8b6e": {
      "model_module": "@jupyter-widgets/base",
      "model_module_version": "1.1.0",
      "model_name": "LayoutModel",
      "state": {}
     },
     "63d93a09c556415db6100d618e5e48e4": {
      "model_module": "@jupyter-widgets/controls",
      "model_module_version": "1.4.0",
      "model_name": "VBoxModel",
      "state": {
       "children": [
        "IPY_MODEL_376ebd7bef524a72a2ba4551450b8d24",
        "IPY_MODEL_374ef0a33e834c67a5edbfff2e8c4d6f"
       ],
       "layout": "IPY_MODEL_840977f8499148299afecc40eff1f3c1"
      }
     },
     "640e1b4cfe1e4f90a04b86736a3bdb7d": {
      "model_module": "@jupyter-widgets/base",
      "model_module_version": "1.1.0",
      "model_name": "LayoutModel",
      "state": {}
     },
     "64488026a654467a96b3877d73b1a317": {
      "model_module": "@jupyter-widgets/output",
      "model_module_version": "1.0.0",
      "model_name": "OutputModel",
      "state": {
       "layout": "IPY_MODEL_83858a42a8f54ff4a114e7c3fc80730f"
      }
     },
     "653711c5dc824e599e0b5ea6dc9cb3b5": {
      "model_module": "@jupyter-widgets/output",
      "model_module_version": "1.0.0",
      "model_name": "OutputModel",
      "state": {
       "layout": "IPY_MODEL_4bde69091e6b443fb74a57ead9da3380"
      }
     },
     "658cb0e298af415bb2c22ca448a5d80d": {
      "model_module": "@jupyter-widgets/controls",
      "model_module_version": "1.4.0",
      "model_name": "HBoxModel",
      "state": {
       "children": [
        "IPY_MODEL_35c1d3c7446f4f11b587612f7e5fad9f",
        "IPY_MODEL_772d1aa888984e72ac380d8f127e5e48"
       ],
       "layout": "IPY_MODEL_9d1c2418d5214c37864f8e3b29c38d08"
      }
     },
     "65ace43cb6694a9fb170cd55c29836de": {
      "model_module": "@jupyter-widgets/controls",
      "model_module_version": "1.4.0",
      "model_name": "DescriptionStyleModel",
      "state": {
       "description_width": ""
      }
     },
     "661a35ba9d5347cf808d5d96290c58fd": {
      "model_module": "@jupyter-widgets/base",
      "model_module_version": "1.1.0",
      "model_name": "LayoutModel",
      "state": {}
     },
     "6620ab43c9fd44b49e188ace84c80d34": {
      "model_module": "@jupyter-widgets/controls",
      "model_module_version": "1.4.0",
      "model_name": "DescriptionStyleModel",
      "state": {
       "description_width": ""
      }
     },
     "665159df8f1941c79b970394e6bb0b11": {
      "model_module": "@jupyter-widgets/controls",
      "model_module_version": "1.4.0",
      "model_name": "DescriptionStyleModel",
      "state": {
       "description_width": "initial"
      }
     },
     "666ebe9d30514e658619d496c0002b27": {
      "model_module": "@jupyter-widgets/base",
      "model_module_version": "1.1.0",
      "model_name": "LayoutModel",
      "state": {}
     },
     "66c560ef395c4be3a85dd115df1d8b69": {
      "model_module": "@jupyter-widgets/controls",
      "model_module_version": "1.4.0",
      "model_name": "ButtonModel",
      "state": {
       "button_style": "success",
       "description": "Start Scaler GUI",
       "layout": "IPY_MODEL_637d134ae7be4f9192a8f7027e082641",
       "style": "IPY_MODEL_2557b824d4054f02b8a4c9ef7bd3b3e6",
       "tooltip": "Click me"
      }
     },
     "66ff3ca049a040be99eff9061859bd47": {
      "model_module": "@jupyter-widgets/base",
      "model_module_version": "1.1.0",
      "model_name": "LayoutModel",
      "state": {
       "width": "300px"
      }
     },
     "672ec8b0371b4ffb90267bf9ace491f0": {
      "model_module": "@jupyter-widgets/base",
      "model_module_version": "1.1.0",
      "model_name": "LayoutModel",
      "state": {}
     },
     "6735b4f965ce4ce6a8126936ceae3816": {
      "model_module": "@jupyter-widgets/controls",
      "model_module_version": "1.4.0",
      "model_name": "ButtonModel",
      "state": {
       "button_style": "warning",
       "description": "Export Notebook to Latex",
       "layout": "IPY_MODEL_55bcfe22cd734b2e879927e300a06dfb",
       "style": "IPY_MODEL_8d2e3623cd7e49ce9569fdec74b2f447",
       "tooltip": "Click me"
      }
     },
     "677f9f01801b45bc9300c4d78e54668d": {
      "model_module": "@jupyter-widgets/controls",
      "model_module_version": "1.4.0",
      "model_name": "ButtonStyleModel",
      "state": {}
     },
     "67a17bee79834958bc7d295a55743017": {
      "model_module": "@jupyter-widgets/base",
      "model_module_version": "1.1.0",
      "model_name": "LayoutModel",
      "state": {}
     },
     "681610ad57474a9ea41ff77b4e9622bb": {
      "model_module": "@jupyter-widgets/base",
      "model_module_version": "1.1.0",
      "model_name": "LayoutModel",
      "state": {}
     },
     "681ff58451ca45dc9db8b51508708991": {
      "model_module": "@jupyter-widgets/controls",
      "model_module_version": "1.4.0",
      "model_name": "LabelModel",
      "state": {
       "layout": "IPY_MODEL_54f3392f3080471cac18e1fb72174851",
       "style": "IPY_MODEL_fd50fd684d594e32ad44beb832e635d4",
       "value": "No motors initilized to be showed."
      }
     },
     "6857db8a25c24f469e4f32e03241e5cf": {
      "model_module": "@jupyter-widgets/base",
      "model_module_version": "1.1.0",
      "model_name": "LayoutModel",
      "state": {}
     },
     "68da9fe430a04e5783cbe9f2dbeb66bd": {
      "model_module": "@jupyter-widgets/base",
      "model_module_version": "1.1.0",
      "model_name": "LayoutModel",
      "state": {}
     },
     "690507fc9ad34538b3117291f851fe9e": {
      "buffers": [
       {
        "data": "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",
        "encoding": "base64",
        "path": [
         "value"
        ]
       }
      ],
      "model_module": "@jupyter-widgets/controls",
      "model_module_version": "1.4.0",
      "model_name": "ImageModel",
      "state": {
       "height": "35",
       "layout": "IPY_MODEL_3dbb4641ae774c4d9dc2bae503c2bb6b",
       "value": {},
       "width": "35"
      }
     },
     "69238242ee8f4fcebc67f067ece6e519": {
      "model_module": "@jupyter-widgets/controls",
      "model_module_version": "1.4.0",
      "model_name": "ButtonModel",
      "state": {
       "button_style": "success",
       "description": "Start Motor Initializaton",
       "layout": "IPY_MODEL_4f5a393e93374f58ae132e54b7e1476f",
       "style": "IPY_MODEL_3ff4a929472349359ec8096f5c3acd81",
       "tooltip": "Click me"
      }
     },
     "699b63cee81447d299fe7718ab057301": {
      "model_module": "@jupyter-widgets/controls",
      "model_module_version": "1.4.0",
      "model_name": "DescriptionStyleModel",
      "state": {
       "description_width": ""
      }
     },
     "69a77161baa940a49d628f853ea106bc": {
      "model_module": "@jupyter-widgets/controls",
      "model_module_version": "1.4.0",
      "model_name": "VBoxModel",
      "state": {
       "children": [
        "IPY_MODEL_fa75129591784d22bc72f952dd82319e",
        "IPY_MODEL_623b81f2e3a34aef9905ecf131296e22"
       ],
       "layout": "IPY_MODEL_c3f8a6a1fb414a4eacccf842e02f7931"
      }
     },
     "69e7e613061442c0b0cbf5d876892a6e": {
      "model_module": "@jupyter-widgets/controls",
      "model_module_version": "1.4.0",
      "model_name": "CheckboxModel",
      "state": {
       "description": "Plot with PyQtGraph after scan ends: ",
       "disabled": false,
       "layout": "IPY_MODEL_c70a72ec3578468e95e2d3015810ff0a",
       "style": "IPY_MODEL_d54f82c2a8944759b9916f6387dff642",
       "value": true
      }
     },
     "6a773b3561214c9b8bf9a48f88d1efd2": {
      "model_module": "@jupyter-widgets/controls",
      "model_module_version": "1.4.0",
      "model_name": "VBoxModel",
      "state": {
       "children": [
        "IPY_MODEL_6e4a6da7bcc049aab6b0b0e13c4968a4"
       ],
       "layout": "IPY_MODEL_5b8697bc159b4ee28b620da8d0c14307"
      }
     },
     "6b12e9fb871c419e9d2bad2e09ab6ec7": {
      "model_module": "@jupyter-widgets/controls",
      "model_module_version": "1.4.0",
      "model_name": "BoxModel",
      "state": {
       "children": [
        "IPY_MODEL_6fd337a2dc2a473f8a26bd3d9a969ede"
       ],
       "layout": "IPY_MODEL_0f96fb60838941a998f5e00a47e45f59"
      }
     },
     "6b429e2e411a458ca99dc883729b8d55": {
      "model_module": "@jupyter-widgets/base",
      "model_module_version": "1.1.0",
      "model_name": "LayoutModel",
      "state": {
       "width": "300px"
      }
     },
     "6be4e23aeae3457b9b29cfd17c5021f4": {
      "model_module": "@jupyter-widgets/controls",
      "model_module_version": "1.4.0",
      "model_name": "DescriptionStyleModel",
      "state": {
       "description_width": "initial"
      }
     },
     "6c7d230a3ad44afaaeaab62539e8f4a4": {
      "model_module": "@jupyter-widgets/controls",
      "model_module_version": "1.4.0",
      "model_name": "CheckboxModel",
      "state": {
       "description": "Print log in Notebook's cells",
       "disabled": false,
       "layout": "IPY_MODEL_83e0537fb99842748ab201c46255cb08",
       "style": "IPY_MODEL_0b85f420dfcd4e47aa6359385757d3f2",
       "value": false
      }
     },
     "6cbac2c1de5c41c9a15166d345ba2ae3": {
      "model_module": "@jupyter-widgets/base",
      "model_module_version": "1.1.0",
      "model_name": "LayoutModel",
      "state": {
       "width": "300px"
      }
     },
     "6ce68150b6194ba1b0a42ad66bf42f58": {
      "model_module": "@jupyter-widgets/controls",
      "model_module_version": "1.4.0",
      "model_name": "VBoxModel",
      "state": {
       "children": [
        "IPY_MODEL_8288a7bbf7584a0d9adf05ebf4d629a7"
       ],
       "layout": "IPY_MODEL_4461183089064663a80803576f7477c3"
      }
     },
     "6cec6b2f39114b76b5b64fb5db0676f1": {
      "model_module": "@jupyter-widgets/base",
      "model_module_version": "1.1.0",
      "model_name": "LayoutModel",
      "state": {}
     },
     "6d2850d852324d68a89e979e69bac821": {
      "model_module": "@jupyter-widgets/controls",
      "model_module_version": "1.4.0",
      "model_name": "VBoxModel",
      "state": {
       "children": [
        "IPY_MODEL_7172717beb26434696597f3c80c6d3f7"
       ],
       "layout": "IPY_MODEL_81bad19a64b94dc581d9feb2d5eaf6d6"
      }
     },
     "6d2b52b1a54b41b3938826ce21947713": {
      "model_module": "@jupyter-widgets/base",
      "model_module_version": "1.1.0",
      "model_name": "LayoutModel",
      "state": {}
     },
     "6d513a7d66674e1baf917e481689e5ca": {
      "model_module": "@jupyter-widgets/controls",
      "model_module_version": "1.4.0",
      "model_name": "CheckboxModel",
      "state": {
       "description": "Print log in Notebook's cells",
       "disabled": false,
       "layout": "IPY_MODEL_06dcf95f88ca4715821ada8e5fe586e1",
       "style": "IPY_MODEL_78c08cdc2557484583648a2c6afde1ee",
       "value": false
      }
     },
     "6d731f9fcc7740c1bdd484f90fc03188": {
      "model_module": "@jupyter-widgets/base",
      "model_module_version": "1.1.0",
      "model_name": "LayoutModel",
      "state": {}
     },
     "6dc7e84864774df7ad2e27ac87f0b3ff": {
      "model_module": "@jupyter-widgets/base",
      "model_module_version": "1.1.0",
      "model_name": "LayoutModel",
      "state": {}
     },
     "6e4a6da7bcc049aab6b0b0e13c4968a4": {
      "model_module": "@jupyter-widgets/controls",
      "model_module_version": "1.4.0",
      "model_name": "ButtonModel",
      "state": {
       "button_style": "success",
       "description": "Start Scaler GUI",
       "layout": "IPY_MODEL_534663a9826b46a58dcb5dad573a822e",
       "style": "IPY_MODEL_09b76777dada47d2bdec3bfc52eb32c5",
       "tooltip": "Click me"
      }
     },
     "6e8fb2d5755647e1be756f8266c5d87e": {
      "buffers": [
       {
        "data": "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",
        "encoding": "base64",
        "path": [
         "value"
        ]
       }
      ],
      "model_module": "@jupyter-widgets/controls",
      "model_module_version": "1.4.0",
      "model_name": "ImageModel",
      "state": {
       "height": "35",
       "layout": "IPY_MODEL_7619f11c71484fcf8c5a351b2ee93181",
       "value": {},
       "width": "35"
      }
     },
     "6e99b70d328a411485732d7c3a0cb89d": {
      "model_module": "@jupyter-widgets/output",
      "model_module_version": "1.0.0",
      "model_name": "OutputModel",
      "state": {
       "layout": "IPY_MODEL_b21baf85e5fa4607a50cf604036b23b2"
      }
     },
     "6ebd247dcfd3471e9e6b23e840f7ace2": {
      "model_module": "@jupyter-widgets/output",
      "model_module_version": "1.0.0",
      "model_name": "OutputModel",
      "state": {
       "layout": "IPY_MODEL_10615b9f71174a33a168d7dd2e574384",
       "outputs": [
        {
         "data": {
          "application/javascript": "IPython.notebook.save_checkpoint();",
          "text/plain": "<IPython.core.display.Javascript object>"
         },
         "metadata": {},
         "output_type": "display_data"
        },
        {
         "data": {
          "application/javascript": "IPython.notebook.save_checkpoint();",
          "text/plain": "<IPython.core.display.Javascript object>"
         },
         "metadata": {},
         "output_type": "display_data"
        },
        {
         "data": {
          "application/javascript": "IPython.notebook.save_checkpoint();",
          "text/plain": "<IPython.core.display.Javascript object>"
         },
         "metadata": {},
         "output_type": "display_data"
        },
        {
         "data": {
          "application/javascript": "IPython.notebook.save_checkpoint();",
          "text/plain": "<IPython.core.display.Javascript object>"
         },
         "metadata": {},
         "output_type": "display_data"
        },
        {
         "data": {
          "application/javascript": "IPython.notebook.save_checkpoint();",
          "text/plain": "<IPython.core.display.Javascript object>"
         },
         "metadata": {},
         "output_type": "display_data"
        },
        {
         "data": {
          "application/javascript": "IPython.notebook.save_checkpoint();",
          "text/plain": "<IPython.core.display.Javascript object>"
         },
         "metadata": {},
         "output_type": "display_data"
        }
       ]
      }
     },
     "6ef61590e29442378782c3a71f969d51": {
      "model_module": "@jupyter-widgets/controls",
      "model_module_version": "1.4.0",
      "model_name": "TextModel",
      "state": {
       "layout": "IPY_MODEL_b511e0f8be34458aba6cf7caebc2168b",
       "placeholder": "Type the notebook's name without file format",
       "style": "IPY_MODEL_cc3c8ecf03da486eb4de3aee29d80626",
       "value": "work-notebook"
      }
     },
     "6f214abef7a54465a06bf2fd7b45d687": {
      "model_module": "@jupyter-widgets/base",
      "model_module_version": "1.1.0",
      "model_name": "LayoutModel",
      "state": {}
     },
     "6f54981614fc4a0982f93c4f2479d1a8": {
      "model_module": "@jupyter-widgets/base",
      "model_module_version": "1.1.0",
      "model_name": "LayoutModel",
      "state": {}
     },
     "6f64cfcd7dd045bab996fe8c93cc3887": {
      "model_module": "@jupyter-widgets/base",
      "model_module_version": "1.1.0",
      "model_name": "LayoutModel",
      "state": {
       "width": "300px"
      }
     },
     "6f93835dacf845468c0c19273d6493d0": {
      "buffers": [
       {
        "data": "AAAAAAAACEAAAAAAAAAiQAAAAAAAABhAAAAAAAAAIkAAAAAAAAAiQA==",
        "encoding": "base64",
        "path": [
         "_data",
         0,
         "y",
         "value"
        ]
       },
       {
        "data": "AAAAAAAACEAAAAAAAAAiQAAAAAAAABhAAAAAAAAAIkAAAAAAAAAiQA==",
        "encoding": "base64",
        "path": [
         "_data",
         1,
         "y",
         "value"
        ]
       }
      ],
      "model_module": "plotlywidget",
      "model_module_version": "0.8.0",
      "model_name": "FigureModel",
      "state": {
       "_config": {
        "plotlyServerURL": "https://plot.ly"
       },
       "_data": [
        {
         "mode": "lines+markers",
         "name": "line1",
         "type": "scatter",
         "uid": "a292c7af-b328-49e2-83a4-7a95c8835cd0",
         "x": [
          0,
          1,
          2,
          3,
          4
         ],
         "xaxis": "x",
         "y": {
          "dtype": "float64",
          "shape": [
           5
          ],
          "value": {}
         },
         "yaxis": "y"
        },
        {
         "mode": "lines+markers",
         "name": "line2",
         "type": "scatter",
         "uid": "8b3c0b15-3673-49c5-872b-a31484e2be59",
         "x": [
          0,
          1,
          2,
          3,
          4
         ],
         "xaxis": "x2",
         "y": {
          "dtype": "float64",
          "shape": [
           5
          ],
          "value": {}
         },
         "yaxis": "y2"
        }
       ],
       "_js2py_restyle": {},
       "_js2py_update": {},
       "_last_layout_edit_id": 8,
       "_last_trace_edit_id": 7,
       "_layout": {
        "autosize": true,
        "plot_bgcolor": "rgb(230, 230, 230)",
        "template": {},
        "title": {
         "text": "Scan"
        },
        "xaxis": {
         "anchor": "y",
         "domain": [
          0,
          1
         ]
        },
        "xaxis2": {
         "anchor": "y2",
         "domain": [
          0,
          1
         ]
        },
        "yaxis": {
         "anchor": "x",
         "domain": [
          0.575,
          1
         ]
        },
        "yaxis2": {
         "anchor": "x2",
         "domain": [
          0,
          0.425
         ]
        }
       },
       "_model_module_version": "0.8.0",
       "_py2js_animate": {},
       "_py2js_deleteTraces": {},
       "_py2js_moveTraces": {},
       "_py2js_removeLayoutProps": {},
       "_py2js_removeTraceProps": {},
       "_view_count": 0,
       "_view_module_version": "0.8.0"
      }
     },
     "6fd337a2dc2a473f8a26bd3d9a969ede": {
      "buffers": [
       {
        "data": "iVBORw0KGgoAAAANSUhEUgAAAgAAAAIACAQAAABecRxxAAAABGdBTUEAALGPC/xhBQAAACBjSFJNAAB6JgAAgIQAAPoAAACA6AAAdTAAAOpgAAA6mAAAF3CculE8AAAAAmJLR0QAAKqNIzIAAAAJcEhZcwAADdcAAA3XAUIom3gAAAAHdElNRQfjBQkRKA3X5BgmAAAVFUlEQVR42u3de5BX5X3H8ffZXQRFUZTLrlC5CMuC5RbTJJOMCabtTDq9BUw67R/tTEdNG2OayUynyaTNdJqYjI1mbAyKFRXRStPoJMYYooZOpmkmnda2NpUalYsXxIDAssLCXtjdX//YALsisJffOc9zzvN+nf+Uy3PO4fn+zj7n+Xx/IEmSJEmSJEmSJEmSJEmSJEmSJEmSJEmSJEmSJEmSJEmSJEmSJEmSJEmSJEmSJEmSJEmSJEmSJEmSJEmSJEmSJEmSJEmSJEmSJEmSJEmSJEmSJEmSJEmSJEmSJEmSJEmSJEmSJI1KFnoAksYpYypTOY8G+ujkIIepjfy3SiqjBi7gHSxjEbOZwkQayRigj24O8grPs5X/5cjZ/hALgFQ+F7CS97OSWUxnKhfQOGQm1+jlEO3sZxf/xQ/YSv/p/yALgFQul/BufpWVLKSFxjP+ymPs5jme5kn+h663/yUWAKk8zmMZH+JqlnHRiH/PPv6DLXyfl+gNPXxJY9fM7/Mwe6iN+niZu/kQU0/9IxtHPwpJAbRyDdeziilj+L0XsZRZ9PIGh4f/DwuAFL+MxVzLtSwZ84xtZD7z6eN1Dg3/z5LiltHKp/gDLh3nnzOTyxngpaElwAIgxS1jDp/hI0yvw591MfPo47nTvROQFJsWHuDNMSz8ne7YyvVMCn1SkkZiChvprOP0r1Hj31jlBgApfhN4hJ46T/8a3Tx6/JWgawBSrKZwL7+Xwxxt4gIa+FHo05N0Ohkt/GMOn/6DRz/P0AY+AUgxyriML3BNbot1GU3U2BL6NCWdKqON++jI6dN/8DjGT5kd+kQlvVXGEu7iQK7Tv0aNfVwb+lQlDdfACu5ib+7Tv8ZRHgt9spKGyljBnYVM/xr9vMrMptBnLOkXMlZwLR9mRiF/WwNTWelbACkODazkOtbQUtjf2M9LFgApBhnL+BPW0Fzg31mj3QIghZdxBR9ndaHTH2p0hz5xSRmLWM++Qpb+hi8D7g596lLqMuZyN/sLn/41Bngz9MlLqat33n80h32CpaDyyPuP/AmgM/TpSylrZFNuib+RFIC9oS+AlKqMi3gk2OSvUaOPnzaEvgpSkjJmcDu/HXQMA+ywAEjFy5jLLazhnKCj6OdFswBS0TIW8Bf8LpMDj6OPfw99KaTUZCxlfZD3/m9dAtw37q8akTQqGctYF2DX36lHF0/R5I8AUnEaWMF1fJhpoQcCHOX79IUehJSOjJXcMaav987jFeBztIFPAFIxGljBtaxmZuiBAHCYf2Fb6EFIqchYzrpIPv1rHOMZrgp9SaRUZPwyd/Lz4BP/+LGXW5kQ+qJIaQiV9z/d0cWTLAt9UaQ0hMv7v/3Rx7NcF/qiSKkImfc/9RhgNzfl9pVjkoYJmfd/u6ODtQV3HpSSNYFHAub9Tz16WM/c0BdFSsMUNgWf8kOPbtYyP/RFkVKQMZONUX36d3MbrdgAQMpdxhzujepn/25upc2dv1L+MhZyNx3BJ/3Q6X8LS9z6I+UvYwl3RfTe//j0D9t9SEpCxrLCvuB75A//Tn+pABkrWBvRnv/Bpb82H/6l/GWsZC2vB5/0J48e1tLq0p+Uv8FP/3im/wCd3M98X/xJ+ctYFtn07+BBWkNfFikFGUuiyvsP0M5DtIW+LFIKMhZyV0Qr/wMcYBOLQ18WKQUZc6LK+w/Q7vSXijKTeyPa9TdABw85/aVixJb37+RBf/aXitHIpqgSfz3c78q/VAzz/lKizPtLyTLvLyXLvL+ULPP+UrLM+0vJMu8vJcu8v5Qs8/5Sssz7S8ky7y8ly7y/lCzz/lLCzPtLyTLvLyXLvL+ULPP+UqLM+0vJMu8vJcu8v5Qs8/5Sssz7S8ky7y8ly7y/lCzz/lKyzPtLyTLvLyXLvL+ULPP+UsLM+0vJMu8vJcu8v5Qs8/5Sosz7S8ky7y8ly7y/lCzz/lKyzPtLyTLvLyXLvL+ULPP+UrLM+0vJMu8vJcu8v5Qs8/5Swsz7S8ky7y8ly7y/lCzz/lKizPtLyTLvLyXLvL+ULPP+UrLM+0vJMu8vJcu8v5Qs8/5Sssz7S8ky7y8ly7y/lCzz/lLCzPtLyTLvLyXLvL+ULPP+UqLM+0vJMu8vJcu8v5Qs8/5Sssz7S8ky7y8ly7y/lCzz/lKyzPtLyTLvLyXLvL+ULPP+UsLM+0vJMu8vJcu8v5Qs8/5Sosz7S8ky7y8ly7y/lCzz/lKyzPtLyTLvLyXLvL+ULPP+UrLM+0vJMu8vJcu8v5Qs8/5Swsz7S8ky7y8ly7y/lCzz/lKizPtLyTLvLyXLvL+ULPP+UrLM+0vJMu8vJcu8v5Qs8/5Sssz7S8ky7y8ly7y/lCzz/lLCzPtLyTLvLyXLvL+ULPP+UqLM+0vJMu8vJcu8v5Qs8/5Sssz7S8ky7y8ly7y/lCzz/lKyzPtLyTLvLyXLvL+ULPP+UsLM+0vJMu8vJcu8f8llo/rVFzGN85lAP520sz/04BVUxoWs5yOhhzFED3/PbbwcehhlMpI9UufzXt7DO2nlEiaQkVED+jjEDv6Tn/CvvMlA6BNRwTKa+Sq/E3oYQ/RwB+t4NfQwqqSJ97GWZ3mdgxylj4Fhj1v9dNPBHp7nHn6LC0MPVgXKmMcDHAn+yH/y6OIrLHLTb/2cz2/yDV6knb6zXPp+OtjJY/wRzaEHrUJktHFfRCv/Nbq42chP/UziV/g6Wzk8iltwhBfZyG9wQejBK2cZS1nPgeCTfvj0X+z0r5cZ/CFPsW8MN6KDn/AZFoQ+AeUoYxnreCP4pD95dHOr079+FvFXPEPvGG9GHzu4nXeHPgnlpIF3RLXnv0Y3X/Xhv14ylnMrO8d5S/byAB8whFlBDVzJuqimfw9fY4FLf/WylL/jtTrclnYe4YOWgIrJWBnVp/8AnWxgrv/O6uVyvsKuOt2cQzzGVaPcZqSYZSznjsjy/g+4669+pvI5dtTxBnXyXd5jCaiIjCsiC/y28w8sDH1ZqqOJj/LMWzb6jPfo4glWWAIqIGNRZNP/gIm/+mrlBzmEOnp5ioU0hj45jUvGXO6L6L3/YLcfH/7r6Bz+lj053a7NrtKWWkZzVLv+zPvn4Eqey/GWPc4CnwJK6yI2RbXn/zAb/dm/3u7kYK43bTMLXQsoJfP+Cbicl3O/cU+5HFg6GRfxcPApP/To5mvMDX1ZqufPac/91vXyhC8FSyVjJg9E9enfzW20uu2n3jJ+VMht7uK7XOXtK4mMeZH1+jPvn5O5vFHn9/+nOzp5zA3CpZCxkPURrfwPfsG3ib8cNPEuzivo0XwyqxigkX+2gVjUMhbzZ6yOqMdTD19nAzs4Fnog1dPEOwt8RXcBqxgAS0DEGljGn7KaS0IP5IQebmcDO+gNPZAqaqKt0Hf0F3I1kLHFEhCljGV8jNXMCD2QE3pYx73s9NM/L8+etedfvY+DfJtfcy0gQg1cGVXir0YPt9Pq0l+e9ha0BDj06ODbLgdGx7x/ko4EKAD2C4iPef9EjbX733gP+wXExLx/sjqDPAHUGOwXsNISEIGMhZFN/wN+wXdRXqc/2I0+xhb7BQSXMZe72R982jv9g3im8LcAw4/HWegqb1AtbIxo198AHTzoz/7FeSR44GOzTwEBTYlsz38nD9IW+qKk5Ca6gt/0x+0XEMgEHg7+ATD06OE+v1mqWB8a1TcA5nVscTkwgClsCn7nhx7drGV+6IuSmqmFpQHPdBxjM++2BBQooyWybj/dfJUFbvspWgPf4mjwm1+ji8d5v7e/IBlzuC+qXn/d3Eqby8FFa6TGZD7AeaEHQhOzaGYPr1ILPZTKy1jE57gmoq9y7+ZrbGAHfaEHkqIW/ptjwT8BatR4k0f5dZ8CcpaxhLsi6vM/2O5jie0+QmgEjjKbK5gceijARFqYxgFe9ikgNw0s5xOsZlrogZxwPO9v4DeARqDGPt5HcxTv4ifRwjTaeckSkIuM5XyMNZHl/dc7/UMZnPTtXMySSFpATaKF6ez3KSAHDbyD61hNc+iBnNDL3dzJTn/2D2WwAAywh1YuY2Lo4QDHS8AbvGIJqKuMFVzHGlpCD+QXahzln7iZl+gPPZR0HX/sP0g3CyP5MQAmMYtmdrEr9EAqJGMZ17M6oul/iEf5Mjss8yGdnPCvMIl5XBLJGvxEZjOLnewOPZCKyFjCJ7gmmof/Gh18jy+wLfRAUneyAPSznYnM58JI9uOdw2XMYyt7Qw+kAjJa+VRErT5rHOQJvsQLoQei4WbxRV4L2B/grUcvT5kUHLeMudwX0Xv/Adp5yMBvnGbxN+yJIBtw8thsv4Bxmsm9keX9H7LdR7wu5fO0R1cCfAoYK/P+GqVmPhtVTGSwBMSxMlE2jZEl/nq434f/+E3jxshKgP0CxsK8v8YkYwY3RPXgeIwnbCI+Khkz2RjVp383t9EayWtmnUUDM/l4VCXAfgGjkTGHe6O6f+b9o3S6xbUaXbzKbq6OJqTZxCxa2OMG4RHIWMBn+WhEef/BL/je7p7/2Jx+db1GFy/zc1bRFMmj9zlcygxjQmeVsZhPcw1TQw/khOPT38RfdM70eq3GUXbSyZVMiqQETKSF6YaFzyhjKTewhumhB3JCD2vZwHZ6Qw9Epzrb+/WjbKeXKzgvkhIwiWZLwBlkLOd61jAz9EBOGMz7++kfqbNvsOlkO7CA86MqAXYNejuxBX6hl3u4w15/8RrJDrvDbGMCc5kSTQloYQZ7XQ58i4zlUU3/Gkf5Jjez07x/vEa2xfYwLzKRyyIqAbNo5jVeDT2QiGQs5fqopv8hvsOX2G6ZjtlI99gfYhuTIioB9gsYLmMxN0Q1/TvYzE0GfmM38pDNIV5kInOiKQGD/QL+z34BDL73/3RES381DvIkN/F86IGovmZzE7si6hdwjC0mBcmYw93sD343jh8DtLPJwG812S8gPub9VSD7BcTFvL8KZr+AeJj3VwD2C4iDeX8FYb+A8Mz7KyD7BYRl3l91MdbFM/sFhGTeX3Uy9tVz+wWEYt5fdTOe12ex9gs4WOmwsHl/1dF435/H2C9gWoVLgHl/1dX4N9DE2C9gWkX7BZj3V53VYwed/QKKYd5fdVefLbSx9gvYVaESYN5fOajXHvoY+wXMZgevV+Sfp3l/5aJ+IZr4+gX8EvPYWol+Aeb9VQox9gtoLX1S0Ly/SsN+AfVn3l8lYr+A+jLvr5KJsV9AayQrE6Nl3l8lFGe/gPIlBc37q5Ri7RdQphJg3l8lFmO/gO+VqF+AeX8VIq/FsRj7BVxamn4B5v1VkPxWx+0XMFbm/VWYPF+P2S9gLMz7q0B5vx+3X8DomPdXofLfIGO/gJEz76+CFbFDzn4BI2PeX4UrZous/QLOzry/Aihqj7z9As7MvL+CKC4kY7+A0zPvryTYL+DtmPdXMuwXcCrz/kqI/QKGM++vxNgv4CTz/kqQ/QIGmfdXkuwXYN5fSUu9X4B5f0Uh1OJX2v0CzPsrEuFWv9PtF2DeX9EIuQkmzX4B5v0VkdC74FLrF2DeX1EJXQDS6hdg3l+RCV8A0ukXYN5f0YmhAKTRL8C8vyIURwGofr8A8/6KUiwFoNr9Asz7SyNQzX4B5v2lEapivwDz/tKIVa1fgHl/aVSq1C/AvL80alXpF2DeXxqDKvQLMO8vjVnZ+wWY91cpxLMPYLhy9wsw76+SiLUAlLlfgHl/lUa8BaCs/QLM+6tEYi4AUL5+Aeb9VSqxF4By9Qsw76+Sib8AlKdfgHl/lU4ZCkA5+gWY91cJlaMAxN8vwLy/SqksBSDufgHm/aUCxNkvoMm8v1SMGPsFLGeDeX+pGLP4aw5GVQL20hd8DCePw2xkYeibpLIozxrAcYd5gSO8N5qMAEyOKGHXyzf5MttCD0NlUb4CAJ08zx5WRVQCYtHDPdzM9tDDUHmUsQBAFy+zm1WcE3ogUelhHXewE9/7a8TKWQCgi1d4zRIwRA9rWc8Od/1pNMpaAOLrFxCWeX+NSVkLQIz9AsIx768xKm8BiLFfQBjm/TVmZS4AEF+/gOKZ99c4lL0AxNcvoFjm/TUu5S8A8fULKIp5f41bFQpAfP0CimDeX3VQjQIQX7+AvJn3V11UpQDE1y8gT+b9VSfVKQCDJeAcLq/8cmCNDp7ki/ws9EBUflUqAHCIF2hgMZMrXAJqHGIzNzn9VQ/VKgCDy4F9rKzw1qCjfMeHf9VL1QrAYAmIq19APfXyTb7k0p90JtO4kSPBe/PU/+hmLfNDX1xVSfWeAKCq/QLM+6vuqlkAqtgvwLy/clDVAlC1fgHm/ZWLqhaAavULMO+vnFS3AFSnX4B5f+WmygUAqtAvwLy/clT1AlD2fgHm/ZWr6heA8vYLMO+v3KVQAMrZL8C8vwqQRgEoX78A8/4qRCoFoFz9Asz7qyDpFIDy9Asw76/CpFQAytEvwLy/CpRWAShDvwDz/lKumvlstGHhHu6nNfQFkqot1n4B5v2lAmTM4AY6g0/4t07/22ilIfTFkaqvgZl8PKoS0M2ttNEU+sJIaWhgJjdE84NAN7ewpCK9C6RSaGAGN3KEgUimf3W6F6k0UnsNOFQs/QLM+yuYlAsAxNAvwLy/Akq9AITuF2DeX0FZAML1CzDvr+AsABCmX4B5f0XAAjCo6H4B5v0VBQvAcUX2CzDvr0hYAE4qql+AeX9FwwIwVBH9Asz7SxG7lM/TnuPuwE4epC30SUo6nTz7BZj3l6KXV78A8/5SCeTTL8C8v1QS9e8XYN5fKpH69gsw7y+VTAMz+CSH6/BGoJMvs9i8v1QuGdP4JK/RP67pv5+/ZIGf/lIZXcwf82OOjnn6/5Qbme2GK8XJf5hn08UL7Kaf6Uwe5Qr+4J6/O/gW+xkIfRrS27EAnF0f23iJfdSYMuLOQTUO8zTfYANb6Al9AtLpxPoFWfE5l3fxQd5JGy2ce8Zf2csbbOMZfsgPORJ62NKZWABGYxJX8H5WMo9pXMwUJg37v70c5iD72MWz/JinnfyKnwVg9C5kEUtZzGVMYyJNNNJPPz0cZBcvspWf8UboIUojYwEYu4xJTGcy59LNUQ5wxKU+SZIkSZIkSZIkSZIkSZIkSZIkSZIkSZIkSZIkSZIkSZIkSZIkSZIkSZIkSZIkSZIkSZIkSZIkSZIkSZIkSZIkSZIkSZIkSZIkSZIkSZIkSZIkSZIkSZIkSZIkSZIkSZIkSZIkSRX3/zPlCH7oX6f/AAAAJXRFWHRkYXRlOmNyZWF0ZQAyMDE5LTA1LTA5VDE1OjQwOjEzKzAyOjAwUFFtBAAAACV0RVh0ZGF0ZTptb2RpZnkAMjAxOS0wNS0wOVQxNTo0MDoxMyswMjowMCEM1bgAAAAZdEVYdFNvZnR3YXJlAHd3dy5pbmtzY2FwZS5vcmeb7jwaAAAAAElFTkSuQmCC",
        "encoding": "base64",
        "path": [
         "value"
        ]
       }
      ],
      "model_module": "@jupyter-widgets/controls",
      "model_module_version": "1.4.0",
      "model_name": "ImageModel",
      "state": {
       "height": "35",
       "layout": "IPY_MODEL_fc609d488d694c5a89dab173328d80a1",
       "value": {},
       "width": "35"
      }
     },
     "6ff50dd8a9b8406a9e09f129b7f0baaa": {
      "model_module": "@jupyter-widgets/controls",
      "model_module_version": "1.4.0",
      "model_name": "TextModel",
      "state": {
       "layout": "IPY_MODEL_487ddcac423c4b1aa3d1ce64a7b75443",
       "placeholder": "Type the notebook's name without file format",
       "style": "IPY_MODEL_13ad43fa911f4bb5816fc8a434213ad4"
      }
     },
     "6ff531fee8ce451d9f74d0154580aad5": {
      "model_module": "@jupyter-widgets/controls",
      "model_module_version": "1.4.0",
      "model_name": "ButtonModel",
      "state": {
       "button_style": "warning",
       "description": "Export Notebook to Latex",
       "layout": "IPY_MODEL_07a4bdf14c664ce18c11d6a6cbeaf824",
       "style": "IPY_MODEL_76f08909c05047fa99d683f56b96e250",
       "tooltip": "Click me"
      }
     },
     "70c734301bc3438db8688e4ee227f2cc": {
      "model_module": "@jupyter-widgets/base",
      "model_module_version": "1.1.0",
      "model_name": "LayoutModel",
      "state": {
       "width": "300px"
      }
     },
     "70ca7e3ea9ea4ea7bcaeae9b4e4d6fca": {
      "model_module": "@jupyter-widgets/controls",
      "model_module_version": "1.4.0",
      "model_name": "BoxModel",
      "state": {
       "children": [
        "IPY_MODEL_7b8b4b38dd8b487b8aaa4acb19f70644"
       ],
       "layout": "IPY_MODEL_d2cfc65a366f484ea48fd78e33f6b0ae"
      }
     },
     "70fe85b3869340adb5fef855cc4035bc": {
      "model_module": "@jupyter-widgets/base",
      "model_module_version": "1.1.0",
      "model_name": "LayoutModel",
      "state": {
       "width": "300px"
      }
     },
     "7118ffa9ec224deeaf64c14e4a97cfe1": {
      "model_module": "@jupyter-widgets/controls",
      "model_module_version": "1.4.0",
      "model_name": "LabelModel",
      "state": {
       "layout": "IPY_MODEL_ed196870a11942a391755f6ec4a09d8a",
       "style": "IPY_MODEL_b2a5ba52938044ada7efd045b4bfa6b6",
       "value": "Notebook's name: "
      }
     },
     "715298c3fbc54244b8d594ef8c70d309": {
      "model_module": "@jupyter-widgets/controls",
      "model_module_version": "1.4.0",
      "model_name": "TextModel",
      "state": {
       "layout": "IPY_MODEL_882a01321736448fb010754c07ad0175",
       "placeholder": "Type the notebook's name without file format",
       "style": "IPY_MODEL_a1dc6782146448db91c015fcac48718a"
      }
     },
     "7172717beb26434696597f3c80c6d3f7": {
      "model_module": "@jupyter-widgets/controls",
      "model_module_version": "1.4.0",
      "model_name": "ButtonModel",
      "state": {
       "button_style": "success",
       "description": "Start Scaler GUI",
       "layout": "IPY_MODEL_78fbd0f750b24b14860000d50dc84b22",
       "style": "IPY_MODEL_e13fa6645ef747d9a672d4c85a3025d5",
       "tooltip": "Click me"
      }
     },
     "71b3af98bcc14a7696e733b7882d5b58": {
      "model_module": "@jupyter-widgets/controls",
      "model_module_version": "1.4.0",
      "model_name": "ButtonModel",
      "state": {
       "button_style": "success",
       "description": "Start PV Monitoring",
       "layout": "IPY_MODEL_815bfc96c9d148a4902e035ecc97890e",
       "style": "IPY_MODEL_10a31a8230054201a55b573919d072c5",
       "tooltip": "Click me"
      }
     },
     "726617a1a7bc49448759138f78d50390": {
      "model_module": "@jupyter-widgets/base",
      "model_module_version": "1.1.0",
      "model_name": "LayoutModel",
      "state": {}
     },
     "727df9b672f644728f2c46c142a1533a": {
      "model_module": "@jupyter-widgets/base",
      "model_module_version": "1.1.0",
      "model_name": "LayoutModel",
      "state": {}
     },
     "7290b8c15e3545f9a612f8e3aacbb509": {
      "model_module": "@jupyter-widgets/controls",
      "model_module_version": "1.4.0",
      "model_name": "DescriptionStyleModel",
      "state": {
       "description_width": "initial"
      }
     },
     "73472c0ef70a4273a57fe66413d7d13c": {
      "model_module": "@jupyter-widgets/output",
      "model_module_version": "1.0.0",
      "model_name": "OutputModel",
      "state": {
       "layout": "IPY_MODEL_8370e0586d9b48c6a01e777878198721"
      }
     },
     "73aaaf700ca743d780e748a5416a68f8": {
      "model_module": "@jupyter-widgets/output",
      "model_module_version": "1.0.0",
      "model_name": "OutputModel",
      "state": {
       "layout": "IPY_MODEL_80e9952d6a3447a58a5f1431aafe115c"
      }
     },
     "743ecc78a54e435db2a3c9dc1ce164b1": {
      "model_module": "@jupyter-widgets/controls",
      "model_module_version": "1.4.0",
      "model_name": "DropdownModel",
      "state": {
       "_options_labels": [
        "Plot after ends with PyQt",
        "Plot after ends with Plotly",
        "Live Plot"
       ],
       "disabled": true,
       "index": 1,
       "layout": "IPY_MODEL_1ac483f39a304d248fbe2bc7a8c0ffff",
       "style": "IPY_MODEL_ce5e13e0e1a34aaf917003203b635e29"
      }
     },
     "7449f99ed2e14aa2b77203aeebeafd3b": {
      "model_module": "@jupyter-widgets/output",
      "model_module_version": "1.0.0",
      "model_name": "OutputModel",
      "state": {
       "layout": "IPY_MODEL_c7566f5d024047aebd89a6e8479c07b0"
      }
     },
     "74704aee4959469ca996f75c27eb316d": {
      "model_module": "@jupyter-widgets/controls",
      "model_module_version": "1.4.0",
      "model_name": "ButtonModel",
      "state": {
       "button_style": "warning",
       "description": "Export Notebook to Latex",
       "layout": "IPY_MODEL_a277a32b04e64d96a36a07c235734a0e",
       "style": "IPY_MODEL_677f9f01801b45bc9300c4d78e54668d",
       "tooltip": "Click me"
      }
     },
     "7504c3be5b1c48de93efb0190868d2a9": {
      "model_module": "@jupyter-widgets/controls",
      "model_module_version": "1.4.0",
      "model_name": "ButtonStyleModel",
      "state": {}
     },
     "75a60bdcacad49c7a8ce64677d884633": {
      "model_module": "@jupyter-widgets/base",
      "model_module_version": "1.1.0",
      "model_name": "LayoutModel",
      "state": {}
     },
     "75cef5f753be4bf9bd95cbac774ee0e2": {
      "model_module": "@jupyter-widgets/controls",
      "model_module_version": "1.4.0",
      "model_name": "ButtonModel",
      "state": {
       "button_style": "warning",
       "description": "Export Notebook to HTML",
       "layout": "IPY_MODEL_50b32b0b1ade441ea509b8a8721d2fad",
       "style": "IPY_MODEL_527b3cc77e1e42e29ddc4f1b8e6e9ce3",
       "tooltip": "Click me"
      }
     },
     "7619f11c71484fcf8c5a351b2ee93181": {
      "model_module": "@jupyter-widgets/base",
      "model_module_version": "1.1.0",
      "model_name": "LayoutModel",
      "state": {}
     },
     "769f630151d64e34bc9d50b566ff2441": {
      "model_module": "@jupyter-widgets/controls",
      "model_module_version": "1.4.0",
      "model_name": "ButtonModel",
      "state": {
       "button_style": "danger",
       "description": "Stop Scanning Plot",
       "layout": "IPY_MODEL_11707bf27d2e4a2cbec5684420c4ebc3",
       "style": "IPY_MODEL_bb0fa72bf8da4a34b3d0f08f8dd84f59",
       "tooltip": "Click me"
      }
     },
     "76f08909c05047fa99d683f56b96e250": {
      "model_module": "@jupyter-widgets/controls",
      "model_module_version": "1.4.0",
      "model_name": "ButtonStyleModel",
      "state": {}
     },
     "772d1aa888984e72ac380d8f127e5e48": {
      "model_module": "@jupyter-widgets/controls",
      "model_module_version": "1.4.0",
      "model_name": "TextModel",
      "state": {
       "layout": "IPY_MODEL_4a87e6f14d8b4d4ba47f2ac381426ee5",
       "placeholder": "Type the notebook's name without file format",
       "style": "IPY_MODEL_d719760ab6c341f98ac2b4a803d53c19"
      }
     },
     "773b4b5b3d5247b4a92b0fd7de1427b6": {
      "model_module": "@jupyter-widgets/base",
      "model_module_version": "1.1.0",
      "model_name": "LayoutModel",
      "state": {
       "width": "300px"
      }
     },
     "77575c99c8cb4366bea80bd27fbb5741": {
      "buffers": [
       {
        "data": "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",
        "encoding": "base64",
        "path": [
         "value"
        ]
       }
      ],
      "model_module": "@jupyter-widgets/controls",
      "model_module_version": "1.4.0",
      "model_name": "ImageModel",
      "state": {
       "height": "35",
       "layout": "IPY_MODEL_b86c3757fa8a4e9d9ac6aaeb1aa558f2",
       "value": {},
       "width": "35"
      }
     },
     "77b9c80395d7425fae4255a108ee9b01": {
      "model_module": "@jupyter-widgets/base",
      "model_module_version": "1.1.0",
      "model_name": "LayoutModel",
      "state": {}
     },
     "77e9ce51eb934bdf899dfb5eac9a5c71": {
      "model_module": "@jupyter-widgets/output",
      "model_module_version": "1.0.0",
      "model_name": "OutputModel",
      "state": {
       "layout": "IPY_MODEL_0bd7be9283024611b8aefff115a4e901"
      }
     },
     "787922efe8eb42a2ae173e200bebbc00": {
      "model_module": "@jupyter-widgets/base",
      "model_module_version": "1.1.0",
      "model_name": "LayoutModel",
      "state": {}
     },
     "78aa046e79424d94b1ac87c749d4b6af": {
      "model_module": "@jupyter-widgets/base",
      "model_module_version": "1.1.0",
      "model_name": "LayoutModel",
      "state": {}
     },
     "78c08cdc2557484583648a2c6afde1ee": {
      "model_module": "@jupyter-widgets/controls",
      "model_module_version": "1.4.0",
      "model_name": "DescriptionStyleModel",
      "state": {
       "description_width": "initial"
      }
     },
     "78c87ae67d1741eaae17135e8c09c6df": {
      "model_module": "@jupyter-widgets/output",
      "model_module_version": "1.0.0",
      "model_name": "OutputModel",
      "state": {
       "layout": "IPY_MODEL_805e7defefca4cc2ad216225b56573fe"
      }
     },
     "78efc17085e141d9ae491e99deb0a5d5": {
      "model_module": "@jupyter-widgets/controls",
      "model_module_version": "1.4.0",
      "model_name": "TextModel",
      "state": {
       "layout": "IPY_MODEL_b85cf9cd04c547f88d6d74100a7b00c4",
       "placeholder": "Type the notebook's name without file format",
       "style": "IPY_MODEL_9fc1dc4a48cf4954aa9e87749672df61"
      }
     },
     "78fbd0f750b24b14860000d50dc84b22": {
      "model_module": "@jupyter-widgets/base",
      "model_module_version": "1.1.0",
      "model_name": "LayoutModel",
      "state": {
       "width": "300px"
      }
     },
     "7a4aa16e210144ffba375a4a7b98604d": {
      "model_module": "@jupyter-widgets/controls",
      "model_module_version": "1.4.0",
      "model_name": "CheckboxModel",
      "state": {
       "description": "Print log in Notebook's cells",
       "disabled": false,
       "layout": "IPY_MODEL_b871de4b6e4b4d37a93da11143e41553",
       "style": "IPY_MODEL_e8052ec73ae94fac9b2c877781673b0d",
       "value": false
      }
     },
     "7aa6f20c0872469a943f9b46ee45d014": {
      "model_module": "@jupyter-widgets/base",
      "model_module_version": "1.1.0",
      "model_name": "LayoutModel",
      "state": {}
     },
     "7b3ecd6f5fa54ac68383ffecd3e40670": {
      "model_module": "@jupyter-widgets/base",
      "model_module_version": "1.1.0",
      "model_name": "LayoutModel",
      "state": {}
     },
     "7b57353021d24c2092ba0588feec7a9d": {
      "model_module": "@jupyter-widgets/controls",
      "model_module_version": "1.4.0",
      "model_name": "LabelModel",
      "state": {
       "layout": "IPY_MODEL_ef05f2885e2e41ad820a80cc4f8393da",
       "style": "IPY_MODEL_c19c2015cb784e77a7be5447c9913a81",
       "value": "Notebook's name: "
      }
     },
     "7b7c87acdbae411daa91f94811a15eda": {
      "model_module": "@jupyter-widgets/base",
      "model_module_version": "1.1.0",
      "model_name": "LayoutModel",
      "state": {}
     },
     "7b7f93322db043748a1a85abb7c390d1": {
      "model_module": "@jupyter-widgets/base",
      "model_module_version": "1.1.0",
      "model_name": "LayoutModel",
      "state": {}
     },
     "7b8b4b38dd8b487b8aaa4acb19f70644": {
      "buffers": [
       {
        "data": "AAAAAAAAEEAAAAAAAAAcQAAAAAAAAAhAAAAAAAAACEAAAAAAAAAYQA==",
        "encoding": "base64",
        "path": [
         "_data",
         0,
         "y",
         "value"
        ]
       },
       {
        "data": "AAAAAAAAGEAAAAAAAAAgQAAAAAAAABxAAAAAAAAAEEAAAAAAAAAYQA==",
        "encoding": "base64",
        "path": [
         "_data",
         1,
         "y",
         "value"
        ]
       },
       {
        "data": "AAAAAAAAEEAAAAAAAAAcQAAAAAAAAAhAAAAAAAAACEAAAAAAAAAYQA==",
        "encoding": "base64",
        "path": [
         "_data",
         2,
         "y",
         "value"
        ]
       },
       {
        "data": "AAAAAAAAGEAAAAAAAAAgQAAAAAAAABxAAAAAAAAAEEAAAAAAAAAYQA==",
        "encoding": "base64",
        "path": [
         "_data",
         3,
         "y",
         "value"
        ]
       }
      ],
      "model_module": "plotlywidget",
      "model_module_version": "0.8.0",
      "model_name": "FigureModel",
      "state": {
       "_config": {
        "plotlyServerURL": "https://plot.ly"
       },
       "_data": [
        {
         "mode": "lines+markers",
         "name": "line1",
         "type": "scatter",
         "uid": "487186a6-2dfb-4c83-817e-afe25b1e922b",
         "x": [
          0,
          1,
          2,
          3,
          4
         ],
         "xaxis": "x",
         "y": {
          "dtype": "float64",
          "shape": [
           5
          ],
          "value": {}
         },
         "yaxis": "y"
        },
        {
         "mode": "lines+markers",
         "name": "line1",
         "type": "scatter",
         "uid": "ae8edc95-8df5-4750-a1c4-8a274751a132",
         "x": [
          0,
          1,
          2,
          3,
          4
         ],
         "xaxis": "x",
         "y": {
          "dtype": "float64",
          "shape": [
           5
          ],
          "value": {}
         },
         "yaxis": "y"
        },
        {
         "mode": "lines+markers",
         "name": "line2",
         "type": "scatter",
         "uid": "27d3ed0b-34b0-4100-8513-4859e59dbd55",
         "x": [
          0,
          1,
          2,
          3,
          4
         ],
         "xaxis": "x2",
         "y": {
          "dtype": "float64",
          "shape": [
           5
          ],
          "value": {}
         },
         "yaxis": "y2"
        },
        {
         "mode": "lines+markers",
         "name": "line2",
         "type": "scatter",
         "uid": "f2f0fc9b-1154-4fad-a621-465758fe7ab7",
         "x": [
          0,
          1,
          2,
          3,
          4
         ],
         "xaxis": "x2",
         "y": {
          "dtype": "float64",
          "shape": [
           5
          ],
          "value": {}
         },
         "yaxis": "y2"
        }
       ],
       "_js2py_pointsCallback": {
        "device_state": {
         "alt": false,
         "button": 0,
         "buttons": 0,
         "ctrl": false,
         "meta": false,
         "shift": false
        },
        "event_type": "plotly_unhover",
        "points": {
         "point_indexes": [
          3,
          3
         ],
         "trace_indexes": [
          2,
          3
         ],
         "xs": [
          3,
          3
         ],
         "ys": [
          3,
          4
         ]
        },
        "selector": null
       },
       "_js2py_restyle": {},
       "_js2py_update": {},
       "_last_layout_edit_id": 14,
       "_last_trace_edit_id": 13,
       "_layout": {
        "autosize": true,
        "plot_bgcolor": "rgb(230, 230, 230)",
        "template": {},
        "title": {
         "text": "Scan"
        },
        "xaxis": {
         "anchor": "y",
         "domain": [
          0,
          1
         ]
        },
        "xaxis2": {
         "anchor": "y2",
         "domain": [
          0,
          1
         ]
        },
        "yaxis": {
         "anchor": "x",
         "domain": [
          0.575,
          1
         ]
        },
        "yaxis2": {
         "anchor": "x2",
         "domain": [
          0,
          0.425
         ]
        }
       },
       "_model_module_version": "0.8.0",
       "_py2js_animate": {},
       "_py2js_deleteTraces": {},
       "_py2js_moveTraces": {},
       "_py2js_removeLayoutProps": {},
       "_py2js_removeTraceProps": {},
       "_view_count": 0,
       "_view_module_version": "0.8.0"
      }
     },
     "7bca8414dfa24c93b5f52e748246a5af": {
      "model_module": "plotlywidget",
      "model_module_version": "0.8.0",
      "model_name": "FigureModel",
      "state": {
       "_config": {
        "plotlyServerURL": "https://plot.ly"
       },
       "_js2py_layoutDelta": {},
       "_js2py_pointsCallback": {},
       "_js2py_relayout": {},
       "_js2py_restyle": {},
       "_js2py_traceDeltas": {},
       "_js2py_update": {},
       "_layout": {
        "template": {}
       },
       "_model_module_version": "0.8.0",
       "_py2js_addTraces": {},
       "_py2js_animate": {},
       "_py2js_deleteTraces": {},
       "_py2js_moveTraces": {},
       "_py2js_removeLayoutProps": {},
       "_py2js_removeTraceProps": {},
       "_py2js_restyle": {},
       "_py2js_update": {},
       "_view_count": 0,
       "_view_module_version": "0.8.0"
      }
     },
     "7cbe5dbdcb6d4d1d8b2ee8b91440f6a2": {
      "model_module": "@jupyter-widgets/controls",
      "model_module_version": "1.4.0",
      "model_name": "ButtonModel",
      "state": {
       "button_style": "success",
       "description": "Start Scaler GUI",
       "layout": "IPY_MODEL_0682720178cf44f2903729cad9272241",
       "style": "IPY_MODEL_c02ec37136c34fe7aac6b6ae323e4a51",
       "tooltip": "Click me"
      }
     },
     "7ce39c2cd67d4d0789643bcce67aa628": {
      "model_module": "@jupyter-widgets/base",
      "model_module_version": "1.1.0",
      "model_name": "LayoutModel",
      "state": {}
     },
     "7cfd024af8824057afb1002b1c90d75c": {
      "model_module": "@jupyter-widgets/controls",
      "model_module_version": "1.4.0",
      "model_name": "ButtonStyleModel",
      "state": {}
     },
     "7d8a8a1ad0174e9eb4d371d4f9c0395f": {
      "model_module": "@jupyter-widgets/base",
      "model_module_version": "1.1.0",
      "model_name": "LayoutModel",
      "state": {}
     },
     "7e7a7170eec3446c9842d87bb8318260": {
      "model_module": "@jupyter-widgets/base",
      "model_module_version": "1.1.0",
      "model_name": "LayoutModel",
      "state": {
       "width": "300px"
      }
     },
     "7e957def1a35443fa97dbb152f6f6ddb": {
      "model_module": "@jupyter-widgets/controls",
      "model_module_version": "1.4.0",
      "model_name": "ButtonModel",
      "state": {
       "button_style": "success",
       "description": "Start Motor Initializaton",
       "layout": "IPY_MODEL_a457bc414f1c4734aac196f8a64b6322",
       "style": "IPY_MODEL_55959d4ed4f54f7782fb20b3130441fd",
       "tooltip": "Click me"
      }
     },
     "7f10cbe04d4c424c873fcc8418819991": {
      "model_module": "@jupyter-widgets/controls",
      "model_module_version": "1.4.0",
      "model_name": "ButtonModel",
      "state": {
       "button_style": "warning",
       "description": "Export Notebook to HTML",
       "layout": "IPY_MODEL_2d448a1df17a450992a896032f267676",
       "style": "IPY_MODEL_2ac5fc540bbf4720857d5872803c458d",
       "tooltip": "Click me"
      }
     },
     "7ffa54139e6042df81a1df06f20d5bb9": {
      "model_module": "@jupyter-widgets/base",
      "model_module_version": "1.1.0",
      "model_name": "LayoutModel",
      "state": {
       "width": "300px"
      }
     },
     "7ffeaba54833496196c54b61ba1ff236": {
      "model_module": "@jupyter-widgets/base",
      "model_module_version": "1.1.0",
      "model_name": "LayoutModel",
      "state": {}
     },
     "80508da722dd4d9791afe1873c7220b6": {
      "model_module": "@jupyter-widgets/controls",
      "model_module_version": "1.4.0",
      "model_name": "DescriptionStyleModel",
      "state": {
       "description_width": ""
      }
     },
     "805e7defefca4cc2ad216225b56573fe": {
      "model_module": "@jupyter-widgets/base",
      "model_module_version": "1.1.0",
      "model_name": "LayoutModel",
      "state": {}
     },
     "80714a9910324bdfb030a06b36138729": {
      "model_module": "@jupyter-widgets/output",
      "model_module_version": "1.0.0",
      "model_name": "OutputModel",
      "state": {
       "layout": "IPY_MODEL_25f148c71e42401a99fe474525218812",
       "outputs": [
        {
         "data": {
          "application/javascript": "IPython.notebook.save_checkpoint();",
          "text/plain": "<IPython.core.display.Javascript object>"
         },
         "metadata": {},
         "output_type": "display_data"
        },
        {
         "name": "stderr",
         "output_type": "stream",
         "text": "Exception in thread Thread-7:\nTraceback (most recent call last):\n  File \"/usr/lib/python3.5/threading.py\", line 914, in _bootstrap_inner\n    self.run()\n  File \"/usr/lib/python3.5/threading.py\", line 862, in run\n    self._target(*self._args, **self._kwargs)\n  File \"/home/gabriel.andrade/work/jupy4syn/lib/MonitorScanSave.py\", line 527, in export_image_thread\n    self.load_image_file(self.scan_names[-1] + \".png\")\n  File \"/home/gabriel.andrade/work/jupy4syn/lib/MonitorScanSave.py\", line 543, in load_image_file\n    img = IPython.display.Image(filename=filename)\n  File \"/usr/local/lib/python3.5/dist-packages/IPython/core/display.py\", line 1186, in __init__\n    metadata=metadata)\n  File \"/usr/local/lib/python3.5/dist-packages/IPython/core/display.py\", line 615, in __init__\n    self.reload()\n  File \"/usr/local/lib/python3.5/dist-packages/IPython/core/display.py\", line 1217, in reload\n    super(Image,self).reload()\n  File \"/usr/local/lib/python3.5/dist-packages/IPython/core/display.py\", line 640, in reload\n    with open(self.filename, self._read_flags) as f:\nFileNotFoundError: [Errno 2] No such file or directory: '/home/gabriel.andrade/work/jupy4syn/scans/plot_0114.png'\n\n"
        },
        {
         "data": {
          "application/javascript": "IPython.notebook.save_checkpoint();",
          "text/plain": "<IPython.core.display.Javascript object>"
         },
         "metadata": {},
         "output_type": "display_data"
        }
       ]
      }
     },
     "80d3aa71015943dfaad0ac243f5521d9": {
      "model_module": "@jupyter-widgets/controls",
      "model_module_version": "1.4.0",
      "model_name": "BoxModel",
      "state": {
       "children": [
        "IPY_MODEL_8e206f6c62c84b2c993e0f8cef526a6d"
       ],
       "layout": "IPY_MODEL_3ff3e700f1054baea8724720f0aa09b1"
      }
     },
     "80e9952d6a3447a58a5f1431aafe115c": {
      "model_module": "@jupyter-widgets/base",
      "model_module_version": "1.1.0",
      "model_name": "LayoutModel",
      "state": {}
     },
     "8105fe206bf64b58a5a4470be457202b": {
      "model_module": "@jupyter-widgets/controls",
      "model_module_version": "1.4.0",
      "model_name": "DescriptionStyleModel",
      "state": {
       "description_width": ""
      }
     },
     "810ce6b490514a519e991a1b49adc5b7": {
      "model_module": "@jupyter-widgets/controls",
      "model_module_version": "1.4.0",
      "model_name": "ButtonModel",
      "state": {
       "button_style": "success",
       "description": "Start PV Monitoring",
       "layout": "IPY_MODEL_7e7a7170eec3446c9842d87bb8318260",
       "style": "IPY_MODEL_003a0e555908478a9a0fa7a9cc3e3abe",
       "tooltip": "Click me"
      }
     },
     "810ecaa13ab14991b08000d3c2906f3c": {
      "model_module": "@jupyter-widgets/output",
      "model_module_version": "1.0.0",
      "model_name": "OutputModel",
      "state": {
       "layout": "IPY_MODEL_78aa046e79424d94b1ac87c749d4b6af"
      }
     },
     "815bfc96c9d148a4902e035ecc97890e": {
      "model_module": "@jupyter-widgets/base",
      "model_module_version": "1.1.0",
      "model_name": "LayoutModel",
      "state": {
       "width": "300px"
      }
     },
     "81a537a94ad4456ea62e2a5703135946": {
      "model_module": "@jupyter-widgets/controls",
      "model_module_version": "1.4.0",
      "model_name": "CheckboxModel",
      "state": {
       "description": "Plot with PyQtGraph after scan ends: ",
       "disabled": false,
       "layout": "IPY_MODEL_a18039eb61e34d84a43358b49714f55d",
       "style": "IPY_MODEL_cac3aa375763435a99a906c427524bd5",
       "value": true
      }
     },
     "81bad19a64b94dc581d9feb2d5eaf6d6": {
      "model_module": "@jupyter-widgets/base",
      "model_module_version": "1.1.0",
      "model_name": "LayoutModel",
      "state": {}
     },
     "8220aef38bc44c1fb9002f157b6437c5": {
      "model_module": "@jupyter-widgets/base",
      "model_module_version": "1.1.0",
      "model_name": "LayoutModel",
      "state": {}
     },
     "8246694d15eb4eb8a379872513415bd1": {
      "model_module": "@jupyter-widgets/base",
      "model_module_version": "1.1.0",
      "model_name": "LayoutModel",
      "state": {}
     },
     "827d24f845ab4f36b8152c3ee244e87e": {
      "model_module": "@jupyter-widgets/output",
      "model_module_version": "1.0.0",
      "model_name": "OutputModel",
      "state": {
       "layout": "IPY_MODEL_e62176edd4fe4b5c8a3822e34bb16090"
      }
     },
     "8288a7bbf7584a0d9adf05ebf4d629a7": {
      "model_module": "@jupyter-widgets/controls",
      "model_module_version": "1.4.0",
      "model_name": "ButtonModel",
      "state": {
       "button_style": "danger",
       "description": "Stop Scanning Plot",
       "layout": "IPY_MODEL_caac78defa964da685137afffb8a2f58",
       "style": "IPY_MODEL_3c6e8c49e6e94a6c867189fc5ef03038",
       "tooltip": "Click me"
      }
     },
     "82c50d9ef04a40d38791865c67a518d6": {
      "model_module": "@jupyter-widgets/controls",
      "model_module_version": "1.4.0",
      "model_name": "DescriptionStyleModel",
      "state": {
       "description_width": "initial"
      }
     },
     "82ef85f5b99b4824beb2c42c2057b063": {
      "model_module": "@jupyter-widgets/controls",
      "model_module_version": "1.4.0",
      "model_name": "DescriptionStyleModel",
      "state": {
       "description_width": ""
      }
     },
     "82fb02dbb34244aa83fbdaa7121ecbfc": {
      "model_module": "@jupyter-widgets/controls",
      "model_module_version": "1.4.0",
      "model_name": "CheckboxModel",
      "state": {
       "description": "Print log in Notebook's cells",
       "disabled": false,
       "layout": "IPY_MODEL_92c32a30aece4bf78bbb3982bd871dc2",
       "style": "IPY_MODEL_665159df8f1941c79b970394e6bb0b11",
       "value": false
      }
     },
     "834566963dc341ee815ac5f3982c0827": {
      "model_module": "@jupyter-widgets/output",
      "model_module_version": "1.0.0",
      "model_name": "OutputModel",
      "state": {
       "layout": "IPY_MODEL_046604bef15a4a15adb77c6368224718"
      }
     },
     "8370e0586d9b48c6a01e777878198721": {
      "model_module": "@jupyter-widgets/base",
      "model_module_version": "1.1.0",
      "model_name": "LayoutModel",
      "state": {}
     },
     "83858a42a8f54ff4a114e7c3fc80730f": {
      "model_module": "@jupyter-widgets/base",
      "model_module_version": "1.1.0",
      "model_name": "LayoutModel",
      "state": {}
     },
     "839d91afa48048d8aa730c7fa4db0f74": {
      "model_module": "@jupyter-widgets/base",
      "model_module_version": "1.1.0",
      "model_name": "LayoutModel",
      "state": {}
     },
     "83a218ed69a54ff9a2705bb430e3c9a8": {
      "model_module": "@jupyter-widgets/base",
      "model_module_version": "1.1.0",
      "model_name": "LayoutModel",
      "state": {
       "width": "300px"
      }
     },
     "83c70bc15f054490adbb2466a95f7dec": {
      "model_module": "@jupyter-widgets/controls",
      "model_module_version": "1.4.0",
      "model_name": "DescriptionStyleModel",
      "state": {
       "description_width": ""
      }
     },
     "83dec35531cc413fb1da0371548e6452": {
      "model_module": "@jupyter-widgets/base",
      "model_module_version": "1.1.0",
      "model_name": "LayoutModel",
      "state": {}
     },
     "83e0537fb99842748ab201c46255cb08": {
      "model_module": "@jupyter-widgets/base",
      "model_module_version": "1.1.0",
      "model_name": "LayoutModel",
      "state": {}
     },
     "840977f8499148299afecc40eff1f3c1": {
      "model_module": "@jupyter-widgets/base",
      "model_module_version": "1.1.0",
      "model_name": "LayoutModel",
      "state": {}
     },
     "8449c120ff8c4cfa80d503a02b82401a": {
      "model_module": "@jupyter-widgets/controls",
      "model_module_version": "1.4.0",
      "model_name": "BoxModel",
      "state": {
       "layout": "IPY_MODEL_ebb8b6def16f42159a7dad5acf93f19f"
      }
     },
     "8458ed124f504acfb658f7ea3aab8abc": {
      "model_module": "@jupyter-widgets/base",
      "model_module_version": "1.1.0",
      "model_name": "LayoutModel",
      "state": {}
     },
     "848e502cc13e4455a826d8e1d45e32b6": {
      "model_module": "@jupyter-widgets/base",
      "model_module_version": "1.1.0",
      "model_name": "LayoutModel",
      "state": {}
     },
     "859ad96fd5854b05a7674543151819e5": {
      "model_module": "@jupyter-widgets/base",
      "model_module_version": "1.1.0",
      "model_name": "LayoutModel",
      "state": {}
     },
     "861ed17dabb3421f96d18205e5c15875": {
      "model_module": "@jupyter-widgets/controls",
      "model_module_version": "1.4.0",
      "model_name": "HBoxModel",
      "state": {
       "children": [
        "IPY_MODEL_96e043b0dbf3428487b0003398114b7d",
        "IPY_MODEL_e40efca45fe14196abdaa0690737f0a7"
       ],
       "layout": "IPY_MODEL_8f4ec9bd8f3c4c5685ffd42a1aecd9c2"
      }
     },
     "86933fb172904035a46a5de48f7389c6": {
      "model_module": "@jupyter-widgets/base",
      "model_module_version": "1.1.0",
      "model_name": "LayoutModel",
      "state": {}
     },
     "869d91fa6f644326ae2079a49a405076": {
      "model_module": "@jupyter-widgets/base",
      "model_module_version": "1.1.0",
      "model_name": "LayoutModel",
      "state": {}
     },
     "86dde96ad9304fbb8b236063d00dc5b9": {
      "model_module": "@jupyter-widgets/controls",
      "model_module_version": "1.4.0",
      "model_name": "ButtonModel",
      "state": {
       "button_style": "success",
       "description": "Start Scaler GUI",
       "layout": "IPY_MODEL_3820d2c8157e45648e989ca29272f568",
       "style": "IPY_MODEL_27b617a41bb74252a1e8b40b97f06186",
       "tooltip": "Click me"
      }
     },
     "873e8101691e4c1b93f130e0ba5347e4": {
      "model_module": "@jupyter-widgets/base",
      "model_module_version": "1.1.0",
      "model_name": "LayoutModel",
      "state": {}
     },
     "87450e20c5ea419090c5b81f8a3d20de": {
      "model_module": "@jupyter-widgets/base",
      "model_module_version": "1.1.0",
      "model_name": "LayoutModel",
      "state": {}
     },
     "882a01321736448fb010754c07ad0175": {
      "model_module": "@jupyter-widgets/base",
      "model_module_version": "1.1.0",
      "model_name": "LayoutModel",
      "state": {
       "width": "300px"
      }
     },
     "8906c1d2afaf426f9bae7a866f40b369": {
      "model_module": "@jupyter-widgets/controls",
      "model_module_version": "1.4.0",
      "model_name": "TextareaModel",
      "state": {
       "layout": "IPY_MODEL_04653d3df17249ae9b1610753149ac92",
       "placeholder": "Example: IOC:m1.DMOV IOC:m3.RBV LNLS:ANEL:corrente.VAL",
       "style": "IPY_MODEL_4fd54e096b5c4c27ba36ae902c277d0d"
      }
     },
     "8972d6ca51194e29852e5471c29b821d": {
      "model_module": "@jupyter-widgets/base",
      "model_module_version": "1.1.0",
      "model_name": "LayoutModel",
      "state": {
       "width": "300px"
      }
     },
     "89804909cf6d40549c43000487aeb9e6": {
      "model_module": "@jupyter-widgets/base",
      "model_module_version": "1.1.0",
      "model_name": "LayoutModel",
      "state": {}
     },
     "89c3d8077d444b6eab4a489a043672ef": {
      "model_module": "@jupyter-widgets/controls",
      "model_module_version": "1.4.0",
      "model_name": "ButtonModel",
      "state": {
       "button_style": "success",
       "description": "Start PV Monitoring",
       "layout": "IPY_MODEL_70c734301bc3438db8688e4ee227f2cc",
       "style": "IPY_MODEL_e9261b50d7a84ee5b63d24b36e2690a8",
       "tooltip": "Click me"
      }
     },
     "89df41cd0f2746d28601c28f24042669": {
      "model_module": "@jupyter-widgets/controls",
      "model_module_version": "1.4.0",
      "model_name": "VBoxModel",
      "state": {
       "children": [
        "IPY_MODEL_5cdd4ac50ba84b08ba05ef3e09cd6170"
       ],
       "layout": "IPY_MODEL_6dc7e84864774df7ad2e27ac87f0b3ff"
      }
     },
     "8a12c6f6ef044cc6b9091c40a7da5545": {
      "model_module": "@jupyter-widgets/controls",
      "model_module_version": "1.4.0",
      "model_name": "DescriptionStyleModel",
      "state": {
       "description_width": "initial"
      }
     },
     "8a7971872286497eb848860d618db7e8": {
      "model_module": "@jupyter-widgets/controls",
      "model_module_version": "1.4.0",
      "model_name": "TextModel",
      "state": {
       "layout": "IPY_MODEL_00230b3f60554f72be1c8650e96b2a37",
       "placeholder": "Type the macro",
       "style": "IPY_MODEL_399deb4616654afda4cb411219f8ba5c"
      }
     },
     "8a7d587e53e64dcebaa38edc97df99fb": {
      "model_module": "@jupyter-widgets/controls",
      "model_module_version": "1.4.0",
      "model_name": "CheckboxModel",
      "state": {
       "description": "Print log in Notebook's cells",
       "disabled": false,
       "layout": "IPY_MODEL_0d32f21b8e0440f0a945333babe63087",
       "style": "IPY_MODEL_ecf665e47d4a440cae0d00c4ae9484da",
       "value": false
      }
     },
     "8abc0f3340f143da8c58d2f7296eba93": {
      "model_module": "@jupyter-widgets/controls",
      "model_module_version": "1.4.0",
      "model_name": "ButtonStyleModel",
      "state": {}
     },
     "8ac2e792517f4ba88c8dd0b0c0512a4d": {
      "model_module": "@jupyter-widgets/controls",
      "model_module_version": "1.4.0",
      "model_name": "VBoxModel",
      "state": {
       "children": [
        "IPY_MODEL_14579a9783cf4cf3bb41f0c1716c4a58",
        "IPY_MODEL_c7a5e36440ef47358a10c536d1b97d05"
       ],
       "layout": "IPY_MODEL_869d91fa6f644326ae2079a49a405076"
      }
     },
     "8aece37f00b04427a76a4219e5771a8f": {
      "model_module": "@jupyter-widgets/controls",
      "model_module_version": "1.4.0",
      "model_name": "DescriptionStyleModel",
      "state": {
       "description_width": ""
      }
     },
     "8c4248ecf9a04170a4da90687c063166": {
      "model_module": "@jupyter-widgets/base",
      "model_module_version": "1.1.0",
      "model_name": "LayoutModel",
      "state": {}
     },
     "8ca6f5648b2546bcbe07235418cd654c": {
      "model_module": "@jupyter-widgets/controls",
      "model_module_version": "1.4.0",
      "model_name": "HBoxModel",
      "state": {
       "children": [
        "IPY_MODEL_5174cab3074f42a79eb68788d0f2be84",
        "IPY_MODEL_772d1aa888984e72ac380d8f127e5e48"
       ],
       "layout": "IPY_MODEL_03ce81d351e3439d84c9b724f6a7e873"
      }
     },
     "8cae7e5d332541f18abdd353ac5e53eb": {
      "model_module": "@jupyter-widgets/controls",
      "model_module_version": "1.4.0",
      "model_name": "DescriptionStyleModel",
      "state": {
       "description_width": ""
      }
     },
     "8ce793bba83c4c8d995220237fc00d44": {
      "model_module": "@jupyter-widgets/base",
      "model_module_version": "1.1.0",
      "model_name": "LayoutModel",
      "state": {}
     },
     "8d2e3623cd7e49ce9569fdec74b2f447": {
      "model_module": "@jupyter-widgets/controls",
      "model_module_version": "1.4.0",
      "model_name": "ButtonStyleModel",
      "state": {}
     },
     "8d7dbcac1fb24186a6f8fd9268541e68": {
      "model_module": "@jupyter-widgets/base",
      "model_module_version": "1.1.0",
      "model_name": "LayoutModel",
      "state": {}
     },
     "8e206f6c62c84b2c993e0f8cef526a6d": {
      "buffers": [
       {
        "data": "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",
        "encoding": "base64",
        "path": [
         "value"
        ]
       }
      ],
      "model_module": "@jupyter-widgets/controls",
      "model_module_version": "1.4.0",
      "model_name": "ImageModel",
      "state": {
       "height": "35",
       "layout": "IPY_MODEL_54b3b721c514467881c0e4f853a20088",
       "value": {},
       "width": "35"
      }
     },
     "8e57b8eb75ac449ba239274cd8fbd383": {
      "model_module": "@jupyter-widgets/controls",
      "model_module_version": "1.4.0",
      "model_name": "VBoxModel",
      "state": {
       "children": [
        "IPY_MODEL_a037d68c6018456495d9e2862bf4b4a3"
       ],
       "layout": "IPY_MODEL_859ad96fd5854b05a7674543151819e5"
      }
     },
     "8e849bed2e9b48f4ab6bd697d237c609": {
      "model_module": "@jupyter-widgets/base",
      "model_module_version": "1.1.0",
      "model_name": "LayoutModel",
      "state": {
       "height": "40px",
       "width": "40px"
      }
     },
     "8ec43ba8d5f44a8682871afeaf9182cd": {
      "model_module": "@jupyter-widgets/base",
      "model_module_version": "1.1.0",
      "model_name": "LayoutModel",
      "state": {}
     },
     "8ee661fccc454a7eb8dd1a3210c39153": {
      "model_module": "@jupyter-widgets/base",
      "model_module_version": "1.1.0",
      "model_name": "LayoutModel",
      "state": {}
     },
     "8f1b426535af4981bd750b9367f9e2f9": {
      "model_module": "@jupyter-widgets/output",
      "model_module_version": "1.0.0",
      "model_name": "OutputModel",
      "state": {
       "layout": "IPY_MODEL_e542cdccf3e5441180ccc3dcb4bf41eb"
      }
     },
     "8f3cc5b8535b454abe3844ba27e530e0": {
      "model_module": "@jupyter-widgets/base",
      "model_module_version": "1.1.0",
      "model_name": "LayoutModel",
      "state": {}
     },
     "8f4ec9bd8f3c4c5685ffd42a1aecd9c2": {
      "model_module": "@jupyter-widgets/base",
      "model_module_version": "1.1.0",
      "model_name": "LayoutModel",
      "state": {}
     },
     "8f5a0c690e9e4a1eb0bca81104fde2e3": {
      "model_module": "@jupyter-widgets/base",
      "model_module_version": "1.1.0",
      "model_name": "LayoutModel",
      "state": {}
     },
     "8f74f8ba72c74af2a3f9504d288e87ae": {
      "model_module": "@jupyter-widgets/controls",
      "model_module_version": "1.4.0",
      "model_name": "VBoxModel",
      "state": {
       "children": [
        "IPY_MODEL_d9132c68c11a48e59f2018788aae7687",
        "IPY_MODEL_810ce6b490514a519e991a1b49adc5b7"
       ],
       "layout": "IPY_MODEL_ac03b756fa0740f69df656dc1808a5b7"
      }
     },
     "8ff4e56028454020845ff1268607684c": {
      "model_module": "@jupyter-widgets/controls",
      "model_module_version": "1.4.0",
      "model_name": "DescriptionStyleModel",
      "state": {
       "description_width": ""
      }
     },
     "90180dff5c8a48d891fcaca96e33097c": {
      "model_module": "@jupyter-widgets/controls",
      "model_module_version": "1.4.0",
      "model_name": "CheckboxModel",
      "state": {
       "description": "Plot with Plotly after scan ends: ",
       "disabled": true,
       "layout": "IPY_MODEL_f1a161077be449498c19cd41bd8dd627",
       "style": "IPY_MODEL_f2806161df9945be948522940973818f",
       "value": false
      }
     },
     "903736a6bfae4a51bcf8f7696aa2a7f2": {
      "model_module": "@jupyter-widgets/controls",
      "model_module_version": "1.4.0",
      "model_name": "VBoxModel",
      "state": {
       "children": [
        "IPY_MODEL_32cf8192a0db4efdbadd87b42b253e54"
       ],
       "layout": "IPY_MODEL_2d1dd14bdcff46399aa7e5a1b8cc92be"
      }
     },
     "9049cb146a2a4c56a7eeeaf2f866d062": {
      "model_module": "@jupyter-widgets/controls",
      "model_module_version": "1.4.0",
      "model_name": "VBoxModel",
      "state": {
       "children": [
        "IPY_MODEL_75cef5f753be4bf9bd95cbac774ee0e2",
        "IPY_MODEL_1468f8d2e9c0435d9029841996840b8c"
       ],
       "layout": "IPY_MODEL_06b1f52654944493bdd92046299c9949"
      }
     },
     "904d08f402554a609d9ebcbd0896dfbe": {
      "model_module": "@jupyter-widgets/controls",
      "model_module_version": "1.4.0",
      "model_name": "VBoxModel",
      "state": {
       "children": [
        "IPY_MODEL_681ff58451ca45dc9db8b51508708991"
       ],
       "layout": "IPY_MODEL_4dbbb825f1dd4dacbcaa186744a3a185"
      }
     },
     "904e2cea959240989d6304accf1a5e7c": {
      "model_module": "@jupyter-widgets/controls",
      "model_module_version": "1.4.0",
      "model_name": "DescriptionStyleModel",
      "state": {
       "description_width": "initial"
      }
     },
     "9050410537604acda599c18ecaaa3991": {
      "model_module": "@jupyter-widgets/controls",
      "model_module_version": "1.4.0",
      "model_name": "CheckboxModel",
      "state": {
       "description": "Plot with PyQtGraph after scan ends: ",
       "disabled": false,
       "layout": "IPY_MODEL_fc2a3f0c94bd4dd6a238a9ecc49ceda1",
       "style": "IPY_MODEL_b7c4e596c81c48e78dfc04f02aa91c65",
       "value": true
      }
     },
     "906a4cb6bc2a4e9c9e2527e20c105070": {
      "model_module": "@jupyter-widgets/base",
      "model_module_version": "1.1.0",
      "model_name": "LayoutModel",
      "state": {}
     },
     "90f665a5a5ff49ac977dfc6af68d888d": {
      "model_module": "@jupyter-widgets/base",
      "model_module_version": "1.1.0",
      "model_name": "LayoutModel",
      "state": {}
     },
     "91084e9bcdc049f3bd159ac7b2f72174": {
      "model_module": "@jupyter-widgets/base",
      "model_module_version": "1.1.0",
      "model_name": "LayoutModel",
      "state": {}
     },
     "912c47884a374df7b04a1b7a534197d2": {
      "model_module": "@jupyter-widgets/output",
      "model_module_version": "1.0.0",
      "model_name": "OutputModel",
      "state": {
       "layout": "IPY_MODEL_6857db8a25c24f469e4f32e03241e5cf"
      }
     },
     "915519bd277541ee92c4057e40de4bda": {
      "model_module": "@jupyter-widgets/base",
      "model_module_version": "1.1.0",
      "model_name": "LayoutModel",
      "state": {}
     },
     "91f8d738627a4474a062b9352dc8c946": {
      "model_module": "@jupyter-widgets/controls",
      "model_module_version": "1.4.0",
      "model_name": "ButtonStyleModel",
      "state": {}
     },
     "92495e751fdc479c9a0925244eadfa94": {
      "model_module": "@jupyter-widgets/base",
      "model_module_version": "1.1.0",
      "model_name": "LayoutModel",
      "state": {
       "width": "300px"
      }
     },
     "924a669afc5d47cb8fc1350c88e4d19b": {
      "model_module": "@jupyter-widgets/base",
      "model_module_version": "1.1.0",
      "model_name": "LayoutModel",
      "state": {}
     },
     "9260ca2f1758433cb9838e9d4628a1c1": {
      "model_module": "@jupyter-widgets/base",
      "model_module_version": "1.1.0",
      "model_name": "LayoutModel",
      "state": {}
     },
     "9283db62388141fb96ab418874a76e63": {
      "model_module": "@jupyter-widgets/controls",
      "model_module_version": "1.4.0",
      "model_name": "DropdownModel",
      "state": {
       "_options_labels": [
        "Plot after ends with PyQt",
        "Plot after ends with Plotly",
        "Live Plot"
       ],
       "disabled": true,
       "index": 1,
       "layout": "IPY_MODEL_50473f3269014873884b66bb86a73131",
       "style": "IPY_MODEL_618e1c0c64804a93b9d5708aa8b96dc8"
      }
     },
     "92bf8d52ad784f43a052b148ee7b87b4": {
      "model_module": "@jupyter-widgets/controls",
      "model_module_version": "1.4.0",
      "model_name": "TextareaModel",
      "state": {
       "layout": "IPY_MODEL_68da9fe430a04e5783cbe9f2dbeb66bd",
       "placeholder": "Example: IOC:m1 IOC:m3 LNLS:TEST:motor_g3",
       "style": "IPY_MODEL_9311219df29446a1aa2b04a94121117a"
      }
     },
     "92c32a30aece4bf78bbb3982bd871dc2": {
      "model_module": "@jupyter-widgets/base",
      "model_module_version": "1.1.0",
      "model_name": "LayoutModel",
      "state": {}
     },
     "92c5eed79dae4d7180d2b1b60658d111": {
      "model_module": "@jupyter-widgets/controls",
      "model_module_version": "1.4.0",
      "model_name": "ButtonStyleModel",
      "state": {}
     },
     "9311219df29446a1aa2b04a94121117a": {
      "model_module": "@jupyter-widgets/controls",
      "model_module_version": "1.4.0",
      "model_name": "DescriptionStyleModel",
      "state": {
       "description_width": ""
      }
     },
     "9336cd3b07cc43729f1df7834a887f52": {
      "model_module": "@jupyter-widgets/base",
      "model_module_version": "1.1.0",
      "model_name": "LayoutModel",
      "state": {}
     },
     "942362556dc7451a80986f72e266bdad": {
      "model_module": "@jupyter-widgets/base",
      "model_module_version": "1.1.0",
      "model_name": "LayoutModel",
      "state": {}
     },
     "94bdd4b45b5441b08623d46b9078e350": {
      "model_module": "@jupyter-widgets/controls",
      "model_module_version": "1.4.0",
      "model_name": "VBoxModel",
      "state": {
       "children": [
        "IPY_MODEL_eb3d9e5622414d738ecf566be7d8d7c0"
       ],
       "layout": "IPY_MODEL_da7d0e83085b490a9981d2338775a50c"
      }
     },
     "95078a4dadcd4c79b2e18b681a44de00": {
      "model_module": "@jupyter-widgets/controls",
      "model_module_version": "1.4.0",
      "model_name": "ButtonModel",
      "state": {
       "button_style": "success",
       "description": "Start PV Monitoring",
       "layout": "IPY_MODEL_bf808ceebfd14ef292b976673b0d8b10",
       "style": "IPY_MODEL_92c5eed79dae4d7180d2b1b60658d111",
       "tooltip": "Click me"
      }
     },
     "9549e48468a04b949ed94a2807e279c3": {
      "model_module": "@jupyter-widgets/controls",
      "model_module_version": "1.4.0",
      "model_name": "DescriptionStyleModel",
      "state": {
       "description_width": "initial"
      }
     },
     "95554cfaa30f4e709ef496288936cb56": {
      "model_module": "@jupyter-widgets/controls",
      "model_module_version": "1.4.0",
      "model_name": "ButtonModel",
      "state": {
       "button_style": "success",
       "description": "Start Scaler GUI",
       "layout": "IPY_MODEL_cb7c9b710ae74828b819f834ae281b92",
       "style": "IPY_MODEL_3d30f549f4ea4e339133831c0cdc5e2f",
       "tooltip": "Click me"
      }
     },
     "959f58e55882455da2728ebbb510e024": {
      "model_module": "@jupyter-widgets/base",
      "model_module_version": "1.1.0",
      "model_name": "LayoutModel",
      "state": {}
     },
     "95edb28656524c67873a7ccfec085114": {
      "model_module": "@jupyter-widgets/output",
      "model_module_version": "1.0.0",
      "model_name": "OutputModel",
      "state": {
       "layout": "IPY_MODEL_295280207c714b35abc583c154a6409c"
      }
     },
     "960c36869ee54f32b1ae62af37157f24": {
      "model_module": "plotlywidget",
      "model_module_version": "0.8.0",
      "model_name": "FigureModel",
      "state": {
       "_config": {
        "plotlyServerURL": "https://plot.ly"
       },
       "_js2py_layoutDelta": {},
       "_js2py_pointsCallback": {},
       "_js2py_relayout": {},
       "_js2py_restyle": {},
       "_js2py_traceDeltas": {},
       "_js2py_update": {},
       "_layout": {
        "template": {}
       },
       "_model_module_version": "0.8.0",
       "_py2js_addTraces": {},
       "_py2js_animate": {},
       "_py2js_deleteTraces": {},
       "_py2js_moveTraces": {},
       "_py2js_removeLayoutProps": {},
       "_py2js_removeTraceProps": {},
       "_py2js_restyle": {},
       "_py2js_update": {},
       "_view_count": 0,
       "_view_module_version": "0.8.0"
      }
     },
     "962bade232f64297b4701b04fe9c3c7c": {
      "model_module": "@jupyter-widgets/output",
      "model_module_version": "1.0.0",
      "model_name": "OutputModel",
      "state": {
       "layout": "IPY_MODEL_fa6257500e3d4e4fb97a6bc92e029152"
      }
     },
     "96e043b0dbf3428487b0003398114b7d": {
      "model_module": "@jupyter-widgets/controls",
      "model_module_version": "1.4.0",
      "model_name": "LabelModel",
      "state": {
       "layout": "IPY_MODEL_bc45e59ff26a4c2b838ac7f0588e9eaf",
       "style": "IPY_MODEL_a0f130442a794f05b64275fa573c5d07",
       "value": "Notebook's name: "
      }
     },
     "96e2011143524131a0848a676caf0fb8": {
      "model_module": "@jupyter-widgets/controls",
      "model_module_version": "1.4.0",
      "model_name": "VBoxModel",
      "state": {
       "children": [
        "IPY_MODEL_29e131335df0420bb694280c4b4077e5",
        "IPY_MODEL_3ecdf2b653d34e4b80970862d51b5400"
       ],
       "layout": "IPY_MODEL_c42eac85139b427799283dbdd4974315"
      }
     },
     "9701033ba972438b9d867f38edcf84d3": {
      "model_module": "@jupyter-widgets/controls",
      "model_module_version": "1.4.0",
      "model_name": "DescriptionStyleModel",
      "state": {
       "description_width": "initial"
      }
     },
     "9701186d910b417094228418ba57cffe": {
      "model_module": "@jupyter-widgets/output",
      "model_module_version": "1.0.0",
      "model_name": "OutputModel",
      "state": {
       "layout": "IPY_MODEL_4d7f11670f0045f89aa467a5e3c3118a"
      }
     },
     "9717566c41d242cb9df97f57c0038012": {
      "model_module": "@jupyter-widgets/base",
      "model_module_version": "1.1.0",
      "model_name": "LayoutModel",
      "state": {
       "width": "300px"
      }
     },
     "981adee978b24a52bcee050a92c2a537": {
      "model_module": "@jupyter-widgets/base",
      "model_module_version": "1.1.0",
      "model_name": "LayoutModel",
      "state": {}
     },
     "9907645cb5f04e8e86190a40092164fd": {
      "buffers": [
       {
        "data": "AAAAAAAAAAAAAAAAAAAIQAAAAAAAACJAAAAAAAAAHEAAAAAAAAAAQA==",
        "encoding": "base64",
        "path": [
         "_data",
         0,
         "y",
         "value"
        ]
       },
       {
        "data": "AAAAAAAAAAAAAAAAAAAIQAAAAAAAACJAAAAAAAAAHEAAAAAAAAAAQA==",
        "encoding": "base64",
        "path": [
         "_data",
         1,
         "y",
         "value"
        ]
       }
      ],
      "model_module": "plotlywidget",
      "model_module_version": "0.8.0",
      "model_name": "FigureModel",
      "state": {
       "_config": {
        "plotlyServerURL": "https://plot.ly"
       },
       "_data": [
        {
         "mode": "lines+markers",
         "name": "line1",
         "type": "scatter",
         "uid": "152a0d5c-da82-4d2c-af6b-cb0eab317186",
         "x": [
          0,
          1,
          2,
          3,
          4
         ],
         "xaxis": "x",
         "y": {
          "dtype": "float64",
          "shape": [
           5
          ],
          "value": {}
         },
         "yaxis": "y"
        },
        {
         "mode": "lines+markers",
         "name": "line2",
         "type": "scatter",
         "uid": "fef9f110-cb2b-4c5c-9fe8-b4d7a99ca834",
         "x": [
          0,
          1,
          2,
          3,
          4
         ],
         "xaxis": "x2",
         "y": {
          "dtype": "float64",
          "shape": [
           5
          ],
          "value": {}
         },
         "yaxis": "y2"
        }
       ],
       "_js2py_restyle": {},
       "_js2py_update": {},
       "_last_layout_edit_id": 8,
       "_last_trace_edit_id": 7,
       "_layout": {
        "autosize": true,
        "plot_bgcolor": "rgb(230, 230, 230)",
        "template": {},
        "title": {
         "text": "Scan"
        },
        "xaxis": {
         "anchor": "y",
         "domain": [
          0,
          1
         ]
        },
        "xaxis2": {
         "anchor": "y2",
         "domain": [
          0,
          1
         ]
        },
        "yaxis": {
         "anchor": "x",
         "domain": [
          0.575,
          1
         ]
        },
        "yaxis2": {
         "anchor": "x2",
         "domain": [
          0,
          0.425
         ]
        }
       },
       "_model_module_version": "0.8.0",
       "_py2js_animate": {},
       "_py2js_deleteTraces": {},
       "_py2js_moveTraces": {},
       "_py2js_removeLayoutProps": {},
       "_py2js_removeTraceProps": {},
       "_view_count": 1,
       "_view_module_version": "0.8.0"
      }
     },
     "99a59892f5d1496a9ffe00e3ebef3600": {
      "model_module": "@jupyter-widgets/controls",
      "model_module_version": "1.4.0",
      "model_name": "TextModel",
      "state": {
       "layout": "IPY_MODEL_f94586ea4d434a388d5714ceabc48c2a",
       "placeholder": "Type the notebook's name without file format",
       "style": "IPY_MODEL_c8d2d126a84746418b2f1fe94dff9555",
       "value": "work-notebook"
      }
     },
     "99c4b52f222846a1a1702bc1c9c673c0": {
      "buffers": [
       {
        "data": "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",
        "encoding": "base64",
        "path": [
         "value"
        ]
       }
      ],
      "model_module": "@jupyter-widgets/controls",
      "model_module_version": "1.4.0",
      "model_name": "ImageModel",
      "state": {
       "height": "35",
       "layout": "IPY_MODEL_75a60bdcacad49c7a8ce64677d884633",
       "value": {},
       "width": "35"
      }
     },
     "99de3516661049699c90dd46dd16b91a": {
      "model_module": "@jupyter-widgets/base",
      "model_module_version": "1.1.0",
      "model_name": "LayoutModel",
      "state": {}
     },
     "9a82f899053246098aa952e0d5c8112d": {
      "model_module": "@jupyter-widgets/base",
      "model_module_version": "1.1.0",
      "model_name": "LayoutModel",
      "state": {}
     },
     "9a97d00f81c1455f87247a41269dc903": {
      "model_module": "@jupyter-widgets/controls",
      "model_module_version": "1.4.0",
      "model_name": "VBoxModel",
      "state": {
       "children": [
        "IPY_MODEL_4bbe83b580d044638d5db335c6148878",
        "IPY_MODEL_80714a9910324bdfb030a06b36138729"
       ],
       "layout": "IPY_MODEL_9260ca2f1758433cb9838e9d4628a1c1"
      }
     },
     "9aa10dfbb3364d48a090bb927e207378": {
      "model_module": "@jupyter-widgets/controls",
      "model_module_version": "1.4.0",
      "model_name": "LabelModel",
      "state": {
       "layout": "IPY_MODEL_d43abb2199714b699bb2bf94b09d468d",
       "style": "IPY_MODEL_27e467fb10d640689f1f0a513711251d",
       "value": "Notebook's name: "
      }
     },
     "9bb87cc80e254332ad92b1d9a37d3161": {
      "model_module": "@jupyter-widgets/base",
      "model_module_version": "1.1.0",
      "model_name": "LayoutModel",
      "state": {}
     },
     "9bc04e0c4be04f388e798acfb349879a": {
      "model_module": "@jupyter-widgets/base",
      "model_module_version": "1.1.0",
      "model_name": "LayoutModel",
      "state": {}
     },
     "9bd543fed7a24fe79bbf34fff37a0b91": {
      "model_module": "@jupyter-widgets/controls",
      "model_module_version": "1.4.0",
      "model_name": "HBoxModel",
      "state": {
       "children": [
        "IPY_MODEL_7118ffa9ec224deeaf64c14e4a97cfe1",
        "IPY_MODEL_63599d5e636642ac95639214cb438d33"
       ],
       "layout": "IPY_MODEL_c6402313f76a413da9d7008b0c970058"
      }
     },
     "9be0c831c1e0479d8485c4b597d77185": {
      "model_module": "@jupyter-widgets/controls",
      "model_module_version": "1.4.0",
      "model_name": "VBoxModel",
      "state": {
       "children": [
        "IPY_MODEL_b3d5c542959c41c8895afbc73f510feb",
        "IPY_MODEL_3aa8fec34c0544a6b9b87e5542dbf487"
       ],
       "layout": "IPY_MODEL_43c66c558a5d41079126f9660ea3013f"
      }
     },
     "9c3ad8d1ad1f4e54b65b804a4b96a22b": {
      "model_module": "@jupyter-widgets/base",
      "model_module_version": "1.1.0",
      "model_name": "LayoutModel",
      "state": {}
     },
     "9c3fb1dbc48249789b5a86234fb5724a": {
      "model_module": "@jupyter-widgets/base",
      "model_module_version": "1.1.0",
      "model_name": "LayoutModel",
      "state": {}
     },
     "9c42d1b30736422ebda43bd5d22138ef": {
      "model_module": "@jupyter-widgets/controls",
      "model_module_version": "1.4.0",
      "model_name": "ButtonModel",
      "state": {
       "button_style": "warning",
       "description": "Export Notebook to Latex",
       "layout": "IPY_MODEL_8972d6ca51194e29852e5471c29b821d",
       "style": "IPY_MODEL_adf758cad6b3424185314383ddfc777a",
       "tooltip": "Click me"
      }
     },
     "9c4e6aafa0ab40009c743f8230099fe8": {
      "model_module": "@jupyter-widgets/controls",
      "model_module_version": "1.4.0",
      "model_name": "ButtonStyleModel",
      "state": {}
     },
     "9c94ebb9a88d45018d65c37979bcd955": {
      "model_module": "@jupyter-widgets/base",
      "model_module_version": "1.1.0",
      "model_name": "LayoutModel",
      "state": {
       "width": "300px"
      }
     },
     "9cea60a08e074a25998134dd1bfbff67": {
      "model_module": "@jupyter-widgets/controls",
      "model_module_version": "1.4.0",
      "model_name": "CheckboxModel",
      "state": {
       "description": "Live plot in Jupyter: ",
       "disabled": true,
       "layout": "IPY_MODEL_03cb4b8d9ade4e68babd03273f71756f",
       "style": "IPY_MODEL_5b4fa1c65137451489b388cbba27bb07",
       "value": false
      }
     },
     "9d0eb5d71edd4216bba1bb2b2f784fbe": {
      "model_module": "@jupyter-widgets/base",
      "model_module_version": "1.1.0",
      "model_name": "LayoutModel",
      "state": {}
     },
     "9d1c2418d5214c37864f8e3b29c38d08": {
      "model_module": "@jupyter-widgets/base",
      "model_module_version": "1.1.0",
      "model_name": "LayoutModel",
      "state": {}
     },
     "9d39a10c3f064ce9b16dd62c004cba45": {
      "model_module": "@jupyter-widgets/base",
      "model_module_version": "1.1.0",
      "model_name": "LayoutModel",
      "state": {}
     },
     "9db68b5b25324bdd97b6fd0ca4ed3011": {
      "buffers": [
       {
        "data": "AAAAAAAAAEAAAAAAAAAgQAAAAAAAABxAAAAAAAAAIEAAAAAAAAAUQA==",
        "encoding": "base64",
        "path": [
         "_data",
         0,
         "y",
         "value"
        ]
       },
       {
        "data": "AAAAAAAAAEAAAAAAAAAgQAAAAAAAABxAAAAAAAAAIEAAAAAAAAAUQA==",
        "encoding": "base64",
        "path": [
         "_data",
         1,
         "y",
         "value"
        ]
       }
      ],
      "model_module": "plotlywidget",
      "model_module_version": "0.8.0",
      "model_name": "FigureModel",
      "state": {
       "_config": {
        "plotlyServerURL": "https://plot.ly"
       },
       "_data": [
        {
         "mode": "lines+markers",
         "name": "line1",
         "type": "scatter",
         "uid": "8d451c59-a446-4e68-a34a-3f8614b30b25",
         "x": [
          0,
          1,
          2,
          3,
          4
         ],
         "xaxis": "x",
         "y": {
          "dtype": "float64",
          "shape": [
           5
          ],
          "value": {}
         },
         "yaxis": "y"
        },
        {
         "mode": "lines+markers",
         "name": "line2",
         "type": "scatter",
         "uid": "ad108715-ef29-446d-a139-c2115312f818",
         "x": [
          0,
          1,
          2,
          3,
          4
         ],
         "xaxis": "x2",
         "y": {
          "dtype": "float64",
          "shape": [
           5
          ],
          "value": {}
         },
         "yaxis": "y2"
        }
       ],
       "_js2py_restyle": {},
       "_js2py_update": {},
       "_last_layout_edit_id": 8,
       "_last_trace_edit_id": 7,
       "_layout": {
        "autosize": true,
        "plot_bgcolor": "rgb(230, 230, 230)",
        "template": {},
        "title": {
         "text": "Scan"
        },
        "xaxis": {
         "anchor": "y",
         "domain": [
          0,
          1
         ]
        },
        "xaxis2": {
         "anchor": "y2",
         "domain": [
          0,
          1
         ]
        },
        "yaxis": {
         "anchor": "x",
         "domain": [
          0.575,
          1
         ]
        },
        "yaxis2": {
         "anchor": "x2",
         "domain": [
          0,
          0.425
         ]
        }
       },
       "_model_module_version": "0.8.0",
       "_py2js_animate": {},
       "_py2js_deleteTraces": {},
       "_py2js_moveTraces": {},
       "_py2js_removeLayoutProps": {},
       "_py2js_removeTraceProps": {},
       "_view_count": 0,
       "_view_module_version": "0.8.0"
      }
     },
     "9eace4c5e1604883891a035d94594e6b": {
      "model_module": "@jupyter-widgets/base",
      "model_module_version": "1.1.0",
      "model_name": "LayoutModel",
      "state": {}
     },
     "9eccff3d3bf946cda7b5984d709d6f73": {
      "model_module": "@jupyter-widgets/controls",
      "model_module_version": "1.4.0",
      "model_name": "BoxModel",
      "state": {
       "children": [
        "IPY_MODEL_0515b67478a4446f8782163291d12e0f"
       ],
       "layout": "IPY_MODEL_399f13048cdb42c18b9dd4ac6ae1c709"
      }
     },
     "9f1e0770858d44a7a0fafa09a326df19": {
      "model_module": "@jupyter-widgets/controls",
      "model_module_version": "1.4.0",
      "model_name": "ButtonStyleModel",
      "state": {}
     },
     "9f31c152765e44bb838cb02a0e5c3bd8": {
      "model_module": "@jupyter-widgets/controls",
      "model_module_version": "1.4.0",
      "model_name": "ButtonStyleModel",
      "state": {}
     },
     "9fc1dc4a48cf4954aa9e87749672df61": {
      "model_module": "@jupyter-widgets/controls",
      "model_module_version": "1.4.0",
      "model_name": "DescriptionStyleModel",
      "state": {
       "description_width": ""
      }
     },
     "a037d68c6018456495d9e2862bf4b4a3": {
      "model_module": "@jupyter-widgets/controls",
      "model_module_version": "1.4.0",
      "model_name": "LabelModel",
      "state": {
       "layout": "IPY_MODEL_fa5c04166a464f5ca0735d76eb0562d6",
       "style": "IPY_MODEL_699b63cee81447d299fe7718ab057301",
       "value": "No motors initilized to be showed."
      }
     },
     "a0f130442a794f05b64275fa573c5d07": {
      "model_module": "@jupyter-widgets/controls",
      "model_module_version": "1.4.0",
      "model_name": "DescriptionStyleModel",
      "state": {
       "description_width": ""
      }
     },
     "a18039eb61e34d84a43358b49714f55d": {
      "model_module": "@jupyter-widgets/base",
      "model_module_version": "1.1.0",
      "model_name": "LayoutModel",
      "state": {}
     },
     "a1dc6782146448db91c015fcac48718a": {
      "model_module": "@jupyter-widgets/controls",
      "model_module_version": "1.4.0",
      "model_name": "DescriptionStyleModel",
      "state": {
       "description_width": ""
      }
     },
     "a22b71b5df2a4bb28fe8916586f07e5c": {
      "model_module": "@jupyter-widgets/controls",
      "model_module_version": "1.4.0",
      "model_name": "TextModel",
      "state": {
       "layout": "IPY_MODEL_636988f76c5e46e6882c638f6a3a9c0a",
       "placeholder": "Type the macro",
       "style": "IPY_MODEL_bdbf3caf683949c1b19223d05ee390c9"
      }
     },
     "a277a32b04e64d96a36a07c235734a0e": {
      "model_module": "@jupyter-widgets/base",
      "model_module_version": "1.1.0",
      "model_name": "LayoutModel",
      "state": {
       "width": "300px"
      }
     },
     "a338f1159b0c479d90d4d928f6d1fa45": {
      "model_module": "@jupyter-widgets/controls",
      "model_module_version": "1.4.0",
      "model_name": "DropdownModel",
      "state": {
       "_options_labels": [
        "Plot after ends with PyQt",
        "Plot after ends with Plotly",
        "Live Plot"
       ],
       "disabled": true,
       "index": 1,
       "layout": "IPY_MODEL_fdc510980cd549febf18942cdc0d4102",
       "style": "IPY_MODEL_9549e48468a04b949ed94a2807e279c3"
      }
     },
     "a4305d85fb8c4bb7b50171700f769fd4": {
      "model_module": "@jupyter-widgets/output",
      "model_module_version": "1.0.0",
      "model_name": "OutputModel",
      "state": {
       "layout": "IPY_MODEL_a495ff3b60e34ec7bc78515be149b965"
      }
     },
     "a457bc414f1c4734aac196f8a64b6322": {
      "model_module": "@jupyter-widgets/base",
      "model_module_version": "1.1.0",
      "model_name": "LayoutModel",
      "state": {
       "width": "300px"
      }
     },
     "a48944f72e634885aade85d3c3c0c6a3": {
      "model_module": "@jupyter-widgets/output",
      "model_module_version": "1.0.0",
      "model_name": "OutputModel",
      "state": {
       "layout": "IPY_MODEL_8ee661fccc454a7eb8dd1a3210c39153"
      }
     },
     "a495ff3b60e34ec7bc78515be149b965": {
      "model_module": "@jupyter-widgets/base",
      "model_module_version": "1.1.0",
      "model_name": "LayoutModel",
      "state": {}
     },
     "a5857b48d394449ca4c46e8c81ae9707": {
      "model_module": "@jupyter-widgets/output",
      "model_module_version": "1.0.0",
      "model_name": "OutputModel",
      "state": {
       "layout": "IPY_MODEL_ffda62be0f1d4148a08bfe47ad17960e"
      }
     },
     "a5b3adac483947809d68055c75f03120": {
      "model_module": "@jupyter-widgets/output",
      "model_module_version": "1.0.0",
      "model_name": "OutputModel",
      "state": {
       "layout": "IPY_MODEL_20b806bdb44d449eac46b52c0a86d7b1"
      }
     },
     "a5c58045042c4fcf92f39035ab3ac48e": {
      "model_module": "@jupyter-widgets/controls",
      "model_module_version": "1.4.0",
      "model_name": "VBoxModel",
      "state": {
       "children": [
        "IPY_MODEL_9c42d1b30736422ebda43bd5d22138ef",
        "IPY_MODEL_b5e60b08265d4877b9c045062f02c6bd"
       ],
       "layout": "IPY_MODEL_16e88cb7bcf74ee88ff0cce898856f2f"
      }
     },
     "a5d58c1d234c40dba54db8a40397c6be": {
      "model_module": "@jupyter-widgets/controls",
      "model_module_version": "1.4.0",
      "model_name": "ButtonStyleModel",
      "state": {}
     },
     "a65bd2e88f6649ee80ce935df1ea94f4": {
      "model_module": "@jupyter-widgets/controls",
      "model_module_version": "1.4.0",
      "model_name": "VBoxModel",
      "state": {
       "children": [
        "IPY_MODEL_1a0b1c77357e419ebd4eee99c96c249d"
       ],
       "layout": "IPY_MODEL_c6e9aca8c83746de9558e960826c595f"
      }
     },
     "a662a7b9b8e4462091e76c6d909fffb4": {
      "model_module": "@jupyter-widgets/base",
      "model_module_version": "1.1.0",
      "model_name": "LayoutModel",
      "state": {}
     },
     "a66d2409fd584ba5bb5bf0dfbcdc927e": {
      "model_module": "@jupyter-widgets/controls",
      "model_module_version": "1.4.0",
      "model_name": "TextModel",
      "state": {
       "layout": "IPY_MODEL_fb352b14411c4aab9c31637cb18f8bac",
       "placeholder": "Type the notebook's name without file format",
       "style": "IPY_MODEL_d4c5002edcb946d79fbf48fb3b5bedbd"
      }
     },
     "a67c2b8e12034914a3f65b9a5ebf9a2e": {
      "model_module": "@jupyter-widgets/controls",
      "model_module_version": "1.4.0",
      "model_name": "TextModel",
      "state": {
       "layout": "IPY_MODEL_38f27ec245ec4f7e97cfa95151cee9df",
       "placeholder": "Type the macro",
       "style": "IPY_MODEL_58a01fc0488c4053b290dcaa437faf0e"
      }
     },
     "a692ad0a72ab4b6881235397fc5668be": {
      "model_module": "@jupyter-widgets/controls",
      "model_module_version": "1.4.0",
      "model_name": "ButtonStyleModel",
      "state": {}
     },
     "a693a00c0a2f41d69a6069466b6e1c48": {
      "model_module": "@jupyter-widgets/controls",
      "model_module_version": "1.4.0",
      "model_name": "DescriptionStyleModel",
      "state": {
       "description_width": "initial"
      }
     },
     "a72a695387ce42c2ab9dec278a810769": {
      "model_module": "@jupyter-widgets/output",
      "model_module_version": "1.0.0",
      "model_name": "OutputModel",
      "state": {
       "layout": "IPY_MODEL_942362556dc7451a80986f72e266bdad"
      }
     },
     "a7820c93b02947feacf51e215ece38d7": {
      "model_module": "@jupyter-widgets/controls",
      "model_module_version": "1.4.0",
      "model_name": "CheckboxModel",
      "state": {
       "description": "Print log in Notebook's cells",
       "disabled": false,
       "layout": "IPY_MODEL_575944909a2047ee840dceeeb0948d7b",
       "style": "IPY_MODEL_00a87709b6b34849a89e505948b8a4ac",
       "value": false
      }
     },
     "a7ab781a5577473097c99490e2cdbd19": {
      "model_module": "@jupyter-widgets/base",
      "model_module_version": "1.1.0",
      "model_name": "LayoutModel",
      "state": {}
     },
     "a93544c9b16145fe91b56287b80305d8": {
      "model_module": "@jupyter-widgets/base",
      "model_module_version": "1.1.0",
      "model_name": "LayoutModel",
      "state": {
       "width": "300px"
      }
     },
     "a9886c15c6774be0a0924216df9627d5": {
      "model_module": "@jupyter-widgets/base",
      "model_module_version": "1.1.0",
      "model_name": "LayoutModel",
      "state": {}
     },
     "ab0b97d36a49478da96fb510ef085428": {
      "model_module": "@jupyter-widgets/controls",
      "model_module_version": "1.4.0",
      "model_name": "TextModel",
      "state": {
       "layout": "IPY_MODEL_1b3d3755e74946ccb7b08ac7dd01ddac",
       "placeholder": "Type the notebook's name without file format",
       "style": "IPY_MODEL_0b7d9decd0b8459d81072fd8e218dfa8"
      }
     },
     "ab11c3ae3e5248ad986a11cefe80c2aa": {
      "model_module": "@jupyter-widgets/base",
      "model_module_version": "1.1.0",
      "model_name": "LayoutModel",
      "state": {}
     },
     "ac03b756fa0740f69df656dc1808a5b7": {
      "model_module": "@jupyter-widgets/base",
      "model_module_version": "1.1.0",
      "model_name": "LayoutModel",
      "state": {}
     },
     "ac5e4140f8494070aee2e9df7ac02bdd": {
      "model_module": "@jupyter-widgets/controls",
      "model_module_version": "1.4.0",
      "model_name": "CheckboxModel",
      "state": {
       "description": "Print log in Notebook's cells",
       "disabled": false,
       "layout": "IPY_MODEL_a7ab781a5577473097c99490e2cdbd19",
       "style": "IPY_MODEL_3dcbed4e25c24e7b8dee036a7165df4a",
       "value": false
      }
     },
     "acb75e604e1b4ee38a10cfc0e970179c": {
      "model_module": "@jupyter-widgets/base",
      "model_module_version": "1.1.0",
      "model_name": "LayoutModel",
      "state": {}
     },
     "adf758cad6b3424185314383ddfc777a": {
      "model_module": "@jupyter-widgets/controls",
      "model_module_version": "1.4.0",
      "model_name": "ButtonStyleModel",
      "state": {}
     },
     "ae4541cab9d0402596eae0d92976ef61": {
      "model_module": "@jupyter-widgets/output",
      "model_module_version": "1.0.0",
      "model_name": "OutputModel",
      "state": {
       "layout": "IPY_MODEL_8d7dbcac1fb24186a6f8fd9268541e68"
      }
     },
     "ae8302e63fd9455db5ba299c7c7c8e6e": {
      "model_module": "@jupyter-widgets/controls",
      "model_module_version": "1.4.0",
      "model_name": "LabelModel",
      "state": {
       "layout": "IPY_MODEL_33891d11cf5d4a519cabbacb6d509c14",
       "style": "IPY_MODEL_83c70bc15f054490adbb2466a95f7dec",
       "value": "Notebook's name: "
      }
     },
     "ae85c596b2f2475ebe6807a0ee4302ff": {
      "model_module": "@jupyter-widgets/controls",
      "model_module_version": "1.4.0",
      "model_name": "VBoxModel",
      "state": {
       "children": [
        "IPY_MODEL_b3bc606e5d6549fab85bbf722196b327",
        "IPY_MODEL_71b3af98bcc14a7696e733b7882d5b58"
       ],
       "layout": "IPY_MODEL_0c73ec25d4364274a3b1d0eb4276e14c"
      }
     },
     "aea40cf78ea44864bda54be2c19b2219": {
      "model_module": "@jupyter-widgets/base",
      "model_module_version": "1.1.0",
      "model_name": "LayoutModel",
      "state": {
       "width": "300px"
      }
     },
     "af0705e4a7b24b7488c1ee4bd0011afd": {
      "model_module": "@jupyter-widgets/controls",
      "model_module_version": "1.4.0",
      "model_name": "VBoxModel",
      "state": {
       "children": [
        "IPY_MODEL_7f10cbe04d4c424c873fcc8418819991",
        "IPY_MODEL_e026faa3dba742b794ef824aae81050e"
       ],
       "layout": "IPY_MODEL_f28bb9ddc2ac4fc697121a5c17bddf3a"
      }
     },
     "af7dc338ac9f4a3f96aac488a74d2e82": {
      "model_module": "@jupyter-widgets/output",
      "model_module_version": "1.0.0",
      "model_name": "OutputModel",
      "state": {
       "layout": "IPY_MODEL_238dcdc7360e4406801f0809b57c7fdd"
      }
     },
     "aff3a39cfd7b4490bd564bcc34f20066": {
      "model_module": "@jupyter-widgets/controls",
      "model_module_version": "1.4.0",
      "model_name": "HBoxModel",
      "state": {
       "children": [
        "IPY_MODEL_1d6d445d04cd4fde8064fa0f256d1388",
        "IPY_MODEL_e40efca45fe14196abdaa0690737f0a7"
       ],
       "layout": "IPY_MODEL_2359b04812f049e9a22c81145a665eb5"
      }
     },
     "b1b374e36e994668aa679c37cbb22c53": {
      "model_module": "@jupyter-widgets/controls",
      "model_module_version": "1.4.0",
      "model_name": "DescriptionStyleModel",
      "state": {
       "description_width": ""
      }
     },
     "b21baf85e5fa4607a50cf604036b23b2": {
      "model_module": "@jupyter-widgets/base",
      "model_module_version": "1.1.0",
      "model_name": "LayoutModel",
      "state": {}
     },
     "b24630771d6d493e9140648e7c345c00": {
      "model_module": "@jupyter-widgets/base",
      "model_module_version": "1.1.0",
      "model_name": "LayoutModel",
      "state": {}
     },
     "b259b59085fa46a89880e2013f05e1fd": {
      "model_module": "@jupyter-widgets/base",
      "model_module_version": "1.1.0",
      "model_name": "LayoutModel",
      "state": {
       "width": "300px"
      }
     },
     "b2a5ba52938044ada7efd045b4bfa6b6": {
      "model_module": "@jupyter-widgets/controls",
      "model_module_version": "1.4.0",
      "model_name": "DescriptionStyleModel",
      "state": {
       "description_width": ""
      }
     },
     "b2e21838142344b69782033bfa3c39f1": {
      "model_module": "@jupyter-widgets/controls",
      "model_module_version": "1.4.0",
      "model_name": "ButtonStyleModel",
      "state": {}
     },
     "b30b9e7972134861bcccd95c450e88c3": {
      "model_module": "@jupyter-widgets/output",
      "model_module_version": "1.0.0",
      "model_name": "OutputModel",
      "state": {
       "layout": "IPY_MODEL_d93e253aab0c4fc69ca433ea34913437"
      }
     },
     "b334c0195de849d5b515ff7017bcb08f": {
      "model_module": "@jupyter-widgets/controls",
      "model_module_version": "1.4.0",
      "model_name": "DescriptionStyleModel",
      "state": {
       "description_width": ""
      }
     },
     "b33e595545644a66955ee4154891d9f9": {
      "model_module": "@jupyter-widgets/base",
      "model_module_version": "1.1.0",
      "model_name": "LayoutModel",
      "state": {}
     },
     "b37ed3911d524e4ca45c66738c5735af": {
      "model_module": "@jupyter-widgets/controls",
      "model_module_version": "1.4.0",
      "model_name": "HBoxModel",
      "state": {
       "children": [
        "IPY_MODEL_37a36ec8548b4cdea110f38cc0f084c6",
        "IPY_MODEL_3d32f44b46f0426597e5384e0a31cb0c"
       ],
       "layout": "IPY_MODEL_3de088d6409a40848eb89547ddb4b059"
      }
     },
     "b3b440002364470f98f0265cd39b922f": {
      "model_module": "@jupyter-widgets/base",
      "model_module_version": "1.1.0",
      "model_name": "LayoutModel",
      "state": {}
     },
     "b3bc606e5d6549fab85bbf722196b327": {
      "model_module": "@jupyter-widgets/controls",
      "model_module_version": "1.4.0",
      "model_name": "TextareaModel",
      "state": {
       "layout": "IPY_MODEL_6280320709d1445389a05736958bbde2",
       "placeholder": "Example: IOC:m1.DMOV IOC:m3.RBV LNLS:ANEL:corrente.VAL",
       "style": "IPY_MODEL_e55668ccf6e84a3cb7924f2107d643a4"
      }
     },
     "b3d5c542959c41c8895afbc73f510feb": {
      "model_module": "@jupyter-widgets/controls",
      "model_module_version": "1.4.0",
      "model_name": "TextareaModel",
      "state": {
       "layout": "IPY_MODEL_cbb9c8764ba9431e9679a27b964edabd",
       "placeholder": "Example: IOC:m1.DMOV IOC:m3.RBV LNLS:ANEL:corrente.VAL",
       "style": "IPY_MODEL_8cae7e5d332541f18abdd353ac5e53eb"
      }
     },
     "b438deabe3184414b84362b2887bd3e4": {
      "model_module": "@jupyter-widgets/controls",
      "model_module_version": "1.4.0",
      "model_name": "VBoxModel",
      "state": {
       "children": [
        "IPY_MODEL_52787259294a42ad95d5ac671c5bbd93"
       ],
       "layout": "IPY_MODEL_c9754fbed9f54233b914491b8422018d"
      }
     },
     "b468334e73b44001881e3174df00dfd3": {
      "model_module": "@jupyter-widgets/controls",
      "model_module_version": "1.4.0",
      "model_name": "VBoxModel",
      "state": {
       "children": [
        "IPY_MODEL_6ff531fee8ce451d9f74d0154580aad5",
        "IPY_MODEL_1496f62206a24776a3b85f8cd2903ec2"
       ],
       "layout": "IPY_MODEL_2f91de0a34ee47b396deb3df8d5c5a4a"
      }
     },
     "b4ebd2d97403453987569705f77048a2": {
      "model_module": "@jupyter-widgets/base",
      "model_module_version": "1.1.0",
      "model_name": "LayoutModel",
      "state": {}
     },
     "b511e0f8be34458aba6cf7caebc2168b": {
      "model_module": "@jupyter-widgets/base",
      "model_module_version": "1.1.0",
      "model_name": "LayoutModel",
      "state": {
       "width": "300px"
      }
     },
     "b51a61628ce04e9db233a49ca58ba479": {
      "model_module": "@jupyter-widgets/base",
      "model_module_version": "1.1.0",
      "model_name": "LayoutModel",
      "state": {}
     },
     "b52f485075b6415ea96a02cc66971525": {
      "model_module": "@jupyter-widgets/base",
      "model_module_version": "1.1.0",
      "model_name": "LayoutModel",
      "state": {}
     },
     "b595f79e05514d1b95f87f58ba6c9ca3": {
      "model_module": "@jupyter-widgets/controls",
      "model_module_version": "1.4.0",
      "model_name": "TextareaModel",
      "state": {
       "layout": "IPY_MODEL_c8f0078e164c4d3ca8b5a3806cdb21f1",
       "placeholder": "Example: IOC:m1 IOC:m3 LNLS:TEST:motor_g3",
       "style": "IPY_MODEL_b334c0195de849d5b515ff7017bcb08f"
      }
     },
     "b5b1885b00914e179f8d6457f3ce185c": {
      "model_module": "@jupyter-widgets/controls",
      "model_module_version": "1.4.0",
      "model_name": "VBoxModel",
      "state": {
       "children": [
        "IPY_MODEL_389b30453a79425e949735445d10cb40",
        "IPY_MODEL_f9bec55f24ba4a11a6414637dc371ae9"
       ],
       "layout": "IPY_MODEL_619e7b5984b04561b723c3a08ebe6a43"
      }
     },
     "b5cb623062a748a6be939507c23fc7b1": {
      "model_module": "@jupyter-widgets/base",
      "model_module_version": "1.1.0",
      "model_name": "LayoutModel",
      "state": {}
     },
     "b5e60b08265d4877b9c045062f02c6bd": {
      "model_module": "@jupyter-widgets/output",
      "model_module_version": "1.0.0",
      "model_name": "OutputModel",
      "state": {
       "layout": "IPY_MODEL_d50792d0c09847d88b9bce7fb9099da3"
      }
     },
     "b5fd3cbb5f4c4310923961af45a42548": {
      "model_module": "@jupyter-widgets/base",
      "model_module_version": "1.1.0",
      "model_name": "LayoutModel",
      "state": {}
     },
     "b6f074603fbf4db7980c5eee354b28ee": {
      "model_module": "@jupyter-widgets/base",
      "model_module_version": "1.1.0",
      "model_name": "LayoutModel",
      "state": {}
     },
     "b6fa82228bf742238e76591f00c75f7d": {
      "model_module": "@jupyter-widgets/base",
      "model_module_version": "1.1.0",
      "model_name": "LayoutModel",
      "state": {}
     },
     "b7c4e596c81c48e78dfc04f02aa91c65": {
      "model_module": "@jupyter-widgets/controls",
      "model_module_version": "1.4.0",
      "model_name": "DescriptionStyleModel",
      "state": {
       "description_width": "initial"
      }
     },
     "b7f91885f9064a8e816e7ea9fe9b3a42": {
      "model_module": "@jupyter-widgets/base",
      "model_module_version": "1.1.0",
      "model_name": "LayoutModel",
      "state": {}
     },
     "b818445acc014d59ba4752bea2299433": {
      "model_module": "@jupyter-widgets/output",
      "model_module_version": "1.0.0",
      "model_name": "OutputModel",
      "state": {
       "layout": "IPY_MODEL_9d0eb5d71edd4216bba1bb2b2f784fbe"
      }
     },
     "b85cf9cd04c547f88d6d74100a7b00c4": {
      "model_module": "@jupyter-widgets/base",
      "model_module_version": "1.1.0",
      "model_name": "LayoutModel",
      "state": {
       "width": "300px"
      }
     },
     "b86c3757fa8a4e9d9ac6aaeb1aa558f2": {
      "model_module": "@jupyter-widgets/base",
      "model_module_version": "1.1.0",
      "model_name": "LayoutModel",
      "state": {}
     },
     "b870b832b6ec498c8b445210b4c98b19": {
      "model_module": "@jupyter-widgets/controls",
      "model_module_version": "1.4.0",
      "model_name": "VBoxModel",
      "state": {
       "children": [
        "IPY_MODEL_95554cfaa30f4e709ef496288936cb56"
       ],
       "layout": "IPY_MODEL_a9886c15c6774be0a0924216df9627d5"
      }
     },
     "b871de4b6e4b4d37a93da11143e41553": {
      "model_module": "@jupyter-widgets/base",
      "model_module_version": "1.1.0",
      "model_name": "LayoutModel",
      "state": {}
     },
     "b87fb164a89c4f0eb00c2ddf26dcc77d": {
      "model_module": "@jupyter-widgets/controls",
      "model_module_version": "1.4.0",
      "model_name": "DescriptionStyleModel",
      "state": {
       "description_width": ""
      }
     },
     "b8d33b55d5254651894d2e76bdb0cb86": {
      "model_module": "@jupyter-widgets/base",
      "model_module_version": "1.1.0",
      "model_name": "LayoutModel",
      "state": {}
     },
     "b9d55a16847b448bba77db04e96f7ee5": {
      "model_module": "@jupyter-widgets/controls",
      "model_module_version": "1.4.0",
      "model_name": "DescriptionStyleModel",
      "state": {
       "description_width": "initial"
      }
     },
     "b9e718167257431b870421b02dac4369": {
      "model_module": "@jupyter-widgets/controls",
      "model_module_version": "1.4.0",
      "model_name": "TextModel",
      "state": {
       "layout": "IPY_MODEL_df783f3c6d87471988550674dd7c5db9",
       "placeholder": "Type the notebook's name without file format",
       "style": "IPY_MODEL_55fdac834fb74d05a54f2c9c57f99608"
      }
     },
     "baa9253029964099bd974aaeb4f57008": {
      "model_module": "@jupyter-widgets/controls",
      "model_module_version": "1.4.0",
      "model_name": "DescriptionStyleModel",
      "state": {
       "description_width": "initial"
      }
     },
     "bab3ddfe292a47ff8ae1407746fc3472": {
      "model_module": "@jupyter-widgets/base",
      "model_module_version": "1.1.0",
      "model_name": "LayoutModel",
      "state": {}
     },
     "bb0fa72bf8da4a34b3d0f08f8dd84f59": {
      "model_module": "@jupyter-widgets/controls",
      "model_module_version": "1.4.0",
      "model_name": "ButtonStyleModel",
      "state": {}
     },
     "bb38952eb6ca4a08ae6b7b65cc2175f9": {
      "model_module": "@jupyter-widgets/base",
      "model_module_version": "1.1.0",
      "model_name": "LayoutModel",
      "state": {}
     },
     "bb5b9a4ffdc94e36b870c4d51ff7034c": {
      "model_module": "@jupyter-widgets/controls",
      "model_module_version": "1.4.0",
      "model_name": "TextModel",
      "state": {
       "layout": "IPY_MODEL_0752b91951a14ae7ab831bd07224b159",
       "placeholder": "Type the notebook's name without file format",
       "style": "IPY_MODEL_d2f7795c7ab445eaa0e9b4da12dcf450"
      }
     },
     "bb5fd26134fc4c5782de60bb7a32f521": {
      "model_module": "@jupyter-widgets/controls",
      "model_module_version": "1.4.0",
      "model_name": "HBoxModel",
      "state": {
       "children": [
        "IPY_MODEL_d74870b4b4634a2c95aec99338384e8e",
        "IPY_MODEL_63599d5e636642ac95639214cb438d33"
       ],
       "layout": "IPY_MODEL_e264fd9039db4e2b895bce1e032f660a"
      }
     },
     "bb6e55bb48274ed08ddadbaab63619f9": {
      "model_module": "@jupyter-widgets/output",
      "model_module_version": "1.0.0",
      "model_name": "OutputModel",
      "state": {
       "layout": "IPY_MODEL_9bb87cc80e254332ad92b1d9a37d3161"
      }
     },
     "bbf030eeb7c5467198312a0012eae107": {
      "model_module": "@jupyter-widgets/controls",
      "model_module_version": "1.4.0",
      "model_name": "DescriptionStyleModel",
      "state": {
       "description_width": ""
      }
     },
     "bc45e59ff26a4c2b838ac7f0588e9eaf": {
      "model_module": "@jupyter-widgets/base",
      "model_module_version": "1.1.0",
      "model_name": "LayoutModel",
      "state": {}
     },
     "bc8ff27986d8480aabf4e20923234912": {
      "model_module": "@jupyter-widgets/controls",
      "model_module_version": "1.4.0",
      "model_name": "VBoxModel",
      "state": {
       "children": [
        "IPY_MODEL_6735b4f965ce4ce6a8126936ceae3816",
        "IPY_MODEL_a5b3adac483947809d68055c75f03120"
       ],
       "layout": "IPY_MODEL_787922efe8eb42a2ae173e200bebbc00"
      }
     },
     "bdbf3caf683949c1b19223d05ee390c9": {
      "model_module": "@jupyter-widgets/controls",
      "model_module_version": "1.4.0",
      "model_name": "DescriptionStyleModel",
      "state": {
       "description_width": ""
      }
     },
     "be2784db37cf4271b955a89e442477f6": {
      "model_module": "@jupyter-widgets/controls",
      "model_module_version": "1.4.0",
      "model_name": "DescriptionStyleModel",
      "state": {
       "description_width": "initial"
      }
     },
     "be6cdf6728684c1a86adf136c3e82a31": {
      "model_module": "@jupyter-widgets/controls",
      "model_module_version": "1.4.0",
      "model_name": "VBoxModel",
      "state": {
       "children": [
        "IPY_MODEL_92bf8d52ad784f43a052b148ee7b87b4",
        "IPY_MODEL_fa062e2c35fc46d980629ed4d9204ee0"
       ],
       "layout": "IPY_MODEL_7b3ecd6f5fa54ac68383ffecd3e40670"
      }
     },
     "beb76d84582343679da911127d18652c": {
      "model_module": "@jupyter-widgets/base",
      "model_module_version": "1.1.0",
      "model_name": "LayoutModel",
      "state": {}
     },
     "bf20bf67cd39402d96ba48d0fa231d8d": {
      "model_module": "@jupyter-widgets/controls",
      "model_module_version": "1.4.0",
      "model_name": "DescriptionStyleModel",
      "state": {
       "description_width": ""
      }
     },
     "bf597f69d0244a11bde6a5ee0f06b1bc": {
      "model_module": "@jupyter-widgets/controls",
      "model_module_version": "1.4.0",
      "model_name": "ButtonModel",
      "state": {
       "button_style": "success",
       "description": "Start Motor Initializaton",
       "layout": "IPY_MODEL_3e8dbcd5e62649e9ae0408688bc65790",
       "style": "IPY_MODEL_159fc86eaab543e88d5820f57e428620",
       "tooltip": "Click me"
      }
     },
     "bf808ceebfd14ef292b976673b0d8b10": {
      "model_module": "@jupyter-widgets/base",
      "model_module_version": "1.1.0",
      "model_name": "LayoutModel",
      "state": {
       "width": "300px"
      }
     },
     "bf87d6557fef41588fea7330c3b287fb": {
      "model_module": "@jupyter-widgets/controls",
      "model_module_version": "1.4.0",
      "model_name": "BoxModel",
      "state": {
       "layout": "IPY_MODEL_4cafcf7514924308a0e37d939d6a3c39"
      }
     },
     "bf93f014d4b44e16b749e77359f0620a": {
      "model_module": "@jupyter-widgets/base",
      "model_module_version": "1.1.0",
      "model_name": "LayoutModel",
      "state": {
       "width": "300px"
      }
     },
     "bfd634a108fb4e098bc858508b0a0052": {
      "model_module": "@jupyter-widgets/output",
      "model_module_version": "1.0.0",
      "model_name": "OutputModel",
      "state": {
       "layout": "IPY_MODEL_106e030cf1aa4253a08a009509c22df1"
      }
     },
     "c02ec37136c34fe7aac6b6ae323e4a51": {
      "model_module": "@jupyter-widgets/controls",
      "model_module_version": "1.4.0",
      "model_name": "ButtonStyleModel",
      "state": {}
     },
     "c0683f4875b74e3b8b29de21228a318b": {
      "model_module": "@jupyter-widgets/base",
      "model_module_version": "1.1.0",
      "model_name": "LayoutModel",
      "state": {}
     },
     "c1624aaf003d43f18a5757121afe3a34": {
      "model_module": "@jupyter-widgets/controls",
      "model_module_version": "1.4.0",
      "model_name": "CheckboxModel",
      "state": {
       "description": "Print log in Notebook's cells",
       "disabled": false,
       "layout": "IPY_MODEL_9d39a10c3f064ce9b16dd62c004cba45",
       "style": "IPY_MODEL_a693a00c0a2f41d69a6069466b6e1c48",
       "value": false
      }
     },
     "c19c2015cb784e77a7be5447c9913a81": {
      "model_module": "@jupyter-widgets/controls",
      "model_module_version": "1.4.0",
      "model_name": "DescriptionStyleModel",
      "state": {
       "description_width": ""
      }
     },
     "c27b24de19604bdbaa7cf25c21fd1219": {
      "model_module": "@jupyter-widgets/base",
      "model_module_version": "1.1.0",
      "model_name": "LayoutModel",
      "state": {}
     },
     "c2ac37cb11c54eb1923be4b5f3ce6b07": {
      "model_module": "@jupyter-widgets/base",
      "model_module_version": "1.1.0",
      "model_name": "LayoutModel",
      "state": {}
     },
     "c2bd2c3a1df349a5ae4321e2068314c2": {
      "model_module": "@jupyter-widgets/controls",
      "model_module_version": "1.4.0",
      "model_name": "TextModel",
      "state": {
       "layout": "IPY_MODEL_4b8bdd6da6804e40a32dd6e2e8c496e2",
       "placeholder": "Type the notebook's name without file format",
       "style": "IPY_MODEL_6620ab43c9fd44b49e188ace84c80d34"
      }
     },
     "c2ef426fd0b24265917b33d39cf38ea4": {
      "model_module": "@jupyter-widgets/controls",
      "model_module_version": "1.4.0",
      "model_name": "DescriptionStyleModel",
      "state": {
       "description_width": "initial"
      }
     },
     "c3e4919d4bac445fb37bb5467b1cc3c7": {
      "model_module": "@jupyter-widgets/controls",
      "model_module_version": "1.4.0",
      "model_name": "VBoxModel",
      "state": {
       "children": [
        "IPY_MODEL_ddad177481d84a8185717ac1e9af9c6a",
        "IPY_MODEL_d9d7e36f786445d4bd7144f0622affeb"
       ],
       "layout": "IPY_MODEL_b5cb623062a748a6be939507c23fc7b1"
      }
     },
     "c3f8a6a1fb414a4eacccf842e02f7931": {
      "model_module": "@jupyter-widgets/base",
      "model_module_version": "1.1.0",
      "model_name": "LayoutModel",
      "state": {}
     },
     "c402a70196894d2e998b452931838968": {
      "model_module": "@jupyter-widgets/controls",
      "model_module_version": "1.4.0",
      "model_name": "HBoxModel",
      "state": {
       "children": [
        "IPY_MODEL_c8c1024f6a844872b252b161eb9da8a6",
        "IPY_MODEL_99a59892f5d1496a9ffe00e3ebef3600"
       ],
       "layout": "IPY_MODEL_104430608d564b7c8d5b90af83f0bee8"
      }
     },
     "c42eac85139b427799283dbdd4974315": {
      "model_module": "@jupyter-widgets/base",
      "model_module_version": "1.1.0",
      "model_name": "LayoutModel",
      "state": {}
     },
     "c436931a68854836bb2ff4bd723b267e": {
      "model_module": "@jupyter-widgets/base",
      "model_module_version": "1.1.0",
      "model_name": "LayoutModel",
      "state": {}
     },
     "c4846acd9c4546009fd71f5a77823bf0": {
      "model_module": "@jupyter-widgets/controls",
      "model_module_version": "1.4.0",
      "model_name": "CheckboxModel",
      "state": {
       "description": "Print log in Notebook's cells",
       "disabled": false,
       "layout": "IPY_MODEL_b6fa82228bf742238e76591f00c75f7d",
       "style": "IPY_MODEL_9701033ba972438b9d867f38edcf84d3",
       "value": false
      }
     },
     "c4b4a3c278b0489e88e93ae8cc48b35e": {
      "model_module": "@jupyter-widgets/base",
      "model_module_version": "1.1.0",
      "model_name": "LayoutModel",
      "state": {
       "height": "40px",
       "width": "40px"
      }
     },
     "c4db99f0271442d3b78fc88dfefd1714": {
      "model_module": "@jupyter-widgets/controls",
      "model_module_version": "1.4.0",
      "model_name": "ButtonStyleModel",
      "state": {}
     },
     "c4eed2fe6c6a4655a4dbdbb2fd4c76ef": {
      "model_module": "@jupyter-widgets/base",
      "model_module_version": "1.1.0",
      "model_name": "LayoutModel",
      "state": {
       "height": "40px",
       "width": "40px"
      }
     },
     "c4fbf4ac15d6445594b1d6e8755dcebd": {
      "model_module": "@jupyter-widgets/controls",
      "model_module_version": "1.4.0",
      "model_name": "DescriptionStyleModel",
      "state": {
       "description_width": ""
      }
     },
     "c5018922b2604222a0329daa91d783f7": {
      "model_module": "@jupyter-widgets/controls",
      "model_module_version": "1.4.0",
      "model_name": "LabelModel",
      "state": {
       "layout": "IPY_MODEL_b51a61628ce04e9db233a49ca58ba479",
       "style": "IPY_MODEL_e06c01b4dc644ac8a61ffa6ce31347fe",
       "value": "Notebook's name: "
      }
     },
     "c560f85541324252985bc2fd68a085c6": {
      "model_module": "@jupyter-widgets/base",
      "model_module_version": "1.1.0",
      "model_name": "LayoutModel",
      "state": {}
     },
     "c617347be3fa43aaa169db563af7cc33": {
      "model_module": "@jupyter-widgets/controls",
      "model_module_version": "1.4.0",
      "model_name": "ButtonModel",
      "state": {
       "button_style": "success",
       "description": "Start Manual Alignment",
       "layout": "IPY_MODEL_30c429f1a7b64c2e83e82bb57e053f51",
       "style": "IPY_MODEL_580c102252e042c284e648688ab3d617",
       "tooltip": "Click me"
      }
     },
     "c6402313f76a413da9d7008b0c970058": {
      "model_module": "@jupyter-widgets/base",
      "model_module_version": "1.1.0",
      "model_name": "LayoutModel",
      "state": {}
     },
     "c6941a4bdff943369183651cffd8a65c": {
      "model_module": "@jupyter-widgets/output",
      "model_module_version": "1.0.0",
      "model_name": "OutputModel",
      "state": {
       "layout": "IPY_MODEL_3c76e066ed5c4fc39dc14f68ad971cd0"
      }
     },
     "c6e2a9b70e0e4521bb20470b2957af69": {
      "model_module": "@jupyter-widgets/controls",
      "model_module_version": "1.4.0",
      "model_name": "VBoxModel",
      "state": {
       "children": [
        "IPY_MODEL_43b5d04e80994629abb2c9eeeaa36f8d",
        "IPY_MODEL_dcc1fed62ce645f0b236714b82f0d2db"
       ],
       "layout": "IPY_MODEL_640e1b4cfe1e4f90a04b86736a3bdb7d"
      }
     },
     "c6e9aca8c83746de9558e960826c595f": {
      "model_module": "@jupyter-widgets/base",
      "model_module_version": "1.1.0",
      "model_name": "LayoutModel",
      "state": {}
     },
     "c70a72ec3578468e95e2d3015810ff0a": {
      "model_module": "@jupyter-widgets/base",
      "model_module_version": "1.1.0",
      "model_name": "LayoutModel",
      "state": {}
     },
     "c73889b382b74527b65f9a81a6e40145": {
      "model_module": "@jupyter-widgets/controls",
      "model_module_version": "1.4.0",
      "model_name": "ButtonModel",
      "state": {
       "button_style": "success",
       "description": "Start Manual Alignment",
       "layout": "IPY_MODEL_0d96f33d94d34337993b083e79337b45",
       "style": "IPY_MODEL_49745e5b81604418bd484768a9ad4bb0",
       "tooltip": "Click me"
      }
     },
     "c73e4c4b33cf4cedaba9a87f41e294c0": {
      "model_module": "@jupyter-widgets/controls",
      "model_module_version": "1.4.0",
      "model_name": "BoxModel",
      "state": {
       "children": [
        "IPY_MODEL_6f93835dacf845468c0c19273d6493d0"
       ],
       "layout": "IPY_MODEL_f77e78a2e94e40d589d7ba03c756ec91"
      }
     },
     "c7566f5d024047aebd89a6e8479c07b0": {
      "model_module": "@jupyter-widgets/base",
      "model_module_version": "1.1.0",
      "model_name": "LayoutModel",
      "state": {}
     },
     "c7a5e36440ef47358a10c536d1b97d05": {
      "model_module": "@jupyter-widgets/output",
      "model_module_version": "1.0.0",
      "model_name": "OutputModel",
      "state": {
       "layout": "IPY_MODEL_9336cd3b07cc43729f1df7834a887f52"
      }
     },
     "c83c54d2c2294e0abf130399bd002fad": {
      "model_module": "@jupyter-widgets/output",
      "model_module_version": "1.0.0",
      "model_name": "OutputModel",
      "state": {
       "layout": "IPY_MODEL_4b2dfdcbb0444189bb82a3a902c9aa3b"
      }
     },
     "c8c1024f6a844872b252b161eb9da8a6": {
      "model_module": "@jupyter-widgets/controls",
      "model_module_version": "1.4.0",
      "model_name": "LabelModel",
      "state": {
       "layout": "IPY_MODEL_6f214abef7a54465a06bf2fd7b45d687",
       "style": "IPY_MODEL_03403b4945b543199465fbdbdfcfbab5",
       "value": "Notebook's name: "
      }
     },
     "c8d2d126a84746418b2f1fe94dff9555": {
      "model_module": "@jupyter-widgets/controls",
      "model_module_version": "1.4.0",
      "model_name": "DescriptionStyleModel",
      "state": {
       "description_width": ""
      }
     },
     "c8f0078e164c4d3ca8b5a3806cdb21f1": {
      "model_module": "@jupyter-widgets/base",
      "model_module_version": "1.1.0",
      "model_name": "LayoutModel",
      "state": {}
     },
     "c93158bc71804b0bac8a966950ac1c60": {
      "model_module": "@jupyter-widgets/controls",
      "model_module_version": "1.4.0",
      "model_name": "TextareaModel",
      "state": {
       "layout": "IPY_MODEL_144df4d59a2d4e07a3d804341bf3e208",
       "placeholder": "Example: IOC:m1 IOC:m3 LNLS:TEST:motor_g3",
       "style": "IPY_MODEL_52a54f44551e474783b743cc112695bc"
      }
     },
     "c93395fb68824fb68944ac23bfbc8778": {
      "model_module": "@jupyter-widgets/controls",
      "model_module_version": "1.4.0",
      "model_name": "TextModel",
      "state": {
       "layout": "IPY_MODEL_07806932770446d99f9f96cd3eb64976",
       "placeholder": "Type the macro",
       "style": "IPY_MODEL_5a2bc86042b94e9baa91974dc3df556e"
      }
     },
     "c9754fbed9f54233b914491b8422018d": {
      "model_module": "@jupyter-widgets/base",
      "model_module_version": "1.1.0",
      "model_name": "LayoutModel",
      "state": {}
     },
     "c9a5013e55354744a91811e4ed240e22": {
      "model_module": "@jupyter-widgets/controls",
      "model_module_version": "1.4.0",
      "model_name": "CheckboxModel",
      "state": {
       "description": "Print log in Notebook's cells",
       "disabled": false,
       "layout": "IPY_MODEL_245a0a5849dc40ffb3f7232dcd151679",
       "style": "IPY_MODEL_41f9add213d942a3876a1e7d52fc0597",
       "value": false
      }
     },
     "ca0614702d8248039a42319d016d207c": {
      "model_module": "@jupyter-widgets/output",
      "model_module_version": "1.0.0",
      "model_name": "OutputModel",
      "state": {
       "layout": "IPY_MODEL_c560f85541324252985bc2fd68a085c6",
       "msg_id": "1842479394dc4533a09b4465a5409c43"
      }
     },
     "ca3b0f0ff48f4955b2cbdb1384a7c56f": {
      "model_module": "@jupyter-widgets/base",
      "model_module_version": "1.1.0",
      "model_name": "LayoutModel",
      "state": {}
     },
     "ca5f75ec075b44718fbf68073803df8c": {
      "model_module": "@jupyter-widgets/controls",
      "model_module_version": "1.4.0",
      "model_name": "CheckboxModel",
      "state": {
       "description": "Plot with Plotly after scan ends: ",
       "disabled": true,
       "layout": "IPY_MODEL_f7a99e76a31e493c8794818c6b8ea377",
       "style": "IPY_MODEL_27010cc227a54d3384a6e8861c5e6160",
       "value": false
      }
     },
     "ca9c63ab14b64f5cb19400ed85de4bc6": {
      "model_module": "@jupyter-widgets/controls",
      "model_module_version": "1.4.0",
      "model_name": "VBoxModel",
      "state": {
       "children": [
        "IPY_MODEL_de566861241e473aa0a004d125a09c7a",
        "IPY_MODEL_64488026a654467a96b3877d73b1a317"
       ],
       "layout": "IPY_MODEL_4c8c169837f54e4d95d6397001bef802"
      }
     },
     "caac78defa964da685137afffb8a2f58": {
      "model_module": "@jupyter-widgets/base",
      "model_module_version": "1.1.0",
      "model_name": "LayoutModel",
      "state": {
       "width": "300px"
      }
     },
     "cac3aa375763435a99a906c427524bd5": {
      "model_module": "@jupyter-widgets/controls",
      "model_module_version": "1.4.0",
      "model_name": "DescriptionStyleModel",
      "state": {
       "description_width": "initial"
      }
     },
     "cb40802f12154ab0a7126cd48ae3568b": {
      "model_module": "@jupyter-widgets/controls",
      "model_module_version": "1.4.0",
      "model_name": "ButtonModel",
      "state": {
       "button_style": "warning",
       "description": "Export Notebook to HTML",
       "layout": "IPY_MODEL_aea40cf78ea44864bda54be2c19b2219",
       "style": "IPY_MODEL_a692ad0a72ab4b6881235397fc5668be",
       "tooltip": "Click me"
      }
     },
     "cb7c628f13d54496a3311d24f0f2a74e": {
      "model_module": "@jupyter-widgets/controls",
      "model_module_version": "1.4.0",
      "model_name": "ButtonModel",
      "state": {
       "button_style": "warning",
       "description": "Export Notebook to HTML",
       "layout": "IPY_MODEL_34e82f859b09432c9b311d1e4a640449",
       "style": "IPY_MODEL_4be475c0d3254a228be45cc1c820f5d8",
       "tooltip": "Click me"
      }
     },
     "cb7c9b710ae74828b819f834ae281b92": {
      "model_module": "@jupyter-widgets/base",
      "model_module_version": "1.1.0",
      "model_name": "LayoutModel",
      "state": {
       "width": "300px"
      }
     },
     "cbb118c1ea454e9ea297a2184d01b82a": {
      "model_module": "@jupyter-widgets/controls",
      "model_module_version": "1.4.0",
      "model_name": "DescriptionStyleModel",
      "state": {
       "description_width": "initial"
      }
     },
     "cbb9c8764ba9431e9679a27b964edabd": {
      "model_module": "@jupyter-widgets/base",
      "model_module_version": "1.1.0",
      "model_name": "LayoutModel",
      "state": {}
     },
     "cc3c8ecf03da486eb4de3aee29d80626": {
      "model_module": "@jupyter-widgets/controls",
      "model_module_version": "1.4.0",
      "model_name": "DescriptionStyleModel",
      "state": {
       "description_width": ""
      }
     },
     "cc55b3260ab14a84a32448ae25b5aa56": {
      "model_module": "@jupyter-widgets/controls",
      "model_module_version": "1.4.0",
      "model_name": "DescriptionStyleModel",
      "state": {
       "description_width": ""
      }
     },
     "ccb7c144d73149c8b17786ca43a669eb": {
      "model_module": "@jupyter-widgets/base",
      "model_module_version": "1.1.0",
      "model_name": "LayoutModel",
      "state": {
       "width": "300px"
      }
     },
     "ce5e13e0e1a34aaf917003203b635e29": {
      "model_module": "@jupyter-widgets/controls",
      "model_module_version": "1.4.0",
      "model_name": "DescriptionStyleModel",
      "state": {
       "description_width": "initial"
      }
     },
     "ceaa763ba43f4473bb1535350226741f": {
      "model_module": "@jupyter-widgets/base",
      "model_module_version": "1.1.0",
      "model_name": "LayoutModel",
      "state": {}
     },
     "cefb48fbdd91464faa6288b52666f1d0": {
      "model_module": "@jupyter-widgets/base",
      "model_module_version": "1.1.0",
      "model_name": "LayoutModel",
      "state": {}
     },
     "cfa110b3195e4d9f92a1f21e22a09252": {
      "model_module": "@jupyter-widgets/base",
      "model_module_version": "1.1.0",
      "model_name": "LayoutModel",
      "state": {}
     },
     "cfc8c2db82d444ba8696e2a202baf87c": {
      "model_module": "@jupyter-widgets/controls",
      "model_module_version": "1.4.0",
      "model_name": "DescriptionStyleModel",
      "state": {
       "description_width": "initial"
      }
     },
     "d077ce6545b244aa9ebb1c0446fd98da": {
      "model_module": "@jupyter-widgets/controls",
      "model_module_version": "1.4.0",
      "model_name": "DescriptionStyleModel",
      "state": {
       "description_width": ""
      }
     },
     "d201ec53d3ad41e4b0c95287334642ea": {
      "model_module": "@jupyter-widgets/controls",
      "model_module_version": "1.4.0",
      "model_name": "VBoxModel",
      "state": {
       "children": [
        "IPY_MODEL_48d67204d688414b9e6c5e27c9152a90"
       ],
       "layout": "IPY_MODEL_b33e595545644a66955ee4154891d9f9"
      }
     },
     "d202a21817ea4a4cb01ad823e5222fe2": {
      "model_module": "@jupyter-widgets/controls",
      "model_module_version": "1.4.0",
      "model_name": "TextModel",
      "state": {
       "layout": "IPY_MODEL_42d53265afe946d8bfd03f089136da89",
       "placeholder": "Type the macro",
       "style": "IPY_MODEL_1c71a66406d84b67b73012d6c53596cd"
      }
     },
     "d2b07a86cf914b33b7bba0d4465cd85b": {
      "model_module": "@jupyter-widgets/base",
      "model_module_version": "1.1.0",
      "model_name": "LayoutModel",
      "state": {}
     },
     "d2cfc65a366f484ea48fd78e33f6b0ae": {
      "model_module": "@jupyter-widgets/base",
      "model_module_version": "1.1.0",
      "model_name": "LayoutModel",
      "state": {}
     },
     "d2f7795c7ab445eaa0e9b4da12dcf450": {
      "model_module": "@jupyter-widgets/controls",
      "model_module_version": "1.4.0",
      "model_name": "DescriptionStyleModel",
      "state": {
       "description_width": ""
      }
     },
     "d3935376d7a249f68c9ab9e54bb26b83": {
      "model_module": "@jupyter-widgets/base",
      "model_module_version": "1.1.0",
      "model_name": "LayoutModel",
      "state": {}
     },
     "d3bf6dc93b8c48678fdb59a4fd6b36ce": {
      "model_module": "@jupyter-widgets/controls",
      "model_module_version": "1.4.0",
      "model_name": "DescriptionStyleModel",
      "state": {
       "description_width": ""
      }
     },
     "d4289029521d4cbeb544fbc3bbe618c9": {
      "model_module": "@jupyter-widgets/controls",
      "model_module_version": "1.4.0",
      "model_name": "DescriptionStyleModel",
      "state": {
       "description_width": "initial"
      }
     },
     "d43abb2199714b699bb2bf94b09d468d": {
      "model_module": "@jupyter-widgets/base",
      "model_module_version": "1.1.0",
      "model_name": "LayoutModel",
      "state": {}
     },
     "d43fd629f1b44fe2ad69d2d62e95b1d1": {
      "model_module": "@jupyter-widgets/base",
      "model_module_version": "1.1.0",
      "model_name": "LayoutModel",
      "state": {}
     },
     "d4736cfffbbc4061be70d42ac1fcfb4f": {
      "model_module": "@jupyter-widgets/output",
      "model_module_version": "1.0.0",
      "model_name": "OutputModel",
      "state": {
       "layout": "IPY_MODEL_e4f74c63e23746f78b016e42d5c38cca"
      }
     },
     "d4bd05b06dbe432f88886a97a6bce1c0": {
      "model_module": "@jupyter-widgets/base",
      "model_module_version": "1.1.0",
      "model_name": "LayoutModel",
      "state": {}
     },
     "d4be581eefba4456bcaa09bd9fbecf3c": {
      "model_module": "@jupyter-widgets/base",
      "model_module_version": "1.1.0",
      "model_name": "LayoutModel",
      "state": {}
     },
     "d4c5002edcb946d79fbf48fb3b5bedbd": {
      "model_module": "@jupyter-widgets/controls",
      "model_module_version": "1.4.0",
      "model_name": "DescriptionStyleModel",
      "state": {
       "description_width": ""
      }
     },
     "d50792d0c09847d88b9bce7fb9099da3": {
      "model_module": "@jupyter-widgets/base",
      "model_module_version": "1.1.0",
      "model_name": "LayoutModel",
      "state": {}
     },
     "d54f82c2a8944759b9916f6387dff642": {
      "model_module": "@jupyter-widgets/controls",
      "model_module_version": "1.4.0",
      "model_name": "DescriptionStyleModel",
      "state": {
       "description_width": "initial"
      }
     },
     "d5fd6990c90e43bd83d4a56d7b03e2c4": {
      "model_module": "@jupyter-widgets/output",
      "model_module_version": "1.0.0",
      "model_name": "OutputModel",
      "state": {
       "layout": "IPY_MODEL_3316815337544acfaad6499f62941faa"
      }
     },
     "d6018c86096d43a7a90b9c0ee53aaa2b": {
      "model_module": "@jupyter-widgets/output",
      "model_module_version": "1.0.0",
      "model_name": "OutputModel",
      "state": {
       "layout": "IPY_MODEL_726617a1a7bc49448759138f78d50390"
      }
     },
     "d6a6271def66457988cae7a6cd663552": {
      "model_module": "@jupyter-widgets/controls",
      "model_module_version": "1.4.0",
      "model_name": "VBoxModel",
      "state": {
       "children": [
        "IPY_MODEL_c73889b382b74527b65f9a81a6e40145",
        "IPY_MODEL_962bade232f64297b4701b04fe9c3c7c"
       ],
       "layout": "IPY_MODEL_b6f074603fbf4db7980c5eee354b28ee"
      }
     },
     "d719760ab6c341f98ac2b4a803d53c19": {
      "model_module": "@jupyter-widgets/controls",
      "model_module_version": "1.4.0",
      "model_name": "DescriptionStyleModel",
      "state": {
       "description_width": ""
      }
     },
     "d747869d929c4026bc6c919b0e73dc38": {
      "model_module": "@jupyter-widgets/base",
      "model_module_version": "1.1.0",
      "model_name": "LayoutModel",
      "state": {}
     },
     "d74870b4b4634a2c95aec99338384e8e": {
      "model_module": "@jupyter-widgets/controls",
      "model_module_version": "1.4.0",
      "model_name": "LabelModel",
      "state": {
       "layout": "IPY_MODEL_008e3bcc810146b98b59ac7c3ff50e03",
       "style": "IPY_MODEL_2ea1247e5e06436ea6f86e1e24e34c4f",
       "value": "Notebook's name: "
      }
     },
     "d77739b011b0413ca5aa2980f70e76e5": {
      "model_module": "@jupyter-widgets/base",
      "model_module_version": "1.1.0",
      "model_name": "LayoutModel",
      "state": {
       "height": "40px",
       "width": "40px"
      }
     },
     "d782e36fae0a478eb3466b286b0890f2": {
      "model_module": "@jupyter-widgets/controls",
      "model_module_version": "1.4.0",
      "model_name": "CheckboxModel",
      "state": {
       "description": "Print log in Notebook's cells",
       "disabled": false,
       "layout": "IPY_MODEL_c2ac37cb11c54eb1923be4b5f3ce6b07",
       "style": "IPY_MODEL_6be4e23aeae3457b9b29cfd17c5021f4",
       "value": false
      }
     },
     "d7f3cd00431749ee9600f597feee0084": {
      "model_module": "@jupyter-widgets/controls",
      "model_module_version": "1.4.0",
      "model_name": "DescriptionStyleModel",
      "state": {
       "description_width": ""
      }
     },
     "d850fbc8c6ff4cc0a83faaa35523fb7a": {
      "model_module": "@jupyter-widgets/base",
      "model_module_version": "1.1.0",
      "model_name": "LayoutModel",
      "state": {
       "width": "300px"
      }
     },
     "d86356bdc13341d8be221faffd9a1623": {
      "model_module": "@jupyter-widgets/base",
      "model_module_version": "1.1.0",
      "model_name": "LayoutModel",
      "state": {}
     },
     "d8654343b1984648955107becfabf146": {
      "model_module": "@jupyter-widgets/base",
      "model_module_version": "1.1.0",
      "model_name": "LayoutModel",
      "state": {}
     },
     "d8c64e5e2b144dbe9445cae72429230d": {
      "model_module": "@jupyter-widgets/base",
      "model_module_version": "1.1.0",
      "model_name": "LayoutModel",
      "state": {}
     },
     "d8f5a2418c944fe6869a09913abc18cf": {
      "model_module": "@jupyter-widgets/base",
      "model_module_version": "1.1.0",
      "model_name": "LayoutModel",
      "state": {}
     },
     "d9132c68c11a48e59f2018788aae7687": {
      "model_module": "@jupyter-widgets/controls",
      "model_module_version": "1.4.0",
      "model_name": "TextareaModel",
      "state": {
       "layout": "IPY_MODEL_8246694d15eb4eb8a379872513415bd1",
       "placeholder": "Example: IOC:m1.DMOV IOC:m3.RBV LNLS:ANEL:corrente.VAL",
       "style": "IPY_MODEL_283390c9728642c892861ad95a853a3d"
      }
     },
     "d93e253aab0c4fc69ca433ea34913437": {
      "model_module": "@jupyter-widgets/base",
      "model_module_version": "1.1.0",
      "model_name": "LayoutModel",
      "state": {}
     },
     "d978a9c69e4049fc93d5f4405a04c1e6": {
      "model_module": "@jupyter-widgets/controls",
      "model_module_version": "1.4.0",
      "model_name": "DescriptionStyleModel",
      "state": {
       "description_width": ""
      }
     },
     "d985799e751d4cc5ad6c0676ee92f2fa": {
      "model_module": "@jupyter-widgets/output",
      "model_module_version": "1.0.0",
      "model_name": "OutputModel",
      "state": {
       "layout": "IPY_MODEL_300130c7f42b4ae280f7ab5946edd5ed"
      }
     },
     "d9ab65310aeb41bebc5a82de41ff2861": {
      "model_module": "@jupyter-widgets/controls",
      "model_module_version": "1.4.0",
      "model_name": "TextModel",
      "state": {
       "layout": "IPY_MODEL_e5ef4f375537424b8573d22dbcf0fec6",
       "placeholder": "Type the notebook's name without file format",
       "style": "IPY_MODEL_335845ed5d5f47cab3a61196209a63ac"
      }
     },
     "d9d7e36f786445d4bd7144f0622affeb": {
      "model_module": "@jupyter-widgets/output",
      "model_module_version": "1.0.0",
      "model_name": "OutputModel",
      "state": {
       "layout": "IPY_MODEL_3438c3c971844917b049483182460fa6",
       "outputs": [
        {
         "data": {
          "application/javascript": "IPython.notebook.save_checkpoint();",
          "text/plain": "<IPython.core.display.Javascript object>"
         },
         "metadata": {},
         "output_type": "display_data"
        },
        {
         "data": {
          "application/javascript": "IPython.notebook.save_checkpoint();",
          "text/plain": "<IPython.core.display.Javascript object>"
         },
         "metadata": {},
         "output_type": "display_data"
        }
       ]
      }
     },
     "d9f4faa9429b437fa3a33e0d4b642491": {
      "model_module": "@jupyter-widgets/base",
      "model_module_version": "1.1.0",
      "model_name": "LayoutModel",
      "state": {}
     },
     "da7d0e83085b490a9981d2338775a50c": {
      "model_module": "@jupyter-widgets/base",
      "model_module_version": "1.1.0",
      "model_name": "LayoutModel",
      "state": {}
     },
     "daaebac048a641fcae2ef723a9a841f2": {
      "model_module": "@jupyter-widgets/controls",
      "model_module_version": "1.4.0",
      "model_name": "CheckboxModel",
      "state": {
       "description": "Live plot in Jupyter: ",
       "disabled": true,
       "layout": "IPY_MODEL_efa7253125d746078fead9c836abe812",
       "style": "IPY_MODEL_1fa566db850b44d48bee087c9931dca8",
       "value": false
      }
     },
     "dbdbcff88be34a1392019718c29c9bdc": {
      "model_module": "@jupyter-widgets/controls",
      "model_module_version": "1.4.0",
      "model_name": "BoxModel",
      "state": {
       "children": [
        "IPY_MODEL_49bbcc5490674434a83640cb800cded5"
       ],
       "layout": "IPY_MODEL_e3b3466890004ded9346228070ceb559"
      }
     },
     "dc8bffc4f81c43ab9c635201f4fb9b87": {
      "model_module": "@jupyter-widgets/controls",
      "model_module_version": "1.4.0",
      "model_name": "CheckboxModel",
      "state": {
       "description": "Plot with Plotly after scan ends: ",
       "disabled": true,
       "layout": "IPY_MODEL_135059ed05fb4bc3a499ce67c456b24a",
       "style": "IPY_MODEL_61e6d3275e57412bb58d8e6f8bf15ff8",
       "value": false
      }
     },
     "dc99f30211f54fe7ab1178cbe1c8240c": {
      "model_module": "@jupyter-widgets/base",
      "model_module_version": "1.1.0",
      "model_name": "LayoutModel",
      "state": {}
     },
     "dcc1fed62ce645f0b236714b82f0d2db": {
      "model_module": "@jupyter-widgets/output",
      "model_module_version": "1.0.0",
      "model_name": "OutputModel",
      "state": {
       "layout": "IPY_MODEL_373612b69e1a484da0d83d920fedcd86"
      }
     },
     "dd1eb1922c3a4f6a8cf140e4ba2fe5ee": {
      "model_module": "@jupyter-widgets/base",
      "model_module_version": "1.1.0",
      "model_name": "LayoutModel",
      "state": {}
     },
     "dd60484327db485f8488fdf54468c244": {
      "model_module": "@jupyter-widgets/base",
      "model_module_version": "1.1.0",
      "model_name": "LayoutModel",
      "state": {}
     },
     "dd8f9d06ac194162941d296757f9dda3": {
      "model_module": "@jupyter-widgets/base",
      "model_module_version": "1.1.0",
      "model_name": "LayoutModel",
      "state": {}
     },
     "ddad177481d84a8185717ac1e9af9c6a": {
      "model_module": "@jupyter-widgets/controls",
      "model_module_version": "1.4.0",
      "model_name": "ButtonModel",
      "state": {
       "button_style": "warning",
       "description": "Export Notebook to HTML",
       "layout": "IPY_MODEL_b259b59085fa46a89880e2013f05e1fd",
       "style": "IPY_MODEL_0388004d38df4dac810ea560ea777209",
       "tooltip": "Click me"
      }
     },
     "de566861241e473aa0a004d125a09c7a": {
      "model_module": "@jupyter-widgets/controls",
      "model_module_version": "1.4.0",
      "model_name": "ButtonModel",
      "state": {
       "button_style": "success",
       "description": "Start Manual Alignment",
       "layout": "IPY_MODEL_bf93f014d4b44e16b749e77359f0620a",
       "style": "IPY_MODEL_7504c3be5b1c48de93efb0190868d2a9",
       "tooltip": "Click me"
      }
     },
     "de6ce21412004a2d806b85e799c8db9a": {
      "model_module": "@jupyter-widgets/base",
      "model_module_version": "1.1.0",
      "model_name": "LayoutModel",
      "state": {
       "width": "300px"
      }
     },
     "df783f3c6d87471988550674dd7c5db9": {
      "model_module": "@jupyter-widgets/base",
      "model_module_version": "1.1.0",
      "model_name": "LayoutModel",
      "state": {
       "width": "300px"
      }
     },
     "e026faa3dba742b794ef824aae81050e": {
      "model_module": "@jupyter-widgets/output",
      "model_module_version": "1.0.0",
      "model_name": "OutputModel",
      "state": {
       "layout": "IPY_MODEL_f4537833896d449d97565f065cc455bd",
       "outputs": [
        {
         "data": {
          "application/javascript": "IPython.notebook.save_checkpoint();",
          "text/plain": "<IPython.core.display.Javascript object>"
         },
         "metadata": {},
         "output_type": "display_data"
        },
        {
         "name": "stderr",
         "output_type": "stream",
         "text": "Exception in thread Thread-7:\nTraceback (most recent call last):\n  File \"/usr/lib/python3.5/threading.py\", line 914, in _bootstrap_inner\n    self.run()\n  File \"/usr/lib/python3.5/threading.py\", line 862, in run\n    self._target(*self._args, **self._kwargs)\n  File \"/home/gabriel.andrade/work/jupy4syn/lib/MonitorScanSave.py\", line 527, in export_image_thread\n    self.load_image_file(self.scan_names[-1] + \".png\")\n  File \"/home/gabriel.andrade/work/jupy4syn/lib/MonitorScanSave.py\", line 543, in load_image_file\n    img = IPython.display.Image(filename=filename)\n  File \"/usr/local/lib/python3.5/dist-packages/IPython/core/display.py\", line 1186, in __init__\n    metadata=metadata)\n  File \"/usr/local/lib/python3.5/dist-packages/IPython/core/display.py\", line 615, in __init__\n    self.reload()\n  File \"/usr/local/lib/python3.5/dist-packages/IPython/core/display.py\", line 1217, in reload\n    super(Image,self).reload()\n  File \"/usr/local/lib/python3.5/dist-packages/IPython/core/display.py\", line 640, in reload\n    with open(self.filename, self._read_flags) as f:\nFileNotFoundError: [Errno 2] No such file or directory: '/home/gabriel.andrade/work/jupy4syn/scans/plot_0111.png'\n\n"
        },
        {
         "data": {
          "application/javascript": "IPython.notebook.save_checkpoint();",
          "text/plain": "<IPython.core.display.Javascript object>"
         },
         "metadata": {},
         "output_type": "display_data"
        }
       ]
      }
     },
     "e06c01b4dc644ac8a61ffa6ce31347fe": {
      "model_module": "@jupyter-widgets/controls",
      "model_module_version": "1.4.0",
      "model_name": "DescriptionStyleModel",
      "state": {
       "description_width": ""
      }
     },
     "e091b61aa72b499d832d3a217eb9b111": {
      "model_module": "@jupyter-widgets/controls",
      "model_module_version": "1.4.0",
      "model_name": "DescriptionStyleModel",
      "state": {
       "description_width": "initial"
      }
     },
     "e13a36bf51d64155a467207aec09f1db": {
      "model_module": "@jupyter-widgets/controls",
      "model_module_version": "1.4.0",
      "model_name": "CheckboxModel",
      "state": {
       "description": "Print log in Notebook's cells",
       "disabled": false,
       "layout": "IPY_MODEL_6d731f9fcc7740c1bdd484f90fc03188",
       "style": "IPY_MODEL_8a12c6f6ef044cc6b9091c40a7da5545",
       "value": false
      }
     },
     "e13fa6645ef747d9a672d4c85a3025d5": {
      "model_module": "@jupyter-widgets/controls",
      "model_module_version": "1.4.0",
      "model_name": "ButtonStyleModel",
      "state": {}
     },
     "e1b67609c82d4e709f700c245a5b9a24": {
      "model_module": "@jupyter-widgets/controls",
      "model_module_version": "1.4.0",
      "model_name": "DescriptionStyleModel",
      "state": {
       "description_width": ""
      }
     },
     "e264fd9039db4e2b895bce1e032f660a": {
      "model_module": "@jupyter-widgets/base",
      "model_module_version": "1.1.0",
      "model_name": "LayoutModel",
      "state": {}
     },
     "e277bf4241f44fd6a5d4ce177503c8ba": {
      "model_module": "@jupyter-widgets/base",
      "model_module_version": "1.1.0",
      "model_name": "LayoutModel",
      "state": {}
     },
     "e2c6e41063004134b0f6231288699e34": {
      "model_module": "@jupyter-widgets/base",
      "model_module_version": "1.1.0",
      "model_name": "LayoutModel",
      "state": {}
     },
     "e36d74f019db447f89e2e3dfc4bbf3b9": {
      "model_module": "@jupyter-widgets/controls",
      "model_module_version": "1.4.0",
      "model_name": "TextModel",
      "state": {
       "layout": "IPY_MODEL_773b4b5b3d5247b4a92b0fd7de1427b6",
       "placeholder": "Type the notebook's name without file format",
       "style": "IPY_MODEL_d978a9c69e4049fc93d5f4405a04c1e6"
      }
     },
     "e3b3466890004ded9346228070ceb559": {
      "model_module": "@jupyter-widgets/base",
      "model_module_version": "1.1.0",
      "model_name": "LayoutModel",
      "state": {}
     },
     "e40efca45fe14196abdaa0690737f0a7": {
      "model_module": "@jupyter-widgets/controls",
      "model_module_version": "1.4.0",
      "model_name": "TextModel",
      "state": {
       "layout": "IPY_MODEL_83a218ed69a54ff9a2705bb430e3c9a8",
       "placeholder": "Type the notebook's name without file format",
       "style": "IPY_MODEL_cc55b3260ab14a84a32448ae25b5aa56",
       "value": "work-notebook"
      }
     },
     "e43cb2a91e3c470e9bcf5fd0504eca6f": {
      "buffers": [
       {
        "data": "AAAAAAAA8D8AAAAAAAAgQAAAAAAAAAhAAAAAAAAA8D8AAAAAAAAAAA==",
        "encoding": "base64",
        "path": [
         "_data",
         0,
         "y",
         "value"
        ]
       },
       {
        "data": "AAAAAAAA8D8AAAAAAAAgQAAAAAAAAAhAAAAAAAAA8D8AAAAAAAAAAA==",
        "encoding": "base64",
        "path": [
         "_data",
         1,
         "y",
         "value"
        ]
       }
      ],
      "model_module": "plotlywidget",
      "model_module_version": "0.8.0",
      "model_name": "FigureModel",
      "state": {
       "_config": {
        "plotlyServerURL": "https://plot.ly"
       },
       "_data": [
        {
         "mode": "lines+markers",
         "name": "line1",
         "type": "scatter",
         "uid": "df60f4fa-55e2-4a4b-9ab7-48400c6947fb",
         "x": [
          0,
          1,
          2,
          3,
          4
         ],
         "xaxis": "x",
         "y": {
          "dtype": "float64",
          "shape": [
           5
          ],
          "value": {}
         },
         "yaxis": "y"
        },
        {
         "mode": "lines+markers",
         "name": "line2",
         "type": "scatter",
         "uid": "644f2a0b-708c-4cb7-91ec-10123403c48f",
         "x": [
          0,
          1,
          2,
          3,
          4
         ],
         "xaxis": "x2",
         "y": {
          "dtype": "float64",
          "shape": [
           5
          ],
          "value": {}
         },
         "yaxis": "y2"
        }
       ],
       "_js2py_restyle": {},
       "_js2py_update": {},
       "_last_layout_edit_id": 8,
       "_last_trace_edit_id": 7,
       "_layout": {
        "autosize": true,
        "plot_bgcolor": "rgb(230, 230, 230)",
        "template": {},
        "title": {
         "text": "Scan"
        },
        "xaxis": {
         "anchor": "y",
         "domain": [
          0,
          1
         ]
        },
        "xaxis2": {
         "anchor": "y2",
         "domain": [
          0,
          1
         ]
        },
        "yaxis": {
         "anchor": "x",
         "domain": [
          0.575,
          1
         ]
        },
        "yaxis2": {
         "anchor": "x2",
         "domain": [
          0,
          0.425
         ]
        }
       },
       "_model_module_version": "0.8.0",
       "_py2js_animate": {},
       "_py2js_deleteTraces": {},
       "_py2js_moveTraces": {},
       "_py2js_removeLayoutProps": {},
       "_py2js_removeTraceProps": {},
       "_view_count": 0,
       "_view_module_version": "0.8.0"
      }
     },
     "e45465023957490ba9b2d01523864454": {
      "model_module": "@jupyter-widgets/base",
      "model_module_version": "1.1.0",
      "model_name": "LayoutModel",
      "state": {}
     },
     "e472bb3528364eee82e627ad7ccdd75b": {
      "model_module": "@jupyter-widgets/base",
      "model_module_version": "1.1.0",
      "model_name": "LayoutModel",
      "state": {
       "width": "300px"
      }
     },
     "e47df157046043f08a6843656dd97275": {
      "model_module": "@jupyter-widgets/controls",
      "model_module_version": "1.4.0",
      "model_name": "CheckboxModel",
      "state": {
       "description": "Plot with Plotly after scan ends: ",
       "disabled": true,
       "layout": "IPY_MODEL_6145e72e10f74eb098be9f81e8253c0b",
       "style": "IPY_MODEL_d4289029521d4cbeb544fbc3bbe618c9",
       "value": false
      }
     },
     "e4f74c63e23746f78b016e42d5c38cca": {
      "model_module": "@jupyter-widgets/base",
      "model_module_version": "1.1.0",
      "model_name": "LayoutModel",
      "state": {}
     },
     "e5024c946826435d91ec97c3265176bf": {
      "model_module": "@jupyter-widgets/controls",
      "model_module_version": "1.4.0",
      "model_name": "CheckboxModel",
      "state": {
       "description": "Print log in Notebook's cells",
       "disabled": false,
       "layout": "IPY_MODEL_7ffeaba54833496196c54b61ba1ff236",
       "style": "IPY_MODEL_16331a51a35e4e29a0392acb78b0547f",
       "value": false
      }
     },
     "e542cdccf3e5441180ccc3dcb4bf41eb": {
      "model_module": "@jupyter-widgets/base",
      "model_module_version": "1.1.0",
      "model_name": "LayoutModel",
      "state": {}
     },
     "e55668ccf6e84a3cb7924f2107d643a4": {
      "model_module": "@jupyter-widgets/controls",
      "model_module_version": "1.4.0",
      "model_name": "DescriptionStyleModel",
      "state": {
       "description_width": ""
      }
     },
     "e56a6d51b2c64a578b754e0500893db2": {
      "model_module": "@jupyter-widgets/controls",
      "model_module_version": "1.4.0",
      "model_name": "DropdownModel",
      "state": {
       "_options_labels": [
        "Plot after ends with PyQt",
        "Plot after ends with Plotly",
        "Live Plot"
       ],
       "disabled": true,
       "index": 1,
       "layout": "IPY_MODEL_90f665a5a5ff49ac977dfc6af68d888d",
       "style": "IPY_MODEL_be2784db37cf4271b955a89e442477f6"
      }
     },
     "e5ef4f375537424b8573d22dbcf0fec6": {
      "model_module": "@jupyter-widgets/base",
      "model_module_version": "1.1.0",
      "model_name": "LayoutModel",
      "state": {
       "width": "300px"
      }
     },
     "e5f10511b0284639bd105897bf19ee4b": {
      "model_module": "@jupyter-widgets/controls",
      "model_module_version": "1.4.0",
      "model_name": "ButtonStyleModel",
      "state": {}
     },
     "e62176edd4fe4b5c8a3822e34bb16090": {
      "model_module": "@jupyter-widgets/base",
      "model_module_version": "1.1.0",
      "model_name": "LayoutModel",
      "state": {}
     },
     "e7dab21adba04c0e8ad84544cfea488d": {
      "model_module": "@jupyter-widgets/output",
      "model_module_version": "1.0.0",
      "model_name": "OutputModel",
      "state": {
       "layout": "IPY_MODEL_243263f976e34123ad99df44f6e0d842"
      }
     },
     "e7f5a25aa32a49a1a5fc51c1676d2382": {
      "model_module": "@jupyter-widgets/base",
      "model_module_version": "1.1.0",
      "model_name": "LayoutModel",
      "state": {
       "height": "40px",
       "width": "40px"
      }
     },
     "e8052ec73ae94fac9b2c877781673b0d": {
      "model_module": "@jupyter-widgets/controls",
      "model_module_version": "1.4.0",
      "model_name": "DescriptionStyleModel",
      "state": {
       "description_width": "initial"
      }
     },
     "e861ad2fe3504e7f952f4010d4fe9710": {
      "model_module": "@jupyter-widgets/controls",
      "model_module_version": "1.4.0",
      "model_name": "TextareaModel",
      "state": {
       "layout": "IPY_MODEL_ecb3a1c3b3a040c8ab8e31bf5e13dfe5",
       "placeholder": "Example: IOC:m1.DMOV IOC:m3.RBV LNLS:ANEL:corrente.VAL",
       "style": "IPY_MODEL_8aece37f00b04427a76a4219e5771a8f"
      }
     },
     "e89bbe51b6664b61897100077a6c28c1": {
      "model_module": "@jupyter-widgets/base",
      "model_module_version": "1.1.0",
      "model_name": "LayoutModel",
      "state": {}
     },
     "e8eedeac76694db5b1fd557724cc98d9": {
      "model_module": "@jupyter-widgets/controls",
      "model_module_version": "1.4.0",
      "model_name": "LabelModel",
      "state": {
       "layout": "IPY_MODEL_981adee978b24a52bcee050a92c2a537",
       "style": "IPY_MODEL_8105fe206bf64b58a5a4470be457202b",
       "value": "No motors initilized to be showed."
      }
     },
     "e9261b50d7a84ee5b63d24b36e2690a8": {
      "model_module": "@jupyter-widgets/controls",
      "model_module_version": "1.4.0",
      "model_name": "ButtonStyleModel",
      "state": {}
     },
     "ea0702ff60804038a2d1d7a3215b5d85": {
      "model_module": "@jupyter-widgets/controls",
      "model_module_version": "1.4.0",
      "model_name": "CheckboxModel",
      "state": {
       "description": "Print log in Notebook's cells",
       "disabled": false,
       "layout": "IPY_MODEL_d4bd05b06dbe432f88886a97a6bce1c0",
       "style": "IPY_MODEL_106657fe9cbc42e7939a3a04dcb50d2f",
       "value": false
      }
     },
     "ea5778fd7b5249ca952c9ed7046a518e": {
      "model_module": "@jupyter-widgets/base",
      "model_module_version": "1.1.0",
      "model_name": "LayoutModel",
      "state": {}
     },
     "eb11ccd182c1411abf377201a9e64b3d": {
      "model_module": "@jupyter-widgets/base",
      "model_module_version": "1.1.0",
      "model_name": "LayoutModel",
      "state": {}
     },
     "eb3d9e5622414d738ecf566be7d8d7c0": {
      "model_module": "@jupyter-widgets/controls",
      "model_module_version": "1.4.0",
      "model_name": "LabelModel",
      "state": {
       "layout": "IPY_MODEL_9eace4c5e1604883891a035d94594e6b",
       "style": "IPY_MODEL_80508da722dd4d9791afe1873c7220b6",
       "value": "No motors initilized to be showed."
      }
     },
     "ebb8b6def16f42159a7dad5acf93f19f": {
      "model_module": "@jupyter-widgets/base",
      "model_module_version": "1.1.0",
      "model_name": "LayoutModel",
      "state": {}
     },
     "ec4e7d72442a4f08bc35b5553222f7fd": {
      "model_module": "@jupyter-widgets/base",
      "model_module_version": "1.1.0",
      "model_name": "LayoutModel",
      "state": {}
     },
     "ecb3a1c3b3a040c8ab8e31bf5e13dfe5": {
      "model_module": "@jupyter-widgets/base",
      "model_module_version": "1.1.0",
      "model_name": "LayoutModel",
      "state": {}
     },
     "ecde7148c46140de9adeb2229c15a784": {
      "model_module": "@jupyter-widgets/output",
      "model_module_version": "1.0.0",
      "model_name": "OutputModel",
      "state": {
       "layout": "IPY_MODEL_4e64d0c5599a4dc48b7be09ad1fcd774"
      }
     },
     "ecf665e47d4a440cae0d00c4ae9484da": {
      "model_module": "@jupyter-widgets/controls",
      "model_module_version": "1.4.0",
      "model_name": "DescriptionStyleModel",
      "state": {
       "description_width": "initial"
      }
     },
     "ed196870a11942a391755f6ec4a09d8a": {
      "model_module": "@jupyter-widgets/base",
      "model_module_version": "1.1.0",
      "model_name": "LayoutModel",
      "state": {}
     },
     "ed5b5e72efa04a538027157e4e3f46a0": {
      "model_module": "@jupyter-widgets/controls",
      "model_module_version": "1.4.0",
      "model_name": "DescriptionStyleModel",
      "state": {
       "description_width": ""
      }
     },
     "ed93e024fc134dda852f107a6e738bee": {
      "model_module": "@jupyter-widgets/base",
      "model_module_version": "1.1.0",
      "model_name": "LayoutModel",
      "state": {}
     },
     "eda8adeaffe149db856054504abc85bb": {
      "model_module": "@jupyter-widgets/controls",
      "model_module_version": "1.4.0",
      "model_name": "BoxModel",
      "state": {
       "children": [
        "IPY_MODEL_9907645cb5f04e8e86190a40092164fd"
       ],
       "layout": "IPY_MODEL_b24630771d6d493e9140648e7c345c00"
      }
     },
     "edc7508cd7e74564b5282603c19343e3": {
      "model_module": "@jupyter-widgets/base",
      "model_module_version": "1.1.0",
      "model_name": "LayoutModel",
      "state": {}
     },
     "ee29ddf9af7746c391b07fc2b053ff63": {
      "model_module": "@jupyter-widgets/base",
      "model_module_version": "1.1.0",
      "model_name": "LayoutModel",
      "state": {}
     },
     "ee7e84142adb46338169d877a99c3206": {
      "model_module": "@jupyter-widgets/controls",
      "model_module_version": "1.4.0",
      "model_name": "ButtonStyleModel",
      "state": {}
     },
     "ef05f2885e2e41ad820a80cc4f8393da": {
      "model_module": "@jupyter-widgets/base",
      "model_module_version": "1.1.0",
      "model_name": "LayoutModel",
      "state": {}
     },
     "ef79bc3639f746f2b27c95019ab06916": {
      "model_module": "@jupyter-widgets/base",
      "model_module_version": "1.1.0",
      "model_name": "LayoutModel",
      "state": {
       "height": "40px",
       "width": "40px"
      }
     },
     "efa7253125d746078fead9c836abe812": {
      "model_module": "@jupyter-widgets/base",
      "model_module_version": "1.1.0",
      "model_name": "LayoutModel",
      "state": {}
     },
     "efc4ab2810ee49f6ab94709ba85ce757": {
      "model_module": "@jupyter-widgets/controls",
      "model_module_version": "1.4.0",
      "model_name": "DescriptionStyleModel",
      "state": {
       "description_width": "initial"
      }
     },
     "efe9319d4b7d47aa89075ee81471b8c9": {
      "model_module": "@jupyter-widgets/base",
      "model_module_version": "1.1.0",
      "model_name": "LayoutModel",
      "state": {}
     },
     "f0458da85aee4806a23c6e53485d0973": {
      "model_module": "@jupyter-widgets/controls",
      "model_module_version": "1.4.0",
      "model_name": "CheckboxModel",
      "state": {
       "description": "Plot with Plotly after scan ends: ",
       "disabled": true,
       "layout": "IPY_MODEL_b52f485075b6415ea96a02cc66971525",
       "style": "IPY_MODEL_c2ef426fd0b24265917b33d39cf38ea4",
       "value": false
      }
     },
     "f1a161077be449498c19cd41bd8dd627": {
      "model_module": "@jupyter-widgets/base",
      "model_module_version": "1.1.0",
      "model_name": "LayoutModel",
      "state": {}
     },
     "f1a274aa656440fb8b17046f58cfc7af": {
      "model_module": "@jupyter-widgets/controls",
      "model_module_version": "1.4.0",
      "model_name": "VBoxModel",
      "state": {
       "children": [
        "IPY_MODEL_10479785680c4372971bb2fa7b913950"
       ],
       "layout": "IPY_MODEL_dd1eb1922c3a4f6a8cf140e4ba2fe5ee"
      }
     },
     "f1d22f98f2e746ee9abb7f0385c8c50f": {
      "model_module": "@jupyter-widgets/base",
      "model_module_version": "1.1.0",
      "model_name": "LayoutModel",
      "state": {
       "width": "300px"
      }
     },
     "f1fa62d9fc9241b58ff0b8f4956b5867": {
      "model_module": "@jupyter-widgets/controls",
      "model_module_version": "1.4.0",
      "model_name": "TextModel",
      "state": {
       "layout": "IPY_MODEL_0cb262bdaf1341f680b3f3706f464468",
       "placeholder": "Type the notebook's name without file format",
       "style": "IPY_MODEL_0b0a2b91e42947948d9dddc10c7c7eae"
      }
     },
     "f232e2a7ec074c9f8dc1adbe324e5558": {
      "model_module": "@jupyter-widgets/base",
      "model_module_version": "1.1.0",
      "model_name": "LayoutModel",
      "state": {}
     },
     "f260d50a7f37417cbf050ab9dae71c7b": {
      "model_module": "@jupyter-widgets/base",
      "model_module_version": "1.1.0",
      "model_name": "LayoutModel",
      "state": {
       "height": "40px",
       "width": "40px"
      }
     },
     "f2806161df9945be948522940973818f": {
      "model_module": "@jupyter-widgets/controls",
      "model_module_version": "1.4.0",
      "model_name": "DescriptionStyleModel",
      "state": {
       "description_width": "initial"
      }
     },
     "f28bb9ddc2ac4fc697121a5c17bddf3a": {
      "model_module": "@jupyter-widgets/base",
      "model_module_version": "1.1.0",
      "model_name": "LayoutModel",
      "state": {}
     },
     "f2b03d5077e2426c94d89301e7e67b61": {
      "model_module": "@jupyter-widgets/base",
      "model_module_version": "1.1.0",
      "model_name": "LayoutModel",
      "state": {}
     },
     "f4162a9d7c004db38e1906b11f270a65": {
      "model_module": "@jupyter-widgets/base",
      "model_module_version": "1.1.0",
      "model_name": "LayoutModel",
      "state": {
       "width": "300px"
      }
     },
     "f4537833896d449d97565f065cc455bd": {
      "model_module": "@jupyter-widgets/base",
      "model_module_version": "1.1.0",
      "model_name": "LayoutModel",
      "state": {}
     },
     "f4f97888d7924ffaaf1354579a6d9a5e": {
      "model_module": "@jupyter-widgets/controls",
      "model_module_version": "1.4.0",
      "model_name": "ButtonStyleModel",
      "state": {}
     },
     "f51e8de527464b6cab1e8a56073ae98d": {
      "model_module": "@jupyter-widgets/base",
      "model_module_version": "1.1.0",
      "model_name": "LayoutModel",
      "state": {}
     },
     "f5b3f379ba1c4e8090fb6a4f7841545a": {
      "model_module": "@jupyter-widgets/base",
      "model_module_version": "1.1.0",
      "model_name": "LayoutModel",
      "state": {}
     },
     "f77e78a2e94e40d589d7ba03c756ec91": {
      "model_module": "@jupyter-widgets/base",
      "model_module_version": "1.1.0",
      "model_name": "LayoutModel",
      "state": {}
     },
     "f78a0b9fb7d64e16a59c8df6cea5da1f": {
      "model_module": "@jupyter-widgets/controls",
      "model_module_version": "1.4.0",
      "model_name": "DescriptionStyleModel",
      "state": {
       "description_width": ""
      }
     },
     "f7a8b6d235944ff4b7b97c4cd178dc56": {
      "model_module": "@jupyter-widgets/base",
      "model_module_version": "1.1.0",
      "model_name": "LayoutModel",
      "state": {
       "width": "300px"
      }
     },
     "f7a99e76a31e493c8794818c6b8ea377": {
      "model_module": "@jupyter-widgets/base",
      "model_module_version": "1.1.0",
      "model_name": "LayoutModel",
      "state": {}
     },
     "f7c33f729c404b0ea5cda1848e8902fd": {
      "model_module": "@jupyter-widgets/controls",
      "model_module_version": "1.4.0",
      "model_name": "VBoxModel",
      "state": {
       "children": [
        "IPY_MODEL_e8eedeac76694db5b1fd557724cc98d9"
       ],
       "layout": "IPY_MODEL_c436931a68854836bb2ff4bd723b267e"
      }
     },
     "f7dd40625dce47738ae003e1faab7e82": {
      "model_module": "@jupyter-widgets/controls",
      "model_module_version": "1.4.0",
      "model_name": "HBoxModel",
      "state": {
       "children": [
        "IPY_MODEL_ae8302e63fd9455db5ba299c7c7c8e6e",
        "IPY_MODEL_6ef61590e29442378782c3a71f969d51"
       ],
       "layout": "IPY_MODEL_f232e2a7ec074c9f8dc1adbe324e5558"
      }
     },
     "f94586ea4d434a388d5714ceabc48c2a": {
      "model_module": "@jupyter-widgets/base",
      "model_module_version": "1.1.0",
      "model_name": "LayoutModel",
      "state": {
       "width": "300px"
      }
     },
     "f96d8eb6d78e461182d60b4951071716": {
      "model_module": "@jupyter-widgets/controls",
      "model_module_version": "1.4.0",
      "model_name": "DescriptionStyleModel",
      "state": {
       "description_width": ""
      }
     },
     "f9bec55f24ba4a11a6414637dc371ae9": {
      "model_module": "@jupyter-widgets/output",
      "model_module_version": "1.0.0",
      "model_name": "OutputModel",
      "state": {
       "layout": "IPY_MODEL_906a4cb6bc2a4e9c9e2527e20c105070",
       "outputs": [
        {
         "data": {
          "application/javascript": "IPython.notebook.save_checkpoint();",
          "text/plain": "<IPython.core.display.Javascript object>"
         },
         "metadata": {},
         "output_type": "display_data"
        },
        {
         "data": {
          "application/javascript": "IPython.notebook.save_checkpoint();",
          "text/plain": "<IPython.core.display.Javascript object>"
         },
         "metadata": {},
         "output_type": "display_data"
        }
       ]
      }
     },
     "fa062e2c35fc46d980629ed4d9204ee0": {
      "model_module": "@jupyter-widgets/controls",
      "model_module_version": "1.4.0",
      "model_name": "ButtonModel",
      "state": {
       "button_style": "success",
       "description": "Start Motor Initializaton",
       "layout": "IPY_MODEL_66ff3ca049a040be99eff9061859bd47",
       "style": "IPY_MODEL_c4db99f0271442d3b78fc88dfefd1714",
       "tooltip": "Click me"
      }
     },
     "fa5287707d72478cb557fdaf64abc66e": {
      "model_module": "@jupyter-widgets/base",
      "model_module_version": "1.1.0",
      "model_name": "LayoutModel",
      "state": {
       "height": "40px",
       "width": "40px"
      }
     },
     "fa5c04166a464f5ca0735d76eb0562d6": {
      "model_module": "@jupyter-widgets/base",
      "model_module_version": "1.1.0",
      "model_name": "LayoutModel",
      "state": {}
     },
     "fa6257500e3d4e4fb97a6bc92e029152": {
      "model_module": "@jupyter-widgets/base",
      "model_module_version": "1.1.0",
      "model_name": "LayoutModel",
      "state": {}
     },
     "fa6a81b3a259478bad95248549274435": {
      "model_module": "@jupyter-widgets/controls",
      "model_module_version": "1.4.0",
      "model_name": "DescriptionStyleModel",
      "state": {
       "description_width": ""
      }
     },
     "fa75129591784d22bc72f952dd82319e": {
      "model_module": "@jupyter-widgets/controls",
      "model_module_version": "1.4.0",
      "model_name": "ButtonModel",
      "state": {
       "button_style": "success",
       "description": "Start Manual Alignment",
       "layout": "IPY_MODEL_e472bb3528364eee82e627ad7ccdd75b",
       "style": "IPY_MODEL_a5d58c1d234c40dba54db8a40397c6be",
       "tooltip": "Click me"
      }
     },
     "fb352b14411c4aab9c31637cb18f8bac": {
      "model_module": "@jupyter-widgets/base",
      "model_module_version": "1.1.0",
      "model_name": "LayoutModel",
      "state": {
       "width": "300px"
      }
     },
     "fc1f3f52fa584c068907a08ace1742c8": {
      "model_module": "@jupyter-widgets/base",
      "model_module_version": "1.1.0",
      "model_name": "LayoutModel",
      "state": {
       "width": "300px"
      }
     },
     "fc2a3f0c94bd4dd6a238a9ecc49ceda1": {
      "model_module": "@jupyter-widgets/base",
      "model_module_version": "1.1.0",
      "model_name": "LayoutModel",
      "state": {}
     },
     "fc609d488d694c5a89dab173328d80a1": {
      "model_module": "@jupyter-widgets/base",
      "model_module_version": "1.1.0",
      "model_name": "LayoutModel",
      "state": {}
     },
     "fd3eb625bf6140b5ad07e3db1afb1aa5": {
      "model_module": "@jupyter-widgets/output",
      "model_module_version": "1.0.0",
      "model_name": "OutputModel",
      "state": {
       "layout": "IPY_MODEL_28aea0b5c0684972bebacca8fb4e7480"
      }
     },
     "fd50fd684d594e32ad44beb832e635d4": {
      "model_module": "@jupyter-widgets/controls",
      "model_module_version": "1.4.0",
      "model_name": "DescriptionStyleModel",
      "state": {
       "description_width": ""
      }
     },
     "fd8a3848ac8d499a836c38d10c9161af": {
      "buffers": [
       {
        "data": "AAAAAAAAAEAAAAAAAADwPwAAAAAAAPA/AAAAAAAAIEAAAAAAAAAiQA==",
        "encoding": "base64",
        "path": [
         "_data",
         0,
         "y",
         "value"
        ]
       },
       {
        "data": "AAAAAAAAAEAAAAAAAADwPwAAAAAAAPA/AAAAAAAAIEAAAAAAAAAiQA==",
        "encoding": "base64",
        "path": [
         "_data",
         1,
         "y",
         "value"
        ]
       }
      ],
      "model_module": "plotlywidget",
      "model_module_version": "0.8.0",
      "model_name": "FigureModel",
      "state": {
       "_config": {
        "plotlyServerURL": "https://plot.ly"
       },
       "_data": [
        {
         "mode": "lines+markers",
         "name": "line1",
         "type": "scatter",
         "uid": "b584c98d-a9e3-4cd3-bcba-4047b85bd8a1",
         "x": [
          0,
          1,
          2,
          3,
          4
         ],
         "xaxis": "x",
         "y": {
          "dtype": "float64",
          "shape": [
           5
          ],
          "value": {}
         },
         "yaxis": "y"
        },
        {
         "mode": "lines+markers",
         "name": "line2",
         "type": "scatter",
         "uid": "989a249e-da4f-4e7c-8d98-f66b702a1c68",
         "x": [
          0,
          1,
          2,
          3,
          4
         ],
         "xaxis": "x2",
         "y": {
          "dtype": "float64",
          "shape": [
           5
          ],
          "value": {}
         },
         "yaxis": "y2"
        }
       ],
       "_js2py_pointsCallback": {},
       "_js2py_restyle": {},
       "_js2py_update": {},
       "_last_layout_edit_id": 8,
       "_last_trace_edit_id": 7,
       "_layout": {
        "autosize": true,
        "plot_bgcolor": "rgb(230, 230, 230)",
        "template": {},
        "title": {
         "text": "Scan"
        },
        "xaxis": {
         "anchor": "y",
         "domain": [
          0,
          1
         ]
        },
        "xaxis2": {
         "anchor": "y2",
         "domain": [
          0,
          1
         ]
        },
        "yaxis": {
         "anchor": "x",
         "domain": [
          0.575,
          1
         ]
        },
        "yaxis2": {
         "anchor": "x2",
         "domain": [
          0,
          0.425
         ]
        }
       },
       "_model_module_version": "0.8.0",
       "_py2js_animate": {},
       "_py2js_deleteTraces": {},
       "_py2js_moveTraces": {},
       "_py2js_removeLayoutProps": {},
       "_py2js_removeTraceProps": {},
       "_view_count": 0,
       "_view_module_version": "0.8.0"
      }
     },
     "fdc510980cd549febf18942cdc0d4102": {
      "model_module": "@jupyter-widgets/base",
      "model_module_version": "1.1.0",
      "model_name": "LayoutModel",
      "state": {}
     },
     "fe56747e02a44ec5a5632794eb86c73d": {
      "model_module": "@jupyter-widgets/output",
      "model_module_version": "1.0.0",
      "model_name": "OutputModel",
      "state": {
       "layout": "IPY_MODEL_6f54981614fc4a0982f93c4f2479d1a8"
      }
     },
     "ffda62be0f1d4148a08bfe47ad17960e": {
      "model_module": "@jupyter-widgets/base",
      "model_module_version": "1.1.0",
      "model_name": "LayoutModel",
      "state": {}
     }
    },
    "version_major": 2,
    "version_minor": 0
   }
  }
 },
 "nbformat": 4,
 "nbformat_minor": 2
}
