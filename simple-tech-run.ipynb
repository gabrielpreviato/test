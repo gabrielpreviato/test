{
 "cells": [
  {
   "cell_type": "code",
   "execution_count": 1,
   "metadata": {},
   "outputs": [
    {
     "name": "stdout",
     "output_type": "stream",
     "text": [
      "\r\n",
      "              Motor:                User:                Dial:\r\n",
      "               solm1               0.0000               0.0000\r\n",
      "\r\n",
      "\t      Limits:\r\n",
      "\t       solm1: [-100, 100]\r\n"
     ]
    }
   ],
   "source": [
    "!wm solm1"
   ]
  },
  {
   "cell_type": "code",
   "execution_count": 6,
   "metadata": {},
   "outputs": [
    {
     "name": "stdout",
     "output_type": "stream",
     "text": [
      "/usr/local/SOL/scan-utils/scan_utils/configuration.py:51: YAMLLoadWarning: calling yaml.load() without Loader=... is deprecated, as the default Loader is unsafe. Please read https://msg.pyyaml.org/load for full details.\n",
      "  yield loader(f)\n",
      "solm1\n",
      "------------------\n",
      "\u001b[2K2\t97\t\n",
      "              Motor:                User:                Dial:\n",
      "               solm1               2.0000               2.0000\n"
     ]
    }
   ],
   "source": [
    "!move solm1 2"
   ]
  },
  {
   "cell_type": "code",
   "execution_count": 2,
   "metadata": {},
   "outputs": [
    {
     "name": "stdout",
     "output_type": "stream",
     "text": [
      "[2019-05-31 13:51:56,845] [INFO    ] - Opening the default stylesheet '/usr/local/lib/python3.5/dist-packages/pydm/default_stylesheet.qss'...\n",
      "libGL error: failed to open drm device: Permission denied\n",
      "libGL error: failed to load driver: nouveau\n",
      "/usr/local/SOL/GUI/sol-widgets/sol_widgets/widgets/motor.py:496: YAMLLoadWarning: calling yaml.load() without Loader=... is deprecated, as the default Loader is unsafe. Please read https://msg.pyyaml.org/load for full details.\n",
      "  self.fields_map = yaml.load(f)\n",
      "/usr/local/SOL/GUI/sol-widgets/sol_widgets/widgets/motor.py:496: YAMLLoadWarning: calling yaml.load() without Loader=... is deprecated, as the default Loader is unsafe. Please read https://msg.pyyaml.org/load for full details.\n",
      "  self.fields_map = yaml.load(f)\n",
      "Traceback (most recent call last):\n",
      "  File \"/usr/local/SOL/GUI/sol-widgets/sol_widgets/widgets/slit.py\", line 418, in channelBottomMotor\n",
      "    self._bottom.channel = value + '.RBV'\n",
      "AttributeError: 'QSlit' object has no attribute '_bottom'\n",
      "QMainWindowLayout::count: ?\n"
     ]
    }
   ],
   "source": [
    "!slits"
   ]
  },
  {
   "cell_type": "code",
   "execution_count": 3,
   "metadata": {},
   "outputs": [
    {
     "name": "stdout",
     "output_type": "stream",
     "text": [
      "Motor pmac_offsetv described in config file not found \n",
      "Motor energy_RBV described in config file not found \n",
      "Motor pmac_gapv described in config file not found \n",
      "Motor pmac1 described in config file not found \n",
      "^C\n",
      "Traceback (most recent call last):\n",
      "  File \"/usr/local/bin/wa\", line 13, in <module>\n",
      "    conf.createMotor(motor)\n",
      "  File \"/usr/local/SOL/scan-utils/scan_utils/configuration.py\", line 144, in createMotor\n",
      "    return createMotor(name, self.configuration['motors'])\n",
      "  File \"/usr/local/SOL/scan-utils/scan_utils/helpers.py\", line 69, in createMotor\n",
      "    mtrDB[name] = MotorWithReadBack(name, info['pv'], info.get('readback', info['pv']+'.RBV'))\n",
      "  File \"/usr/local/SOL/scan-utils/scan_utils/MotorWithReadBack.py\", line 7, in __init__\n",
      "    super().__init__(pvName, mnemonic)\n",
      "  File \"/usr/local/lib/python3.5/dist-packages/Py4Syn-0.3.0+189.g4be5ccf-py3.5.egg/py4syn/epics/MotorClass.py\", line 57, in __init__\n",
      "    if(self.pvType.status is None):\n",
      "  File \"/usr/local/lib/python3.5/dist-packages/epics/pv.py\", line 760, in status\n",
      "    return self._getarg('status')\n",
      "  File \"/usr/local/lib/python3.5/dist-packages/epics/pv.py\", line 733, in _getarg\n",
      "    self.get()\n",
      "  File \"/usr/local/lib/python3.5/dist-packages/epics/pv.py\", line 325, in get\n",
      "    use_monitor=use_monitor)\n",
      "  File \"/usr/local/lib/python3.5/dist-packages/epics/pv.py\", line 363, in get_with_metadata\n",
      "    if not self.wait_for_connection(timeout=timeout):\n",
      "  File \"/usr/local/lib/python3.5/dist-packages/epics/pv.py\", line 264, in wait_for_connection\n",
      "    self.connect(timeout=timeout)\n",
      "  File \"/usr/local/lib/python3.5/dist-packages/epics/pv.py\", line 278, in connect\n",
      "    ca.connect_channel(self.chid, timeout=timeout)\n",
      "  File \"/usr/local/lib/python3.5/dist-packages/epics/ca.py\", line 410, in wrapper\n",
      "    return fcn(*args, **kwds)\n",
      "  File \"/usr/local/lib/python3.5/dist-packages/epics/ca.py\", line 946, in connect_channel\n",
      "    poll()\n",
      "  File \"/usr/local/lib/python3.5/dist-packages/epics/ca.py\", line 383, in wrapper\n",
      "    return fcn(*args, **kwds)\n",
      "  File \"/usr/local/lib/python3.5/dist-packages/epics/ca.py\", line 791, in poll\n",
      "    pend_event(evt)\n",
      "  File \"/usr/local/lib/python3.5/dist-packages/epics/ca.py\", line 778, in pend_event\n",
      "    ret = libca.ca_pend_event(timeout)\n",
      "KeyboardInterrupt\n"
     ]
    }
   ],
   "source": [
    "!wa"
   ]
  },
  {
   "cell_type": "code",
   "execution_count": 4,
   "metadata": {},
   "outputs": [
    {
     "name": "stdout",
     "output_type": "stream",
     "text": [
      "[2019-05-31 13:52:31,738] [INFO    ] - Opening the default stylesheet '/usr/local/lib/python3.5/dist-packages/pydm/default_stylesheet.qss'...\n",
      "libGL error: failed to open drm device: Permission denied\n",
      "libGL error: failed to load driver: nouveau\n",
      "/usr/local/SOL/GUI/sol-widgets/sol_widgets/widgets/motor.py:496: YAMLLoadWarning: calling yaml.load() without Loader=... is deprecated, as the default Loader is unsafe. Please read https://msg.pyyaml.org/load for full details.\n",
      "  self.fields_map = yaml.load(f)\n"
     ]
    }
   ],
   "source": [
    "!motor"
   ]
  },
  {
   "cell_type": "code",
   "execution_count": null,
   "metadata": {},
   "outputs": [],
   "source": [
    "## Here goes ct\n",
    "# Antes de executar, certificar que os arquivos estao linkados no bin\n",
    "# Exemplo:\n",
    "# ln -s /usr/local/SOL/scan-utils/ct /usr/local/bin/ct\n",
    "!ct"
   ]
  },
  {
   "cell_type": "code",
   "execution_count": null,
   "metadata": {},
   "outputs": [],
   "source": [
    "## Here goes scaler\n",
    "!scaler -m \"P=SOL:CRIO1:SCALER_DIG\""
   ]
  },
  {
   "cell_type": "code",
   "execution_count": 5,
   "metadata": {},
   "outputs": [
    {
     "name": "stdout",
     "output_type": "stream",
     "text": [
      "[2019-05-31 13:52:41,930] [INFO    ] - Opening the default stylesheet '/usr/local/lib/python3.5/dist-packages/pydm/default_stylesheet.qss'...\n",
      "libGL error: failed to open drm device: Permission denied\n",
      "libGL error: failed to load driver: nouveau\n",
      "[2019-05-31 13:52:42,020] [ERROR   ] - Image file  '/home/lais.carmo/work/SOL/GUI/scan-gui/img/lnls-sirius.png' does not exist\n",
      "[2019-05-31 13:52:42,021] [ERROR   ] - Image file  '/home/lais.carmo/work/SOL/GUI/scan-gui/img/cnpem.png' does not exist\n"
     ]
    }
   ],
   "source": [
    "# First instal pymca\n",
    "# pip3 install PyMca5\n",
    "# pip3 install silx\n",
    "!scan_gui"
   ]
  },
  {
   "cell_type": "code",
   "execution_count": 12,
   "metadata": {},
   "outputs": [],
   "source": [
    "!pymca"
   ]
  },
  {
   "cell_type": "code",
   "execution_count": 13,
   "metadata": {},
   "outputs": [
    {
     "name": "stdout",
     "output_type": "stream",
     "text": [
      "/usr/local/SOL/scan-utils/scan_utils/configuration.py:51: YAMLLoadWarning: calling yaml.load() without Loader=... is deprecated, as the default Loader is unsafe. Please read https://msg.pyyaml.org/load for full details.\n",
      "  yield loader(f)\n",
      "solm1\n",
      "------------------\n",
      "\u001b[2K1\t03\t\n",
      "              Motor:                User:                Dial:\n",
      "               solm1               1.0000               1.0000\n"
     ]
    }
   ],
   "source": [
    "!move solm1 1"
   ]
  },
  {
   "cell_type": "code",
   "execution_count": 6,
   "metadata": {},
   "outputs": [
    {
     "data": {
      "application/javascript": [
       "IPython.notebook.save_checkpoint();"
      ],
      "text/plain": [
       "<IPython.core.display.Javascript object>"
      ]
     },
     "metadata": {},
     "output_type": "display_data"
    },
    {
     "name": "stdout",
     "output_type": "stream",
     "text": [
      "[NbConvertApp] Converting notebook simple-tech-run.ipynb to html\n",
      "[NbConvertApp] Writing 284624 bytes to ./exports/simple-tech-run.html\n"
     ]
    }
   ],
   "source": [
    "from IPython.display import display, Javascript\n",
    "display(Javascript('IPython.notebook.save_checkpoint();'))\n",
    "!python3 -m nbconvert simple-tech-run.ipynb --template=nbextensions --output-dir=./exports --output=simple-tech-run.html --to html"
   ]
  }
 ],
 "metadata": {
  "kernelspec": {
   "display_name": "Python 3",
   "language": "python",
   "name": "python3"
  },
  "language_info": {
   "codemirror_mode": {
    "name": "ipython",
    "version": 3
   },
   "file_extension": ".py",
   "mimetype": "text/x-python",
   "name": "python",
   "nbconvert_exporter": "python",
   "pygments_lexer": "ipython3",
   "version": "3.5.3"
  }
 },
 "nbformat": 4,
 "nbformat_minor": 2
}
