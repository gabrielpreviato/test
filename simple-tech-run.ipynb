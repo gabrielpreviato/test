{
 "cells": [
  {
   "cell_type": "markdown",
   "metadata": {},
   "source": [
    "# **XAFS1 - Calibration**"
   ]
  },
  {
   "cell_type": "markdown",
   "metadata": {},
   "source": [
    "## **Energy**"
   ]
  },
  {
   "cell_type": "code",
   "execution_count": 205,
   "metadata": {},
   "outputs": [],
   "source": [
    "import subprocess"
   ]
  },
  {
   "cell_type": "code",
   "execution_count": 204,
   "metadata": {},
   "outputs": [
    {
     "name": "stdout",
     "output_type": "stream",
     "text": [
      "\r\n",
      "              Motor:                User:                Dial:\r\n",
      "               crioh             148.1364             205.7441\r\n",
      "               solm3               0.0000               0.0000\r\n",
      "              predir              -0.1288              -0.1528\r\n",
      "                 yaw              -0.5918              12.5534\r\n",
      "                 shv              -5.0000              42.8298\r\n",
      "                mono              16.1573              -8.7200\r\n",
      "               criov             -35.0887              12.2758\r\n",
      "                 shh              22.0000             -68.0713\r\n",
      "               solm2              -8.0000              -8.0000\r\n",
      "              presup               0.5329              -0.0259\r\n",
      "                 ref             -17.2217              12.2758\r\n",
      "              posesq             -10.1851               0.9944\r\n",
      "              energy            7105.0000               0.0000\r\n",
      "               solm4               0.0000               0.0000\r\n",
      "              posinf              -3.3245               2.0933\r\n",
      "                 gon              45.0000            -768.2473\r\n",
      "              posdir               0.0121             -11.7161\r\n",
      "               solm1              11.0000              11.0000\r\n",
      "                  xv              -0.6747               0.0000\r\n",
      "                mesa              17.2859               1.0321\r\n",
      "             cristal               0.0000              -0.1342\r\n",
      "              possup               3.9112               3.4454\r\n",
      "              preinf               0.0003               0.1104\r\n",
      "                  xh              -8.0000              10.5227\r\n",
      "              preesq               0.4708              -0.7235\r\n"
     ]
    }
   ],
   "source": [
    "!wa"
   ]
  },
  {
   "cell_type": "code",
   "execution_count": 206,
   "metadata": {},
   "outputs": [
    {
     "name": "stdout",
     "output_type": "stream",
     "text": [
      "\n",
      "              Motor:                User:                Dial:\n",
      "              energy            7105.0000               0.0000\n",
      "\n",
      "\t      Limits:\n",
      "\t       energy: [6000, 15000]\n"
     ]
    }
   ],
   "source": [
    "!wm energy"
   ]
  },
  {
   "cell_type": "code",
   "execution_count": 207,
   "metadata": {},
   "outputs": [
    {
     "name": "stdout",
     "output_type": "stream",
     "text": [
      "energy\n",
      "------------------\n",
      "\u001b[2K7.09e+03\t\n",
      "              Motor:                User:                Dial:\n",
      "              energy            7090.0015               0.0000\n"
     ]
    }
   ],
   "source": [
    "!move energy 7090"
   ]
  },
  {
   "cell_type": "markdown",
   "metadata": {},
   "source": [
    "- **Mesa ON/OFF**"
   ]
  },
  {
   "cell_type": "code",
   "execution_count": 208,
   "metadata": {},
   "outputs": [
    {
     "name": "stdout",
     "output_type": "stream",
     "text": [
      "XAFS1:HeightFlag               On\r\n"
     ]
    }
   ],
   "source": [
    "!caget XAFS1:HeightFlag"
   ]
  },
  {
   "cell_type": "code",
   "execution_count": null,
   "metadata": {},
   "outputs": [],
   "source": [
    "!caput XAFS1:HeightFlag <On/Off> "
   ]
  },
  {
   "cell_type": "markdown",
   "metadata": {},
   "source": [
    "- **Crystal Parameter**\n",
    "  - **Si(111) - 6.27086**\n",
    "  - **Si(220) - 1.92004**"
   ]
  },
  {
   "cell_type": "code",
   "execution_count": 210,
   "metadata": {},
   "outputs": [
    {
     "name": "stdout",
     "output_type": "stream",
     "text": [
      "XAFS1:CrystalParam             6.27086\r\n"
     ]
    }
   ],
   "source": [
    "!caget XAFS1:CrystalParam"
   ]
  },
  {
   "cell_type": "code",
   "execution_count": null,
   "metadata": {},
   "outputs": [],
   "source": [
    "!caput XAFS1:CrystalParam <insert>"
   ]
  },
  {
   "cell_type": "markdown",
   "metadata": {},
   "source": [
    "- #### Cristal pos for \n",
    "\n",
    "   - **Si(111) = 0**\n",
    "\n",
    "   - **Si(220) = 59**\n"
   ]
  },
  {
   "cell_type": "code",
   "execution_count": 209,
   "metadata": {},
   "outputs": [
    {
     "name": "stdout",
     "output_type": "stream",
     "text": [
      "\r\n",
      "              Motor:                User:                Dial:\r\n",
      "             cristal               0.0000              -0.1342\r\n",
      "\r\n",
      "\t      Limits:\r\n",
      "\t       cristal: [-1000, 1000]\r\n"
     ]
    }
   ],
   "source": [
    "!wm cristal"
   ]
  },
  {
   "cell_type": "code",
   "execution_count": null,
   "metadata": {},
   "outputs": [],
   "source": [
    "!move cristal <insert>"
   ]
  },
  {
   "cell_type": "markdown",
   "metadata": {},
   "source": [
    "## **Slits**"
   ]
  },
  {
   "cell_type": "markdown",
   "metadata": {},
   "source": [
    "- **Pre-mono**"
   ]
  },
  {
   "cell_type": "code",
   "execution_count": 211,
   "metadata": {},
   "outputs": [],
   "source": [
    "%%script bash --bg\n",
    "export LEFT=`get-pv-by-name preesq`\n",
    "export RIGHT=`get-pv-by-name predir` \n",
    "export TOP=`get-pv-by-name presup`\n",
    "export BOTTOM=`get-pv-by-name preinf`\n",
    "slits ${LEFT} ${RIGHT} ${TOP} ${BOTTOM} --user"
   ]
  },
  {
   "cell_type": "markdown",
   "metadata": {},
   "source": [
    "- **Post-mono**"
   ]
  },
  {
   "cell_type": "code",
   "execution_count": 212,
   "metadata": {},
   "outputs": [],
   "source": [
    "%%script bash --bg\n",
    "export LEFT=`get-pv-by-name posesq`\n",
    "export RIGHT=`get-pv-by-name posdir`\n",
    "export TOP=`get-pv-by-name possup`\n",
    "export BOTTOM=`get-pv-by-name posinf`\n",
    "slits ${LEFT} ${RIGHT} ${TOP} ${BOTTOM} --user"
   ]
  },
  {
   "cell_type": "markdown",
   "metadata": {},
   "source": [
    "## **Motors**"
   ]
  },
  {
   "cell_type": "code",
   "execution_count": 213,
   "metadata": {},
   "outputs": [],
   "source": [
    "%%script bash --bg\n",
    "export M1=`get-pv-by-name shv`\n",
    "export M2=`get-pv-by-name shh`\n",
    "export M3=`get-pv-by-name criov`\n",
    "export M4=`get-pv-by-name crioh`\n",
    "export M5=`get-pv-by-name gon`\n",
    "motors_gui ${M1} ${M2} ${M3} ${M4} ${M5} --user"
   ]
  },
  {
   "cell_type": "markdown",
   "metadata": {},
   "source": [
    "## **Counters**"
   ]
  },
  {
   "cell_type": "markdown",
   "metadata": {},
   "source": [
    "#### Stanford Calibration"
   ]
  },
  {
   "cell_type": "code",
   "execution_count": 214,
   "metadata": {},
   "outputs": [
    {
     "name": "stdout",
     "output_type": "stream",
     "text": [
      "\t Scaler type:  analog in 0.2 s\n",
      "XAFS1:SR5701: \t    S2       \t   S2     \t   IO  \t      I1\n",
      "XAFS1:SR5702: \t  (counts)   \t (counts)  \t ( V )     \t ( V )\n",
      "1 pA/V    \t 12341038.0    \t 12067534.0 \t 7.2009 \t 7.2581\n",
      "2 pA/V    \t 13273709.0    \t 14953468.0 \t 7.2012 \t 7.2575\n",
      "5 pA/V    \t 14829520.0    \t 14888893.0 \t 7.2016 \t 7.2575\n",
      "10 pA/V    \t 14758447.0    \t 14832489.0 \t 7.2019 \t 7.2581\n",
      "20 pA/V    \t 14717015.0    \t 14813917.0 \t 7.2025 \t 7.2578\n",
      "50 pA/V    \t 14681932.0    \t 12908120.0 \t 7.1933 \t 7.2509\n",
      "100 pA/V    \t 16533472.0    \t 11518212.0 \t 7.1933 \t 6.4136\n",
      "200 pA/V    \t 12616141.0    \t 14186220.0 \t 7.2 \t 7.2496\n",
      "500 pA/V    \t 12795948.0    \t 10477195.0 \t 7.1936 \t 4.5209\n",
      "1 nA/V    \t 10888559.0    \t 6383837.0 \t 4.3354 \t 2.2618\n",
      "2 nA/V    \t 5933208.0    \t 2869342.0 \t 2.1503 \t 1.2176\n",
      "5 nA/V    \t 2462290.0    \t 1293438.0 \t 0.8775 \t 0.442\n",
      "10 nA/V    \t 1140517.0    \t 545560.0 \t 0.4416 \t 0.2353\n",
      "20 nA/V    \t 531182.0    \t 303718.0 \t 0.2528 \t 0.1115\n",
      "50 nA/V    \t 233697.0    \t 170105.0 \t 0.0848 \t 0.0697\n",
      "100 nA/V    \t 102984.0    \t 65980.0 \t 0.0459 \t 0.0125\n",
      "200 nA/V    \t 1518213.0    \t 1616791.0 \t 0.0743 \t 0.2255\n",
      "500 nA/V    \t 2923494.0    \t 2906011.0 \t 0.0102 \t 0.0609\n",
      "1 uA/V    \t 1437067.0    \t 959641.0 \t 0.007 \t -0.0406\n",
      "2 uA/V    \t 2749560.0    \t 1884318.0 \t 0.0124 \t 0.0877\n",
      "5 uA/V    \t 2897987.0    \t 1380588.0 \t -0.0045 \t -0.0554\n",
      "10 uA/V    \t 3493252.0    \t 468644.0 \t -0.0016 \t 0.0062\n",
      "20 uA/V    \t 2318799.0    \t 521507.0 \t 0.0057 \t -0.0166\n",
      "50 uA/V    \t 736785.0    \t 106649.0 \t -0.0013 \t 0.0002\n",
      "100 uA/V    \t 314733.0    \t 43450.0 \t -0.0003 \t -0.0023\n",
      "200 uA/V    \t 156564.0    \t 24447.0 \t -0.0003 \t -0.0039\n",
      "500 uA/V    \t 72000.0    \t 9733.0 \t -0.0026 \t 0.0005\n"
     ]
    }
   ],
   "source": [
    "!ic_tune"
   ]
  },
  {
   "cell_type": "markdown",
   "metadata": {},
   "source": [
    "- **I0**"
   ]
  },
  {
   "cell_type": "code",
   "execution_count": 218,
   "metadata": {
    "scrolled": true
   },
   "outputs": [
    {
     "name": "stdout",
     "output_type": "stream",
     "text": [
      "XAFS1:SR5701:sens_num          2\r\n",
      "XAFS1:SR5701:sens_unit         nA/V\r\n"
     ]
    }
   ],
   "source": [
    "!caget XAFS1:SR5701:sens_num XAFS1:SR5701:sens_unit \n",
    "                "
   ]
  },
  {
   "cell_type": "code",
   "execution_count": 217,
   "metadata": {
    "scrolled": true
   },
   "outputs": [
    {
     "name": "stdout",
     "output_type": "stream",
     "text": [
      "Old : XAFS1:SR5701:sens_num          500\n",
      "New : XAFS1:SR5701:sens_num          2\n",
      "Old : XAFS1:SR5701:sens_unit         uA/V\n",
      "New : XAFS1:SR5701:sens_unit         nA/V\n"
     ]
    }
   ],
   "source": [
    "!caput XAFS1:SR5701:sens_num 2\n",
    "!caput XAFS1:SR5701:sens_unit nA/V"
   ]
  },
  {
   "cell_type": "markdown",
   "metadata": {},
   "source": [
    "- **I1**"
   ]
  },
  {
   "cell_type": "code",
   "execution_count": 220,
   "metadata": {
    "scrolled": true
   },
   "outputs": [
    {
     "name": "stdout",
     "output_type": "stream",
     "text": [
      "XAFS1:SR5702:sens_num          1\r\n",
      "XAFS1:SR5702:sens_unit         nA/V\r\n"
     ]
    }
   ],
   "source": [
    "!caget XAFS1:SR5702:sens_num XAFS1:SR5702:sens_unit "
   ]
  },
  {
   "cell_type": "code",
   "execution_count": 219,
   "metadata": {},
   "outputs": [
    {
     "name": "stdout",
     "output_type": "stream",
     "text": [
      "Old : XAFS1:SR5702:sens_num          500\n",
      "New : XAFS1:SR5702:sens_num          1\n",
      "Old : XAFS1:SR5702:sens_unit         uA/V\n",
      "New : XAFS1:SR5702:sens_unit         nA/V\n"
     ]
    }
   ],
   "source": [
    "!caput XAFS1:SR5702:sens_num 1\n",
    "!caput XAFS1:SR5702:sens_unit nA/V"
   ]
  },
  {
   "cell_type": "markdown",
   "metadata": {},
   "source": [
    "- **Counters status**"
   ]
  },
  {
   "cell_type": "code",
   "execution_count": 221,
   "metadata": {},
   "outputs": [
    {
     "name": "stdout",
     "output_type": "stream",
     "text": [
      "SOL:SCALER not connected\n",
      "SOL:SCALER not connected\n",
      "Warning while getting pseudo counter value: 'sol2s2'\n",
      "--------------------------------\n",
      "Counts:\n",
      "--------------------------------\n",
      "        I0             27587897\n",
      "        I1             28871235\n",
      " crio1ans2             27587897\n",
      " crio1ans3             28871235\n",
      "   crio1s2               216168\n",
      "   crio1s3               226029\n",
      "     math1                    1\n",
      "      norm                    0\n",
      "     norm2                    0\n",
      "norm_crios3                    1\n",
      "ringcurrent                  225\n",
      "     v1_r1                    2\n",
      "     v1_r2                   73\n",
      "     v1_r3                    0\n",
      "     v1_r4                    0\n",
      "     v2_r1                    0\n",
      "     v2_r2                   65\n",
      "     v2_r3                    0\n",
      "     v2_r4                    0\n",
      "     v3_r1                    1\n",
      "     v3_r2                   67\n",
      "     v3_r3                    0\n",
      "     v3_r4                    0\n",
      "     v4_r1                    2\n",
      "     v4_r2                   56\n",
      "     v4_r3                    0\n",
      "     v4_r4                    0\n",
      "vortex_count                    2\n",
      "vortex_r1_sum                    5\n",
      "--------------------------------\n"
     ]
    }
   ],
   "source": [
    "!ct"
   ]
  },
  {
   "cell_type": "markdown",
   "metadata": {},
   "source": [
    "- **Scaler Interface**"
   ]
  },
  {
   "cell_type": "code",
   "execution_count": 222,
   "metadata": {},
   "outputs": [
    {
     "data": {
      "text/plain": [
       "<subprocess.Popen at 0x7f4d8adc6e48>"
      ]
     },
     "execution_count": 222,
     "metadata": {},
     "output_type": "execute_result"
    }
   ],
   "source": [
    "subprocess.Popen(['pydm', '--hide-menu-bar', '--hide-nav-bar', '-m', 'P=SOL:CRIO1:SCALER_AN', 'scaler.py'])"
   ]
  },
  {
   "cell_type": "markdown",
   "metadata": {},
   "source": [
    "- **Vortex Interface**"
   ]
  },
  {
   "cell_type": "code",
   "execution_count": null,
   "metadata": {},
   "outputs": [],
   "source": [
    "subprocess.Popen(['pydm', '--hide-menu-bar', '--hide-nav-bar', '-m', 'P=XSPRESS3-CARNAUBA', 'vortex.py'])"
   ]
  },
  {
   "cell_type": "markdown",
   "metadata": {},
   "source": [
    "## **Scan**"
   ]
  },
  {
   "cell_type": "code",
   "execution_count": 225,
   "metadata": {},
   "outputs": [
    {
     "data": {
      "text/plain": [
       "<subprocess.Popen at 0x7f4d8adc6f98>"
      ]
     },
     "execution_count": 225,
     "metadata": {},
     "output_type": "execute_result"
    }
   ],
   "source": [
    "subprocess.Popen(['scan_gui'])"
   ]
  },
  {
   "cell_type": "markdown",
   "metadata": {},
   "source": [
    "## **Energy scan**"
   ]
  },
  {
   "cell_type": "code",
   "execution_count": 224,
   "metadata": {},
   "outputs": [
    {
     "data": {
      "text/plain": [
       "<subprocess.Popen at 0x7f4d8adc6198>"
      ]
     },
     "execution_count": 224,
     "metadata": {},
     "output_type": "execute_result"
    }
   ],
   "source": [
    "subprocess.Popen(['energy_scan_gui', 'energy'])"
   ]
  },
  {
   "cell_type": "markdown",
   "metadata": {},
   "source": [
    "## **Data analysis**"
   ]
  },
  {
   "cell_type": "code",
   "execution_count": 226,
   "metadata": {},
   "outputs": [
    {
     "data": {
      "text/plain": [
       "<subprocess.Popen at 0x7f4d8add4080>"
      ]
     },
     "execution_count": 226,
     "metadata": {},
     "output_type": "execute_result"
    }
   ],
   "source": [
    "subprocess.Popen(['pymca'])"
   ]
  },
  {
   "cell_type": "code",
   "execution_count": null,
   "metadata": {},
   "outputs": [],
   "source": [
    "!move solm1 1"
   ]
  },
  {
   "cell_type": "code",
   "execution_count": 227,
   "metadata": {},
   "outputs": [
    {
     "data": {
      "application/javascript": [
       "IPython.notebook.save_checkpoint();"
      ],
      "text/plain": [
       "<IPython.core.display.Javascript object>"
      ]
     },
     "metadata": {},
     "output_type": "display_data"
    },
    {
     "name": "stdout",
     "output_type": "stream",
     "text": [
      "[NbConvertApp] Converting notebook simple-tech-run.ipynb to html\n",
      "[NbConvertApp] Writing 299407 bytes to ./exports/simple-tech-run.html\n"
     ]
    }
   ],
   "source": [
    "from IPython.display import display, Javascript\n",
    "display(Javascript('IPython.notebook.save_checkpoint();'))\n",
    "!python3 -m nbconvert simple-tech-run.ipynb --template=nbextensions --output-dir=./exports --output=simple-tech-run.html --to html"
   ]
  }
 ],
 "metadata": {
  "kernelspec": {
   "display_name": "Python 3",
   "language": "python",
   "name": "python3"
  },
  "language_info": {
   "codemirror_mode": {
    "name": "ipython",
    "version": 3
   },
   "file_extension": ".py",
   "mimetype": "text/x-python",
   "name": "python",
   "nbconvert_exporter": "python",
   "pygments_lexer": "ipython3",
   "version": "3.5.3"
  }
 },
 "nbformat": 4,
 "nbformat_minor": 2
}
