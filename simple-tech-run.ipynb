{
 "cells": [
  {
   "cell_type": "markdown",
   "metadata": {},
   "source": [
    "# **XAFS1 - Calibration**"
   ]
  },
  {
   "cell_type": "markdown",
   "metadata": {},
   "source": [
    "## **Energy**"
   ]
  },
  {
   "cell_type": "code",
   "execution_count": 83,
   "metadata": {},
   "outputs": [],
   "source": [
    "import subprocess"
   ]
  },
  {
   "cell_type": "code",
   "execution_count": 116,
   "metadata": {},
   "outputs": [
    {
     "name": "stdout",
     "output_type": "stream",
     "text": [
      "\n",
      "              Motor:                User:                Dial:\n",
      "                 ref             -17.2217              12.2758\n",
      "              preinf               0.0003               0.1104\n",
      "               solm3               1.1000               1.1000\n",
      "                mesa              17.2671               1.0510\n",
      "             cristal               0.0000              -0.1342\n",
      "              presup               0.5329              -0.0259\n",
      "                  xv              -0.6747               0.0000\n",
      "               solm2              -8.0000              -8.0000\n",
      "                mono              16.4065              -8.4708\n",
      "              preesq               0.4708              -0.7235\n",
      "                 shv              -0.0000              37.8298\n",
      "              possup               3.9112               3.4454\n",
      "                  xh              -8.0000              10.5227\n",
      "               criov             -35.0887              12.2758\n",
      "               crioh             148.1364             205.7441\n",
      "              predir              -0.1288              -0.1528\n",
      "              energy            7000.0015               0.0000\n",
      "              posinf              -3.3245               2.0933\n",
      "               solm4               0.0000               0.0000\n",
      "                 yaw              -0.5918              12.5534\n",
      "               solm1              11.0000              11.0000\n",
      "                 gon              45.0000            -768.2473\n",
      "              posdir               0.0121             -11.7161\n",
      "              posesq             -10.1851               0.9944\n",
      "                 shh              22.0000             -68.0713\n"
     ]
    }
   ],
   "source": [
    "!wa"
   ]
  },
  {
   "cell_type": "code",
   "execution_count": 136,
   "metadata": {},
   "outputs": [
    {
     "name": "stdout",
     "output_type": "stream",
     "text": [
      "\r\n",
      "              Motor:                User:                Dial:\r\n",
      "              energy            7252.0015               0.0000\r\n",
      "\r\n",
      "\t      Limits:\r\n",
      "\t       energy: [6000, 15000]\r\n"
     ]
    }
   ],
   "source": [
    "!wm energy"
   ]
  },
  {
   "cell_type": "code",
   "execution_count": 190,
   "metadata": {},
   "outputs": [
    {
     "name": "stdout",
     "output_type": "stream",
     "text": [
      "energy\n",
      "------------------\n",
      "\u001b[2K7.09e+03\t\n",
      "              Motor:                User:                Dial:\n",
      "              energy            7090.0015               0.0000\n"
     ]
    }
   ],
   "source": [
    "!move energy 7090"
   ]
  },
  {
   "cell_type": "markdown",
   "metadata": {},
   "source": [
    "- **Mesa ON/OFF**"
   ]
  },
  {
   "cell_type": "code",
   "execution_count": 117,
   "metadata": {},
   "outputs": [
    {
     "name": "stdout",
     "output_type": "stream",
     "text": [
      "XAFS1:HeightFlag               On\r\n"
     ]
    }
   ],
   "source": [
    "!caget XAFS1:HeightFlag"
   ]
  },
  {
   "cell_type": "code",
   "execution_count": 89,
   "metadata": {},
   "outputs": [
    {
     "name": "stdout",
     "output_type": "stream",
     "text": [
      "/bin/sh: 1: Syntax error: end of file unexpected\r\n"
     ]
    }
   ],
   "source": [
    "!caput XAFS1:HeightFlag <On/Off>"
   ]
  },
  {
   "cell_type": "markdown",
   "metadata": {},
   "source": [
    "- **Crystal**"
   ]
  },
  {
   "cell_type": "markdown",
   "metadata": {},
   "source": [
    "Si(111) - 6.27086\n",
    "\n",
    "Si(220) - 1.92004"
   ]
  },
  {
   "cell_type": "code",
   "execution_count": 118,
   "metadata": {},
   "outputs": [
    {
     "name": "stdout",
     "output_type": "stream",
     "text": [
      "XAFS1:CrystalParam             6.27086\r\n"
     ]
    }
   ],
   "source": [
    "!caget XAFS1:CrystalParam"
   ]
  },
  {
   "cell_type": "code",
   "execution_count": null,
   "metadata": {},
   "outputs": [],
   "source": [
    "!caput XAFS1:CrystalParam <insert>"
   ]
  },
  {
   "cell_type": "markdown",
   "metadata": {},
   "source": [
    "Cristal pos for \n",
    "\n",
    "Si(111) = 0\n",
    "\n",
    "Si(220) = 59\n"
   ]
  },
  {
   "cell_type": "code",
   "execution_count": 119,
   "metadata": {},
   "outputs": [
    {
     "name": "stdout",
     "output_type": "stream",
     "text": [
      "\r\n",
      "              Motor:                User:                Dial:\r\n",
      "             cristal               0.0000              -0.1342\r\n",
      "\r\n",
      "\t      Limits:\r\n",
      "\t       cristal: [-1000, 1000]\r\n"
     ]
    }
   ],
   "source": [
    "!wm cristal"
   ]
  },
  {
   "cell_type": "code",
   "execution_count": null,
   "metadata": {},
   "outputs": [],
   "source": [
    "!move cristal <insert>"
   ]
  },
  {
   "cell_type": "markdown",
   "metadata": {},
   "source": [
    "## **Slits**"
   ]
  },
  {
   "cell_type": "markdown",
   "metadata": {},
   "source": [
    "- **Pre-mono**"
   ]
  },
  {
   "cell_type": "code",
   "execution_count": 110,
   "metadata": {},
   "outputs": [],
   "source": [
    "%%script bash --bg\n",
    "export LEFT=`get-pv-by-name preesq`\n",
    "export RIGHT=`get-pv-by-name predir`\n",
    "export TOP=`get-pv-by-name presup`\n",
    "export BOTTOM=`get-pv-by-name preinf`\n",
    "slits ${LEFT} ${RIGHT} ${TOP} ${BOTTOM} --user"
   ]
  },
  {
   "cell_type": "markdown",
   "metadata": {},
   "source": [
    "- **Post-mono**"
   ]
  },
  {
   "cell_type": "code",
   "execution_count": 111,
   "metadata": {},
   "outputs": [],
   "source": [
    "%%script bash --bg\n",
    "export LEFT=`get-pv-by-name posesq`\n",
    "export RIGHT=`get-pv-by-name posdir`\n",
    "export TOP=`get-pv-by-name possup`\n",
    "export BOTTOM=`get-pv-by-name posinf`\n",
    "slits ${LEFT} ${RIGHT} ${TOP} ${BOTTOM} --user"
   ]
  },
  {
   "cell_type": "markdown",
   "metadata": {},
   "source": [
    "## **Motors**"
   ]
  },
  {
   "cell_type": "code",
   "execution_count": 128,
   "metadata": {},
   "outputs": [],
   "source": [
    "%%script bash --bg\n",
    "export M1=`get-pv-by-name shv`\n",
    "export M2=`get-pv-by-name shh`\n",
    "export M3=`get-pv-by-name criov`\n",
    "export M4=`get-pv-by-name crioh`\n",
    "export M5=`get-pv-by-name gon`\n",
    "motors_gui ${M1} ${M2} ${M3} ${M4} ${M5} --user"
   ]
  },
  {
   "cell_type": "markdown",
   "metadata": {},
   "source": [
    "## **Counters**"
   ]
  },
  {
   "cell_type": "code",
   "execution_count": 191,
   "metadata": {},
   "outputs": [
    {
     "name": "stdout",
     "output_type": "stream",
     "text": [
      "\t Scaler type:  analog in 0.2 s\n",
      "XAFS1:SR5701: \t    S2       \t   S2     \t   IO  \t      I1\n",
      "XAFS1:SR5702: \t  (counts)   \t (counts)  \t ( V )     \t ( V )\n",
      "1 pA/V    \t 12425535.0    \t 11778778.0 \t 7.2006 \t 7.2572\n",
      "2 pA/V    \t 13279209.0    \t 13093810.0 \t 7.2016 \t 7.2575\n",
      "5 pA/V    \t 13018260.0    \t 14886329.0 \t 7.2019 \t 7.2572\n",
      "10 pA/V    \t 12917617.0    \t 14829777.0 \t 7.2016 \t 7.2572\n",
      "20 pA/V    \t 14718824.0    \t 14811928.0 \t 7.2016 \t 7.2584\n",
      "50 pA/V    \t 14685385.0    \t 14792008.0 \t 7.193 \t 7.2493\n",
      "100 pA/V    \t 13489961.0    \t 10950119.0 \t 6.4131 \t 6.4127\n",
      "200 pA/V    \t 14253083.0    \t 12124112.0 \t 7.1952 \t 7.2489\n",
      "500 pA/V    \t 12040630.0    \t 8519778.0 \t 5.9963 \t 3.257\n",
      "1 nA/V    \t 8245379.0    \t 4888300.0 \t 2.9927 \t 1.6247\n",
      "2 nA/V    \t 4339751.0    \t 2051613.0 \t 1.4995 \t 0.7932\n",
      "5 nA/V    \t 1776501.0    \t 927115.0 \t 0.6039 \t 0.2789\n",
      "10 nA/V    \t 793595.0    \t 413695.0 \t 0.3004 \t 0.1841\n",
      "20 nA/V    \t 391003.0    \t 274271.0 \t 0.1757 \t 0.0862\n",
      "50 nA/V    \t 164305.0    \t 143805.0 \t 0.066 \t 0.0008\n",
      "100 nA/V    \t 64967.0    \t 54068.0 \t 0.0328 \t 0.0128\n",
      "200 nA/V    \t 1509216.0    \t 1621911.0 \t 0.028 \t 0.1393\n",
      "500 nA/V    \t 2918029.0    \t 2906432.0 \t 0.0073 \t 0.0034\n",
      "1 uA/V    \t 2702978.0    \t 945817.0 \t 0.0057 \t 0.0574\n",
      "2 uA/V    \t 4182200.0    \t 1857427.0 \t -0.0092 \t 0.1456\n",
      "5 uA/V    \t 2895090.0    \t 1091352.0 \t 0.0013 \t 0.0821\n",
      "10 uA/V    \t 3486619.0    \t 463564.0 \t -0.007 \t 0.0195\n",
      "20 uA/V    \t 1788066.0    \t 521436.0 \t 0.0035 \t -0.0052\n",
      "50 uA/V    \t 734966.0    \t 106349.0 \t -0.0023 \t -0.0036\n",
      "100 uA/V    \t 418674.0    \t 43505.0 \t -0.001 \t 0.0027\n",
      "200 uA/V    \t 207767.0    \t 23777.0 \t 0.0003 \t -0.0033\n",
      "500 uA/V    \t 71938.0    \t 12028.0 \t -0.0019 \t -0.0004\n"
     ]
    }
   ],
   "source": [
    "!ic_tune"
   ]
  },
  {
   "cell_type": "markdown",
   "metadata": {},
   "source": [
    "#### I0"
   ]
  },
  {
   "cell_type": "code",
   "execution_count": 185,
   "metadata": {
    "scrolled": true
   },
   "outputs": [
    {
     "name": "stdout",
     "output_type": "stream",
     "text": [
      "XAFS1:SR5701:sens_num          1\r\n",
      "XAFS1:SR5701:sens_unit         nA/V\r\n"
     ]
    }
   ],
   "source": [
    "!caget XAFS1:SR5701:sens_num XAFS1:SR5701:sens_unit "
   ]
  },
  {
   "cell_type": "code",
   "execution_count": 192,
   "metadata": {
    "scrolled": true
   },
   "outputs": [
    {
     "name": "stdout",
     "output_type": "stream",
     "text": [
      "Old : XAFS1:SR5701:sens_num          500\n",
      "New : XAFS1:SR5701:sens_num          1\n",
      "Old : XAFS1:SR5701:sens_unit         uA/V\n",
      "New : XAFS1:SR5701:sens_unit         nA/V\n"
     ]
    }
   ],
   "source": [
    "! caput  XAFS1:SR5701:sens_num 1 && caput XAFS1:SR5701:sens_unit nA/V"
   ]
  },
  {
   "cell_type": "markdown",
   "metadata": {},
   "source": [
    "#### I1"
   ]
  },
  {
   "cell_type": "code",
   "execution_count": 182,
   "metadata": {
    "scrolled": true
   },
   "outputs": [
    {
     "name": "stdout",
     "output_type": "stream",
     "text": [
      "XAFS1:SR5702:sens_num          50\r\n",
      "XAFS1:SR5702:sens_unit         pA/V\r\n"
     ]
    }
   ],
   "source": [
    "!caget XAFS1:SR5702:sens_num XAFS1:SR5702:sens_unit "
   ]
  },
  {
   "cell_type": "code",
   "execution_count": 193,
   "metadata": {},
   "outputs": [
    {
     "name": "stdout",
     "output_type": "stream",
     "text": [
      "Old : XAFS1:SR5702:sens_num          500\n",
      "New : XAFS1:SR5702:sens_num          500\n",
      "Old : XAFS1:SR5702:sens_unit         uA/V\n",
      "New : XAFS1:SR5702:sens_unit         pA/V\n"
     ]
    }
   ],
   "source": [
    "! caput  XAFS1:SR5702:sens_num 500 && caput XAFS1:SR5702:sens_unit pA/V"
   ]
  },
  {
   "cell_type": "code",
   "execution_count": 107,
   "metadata": {},
   "outputs": [
    {
     "name": "stdout",
     "output_type": "stream",
     "text": [
      "SOL:SCALER not connected\n",
      "SOL:SCALER not connected\n",
      "Warning while getting pseudo counter value: 'sol2s2'\n",
      "--------------------------------\n",
      "Counts:\n",
      "--------------------------------\n",
      "     v2_r1                   97\n",
      "     v4_r3                  226\n",
      "     v3_r1                  181\n",
      "     math1                  466\n",
      "     v3_r4                  181\n",
      "     v4_r4                  226\n",
      "   crio1s3                51530\n",
      "   crio1s2               639458\n",
      " crio1ans3              6547613\n",
      "     math2                  699\n",
      "     v1_r4                  227\n",
      "     v1_r3                  227\n",
      "vortex_r1_sum                  596\n",
      "     v4_r2                  226\n",
      "     v2_r3                  241\n",
      "     v2_r2                  241\n",
      "     v3_r2                  181\n",
      "     v1_r1                   92\n",
      "     v1_r2                  227\n",
      "vortex_count                   92\n",
      " crio1ans2             81754657\n",
      "     v2_r4                  241\n",
      "     v4_r1                  226\n",
      "      norm                    0\n",
      "ringcurrent                  233\n",
      "     v3_r3                  181\n",
      "norm_crios3                    0\n",
      "--------------------------------\n"
     ]
    }
   ],
   "source": [
    "## Here goes ct\n",
    "# Antes de executar, certificar que os arquivos estao linkados no bin\n",
    "# Exemplo:\n",
    "# ln -s /usr/local/SOL/scan-utils/ct /usr/local/bin/ct\n",
    "!o_ct"
   ]
  },
  {
   "cell_type": "code",
   "execution_count": 186,
   "metadata": {},
   "outputs": [
    {
     "data": {
      "text/plain": [
       "<subprocess.Popen at 0x7f4d8adc60f0>"
      ]
     },
     "execution_count": 186,
     "metadata": {},
     "output_type": "execute_result"
    }
   ],
   "source": [
    "## Here goes scaler\n",
    "subprocess.Popen(['pydm', '--hide-menu-bar', '--hide-nav-bar', '-m', 'P=SOL:CRIO1:SCALER_AN', 'scaler.py'])"
   ]
  },
  {
   "cell_type": "code",
   "execution_count": 112,
   "metadata": {},
   "outputs": [
    {
     "data": {
      "text/plain": [
       "<subprocess.Popen at 0x7f4d8adb5198>"
      ]
     },
     "execution_count": 112,
     "metadata": {},
     "output_type": "execute_result"
    }
   ],
   "source": [
    "# Antes de executar, certificar que os arquivos estao linkados no bin\n",
    "# Exemplo:\n",
    "# ln -s /home/gabriel.andrade/work/vortex-gui/vortex.py /usr/local/bin/vortex.py\n",
    "# ln -s /home/gabriel.andrade/work/vortex-gui/plot /usr/localmaster/bin/plot\n",
    "# ln -s /home/gabriel.andrade/work/vortex-gui/roi_set/ /usr/local/bin/roi_set\n",
    "subprocess.Popen(['pydm', '--hide-menu-bar', '--hide-nav-bar', '-m', 'P=XSPRESS3-CARNAUBA', 'vortex.py'])"
   ]
  },
  {
   "cell_type": "markdown",
   "metadata": {},
   "source": [
    "## **Scan**"
   ]
  },
  {
   "cell_type": "code",
   "execution_count": 170,
   "metadata": {},
   "outputs": [
    {
     "data": {
      "text/plain": [
       "<subprocess.Popen at 0x7f4d8adbca20>"
      ]
     },
     "execution_count": 170,
     "metadata": {},
     "output_type": "execute_result"
    }
   ],
   "source": [
    "# First instal pymca\n",
    "# pip3 install PyMca5\n",
    "# pip3 install silx\n",
    "subprocess.Popen(['scan_gui'])"
   ]
  },
  {
   "cell_type": "markdown",
   "metadata": {},
   "source": [
    "## **Energy scan**"
   ]
  },
  {
   "cell_type": "code",
   "execution_count": 172,
   "metadata": {},
   "outputs": [
    {
     "data": {
      "text/plain": [
       "<subprocess.Popen at 0x7f4d8adbcbe0>"
      ]
     },
     "execution_count": 172,
     "metadata": {},
     "output_type": "execute_result"
    }
   ],
   "source": [
    "subprocess.Popen(['energy_scan_gui', 'energy'])"
   ]
  },
  {
   "cell_type": "markdown",
   "metadata": {},
   "source": [
    "## **Data analysis**"
   ]
  },
  {
   "cell_type": "code",
   "execution_count": 194,
   "metadata": {},
   "outputs": [
    {
     "data": {
      "text/plain": [
       "<subprocess.Popen at 0x7f4d8adc6320>"
      ]
     },
     "execution_count": 194,
     "metadata": {},
     "output_type": "execute_result"
    }
   ],
   "source": [
    "subprocess.Popen(['pymca'])"
   ]
  },
  {
   "cell_type": "code",
   "execution_count": null,
   "metadata": {},
   "outputs": [],
   "source": [
    "!move solm1 1"
   ]
  },
  {
   "cell_type": "code",
   "execution_count": null,
   "metadata": {},
   "outputs": [],
   "source": [
    "from IPython.display import display, Javascript\n",
    "display(Javascript('IPython.notebook.save_checkpoint();'))\n",
    "!python3 -m nbconvert simple-tech-run.ipynb --template=nbextensions --output-dir=./exports --output=simple-tech-run.html --to html"
   ]
  }
 ],
 "metadata": {
  "kernelspec": {
   "display_name": "Python 3",
   "language": "python",
   "name": "python3"
  },
  "language_info": {
   "codemirror_mode": {
    "name": "ipython",
    "version": 3
   },
   "file_extension": ".py",
   "mimetype": "text/x-python",
   "name": "python",
   "nbconvert_exporter": "python",
   "pygments_lexer": "ipython3",
   "version": "3.5.3"
  }
 },
 "nbformat": 4,
 "nbformat_minor": 2
}
