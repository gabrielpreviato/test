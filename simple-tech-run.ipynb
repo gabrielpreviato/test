{
 "cells": [
  {
   "cell_type": "code",
   "execution_count": null,
   "metadata": {},
   "outputs": [],
   "source": [
    "!wm solm1"
   ]
  },
  {
   "cell_type": "code",
   "execution_count": 6,
   "metadata": {},
   "outputs": [
    {
     "name": "stdout",
     "output_type": "stream",
     "text": [
      "/usr/local/SOL/scan-utils/scan_utils/configuration.py:51: YAMLLoadWarning: calling yaml.load() without Loader=... is deprecated, as the default Loader is unsafe. Please read https://msg.pyyaml.org/load for full details.\n",
      "  yield loader(f)\n",
      "solm1\n",
      "------------------\n",
      "\u001b[2K2\t97\t\n",
      "              Motor:                User:                Dial:\n",
      "               solm1               2.0000               2.0000\n"
     ]
    }
   ],
   "source": [
    "!move solm1 2"
   ]
  },
  {
   "cell_type": "code",
   "execution_count": 7,
   "metadata": {},
   "outputs": [
    {
     "name": "stdout",
     "output_type": "stream",
     "text": [
      "[2019-05-29 13:15:05,815] [INFO    ] - Opening the default stylesheet '/usr/local/lib/python3.5/dist-packages/pydm/default_stylesheet.qss'...\n",
      "/usr/local/SOL/GUI/sol-widgets/sol_widgets/widgets/motor.py:496: YAMLLoadWarning: calling yaml.load() without Loader=... is deprecated, as the default Loader is unsafe. Please read https://msg.pyyaml.org/load for full details.\n",
      "  self.fields_map = yaml.load(f)\n",
      "/usr/local/SOL/GUI/sol-widgets/sol_widgets/widgets/motor.py:496: YAMLLoadWarning: calling yaml.load() without Loader=... is deprecated, as the default Loader is unsafe. Please read https://msg.pyyaml.org/load for full details.\n",
      "  self.fields_map = yaml.load(f)\n",
      "QMainWindowLayout::count: ?\n"
     ]
    }
   ],
   "source": [
    "!slits"
   ]
  },
  {
   "cell_type": "code",
   "execution_count": 8,
   "metadata": {},
   "outputs": [
    {
     "name": "stdout",
     "output_type": "stream",
     "text": [
      "/usr/local/SOL/scan-utils/scan_utils/configuration.py:51: YAMLLoadWarning: calling yaml.load() without Loader=... is deprecated, as the default Loader is unsafe. Please read https://msg.pyyaml.org/load for full details.\n",
      "  yield loader(f)\n",
      "\n",
      "              Motor:                User:                Dial:\n",
      "               solm1               2.0000               2.0000\n",
      "             offset2               0.0000               0.0000\n",
      "               solm4               0.0000               0.0000\n",
      "               solm3               0.0000               0.0000\n",
      "                gap2               0.0000               0.0000\n",
      "               solm2               0.0000               0.0000\n"
     ]
    }
   ],
   "source": [
    "!wa"
   ]
  },
  {
   "cell_type": "code",
   "execution_count": 9,
   "metadata": {},
   "outputs": [
    {
     "name": "stdout",
     "output_type": "stream",
     "text": [
      "[2019-05-29 13:15:16,499] [INFO    ] - Opening the default stylesheet '/usr/local/lib/python3.5/dist-packages/pydm/default_stylesheet.qss'...\n",
      "/usr/local/SOL/GUI/sol-widgets/sol_widgets/widgets/motor.py:496: YAMLLoadWarning: calling yaml.load() without Loader=... is deprecated, as the default Loader is unsafe. Please read https://msg.pyyaml.org/load for full details.\n",
      "  self.fields_map = yaml.load(f)\n"
     ]
    }
   ],
   "source": [
    "!motor"
   ]
  },
  {
   "cell_type": "code",
   "execution_count": null,
   "metadata": {},
   "outputs": [],
   "source": [
    "## Here goes ct\n",
    "# Antes de executar, certificar que os arquivos estao linkados no bin\n",
    "# Exemplo:\n",
    "# ln -s /usr/local/SOL/scan-utils/ct /usr/local/bin/ct\n",
    "!ct"
   ]
  },
  {
   "cell_type": "code",
   "execution_count": null,
   "metadata": {},
   "outputs": [],
   "source": [
    "## Here goes scaler\n",
    "#!scaler"
   ]
  },
  {
   "cell_type": "code",
   "execution_count": 11,
   "metadata": {},
   "outputs": [
    {
     "name": "stdout",
     "output_type": "stream",
     "text": [
      "[2019-05-29 13:15:33,627] [INFO    ] - Opening the default stylesheet '/usr/local/lib/python3.5/dist-packages/pydm/default_stylesheet.qss'...\n",
      "[2019-05-29 13:15:33,708] [ERROR   ] - Image file  '/home/lais.carmo/work/SOL/GUI/scan-gui/img/lnls-sirius.png' does not exist\n",
      "[2019-05-29 13:15:33,709] [ERROR   ] - Image file  '/home/lais.carmo/work/SOL/GUI/scan-gui/img/cnpem.png' does not exist\n",
      "/usr/local/bin/scan_utils/configuration.py:51: YAMLLoadWarning: calling yaml.load() without Loader=... is deprecated, as the default Loader is unsafe. Please read https://msg.pyyaml.org/load for full details.\n",
      "  yield loader(f)\n",
      "/usr/local/bin/scan_utils/configuration.py:273: YAMLLoadWarning: calling yaml.load() without Loader=... is deprecated, as the default Loader is unsafe. Please read https://msg.pyyaml.org/load for full details.\n",
      "  counters_in_config = yaml.load(config_file)\n"
     ]
    }
   ],
   "source": [
    "!scan_gui"
   ]
  },
  {
   "cell_type": "code",
   "execution_count": 12,
   "metadata": {},
   "outputs": [],
   "source": [
    "!pymca"
   ]
  },
  {
   "cell_type": "code",
   "execution_count": 13,
   "metadata": {},
   "outputs": [
    {
     "name": "stdout",
     "output_type": "stream",
     "text": [
      "/usr/local/SOL/scan-utils/scan_utils/configuration.py:51: YAMLLoadWarning: calling yaml.load() without Loader=... is deprecated, as the default Loader is unsafe. Please read https://msg.pyyaml.org/load for full details.\n",
      "  yield loader(f)\n",
      "solm1\n",
      "------------------\n",
      "\u001b[2K1\t03\t\n",
      "              Motor:                User:                Dial:\n",
      "               solm1               1.0000               1.0000\n"
     ]
    }
   ],
   "source": [
    "!move solm1 1"
   ]
  },
  {
   "cell_type": "code",
   "execution_count": 14,
   "metadata": {},
   "outputs": [
    {
     "data": {
      "application/javascript": [
       "IPython.notebook.save_checkpoint();"
      ],
      "text/plain": [
       "<IPython.core.display.Javascript object>"
      ]
     },
     "metadata": {},
     "output_type": "display_data"
    },
    {
     "name": "stdout",
     "output_type": "stream",
     "text": [
      "[NbConvertApp] Converting notebook simple-tech-run.ipynb to html\n",
      "[NbConvertApp] Writing 282001 bytes to ./exports/simple-tech-run.html\n"
     ]
    }
   ],
   "source": [
    "from IPython.display import display, Javascript\n",
    "display(Javascript('IPython.notebook.save_checkpoint();'))\n",
    "!python3 -m nbconvert simple-tech-run.ipynb --template=nbextensions --output-dir=./exports --output=simple-tech-run.html --to html"
   ]
  }
 ],
 "metadata": {
  "kernelspec": {
   "display_name": "Python 3",
   "language": "python",
   "name": "python3"
  },
  "language_info": {
   "codemirror_mode": {
    "name": "ipython",
    "version": 3
   },
   "file_extension": ".py",
   "mimetype": "text/x-python",
   "name": "python",
   "nbconvert_exporter": "python",
   "pygments_lexer": "ipython3",
   "version": "3.5.3"
  }
 },
 "nbformat": 4,
 "nbformat_minor": 2
}
