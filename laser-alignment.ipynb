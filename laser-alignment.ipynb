{
 "cells": [
  {
   "cell_type": "markdown",
   "metadata": {},
   "source": [
    "# XAFS1 -  Operation Notebook\n",
    "\n",
    "## Laser Beam Initial Alignment Notebook\n",
    "\n",
    "### HEADER 2"
   ]
  },
  {
   "cell_type": "markdown",
   "metadata": {},
   "source": [
    "This notebook provide a script in order to help the user at alignment tasks. With code interactive cells, Jupyter is a powerfull tool to increase productivity and to help non experts in programming.\n",
    "\n",
    "To use this notebook in the Laser Beam Line, follow the instructions of each section. The user can add its own code on the Notebook, to visualize data, to perform any data analysis but SOL is not responsible for any crash due to users modifications.\n",
    "\n",
    "To use this notebook it's expected that all the dependencies are already installed. For more information read the jupy4syn README.\n",
    "\n",
    "To run a cell just press Ctrl + Enter."
   ]
  },
  {
   "cell_type": "markdown",
   "metadata": {},
   "source": [
    "scan-util -> gui_plot\n",
    "\n",
    "scan-gui -> master\n",
    "\n",
    "scan_gui.py must be at ~/work/scan-gui/scan_gui.py\n",
    "\n",
    "py4syn -> https://github.com/gabrielpreviato/py4syn"
   ]
  },
  {
   "cell_type": "markdown",
   "metadata": {},
   "source": [
    "### Import Cell\n",
    "\n",
    "The following cell imports all jupy4syn libraries that will be used in the Notebook.\n",
    "If the user will add other libraries or packages in its Notebook, it is a good practice to put the imports in the beginning of the notebook."
   ]
  },
  {
   "cell_type": "code",
   "execution_count": 1,
   "metadata": {},
   "outputs": [
    {
     "data": {
      "text/html": [
       "<script type=\"text/javascript\">window.PlotlyConfig = {MathJaxConfig: 'local'};</script><script type=\"text/javascript\">if (window.MathJax) {MathJax.Hub.Config({SVG: {font: \"STIX-Web\"}});}</script><script>requirejs.config({paths: { 'plotly': ['https://cdn.plot.ly/plotly-latest.min']},});if(!window._Plotly) {require(['plotly'],function(plotly) {window._Plotly=plotly;});}</script>"
      ],
      "text/vnd.plotly.v1+html": [
       "<script type=\"text/javascript\">window.PlotlyConfig = {MathJaxConfig: 'local'};</script><script type=\"text/javascript\">if (window.MathJax) {MathJax.Hub.Config({SVG: {font: \"STIX-Web\"}});}</script><script>requirejs.config({paths: { 'plotly': ['https://cdn.plot.ly/plotly-latest.min']},});if(!window._Plotly) {require(['plotly'],function(plotly) {window._Plotly=plotly;});}</script>"
      ]
     },
     "metadata": {},
     "output_type": "display_data"
    }
   ],
   "source": [
    "# Import jupy4syn libraries\n",
    "from lib.StartMotorsButton import StartMotorsButton\n",
    "from lib.ManualAlignmentButton import ManualAlignmentButton\n",
    "from lib.PVMonitor import PVMonitor\n",
    "from lib.MonitorScanSave import MonitorScanSave\n",
    "from lib.ExportButtonPDF import ExportButtonPDF\n",
    "from lib.ExportButtonHTML import ExportButtonHTML\n",
    "from lib.Configuration import Configuration\n",
    "\n",
    "# Enable offline plots from Plotly\n",
    "import plotly.offline as py\n",
    "py.init_notebook_mode(connected=True)"
   ]
  },
  {
   "cell_type": "markdown",
   "metadata": {},
   "source": [
    "### Configurations\n",
    "\n",
    "The following cell presents the user the choice of some configuration. We have the following configuration:\n",
    "* Print log in cells. If this option is selected, every run of cells will print a log in the output cell.\n",
    "* Notebook's name. If the user wants to export the notebook, this text box must have the Notebook's name WITHOUT the \".ipynb\" file format"
   ]
  },
  {
   "cell_type": "code",
   "execution_count": 2,
   "metadata": {},
   "outputs": [
    {
     "data": {
      "application/vnd.jupyter.widget-view+json": {
       "model_id": "0356b818e91b45e69b00b632eb3ccd8f",
       "version_major": 2,
       "version_minor": 0
      },
      "text/plain": [
       "Checkbox(value=False, description=\"Print log in Notebook's cells\", style=DescriptionStyle(description_width='i…"
      ]
     },
     "metadata": {},
     "output_type": "display_data"
    },
    {
     "data": {
      "application/vnd.jupyter.widget-view+json": {
       "model_id": "72b969575f26498faba1dfad2175596e",
       "version_major": 2,
       "version_minor": 0
      },
      "text/plain": [
       "HBox(children=(Label(value=\"Notebook's name: \"), Text(value='', layout=Layout(width='300px'), placeholder=\"Typ…"
      ]
     },
     "metadata": {},
     "output_type": "display_data"
    },
    {
     "data": {
      "application/vnd.jupyter.widget-view+json": {
       "model_id": "309821c3682749e89c1ebd1d91385478",
       "version_major": 2,
       "version_minor": 0
      },
      "text/plain": [
       "Output()"
      ]
     },
     "metadata": {},
     "output_type": "display_data"
    }
   ],
   "source": [
    "config = Configuration()\n",
    "config.display_configuration()"
   ]
  },
  {
   "cell_type": "markdown",
   "metadata": {},
   "source": [
    "### First manual alignment\n",
    "\n",
    "The following cells provides to the user ways of doing a first \"rough\" alignment. The user has two options, use the Jupyter textbox interface or use the Slit PyQt interface. The later is recommended.\n",
    "\n",
    "To use the Jupyter textbox, the user needs to write the motors that will be aligned. Just write the motors' names separeted by spaces.\n",
    "\n",
    "To use the Slit PyQt interface, the user need to click on the \"Start Manual Alignment\" button and the interface will open."
   ]
  },
  {
   "cell_type": "code",
   "execution_count": 3,
   "metadata": {},
   "outputs": [
    {
     "data": {
      "application/vnd.jupyter.widget-view+json": {
       "model_id": "baf2e56b14334693ac04bf8e788c94c3",
       "version_major": 2,
       "version_minor": 0
      },
      "text/plain": [
       "VBox(children=(Textarea(value='', placeholder='Example: IOC:m1 IOC:m3 LNLS:TEST:motor_g3'), StartMotorsButton(…"
      ]
     },
     "metadata": {},
     "output_type": "display_data"
    },
    {
     "data": {
      "application/vnd.jupyter.widget-view+json": {
       "model_id": "a2743b1ffb124baa89630bcbf5a58bbf",
       "version_major": 2,
       "version_minor": 0
      },
      "text/plain": [
       "Output()"
      ]
     },
     "metadata": {},
     "output_type": "display_data"
    },
    {
     "data": {
      "application/vnd.jupyter.widget-view+json": {
       "model_id": "166e07b3baee44d69744f67af0db98c2",
       "version_major": 2,
       "version_minor": 0
      },
      "text/plain": [
       "VBox(children=(Label(value='No motors initilized to be showed.'),))"
      ]
     },
     "metadata": {},
     "output_type": "display_data"
    }
   ],
   "source": [
    "# TODO: display in label the PV.DESC\n",
    "\n",
    "# Jupyter textbox interface\n",
    "start_motor_button_box = StartMotorsButton(config)\n",
    "start_motor_button_box.display_start_button()\n",
    "start_motor_button_box.display_motors_targ_buttons()"
   ]
  },
  {
   "cell_type": "code",
   "execution_count": 4,
   "metadata": {},
   "outputs": [
    {
     "data": {
      "application/vnd.jupyter.widget-view+json": {
       "model_id": "f475f3a0f98a4ddea52e3dac07a1d1f2",
       "version_major": 2,
       "version_minor": 0
      },
      "text/plain": [
       "VBox(children=(ManualAlignmentButton(button_style='success', description='Start Manual Alignment', layout=Layo…"
      ]
     },
     "metadata": {},
     "output_type": "display_data"
    },
    {
     "data": {
      "application/vnd.jupyter.widget-view+json": {
       "model_id": "7885830dd03c4d72a8e240e64e88e6bd",
       "version_major": 2,
       "version_minor": 0
      },
      "text/plain": [
       "Output()"
      ]
     },
     "metadata": {},
     "output_type": "display_data"
    }
   ],
   "source": [
    "# Slit PyQt Interface\n",
    "slit = ManualAlignmentButton(config)\n",
    "slit.display_start_button()"
   ]
  },
  {
   "cell_type": "markdown",
   "metadata": {},
   "source": [
    "### PV's monitoring"
   ]
  },
  {
   "cell_type": "code",
   "execution_count": 5,
   "metadata": {},
   "outputs": [
    {
     "data": {
      "application/vnd.jupyter.widget-view+json": {
       "model_id": "d83adface1bd4369a8365ff4fc19364d",
       "version_major": 2,
       "version_minor": 0
      },
      "text/plain": [
       "VBox(children=(PVMonitor(button_style='success', description='Start PV Monitoring', layout=Layout(width='300px…"
      ]
     },
     "metadata": {},
     "output_type": "display_data"
    },
    {
     "data": {
      "application/vnd.jupyter.widget-view+json": {
       "model_id": "06fbdcf8c3a04379bef265e47ec4d62b",
       "version_major": 2,
       "version_minor": 0
      },
      "text/plain": [
       "Output()"
      ]
     },
     "metadata": {},
     "output_type": "display_data"
    }
   ],
   "source": [
    "pv_monitor = PVMonitor(config)\n",
    "pv_monitor.display_monitor_pvs()"
   ]
  },
  {
   "cell_type": "code",
   "execution_count": 6,
   "metadata": {},
   "outputs": [
    {
     "data": {
      "application/vnd.jupyter.widget-view+json": {
       "model_id": "d1a61519494e410c8938503a1e64d63c",
       "version_major": 2,
       "version_minor": 0
      },
      "text/plain": [
       "VBox(children=(ManualAlignmentButton(button_style='success', description='Start Manual Alignment', layout=Layo…"
      ]
     },
     "metadata": {},
     "output_type": "display_data"
    },
    {
     "data": {
      "application/vnd.jupyter.widget-view+json": {
       "model_id": "4742e1e8f46d4489b67d086f39803795",
       "version_major": 2,
       "version_minor": 0
      },
      "text/plain": [
       "Output()"
      ]
     },
     "metadata": {},
     "output_type": "display_data"
    }
   ],
   "source": [
    "# Monitoring interface\n",
    "# An example for initial tests\n",
    "temp = ManualAlignmentButton(config)\n",
    "temp.display_start_button()"
   ]
  },
  {
   "cell_type": "markdown",
   "metadata": {},
   "source": [
    "### Scan\n",
    "\n",
    "The scan is made by the scan-gui interface. This interface < benefits of it...>.\n",
    "\n",
    "After the button \"Start Scanning Plot\" is pressed, the notebook will wait for any scan in the scan-gui interface to be started and will show a plot of the scan in the notebook. If the user made a scan, but did not pressed the \"Start Scanning Plot\" button, the notebook won't display the graph, but every data will be stored regardless of it being showed in the notebook or not.\n",
    "\n",
    "We have 3 options of showing the scan in the notebook.\n",
    "* Plot after end with PyQt\n",
    "* Plot after end with Plotly\n",
    "* Live Plot\n",
    "\n",
    "For the \"Plot after end with PyQt\" option, after the scan ends, the notebook will display the same image that is showed in the scan-gui interface, the only difference is that this will be a static image.\n",
    "\n",
    "For the \"Plot after end with Plotly\" option, after the scand ends, the notebook will display a Plotly graph with the data generated by the scan. This Plotly graph is interactive, so the user can zoom, pan the graph.\n",
    "\n",
    "For the \"Live Plot\" option, the scan is plotted in the notebook while the scan is being processed. For this option, the scan must be done in \"Synchronous Mode\""
   ]
  },
  {
   "cell_type": "code",
   "execution_count": 7,
   "metadata": {
    "scrolled": true
   },
   "outputs": [
    {
     "data": {
      "application/vnd.jupyter.widget-view+json": {
       "model_id": "467d257328394ef88923bf8c2f4cf15a",
       "version_major": 2,
       "version_minor": 0
      },
      "text/plain": [
       "Dropdown(options=('Plot after ends with PyQt', 'Plot after ends with Plotly', 'Live Plot'), style=DescriptionS…"
      ]
     },
     "metadata": {},
     "output_type": "display_data"
    },
    {
     "data": {
      "application/vnd.jupyter.widget-view+json": {
       "model_id": "aaa5e88c64b148408a25bb22ebb21eba",
       "version_major": 2,
       "version_minor": 0
      },
      "text/plain": [
       "VBox(children=(MonitorScanSave(button_style='success', description='Start Scanning Plot', layout=Layout(width=…"
      ]
     },
     "metadata": {},
     "output_type": "display_data"
    },
    {
     "data": {
      "application/vnd.jupyter.widget-view+json": {
       "model_id": "cc5eed5fb19448d59201abd782f5bd11",
       "version_major": 2,
       "version_minor": 0
      },
      "text/plain": [
       "Box(layout=Layout(height='40px', width='40px'))"
      ]
     },
     "metadata": {},
     "output_type": "display_data"
    },
    {
     "data": {
      "application/vnd.jupyter.widget-view+json": {
       "model_id": "058c7bd5bde746c3ae3d08c5c4f2c79d",
       "version_major": 2,
       "version_minor": 0
      },
      "text/plain": [
       "Box()"
      ]
     },
     "metadata": {},
     "output_type": "display_data"
    },
    {
     "data": {
      "application/vnd.jupyter.widget-view+json": {
       "model_id": "179187a4eef84831ab50b793e03d9582",
       "version_major": 2,
       "version_minor": 0
      },
      "text/plain": [
       "Output()"
      ]
     },
     "metadata": {},
     "output_type": "display_data"
    },
    {
     "data": {
      "text/plain": [
       "''"
      ]
     },
     "metadata": {},
     "output_type": "display_data"
    },
    {
     "data": {
      "text/plain": [
       "''"
      ]
     },
     "metadata": {},
     "output_type": "display_data"
    }
   ],
   "source": [
    "# Scan-gui\n",
    "live_plot = MonitorScanSave(config)\n",
    "live_plot.display_start_button()"
   ]
  },
  {
   "cell_type": "markdown",
   "metadata": {},
   "source": [
    "### Export notebook\n",
    "\n",
    "The following cells allow the user to easily export the notebook to a HTML or PDF format.\n",
    "\n",
    "For the export being successful, the user must save the widgets states. To do this, simply click in the \"Widgets\" option in the notebook tollbar and select option \"Save Notebook Widget State\". \n",
    "\n",
    "![](files/img/save_widget_state.png)\n",
    "\n",
    "Also, the name of this notebook must be written in the text box in the Configuration section."
   ]
  },
  {
   "cell_type": "code",
   "execution_count": 8,
   "metadata": {},
   "outputs": [
    {
     "data": {
      "application/vnd.jupyter.widget-view+json": {
       "model_id": "626ed1c861ab40ca98bfa59e4cd4e829",
       "version_major": 2,
       "version_minor": 0
      },
      "text/plain": [
       "ExportButtonPDF(button_style='warning', description='Export Notebook to PDF', layout=Layout(width='300px'), st…"
      ]
     },
     "metadata": {},
     "output_type": "display_data"
    },
    {
     "data": {
      "application/vnd.jupyter.widget-view+json": {
       "model_id": "01f6ccc62fc14788b09b9166c22c823d",
       "version_major": 2,
       "version_minor": 0
      },
      "text/plain": [
       "Output()"
      ]
     },
     "metadata": {},
     "output_type": "display_data"
    }
   ],
   "source": [
    "export_pdf = ExportButtonPDF(config)\n",
    "export_pdf.display_export_button()"
   ]
  },
  {
   "cell_type": "code",
   "execution_count": 9,
   "metadata": {},
   "outputs": [
    {
     "data": {
      "application/vnd.jupyter.widget-view+json": {
       "model_id": "cadd74c2e5d048ba9a3742b7c26e6815",
       "version_major": 2,
       "version_minor": 0
      },
      "text/plain": [
       "ExportButtonHTML(button_style='warning', description='Export Notebook to HTML', layout=Layout(width='300px'), …"
      ]
     },
     "metadata": {},
     "output_type": "display_data"
    },
    {
     "data": {
      "application/vnd.jupyter.widget-view+json": {
       "model_id": "f9b0b633788b433f95aee03151786507",
       "version_major": 2,
       "version_minor": 0
      },
      "text/plain": [
       "Output()"
      ]
     },
     "metadata": {},
     "output_type": "display_data"
    }
   ],
   "source": [
    "export_html = ExportButtonHTML(config)\n",
    "export_html.display_export_button()"
   ]
  }
 ],
 "metadata": {
  "kernelspec": {
   "display_name": "Python 3",
   "language": "python",
   "name": "python3"
  },
  "language_info": {
   "codemirror_mode": {
    "name": "ipython",
    "version": 3
   },
   "file_extension": ".py",
   "mimetype": "text/x-python",
   "name": "python",
   "nbconvert_exporter": "python",
   "pygments_lexer": "ipython3",
   "version": "3.5.3"
  },
  "widgets": {
   "application/vnd.jupyter.widget-state+json": {
    "state": {
     "01f6ccc62fc14788b09b9166c22c823d": {
      "model_module": "@jupyter-widgets/output",
      "model_module_version": "1.0.0",
      "model_name": "OutputModel",
      "state": {
       "layout": "IPY_MODEL_ed46043e15854ff6b3c58d41505c900c"
      }
     },
     "01f78dfc31774dd3a010886778aa4047": {
      "model_module": "@jupyter-widgets/controls",
      "model_module_version": "1.4.0",
      "model_name": "TextModel",
      "state": {
       "layout": "IPY_MODEL_1ad998695b0740ed9ddb88437219614d",
       "placeholder": "Type the notebook's name without file format",
       "style": "IPY_MODEL_c21ea2cc09c8448fbb1478216b5e692a"
      }
     },
     "0356b818e91b45e69b00b632eb3ccd8f": {
      "model_module": "@jupyter-widgets/controls",
      "model_module_version": "1.4.0",
      "model_name": "CheckboxModel",
      "state": {
       "description": "Print log in Notebook's cells",
       "disabled": false,
       "layout": "IPY_MODEL_9b366db72c3040ae9c1dc892a51f5bcf",
       "style": "IPY_MODEL_e24536876402448587c2b3b725720903",
       "value": false
      }
     },
     "048c3af8ef084988887ca9f9fe10c1f3": {
      "model_module": "@jupyter-widgets/controls",
      "model_module_version": "1.4.0",
      "model_name": "ButtonModel",
      "state": {
       "button_style": "success",
       "description": "Start Manual Alignment",
       "layout": "IPY_MODEL_d67f85bab61743338a26c93c4ed41517",
       "style": "IPY_MODEL_7691151be8274e9ea193691dbe2c225c",
       "tooltip": "Click me"
      }
     },
     "0561fa3167ed4f358819418fe0d48af9": {
      "model_module": "@jupyter-widgets/controls",
      "model_module_version": "1.4.0",
      "model_name": "DescriptionStyleModel",
      "state": {
       "description_width": ""
      }
     },
     "058c7bd5bde746c3ae3d08c5c4f2c79d": {
      "model_module": "@jupyter-widgets/controls",
      "model_module_version": "1.4.0",
      "model_name": "BoxModel",
      "state": {
       "layout": "IPY_MODEL_3e9b0b6d2f9648559db6d6bf6fd837ae"
      }
     },
     "06e5df6642a74ec39c1b5aaf1eb33378": {
      "model_module": "@jupyter-widgets/base",
      "model_module_version": "1.1.0",
      "model_name": "LayoutModel",
      "state": {}
     },
     "06fbdcf8c3a04379bef265e47ec4d62b": {
      "model_module": "@jupyter-widgets/output",
      "model_module_version": "1.0.0",
      "model_name": "OutputModel",
      "state": {
       "layout": "IPY_MODEL_d8d549997aba468daca91336b89f4513"
      }
     },
     "0995897667eb427a8ef3dd89ac908811": {
      "model_module": "@jupyter-widgets/controls",
      "model_module_version": "1.4.0",
      "model_name": "TextModel",
      "state": {
       "layout": "IPY_MODEL_a3f974abd293449f85456d1cb55f73a9",
       "placeholder": "Type the notebook's name without file format",
       "style": "IPY_MODEL_ae411af223df48c28cd674bc1ad0f6fc",
       "value": "laser-alignment"
      }
     },
     "09e42144a5454a1880fc7c9f1ae79736": {
      "model_module": "@jupyter-widgets/controls",
      "model_module_version": "1.4.0",
      "model_name": "ButtonModel",
      "state": {
       "button_style": "success",
       "description": "Start PV Monitoring",
       "layout": "IPY_MODEL_c0c19c64eab34964a50d91fd76298b71",
       "style": "IPY_MODEL_98214cb53cf94207979ab7132cc0d480",
       "tooltip": "Click me"
      }
     },
     "0a32aab5afdb49638138b0cbb3a96fcd": {
      "model_module": "@jupyter-widgets/base",
      "model_module_version": "1.1.0",
      "model_name": "LayoutModel",
      "state": {
       "width": "300px"
      }
     },
     "0d16c02a6bcb48188198880e35193de1": {
      "model_module": "@jupyter-widgets/controls",
      "model_module_version": "1.4.0",
      "model_name": "TextModel",
      "state": {
       "layout": "IPY_MODEL_ebac0b913c144e79bd2ab354bb898679",
       "placeholder": "Type the notebook's name without file format",
       "style": "IPY_MODEL_68600ff9ba9048f09ce77b7a4c381596"
      }
     },
     "0e4a45a4b8414320990b3ff8d4e9a7dd": {
      "model_module": "@jupyter-widgets/base",
      "model_module_version": "1.1.0",
      "model_name": "LayoutModel",
      "state": {
       "width": "300px"
      }
     },
     "0e8b234554e54959b44826129c276673": {
      "model_module": "@jupyter-widgets/base",
      "model_module_version": "1.1.0",
      "model_name": "LayoutModel",
      "state": {}
     },
     "0fca213441e54bba82c557ac9f005c11": {
      "model_module": "@jupyter-widgets/base",
      "model_module_version": "1.1.0",
      "model_name": "LayoutModel",
      "state": {}
     },
     "11e5619de86047c8b3e86cb16d19d855": {
      "model_module": "@jupyter-widgets/base",
      "model_module_version": "1.1.0",
      "model_name": "LayoutModel",
      "state": {}
     },
     "11f38144c9b544388a671f631cc1697c": {
      "model_module": "@jupyter-widgets/controls",
      "model_module_version": "1.4.0",
      "model_name": "DescriptionStyleModel",
      "state": {
       "description_width": "initial"
      }
     },
     "1325383fecdc4c38afe53f70455b3445": {
      "model_module": "@jupyter-widgets/base",
      "model_module_version": "1.1.0",
      "model_name": "LayoutModel",
      "state": {}
     },
     "1356609978724615bafeeb5392e633b2": {
      "model_module": "@jupyter-widgets/controls",
      "model_module_version": "1.4.0",
      "model_name": "CheckboxModel",
      "state": {
       "description": "Print log in Notebook's cells",
       "disabled": false,
       "layout": "IPY_MODEL_0fca213441e54bba82c557ac9f005c11",
       "style": "IPY_MODEL_11f38144c9b544388a671f631cc1697c",
       "value": false
      }
     },
     "166e07b3baee44d69744f67af0db98c2": {
      "model_module": "@jupyter-widgets/controls",
      "model_module_version": "1.4.0",
      "model_name": "VBoxModel",
      "state": {
       "children": [
        "IPY_MODEL_74106c8918654f3c955f7ca1c46d1dad"
       ],
       "layout": "IPY_MODEL_2486dead45df490688026f9780e98dd7"
      }
     },
     "179187a4eef84831ab50b793e03d9582": {
      "model_module": "@jupyter-widgets/output",
      "model_module_version": "1.0.0",
      "model_name": "OutputModel",
      "state": {
       "layout": "IPY_MODEL_0e8b234554e54959b44826129c276673"
      }
     },
     "193c71574b6a4693905ca0f1825a4931": {
      "model_module": "@jupyter-widgets/controls",
      "model_module_version": "1.4.0",
      "model_name": "CheckboxModel",
      "state": {
       "description": "Plot with PyQtGraph after scan ends: ",
       "disabled": false,
       "layout": "IPY_MODEL_e2e5f24f42954f2f8e4ea5d0bccee559",
       "style": "IPY_MODEL_c115ebec04f94a47875ea03f95622d35",
       "value": true
      }
     },
     "19dff03314bb428588aa06a17a22480a": {
      "model_module": "@jupyter-widgets/base",
      "model_module_version": "1.1.0",
      "model_name": "LayoutModel",
      "state": {
       "width": "300px"
      }
     },
     "1ad998695b0740ed9ddb88437219614d": {
      "model_module": "@jupyter-widgets/base",
      "model_module_version": "1.1.0",
      "model_name": "LayoutModel",
      "state": {
       "width": "300px"
      }
     },
     "1f9aab46c19446229e02b40144435759": {
      "model_module": "@jupyter-widgets/base",
      "model_module_version": "1.1.0",
      "model_name": "LayoutModel",
      "state": {}
     },
     "2486dead45df490688026f9780e98dd7": {
      "model_module": "@jupyter-widgets/base",
      "model_module_version": "1.1.0",
      "model_name": "LayoutModel",
      "state": {}
     },
     "25691f7b732045e39a283dce889e472f": {
      "model_module": "@jupyter-widgets/base",
      "model_module_version": "1.1.0",
      "model_name": "LayoutModel",
      "state": {}
     },
     "2944177ad83b44279d68ec857a0bcb8c": {
      "model_module": "@jupyter-widgets/base",
      "model_module_version": "1.1.0",
      "model_name": "LayoutModel",
      "state": {}
     },
     "309821c3682749e89c1ebd1d91385478": {
      "model_module": "@jupyter-widgets/output",
      "model_module_version": "1.0.0",
      "model_name": "OutputModel",
      "state": {
       "layout": "IPY_MODEL_9cff99f30e9b483e83760551a147a1e3"
      }
     },
     "32ad4fa3c70f4527a85d443fde626d8e": {
      "model_module": "@jupyter-widgets/base",
      "model_module_version": "1.1.0",
      "model_name": "LayoutModel",
      "state": {}
     },
     "3364082136424cd29b239e13699cc3cb": {
      "model_module": "@jupyter-widgets/base",
      "model_module_version": "1.1.0",
      "model_name": "LayoutModel",
      "state": {}
     },
     "3398c890035d4cfcabe960578f13c068": {
      "model_module": "@jupyter-widgets/controls",
      "model_module_version": "1.4.0",
      "model_name": "ButtonModel",
      "state": {
       "button_style": "success",
       "description": "Start Manual Alignment",
       "layout": "IPY_MODEL_0a32aab5afdb49638138b0cbb3a96fcd",
       "style": "IPY_MODEL_b1a322410afd49bc9106bf51e8f9dde8",
       "tooltip": "Click me"
      }
     },
     "39223fa589b840f381a63fd91d39cb9c": {
      "model_module": "@jupyter-widgets/base",
      "model_module_version": "1.1.0",
      "model_name": "LayoutModel",
      "state": {}
     },
     "3a5dc17824844ce4a1ba1817db84be24": {
      "model_module": "@jupyter-widgets/base",
      "model_module_version": "1.1.0",
      "model_name": "LayoutModel",
      "state": {
       "width": "300px"
      }
     },
     "3e9b0b6d2f9648559db6d6bf6fd837ae": {
      "model_module": "@jupyter-widgets/base",
      "model_module_version": "1.1.0",
      "model_name": "LayoutModel",
      "state": {}
     },
     "41e6328065884d6caef63eb44ab47f35": {
      "model_module": "@jupyter-widgets/controls",
      "model_module_version": "1.4.0",
      "model_name": "TextareaModel",
      "state": {
       "layout": "IPY_MODEL_cc3558aa6c2f4fe2845cf8fd32d3219c",
       "placeholder": "Example: IOC:m1 IOC:m3 LNLS:TEST:motor_g3",
       "style": "IPY_MODEL_e65dcdae1d02407796419ea858319f12"
      }
     },
     "42e334271e10419c8d70595310d6eadf": {
      "model_module": "@jupyter-widgets/output",
      "model_module_version": "1.0.0",
      "model_name": "OutputModel",
      "state": {
       "layout": "IPY_MODEL_1325383fecdc4c38afe53f70455b3445"
      }
     },
     "453eec51863f415fba7a7429b4662604": {
      "model_module": "@jupyter-widgets/base",
      "model_module_version": "1.1.0",
      "model_name": "LayoutModel",
      "state": {}
     },
     "467d257328394ef88923bf8c2f4cf15a": {
      "model_module": "@jupyter-widgets/controls",
      "model_module_version": "1.4.0",
      "model_name": "DropdownModel",
      "state": {
       "_options_labels": [
        "Plot after ends with PyQt",
        "Plot after ends with Plotly",
        "Live Plot"
       ],
       "index": 0,
       "layout": "IPY_MODEL_9c909e99a31c45e29ce03eb022dde6bb",
       "style": "IPY_MODEL_b2a8ee9079ff40fc9caaabd38e0dd31a"
      }
     },
     "4742e1e8f46d4489b67d086f39803795": {
      "model_module": "@jupyter-widgets/output",
      "model_module_version": "1.0.0",
      "model_name": "OutputModel",
      "state": {
       "layout": "IPY_MODEL_7f11108a751f48139e86f7343a4f8100"
      }
     },
     "477bea41bf9145aea5c8e7a29da0874f": {
      "model_module": "@jupyter-widgets/base",
      "model_module_version": "1.1.0",
      "model_name": "LayoutModel",
      "state": {}
     },
     "47d4136a52f74c7bab5c2392a51d2bc8": {
      "model_module": "@jupyter-widgets/controls",
      "model_module_version": "1.4.0",
      "model_name": "DescriptionStyleModel",
      "state": {
       "description_width": "initial"
      }
     },
     "4ae94c25c35c4fd2bcbb5f7120472298": {
      "model_module": "@jupyter-widgets/base",
      "model_module_version": "1.1.0",
      "model_name": "LayoutModel",
      "state": {}
     },
     "4bd0e8257ba14600937f2a80bc73f521": {
      "model_module": "@jupyter-widgets/controls",
      "model_module_version": "1.4.0",
      "model_name": "DescriptionStyleModel",
      "state": {
       "description_width": "initial"
      }
     },
     "4cc4625ac8da40f4b8a19fe68721a742": {
      "model_module": "@jupyter-widgets/base",
      "model_module_version": "1.1.0",
      "model_name": "LayoutModel",
      "state": {}
     },
     "5deb3887f1e1462588efe736c6ed6760": {
      "model_module": "@jupyter-widgets/output",
      "model_module_version": "1.0.0",
      "model_name": "OutputModel",
      "state": {
       "layout": "IPY_MODEL_fef387a8622349b984224773af70481d"
      }
     },
     "626ed1c861ab40ca98bfa59e4cd4e829": {
      "model_module": "@jupyter-widgets/controls",
      "model_module_version": "1.4.0",
      "model_name": "ButtonModel",
      "state": {
       "button_style": "warning",
       "description": "Export Notebook to PDF",
       "layout": "IPY_MODEL_19dff03314bb428588aa06a17a22480a",
       "style": "IPY_MODEL_eb2cf6f27b264891b71dad8cdc93a8d4",
       "tooltip": "Click me"
      }
     },
     "68600ff9ba9048f09ce77b7a4c381596": {
      "model_module": "@jupyter-widgets/controls",
      "model_module_version": "1.4.0",
      "model_name": "DescriptionStyleModel",
      "state": {
       "description_width": ""
      }
     },
     "6b5062985cf24188a69ec9d2785e17bc": {
      "model_module": "@jupyter-widgets/base",
      "model_module_version": "1.1.0",
      "model_name": "LayoutModel",
      "state": {}
     },
     "71c99590dbd84df58bd6ca0bf65c0a4c": {
      "model_module": "@jupyter-widgets/controls",
      "model_module_version": "1.4.0",
      "model_name": "LabelModel",
      "state": {
       "layout": "IPY_MODEL_be5f91a097fe46d1a8a8acbd79c0c185",
       "style": "IPY_MODEL_9e4a24668ea945c0827de5e3c1a5d689",
       "value": "Notebook's name: "
      }
     },
     "72b969575f26498faba1dfad2175596e": {
      "model_module": "@jupyter-widgets/controls",
      "model_module_version": "1.4.0",
      "model_name": "HBoxModel",
      "state": {
       "children": [
        "IPY_MODEL_71c99590dbd84df58bd6ca0bf65c0a4c",
        "IPY_MODEL_0995897667eb427a8ef3dd89ac908811"
       ],
       "layout": "IPY_MODEL_b1dd7658a20646319da8e6220f173205"
      }
     },
     "74106c8918654f3c955f7ca1c46d1dad": {
      "model_module": "@jupyter-widgets/controls",
      "model_module_version": "1.4.0",
      "model_name": "LabelModel",
      "state": {
       "layout": "IPY_MODEL_25691f7b732045e39a283dce889e472f",
       "style": "IPY_MODEL_d2acc2be870a4b40aacacf77219d452a",
       "value": "No motors initilized to be showed."
      }
     },
     "74115c1e88e64b909bf8184201aa49a0": {
      "model_module": "@jupyter-widgets/controls",
      "model_module_version": "1.4.0",
      "model_name": "ButtonStyleModel",
      "state": {}
     },
     "7691151be8274e9ea193691dbe2c225c": {
      "model_module": "@jupyter-widgets/controls",
      "model_module_version": "1.4.0",
      "model_name": "ButtonStyleModel",
      "state": {}
     },
     "7885830dd03c4d72a8e240e64e88e6bd": {
      "model_module": "@jupyter-widgets/output",
      "model_module_version": "1.0.0",
      "model_name": "OutputModel",
      "state": {
       "layout": "IPY_MODEL_2944177ad83b44279d68ec857a0bcb8c"
      }
     },
     "7f11108a751f48139e86f7343a4f8100": {
      "model_module": "@jupyter-widgets/base",
      "model_module_version": "1.1.0",
      "model_name": "LayoutModel",
      "state": {}
     },
     "8596e4f4888a4b7a984adc06a14cdddd": {
      "model_module": "@jupyter-widgets/base",
      "model_module_version": "1.1.0",
      "model_name": "LayoutModel",
      "state": {
       "width": "300px"
      }
     },
     "943ffb6867c544e594b1676bf5d5d3e3": {
      "model_module": "@jupyter-widgets/base",
      "model_module_version": "1.1.0",
      "model_name": "LayoutModel",
      "state": {}
     },
     "94c81681a0e94fbaad4164d4e8770aed": {
      "model_module": "@jupyter-widgets/base",
      "model_module_version": "1.1.0",
      "model_name": "LayoutModel",
      "state": {}
     },
     "94ec5b28bdfb424f8ca31c80d8223910": {
      "model_module": "@jupyter-widgets/controls",
      "model_module_version": "1.4.0",
      "model_name": "TextareaModel",
      "state": {
       "layout": "IPY_MODEL_f98b457330e84a1f9f10c56858d2b5c2",
       "placeholder": "Example: IOC:m1.DMOV IOC:m3.RBV LNLS:ANEL:corrente.VAL",
       "style": "IPY_MODEL_0561fa3167ed4f358819418fe0d48af9"
      }
     },
     "96365f75145c435ebceed810a9d2963a": {
      "model_module": "@jupyter-widgets/controls",
      "model_module_version": "1.4.0",
      "model_name": "ButtonModel",
      "state": {
       "button_style": "success",
       "description": "Start Motor Initializaton",
       "layout": "IPY_MODEL_0e4a45a4b8414320990b3ff8d4e9a7dd",
       "style": "IPY_MODEL_aa8c747ee8934feebf709fccbe166a0d",
       "tooltip": "Click me"
      }
     },
     "98214cb53cf94207979ab7132cc0d480": {
      "model_module": "@jupyter-widgets/controls",
      "model_module_version": "1.4.0",
      "model_name": "ButtonStyleModel",
      "state": {}
     },
     "99d077ba1f6942d6ac1af6506692c035": {
      "model_module": "@jupyter-widgets/controls",
      "model_module_version": "1.4.0",
      "model_name": "ButtonModel",
      "state": {
       "button_style": "success",
       "description": "Start Scanning Plot",
       "layout": "IPY_MODEL_3a5dc17824844ce4a1ba1817db84be24",
       "style": "IPY_MODEL_afe1e1cfab0449f8949545cd4fc54292",
       "tooltip": "Click me"
      }
     },
     "9b366db72c3040ae9c1dc892a51f5bcf": {
      "model_module": "@jupyter-widgets/base",
      "model_module_version": "1.1.0",
      "model_name": "LayoutModel",
      "state": {}
     },
     "9c909e99a31c45e29ce03eb022dde6bb": {
      "model_module": "@jupyter-widgets/base",
      "model_module_version": "1.1.0",
      "model_name": "LayoutModel",
      "state": {}
     },
     "9cff99f30e9b483e83760551a147a1e3": {
      "model_module": "@jupyter-widgets/base",
      "model_module_version": "1.1.0",
      "model_name": "LayoutModel",
      "state": {}
     },
     "9e4a24668ea945c0827de5e3c1a5d689": {
      "model_module": "@jupyter-widgets/controls",
      "model_module_version": "1.4.0",
      "model_name": "DescriptionStyleModel",
      "state": {
       "description_width": ""
      }
     },
     "a2743b1ffb124baa89630bcbf5a58bbf": {
      "model_module": "@jupyter-widgets/output",
      "model_module_version": "1.0.0",
      "model_name": "OutputModel",
      "state": {
       "layout": "IPY_MODEL_453eec51863f415fba7a7429b4662604"
      }
     },
     "a3f974abd293449f85456d1cb55f73a9": {
      "model_module": "@jupyter-widgets/base",
      "model_module_version": "1.1.0",
      "model_name": "LayoutModel",
      "state": {
       "width": "300px"
      }
     },
     "a88ab2cdb7a34af885394eaff4b88e2e": {
      "model_module": "@jupyter-widgets/controls",
      "model_module_version": "1.4.0",
      "model_name": "CheckboxModel",
      "state": {
       "description": "Print log in Notebook's cells",
       "disabled": false,
       "layout": "IPY_MODEL_3364082136424cd29b239e13699cc3cb",
       "style": "IPY_MODEL_e820b0ca656a4d3db3363374f791061e",
       "value": false
      }
     },
     "aa8c747ee8934feebf709fccbe166a0d": {
      "model_module": "@jupyter-widgets/controls",
      "model_module_version": "1.4.0",
      "model_name": "ButtonStyleModel",
      "state": {}
     },
     "aaa5e88c64b148408a25bb22ebb21eba": {
      "model_module": "@jupyter-widgets/controls",
      "model_module_version": "1.4.0",
      "model_name": "VBoxModel",
      "state": {
       "children": [
        "IPY_MODEL_99d077ba1f6942d6ac1af6506692c035"
       ],
       "layout": "IPY_MODEL_477bea41bf9145aea5c8e7a29da0874f"
      }
     },
     "abad4ba9905941689ca27bf4785fc75d": {
      "model_module": "@jupyter-widgets/controls",
      "model_module_version": "1.4.0",
      "model_name": "CheckboxModel",
      "state": {
       "description": "Live plot in Jupyter: ",
       "disabled": false,
       "layout": "IPY_MODEL_943ffb6867c544e594b1676bf5d5d3e3",
       "style": "IPY_MODEL_4bd0e8257ba14600937f2a80bc73f521",
       "value": false
      }
     },
     "ae411af223df48c28cd674bc1ad0f6fc": {
      "model_module": "@jupyter-widgets/controls",
      "model_module_version": "1.4.0",
      "model_name": "DescriptionStyleModel",
      "state": {
       "description_width": ""
      }
     },
     "afe1e1cfab0449f8949545cd4fc54292": {
      "model_module": "@jupyter-widgets/controls",
      "model_module_version": "1.4.0",
      "model_name": "ButtonStyleModel",
      "state": {}
     },
     "b1a322410afd49bc9106bf51e8f9dde8": {
      "model_module": "@jupyter-widgets/controls",
      "model_module_version": "1.4.0",
      "model_name": "ButtonStyleModel",
      "state": {}
     },
     "b1dd7658a20646319da8e6220f173205": {
      "model_module": "@jupyter-widgets/base",
      "model_module_version": "1.1.0",
      "model_name": "LayoutModel",
      "state": {}
     },
     "b2a8ee9079ff40fc9caaabd38e0dd31a": {
      "model_module": "@jupyter-widgets/controls",
      "model_module_version": "1.4.0",
      "model_name": "DescriptionStyleModel",
      "state": {
       "description_width": "initial"
      }
     },
     "b6da889b533b45db91d5b9c7120334ad": {
      "model_module": "@jupyter-widgets/base",
      "model_module_version": "1.1.0",
      "model_name": "LayoutModel",
      "state": {}
     },
     "b99ad89b95bb44c5a412292666768fa8": {
      "model_module": "@jupyter-widgets/base",
      "model_module_version": "1.1.0",
      "model_name": "LayoutModel",
      "state": {}
     },
     "baf2e56b14334693ac04bf8e788c94c3": {
      "model_module": "@jupyter-widgets/controls",
      "model_module_version": "1.4.0",
      "model_name": "VBoxModel",
      "state": {
       "children": [
        "IPY_MODEL_41e6328065884d6caef63eb44ab47f35",
        "IPY_MODEL_96365f75145c435ebceed810a9d2963a"
       ],
       "layout": "IPY_MODEL_94c81681a0e94fbaad4164d4e8770aed"
      }
     },
     "be5f91a097fe46d1a8a8acbd79c0c185": {
      "model_module": "@jupyter-widgets/base",
      "model_module_version": "1.1.0",
      "model_name": "LayoutModel",
      "state": {}
     },
     "c0c19c64eab34964a50d91fd76298b71": {
      "model_module": "@jupyter-widgets/base",
      "model_module_version": "1.1.0",
      "model_name": "LayoutModel",
      "state": {
       "width": "300px"
      }
     },
     "c115ebec04f94a47875ea03f95622d35": {
      "model_module": "@jupyter-widgets/controls",
      "model_module_version": "1.4.0",
      "model_name": "DescriptionStyleModel",
      "state": {
       "description_width": "initial"
      }
     },
     "c21ea2cc09c8448fbb1478216b5e692a": {
      "model_module": "@jupyter-widgets/controls",
      "model_module_version": "1.4.0",
      "model_name": "DescriptionStyleModel",
      "state": {
       "description_width": ""
      }
     },
     "c4d713d7b6ea4d1a8224a1d31737471d": {
      "model_module": "@jupyter-widgets/base",
      "model_module_version": "1.1.0",
      "model_name": "LayoutModel",
      "state": {}
     },
     "cadd74c2e5d048ba9a3742b7c26e6815": {
      "model_module": "@jupyter-widgets/controls",
      "model_module_version": "1.4.0",
      "model_name": "ButtonModel",
      "state": {
       "button_style": "warning",
       "description": "Export Notebook to HTML",
       "layout": "IPY_MODEL_8596e4f4888a4b7a984adc06a14cdddd",
       "style": "IPY_MODEL_74115c1e88e64b909bf8184201aa49a0",
       "tooltip": "Click me"
      }
     },
     "cc3558aa6c2f4fe2845cf8fd32d3219c": {
      "model_module": "@jupyter-widgets/base",
      "model_module_version": "1.1.0",
      "model_name": "LayoutModel",
      "state": {}
     },
     "cc5eed5fb19448d59201abd782f5bd11": {
      "model_module": "@jupyter-widgets/controls",
      "model_module_version": "1.4.0",
      "model_name": "BoxModel",
      "state": {
       "layout": "IPY_MODEL_f4c435906c054a9dbd9a0a9ed5ae343d"
      }
     },
     "cebaaa3a23c34f4b95f66130133631eb": {
      "model_module": "plotlywidget",
      "model_module_version": "0.8.0",
      "model_name": "FigureModel",
      "state": {
       "_config": {
        "plotlyServerURL": "https://plot.ly"
       },
       "_js2py_layoutDelta": {},
       "_js2py_pointsCallback": {},
       "_js2py_relayout": {},
       "_js2py_restyle": {},
       "_js2py_traceDeltas": {},
       "_js2py_update": {},
       "_layout": {
        "template": {}
       },
       "_model_module_version": "0.8.0",
       "_py2js_addTraces": {},
       "_py2js_animate": {},
       "_py2js_deleteTraces": {},
       "_py2js_moveTraces": {},
       "_py2js_removeLayoutProps": {},
       "_py2js_removeTraceProps": {},
       "_py2js_restyle": {},
       "_py2js_update": {},
       "_view_count": 0,
       "_view_module_version": "0.8.0"
      }
     },
     "d1a61519494e410c8938503a1e64d63c": {
      "model_module": "@jupyter-widgets/controls",
      "model_module_version": "1.4.0",
      "model_name": "VBoxModel",
      "state": {
       "children": [
        "IPY_MODEL_048c3af8ef084988887ca9f9fe10c1f3"
       ],
       "layout": "IPY_MODEL_b6da889b533b45db91d5b9c7120334ad"
      }
     },
     "d2acc2be870a4b40aacacf77219d452a": {
      "model_module": "@jupyter-widgets/controls",
      "model_module_version": "1.4.0",
      "model_name": "DescriptionStyleModel",
      "state": {
       "description_width": ""
      }
     },
     "d43ead9e62da458fa50e5d9ee5231e8e": {
      "model_module": "@jupyter-widgets/controls",
      "model_module_version": "1.4.0",
      "model_name": "CheckboxModel",
      "state": {
       "description": "Plot with Plotly after scan ends: ",
       "disabled": false,
       "layout": "IPY_MODEL_c4d713d7b6ea4d1a8224a1d31737471d",
       "style": "IPY_MODEL_47d4136a52f74c7bab5c2392a51d2bc8",
       "value": false
      }
     },
     "d67f85bab61743338a26c93c4ed41517": {
      "model_module": "@jupyter-widgets/base",
      "model_module_version": "1.1.0",
      "model_name": "LayoutModel",
      "state": {
       "width": "300px"
      }
     },
     "d83adface1bd4369a8365ff4fc19364d": {
      "model_module": "@jupyter-widgets/controls",
      "model_module_version": "1.4.0",
      "model_name": "VBoxModel",
      "state": {
       "children": [
        "IPY_MODEL_09e42144a5454a1880fc7c9f1ae79736",
        "IPY_MODEL_94ec5b28bdfb424f8ca31c80d8223910"
       ],
       "layout": "IPY_MODEL_e707a1ffad304e298e5016d80b1ddcf2"
      }
     },
     "d8d549997aba468daca91336b89f4513": {
      "model_module": "@jupyter-widgets/base",
      "model_module_version": "1.1.0",
      "model_name": "LayoutModel",
      "state": {}
     },
     "e24536876402448587c2b3b725720903": {
      "model_module": "@jupyter-widgets/controls",
      "model_module_version": "1.4.0",
      "model_name": "DescriptionStyleModel",
      "state": {
       "description_width": "initial"
      }
     },
     "e2e5f24f42954f2f8e4ea5d0bccee559": {
      "model_module": "@jupyter-widgets/base",
      "model_module_version": "1.1.0",
      "model_name": "LayoutModel",
      "state": {}
     },
     "e65dcdae1d02407796419ea858319f12": {
      "model_module": "@jupyter-widgets/controls",
      "model_module_version": "1.4.0",
      "model_name": "DescriptionStyleModel",
      "state": {
       "description_width": ""
      }
     },
     "e707a1ffad304e298e5016d80b1ddcf2": {
      "model_module": "@jupyter-widgets/base",
      "model_module_version": "1.1.0",
      "model_name": "LayoutModel",
      "state": {}
     },
     "e820b0ca656a4d3db3363374f791061e": {
      "model_module": "@jupyter-widgets/controls",
      "model_module_version": "1.4.0",
      "model_name": "DescriptionStyleModel",
      "state": {
       "description_width": "initial"
      }
     },
     "eb2cf6f27b264891b71dad8cdc93a8d4": {
      "model_module": "@jupyter-widgets/controls",
      "model_module_version": "1.4.0",
      "model_name": "ButtonStyleModel",
      "state": {}
     },
     "ebac0b913c144e79bd2ab354bb898679": {
      "model_module": "@jupyter-widgets/base",
      "model_module_version": "1.1.0",
      "model_name": "LayoutModel",
      "state": {
       "width": "300px"
      }
     },
     "ed46043e15854ff6b3c58d41505c900c": {
      "model_module": "@jupyter-widgets/base",
      "model_module_version": "1.1.0",
      "model_name": "LayoutModel",
      "state": {}
     },
     "f475f3a0f98a4ddea52e3dac07a1d1f2": {
      "model_module": "@jupyter-widgets/controls",
      "model_module_version": "1.4.0",
      "model_name": "VBoxModel",
      "state": {
       "children": [
        "IPY_MODEL_3398c890035d4cfcabe960578f13c068"
       ],
       "layout": "IPY_MODEL_6b5062985cf24188a69ec9d2785e17bc"
      }
     },
     "f4c435906c054a9dbd9a0a9ed5ae343d": {
      "model_module": "@jupyter-widgets/base",
      "model_module_version": "1.1.0",
      "model_name": "LayoutModel",
      "state": {
       "height": "40px",
       "width": "40px"
      }
     },
     "f98b457330e84a1f9f10c56858d2b5c2": {
      "model_module": "@jupyter-widgets/base",
      "model_module_version": "1.1.0",
      "model_name": "LayoutModel",
      "state": {}
     },
     "f9b0b633788b433f95aee03151786507": {
      "model_module": "@jupyter-widgets/output",
      "model_module_version": "1.0.0",
      "model_name": "OutputModel",
      "state": {
       "layout": "IPY_MODEL_4cc4625ac8da40f4b8a19fe68721a742",
       "outputs": [
        {
         "data": {
          "application/javascript": "IPython.notebook.save_checkpoint();",
          "text/plain": "<IPython.core.display.Javascript object>"
         },
         "metadata": {},
         "output_type": "display_data"
        }
       ]
      }
     },
     "fef387a8622349b984224773af70481d": {
      "model_module": "@jupyter-widgets/base",
      "model_module_version": "1.1.0",
      "model_name": "LayoutModel",
      "state": {}
     }
    },
    "version_major": 2,
    "version_minor": 0
   }
  }
 },
 "nbformat": 4,
 "nbformat_minor": 2
}
