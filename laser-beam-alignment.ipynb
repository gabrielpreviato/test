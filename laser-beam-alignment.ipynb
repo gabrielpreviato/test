{
 "cells": [
  {
   "cell_type": "markdown",
   "metadata": {},
   "source": [
    "# XAFS1 -  Operation Notebook\n",
    "\n",
    "## Laser Beam Initial Alignment Notebook\n",
    "\n",
    "### Responsible Technician: Anna Sotero (ext 3555, 1139)\n",
    "\n",
    "#### More informations about this Laser Beam Line can be found in https://www.lnls.cnpem.br/linhas-de-luz/xafs1/"
   ]
  },
  {
   "cell_type": "markdown",
   "metadata": {},
   "source": [
    "This notebook provide a script in order to help the user at alignment tasks. With code interactive cells, Jupyter is a powerfull tool to increase productivity and to help non experts in programming.\n",
    "\n",
    "To use this notebook in the Laser Beam Line, follow the instructions of each section.\n",
    "\n",
    "It's expected that all the Notebook's dependencies are already installed. For more information read the jupy4syn documentation."
   ]
  },
  {
   "cell_type": "markdown",
   "metadata": {},
   "source": [
    "## \"####################################\"\n",
    "scan-util -> gui_plot\n",
    "\n",
    "scan-gui -> master\n",
    "\n",
    "scan_gui.py must be at ~/work/scan-gui/scan_gui.py\n",
    "\n",
    "py4syn -> https://github.com/gabrielpreviato/py4syn\n",
    "## \"####################################\""
   ]
  },
  {
   "cell_type": "markdown",
   "metadata": {},
   "source": [
    "### Openning/Closing proceedings at the Laser Beam Line\n",
    "\n",
    "- Unlock Gama. To do this, activate the painel button \"Abre/Fecha Linha\". The LED \"Bloqueio Gama\" will turn to green.\n",
    "\n",
    "<sup>Obs.: Game is blocked automatically in the injections.\n",
    "When \"Abre/Fecha Linha\" is activated, the \"Válvula Gate Anel\" and the \"Obturador Feixe Branco\" open automatically in this sequence. </sup>\n",
    "\n",
    "- The \"Obturador Monocromátio\" can be activated only after \"Busca\" (Search) is done.\n",
    "\n",
    "- Busca (Search). Take the key \"Procura\" (key number 1) from the board. Check if there isn't anyone inside of the hut, which meand that the other 3 keys must be on the board. Place the key \"Procura\" in the \"Tambor de Procura\" inside of the hut. Turn the key once, return and take it back. After this, we have 10 seconds to close the door and press the door's green button. As siren wil ring.\n",
    "\n",
    "- Place the key \"Procura\" in the board and when the siren stops, press the button \"Obturador Monocromático\" \n",
    "\n",
    "![](files/img/board.png)"
   ]
  },
  {
   "cell_type": "markdown",
   "metadata": {},
   "source": [
    "### Users motors list\n",
    "\n",
    "|              Motor             | High-level name |\n",
    "|:------------------------------:|:---------------:|\n",
    "|    Sample holder horizontal    |       shh       |\n",
    "|     Sample holder vertical     |       shv       |\n",
    "|  X-ray horizontal eye carrier  |       xh        |\n",
    "|   X-ray vertical eye carrier   |       xv        |\n",
    "|   Cryostat carrier horizontal  |      crioh      |\n",
    "|   Cryostat carrier vertical    |      criov      |\n",
    "|       Mettalic references      |       ref       |\n",
    "|           Goniometer           |       gon       |"
   ]
  },
  {
   "cell_type": "markdown",
   "metadata": {},
   "source": [
    "### References\n",
    "\n",
    "![](files/img/references.png)"
   ]
  },
  {
   "cell_type": "code",
   "execution_count": 1,
   "metadata": {
    "hide_input": false
   },
   "outputs": [
    {
     "data": {
      "text/html": [
       "<script type=\"text/javascript\">window.PlotlyConfig = {MathJaxConfig: 'local'};</script><script type=\"text/javascript\">if (window.MathJax) {MathJax.Hub.Config({SVG: {font: \"STIX-Web\"}});}</script><script>requirejs.config({paths: { 'plotly': ['https://cdn.plot.ly/plotly-latest.min']},});if(!window._Plotly) {require(['plotly'],function(plotly) {window._Plotly=plotly;});}</script>"
      ],
      "text/vnd.plotly.v1+html": [
       "<script type=\"text/javascript\">window.PlotlyConfig = {MathJaxConfig: 'local'};</script><script type=\"text/javascript\">if (window.MathJax) {MathJax.Hub.Config({SVG: {font: \"STIX-Web\"}});}</script><script>requirejs.config({paths: { 'plotly': ['https://cdn.plot.ly/plotly-latest.min']},});if(!window._Plotly) {require(['plotly'],function(plotly) {window._Plotly=plotly;});}</script>"
      ]
     },
     "metadata": {},
     "output_type": "display_data"
    }
   ],
   "source": [
    "# Import jupy4syn libraries\n",
    "from lib.StartMotorsButton import StartMotorsButton\n",
    "from lib.ManualAlignmentButton import ManualAlignmentButton\n",
    "from lib.PVMonitor import PVMonitor\n",
    "from lib.ScalerButton import ScalerButton\n",
    "from lib.MonitorScanSave import MonitorScanSave\n",
    "from lib.ExportButtonLatex import ExportButtonLatex\n",
    "from lib.ExportButtonHTML import ExportButtonHTML\n",
    "from lib.Configuration import Configuration\n",
    "\n",
    "# Enable offline plots from Plotly\n",
    "import plotly.offline as py\n",
    "py.init_notebook_mode(connected=True)"
   ]
  },
  {
   "cell_type": "markdown",
   "metadata": {
    "hide_input": true
   },
   "source": [
    "### Configurations\n",
    "\n",
    "The following cell presents the user the choice of some configuration. We have the following configuration:\n",
    "* Print log in cells. If this option is selected, every run of cells will print a log in the output cell.\n",
    "* Notebook's name. If the user wants to export the notebook, this text box must have the Notebook's name WITHOUT the \".ipynb\" file format"
   ]
  },
  {
   "cell_type": "code",
   "execution_count": 2,
   "metadata": {
    "hide_input": false,
    "scrolled": true
   },
   "outputs": [
    {
     "data": {
      "application/vnd.jupyter.widget-view+json": {
       "model_id": "6f0f97ac5a40488bb92867cdf64e5d50",
       "version_major": 2,
       "version_minor": 0
      },
      "text/plain": [
       "Checkbox(value=False, description=\"Print log in Notebook's cells\", style=DescriptionStyle(description_width='i…"
      ]
     },
     "metadata": {},
     "output_type": "display_data"
    },
    {
     "data": {
      "application/vnd.jupyter.widget-view+json": {
       "model_id": "f335ebb2605c44d595f9a332049dcd44",
       "version_major": 2,
       "version_minor": 0
      },
      "text/plain": [
       "HBox(children=(Label(value=\"Notebook's name: \"), Text(value='', layout=Layout(width='300px'), placeholder=\"Typ…"
      ]
     },
     "metadata": {},
     "output_type": "display_data"
    },
    {
     "data": {
      "application/vnd.jupyter.widget-view+json": {
       "model_id": "9f3a775ff61d435e9b2aba6a8f26f9b4",
       "version_major": 2,
       "version_minor": 0
      },
      "text/plain": [
       "Output()"
      ]
     },
     "metadata": {},
     "output_type": "display_data"
    }
   ],
   "source": [
    "config = Configuration()\n",
    "config.display()"
   ]
  },
  {
   "cell_type": "markdown",
   "metadata": {},
   "source": [
    "### First manual alignment\n",
    "\n",
    "The following cells provides to the user tools to do a first \"rough\" alignment. The user has two options, use the Jupyter textbox interface or use the Slit PyQt interface. The later is recommended.\n",
    "\n",
    "To use the Jupyter textbox, the user needs to write the motors that will be aligned. Just write the motors' names separeted by spaces.\n",
    "\n",
    "To use the Slit PyQt interface, the user needs to click on the \"Start Manual Alignment\" button and the interface will open."
   ]
  },
  {
   "cell_type": "code",
   "execution_count": 3,
   "metadata": {
    "hide_input": false,
    "scrolled": false
   },
   "outputs": [
    {
     "data": {
      "application/vnd.jupyter.widget-view+json": {
       "model_id": "bb73dee0e4004561b25cec5f70dcfa08",
       "version_major": 2,
       "version_minor": 0
      },
      "text/plain": [
       "VBox(children=(Textarea(value='', placeholder='Example: IOC:m1 IOC:m3 LNLS:TEST:motor_g3'), StartMotorsButton(…"
      ]
     },
     "metadata": {},
     "output_type": "display_data"
    },
    {
     "data": {
      "application/vnd.jupyter.widget-view+json": {
       "model_id": "8d3ee001062e44c19521a0755fab9591",
       "version_major": 2,
       "version_minor": 0
      },
      "text/plain": [
       "Output()"
      ]
     },
     "metadata": {},
     "output_type": "display_data"
    },
    {
     "data": {
      "application/vnd.jupyter.widget-view+json": {
       "model_id": "821fec89e7394a1894b02a7cbf9f8f1a",
       "version_major": 2,
       "version_minor": 0
      },
      "text/plain": [
       "VBox(children=(Label(value='No motors initilized to be showed.'),))"
      ]
     },
     "metadata": {},
     "output_type": "display_data"
    }
   ],
   "source": [
    "# Jupyter textbox interface\n",
    "start_motor_button_box = StartMotorsButton(config)\n",
    "start_motor_button_box.display()"
   ]
  },
  {
   "cell_type": "code",
   "execution_count": 4,
   "metadata": {},
   "outputs": [
    {
     "data": {
      "application/vnd.jupyter.widget-view+json": {
       "model_id": "1ba4b045dc574b439b8bedb4552bf37f",
       "version_major": 2,
       "version_minor": 0
      },
      "text/plain": [
       "VBox(children=(ManualAlignmentButton(button_style='success', description='Start Manual Alignment', layout=Layo…"
      ]
     },
     "metadata": {},
     "output_type": "display_data"
    },
    {
     "data": {
      "application/vnd.jupyter.widget-view+json": {
       "model_id": "4db388e32ba7433da7507532ffb80940",
       "version_major": 2,
       "version_minor": 0
      },
      "text/plain": [
       "Output()"
      ]
     },
     "metadata": {},
     "output_type": "display_data"
    }
   ],
   "source": [
    "# Slit PyQt Interface\n",
    "slit = ManualAlignmentButton(config)\n",
    "slit.display()"
   ]
  },
  {
   "cell_type": "code",
   "execution_count": 6,
   "metadata": {},
   "outputs": [
    {
     "data": {
      "application/vnd.jupyter.widget-view+json": {
       "model_id": "6f7e3958b1ca4c5ea7a75396d0d7800f",
       "version_major": 2,
       "version_minor": 0
      },
      "text/plain": [
       "Text(value='', layout=Layout(width='300px'), placeholder='Type the macro')"
      ]
     },
     "metadata": {},
     "output_type": "display_data"
    },
    {
     "data": {
      "application/vnd.jupyter.widget-view+json": {
       "model_id": "3d7b15c44dd94bf5b21651beaca1d1a7",
       "version_major": 2,
       "version_minor": 0
      },
      "text/plain": [
       "VBox(children=(ScalerButton(button_style='success', description='Start Scaler GUI', layout=Layout(width='300px…"
      ]
     },
     "metadata": {},
     "output_type": "display_data"
    },
    {
     "data": {
      "application/vnd.jupyter.widget-view+json": {
       "model_id": "e25bbcf731c0462f8136c1e2e2ee95cd",
       "version_major": 2,
       "version_minor": 0
      },
      "text/plain": [
       "Output()"
      ]
     },
     "metadata": {},
     "output_type": "display_data"
    }
   ],
   "source": [
    "# Scaler interface\n",
    "scaler = ScalerButton(config)\n",
    "scaler.display()"
   ]
  },
  {
   "cell_type": "markdown",
   "metadata": {},
   "source": [
    "### PV's monitoring\n",
    "\n",
    "The following cells provides to the user tools to monitorate PV's. A Jupyter interface is provided as well as a PyQt interface.\n",
    "\n",
    "To use the Jupyter interface, the user needs to write the PV's names in the text box and click on the \"Start PV Monitoring\" button.\n",
    "\n",
    "To use the PyQt interfaces, the user needs to click on the desired interface button."
   ]
  },
  {
   "cell_type": "code",
   "execution_count": 5,
   "metadata": {},
   "outputs": [
    {
     "data": {
      "application/vnd.jupyter.widget-view+json": {
       "model_id": "2d2661607fb04fe9b4fd8d91a4bac168",
       "version_major": 2,
       "version_minor": 0
      },
      "text/plain": [
       "VBox(children=(PVMonitor(button_style='success', description='Start PV Monitoring', layout=Layout(width='300px…"
      ]
     },
     "metadata": {},
     "output_type": "display_data"
    },
    {
     "data": {
      "application/vnd.jupyter.widget-view+json": {
       "model_id": "7c5f7b745c40436cbc834c71de9ffe27",
       "version_major": 2,
       "version_minor": 0
      },
      "text/plain": [
       "Output()"
      ]
     },
     "metadata": {},
     "output_type": "display_data"
    }
   ],
   "source": [
    "pv_monitor = PVMonitor(config)\n",
    "pv_monitor.display()"
   ]
  },
  {
   "cell_type": "markdown",
   "metadata": {},
   "source": [
    "### Scan\n",
    "\n",
    "The scan is made by the scan-gui interface. This interface < benefits of it...>.\n",
    "\n",
    "After the button \"Start Scanning Plot\" is pressed, the notebook will wait for any scan in the scan-gui interface to be started and will show a plot of the scan in the notebook. If the user made a scan, but did not pressed the \"Start Scanning Plot\" button, the notebook won't display the graph, but every data will be stored regardless of it being showed in the notebook or not.\n",
    "\n",
    "We have 3 options of showing the scan in the notebook.\n",
    "* Plot after end with PyQt\n",
    "* Plot after end with Plotly\n",
    "* Live Plot\n",
    "\n",
    "For the \"Plot after end with PyQt\" option, after the scan ends, the notebook will display the same image that is showed in the scan-gui interface, the only difference is that this will be a static image.\n",
    "\n",
    "For the \"Plot after end with Plotly\" option, after the scand ends, the notebook will display a Plotly graph with the data generated by the scan. This Plotly graph is interactive, so the user can zoom, pan the graph.\n",
    "\n",
    "For the \"Live Plot\" option, the scan is plotted in the notebook while the scan is being processed. For this option, the scan must be done in \"Synchronous Mode\""
   ]
  },
  {
   "cell_type": "code",
   "execution_count": 7,
   "metadata": {
    "scrolled": false
   },
   "outputs": [
    {
     "data": {
      "application/vnd.jupyter.widget-view+json": {
       "model_id": "847cf8f7a53a4b59a0457e59d691cb46",
       "version_major": 2,
       "version_minor": 0
      },
      "text/plain": [
       "Dropdown(options=('Plot after ends with PyQt', 'Plot after ends with Plotly', 'Live Plot'), style=DescriptionS…"
      ]
     },
     "metadata": {},
     "output_type": "display_data"
    },
    {
     "data": {
      "application/vnd.jupyter.widget-view+json": {
       "model_id": "cf2bfaf4e151476783db3c100ab1e3e0",
       "version_major": 2,
       "version_minor": 0
      },
      "text/plain": [
       "VBox(children=(MonitorScanSave(button_style='success', description='Start Scanning Plot', layout=Layout(width=…"
      ]
     },
     "metadata": {},
     "output_type": "display_data"
    },
    {
     "data": {
      "application/vnd.jupyter.widget-view+json": {
       "model_id": "d4ff869a11d64d01b59b84a01188cb86",
       "version_major": 2,
       "version_minor": 0
      },
      "text/plain": [
       "Box(layout=Layout(height='40px', width='40px'))"
      ]
     },
     "metadata": {},
     "output_type": "display_data"
    },
    {
     "data": {
      "application/vnd.jupyter.widget-view+json": {
       "model_id": "fd5690c571734d87bc70fffe63a39db8",
       "version_major": 2,
       "version_minor": 0
      },
      "text/plain": [
       "Box()"
      ]
     },
     "metadata": {},
     "output_type": "display_data"
    },
    {
     "data": {
      "application/vnd.jupyter.widget-view+json": {
       "model_id": "a4c25438d5aa4f5ab12296aa01b43d2b",
       "version_major": 2,
       "version_minor": 0
      },
      "text/plain": [
       "Output()"
      ]
     },
     "metadata": {},
     "output_type": "display_data"
    },
    {
     "data": {
      "text/plain": [
       "''"
      ]
     },
     "metadata": {},
     "output_type": "display_data"
    },
    {
     "data": {
      "text/plain": [
       "''"
      ]
     },
     "metadata": {},
     "output_type": "display_data"
    }
   ],
   "source": [
    "# Scan-gui\n",
    "scan_plot = MonitorScanSave(config)\n",
    "scan_plot.display()"
   ]
  },
  {
   "cell_type": "markdown",
   "metadata": {},
   "source": [
    "### Export notebook\n",
    "\n",
    "The following cells allow the user to easily export the notebook to a HTML or PDF format.\n",
    "\n",
    "* For the export being successful, the user must save the widgets states. To do this, simply click in the \"Widgets\" option in the notebook tollbar and select option \"Save Notebook Widget State\". \n",
    "\n",
    "![](files/img/save_widget_state.png)\n",
    "\n",
    "\n",
    "\n",
    "* Also, the name of this notebook must be written in the text box in the Configuration section.\n",
    "\n",
    "\n",
    "\n",
    "![](files/img/notebooks_name.png)"
   ]
  },
  {
   "cell_type": "code",
   "execution_count": 8,
   "metadata": {
    "hide_input": false
   },
   "outputs": [
    {
     "data": {
      "application/vnd.jupyter.widget-view+json": {
       "model_id": "6f0f97ac5a40488bb92867cdf64e5d50",
       "version_major": 2,
       "version_minor": 0
      },
      "text/plain": [
       "Checkbox(value=False, description=\"Print log in Notebook's cells\", style=DescriptionStyle(description_width='i…"
      ]
     },
     "metadata": {},
     "output_type": "display_data"
    },
    {
     "data": {
      "application/vnd.jupyter.widget-view+json": {
       "model_id": "c870451e427c4aa8b6688685956734be",
       "version_major": 2,
       "version_minor": 0
      },
      "text/plain": [
       "HBox(children=(Label(value=\"Notebook's name: \"), Text(value='', layout=Layout(width='300px'), placeholder=\"Typ…"
      ]
     },
     "metadata": {},
     "output_type": "display_data"
    },
    {
     "data": {
      "application/vnd.jupyter.widget-view+json": {
       "model_id": "9f3a775ff61d435e9b2aba6a8f26f9b4",
       "version_major": 2,
       "version_minor": 0
      },
      "text/plain": [
       "Output()"
      ]
     },
     "metadata": {},
     "output_type": "display_data"
    }
   ],
   "source": [
    "config.display()"
   ]
  },
  {
   "cell_type": "code",
   "execution_count": 9,
   "metadata": {},
   "outputs": [
    {
     "data": {
      "application/vnd.jupyter.widget-view+json": {
       "model_id": "ea189ae48a3348a28dbb1b9612843d30",
       "version_major": 2,
       "version_minor": 0
      },
      "text/plain": [
       "ExportButtonLatex(button_style='warning', description='Export Notebook to Latex', layout=Layout(width='300px')…"
      ]
     },
     "metadata": {},
     "output_type": "display_data"
    },
    {
     "data": {
      "application/vnd.jupyter.widget-view+json": {
       "model_id": "69a5c0846b4d4ad28d02561187255290",
       "version_major": 2,
       "version_minor": 0
      },
      "text/plain": [
       "Output()"
      ]
     },
     "metadata": {},
     "output_type": "display_data"
    }
   ],
   "source": [
    "export_latex = ExportButtonLatex(config)\n",
    "export_latex.display()"
   ]
  },
  {
   "cell_type": "code",
   "execution_count": 10,
   "metadata": {
    "scrolled": true
   },
   "outputs": [
    {
     "data": {
      "application/vnd.jupyter.widget-view+json": {
       "model_id": "19f1afcbc419456c8ca7614509046ae4",
       "version_major": 2,
       "version_minor": 0
      },
      "text/plain": [
       "ExportButtonHTML(button_style='warning', description='Export Notebook to HTML', layout=Layout(width='300px'), …"
      ]
     },
     "metadata": {},
     "output_type": "display_data"
    },
    {
     "data": {
      "application/vnd.jupyter.widget-view+json": {
       "model_id": "4060afc371df45d8a4c5915c9e1b100a",
       "version_major": 2,
       "version_minor": 0
      },
      "text/plain": [
       "Output()"
      ]
     },
     "metadata": {},
     "output_type": "display_data"
    }
   ],
   "source": [
    "export_html = ExportButtonHTML(config)\n",
    "export_html.display()"
   ]
  }
 ],
 "metadata": {
  "kernelspec": {
   "display_name": "Python 3",
   "language": "python",
   "name": "python3"
  },
  "language_info": {
   "codemirror_mode": {
    "name": "ipython",
    "version": 3
   },
   "file_extension": ".py",
   "mimetype": "text/x-python",
   "name": "python",
   "nbconvert_exporter": "python",
   "pygments_lexer": "ipython3",
   "version": "3.5.3"
  },
  "widgets": {
   "application/vnd.jupyter.widget-state+json": {
    "state": {
     "0024ee07cfe448d29d1cd5330fdf101f": {
      "model_module": "@jupyter-widgets/base",
      "model_module_version": "1.1.0",
      "model_name": "LayoutModel",
      "state": {}
     },
     "002938425ea74b0ca71a95bcbe9359f9": {
      "model_module": "@jupyter-widgets/base",
      "model_module_version": "1.1.0",
      "model_name": "LayoutModel",
      "state": {
       "width": "300px"
      }
     },
     "002ef0f966c148ee9276bb07667bfa70": {
      "model_module": "@jupyter-widgets/base",
      "model_module_version": "1.1.0",
      "model_name": "LayoutModel",
      "state": {
       "height": "40px",
       "width": "40px"
      }
     },
     "00474e95bc9d40f19ea2f2de8ee6953b": {
      "model_module": "@jupyter-widgets/base",
      "model_module_version": "1.1.0",
      "model_name": "LayoutModel",
      "state": {}
     },
     "007ce59a823e46788cef04c28cc83ea5": {
      "model_module": "@jupyter-widgets/base",
      "model_module_version": "1.1.0",
      "model_name": "LayoutModel",
      "state": {
       "width": "300px"
      }
     },
     "008c4d5704d74418898e234ea1920fa8": {
      "model_module": "@jupyter-widgets/base",
      "model_module_version": "1.1.0",
      "model_name": "LayoutModel",
      "state": {}
     },
     "00a87d6f4b4b48faa88b6cda65938b86": {
      "model_module": "@jupyter-widgets/controls",
      "model_module_version": "1.4.0",
      "model_name": "ButtonModel",
      "state": {
       "button_style": "warning",
       "description": "Export Notebook to Latex",
       "layout": "IPY_MODEL_74066e52f88743a48fb3b5cb4b755786",
       "style": "IPY_MODEL_a7041f24d2cd482d882d45510ad0554f",
       "tooltip": "Click me"
      }
     },
     "00bd6701deeb4acd80869674e7e9fb05": {
      "model_module": "@jupyter-widgets/base",
      "model_module_version": "1.1.0",
      "model_name": "LayoutModel",
      "state": {}
     },
     "00d0f675cf584b3ea28c7d1afcdcb2b1": {
      "model_module": "@jupyter-widgets/controls",
      "model_module_version": "1.4.0",
      "model_name": "VBoxModel",
      "state": {
       "children": [
        "IPY_MODEL_2beca14755db4cb894503961b0dec0c9"
       ],
       "layout": "IPY_MODEL_ce72e3afd6b4411bafa43593b84c3c1b"
      }
     },
     "010d16fad42f4e5dabdca34d9f6344e6": {
      "model_module": "@jupyter-widgets/base",
      "model_module_version": "1.1.0",
      "model_name": "LayoutModel",
      "state": {
       "width": "300px"
      }
     },
     "0117ddda46034977a60d8c234948e88f": {
      "model_module": "@jupyter-widgets/controls",
      "model_module_version": "1.4.0",
      "model_name": "DropdownModel",
      "state": {
       "_options_labels": [
        "Plot after ends with PyQt",
        "Plot after ends with Plotly",
        "Live Plot"
       ],
       "disabled": true,
       "index": 1,
       "layout": "IPY_MODEL_8fba5c0718b145298d6fb8627979feac",
       "style": "IPY_MODEL_125dbf2641774c3aadef39ae3b11cd6e"
      }
     },
     "011d703e4b484543a38fc8cb7b868574": {
      "model_module": "@jupyter-widgets/base",
      "model_module_version": "1.1.0",
      "model_name": "LayoutModel",
      "state": {
       "height": "40px",
       "width": "40px"
      }
     },
     "0147c5b5fd5945918c2fd6b8d71dc974": {
      "model_module": "@jupyter-widgets/controls",
      "model_module_version": "1.4.0",
      "model_name": "DescriptionStyleModel",
      "state": {
       "description_width": "initial"
      }
     },
     "014c42fd3c6f47b9896dcadcac188c1e": {
      "model_module": "@jupyter-widgets/base",
      "model_module_version": "1.1.0",
      "model_name": "LayoutModel",
      "state": {}
     },
     "016cca1739a8416fbc089de6ae54b911": {
      "model_module": "@jupyter-widgets/base",
      "model_module_version": "1.1.0",
      "model_name": "LayoutModel",
      "state": {}
     },
     "01d247de27fb406faf930243e143c74b": {
      "model_module": "@jupyter-widgets/controls",
      "model_module_version": "1.4.0",
      "model_name": "TextModel",
      "state": {
       "layout": "IPY_MODEL_bf7b2bcf55064c54b76207f2488516af",
       "placeholder": "Type the notebook's name without file format",
       "style": "IPY_MODEL_47ba1a71d56a4d5f95c7f73ac5fc8f11"
      }
     },
     "01e5c50888054648a1a2afa64d7e85f7": {
      "buffers": [
       {
        "data": "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",
        "encoding": "base64",
        "path": [
         "value"
        ]
       }
      ],
      "model_module": "@jupyter-widgets/controls",
      "model_module_version": "1.4.0",
      "model_name": "ImageModel",
      "state": {
       "height": "35",
       "layout": "IPY_MODEL_8fe1cb6731f944c196b90798d7470d40",
       "value": {},
       "width": "35"
      }
     },
     "021241e67a1d445bb636b13454b41339": {
      "model_module": "@jupyter-widgets/controls",
      "model_module_version": "1.4.0",
      "model_name": "ButtonStyleModel",
      "state": {}
     },
     "022b651f848a4605a6e4ebf57ce742f2": {
      "model_module": "@jupyter-widgets/controls",
      "model_module_version": "1.4.0",
      "model_name": "ButtonStyleModel",
      "state": {}
     },
     "0268749ce6614d4cbfa51a2c3eb75fb8": {
      "model_module": "@jupyter-widgets/output",
      "model_module_version": "1.0.0",
      "model_name": "OutputModel",
      "state": {
       "layout": "IPY_MODEL_76cb2d9ac022473abe3b416eeeaab8c7"
      }
     },
     "02879c2b395f440ea1a188d76d2d8f7b": {
      "model_module": "@jupyter-widgets/controls",
      "model_module_version": "1.4.0",
      "model_name": "DescriptionStyleModel",
      "state": {
       "description_width": ""
      }
     },
     "02bd64f4950b4117bd67509f24cc62c5": {
      "model_module": "@jupyter-widgets/base",
      "model_module_version": "1.1.0",
      "model_name": "LayoutModel",
      "state": {
       "height": "40px",
       "width": "40px"
      }
     },
     "02c644ed4c9f4620815baa781983a771": {
      "model_module": "@jupyter-widgets/base",
      "model_module_version": "1.1.0",
      "model_name": "LayoutModel",
      "state": {}
     },
     "02cb55da9a074b3fa82ae25571ef47ed": {
      "model_module": "@jupyter-widgets/controls",
      "model_module_version": "1.4.0",
      "model_name": "DescriptionStyleModel",
      "state": {
       "description_width": ""
      }
     },
     "02e157bd2e654ddfb81611d372c94572": {
      "model_module": "@jupyter-widgets/base",
      "model_module_version": "1.1.0",
      "model_name": "LayoutModel",
      "state": {
       "width": "300px"
      }
     },
     "02ec8b86aceb4d9198d909386a5ba7e5": {
      "model_module": "@jupyter-widgets/base",
      "model_module_version": "1.1.0",
      "model_name": "LayoutModel",
      "state": {}
     },
     "03c055f2cdfd4e08b14404260d517d7b": {
      "model_module": "@jupyter-widgets/base",
      "model_module_version": "1.1.0",
      "model_name": "LayoutModel",
      "state": {}
     },
     "0403ce9c051d45dba63200b00f46b10e": {
      "model_module": "@jupyter-widgets/controls",
      "model_module_version": "1.4.0",
      "model_name": "DescriptionStyleModel",
      "state": {
       "description_width": "initial"
      }
     },
     "0428786921b044f897201d40727b08e6": {
      "model_module": "@jupyter-widgets/controls",
      "model_module_version": "1.4.0",
      "model_name": "DescriptionStyleModel",
      "state": {
       "description_width": ""
      }
     },
     "043aba9a036649f79a580247197f9ead": {
      "model_module": "@jupyter-widgets/controls",
      "model_module_version": "1.4.0",
      "model_name": "DescriptionStyleModel",
      "state": {
       "description_width": "initial"
      }
     },
     "04a754572967400a8c2041c44f41870c": {
      "model_module": "@jupyter-widgets/controls",
      "model_module_version": "1.4.0",
      "model_name": "ButtonModel",
      "state": {
       "button_style": "warning",
       "description": "Export Notebook to HTML",
       "layout": "IPY_MODEL_30c37e5224e14f158fc4979e31c83d27",
       "style": "IPY_MODEL_c99a5c18a6ee436aba02eac0e8bc4370",
       "tooltip": "Click me"
      }
     },
     "04c1d2977c714e3c92bcad19984ba295": {
      "model_module": "plotlywidget",
      "model_module_version": "0.8.0",
      "model_name": "FigureModel",
      "state": {
       "_config": {
        "plotlyServerURL": "https://plot.ly"
       },
       "_js2py_layoutDelta": {},
       "_js2py_pointsCallback": {},
       "_js2py_relayout": {},
       "_js2py_restyle": {},
       "_js2py_traceDeltas": {},
       "_js2py_update": {},
       "_layout": {
        "template": {}
       },
       "_model_module_version": "0.8.0",
       "_py2js_addTraces": {},
       "_py2js_animate": {},
       "_py2js_deleteTraces": {},
       "_py2js_moveTraces": {},
       "_py2js_removeLayoutProps": {},
       "_py2js_removeTraceProps": {},
       "_py2js_restyle": {},
       "_py2js_update": {},
       "_view_count": 0,
       "_view_module_version": "0.8.0"
      }
     },
     "04f0aadcc2e2458185df5b4724ca9c95": {
      "model_module": "@jupyter-widgets/base",
      "model_module_version": "1.1.0",
      "model_name": "LayoutModel",
      "state": {}
     },
     "04f4735441124d3580baec0f4183f960": {
      "model_module": "@jupyter-widgets/base",
      "model_module_version": "1.1.0",
      "model_name": "LayoutModel",
      "state": {
       "width": "300px"
      }
     },
     "04fcb8d7e08b424286da375a8fc7ff3f": {
      "model_module": "plotlywidget",
      "model_module_version": "0.8.0",
      "model_name": "FigureModel",
      "state": {
       "_config": {
        "plotlyServerURL": "https://plot.ly"
       },
       "_js2py_layoutDelta": {},
       "_js2py_pointsCallback": {},
       "_js2py_relayout": {},
       "_js2py_restyle": {},
       "_js2py_traceDeltas": {},
       "_js2py_update": {},
       "_layout": {
        "template": {}
       },
       "_model_module_version": "0.8.0",
       "_py2js_addTraces": {},
       "_py2js_animate": {},
       "_py2js_deleteTraces": {},
       "_py2js_moveTraces": {},
       "_py2js_removeLayoutProps": {},
       "_py2js_removeTraceProps": {},
       "_py2js_restyle": {},
       "_py2js_update": {},
       "_view_count": 0,
       "_view_module_version": "0.8.0"
      }
     },
     "05145197797a419d94579cbc80e38995": {
      "model_module": "@jupyter-widgets/base",
      "model_module_version": "1.1.0",
      "model_name": "LayoutModel",
      "state": {
       "width": "300px"
      }
     },
     "0590b523b26d448d8f60a43ad2b8b7ad": {
      "model_module": "@jupyter-widgets/controls",
      "model_module_version": "1.4.0",
      "model_name": "DescriptionStyleModel",
      "state": {
       "description_width": ""
      }
     },
     "059f6342791b47e2bcb62c8ea4677de8": {
      "model_module": "@jupyter-widgets/base",
      "model_module_version": "1.1.0",
      "model_name": "LayoutModel",
      "state": {
       "width": "300px"
      }
     },
     "05d79f61437649f2832f237900feb85a": {
      "model_module": "@jupyter-widgets/controls",
      "model_module_version": "1.4.0",
      "model_name": "CheckboxModel",
      "state": {
       "description": "Print log in Notebook's cells",
       "disabled": false,
       "layout": "IPY_MODEL_f7a7c21204864ad6a2ef60d7d8f5a5ec",
       "style": "IPY_MODEL_ad387ce537d544948958b40bb16d3eee",
       "value": false
      }
     },
     "05dc102b9cb94cc190d67eba4bab98ae": {
      "model_module": "@jupyter-widgets/output",
      "model_module_version": "1.0.0",
      "model_name": "OutputModel",
      "state": {
       "layout": "IPY_MODEL_2d376d0158ec4dd7b6a8761dc489b493"
      }
     },
     "061b2ddb3b1d49fd99eb629b49287223": {
      "model_module": "@jupyter-widgets/controls",
      "model_module_version": "1.4.0",
      "model_name": "ButtonStyleModel",
      "state": {}
     },
     "065522be1ee8445ba717bc6e6c81c4ec": {
      "model_module": "@jupyter-widgets/controls",
      "model_module_version": "1.4.0",
      "model_name": "ButtonModel",
      "state": {
       "button_style": "success",
       "description": "Start Scanning Plot",
       "layout": "IPY_MODEL_b46d88d4f75e4cf18674ab642c8b80ec",
       "style": "IPY_MODEL_3ac020b0d4b642d19311c11582ca4748",
       "tooltip": "Click me"
      }
     },
     "0676dccb27eb495296545921751cb472": {
      "model_module": "@jupyter-widgets/controls",
      "model_module_version": "1.4.0",
      "model_name": "ButtonModel",
      "state": {
       "button_style": "warning",
       "description": "Export Notebook to HTML",
       "layout": "IPY_MODEL_458b8ead49534a369d16b9a199200911",
       "style": "IPY_MODEL_2428979859b546c4ab355a984efe63cd",
       "tooltip": "Click me"
      }
     },
     "06a47edc44d04236b16f2cb30122f886": {
      "model_module": "@jupyter-widgets/controls",
      "model_module_version": "1.4.0",
      "model_name": "ButtonStyleModel",
      "state": {}
     },
     "06bb4d9ccef64a4b959427bc45bf9316": {
      "model_module": "@jupyter-widgets/controls",
      "model_module_version": "1.4.0",
      "model_name": "DescriptionStyleModel",
      "state": {
       "description_width": "initial"
      }
     },
     "06e60696264444b89744d7fab748378e": {
      "model_module": "@jupyter-widgets/controls",
      "model_module_version": "1.4.0",
      "model_name": "ButtonStyleModel",
      "state": {}
     },
     "07098db0a6c54fcfad0cfb58ad731f7c": {
      "model_module": "@jupyter-widgets/controls",
      "model_module_version": "1.4.0",
      "model_name": "CheckboxModel",
      "state": {
       "description": "Print log in Notebook's cells",
       "disabled": false,
       "layout": "IPY_MODEL_4f79db05c0054e77b7082b0065367b45",
       "style": "IPY_MODEL_ab0f8c49c3b047bb97aa0b024e1f6da4",
       "value": false
      }
     },
     "0723446ad7c3466a9037fe55b782af06": {
      "model_module": "@jupyter-widgets/base",
      "model_module_version": "1.1.0",
      "model_name": "LayoutModel",
      "state": {}
     },
     "07254179d6294824b7e1204e36192541": {
      "model_module": "@jupyter-widgets/base",
      "model_module_version": "1.1.0",
      "model_name": "LayoutModel",
      "state": {}
     },
     "072c822563f9483d9183258dae9fc26d": {
      "model_module": "@jupyter-widgets/controls",
      "model_module_version": "1.4.0",
      "model_name": "ButtonModel",
      "state": {
       "button_style": "success",
       "description": "Start PV Monitoring",
       "layout": "IPY_MODEL_4856bccdd1114712a0f914739a16d9fe",
       "style": "IPY_MODEL_328726b0e9714b8485c7221212c2ffa1",
       "tooltip": "Click me"
      }
     },
     "078148d2ed36494781632adfc664c8f4": {
      "model_module": "@jupyter-widgets/controls",
      "model_module_version": "1.4.0",
      "model_name": "TextModel",
      "state": {
       "layout": "IPY_MODEL_0be4c18efa3e4f308a4a673b8705d83c",
       "placeholder": "Type the notebook's name without file format",
       "style": "IPY_MODEL_382bdd479c1046d2805f4bb444c0a9e3"
      }
     },
     "0781f7cc4ca441958b9e156fff67cafb": {
      "model_module": "@jupyter-widgets/controls",
      "model_module_version": "1.4.0",
      "model_name": "DescriptionStyleModel",
      "state": {
       "description_width": "initial"
      }
     },
     "0787bb7a4ef34964800b8f5804e38f9c": {
      "model_module": "@jupyter-widgets/controls",
      "model_module_version": "1.4.0",
      "model_name": "ButtonStyleModel",
      "state": {}
     },
     "079b6b15f71a42569db18082db5b6d14": {
      "model_module": "@jupyter-widgets/controls",
      "model_module_version": "1.4.0",
      "model_name": "DescriptionStyleModel",
      "state": {
       "description_width": ""
      }
     },
     "07c9e7fd9c3b41fab8c2187fe9e1a7d8": {
      "model_module": "@jupyter-widgets/base",
      "model_module_version": "1.1.0",
      "model_name": "LayoutModel",
      "state": {}
     },
     "07e73f901e404441b6d6ae28a56ecfb2": {
      "model_module": "@jupyter-widgets/controls",
      "model_module_version": "1.4.0",
      "model_name": "CheckboxModel",
      "state": {
       "description": "Plot with PyQtGraph after scan ends: ",
       "disabled": false,
       "layout": "IPY_MODEL_f63a32f27fd24a96ad7d8c36cb019c3d",
       "style": "IPY_MODEL_3afc73a3508242ae8c4058237e84996f",
       "value": true
      }
     },
     "07f47c4ed2fd40fdaac36c8b9c432f2a": {
      "model_module": "@jupyter-widgets/controls",
      "model_module_version": "1.4.0",
      "model_name": "ButtonModel",
      "state": {
       "button_style": "warning",
       "description": "Export Notebook to HTML",
       "layout": "IPY_MODEL_6f58a13edb4745868df8f230a0cc7d16",
       "style": "IPY_MODEL_ca0f0da1bfe745e8945f6526ffbf3edb",
       "tooltip": "Click me"
      }
     },
     "0812f8ddb54240d1a5a23eb004653238": {
      "model_module": "@jupyter-widgets/base",
      "model_module_version": "1.1.0",
      "model_name": "LayoutModel",
      "state": {}
     },
     "087329b6f569427fa08f9aa76cbe4f18": {
      "model_module": "@jupyter-widgets/base",
      "model_module_version": "1.1.0",
      "model_name": "LayoutModel",
      "state": {}
     },
     "08772f9f8bc145aa98347c3a83a321a0": {
      "model_module": "@jupyter-widgets/controls",
      "model_module_version": "1.4.0",
      "model_name": "ButtonStyleModel",
      "state": {}
     },
     "08a1bf5b50b3411cafd86a8c28e24324": {
      "model_module": "@jupyter-widgets/output",
      "model_module_version": "1.0.0",
      "model_name": "OutputModel",
      "state": {
       "layout": "IPY_MODEL_c52b3a9c372f44eaa3413e1a25c9b209"
      }
     },
     "08b3271eae7f4f1a9d82ade3271a4022": {
      "model_module": "@jupyter-widgets/controls",
      "model_module_version": "1.4.0",
      "model_name": "HBoxModel",
      "state": {
       "children": [
        "IPY_MODEL_6d629e26eeba4880a41c5b01c3dc195f",
        "IPY_MODEL_1602c639d22f4b31a60cb5f805ab3f6e"
       ],
       "layout": "IPY_MODEL_979ee8791a024e3e8154ce98217b3c2a"
      }
     },
     "08fde8f37bab49699658e60dcf25b5ec": {
      "model_module": "@jupyter-widgets/base",
      "model_module_version": "1.1.0",
      "model_name": "LayoutModel",
      "state": {}
     },
     "08fe64b00f42418b97f10c304fbf34fd": {
      "model_module": "@jupyter-widgets/controls",
      "model_module_version": "1.4.0",
      "model_name": "LabelModel",
      "state": {
       "layout": "IPY_MODEL_2726be71ba2a4ec5a5c49968b654a1e2",
       "style": "IPY_MODEL_3f82afaf7daa4d46880f0124000d6f9b",
       "value": "No motors initilized to be showed."
      }
     },
     "091114aed08042dabd2da91c3fe7c196": {
      "model_module": "@jupyter-widgets/controls",
      "model_module_version": "1.4.0",
      "model_name": "TextareaModel",
      "state": {
       "layout": "IPY_MODEL_5c04c49e37a84296af1b58cd4e05bbf2",
       "placeholder": "Example: IOC:m1 IOC:m3 LNLS:TEST:motor_g3",
       "style": "IPY_MODEL_e6b3e415c9a740f0a1c2a019d47434c3"
      }
     },
     "093f619cd36a417fbd36d9a3b62c9a37": {
      "model_module": "@jupyter-widgets/controls",
      "model_module_version": "1.4.0",
      "model_name": "DescriptionStyleModel",
      "state": {
       "description_width": "initial"
      }
     },
     "0946d2a143b042cc834da8c7cc9def09": {
      "model_module": "@jupyter-widgets/base",
      "model_module_version": "1.1.0",
      "model_name": "LayoutModel",
      "state": {}
     },
     "095fec387d6e438894e1124d347f238d": {
      "model_module": "@jupyter-widgets/output",
      "model_module_version": "1.0.0",
      "model_name": "OutputModel",
      "state": {
       "layout": "IPY_MODEL_c75755021e514b1f8146f2c97fb07347"
      }
     },
     "097351bd5a2d48b595237d1e870464f7": {
      "model_module": "@jupyter-widgets/controls",
      "model_module_version": "1.4.0",
      "model_name": "VBoxModel",
      "state": {
       "children": [
        "IPY_MODEL_835dadfd22714020a99714e4bcfff7b2"
       ],
       "layout": "IPY_MODEL_1c715ee8c68041f594e71039839c420c"
      }
     },
     "097f4ca2994340998962b4ac6a93b569": {
      "model_module": "@jupyter-widgets/output",
      "model_module_version": "1.0.0",
      "model_name": "OutputModel",
      "state": {
       "layout": "IPY_MODEL_2516ad22230c4c708b0422ad1cbd3300"
      }
     },
     "098e02121c4f4aae8d2640ad44302e91": {
      "model_module": "@jupyter-widgets/controls",
      "model_module_version": "1.4.0",
      "model_name": "ButtonModel",
      "state": {
       "button_style": "warning",
       "description": "Export Notebook to Latex",
       "layout": "IPY_MODEL_915fc88ff8e747b39697030b88846e88",
       "style": "IPY_MODEL_d9e5440fd0e94724a9e98431ba120dc3",
       "tooltip": "Click me"
      }
     },
     "09fcfd38c4b04940b7f81c22dc75a5e4": {
      "model_module": "@jupyter-widgets/base",
      "model_module_version": "1.1.0",
      "model_name": "LayoutModel",
      "state": {}
     },
     "09fda96f6ae047f184b21ecdf25903a9": {
      "model_module": "@jupyter-widgets/base",
      "model_module_version": "1.1.0",
      "model_name": "LayoutModel",
      "state": {
       "width": "300px"
      }
     },
     "0a38083b27c84269930dcd66852062b6": {
      "model_module": "@jupyter-widgets/controls",
      "model_module_version": "1.4.0",
      "model_name": "CheckboxModel",
      "state": {
       "description": "Print log in Notebook's cells",
       "disabled": false,
       "layout": "IPY_MODEL_2c39759318014528ba6d39d75209a552",
       "style": "IPY_MODEL_cb5d975442634a18a5431dee90220a51",
       "value": false
      }
     },
     "0a3be74cd4ae47fba0b912292861251c": {
      "model_module": "@jupyter-widgets/controls",
      "model_module_version": "1.4.0",
      "model_name": "CheckboxModel",
      "state": {
       "description": "Print log in Notebook's cells",
       "disabled": false,
       "layout": "IPY_MODEL_450c6e46e1994697a784fe0528e25261",
       "style": "IPY_MODEL_ac8ffcfb06ed4d6193df25f1f8008186",
       "value": false
      }
     },
     "0af0de8921cf40d5a1f358f8ebb6d81b": {
      "model_module": "@jupyter-widgets/base",
      "model_module_version": "1.1.0",
      "model_name": "LayoutModel",
      "state": {}
     },
     "0af3110bbb164993a00002aab39a0592": {
      "model_module": "@jupyter-widgets/base",
      "model_module_version": "1.1.0",
      "model_name": "LayoutModel",
      "state": {}
     },
     "0b16f10d18b0455db54a5904541d4de1": {
      "model_module": "@jupyter-widgets/controls",
      "model_module_version": "1.4.0",
      "model_name": "CheckboxModel",
      "state": {
       "description": "Print log in Notebook's cells",
       "disabled": false,
       "layout": "IPY_MODEL_30435be3dc81415c9617719704c55e2c",
       "style": "IPY_MODEL_bb1c7f11ff7a49cd94f1f3ab38f8890f",
       "value": false
      }
     },
     "0b1c0cac20e64dbe8350e80a43123547": {
      "model_module": "@jupyter-widgets/base",
      "model_module_version": "1.1.0",
      "model_name": "LayoutModel",
      "state": {}
     },
     "0b3ad54ba07c4beb9d9fdce723da8646": {
      "model_module": "@jupyter-widgets/controls",
      "model_module_version": "1.4.0",
      "model_name": "DescriptionStyleModel",
      "state": {
       "description_width": "initial"
      }
     },
     "0b682c0cdf2f40f9a5bc3a5f47ae6c9a": {
      "model_module": "@jupyter-widgets/base",
      "model_module_version": "1.1.0",
      "model_name": "LayoutModel",
      "state": {}
     },
     "0b6cc80be0164c179c2346bb79ca0276": {
      "model_module": "@jupyter-widgets/output",
      "model_module_version": "1.0.0",
      "model_name": "OutputModel",
      "state": {
       "layout": "IPY_MODEL_103b367b730e446296b6567f72b0923f"
      }
     },
     "0b83bb37758e48ea86ab41d579e34f87": {
      "model_module": "@jupyter-widgets/base",
      "model_module_version": "1.1.0",
      "model_name": "LayoutModel",
      "state": {
       "width": "300px"
      }
     },
     "0b8587220d0847dab534b07da50992ed": {
      "model_module": "@jupyter-widgets/controls",
      "model_module_version": "1.4.0",
      "model_name": "ButtonStyleModel",
      "state": {}
     },
     "0b92c2bb306d4c1d8d20c69a8ebdb9c4": {
      "model_module": "@jupyter-widgets/base",
      "model_module_version": "1.1.0",
      "model_name": "LayoutModel",
      "state": {}
     },
     "0bb8c707d2454280b7d15f1867bb7f7c": {
      "model_module": "@jupyter-widgets/base",
      "model_module_version": "1.1.0",
      "model_name": "LayoutModel",
      "state": {}
     },
     "0be4c18efa3e4f308a4a673b8705d83c": {
      "model_module": "@jupyter-widgets/base",
      "model_module_version": "1.1.0",
      "model_name": "LayoutModel",
      "state": {
       "width": "300px"
      }
     },
     "0bef2386aaf54991b98788373f4cf655": {
      "model_module": "@jupyter-widgets/base",
      "model_module_version": "1.1.0",
      "model_name": "LayoutModel",
      "state": {}
     },
     "0c5baa37a4b449edbb75bf4245839626": {
      "model_module": "@jupyter-widgets/base",
      "model_module_version": "1.1.0",
      "model_name": "LayoutModel",
      "state": {
       "width": "300px"
      }
     },
     "0c5ecfd5bd8f4bb6a7550c91264437d0": {
      "model_module": "@jupyter-widgets/controls",
      "model_module_version": "1.4.0",
      "model_name": "DescriptionStyleModel",
      "state": {
       "description_width": "initial"
      }
     },
     "0c95dc3a06734bf5a39348c9b5deea60": {
      "model_module": "@jupyter-widgets/controls",
      "model_module_version": "1.4.0",
      "model_name": "VBoxModel",
      "state": {
       "children": [
        "IPY_MODEL_88a1037edae74458bd18e342db9e51f9",
        "IPY_MODEL_5ef7f2205fcf483fa10e808e37b8a365"
       ],
       "layout": "IPY_MODEL_fe9c295d01eb4cf7b092156f2f2889a2"
      }
     },
     "0cc44ccddfae47928524669dda962da3": {
      "model_module": "@jupyter-widgets/base",
      "model_module_version": "1.1.0",
      "model_name": "LayoutModel",
      "state": {}
     },
     "0cd2428637254b9d862ea2b2b4ae9e93": {
      "model_module": "@jupyter-widgets/controls",
      "model_module_version": "1.4.0",
      "model_name": "DescriptionStyleModel",
      "state": {
       "description_width": "initial"
      }
     },
     "0d27fa16acb04eb58034c3db8103bb67": {
      "model_module": "@jupyter-widgets/base",
      "model_module_version": "1.1.0",
      "model_name": "LayoutModel",
      "state": {}
     },
     "0d3fa6d44e91490780cab95188945230": {
      "model_module": "@jupyter-widgets/base",
      "model_module_version": "1.1.0",
      "model_name": "LayoutModel",
      "state": {}
     },
     "0d43398bf1cc46afac10b84ed71951ef": {
      "model_module": "@jupyter-widgets/base",
      "model_module_version": "1.1.0",
      "model_name": "LayoutModel",
      "state": {}
     },
     "0d4f5a0e3e094a1ba24f07c3e4049643": {
      "model_module": "@jupyter-widgets/controls",
      "model_module_version": "1.4.0",
      "model_name": "DescriptionStyleModel",
      "state": {
       "description_width": "initial"
      }
     },
     "0d7693bb24344eafaa0fefee573409bc": {
      "model_module": "@jupyter-widgets/base",
      "model_module_version": "1.1.0",
      "model_name": "LayoutModel",
      "state": {}
     },
     "0d89b376f9ed413e9cbb62279e83112c": {
      "model_module": "@jupyter-widgets/controls",
      "model_module_version": "1.4.0",
      "model_name": "DescriptionStyleModel",
      "state": {
       "description_width": ""
      }
     },
     "0d8b10a8f4d14788a533db18e1525ae0": {
      "model_module": "@jupyter-widgets/output",
      "model_module_version": "1.0.0",
      "model_name": "OutputModel",
      "state": {
       "layout": "IPY_MODEL_6ded7f5747bc4ad3aec38fb87cd9c2b3"
      }
     },
     "0d8e0ca3da8444cf900916189d048bd7": {
      "model_module": "@jupyter-widgets/base",
      "model_module_version": "1.1.0",
      "model_name": "LayoutModel",
      "state": {}
     },
     "0dff618c7461432f91d8768cbf1adf3a": {
      "model_module": "@jupyter-widgets/controls",
      "model_module_version": "1.4.0",
      "model_name": "ButtonStyleModel",
      "state": {}
     },
     "0e182c42025b4f5c86e615aeb363d408": {
      "model_module": "@jupyter-widgets/controls",
      "model_module_version": "1.4.0",
      "model_name": "TextareaModel",
      "state": {
       "layout": "IPY_MODEL_20a3ea342bf943d29c69a34fb1fec28c",
       "placeholder": "Example: IOC:m1 IOC:m3 LNLS:TEST:motor_g3",
       "style": "IPY_MODEL_136caaf4bce84a3eaf6be255c1d5a33a"
      }
     },
     "0e265e7bd7db4c6d89fbfcf6a676fa3d": {
      "model_module": "@jupyter-widgets/controls",
      "model_module_version": "1.4.0",
      "model_name": "VBoxModel",
      "state": {
       "children": [
        "IPY_MODEL_f6ca47edf04049d7afd62d38d64487e2",
        "IPY_MODEL_a3deca3a0cf24379bdc2c6e91db42cb8"
       ],
       "layout": "IPY_MODEL_6ec121b8d6ba4456885c6b811477fc75"
      }
     },
     "0ea5d96935254d0b85b93c5cea668c20": {
      "model_module": "@jupyter-widgets/base",
      "model_module_version": "1.1.0",
      "model_name": "LayoutModel",
      "state": {}
     },
     "0ece7defd7e14a849a3fef12860e8381": {
      "model_module": "@jupyter-widgets/base",
      "model_module_version": "1.1.0",
      "model_name": "LayoutModel",
      "state": {}
     },
     "0ee6edab013b4fc99831434b2b70724c": {
      "model_module": "@jupyter-widgets/base",
      "model_module_version": "1.1.0",
      "model_name": "LayoutModel",
      "state": {
       "width": "300px"
      }
     },
     "0f0d88279adf41bb922ab76a1de95003": {
      "model_module": "@jupyter-widgets/base",
      "model_module_version": "1.1.0",
      "model_name": "LayoutModel",
      "state": {
       "width": "300px"
      }
     },
     "0f1b30dab1ba45db8f07bc1bf49e8483": {
      "model_module": "@jupyter-widgets/controls",
      "model_module_version": "1.4.0",
      "model_name": "CheckboxModel",
      "state": {
       "description": "Plot with PyQtGraph after scan ends: ",
       "disabled": false,
       "layout": "IPY_MODEL_72bb9095e7214bb19b19caaf52f771f4",
       "style": "IPY_MODEL_6e361cdd797e4f3193869fdcba524949",
       "value": true
      }
     },
     "0f2c440bae80415cbc36f54a4ca2ef43": {
      "model_module": "@jupyter-widgets/controls",
      "model_module_version": "1.4.0",
      "model_name": "DescriptionStyleModel",
      "state": {
       "description_width": "initial"
      }
     },
     "0f39c3e5b40a459293f7dcaf7af6546b": {
      "model_module": "@jupyter-widgets/controls",
      "model_module_version": "1.4.0",
      "model_name": "DescriptionStyleModel",
      "state": {
       "description_width": ""
      }
     },
     "0f538cae68df4622b57a16e2a641c834": {
      "model_module": "@jupyter-widgets/base",
      "model_module_version": "1.1.0",
      "model_name": "LayoutModel",
      "state": {}
     },
     "0f96f65c02a64418ab92e892cbeea9f7": {
      "model_module": "@jupyter-widgets/output",
      "model_module_version": "1.0.0",
      "model_name": "OutputModel",
      "state": {
       "layout": "IPY_MODEL_31b48c0e2e62462492ef9d07d3437e21"
      }
     },
     "0fbe75ad5c6540088ebea6575fe17102": {
      "model_module": "@jupyter-widgets/controls",
      "model_module_version": "1.4.0",
      "model_name": "VBoxModel",
      "state": {
       "children": [
        "IPY_MODEL_7ea640b6a4a94ad79732076de2c517ce"
       ],
       "layout": "IPY_MODEL_7b92fd4e49ee45cca21a54f8f9733fed"
      }
     },
     "0fe6b5d0cbcd4ec899b08aba87ea56a7": {
      "model_module": "plotlywidget",
      "model_module_version": "0.8.0",
      "model_name": "FigureModel",
      "state": {
       "_config": {
        "plotlyServerURL": "https://plot.ly"
       },
       "_js2py_layoutDelta": {},
       "_js2py_pointsCallback": {},
       "_js2py_relayout": {},
       "_js2py_restyle": {},
       "_js2py_traceDeltas": {},
       "_js2py_update": {},
       "_layout": {
        "template": {}
       },
       "_model_module_version": "0.8.0",
       "_py2js_addTraces": {},
       "_py2js_animate": {},
       "_py2js_deleteTraces": {},
       "_py2js_moveTraces": {},
       "_py2js_removeLayoutProps": {},
       "_py2js_removeTraceProps": {},
       "_py2js_restyle": {},
       "_py2js_update": {},
       "_view_count": 0,
       "_view_module_version": "0.8.0"
      }
     },
     "100b6a7340f74d1c90411d7413346ffa": {
      "model_module": "@jupyter-widgets/controls",
      "model_module_version": "1.4.0",
      "model_name": "ButtonModel",
      "state": {
       "button_style": "warning",
       "description": "Export Notebook to Latex",
       "layout": "IPY_MODEL_007ce59a823e46788cef04c28cc83ea5",
       "style": "IPY_MODEL_952170a9ff3a4f33a0829b4de9c43182",
       "tooltip": "Click me"
      }
     },
     "102042b74c1c465f89907c696bc4df8c": {
      "model_module": "@jupyter-widgets/controls",
      "model_module_version": "1.4.0",
      "model_name": "TextModel",
      "state": {
       "layout": "IPY_MODEL_21536d8310674a28bf0882cb93bad6cb",
       "placeholder": "Type the notebook's name without file format",
       "style": "IPY_MODEL_560202b5586b4347a9dd126702a8a974"
      }
     },
     "103b367b730e446296b6567f72b0923f": {
      "model_module": "@jupyter-widgets/base",
      "model_module_version": "1.1.0",
      "model_name": "LayoutModel",
      "state": {}
     },
     "105aec7b1e6b4e98acba7777505b8f84": {
      "model_module": "@jupyter-widgets/base",
      "model_module_version": "1.1.0",
      "model_name": "LayoutModel",
      "state": {}
     },
     "1061690dba394f378a1d2f8c311d895e": {
      "model_module": "@jupyter-widgets/base",
      "model_module_version": "1.1.0",
      "model_name": "LayoutModel",
      "state": {
       "width": "300px"
      }
     },
     "108d5dec2fc94847b712132690c82927": {
      "model_module": "@jupyter-widgets/base",
      "model_module_version": "1.1.0",
      "model_name": "LayoutModel",
      "state": {
       "height": "40px",
       "width": "40px"
      }
     },
     "10adbf36212d454c8780d461ad7385d4": {
      "model_module": "@jupyter-widgets/output",
      "model_module_version": "1.0.0",
      "model_name": "OutputModel",
      "state": {
       "layout": "IPY_MODEL_20d057922cb04bd391e0a37fd3e8a4e5"
      }
     },
     "10d1d712d1cc4e97a754bde167709fa8": {
      "model_module": "@jupyter-widgets/controls",
      "model_module_version": "1.4.0",
      "model_name": "ButtonModel",
      "state": {
       "button_style": "success",
       "description": "Start Manual Alignment",
       "layout": "IPY_MODEL_3cf97e4b012c4fecb318f4fa2d16fd02",
       "style": "IPY_MODEL_2fe7862400e64dc3a6a02602c251ba7a",
       "tooltip": "Click me"
      }
     },
     "10e5c83a0f834fab81677a1c49d52698": {
      "model_module": "@jupyter-widgets/output",
      "model_module_version": "1.0.0",
      "model_name": "OutputModel",
      "state": {
       "layout": "IPY_MODEL_9c2bb4a9bdd84687a0cf71610f7ea3a4"
      }
     },
     "10fc8b5e2c7f425bb392d4a2252141a7": {
      "model_module": "@jupyter-widgets/output",
      "model_module_version": "1.0.0",
      "model_name": "OutputModel",
      "state": {
       "layout": "IPY_MODEL_8b96f3ae3abc4df4938732b6b1df8742"
      }
     },
     "113c55c9a7d74942aae57d9e24f36864": {
      "model_module": "@jupyter-widgets/base",
      "model_module_version": "1.1.0",
      "model_name": "LayoutModel",
      "state": {}
     },
     "1163ae3a270d43ab9d659afd98d19fc2": {
      "model_module": "@jupyter-widgets/base",
      "model_module_version": "1.1.0",
      "model_name": "LayoutModel",
      "state": {}
     },
     "11a36121f40b48a6b8647b3c03fc7c64": {
      "model_module": "@jupyter-widgets/base",
      "model_module_version": "1.1.0",
      "model_name": "LayoutModel",
      "state": {}
     },
     "11ae51609bd2449ba656e63e9c7cecb7": {
      "model_module": "@jupyter-widgets/base",
      "model_module_version": "1.1.0",
      "model_name": "LayoutModel",
      "state": {}
     },
     "11b0701e8f5a4170ba1f0b437d685a54": {
      "model_module": "@jupyter-widgets/base",
      "model_module_version": "1.1.0",
      "model_name": "LayoutModel",
      "state": {}
     },
     "120ba65c08cd4da4b7fdc4ef69a69304": {
      "model_module": "@jupyter-widgets/base",
      "model_module_version": "1.1.0",
      "model_name": "LayoutModel",
      "state": {}
     },
     "122d303fbb454403809427efca681103": {
      "model_module": "@jupyter-widgets/base",
      "model_module_version": "1.1.0",
      "model_name": "LayoutModel",
      "state": {}
     },
     "12323c26bf904310909b3a79f4208c61": {
      "model_module": "@jupyter-widgets/controls",
      "model_module_version": "1.4.0",
      "model_name": "ButtonStyleModel",
      "state": {}
     },
     "1249569ee5874505879d99a8a4317431": {
      "model_module": "@jupyter-widgets/controls",
      "model_module_version": "1.4.0",
      "model_name": "DescriptionStyleModel",
      "state": {
       "description_width": ""
      }
     },
     "125dbf2641774c3aadef39ae3b11cd6e": {
      "model_module": "@jupyter-widgets/controls",
      "model_module_version": "1.4.0",
      "model_name": "DescriptionStyleModel",
      "state": {
       "description_width": "initial"
      }
     },
     "125edc0e5a7f475ebd213547e5bddf57": {
      "model_module": "@jupyter-widgets/output",
      "model_module_version": "1.0.0",
      "model_name": "OutputModel",
      "state": {
       "layout": "IPY_MODEL_087329b6f569427fa08f9aa76cbe4f18"
      }
     },
     "12e9a0882e5847d8916c29b47abe9fba": {
      "model_module": "@jupyter-widgets/controls",
      "model_module_version": "1.4.0",
      "model_name": "ButtonModel",
      "state": {
       "button_style": "warning",
       "description": "Export Notebook to Latex",
       "layout": "IPY_MODEL_cf698147a1e74272995248e77f9c64b3",
       "style": "IPY_MODEL_fe144caf58f94a36a2998adb0dbd154c",
       "tooltip": "Click me"
      }
     },
     "133f78dff6884f75a1ebd628582a9198": {
      "model_module": "@jupyter-widgets/controls",
      "model_module_version": "1.4.0",
      "model_name": "CheckboxModel",
      "state": {
       "description": "Plot with Plotly after scan ends: ",
       "disabled": false,
       "layout": "IPY_MODEL_50659da9c25b4b13b88de93944a9c09f",
       "style": "IPY_MODEL_fec672725a8f472f849dad7ae5666612",
       "value": false
      }
     },
     "13626434286b4d649d4521d32a25a0c2": {
      "model_module": "@jupyter-widgets/controls",
      "model_module_version": "1.4.0",
      "model_name": "DescriptionStyleModel",
      "state": {
       "description_width": ""
      }
     },
     "136caaf4bce84a3eaf6be255c1d5a33a": {
      "model_module": "@jupyter-widgets/controls",
      "model_module_version": "1.4.0",
      "model_name": "DescriptionStyleModel",
      "state": {
       "description_width": ""
      }
     },
     "13d5a08437284b819b85eff3e9b365bd": {
      "model_module": "@jupyter-widgets/controls",
      "model_module_version": "1.4.0",
      "model_name": "DescriptionStyleModel",
      "state": {
       "description_width": "initial"
      }
     },
     "13f87bdab6af46048fa28fbcfa5e5b7e": {
      "model_module": "@jupyter-widgets/output",
      "model_module_version": "1.0.0",
      "model_name": "OutputModel",
      "state": {
       "layout": "IPY_MODEL_b531525f803541768c7ddd235b347b5b"
      }
     },
     "13fda85dfb45492bb354fb856276f6a2": {
      "model_module": "@jupyter-widgets/base",
      "model_module_version": "1.1.0",
      "model_name": "LayoutModel",
      "state": {}
     },
     "140ddef60ed8451e913ad9708292c425": {
      "model_module": "@jupyter-widgets/controls",
      "model_module_version": "1.4.0",
      "model_name": "DescriptionStyleModel",
      "state": {
       "description_width": ""
      }
     },
     "1414aaf8581b4e0691d97c33fa4bc93a": {
      "model_module": "@jupyter-widgets/controls",
      "model_module_version": "1.4.0",
      "model_name": "CheckboxModel",
      "state": {
       "description": "Print log in Notebook's cells",
       "disabled": false,
       "layout": "IPY_MODEL_82a7677c44e9425a87b4a2a98ba689a2",
       "style": "IPY_MODEL_5a515775963f48e1952fb74fe2861f68",
       "value": false
      }
     },
     "142022ddc65a4280bad17593c5b17bd2": {
      "model_module": "@jupyter-widgets/output",
      "model_module_version": "1.0.0",
      "model_name": "OutputModel",
      "state": {
       "layout": "IPY_MODEL_fde13901f5944e12aa39761d1934d7ff"
      }
     },
     "14340646ca6547f395f9cac91d56aac2": {
      "model_module": "@jupyter-widgets/controls",
      "model_module_version": "1.4.0",
      "model_name": "ButtonStyleModel",
      "state": {}
     },
     "15597837a3544a5fae7f77ea09efcf80": {
      "model_module": "@jupyter-widgets/base",
      "model_module_version": "1.1.0",
      "model_name": "LayoutModel",
      "state": {}
     },
     "15b04854234f4a6b9c567dad487b5d2b": {
      "model_module": "@jupyter-widgets/base",
      "model_module_version": "1.1.0",
      "model_name": "LayoutModel",
      "state": {}
     },
     "1602c639d22f4b31a60cb5f805ab3f6e": {
      "model_module": "@jupyter-widgets/controls",
      "model_module_version": "1.4.0",
      "model_name": "TextModel",
      "state": {
       "layout": "IPY_MODEL_cfbcb96c4dc949439b6c6482b654ea35",
       "placeholder": "Type the notebook's name without file format",
       "style": "IPY_MODEL_9975a473707c40aea12837d720b1d070",
       "value": "laser-beam-alignment"
      }
     },
     "161480ad507a46a1866885753019b5af": {
      "model_module": "@jupyter-widgets/base",
      "model_module_version": "1.1.0",
      "model_name": "LayoutModel",
      "state": {
       "width": "300px"
      }
     },
     "16154b18a41544fb8c866b567ed58059": {
      "model_module": "@jupyter-widgets/base",
      "model_module_version": "1.1.0",
      "model_name": "LayoutModel",
      "state": {}
     },
     "1652a7e3bff84d5a92592bb629e4f175": {
      "model_module": "@jupyter-widgets/base",
      "model_module_version": "1.1.0",
      "model_name": "LayoutModel",
      "state": {}
     },
     "16797df53c604f56a05b001ed99fd614": {
      "model_module": "@jupyter-widgets/base",
      "model_module_version": "1.1.0",
      "model_name": "LayoutModel",
      "state": {
       "width": "300px"
      }
     },
     "16893e3d08a94f5fadfa3841cc104349": {
      "model_module": "@jupyter-widgets/controls",
      "model_module_version": "1.4.0",
      "model_name": "VBoxModel",
      "state": {
       "children": [
        "IPY_MODEL_6521e39b722b4e63a6734971bc17c593"
       ],
       "layout": "IPY_MODEL_4401b3c703c14ae3941f508ac4a605c4"
      }
     },
     "16a4d79522224533acf9b9cf77f11626": {
      "model_module": "@jupyter-widgets/base",
      "model_module_version": "1.1.0",
      "model_name": "LayoutModel",
      "state": {}
     },
     "16f6a23472f34bb3a599169efd7e1b03": {
      "model_module": "@jupyter-widgets/base",
      "model_module_version": "1.1.0",
      "model_name": "LayoutModel",
      "state": {}
     },
     "170488ad3f0b488db4697cbd80c53334": {
      "model_module": "@jupyter-widgets/controls",
      "model_module_version": "1.4.0",
      "model_name": "BoxModel",
      "state": {
       "children": [
        "IPY_MODEL_2823a1962410402596617e91c419e6ba"
       ],
       "layout": "IPY_MODEL_38f2ffe165ea40078cb5a60e1dd80b86"
      }
     },
     "170bf6a969394d8f9ad0b7031b4b7e4d": {
      "model_module": "@jupyter-widgets/controls",
      "model_module_version": "1.4.0",
      "model_name": "CheckboxModel",
      "state": {
       "description": "Plot with Plotly after scan ends: ",
       "disabled": false,
       "layout": "IPY_MODEL_120ba65c08cd4da4b7fdc4ef69a69304",
       "style": "IPY_MODEL_20522add50944a57bb616fff35005a71",
       "value": false
      }
     },
     "17345da9f6f949139bc3321e26a5f16f": {
      "model_module": "@jupyter-widgets/controls",
      "model_module_version": "1.4.0",
      "model_name": "CheckboxModel",
      "state": {
       "description": "Live plot in Jupyter: ",
       "disabled": false,
       "layout": "IPY_MODEL_9c0cb6dc549d4be183eb608cdc3ce518",
       "style": "IPY_MODEL_8e300f3eebe54f90a702abe59ceeec66",
       "value": false
      }
     },
     "1784f1eb0dc447ff880cf2623c333351": {
      "model_module": "@jupyter-widgets/base",
      "model_module_version": "1.1.0",
      "model_name": "LayoutModel",
      "state": {}
     },
     "1799d3de1a7349db9d4c9bb93f44d435": {
      "model_module": "@jupyter-widgets/controls",
      "model_module_version": "1.4.0",
      "model_name": "CheckboxModel",
      "state": {
       "description": "Print log in Notebook's cells",
       "disabled": false,
       "layout": "IPY_MODEL_1784f1eb0dc447ff880cf2623c333351",
       "style": "IPY_MODEL_64bc82f95b4549fb88130026e723ef23",
       "value": false
      }
     },
     "17b05cc0bcad4c789c5d1feb2ad3f7c2": {
      "model_module": "@jupyter-widgets/controls",
      "model_module_version": "1.4.0",
      "model_name": "DescriptionStyleModel",
      "state": {
       "description_width": ""
      }
     },
     "17b2c707593c41e1aab39a3c8383a9eb": {
      "model_module": "@jupyter-widgets/base",
      "model_module_version": "1.1.0",
      "model_name": "LayoutModel",
      "state": {
       "width": "300px"
      }
     },
     "18428147b4c34d198dca16b026b5be80": {
      "model_module": "@jupyter-widgets/output",
      "model_module_version": "1.0.0",
      "model_name": "OutputModel",
      "state": {
       "layout": "IPY_MODEL_30beb4a5a9f24b7c9abb373ed381bf84"
      }
     },
     "1845e772ee9748bab91886a083740111": {
      "model_module": "@jupyter-widgets/controls",
      "model_module_version": "1.4.0",
      "model_name": "ButtonStyleModel",
      "state": {}
     },
     "18d4a633dbf64f5d9cb0ce01328b8632": {
      "model_module": "@jupyter-widgets/base",
      "model_module_version": "1.1.0",
      "model_name": "LayoutModel",
      "state": {}
     },
     "18d7461279994f02b7c8016e59a339df": {
      "model_module": "@jupyter-widgets/base",
      "model_module_version": "1.1.0",
      "model_name": "LayoutModel",
      "state": {}
     },
     "18fd73bcbd4a4bd0a34d0b4d01e6573c": {
      "model_module": "@jupyter-widgets/controls",
      "model_module_version": "1.4.0",
      "model_name": "CheckboxModel",
      "state": {
       "description": "Live plot in Jupyter: ",
       "disabled": false,
       "layout": "IPY_MODEL_6560841312594f9aa42c8d26196fcbc3",
       "style": "IPY_MODEL_48cf50ff2752489baddede7412e26cb8",
       "value": false
      }
     },
     "191ccc3fee364c77955514c11b500270": {
      "model_module": "@jupyter-widgets/base",
      "model_module_version": "1.1.0",
      "model_name": "LayoutModel",
      "state": {
       "height": "40px",
       "width": "40px"
      }
     },
     "19516bc915a84080a23cc4d0b19194af": {
      "model_module": "@jupyter-widgets/controls",
      "model_module_version": "1.4.0",
      "model_name": "CheckboxModel",
      "state": {
       "description": "Live plot in Jupyter: ",
       "disabled": true,
       "layout": "IPY_MODEL_3d3e488280d64d92ab6c586f2a870112",
       "style": "IPY_MODEL_558b61611e824d719bfae3ab0119f411",
       "value": false
      }
     },
     "19822cd2f5ab4fa1b54e4035a24d4e39": {
      "model_module": "@jupyter-widgets/output",
      "model_module_version": "1.0.0",
      "model_name": "OutputModel",
      "state": {
       "layout": "IPY_MODEL_417e9f4184594e388c2266ea7c115ca4"
      }
     },
     "198a038f25614a78ad376f3c413ec984": {
      "model_module": "@jupyter-widgets/controls",
      "model_module_version": "1.4.0",
      "model_name": "DescriptionStyleModel",
      "state": {
       "description_width": "initial"
      }
     },
     "19c2b3fd52634586ad98ca0bdbdd0377": {
      "model_module": "@jupyter-widgets/controls",
      "model_module_version": "1.4.0",
      "model_name": "VBoxModel",
      "state": {
       "children": [
        "IPY_MODEL_c6b8f83670114dd8b16db788f7f7ed1e",
        "IPY_MODEL_6e00996198b844ad95a40875b4e9670b"
       ],
       "layout": "IPY_MODEL_dacbdcf51b9e4cdcbba29f78c9fbd232"
      }
     },
     "19c5515c546e41cd9e320845f0093a60": {
      "model_module": "@jupyter-widgets/base",
      "model_module_version": "1.1.0",
      "model_name": "LayoutModel",
      "state": {}
     },
     "19d10b3136f64f129df64730b054c5a0": {
      "model_module": "@jupyter-widgets/base",
      "model_module_version": "1.1.0",
      "model_name": "LayoutModel",
      "state": {}
     },
     "19d76df68f584cfc82d3312ba5a53046": {
      "model_module": "@jupyter-widgets/controls",
      "model_module_version": "1.4.0",
      "model_name": "CheckboxModel",
      "state": {
       "description": "Plot with Plotly after scan ends: ",
       "disabled": false,
       "layout": "IPY_MODEL_3fe3cfdb6554464882f7dfec4cfdcf76",
       "style": "IPY_MODEL_c76f9c6f87004b589dcdf9da6ae2579a",
       "value": false
      }
     },
     "19e67b9cc43342f8bca90d43b69edfd6": {
      "model_module": "@jupyter-widgets/base",
      "model_module_version": "1.1.0",
      "model_name": "LayoutModel",
      "state": {
       "width": "300px"
      }
     },
     "1a13e102b15449ebbcfd0464291cbf37": {
      "model_module": "@jupyter-widgets/base",
      "model_module_version": "1.1.0",
      "model_name": "LayoutModel",
      "state": {}
     },
     "1a539d027f36465ca4876bea3ca91dd7": {
      "model_module": "@jupyter-widgets/output",
      "model_module_version": "1.0.0",
      "model_name": "OutputModel",
      "state": {
       "layout": "IPY_MODEL_38566ca037164000a113a0431d7da72d"
      }
     },
     "1a7c99ac2c884bc19ce3fb1c5883cbeb": {
      "model_module": "@jupyter-widgets/base",
      "model_module_version": "1.1.0",
      "model_name": "LayoutModel",
      "state": {}
     },
     "1ac1d746b1bd4bea8d09ed10e65e5481": {
      "model_module": "@jupyter-widgets/base",
      "model_module_version": "1.1.0",
      "model_name": "LayoutModel",
      "state": {
       "width": "300px"
      }
     },
     "1af11011ecfb4fef9601f410a9df0c72": {
      "model_module": "@jupyter-widgets/base",
      "model_module_version": "1.1.0",
      "model_name": "LayoutModel",
      "state": {}
     },
     "1b6d310a2fac417f9c6f501e1f5ab4d1": {
      "model_module": "@jupyter-widgets/controls",
      "model_module_version": "1.4.0",
      "model_name": "BoxModel",
      "state": {
       "layout": "IPY_MODEL_83291256400b4ee999ec2468506ab3e4"
      }
     },
     "1bab958e1ca54106afadc2f4f0bfb6d9": {
      "model_module": "@jupyter-widgets/controls",
      "model_module_version": "1.4.0",
      "model_name": "DescriptionStyleModel",
      "state": {
       "description_width": ""
      }
     },
     "1baee7f4e4d04e49a715ffad43baacce": {
      "model_module": "@jupyter-widgets/base",
      "model_module_version": "1.1.0",
      "model_name": "LayoutModel",
      "state": {}
     },
     "1bbc203d4c514bd291fe05fbc8da5978": {
      "model_module": "@jupyter-widgets/base",
      "model_module_version": "1.1.0",
      "model_name": "LayoutModel",
      "state": {}
     },
     "1bbdbb3e47a948809521ffd6a09bef8e": {
      "model_module": "@jupyter-widgets/controls",
      "model_module_version": "1.4.0",
      "model_name": "TextModel",
      "state": {
       "layout": "IPY_MODEL_498d41cecd6f4255a9e2384d167cb6f0",
       "placeholder": "Type the notebook's name without file format",
       "style": "IPY_MODEL_35f9bf897cf140f29289ac8408cdaa74",
       "value": "laser-beam-alignment"
      }
     },
     "1bdbe7e5c6814bfea220189ef887a7a8": {
      "model_module": "@jupyter-widgets/base",
      "model_module_version": "1.1.0",
      "model_name": "LayoutModel",
      "state": {
       "height": "40px",
       "width": "40px"
      }
     },
     "1bfd354bae4f436faf3da4275cbb192e": {
      "model_module": "@jupyter-widgets/output",
      "model_module_version": "1.0.0",
      "model_name": "OutputModel",
      "state": {
       "layout": "IPY_MODEL_7898c4aa903647778d740103f1d03601"
      }
     },
     "1c1b150f71504fa99e96e492a43617b9": {
      "model_module": "@jupyter-widgets/controls",
      "model_module_version": "1.4.0",
      "model_name": "DescriptionStyleModel",
      "state": {
       "description_width": ""
      }
     },
     "1c6eabcb3c68457dada52353ab594450": {
      "model_module": "@jupyter-widgets/base",
      "model_module_version": "1.1.0",
      "model_name": "LayoutModel",
      "state": {}
     },
     "1c715ee8c68041f594e71039839c420c": {
      "model_module": "@jupyter-widgets/base",
      "model_module_version": "1.1.0",
      "model_name": "LayoutModel",
      "state": {}
     },
     "1c8fefcd1b99484cb2a04f4c00429daa": {
      "model_module": "@jupyter-widgets/controls",
      "model_module_version": "1.4.0",
      "model_name": "ButtonModel",
      "state": {
       "button_style": "success",
       "description": "Start PV Monitoring",
       "layout": "IPY_MODEL_c0253d7fa43749f08610bf0d075439b9",
       "style": "IPY_MODEL_6b363e4683694343b23eb1e4b4ded9b1",
       "tooltip": "Click me"
      }
     },
     "1cac463c851c463dadfcb48095696db9": {
      "model_module": "@jupyter-widgets/controls",
      "model_module_version": "1.4.0",
      "model_name": "BoxModel",
      "state": {
       "layout": "IPY_MODEL_95ea503de8074b6d8e1d82f735de4e17"
      }
     },
     "1cc84c1998f948949bcfe623fd81e5af": {
      "model_module": "@jupyter-widgets/base",
      "model_module_version": "1.1.0",
      "model_name": "LayoutModel",
      "state": {}
     },
     "1cd320962e694b5ca7723abe02cc1719": {
      "model_module": "@jupyter-widgets/output",
      "model_module_version": "1.0.0",
      "model_name": "OutputModel",
      "state": {
       "layout": "IPY_MODEL_f1efbe3befbb4153a576ffd8cf13270f"
      }
     },
     "1d10cce6f7974197973cae04124946f0": {
      "model_module": "@jupyter-widgets/base",
      "model_module_version": "1.1.0",
      "model_name": "LayoutModel",
      "state": {}
     },
     "1d1b4b25db61444b80654685794c9c05": {
      "model_module": "@jupyter-widgets/base",
      "model_module_version": "1.1.0",
      "model_name": "LayoutModel",
      "state": {
       "width": "300px"
      }
     },
     "1d47d0ad3f404f3da37d61822700bf8c": {
      "model_module": "@jupyter-widgets/base",
      "model_module_version": "1.1.0",
      "model_name": "LayoutModel",
      "state": {
       "width": "300px"
      }
     },
     "1d84c6fbf8cb47e4a372e6c61cb12db5": {
      "model_module": "@jupyter-widgets/controls",
      "model_module_version": "1.4.0",
      "model_name": "HBoxModel",
      "state": {
       "children": [
        "IPY_MODEL_fa75e6b90f3440ebbae604413dfa6b4b",
        "IPY_MODEL_db29189450e342478d24960ed9628cb4"
       ],
       "layout": "IPY_MODEL_8c433f52f7a546548598e69b57db3c6e"
      }
     },
     "1dd13b7082ff45d8ba5997a6090295a8": {
      "model_module": "@jupyter-widgets/controls",
      "model_module_version": "1.4.0",
      "model_name": "TextModel",
      "state": {
       "layout": "IPY_MODEL_0ee6edab013b4fc99831434b2b70724c",
       "placeholder": "Type the notebook's name without file format",
       "style": "IPY_MODEL_13626434286b4d649d4521d32a25a0c2"
      }
     },
     "1e06f690ad674b1999cba4568a67a4b4": {
      "model_module": "@jupyter-widgets/base",
      "model_module_version": "1.1.0",
      "model_name": "LayoutModel",
      "state": {}
     },
     "1e170747d7b84336b6fd8d29b75fff8c": {
      "model_module": "@jupyter-widgets/base",
      "model_module_version": "1.1.0",
      "model_name": "LayoutModel",
      "state": {}
     },
     "1e19137297e74fffbd75bcde67889812": {
      "model_module": "@jupyter-widgets/controls",
      "model_module_version": "1.4.0",
      "model_name": "DropdownModel",
      "state": {
       "_options_labels": [
        "Plot after ends with PyQt",
        "Plot after ends with Plotly",
        "Live Plot"
       ],
       "index": 0,
       "layout": "IPY_MODEL_747fa1b6309940a9a2f7ae923e738435",
       "style": "IPY_MODEL_859c26ef152b4b7fbfc6e255d620cab8"
      }
     },
     "1e3a606a7d1a44cb8b92e157048ee52d": {
      "buffers": [
       {
        "data": "AAAAAAAAEEAAAAAAAAAUQAAAAAAAAAhAAAAAAAAACEAAAAAAAAAcQA==",
        "encoding": "base64",
        "path": [
         "_data",
         0,
         "y",
         "value"
        ]
       },
       {
        "data": "AAAAAAAAEEAAAAAAAAAUQAAAAAAAAAhAAAAAAAAACEAAAAAAAAAcQA==",
        "encoding": "base64",
        "path": [
         "_data",
         1,
         "y",
         "value"
        ]
       }
      ],
      "model_module": "plotlywidget",
      "model_module_version": "0.8.0",
      "model_name": "FigureModel",
      "state": {
       "_config": {
        "plotlyServerURL": "https://plot.ly"
       },
       "_data": [
        {
         "mode": "lines+markers",
         "name": "line1",
         "type": "scatter",
         "uid": "4a5ee2e1-97cd-4ec7-be1c-b41536ed86ac",
         "x": [
          0,
          1,
          2,
          3,
          4
         ],
         "xaxis": "x",
         "y": {
          "dtype": "float64",
          "shape": [
           5
          ],
          "value": {}
         },
         "yaxis": "y"
        },
        {
         "mode": "lines+markers",
         "name": "line2",
         "type": "scatter",
         "uid": "c475968d-d3fe-4461-aa6f-0ac05fedb797",
         "x": [
          0,
          1,
          2,
          3,
          4
         ],
         "xaxis": "x2",
         "y": {
          "dtype": "float64",
          "shape": [
           5
          ],
          "value": {}
         },
         "yaxis": "y2"
        }
       ],
       "_js2py_pointsCallback": {},
       "_js2py_restyle": {},
       "_js2py_update": {},
       "_last_layout_edit_id": 8,
       "_last_trace_edit_id": 7,
       "_layout": {
        "autosize": true,
        "plot_bgcolor": "rgb(230, 230, 230)",
        "template": {},
        "title": {
         "text": "Scan"
        },
        "xaxis": {
         "anchor": "y",
         "domain": [
          0,
          1
         ]
        },
        "xaxis2": {
         "anchor": "y2",
         "domain": [
          0,
          1
         ]
        },
        "yaxis": {
         "anchor": "x",
         "domain": [
          0.575,
          1
         ]
        },
        "yaxis2": {
         "anchor": "x2",
         "domain": [
          0,
          0.425
         ]
        }
       },
       "_model_module_version": "0.8.0",
       "_py2js_animate": {},
       "_py2js_deleteTraces": {},
       "_py2js_moveTraces": {},
       "_py2js_removeLayoutProps": {},
       "_py2js_removeTraceProps": {},
       "_view_count": 0,
       "_view_module_version": "0.8.0"
      }
     },
     "1e7506734bef4174bb85c2b4cabe1cde": {
      "model_module": "@jupyter-widgets/base",
      "model_module_version": "1.1.0",
      "model_name": "LayoutModel",
      "state": {}
     },
     "1e8e339659564b948b17fb904192f4e9": {
      "model_module": "@jupyter-widgets/base",
      "model_module_version": "1.1.0",
      "model_name": "LayoutModel",
      "state": {}
     },
     "1e9dce681add4117b90742b5f66bfa15": {
      "model_module": "@jupyter-widgets/controls",
      "model_module_version": "1.4.0",
      "model_name": "VBoxModel",
      "state": {
       "children": [
        "IPY_MODEL_cf72560cf847417aa9e1404a5d1deb9b",
        "IPY_MODEL_6d6f032929b2434c9d05ab51be76f53e"
       ],
       "layout": "IPY_MODEL_97fd08a4a55d4d2f991851d9aad6b945"
      }
     },
     "1f0b07f2000e4061bf4c7505d165e852": {
      "model_module": "@jupyter-widgets/base",
      "model_module_version": "1.1.0",
      "model_name": "LayoutModel",
      "state": {}
     },
     "1f44b3786aa446b7b30b6459e3b78ff6": {
      "model_module": "@jupyter-widgets/base",
      "model_module_version": "1.1.0",
      "model_name": "LayoutModel",
      "state": {}
     },
     "1f556eb9f0804d4d919f4b96dbad74b1": {
      "model_module": "@jupyter-widgets/controls",
      "model_module_version": "1.4.0",
      "model_name": "CheckboxModel",
      "state": {
       "description": "Live plot in Jupyter: ",
       "disabled": true,
       "layout": "IPY_MODEL_31290124c0ad4b0d8520156ef7c36d78",
       "style": "IPY_MODEL_abc9a85a1f134130b91d27aa0460bd10",
       "value": false
      }
     },
     "1f9d51efdbf84087866ea05b2a84a7f4": {
      "model_module": "@jupyter-widgets/output",
      "model_module_version": "1.0.0",
      "model_name": "OutputModel",
      "state": {
       "layout": "IPY_MODEL_1bbc203d4c514bd291fe05fbc8da5978"
      }
     },
     "1fc0d3b3d7a14a5c93c4bcede847dd38": {
      "model_module": "@jupyter-widgets/controls",
      "model_module_version": "1.4.0",
      "model_name": "ButtonModel",
      "state": {
       "button_style": "warning",
       "description": "Export Notebook to HTML",
       "layout": "IPY_MODEL_a5cafdb7767049ae9f15f9c91038b670",
       "style": "IPY_MODEL_2df1180e7fd84d1d9c4af0bf32e3e346",
       "tooltip": "Click me"
      }
     },
     "20522add50944a57bb616fff35005a71": {
      "model_module": "@jupyter-widgets/controls",
      "model_module_version": "1.4.0",
      "model_name": "DescriptionStyleModel",
      "state": {
       "description_width": "initial"
      }
     },
     "2069c10a39e6497ca41cf8589d6affe5": {
      "model_module": "@jupyter-widgets/base",
      "model_module_version": "1.1.0",
      "model_name": "LayoutModel",
      "state": {}
     },
     "209e83c8148e4e96b8f937cf345eaafe": {
      "model_module": "@jupyter-widgets/controls",
      "model_module_version": "1.4.0",
      "model_name": "VBoxModel",
      "state": {
       "children": [
        "IPY_MODEL_3303afff9b564e92945214ca09ff8e8d"
       ],
       "layout": "IPY_MODEL_51cc1a81329f46778f8aeece5856cf47"
      }
     },
     "20a3ea342bf943d29c69a34fb1fec28c": {
      "model_module": "@jupyter-widgets/base",
      "model_module_version": "1.1.0",
      "model_name": "LayoutModel",
      "state": {}
     },
     "20c1b15fc1ee427396f6b2889e3126cd": {
      "model_module": "@jupyter-widgets/base",
      "model_module_version": "1.1.0",
      "model_name": "LayoutModel",
      "state": {}
     },
     "20d057922cb04bd391e0a37fd3e8a4e5": {
      "model_module": "@jupyter-widgets/base",
      "model_module_version": "1.1.0",
      "model_name": "LayoutModel",
      "state": {}
     },
     "20fbed9e8b0445c4a14086165815a88a": {
      "model_module": "@jupyter-widgets/controls",
      "model_module_version": "1.4.0",
      "model_name": "DescriptionStyleModel",
      "state": {
       "description_width": ""
      }
     },
     "21080928fddd4ce9a6e887acb69f1dfc": {
      "model_module": "@jupyter-widgets/base",
      "model_module_version": "1.1.0",
      "model_name": "LayoutModel",
      "state": {
       "height": "40px",
       "width": "40px"
      }
     },
     "2109ba2c6ab24e9ba3607ca809969435": {
      "model_module": "@jupyter-widgets/controls",
      "model_module_version": "1.4.0",
      "model_name": "TextModel",
      "state": {
       "layout": "IPY_MODEL_1d1b4b25db61444b80654685794c9c05",
       "placeholder": "Type the notebook's name without file format",
       "style": "IPY_MODEL_adbadd87054c490ca0c805e5f9ca6c67",
       "value": "laser-beam-alignment"
      }
     },
     "212745e7ef5948eb8f7b196f8be52366": {
      "model_module": "@jupyter-widgets/controls",
      "model_module_version": "1.4.0",
      "model_name": "DescriptionStyleModel",
      "state": {
       "description_width": ""
      }
     },
     "212e05c595e1494a86fa6cbba9998266": {
      "model_module": "@jupyter-widgets/base",
      "model_module_version": "1.1.0",
      "model_name": "LayoutModel",
      "state": {
       "width": "300px"
      }
     },
     "21536d8310674a28bf0882cb93bad6cb": {
      "model_module": "@jupyter-widgets/base",
      "model_module_version": "1.1.0",
      "model_name": "LayoutModel",
      "state": {
       "width": "300px"
      }
     },
     "2158e9ef65bc4567808ff8005fb33295": {
      "model_module": "@jupyter-widgets/base",
      "model_module_version": "1.1.0",
      "model_name": "LayoutModel",
      "state": {
       "height": "40px",
       "width": "40px"
      }
     },
     "215a5c4014224e1282d437c7d3bc83cb": {
      "model_module": "@jupyter-widgets/controls",
      "model_module_version": "1.4.0",
      "model_name": "DescriptionStyleModel",
      "state": {
       "description_width": "initial"
      }
     },
     "216e6e23149e40f1929c57f48ff57122": {
      "model_module": "@jupyter-widgets/controls",
      "model_module_version": "1.4.0",
      "model_name": "CheckboxModel",
      "state": {
       "description": "Print log in Notebook's cells",
       "disabled": false,
       "layout": "IPY_MODEL_d8f7e3f659844003ab3549058e3db8ff",
       "style": "IPY_MODEL_861f54ca9baf49f29dea41791257feb3",
       "value": false
      }
     },
     "21bb2c661a4d493cb4db694e17fbd7f7": {
      "model_module": "@jupyter-widgets/base",
      "model_module_version": "1.1.0",
      "model_name": "LayoutModel",
      "state": {}
     },
     "21d57c5387cc4635bc6bd58811dc8833": {
      "model_module": "@jupyter-widgets/controls",
      "model_module_version": "1.4.0",
      "model_name": "HBoxModel",
      "state": {
       "children": [
        "IPY_MODEL_4843ac71139047a989fd5a18a9c6dcb9",
        "IPY_MODEL_6e7d1ec805974a79bcf9465724066e50"
       ],
       "layout": "IPY_MODEL_0812f8ddb54240d1a5a23eb004653238"
      }
     },
     "22d5e06db9454a958403a151bd1254e9": {
      "model_module": "@jupyter-widgets/controls",
      "model_module_version": "1.4.0",
      "model_name": "DescriptionStyleModel",
      "state": {
       "description_width": "initial"
      }
     },
     "234948dc60454f91b786a709b049befa": {
      "model_module": "@jupyter-widgets/base",
      "model_module_version": "1.1.0",
      "model_name": "LayoutModel",
      "state": {
       "width": "300px"
      }
     },
     "2385e7d1dfe04bfb87535785388833db": {
      "model_module": "@jupyter-widgets/base",
      "model_module_version": "1.1.0",
      "model_name": "LayoutModel",
      "state": {}
     },
     "23869f3d723b4341ba52ed55aa28ed8e": {
      "model_module": "plotlywidget",
      "model_module_version": "0.8.0",
      "model_name": "FigureModel",
      "state": {
       "_config": {
        "plotlyServerURL": "https://plot.ly"
       },
       "_js2py_layoutDelta": {},
       "_js2py_pointsCallback": {},
       "_js2py_relayout": {},
       "_js2py_restyle": {},
       "_js2py_traceDeltas": {},
       "_js2py_update": {},
       "_layout": {
        "template": {}
       },
       "_model_module_version": "0.8.0",
       "_py2js_addTraces": {},
       "_py2js_animate": {},
       "_py2js_deleteTraces": {},
       "_py2js_moveTraces": {},
       "_py2js_removeLayoutProps": {},
       "_py2js_removeTraceProps": {},
       "_py2js_restyle": {},
       "_py2js_update": {},
       "_view_count": 0,
       "_view_module_version": "0.8.0"
      }
     },
     "23aee4ad778245ddbc8216901b29bc52": {
      "model_module": "@jupyter-widgets/base",
      "model_module_version": "1.1.0",
      "model_name": "LayoutModel",
      "state": {}
     },
     "23b31314b7504d7881b4152012d61258": {
      "model_module": "@jupyter-widgets/output",
      "model_module_version": "1.0.0",
      "model_name": "OutputModel",
      "state": {
       "layout": "IPY_MODEL_f8f712751588437da9b50b4ce9d10a1b"
      }
     },
     "23c620e099274a1a8f777692a18f19f6": {
      "model_module": "@jupyter-widgets/base",
      "model_module_version": "1.1.0",
      "model_name": "LayoutModel",
      "state": {}
     },
     "23ca697ac7174d39a0d9f1ffa2de8ba4": {
      "model_module": "@jupyter-widgets/controls",
      "model_module_version": "1.4.0",
      "model_name": "ButtonModel",
      "state": {
       "button_style": "warning",
       "description": "Export Notebook to HTML",
       "layout": "IPY_MODEL_f11cd246f4c24df895ecd7af89bb551e",
       "style": "IPY_MODEL_6ad70309eabb4be4a11478ba648964c3",
       "tooltip": "Click me"
      }
     },
     "23d015f06cd54abe92df593c1f307af0": {
      "model_module": "@jupyter-widgets/output",
      "model_module_version": "1.0.0",
      "model_name": "OutputModel",
      "state": {
       "layout": "IPY_MODEL_41ee64e062b941fc899d1a14e5a28579"
      }
     },
     "23d4924d40ec4faabe69bf55d233e314": {
      "model_module": "@jupyter-widgets/controls",
      "model_module_version": "1.4.0",
      "model_name": "ButtonModel",
      "state": {
       "button_style": "warning",
       "description": "Export Notebook to Latex",
       "layout": "IPY_MODEL_f58c6d56ed864056963f4928f0cb8ef0",
       "style": "IPY_MODEL_b31e5f80679c4a1599e93e7452c48df4",
       "tooltip": "Click me"
      }
     },
     "2428979859b546c4ab355a984efe63cd": {
      "model_module": "@jupyter-widgets/controls",
      "model_module_version": "1.4.0",
      "model_name": "ButtonStyleModel",
      "state": {}
     },
     "243b8423a6b04d018ea0360ece5e9fc2": {
      "model_module": "@jupyter-widgets/base",
      "model_module_version": "1.1.0",
      "model_name": "LayoutModel",
      "state": {
       "height": "40px",
       "width": "40px"
      }
     },
     "24aa37e3eca843c7855d00ac54602921": {
      "model_module": "@jupyter-widgets/base",
      "model_module_version": "1.1.0",
      "model_name": "LayoutModel",
      "state": {}
     },
     "2503c049f7544ab7952195591f56282f": {
      "model_module": "@jupyter-widgets/controls",
      "model_module_version": "1.4.0",
      "model_name": "DescriptionStyleModel",
      "state": {
       "description_width": ""
      }
     },
     "2516ad22230c4c708b0422ad1cbd3300": {
      "model_module": "@jupyter-widgets/base",
      "model_module_version": "1.1.0",
      "model_name": "LayoutModel",
      "state": {}
     },
     "25316ac3ec3e4dc28325d6ed8bb882be": {
      "model_module": "@jupyter-widgets/base",
      "model_module_version": "1.1.0",
      "model_name": "LayoutModel",
      "state": {}
     },
     "25636bc2afad4700a25017f92bb41428": {
      "model_module": "@jupyter-widgets/base",
      "model_module_version": "1.1.0",
      "model_name": "LayoutModel",
      "state": {
       "width": "300px"
      }
     },
     "26089b6acba343ebb62afd3984ae160f": {
      "model_module": "@jupyter-widgets/base",
      "model_module_version": "1.1.0",
      "model_name": "LayoutModel",
      "state": {}
     },
     "264ae525d3204730a473a6b5e15ef572": {
      "model_module": "@jupyter-widgets/controls",
      "model_module_version": "1.4.0",
      "model_name": "VBoxModel",
      "state": {
       "children": [
        "IPY_MODEL_c8b9decf5da54da49d85bdba058f1cac",
        "IPY_MODEL_51cf243535a2463e84ad0fcc0548139f"
       ],
       "layout": "IPY_MODEL_3b18ad052d2149098a92edfdd08d4bea"
      }
     },
     "266da7d494824234b7b52bbf37526d14": {
      "model_module": "@jupyter-widgets/base",
      "model_module_version": "1.1.0",
      "model_name": "LayoutModel",
      "state": {}
     },
     "26b37ea7c05e45b49e29af134cc9ddf6": {
      "model_module": "@jupyter-widgets/controls",
      "model_module_version": "1.4.0",
      "model_name": "ButtonModel",
      "state": {
       "button_style": "success",
       "description": "Start Scanning Plot",
       "layout": "IPY_MODEL_a2a95332a9bb40a89ef85d8f84a9cb05",
       "style": "IPY_MODEL_3a40e46d467442e5ba9d75717892c9cb",
       "tooltip": "Click me"
      }
     },
     "26c258402eb74caa9317854b02f6d874": {
      "model_module": "@jupyter-widgets/base",
      "model_module_version": "1.1.0",
      "model_name": "LayoutModel",
      "state": {}
     },
     "26e7d26502aa4f1dbcc4d95aaff69117": {
      "model_module": "@jupyter-widgets/controls",
      "model_module_version": "1.4.0",
      "model_name": "LabelModel",
      "state": {
       "layout": "IPY_MODEL_13fda85dfb45492bb354fb856276f6a2",
       "style": "IPY_MODEL_5628b0a6eadd4ceead74a22ddcbfbce7",
       "value": "No motors initilized to be showed."
      }
     },
     "2726be71ba2a4ec5a5c49968b654a1e2": {
      "model_module": "@jupyter-widgets/base",
      "model_module_version": "1.1.0",
      "model_name": "LayoutModel",
      "state": {}
     },
     "278cc65ce36643ca893981b4702ee786": {
      "model_module": "@jupyter-widgets/controls",
      "model_module_version": "1.4.0",
      "model_name": "ButtonStyleModel",
      "state": {}
     },
     "27926193817d454994578b4959ffdf52": {
      "model_module": "@jupyter-widgets/base",
      "model_module_version": "1.1.0",
      "model_name": "LayoutModel",
      "state": {
       "width": "300px"
      }
     },
     "27ac837c535e490b9c705d4e49341411": {
      "model_module": "@jupyter-widgets/base",
      "model_module_version": "1.1.0",
      "model_name": "LayoutModel",
      "state": {}
     },
     "27bd55c3ed654b1d9cfe98e2859c136a": {
      "model_module": "@jupyter-widgets/base",
      "model_module_version": "1.1.0",
      "model_name": "LayoutModel",
      "state": {}
     },
     "27d6d752356e45c3984464618f1c5504": {
      "model_module": "@jupyter-widgets/output",
      "model_module_version": "1.0.0",
      "model_name": "OutputModel",
      "state": {
       "layout": "IPY_MODEL_fe68ee5e2349450f93656e5e7f361838"
      }
     },
     "27d9446143d043998404e721aa6dd99a": {
      "model_module": "@jupyter-widgets/base",
      "model_module_version": "1.1.0",
      "model_name": "LayoutModel",
      "state": {
       "height": "40px",
       "width": "40px"
      }
     },
     "280aeeaa68454d7a9a33db744153d52f": {
      "model_module": "@jupyter-widgets/base",
      "model_module_version": "1.1.0",
      "model_name": "LayoutModel",
      "state": {
       "width": "300px"
      }
     },
     "2821e42eaed5463d83469c5e5a30daaa": {
      "model_module": "@jupyter-widgets/controls",
      "model_module_version": "1.4.0",
      "model_name": "TextModel",
      "state": {
       "layout": "IPY_MODEL_e4dc5763d5d84b7cb99158b1dbc0c229",
       "placeholder": "Type the notebook's name without file format",
       "style": "IPY_MODEL_918d01986a26490c8de44fb1f7c13418"
      }
     },
     "2821e86b97374599afd02c44e50f8ecf": {
      "model_module": "@jupyter-widgets/controls",
      "model_module_version": "1.4.0",
      "model_name": "LabelModel",
      "state": {
       "layout": "IPY_MODEL_95e8ed3dd3bb4bdfb8858301251412d6",
       "style": "IPY_MODEL_e6bc74e10fa642c3ae5a363369de3286",
       "value": "No motors initilized to be showed."
      }
     },
     "2823a1962410402596617e91c419e6ba": {
      "buffers": [
       {
        "data": "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",
        "encoding": "base64",
        "path": [
         "value"
        ]
       }
      ],
      "model_module": "@jupyter-widgets/controls",
      "model_module_version": "1.4.0",
      "model_name": "ImageModel",
      "state": {
       "height": "35",
       "layout": "IPY_MODEL_edae57c6c60c4ea29bd44c4933f68f78",
       "value": {},
       "width": "35"
      }
     },
     "28478c0f99f14a1e86f5d55766a3088b": {
      "model_module": "@jupyter-widgets/controls",
      "model_module_version": "1.4.0",
      "model_name": "ButtonModel",
      "state": {
       "button_style": "success",
       "description": "Start Manual Alignment",
       "layout": "IPY_MODEL_7578aa32facf45eea526a7b2d9148080",
       "style": "IPY_MODEL_021241e67a1d445bb636b13454b41339",
       "tooltip": "Click me"
      }
     },
     "288461955f314a7ca97a8ca3ffdbee2b": {
      "model_module": "@jupyter-widgets/controls",
      "model_module_version": "1.4.0",
      "model_name": "VBoxModel",
      "state": {
       "children": [
        "IPY_MODEL_3731b645ddfd41ca92872400f3832cc8",
        "IPY_MODEL_52cf10d1398f46c9996fbcef0b53fd8e"
       ],
       "layout": "IPY_MODEL_527b2a5bfd0e47cc8b238e072d039c58"
      }
     },
     "28863a838b164c949d21329d10ecbe62": {
      "model_module": "@jupyter-widgets/base",
      "model_module_version": "1.1.0",
      "model_name": "LayoutModel",
      "state": {}
     },
     "28ad9d38b67643b388405970607a792e": {
      "model_module": "@jupyter-widgets/controls",
      "model_module_version": "1.4.0",
      "model_name": "CheckboxModel",
      "state": {
       "description": "Plot with Plotly after scan ends: ",
       "disabled": true,
       "layout": "IPY_MODEL_7af9bb18f2454bc78fad76ff118381bb",
       "style": "IPY_MODEL_4877b70e8bda40959d398c3f42c726b9",
       "value": false
      }
     },
     "28b03f0817cc4ccaa42b46a2988dac9f": {
      "model_module": "@jupyter-widgets/controls",
      "model_module_version": "1.4.0",
      "model_name": "TextModel",
      "state": {
       "layout": "IPY_MODEL_5171d61c95a846e2bc6e1d697031f36d",
       "placeholder": "Type the notebook's name without file format",
       "style": "IPY_MODEL_95c47cb4330f488e98fe3b56883e0c87"
      }
     },
     "28b0c14a16c642d89c5c760004bd3af7": {
      "model_module": "plotlywidget",
      "model_module_version": "0.8.0",
      "model_name": "FigureModel",
      "state": {
       "_config": {
        "plotlyServerURL": "https://plot.ly"
       },
       "_js2py_layoutDelta": {},
       "_js2py_pointsCallback": {},
       "_js2py_relayout": {},
       "_js2py_restyle": {},
       "_js2py_traceDeltas": {},
       "_js2py_update": {},
       "_layout": {
        "template": {}
       },
       "_model_module_version": "0.8.0",
       "_py2js_addTraces": {},
       "_py2js_animate": {},
       "_py2js_deleteTraces": {},
       "_py2js_moveTraces": {},
       "_py2js_removeLayoutProps": {},
       "_py2js_removeTraceProps": {},
       "_py2js_restyle": {},
       "_py2js_update": {},
       "_view_count": 0,
       "_view_module_version": "0.8.0"
      }
     },
     "28c00d80d0e24752ae3d4f106831767d": {
      "model_module": "@jupyter-widgets/controls",
      "model_module_version": "1.4.0",
      "model_name": "VBoxModel",
      "state": {
       "children": [
        "IPY_MODEL_28478c0f99f14a1e86f5d55766a3088b"
       ],
       "layout": "IPY_MODEL_e5be2286f6f145b4ae37e460f938a7ba"
      }
     },
     "28c0cbdd10bd4d5b8b7226388c515dae": {
      "model_module": "@jupyter-widgets/controls",
      "model_module_version": "1.4.0",
      "model_name": "TextModel",
      "state": {
       "layout": "IPY_MODEL_75d6b1a2facc46e19123c0c592424c92",
       "placeholder": "Type the notebook's name without file format",
       "style": "IPY_MODEL_db2d38c1c2764cb89cb0169d019fdde5"
      }
     },
     "291a717883d4442590c32c1d95d4d810": {
      "model_module": "@jupyter-widgets/base",
      "model_module_version": "1.1.0",
      "model_name": "LayoutModel",
      "state": {}
     },
     "299b9be67ccd4b2597e0cc57c2a4a3df": {
      "model_module": "@jupyter-widgets/base",
      "model_module_version": "1.1.0",
      "model_name": "LayoutModel",
      "state": {}
     },
     "29b185d0f25c4e21afd1fded99e18356": {
      "model_module": "@jupyter-widgets/base",
      "model_module_version": "1.1.0",
      "model_name": "LayoutModel",
      "state": {
       "width": "300px"
      }
     },
     "29c9b8abbbf340eaaec32d33702f0b6e": {
      "model_module": "@jupyter-widgets/controls",
      "model_module_version": "1.4.0",
      "model_name": "CheckboxModel",
      "state": {
       "description": "Plot with PyQtGraph after scan ends: ",
       "disabled": false,
       "layout": "IPY_MODEL_8c77d42dc19c4dbbb1aa665ff2f67c46",
       "style": "IPY_MODEL_589364f91d494746a5a1abd7423db69d",
       "value": true
      }
     },
     "2a43d25946964b918b81ccdc916b8039": {
      "model_module": "@jupyter-widgets/controls",
      "model_module_version": "1.4.0",
      "model_name": "TextModel",
      "state": {
       "layout": "IPY_MODEL_371cce448afc4e169686734b579e15c3",
       "placeholder": "Type the notebook's name without file format",
       "style": "IPY_MODEL_8f69390409044eb2b2ecc45c8bf893fe"
      }
     },
     "2a4422b4bf5d4020b5c487c3ee0a5c71": {
      "model_module": "@jupyter-widgets/controls",
      "model_module_version": "1.4.0",
      "model_name": "VBoxModel",
      "state": {
       "children": [
        "IPY_MODEL_0e182c42025b4f5c86e615aeb363d408",
        "IPY_MODEL_67742562597a4feb82e2a17318ced681"
       ],
       "layout": "IPY_MODEL_ba2444b0a1684c1691bac2bdfc603079"
      }
     },
     "2a85a18376e745a1a51c5c95681ee323": {
      "model_module": "@jupyter-widgets/output",
      "model_module_version": "1.0.0",
      "model_name": "OutputModel",
      "state": {
       "layout": "IPY_MODEL_3be9136c8747486f9f88964bffe81984"
      }
     },
     "2ab8c7f42f3340b98b44c39c51556d1a": {
      "model_module": "@jupyter-widgets/base",
      "model_module_version": "1.1.0",
      "model_name": "LayoutModel",
      "state": {}
     },
     "2aca446923eb4ce18b44e77f51bcc976": {
      "model_module": "@jupyter-widgets/controls",
      "model_module_version": "1.4.0",
      "model_name": "VBoxModel",
      "state": {
       "children": [
        "IPY_MODEL_eede9f6559da4cd69a63ae0827773480"
       ],
       "layout": "IPY_MODEL_5c49f121d335476db602cd333a15c41b"
      }
     },
     "2ade96f74bdd499faa8335085538cc2e": {
      "model_module": "@jupyter-widgets/base",
      "model_module_version": "1.1.0",
      "model_name": "LayoutModel",
      "state": {}
     },
     "2b6e3281e8b44b91a6a7c4379dfadf01": {
      "model_module": "@jupyter-widgets/controls",
      "model_module_version": "1.4.0",
      "model_name": "ButtonModel",
      "state": {
       "button_style": "success",
       "description": "Start Manual Alignment",
       "layout": "IPY_MODEL_daf473fc4c374340bc95181daff39ea3",
       "style": "IPY_MODEL_7d79c2986f2c4fbbb4d4bbc4557283a7",
       "tooltip": "Click me"
      }
     },
     "2b9725d5d0a04f9b8e82a129b47a0652": {
      "model_module": "@jupyter-widgets/controls",
      "model_module_version": "1.4.0",
      "model_name": "VBoxModel",
      "state": {
       "children": [
        "IPY_MODEL_c2e6e0f947fa4ad686c12495e3666139"
       ],
       "layout": "IPY_MODEL_00bd6701deeb4acd80869674e7e9fb05"
      }
     },
     "2ba9178998de4404924cafa83904d952": {
      "model_module": "@jupyter-widgets/base",
      "model_module_version": "1.1.0",
      "model_name": "LayoutModel",
      "state": {}
     },
     "2bd756834309463c815cbf16f5feacdc": {
      "model_module": "@jupyter-widgets/controls",
      "model_module_version": "1.4.0",
      "model_name": "BoxModel",
      "state": {
       "layout": "IPY_MODEL_b6d8a9719109410ca111d03c5fb85389"
      }
     },
     "2beca14755db4cb894503961b0dec0c9": {
      "model_module": "@jupyter-widgets/controls",
      "model_module_version": "1.4.0",
      "model_name": "ButtonModel",
      "state": {
       "button_style": "success",
       "description": "Start Manual Alignment",
       "layout": "IPY_MODEL_8334b9c9c68f4dd5b8eacb77bab88277",
       "style": "IPY_MODEL_6fe685912de248a8a74c6e9f600ac5b1",
       "tooltip": "Click me"
      }
     },
     "2c08e29645f54307aa17289016082d70": {
      "model_module": "@jupyter-widgets/base",
      "model_module_version": "1.1.0",
      "model_name": "LayoutModel",
      "state": {
       "width": "300px"
      }
     },
     "2c39759318014528ba6d39d75209a552": {
      "model_module": "@jupyter-widgets/base",
      "model_module_version": "1.1.0",
      "model_name": "LayoutModel",
      "state": {}
     },
     "2c83bf49c12f48ad8d4bbafd674d381a": {
      "model_module": "@jupyter-widgets/output",
      "model_module_version": "1.0.0",
      "model_name": "OutputModel",
      "state": {
       "layout": "IPY_MODEL_b22727b8a1ba4b0b9b260e96693cc7ff"
      }
     },
     "2d20a56d13f74698a340dd591ca5a0ff": {
      "model_module": "@jupyter-widgets/base",
      "model_module_version": "1.1.0",
      "model_name": "LayoutModel",
      "state": {}
     },
     "2d376d0158ec4dd7b6a8761dc489b493": {
      "model_module": "@jupyter-widgets/base",
      "model_module_version": "1.1.0",
      "model_name": "LayoutModel",
      "state": {}
     },
     "2d697d6d2399405baf7c01e68a1d7240": {
      "model_module": "@jupyter-widgets/base",
      "model_module_version": "1.1.0",
      "model_name": "LayoutModel",
      "state": {
       "width": "300px"
      }
     },
     "2d7b5f30eceb405f9603b2c657e289cc": {
      "model_module": "@jupyter-widgets/controls",
      "model_module_version": "1.4.0",
      "model_name": "BoxModel",
      "state": {
       "children": [
        "IPY_MODEL_5c3f0401e69e41be8047d29e27196107"
       ],
       "layout": "IPY_MODEL_de12880c90354342aa69d04e9dc7078e"
      }
     },
     "2db3848a64204610915484f0c3e09fa4": {
      "model_module": "@jupyter-widgets/base",
      "model_module_version": "1.1.0",
      "model_name": "LayoutModel",
      "state": {
       "width": "300px"
      }
     },
     "2db57e0d650742418d2ce4c19a1053a7": {
      "model_module": "@jupyter-widgets/output",
      "model_module_version": "1.0.0",
      "model_name": "OutputModel",
      "state": {
       "layout": "IPY_MODEL_c70c85b55d0547518d802d21f2b040b7",
       "msg_id": "f07dd57a2f1847b19d07ab417ddcbd64"
      }
     },
     "2ded8816f7e24b4cb4f75567aeade77f": {
      "model_module": "@jupyter-widgets/base",
      "model_module_version": "1.1.0",
      "model_name": "LayoutModel",
      "state": {}
     },
     "2df1180e7fd84d1d9c4af0bf32e3e346": {
      "model_module": "@jupyter-widgets/controls",
      "model_module_version": "1.4.0",
      "model_name": "ButtonStyleModel",
      "state": {}
     },
     "2e1e708fe1d64c34a4c5fa9d566467b7": {
      "model_module": "@jupyter-widgets/controls",
      "model_module_version": "1.4.0",
      "model_name": "ButtonStyleModel",
      "state": {}
     },
     "2e334852fcc8482a93a12b5690af3441": {
      "model_module": "@jupyter-widgets/controls",
      "model_module_version": "1.4.0",
      "model_name": "ButtonStyleModel",
      "state": {}
     },
     "2e52592ea02348fd9989417d011d3b6a": {
      "model_module": "@jupyter-widgets/controls",
      "model_module_version": "1.4.0",
      "model_name": "DescriptionStyleModel",
      "state": {
       "description_width": ""
      }
     },
     "2ea2d3ae377e4aafa9805b0174e749bd": {
      "model_module": "@jupyter-widgets/controls",
      "model_module_version": "1.4.0",
      "model_name": "DescriptionStyleModel",
      "state": {
       "description_width": "initial"
      }
     },
     "2ead55a5dd2143d88bf2c3fd7fc536cc": {
      "model_module": "@jupyter-widgets/base",
      "model_module_version": "1.1.0",
      "model_name": "LayoutModel",
      "state": {
       "width": "300px"
      }
     },
     "2ed2da4b45f54a55b9a7f9e18eae09b3": {
      "model_module": "@jupyter-widgets/output",
      "model_module_version": "1.0.0",
      "model_name": "OutputModel",
      "state": {
       "layout": "IPY_MODEL_f4dcd876a5b048f2b6dcdf6ae2d12fdd"
      }
     },
     "2f23c3f1c2c04890b88f191d3e7d86e2": {
      "model_module": "@jupyter-widgets/output",
      "model_module_version": "1.0.0",
      "model_name": "OutputModel",
      "state": {
       "layout": "IPY_MODEL_7fa425b12fde49a19a6cc4d3ecbc5a6d"
      }
     },
     "2f3e0bd23e024d978a4422b21ccf2427": {
      "model_module": "@jupyter-widgets/base",
      "model_module_version": "1.1.0",
      "model_name": "LayoutModel",
      "state": {}
     },
     "2f5f19acba1b4ffd99ada39cb54055b7": {
      "model_module": "@jupyter-widgets/base",
      "model_module_version": "1.1.0",
      "model_name": "LayoutModel",
      "state": {}
     },
     "2f7b95a32ffd44589b44c2f9bef8c51a": {
      "model_module": "@jupyter-widgets/output",
      "model_module_version": "1.0.0",
      "model_name": "OutputModel",
      "state": {
       "layout": "IPY_MODEL_7d1a4cdf6d5d45be9aef7aec9b6a18a4"
      }
     },
     "2f9dfeae74bb4fdcba8eb8d655e1e284": {
      "model_module": "@jupyter-widgets/base",
      "model_module_version": "1.1.0",
      "model_name": "LayoutModel",
      "state": {}
     },
     "2fbb7f53e7a94081a3d39fc1899d191e": {
      "model_module": "@jupyter-widgets/base",
      "model_module_version": "1.1.0",
      "model_name": "LayoutModel",
      "state": {}
     },
     "2fc0fd86096a461fb5ad950f845b9e3b": {
      "model_module": "@jupyter-widgets/base",
      "model_module_version": "1.1.0",
      "model_name": "LayoutModel",
      "state": {}
     },
     "2fe7862400e64dc3a6a02602c251ba7a": {
      "model_module": "@jupyter-widgets/controls",
      "model_module_version": "1.4.0",
      "model_name": "ButtonStyleModel",
      "state": {}
     },
     "301edbe6f4a34b639494b10e8f30daf5": {
      "model_module": "@jupyter-widgets/controls",
      "model_module_version": "1.4.0",
      "model_name": "DescriptionStyleModel",
      "state": {
       "description_width": ""
      }
     },
     "302806d3166e4a7782a7de3fe3a3328b": {
      "model_module": "@jupyter-widgets/controls",
      "model_module_version": "1.4.0",
      "model_name": "CheckboxModel",
      "state": {
       "description": "Print log in Notebook's cells",
       "disabled": false,
       "layout": "IPY_MODEL_d2071b5312254a2b8cfe18d26fd23997",
       "style": "IPY_MODEL_a1eaeae82c69460d9a2e304a9451b0a2",
       "value": false
      }
     },
     "30435be3dc81415c9617719704c55e2c": {
      "model_module": "@jupyter-widgets/base",
      "model_module_version": "1.1.0",
      "model_name": "LayoutModel",
      "state": {}
     },
     "3049e543498c4a0e8297c1937d7065ef": {
      "model_module": "@jupyter-widgets/base",
      "model_module_version": "1.1.0",
      "model_name": "LayoutModel",
      "state": {}
     },
     "308d42925ffb420f822f0d2727728c13": {
      "model_module": "@jupyter-widgets/base",
      "model_module_version": "1.1.0",
      "model_name": "LayoutModel",
      "state": {}
     },
     "30beb4a5a9f24b7c9abb373ed381bf84": {
      "model_module": "@jupyter-widgets/base",
      "model_module_version": "1.1.0",
      "model_name": "LayoutModel",
      "state": {}
     },
     "30c024058fdc47288424373c90f58e8c": {
      "model_module": "@jupyter-widgets/base",
      "model_module_version": "1.1.0",
      "model_name": "LayoutModel",
      "state": {}
     },
     "30c37e5224e14f158fc4979e31c83d27": {
      "model_module": "@jupyter-widgets/base",
      "model_module_version": "1.1.0",
      "model_name": "LayoutModel",
      "state": {
       "width": "300px"
      }
     },
     "31290124c0ad4b0d8520156ef7c36d78": {
      "model_module": "@jupyter-widgets/base",
      "model_module_version": "1.1.0",
      "model_name": "LayoutModel",
      "state": {}
     },
     "315a563793bf4c099a2de8898c903c44": {
      "model_module": "@jupyter-widgets/output",
      "model_module_version": "1.0.0",
      "model_name": "OutputModel",
      "state": {
       "layout": "IPY_MODEL_69f2809481cf4ff5b5920b6cd9eb88ab"
      }
     },
     "3165008a5c5546c6ac1e0d25206e1f86": {
      "model_module": "@jupyter-widgets/base",
      "model_module_version": "1.1.0",
      "model_name": "LayoutModel",
      "state": {}
     },
     "31b48c0e2e62462492ef9d07d3437e21": {
      "model_module": "@jupyter-widgets/base",
      "model_module_version": "1.1.0",
      "model_name": "LayoutModel",
      "state": {}
     },
     "31db3ead6b1d4e94b3b2312caa4d724d": {
      "model_module": "@jupyter-widgets/controls",
      "model_module_version": "1.4.0",
      "model_name": "DescriptionStyleModel",
      "state": {
       "description_width": "initial"
      }
     },
     "31eb7a250d1f4c74802744407efbc7fc": {
      "model_module": "@jupyter-widgets/base",
      "model_module_version": "1.1.0",
      "model_name": "LayoutModel",
      "state": {}
     },
     "31ef0bd3cccb464896fb867a46bba0da": {
      "model_module": "@jupyter-widgets/base",
      "model_module_version": "1.1.0",
      "model_name": "LayoutModel",
      "state": {}
     },
     "328726b0e9714b8485c7221212c2ffa1": {
      "model_module": "@jupyter-widgets/controls",
      "model_module_version": "1.4.0",
      "model_name": "ButtonStyleModel",
      "state": {}
     },
     "32bc3e83d92a4bb6b5b8cd0ac6c3b80a": {
      "model_module": "@jupyter-widgets/controls",
      "model_module_version": "1.4.0",
      "model_name": "CheckboxModel",
      "state": {
       "description": "Print log in Notebook's cells",
       "disabled": false,
       "layout": "IPY_MODEL_7f1c2d4479e44747bd17b50d50c5f101",
       "style": "IPY_MODEL_31db3ead6b1d4e94b3b2312caa4d724d",
       "value": false
      }
     },
     "32d03516e96f46c78c4a21b6d885839c": {
      "model_module": "@jupyter-widgets/base",
      "model_module_version": "1.1.0",
      "model_name": "LayoutModel",
      "state": {}
     },
     "3303afff9b564e92945214ca09ff8e8d": {
      "model_module": "@jupyter-widgets/controls",
      "model_module_version": "1.4.0",
      "model_name": "ButtonModel",
      "state": {
       "button_style": "success",
       "description": "Start Scanning Plot",
       "layout": "IPY_MODEL_c6cc39d39cd64afeb64698892d733dbe",
       "style": "IPY_MODEL_fc301baf37d348078c90418d55de70a4",
       "tooltip": "Click me"
      }
     },
     "3311118c15fd4d9e88648539a844f3f2": {
      "model_module": "@jupyter-widgets/base",
      "model_module_version": "1.1.0",
      "model_name": "LayoutModel",
      "state": {
       "width": "300px"
      }
     },
     "3385704d73104839ad4abfb6e7a45ca5": {
      "model_module": "@jupyter-widgets/controls",
      "model_module_version": "1.4.0",
      "model_name": "ButtonModel",
      "state": {
       "button_style": "warning",
       "description": "Export Notebook to Latex",
       "layout": "IPY_MODEL_5f255407184240f1b334d501a6622491",
       "style": "IPY_MODEL_889ba261875a4435b07d88ddf21073c2",
       "tooltip": "Click me"
      }
     },
     "33c2064520fd48f79ba8df2ec0a0b77b": {
      "model_module": "@jupyter-widgets/base",
      "model_module_version": "1.1.0",
      "model_name": "LayoutModel",
      "state": {}
     },
     "3421eca57cb64df59d70bd95b79058a1": {
      "model_module": "@jupyter-widgets/base",
      "model_module_version": "1.1.0",
      "model_name": "LayoutModel",
      "state": {}
     },
     "34592316a7b44958b3de761af202c980": {
      "model_module": "@jupyter-widgets/controls",
      "model_module_version": "1.4.0",
      "model_name": "TextareaModel",
      "state": {
       "layout": "IPY_MODEL_04f0aadcc2e2458185df5b4724ca9c95",
       "placeholder": "Example: IOC:m1.DMOV IOC:m3.RBV LNLS:ANEL:corrente.VAL",
       "style": "IPY_MODEL_3bab4f94d0b845389e0716dacd2ac2be"
      }
     },
     "345957c3e40b4132ae75107405ec8ea4": {
      "model_module": "@jupyter-widgets/base",
      "model_module_version": "1.1.0",
      "model_name": "LayoutModel",
      "state": {}
     },
     "345b9c01a32a49bb982c15b26b4e0836": {
      "model_module": "@jupyter-widgets/output",
      "model_module_version": "1.0.0",
      "model_name": "OutputModel",
      "state": {
       "layout": "IPY_MODEL_a29917e66caa4c49997ec0e1d3f8e29f"
      }
     },
     "34627be744ff4907a2a6e6e3ff10c629": {
      "model_module": "@jupyter-widgets/base",
      "model_module_version": "1.1.0",
      "model_name": "LayoutModel",
      "state": {}
     },
     "348ae45950e0433e8b17d57e79c234f1": {
      "model_module": "@jupyter-widgets/controls",
      "model_module_version": "1.4.0",
      "model_name": "HBoxModel",
      "state": {
       "children": [
        "IPY_MODEL_f12ab9a0d2b243079e9b4040411395d1",
        "IPY_MODEL_f3958c072333460385b49f055b28544d"
       ],
       "layout": "IPY_MODEL_74edac7a66cd4fca9b04480858b1c741"
      }
     },
     "34cf723eeea5499db6e1746502039dff": {
      "model_module": "@jupyter-widgets/base",
      "model_module_version": "1.1.0",
      "model_name": "LayoutModel",
      "state": {}
     },
     "353b00c99b3d42aab22458dac73fead7": {
      "model_module": "@jupyter-widgets/controls",
      "model_module_version": "1.4.0",
      "model_name": "ButtonModel",
      "state": {
       "button_style": "success",
       "description": "Start PV Monitoring",
       "layout": "IPY_MODEL_2c08e29645f54307aa17289016082d70",
       "style": "IPY_MODEL_bb98fd0c82b3444d8d95a41892236f9a",
       "tooltip": "Click me"
      }
     },
     "354551cfd82d437f81cc38a70e69039c": {
      "buffers": [
       {
        "data": "AAAAAAAAAAAAAAAAAAAgQAAAAAAAAABAAAAAAAAACEAAAAAAAAAgQA==",
        "encoding": "base64",
        "path": [
         "_data",
         0,
         "y",
         "value"
        ]
       },
       {
        "data": "AAAAAAAAAAAAAAAAAAAgQAAAAAAAAABAAAAAAAAACEAAAAAAAAAgQA==",
        "encoding": "base64",
        "path": [
         "_data",
         1,
         "y",
         "value"
        ]
       }
      ],
      "model_module": "plotlywidget",
      "model_module_version": "0.8.0",
      "model_name": "FigureModel",
      "state": {
       "_config": {
        "plotlyServerURL": "https://plot.ly"
       },
       "_data": [
        {
         "mode": "lines+markers",
         "name": "line1",
         "type": "scatter",
         "uid": "6070ffc9-d8e9-43e9-9143-5824622dee5d",
         "x": [
          0,
          1,
          2,
          3,
          4
         ],
         "xaxis": "x",
         "y": {
          "dtype": "float64",
          "shape": [
           5
          ],
          "value": {}
         },
         "yaxis": "y"
        },
        {
         "mode": "lines+markers",
         "name": "line2",
         "type": "scatter",
         "uid": "ac51f4a2-6a4d-4993-97a3-92001170f2c6",
         "x": [
          0,
          1,
          2,
          3,
          4
         ],
         "xaxis": "x2",
         "y": {
          "dtype": "float64",
          "shape": [
           5
          ],
          "value": {}
         },
         "yaxis": "y2"
        }
       ],
       "_js2py_restyle": {},
       "_js2py_update": {},
       "_last_layout_edit_id": 8,
       "_last_trace_edit_id": 7,
       "_layout": {
        "autosize": true,
        "plot_bgcolor": "rgb(230, 230, 230)",
        "template": {},
        "title": {
         "text": "Scan"
        },
        "xaxis": {
         "anchor": "y",
         "domain": [
          0,
          1
         ]
        },
        "xaxis2": {
         "anchor": "y2",
         "domain": [
          0,
          1
         ]
        },
        "yaxis": {
         "anchor": "x",
         "domain": [
          0.575,
          1
         ]
        },
        "yaxis2": {
         "anchor": "x2",
         "domain": [
          0,
          0.425
         ]
        }
       },
       "_model_module_version": "0.8.0",
       "_py2js_animate": {},
       "_py2js_deleteTraces": {},
       "_py2js_moveTraces": {},
       "_py2js_removeLayoutProps": {},
       "_py2js_removeTraceProps": {},
       "_view_count": 0,
       "_view_module_version": "0.8.0"
      }
     },
     "35567be05a3a42ddafa84f712ecc43c7": {
      "model_module": "@jupyter-widgets/controls",
      "model_module_version": "1.4.0",
      "model_name": "DescriptionStyleModel",
      "state": {
       "description_width": ""
      }
     },
     "35664eed369f48d0a4c47be6e725210a": {
      "model_module": "@jupyter-widgets/controls",
      "model_module_version": "1.4.0",
      "model_name": "ButtonStyleModel",
      "state": {}
     },
     "35810739e9474ff487e6236d04fc04b4": {
      "model_module": "@jupyter-widgets/base",
      "model_module_version": "1.1.0",
      "model_name": "LayoutModel",
      "state": {}
     },
     "35c0cbf49adf4e3d9efdaa68cae00e1a": {
      "model_module": "@jupyter-widgets/output",
      "model_module_version": "1.0.0",
      "model_name": "OutputModel",
      "state": {
       "layout": "IPY_MODEL_c1ea5e39ff8d4454bca892ed13f21817"
      }
     },
     "35f9bf897cf140f29289ac8408cdaa74": {
      "model_module": "@jupyter-widgets/controls",
      "model_module_version": "1.4.0",
      "model_name": "DescriptionStyleModel",
      "state": {
       "description_width": ""
      }
     },
     "3616919f94e64d7a988d32afa054b2ed": {
      "model_module": "@jupyter-widgets/base",
      "model_module_version": "1.1.0",
      "model_name": "LayoutModel",
      "state": {
       "width": "300px"
      }
     },
     "365906f3ac554da99618f0166ffc9a7e": {
      "model_module": "@jupyter-widgets/controls",
      "model_module_version": "1.4.0",
      "model_name": "BoxModel",
      "state": {
       "layout": "IPY_MODEL_20c1b15fc1ee427396f6b2889e3126cd"
      }
     },
     "36593d6880ea40dbb4b6a161cbd886be": {
      "model_module": "@jupyter-widgets/controls",
      "model_module_version": "1.4.0",
      "model_name": "ButtonModel",
      "state": {
       "button_style": "success",
       "description": "Start Manual Alignment",
       "layout": "IPY_MODEL_3e5e65ee0ae8471a82eb0666fc929b13",
       "style": "IPY_MODEL_aa9e69cb245e4f9c85686740d239c717",
       "tooltip": "Click me"
      }
     },
     "369147f3f353420dbe2047c98a6c9eca": {
      "model_module": "@jupyter-widgets/controls",
      "model_module_version": "1.4.0",
      "model_name": "VBoxModel",
      "state": {
       "children": [
        "IPY_MODEL_a45dd53750ab4da286973f201480dedd"
       ],
       "layout": "IPY_MODEL_f9ef9eb88f1948ee8e8c9f7a29ad4e40"
      }
     },
     "36d6327971f3408488e37a66e3adc0c4": {
      "model_module": "@jupyter-widgets/base",
      "model_module_version": "1.1.0",
      "model_name": "LayoutModel",
      "state": {}
     },
     "371cce448afc4e169686734b579e15c3": {
      "model_module": "@jupyter-widgets/base",
      "model_module_version": "1.1.0",
      "model_name": "LayoutModel",
      "state": {
       "width": "300px"
      }
     },
     "37278f291a0141f4b5cf40547bd6f85c": {
      "model_module": "@jupyter-widgets/base",
      "model_module_version": "1.1.0",
      "model_name": "LayoutModel",
      "state": {}
     },
     "3731b645ddfd41ca92872400f3832cc8": {
      "model_module": "@jupyter-widgets/controls",
      "model_module_version": "1.4.0",
      "model_name": "TextareaModel",
      "state": {
       "layout": "IPY_MODEL_18d4a633dbf64f5d9cb0ce01328b8632",
       "placeholder": "Example: IOC:m1 IOC:m3 LNLS:TEST:motor_g3",
       "style": "IPY_MODEL_fab50c4a8d3b4eafa82c194adf801373"
      }
     },
     "3756701decd64c75ad795e56eb94ee96": {
      "model_module": "@jupyter-widgets/controls",
      "model_module_version": "1.4.0",
      "model_name": "LabelModel",
      "state": {
       "layout": "IPY_MODEL_ae8f1f0539fa476b928ee89423d0e729",
       "style": "IPY_MODEL_68745ead89914d1391f8fa9111249811",
       "value": "Notebook's name: "
      }
     },
     "378cf453058949bb91363d3a0776fb26": {
      "model_module": "@jupyter-widgets/base",
      "model_module_version": "1.1.0",
      "model_name": "LayoutModel",
      "state": {}
     },
     "3807cad7e96345de8491a6f32287f64e": {
      "model_module": "@jupyter-widgets/base",
      "model_module_version": "1.1.0",
      "model_name": "LayoutModel",
      "state": {}
     },
     "3827dff75e4d4a8bb833eec956d4bd57": {
      "buffers": [
       {
        "data": "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",
        "encoding": "base64",
        "path": [
         "value"
        ]
       }
      ],
      "model_module": "@jupyter-widgets/controls",
      "model_module_version": "1.4.0",
      "model_name": "ImageModel",
      "state": {
       "height": "35",
       "layout": "IPY_MODEL_84bc8dbc52a948c381e1ac20b410cf5a",
       "value": {},
       "width": "35"
      }
     },
     "382bdd479c1046d2805f4bb444c0a9e3": {
      "model_module": "@jupyter-widgets/controls",
      "model_module_version": "1.4.0",
      "model_name": "DescriptionStyleModel",
      "state": {
       "description_width": ""
      }
     },
     "382ed2dd44724b9c889a15387b2ba5d2": {
      "model_module": "@jupyter-widgets/base",
      "model_module_version": "1.1.0",
      "model_name": "LayoutModel",
      "state": {
       "width": "300px"
      }
     },
     "38566ca037164000a113a0431d7da72d": {
      "model_module": "@jupyter-widgets/base",
      "model_module_version": "1.1.0",
      "model_name": "LayoutModel",
      "state": {}
     },
     "38a74933af7c4fe4b0739a3fe235d4b2": {
      "model_module": "@jupyter-widgets/base",
      "model_module_version": "1.1.0",
      "model_name": "LayoutModel",
      "state": {}
     },
     "38aa36c57c5c47d8b173a3d8c771ab81": {
      "model_module": "@jupyter-widgets/base",
      "model_module_version": "1.1.0",
      "model_name": "LayoutModel",
      "state": {}
     },
     "38c6391239ef4101b7cbd44a788199a0": {
      "model_module": "@jupyter-widgets/base",
      "model_module_version": "1.1.0",
      "model_name": "LayoutModel",
      "state": {}
     },
     "38d76aa1155e47fab78c66321c724a8d": {
      "model_module": "@jupyter-widgets/base",
      "model_module_version": "1.1.0",
      "model_name": "LayoutModel",
      "state": {}
     },
     "38f2ffe165ea40078cb5a60e1dd80b86": {
      "model_module": "@jupyter-widgets/base",
      "model_module_version": "1.1.0",
      "model_name": "LayoutModel",
      "state": {
       "height": "40px",
       "width": "40px"
      }
     },
     "3904ed8d11b4463891b73d8fc3ca0440": {
      "model_module": "@jupyter-widgets/base",
      "model_module_version": "1.1.0",
      "model_name": "LayoutModel",
      "state": {
       "width": "300px"
      }
     },
     "393a33ba3e73478d875bbd11a81c976e": {
      "model_module": "@jupyter-widgets/base",
      "model_module_version": "1.1.0",
      "model_name": "LayoutModel",
      "state": {
       "width": "300px"
      }
     },
     "394c3fe2e17f4c8fb98fa2f243a0cae9": {
      "model_module": "@jupyter-widgets/controls",
      "model_module_version": "1.4.0",
      "model_name": "ButtonStyleModel",
      "state": {}
     },
     "39599f7bd39d495997c6402e71a7fe16": {
      "model_module": "@jupyter-widgets/base",
      "model_module_version": "1.1.0",
      "model_name": "LayoutModel",
      "state": {}
     },
     "3963167ccf8e499c92f1cdfe3c0f3ece": {
      "model_module": "@jupyter-widgets/controls",
      "model_module_version": "1.4.0",
      "model_name": "DescriptionStyleModel",
      "state": {
       "description_width": "initial"
      }
     },
     "39ccefbb955a4e97984ee2a9cc043eb3": {
      "model_module": "@jupyter-widgets/base",
      "model_module_version": "1.1.0",
      "model_name": "LayoutModel",
      "state": {}
     },
     "39f46fca217042e2bc84265e9e9f66cc": {
      "buffers": [
       {
        "data": "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",
        "encoding": "base64",
        "path": [
         "value"
        ]
       }
      ],
      "model_module": "@jupyter-widgets/controls",
      "model_module_version": "1.4.0",
      "model_name": "ImageModel",
      "state": {
       "height": "35",
       "layout": "IPY_MODEL_2385e7d1dfe04bfb87535785388833db",
       "value": {},
       "width": "35"
      }
     },
     "39f82e52f9504e488958fb835ff36df8": {
      "buffers": [
       {
        "data": "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",
        "encoding": "base64",
        "path": [
         "value"
        ]
       }
      ],
      "model_module": "@jupyter-widgets/controls",
      "model_module_version": "1.4.0",
      "model_name": "ImageModel",
      "state": {
       "height": "35",
       "layout": "IPY_MODEL_b9a3c1fe8ab54e71b0afc2f33c1d4b8e",
       "value": {},
       "width": "35"
      }
     },
     "39fc72d0b27542a9ad45cdb9f46ec83c": {
      "model_module": "@jupyter-widgets/base",
      "model_module_version": "1.1.0",
      "model_name": "LayoutModel",
      "state": {
       "width": "300px"
      }
     },
     "3a20e6964a98449c88c9826e1ed19b09": {
      "model_module": "@jupyter-widgets/base",
      "model_module_version": "1.1.0",
      "model_name": "LayoutModel",
      "state": {
       "width": "300px"
      }
     },
     "3a21e63aa02647e8845a00a9e8d4908d": {
      "model_module": "@jupyter-widgets/output",
      "model_module_version": "1.0.0",
      "model_name": "OutputModel",
      "state": {
       "layout": "IPY_MODEL_a5dddcbb8e2f42b991edc1ded100c726"
      }
     },
     "3a40e46d467442e5ba9d75717892c9cb": {
      "model_module": "@jupyter-widgets/controls",
      "model_module_version": "1.4.0",
      "model_name": "ButtonStyleModel",
      "state": {}
     },
     "3a595e37c31d4c3793ae56ce8a6d9eb5": {
      "model_module": "@jupyter-widgets/base",
      "model_module_version": "1.1.0",
      "model_name": "LayoutModel",
      "state": {}
     },
     "3ac020b0d4b642d19311c11582ca4748": {
      "model_module": "@jupyter-widgets/controls",
      "model_module_version": "1.4.0",
      "model_name": "ButtonStyleModel",
      "state": {}
     },
     "3ac5bc0c36c24c39b0c31ac3075a73c3": {
      "model_module": "@jupyter-widgets/controls",
      "model_module_version": "1.4.0",
      "model_name": "VBoxModel",
      "state": {
       "children": [
        "IPY_MODEL_d8f9a93614d449289480175facd6ece6"
       ],
       "layout": "IPY_MODEL_7b51b2c00efa49549a150a00be11a442"
      }
     },
     "3ae015dbe5e1455e92d9addb83b3e297": {
      "model_module": "@jupyter-widgets/base",
      "model_module_version": "1.1.0",
      "model_name": "LayoutModel",
      "state": {}
     },
     "3afc73a3508242ae8c4058237e84996f": {
      "model_module": "@jupyter-widgets/controls",
      "model_module_version": "1.4.0",
      "model_name": "DescriptionStyleModel",
      "state": {
       "description_width": "initial"
      }
     },
     "3b18ad052d2149098a92edfdd08d4bea": {
      "model_module": "@jupyter-widgets/base",
      "model_module_version": "1.1.0",
      "model_name": "LayoutModel",
      "state": {}
     },
     "3b262cdc9ce446c4911bf2e2a679eedd": {
      "model_module": "@jupyter-widgets/controls",
      "model_module_version": "1.4.0",
      "model_name": "DescriptionStyleModel",
      "state": {
       "description_width": ""
      }
     },
     "3b27de0b27db468bbb11742ec9933bc0": {
      "model_module": "@jupyter-widgets/controls",
      "model_module_version": "1.4.0",
      "model_name": "TextModel",
      "state": {
       "layout": "IPY_MODEL_382ed2dd44724b9c889a15387b2ba5d2",
       "placeholder": "Type the notebook's name without file format",
       "style": "IPY_MODEL_35567be05a3a42ddafa84f712ecc43c7"
      }
     },
     "3b2f6000d97f418ba717f2cc3c410877": {
      "model_module": "@jupyter-widgets/base",
      "model_module_version": "1.1.0",
      "model_name": "LayoutModel",
      "state": {}
     },
     "3b62bf9c878d4164952983529ba285a6": {
      "model_module": "@jupyter-widgets/base",
      "model_module_version": "1.1.0",
      "model_name": "LayoutModel",
      "state": {}
     },
     "3b8149f5eb9a47e2aef03860f5b9ef36": {
      "model_module": "@jupyter-widgets/controls",
      "model_module_version": "1.4.0",
      "model_name": "DescriptionStyleModel",
      "state": {
       "description_width": ""
      }
     },
     "3bab4f94d0b845389e0716dacd2ac2be": {
      "model_module": "@jupyter-widgets/controls",
      "model_module_version": "1.4.0",
      "model_name": "DescriptionStyleModel",
      "state": {
       "description_width": ""
      }
     },
     "3be7a1bd27e2484090b33d510daff57e": {
      "model_module": "@jupyter-widgets/controls",
      "model_module_version": "1.4.0",
      "model_name": "ButtonStyleModel",
      "state": {}
     },
     "3be9136c8747486f9f88964bffe81984": {
      "model_module": "@jupyter-widgets/base",
      "model_module_version": "1.1.0",
      "model_name": "LayoutModel",
      "state": {}
     },
     "3bfbbde4becc4a4fad33880cd0fdf25e": {
      "model_module": "@jupyter-widgets/base",
      "model_module_version": "1.1.0",
      "model_name": "LayoutModel",
      "state": {}
     },
     "3c5c3c21001441d8b3efd8e273014d0f": {
      "model_module": "@jupyter-widgets/base",
      "model_module_version": "1.1.0",
      "model_name": "LayoutModel",
      "state": {
       "width": "300px"
      }
     },
     "3ca246962cdd4d6cac39ae54a88bf9e7": {
      "model_module": "@jupyter-widgets/base",
      "model_module_version": "1.1.0",
      "model_name": "LayoutModel",
      "state": {
       "width": "300px"
      }
     },
     "3cd5b7fc6fba4933b50b76c337f596e1": {
      "model_module": "@jupyter-widgets/output",
      "model_module_version": "1.0.0",
      "model_name": "OutputModel",
      "state": {
       "layout": "IPY_MODEL_811438ff3a3f4cabbf946172ba80fadb"
      }
     },
     "3cf97e4b012c4fecb318f4fa2d16fd02": {
      "model_module": "@jupyter-widgets/base",
      "model_module_version": "1.1.0",
      "model_name": "LayoutModel",
      "state": {
       "width": "300px"
      }
     },
     "3d3e488280d64d92ab6c586f2a870112": {
      "model_module": "@jupyter-widgets/base",
      "model_module_version": "1.1.0",
      "model_name": "LayoutModel",
      "state": {}
     },
     "3e08aaea1bcc4e30899316666fb61966": {
      "model_module": "@jupyter-widgets/output",
      "model_module_version": "1.0.0",
      "model_name": "OutputModel",
      "state": {
       "layout": "IPY_MODEL_ce290e9c48d14c02a08b8d725308ee5e",
       "outputs": [
        {
         "data": {
          "application/javascript": "IPython.notebook.save_checkpoint();",
          "text/plain": "<IPython.core.display.Javascript object>"
         },
         "metadata": {},
         "output_type": "display_data"
        }
       ]
      }
     },
     "3e1b2a9bf0224d25ac86fe20610a76ae": {
      "model_module": "@jupyter-widgets/controls",
      "model_module_version": "1.4.0",
      "model_name": "ButtonModel",
      "state": {
       "button_style": "success",
       "description": "Start Manual Alignment",
       "layout": "IPY_MODEL_899159e229db4cbb8e4b4d64ee17bb7a",
       "style": "IPY_MODEL_6dff5491f2504ae4987193b5e5b7ea39",
       "tooltip": "Click me"
      }
     },
     "3e5e65ee0ae8471a82eb0666fc929b13": {
      "model_module": "@jupyter-widgets/base",
      "model_module_version": "1.1.0",
      "model_name": "LayoutModel",
      "state": {
       "width": "300px"
      }
     },
     "3e9910d98d5b4ade9bf67cae57bfd83a": {
      "buffers": [
       {
        "data": "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",
        "encoding": "base64",
        "path": [
         "value"
        ]
       }
      ],
      "model_module": "@jupyter-widgets/controls",
      "model_module_version": "1.4.0",
      "model_name": "ImageModel",
      "state": {
       "height": "35",
       "layout": "IPY_MODEL_016cca1739a8416fbc089de6ae54b911",
       "value": {},
       "width": "35"
      }
     },
     "3f3d0320c012453db211cc1bf273a392": {
      "model_module": "@jupyter-widgets/output",
      "model_module_version": "1.0.0",
      "model_name": "OutputModel",
      "state": {
       "layout": "IPY_MODEL_52e932e6f79f40b68cc2923bbf301fff"
      }
     },
     "3f6eac9c0b074dc1aa09bac91a03ee77": {
      "model_module": "@jupyter-widgets/controls",
      "model_module_version": "1.4.0",
      "model_name": "CheckboxModel",
      "state": {
       "description": "Print log in Notebook's cells",
       "disabled": false,
       "layout": "IPY_MODEL_44acf697a1b146c3aca2734a1f0bf94b",
       "style": "IPY_MODEL_6c877ff2aa794ade984b9e29b90d5164",
       "value": false
      }
     },
     "3f7724ae99434b1e82c667b31a134a0f": {
      "model_module": "@jupyter-widgets/controls",
      "model_module_version": "1.4.0",
      "model_name": "ButtonStyleModel",
      "state": {}
     },
     "3f82afaf7daa4d46880f0124000d6f9b": {
      "model_module": "@jupyter-widgets/controls",
      "model_module_version": "1.4.0",
      "model_name": "DescriptionStyleModel",
      "state": {
       "description_width": ""
      }
     },
     "3f8b99552de0496da27627b95d1db22e": {
      "model_module": "@jupyter-widgets/controls",
      "model_module_version": "1.4.0",
      "model_name": "DropdownModel",
      "state": {
       "_options_labels": [
        "Plot after ends with PyQt",
        "Plot after ends with Plotly",
        "Live Plot"
       ],
       "index": 0,
       "layout": "IPY_MODEL_cec2cf250c0f4fed95899ce27872b21a",
       "style": "IPY_MODEL_b763cb7d054240179b44824ddbb06461"
      }
     },
     "3fa4c70defcc457fa2d3d7bc0b169714": {
      "model_module": "@jupyter-widgets/base",
      "model_module_version": "1.1.0",
      "model_name": "LayoutModel",
      "state": {}
     },
     "3fe3cfdb6554464882f7dfec4cfdcf76": {
      "model_module": "@jupyter-widgets/base",
      "model_module_version": "1.1.0",
      "model_name": "LayoutModel",
      "state": {}
     },
     "40005acaa6f44414bde36e2b63575cd9": {
      "model_module": "@jupyter-widgets/base",
      "model_module_version": "1.1.0",
      "model_name": "LayoutModel",
      "state": {}
     },
     "40260c6271d44327831134b433f41c0d": {
      "model_module": "@jupyter-widgets/output",
      "model_module_version": "1.0.0",
      "model_name": "OutputModel",
      "state": {
       "layout": "IPY_MODEL_5a78ad1280ce4b97bc1583ccbfe93d33"
      }
     },
     "403c5471284945ef90947260fb6211e0": {
      "model_module": "@jupyter-widgets/controls",
      "model_module_version": "1.4.0",
      "model_name": "ButtonModel",
      "state": {
       "button_style": "success",
       "description": "Start Manual Alignment",
       "layout": "IPY_MODEL_969f4260ef214d1480a9d335b7c75270",
       "style": "IPY_MODEL_e7d305594fa64b349a4ed5f851ccc3af",
       "tooltip": "Click me"
      }
     },
     "4042411666d34f3a8ce77a62d37f2847": {
      "model_module": "@jupyter-widgets/base",
      "model_module_version": "1.1.0",
      "model_name": "LayoutModel",
      "state": {}
     },
     "405ba7f9fe2b4596836b3c9ae8a4f669": {
      "model_module": "@jupyter-widgets/output",
      "model_module_version": "1.0.0",
      "model_name": "OutputModel",
      "state": {
       "layout": "IPY_MODEL_7d7c59a9557b4f0c884c6c01cb9ea1c9"
      }
     },
     "40c9afb382aa40a1844b63b8895cdbec": {
      "model_module": "@jupyter-widgets/base",
      "model_module_version": "1.1.0",
      "model_name": "LayoutModel",
      "state": {}
     },
     "40eb072343884e23859495a825639386": {
      "model_module": "@jupyter-widgets/controls",
      "model_module_version": "1.4.0",
      "model_name": "LabelModel",
      "state": {
       "layout": "IPY_MODEL_6b7238cf0efc40ae9d2783079bbb39bf",
       "style": "IPY_MODEL_f62e3aadb20345fc989e0d55f5672614",
       "value": "No motors initilized to be showed."
      }
     },
     "41170fe9a2784a02987b548cb6d75d36": {
      "model_module": "@jupyter-widgets/controls",
      "model_module_version": "1.4.0",
      "model_name": "ButtonModel",
      "state": {
       "button_style": "danger",
       "description": "Stop Scanning Plot",
       "layout": "IPY_MODEL_29b185d0f25c4e21afd1fded99e18356",
       "style": "IPY_MODEL_579f48dc9e374619b923e014fe3fd81c",
       "tooltip": "Click me"
      }
     },
     "411b1f88387a4f94a32d2c30151c92b0": {
      "model_module": "@jupyter-widgets/base",
      "model_module_version": "1.1.0",
      "model_name": "LayoutModel",
      "state": {}
     },
     "414f6d13d6464516a410cc35a5644375": {
      "model_module": "@jupyter-widgets/base",
      "model_module_version": "1.1.0",
      "model_name": "LayoutModel",
      "state": {}
     },
     "415e9f238a3a4103b8e4673ee7ddd372": {
      "model_module": "@jupyter-widgets/base",
      "model_module_version": "1.1.0",
      "model_name": "LayoutModel",
      "state": {
       "width": "300px"
      }
     },
     "416bb99fae474909b305af4aec0897b4": {
      "model_module": "@jupyter-widgets/output",
      "model_module_version": "1.0.0",
      "model_name": "OutputModel",
      "state": {
       "layout": "IPY_MODEL_4b8ebb03aab44556ad8575f80f7f51b1"
      }
     },
     "4174e46852be4c4984b84496a9bfd1df": {
      "model_module": "@jupyter-widgets/controls",
      "model_module_version": "1.4.0",
      "model_name": "TextModel",
      "state": {
       "layout": "IPY_MODEL_7420f1acc5eb43399b3d7ebc6935a4f2",
       "placeholder": "Type the notebook's name without file format",
       "style": "IPY_MODEL_758a6b9ebde84821880693ca5fabcb17",
       "value": "laser-beam-alignment"
      }
     },
     "417e9f4184594e388c2266ea7c115ca4": {
      "model_module": "@jupyter-widgets/base",
      "model_module_version": "1.1.0",
      "model_name": "LayoutModel",
      "state": {}
     },
     "41cf98714dd746868ec7f5ab2c42ebb2": {
      "model_module": "@jupyter-widgets/controls",
      "model_module_version": "1.4.0",
      "model_name": "ButtonModel",
      "state": {
       "button_style": "success",
       "description": "Start Manual Alignment",
       "layout": "IPY_MODEL_b1dc00f342294a5ab5c3421467882edd",
       "style": "IPY_MODEL_fc7406f5838d43379015940e8241919e",
       "tooltip": "Click me"
      }
     },
     "41dcf798973843a5b30a6ffafcf15180": {
      "model_module": "@jupyter-widgets/base",
      "model_module_version": "1.1.0",
      "model_name": "LayoutModel",
      "state": {}
     },
     "41ee64e062b941fc899d1a14e5a28579": {
      "model_module": "@jupyter-widgets/base",
      "model_module_version": "1.1.0",
      "model_name": "LayoutModel",
      "state": {}
     },
     "421d1ebbcc0c4b2187c2eb825ccdce36": {
      "buffers": [
       {
        "data": "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",
        "encoding": "base64",
        "path": [
         "value"
        ]
       }
      ],
      "model_module": "@jupyter-widgets/controls",
      "model_module_version": "1.4.0",
      "model_name": "ImageModel",
      "state": {
       "height": "35",
       "layout": "IPY_MODEL_4898172636fb4512aa509d053e4b3778",
       "value": {},
       "width": "35"
      }
     },
     "42800dbddfab4571b0c55a450806a7bf": {
      "model_module": "@jupyter-widgets/controls",
      "model_module_version": "1.4.0",
      "model_name": "ButtonStyleModel",
      "state": {}
     },
     "42864e3b1b8e494d8e6a627a5dc6c2e3": {
      "model_module": "@jupyter-widgets/controls",
      "model_module_version": "1.4.0",
      "model_name": "VBoxModel",
      "state": {
       "children": [
        "IPY_MODEL_771242d7a3c24087bcb9cc3395c9b136"
       ],
       "layout": "IPY_MODEL_5b5616751a3247539ca3b003c110f778"
      }
     },
     "429a6cf3444a4062aa2cd74e8d02ddc7": {
      "model_module": "@jupyter-widgets/controls",
      "model_module_version": "1.4.0",
      "model_name": "BoxModel",
      "state": {
       "children": [
        "IPY_MODEL_dd14b41b416f4c4e8026d8bd2d21ccfd"
       ],
       "layout": "IPY_MODEL_7741126555cc417dbfd82f19c1a046ae"
      }
     },
     "429d078614b944f5aab1bcf734d30306": {
      "model_module": "@jupyter-widgets/base",
      "model_module_version": "1.1.0",
      "model_name": "LayoutModel",
      "state": {}
     },
     "42ad5962093345a4a8511024ea9f3c7b": {
      "model_module": "@jupyter-widgets/controls",
      "model_module_version": "1.4.0",
      "model_name": "LabelModel",
      "state": {
       "layout": "IPY_MODEL_31eb7a250d1f4c74802744407efbc7fc",
       "style": "IPY_MODEL_1bab958e1ca54106afadc2f4f0bfb6d9",
       "value": "No motors initilized to be showed."
      }
     },
     "42d9acf31a3d4727bc78dbfdfd5040fe": {
      "model_module": "@jupyter-widgets/base",
      "model_module_version": "1.1.0",
      "model_name": "LayoutModel",
      "state": {}
     },
     "4303277b9e81495f862258f72e34df66": {
      "model_module": "@jupyter-widgets/controls",
      "model_module_version": "1.4.0",
      "model_name": "ButtonModel",
      "state": {
       "button_style": "success",
       "description": "Start Scanning Plot",
       "layout": "IPY_MODEL_be222674f0774fd39e0c2708a6e4ec33",
       "style": "IPY_MODEL_b0feb67a9f4d453da11880a6c9c19640",
       "tooltip": "Click me"
      }
     },
     "434812c10ecb4d8daa681c26208637e7": {
      "model_module": "@jupyter-widgets/base",
      "model_module_version": "1.1.0",
      "model_name": "LayoutModel",
      "state": {}
     },
     "4354f1df9f024fc9868e07f5e8dce6d3": {
      "model_module": "@jupyter-widgets/base",
      "model_module_version": "1.1.0",
      "model_name": "LayoutModel",
      "state": {}
     },
     "43beff9f5cfb4ebbad5507cccc072ba9": {
      "model_module": "@jupyter-widgets/controls",
      "model_module_version": "1.4.0",
      "model_name": "DescriptionStyleModel",
      "state": {
       "description_width": ""
      }
     },
     "43ceed9e1c7c4a51970cc60dbd726614": {
      "model_module": "@jupyter-widgets/base",
      "model_module_version": "1.1.0",
      "model_name": "LayoutModel",
      "state": {}
     },
     "43d4c6271ddf4a329038aafc246d7ec6": {
      "model_module": "@jupyter-widgets/controls",
      "model_module_version": "1.4.0",
      "model_name": "VBoxModel",
      "state": {
       "children": [
        "IPY_MODEL_8ce35b1b9f474b0b870e6a3aeffadde2"
       ],
       "layout": "IPY_MODEL_de814c50dc744ad4b1dc9bfb09b8ee5e"
      }
     },
     "43ecba32baf34c7e95b1909519765d2d": {
      "model_module": "@jupyter-widgets/output",
      "model_module_version": "1.0.0",
      "model_name": "OutputModel",
      "state": {
       "layout": "IPY_MODEL_4b4f5678e72d40caa00b6edd25d82e6c"
      }
     },
     "4401b3c703c14ae3941f508ac4a605c4": {
      "model_module": "@jupyter-widgets/base",
      "model_module_version": "1.1.0",
      "model_name": "LayoutModel",
      "state": {}
     },
     "4481c58cb3c749908497b0f79be333a1": {
      "model_module": "@jupyter-widgets/controls",
      "model_module_version": "1.4.0",
      "model_name": "CheckboxModel",
      "state": {
       "description": "Plot with Plotly after scan ends: ",
       "disabled": false,
       "layout": "IPY_MODEL_8a243e9d92094de0bf842aaf144e81f4",
       "style": "IPY_MODEL_e8215106b9594ed8929f1d42b5f2c23b",
       "value": false
      }
     },
     "44acf697a1b146c3aca2734a1f0bf94b": {
      "model_module": "@jupyter-widgets/base",
      "model_module_version": "1.1.0",
      "model_name": "LayoutModel",
      "state": {}
     },
     "44c20b55bb5f44caaed6b0826ccb3dbb": {
      "model_module": "@jupyter-widgets/controls",
      "model_module_version": "1.4.0",
      "model_name": "ButtonModel",
      "state": {
       "button_style": "success",
       "description": "Start Manual Alignment",
       "layout": "IPY_MODEL_1061690dba394f378a1d2f8c311d895e",
       "style": "IPY_MODEL_06a47edc44d04236b16f2cb30122f886",
       "tooltip": "Click me"
      }
     },
     "44dd1f93d32c4d6192a7d9fd32506892": {
      "model_module": "@jupyter-widgets/base",
      "model_module_version": "1.1.0",
      "model_name": "LayoutModel",
      "state": {}
     },
     "450c6e46e1994697a784fe0528e25261": {
      "model_module": "@jupyter-widgets/base",
      "model_module_version": "1.1.0",
      "model_name": "LayoutModel",
      "state": {}
     },
     "458b8ead49534a369d16b9a199200911": {
      "model_module": "@jupyter-widgets/base",
      "model_module_version": "1.1.0",
      "model_name": "LayoutModel",
      "state": {
       "width": "300px"
      }
     },
     "45a465cc1b2f43e483e3848740515b47": {
      "model_module": "@jupyter-widgets/base",
      "model_module_version": "1.1.0",
      "model_name": "LayoutModel",
      "state": {}
     },
     "46084b84600446b9a91d6de3bee5ea24": {
      "model_module": "@jupyter-widgets/base",
      "model_module_version": "1.1.0",
      "model_name": "LayoutModel",
      "state": {
       "width": "300px"
      }
     },
     "461c619e7be340a38aac3a83039658e9": {
      "model_module": "@jupyter-widgets/output",
      "model_module_version": "1.0.0",
      "model_name": "OutputModel",
      "state": {
       "layout": "IPY_MODEL_f76dbf51ceda4ed5a26470d4b3cb3595"
      }
     },
     "46262439ed88446ba17579edec1b9159": {
      "model_module": "@jupyter-widgets/controls",
      "model_module_version": "1.4.0",
      "model_name": "CheckboxModel",
      "state": {
       "description": "Plot with PyQtGraph after scan ends: ",
       "disabled": false,
       "layout": "IPY_MODEL_1baee7f4e4d04e49a715ffad43baacce",
       "style": "IPY_MODEL_b4202dd70f8c492f91585d05e713d205",
       "value": true
      }
     },
     "4650ebd253d24a578a6dac00b28fd126": {
      "model_module": "@jupyter-widgets/controls",
      "model_module_version": "1.4.0",
      "model_name": "BoxModel",
      "state": {
       "children": [
        "IPY_MODEL_a861ee4f76ff496d9a64d2ff32ada97c"
       ],
       "layout": "IPY_MODEL_27bd55c3ed654b1d9cfe98e2859c136a"
      }
     },
     "467b81bdba7b4a6d87f3caf83df32516": {
      "model_module": "@jupyter-widgets/controls",
      "model_module_version": "1.4.0",
      "model_name": "DescriptionStyleModel",
      "state": {
       "description_width": ""
      }
     },
     "46bd8ffd3d9e42db97a09b9635baf3ab": {
      "model_module": "@jupyter-widgets/output",
      "model_module_version": "1.0.0",
      "model_name": "OutputModel",
      "state": {
       "layout": "IPY_MODEL_865f5a1c58b84e3c8f4674f54f0545e7",
       "outputs": [
        {
         "data": {
          "application/javascript": "IPython.notebook.save_checkpoint();",
          "text/plain": "<IPython.core.display.Javascript object>"
         },
         "metadata": {},
         "output_type": "display_data"
        },
        {
         "name": "stdout",
         "output_type": "stream",
         "text": "exporting\nnot exporting\n"
        }
       ]
      }
     },
     "46e13c9dfe084354b14998bd6e212be2": {
      "model_module": "@jupyter-widgets/base",
      "model_module_version": "1.1.0",
      "model_name": "LayoutModel",
      "state": {}
     },
     "46f437d2b5594fd99172fe053273c5f8": {
      "model_module": "@jupyter-widgets/controls",
      "model_module_version": "1.4.0",
      "model_name": "BoxModel",
      "state": {
       "layout": "IPY_MODEL_fa66a1d49a94468c984b33287c391741"
      }
     },
     "470f7c2c4cd24b2689cb1587b0a3a50c": {
      "model_module": "@jupyter-widgets/controls",
      "model_module_version": "1.4.0",
      "model_name": "LabelModel",
      "state": {
       "layout": "IPY_MODEL_27ac837c535e490b9c705d4e49341411",
       "style": "IPY_MODEL_fb8d2a448f5448f3bac9456a80be973a",
       "value": "No motors initilized to be showed."
      }
     },
     "473a48f3d2444828943ca9b35aa0dd3b": {
      "model_module": "@jupyter-widgets/output",
      "model_module_version": "1.0.0",
      "model_name": "OutputModel",
      "state": {
       "layout": "IPY_MODEL_5877ce897a4b491990f921389dd39a9f",
       "msg_id": "e42c83f82ee0405c87b08465a7385c10"
      }
     },
     "47ba1a71d56a4d5f95c7f73ac5fc8f11": {
      "model_module": "@jupyter-widgets/controls",
      "model_module_version": "1.4.0",
      "model_name": "DescriptionStyleModel",
      "state": {
       "description_width": ""
      }
     },
     "47be5c08044f4f6aaf9155c31ab98b86": {
      "model_module": "@jupyter-widgets/output",
      "model_module_version": "1.0.0",
      "model_name": "OutputModel",
      "state": {
       "layout": "IPY_MODEL_105aec7b1e6b4e98acba7777505b8f84"
      }
     },
     "47ea89c21a674eb79c14212ba9470774": {
      "model_module": "@jupyter-widgets/controls",
      "model_module_version": "1.4.0",
      "model_name": "ButtonStyleModel",
      "state": {}
     },
     "47eaee26335d42888d100000b4e13ae2": {
      "model_module": "@jupyter-widgets/controls",
      "model_module_version": "1.4.0",
      "model_name": "CheckboxModel",
      "state": {
       "description": "Plot with Plotly after scan ends: ",
       "disabled": true,
       "layout": "IPY_MODEL_87beab8942764d4fb84ea34aab67d431",
       "style": "IPY_MODEL_d7e3efaa4f01426f8a51e5b9dff751f5",
       "value": false
      }
     },
     "47f78ee798d24f2791107c8d6a93ff40": {
      "model_module": "@jupyter-widgets/base",
      "model_module_version": "1.1.0",
      "model_name": "LayoutModel",
      "state": {}
     },
     "4837f2ec1ee34db8bd677d5509111074": {
      "model_module": "@jupyter-widgets/controls",
      "model_module_version": "1.4.0",
      "model_name": "DescriptionStyleModel",
      "state": {
       "description_width": "initial"
      }
     },
     "4843ac71139047a989fd5a18a9c6dcb9": {
      "model_module": "@jupyter-widgets/controls",
      "model_module_version": "1.4.0",
      "model_name": "LabelModel",
      "state": {
       "layout": "IPY_MODEL_d653c296c1e444fea1f1e47524d79cc4",
       "style": "IPY_MODEL_5d087fa519174b87bf75d1629ed4d273",
       "value": "Notebook's name: "
      }
     },
     "4856bccdd1114712a0f914739a16d9fe": {
      "model_module": "@jupyter-widgets/base",
      "model_module_version": "1.1.0",
      "model_name": "LayoutModel",
      "state": {
       "width": "300px"
      }
     },
     "486098e34114499183d5132c2db6a3c7": {
      "model_module": "@jupyter-widgets/output",
      "model_module_version": "1.0.0",
      "model_name": "OutputModel",
      "state": {
       "layout": "IPY_MODEL_f652ef1c65644aaba0e0789b36f8cc5b"
      }
     },
     "4877b70e8bda40959d398c3f42c726b9": {
      "model_module": "@jupyter-widgets/controls",
      "model_module_version": "1.4.0",
      "model_name": "DescriptionStyleModel",
      "state": {
       "description_width": "initial"
      }
     },
     "48926daa70314584aa992af4b6718ff5": {
      "model_module": "@jupyter-widgets/base",
      "model_module_version": "1.1.0",
      "model_name": "LayoutModel",
      "state": {}
     },
     "4898172636fb4512aa509d053e4b3778": {
      "model_module": "@jupyter-widgets/base",
      "model_module_version": "1.1.0",
      "model_name": "LayoutModel",
      "state": {}
     },
     "48cf50ff2752489baddede7412e26cb8": {
      "model_module": "@jupyter-widgets/controls",
      "model_module_version": "1.4.0",
      "model_name": "DescriptionStyleModel",
      "state": {
       "description_width": "initial"
      }
     },
     "49600c7bd0b143f9b27ee8b1f1ab9df2": {
      "model_module": "@jupyter-widgets/output",
      "model_module_version": "1.0.0",
      "model_name": "OutputModel",
      "state": {
       "layout": "IPY_MODEL_9bcc4cae91a642f49959042e3c228a0c"
      }
     },
     "498d41cecd6f4255a9e2384d167cb6f0": {
      "model_module": "@jupyter-widgets/base",
      "model_module_version": "1.1.0",
      "model_name": "LayoutModel",
      "state": {
       "width": "300px"
      }
     },
     "499325ef2dac4526a16c973181bebbc9": {
      "model_module": "@jupyter-widgets/base",
      "model_module_version": "1.1.0",
      "model_name": "LayoutModel",
      "state": {}
     },
     "49c7a3bab93a40c98fd1e0de099da812": {
      "model_module": "@jupyter-widgets/controls",
      "model_module_version": "1.4.0",
      "model_name": "TextModel",
      "state": {
       "layout": "IPY_MODEL_896915b5ea044cc7963c1685ec6c5800",
       "placeholder": "Type the notebook's name without file format",
       "style": "IPY_MODEL_ac13c5cf87eb436fa6f213147f3b0366"
      }
     },
     "49e81a3b21da4b49ab602325779025b6": {
      "model_module": "@jupyter-widgets/base",
      "model_module_version": "1.1.0",
      "model_name": "LayoutModel",
      "state": {
       "width": "300px"
      }
     },
     "4a0c320818c64a1e8dee82d84a19ee55": {
      "model_module": "@jupyter-widgets/controls",
      "model_module_version": "1.4.0",
      "model_name": "CheckboxModel",
      "state": {
       "description": "Print log in Notebook's cells",
       "disabled": false,
       "layout": "IPY_MODEL_7a2420e3993d4a289650f09bdb203c7a",
       "style": "IPY_MODEL_093f619cd36a417fbd36d9a3b62c9a37",
       "value": true
      }
     },
     "4a3adee000034670ac9f3cc89575d1ba": {
      "model_module": "@jupyter-widgets/base",
      "model_module_version": "1.1.0",
      "model_name": "LayoutModel",
      "state": {}
     },
     "4a46a1abe9314b2da15b4cedba095aae": {
      "buffers": [
       {
        "data": "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",
        "encoding": "base64",
        "path": [
         "value"
        ]
       }
      ],
      "model_module": "@jupyter-widgets/controls",
      "model_module_version": "1.4.0",
      "model_name": "ImageModel",
      "state": {
       "height": "35",
       "layout": "IPY_MODEL_499325ef2dac4526a16c973181bebbc9",
       "value": {},
       "width": "35"
      }
     },
     "4b0a7c46974d4946b9432b28a31e6eab": {
      "model_module": "@jupyter-widgets/base",
      "model_module_version": "1.1.0",
      "model_name": "LayoutModel",
      "state": {}
     },
     "4b1cebc4a3c8436893e69594f4477f56": {
      "model_module": "@jupyter-widgets/base",
      "model_module_version": "1.1.0",
      "model_name": "LayoutModel",
      "state": {
       "width": "300px"
      }
     },
     "4b47b733caf042528e02f45a00bb7895": {
      "model_module": "@jupyter-widgets/base",
      "model_module_version": "1.1.0",
      "model_name": "LayoutModel",
      "state": {}
     },
     "4b4f5678e72d40caa00b6edd25d82e6c": {
      "model_module": "@jupyter-widgets/base",
      "model_module_version": "1.1.0",
      "model_name": "LayoutModel",
      "state": {}
     },
     "4b511d1537874592aa853d0471b2a6ce": {
      "model_module": "@jupyter-widgets/base",
      "model_module_version": "1.1.0",
      "model_name": "LayoutModel",
      "state": {
       "height": "40px",
       "width": "40px"
      }
     },
     "4b52c18427654e528e78c0a8ba320361": {
      "model_module": "@jupyter-widgets/controls",
      "model_module_version": "1.4.0",
      "model_name": "ButtonModel",
      "state": {
       "button_style": "warning",
       "description": "Export Notebook to HTML",
       "layout": "IPY_MODEL_04f4735441124d3580baec0f4183f960",
       "style": "IPY_MODEL_e71bcc9796e3499cb06abc28ece026d2",
       "tooltip": "Click me"
      }
     },
     "4b8477ca25bf407b81cf59e2256cdffc": {
      "model_module": "@jupyter-widgets/controls",
      "model_module_version": "1.4.0",
      "model_name": "BoxModel",
      "state": {
       "children": [
        "IPY_MODEL_39f46fca217042e2bc84265e9e9f66cc"
       ],
       "layout": "IPY_MODEL_bb7978133de24a6d805b209bcb559af2"
      }
     },
     "4b8ebb03aab44556ad8575f80f7f51b1": {
      "model_module": "@jupyter-widgets/base",
      "model_module_version": "1.1.0",
      "model_name": "LayoutModel",
      "state": {}
     },
     "4b947aa46fee4ed68dd16f4fc1c1c129": {
      "model_module": "@jupyter-widgets/controls",
      "model_module_version": "1.4.0",
      "model_name": "VBoxModel",
      "state": {
       "children": [
        "IPY_MODEL_ef42b91de11c4e9983857991f598cafe"
       ],
       "layout": "IPY_MODEL_113c55c9a7d74942aae57d9e24f36864"
      }
     },
     "4ba2e21794a845b0b214bcc147c14ea2": {
      "model_module": "@jupyter-widgets/base",
      "model_module_version": "1.1.0",
      "model_name": "LayoutModel",
      "state": {}
     },
     "4c2c0983481d42e4a022fb5948a675a7": {
      "model_module": "@jupyter-widgets/base",
      "model_module_version": "1.1.0",
      "model_name": "LayoutModel",
      "state": {}
     },
     "4c7214ddfd6b4132bd3abc5ff4f87139": {
      "model_module": "@jupyter-widgets/controls",
      "model_module_version": "1.4.0",
      "model_name": "DescriptionStyleModel",
      "state": {
       "description_width": "initial"
      }
     },
     "4cae5906bb0f402db4cb074227f58c43": {
      "model_module": "@jupyter-widgets/output",
      "model_module_version": "1.0.0",
      "model_name": "OutputModel",
      "state": {
       "layout": "IPY_MODEL_d1610146850e45af828dbb1b2382c0c7"
      }
     },
     "4cf13fbaca854586902cf41ca9670ecc": {
      "model_module": "@jupyter-widgets/base",
      "model_module_version": "1.1.0",
      "model_name": "LayoutModel",
      "state": {
       "width": "300px"
      }
     },
     "4d2b0e1c344a4ef4b29145e1318347de": {
      "model_module": "@jupyter-widgets/controls",
      "model_module_version": "1.4.0",
      "model_name": "ButtonModel",
      "state": {
       "button_style": "warning",
       "description": "Export Notebook to HTML",
       "layout": "IPY_MODEL_6e2622485f3c441098647e079866ea5e",
       "style": "IPY_MODEL_4fc6eab5824941f9a36519ff683df2f6",
       "tooltip": "Click me"
      }
     },
     "4d30ae3cbbd2497c9d36421366d9677c": {
      "model_module": "@jupyter-widgets/base",
      "model_module_version": "1.1.0",
      "model_name": "LayoutModel",
      "state": {}
     },
     "4d3e7bfbdf454936b4d00f84af2fa04a": {
      "model_module": "@jupyter-widgets/base",
      "model_module_version": "1.1.0",
      "model_name": "LayoutModel",
      "state": {
       "height": "40px",
       "width": "40px"
      }
     },
     "4d4354b18a404148b6525f5a5a5682e3": {
      "model_module": "@jupyter-widgets/controls",
      "model_module_version": "1.4.0",
      "model_name": "DescriptionStyleModel",
      "state": {
       "description_width": ""
      }
     },
     "4d83e7cbad8a42e5b158de6b0746e901": {
      "model_module": "@jupyter-widgets/controls",
      "model_module_version": "1.4.0",
      "model_name": "DescriptionStyleModel",
      "state": {
       "description_width": ""
      }
     },
     "4d8ea6a5e8c6458b99d4346725a7c9de": {
      "model_module": "@jupyter-widgets/controls",
      "model_module_version": "1.4.0",
      "model_name": "LabelModel",
      "state": {
       "layout": "IPY_MODEL_bca5d9cd18ce47cfac96e4bb1aee51c2",
       "style": "IPY_MODEL_f35d1d212ff840e9898d96f5cf286996",
       "value": "Notebook's name: "
      }
     },
     "4dd195f8df37435ba3bd9b55359fa2f1": {
      "model_module": "@jupyter-widgets/base",
      "model_module_version": "1.1.0",
      "model_name": "LayoutModel",
      "state": {
       "width": "300px"
      }
     },
     "4de383cecd82479596795d735f48b9fc": {
      "model_module": "plotlywidget",
      "model_module_version": "0.8.0",
      "model_name": "FigureModel",
      "state": {
       "_config": {
        "plotlyServerURL": "https://plot.ly"
       },
       "_js2py_layoutDelta": {},
       "_js2py_pointsCallback": {},
       "_js2py_relayout": {},
       "_js2py_restyle": {},
       "_js2py_traceDeltas": {},
       "_js2py_update": {},
       "_layout": {
        "template": {}
       },
       "_model_module_version": "0.8.0",
       "_py2js_addTraces": {},
       "_py2js_animate": {},
       "_py2js_deleteTraces": {},
       "_py2js_moveTraces": {},
       "_py2js_removeLayoutProps": {},
       "_py2js_removeTraceProps": {},
       "_py2js_restyle": {},
       "_py2js_update": {},
       "_view_count": 0,
       "_view_module_version": "0.8.0"
      }
     },
     "4e01f9046d8b4e0b89983e4303dacf62": {
      "model_module": "@jupyter-widgets/controls",
      "model_module_version": "1.4.0",
      "model_name": "ButtonModel",
      "state": {
       "button_style": "warning",
       "description": "Export Notebook to HTML",
       "layout": "IPY_MODEL_16797df53c604f56a05b001ed99fd614",
       "style": "IPY_MODEL_dfcfa7d3e01146619c97792f88e80891",
       "tooltip": "Click me"
      }
     },
     "4e146c7c307b4dc7bd53c05a726a5b9a": {
      "model_module": "@jupyter-widgets/controls",
      "model_module_version": "1.4.0",
      "model_name": "DescriptionStyleModel",
      "state": {
       "description_width": ""
      }
     },
     "4ecdcddef7d5410e8c70001cc0bbeeb2": {
      "model_module": "@jupyter-widgets/controls",
      "model_module_version": "1.4.0",
      "model_name": "CheckboxModel",
      "state": {
       "description": "Print log in Notebook's cells",
       "disabled": false,
       "layout": "IPY_MODEL_0b682c0cdf2f40f9a5bc3a5f47ae6c9a",
       "style": "IPY_MODEL_0c5ecfd5bd8f4bb6a7550c91264437d0",
       "value": false
      }
     },
     "4edbd200d9804170a93715bb6499dc91": {
      "model_module": "@jupyter-widgets/base",
      "model_module_version": "1.1.0",
      "model_name": "LayoutModel",
      "state": {
       "width": "300px"
      }
     },
     "4ee4a80fcb854e7db87d7042f0cc52eb": {
      "model_module": "@jupyter-widgets/base",
      "model_module_version": "1.1.0",
      "model_name": "LayoutModel",
      "state": {}
     },
     "4f2f71c52b0f48f99d3121516d38a50f": {
      "model_module": "@jupyter-widgets/controls",
      "model_module_version": "1.4.0",
      "model_name": "DescriptionStyleModel",
      "state": {
       "description_width": "initial"
      }
     },
     "4f79db05c0054e77b7082b0065367b45": {
      "model_module": "@jupyter-widgets/base",
      "model_module_version": "1.1.0",
      "model_name": "LayoutModel",
      "state": {}
     },
     "4fb544d5198240d5b8e98b52784241a3": {
      "model_module": "@jupyter-widgets/controls",
      "model_module_version": "1.4.0",
      "model_name": "ButtonModel",
      "state": {
       "button_style": "warning",
       "description": "Export Notebook to Latex",
       "layout": "IPY_MODEL_ee0bcb51917740309fa37097ea0ae5ae",
       "style": "IPY_MODEL_394c3fe2e17f4c8fb98fa2f243a0cae9",
       "tooltip": "Click me"
      }
     },
     "4fc6eab5824941f9a36519ff683df2f6": {
      "model_module": "@jupyter-widgets/controls",
      "model_module_version": "1.4.0",
      "model_name": "ButtonStyleModel",
      "state": {}
     },
     "4fd2cdfbd1b244409861c761fb33e512": {
      "model_module": "@jupyter-widgets/base",
      "model_module_version": "1.1.0",
      "model_name": "LayoutModel",
      "state": {}
     },
     "4fed8e5a7d81453da2930fedfd45d664": {
      "model_module": "@jupyter-widgets/base",
      "model_module_version": "1.1.0",
      "model_name": "LayoutModel",
      "state": {
       "width": "300px"
      }
     },
     "50073482360d48cca29b9a9b57df1173": {
      "model_module": "@jupyter-widgets/controls",
      "model_module_version": "1.4.0",
      "model_name": "CheckboxModel",
      "state": {
       "description": "Print log in Notebook's cells",
       "disabled": false,
       "layout": "IPY_MODEL_6812ce60817c461f9f23eeb08c61de4c",
       "style": "IPY_MODEL_82d968aedb3c42f382c1e1e7fe1621d5",
       "value": false
      }
     },
     "50173518d9b94170b46188ebbd504974": {
      "model_module": "@jupyter-widgets/controls",
      "model_module_version": "1.4.0",
      "model_name": "ButtonStyleModel",
      "state": {}
     },
     "50659da9c25b4b13b88de93944a9c09f": {
      "model_module": "@jupyter-widgets/base",
      "model_module_version": "1.1.0",
      "model_name": "LayoutModel",
      "state": {}
     },
     "509af17da7e14f5f88ee77d51f145fde": {
      "model_module": "@jupyter-widgets/base",
      "model_module_version": "1.1.0",
      "model_name": "LayoutModel",
      "state": {}
     },
     "50adecaecbb14adbb50e0a12acab1ec1": {
      "model_module": "@jupyter-widgets/base",
      "model_module_version": "1.1.0",
      "model_name": "LayoutModel",
      "state": {}
     },
     "50b3cc5d6d8f4fb1ad90bc110c7be054": {
      "model_module": "@jupyter-widgets/output",
      "model_module_version": "1.0.0",
      "model_name": "OutputModel",
      "state": {
       "layout": "IPY_MODEL_02ec8b86aceb4d9198d909386a5ba7e5"
      }
     },
     "50ba36e39303489299cdd957dc99f09c": {
      "model_module": "@jupyter-widgets/controls",
      "model_module_version": "1.4.0",
      "model_name": "ButtonModel",
      "state": {
       "button_style": "success",
       "description": "Start Motor Initializaton",
       "layout": "IPY_MODEL_6f8eb7bf7fd84c7989ec66f44ee8713b",
       "style": "IPY_MODEL_0b8587220d0847dab534b07da50992ed",
       "tooltip": "Click me"
      }
     },
     "50c43f5db151424da49790bd91fe3e74": {
      "model_module": "@jupyter-widgets/controls",
      "model_module_version": "1.4.0",
      "model_name": "VBoxModel",
      "state": {
       "children": [
        "IPY_MODEL_c2b312335b57458b8db7fd34db654604"
       ],
       "layout": "IPY_MODEL_1c6eabcb3c68457dada52353ab594450"
      }
     },
     "50e1612993b94b7ea828ebcd74e590b3": {
      "model_module": "@jupyter-widgets/base",
      "model_module_version": "1.1.0",
      "model_name": "LayoutModel",
      "state": {}
     },
     "50ea4f6665884cfb9eac47487012dbbb": {
      "model_module": "@jupyter-widgets/controls",
      "model_module_version": "1.4.0",
      "model_name": "DescriptionStyleModel",
      "state": {
       "description_width": ""
      }
     },
     "50f1b84a68f94de6a9a55bb86f53d6f6": {
      "model_module": "@jupyter-widgets/base",
      "model_module_version": "1.1.0",
      "model_name": "LayoutModel",
      "state": {
       "height": "40px",
       "width": "40px"
      }
     },
     "512172b1e2444faea72d28ccdc66a9b0": {
      "model_module": "@jupyter-widgets/base",
      "model_module_version": "1.1.0",
      "model_name": "LayoutModel",
      "state": {}
     },
     "51272371739645168f7d16f5c559779c": {
      "buffers": [
       {
        "data": "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",
        "encoding": "base64",
        "path": [
         "value"
        ]
       }
      ],
      "model_module": "@jupyter-widgets/controls",
      "model_module_version": "1.4.0",
      "model_name": "ImageModel",
      "state": {
       "height": "35",
       "layout": "IPY_MODEL_a67e4cc239f64837a4c99f7101d68b20",
       "value": {},
       "width": "35"
      }
     },
     "51505481e5bf47e29e72e9b7ccfbf07c": {
      "model_module": "@jupyter-widgets/base",
      "model_module_version": "1.1.0",
      "model_name": "LayoutModel",
      "state": {}
     },
     "5171d61c95a846e2bc6e1d697031f36d": {
      "model_module": "@jupyter-widgets/base",
      "model_module_version": "1.1.0",
      "model_name": "LayoutModel",
      "state": {
       "width": "300px"
      }
     },
     "51cc1a81329f46778f8aeece5856cf47": {
      "model_module": "@jupyter-widgets/base",
      "model_module_version": "1.1.0",
      "model_name": "LayoutModel",
      "state": {}
     },
     "51cf243535a2463e84ad0fcc0548139f": {
      "model_module": "@jupyter-widgets/controls",
      "model_module_version": "1.4.0",
      "model_name": "TextareaModel",
      "state": {
       "layout": "IPY_MODEL_291a717883d4442590c32c1d95d4d810",
       "placeholder": "Example: IOC:m1.DMOV IOC:m3.RBV LNLS:ANEL:corrente.VAL",
       "style": "IPY_MODEL_079b6b15f71a42569db18082db5b6d14"
      }
     },
     "51ef46fcbca54bdf85eacf3bec3ca252": {
      "model_module": "@jupyter-widgets/base",
      "model_module_version": "1.1.0",
      "model_name": "LayoutModel",
      "state": {}
     },
     "51f4996685dc4426a036a59aa198adad": {
      "model_module": "@jupyter-widgets/base",
      "model_module_version": "1.1.0",
      "model_name": "LayoutModel",
      "state": {}
     },
     "52121da5dee44162b5450a2ebd24583b": {
      "model_module": "@jupyter-widgets/controls",
      "model_module_version": "1.4.0",
      "model_name": "ButtonStyleModel",
      "state": {}
     },
     "522534e038f2433e8b1ed09f22de62d3": {
      "model_module": "@jupyter-widgets/base",
      "model_module_version": "1.1.0",
      "model_name": "LayoutModel",
      "state": {}
     },
     "527b2a5bfd0e47cc8b238e072d039c58": {
      "model_module": "@jupyter-widgets/base",
      "model_module_version": "1.1.0",
      "model_name": "LayoutModel",
      "state": {}
     },
     "527c33073a4342cbbc8b6dce3d157ca5": {
      "model_module": "@jupyter-widgets/controls",
      "model_module_version": "1.4.0",
      "model_name": "ButtonStyleModel",
      "state": {}
     },
     "52cf10d1398f46c9996fbcef0b53fd8e": {
      "model_module": "@jupyter-widgets/controls",
      "model_module_version": "1.4.0",
      "model_name": "ButtonModel",
      "state": {
       "button_style": "success",
       "description": "Start Motor Initializaton",
       "layout": "IPY_MODEL_c1593aabddac4fbc9094ac63157a3fee",
       "style": "IPY_MODEL_3be7a1bd27e2484090b33d510daff57e",
       "tooltip": "Click me"
      }
     },
     "52e3b9c5ad614076ab1281c96b735f8d": {
      "model_module": "@jupyter-widgets/base",
      "model_module_version": "1.1.0",
      "model_name": "LayoutModel",
      "state": {}
     },
     "52e932e6f79f40b68cc2923bbf301fff": {
      "model_module": "@jupyter-widgets/base",
      "model_module_version": "1.1.0",
      "model_name": "LayoutModel",
      "state": {}
     },
     "5301b0f8a04442f08f9505f6082c052a": {
      "model_module": "@jupyter-widgets/base",
      "model_module_version": "1.1.0",
      "model_name": "LayoutModel",
      "state": {}
     },
     "530c13034ee74bb181e801712b24fada": {
      "model_module": "@jupyter-widgets/controls",
      "model_module_version": "1.4.0",
      "model_name": "DescriptionStyleModel",
      "state": {
       "description_width": "initial"
      }
     },
     "5347fac632cd42739498e51cb0438900": {
      "model_module": "@jupyter-widgets/controls",
      "model_module_version": "1.4.0",
      "model_name": "CheckboxModel",
      "state": {
       "description": "Live plot in Jupyter: ",
       "disabled": false,
       "layout": "IPY_MODEL_68840a9ac0d54a5eb4eaef0a885b0350",
       "style": "IPY_MODEL_e281f46f91a046d189d5a8eab2e8db7c",
       "value": false
      }
     },
     "539aecadbf5c4175957b3ded38d1ec61": {
      "model_module": "@jupyter-widgets/controls",
      "model_module_version": "1.4.0",
      "model_name": "DescriptionStyleModel",
      "state": {
       "description_width": "initial"
      }
     },
     "53a6687288624a9eb1c17ad91e72714a": {
      "model_module": "@jupyter-widgets/base",
      "model_module_version": "1.1.0",
      "model_name": "LayoutModel",
      "state": {}
     },
     "549694e9521f4c63a9ec4f1552c1e578": {
      "model_module": "@jupyter-widgets/base",
      "model_module_version": "1.1.0",
      "model_name": "LayoutModel",
      "state": {}
     },
     "549943823cb94f499ce98167472b83ad": {
      "model_module": "@jupyter-widgets/base",
      "model_module_version": "1.1.0",
      "model_name": "LayoutModel",
      "state": {}
     },
     "54a3f9a2adf64b0d8b0003f12953b206": {
      "model_module": "@jupyter-widgets/base",
      "model_module_version": "1.1.0",
      "model_name": "LayoutModel",
      "state": {}
     },
     "54c275e6094e42a5a29808656d292886": {
      "model_module": "@jupyter-widgets/base",
      "model_module_version": "1.1.0",
      "model_name": "LayoutModel",
      "state": {}
     },
     "551cf9b7756d49b1add45526946d4207": {
      "model_module": "@jupyter-widgets/output",
      "model_module_version": "1.0.0",
      "model_name": "OutputModel",
      "state": {
       "layout": "IPY_MODEL_7e3d20fcdcf54af8bcd3390288023fed"
      }
     },
     "558b61611e824d719bfae3ab0119f411": {
      "model_module": "@jupyter-widgets/controls",
      "model_module_version": "1.4.0",
      "model_name": "DescriptionStyleModel",
      "state": {
       "description_width": "initial"
      }
     },
     "55b9bf74c9a64353a97b54e0723b9606": {
      "model_module": "@jupyter-widgets/controls",
      "model_module_version": "1.4.0",
      "model_name": "ButtonStyleModel",
      "state": {}
     },
     "55bac81e351148a2ad3e780a3d618efd": {
      "model_module": "@jupyter-widgets/controls",
      "model_module_version": "1.4.0",
      "model_name": "DescriptionStyleModel",
      "state": {
       "description_width": ""
      }
     },
     "55cc6132a2fc4c5ba3fe7a300ff5dcbb": {
      "model_module": "@jupyter-widgets/controls",
      "model_module_version": "1.4.0",
      "model_name": "VBoxModel",
      "state": {
       "children": [
        "IPY_MODEL_2b6e3281e8b44b91a6a7c4379dfadf01"
       ],
       "layout": "IPY_MODEL_a781d98fcc914b1c928d8cc7b56b1f1d"
      }
     },
     "55eebabe03fc4a428272c57d0e578a35": {
      "model_module": "@jupyter-widgets/output",
      "model_module_version": "1.0.0",
      "model_name": "OutputModel",
      "state": {
       "layout": "IPY_MODEL_014c42fd3c6f47b9896dcadcac188c1e"
      }
     },
     "560202b5586b4347a9dd126702a8a974": {
      "model_module": "@jupyter-widgets/controls",
      "model_module_version": "1.4.0",
      "model_name": "DescriptionStyleModel",
      "state": {
       "description_width": ""
      }
     },
     "561b3d590ea14623bd8e662d8618cff9": {
      "model_module": "@jupyter-widgets/base",
      "model_module_version": "1.1.0",
      "model_name": "LayoutModel",
      "state": {}
     },
     "5628b0a6eadd4ceead74a22ddcbfbce7": {
      "model_module": "@jupyter-widgets/controls",
      "model_module_version": "1.4.0",
      "model_name": "DescriptionStyleModel",
      "state": {
       "description_width": ""
      }
     },
     "564d9254f49d41049c73a1da6c55f330": {
      "model_module": "@jupyter-widgets/base",
      "model_module_version": "1.1.0",
      "model_name": "LayoutModel",
      "state": {}
     },
     "5654bb592c034b859a34145ad95f00d6": {
      "model_module": "@jupyter-widgets/controls",
      "model_module_version": "1.4.0",
      "model_name": "ButtonModel",
      "state": {
       "button_style": "success",
       "description": "Start Motor Initializaton",
       "layout": "IPY_MODEL_8d8dfb4843734f98ba0a847670cc327e",
       "style": "IPY_MODEL_c2e4fbf3cbad4d7fb1788965b5736c3b",
       "tooltip": "Click me"
      }
     },
     "569442f8595640f4b935fd42cd088189": {
      "model_module": "@jupyter-widgets/base",
      "model_module_version": "1.1.0",
      "model_name": "LayoutModel",
      "state": {}
     },
     "56a4fd0c123a48f28ed08819ee08607b": {
      "model_module": "@jupyter-widgets/base",
      "model_module_version": "1.1.0",
      "model_name": "LayoutModel",
      "state": {}
     },
     "56b9de3a2a70486c919b04e6cc405a0d": {
      "model_module": "@jupyter-widgets/base",
      "model_module_version": "1.1.0",
      "model_name": "LayoutModel",
      "state": {
       "height": "40px",
       "width": "40px"
      }
     },
     "57024f78512044048e1ba914a695aeec": {
      "model_module": "@jupyter-widgets/controls",
      "model_module_version": "1.4.0",
      "model_name": "VBoxModel",
      "state": {
       "children": [
        "IPY_MODEL_5bdc5fd940114291bda732369f5dffe0",
        "IPY_MODEL_a915a16203a4493f93ad439e63df8f5f"
       ],
       "layout": "IPY_MODEL_08fde8f37bab49699658e60dcf25b5ec"
      }
     },
     "5703b6b2d797442bb078826edf14266f": {
      "model_module": "@jupyter-widgets/base",
      "model_module_version": "1.1.0",
      "model_name": "LayoutModel",
      "state": {}
     },
     "57241bda40a647318faf9aec53f7ef44": {
      "model_module": "@jupyter-widgets/base",
      "model_module_version": "1.1.0",
      "model_name": "LayoutModel",
      "state": {}
     },
     "574a59296ef34c6d98439206e804bd1b": {
      "model_module": "@jupyter-widgets/controls",
      "model_module_version": "1.4.0",
      "model_name": "ButtonModel",
      "state": {
       "button_style": "success",
       "description": "Start Manual Alignment",
       "layout": "IPY_MODEL_17b2c707593c41e1aab39a3c8383a9eb",
       "style": "IPY_MODEL_527c33073a4342cbbc8b6dce3d157ca5",
       "tooltip": "Click me"
      }
     },
     "574a5ab63b47431aa2f2f52883cf5176": {
      "model_module": "@jupyter-widgets/base",
      "model_module_version": "1.1.0",
      "model_name": "LayoutModel",
      "state": {}
     },
     "5764c65cc14c4e468164832fefe81eba": {
      "model_module": "@jupyter-widgets/controls",
      "model_module_version": "1.4.0",
      "model_name": "DescriptionStyleModel",
      "state": {
       "description_width": ""
      }
     },
     "576aa5932d9041bbbed8de337faa2c69": {
      "model_module": "@jupyter-widgets/base",
      "model_module_version": "1.1.0",
      "model_name": "LayoutModel",
      "state": {
       "height": "40px",
       "width": "40px"
      }
     },
     "5778326602de4e8ebfa4541ac7f2e5af": {
      "model_module": "@jupyter-widgets/controls",
      "model_module_version": "1.4.0",
      "model_name": "ButtonModel",
      "state": {
       "button_style": "warning",
       "description": "Export Notebook to Latex",
       "layout": "IPY_MODEL_72dc1e500bf44140bab6ae06b9209a72",
       "style": "IPY_MODEL_93712fff8e7f4fa3bb6b1226c5b69cee",
       "tooltip": "Click me"
      }
     },
     "579f48dc9e374619b923e014fe3fd81c": {
      "model_module": "@jupyter-widgets/controls",
      "model_module_version": "1.4.0",
      "model_name": "ButtonStyleModel",
      "state": {}
     },
     "57d13b07b9d547d79753278f10f75a53": {
      "model_module": "@jupyter-widgets/controls",
      "model_module_version": "1.4.0",
      "model_name": "TextareaModel",
      "state": {
       "layout": "IPY_MODEL_aac642e1288c4748a7fd9d78f4d8edf6",
       "placeholder": "Example: IOC:m1.DMOV IOC:m3.RBV LNLS:ANEL:corrente.VAL",
       "style": "IPY_MODEL_85aff6dcd25f401abaa479bbf87a4365"
      }
     },
     "57d69b67cfc74fc5a048943ed5755342": {
      "model_module": "@jupyter-widgets/base",
      "model_module_version": "1.1.0",
      "model_name": "LayoutModel",
      "state": {}
     },
     "57e36147c4a74ffd9b344e57f2121600": {
      "model_module": "@jupyter-widgets/base",
      "model_module_version": "1.1.0",
      "model_name": "LayoutModel",
      "state": {}
     },
     "57e445b807294982bbe16b2d51f8856b": {
      "buffers": [
       {
        "data": "AAAAAAAAGEAAAAAAAAAgQAAAAAAAABRAAAAAAAAAFEAAAAAAAAAAQA==",
        "encoding": "base64",
        "path": [
         "_data",
         0,
         "y",
         "value"
        ]
       },
       {
        "data": "AAAAAAAAGEAAAAAAAAAgQAAAAAAAABRAAAAAAAAAFEAAAAAAAAAAQA==",
        "encoding": "base64",
        "path": [
         "_data",
         1,
         "y",
         "value"
        ]
       }
      ],
      "model_module": "plotlywidget",
      "model_module_version": "0.8.0",
      "model_name": "FigureModel",
      "state": {
       "_config": {
        "plotlyServerURL": "https://plot.ly"
       },
       "_data": [
        {
         "mode": "lines+markers",
         "name": "line1",
         "type": "scatter",
         "uid": "b1804e4a-929d-495e-b56a-13959872e62b",
         "x": [
          0,
          1,
          2,
          3,
          4
         ],
         "xaxis": "x",
         "y": {
          "dtype": "float64",
          "shape": [
           5
          ],
          "value": {}
         },
         "yaxis": "y"
        },
        {
         "mode": "lines+markers",
         "name": "line2",
         "type": "scatter",
         "uid": "77b1a433-08b4-4713-a489-8f2ae0dea776",
         "x": [
          0,
          1,
          2,
          3,
          4
         ],
         "xaxis": "x2",
         "y": {
          "dtype": "float64",
          "shape": [
           5
          ],
          "value": {}
         },
         "yaxis": "y2"
        }
       ],
       "_js2py_pointsCallback": {},
       "_js2py_restyle": {},
       "_js2py_update": {},
       "_last_layout_edit_id": 24,
       "_last_trace_edit_id": 23,
       "_layout": {
        "autosize": true,
        "plot_bgcolor": "rgb(230, 230, 230)",
        "template": {},
        "title": {
         "text": "Scan"
        },
        "xaxis": {
         "anchor": "y",
         "domain": [
          0,
          1
         ]
        },
        "xaxis2": {
         "anchor": "y2",
         "domain": [
          0,
          1
         ]
        },
        "yaxis": {
         "anchor": "x",
         "domain": [
          0.575,
          1
         ]
        },
        "yaxis2": {
         "anchor": "x2",
         "domain": [
          0,
          0.425
         ]
        }
       },
       "_model_module_version": "0.8.0",
       "_py2js_animate": {},
       "_py2js_deleteTraces": {},
       "_py2js_moveTraces": {},
       "_py2js_removeLayoutProps": {},
       "_py2js_removeTraceProps": {},
       "_view_count": 0,
       "_view_module_version": "0.8.0"
      }
     },
     "57fabfe283f040549480c4929effd5c9": {
      "model_module": "@jupyter-widgets/controls",
      "model_module_version": "1.4.0",
      "model_name": "DescriptionStyleModel",
      "state": {
       "description_width": ""
      }
     },
     "58034a65142745deb540e7a2d3857958": {
      "model_module": "@jupyter-widgets/base",
      "model_module_version": "1.1.0",
      "model_name": "LayoutModel",
      "state": {}
     },
     "58614830b0244355a0bce17db5aea3b6": {
      "model_module": "@jupyter-widgets/output",
      "model_module_version": "1.0.0",
      "model_name": "OutputModel",
      "state": {
       "layout": "IPY_MODEL_b25e53072d1740bd905e56e296259cc7"
      }
     },
     "586af035dbd84b8992e7b790b6afbc14": {
      "model_module": "@jupyter-widgets/controls",
      "model_module_version": "1.4.0",
      "model_name": "DescriptionStyleModel",
      "state": {
       "description_width": "initial"
      }
     },
     "5877ce897a4b491990f921389dd39a9f": {
      "model_module": "@jupyter-widgets/base",
      "model_module_version": "1.1.0",
      "model_name": "LayoutModel",
      "state": {}
     },
     "589364f91d494746a5a1abd7423db69d": {
      "model_module": "@jupyter-widgets/controls",
      "model_module_version": "1.4.0",
      "model_name": "DescriptionStyleModel",
      "state": {
       "description_width": "initial"
      }
     },
     "58c1da3647f64e0c8e6d8613a02ec2ca": {
      "buffers": [
       {
        "data": "AAAAAAAAAEAAAAAAAADwPwAAAAAAABhAAAAAAAAAAAAAAAAAAAAcQA==",
        "encoding": "base64",
        "path": [
         "_data",
         0,
         "y",
         "value"
        ]
       },
       {
        "data": "AAAAAAAAAAAAAAAAAADwPwAAAAAAABxAAAAAAAAAEEAAAAAAAADwPw==",
        "encoding": "base64",
        "path": [
         "_data",
         1,
         "y",
         "value"
        ]
       },
       {
        "data": "AAAAAAAAAEAAAAAAAADwPwAAAAAAABhAAAAAAAAAAAAAAAAAAAAcQA==",
        "encoding": "base64",
        "path": [
         "_data",
         2,
         "y",
         "value"
        ]
       },
       {
        "data": "AAAAAAAAAAAAAAAAAADwPwAAAAAAABxAAAAAAAAAEEAAAAAAAADwPw==",
        "encoding": "base64",
        "path": [
         "_data",
         3,
         "y",
         "value"
        ]
       }
      ],
      "model_module": "plotlywidget",
      "model_module_version": "0.8.0",
      "model_name": "FigureModel",
      "state": {
       "_config": {
        "plotlyServerURL": "https://plot.ly"
       },
       "_data": [
        {
         "mode": "lines+markers",
         "name": "line1",
         "type": "scatter",
         "uid": "482548ea-0652-47a8-940b-a98816c754a2",
         "x": [
          0,
          1,
          2,
          3,
          4
         ],
         "xaxis": "x",
         "y": {
          "dtype": "float64",
          "shape": [
           5
          ],
          "value": {}
         },
         "yaxis": "y"
        },
        {
         "mode": "lines+markers",
         "name": "line1",
         "type": "scatter",
         "uid": "177c354b-3693-45d1-b832-52388828cbd4",
         "x": [
          0,
          1,
          2,
          3,
          4
         ],
         "xaxis": "x",
         "y": {
          "dtype": "float64",
          "shape": [
           5
          ],
          "value": {}
         },
         "yaxis": "y"
        },
        {
         "mode": "lines+markers",
         "name": "line2",
         "type": "scatter",
         "uid": "d56dcdfe-ae75-4226-896c-3667672b4fef",
         "x": [
          0,
          1,
          2,
          3,
          4
         ],
         "xaxis": "x2",
         "y": {
          "dtype": "float64",
          "shape": [
           5
          ],
          "value": {}
         },
         "yaxis": "y2"
        },
        {
         "mode": "lines+markers",
         "name": "line2",
         "type": "scatter",
         "uid": "c540c10a-82d8-4c0b-8f9d-25c78545b9d5",
         "x": [
          0,
          1,
          2,
          3,
          4
         ],
         "xaxis": "x2",
         "y": {
          "dtype": "float64",
          "shape": [
           5
          ],
          "value": {}
         },
         "yaxis": "y2"
        }
       ],
       "_js2py_restyle": {},
       "_js2py_update": {},
       "_last_layout_edit_id": 46,
       "_last_trace_edit_id": 45,
       "_layout": {
        "autosize": true,
        "plot_bgcolor": "rgb(230, 230, 230)",
        "template": {},
        "title": {
         "text": "Scan"
        },
        "xaxis": {
         "anchor": "y",
         "domain": [
          0,
          1
         ]
        },
        "xaxis2": {
         "anchor": "y2",
         "domain": [
          0,
          1
         ]
        },
        "yaxis": {
         "anchor": "x",
         "domain": [
          0.575,
          1
         ]
        },
        "yaxis2": {
         "anchor": "x2",
         "domain": [
          0,
          0.425
         ]
        }
       },
       "_model_module_version": "0.8.0",
       "_py2js_animate": {},
       "_py2js_deleteTraces": {},
       "_py2js_moveTraces": {},
       "_py2js_removeLayoutProps": {},
       "_py2js_removeTraceProps": {},
       "_view_count": 0,
       "_view_module_version": "0.8.0"
      }
     },
     "58cce8e6c73643b7afa1ee3b8512af7a": {
      "model_module": "@jupyter-widgets/controls",
      "model_module_version": "1.4.0",
      "model_name": "DescriptionStyleModel",
      "state": {
       "description_width": ""
      }
     },
     "58d3f6aea33c4c20a589c545b2a01550": {
      "model_module": "@jupyter-widgets/output",
      "model_module_version": "1.0.0",
      "model_name": "OutputModel",
      "state": {
       "layout": "IPY_MODEL_02c644ed4c9f4620815baa781983a771"
      }
     },
     "5902708feb124a5cbd2d4da88be592f9": {
      "model_module": "@jupyter-widgets/base",
      "model_module_version": "1.1.0",
      "model_name": "LayoutModel",
      "state": {}
     },
     "5955ee5dd82543d8a975bc00f9728d60": {
      "model_module": "@jupyter-widgets/controls",
      "model_module_version": "1.4.0",
      "model_name": "DescriptionStyleModel",
      "state": {
       "description_width": "initial"
      }
     },
     "5959de7f474547ce8183a154f07e4047": {
      "model_module": "@jupyter-widgets/base",
      "model_module_version": "1.1.0",
      "model_name": "LayoutModel",
      "state": {
       "width": "300px"
      }
     },
     "595c3a2b4ece474cba2af36e200c83e4": {
      "model_module": "@jupyter-widgets/output",
      "model_module_version": "1.0.0",
      "model_name": "OutputModel",
      "state": {
       "layout": "IPY_MODEL_c3fe818b26a44af986d3c087a8e6673c"
      }
     },
     "596b818e6f34452d8743816954ff111b": {
      "model_module": "@jupyter-widgets/controls",
      "model_module_version": "1.4.0",
      "model_name": "TextModel",
      "state": {
       "layout": "IPY_MODEL_1d47d0ad3f404f3da37d61822700bf8c",
       "placeholder": "Type the notebook's name without file format",
       "style": "IPY_MODEL_d8b7571c663c49b4b1a89e1d3cb4be56",
       "value": "laser-beam-alignment"
      }
     },
     "5a515775963f48e1952fb74fe2861f68": {
      "model_module": "@jupyter-widgets/controls",
      "model_module_version": "1.4.0",
      "model_name": "DescriptionStyleModel",
      "state": {
       "description_width": "initial"
      }
     },
     "5a78ad1280ce4b97bc1583ccbfe93d33": {
      "model_module": "@jupyter-widgets/base",
      "model_module_version": "1.1.0",
      "model_name": "LayoutModel",
      "state": {}
     },
     "5a99fbbdccc443fda096d95f4cc2fbeb": {
      "model_module": "@jupyter-widgets/base",
      "model_module_version": "1.1.0",
      "model_name": "LayoutModel",
      "state": {}
     },
     "5acd5bfde3f6454bb0e69f6f1dcceac2": {
      "model_module": "@jupyter-widgets/base",
      "model_module_version": "1.1.0",
      "model_name": "LayoutModel",
      "state": {}
     },
     "5b02d35e75f04567b13449f70877b3c2": {
      "model_module": "@jupyter-widgets/controls",
      "model_module_version": "1.4.0",
      "model_name": "HBoxModel",
      "state": {
       "children": [
        "IPY_MODEL_dbce6eff20b54d8c9da215f56b084800",
        "IPY_MODEL_b0eb8edce911444eb933b0bcc7d051ae"
       ],
       "layout": "IPY_MODEL_bf1e8b1d46dd4b90bca7a63688849ec9"
      }
     },
     "5b33fc206a37401793e24b6b937c574a": {
      "model_module": "@jupyter-widgets/base",
      "model_module_version": "1.1.0",
      "model_name": "LayoutModel",
      "state": {}
     },
     "5b5616751a3247539ca3b003c110f778": {
      "model_module": "@jupyter-widgets/base",
      "model_module_version": "1.1.0",
      "model_name": "LayoutModel",
      "state": {}
     },
     "5b768785cbc14d2faf57ed7d9b4d151a": {
      "model_module": "@jupyter-widgets/base",
      "model_module_version": "1.1.0",
      "model_name": "LayoutModel",
      "state": {}
     },
     "5b861eeb6a484616aeb8837cdf4eb555": {
      "model_module": "@jupyter-widgets/output",
      "model_module_version": "1.0.0",
      "model_name": "OutputModel",
      "state": {
       "layout": "IPY_MODEL_38a74933af7c4fe4b0739a3fe235d4b2"
      }
     },
     "5b99b9281bea496296b35ed4f42f06fe": {
      "model_module": "@jupyter-widgets/base",
      "model_module_version": "1.1.0",
      "model_name": "LayoutModel",
      "state": {}
     },
     "5ba6a491bea64dbc85493370dbc1933f": {
      "model_module": "@jupyter-widgets/controls",
      "model_module_version": "1.4.0",
      "model_name": "DescriptionStyleModel",
      "state": {
       "description_width": "initial"
      }
     },
     "5bd2c57e0c9745aab507c34537707436": {
      "model_module": "@jupyter-widgets/base",
      "model_module_version": "1.1.0",
      "model_name": "LayoutModel",
      "state": {}
     },
     "5bdc5fd940114291bda732369f5dffe0": {
      "model_module": "@jupyter-widgets/controls",
      "model_module_version": "1.4.0",
      "model_name": "ButtonModel",
      "state": {
       "button_style": "success",
       "description": "Start PV Monitoring",
       "layout": "IPY_MODEL_f44d8de51bd84510bd71d32a30655f7a",
       "style": "IPY_MODEL_0dff618c7461432f91d8768cbf1adf3a",
       "tooltip": "Click me"
      }
     },
     "5c04c49e37a84296af1b58cd4e05bbf2": {
      "model_module": "@jupyter-widgets/base",
      "model_module_version": "1.1.0",
      "model_name": "LayoutModel",
      "state": {}
     },
     "5c38be98c6dd4bd5bb64259ce3d3eb81": {
      "model_module": "@jupyter-widgets/controls",
      "model_module_version": "1.4.0",
      "model_name": "ButtonStyleModel",
      "state": {}
     },
     "5c3f0401e69e41be8047d29e27196107": {
      "buffers": [
       {
        "data": "AAAAAAAACEAAAAAAAAAUQAAAAAAAACBAAAAAAAAAIkAAAAAAAADwPw==",
        "encoding": "base64",
        "path": [
         "_data",
         0,
         "y",
         "value"
        ]
       },
       {
        "data": "AAAAAAAACEAAAAAAAAAUQAAAAAAAACBAAAAAAAAAIkAAAAAAAADwPw==",
        "encoding": "base64",
        "path": [
         "_data",
         1,
         "y",
         "value"
        ]
       }
      ],
      "model_module": "plotlywidget",
      "model_module_version": "0.8.0",
      "model_name": "FigureModel",
      "state": {
       "_config": {
        "plotlyServerURL": "https://plot.ly"
       },
       "_data": [
        {
         "mode": "lines+markers",
         "name": "line1",
         "type": "scatter",
         "uid": "a0588960-fa52-4a00-81b2-de12e89b5fc9",
         "x": [
          0,
          1,
          2,
          3,
          4
         ],
         "xaxis": "x",
         "y": {
          "dtype": "float64",
          "shape": [
           5
          ],
          "value": {}
         },
         "yaxis": "y"
        },
        {
         "mode": "lines+markers",
         "name": "line2",
         "type": "scatter",
         "uid": "6332d2b8-9faf-44de-9be5-9b9446a9867a",
         "x": [
          0,
          1,
          2,
          3,
          4
         ],
         "xaxis": "x2",
         "y": {
          "dtype": "float64",
          "shape": [
           5
          ],
          "value": {}
         },
         "yaxis": "y2"
        }
       ],
       "_js2py_restyle": {},
       "_js2py_update": {},
       "_last_layout_edit_id": 8,
       "_last_trace_edit_id": 7,
       "_layout": {
        "autosize": true,
        "plot_bgcolor": "rgb(230, 230, 230)",
        "template": {},
        "title": {
         "text": "Scan"
        },
        "xaxis": {
         "anchor": "y",
         "domain": [
          0,
          1
         ]
        },
        "xaxis2": {
         "anchor": "y2",
         "domain": [
          0,
          1
         ]
        },
        "yaxis": {
         "anchor": "x",
         "domain": [
          0.575,
          1
         ]
        },
        "yaxis2": {
         "anchor": "x2",
         "domain": [
          0,
          0.425
         ]
        }
       },
       "_model_module_version": "0.8.0",
       "_py2js_animate": {},
       "_py2js_deleteTraces": {},
       "_py2js_moveTraces": {},
       "_py2js_removeLayoutProps": {},
       "_py2js_removeTraceProps": {},
       "_view_count": 0,
       "_view_module_version": "0.8.0"
      }
     },
     "5c49f121d335476db602cd333a15c41b": {
      "model_module": "@jupyter-widgets/base",
      "model_module_version": "1.1.0",
      "model_name": "LayoutModel",
      "state": {}
     },
     "5cbf2ca6a77b42aebe492691c56eeff1": {
      "model_module": "@jupyter-widgets/base",
      "model_module_version": "1.1.0",
      "model_name": "LayoutModel",
      "state": {
       "height": "40px",
       "width": "40px"
      }
     },
     "5d087fa519174b87bf75d1629ed4d273": {
      "model_module": "@jupyter-widgets/controls",
      "model_module_version": "1.4.0",
      "model_name": "DescriptionStyleModel",
      "state": {
       "description_width": ""
      }
     },
     "5d6b553d86664e3c82ff8f3d0da8c57e": {
      "model_module": "@jupyter-widgets/controls",
      "model_module_version": "1.4.0",
      "model_name": "CheckboxModel",
      "state": {
       "description": "Plot with Plotly after scan ends: ",
       "disabled": false,
       "layout": "IPY_MODEL_ebc9eb1ece2145b89fee53725d1b0803",
       "style": "IPY_MODEL_625ec48395024f3094b5ecc7acd3acbf",
       "value": false
      }
     },
     "5d722518d4704921aad880f8ffffea9c": {
      "model_module": "@jupyter-widgets/base",
      "model_module_version": "1.1.0",
      "model_name": "LayoutModel",
      "state": {}
     },
     "5d94be4c59df4542a8d9f8f7ae0af14c": {
      "model_module": "@jupyter-widgets/base",
      "model_module_version": "1.1.0",
      "model_name": "LayoutModel",
      "state": {
       "height": "40px",
       "width": "40px"
      }
     },
     "5e139e11433d4872a277ea9ceb17456f": {
      "model_module": "@jupyter-widgets/controls",
      "model_module_version": "1.4.0",
      "model_name": "VBoxModel",
      "state": {
       "children": [
        "IPY_MODEL_85d58bb3454b4746aee4de9775f752f3"
       ],
       "layout": "IPY_MODEL_bf8d9f62538d416ba30f9f296cde0d15"
      }
     },
     "5e27347a866a418695d9d3ae17f6d9fb": {
      "model_module": "@jupyter-widgets/base",
      "model_module_version": "1.1.0",
      "model_name": "LayoutModel",
      "state": {}
     },
     "5e580d4fc5894e4da5966b0d0414ec16": {
      "model_module": "@jupyter-widgets/controls",
      "model_module_version": "1.4.0",
      "model_name": "VBoxModel",
      "state": {
       "children": [
        "IPY_MODEL_10d1d712d1cc4e97a754bde167709fa8"
       ],
       "layout": "IPY_MODEL_4d30ae3cbbd2497c9d36421366d9677c"
      }
     },
     "5e8c12ab2a04469ab65673a974809b8e": {
      "model_module": "@jupyter-widgets/base",
      "model_module_version": "1.1.0",
      "model_name": "LayoutModel",
      "state": {}
     },
     "5ef7f2205fcf483fa10e808e37b8a365": {
      "model_module": "@jupyter-widgets/controls",
      "model_module_version": "1.4.0",
      "model_name": "TextareaModel",
      "state": {
       "layout": "IPY_MODEL_0b1c0cac20e64dbe8350e80a43123547",
       "placeholder": "Example: IOC:m1.DMOV IOC:m3.RBV LNLS:ANEL:corrente.VAL",
       "style": "IPY_MODEL_b486da396b714f5c9fb909511998c50c"
      }
     },
     "5f1f570124c84a5987a8df9636a989b7": {
      "model_module": "@jupyter-widgets/output",
      "model_module_version": "1.0.0",
      "model_name": "OutputModel",
      "state": {
       "layout": "IPY_MODEL_0d27fa16acb04eb58034c3db8103bb67"
      }
     },
     "5f255407184240f1b334d501a6622491": {
      "model_module": "@jupyter-widgets/base",
      "model_module_version": "1.1.0",
      "model_name": "LayoutModel",
      "state": {
       "width": "300px"
      }
     },
     "5f2cc29ce86945b98e9434efc1dc74aa": {
      "model_module": "@jupyter-widgets/base",
      "model_module_version": "1.1.0",
      "model_name": "LayoutModel",
      "state": {
       "width": "300px"
      }
     },
     "5f5532c139a44d34a9cc37e1726c45cf": {
      "model_module": "@jupyter-widgets/controls",
      "model_module_version": "1.4.0",
      "model_name": "ButtonModel",
      "state": {
       "button_style": "warning",
       "description": "Export Notebook to Latex",
       "layout": "IPY_MODEL_46084b84600446b9a91d6de3bee5ea24",
       "style": "IPY_MODEL_a287aa7076164aaeb9586887cbcd51bc",
       "tooltip": "Click me"
      }
     },
     "5f5e760d52e04d0e8a5f33a658aa90dc": {
      "model_module": "@jupyter-widgets/base",
      "model_module_version": "1.1.0",
      "model_name": "LayoutModel",
      "state": {
       "width": "300px"
      }
     },
     "5f7f17fa8ffb4ab59b328a6076a6c842": {
      "model_module": "@jupyter-widgets/controls",
      "model_module_version": "1.4.0",
      "model_name": "ButtonStyleModel",
      "state": {}
     },
     "5f7f8624f77d43cd96405f9204fd7904": {
      "model_module": "@jupyter-widgets/controls",
      "model_module_version": "1.4.0",
      "model_name": "ButtonStyleModel",
      "state": {}
     },
     "5fa49a8a016c433fb3ac6c063c105bdc": {
      "model_module": "@jupyter-widgets/base",
      "model_module_version": "1.1.0",
      "model_name": "LayoutModel",
      "state": {}
     },
     "5fb4dd5db3544dca9f5c6ae1b689f1b3": {
      "model_module": "@jupyter-widgets/base",
      "model_module_version": "1.1.0",
      "model_name": "LayoutModel",
      "state": {}
     },
     "5fdfb1ccc56e4d4cb2f9fc9e0f7e9f06": {
      "model_module": "@jupyter-widgets/controls",
      "model_module_version": "1.4.0",
      "model_name": "VBoxModel",
      "state": {
       "children": [
        "IPY_MODEL_574a59296ef34c6d98439206e804bd1b"
       ],
       "layout": "IPY_MODEL_75c33e9c0c01499698587beb84ed913a"
      }
     },
     "6013ab0ed18647278efbcc3e0d5d5577": {
      "model_module": "@jupyter-widgets/base",
      "model_module_version": "1.1.0",
      "model_name": "LayoutModel",
      "state": {}
     },
     "60870677fdfb45e295b1ffc034c0cf1d": {
      "buffers": [
       {
        "data": "AAAAAAAAAAAAAAAAAAAiQAAAAAAAAPA/AAAAAAAAFEAAAAAAAAAAQA==",
        "encoding": "base64",
        "path": [
         "_data",
         0,
         "y",
         "value"
        ]
       },
       {
        "data": "AAAAAAAAAAAAAAAAAAAiQAAAAAAAAPA/AAAAAAAAFEAAAAAAAAAAQA==",
        "encoding": "base64",
        "path": [
         "_data",
         1,
         "y",
         "value"
        ]
       }
      ],
      "model_module": "plotlywidget",
      "model_module_version": "0.8.0",
      "model_name": "FigureModel",
      "state": {
       "_config": {
        "plotlyServerURL": "https://plot.ly"
       },
       "_data": [
        {
         "mode": "lines+markers",
         "name": "line1",
         "type": "scatter",
         "uid": "9e9216c1-67bd-44f2-919c-29c62d614ce8",
         "x": [
          0,
          1,
          2,
          3,
          4
         ],
         "xaxis": "x",
         "y": {
          "dtype": "float64",
          "shape": [
           5
          ],
          "value": {}
         },
         "yaxis": "y"
        },
        {
         "mode": "lines+markers",
         "name": "line2",
         "type": "scatter",
         "uid": "fe8b4eed-25f1-412f-a1dc-d469d2b6ab8c",
         "x": [
          0,
          1,
          2,
          3,
          4
         ],
         "xaxis": "x2",
         "y": {
          "dtype": "float64",
          "shape": [
           5
          ],
          "value": {}
         },
         "yaxis": "y2"
        }
       ],
       "_js2py_pointsCallback": {},
       "_js2py_restyle": {},
       "_js2py_update": {},
       "_last_layout_edit_id": 8,
       "_last_trace_edit_id": 7,
       "_layout": {
        "autosize": true,
        "plot_bgcolor": "rgb(230, 230, 230)",
        "template": {},
        "title": {
         "text": "Scan"
        },
        "xaxis": {
         "anchor": "y",
         "domain": [
          0,
          1
         ]
        },
        "xaxis2": {
         "anchor": "y2",
         "domain": [
          0,
          1
         ]
        },
        "yaxis": {
         "anchor": "x",
         "domain": [
          0.575,
          1
         ]
        },
        "yaxis2": {
         "anchor": "x2",
         "domain": [
          0,
          0.425
         ]
        }
       },
       "_model_module_version": "0.8.0",
       "_py2js_animate": {},
       "_py2js_deleteTraces": {},
       "_py2js_moveTraces": {},
       "_py2js_removeLayoutProps": {},
       "_py2js_removeTraceProps": {},
       "_view_count": 0,
       "_view_module_version": "0.8.0"
      }
     },
     "609e2903a5c749f9a4334b67c658ebe0": {
      "model_module": "@jupyter-widgets/base",
      "model_module_version": "1.1.0",
      "model_name": "LayoutModel",
      "state": {}
     },
     "60f53710ef314ad8b7cc8f4e65696666": {
      "model_module": "@jupyter-widgets/controls",
      "model_module_version": "1.4.0",
      "model_name": "VBoxModel",
      "state": {
       "children": [
        "IPY_MODEL_36593d6880ea40dbb4b6a161cbd886be"
       ],
       "layout": "IPY_MODEL_11ae51609bd2449ba656e63e9c7cecb7"
      }
     },
     "61a84344607b466880b1066a98cfa694": {
      "model_module": "@jupyter-widgets/output",
      "model_module_version": "1.0.0",
      "model_name": "OutputModel",
      "state": {
       "layout": "IPY_MODEL_dfc0929ffa9647198af2e8400f8c2f6b"
      }
     },
     "61d37d06fd03443dace05270d4603692": {
      "model_module": "@jupyter-widgets/base",
      "model_module_version": "1.1.0",
      "model_name": "LayoutModel",
      "state": {}
     },
     "61f11eccf5744b698e36967b4c379db3": {
      "model_module": "@jupyter-widgets/base",
      "model_module_version": "1.1.0",
      "model_name": "LayoutModel",
      "state": {}
     },
     "623be75ace594ba2a4da0bf66ba136cc": {
      "model_module": "@jupyter-widgets/base",
      "model_module_version": "1.1.0",
      "model_name": "LayoutModel",
      "state": {}
     },
     "625de4cebc184c27992993541b441a74": {
      "model_module": "@jupyter-widgets/controls",
      "model_module_version": "1.4.0",
      "model_name": "TextareaModel",
      "state": {
       "layout": "IPY_MODEL_f76e1f1f08fc42fb80a0ba717a397dc6",
       "placeholder": "Example: IOC:m1 IOC:m3 LNLS:TEST:motor_g3",
       "style": "IPY_MODEL_89afd4b8c4664dcb8060d1260b278520"
      }
     },
     "625ec48395024f3094b5ecc7acd3acbf": {
      "model_module": "@jupyter-widgets/controls",
      "model_module_version": "1.4.0",
      "model_name": "DescriptionStyleModel",
      "state": {
       "description_width": "initial"
      }
     },
     "62ac89cf0b094604a52a6d641e06a773": {
      "model_module": "@jupyter-widgets/controls",
      "model_module_version": "1.4.0",
      "model_name": "BoxModel",
      "state": {
       "layout": "IPY_MODEL_002ef0f966c148ee9276bb07667bfa70"
      }
     },
     "62d0641e66024ce195a7eb97e5590390": {
      "model_module": "@jupyter-widgets/base",
      "model_module_version": "1.1.0",
      "model_name": "LayoutModel",
      "state": {}
     },
     "62f53ece538f421c97ca982f93671850": {
      "model_module": "@jupyter-widgets/controls",
      "model_module_version": "1.4.0",
      "model_name": "TextModel",
      "state": {
       "layout": "IPY_MODEL_02e157bd2e654ddfb81611d372c94572",
       "placeholder": "Type the notebook's name without file format",
       "style": "IPY_MODEL_f437fac4662b4209aee56e23e96317cf"
      }
     },
     "62fe60483b55449ea87b9ab023612da6": {
      "model_module": "@jupyter-widgets/output",
      "model_module_version": "1.0.0",
      "model_name": "OutputModel",
      "state": {
       "layout": "IPY_MODEL_b3ee5edbe3fc45a0aa17430ec78fed1f"
      }
     },
     "633f6bed3c8b4e3ea41a921025e2be6f": {
      "model_module": "@jupyter-widgets/output",
      "model_module_version": "1.0.0",
      "model_name": "OutputModel",
      "state": {
       "layout": "IPY_MODEL_fc95eaa4fdc842ad8230bdcf50962be0"
      }
     },
     "637b12d6f12d4c979287dc5651dd35fc": {
      "model_module": "@jupyter-widgets/controls",
      "model_module_version": "1.4.0",
      "model_name": "VBoxModel",
      "state": {
       "children": [
        "IPY_MODEL_d7851739d2ca4947850d1385dd8f298b",
        "IPY_MODEL_50ba36e39303489299cdd957dc99f09c"
       ],
       "layout": "IPY_MODEL_bf53dba1d78f43c7a0a1d7f694fe3bcd"
      }
     },
     "637b1756193745b0af5a4ff8de137024": {
      "model_module": "@jupyter-widgets/controls",
      "model_module_version": "1.4.0",
      "model_name": "VBoxModel",
      "state": {
       "children": [
        "IPY_MODEL_e4277ca4c153402289df0dc0fb3d7f38"
       ],
       "layout": "IPY_MODEL_50adecaecbb14adbb50e0a12acab1ec1"
      }
     },
     "637e3a3c3b944c209458826b41409896": {
      "model_module": "@jupyter-widgets/base",
      "model_module_version": "1.1.0",
      "model_name": "LayoutModel",
      "state": {
       "height": "40px",
       "width": "40px"
      }
     },
     "638f823096714a77a74b20625f654a7b": {
      "model_module": "@jupyter-widgets/controls",
      "model_module_version": "1.4.0",
      "model_name": "VBoxModel",
      "state": {
       "children": [
        "IPY_MODEL_a7a196d761e942b28ebb204f13dfa4fd",
        "IPY_MODEL_57d13b07b9d547d79753278f10f75a53"
       ],
       "layout": "IPY_MODEL_8b4636cf19a34b40a058b1409277997d"
      }
     },
     "63926cd48b84464891588b013bffc75c": {
      "model_module": "@jupyter-widgets/controls",
      "model_module_version": "1.4.0",
      "model_name": "DescriptionStyleModel",
      "state": {
       "description_width": ""
      }
     },
     "6393a08a40d5489283668d51b813f85e": {
      "model_module": "@jupyter-widgets/controls",
      "model_module_version": "1.4.0",
      "model_name": "VBoxModel",
      "state": {
       "children": [
        "IPY_MODEL_1c8fefcd1b99484cb2a04f4c00429daa",
        "IPY_MODEL_d41bd05d673c40c68c6f95ae76face63"
       ],
       "layout": "IPY_MODEL_3bfbbde4becc4a4fad33880cd0fdf25e"
      }
     },
     "63ccaee4978a4f71a529bbfa57811efd": {
      "model_module": "@jupyter-widgets/controls",
      "model_module_version": "1.4.0",
      "model_name": "DescriptionStyleModel",
      "state": {
       "description_width": ""
      }
     },
     "63d5c10014b549c2ac7bf6742a64bed7": {
      "model_module": "@jupyter-widgets/controls",
      "model_module_version": "1.4.0",
      "model_name": "ButtonModel",
      "state": {
       "button_style": "success",
       "description": "Start Motor Initializaton",
       "layout": "IPY_MODEL_e8465c2d6833464e9b53bef967f34468",
       "style": "IPY_MODEL_35664eed369f48d0a4c47be6e725210a",
       "tooltip": "Click me"
      }
     },
     "63dd08e08ad24dda81db01571f057a4b": {
      "model_module": "@jupyter-widgets/base",
      "model_module_version": "1.1.0",
      "model_name": "LayoutModel",
      "state": {
       "height": "40px",
       "width": "40px"
      }
     },
     "63e514b429b747ae932b5102e3a6e723": {
      "model_module": "@jupyter-widgets/output",
      "model_module_version": "1.0.0",
      "model_name": "OutputModel",
      "state": {
       "layout": "IPY_MODEL_8bc53871102947f88aa902b76767bc54"
      }
     },
     "6443295c6a524bd4bad9b764d3d5f5e7": {
      "model_module": "@jupyter-widgets/output",
      "model_module_version": "1.0.0",
      "model_name": "OutputModel",
      "state": {
       "layout": "IPY_MODEL_522534e038f2433e8b1ed09f22de62d3"
      }
     },
     "64bc82f95b4549fb88130026e723ef23": {
      "model_module": "@jupyter-widgets/controls",
      "model_module_version": "1.4.0",
      "model_name": "DescriptionStyleModel",
      "state": {
       "description_width": "initial"
      }
     },
     "6521e39b722b4e63a6734971bc17c593": {
      "model_module": "@jupyter-widgets/controls",
      "model_module_version": "1.4.0",
      "model_name": "ButtonModel",
      "state": {
       "button_style": "success",
       "description": "Start Manual Alignment",
       "layout": "IPY_MODEL_4dd195f8df37435ba3bd9b55359fa2f1",
       "style": "IPY_MODEL_1845e772ee9748bab91886a083740111",
       "tooltip": "Click me"
      }
     },
     "65296c0a507844838d7d32609a57f625": {
      "model_module": "@jupyter-widgets/base",
      "model_module_version": "1.1.0",
      "model_name": "LayoutModel",
      "state": {}
     },
     "6560841312594f9aa42c8d26196fcbc3": {
      "model_module": "@jupyter-widgets/base",
      "model_module_version": "1.1.0",
      "model_name": "LayoutModel",
      "state": {}
     },
     "657a6f36ccac4e7d9e30c26b44abebe9": {
      "model_module": "@jupyter-widgets/controls",
      "model_module_version": "1.4.0",
      "model_name": "ButtonModel",
      "state": {
       "button_style": "warning",
       "description": "Export Notebook to HTML",
       "layout": "IPY_MODEL_a5c1ce51aaea4217929a03c97e2bb976",
       "style": "IPY_MODEL_aa97822cc8334c78848141cee3e61ec0",
       "tooltip": "Click me"
      }
     },
     "65c965b25ce14c4983d4960834505d63": {
      "model_module": "@jupyter-widgets/controls",
      "model_module_version": "1.4.0",
      "model_name": "CheckboxModel",
      "state": {
       "description": "Print log in Notebook's cells",
       "disabled": false,
       "layout": "IPY_MODEL_bfe06da3cc524e408c486532c5e71ecd",
       "style": "IPY_MODEL_215a5c4014224e1282d437c7d3bc83cb",
       "value": false
      }
     },
     "66294538e5f248bc874e10860928450c": {
      "model_module": "@jupyter-widgets/controls",
      "model_module_version": "1.4.0",
      "model_name": "CheckboxModel",
      "state": {
       "description": "Print log in Notebook's cells",
       "disabled": false,
       "layout": "IPY_MODEL_15597837a3544a5fae7f77ea09efcf80",
       "style": "IPY_MODEL_530c13034ee74bb181e801712b24fada",
       "value": false
      }
     },
     "66f194391a384861beeb626cbcf2a915": {
      "model_module": "@jupyter-widgets/controls",
      "model_module_version": "1.4.0",
      "model_name": "VBoxModel",
      "state": {
       "children": [
        "IPY_MODEL_cc6787ce913846e78e3e27c1872696a1",
        "IPY_MODEL_92e946ebbf554513b642c64c4c48162d"
       ],
       "layout": "IPY_MODEL_e4f19baf79a4427cab2dbf796109ae73"
      }
     },
     "67344123ac7d4925a6623de3f094feb9": {
      "model_module": "@jupyter-widgets/controls",
      "model_module_version": "1.4.0",
      "model_name": "HBoxModel",
      "state": {
       "children": [
        "IPY_MODEL_3756701decd64c75ad795e56eb94ee96",
        "IPY_MODEL_b3a60162cda147afa229fdad4b0c6402"
       ],
       "layout": "IPY_MODEL_50e1612993b94b7ea828ebcd74e590b3"
      }
     },
     "6748b7b73fd94eacb426eb5362e607be": {
      "model_module": "@jupyter-widgets/base",
      "model_module_version": "1.1.0",
      "model_name": "LayoutModel",
      "state": {}
     },
     "6753c18c29c84a719ac107a316f7e686": {
      "model_module": "@jupyter-widgets/controls",
      "model_module_version": "1.4.0",
      "model_name": "ButtonStyleModel",
      "state": {}
     },
     "67630f426b7448d990ccfa12bade9812": {
      "model_module": "@jupyter-widgets/controls",
      "model_module_version": "1.4.0",
      "model_name": "DescriptionStyleModel",
      "state": {
       "description_width": ""
      }
     },
     "67742562597a4feb82e2a17318ced681": {
      "model_module": "@jupyter-widgets/controls",
      "model_module_version": "1.4.0",
      "model_name": "ButtonModel",
      "state": {
       "button_style": "success",
       "description": "Start Motor Initializaton",
       "layout": "IPY_MODEL_3c5c3c21001441d8b3efd8e273014d0f",
       "style": "IPY_MODEL_6753c18c29c84a719ac107a316f7e686",
       "tooltip": "Click me"
      }
     },
     "6797922286b24ea58d99d0eda94ea45f": {
      "model_module": "@jupyter-widgets/base",
      "model_module_version": "1.1.0",
      "model_name": "LayoutModel",
      "state": {}
     },
     "67c3c95c70864d63b8365b6cfd53dd76": {
      "model_module": "@jupyter-widgets/controls",
      "model_module_version": "1.4.0",
      "model_name": "DescriptionStyleModel",
      "state": {
       "description_width": "initial"
      }
     },
     "67cf044fc566437bbb6fddf55d01f939": {
      "model_module": "@jupyter-widgets/base",
      "model_module_version": "1.1.0",
      "model_name": "LayoutModel",
      "state": {}
     },
     "67f87c534b954a4babea834512a274f6": {
      "model_module": "@jupyter-widgets/base",
      "model_module_version": "1.1.0",
      "model_name": "LayoutModel",
      "state": {}
     },
     "6809688c77e64bf4bcea947447c55cec": {
      "model_module": "@jupyter-widgets/controls",
      "model_module_version": "1.4.0",
      "model_name": "DescriptionStyleModel",
      "state": {
       "description_width": "initial"
      }
     },
     "6812ce60817c461f9f23eeb08c61de4c": {
      "model_module": "@jupyter-widgets/base",
      "model_module_version": "1.1.0",
      "model_name": "LayoutModel",
      "state": {}
     },
     "6846bfdc59494f26be3f9407b9be4d2c": {
      "model_module": "@jupyter-widgets/controls",
      "model_module_version": "1.4.0",
      "model_name": "DescriptionStyleModel",
      "state": {
       "description_width": "initial"
      }
     },
     "684956314cd64013af0c6d9128c7d4cd": {
      "model_module": "@jupyter-widgets/controls",
      "model_module_version": "1.4.0",
      "model_name": "CheckboxModel",
      "state": {
       "description": "Plot with Plotly after scan ends: ",
       "disabled": false,
       "layout": "IPY_MODEL_5902708feb124a5cbd2d4da88be592f9",
       "style": "IPY_MODEL_81bb324623034fa9ab47726e392ebe80",
       "value": false
      }
     },
     "685b3c618dcc4db3a5b4c38c59b4da00": {
      "model_module": "@jupyter-widgets/controls",
      "model_module_version": "1.4.0",
      "model_name": "DescriptionStyleModel",
      "state": {
       "description_width": "initial"
      }
     },
     "6863017a090942979b3bf3f910dddf9c": {
      "model_module": "@jupyter-widgets/controls",
      "model_module_version": "1.4.0",
      "model_name": "VBoxModel",
      "state": {
       "children": [
        "IPY_MODEL_41cf98714dd746868ec7f5ab2c42ebb2"
       ],
       "layout": "IPY_MODEL_61d37d06fd03443dace05270d4603692"
      }
     },
     "68745ead89914d1391f8fa9111249811": {
      "model_module": "@jupyter-widgets/controls",
      "model_module_version": "1.4.0",
      "model_name": "DescriptionStyleModel",
      "state": {
       "description_width": ""
      }
     },
     "68840a9ac0d54a5eb4eaef0a885b0350": {
      "model_module": "@jupyter-widgets/base",
      "model_module_version": "1.1.0",
      "model_name": "LayoutModel",
      "state": {}
     },
     "6887999cccaa4e5198d81275896196a7": {
      "model_module": "@jupyter-widgets/base",
      "model_module_version": "1.1.0",
      "model_name": "LayoutModel",
      "state": {}
     },
     "68b76499e8f846c49bcc637073921079": {
      "model_module": "@jupyter-widgets/controls",
      "model_module_version": "1.4.0",
      "model_name": "BoxModel",
      "state": {
       "layout": "IPY_MODEL_9d093ea51bd64e6f8a17632dfc2fe995"
      }
     },
     "68cff66dfff3453cacee6c3fa561fcd5": {
      "buffers": [
       {
        "data": "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",
        "encoding": "base64",
        "path": [
         "value"
        ]
       }
      ],
      "model_module": "@jupyter-widgets/controls",
      "model_module_version": "1.4.0",
      "model_name": "ImageModel",
      "state": {
       "height": "35",
       "layout": "IPY_MODEL_8d149b0531a0407081763418f32fec0f",
       "value": {},
       "width": "35"
      }
     },
     "68f5b58ebd3a4c348d62559490eec897": {
      "model_module": "@jupyter-widgets/base",
      "model_module_version": "1.1.0",
      "model_name": "LayoutModel",
      "state": {}
     },
     "691c23e7eeba46b19cd8831f3a24d150": {
      "model_module": "@jupyter-widgets/base",
      "model_module_version": "1.1.0",
      "model_name": "LayoutModel",
      "state": {}
     },
     "6971fdc71bd7485d946982a3e21665bc": {
      "model_module": "@jupyter-widgets/controls",
      "model_module_version": "1.4.0",
      "model_name": "TextareaModel",
      "state": {
       "layout": "IPY_MODEL_700c188ca08d4e4fb86483a4a8b14bea",
       "placeholder": "Example: IOC:m1.DMOV IOC:m3.RBV LNLS:ANEL:corrente.VAL",
       "style": "IPY_MODEL_faafaeb702f24a71b5e4b61a95bf9672"
      }
     },
     "698b8b45cf1d4a62a3c375486dde831b": {
      "model_module": "@jupyter-widgets/base",
      "model_module_version": "1.1.0",
      "model_name": "LayoutModel",
      "state": {}
     },
     "69c126fbb20541989bc6ecb2c53199b2": {
      "model_module": "@jupyter-widgets/base",
      "model_module_version": "1.1.0",
      "model_name": "LayoutModel",
      "state": {}
     },
     "69d9c2fb522843d9be178aeca14bb376": {
      "model_module": "@jupyter-widgets/base",
      "model_module_version": "1.1.0",
      "model_name": "LayoutModel",
      "state": {}
     },
     "69f2809481cf4ff5b5920b6cd9eb88ab": {
      "model_module": "@jupyter-widgets/base",
      "model_module_version": "1.1.0",
      "model_name": "LayoutModel",
      "state": {}
     },
     "6a4bb6f819134cf7a043c46e3a702290": {
      "model_module": "@jupyter-widgets/controls",
      "model_module_version": "1.4.0",
      "model_name": "ButtonStyleModel",
      "state": {}
     },
     "6a63ba1956ec4df896213276c0c14d68": {
      "model_module": "@jupyter-widgets/base",
      "model_module_version": "1.1.0",
      "model_name": "LayoutModel",
      "state": {
       "height": "40px",
       "width": "40px"
      }
     },
     "6ab26ec45abc4810b5d9c14979637cda": {
      "model_module": "@jupyter-widgets/base",
      "model_module_version": "1.1.0",
      "model_name": "LayoutModel",
      "state": {
       "width": "300px"
      }
     },
     "6ad70309eabb4be4a11478ba648964c3": {
      "model_module": "@jupyter-widgets/controls",
      "model_module_version": "1.4.0",
      "model_name": "ButtonStyleModel",
      "state": {}
     },
     "6b094b3df973414194ab7a3dc24193ea": {
      "model_module": "@jupyter-widgets/base",
      "model_module_version": "1.1.0",
      "model_name": "LayoutModel",
      "state": {}
     },
     "6b3418b12c6d4adf8be70913fd2c091b": {
      "model_module": "@jupyter-widgets/base",
      "model_module_version": "1.1.0",
      "model_name": "LayoutModel",
      "state": {}
     },
     "6b363e4683694343b23eb1e4b4ded9b1": {
      "model_module": "@jupyter-widgets/controls",
      "model_module_version": "1.4.0",
      "model_name": "ButtonStyleModel",
      "state": {}
     },
     "6b411fc45bea4ae9a45fab30b5c292cd": {
      "model_module": "@jupyter-widgets/base",
      "model_module_version": "1.1.0",
      "model_name": "LayoutModel",
      "state": {
       "width": "300px"
      }
     },
     "6b4ba0657b6a405d8c6d7853e94ecec0": {
      "model_module": "@jupyter-widgets/output",
      "model_module_version": "1.0.0",
      "model_name": "OutputModel",
      "state": {
       "layout": "IPY_MODEL_3049e543498c4a0e8297c1937d7065ef"
      }
     },
     "6b695135b26d46ebafa3a4a89c679de9": {
      "model_module": "@jupyter-widgets/controls",
      "model_module_version": "1.4.0",
      "model_name": "ButtonModel",
      "state": {
       "button_style": "warning",
       "description": "Export Notebook to Latex",
       "layout": "IPY_MODEL_bc4e9776c6f542338aa7691b14e631fb",
       "style": "IPY_MODEL_792cb0f13297401d890ac2cf8a660bd1",
       "tooltip": "Click me"
      }
     },
     "6b6a2e7a716b4cbd9c5e59809dd7abc8": {
      "model_module": "@jupyter-widgets/controls",
      "model_module_version": "1.4.0",
      "model_name": "CheckboxModel",
      "state": {
       "description": "Plot with PyQtGraph after scan ends: ",
       "disabled": false,
       "layout": "IPY_MODEL_ee821d08163b4433b2d27a0df8db7f7d",
       "style": "IPY_MODEL_4f2f71c52b0f48f99d3121516d38a50f",
       "value": true
      }
     },
     "6b7238cf0efc40ae9d2783079bbb39bf": {
      "model_module": "@jupyter-widgets/base",
      "model_module_version": "1.1.0",
      "model_name": "LayoutModel",
      "state": {}
     },
     "6b9a18a7a590458aba2c90be139bb472": {
      "model_module": "@jupyter-widgets/controls",
      "model_module_version": "1.4.0",
      "model_name": "CheckboxModel",
      "state": {
       "description": "Print log in Notebook's cells",
       "disabled": false,
       "layout": "IPY_MODEL_21bb2c661a4d493cb4db694e17fbd7f7",
       "style": "IPY_MODEL_198a038f25614a78ad376f3c413ec984",
       "value": false
      }
     },
     "6ba662010deb45fe8e96ce46596d709d": {
      "model_module": "@jupyter-widgets/output",
      "model_module_version": "1.0.0",
      "model_name": "OutputModel",
      "state": {
       "layout": "IPY_MODEL_9e4221ae81c147148d09b5b0ab50e0aa"
      }
     },
     "6bb12e0239eb42b09b7197658353613f": {
      "model_module": "@jupyter-widgets/base",
      "model_module_version": "1.1.0",
      "model_name": "LayoutModel",
      "state": {}
     },
     "6bebbf67da89490baefb0d0411e5ca5e": {
      "model_module": "@jupyter-widgets/controls",
      "model_module_version": "1.4.0",
      "model_name": "TextModel",
      "state": {
       "layout": "IPY_MODEL_234948dc60454f91b786a709b049befa",
       "placeholder": "Type the notebook's name without file format",
       "style": "IPY_MODEL_63926cd48b84464891588b013bffc75c"
      }
     },
     "6bf54c37c0144d688ea67e4dcb46044c": {
      "model_module": "@jupyter-widgets/controls",
      "model_module_version": "1.4.0",
      "model_name": "ButtonModel",
      "state": {
       "button_style": "warning",
       "description": "Export Notebook to HTML",
       "layout": "IPY_MODEL_c84868c7afdf46fc820a7fdfaef08345",
       "style": "IPY_MODEL_81c522fe00484c31b24470bf300261d8",
       "tooltip": "Click me"
      }
     },
     "6c5129726514423da7d3447f9f509f3c": {
      "model_module": "@jupyter-widgets/controls",
      "model_module_version": "1.4.0",
      "model_name": "CheckboxModel",
      "state": {
       "description": "Plot with PyQtGraph after scan ends: ",
       "disabled": false,
       "layout": "IPY_MODEL_fc75357e0f284cd7a570a15289929afe",
       "style": "IPY_MODEL_ed3f57cf0cd4461fa8e39e428396be2d",
       "value": true
      }
     },
     "6c600497ecdf49a4a8c2398a3782edcf": {
      "model_module": "@jupyter-widgets/output",
      "model_module_version": "1.0.0",
      "model_name": "OutputModel",
      "state": {
       "layout": "IPY_MODEL_299b9be67ccd4b2597e0cc57c2a4a3df"
      }
     },
     "6c877ff2aa794ade984b9e29b90d5164": {
      "model_module": "@jupyter-widgets/controls",
      "model_module_version": "1.4.0",
      "model_name": "DescriptionStyleModel",
      "state": {
       "description_width": "initial"
      }
     },
     "6caeab7c6f9b4872ba25fb8e74d0692e": {
      "model_module": "@jupyter-widgets/base",
      "model_module_version": "1.1.0",
      "model_name": "LayoutModel",
      "state": {}
     },
     "6ccaf71d8eb2418598ac69bb957d2785": {
      "model_module": "@jupyter-widgets/base",
      "model_module_version": "1.1.0",
      "model_name": "LayoutModel",
      "state": {}
     },
     "6ce426806ec445ba9a3e67bfe4328d90": {
      "model_module": "@jupyter-widgets/base",
      "model_module_version": "1.1.0",
      "model_name": "LayoutModel",
      "state": {}
     },
     "6d1d788dc4564e94a931b7091563a999": {
      "model_module": "@jupyter-widgets/output",
      "model_module_version": "1.0.0",
      "model_name": "OutputModel",
      "state": {
       "layout": "IPY_MODEL_5301b0f8a04442f08f9505f6082c052a"
      }
     },
     "6d629e26eeba4880a41c5b01c3dc195f": {
      "model_module": "@jupyter-widgets/controls",
      "model_module_version": "1.4.0",
      "model_name": "LabelModel",
      "state": {
       "layout": "IPY_MODEL_eada98dd4d7d4d32b1a28c4461094455",
       "style": "IPY_MODEL_78cccbca3c3a4e2fbf59d6e55bfac7d8",
       "value": "Notebook's name: "
      }
     },
     "6d6f032929b2434c9d05ab51be76f53e": {
      "model_module": "@jupyter-widgets/controls",
      "model_module_version": "1.4.0",
      "model_name": "TextareaModel",
      "state": {
       "layout": "IPY_MODEL_e23b4d94d2824a6ab1c82200f12f532f",
       "placeholder": "Example: IOC:m1.DMOV IOC:m3.RBV LNLS:ANEL:corrente.VAL",
       "style": "IPY_MODEL_e941d20272ed4f43b0096b6753abc2dc"
      }
     },
     "6ded7f5747bc4ad3aec38fb87cd9c2b3": {
      "model_module": "@jupyter-widgets/base",
      "model_module_version": "1.1.0",
      "model_name": "LayoutModel",
      "state": {}
     },
     "6dff5491f2504ae4987193b5e5b7ea39": {
      "model_module": "@jupyter-widgets/controls",
      "model_module_version": "1.4.0",
      "model_name": "ButtonStyleModel",
      "state": {}
     },
     "6e00996198b844ad95a40875b4e9670b": {
      "model_module": "@jupyter-widgets/controls",
      "model_module_version": "1.4.0",
      "model_name": "TextareaModel",
      "state": {
       "layout": "IPY_MODEL_42d9acf31a3d4727bc78dbfdfd5040fe",
       "placeholder": "Example: IOC:m1.DMOV IOC:m3.RBV LNLS:ANEL:corrente.VAL",
       "style": "IPY_MODEL_a87b7b4dbafa45cea8bb15b11ab4e928"
      }
     },
     "6e08df220d5140f39693d33cd05736e5": {
      "model_module": "@jupyter-widgets/controls",
      "model_module_version": "1.4.0",
      "model_name": "VBoxModel",
      "state": {
       "children": [
        "IPY_MODEL_a2d6c0efbc03461983a4b3b9f4128299",
        "IPY_MODEL_6971fdc71bd7485d946982a3e21665bc"
       ],
       "layout": "IPY_MODEL_fb6af006d7f24941a92ee945520f6179"
      }
     },
     "6e0b4f41084240a6b81dc439b1836cd2": {
      "model_module": "@jupyter-widgets/controls",
      "model_module_version": "1.4.0",
      "model_name": "VBoxModel",
      "state": {
       "children": [
        "IPY_MODEL_3e1b2a9bf0224d25ac86fe20610a76ae"
       ],
       "layout": "IPY_MODEL_2f5f19acba1b4ffd99ada39cb54055b7"
      }
     },
     "6e2622485f3c441098647e079866ea5e": {
      "model_module": "@jupyter-widgets/base",
      "model_module_version": "1.1.0",
      "model_name": "LayoutModel",
      "state": {
       "width": "300px"
      }
     },
     "6e361cdd797e4f3193869fdcba524949": {
      "model_module": "@jupyter-widgets/controls",
      "model_module_version": "1.4.0",
      "model_name": "DescriptionStyleModel",
      "state": {
       "description_width": "initial"
      }
     },
     "6e4c7ee9726c4583895b0589a1f6f502": {
      "model_module": "@jupyter-widgets/controls",
      "model_module_version": "1.4.0",
      "model_name": "BoxModel",
      "state": {
       "layout": "IPY_MODEL_008c4d5704d74418898e234ea1920fa8"
      }
     },
     "6e7d1ec805974a79bcf9465724066e50": {
      "model_module": "@jupyter-widgets/controls",
      "model_module_version": "1.4.0",
      "model_name": "TextModel",
      "state": {
       "layout": "IPY_MODEL_059f6342791b47e2bcb62c8ea4677de8",
       "placeholder": "Type the notebook's name without file format",
       "style": "IPY_MODEL_55bac81e351148a2ad3e780a3d618efd"
      }
     },
     "6ec121b8d6ba4456885c6b811477fc75": {
      "model_module": "@jupyter-widgets/base",
      "model_module_version": "1.1.0",
      "model_name": "LayoutModel",
      "state": {}
     },
     "6ed19b00494a4d41bcb5380e001a2f0d": {
      "model_module": "@jupyter-widgets/base",
      "model_module_version": "1.1.0",
      "model_name": "LayoutModel",
      "state": {}
     },
     "6ed34ffb9d164ce3bfa9bbf4409f1312": {
      "buffers": [
       {
        "data": "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",
        "encoding": "base64",
        "path": [
         "value"
        ]
       }
      ],
      "model_module": "@jupyter-widgets/controls",
      "model_module_version": "1.4.0",
      "model_name": "ImageModel",
      "state": {
       "height": "35",
       "layout": "IPY_MODEL_f3ac0077c7a040d38c6e1e0021f54256",
       "value": {},
       "width": "35"
      }
     },
     "6f132f1f978f47548f2fa7342b27378b": {
      "model_module": "@jupyter-widgets/controls",
      "model_module_version": "1.4.0",
      "model_name": "ButtonStyleModel",
      "state": {}
     },
     "6f58a13edb4745868df8f230a0cc7d16": {
      "model_module": "@jupyter-widgets/base",
      "model_module_version": "1.1.0",
      "model_name": "LayoutModel",
      "state": {
       "width": "300px"
      }
     },
     "6f68a844ccee450386f0af763fb8bf4f": {
      "model_module": "@jupyter-widgets/output",
      "model_module_version": "1.0.0",
      "model_name": "OutputModel",
      "state": {
       "layout": "IPY_MODEL_38c6391239ef4101b7cbd44a788199a0"
      }
     },
     "6f8eb7bf7fd84c7989ec66f44ee8713b": {
      "model_module": "@jupyter-widgets/base",
      "model_module_version": "1.1.0",
      "model_name": "LayoutModel",
      "state": {
       "width": "300px"
      }
     },
     "6fe685912de248a8a74c6e9f600ac5b1": {
      "model_module": "@jupyter-widgets/controls",
      "model_module_version": "1.4.0",
      "model_name": "ButtonStyleModel",
      "state": {}
     },
     "700c188ca08d4e4fb86483a4a8b14bea": {
      "model_module": "@jupyter-widgets/base",
      "model_module_version": "1.1.0",
      "model_name": "LayoutModel",
      "state": {}
     },
     "700c977e402744668c77e111f5d1caf0": {
      "model_module": "@jupyter-widgets/base",
      "model_module_version": "1.1.0",
      "model_name": "LayoutModel",
      "state": {}
     },
     "702105d5467146af85ce5ef547e99ba3": {
      "model_module": "@jupyter-widgets/controls",
      "model_module_version": "1.4.0",
      "model_name": "DescriptionStyleModel",
      "state": {
       "description_width": ""
      }
     },
     "702d9aa5c6664ff1bff6fd5f1f4b96d0": {
      "model_module": "@jupyter-widgets/controls",
      "model_module_version": "1.4.0",
      "model_name": "BoxModel",
      "state": {
       "layout": "IPY_MODEL_7f93fbbb03ea4bdbb556793d359a6b2e"
      }
     },
     "705c1b2ae82b4e4fb2980c61c27f0470": {
      "model_module": "@jupyter-widgets/output",
      "model_module_version": "1.0.0",
      "model_name": "OutputModel",
      "state": {
       "layout": "IPY_MODEL_adc4fd4a4f7e4ed7a1c51282564a3d5d"
      }
     },
     "70c00a2c08cc4327ae6049230d568e8a": {
      "model_module": "@jupyter-widgets/controls",
      "model_module_version": "1.4.0",
      "model_name": "CheckboxModel",
      "state": {
       "description": "Plot with PyQtGraph after scan ends: ",
       "disabled": false,
       "layout": "IPY_MODEL_5fb4dd5db3544dca9f5c6ae1b689f1b3",
       "style": "IPY_MODEL_0781f7cc4ca441958b9e156fff67cafb",
       "value": true
      }
     },
     "710e1d44d47e4a658028c2b718d18a33": {
      "model_module": "@jupyter-widgets/controls",
      "model_module_version": "1.4.0",
      "model_name": "DescriptionStyleModel",
      "state": {
       "description_width": ""
      }
     },
     "713354fdfac744e0927e5863e7991c3b": {
      "model_module": "@jupyter-widgets/controls",
      "model_module_version": "1.4.0",
      "model_name": "DropdownModel",
      "state": {
       "_options_labels": [
        "Plot after ends with PyQt",
        "Plot after ends with Plotly",
        "Live Plot"
       ],
       "index": 1,
       "layout": "IPY_MODEL_a391b600c80340a18ac2d823baf10c99",
       "style": "IPY_MODEL_e922ba1f6f344cfbb839a173c7905621"
      }
     },
     "71bcc5ce280249608809795b8a261fed": {
      "model_module": "@jupyter-widgets/controls",
      "model_module_version": "1.4.0",
      "model_name": "ButtonModel",
      "state": {
       "button_style": "success",
       "description": "Start Manual Alignment",
       "layout": "IPY_MODEL_72098959b81c4ff195202d0b8b1214b7",
       "style": "IPY_MODEL_55b9bf74c9a64353a97b54e0723b9606",
       "tooltip": "Click me"
      }
     },
     "71d10fb6ef2c41249806ba0a95ca9f85": {
      "model_module": "@jupyter-widgets/output",
      "model_module_version": "1.0.0",
      "model_name": "OutputModel",
      "state": {
       "layout": "IPY_MODEL_9e6f0f11546c4d63ab3e5861a14353b4"
      }
     },
     "71dbe1935d4f460690e29eeb3e77f7b0": {
      "model_module": "@jupyter-widgets/output",
      "model_module_version": "1.0.0",
      "model_name": "OutputModel",
      "state": {
       "layout": "IPY_MODEL_bd18327f225e4efbb2564265f182a6b1"
      }
     },
     "71ee7a2df0c84be4934e0fcc21ac7178": {
      "model_module": "@jupyter-widgets/controls",
      "model_module_version": "1.4.0",
      "model_name": "DescriptionStyleModel",
      "state": {
       "description_width": "initial"
      }
     },
     "71f040797e73455b8b2329b146d1b78d": {
      "model_module": "@jupyter-widgets/base",
      "model_module_version": "1.1.0",
      "model_name": "LayoutModel",
      "state": {
       "width": "300px"
      }
     },
     "72098959b81c4ff195202d0b8b1214b7": {
      "model_module": "@jupyter-widgets/base",
      "model_module_version": "1.1.0",
      "model_name": "LayoutModel",
      "state": {
       "width": "300px"
      }
     },
     "72372934bfb94f97bd0df2535f4eec56": {
      "model_module": "@jupyter-widgets/output",
      "model_module_version": "1.0.0",
      "model_name": "OutputModel",
      "state": {
       "layout": "IPY_MODEL_67f87c534b954a4babea834512a274f6"
      }
     },
     "7245c002e354482690cb018c6a49f258": {
      "model_module": "@jupyter-widgets/base",
      "model_module_version": "1.1.0",
      "model_name": "LayoutModel",
      "state": {
       "width": "300px"
      }
     },
     "724c2c45d4944d41a520b193a9c10954": {
      "model_module": "@jupyter-widgets/base",
      "model_module_version": "1.1.0",
      "model_name": "LayoutModel",
      "state": {}
     },
     "7250ff9a66b14c86aaf2cd89270b798f": {
      "model_module": "@jupyter-widgets/controls",
      "model_module_version": "1.4.0",
      "model_name": "DropdownModel",
      "state": {
       "_options_labels": [
        "Plot after ends with PyQt",
        "Plot after ends with Plotly",
        "Live Plot"
       ],
       "index": 0,
       "layout": "IPY_MODEL_434812c10ecb4d8daa681c26208637e7",
       "style": "IPY_MODEL_89d1af9c491642acb2d73698bec9c1e1"
      }
     },
     "726b718a2a9d424e9a43d201a5423c47": {
      "model_module": "@jupyter-widgets/controls",
      "model_module_version": "1.4.0",
      "model_name": "ButtonStyleModel",
      "state": {}
     },
     "7280306c37c242e28b496622bb769e45": {
      "model_module": "@jupyter-widgets/base",
      "model_module_version": "1.1.0",
      "model_name": "LayoutModel",
      "state": {}
     },
     "72b35bc836a94cfc8d2d2e0c9cf328e1": {
      "model_module": "@jupyter-widgets/output",
      "model_module_version": "1.0.0",
      "model_name": "OutputModel",
      "state": {
       "layout": "IPY_MODEL_18d7461279994f02b7c8016e59a339df"
      }
     },
     "72bb9095e7214bb19b19caaf52f771f4": {
      "model_module": "@jupyter-widgets/base",
      "model_module_version": "1.1.0",
      "model_name": "LayoutModel",
      "state": {}
     },
     "72dc1e500bf44140bab6ae06b9209a72": {
      "model_module": "@jupyter-widgets/base",
      "model_module_version": "1.1.0",
      "model_name": "LayoutModel",
      "state": {
       "width": "300px"
      }
     },
     "72f6492ddd4a4443ae84f66fea219e70": {
      "model_module": "@jupyter-widgets/base",
      "model_module_version": "1.1.0",
      "model_name": "LayoutModel",
      "state": {}
     },
     "73275c80ed9d4bf8b45eef4b5484f7d1": {
      "model_module": "@jupyter-widgets/base",
      "model_module_version": "1.1.0",
      "model_name": "LayoutModel",
      "state": {}
     },
     "73292cdefcb14c63adcf48bb6ec1465d": {
      "model_module": "@jupyter-widgets/controls",
      "model_module_version": "1.4.0",
      "model_name": "CheckboxModel",
      "state": {
       "description": "Live plot in Jupyter: ",
       "disabled": true,
       "layout": "IPY_MODEL_5a99fbbdccc443fda096d95f4cc2fbeb",
       "style": "IPY_MODEL_7349eba5a41348a08d8f107054454bb1",
       "value": false
      }
     },
     "7334c55ef01949178bd7c79b8540d269": {
      "model_module": "@jupyter-widgets/controls",
      "model_module_version": "1.4.0",
      "model_name": "CheckboxModel",
      "state": {
       "description": "Plot with Plotly after scan ends: ",
       "disabled": false,
       "layout": "IPY_MODEL_b1e00e7dc91b499a81a4afa66ffa91d4",
       "style": "IPY_MODEL_a9db7c0851ba4acca633cdf060a0ff75",
       "value": false
      }
     },
     "7349eba5a41348a08d8f107054454bb1": {
      "model_module": "@jupyter-widgets/controls",
      "model_module_version": "1.4.0",
      "model_name": "DescriptionStyleModel",
      "state": {
       "description_width": "initial"
      }
     },
     "73547dccf7054d848d8d6aea5446a5a2": {
      "model_module": "@jupyter-widgets/base",
      "model_module_version": "1.1.0",
      "model_name": "LayoutModel",
      "state": {
       "width": "300px"
      }
     },
     "73a77ee8b4c74c32a86be17da38c2f40": {
      "model_module": "@jupyter-widgets/base",
      "model_module_version": "1.1.0",
      "model_name": "LayoutModel",
      "state": {}
     },
     "73b15679c8fe4952b31aada3ceda76e8": {
      "model_module": "@jupyter-widgets/base",
      "model_module_version": "1.1.0",
      "model_name": "LayoutModel",
      "state": {}
     },
     "73eb034185ee4715b15b41118b82a838": {
      "model_module": "@jupyter-widgets/controls",
      "model_module_version": "1.4.0",
      "model_name": "ButtonModel",
      "state": {
       "button_style": "success",
       "description": "Start Scanning Plot",
       "layout": "IPY_MODEL_7f3733baa0d94b6fae6ea464041e1757",
       "style": "IPY_MODEL_a07670da53b24e678dc8ccce05117f21",
       "tooltip": "Click me"
      }
     },
     "74066e52f88743a48fb3b5cb4b755786": {
      "model_module": "@jupyter-widgets/base",
      "model_module_version": "1.1.0",
      "model_name": "LayoutModel",
      "state": {
       "width": "300px"
      }
     },
     "7408c054b03145d685175fdc862b39c2": {
      "model_module": "@jupyter-widgets/controls",
      "model_module_version": "1.4.0",
      "model_name": "BoxModel",
      "state": {
       "layout": "IPY_MODEL_e3a03382890f4169b676ba085fdb3e21"
      }
     },
     "7420f1acc5eb43399b3d7ebc6935a4f2": {
      "model_module": "@jupyter-widgets/base",
      "model_module_version": "1.1.0",
      "model_name": "LayoutModel",
      "state": {
       "width": "300px"
      }
     },
     "743668527c85433fb00c52089032ea6d": {
      "model_module": "@jupyter-widgets/controls",
      "model_module_version": "1.4.0",
      "model_name": "DescriptionStyleModel",
      "state": {
       "description_width": ""
      }
     },
     "747fa1b6309940a9a2f7ae923e738435": {
      "model_module": "@jupyter-widgets/base",
      "model_module_version": "1.1.0",
      "model_name": "LayoutModel",
      "state": {}
     },
     "74edac7a66cd4fca9b04480858b1c741": {
      "model_module": "@jupyter-widgets/base",
      "model_module_version": "1.1.0",
      "model_name": "LayoutModel",
      "state": {}
     },
     "7578aa32facf45eea526a7b2d9148080": {
      "model_module": "@jupyter-widgets/base",
      "model_module_version": "1.1.0",
      "model_name": "LayoutModel",
      "state": {
       "width": "300px"
      }
     },
     "758a6b9ebde84821880693ca5fabcb17": {
      "model_module": "@jupyter-widgets/controls",
      "model_module_version": "1.4.0",
      "model_name": "DescriptionStyleModel",
      "state": {
       "description_width": ""
      }
     },
     "759477a0d26c475ca931c32c40c3fb94": {
      "model_module": "@jupyter-widgets/controls",
      "model_module_version": "1.4.0",
      "model_name": "CheckboxModel",
      "state": {
       "description": "Live plot in Jupyter: ",
       "disabled": false,
       "layout": "IPY_MODEL_411b1f88387a4f94a32d2c30151c92b0",
       "style": "IPY_MODEL_bec1356f3f1b424d942de79db97ab799",
       "value": false
      }
     },
     "75c14d8ce832401da3126bf505704ea2": {
      "model_module": "@jupyter-widgets/controls",
      "model_module_version": "1.4.0",
      "model_name": "ButtonStyleModel",
      "state": {}
     },
     "75c33e9c0c01499698587beb84ed913a": {
      "model_module": "@jupyter-widgets/base",
      "model_module_version": "1.1.0",
      "model_name": "LayoutModel",
      "state": {}
     },
     "75c9e8a6d5ba42d695e715f1367ab5fa": {
      "model_module": "@jupyter-widgets/base",
      "model_module_version": "1.1.0",
      "model_name": "LayoutModel",
      "state": {
       "width": "300px"
      }
     },
     "75d6b1a2facc46e19123c0c592424c92": {
      "model_module": "@jupyter-widgets/base",
      "model_module_version": "1.1.0",
      "model_name": "LayoutModel",
      "state": {
       "width": "300px"
      }
     },
     "76188d4390bb45308906f1d7597c7bb5": {
      "model_module": "@jupyter-widgets/base",
      "model_module_version": "1.1.0",
      "model_name": "LayoutModel",
      "state": {}
     },
     "7626ca75f14f46aa905b69252a3f182b": {
      "model_module": "@jupyter-widgets/controls",
      "model_module_version": "1.4.0",
      "model_name": "ButtonModel",
      "state": {
       "button_style": "success",
       "description": "Start Motor Initializaton",
       "layout": "IPY_MODEL_7b9953c32b0b4c3689b595074fe7ad27",
       "style": "IPY_MODEL_91f41b93d2a44797acbfc6f488df6a29",
       "tooltip": "Click me"
      }
     },
     "768ef98fb24a4c088a6854236c818cbc": {
      "model_module": "@jupyter-widgets/base",
      "model_module_version": "1.1.0",
      "model_name": "LayoutModel",
      "state": {}
     },
     "768f6adbe5794790aa31e346cd6452f9": {
      "model_module": "@jupyter-widgets/base",
      "model_module_version": "1.1.0",
      "model_name": "LayoutModel",
      "state": {}
     },
     "768fc38fbcc246a8b58bec2d4cfc739e": {
      "model_module": "@jupyter-widgets/controls",
      "model_module_version": "1.4.0",
      "model_name": "TextareaModel",
      "state": {
       "layout": "IPY_MODEL_6013ab0ed18647278efbcc3e0d5d5577",
       "placeholder": "Example: IOC:m1 IOC:m3 LNLS:TEST:motor_g3",
       "style": "IPY_MODEL_43beff9f5cfb4ebbad5507cccc072ba9"
      }
     },
     "76cb2d9ac022473abe3b416eeeaab8c7": {
      "model_module": "@jupyter-widgets/base",
      "model_module_version": "1.1.0",
      "model_name": "LayoutModel",
      "state": {}
     },
     "76ea4de1f73140a6a7c22682623d471f": {
      "model_module": "@jupyter-widgets/output",
      "model_module_version": "1.0.0",
      "model_name": "OutputModel",
      "state": {
       "layout": "IPY_MODEL_9477a8f121454e309119e42f9e43d386"
      }
     },
     "76fff43f05cd492e8205cc089e00ac9d": {
      "model_module": "@jupyter-widgets/output",
      "model_module_version": "1.0.0",
      "model_name": "OutputModel",
      "state": {
       "layout": "IPY_MODEL_39599f7bd39d495997c6402e71a7fe16"
      }
     },
     "771242d7a3c24087bcb9cc3395c9b136": {
      "model_module": "@jupyter-widgets/controls",
      "model_module_version": "1.4.0",
      "model_name": "ButtonModel",
      "state": {
       "button_style": "success",
       "description": "Start Manual Alignment",
       "layout": "IPY_MODEL_010d16fad42f4e5dabdca34d9f6344e6",
       "style": "IPY_MODEL_d782d87f43af479da94e86e85dc08766",
       "tooltip": "Click me"
      }
     },
     "7719b2c61e074cec822fe073b914196b": {
      "model_module": "plotlywidget",
      "model_module_version": "0.8.0",
      "model_name": "FigureModel",
      "state": {
       "_config": {
        "plotlyServerURL": "https://plot.ly"
       },
       "_js2py_layoutDelta": {},
       "_js2py_pointsCallback": {},
       "_js2py_relayout": {},
       "_js2py_restyle": {},
       "_js2py_traceDeltas": {},
       "_js2py_update": {},
       "_layout": {
        "template": {}
       },
       "_model_module_version": "0.8.0",
       "_py2js_addTraces": {},
       "_py2js_animate": {},
       "_py2js_deleteTraces": {},
       "_py2js_moveTraces": {},
       "_py2js_removeLayoutProps": {},
       "_py2js_removeTraceProps": {},
       "_py2js_restyle": {},
       "_py2js_update": {},
       "_view_count": 0,
       "_view_module_version": "0.8.0"
      }
     },
     "7727d8a3f9e24cba876bd0292e56d0c9": {
      "model_module": "@jupyter-widgets/controls",
      "model_module_version": "1.4.0",
      "model_name": "CheckboxModel",
      "state": {
       "description": "Plot with Plotly after scan ends: ",
       "disabled": true,
       "layout": "IPY_MODEL_1f44b3786aa446b7b30b6459e3b78ff6",
       "style": "IPY_MODEL_e3b44495ef154e2eaa34cec39f8514fa",
       "value": false
      }
     },
     "7741126555cc417dbfd82f19c1a046ae": {
      "model_module": "@jupyter-widgets/base",
      "model_module_version": "1.1.0",
      "model_name": "LayoutModel",
      "state": {
       "height": "40px",
       "width": "40px"
      }
     },
     "77f5083ef6434ebabd4ffb9e26ef83d1": {
      "model_module": "@jupyter-widgets/controls",
      "model_module_version": "1.4.0",
      "model_name": "DescriptionStyleModel",
      "state": {
       "description_width": ""
      }
     },
     "7875d3a428c64c379a6797990e59d812": {
      "model_module": "@jupyter-widgets/base",
      "model_module_version": "1.1.0",
      "model_name": "LayoutModel",
      "state": {}
     },
     "7898c4aa903647778d740103f1d03601": {
      "model_module": "@jupyter-widgets/base",
      "model_module_version": "1.1.0",
      "model_name": "LayoutModel",
      "state": {}
     },
     "78cccbca3c3a4e2fbf59d6e55bfac7d8": {
      "model_module": "@jupyter-widgets/controls",
      "model_module_version": "1.4.0",
      "model_name": "DescriptionStyleModel",
      "state": {
       "description_width": ""
      }
     },
     "78e31a9e37284274b96706df51664f1a": {
      "model_module": "@jupyter-widgets/controls",
      "model_module_version": "1.4.0",
      "model_name": "LabelModel",
      "state": {
       "layout": "IPY_MODEL_bf9e8d9be6a841fb86bb37444134ef11",
       "style": "IPY_MODEL_0590b523b26d448d8f60a43ad2b8b7ad",
       "value": "Notebook's name: "
      }
     },
     "78ef8ad7584348cb9460827d4e7c198a": {
      "model_module": "@jupyter-widgets/controls",
      "model_module_version": "1.4.0",
      "model_name": "DropdownModel",
      "state": {
       "_options_labels": [
        "Plot after ends with PyQt",
        "Plot after ends with Plotly",
        "Live Plot"
       ],
       "disabled": true,
       "index": 1,
       "layout": "IPY_MODEL_914fd007413a4dcd8a1665c5f2416bb9",
       "style": "IPY_MODEL_0403ce9c051d45dba63200b00f46b10e"
      }
     },
     "790304abd5f74babb7b97f06f07aa433": {
      "model_module": "@jupyter-widgets/base",
      "model_module_version": "1.1.0",
      "model_name": "LayoutModel",
      "state": {}
     },
     "792cb0f13297401d890ac2cf8a660bd1": {
      "model_module": "@jupyter-widgets/controls",
      "model_module_version": "1.4.0",
      "model_name": "ButtonStyleModel",
      "state": {}
     },
     "79a4049a92404449b3f280de311a1b5e": {
      "model_module": "@jupyter-widgets/base",
      "model_module_version": "1.1.0",
      "model_name": "LayoutModel",
      "state": {}
     },
     "79b15f2c3fd3416297510782b368836d": {
      "model_module": "@jupyter-widgets/base",
      "model_module_version": "1.1.0",
      "model_name": "LayoutModel",
      "state": {}
     },
     "79c2f44ee2734326bc7f6036859e580b": {
      "model_module": "@jupyter-widgets/controls",
      "model_module_version": "1.4.0",
      "model_name": "CheckboxModel",
      "state": {
       "description": "Print log in Notebook's cells",
       "disabled": false,
       "layout": "IPY_MODEL_a3834c65978840b9ae13bca80daf410d",
       "style": "IPY_MODEL_3963167ccf8e499c92f1cdfe3c0f3ece",
       "value": false
      }
     },
     "7a2420e3993d4a289650f09bdb203c7a": {
      "model_module": "@jupyter-widgets/base",
      "model_module_version": "1.1.0",
      "model_name": "LayoutModel",
      "state": {}
     },
     "7a54aac927704846b26f778aa92a1c71": {
      "model_module": "@jupyter-widgets/base",
      "model_module_version": "1.1.0",
      "model_name": "LayoutModel",
      "state": {}
     },
     "7a576215e8804d4d98299fdf81228c70": {
      "model_module": "@jupyter-widgets/output",
      "model_module_version": "1.0.0",
      "model_name": "OutputModel",
      "state": {
       "layout": "IPY_MODEL_90b469d52b51496080e0cfb6f3c3e5a1"
      }
     },
     "7a9bbf8c34fd420ea454705f45dfe028": {
      "model_module": "@jupyter-widgets/base",
      "model_module_version": "1.1.0",
      "model_name": "LayoutModel",
      "state": {}
     },
     "7ad69f667be04f51bb78a11e586dcca6": {
      "model_module": "@jupyter-widgets/output",
      "model_module_version": "1.0.0",
      "model_name": "OutputModel",
      "state": {
       "layout": "IPY_MODEL_a0f2693026504dfbb1768e05463b8434"
      }
     },
     "7af9bb18f2454bc78fad76ff118381bb": {
      "model_module": "@jupyter-widgets/base",
      "model_module_version": "1.1.0",
      "model_name": "LayoutModel",
      "state": {}
     },
     "7b51b2c00efa49549a150a00be11a442": {
      "model_module": "@jupyter-widgets/base",
      "model_module_version": "1.1.0",
      "model_name": "LayoutModel",
      "state": {}
     },
     "7b713b560380496787fb3c1052a40992": {
      "model_module": "@jupyter-widgets/controls",
      "model_module_version": "1.4.0",
      "model_name": "DescriptionStyleModel",
      "state": {
       "description_width": "initial"
      }
     },
     "7b92fd4e49ee45cca21a54f8f9733fed": {
      "model_module": "@jupyter-widgets/base",
      "model_module_version": "1.1.0",
      "model_name": "LayoutModel",
      "state": {}
     },
     "7b9953c32b0b4c3689b595074fe7ad27": {
      "model_module": "@jupyter-widgets/base",
      "model_module_version": "1.1.0",
      "model_name": "LayoutModel",
      "state": {
       "width": "300px"
      }
     },
     "7ba13f8d57be4a86b27745c812e34499": {
      "model_module": "@jupyter-widgets/base",
      "model_module_version": "1.1.0",
      "model_name": "LayoutModel",
      "state": {
       "width": "300px"
      }
     },
     "7bae9bf3f5f4447c88282421c33349aa": {
      "model_module": "@jupyter-widgets/controls",
      "model_module_version": "1.4.0",
      "model_name": "DescriptionStyleModel",
      "state": {
       "description_width": "initial"
      }
     },
     "7bbcaaaa44374480a0f60e8fb4be70f7": {
      "model_module": "@jupyter-widgets/base",
      "model_module_version": "1.1.0",
      "model_name": "LayoutModel",
      "state": {}
     },
     "7bde4f7e6927499a93a2a47275d43c6b": {
      "buffers": [
       {
        "data": "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",
        "encoding": "base64",
        "path": [
         "value"
        ]
       }
      ],
      "model_module": "@jupyter-widgets/controls",
      "model_module_version": "1.4.0",
      "model_name": "ImageModel",
      "state": {
       "height": "35",
       "layout": "IPY_MODEL_abb86d0275ec4a9a80477061b991a293",
       "value": {},
       "width": "35"
      }
     },
     "7be62995cc094ead91940f7544e7bf63": {
      "model_module": "@jupyter-widgets/base",
      "model_module_version": "1.1.0",
      "model_name": "LayoutModel",
      "state": {}
     },
     "7c21224fb1b4443cbf0ecba99a3eed73": {
      "model_module": "@jupyter-widgets/base",
      "model_module_version": "1.1.0",
      "model_name": "LayoutModel",
      "state": {}
     },
     "7c26096e603b430f894005e97c569906": {
      "model_module": "@jupyter-widgets/controls",
      "model_module_version": "1.4.0",
      "model_name": "HBoxModel",
      "state": {
       "children": [
        "IPY_MODEL_e6b5cb8f04ef4843929cada4cb898ce6",
        "IPY_MODEL_e738fac6e2ce4a16a5b3d7a352fb0cbe"
       ],
       "layout": "IPY_MODEL_5acd5bfde3f6454bb0e69f6f1dcceac2"
      }
     },
     "7cbb138d85e54e18b003bec75b414a0e": {
      "model_module": "@jupyter-widgets/base",
      "model_module_version": "1.1.0",
      "model_name": "LayoutModel",
      "state": {}
     },
     "7cd49e53367348b2a8baa25cedc2a115": {
      "model_module": "@jupyter-widgets/controls",
      "model_module_version": "1.4.0",
      "model_name": "BoxModel",
      "state": {
       "children": [
        "IPY_MODEL_d66b574789174cc6bb77e0b8e9ee14bd"
       ],
       "layout": "IPY_MODEL_6a63ba1956ec4df896213276c0c14d68"
      }
     },
     "7cecd193a34d4cf3b47929a226dba662": {
      "model_module": "@jupyter-widgets/output",
      "model_module_version": "1.0.0",
      "model_name": "OutputModel",
      "state": {
       "layout": "IPY_MODEL_4354f1df9f024fc9868e07f5e8dce6d3"
      }
     },
     "7d1a4cdf6d5d45be9aef7aec9b6a18a4": {
      "model_module": "@jupyter-widgets/base",
      "model_module_version": "1.1.0",
      "model_name": "LayoutModel",
      "state": {}
     },
     "7d44f8671af54454802d8859bc8823c8": {
      "model_module": "@jupyter-widgets/controls",
      "model_module_version": "1.4.0",
      "model_name": "DescriptionStyleModel",
      "state": {
       "description_width": "initial"
      }
     },
     "7d64429e1e934d83b89c2bc9de6c5e30": {
      "model_module": "@jupyter-widgets/base",
      "model_module_version": "1.1.0",
      "model_name": "LayoutModel",
      "state": {}
     },
     "7d79c2986f2c4fbbb4d4bbc4557283a7": {
      "model_module": "@jupyter-widgets/controls",
      "model_module_version": "1.4.0",
      "model_name": "ButtonStyleModel",
      "state": {}
     },
     "7d7c59a9557b4f0c884c6c01cb9ea1c9": {
      "model_module": "@jupyter-widgets/base",
      "model_module_version": "1.1.0",
      "model_name": "LayoutModel",
      "state": {}
     },
     "7da5a51dbdf0492184fb67dae77a9042": {
      "model_module": "@jupyter-widgets/controls",
      "model_module_version": "1.4.0",
      "model_name": "LabelModel",
      "state": {
       "layout": "IPY_MODEL_859ee92b6ba9419383f9efe12ef485bb",
       "style": "IPY_MODEL_467b81bdba7b4a6d87f3caf83df32516",
       "value": "Notebook's name: "
      }
     },
     "7da861d0b144407ea3eec6c89d0a3b37": {
      "model_module": "@jupyter-widgets/base",
      "model_module_version": "1.1.0",
      "model_name": "LayoutModel",
      "state": {}
     },
     "7dd6f5d21c57435f86c954c79640c2bb": {
      "model_module": "@jupyter-widgets/base",
      "model_module_version": "1.1.0",
      "model_name": "LayoutModel",
      "state": {}
     },
     "7ded695a21ac4bc8b2e1f7832deb700e": {
      "model_module": "@jupyter-widgets/base",
      "model_module_version": "1.1.0",
      "model_name": "LayoutModel",
      "state": {}
     },
     "7e312bc3e6094663a6ba0fd87c1c6710": {
      "model_module": "@jupyter-widgets/controls",
      "model_module_version": "1.4.0",
      "model_name": "DescriptionStyleModel",
      "state": {
       "description_width": ""
      }
     },
     "7e3d20fcdcf54af8bcd3390288023fed": {
      "model_module": "@jupyter-widgets/base",
      "model_module_version": "1.1.0",
      "model_name": "LayoutModel",
      "state": {}
     },
     "7e44fe523bba427cb4310d83ca89acc5": {
      "buffers": [
       {
        "data": "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",
        "encoding": "base64",
        "path": [
         "value"
        ]
       }
      ],
      "model_module": "@jupyter-widgets/controls",
      "model_module_version": "1.4.0",
      "model_name": "ImageModel",
      "state": {
       "height": "35",
       "layout": "IPY_MODEL_768f6adbe5794790aa31e346cd6452f9",
       "value": {},
       "width": "35"
      }
     },
     "7ea640b6a4a94ad79732076de2c517ce": {
      "model_module": "@jupyter-widgets/controls",
      "model_module_version": "1.4.0",
      "model_name": "LabelModel",
      "state": {
       "layout": "IPY_MODEL_976606950bae492697f6f3504de47ce0",
       "style": "IPY_MODEL_85717fac2c9a4ebeab9a10c2a8a55b8e",
       "value": "No motors initilized to be showed."
      }
     },
     "7ee4926a60c1463398cd2cb94cde5de7": {
      "model_module": "@jupyter-widgets/base",
      "model_module_version": "1.1.0",
      "model_name": "LayoutModel",
      "state": {}
     },
     "7f1c2d4479e44747bd17b50d50c5f101": {
      "model_module": "@jupyter-widgets/base",
      "model_module_version": "1.1.0",
      "model_name": "LayoutModel",
      "state": {}
     },
     "7f3733baa0d94b6fae6ea464041e1757": {
      "model_module": "@jupyter-widgets/base",
      "model_module_version": "1.1.0",
      "model_name": "LayoutModel",
      "state": {
       "width": "300px"
      }
     },
     "7f93fbbb03ea4bdbb556793d359a6b2e": {
      "model_module": "@jupyter-widgets/base",
      "model_module_version": "1.1.0",
      "model_name": "LayoutModel",
      "state": {}
     },
     "7fa425b12fde49a19a6cc4d3ecbc5a6d": {
      "model_module": "@jupyter-widgets/base",
      "model_module_version": "1.1.0",
      "model_name": "LayoutModel",
      "state": {}
     },
     "7fac53aeec0040ff9472c3d724052ed4": {
      "model_module": "@jupyter-widgets/controls",
      "model_module_version": "1.4.0",
      "model_name": "DescriptionStyleModel",
      "state": {
       "description_width": "initial"
      }
     },
     "7fe59d499c384f68aaec2be962057ded": {
      "model_module": "@jupyter-widgets/base",
      "model_module_version": "1.1.0",
      "model_name": "LayoutModel",
      "state": {}
     },
     "802214f67ffd42788ecb9cd1aa3ddb61": {
      "model_module": "@jupyter-widgets/base",
      "model_module_version": "1.1.0",
      "model_name": "LayoutModel",
      "state": {
       "height": "40px",
       "width": "40px"
      }
     },
     "804cd6b470194b22943ad2cef72f330c": {
      "model_module": "@jupyter-widgets/base",
      "model_module_version": "1.1.0",
      "model_name": "LayoutModel",
      "state": {
       "width": "300px"
      }
     },
     "8051dc1f2b9d41bbae025b4ef2a09c68": {
      "model_module": "@jupyter-widgets/output",
      "model_module_version": "1.0.0",
      "model_name": "OutputModel",
      "state": {
       "layout": "IPY_MODEL_f6b27c75664b4f058d951748a69ef0a4"
      }
     },
     "806472415fac4c5c99bf6e05c3b11c9b": {
      "model_module": "@jupyter-widgets/controls",
      "model_module_version": "1.4.0",
      "model_name": "HBoxModel",
      "state": {
       "children": [
        "IPY_MODEL_f23e4eb018a948329165cc6374ed1e87",
        "IPY_MODEL_9ee3295304c644a4ba2f378fbd5c9fbd"
       ],
       "layout": "IPY_MODEL_1d10cce6f7974197973cae04124946f0"
      }
     },
     "811438ff3a3f4cabbf946172ba80fadb": {
      "model_module": "@jupyter-widgets/base",
      "model_module_version": "1.1.0",
      "model_name": "LayoutModel",
      "state": {}
     },
     "81452860a79b46eb8c74712927c1467c": {
      "model_module": "@jupyter-widgets/controls",
      "model_module_version": "1.4.0",
      "model_name": "DescriptionStyleModel",
      "state": {
       "description_width": ""
      }
     },
     "81639361868c4dab90cd3a7a00a30ed4": {
      "model_module": "@jupyter-widgets/base",
      "model_module_version": "1.1.0",
      "model_name": "LayoutModel",
      "state": {}
     },
     "81bb324623034fa9ab47726e392ebe80": {
      "model_module": "@jupyter-widgets/controls",
      "model_module_version": "1.4.0",
      "model_name": "DescriptionStyleModel",
      "state": {
       "description_width": "initial"
      }
     },
     "81c522fe00484c31b24470bf300261d8": {
      "model_module": "@jupyter-widgets/controls",
      "model_module_version": "1.4.0",
      "model_name": "ButtonStyleModel",
      "state": {}
     },
     "81ca3d2c10f64c84aeb8704f7f92cabd": {
      "model_module": "@jupyter-widgets/controls",
      "model_module_version": "1.4.0",
      "model_name": "DescriptionStyleModel",
      "state": {
       "description_width": "initial"
      }
     },
     "821f611df4884e77bbcd885e6c9add54": {
      "model_module": "@jupyter-widgets/output",
      "model_module_version": "1.0.0",
      "model_name": "OutputModel",
      "state": {
       "layout": "IPY_MODEL_f875fc683bfa48789a84e8f0c09826a2",
       "outputs": [
        {
         "name": "stdout",
         "output_type": "stream",
         "text": "exporting\n"
        },
        {
         "data": {
          "application/javascript": "IPython.notebook.save_checkpoint();",
          "text/plain": "<IPython.core.display.Javascript object>"
         },
         "metadata": {},
         "output_type": "display_data"
        },
        {
         "name": "stdout",
         "output_type": "stream",
         "text": "not exporting\nexporting\n"
        },
        {
         "data": {
          "application/javascript": "IPython.notebook.save_checkpoint();",
          "text/plain": "<IPython.core.display.Javascript object>"
         },
         "metadata": {},
         "output_type": "display_data"
        },
        {
         "name": "stdout",
         "output_type": "stream",
         "text": "not exporting\n"
        }
       ]
      }
     },
     "82361776a57740f08923756e4d378fdf": {
      "model_module": "@jupyter-widgets/controls",
      "model_module_version": "1.4.0",
      "model_name": "DescriptionStyleModel",
      "state": {
       "description_width": ""
      }
     },
     "825ef4ae0b59473ea043fc6ce37a3b2a": {
      "model_module": "@jupyter-widgets/output",
      "model_module_version": "1.0.0",
      "model_name": "OutputModel",
      "state": {
       "layout": "IPY_MODEL_0723446ad7c3466a9037fe55b782af06"
      }
     },
     "827d5a99f97543b099713511740c0357": {
      "model_module": "@jupyter-widgets/controls",
      "model_module_version": "1.4.0",
      "model_name": "DescriptionStyleModel",
      "state": {
       "description_width": "initial"
      }
     },
     "828442a00b354620bde1a6986249c2d2": {
      "model_module": "@jupyter-widgets/controls",
      "model_module_version": "1.4.0",
      "model_name": "DropdownModel",
      "state": {
       "_options_labels": [
        "Plot after ends with PyQt",
        "Plot after ends with Plotly",
        "Live Plot"
       ],
       "index": 0,
       "layout": "IPY_MODEL_509af17da7e14f5f88ee77d51f145fde",
       "style": "IPY_MODEL_a0d15e3f84534c98b72635f6409f8a8e"
      }
     },
     "82944629b40a40118136d254565fc8b2": {
      "model_module": "@jupyter-widgets/base",
      "model_module_version": "1.1.0",
      "model_name": "LayoutModel",
      "state": {}
     },
     "82a7677c44e9425a87b4a2a98ba689a2": {
      "model_module": "@jupyter-widgets/base",
      "model_module_version": "1.1.0",
      "model_name": "LayoutModel",
      "state": {}
     },
     "82d968aedb3c42f382c1e1e7fe1621d5": {
      "model_module": "@jupyter-widgets/controls",
      "model_module_version": "1.4.0",
      "model_name": "DescriptionStyleModel",
      "state": {
       "description_width": "initial"
      }
     },
     "83056576aa4f4345b3c91d179cd2b368": {
      "model_module": "@jupyter-widgets/output",
      "model_module_version": "1.0.0",
      "model_name": "OutputModel",
      "state": {
       "layout": "IPY_MODEL_6ed19b00494a4d41bcb5380e001a2f0d"
      }
     },
     "83291256400b4ee999ec2468506ab3e4": {
      "model_module": "@jupyter-widgets/base",
      "model_module_version": "1.1.0",
      "model_name": "LayoutModel",
      "state": {
       "height": "40px",
       "width": "40px"
      }
     },
     "832d63ca186747c18a4cf8c005474884": {
      "model_module": "@jupyter-widgets/controls",
      "model_module_version": "1.4.0",
      "model_name": "VBoxModel",
      "state": {
       "children": [
        "IPY_MODEL_c70d532c995d4a639f7ac413a1653444"
       ],
       "layout": "IPY_MODEL_4c2c0983481d42e4a022fb5948a675a7"
      }
     },
     "8334b9c9c68f4dd5b8eacb77bab88277": {
      "model_module": "@jupyter-widgets/base",
      "model_module_version": "1.1.0",
      "model_name": "LayoutModel",
      "state": {
       "width": "300px"
      }
     },
     "833de3cf4a634e3aab6117ea4eb7bd49": {
      "model_module": "@jupyter-widgets/controls",
      "model_module_version": "1.4.0",
      "model_name": "ButtonStyleModel",
      "state": {}
     },
     "835dadfd22714020a99714e4bcfff7b2": {
      "model_module": "@jupyter-widgets/controls",
      "model_module_version": "1.4.0",
      "model_name": "ButtonModel",
      "state": {
       "button_style": "danger",
       "description": "Stop Scanning Plot",
       "layout": "IPY_MODEL_2d697d6d2399405baf7c01e68a1d7240",
       "style": "IPY_MODEL_bcb9705a6331462886606c456dd59b04",
       "tooltip": "Click me"
      }
     },
     "836eeda23e984cc085e7a53ca1c8b555": {
      "model_module": "@jupyter-widgets/output",
      "model_module_version": "1.0.0",
      "model_name": "OutputModel",
      "state": {
       "layout": "IPY_MODEL_8a6dd4ddeb8e46219e4e1aafb827b102"
      }
     },
     "83a53dcb05a546178a295d6f6d35fece": {
      "model_module": "@jupyter-widgets/base",
      "model_module_version": "1.1.0",
      "model_name": "LayoutModel",
      "state": {}
     },
     "83a96f22525942f08a459528218acc18": {
      "model_module": "@jupyter-widgets/base",
      "model_module_version": "1.1.0",
      "model_name": "LayoutModel",
      "state": {}
     },
     "8462b86310a947cab8b07c8883753ffa": {
      "model_module": "@jupyter-widgets/controls",
      "model_module_version": "1.4.0",
      "model_name": "ButtonModel",
      "state": {
       "button_style": "success",
       "description": "Start PV Monitoring",
       "layout": "IPY_MODEL_e021a2cf25c0406594302aee516f97f9",
       "style": "IPY_MODEL_52121da5dee44162b5450a2ebd24583b",
       "tooltip": "Click me"
      }
     },
     "84789bc4df5a44da95d9334a44f3b044": {
      "model_module": "@jupyter-widgets/controls",
      "model_module_version": "1.4.0",
      "model_name": "TextModel",
      "state": {
       "layout": "IPY_MODEL_7245c002e354482690cb018c6a49f258",
       "placeholder": "Type the notebook's name without file format",
       "style": "IPY_MODEL_81452860a79b46eb8c74712927c1467c"
      }
     },
     "84af77007f054e90955afdbe8c8c0366": {
      "model_module": "@jupyter-widgets/controls",
      "model_module_version": "1.4.0",
      "model_name": "TextareaModel",
      "state": {
       "layout": "IPY_MODEL_26089b6acba343ebb62afd3984ae160f",
       "placeholder": "Example: IOC:m1 IOC:m3 LNLS:TEST:motor_g3",
       "style": "IPY_MODEL_4d4354b18a404148b6525f5a5a5682e3"
      }
     },
     "84bc8dbc52a948c381e1ac20b410cf5a": {
      "model_module": "@jupyter-widgets/base",
      "model_module_version": "1.1.0",
      "model_name": "LayoutModel",
      "state": {}
     },
     "84d5a998c66646b7879ebb5e43fbb18f": {
      "model_module": "@jupyter-widgets/controls",
      "model_module_version": "1.4.0",
      "model_name": "CheckboxModel",
      "state": {
       "description": "Live plot in Jupyter: ",
       "disabled": false,
       "layout": "IPY_MODEL_8b4b891598e8470889b790685e024521",
       "style": "IPY_MODEL_c27d7e5178064e6bbfb28f11e752f61f",
       "value": false
      }
     },
     "85495065405440138789d07a4af660e9": {
      "model_module": "@jupyter-widgets/controls",
      "model_module_version": "1.4.0",
      "model_name": "DescriptionStyleModel",
      "state": {
       "description_width": "initial"
      }
     },
     "85646418b9524a918f5e3a0ee9db6622": {
      "model_module": "@jupyter-widgets/controls",
      "model_module_version": "1.4.0",
      "model_name": "VBoxModel",
      "state": {
       "children": [
        "IPY_MODEL_dbb58ee7ad6f4722a8a3eecc728efbea",
        "IPY_MODEL_cc3c17174f16408195259cff529cea61"
       ],
       "layout": "IPY_MODEL_e74409a234cd43ddaf82adab7f0c2f7d"
      }
     },
     "85717fac2c9a4ebeab9a10c2a8a55b8e": {
      "model_module": "@jupyter-widgets/controls",
      "model_module_version": "1.4.0",
      "model_name": "DescriptionStyleModel",
      "state": {
       "description_width": ""
      }
     },
     "859ba860612c4992846bb74620e30b83": {
      "model_module": "@jupyter-widgets/base",
      "model_module_version": "1.1.0",
      "model_name": "LayoutModel",
      "state": {}
     },
     "859c26ef152b4b7fbfc6e255d620cab8": {
      "model_module": "@jupyter-widgets/controls",
      "model_module_version": "1.4.0",
      "model_name": "DescriptionStyleModel",
      "state": {
       "description_width": "initial"
      }
     },
     "859ee92b6ba9419383f9efe12ef485bb": {
      "model_module": "@jupyter-widgets/base",
      "model_module_version": "1.1.0",
      "model_name": "LayoutModel",
      "state": {}
     },
     "85aff6dcd25f401abaa479bbf87a4365": {
      "model_module": "@jupyter-widgets/controls",
      "model_module_version": "1.4.0",
      "model_name": "DescriptionStyleModel",
      "state": {
       "description_width": ""
      }
     },
     "85d07a1b281a4a429717b8bb72e667c5": {
      "model_module": "@jupyter-widgets/controls",
      "model_module_version": "1.4.0",
      "model_name": "TextModel",
      "state": {
       "layout": "IPY_MODEL_6ab26ec45abc4810b5d9c14979637cda",
       "placeholder": "Type the notebook's name without file format",
       "style": "IPY_MODEL_743668527c85433fb00c52089032ea6d"
      }
     },
     "85d58bb3454b4746aee4de9775f752f3": {
      "model_module": "@jupyter-widgets/controls",
      "model_module_version": "1.4.0",
      "model_name": "ButtonModel",
      "state": {
       "button_style": "success",
       "description": "Start Manual Alignment",
       "layout": "IPY_MODEL_8d87a5b813ff4fd181b48aa397cf9739",
       "style": "IPY_MODEL_fe7ed09ea1c8448f985efa21ebd8ec8b",
       "tooltip": "Click me"
      }
     },
     "85e9b6ffdf9c4639b6184cd7ec6b6d52": {
      "model_module": "@jupyter-widgets/output",
      "model_module_version": "1.0.0",
      "model_name": "OutputModel",
      "state": {
       "layout": "IPY_MODEL_1a7c99ac2c884bc19ce3fb1c5883cbeb"
      }
     },
     "860e8b626e1540f2a6ae4bdc0b4ff0d0": {
      "model_module": "@jupyter-widgets/output",
      "model_module_version": "1.0.0",
      "model_name": "OutputModel",
      "state": {
       "layout": "IPY_MODEL_4a3adee000034670ac9f3cc89575d1ba"
      }
     },
     "861f54ca9baf49f29dea41791257feb3": {
      "model_module": "@jupyter-widgets/controls",
      "model_module_version": "1.4.0",
      "model_name": "DescriptionStyleModel",
      "state": {
       "description_width": "initial"
      }
     },
     "8636142f87ff474c9b46f8967ee0ece2": {
      "model_module": "plotlywidget",
      "model_module_version": "0.8.0",
      "model_name": "FigureModel",
      "state": {
       "_config": {
        "plotlyServerURL": "https://plot.ly"
       },
       "_js2py_layoutDelta": {},
       "_js2py_pointsCallback": {},
       "_js2py_relayout": {},
       "_js2py_restyle": {},
       "_js2py_traceDeltas": {},
       "_js2py_update": {},
       "_layout": {
        "template": {}
       },
       "_model_module_version": "0.8.0",
       "_py2js_addTraces": {},
       "_py2js_animate": {},
       "_py2js_deleteTraces": {},
       "_py2js_moveTraces": {},
       "_py2js_removeLayoutProps": {},
       "_py2js_removeTraceProps": {},
       "_py2js_restyle": {},
       "_py2js_update": {},
       "_view_count": 0,
       "_view_module_version": "0.8.0"
      }
     },
     "865f5a1c58b84e3c8f4674f54f0545e7": {
      "model_module": "@jupyter-widgets/base",
      "model_module_version": "1.1.0",
      "model_name": "LayoutModel",
      "state": {}
     },
     "868e7fc79b5a48459befba02e8f27214": {
      "model_module": "@jupyter-widgets/base",
      "model_module_version": "1.1.0",
      "model_name": "LayoutModel",
      "state": {}
     },
     "86a5002e5cd74dbb9a8b58da79efa5ed": {
      "model_module": "@jupyter-widgets/base",
      "model_module_version": "1.1.0",
      "model_name": "LayoutModel",
      "state": {}
     },
     "86b52f5b77554e378d960f91b5dc569c": {
      "model_module": "@jupyter-widgets/base",
      "model_module_version": "1.1.0",
      "model_name": "LayoutModel",
      "state": {}
     },
     "8730f2d878384ebf84d7646373218d8a": {
      "model_module": "@jupyter-widgets/controls",
      "model_module_version": "1.4.0",
      "model_name": "ButtonModel",
      "state": {
       "button_style": "success",
       "description": "Start Manual Alignment",
       "layout": "IPY_MODEL_73547dccf7054d848d8d6aea5446a5a2",
       "style": "IPY_MODEL_abe2698da39349dea64a9bdd5f388a9f",
       "tooltip": "Click me"
      }
     },
     "876dc52b0d5d447fa3c5869b3dfb4d97": {
      "model_module": "@jupyter-widgets/base",
      "model_module_version": "1.1.0",
      "model_name": "LayoutModel",
      "state": {}
     },
     "87b82b2174b34486afeb6d46031802e9": {
      "model_module": "@jupyter-widgets/controls",
      "model_module_version": "1.4.0",
      "model_name": "VBoxModel",
      "state": {
       "children": [
        "IPY_MODEL_26e7d26502aa4f1dbcc4d95aaff69117"
       ],
       "layout": "IPY_MODEL_83a53dcb05a546178a295d6f6d35fece"
      }
     },
     "87beab8942764d4fb84ea34aab67d431": {
      "model_module": "@jupyter-widgets/base",
      "model_module_version": "1.1.0",
      "model_name": "LayoutModel",
      "state": {}
     },
     "88002b25d97f437e9635fb359b27a502": {
      "model_module": "@jupyter-widgets/controls",
      "model_module_version": "1.4.0",
      "model_name": "VBoxModel",
      "state": {
       "children": [
        "IPY_MODEL_8730f2d878384ebf84d7646373218d8a"
       ],
       "layout": "IPY_MODEL_73a77ee8b4c74c32a86be17da38c2f40"
      }
     },
     "8802bb40996f457d979ced6cd2773608": {
      "model_module": "@jupyter-widgets/output",
      "model_module_version": "1.0.0",
      "model_name": "OutputModel",
      "state": {
       "layout": "IPY_MODEL_c8c7e1ea7e0e4f76866166c65d57ad8d"
      }
     },
     "889ba261875a4435b07d88ddf21073c2": {
      "model_module": "@jupyter-widgets/controls",
      "model_module_version": "1.4.0",
      "model_name": "ButtonStyleModel",
      "state": {}
     },
     "88a1037edae74458bd18e342db9e51f9": {
      "model_module": "@jupyter-widgets/controls",
      "model_module_version": "1.4.0",
      "model_name": "ButtonModel",
      "state": {
       "button_style": "success",
       "description": "Start PV Monitoring",
       "layout": "IPY_MODEL_f03ad3638d454eaa98d928a799681998",
       "style": "IPY_MODEL_a3f58d1d5e914920995540851a0a5e20",
       "tooltip": "Click me"
      }
     },
     "88d10ab2194b4482ad1bdd970306a602": {
      "model_module": "@jupyter-widgets/base",
      "model_module_version": "1.1.0",
      "model_name": "LayoutModel",
      "state": {}
     },
     "896915b5ea044cc7963c1685ec6c5800": {
      "model_module": "@jupyter-widgets/base",
      "model_module_version": "1.1.0",
      "model_name": "LayoutModel",
      "state": {
       "width": "300px"
      }
     },
     "899159e229db4cbb8e4b4d64ee17bb7a": {
      "model_module": "@jupyter-widgets/base",
      "model_module_version": "1.1.0",
      "model_name": "LayoutModel",
      "state": {
       "width": "300px"
      }
     },
     "89afd4b8c4664dcb8060d1260b278520": {
      "model_module": "@jupyter-widgets/controls",
      "model_module_version": "1.4.0",
      "model_name": "DescriptionStyleModel",
      "state": {
       "description_width": ""
      }
     },
     "89d1af9c491642acb2d73698bec9c1e1": {
      "model_module": "@jupyter-widgets/controls",
      "model_module_version": "1.4.0",
      "model_name": "DescriptionStyleModel",
      "state": {
       "description_width": "initial"
      }
     },
     "89f00a2f0ec54cf9952ab772a21d5270": {
      "model_module": "@jupyter-widgets/controls",
      "model_module_version": "1.4.0",
      "model_name": "TextModel",
      "state": {
       "layout": "IPY_MODEL_5959de7f474547ce8183a154f07e4047",
       "placeholder": "Type the notebook's name without file format",
       "style": "IPY_MODEL_d83e27e7738f49a3b1b0dee31a26ba2f"
      }
     },
     "89f081a3a5e543ccbcba4d7b12c5d1eb": {
      "model_module": "@jupyter-widgets/output",
      "model_module_version": "1.0.0",
      "model_name": "OutputModel",
      "state": {
       "layout": "IPY_MODEL_cb10e174f9064e18997b6167a66b842d"
      }
     },
     "8a243e9d92094de0bf842aaf144e81f4": {
      "model_module": "@jupyter-widgets/base",
      "model_module_version": "1.1.0",
      "model_name": "LayoutModel",
      "state": {}
     },
     "8a26a47a2ec849fdaa46e4d5f0d8ecfd": {
      "model_module": "@jupyter-widgets/base",
      "model_module_version": "1.1.0",
      "model_name": "LayoutModel",
      "state": {}
     },
     "8a6dd4ddeb8e46219e4e1aafb827b102": {
      "model_module": "@jupyter-widgets/base",
      "model_module_version": "1.1.0",
      "model_name": "LayoutModel",
      "state": {}
     },
     "8a72e108b6db4e77af486ae279964a74": {
      "model_module": "@jupyter-widgets/controls",
      "model_module_version": "1.4.0",
      "model_name": "DescriptionStyleModel",
      "state": {
       "description_width": ""
      }
     },
     "8a914e86199d472589b05aceb2331d82": {
      "model_module": "@jupyter-widgets/controls",
      "model_module_version": "1.4.0",
      "model_name": "TextareaModel",
      "state": {
       "layout": "IPY_MODEL_cab1ba8777644c2f8a574538f18a7b30",
       "placeholder": "Example: IOC:m1 IOC:m3 LNLS:TEST:motor_g3",
       "style": "IPY_MODEL_67630f426b7448d990ccfa12bade9812"
      }
     },
     "8b4636cf19a34b40a058b1409277997d": {
      "model_module": "@jupyter-widgets/base",
      "model_module_version": "1.1.0",
      "model_name": "LayoutModel",
      "state": {}
     },
     "8b4b891598e8470889b790685e024521": {
      "model_module": "@jupyter-widgets/base",
      "model_module_version": "1.1.0",
      "model_name": "LayoutModel",
      "state": {}
     },
     "8b96f3ae3abc4df4938732b6b1df8742": {
      "model_module": "@jupyter-widgets/base",
      "model_module_version": "1.1.0",
      "model_name": "LayoutModel",
      "state": {}
     },
     "8bc29a3afb75471fa203c3fcdff82f2d": {
      "model_module": "@jupyter-widgets/controls",
      "model_module_version": "1.4.0",
      "model_name": "VBoxModel",
      "state": {
       "children": [
        "IPY_MODEL_e24a3570544d4ffcb494cde2a21e8f50"
       ],
       "layout": "IPY_MODEL_c7eb61da824f443f9eb2905dd447b7a4"
      }
     },
     "8bc53871102947f88aa902b76767bc54": {
      "model_module": "@jupyter-widgets/base",
      "model_module_version": "1.1.0",
      "model_name": "LayoutModel",
      "state": {}
     },
     "8c0ae79b1e5b4a08b6f19a1ca3d22827": {
      "buffers": [
       {
        "data": "AAAAAAAAAEAAAAAAAADwPwAAAAAAABBAAAAAAAAAGEAAAAAAAAAAAA==",
        "encoding": "base64",
        "path": [
         "_data",
         0,
         "y",
         "value"
        ]
       },
       {
        "data": "AAAAAAAAAEAAAAAAAADwPwAAAAAAABBAAAAAAAAAGEAAAAAAAAAAAA==",
        "encoding": "base64",
        "path": [
         "_data",
         1,
         "y",
         "value"
        ]
       }
      ],
      "model_module": "plotlywidget",
      "model_module_version": "0.8.0",
      "model_name": "FigureModel",
      "state": {
       "_config": {
        "plotlyServerURL": "https://plot.ly"
       },
       "_data": [
        {
         "mode": "lines+markers",
         "name": "line1",
         "type": "scatter",
         "uid": "bd59549f-1be2-4ec6-a410-e063556f2a5b",
         "x": [
          0,
          1,
          2,
          3,
          4
         ],
         "xaxis": "x",
         "y": {
          "dtype": "float64",
          "shape": [
           5
          ],
          "value": {}
         },
         "yaxis": "y"
        },
        {
         "mode": "lines+markers",
         "name": "line2",
         "type": "scatter",
         "uid": "b8b25f24-3574-4923-aba4-a845873af76a",
         "x": [
          0,
          1,
          2,
          3,
          4
         ],
         "xaxis": "x2",
         "y": {
          "dtype": "float64",
          "shape": [
           5
          ],
          "value": {}
         },
         "yaxis": "y2"
        }
       ],
       "_js2py_restyle": {},
       "_js2py_update": {},
       "_last_layout_edit_id": 8,
       "_last_trace_edit_id": 7,
       "_layout": {
        "autosize": true,
        "plot_bgcolor": "rgb(230, 230, 230)",
        "template": {},
        "title": {
         "text": "Scan"
        },
        "xaxis": {
         "anchor": "y",
         "domain": [
          0,
          1
         ]
        },
        "xaxis2": {
         "anchor": "y2",
         "domain": [
          0,
          1
         ]
        },
        "yaxis": {
         "anchor": "x",
         "domain": [
          0.575,
          1
         ]
        },
        "yaxis2": {
         "anchor": "x2",
         "domain": [
          0,
          0.425
         ]
        }
       },
       "_model_module_version": "0.8.0",
       "_py2js_animate": {},
       "_py2js_deleteTraces": {},
       "_py2js_moveTraces": {},
       "_py2js_removeLayoutProps": {},
       "_py2js_removeTraceProps": {},
       "_view_count": 0,
       "_view_module_version": "0.8.0"
      }
     },
     "8c433f52f7a546548598e69b57db3c6e": {
      "model_module": "@jupyter-widgets/base",
      "model_module_version": "1.1.0",
      "model_name": "LayoutModel",
      "state": {}
     },
     "8c77d42dc19c4dbbb1aa665ff2f67c46": {
      "model_module": "@jupyter-widgets/base",
      "model_module_version": "1.1.0",
      "model_name": "LayoutModel",
      "state": {}
     },
     "8ccf52d2c0914f44956ec0226ef0d9ef": {
      "model_module": "@jupyter-widgets/base",
      "model_module_version": "1.1.0",
      "model_name": "LayoutModel",
      "state": {
       "width": "300px"
      }
     },
     "8ce35b1b9f474b0b870e6a3aeffadde2": {
      "model_module": "@jupyter-widgets/controls",
      "model_module_version": "1.4.0",
      "model_name": "LabelModel",
      "state": {
       "layout": "IPY_MODEL_1a13e102b15449ebbcfd0464291cbf37",
       "style": "IPY_MODEL_d572d593e0ee4c8d88fc1cf678fbd3cd",
       "value": "No motors initilized to be showed."
      }
     },
     "8ce8d7d3d5364f08abacff4985a189aa": {
      "model_module": "@jupyter-widgets/base",
      "model_module_version": "1.1.0",
      "model_name": "LayoutModel",
      "state": {
       "height": "40px",
       "width": "40px"
      }
     },
     "8d149b0531a0407081763418f32fec0f": {
      "model_module": "@jupyter-widgets/base",
      "model_module_version": "1.1.0",
      "model_name": "LayoutModel",
      "state": {}
     },
     "8d87a5b813ff4fd181b48aa397cf9739": {
      "model_module": "@jupyter-widgets/base",
      "model_module_version": "1.1.0",
      "model_name": "LayoutModel",
      "state": {
       "width": "300px"
      }
     },
     "8d8d90f237a54cba8d9f87f9c5a1d75a": {
      "model_module": "@jupyter-widgets/controls",
      "model_module_version": "1.4.0",
      "model_name": "CheckboxModel",
      "state": {
       "description": "Print log in Notebook's cells",
       "disabled": false,
       "layout": "IPY_MODEL_65296c0a507844838d7d32609a57f625",
       "style": "IPY_MODEL_e7b838bc8e344b7684425f8c1bd70f3a",
       "value": false
      }
     },
     "8d8dfb4843734f98ba0a847670cc327e": {
      "model_module": "@jupyter-widgets/base",
      "model_module_version": "1.1.0",
      "model_name": "LayoutModel",
      "state": {
       "width": "300px"
      }
     },
     "8d9800343c5a469bba5b43cdecea5e2e": {
      "model_module": "@jupyter-widgets/controls",
      "model_module_version": "1.4.0",
      "model_name": "CheckboxModel",
      "state": {
       "description": "Print log in Notebook's cells",
       "disabled": false,
       "layout": "IPY_MODEL_f5af86a8d0954f7bb99ad59e68d836a0",
       "style": "IPY_MODEL_92ea1a8466e04bd0a8acc623e2ff401e",
       "value": false
      }
     },
     "8db9fa75d03342e6b3893dbaae67c645": {
      "model_module": "@jupyter-widgets/base",
      "model_module_version": "1.1.0",
      "model_name": "LayoutModel",
      "state": {}
     },
     "8dbf6098f6724fe5ba352221d22c58ed": {
      "model_module": "@jupyter-widgets/controls",
      "model_module_version": "1.4.0",
      "model_name": "DropdownModel",
      "state": {
       "_options_labels": [
        "Plot after ends with PyQt",
        "Plot after ends with Plotly",
        "Live Plot"
       ],
       "index": 0,
       "layout": "IPY_MODEL_574a5ab63b47431aa2f2f52883cf5176",
       "style": "IPY_MODEL_ed75d8de540f4b039b22c440572bb7f2"
      }
     },
     "8e250f5000f24a55b244708449121a23": {
      "model_module": "@jupyter-widgets/controls",
      "model_module_version": "1.4.0",
      "model_name": "VBoxModel",
      "state": {
       "children": [
        "IPY_MODEL_c11ebf150dd742cdba61f742e55b5fd6"
       ],
       "layout": "IPY_MODEL_5703b6b2d797442bb078826edf14266f"
      }
     },
     "8e300f3eebe54f90a702abe59ceeec66": {
      "model_module": "@jupyter-widgets/controls",
      "model_module_version": "1.4.0",
      "model_name": "DescriptionStyleModel",
      "state": {
       "description_width": "initial"
      }
     },
     "8e7cef7790994ff3af057e050f0bc078": {
      "model_module": "@jupyter-widgets/controls",
      "model_module_version": "1.4.0",
      "model_name": "VBoxModel",
      "state": {
       "children": [
        "IPY_MODEL_e0bc319c97754df89cebaf9369de447f"
       ],
       "layout": "IPY_MODEL_c490488b114c4246ab5854e640a98cc2"
      }
     },
     "8f0998d2b24a46128b394dd486ed7b94": {
      "model_module": "@jupyter-widgets/controls",
      "model_module_version": "1.4.0",
      "model_name": "ButtonModel",
      "state": {
       "button_style": "danger",
       "description": "Stop Scanning Plot",
       "layout": "IPY_MODEL_8ccf52d2c0914f44956ec0226ef0d9ef",
       "style": "IPY_MODEL_726b718a2a9d424e9a43d201a5423c47",
       "tooltip": "Click me"
      }
     },
     "8f69390409044eb2b2ecc45c8bf893fe": {
      "model_module": "@jupyter-widgets/controls",
      "model_module_version": "1.4.0",
      "model_name": "DescriptionStyleModel",
      "state": {
       "description_width": ""
      }
     },
     "8f8a07573481472dac4b6938742f6352": {
      "model_module": "@jupyter-widgets/base",
      "model_module_version": "1.1.0",
      "model_name": "LayoutModel",
      "state": {}
     },
     "8f961dc8ddc8458b85410cfe405372d2": {
      "model_module": "@jupyter-widgets/controls",
      "model_module_version": "1.4.0",
      "model_name": "ButtonStyleModel",
      "state": {}
     },
     "8f9acfbb477f4aed995d020bff2a8564": {
      "model_module": "plotlywidget",
      "model_module_version": "0.8.0",
      "model_name": "FigureModel",
      "state": {
       "_config": {
        "plotlyServerURL": "https://plot.ly"
       },
       "_js2py_layoutDelta": {},
       "_js2py_pointsCallback": {},
       "_js2py_relayout": {},
       "_js2py_restyle": {},
       "_js2py_traceDeltas": {},
       "_js2py_update": {},
       "_layout": {
        "template": {}
       },
       "_model_module_version": "0.8.0",
       "_py2js_addTraces": {},
       "_py2js_animate": {},
       "_py2js_deleteTraces": {},
       "_py2js_moveTraces": {},
       "_py2js_removeLayoutProps": {},
       "_py2js_removeTraceProps": {},
       "_py2js_restyle": {},
       "_py2js_update": {},
       "_view_count": 0,
       "_view_module_version": "0.8.0"
      }
     },
     "8fa2263b092f49468b5316f156ba0a85": {
      "model_module": "@jupyter-widgets/controls",
      "model_module_version": "1.4.0",
      "model_name": "DescriptionStyleModel",
      "state": {
       "description_width": "initial"
      }
     },
     "8fba5c0718b145298d6fb8627979feac": {
      "model_module": "@jupyter-widgets/base",
      "model_module_version": "1.1.0",
      "model_name": "LayoutModel",
      "state": {}
     },
     "8fd20a6d00d142dc9be14dfc04ee8a21": {
      "model_module": "@jupyter-widgets/base",
      "model_module_version": "1.1.0",
      "model_name": "LayoutModel",
      "state": {
       "width": "300px"
      }
     },
     "8fd3c543440d4873b25d5ee2e82b612a": {
      "model_module": "@jupyter-widgets/base",
      "model_module_version": "1.1.0",
      "model_name": "LayoutModel",
      "state": {}
     },
     "8fe1cb6731f944c196b90798d7470d40": {
      "model_module": "@jupyter-widgets/base",
      "model_module_version": "1.1.0",
      "model_name": "LayoutModel",
      "state": {}
     },
     "90872f9b8cb94f1ab45553d78c0df05b": {
      "model_module": "@jupyter-widgets/controls",
      "model_module_version": "1.4.0",
      "model_name": "CheckboxModel",
      "state": {
       "description": "Print log in Notebook's cells",
       "disabled": false,
       "layout": "IPY_MODEL_414f6d13d6464516a410cc35a5644375",
       "style": "IPY_MODEL_4837f2ec1ee34db8bd677d5509111074",
       "value": false
      }
     },
     "9093df3619784a3cabb8cfa3bde779d0": {
      "model_module": "@jupyter-widgets/base",
      "model_module_version": "1.1.0",
      "model_name": "LayoutModel",
      "state": {}
     },
     "90b469d52b51496080e0cfb6f3c3e5a1": {
      "model_module": "@jupyter-widgets/base",
      "model_module_version": "1.1.0",
      "model_name": "LayoutModel",
      "state": {}
     },
     "90e0ab9c4d3047b19576049f5b8856a4": {
      "model_module": "@jupyter-widgets/controls",
      "model_module_version": "1.4.0",
      "model_name": "DescriptionStyleModel",
      "state": {
       "description_width": ""
      }
     },
     "9126c4d0e25640c1b35141a1d2304955": {
      "model_module": "@jupyter-widgets/controls",
      "model_module_version": "1.4.0",
      "model_name": "ButtonModel",
      "state": {
       "button_style": "success",
       "description": "Start PV Monitoring",
       "layout": "IPY_MODEL_ae1bcb8b297e427c9d2fad95845d2475",
       "style": "IPY_MODEL_06e60696264444b89744d7fab748378e",
       "tooltip": "Click me"
      }
     },
     "9135e7444d764de3a20e9235b44774b5": {
      "model_module": "@jupyter-widgets/base",
      "model_module_version": "1.1.0",
      "model_name": "LayoutModel",
      "state": {}
     },
     "914fd007413a4dcd8a1665c5f2416bb9": {
      "model_module": "@jupyter-widgets/base",
      "model_module_version": "1.1.0",
      "model_name": "LayoutModel",
      "state": {}
     },
     "915fc88ff8e747b39697030b88846e88": {
      "model_module": "@jupyter-widgets/base",
      "model_module_version": "1.1.0",
      "model_name": "LayoutModel",
      "state": {
       "width": "300px"
      }
     },
     "9181d4842c6745a582d86e2aeaec262b": {
      "model_module": "@jupyter-widgets/controls",
      "model_module_version": "1.4.0",
      "model_name": "VBoxModel",
      "state": {
       "children": [
        "IPY_MODEL_fc0de187c6cb434bb76818a50db4f9bc"
       ],
       "layout": "IPY_MODEL_0d7693bb24344eafaa0fefee573409bc"
      }
     },
     "9183901447f8455892cd7c59986471ec": {
      "model_module": "@jupyter-widgets/controls",
      "model_module_version": "1.4.0",
      "model_name": "DropdownModel",
      "state": {
       "_options_labels": [
        "Plot after ends with PyQt",
        "Plot after ends with Plotly",
        "Live Plot"
       ],
       "index": 1,
       "layout": "IPY_MODEL_41dcf798973843a5b30a6ffafcf15180",
       "style": "IPY_MODEL_0f2c440bae80415cbc36f54a4ca2ef43"
      }
     },
     "918d01986a26490c8de44fb1f7c13418": {
      "model_module": "@jupyter-widgets/controls",
      "model_module_version": "1.4.0",
      "model_name": "DescriptionStyleModel",
      "state": {
       "description_width": ""
      }
     },
     "91e085538ed5443381acea3577a7a8ed": {
      "buffers": [
       {
        "data": "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",
        "encoding": "base64",
        "path": [
         "value"
        ]
       }
      ],
      "model_module": "@jupyter-widgets/controls",
      "model_module_version": "1.4.0",
      "model_name": "ImageModel",
      "state": {
       "height": "35",
       "layout": "IPY_MODEL_691c23e7eeba46b19cd8831f3a24d150",
       "value": {},
       "width": "35"
      }
     },
     "91ec503d13664617b9b887310fa14c8c": {
      "model_module": "@jupyter-widgets/base",
      "model_module_version": "1.1.0",
      "model_name": "LayoutModel",
      "state": {}
     },
     "91f41b93d2a44797acbfc6f488df6a29": {
      "model_module": "@jupyter-widgets/controls",
      "model_module_version": "1.4.0",
      "model_name": "ButtonStyleModel",
      "state": {}
     },
     "91f42c2d0c5e4c4a9ea04a53f0e11ab9": {
      "model_module": "@jupyter-widgets/controls",
      "model_module_version": "1.4.0",
      "model_name": "CheckboxModel",
      "state": {
       "description": "Plot with PyQtGraph after scan ends: ",
       "disabled": false,
       "layout": "IPY_MODEL_fa3836f84eb4400d99b6789e334b012d",
       "style": "IPY_MODEL_7bae9bf3f5f4447c88282421c33349aa",
       "value": true
      }
     },
     "9249a25476b44ef39badc1628fe1dfbe": {
      "model_module": "@jupyter-widgets/base",
      "model_module_version": "1.1.0",
      "model_name": "LayoutModel",
      "state": {}
     },
     "924e5e0b72fc44559f4e374850804a5e": {
      "model_module": "@jupyter-widgets/controls",
      "model_module_version": "1.4.0",
      "model_name": "TextModel",
      "state": {
       "layout": "IPY_MODEL_19e67b9cc43342f8bca90d43b69edfd6",
       "placeholder": "Type the notebook's name without file format",
       "style": "IPY_MODEL_e4ee57786cf844a28bc484f8a32ad9b2"
      }
     },
     "926e71c88462465989248837d2cead9c": {
      "model_module": "plotlywidget",
      "model_module_version": "0.8.0",
      "model_name": "FigureModel",
      "state": {
       "_config": {
        "plotlyServerURL": "https://plot.ly"
       },
       "_js2py_layoutDelta": {},
       "_js2py_pointsCallback": {},
       "_js2py_relayout": {},
       "_js2py_restyle": {},
       "_js2py_traceDeltas": {},
       "_js2py_update": {},
       "_layout": {
        "template": {}
       },
       "_model_module_version": "0.8.0",
       "_py2js_addTraces": {},
       "_py2js_animate": {},
       "_py2js_deleteTraces": {},
       "_py2js_moveTraces": {},
       "_py2js_removeLayoutProps": {},
       "_py2js_removeTraceProps": {},
       "_py2js_restyle": {},
       "_py2js_update": {},
       "_view_count": 0,
       "_view_module_version": "0.8.0"
      }
     },
     "9285a6a742f5483880f2aa59818b2a68": {
      "model_module": "@jupyter-widgets/base",
      "model_module_version": "1.1.0",
      "model_name": "LayoutModel",
      "state": {
       "width": "300px"
      }
     },
     "92b2d82a9d2a463cb4faddca6ff35fd7": {
      "model_module": "@jupyter-widgets/controls",
      "model_module_version": "1.4.0",
      "model_name": "VBoxModel",
      "state": {
       "children": [
        "IPY_MODEL_adfe1ba9d82943248a1e3dfb31afd837"
       ],
       "layout": "IPY_MODEL_43ceed9e1c7c4a51970cc60dbd726614"
      }
     },
     "92dc24211b7e477cac32982242bfee9d": {
      "model_module": "@jupyter-widgets/base",
      "model_module_version": "1.1.0",
      "model_name": "LayoutModel",
      "state": {}
     },
     "92e946ebbf554513b642c64c4c48162d": {
      "model_module": "@jupyter-widgets/controls",
      "model_module_version": "1.4.0",
      "model_name": "TextareaModel",
      "state": {
       "layout": "IPY_MODEL_98df5b7175b745be9b4564610ab6e743",
       "placeholder": "Example: IOC:m1.DMOV IOC:m3.RBV LNLS:ANEL:corrente.VAL",
       "style": "IPY_MODEL_50ea4f6665884cfb9eac47487012dbbb"
      }
     },
     "92ea1a8466e04bd0a8acc623e2ff401e": {
      "model_module": "@jupyter-widgets/controls",
      "model_module_version": "1.4.0",
      "model_name": "DescriptionStyleModel",
      "state": {
       "description_width": "initial"
      }
     },
     "933ae41cfb4941eb9a98acf386406f3f": {
      "model_module": "@jupyter-widgets/controls",
      "model_module_version": "1.4.0",
      "model_name": "HBoxModel",
      "state": {
       "children": [
        "IPY_MODEL_78e31a9e37284274b96706df51664f1a",
        "IPY_MODEL_fdedd8c5d5a140b09b0429696fc68c83"
       ],
       "layout": "IPY_MODEL_ec543257521c4cfb927119d3ee98a67f"
      }
     },
     "93712fff8e7f4fa3bb6b1226c5b69cee": {
      "model_module": "@jupyter-widgets/controls",
      "model_module_version": "1.4.0",
      "model_name": "ButtonStyleModel",
      "state": {}
     },
     "942e3dab2647481eb164dd83c2ec7a60": {
      "model_module": "@jupyter-widgets/controls",
      "model_module_version": "1.4.0",
      "model_name": "CheckboxModel",
      "state": {
       "description": "Plot with Plotly after scan ends: ",
       "disabled": true,
       "layout": "IPY_MODEL_549943823cb94f499ce98167472b83ad",
       "style": "IPY_MODEL_c9c675cab3774887a734b2f439e58761",
       "value": false
      }
     },
     "9443924265b64060a92e7e32e21b02ab": {
      "model_module": "@jupyter-widgets/base",
      "model_module_version": "1.1.0",
      "model_name": "LayoutModel",
      "state": {}
     },
     "94738241b73e420994d030938a1d74c8": {
      "model_module": "@jupyter-widgets/controls",
      "model_module_version": "1.4.0",
      "model_name": "DescriptionStyleModel",
      "state": {
       "description_width": ""
      }
     },
     "9477a8f121454e309119e42f9e43d386": {
      "model_module": "@jupyter-widgets/base",
      "model_module_version": "1.1.0",
      "model_name": "LayoutModel",
      "state": {}
     },
     "9482f85571814445a1ce8d9491650a34": {
      "model_module": "@jupyter-widgets/controls",
      "model_module_version": "1.4.0",
      "model_name": "BoxModel",
      "state": {
       "children": [
        "IPY_MODEL_e973b13feddd49d09b639395e05e39f6"
       ],
       "layout": "IPY_MODEL_1bdbe7e5c6814bfea220189ef887a7a8"
      }
     },
     "9483c041cdc34778b96f852056bb891a": {
      "model_module": "@jupyter-widgets/output",
      "model_module_version": "1.0.0",
      "model_name": "OutputModel",
      "state": {
       "layout": "IPY_MODEL_4b47b733caf042528e02f45a00bb7895"
      }
     },
     "952170a9ff3a4f33a0829b4de9c43182": {
      "model_module": "@jupyter-widgets/controls",
      "model_module_version": "1.4.0",
      "model_name": "ButtonStyleModel",
      "state": {}
     },
     "9532439d2fdc4e7aa78bf5f47c00d7e9": {
      "model_module": "@jupyter-widgets/base",
      "model_module_version": "1.1.0",
      "model_name": "LayoutModel",
      "state": {}
     },
     "954f07991e3e4eedaa2f6a4a6f636b4c": {
      "model_module": "@jupyter-widgets/controls",
      "model_module_version": "1.4.0",
      "model_name": "DescriptionStyleModel",
      "state": {
       "description_width": ""
      }
     },
     "95c47cb4330f488e98fe3b56883e0c87": {
      "model_module": "@jupyter-widgets/controls",
      "model_module_version": "1.4.0",
      "model_name": "DescriptionStyleModel",
      "state": {
       "description_width": ""
      }
     },
     "95c5b92fdfe849b789c9952613cb9e64": {
      "model_module": "@jupyter-widgets/output",
      "model_module_version": "1.0.0",
      "model_name": "OutputModel",
      "state": {
       "layout": "IPY_MODEL_1cc84c1998f948949bcfe623fd81e5af"
      }
     },
     "95c7307735f34e78a81033c5d81c0574": {
      "model_module": "@jupyter-widgets/controls",
      "model_module_version": "1.4.0",
      "model_name": "VBoxModel",
      "state": {
       "children": [
        "IPY_MODEL_965350c746824e10aac72d324e7528c0"
       ],
       "layout": "IPY_MODEL_b30250d5bf6d473998cb5e0ba2e06208"
      }
     },
     "95e8ed3dd3bb4bdfb8858301251412d6": {
      "model_module": "@jupyter-widgets/base",
      "model_module_version": "1.1.0",
      "model_name": "LayoutModel",
      "state": {}
     },
     "95ea503de8074b6d8e1d82f735de4e17": {
      "model_module": "@jupyter-widgets/base",
      "model_module_version": "1.1.0",
      "model_name": "LayoutModel",
      "state": {}
     },
     "9638f2e759ff4f1cbd25d4ff7d0572c1": {
      "model_module": "@jupyter-widgets/controls",
      "model_module_version": "1.4.0",
      "model_name": "ButtonModel",
      "state": {
       "button_style": "warning",
       "description": "Export Notebook to Latex",
       "layout": "IPY_MODEL_1ac1d746b1bd4bea8d09ed10e65e5481",
       "style": "IPY_MODEL_022b651f848a4605a6e4ebf57ce742f2",
       "tooltip": "Click me"
      }
     },
     "965350c746824e10aac72d324e7528c0": {
      "model_module": "@jupyter-widgets/controls",
      "model_module_version": "1.4.0",
      "model_name": "LabelModel",
      "state": {
       "layout": "IPY_MODEL_51ef46fcbca54bdf85eacf3bec3ca252",
       "style": "IPY_MODEL_57fabfe283f040549480c4929effd5c9",
       "value": "No motors initilized to be showed."
      }
     },
     "9675158527974329a45eaa986a2d4c44": {
      "model_module": "@jupyter-widgets/base",
      "model_module_version": "1.1.0",
      "model_name": "LayoutModel",
      "state": {}
     },
     "9685b329175e47d6adf01e3220e4fdcc": {
      "model_module": "@jupyter-widgets/controls",
      "model_module_version": "1.4.0",
      "model_name": "TextareaModel",
      "state": {
       "layout": "IPY_MODEL_0024ee07cfe448d29d1cd5330fdf101f",
       "placeholder": "Example: IOC:m1.DMOV IOC:m3.RBV LNLS:ANEL:corrente.VAL",
       "style": "IPY_MODEL_954f07991e3e4eedaa2f6a4a6f636b4c"
      }
     },
     "969f4260ef214d1480a9d335b7c75270": {
      "model_module": "@jupyter-widgets/base",
      "model_module_version": "1.1.0",
      "model_name": "LayoutModel",
      "state": {
       "width": "300px"
      }
     },
     "96f09f76fbdc44f6a991c7841b25f001": {
      "model_module": "@jupyter-widgets/base",
      "model_module_version": "1.1.0",
      "model_name": "LayoutModel",
      "state": {}
     },
     "973c6efaa5384994bed5df2e7314bd2c": {
      "model_module": "@jupyter-widgets/controls",
      "model_module_version": "1.4.0",
      "model_name": "BoxModel",
      "state": {
       "children": [
        "IPY_MODEL_354551cfd82d437f81cc38a70e69039c"
       ],
       "layout": "IPY_MODEL_a0455a3ce71f479383493e8c46887f1b"
      }
     },
     "976606950bae492697f6f3504de47ce0": {
      "model_module": "@jupyter-widgets/base",
      "model_module_version": "1.1.0",
      "model_name": "LayoutModel",
      "state": {}
     },
     "9777e350de4b48e684e91286c94a8caf": {
      "model_module": "@jupyter-widgets/controls",
      "model_module_version": "1.4.0",
      "model_name": "CheckboxModel",
      "state": {
       "description": "Plot with PyQtGraph after scan ends: ",
       "disabled": false,
       "layout": "IPY_MODEL_c8c4842e51aa4f73a21f1f5226c17424",
       "style": "IPY_MODEL_9b6d0d2376af4ae78a3de3b60c1a87f9",
       "value": true
      }
     },
     "979ca2bb726a4f2ba1905cd71fea9206": {
      "model_module": "@jupyter-widgets/controls",
      "model_module_version": "1.4.0",
      "model_name": "CheckboxModel",
      "state": {
       "description": "Print log in Notebook's cells",
       "disabled": false,
       "layout": "IPY_MODEL_51f4996685dc4426a036a59aa198adad",
       "style": "IPY_MODEL_71ee7a2df0c84be4934e0fcc21ac7178",
       "value": false
      }
     },
     "979ee8791a024e3e8154ce98217b3c2a": {
      "model_module": "@jupyter-widgets/base",
      "model_module_version": "1.1.0",
      "model_name": "LayoutModel",
      "state": {}
     },
     "97d8f5156c3d4abd9ce010cad4588616": {
      "model_module": "@jupyter-widgets/base",
      "model_module_version": "1.1.0",
      "model_name": "LayoutModel",
      "state": {}
     },
     "97df0167b1724babb7e4f7b6eff28399": {
      "model_module": "@jupyter-widgets/controls",
      "model_module_version": "1.4.0",
      "model_name": "VBoxModel",
      "state": {
       "children": [
        "IPY_MODEL_f9b737c6469b40a5bf8654dc93c63e2c"
       ],
       "layout": "IPY_MODEL_ab54718ce2494c1db964d3b2506b1edc"
      }
     },
     "97fd08a4a55d4d2f991851d9aad6b945": {
      "model_module": "@jupyter-widgets/base",
      "model_module_version": "1.1.0",
      "model_name": "LayoutModel",
      "state": {}
     },
     "98693edfd33d445b82d6fac4abf409b2": {
      "model_module": "@jupyter-widgets/base",
      "model_module_version": "1.1.0",
      "model_name": "LayoutModel",
      "state": {
       "width": "300px"
      }
     },
     "98ba58a6845040a9bfadf0f2ea5f5e60": {
      "model_module": "@jupyter-widgets/controls",
      "model_module_version": "1.4.0",
      "model_name": "TextareaModel",
      "state": {
       "layout": "IPY_MODEL_7a54aac927704846b26f778aa92a1c71",
       "placeholder": "Example: IOC:m1 IOC:m3 LNLS:TEST:motor_g3",
       "style": "IPY_MODEL_bd8aaa0a5a6945b28d9810b82f7f2642"
      }
     },
     "98df5b7175b745be9b4564610ab6e743": {
      "model_module": "@jupyter-widgets/base",
      "model_module_version": "1.1.0",
      "model_name": "LayoutModel",
      "state": {}
     },
     "990969dc5036482b86e46ee4146c870b": {
      "model_module": "@jupyter-widgets/controls",
      "model_module_version": "1.4.0",
      "model_name": "DescriptionStyleModel",
      "state": {
       "description_width": "initial"
      }
     },
     "992cd2032dde4bf38038b37ce63c88a7": {
      "model_module": "@jupyter-widgets/base",
      "model_module_version": "1.1.0",
      "model_name": "LayoutModel",
      "state": {}
     },
     "9950ffeb8a4c4a3882268ed3bf2fcdbe": {
      "buffers": [
       {
        "data": "AAAAAAAAHEAAAAAAAAAAQAAAAAAAAAhAAAAAAAAAFEAAAAAAAAAYQA==",
        "encoding": "base64",
        "path": [
         "_data",
         0,
         "y",
         "value"
        ]
       },
       {
        "data": "AAAAAAAAHEAAAAAAAAAAQAAAAAAAAAhAAAAAAAAAFEAAAAAAAAAYQA==",
        "encoding": "base64",
        "path": [
         "_data",
         1,
         "y",
         "value"
        ]
       }
      ],
      "model_module": "plotlywidget",
      "model_module_version": "0.8.0",
      "model_name": "FigureModel",
      "state": {
       "_config": {
        "plotlyServerURL": "https://plot.ly"
       },
       "_data": [
        {
         "mode": "lines+markers",
         "name": "line1",
         "type": "scatter",
         "uid": "43f08eb5-869b-41ae-b4ba-63571a1603f0",
         "x": [
          0,
          1,
          2,
          3,
          4
         ],
         "xaxis": "x",
         "y": {
          "dtype": "float64",
          "shape": [
           5
          ],
          "value": {}
         },
         "yaxis": "y"
        },
        {
         "mode": "lines+markers",
         "name": "line2",
         "type": "scatter",
         "uid": "1ae1e754-9371-4279-8e84-56f6123d8c66",
         "x": [
          0,
          1,
          2,
          3,
          4
         ],
         "xaxis": "x2",
         "y": {
          "dtype": "float64",
          "shape": [
           5
          ],
          "value": {}
         },
         "yaxis": "y2"
        }
       ],
       "_js2py_restyle": {},
       "_js2py_update": {},
       "_last_layout_edit_id": 8,
       "_last_trace_edit_id": 7,
       "_layout": {
        "autosize": true,
        "plot_bgcolor": "rgb(230, 230, 230)",
        "title": {
         "text": "Scan"
        },
        "xaxis": {
         "anchor": "y",
         "domain": [
          0,
          1
         ]
        },
        "xaxis2": {
         "anchor": "y2",
         "domain": [
          0,
          1
         ]
        },
        "yaxis": {
         "anchor": "x",
         "domain": [
          0.575,
          1
         ]
        },
        "yaxis2": {
         "anchor": "x2",
         "domain": [
          0,
          0.425
         ]
        }
       },
       "_model_module_version": "0.8.0",
       "_py2js_animate": {},
       "_py2js_deleteTraces": {},
       "_py2js_moveTraces": {},
       "_py2js_removeLayoutProps": {},
       "_py2js_removeTraceProps": {},
       "_view_count": 1,
       "_view_module_version": "0.8.0"
      }
     },
     "99724617751841cfbc0218a4cde4f225": {
      "model_module": "@jupyter-widgets/controls",
      "model_module_version": "1.4.0",
      "model_name": "ButtonModel",
      "state": {
       "button_style": "success",
       "description": "Start Motor Initializaton",
       "layout": "IPY_MODEL_deea780815d3402f9c1dca52fcf6eba2",
       "style": "IPY_MODEL_061b2ddb3b1d49fd99eb629b49287223",
       "tooltip": "Click me"
      }
     },
     "9975a473707c40aea12837d720b1d070": {
      "model_module": "@jupyter-widgets/controls",
      "model_module_version": "1.4.0",
      "model_name": "DescriptionStyleModel",
      "state": {
       "description_width": ""
      }
     },
     "9979f1b874f1434796a3325117f4e4c9": {
      "model_module": "@jupyter-widgets/controls",
      "model_module_version": "1.4.0",
      "model_name": "DescriptionStyleModel",
      "state": {
       "description_width": ""
      }
     },
     "99f691a0590845e18bd77eea7ea93d88": {
      "model_module": "@jupyter-widgets/controls",
      "model_module_version": "1.4.0",
      "model_name": "CheckboxModel",
      "state": {
       "description": "Print log in Notebook's cells",
       "disabled": false,
       "layout": "IPY_MODEL_3b62bf9c878d4164952983529ba285a6",
       "style": "IPY_MODEL_b5363a088a734137a241ef37e147aed6",
       "value": false
      }
     },
     "9a29dd1ec30a4ae68ec3714ef85822bc": {
      "model_module": "@jupyter-widgets/base",
      "model_module_version": "1.1.0",
      "model_name": "LayoutModel",
      "state": {}
     },
     "9aeb3a8b8a9c45b9860ebd5894ea069e": {
      "model_module": "@jupyter-widgets/controls",
      "model_module_version": "1.4.0",
      "model_name": "ButtonStyleModel",
      "state": {}
     },
     "9b0afa1440d1474495ab73de26e49e6a": {
      "model_module": "@jupyter-widgets/base",
      "model_module_version": "1.1.0",
      "model_name": "LayoutModel",
      "state": {
       "width": "300px"
      }
     },
     "9b6d0d2376af4ae78a3de3b60c1a87f9": {
      "model_module": "@jupyter-widgets/controls",
      "model_module_version": "1.4.0",
      "model_name": "DescriptionStyleModel",
      "state": {
       "description_width": "initial"
      }
     },
     "9bcb9c162be344d3b205ecf4f4cf9117": {
      "model_module": "@jupyter-widgets/controls",
      "model_module_version": "1.4.0",
      "model_name": "CheckboxModel",
      "state": {
       "description": "Print log in Notebook's cells",
       "disabled": false,
       "layout": "IPY_MODEL_8fd3c543440d4873b25d5ee2e82b612a",
       "style": "IPY_MODEL_f274a6e5de11481e88ec31a63979a9a3",
       "value": false
      }
     },
     "9bcc4cae91a642f49959042e3c228a0c": {
      "model_module": "@jupyter-widgets/base",
      "model_module_version": "1.1.0",
      "model_name": "LayoutModel",
      "state": {}
     },
     "9be65c3661fa4644890e3b1a1049eaed": {
      "model_module": "@jupyter-widgets/controls",
      "model_module_version": "1.4.0",
      "model_name": "BoxModel",
      "state": {
       "children": [
        "IPY_MODEL_68cff66dfff3453cacee6c3fa561fcd5"
       ],
       "layout": "IPY_MODEL_2158e9ef65bc4567808ff8005fb33295"
      }
     },
     "9c0cb6dc549d4be183eb608cdc3ce518": {
      "model_module": "@jupyter-widgets/base",
      "model_module_version": "1.1.0",
      "model_name": "LayoutModel",
      "state": {}
     },
     "9c2bb4a9bdd84687a0cf71610f7ea3a4": {
      "model_module": "@jupyter-widgets/base",
      "model_module_version": "1.1.0",
      "model_name": "LayoutModel",
      "state": {}
     },
     "9c50c1ea7c41455aad4b320aeb943e34": {
      "model_module": "@jupyter-widgets/base",
      "model_module_version": "1.1.0",
      "model_name": "LayoutModel",
      "state": {}
     },
     "9cd8f57d61fd4d5383a9beecabd18f3c": {
      "model_module": "@jupyter-widgets/controls",
      "model_module_version": "1.4.0",
      "model_name": "TextareaModel",
      "state": {
       "layout": "IPY_MODEL_0ece7defd7e14a849a3fef12860e8381",
       "placeholder": "Example: IOC:m1.DMOV IOC:m3.RBV LNLS:ANEL:corrente.VAL",
       "style": "IPY_MODEL_b606012563ce49e8ae9baf59786351ff"
      }
     },
     "9cf1db6f2a2742fda99b00d3b59a3291": {
      "model_module": "@jupyter-widgets/controls",
      "model_module_version": "1.4.0",
      "model_name": "LabelModel",
      "state": {
       "layout": "IPY_MODEL_f9e4e1c8885542dfbf98a3971c7a3897",
       "style": "IPY_MODEL_7e312bc3e6094663a6ba0fd87c1c6710",
       "value": "Notebook's name: "
      }
     },
     "9d093ea51bd64e6f8a17632dfc2fe995": {
      "model_module": "@jupyter-widgets/base",
      "model_module_version": "1.1.0",
      "model_name": "LayoutModel",
      "state": {}
     },
     "9d0ef2ea82604b55b89eef4d9167edcd": {
      "model_module": "@jupyter-widgets/controls",
      "model_module_version": "1.4.0",
      "model_name": "CheckboxModel",
      "state": {
       "description": "Plot with PyQtGraph after scan ends: ",
       "disabled": false,
       "layout": "IPY_MODEL_67cf044fc566437bbb6fddf55d01f939",
       "style": "IPY_MODEL_b282b115c8c14cb0bce40e1db2be3fe1",
       "value": true
      }
     },
     "9d172ac9fe014ed1beaac4d0386baaf2": {
      "model_module": "@jupyter-widgets/controls",
      "model_module_version": "1.4.0",
      "model_name": "CheckboxModel",
      "state": {
       "description": "Print log in Notebook's cells",
       "disabled": false,
       "layout": "IPY_MODEL_f38d6d7a27d346d290cf65eaf5e86bb5",
       "style": "IPY_MODEL_6846bfdc59494f26be3f9407b9be4d2c",
       "value": false
      }
     },
     "9d2275de12ea453baa350486b1a20a29": {
      "model_module": "@jupyter-widgets/controls",
      "model_module_version": "1.4.0",
      "model_name": "TextModel",
      "state": {
       "layout": "IPY_MODEL_2db3848a64204610915484f0c3e09fa4",
       "placeholder": "Type the notebook's name without file format",
       "style": "IPY_MODEL_d1f10f2b4c484b4098e00452e15aba3d"
      }
     },
     "9d3fc1a178a1474a98d2d2e9fe239714": {
      "model_module": "@jupyter-widgets/controls",
      "model_module_version": "1.4.0",
      "model_name": "DescriptionStyleModel",
      "state": {
       "description_width": ""
      }
     },
     "9da939aa5da54e4e9a08c911b813eb7a": {
      "model_module": "@jupyter-widgets/base",
      "model_module_version": "1.1.0",
      "model_name": "LayoutModel",
      "state": {}
     },
     "9dbc2cc85f18475197510d6920f9ec21": {
      "model_module": "@jupyter-widgets/controls",
      "model_module_version": "1.4.0",
      "model_name": "ButtonModel",
      "state": {
       "button_style": "success",
       "description": "Start Manual Alignment",
       "layout": "IPY_MODEL_a8d538eb0ff348e1a9b555aee2aa73d9",
       "style": "IPY_MODEL_12323c26bf904310909b3a79f4208c61",
       "tooltip": "Click me"
      }
     },
     "9ded1f0e1939452daab413b5f27efc97": {
      "model_module": "@jupyter-widgets/controls",
      "model_module_version": "1.4.0",
      "model_name": "DescriptionStyleModel",
      "state": {
       "description_width": ""
      }
     },
     "9e32387506d145b8b1cd8fae2c463177": {
      "model_module": "@jupyter-widgets/controls",
      "model_module_version": "1.4.0",
      "model_name": "ButtonModel",
      "state": {
       "button_style": "success",
       "description": "Start Motor Initializaton",
       "layout": "IPY_MODEL_fd8d0649aae14112a041f36d91cb19f1",
       "style": "IPY_MODEL_9aeb3a8b8a9c45b9860ebd5894ea069e",
       "tooltip": "Click me"
      }
     },
     "9e4221ae81c147148d09b5b0ab50e0aa": {
      "model_module": "@jupyter-widgets/base",
      "model_module_version": "1.1.0",
      "model_name": "LayoutModel",
      "state": {}
     },
     "9e6f0f11546c4d63ab3e5861a14353b4": {
      "model_module": "@jupyter-widgets/base",
      "model_module_version": "1.1.0",
      "model_name": "LayoutModel",
      "state": {}
     },
     "9ecd51c3bd9a43e0b970b0b4b15cd516": {
      "model_module": "@jupyter-widgets/base",
      "model_module_version": "1.1.0",
      "model_name": "LayoutModel",
      "state": {}
     },
     "9ee3295304c644a4ba2f378fbd5c9fbd": {
      "model_module": "@jupyter-widgets/controls",
      "model_module_version": "1.4.0",
      "model_name": "TextModel",
      "state": {
       "layout": "IPY_MODEL_fa8fcecd3e3a4eca95a42158ea2479a9",
       "placeholder": "Type the notebook's name without file format",
       "style": "IPY_MODEL_02879c2b395f440ea1a188d76d2d8f7b",
       "value": "laser-beam-alignment"
      }
     },
     "9f71f6879bd5442eaee9f27f6032c286": {
      "model_module": "@jupyter-widgets/controls",
      "model_module_version": "1.4.0",
      "model_name": "TextModel",
      "state": {
       "layout": "IPY_MODEL_804cd6b470194b22943ad2cef72f330c",
       "placeholder": "Type the notebook's name without file format",
       "style": "IPY_MODEL_f95ab07abb504de982fcc64a4bc41492"
      }
     },
     "a0125e72bc534a0b88d25b315430c901": {
      "buffers": [
       {
        "data": "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",
        "encoding": "base64",
        "path": [
         "value"
        ]
       }
      ],
      "model_module": "@jupyter-widgets/controls",
      "model_module_version": "1.4.0",
      "model_name": "ImageModel",
      "state": {
       "height": "35",
       "layout": "IPY_MODEL_aaba24d74f3f495abe6d7d2a79b08bb5",
       "value": {},
       "width": "35"
      }
     },
     "a01b05c85924498096ecd3ecf71ae776": {
      "model_module": "@jupyter-widgets/controls",
      "model_module_version": "1.4.0",
      "model_name": "ButtonModel",
      "state": {
       "button_style": "success",
       "description": "Start Manual Alignment",
       "layout": "IPY_MODEL_e7607591b38841ba8219fca6fe3ba3b1",
       "style": "IPY_MODEL_dacadbe5dee64fd2a868cae8f83d33cd",
       "tooltip": "Click me"
      }
     },
     "a0455a3ce71f479383493e8c46887f1b": {
      "model_module": "@jupyter-widgets/base",
      "model_module_version": "1.1.0",
      "model_name": "LayoutModel",
      "state": {}
     },
     "a04f320e19c2479a92d0c30d7d2b3c64": {
      "model_module": "@jupyter-widgets/base",
      "model_module_version": "1.1.0",
      "model_name": "LayoutModel",
      "state": {}
     },
     "a07670da53b24e678dc8ccce05117f21": {
      "model_module": "@jupyter-widgets/controls",
      "model_module_version": "1.4.0",
      "model_name": "ButtonStyleModel",
      "state": {}
     },
     "a086da3957bf40978278a70ce8b590ed": {
      "model_module": "@jupyter-widgets/base",
      "model_module_version": "1.1.0",
      "model_name": "LayoutModel",
      "state": {}
     },
     "a0d15e3f84534c98b72635f6409f8a8e": {
      "model_module": "@jupyter-widgets/controls",
      "model_module_version": "1.4.0",
      "model_name": "DescriptionStyleModel",
      "state": {
       "description_width": "initial"
      }
     },
     "a0f2693026504dfbb1768e05463b8434": {
      "model_module": "@jupyter-widgets/base",
      "model_module_version": "1.1.0",
      "model_name": "LayoutModel",
      "state": {}
     },
     "a127867f9477449da91ce65f8f5106ba": {
      "model_module": "@jupyter-widgets/base",
      "model_module_version": "1.1.0",
      "model_name": "LayoutModel",
      "state": {}
     },
     "a16334c1fc894626a35010051df15f98": {
      "model_module": "@jupyter-widgets/controls",
      "model_module_version": "1.4.0",
      "model_name": "VBoxModel",
      "state": {
       "children": [
        "IPY_MODEL_8f0998d2b24a46128b394dd486ed7b94"
       ],
       "layout": "IPY_MODEL_a086da3957bf40978278a70ce8b590ed"
      }
     },
     "a1ccd777995e4f699b53c160884689e5": {
      "model_module": "@jupyter-widgets/controls",
      "model_module_version": "1.4.0",
      "model_name": "DescriptionStyleModel",
      "state": {
       "description_width": "initial"
      }
     },
     "a1eaeae82c69460d9a2e304a9451b0a2": {
      "model_module": "@jupyter-widgets/controls",
      "model_module_version": "1.4.0",
      "model_name": "DescriptionStyleModel",
      "state": {
       "description_width": "initial"
      }
     },
     "a1f77ec2425946ce87222aad0803b058": {
      "model_module": "@jupyter-widgets/output",
      "model_module_version": "1.0.0",
      "model_name": "OutputModel",
      "state": {
       "layout": "IPY_MODEL_564d9254f49d41049c73a1da6c55f330"
      }
     },
     "a2189f959e2a4660bd459dd6ff3fd562": {
      "model_module": "@jupyter-widgets/controls",
      "model_module_version": "1.4.0",
      "model_name": "VBoxModel",
      "state": {
       "children": [
        "IPY_MODEL_4303277b9e81495f862258f72e34df66"
       ],
       "layout": "IPY_MODEL_07254179d6294824b7e1204e36192541"
      }
     },
     "a22b0b6ec646488b8aba454c5b2019d5": {
      "model_module": "@jupyter-widgets/base",
      "model_module_version": "1.1.0",
      "model_name": "LayoutModel",
      "state": {}
     },
     "a250cc1bea8c48b0b083d2ce33db1360": {
      "model_module": "@jupyter-widgets/controls",
      "model_module_version": "1.4.0",
      "model_name": "TextModel",
      "state": {
       "layout": "IPY_MODEL_4cf13fbaca854586902cf41ca9670ecc",
       "placeholder": "Type the notebook's name without file format",
       "style": "IPY_MODEL_1249569ee5874505879d99a8a4317431"
      }
     },
     "a287aa7076164aaeb9586887cbcd51bc": {
      "model_module": "@jupyter-widgets/controls",
      "model_module_version": "1.4.0",
      "model_name": "ButtonStyleModel",
      "state": {}
     },
     "a29917e66caa4c49997ec0e1d3f8e29f": {
      "model_module": "@jupyter-widgets/base",
      "model_module_version": "1.1.0",
      "model_name": "LayoutModel",
      "state": {}
     },
     "a2a95332a9bb40a89ef85d8f84a9cb05": {
      "model_module": "@jupyter-widgets/base",
      "model_module_version": "1.1.0",
      "model_name": "LayoutModel",
      "state": {
       "width": "300px"
      }
     },
     "a2acde3844ab488490581d029cc12d05": {
      "model_module": "@jupyter-widgets/base",
      "model_module_version": "1.1.0",
      "model_name": "LayoutModel",
      "state": {}
     },
     "a2d6c0efbc03461983a4b3b9f4128299": {
      "model_module": "@jupyter-widgets/controls",
      "model_module_version": "1.4.0",
      "model_name": "ButtonModel",
      "state": {
       "button_style": "success",
       "description": "Start PV Monitoring",
       "layout": "IPY_MODEL_002938425ea74b0ca71a95bcbe9359f9",
       "style": "IPY_MODEL_ec1dc46bbbab488b9035bc1062101382",
       "tooltip": "Click me"
      }
     },
     "a37a59bdb30241a4959e27b03cd7318c": {
      "model_module": "@jupyter-widgets/base",
      "model_module_version": "1.1.0",
      "model_name": "LayoutModel",
      "state": {}
     },
     "a37c1370e7634033bbdaef76c55c7e1a": {
      "model_module": "@jupyter-widgets/output",
      "model_module_version": "1.0.0",
      "model_name": "OutputModel",
      "state": {
       "layout": "IPY_MODEL_fee32704965648baa54f25822c771f03"
      }
     },
     "a3834c65978840b9ae13bca80daf410d": {
      "model_module": "@jupyter-widgets/base",
      "model_module_version": "1.1.0",
      "model_name": "LayoutModel",
      "state": {}
     },
     "a391b600c80340a18ac2d823baf10c99": {
      "model_module": "@jupyter-widgets/base",
      "model_module_version": "1.1.0",
      "model_name": "LayoutModel",
      "state": {}
     },
     "a3deca3a0cf24379bdc2c6e91db42cb8": {
      "model_module": "@jupyter-widgets/controls",
      "model_module_version": "1.4.0",
      "model_name": "ButtonModel",
      "state": {
       "button_style": "success",
       "description": "Start Motor Initializaton",
       "layout": "IPY_MODEL_a572923299d44b7a8bcfcca232417d9e",
       "style": "IPY_MODEL_14340646ca6547f395f9cac91d56aac2",
       "tooltip": "Click me"
      }
     },
     "a3f58d1d5e914920995540851a0a5e20": {
      "model_module": "@jupyter-widgets/controls",
      "model_module_version": "1.4.0",
      "model_name": "ButtonStyleModel",
      "state": {}
     },
     "a40fb3b6095544aa8b0e81f1639df601": {
      "model_module": "@jupyter-widgets/output",
      "model_module_version": "1.0.0",
      "model_name": "OutputModel",
      "state": {
       "layout": "IPY_MODEL_ba405d75595b45978248ab9e08284194"
      }
     },
     "a437a4ca24b840eca7c75ee57f9014f6": {
      "model_module": "@jupyter-widgets/base",
      "model_module_version": "1.1.0",
      "model_name": "LayoutModel",
      "state": {}
     },
     "a44979f02b8d4285b24b5e5f13192dca": {
      "model_module": "@jupyter-widgets/base",
      "model_module_version": "1.1.0",
      "model_name": "LayoutModel",
      "state": {
       "width": "300px"
      }
     },
     "a44e7590a0e34cee8fb3fe1924bf4d35": {
      "model_module": "@jupyter-widgets/output",
      "model_module_version": "1.0.0",
      "model_name": "OutputModel",
      "state": {
       "layout": "IPY_MODEL_429d078614b944f5aab1bcf734d30306"
      }
     },
     "a45dd53750ab4da286973f201480dedd": {
      "model_module": "@jupyter-widgets/controls",
      "model_module_version": "1.4.0",
      "model_name": "ButtonModel",
      "state": {
       "button_style": "success",
       "description": "Start Scanning Plot",
       "layout": "IPY_MODEL_f6cfa88a51be444e9d46ad3d51d50d30",
       "style": "IPY_MODEL_0787bb7a4ef34964800b8f5804e38f9c",
       "tooltip": "Click me"
      }
     },
     "a48302c45b8143a59b5a580c58aed633": {
      "model_module": "@jupyter-widgets/controls",
      "model_module_version": "1.4.0",
      "model_name": "VBoxModel",
      "state": {
       "children": [
        "IPY_MODEL_8462b86310a947cab8b07c8883753ffa",
        "IPY_MODEL_a791c9b97edd40829eb34a1362fa82a0"
       ],
       "layout": "IPY_MODEL_61f11eccf5744b698e36967b4c379db3"
      }
     },
     "a4b52b7344bc4f93a0d2e2dfbd791204": {
      "model_module": "@jupyter-widgets/base",
      "model_module_version": "1.1.0",
      "model_name": "LayoutModel",
      "state": {
       "width": "300px"
      }
     },
     "a4eafc1e1b704ac797f43087e62f006e": {
      "model_module": "@jupyter-widgets/base",
      "model_module_version": "1.1.0",
      "model_name": "LayoutModel",
      "state": {
       "height": "40px",
       "width": "40px"
      }
     },
     "a572923299d44b7a8bcfcca232417d9e": {
      "model_module": "@jupyter-widgets/base",
      "model_module_version": "1.1.0",
      "model_name": "LayoutModel",
      "state": {
       "width": "300px"
      }
     },
     "a5c1ce51aaea4217929a03c97e2bb976": {
      "model_module": "@jupyter-widgets/base",
      "model_module_version": "1.1.0",
      "model_name": "LayoutModel",
      "state": {
       "width": "300px"
      }
     },
     "a5cafdb7767049ae9f15f9c91038b670": {
      "model_module": "@jupyter-widgets/base",
      "model_module_version": "1.1.0",
      "model_name": "LayoutModel",
      "state": {
       "width": "300px"
      }
     },
     "a5dddcbb8e2f42b991edc1ded100c726": {
      "model_module": "@jupyter-widgets/base",
      "model_module_version": "1.1.0",
      "model_name": "LayoutModel",
      "state": {}
     },
     "a60adabf5d5f46a3b17e10d380f01f82": {
      "model_module": "@jupyter-widgets/base",
      "model_module_version": "1.1.0",
      "model_name": "LayoutModel",
      "state": {
       "height": "40px",
       "width": "40px"
      }
     },
     "a610cdecb0534c31af273794cbc01280": {
      "model_module": "@jupyter-widgets/controls",
      "model_module_version": "1.4.0",
      "model_name": "DescriptionStyleModel",
      "state": {
       "description_width": "initial"
      }
     },
     "a634aac60cd94551a17287e61a349c6a": {
      "model_module": "@jupyter-widgets/controls",
      "model_module_version": "1.4.0",
      "model_name": "VBoxModel",
      "state": {
       "children": [
        "IPY_MODEL_fca38fc3392647a8b30f501371bf720f"
       ],
       "layout": "IPY_MODEL_7ded695a21ac4bc8b2e1f7832deb700e"
      }
     },
     "a63b19e0afe547f59423cd28ff06de30": {
      "model_module": "@jupyter-widgets/controls",
      "model_module_version": "1.4.0",
      "model_name": "CheckboxModel",
      "state": {
       "description": "Print log in Notebook's cells",
       "disabled": false,
       "layout": "IPY_MODEL_d8de41f3f48e427e86c2b4c5a7a593cc",
       "style": "IPY_MODEL_06bb4d9ccef64a4b959427bc45bf9316",
       "value": false
      }
     },
     "a675c499d6d34caaac8de9cd9a620119": {
      "model_module": "@jupyter-widgets/base",
      "model_module_version": "1.1.0",
      "model_name": "LayoutModel",
      "state": {}
     },
     "a67e4cc239f64837a4c99f7101d68b20": {
      "model_module": "@jupyter-widgets/base",
      "model_module_version": "1.1.0",
      "model_name": "LayoutModel",
      "state": {}
     },
     "a693bfebae41493eaa863096841865f4": {
      "model_module": "@jupyter-widgets/controls",
      "model_module_version": "1.4.0",
      "model_name": "VBoxModel",
      "state": {
       "children": [
        "IPY_MODEL_edbe6e1cfd164c16b4624f308286defb",
        "IPY_MODEL_9e32387506d145b8b1cd8fae2c463177"
       ],
       "layout": "IPY_MODEL_ec8c3b49606d46df93633af831a3aba8"
      }
     },
     "a6d2c4b76f1241e7afa6c1d3db95a5e9": {
      "model_module": "@jupyter-widgets/controls",
      "model_module_version": "1.4.0",
      "model_name": "ButtonStyleModel",
      "state": {}
     },
     "a6e4fcf553904b7fa1c5d338507d6926": {
      "model_module": "@jupyter-widgets/output",
      "model_module_version": "1.0.0",
      "model_name": "OutputModel",
      "state": {
       "layout": "IPY_MODEL_9c50c1ea7c41455aad4b320aeb943e34"
      }
     },
     "a7041f24d2cd482d882d45510ad0554f": {
      "model_module": "@jupyter-widgets/controls",
      "model_module_version": "1.4.0",
      "model_name": "ButtonStyleModel",
      "state": {}
     },
     "a756dcc0afe246f38fef237b82396372": {
      "model_module": "@jupyter-widgets/base",
      "model_module_version": "1.1.0",
      "model_name": "LayoutModel",
      "state": {}
     },
     "a781d98fcc914b1c928d8cc7b56b1f1d": {
      "model_module": "@jupyter-widgets/base",
      "model_module_version": "1.1.0",
      "model_name": "LayoutModel",
      "state": {}
     },
     "a791c9b97edd40829eb34a1362fa82a0": {
      "model_module": "@jupyter-widgets/controls",
      "model_module_version": "1.4.0",
      "model_name": "TextareaModel",
      "state": {
       "layout": "IPY_MODEL_3a595e37c31d4c3793ae56ce8a6d9eb5",
       "placeholder": "Example: IOC:m1.DMOV IOC:m3.RBV LNLS:ANEL:corrente.VAL",
       "style": "IPY_MODEL_3b8149f5eb9a47e2aef03860f5b9ef36"
      }
     },
     "a7a196d761e942b28ebb204f13dfa4fd": {
      "model_module": "@jupyter-widgets/controls",
      "model_module_version": "1.4.0",
      "model_name": "ButtonModel",
      "state": {
       "button_style": "success",
       "description": "Start PV Monitoring",
       "layout": "IPY_MODEL_b4303b4f16834836ae4c6f9a0637c70a",
       "style": "IPY_MODEL_3f7724ae99434b1e82c667b31a134a0f",
       "tooltip": "Click me"
      }
     },
     "a80f3e14744b4a0aa01d4d3149b0d186": {
      "model_module": "@jupyter-widgets/controls",
      "model_module_version": "1.4.0",
      "model_name": "ButtonStyleModel",
      "state": {}
     },
     "a861ee4f76ff496d9a64d2ff32ada97c": {
      "buffers": [
       {
        "data": "AAAAAAAACEAAAAAAAAAUQAAAAAAAAAhAAAAAAAAAIkAAAAAAAAAAAA==",
        "encoding": "base64",
        "path": [
         "_data",
         0,
         "y",
         "value"
        ]
       },
       {
        "data": "AAAAAAAACEAAAAAAAAAUQAAAAAAAAAhAAAAAAAAAIkAAAAAAAAAAAA==",
        "encoding": "base64",
        "path": [
         "_data",
         1,
         "y",
         "value"
        ]
       }
      ],
      "model_module": "plotlywidget",
      "model_module_version": "0.8.0",
      "model_name": "FigureModel",
      "state": {
       "_config": {
        "plotlyServerURL": "https://plot.ly"
       },
       "_data": [
        {
         "mode": "lines+markers",
         "name": "line1",
         "type": "scatter",
         "uid": "306c587f-7083-4de2-85b1-e5df15566498",
         "x": [
          0,
          1,
          2,
          3,
          4
         ],
         "xaxis": "x",
         "y": {
          "dtype": "float64",
          "shape": [
           5
          ],
          "value": {}
         },
         "yaxis": "y"
        },
        {
         "mode": "lines+markers",
         "name": "line2",
         "type": "scatter",
         "uid": "3b2ee3df-3ee8-4fe3-ae81-bbdc3f1b6269",
         "x": [
          0,
          1,
          2,
          3,
          4
         ],
         "xaxis": "x2",
         "y": {
          "dtype": "float64",
          "shape": [
           5
          ],
          "value": {}
         },
         "yaxis": "y2"
        }
       ],
       "_js2py_restyle": {},
       "_js2py_update": {},
       "_last_layout_edit_id": 8,
       "_last_trace_edit_id": 7,
       "_layout": {
        "autosize": true,
        "plot_bgcolor": "rgb(230, 230, 230)",
        "template": {},
        "title": {
         "text": "Scan"
        },
        "xaxis": {
         "anchor": "y",
         "domain": [
          0,
          1
         ]
        },
        "xaxis2": {
         "anchor": "y2",
         "domain": [
          0,
          1
         ]
        },
        "yaxis": {
         "anchor": "x",
         "domain": [
          0.575,
          1
         ]
        },
        "yaxis2": {
         "anchor": "x2",
         "domain": [
          0,
          0.425
         ]
        }
       },
       "_model_module_version": "0.8.0",
       "_py2js_animate": {},
       "_py2js_deleteTraces": {},
       "_py2js_moveTraces": {},
       "_py2js_removeLayoutProps": {},
       "_py2js_removeTraceProps": {},
       "_view_count": 0,
       "_view_module_version": "0.8.0"
      }
     },
     "a87b7b4dbafa45cea8bb15b11ab4e928": {
      "model_module": "@jupyter-widgets/controls",
      "model_module_version": "1.4.0",
      "model_name": "DescriptionStyleModel",
      "state": {
       "description_width": ""
      }
     },
     "a89e2c4cbc91435e94afa074fd7f8630": {
      "model_module": "@jupyter-widgets/base",
      "model_module_version": "1.1.0",
      "model_name": "LayoutModel",
      "state": {}
     },
     "a89ffa6c7c744266a3de8f0235eca351": {
      "model_module": "plotlywidget",
      "model_module_version": "0.8.0",
      "model_name": "FigureModel",
      "state": {
       "_config": {
        "plotlyServerURL": "https://plot.ly"
       },
       "_js2py_layoutDelta": {},
       "_js2py_pointsCallback": {},
       "_js2py_relayout": {},
       "_js2py_restyle": {},
       "_js2py_traceDeltas": {},
       "_js2py_update": {},
       "_layout": {
        "template": {}
       },
       "_model_module_version": "0.8.0",
       "_py2js_addTraces": {},
       "_py2js_animate": {},
       "_py2js_deleteTraces": {},
       "_py2js_moveTraces": {},
       "_py2js_removeLayoutProps": {},
       "_py2js_removeTraceProps": {},
       "_py2js_restyle": {},
       "_py2js_update": {},
       "_view_count": 0,
       "_view_module_version": "0.8.0"
      }
     },
     "a8d538eb0ff348e1a9b555aee2aa73d9": {
      "model_module": "@jupyter-widgets/base",
      "model_module_version": "1.1.0",
      "model_name": "LayoutModel",
      "state": {
       "width": "300px"
      }
     },
     "a8fefd7fea8f492899afc8a17f984f1b": {
      "model_module": "@jupyter-widgets/controls",
      "model_module_version": "1.4.0",
      "model_name": "CheckboxModel",
      "state": {
       "description": "Live plot in Jupyter: ",
       "disabled": false,
       "layout": "IPY_MODEL_122d303fbb454403809427efca681103",
       "style": "IPY_MODEL_fe7272e5e3c2411eb2df55b1e562cfc5",
       "value": false
      }
     },
     "a915a16203a4493f93ad439e63df8f5f": {
      "model_module": "@jupyter-widgets/controls",
      "model_module_version": "1.4.0",
      "model_name": "TextareaModel",
      "state": {
       "layout": "IPY_MODEL_e7a36ab2cd864897b2b51b1728990c73",
       "placeholder": "Example: IOC:m1.DMOV IOC:m3.RBV LNLS:ANEL:corrente.VAL",
       "style": "IPY_MODEL_b7740015e1e041efba268d69faff0ad2"
      }
     },
     "a95db2003ce9490ca5df67ab9df7c61f": {
      "model_module": "@jupyter-widgets/base",
      "model_module_version": "1.1.0",
      "model_name": "LayoutModel",
      "state": {}
     },
     "a971e07123604013a7a1a063352bdf09": {
      "model_module": "@jupyter-widgets/output",
      "model_module_version": "1.0.0",
      "model_name": "OutputModel",
      "state": {
       "layout": "IPY_MODEL_b792fe41fa7942ce9febd3ff0ba542d9",
       "outputs": [
        {
         "data": {
          "application/javascript": "IPython.notebook.save_checkpoint();",
          "text/plain": "<IPython.core.display.Javascript object>"
         },
         "metadata": {},
         "output_type": "display_data"
        },
        {
         "data": {
          "application/javascript": "IPython.notebook.save_checkpoint();",
          "text/plain": "<IPython.core.display.Javascript object>"
         },
         "metadata": {},
         "output_type": "display_data"
        },
        {
         "data": {
          "application/javascript": "IPython.notebook.save_checkpoint();",
          "text/plain": "<IPython.core.display.Javascript object>"
         },
         "metadata": {},
         "output_type": "display_data"
        }
       ]
      }
     },
     "a9db7c0851ba4acca633cdf060a0ff75": {
      "model_module": "@jupyter-widgets/controls",
      "model_module_version": "1.4.0",
      "model_name": "DescriptionStyleModel",
      "state": {
       "description_width": "initial"
      }
     },
     "a9ff5246d7d4496797b3b99b4e49d8de": {
      "model_module": "@jupyter-widgets/controls",
      "model_module_version": "1.4.0",
      "model_name": "CheckboxModel",
      "state": {
       "description": "Plot with Plotly after scan ends: ",
       "disabled": true,
       "layout": "IPY_MODEL_c7fce56e28314610a359048189ec6377",
       "style": "IPY_MODEL_7fac53aeec0040ff9472c3d724052ed4",
       "value": false
      }
     },
     "aa2dba103cd44196b408c3ec966a4191": {
      "model_module": "@jupyter-widgets/controls",
      "model_module_version": "1.4.0",
      "model_name": "TextModel",
      "state": {
       "layout": "IPY_MODEL_39fc72d0b27542a9ad45cdb9f46ec83c",
       "placeholder": "Type the notebook's name without file format",
       "style": "IPY_MODEL_5764c65cc14c4e468164832fefe81eba"
      }
     },
     "aa58df7c39324f529756f357382138e6": {
      "model_module": "@jupyter-widgets/controls",
      "model_module_version": "1.4.0",
      "model_name": "DescriptionStyleModel",
      "state": {
       "description_width": "initial"
      }
     },
     "aa75547f11b14b63a0ce2783e48c4b22": {
      "model_module": "@jupyter-widgets/output",
      "model_module_version": "1.0.0",
      "model_name": "OutputModel",
      "state": {
       "layout": "IPY_MODEL_609e2903a5c749f9a4334b67c658ebe0"
      }
     },
     "aa97822cc8334c78848141cee3e61ec0": {
      "model_module": "@jupyter-widgets/controls",
      "model_module_version": "1.4.0",
      "model_name": "ButtonStyleModel",
      "state": {}
     },
     "aa9e69cb245e4f9c85686740d239c717": {
      "model_module": "@jupyter-widgets/controls",
      "model_module_version": "1.4.0",
      "model_name": "ButtonStyleModel",
      "state": {}
     },
     "aaa4b666d4e1447384234f304fe8d97f": {
      "model_module": "@jupyter-widgets/controls",
      "model_module_version": "1.4.0",
      "model_name": "DescriptionStyleModel",
      "state": {
       "description_width": ""
      }
     },
     "aaba24d74f3f495abe6d7d2a79b08bb5": {
      "model_module": "@jupyter-widgets/base",
      "model_module_version": "1.1.0",
      "model_name": "LayoutModel",
      "state": {}
     },
     "aac642e1288c4748a7fd9d78f4d8edf6": {
      "model_module": "@jupyter-widgets/base",
      "model_module_version": "1.1.0",
      "model_name": "LayoutModel",
      "state": {}
     },
     "ab0f8c49c3b047bb97aa0b024e1f6da4": {
      "model_module": "@jupyter-widgets/controls",
      "model_module_version": "1.4.0",
      "model_name": "DescriptionStyleModel",
      "state": {
       "description_width": "initial"
      }
     },
     "ab54718ce2494c1db964d3b2506b1edc": {
      "model_module": "@jupyter-widgets/base",
      "model_module_version": "1.1.0",
      "model_name": "LayoutModel",
      "state": {}
     },
     "ab76d767a57245f8b5ae80695e407457": {
      "model_module": "@jupyter-widgets/base",
      "model_module_version": "1.1.0",
      "model_name": "LayoutModel",
      "state": {}
     },
     "ab90542471844d72a0ca2391f2a6ea5f": {
      "model_module": "@jupyter-widgets/base",
      "model_module_version": "1.1.0",
      "model_name": "LayoutModel",
      "state": {
       "width": "300px"
      }
     },
     "abb86d0275ec4a9a80477061b991a293": {
      "model_module": "@jupyter-widgets/base",
      "model_module_version": "1.1.0",
      "model_name": "LayoutModel",
      "state": {}
     },
     "abc9a85a1f134130b91d27aa0460bd10": {
      "model_module": "@jupyter-widgets/controls",
      "model_module_version": "1.4.0",
      "model_name": "DescriptionStyleModel",
      "state": {
       "description_width": "initial"
      }
     },
     "abd739c50fdc47269c79e4ea04d07229": {
      "model_module": "@jupyter-widgets/controls",
      "model_module_version": "1.4.0",
      "model_name": "BoxModel",
      "state": {
       "children": [
        "IPY_MODEL_39f82e52f9504e488958fb835ff36df8"
       ],
       "layout": "IPY_MODEL_a4eafc1e1b704ac797f43087e62f006e"
      }
     },
     "abe2698da39349dea64a9bdd5f388a9f": {
      "model_module": "@jupyter-widgets/controls",
      "model_module_version": "1.4.0",
      "model_name": "ButtonStyleModel",
      "state": {}
     },
     "ac13c5cf87eb436fa6f213147f3b0366": {
      "model_module": "@jupyter-widgets/controls",
      "model_module_version": "1.4.0",
      "model_name": "DescriptionStyleModel",
      "state": {
       "description_width": ""
      }
     },
     "ac27916a94654691aa6e9da9829e074f": {
      "model_module": "@jupyter-widgets/base",
      "model_module_version": "1.1.0",
      "model_name": "LayoutModel",
      "state": {}
     },
     "ac294b3fa73e4242abc0ceef38404ec9": {
      "model_module": "@jupyter-widgets/controls",
      "model_module_version": "1.4.0",
      "model_name": "VBoxModel",
      "state": {
       "children": [
        "IPY_MODEL_73eb034185ee4715b15b41118b82a838"
       ],
       "layout": "IPY_MODEL_ca92e9cd1cfa40239a2f53c3917d9889"
      }
     },
     "ac8ffcfb06ed4d6193df25f1f8008186": {
      "model_module": "@jupyter-widgets/controls",
      "model_module_version": "1.4.0",
      "model_name": "DescriptionStyleModel",
      "state": {
       "description_width": "initial"
      }
     },
     "ad2e906ccb4b438aa7513055349cb6ce": {
      "model_module": "@jupyter-widgets/base",
      "model_module_version": "1.1.0",
      "model_name": "LayoutModel",
      "state": {}
     },
     "ad387ce537d544948958b40bb16d3eee": {
      "model_module": "@jupyter-widgets/controls",
      "model_module_version": "1.4.0",
      "model_name": "DescriptionStyleModel",
      "state": {
       "description_width": "initial"
      }
     },
     "adbadd87054c490ca0c805e5f9ca6c67": {
      "model_module": "@jupyter-widgets/controls",
      "model_module_version": "1.4.0",
      "model_name": "DescriptionStyleModel",
      "state": {
       "description_width": ""
      }
     },
     "adc4fd4a4f7e4ed7a1c51282564a3d5d": {
      "model_module": "@jupyter-widgets/base",
      "model_module_version": "1.1.0",
      "model_name": "LayoutModel",
      "state": {}
     },
     "adcad89d76674a96a8a74eec51d6fcc0": {
      "buffers": [
       {
        "data": "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",
        "encoding": "base64",
        "path": [
         "value"
        ]
       }
      ],
      "model_module": "@jupyter-widgets/controls",
      "model_module_version": "1.4.0",
      "model_name": "ImageModel",
      "state": {
       "height": "35",
       "layout": "IPY_MODEL_c0eb7143e3eb4b9ebb0db566eba4c099",
       "value": {},
       "width": "35"
      }
     },
     "adf3e9cab2284c0eadc8f73e5bb50c24": {
      "model_module": "@jupyter-widgets/controls",
      "model_module_version": "1.4.0",
      "model_name": "ButtonModel",
      "state": {
       "button_style": "success",
       "description": "Start Manual Alignment",
       "layout": "IPY_MODEL_fb4fade10e4f444a8ab411d07e441117",
       "style": "IPY_MODEL_2e334852fcc8482a93a12b5690af3441",
       "tooltip": "Click me"
      }
     },
     "adf6b013f68d4dc8943c34ddc663a30b": {
      "model_module": "@jupyter-widgets/controls",
      "model_module_version": "1.4.0",
      "model_name": "DropdownModel",
      "state": {
       "_options_labels": [
        "Plot after ends with PyQt",
        "Plot after ends with Plotly",
        "Live Plot"
       ],
       "disabled": true,
       "index": 1,
       "layout": "IPY_MODEL_6bb12e0239eb42b09b7197658353613f",
       "style": "IPY_MODEL_7d44f8671af54454802d8859bc8823c8"
      }
     },
     "adfe1ba9d82943248a1e3dfb31afd837": {
      "model_module": "@jupyter-widgets/controls",
      "model_module_version": "1.4.0",
      "model_name": "ButtonModel",
      "state": {
       "button_style": "danger",
       "description": "Stop Scanning Plot",
       "layout": "IPY_MODEL_8fd20a6d00d142dc9be14dfc04ee8a21",
       "style": "IPY_MODEL_d8e34054d09e410aaab545b97fd4372b",
       "tooltip": "Click me"
      }
     },
     "ae1bcb8b297e427c9d2fad95845d2475": {
      "model_module": "@jupyter-widgets/base",
      "model_module_version": "1.1.0",
      "model_name": "LayoutModel",
      "state": {
       "width": "300px"
      }
     },
     "ae5179eab3114371a9c3ba0bd296f1fa": {
      "model_module": "@jupyter-widgets/controls",
      "model_module_version": "1.4.0",
      "model_name": "DropdownModel",
      "state": {
       "_options_labels": [
        "Plot after ends with PyQt",
        "Plot after ends with Plotly",
        "Live Plot"
       ],
       "disabled": true,
       "index": 0,
       "layout": "IPY_MODEL_3807cad7e96345de8491a6f32287f64e",
       "style": "IPY_MODEL_5ba6a491bea64dbc85493370dbc1933f"
      }
     },
     "ae7762b1ab604578a466bf7c329a80ba": {
      "model_module": "@jupyter-widgets/controls",
      "model_module_version": "1.4.0",
      "model_name": "ButtonStyleModel",
      "state": {}
     },
     "ae8f1f0539fa476b928ee89423d0e729": {
      "model_module": "@jupyter-widgets/base",
      "model_module_version": "1.1.0",
      "model_name": "LayoutModel",
      "state": {}
     },
     "aeb4499325c54272b0007b28659d4962": {
      "model_module": "@jupyter-widgets/controls",
      "model_module_version": "1.4.0",
      "model_name": "ButtonModel",
      "state": {
       "button_style": "success",
       "description": "Start Manual Alignment",
       "layout": "IPY_MODEL_71f040797e73455b8b2329b146d1b78d",
       "style": "IPY_MODEL_d4934cfdf0344c9cb6d0990b0f8f477c",
       "tooltip": "Click me"
      }
     },
     "af83cb63c71043f78f62d68c7e93d82f": {
      "model_module": "@jupyter-widgets/output",
      "model_module_version": "1.0.0",
      "model_name": "OutputModel",
      "state": {
       "layout": "IPY_MODEL_34cf723eeea5499db6e1746502039dff"
      }
     },
     "af89a5d4dc4e4063b29ec36726961db3": {
      "model_module": "@jupyter-widgets/controls",
      "model_module_version": "1.4.0",
      "model_name": "ButtonModel",
      "state": {
       "description": "Stopping...",
       "disabled": true,
       "layout": "IPY_MODEL_49e81a3b21da4b49ab602325779025b6",
       "style": "IPY_MODEL_a80f3e14744b4a0aa01d4d3149b0d186",
       "tooltip": "Click me"
      }
     },
     "afcb36a6dfc443c185fb96e6fb1919cf": {
      "model_module": "@jupyter-widgets/output",
      "model_module_version": "1.0.0",
      "model_name": "OutputModel",
      "state": {
       "layout": "IPY_MODEL_69c126fbb20541989bc6ecb2c53199b2"
      }
     },
     "b05fd01de1414b17b3ab43b08101f2a5": {
      "model_module": "@jupyter-widgets/base",
      "model_module_version": "1.1.0",
      "model_name": "LayoutModel",
      "state": {}
     },
     "b097f3bf768e43b3818c87ed859a9df3": {
      "model_module": "@jupyter-widgets/controls",
      "model_module_version": "1.4.0",
      "model_name": "ButtonStyleModel",
      "state": {}
     },
     "b0eb8edce911444eb933b0bcc7d051ae": {
      "model_module": "@jupyter-widgets/controls",
      "model_module_version": "1.4.0",
      "model_name": "TextModel",
      "state": {
       "layout": "IPY_MODEL_b9b0c05dcce045f9bd692eaddf966f7a",
       "placeholder": "Type the notebook's name without file format",
       "style": "IPY_MODEL_4d83e7cbad8a42e5b158de6b0746e901"
      }
     },
     "b0feb67a9f4d453da11880a6c9c19640": {
      "model_module": "@jupyter-widgets/controls",
      "model_module_version": "1.4.0",
      "model_name": "ButtonStyleModel",
      "state": {}
     },
     "b11c245bf55c4efbab47a3b8aa7a879c": {
      "model_module": "plotlywidget",
      "model_module_version": "0.8.0",
      "model_name": "FigureModel",
      "state": {
       "_config": {
        "plotlyServerURL": "https://plot.ly"
       },
       "_js2py_layoutDelta": {},
       "_js2py_pointsCallback": {},
       "_js2py_relayout": {},
       "_js2py_restyle": {},
       "_js2py_traceDeltas": {},
       "_js2py_update": {},
       "_layout": {
        "template": {}
       },
       "_model_module_version": "0.8.0",
       "_py2js_addTraces": {},
       "_py2js_animate": {},
       "_py2js_deleteTraces": {},
       "_py2js_moveTraces": {},
       "_py2js_removeLayoutProps": {},
       "_py2js_removeTraceProps": {},
       "_py2js_restyle": {},
       "_py2js_update": {},
       "_view_count": 0,
       "_view_module_version": "0.8.0"
      }
     },
     "b18ea612e2454ecd827c0195b757b54c": {
      "model_module": "@jupyter-widgets/controls",
      "model_module_version": "1.4.0",
      "model_name": "BoxModel",
      "state": {
       "layout": "IPY_MODEL_11b0701e8f5a4170ba1f0b437d685a54"
      }
     },
     "b1915a5a8158441a99d74152d1a565d3": {
      "model_module": "@jupyter-widgets/base",
      "model_module_version": "1.1.0",
      "model_name": "LayoutModel",
      "state": {}
     },
     "b1a11393febc47b8bd94108472ab283c": {
      "model_module": "@jupyter-widgets/controls",
      "model_module_version": "1.4.0",
      "model_name": "TextModel",
      "state": {
       "layout": "IPY_MODEL_dacfacbbc3234ff69e06f1f6771b904a",
       "placeholder": "Type the notebook's name without file format",
       "style": "IPY_MODEL_63ccaee4978a4f71a529bbfa57811efd"
      }
     },
     "b1dc00f342294a5ab5c3421467882edd": {
      "model_module": "@jupyter-widgets/base",
      "model_module_version": "1.1.0",
      "model_name": "LayoutModel",
      "state": {
       "width": "300px"
      }
     },
     "b1e00e7dc91b499a81a4afa66ffa91d4": {
      "model_module": "@jupyter-widgets/base",
      "model_module_version": "1.1.0",
      "model_name": "LayoutModel",
      "state": {}
     },
     "b219ce6333eb4ebebcc39b31ff41269e": {
      "model_module": "@jupyter-widgets/controls",
      "model_module_version": "1.4.0",
      "model_name": "ButtonStyleModel",
      "state": {}
     },
     "b22727b8a1ba4b0b9b260e96693cc7ff": {
      "model_module": "@jupyter-widgets/base",
      "model_module_version": "1.1.0",
      "model_name": "LayoutModel",
      "state": {}
     },
     "b25e53072d1740bd905e56e296259cc7": {
      "model_module": "@jupyter-widgets/base",
      "model_module_version": "1.1.0",
      "model_name": "LayoutModel",
      "state": {}
     },
     "b282b115c8c14cb0bce40e1db2be3fe1": {
      "model_module": "@jupyter-widgets/controls",
      "model_module_version": "1.4.0",
      "model_name": "DescriptionStyleModel",
      "state": {
       "description_width": "initial"
      }
     },
     "b2a6d4e482264cbaa437d3c43db139f4": {
      "model_module": "@jupyter-widgets/controls",
      "model_module_version": "1.4.0",
      "model_name": "VBoxModel",
      "state": {
       "children": [
        "IPY_MODEL_625de4cebc184c27992993541b441a74",
        "IPY_MODEL_7626ca75f14f46aa905b69252a3f182b"
       ],
       "layout": "IPY_MODEL_a89e2c4cbc91435e94afa074fd7f8630"
      }
     },
     "b2cb99378fc54abda4247dc328477332": {
      "model_module": "@jupyter-widgets/controls",
      "model_module_version": "1.4.0",
      "model_name": "TextModel",
      "state": {
       "layout": "IPY_MODEL_280aeeaa68454d7a9a33db744153d52f",
       "placeholder": "Type the notebook's name without file format",
       "style": "IPY_MODEL_710e1d44d47e4a658028c2b718d18a33"
      }
     },
     "b30250d5bf6d473998cb5e0ba2e06208": {
      "model_module": "@jupyter-widgets/base",
      "model_module_version": "1.1.0",
      "model_name": "LayoutModel",
      "state": {}
     },
     "b3035efd697946c392e856b06e0e631a": {
      "model_module": "@jupyter-widgets/base",
      "model_module_version": "1.1.0",
      "model_name": "LayoutModel",
      "state": {}
     },
     "b31e5f80679c4a1599e93e7452c48df4": {
      "model_module": "@jupyter-widgets/controls",
      "model_module_version": "1.4.0",
      "model_name": "ButtonStyleModel",
      "state": {}
     },
     "b3524357657441e1b8e878a6a7056c69": {
      "model_module": "@jupyter-widgets/controls",
      "model_module_version": "1.4.0",
      "model_name": "VBoxModel",
      "state": {
       "children": [
        "IPY_MODEL_d88ac74b0e694d4086bfcfdaf33309eb",
        "IPY_MODEL_fc17aa78e89a4fb08d79c4c111e93cbc"
       ],
       "layout": "IPY_MODEL_15b04854234f4a6b9c567dad487b5d2b"
      }
     },
     "b3a60162cda147afa229fdad4b0c6402": {
      "model_module": "@jupyter-widgets/controls",
      "model_module_version": "1.4.0",
      "model_name": "TextModel",
      "state": {
       "layout": "IPY_MODEL_5f5e760d52e04d0e8a5f33a658aa90dc",
       "placeholder": "Type the notebook's name without file format",
       "style": "IPY_MODEL_0f39c3e5b40a459293f7dcaf7af6546b"
      }
     },
     "b3ee5edbe3fc45a0aa17430ec78fed1f": {
      "model_module": "@jupyter-widgets/base",
      "model_module_version": "1.1.0",
      "model_name": "LayoutModel",
      "state": {}
     },
     "b4202dd70f8c492f91585d05e713d205": {
      "model_module": "@jupyter-widgets/controls",
      "model_module_version": "1.4.0",
      "model_name": "DescriptionStyleModel",
      "state": {
       "description_width": "initial"
      }
     },
     "b4303b4f16834836ae4c6f9a0637c70a": {
      "model_module": "@jupyter-widgets/base",
      "model_module_version": "1.1.0",
      "model_name": "LayoutModel",
      "state": {
       "width": "300px"
      }
     },
     "b4519db0efcb40248b5a0e4f61b4c65f": {
      "buffers": [
       {
        "data": "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",
        "encoding": "base64",
        "path": [
         "value"
        ]
       }
      ],
      "model_module": "@jupyter-widgets/controls",
      "model_module_version": "1.4.0",
      "model_name": "ImageModel",
      "state": {
       "height": "35",
       "layout": "IPY_MODEL_79a4049a92404449b3f280de311a1b5e",
       "value": {},
       "width": "35"
      }
     },
     "b46d88d4f75e4cf18674ab642c8b80ec": {
      "model_module": "@jupyter-widgets/base",
      "model_module_version": "1.1.0",
      "model_name": "LayoutModel",
      "state": {
       "width": "300px"
      }
     },
     "b46e5ffc5ec54d85bf0b4b56c88f1779": {
      "model_module": "@jupyter-widgets/base",
      "model_module_version": "1.1.0",
      "model_name": "LayoutModel",
      "state": {}
     },
     "b486da396b714f5c9fb909511998c50c": {
      "model_module": "@jupyter-widgets/controls",
      "model_module_version": "1.4.0",
      "model_name": "DescriptionStyleModel",
      "state": {
       "description_width": ""
      }
     },
     "b522eabbf8de4ad8a75939e988bc6966": {
      "model_module": "@jupyter-widgets/output",
      "model_module_version": "1.0.0",
      "model_name": "OutputModel",
      "state": {
       "layout": "IPY_MODEL_700c977e402744668c77e111f5d1caf0"
      }
     },
     "b531525f803541768c7ddd235b347b5b": {
      "model_module": "@jupyter-widgets/base",
      "model_module_version": "1.1.0",
      "model_name": "LayoutModel",
      "state": {}
     },
     "b534e8e1a6f7452ca6f48cf6397ccece": {
      "model_module": "@jupyter-widgets/base",
      "model_module_version": "1.1.0",
      "model_name": "LayoutModel",
      "state": {}
     },
     "b5363a088a734137a241ef37e147aed6": {
      "model_module": "@jupyter-widgets/controls",
      "model_module_version": "1.4.0",
      "model_name": "DescriptionStyleModel",
      "state": {
       "description_width": "initial"
      }
     },
     "b53b687bdb784927bb697a4a9dc12572": {
      "model_module": "@jupyter-widgets/controls",
      "model_module_version": "1.4.0",
      "model_name": "ButtonModel",
      "state": {
       "button_style": "warning",
       "description": "Export Notebook to Latex",
       "layout": "IPY_MODEL_3904ed8d11b4463891b73d8fc3ca0440",
       "style": "IPY_MODEL_6a4bb6f819134cf7a043c46e3a702290",
       "tooltip": "Click me"
      }
     },
     "b54009c601ff4a25967429fa9d42ad0c": {
      "model_module": "@jupyter-widgets/output",
      "model_module_version": "1.0.0",
      "model_name": "OutputModel",
      "state": {
       "layout": "IPY_MODEL_c5268293addd40718ee9029b9098a364"
      }
     },
     "b5422aa683ae488791dd8bae1fb7507a": {
      "model_module": "@jupyter-widgets/controls",
      "model_module_version": "1.4.0",
      "model_name": "VBoxModel",
      "state": {
       "children": [
        "IPY_MODEL_065522be1ee8445ba717bc6e6c81c4ec"
       ],
       "layout": "IPY_MODEL_308d42925ffb420f822f0d2727728c13"
      }
     },
     "b55d8d8e6d79496395780f9af958c7ae": {
      "model_module": "@jupyter-widgets/controls",
      "model_module_version": "1.4.0",
      "model_name": "CheckboxModel",
      "state": {
       "description": "Print log in Notebook's cells",
       "disabled": false,
       "layout": "IPY_MODEL_ec39d56c52644ae990ad93eff7c50943",
       "style": "IPY_MODEL_2ea2d3ae377e4aafa9805b0174e749bd",
       "value": false
      }
     },
     "b581c5e882d34757b9046f2a146f1ba4": {
      "model_module": "@jupyter-widgets/controls",
      "model_module_version": "1.4.0",
      "model_name": "LabelModel",
      "state": {
       "layout": "IPY_MODEL_c9b519d34a33456ab00205d4d864d376",
       "style": "IPY_MODEL_e9630e7d183e4a6b8f5df5a84f3d1591",
       "value": "Notebook's name: "
      }
     },
     "b5e579430639472a8ced0d1783b18ed0": {
      "model_module": "@jupyter-widgets/controls",
      "model_module_version": "1.4.0",
      "model_name": "DescriptionStyleModel",
      "state": {
       "description_width": ""
      }
     },
     "b606012563ce49e8ae9baf59786351ff": {
      "model_module": "@jupyter-widgets/controls",
      "model_module_version": "1.4.0",
      "model_name": "DescriptionStyleModel",
      "state": {
       "description_width": ""
      }
     },
     "b6208ed33180438cbb6a2e575225036f": {
      "model_module": "@jupyter-widgets/base",
      "model_module_version": "1.1.0",
      "model_name": "LayoutModel",
      "state": {}
     },
     "b62921f69bd046e6b1e93dad36922981": {
      "model_module": "@jupyter-widgets/controls",
      "model_module_version": "1.4.0",
      "model_name": "CheckboxModel",
      "state": {
       "description": "Live plot in Jupyter: ",
       "disabled": true,
       "layout": "IPY_MODEL_a95db2003ce9490ca5df67ab9df7c61f",
       "style": "IPY_MODEL_13d5a08437284b819b85eff3e9b365bd",
       "value": false
      }
     },
     "b6873d97f5f149ae91eea24ba331fbf2": {
      "model_module": "@jupyter-widgets/base",
      "model_module_version": "1.1.0",
      "model_name": "LayoutModel",
      "state": {}
     },
     "b68b00cd9f8b480697776883ea66aabc": {
      "model_module": "@jupyter-widgets/controls",
      "model_module_version": "1.4.0",
      "model_name": "ButtonModel",
      "state": {
       "button_style": "success",
       "description": "Start PV Monitoring",
       "layout": "IPY_MODEL_e2bbbbde430845588c67026bb3028401",
       "style": "IPY_MODEL_08772f9f8bc145aa98347c3a83a321a0",
       "tooltip": "Click me"
      }
     },
     "b6a6dbc3a90e4e4ebc8c939dbf7fa9ba": {
      "model_module": "@jupyter-widgets/controls",
      "model_module_version": "1.4.0",
      "model_name": "DescriptionStyleModel",
      "state": {
       "description_width": ""
      }
     },
     "b6afb508e95247b7a8695bbd14aa0fa0": {
      "model_module": "@jupyter-widgets/base",
      "model_module_version": "1.1.0",
      "model_name": "LayoutModel",
      "state": {}
     },
     "b6bc4b311a4140a7aac203dcaf900ea2": {
      "model_module": "@jupyter-widgets/output",
      "model_module_version": "1.0.0",
      "model_name": "OutputModel",
      "state": {
       "layout": "IPY_MODEL_a2acde3844ab488490581d029cc12d05"
      }
     },
     "b6c2646002f04c899ab24635ee8e7828": {
      "model_module": "@jupyter-widgets/controls",
      "model_module_version": "1.4.0",
      "model_name": "CheckboxModel",
      "state": {
       "description": "Live plot in Jupyter: ",
       "disabled": false,
       "layout": "IPY_MODEL_76188d4390bb45308906f1d7597c7bb5",
       "style": "IPY_MODEL_cb26fde534d64e17a1c55d7be5465995",
       "value": false
      }
     },
     "b6d8a9719109410ca111d03c5fb85389": {
      "model_module": "@jupyter-widgets/base",
      "model_module_version": "1.1.0",
      "model_name": "LayoutModel",
      "state": {}
     },
     "b6edb2396bc14e168401f3f0354fce99": {
      "model_module": "plotlywidget",
      "model_module_version": "0.8.0",
      "model_name": "FigureModel",
      "state": {
       "_config": {
        "plotlyServerURL": "https://plot.ly"
       },
       "_js2py_layoutDelta": {},
       "_js2py_pointsCallback": {},
       "_js2py_relayout": {},
       "_js2py_restyle": {},
       "_js2py_traceDeltas": {},
       "_js2py_update": {},
       "_layout": {
        "template": {}
       },
       "_model_module_version": "0.8.0",
       "_py2js_addTraces": {},
       "_py2js_animate": {},
       "_py2js_deleteTraces": {},
       "_py2js_moveTraces": {},
       "_py2js_removeLayoutProps": {},
       "_py2js_removeTraceProps": {},
       "_py2js_restyle": {},
       "_py2js_update": {},
       "_view_count": 0,
       "_view_module_version": "0.8.0"
      }
     },
     "b72d2d83344b45ee9b8329507d7e5802": {
      "model_module": "@jupyter-widgets/output",
      "model_module_version": "1.0.0",
      "model_name": "OutputModel",
      "state": {
       "layout": "IPY_MODEL_82944629b40a40118136d254565fc8b2"
      }
     },
     "b763cb7d054240179b44824ddbb06461": {
      "model_module": "@jupyter-widgets/controls",
      "model_module_version": "1.4.0",
      "model_name": "DescriptionStyleModel",
      "state": {
       "description_width": "initial"
      }
     },
     "b770005fb3694617a051bfc7838ebb8a": {
      "model_module": "@jupyter-widgets/controls",
      "model_module_version": "1.4.0",
      "model_name": "LabelModel",
      "state": {
       "layout": "IPY_MODEL_0bb8c707d2454280b7d15f1867bb7f7c",
       "style": "IPY_MODEL_0428786921b044f897201d40727b08e6",
       "value": "Notebook's name: "
      }
     },
     "b7740015e1e041efba268d69faff0ad2": {
      "model_module": "@jupyter-widgets/controls",
      "model_module_version": "1.4.0",
      "model_name": "DescriptionStyleModel",
      "state": {
       "description_width": ""
      }
     },
     "b77d6552b58e4145ada4dbaf2e6e6a15": {
      "model_module": "@jupyter-widgets/controls",
      "model_module_version": "1.4.0",
      "model_name": "VBoxModel",
      "state": {
       "children": [
        "IPY_MODEL_9dbc2cc85f18475197510d6920f9ec21"
       ],
       "layout": "IPY_MODEL_2fbb7f53e7a94081a3d39fc1899d191e"
      }
     },
     "b792fe41fa7942ce9febd3ff0ba542d9": {
      "model_module": "@jupyter-widgets/base",
      "model_module_version": "1.1.0",
      "model_name": "LayoutModel",
      "state": {}
     },
     "b793217afd144fa7b7bc0205dc48cc34": {
      "model_module": "@jupyter-widgets/controls",
      "model_module_version": "1.4.0",
      "model_name": "DescriptionStyleModel",
      "state": {
       "description_width": "initial"
      }
     },
     "b7ad295244494d639da7a56bfa670bf0": {
      "model_module": "@jupyter-widgets/controls",
      "model_module_version": "1.4.0",
      "model_name": "VBoxModel",
      "state": {
       "children": [
        "IPY_MODEL_2821e86b97374599afd02c44e50f8ecf"
       ],
       "layout": "IPY_MODEL_4ba2e21794a845b0b214bcc147c14ea2"
      }
     },
     "b7d1d6c2888f41a2a8dedb53fb448e5b": {
      "model_module": "@jupyter-widgets/base",
      "model_module_version": "1.1.0",
      "model_name": "LayoutModel",
      "state": {}
     },
     "b7f830239eec47919a244da5912c312a": {
      "model_module": "@jupyter-widgets/controls",
      "model_module_version": "1.4.0",
      "model_name": "DescriptionStyleModel",
      "state": {
       "description_width": "initial"
      }
     },
     "b86ecfc59c2b4ef6bf2eae3a76433498": {
      "model_module": "@jupyter-widgets/base",
      "model_module_version": "1.1.0",
      "model_name": "LayoutModel",
      "state": {
       "height": "40px",
       "width": "40px"
      }
     },
     "b89ae413bbc34f5dbca7e8b990ccbed0": {
      "model_module": "@jupyter-widgets/output",
      "model_module_version": "1.0.0",
      "model_name": "OutputModel",
      "state": {
       "layout": "IPY_MODEL_36d6327971f3408488e37a66e3adc0c4"
      }
     },
     "b8b67edbe6fe4d259130f4959bb10a5c": {
      "model_module": "@jupyter-widgets/controls",
      "model_module_version": "1.4.0",
      "model_name": "TextareaModel",
      "state": {
       "layout": "IPY_MODEL_6b094b3df973414194ab7a3dc24193ea",
       "placeholder": "Example: IOC:m1.DMOV IOC:m3.RBV LNLS:ANEL:corrente.VAL",
       "style": "IPY_MODEL_4e146c7c307b4dc7bd53c05a726a5b9a"
      }
     },
     "b8c3e712e0c64a8183d3bbaa34a793ed": {
      "model_module": "@jupyter-widgets/base",
      "model_module_version": "1.1.0",
      "model_name": "LayoutModel",
      "state": {}
     },
     "b8d50f1231dc4a26be01088d9a48798d": {
      "model_module": "@jupyter-widgets/controls",
      "model_module_version": "1.4.0",
      "model_name": "CheckboxModel",
      "state": {
       "description": "Plot with Plotly after scan ends: ",
       "disabled": false,
       "layout": "IPY_MODEL_91ec503d13664617b9b887310fa14c8c",
       "style": "IPY_MODEL_ba458f2b51614b33ada4cd8a85e5369f",
       "value": false
      }
     },
     "b91ad986fd84419fb6ace15bd9ba09b8": {
      "model_module": "plotlywidget",
      "model_module_version": "0.8.0",
      "model_name": "FigureModel",
      "state": {
       "_config": {
        "plotlyServerURL": "https://plot.ly"
       },
       "_js2py_layoutDelta": {},
       "_js2py_pointsCallback": {},
       "_js2py_relayout": {},
       "_js2py_restyle": {},
       "_js2py_traceDeltas": {},
       "_js2py_update": {},
       "_model_module_version": "0.8.0",
       "_py2js_addTraces": {},
       "_py2js_animate": {},
       "_py2js_deleteTraces": {},
       "_py2js_moveTraces": {},
       "_py2js_removeLayoutProps": {},
       "_py2js_removeTraceProps": {},
       "_py2js_restyle": {},
       "_py2js_update": {},
       "_view_count": 0,
       "_view_module_version": "0.8.0"
      }
     },
     "b9941db9ae334336a73d1bcaeb6d9183": {
      "model_module": "@jupyter-widgets/controls",
      "model_module_version": "1.4.0",
      "model_name": "DescriptionStyleModel",
      "state": {
       "description_width": "initial"
      }
     },
     "b9a3c1fe8ab54e71b0afc2f33c1d4b8e": {
      "model_module": "@jupyter-widgets/base",
      "model_module_version": "1.1.0",
      "model_name": "LayoutModel",
      "state": {}
     },
     "b9b0c05dcce045f9bd692eaddf966f7a": {
      "model_module": "@jupyter-widgets/base",
      "model_module_version": "1.1.0",
      "model_name": "LayoutModel",
      "state": {
       "width": "300px"
      }
     },
     "b9e8afd675954467886df78a241a125e": {
      "model_module": "@jupyter-widgets/controls",
      "model_module_version": "1.4.0",
      "model_name": "CheckboxModel",
      "state": {
       "description": "Print log in Notebook's cells",
       "disabled": false,
       "layout": "IPY_MODEL_2ade96f74bdd499faa8335085538cc2e",
       "style": "IPY_MODEL_81ca3d2c10f64c84aeb8704f7f92cabd",
       "value": false
      }
     },
     "ba2444b0a1684c1691bac2bdfc603079": {
      "model_module": "@jupyter-widgets/base",
      "model_module_version": "1.1.0",
      "model_name": "LayoutModel",
      "state": {}
     },
     "ba405d75595b45978248ab9e08284194": {
      "model_module": "@jupyter-widgets/base",
      "model_module_version": "1.1.0",
      "model_name": "LayoutModel",
      "state": {}
     },
     "ba458f2b51614b33ada4cd8a85e5369f": {
      "model_module": "@jupyter-widgets/controls",
      "model_module_version": "1.4.0",
      "model_name": "DescriptionStyleModel",
      "state": {
       "description_width": "initial"
      }
     },
     "ba563e200e9a4883993f4db6a0d7022c": {
      "model_module": "@jupyter-widgets/controls",
      "model_module_version": "1.4.0",
      "model_name": "ButtonModel",
      "state": {
       "button_style": "warning",
       "description": "Export Notebook to HTML",
       "layout": "IPY_MODEL_6b411fc45bea4ae9a45fab30b5c292cd",
       "style": "IPY_MODEL_fa5abb7dfed54d08991559e60ea3e0df",
       "tooltip": "Click me"
      }
     },
     "babd38442c8b40af95f544e4a1dce514": {
      "model_module": "@jupyter-widgets/controls",
      "model_module_version": "1.4.0",
      "model_name": "ButtonModel",
      "state": {
       "button_style": "success",
       "description": "Start Manual Alignment",
       "layout": "IPY_MODEL_4fed8e5a7d81453da2930fedfd45d664",
       "style": "IPY_MODEL_f5557d306caa41e7a684ed79fd9668af",
       "tooltip": "Click me"
      }
     },
     "bb1c7f11ff7a49cd94f1f3ab38f8890f": {
      "model_module": "@jupyter-widgets/controls",
      "model_module_version": "1.4.0",
      "model_name": "DescriptionStyleModel",
      "state": {
       "description_width": "initial"
      }
     },
     "bb1f75056ff24f828cc6aef596c88f89": {
      "model_module": "@jupyter-widgets/controls",
      "model_module_version": "1.4.0",
      "model_name": "ButtonStyleModel",
      "state": {}
     },
     "bb223f37127e4e189806569fa105dfc6": {
      "model_module": "@jupyter-widgets/controls",
      "model_module_version": "1.4.0",
      "model_name": "BoxModel",
      "state": {
       "layout": "IPY_MODEL_243b8423a6b04d018ea0360ece5e9fc2"
      }
     },
     "bb61c2d14c11402ab05c260a40b25eac": {
      "buffers": [
       {
        "data": "iVBORw0KGgoAAAANSUhEUgAAAgAAAAIACAQAAABecRxxAAAABGdBTUEAALGPC/xhBQAAACBjSFJNAAB6JgAAgIQAAPoAAACA6AAAdTAAAOpgAAA6mAAAF3CculE8AAAAAmJLR0QAAKqNIzIAAAAJcEhZcwAADdcAAA3XAUIom3gAAAAHdElNRQfjBQkRKA3X5BgmAAAVFUlEQVR42u3de5BX5X3H8ffZXQRFUZTLrlC5CMuC5RbTJJOMCabtTDq9BUw67R/tTEdNG2OayUynyaTNdJqYjI1mbAyKFRXRStPoJMYYooZOpmkmnda2NpUalYsXxIDAssLCXtjdX//YALsisJffOc9zzvN+nf+Uy3PO4fn+zj7n+Xx/IEmSJEmSJEmSJEmSJEmSJEmSJEmSJEmSJEmSJEmSJEmSJEmSJEmSJEmSJEmSJEmSJEmSJEmSJEmSJEmSJEmSJEmSJEmSJEmSJEmSJEmSJEmSJEmSJEmSJEmSJEmSJEmSJEmSJI1KFnoAksYpYypTOY8G+ujkIIepjfy3SiqjBi7gHSxjEbOZwkQayRigj24O8grPs5X/5cjZ/hALgFQ+F7CS97OSWUxnKhfQOGQm1+jlEO3sZxf/xQ/YSv/p/yALgFQul/BufpWVLKSFxjP+ymPs5jme5kn+h663/yUWAKk8zmMZH+JqlnHRiH/PPv6DLXyfl+gNPXxJY9fM7/Mwe6iN+niZu/kQU0/9IxtHPwpJAbRyDdeziilj+L0XsZRZ9PIGh4f/DwuAFL+MxVzLtSwZ84xtZD7z6eN1Dg3/z5LiltHKp/gDLh3nnzOTyxngpaElwAIgxS1jDp/hI0yvw591MfPo47nTvROQFJsWHuDNMSz8ne7YyvVMCn1SkkZiChvprOP0r1Hj31jlBgApfhN4hJ46T/8a3Tx6/JWgawBSrKZwL7+Xwxxt4gIa+FHo05N0Ohkt/GMOn/6DRz/P0AY+AUgxyriML3BNbot1GU3U2BL6NCWdKqON++jI6dN/8DjGT5kd+kQlvVXGEu7iQK7Tv0aNfVwb+lQlDdfACu5ib+7Tv8ZRHgt9spKGyljBnYVM/xr9vMrMptBnLOkXMlZwLR9mRiF/WwNTWelbACkODazkOtbQUtjf2M9LFgApBhnL+BPW0Fzg31mj3QIghZdxBR9ndaHTH2p0hz5xSRmLWM++Qpb+hi8D7g596lLqMuZyN/sLn/41Bngz9MlLqat33n80h32CpaDyyPuP/AmgM/TpSylrZFNuib+RFIC9oS+AlKqMi3gk2OSvUaOPnzaEvgpSkjJmcDu/HXQMA+ywAEjFy5jLLazhnKCj6OdFswBS0TIW8Bf8LpMDj6OPfw99KaTUZCxlfZD3/m9dAtw37q8akTQqGctYF2DX36lHF0/R5I8AUnEaWMF1fJhpoQcCHOX79IUehJSOjJXcMaav987jFeBztIFPAFIxGljBtaxmZuiBAHCYf2Fb6EFIqchYzrpIPv1rHOMZrgp9SaRUZPwyd/Lz4BP/+LGXW5kQ+qJIaQiV9z/d0cWTLAt9UaQ0hMv7v/3Rx7NcF/qiSKkImfc/9RhgNzfl9pVjkoYJmfd/u6ODtQV3HpSSNYFHAub9Tz16WM/c0BdFSsMUNgWf8kOPbtYyP/RFkVKQMZONUX36d3MbrdgAQMpdxhzujepn/25upc2dv1L+MhZyNx3BJ/3Q6X8LS9z6I+UvYwl3RfTe//j0D9t9SEpCxrLCvuB75A//Tn+pABkrWBvRnv/Bpb82H/6l/GWsZC2vB5/0J48e1tLq0p+Uv8FP/3im/wCd3M98X/xJ+ctYFtn07+BBWkNfFikFGUuiyvsP0M5DtIW+LFIKMhZyV0Qr/wMcYBOLQ18WKQUZc6LK+w/Q7vSXijKTeyPa9TdABw85/aVixJb37+RBf/aXitHIpqgSfz3c78q/VAzz/lKizPtLyTLvLyXLvL+ULPP+UrLM+0vJMu8vJcu8v5Qs8/5Sssz7S8ky7y8ly7y/lCzz/lLCzPtLyTLvLyXLvL+ULPP+UqLM+0vJMu8vJcu8v5Qs8/5Sssz7S8ky7y8ly7y/lCzz/lKyzPtLyTLvLyXLvL+ULPP+UsLM+0vJMu8vJcu8v5Qs8/5Sosz7S8ky7y8ly7y/lCzz/lKyzPtLyTLvLyXLvL+ULPP+UrLM+0vJMu8vJcu8v5Qs8/5Swsz7S8ky7y8ly7y/lCzz/lKizPtLyTLvLyXLvL+ULPP+UrLM+0vJMu8vJcu8v5Qs8/5Sssz7S8ky7y8ly7y/lCzz/lLCzPtLyTLvLyXLvL+ULPP+UqLM+0vJMu8vJcu8v5Qs8/5Sssz7S8ky7y8ly7y/lCzz/lKyzPtLyTLvLyXLvL+ULPP+UsLM+0vJMu8vJcu8v5Qs8/5Sosz7S8ky7y8ly7y/lCzz/lKyzPtLyTLvLyXLvL+ULPP+UrLM+0vJMu8vJcu8v5Qs8/5Swsz7S8ky7y8ly7y/lCzz/lKizPtLyTLvLyXLvL+ULPP+UrLM+0vJMu8vJcu8v5Qs8/5Sssz7S8ky7y8ly7y/lCzz/lLCzPtLyTLvLyXLvL+ULPP+UqLM+0vJMu8vJcu8v5Qs8/5Sssz7S8ky7y8ly7y/lCzz/lKyzPtLyTLvLyXLvL+ULPP+UsLM+0vJMu8vJcu8f8llo/rVFzGN85lAP520sz/04BVUxoWs5yOhhzFED3/PbbwcehhlMpI9UufzXt7DO2nlEiaQkVED+jjEDv6Tn/CvvMlA6BNRwTKa+Sq/E3oYQ/RwB+t4NfQwqqSJ97GWZ3mdgxylj4Fhj1v9dNPBHp7nHn6LC0MPVgXKmMcDHAn+yH/y6OIrLHLTb/2cz2/yDV6knb6zXPp+OtjJY/wRzaEHrUJktHFfRCv/Nbq42chP/UziV/g6Wzk8iltwhBfZyG9wQejBK2cZS1nPgeCTfvj0X+z0r5cZ/CFPsW8MN6KDn/AZFoQ+AeUoYxnreCP4pD95dHOr079+FvFXPEPvGG9GHzu4nXeHPgnlpIF3RLXnv0Y3X/Xhv14ylnMrO8d5S/byAB8whFlBDVzJuqimfw9fY4FLf/WylL/jtTrclnYe4YOWgIrJWBnVp/8AnWxgrv/O6uVyvsKuOt2cQzzGVaPcZqSYZSznjsjy/g+4669+pvI5dtTxBnXyXd5jCaiIjCsiC/y28w8sDH1ZqqOJj/LMWzb6jPfo4glWWAIqIGNRZNP/gIm/+mrlBzmEOnp5ioU0hj45jUvGXO6L6L3/YLcfH/7r6Bz+lj053a7NrtKWWkZzVLv+zPvn4Eqey/GWPc4CnwJK6yI2RbXn/zAb/dm/3u7kYK43bTMLXQsoJfP+Cbicl3O/cU+5HFg6GRfxcPApP/To5mvMDX1ZqufPac/91vXyhC8FSyVjJg9E9enfzW20uu2n3jJ+VMht7uK7XOXtK4mMeZH1+jPvn5O5vFHn9/+nOzp5zA3CpZCxkPURrfwPfsG3ib8cNPEuzivo0XwyqxigkX+2gVjUMhbzZ6yOqMdTD19nAzs4Fnog1dPEOwt8RXcBqxgAS0DEGljGn7KaS0IP5IQebmcDO+gNPZAqaqKt0Hf0F3I1kLHFEhCljGV8jNXMCD2QE3pYx73s9NM/L8+etedfvY+DfJtfcy0gQg1cGVXir0YPt9Pq0l+e9ha0BDj06ODbLgdGx7x/ko4EKAD2C4iPef9EjbX733gP+wXExLx/sjqDPAHUGOwXsNISEIGMhZFN/wN+wXdRXqc/2I0+xhb7BQSXMZe72R982jv9g3im8LcAw4/HWegqb1AtbIxo198AHTzoz/7FeSR44GOzTwEBTYlsz38nD9IW+qKk5Ca6gt/0x+0XEMgEHg7+ATD06OE+v1mqWB8a1TcA5nVscTkwgClsCn7nhx7drGV+6IuSmqmFpQHPdBxjM++2BBQooyWybj/dfJUFbvspWgPf4mjwm1+ji8d5v7e/IBlzuC+qXn/d3Eqby8FFa6TGZD7AeaEHQhOzaGYPr1ILPZTKy1jE57gmoq9y7+ZrbGAHfaEHkqIW/ptjwT8BatR4k0f5dZ8CcpaxhLsi6vM/2O5jie0+QmgEjjKbK5gceijARFqYxgFe9ikgNw0s5xOsZlrogZxwPO9v4DeARqDGPt5HcxTv4ifRwjTaeckSkIuM5XyMNZHl/dc7/UMZnPTtXMySSFpATaKF6ez3KSAHDbyD61hNc+iBnNDL3dzJTn/2D2WwAAywh1YuY2Lo4QDHS8AbvGIJqKuMFVzHGlpCD+QXahzln7iZl+gPPZR0HX/sP0g3CyP5MQAmMYtmdrEr9EAqJGMZ17M6oul/iEf5Mjss8yGdnPCvMIl5XBLJGvxEZjOLnewOPZCKyFjCJ7gmmof/Gh18jy+wLfRAUneyAPSznYnM58JI9uOdw2XMYyt7Qw+kAjJa+VRErT5rHOQJvsQLoQei4WbxRV4L2B/grUcvT5kUHLeMudwX0Xv/Adp5yMBvnGbxN+yJIBtw8thsv4Bxmsm9keX9H7LdR7wu5fO0R1cCfAoYK/P+GqVmPhtVTGSwBMSxMlE2jZEl/nq434f/+E3jxshKgP0CxsK8v8YkYwY3RPXgeIwnbCI+Khkz2RjVp383t9EayWtmnUUDM/l4VCXAfgGjkTGHe6O6f+b9o3S6xbUaXbzKbq6OJqTZxCxa2OMG4RHIWMBn+WhEef/BL/je7p7/2Jx+db1GFy/zc1bRFMmj9zlcygxjQmeVsZhPcw1TQw/khOPT38RfdM70eq3GUXbSyZVMiqQETKSF6YaFzyhjKTewhumhB3JCD2vZwHZ6Qw9Epzrb+/WjbKeXKzgvkhIwiWZLwBlkLOd61jAz9EBOGMz7++kfqbNvsOlkO7CA86MqAXYNejuxBX6hl3u4w15/8RrJDrvDbGMCc5kSTQloYQZ7XQ58i4zlUU3/Gkf5Jjez07x/vEa2xfYwLzKRyyIqAbNo5jVeDT2QiGQs5fqopv8hvsOX2G6ZjtlI99gfYhuTIioB9gsYLmMxN0Q1/TvYzE0GfmM38pDNIV5kInOiKQGD/QL+z34BDL73/3RES381DvIkN/F86IGovmZzE7si6hdwjC0mBcmYw93sD343jh8DtLPJwG812S8gPub9VSD7BcTFvL8KZr+AeJj3VwD2C4iDeX8FYb+A8Mz7KyD7BYRl3l91MdbFM/sFhGTeX3Uy9tVz+wWEYt5fdTOe12ex9gs4WOmwsHl/1dF435/H2C9gWoVLgHl/1dX4N9DE2C9gWkX7BZj3V53VYwed/QKKYd5fdVefLbSx9gvYVaESYN5fOajXHvoY+wXMZgevV+Sfp3l/5aJ+IZr4+gX8EvPYWol+Aeb9VQox9gtoLX1S0Ly/SsN+AfVn3l8lYr+A+jLvr5KJsV9AayQrE6Nl3l8lFGe/gPIlBc37q5Ri7RdQphJg3l8lFmO/gO+VqF+AeX8VIq/FsRj7BVxamn4B5v1VkPxWx+0XMFbm/VWYPF+P2S9gLMz7q0B5vx+3X8DomPdXofLfIGO/gJEz76+CFbFDzn4BI2PeX4UrZous/QLOzry/Aihqj7z9As7MvL+CKC4kY7+A0zPvryTYL+DtmPdXMuwXcCrz/kqI/QKGM++vxNgv4CTz/kqQ/QIGmfdXkuwXYN5fSUu9X4B5f0Uh1OJX2v0CzPsrEuFWv9PtF2DeX9EIuQkmzX4B5v0VkdC74FLrF2DeX1EJXQDS6hdg3l+RCV8A0ukXYN5f0YmhAKTRL8C8vyIURwGofr8A8/6KUiwFoNr9Asz7SyNQzX4B5v2lEapivwDz/tKIVa1fgHl/aVSq1C/AvL80alXpF2DeXxqDKvQLMO8vjVnZ+wWY91cpxLMPYLhy9wsw76+SiLUAlLlfgHl/lUa8BaCs/QLM+6tEYi4AUL5+Aeb9VSqxF4By9Qsw76+Sib8AlKdfgHl/lU4ZCkA5+gWY91cJlaMAxN8vwLy/SqksBSDufgHm/aUCxNkvoMm8v1SMGPsFLGeDeX+pGLP4aw5GVQL20hd8DCePw2xkYeibpLIozxrAcYd5gSO8N5qMAEyOKGHXyzf5MttCD0NlUb4CAJ08zx5WRVQCYtHDPdzM9tDDUHmUsQBAFy+zm1WcE3ogUelhHXewE9/7a8TKWQCgi1d4zRIwRA9rWc8Od/1pNMpaAOLrFxCWeX+NSVkLQIz9AsIx768xKm8BiLFfQBjm/TVmZS4AEF+/gOKZ99c4lL0AxNcvoFjm/TUu5S8A8fULKIp5f41bFQpAfP0CimDeX3VQjQIQX7+AvJn3V11UpQDE1y8gT+b9VSfVKQCDJeAcLq/8cmCNDp7ki/ws9EBUflUqAHCIF2hgMZMrXAJqHGIzNzn9VQ/VKgCDy4F9rKzw1qCjfMeHf9VL1QrAYAmIq19APfXyTb7k0p90JtO4kSPBe/PU/+hmLfNDX1xVSfWeAKCq/QLM+6vuqlkAqtgvwLy/clDVAlC1fgHm/ZWLqhaAavULMO+vnFS3AFSnX4B5f+WmygUAqtAvwLy/clT1AlD2fgHm/ZWr6heA8vYLMO+v3KVQAMrZL8C8vwqQRgEoX78A8/4qRCoFoFz9Asz7qyDpFIDy9Asw76/CpFQAytEvwLy/CpRWAShDvwDz/lKumvlstGHhHu6nNfQFkqot1n4B5v2lAmTM4AY6g0/4t07/22ilIfTFkaqvgZl8PKoS0M2ttNEU+sJIaWhgJjdE84NAN7ewpCK9C6RSaGAGN3KEgUimf3W6F6k0UnsNOFQs/QLM+yuYlAsAxNAvwLy/Akq9AITuF2DeX0FZAML1CzDvr+AsABCmX4B5f0XAAjCo6H4B5v0VBQvAcUX2CzDvr0hYAE4qql+AeX9FwwIwVBH9Asz7SxG7lM/TnuPuwE4epC30SUo6nTz7BZj3l6KXV78A8/5SCeTTL8C8v1QS9e8XYN5fKpH69gsw7y+VTAMz+CSH6/BGoJMvs9i8v1QuGdP4JK/RP67pv5+/ZIGf/lIZXcwf82OOjnn6/5Qbme2GK8XJf5hn08UL7Kaf6Uwe5Qr+4J6/O/gW+xkIfRrS27EAnF0f23iJfdSYMuLOQTUO8zTfYANb6Al9AtLpxPoFWfE5l3fxQd5JGy2ce8Zf2csbbOMZfsgPORJ62NKZWABGYxJX8H5WMo9pXMwUJg37v70c5iD72MWz/JinnfyKnwVg9C5kEUtZzGVMYyJNNNJPPz0cZBcvspWf8UboIUojYwEYu4xJTGcy59LNUQ5wxKU+SZIkSZIkSZIkSZIkSZIkSZIkSZIkSZIkSZIkSZIkSZIkSZIkSZIkSZIkSZIkSZIkSZIkSZIkSZIkSZIkSZIkSZIkSZIkSZIkSZIkSZIkSZIkSZIkSZIkSZIkSZIkSZIkSZIkSRX3/zPlCH7oX6f/AAAAJXRFWHRkYXRlOmNyZWF0ZQAyMDE5LTA1LTA5VDE1OjQwOjEzKzAyOjAwUFFtBAAAACV0RVh0ZGF0ZTptb2RpZnkAMjAxOS0wNS0wOVQxNTo0MDoxMyswMjowMCEM1bgAAAAZdEVYdFNvZnR3YXJlAHd3dy5pbmtzY2FwZS5vcmeb7jwaAAAAAElFTkSuQmCC",
        "encoding": "base64",
        "path": [
         "value"
        ]
       }
      ],
      "model_module": "@jupyter-widgets/controls",
      "model_module_version": "1.4.0",
      "model_name": "ImageModel",
      "state": {
       "height": "35",
       "layout": "IPY_MODEL_4b0a7c46974d4946b9432b28a31e6eab",
       "value": {},
       "width": "35"
      }
     },
     "bb7533d5e70548f0bda63821a7b290de": {
      "model_module": "@jupyter-widgets/base",
      "model_module_version": "1.1.0",
      "model_name": "LayoutModel",
      "state": {}
     },
     "bb7978133de24a6d805b209bcb559af2": {
      "model_module": "@jupyter-widgets/base",
      "model_module_version": "1.1.0",
      "model_name": "LayoutModel",
      "state": {
       "height": "40px",
       "width": "40px"
      }
     },
     "bb98fd0c82b3444d8d95a41892236f9a": {
      "model_module": "@jupyter-widgets/controls",
      "model_module_version": "1.4.0",
      "model_name": "ButtonStyleModel",
      "state": {}
     },
     "bbae5c783f624507b06e4475d9dfc4f3": {
      "model_module": "@jupyter-widgets/output",
      "model_module_version": "1.0.0",
      "model_name": "OutputModel",
      "state": {
       "layout": "IPY_MODEL_d9c5d83488114d99aa4a42eb90f8e425"
      }
     },
     "bbb5729603854e50afc6954ec10494b9": {
      "model_module": "@jupyter-widgets/controls",
      "model_module_version": "1.4.0",
      "model_name": "CheckboxModel",
      "state": {
       "description": "Live plot in Jupyter: ",
       "disabled": false,
       "layout": "IPY_MODEL_c5433b87b67e4802a69da7f9a8bf4107",
       "style": "IPY_MODEL_4c7214ddfd6b4132bd3abc5ff4f87139",
       "value": false
      }
     },
     "bbecbf6fe343444caf4a1ebe11e173a6": {
      "model_module": "@jupyter-widgets/base",
      "model_module_version": "1.1.0",
      "model_name": "LayoutModel",
      "state": {}
     },
     "bc4e9776c6f542338aa7691b14e631fb": {
      "model_module": "@jupyter-widgets/base",
      "model_module_version": "1.1.0",
      "model_name": "LayoutModel",
      "state": {
       "width": "300px"
      }
     },
     "bca5d9cd18ce47cfac96e4bb1aee51c2": {
      "model_module": "@jupyter-widgets/base",
      "model_module_version": "1.1.0",
      "model_name": "LayoutModel",
      "state": {}
     },
     "bcb9705a6331462886606c456dd59b04": {
      "model_module": "@jupyter-widgets/controls",
      "model_module_version": "1.4.0",
      "model_name": "ButtonStyleModel",
      "state": {}
     },
     "bd18327f225e4efbb2564265f182a6b1": {
      "model_module": "@jupyter-widgets/base",
      "model_module_version": "1.1.0",
      "model_name": "LayoutModel",
      "state": {}
     },
     "bd663a963a20479483f703737944ac5a": {
      "model_module": "@jupyter-widgets/controls",
      "model_module_version": "1.4.0",
      "model_name": "VBoxModel",
      "state": {
       "children": [
        "IPY_MODEL_470f7c2c4cd24b2689cb1587b0a3a50c"
       ],
       "layout": "IPY_MODEL_16f6a23472f34bb3a599169efd7e1b03"
      }
     },
     "bd7a2e9442fa46c28ef1d257616f7ef0": {
      "model_module": "@jupyter-widgets/controls",
      "model_module_version": "1.4.0",
      "model_name": "ButtonStyleModel",
      "state": {}
     },
     "bd82225a8ab74ab2a3433779b80ba580": {
      "model_module": "@jupyter-widgets/controls",
      "model_module_version": "1.4.0",
      "model_name": "BoxModel",
      "state": {
       "children": [
        "IPY_MODEL_9950ffeb8a4c4a3882268ed3bf2fcdbe"
       ],
       "layout": "IPY_MODEL_45a465cc1b2f43e483e3848740515b47"
      }
     },
     "bd8aaa0a5a6945b28d9810b82f7f2642": {
      "model_module": "@jupyter-widgets/controls",
      "model_module_version": "1.4.0",
      "model_name": "DescriptionStyleModel",
      "state": {
       "description_width": ""
      }
     },
     "bdc3083367674b78a68e4fe0c39926ff": {
      "model_module": "@jupyter-widgets/controls",
      "model_module_version": "1.4.0",
      "model_name": "HBoxModel",
      "state": {
       "children": [
        "IPY_MODEL_b770005fb3694617a051bfc7838ebb8a",
        "IPY_MODEL_1bbdbb3e47a948809521ffd6a09bef8e"
       ],
       "layout": "IPY_MODEL_9ecd51c3bd9a43e0b970b0b4b15cd516"
      }
     },
     "bde62a7a4ad4422ab4ed0681f09966ef": {
      "model_module": "@jupyter-widgets/base",
      "model_module_version": "1.1.0",
      "model_name": "LayoutModel",
      "state": {}
     },
     "be222674f0774fd39e0c2708a6e4ec33": {
      "model_module": "@jupyter-widgets/base",
      "model_module_version": "1.1.0",
      "model_name": "LayoutModel",
      "state": {
       "width": "300px"
      }
     },
     "be5dcc637d9049deb42cd45da2e9a1d8": {
      "model_module": "@jupyter-widgets/controls",
      "model_module_version": "1.4.0",
      "model_name": "VBoxModel",
      "state": {
       "children": [
        "IPY_MODEL_8a914e86199d472589b05aceb2331d82",
        "IPY_MODEL_f443011b1768499a8f223dea19841ca1"
       ],
       "layout": "IPY_MODEL_16154b18a41544fb8c866b567ed58059"
      }
     },
     "be826aedbc924fcfa094310b650f7435": {
      "model_module": "@jupyter-widgets/controls",
      "model_module_version": "1.4.0",
      "model_name": "CheckboxModel",
      "state": {
       "description": "Live plot in Jupyter: ",
       "disabled": true,
       "layout": "IPY_MODEL_c37c7c2a7582449a82d2277646ce1ba4",
       "style": "IPY_MODEL_0d4f5a0e3e094a1ba24f07c3e4049643",
       "value": false
      }
     },
     "bea2e6fd09cc4f4d9f8909cf1622b43d": {
      "model_module": "@jupyter-widgets/base",
      "model_module_version": "1.1.0",
      "model_name": "LayoutModel",
      "state": {}
     },
     "bec1356f3f1b424d942de79db97ab799": {
      "model_module": "@jupyter-widgets/controls",
      "model_module_version": "1.4.0",
      "model_name": "DescriptionStyleModel",
      "state": {
       "description_width": "initial"
      }
     },
     "bed43d4ddaeb470d87e063671eb080fd": {
      "model_module": "@jupyter-widgets/base",
      "model_module_version": "1.1.0",
      "model_name": "LayoutModel",
      "state": {}
     },
     "bf168ee52ff84aa4ba20e796b2e6333a": {
      "model_module": "plotlywidget",
      "model_module_version": "0.8.0",
      "model_name": "FigureModel",
      "state": {
       "_config": {
        "plotlyServerURL": "https://plot.ly"
       },
       "_js2py_layoutDelta": {},
       "_js2py_pointsCallback": {},
       "_js2py_relayout": {},
       "_js2py_restyle": {},
       "_js2py_traceDeltas": {},
       "_js2py_update": {},
       "_layout": {
        "template": {}
       },
       "_model_module_version": "0.8.0",
       "_py2js_addTraces": {},
       "_py2js_animate": {},
       "_py2js_deleteTraces": {},
       "_py2js_moveTraces": {},
       "_py2js_removeLayoutProps": {},
       "_py2js_removeTraceProps": {},
       "_py2js_restyle": {},
       "_py2js_update": {},
       "_view_count": 0,
       "_view_module_version": "0.8.0"
      }
     },
     "bf1e8b1d46dd4b90bca7a63688849ec9": {
      "model_module": "@jupyter-widgets/base",
      "model_module_version": "1.1.0",
      "model_name": "LayoutModel",
      "state": {}
     },
     "bf274a3ccb544a7b9aee65153c821db8": {
      "model_module": "@jupyter-widgets/base",
      "model_module_version": "1.1.0",
      "model_name": "LayoutModel",
      "state": {
       "width": "300px"
      }
     },
     "bf53dba1d78f43c7a0a1d7f694fe3bcd": {
      "model_module": "@jupyter-widgets/base",
      "model_module_version": "1.1.0",
      "model_name": "LayoutModel",
      "state": {}
     },
     "bf67f9fd39784d4bad15044ecbb41119": {
      "model_module": "@jupyter-widgets/output",
      "model_module_version": "1.0.0",
      "model_name": "OutputModel",
      "state": {
       "layout": "IPY_MODEL_df62d757470a425599452dda450e8ef9"
      }
     },
     "bf6cdee50036456f801186954f819820": {
      "model_module": "@jupyter-widgets/base",
      "model_module_version": "1.1.0",
      "model_name": "LayoutModel",
      "state": {}
     },
     "bf7b2bcf55064c54b76207f2488516af": {
      "model_module": "@jupyter-widgets/base",
      "model_module_version": "1.1.0",
      "model_name": "LayoutModel",
      "state": {
       "width": "300px"
      }
     },
     "bf7f0da692e14d509cd74d3c0a851d49": {
      "model_module": "@jupyter-widgets/controls",
      "model_module_version": "1.4.0",
      "model_name": "VBoxModel",
      "state": {
       "children": [
        "IPY_MODEL_71bcc5ce280249608809795b8a261fed"
       ],
       "layout": "IPY_MODEL_b1915a5a8158441a99d74152d1a565d3"
      }
     },
     "bf8d9f62538d416ba30f9f296cde0d15": {
      "model_module": "@jupyter-widgets/base",
      "model_module_version": "1.1.0",
      "model_name": "LayoutModel",
      "state": {}
     },
     "bf9e8d9be6a841fb86bb37444134ef11": {
      "model_module": "@jupyter-widgets/base",
      "model_module_version": "1.1.0",
      "model_name": "LayoutModel",
      "state": {}
     },
     "bfabe0af9da049e4b7a21f3ab4b697b4": {
      "model_module": "@jupyter-widgets/base",
      "model_module_version": "1.1.0",
      "model_name": "LayoutModel",
      "state": {}
     },
     "bfe06da3cc524e408c486532c5e71ecd": {
      "model_module": "@jupyter-widgets/base",
      "model_module_version": "1.1.0",
      "model_name": "LayoutModel",
      "state": {}
     },
     "c0227157398e4047a3d602901b7bcaac": {
      "model_module": "@jupyter-widgets/controls",
      "model_module_version": "1.4.0",
      "model_name": "CheckboxModel",
      "state": {
       "description": "Print log in Notebook's cells",
       "disabled": false,
       "layout": "IPY_MODEL_9675158527974329a45eaa986a2d4c44",
       "style": "IPY_MODEL_b793217afd144fa7b7bc0205dc48cc34",
       "value": false
      }
     },
     "c0253d7fa43749f08610bf0d075439b9": {
      "model_module": "@jupyter-widgets/base",
      "model_module_version": "1.1.0",
      "model_name": "LayoutModel",
      "state": {
       "width": "300px"
      }
     },
     "c02780f14c7d41d29f641cfc5bf851a3": {
      "model_module": "@jupyter-widgets/controls",
      "model_module_version": "1.4.0",
      "model_name": "DescriptionStyleModel",
      "state": {
       "description_width": ""
      }
     },
     "c065c11c3ed041fbb78cb8050c237879": {
      "model_module": "@jupyter-widgets/output",
      "model_module_version": "1.0.0",
      "model_name": "OutputModel",
      "state": {
       "layout": "IPY_MODEL_7be62995cc094ead91940f7544e7bf63",
       "outputs": [
        {
         "data": {
          "application/javascript": "IPython.notebook.save_checkpoint();",
          "text/plain": "<IPython.core.display.Javascript object>"
         },
         "metadata": {},
         "output_type": "display_data"
        },
        {
         "data": {
          "application/javascript": "IPython.notebook.save_checkpoint();",
          "text/plain": "<IPython.core.display.Javascript object>"
         },
         "metadata": {},
         "output_type": "display_data"
        }
       ]
      }
     },
     "c070e83565c842bdadb4888ba14fce9a": {
      "model_module": "@jupyter-widgets/base",
      "model_module_version": "1.1.0",
      "model_name": "LayoutModel",
      "state": {}
     },
     "c0eb7143e3eb4b9ebb0db566eba4c099": {
      "model_module": "@jupyter-widgets/base",
      "model_module_version": "1.1.0",
      "model_name": "LayoutModel",
      "state": {}
     },
     "c118fefecd41422098f7ef0a892036ea": {
      "buffers": [
       {
        "data": "AAAAAAAAEEAAAAAAAAAIQAAAAAAAAAAAAAAAAAAAEEAAAAAAAAAQQA==",
        "encoding": "base64",
        "path": [
         "_data",
         0,
         "y",
         "value"
        ]
       },
       {
        "data": "AAAAAAAAEEAAAAAAAAAIQAAAAAAAAAAAAAAAAAAAEEAAAAAAAAAQQA==",
        "encoding": "base64",
        "path": [
         "_data",
         1,
         "y",
         "value"
        ]
       }
      ],
      "model_module": "plotlywidget",
      "model_module_version": "0.8.0",
      "model_name": "FigureModel",
      "state": {
       "_config": {
        "plotlyServerURL": "https://plot.ly"
       },
       "_data": [
        {
         "mode": "lines+markers",
         "name": "line1",
         "type": "scatter",
         "uid": "db6d2df1-01b1-4713-b6dc-5e33fdd11b19",
         "x": [
          0,
          1,
          2,
          3,
          4
         ],
         "xaxis": "x",
         "y": {
          "dtype": "float64",
          "shape": [
           5
          ],
          "value": {}
         },
         "yaxis": "y"
        },
        {
         "mode": "lines+markers",
         "name": "line2",
         "type": "scatter",
         "uid": "8b57a568-5943-432b-b03e-e1882fd1c2b9",
         "x": [
          0,
          1,
          2,
          3,
          4
         ],
         "xaxis": "x2",
         "y": {
          "dtype": "float64",
          "shape": [
           5
          ],
          "value": {}
         },
         "yaxis": "y2"
        }
       ],
       "_js2py_restyle": {},
       "_js2py_update": {},
       "_last_layout_edit_id": 8,
       "_last_trace_edit_id": 7,
       "_layout": {
        "autosize": true,
        "plot_bgcolor": "rgb(230, 230, 230)",
        "template": {},
        "title": {
         "text": "Scan"
        },
        "xaxis": {
         "anchor": "y",
         "domain": [
          0,
          1
         ]
        },
        "xaxis2": {
         "anchor": "y2",
         "domain": [
          0,
          1
         ]
        },
        "yaxis": {
         "anchor": "x",
         "domain": [
          0.575,
          1
         ]
        },
        "yaxis2": {
         "anchor": "x2",
         "domain": [
          0,
          0.425
         ]
        }
       },
       "_model_module_version": "0.8.0",
       "_py2js_animate": {},
       "_py2js_deleteTraces": {},
       "_py2js_moveTraces": {},
       "_py2js_removeLayoutProps": {},
       "_py2js_removeTraceProps": {},
       "_view_count": 0,
       "_view_module_version": "0.8.0"
      }
     },
     "c11ebf150dd742cdba61f742e55b5fd6": {
      "model_module": "@jupyter-widgets/controls",
      "model_module_version": "1.4.0",
      "model_name": "ButtonModel",
      "state": {
       "button_style": "success",
       "description": "Start Manual Alignment",
       "layout": "IPY_MODEL_27926193817d454994578b4959ffdf52",
       "style": "IPY_MODEL_bd7a2e9442fa46c28ef1d257616f7ef0",
       "tooltip": "Click me"
      }
     },
     "c140dd04291a46d79d501d7604b2ce94": {
      "model_module": "@jupyter-widgets/base",
      "model_module_version": "1.1.0",
      "model_name": "LayoutModel",
      "state": {}
     },
     "c1593aabddac4fbc9094ac63157a3fee": {
      "model_module": "@jupyter-widgets/base",
      "model_module_version": "1.1.0",
      "model_name": "LayoutModel",
      "state": {
       "width": "300px"
      }
     },
     "c1af882b72ca4e259cff4014e42d0836": {
      "model_module": "@jupyter-widgets/output",
      "model_module_version": "1.0.0",
      "model_name": "OutputModel",
      "state": {
       "layout": "IPY_MODEL_790304abd5f74babb7b97f06f07aa433"
      }
     },
     "c1c7040383194b71805633c656358fb1": {
      "model_module": "@jupyter-widgets/base",
      "model_module_version": "1.1.0",
      "model_name": "LayoutModel",
      "state": {
       "width": "300px"
      }
     },
     "c1ea5e39ff8d4454bca892ed13f21817": {
      "model_module": "@jupyter-widgets/base",
      "model_module_version": "1.1.0",
      "model_name": "LayoutModel",
      "state": {}
     },
     "c21db906c2da4410ad151f1baea2d27e": {
      "model_module": "@jupyter-widgets/output",
      "model_module_version": "1.0.0",
      "model_name": "OutputModel",
      "state": {
       "layout": "IPY_MODEL_c74534ef87f44d95b978df0bedb3543b"
      }
     },
     "c2369e89ba8b4f16abf2a3003a6e57ed": {
      "model_module": "@jupyter-widgets/output",
      "model_module_version": "1.0.0",
      "model_name": "OutputModel",
      "state": {
       "layout": "IPY_MODEL_6797922286b24ea58d99d0eda94ea45f"
      }
     },
     "c23d4dc1d866492a99af2700d5eb6a37": {
      "model_module": "@jupyter-widgets/base",
      "model_module_version": "1.1.0",
      "model_name": "LayoutModel",
      "state": {}
     },
     "c2695aff66c6498d94986e8794a07f28": {
      "model_module": "@jupyter-widgets/base",
      "model_module_version": "1.1.0",
      "model_name": "LayoutModel",
      "state": {}
     },
     "c26b8c95a21b43c6b67d075ec3a19166": {
      "model_module": "@jupyter-widgets/controls",
      "model_module_version": "1.4.0",
      "model_name": "CheckboxModel",
      "state": {
       "description": "Live plot in Jupyter: ",
       "disabled": false,
       "layout": "IPY_MODEL_0d3fa6d44e91490780cab95188945230",
       "style": "IPY_MODEL_b7f830239eec47919a244da5912c312a",
       "value": false
      }
     },
     "c27d7e5178064e6bbfb28f11e752f61f": {
      "model_module": "@jupyter-widgets/controls",
      "model_module_version": "1.4.0",
      "model_name": "DescriptionStyleModel",
      "state": {
       "description_width": "initial"
      }
     },
     "c2b312335b57458b8db7fd34db654604": {
      "model_module": "@jupyter-widgets/controls",
      "model_module_version": "1.4.0",
      "model_name": "ButtonModel",
      "state": {
       "button_style": "success",
       "description": "Start Manual Alignment",
       "layout": "IPY_MODEL_09fda96f6ae047f184b21ecdf25903a9",
       "style": "IPY_MODEL_2e1e708fe1d64c34a4c5fa9d566467b7",
       "tooltip": "Click me"
      }
     },
     "c2e4fbf3cbad4d7fb1788965b5736c3b": {
      "model_module": "@jupyter-widgets/controls",
      "model_module_version": "1.4.0",
      "model_name": "ButtonStyleModel",
      "state": {}
     },
     "c2e6e0f947fa4ad686c12495e3666139": {
      "model_module": "@jupyter-widgets/controls",
      "model_module_version": "1.4.0",
      "model_name": "ButtonModel",
      "state": {
       "button_style": "success",
       "description": "Start Manual Alignment",
       "layout": "IPY_MODEL_a44979f02b8d4285b24b5e5f13192dca",
       "style": "IPY_MODEL_cac3c9dcebd24d9fbd7fa478f711595a",
       "tooltip": "Click me"
      }
     },
     "c3109e06badf4e64ab18c896b21cf871": {
      "model_module": "@jupyter-widgets/base",
      "model_module_version": "1.1.0",
      "model_name": "LayoutModel",
      "state": {}
     },
     "c3154b20530b48b6a6cc8e57c88ecbd7": {
      "model_module": "@jupyter-widgets/controls",
      "model_module_version": "1.4.0",
      "model_name": "CheckboxModel",
      "state": {
       "description": "Plot with PyQtGraph after scan ends: ",
       "disabled": false,
       "layout": "IPY_MODEL_7c21224fb1b4443cbf0ecba99a3eed73",
       "style": "IPY_MODEL_67c3c95c70864d63b8365b6cfd53dd76",
       "value": true
      }
     },
     "c319cc230ff04795a6cebe6f1968446a": {
      "model_module": "@jupyter-widgets/base",
      "model_module_version": "1.1.0",
      "model_name": "LayoutModel",
      "state": {}
     },
     "c37c7c2a7582449a82d2277646ce1ba4": {
      "model_module": "@jupyter-widgets/base",
      "model_module_version": "1.1.0",
      "model_name": "LayoutModel",
      "state": {}
     },
     "c3d6d72bd1cd4679be40fdc46d2a37a5": {
      "model_module": "@jupyter-widgets/output",
      "model_module_version": "1.0.0",
      "model_name": "OutputModel",
      "state": {
       "layout": "IPY_MODEL_9093df3619784a3cabb8cfa3bde779d0"
      }
     },
     "c3fe818b26a44af986d3c087a8e6673c": {
      "model_module": "@jupyter-widgets/base",
      "model_module_version": "1.1.0",
      "model_name": "LayoutModel",
      "state": {}
     },
     "c42c7690404d45e395bd1a96f10f8a85": {
      "model_module": "@jupyter-widgets/base",
      "model_module_version": "1.1.0",
      "model_name": "LayoutModel",
      "state": {
       "width": "300px"
      }
     },
     "c43dfb4fd39940738b2c6045efcd510c": {
      "model_module": "@jupyter-widgets/base",
      "model_module_version": "1.1.0",
      "model_name": "LayoutModel",
      "state": {}
     },
     "c442a5f834464e4498fe82653a6d5802": {
      "model_module": "@jupyter-widgets/controls",
      "model_module_version": "1.4.0",
      "model_name": "DescriptionStyleModel",
      "state": {
       "description_width": "initial"
      }
     },
     "c488058b54fd4f518154da01418b7f61": {
      "model_module": "@jupyter-widgets/base",
      "model_module_version": "1.1.0",
      "model_name": "LayoutModel",
      "state": {
       "height": "40px",
       "width": "40px"
      }
     },
     "c48fd27b3ec043dda8e692a5aad7397b": {
      "model_module": "@jupyter-widgets/controls",
      "model_module_version": "1.4.0",
      "model_name": "BoxModel",
      "state": {
       "children": [
        "IPY_MODEL_a0125e72bc534a0b88d25b315430c901"
       ],
       "layout": "IPY_MODEL_b86ecfc59c2b4ef6bf2eae3a76433498"
      }
     },
     "c490488b114c4246ab5854e640a98cc2": {
      "model_module": "@jupyter-widgets/base",
      "model_module_version": "1.1.0",
      "model_name": "LayoutModel",
      "state": {}
     },
     "c4c6118091df4ec19442e7754b9467af": {
      "model_module": "@jupyter-widgets/output",
      "model_module_version": "1.0.0",
      "model_name": "OutputModel",
      "state": {
       "layout": "IPY_MODEL_b7d1d6c2888f41a2a8dedb53fb448e5b"
      }
     },
     "c5268293addd40718ee9029b9098a364": {
      "model_module": "@jupyter-widgets/base",
      "model_module_version": "1.1.0",
      "model_name": "LayoutModel",
      "state": {}
     },
     "c52b3a9c372f44eaa3413e1a25c9b209": {
      "model_module": "@jupyter-widgets/base",
      "model_module_version": "1.1.0",
      "model_name": "LayoutModel",
      "state": {}
     },
     "c5433b87b67e4802a69da7f9a8bf4107": {
      "model_module": "@jupyter-widgets/base",
      "model_module_version": "1.1.0",
      "model_name": "LayoutModel",
      "state": {}
     },
     "c56d2906f41d4e5c9c81200fa4e92b2e": {
      "model_module": "@jupyter-widgets/controls",
      "model_module_version": "1.4.0",
      "model_name": "HBoxModel",
      "state": {
       "children": [
        "IPY_MODEL_d7d00d1e6eb9482880e862be5fe6072f",
        "IPY_MODEL_2109ba2c6ab24e9ba3607ca809969435"
       ],
       "layout": "IPY_MODEL_72f6492ddd4a4443ae84f66fea219e70"
      }
     },
     "c57041622f8e44ae917e318f12600b52": {
      "model_module": "@jupyter-widgets/output",
      "model_module_version": "1.0.0",
      "model_name": "OutputModel",
      "state": {
       "layout": "IPY_MODEL_fd6d4b61bec04a0089b99e9a0be44457"
      }
     },
     "c596490c3a114c62b241aa559cbe867b": {
      "model_module": "@jupyter-widgets/output",
      "model_module_version": "1.0.0",
      "model_name": "OutputModel",
      "state": {
       "layout": "IPY_MODEL_2fc0fd86096a461fb5ad950f845b9e3b"
      }
     },
     "c5d116d0dc23422b978e0d84af473cb4": {
      "model_module": "@jupyter-widgets/base",
      "model_module_version": "1.1.0",
      "model_name": "LayoutModel",
      "state": {}
     },
     "c67a75c7bf5840258bec34cae882f4ee": {
      "model_module": "@jupyter-widgets/base",
      "model_module_version": "1.1.0",
      "model_name": "LayoutModel",
      "state": {
       "width": "300px"
      }
     },
     "c6ade68387024fe4b9bb475b2b5f33ec": {
      "model_module": "@jupyter-widgets/base",
      "model_module_version": "1.1.0",
      "model_name": "LayoutModel",
      "state": {}
     },
     "c6b8f83670114dd8b16db788f7f7ed1e": {
      "model_module": "@jupyter-widgets/controls",
      "model_module_version": "1.4.0",
      "model_name": "ButtonModel",
      "state": {
       "button_style": "success",
       "description": "Start PV Monitoring",
       "layout": "IPY_MODEL_9b0afa1440d1474495ab73de26e49e6a",
       "style": "IPY_MODEL_a6d2c4b76f1241e7afa6c1d3db95a5e9",
       "tooltip": "Click me"
      }
     },
     "c6cc39d39cd64afeb64698892d733dbe": {
      "model_module": "@jupyter-widgets/base",
      "model_module_version": "1.1.0",
      "model_name": "LayoutModel",
      "state": {
       "width": "300px"
      }
     },
     "c7013f906de549cda0c80122cd657d67": {
      "model_module": "@jupyter-widgets/controls",
      "model_module_version": "1.4.0",
      "model_name": "CheckboxModel",
      "state": {
       "description": "Plot with Plotly after scan ends: ",
       "disabled": false,
       "layout": "IPY_MODEL_54c275e6094e42a5a29808656d292886",
       "style": "IPY_MODEL_8fa2263b092f49468b5316f156ba0a85",
       "value": false
      }
     },
     "c70c85b55d0547518d802d21f2b040b7": {
      "model_module": "@jupyter-widgets/base",
      "model_module_version": "1.1.0",
      "model_name": "LayoutModel",
      "state": {}
     },
     "c70d532c995d4a639f7ac413a1653444": {
      "model_module": "@jupyter-widgets/controls",
      "model_module_version": "1.4.0",
      "model_name": "LabelModel",
      "state": {
       "layout": "IPY_MODEL_9a29dd1ec30a4ae68ec3714ef85822bc",
       "style": "IPY_MODEL_8a72e108b6db4e77af486ae279964a74",
       "value": "No motors initilized to be showed."
      }
     },
     "c74534ef87f44d95b978df0bedb3543b": {
      "model_module": "@jupyter-widgets/base",
      "model_module_version": "1.1.0",
      "model_name": "LayoutModel",
      "state": {}
     },
     "c7543d7d6b0c48cd80cda16d48bda3ec": {
      "model_module": "@jupyter-widgets/base",
      "model_module_version": "1.1.0",
      "model_name": "LayoutModel",
      "state": {}
     },
     "c75755021e514b1f8146f2c97fb07347": {
      "model_module": "@jupyter-widgets/base",
      "model_module_version": "1.1.0",
      "model_name": "LayoutModel",
      "state": {}
     },
     "c76f9c6f87004b589dcdf9da6ae2579a": {
      "model_module": "@jupyter-widgets/controls",
      "model_module_version": "1.4.0",
      "model_name": "DescriptionStyleModel",
      "state": {
       "description_width": "initial"
      }
     },
     "c7eb61da824f443f9eb2905dd447b7a4": {
      "model_module": "@jupyter-widgets/base",
      "model_module_version": "1.1.0",
      "model_name": "LayoutModel",
      "state": {}
     },
     "c7fce56e28314610a359048189ec6377": {
      "model_module": "@jupyter-widgets/base",
      "model_module_version": "1.1.0",
      "model_name": "LayoutModel",
      "state": {}
     },
     "c84868c7afdf46fc820a7fdfaef08345": {
      "model_module": "@jupyter-widgets/base",
      "model_module_version": "1.1.0",
      "model_name": "LayoutModel",
      "state": {
       "width": "300px"
      }
     },
     "c85cef131821429b9621f125c6f6c6d0": {
      "model_module": "@jupyter-widgets/output",
      "model_module_version": "1.0.0",
      "model_name": "OutputModel",
      "state": {
       "layout": "IPY_MODEL_3b2f6000d97f418ba717f2cc3c410877"
      }
     },
     "c8b9decf5da54da49d85bdba058f1cac": {
      "model_module": "@jupyter-widgets/controls",
      "model_module_version": "1.4.0",
      "model_name": "ButtonModel",
      "state": {
       "button_style": "success",
       "description": "Start PV Monitoring",
       "layout": "IPY_MODEL_2ead55a5dd2143d88bf2c3fd7fc536cc",
       "style": "IPY_MODEL_e8e4d637edd845b2a904bed606c147ff",
       "tooltip": "Click me"
      }
     },
     "c8c4678beff2457583f6edbc92b2742e": {
      "model_module": "@jupyter-widgets/output",
      "model_module_version": "1.0.0",
      "model_name": "OutputModel",
      "state": {
       "layout": "IPY_MODEL_b6afb508e95247b7a8695bbd14aa0fa0"
      }
     },
     "c8c4842e51aa4f73a21f1f5226c17424": {
      "model_module": "@jupyter-widgets/base",
      "model_module_version": "1.1.0",
      "model_name": "LayoutModel",
      "state": {}
     },
     "c8c7e1ea7e0e4f76866166c65d57ad8d": {
      "model_module": "@jupyter-widgets/base",
      "model_module_version": "1.1.0",
      "model_name": "LayoutModel",
      "state": {}
     },
     "c8e64eee119f42a7ae0c3f756a59b887": {
      "model_module": "@jupyter-widgets/controls",
      "model_module_version": "1.4.0",
      "model_name": "CheckboxModel",
      "state": {
       "description": "Print log in Notebook's cells",
       "disabled": false,
       "layout": "IPY_MODEL_5b99b9281bea496296b35ed4f42f06fe",
       "style": "IPY_MODEL_990969dc5036482b86e46ee4146c870b",
       "value": false
      }
     },
     "c8fbdac0af0e40509286a90d7dfc696d": {
      "model_module": "@jupyter-widgets/controls",
      "model_module_version": "1.4.0",
      "model_name": "CheckboxModel",
      "state": {
       "description": "Print log in Notebook's cells",
       "disabled": false,
       "layout": "IPY_MODEL_5e8c12ab2a04469ab65673a974809b8e",
       "style": "IPY_MODEL_e5a573729b0a41deaf85c4bd341e3c38",
       "value": false
      }
     },
     "c99a5c18a6ee436aba02eac0e8bc4370": {
      "model_module": "@jupyter-widgets/controls",
      "model_module_version": "1.4.0",
      "model_name": "ButtonStyleModel",
      "state": {}
     },
     "c9adc011bb714d62a0a5d3b362f33a66": {
      "model_module": "@jupyter-widgets/controls",
      "model_module_version": "1.4.0",
      "model_name": "ButtonStyleModel",
      "state": {}
     },
     "c9b519d34a33456ab00205d4d864d376": {
      "model_module": "@jupyter-widgets/base",
      "model_module_version": "1.1.0",
      "model_name": "LayoutModel",
      "state": {}
     },
     "c9b6d6254ed9443789f926db30d6d821": {
      "model_module": "@jupyter-widgets/output",
      "model_module_version": "1.0.0",
      "model_name": "OutputModel",
      "state": {
       "layout": "IPY_MODEL_32d03516e96f46c78c4a21b6d885839c"
      }
     },
     "c9c675cab3774887a734b2f439e58761": {
      "model_module": "@jupyter-widgets/controls",
      "model_module_version": "1.4.0",
      "model_name": "DescriptionStyleModel",
      "state": {
       "description_width": "initial"
      }
     },
     "ca0f0da1bfe745e8945f6526ffbf3edb": {
      "model_module": "@jupyter-widgets/controls",
      "model_module_version": "1.4.0",
      "model_name": "ButtonStyleModel",
      "state": {}
     },
     "ca4780aaf9ad40d7b609b00c167ada49": {
      "model_module": "@jupyter-widgets/controls",
      "model_module_version": "1.4.0",
      "model_name": "VBoxModel",
      "state": {
       "children": [
        "IPY_MODEL_26b37ea7c05e45b49e29af134cc9ddf6"
       ],
       "layout": "IPY_MODEL_38d76aa1155e47fab78c66321c724a8d"
      }
     },
     "ca92e9cd1cfa40239a2f53c3917d9889": {
      "model_module": "@jupyter-widgets/base",
      "model_module_version": "1.1.0",
      "model_name": "LayoutModel",
      "state": {}
     },
     "caa1003fde7b48d6a60c404aab0e4b4e": {
      "model_module": "@jupyter-widgets/controls",
      "model_module_version": "1.4.0",
      "model_name": "CheckboxModel",
      "state": {
       "description": "Plot with PyQtGraph after scan ends: ",
       "disabled": false,
       "layout": "IPY_MODEL_6ccaf71d8eb2418598ac69bb957d2785",
       "style": "IPY_MODEL_539aecadbf5c4175957b3ded38d1ec61",
       "value": true
      }
     },
     "cab1ba8777644c2f8a574538f18a7b30": {
      "model_module": "@jupyter-widgets/base",
      "model_module_version": "1.1.0",
      "model_name": "LayoutModel",
      "state": {}
     },
     "cac3c9dcebd24d9fbd7fa478f711595a": {
      "model_module": "@jupyter-widgets/controls",
      "model_module_version": "1.4.0",
      "model_name": "ButtonStyleModel",
      "state": {}
     },
     "cae052da3b7d47a6bf31a4a58e7b577f": {
      "model_module": "@jupyter-widgets/controls",
      "model_module_version": "1.4.0",
      "model_name": "CheckboxModel",
      "state": {
       "description": "Plot with PyQtGraph after scan ends: ",
       "disabled": false,
       "layout": "IPY_MODEL_859ba860612c4992846bb74620e30b83",
       "style": "IPY_MODEL_7b713b560380496787fb3c1052a40992",
       "value": true
      }
     },
     "cafbca0eeee545f699a9253a704ce04d": {
      "model_module": "@jupyter-widgets/controls",
      "model_module_version": "1.4.0",
      "model_name": "BoxModel",
      "state": {
       "layout": "IPY_MODEL_d0ef2c5892f445c58e138807aea7a7e4"
      }
     },
     "cb10e174f9064e18997b6167a66b842d": {
      "model_module": "@jupyter-widgets/base",
      "model_module_version": "1.1.0",
      "model_name": "LayoutModel",
      "state": {}
     },
     "cb26fde534d64e17a1c55d7be5465995": {
      "model_module": "@jupyter-widgets/controls",
      "model_module_version": "1.4.0",
      "model_name": "DescriptionStyleModel",
      "state": {
       "description_width": "initial"
      }
     },
     "cb5d975442634a18a5431dee90220a51": {
      "model_module": "@jupyter-widgets/controls",
      "model_module_version": "1.4.0",
      "model_name": "DescriptionStyleModel",
      "state": {
       "description_width": "initial"
      }
     },
     "cb85033ac91849ad850f126c8d556e03": {
      "model_module": "@jupyter-widgets/base",
      "model_module_version": "1.1.0",
      "model_name": "LayoutModel",
      "state": {}
     },
     "cba60e3c8f4e47f8b053faa4d8116ce8": {
      "model_module": "@jupyter-widgets/base",
      "model_module_version": "1.1.0",
      "model_name": "LayoutModel",
      "state": {}
     },
     "cc13993ffcda48669285487fb799328f": {
      "model_module": "@jupyter-widgets/output",
      "model_module_version": "1.0.0",
      "model_name": "OutputModel",
      "state": {
       "layout": "IPY_MODEL_db08ba8455e040b3a91c48757b69ec50"
      }
     },
     "cc3c17174f16408195259cff529cea61": {
      "model_module": "@jupyter-widgets/controls",
      "model_module_version": "1.4.0",
      "model_name": "ButtonModel",
      "state": {
       "button_style": "success",
       "description": "Start Motor Initializaton",
       "layout": "IPY_MODEL_c1c7040383194b71805633c656358fb1",
       "style": "IPY_MODEL_50173518d9b94170b46188ebbd504974",
       "tooltip": "Click me"
      }
     },
     "cc6787ce913846e78e3e27c1872696a1": {
      "model_module": "@jupyter-widgets/controls",
      "model_module_version": "1.4.0",
      "model_name": "ButtonModel",
      "state": {
       "button_style": "success",
       "description": "Start PV Monitoring",
       "layout": "IPY_MODEL_da7ed1dbb54e40b9aa716491a0108ede",
       "style": "IPY_MODEL_dc5c739f007c420d87ab5cbc18a49198",
       "tooltip": "Click me"
      }
     },
     "cc96d80e4fab4384a77da58b930fb7d1": {
      "model_module": "@jupyter-widgets/controls",
      "model_module_version": "1.4.0",
      "model_name": "ButtonStyleModel",
      "state": {}
     },
     "cce1d86a8d0b4382ada7552afe78f1e1": {
      "model_module": "@jupyter-widgets/output",
      "model_module_version": "1.0.0",
      "model_name": "OutputModel",
      "state": {
       "layout": "IPY_MODEL_d898bf6593bf4614a595d42e5f436c40"
      }
     },
     "cde1f271b6b94f98b1ac936577cab871": {
      "model_module": "@jupyter-widgets/output",
      "model_module_version": "1.0.0",
      "model_name": "OutputModel",
      "state": {
       "layout": "IPY_MODEL_868e7fc79b5a48459befba02e8f27214"
      }
     },
     "cdefa47bcfb64f329f8a26a58f5c69b7": {
      "model_module": "@jupyter-widgets/output",
      "model_module_version": "1.0.0",
      "model_name": "OutputModel",
      "state": {
       "layout": "IPY_MODEL_4fd2cdfbd1b244409861c761fb33e512"
      }
     },
     "ce290e9c48d14c02a08b8d725308ee5e": {
      "model_module": "@jupyter-widgets/base",
      "model_module_version": "1.1.0",
      "model_name": "LayoutModel",
      "state": {}
     },
     "ce35f18952984fd882f43cd2f2c51597": {
      "model_module": "@jupyter-widgets/output",
      "model_module_version": "1.0.0",
      "model_name": "OutputModel",
      "state": {
       "layout": "IPY_MODEL_2f3e0bd23e024d978a4422b21ccf2427",
       "outputs": [
        {
         "data": {
          "application/javascript": "IPython.notebook.save_checkpoint();",
          "text/plain": "<IPython.core.display.Javascript object>"
         },
         "metadata": {},
         "output_type": "display_data"
        },
        {
         "name": "stdout",
         "output_type": "stream",
         "text": "exporting\nnot exporting\n"
        },
        {
         "name": "stderr",
         "output_type": "stream",
         "text": "Exception in thread Thread-7:\nTraceback (most recent call last):\n  File \"/usr/lib/python3.5/threading.py\", line 914, in _bootstrap_inner\n    self.run()\n  File \"/usr/lib/python3.5/threading.py\", line 862, in run\n    self._target(*self._args, **self._kwargs)\n  File \"/home/gabriel.andrade/work/jupy4syn/lib/MonitorScanSave.py\", line 529, in export_image_thread\n    self.fig_box.children[0] = save_plotly\nTypeError: 'tuple' object does not support item assignment\n\n"
        }
       ]
      }
     },
     "ce72e3afd6b4411bafa43593b84c3c1b": {
      "model_module": "@jupyter-widgets/base",
      "model_module_version": "1.1.0",
      "model_name": "LayoutModel",
      "state": {}
     },
     "cec2cf250c0f4fed95899ce27872b21a": {
      "model_module": "@jupyter-widgets/base",
      "model_module_version": "1.1.0",
      "model_name": "LayoutModel",
      "state": {}
     },
     "cef41beb373d4cd984310d52b4317890": {
      "model_module": "@jupyter-widgets/controls",
      "model_module_version": "1.4.0",
      "model_name": "CheckboxModel",
      "state": {
       "description": "Print log in Notebook's cells",
       "disabled": false,
       "layout": "IPY_MODEL_4042411666d34f3a8ce77a62d37f2847",
       "style": "IPY_MODEL_685b3c618dcc4db3a5b4c38c59b4da00",
       "value": false
      }
     },
     "cf4ad1ecbe3c4498bc9bbf4b3176702e": {
      "model_module": "@jupyter-widgets/controls",
      "model_module_version": "1.4.0",
      "model_name": "CheckboxModel",
      "state": {
       "description": "Live plot in Jupyter: ",
       "disabled": true,
       "layout": "IPY_MODEL_f1839bc3243e4acd861d72412c0856fc",
       "style": "IPY_MODEL_d56d3161934c4120ab3ec7a1ae805f15",
       "value": false
      }
     },
     "cf698147a1e74272995248e77f9c64b3": {
      "model_module": "@jupyter-widgets/base",
      "model_module_version": "1.1.0",
      "model_name": "LayoutModel",
      "state": {
       "width": "300px"
      }
     },
     "cf72560cf847417aa9e1404a5d1deb9b": {
      "model_module": "@jupyter-widgets/controls",
      "model_module_version": "1.4.0",
      "model_name": "ButtonModel",
      "state": {
       "button_style": "success",
       "description": "Start PV Monitoring",
       "layout": "IPY_MODEL_3a20e6964a98449c88c9826e1ed19b09",
       "style": "IPY_MODEL_8f961dc8ddc8458b85410cfe405372d2",
       "tooltip": "Click me"
      }
     },
     "cfbcb96c4dc949439b6c6482b654ea35": {
      "model_module": "@jupyter-widgets/base",
      "model_module_version": "1.1.0",
      "model_name": "LayoutModel",
      "state": {
       "width": "300px"
      }
     },
     "cfd4b03f68564f1ca442836e8bc13c97": {
      "model_module": "@jupyter-widgets/controls",
      "model_module_version": "1.4.0",
      "model_name": "ButtonStyleModel",
      "state": {}
     },
     "d0aab4d2a88d4df78c3cbbe3ad2106c8": {
      "model_module": "@jupyter-widgets/base",
      "model_module_version": "1.1.0",
      "model_name": "LayoutModel",
      "state": {}
     },
     "d0c2494d3bad4bf5bf16a483cdd2bc79": {
      "model_module": "@jupyter-widgets/output",
      "model_module_version": "1.0.0",
      "model_name": "OutputModel",
      "state": {
       "layout": "IPY_MODEL_46e13c9dfe084354b14998bd6e212be2"
      }
     },
     "d0ef2c5892f445c58e138807aea7a7e4": {
      "model_module": "@jupyter-widgets/base",
      "model_module_version": "1.1.0",
      "model_name": "LayoutModel",
      "state": {
       "height": "40px",
       "width": "40px"
      }
     },
     "d147cf8d051d487b964bf37792a69e5a": {
      "model_module": "@jupyter-widgets/controls",
      "model_module_version": "1.4.0",
      "model_name": "CheckboxModel",
      "state": {
       "description": "Plot with PyQtGraph after scan ends: ",
       "disabled": false,
       "layout": "IPY_MODEL_f7d4f6dd33f449ea8cb335ca21431e60",
       "style": "IPY_MODEL_b9941db9ae334336a73d1bcaeb6d9183",
       "value": true
      }
     },
     "d1610146850e45af828dbb1b2382c0c7": {
      "model_module": "@jupyter-widgets/base",
      "model_module_version": "1.1.0",
      "model_name": "LayoutModel",
      "state": {}
     },
     "d170ad1f050740efb1afacfd89e1434f": {
      "model_module": "@jupyter-widgets/controls",
      "model_module_version": "1.4.0",
      "model_name": "TextModel",
      "state": {
       "layout": "IPY_MODEL_c67a75c7bf5840258bec34cae882f4ee",
       "placeholder": "Type the notebook's name without file format",
       "style": "IPY_MODEL_9d3fc1a178a1474a98d2d2e9fe239714"
      }
     },
     "d1bcc2b3d0a6454e9b687b876800c859": {
      "model_module": "@jupyter-widgets/output",
      "model_module_version": "1.0.0",
      "model_name": "OutputModel",
      "state": {
       "layout": "IPY_MODEL_e01ad3f8c48e492e8c69d14d57524576"
      }
     },
     "d1dfab372e9b46b885e0047f641a6881": {
      "model_module": "@jupyter-widgets/base",
      "model_module_version": "1.1.0",
      "model_name": "LayoutModel",
      "state": {}
     },
     "d1f10f2b4c484b4098e00452e15aba3d": {
      "model_module": "@jupyter-widgets/controls",
      "model_module_version": "1.4.0",
      "model_name": "DescriptionStyleModel",
      "state": {
       "description_width": ""
      }
     },
     "d2071b5312254a2b8cfe18d26fd23997": {
      "model_module": "@jupyter-widgets/base",
      "model_module_version": "1.1.0",
      "model_name": "LayoutModel",
      "state": {}
     },
     "d2227ca28cb744e4b13c9de385523f72": {
      "model_module": "@jupyter-widgets/controls",
      "model_module_version": "1.4.0",
      "model_name": "VBoxModel",
      "state": {
       "children": [
        "IPY_MODEL_a01b05c85924498096ecd3ecf71ae776"
       ],
       "layout": "IPY_MODEL_d6ab58eff706497c90cc5930f985b2f1"
      }
     },
     "d2b4f20ceb8b44088379d1930454c98e": {
      "model_module": "@jupyter-widgets/output",
      "model_module_version": "1.0.0",
      "model_name": "OutputModel",
      "state": {
       "layout": "IPY_MODEL_2ba9178998de4404924cafa83904d952"
      }
     },
     "d35dc4ba1d7045ed89f1ca47d6ce21f2": {
      "model_module": "@jupyter-widgets/controls",
      "model_module_version": "1.4.0",
      "model_name": "CheckboxModel",
      "state": {
       "description": "Print log in Notebook's cells",
       "disabled": false,
       "layout": "IPY_MODEL_7875d3a428c64c379a6797990e59d812",
       "style": "IPY_MODEL_0147c5b5fd5945918c2fd6b8d71dc974",
       "value": false
      }
     },
     "d365f1930b3444f9b7a5af878467eea2": {
      "model_module": "@jupyter-widgets/base",
      "model_module_version": "1.1.0",
      "model_name": "LayoutModel",
      "state": {}
     },
     "d3678207516a4907a84b9e847f492bec": {
      "model_module": "@jupyter-widgets/controls",
      "model_module_version": "1.4.0",
      "model_name": "TextModel",
      "state": {
       "layout": "IPY_MODEL_fa3a50a0380746198003d622e8f42ff7",
       "placeholder": "Type the notebook's name without file format",
       "style": "IPY_MODEL_b6a6dbc3a90e4e4ebc8c939dbf7fa9ba"
      }
     },
     "d3d2a33282fb4e2894836db68168efdf": {
      "model_module": "@jupyter-widgets/controls",
      "model_module_version": "1.4.0",
      "model_name": "VBoxModel",
      "state": {
       "children": [
        "IPY_MODEL_e29a9477d28e43aba82086ce344b27d5"
       ],
       "layout": "IPY_MODEL_b6208ed33180438cbb6a2e575225036f"
      }
     },
     "d41bd05d673c40c68c6f95ae76face63": {
      "model_module": "@jupyter-widgets/controls",
      "model_module_version": "1.4.0",
      "model_name": "TextareaModel",
      "state": {
       "layout": "IPY_MODEL_6887999cccaa4e5198d81275896196a7",
       "placeholder": "Example: IOC:m1.DMOV IOC:m3.RBV LNLS:ANEL:corrente.VAL",
       "style": "IPY_MODEL_90e0ab9c4d3047b19576049f5b8856a4"
      }
     },
     "d4934cfdf0344c9cb6d0990b0f8f477c": {
      "model_module": "@jupyter-widgets/controls",
      "model_module_version": "1.4.0",
      "model_name": "ButtonStyleModel",
      "state": {}
     },
     "d4c3bf47fc4c459bb1ec7ef5a140c134": {
      "model_module": "@jupyter-widgets/controls",
      "model_module_version": "1.4.0",
      "model_name": "DropdownModel",
      "state": {
       "_options_labels": [
        "Plot after ends with PyQt",
        "Plot after ends with Plotly",
        "Live Plot"
       ],
       "index": 1,
       "layout": "IPY_MODEL_4ee4a80fcb854e7db87d7042f0cc52eb",
       "style": "IPY_MODEL_827d5a99f97543b099713511740c0357"
      }
     },
     "d4c49a425f4a4238b643dda43235f066": {
      "model_module": "@jupyter-widgets/base",
      "model_module_version": "1.1.0",
      "model_name": "LayoutModel",
      "state": {}
     },
     "d4d5aeb9906e4dda9b3c7db2fa85f080": {
      "model_module": "@jupyter-widgets/controls",
      "model_module_version": "1.4.0",
      "model_name": "VBoxModel",
      "state": {
       "children": [
        "IPY_MODEL_e1edb8b2341e44d2a923ef705b4bbd9a"
       ],
       "layout": "IPY_MODEL_7a9bbf8c34fd420ea454705f45dfe028"
      }
     },
     "d566c71f1c23410488b472ca13f260ca": {
      "model_module": "@jupyter-widgets/controls",
      "model_module_version": "1.4.0",
      "model_name": "CheckboxModel",
      "state": {
       "description": "Plot with Plotly after scan ends: ",
       "disabled": true,
       "layout": "IPY_MODEL_6caeab7c6f9b4872ba25fb8e74d0692e",
       "style": "IPY_MODEL_aa58df7c39324f529756f357382138e6",
       "value": false
      }
     },
     "d56d3161934c4120ab3ec7a1ae805f15": {
      "model_module": "@jupyter-widgets/controls",
      "model_module_version": "1.4.0",
      "model_name": "DescriptionStyleModel",
      "state": {
       "description_width": "initial"
      }
     },
     "d572d593e0ee4c8d88fc1cf678fbd3cd": {
      "model_module": "@jupyter-widgets/controls",
      "model_module_version": "1.4.0",
      "model_name": "DescriptionStyleModel",
      "state": {
       "description_width": ""
      }
     },
     "d629c1ec3d4e44cdabdb38db81b5d256": {
      "model_module": "@jupyter-widgets/controls",
      "model_module_version": "1.4.0",
      "model_name": "TextModel",
      "state": {
       "layout": "IPY_MODEL_0c5baa37a4b449edbb75bf4245839626",
       "placeholder": "Type the notebook's name without file format",
       "style": "IPY_MODEL_94738241b73e420994d030938a1d74c8"
      }
     },
     "d653c296c1e444fea1f1e47524d79cc4": {
      "model_module": "@jupyter-widgets/base",
      "model_module_version": "1.1.0",
      "model_name": "LayoutModel",
      "state": {}
     },
     "d655343b98f448aeb40344a00b0f5a31": {
      "model_module": "@jupyter-widgets/output",
      "model_module_version": "1.0.0",
      "model_name": "OutputModel",
      "state": {
       "layout": "IPY_MODEL_c7543d7d6b0c48cd80cda16d48bda3ec"
      }
     },
     "d665793dbeb242449d6792142cf596a8": {
      "model_module": "@jupyter-widgets/controls",
      "model_module_version": "1.4.0",
      "model_name": "CheckboxModel",
      "state": {
       "description": "Print log in Notebook's cells",
       "disabled": false,
       "layout": "IPY_MODEL_0946d2a143b042cc834da8c7cc9def09",
       "style": "IPY_MODEL_22d5e06db9454a958403a151bd1254e9",
       "value": false
      }
     },
     "d66b574789174cc6bb77e0b8e9ee14bd": {
      "buffers": [
       {
        "data": "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",
        "encoding": "base64",
        "path": [
         "value"
        ]
       }
      ],
      "model_module": "@jupyter-widgets/controls",
      "model_module_version": "1.4.0",
      "model_name": "ImageModel",
      "state": {
       "height": "35",
       "layout": "IPY_MODEL_30c024058fdc47288424373c90f58e8c",
       "value": {},
       "width": "35"
      }
     },
     "d6ab58eff706497c90cc5930f985b2f1": {
      "model_module": "@jupyter-widgets/base",
      "model_module_version": "1.1.0",
      "model_name": "LayoutModel",
      "state": {}
     },
     "d6b052e748ff4008968dbb0a14496872": {
      "model_module": "@jupyter-widgets/base",
      "model_module_version": "1.1.0",
      "model_name": "LayoutModel",
      "state": {}
     },
     "d7093bfc904543d899298d8e3a6cae4b": {
      "model_module": "@jupyter-widgets/base",
      "model_module_version": "1.1.0",
      "model_name": "LayoutModel",
      "state": {}
     },
     "d720890139eb439a8a0c0e556ca6fa30": {
      "model_module": "@jupyter-widgets/controls",
      "model_module_version": "1.4.0",
      "model_name": "VBoxModel",
      "state": {
       "children": [
        "IPY_MODEL_44c20b55bb5f44caaed6b0826ccb3dbb"
       ],
       "layout": "IPY_MODEL_d4c49a425f4a4238b643dda43235f066"
      }
     },
     "d77c0cf7dae5472a88474265f7e7c5e0": {
      "model_module": "@jupyter-widgets/controls",
      "model_module_version": "1.4.0",
      "model_name": "VBoxModel",
      "state": {
       "children": [
        "IPY_MODEL_403c5471284945ef90947260fb6211e0"
       ],
       "layout": "IPY_MODEL_d365f1930b3444f9b7a5af878467eea2"
      }
     },
     "d782d87f43af479da94e86e85dc08766": {
      "model_module": "@jupyter-widgets/controls",
      "model_module_version": "1.4.0",
      "model_name": "ButtonStyleModel",
      "state": {}
     },
     "d7851739d2ca4947850d1385dd8f298b": {
      "model_module": "@jupyter-widgets/controls",
      "model_module_version": "1.4.0",
      "model_name": "TextareaModel",
      "state": {
       "layout": "IPY_MODEL_f174ec48e9934ea3881174b1d5f40b1a",
       "placeholder": "Example: IOC:m1 IOC:m3 LNLS:TEST:motor_g3",
       "style": "IPY_MODEL_02cb55da9a074b3fa82ae25571ef47ed"
      }
     },
     "d7d00d1e6eb9482880e862be5fe6072f": {
      "model_module": "@jupyter-widgets/controls",
      "model_module_version": "1.4.0",
      "model_name": "LabelModel",
      "state": {
       "layout": "IPY_MODEL_6b3418b12c6d4adf8be70913fd2c091b",
       "style": "IPY_MODEL_212745e7ef5948eb8f7b196f8be52366",
       "value": "Notebook's name: "
      }
     },
     "d7d0e0e86f494855880c8da030205d30": {
      "model_module": "@jupyter-widgets/base",
      "model_module_version": "1.1.0",
      "model_name": "LayoutModel",
      "state": {}
     },
     "d7e3efaa4f01426f8a51e5b9dff751f5": {
      "model_module": "@jupyter-widgets/controls",
      "model_module_version": "1.4.0",
      "model_name": "DescriptionStyleModel",
      "state": {
       "description_width": "initial"
      }
     },
     "d7f9a8564f5b46ebb180f9fd976d4e0b": {
      "model_module": "@jupyter-widgets/base",
      "model_module_version": "1.1.0",
      "model_name": "LayoutModel",
      "state": {
       "height": "40px",
       "width": "40px"
      }
     },
     "d83e27e7738f49a3b1b0dee31a26ba2f": {
      "model_module": "@jupyter-widgets/controls",
      "model_module_version": "1.4.0",
      "model_name": "DescriptionStyleModel",
      "state": {
       "description_width": ""
      }
     },
     "d88ac74b0e694d4086bfcfdaf33309eb": {
      "model_module": "@jupyter-widgets/controls",
      "model_module_version": "1.4.0",
      "model_name": "TextareaModel",
      "state": {
       "layout": "IPY_MODEL_f2002220ec114e48a92a117468ee89d9",
       "placeholder": "Example: IOC:m1 IOC:m3 LNLS:TEST:motor_g3",
       "style": "IPY_MODEL_9979f1b874f1434796a3325117f4e4c9"
      }
     },
     "d898bf6593bf4614a595d42e5f436c40": {
      "model_module": "@jupyter-widgets/base",
      "model_module_version": "1.1.0",
      "model_name": "LayoutModel",
      "state": {}
     },
     "d8af58f898414b629d2b9416a91187b0": {
      "model_module": "@jupyter-widgets/controls",
      "model_module_version": "1.4.0",
      "model_name": "CheckboxModel",
      "state": {
       "description": "Print log in Notebook's cells",
       "disabled": false,
       "layout": "IPY_MODEL_5bd2c57e0c9745aab507c34537707436",
       "style": "IPY_MODEL_586af035dbd84b8992e7b790b6afbc14",
       "value": false
      }
     },
     "d8b7571c663c49b4b1a89e1d3cb4be56": {
      "model_module": "@jupyter-widgets/controls",
      "model_module_version": "1.4.0",
      "model_name": "DescriptionStyleModel",
      "state": {
       "description_width": ""
      }
     },
     "d8de41f3f48e427e86c2b4c5a7a593cc": {
      "model_module": "@jupyter-widgets/base",
      "model_module_version": "1.1.0",
      "model_name": "LayoutModel",
      "state": {}
     },
     "d8e34054d09e410aaab545b97fd4372b": {
      "model_module": "@jupyter-widgets/controls",
      "model_module_version": "1.4.0",
      "model_name": "ButtonStyleModel",
      "state": {}
     },
     "d8f7e3f659844003ab3549058e3db8ff": {
      "model_module": "@jupyter-widgets/base",
      "model_module_version": "1.1.0",
      "model_name": "LayoutModel",
      "state": {}
     },
     "d8f9a93614d449289480175facd6ece6": {
      "model_module": "@jupyter-widgets/controls",
      "model_module_version": "1.4.0",
      "model_name": "ButtonModel",
      "state": {
       "button_style": "success",
       "description": "Start Scanning Plot",
       "layout": "IPY_MODEL_e9b80d117d9a410cbea721495f67e4dd",
       "style": "IPY_MODEL_cc96d80e4fab4384a77da58b930fb7d1",
       "tooltip": "Click me"
      }
     },
     "d8fb50a0261447668e8840740757fc29": {
      "model_module": "@jupyter-widgets/controls",
      "model_module_version": "1.4.0",
      "model_name": "ButtonModel",
      "state": {
       "button_style": "success",
       "description": "Start Motor Initializaton",
       "layout": "IPY_MODEL_3616919f94e64d7a988d32afa054b2ed",
       "style": "IPY_MODEL_833de3cf4a634e3aab6117ea4eb7bd49",
       "tooltip": "Click me"
      }
     },
     "d911bc7f4ace4fddbbd6483823c6b17d": {
      "model_module": "@jupyter-widgets/base",
      "model_module_version": "1.1.0",
      "model_name": "LayoutModel",
      "state": {}
     },
     "d9c5d83488114d99aa4a42eb90f8e425": {
      "model_module": "@jupyter-widgets/base",
      "model_module_version": "1.1.0",
      "model_name": "LayoutModel",
      "state": {}
     },
     "d9e5440fd0e94724a9e98431ba120dc3": {
      "model_module": "@jupyter-widgets/controls",
      "model_module_version": "1.4.0",
      "model_name": "ButtonStyleModel",
      "state": {}
     },
     "da7ed1dbb54e40b9aa716491a0108ede": {
      "model_module": "@jupyter-widgets/base",
      "model_module_version": "1.1.0",
      "model_name": "LayoutModel",
      "state": {
       "width": "300px"
      }
     },
     "da82e4f7a2cc4a458685573c63a8439f": {
      "model_module": "@jupyter-widgets/output",
      "model_module_version": "1.0.0",
      "model_name": "OutputModel",
      "state": {
       "layout": "IPY_MODEL_92dc24211b7e477cac32982242bfee9d"
      }
     },
     "dab7ade4cd86491da75efc82a4da3d0e": {
      "model_module": "@jupyter-widgets/controls",
      "model_module_version": "1.4.0",
      "model_name": "VBoxModel",
      "state": {
       "children": [
        "IPY_MODEL_091114aed08042dabd2da91c3fe7c196",
        "IPY_MODEL_99724617751841cfbc0218a4cde4f225"
       ],
       "layout": "IPY_MODEL_69d9c2fb522843d9be178aeca14bb376"
      }
     },
     "dacadbe5dee64fd2a868cae8f83d33cd": {
      "model_module": "@jupyter-widgets/controls",
      "model_module_version": "1.4.0",
      "model_name": "ButtonStyleModel",
      "state": {}
     },
     "dacbdcf51b9e4cdcbba29f78c9fbd232": {
      "model_module": "@jupyter-widgets/base",
      "model_module_version": "1.1.0",
      "model_name": "LayoutModel",
      "state": {}
     },
     "dacfacbbc3234ff69e06f1f6771b904a": {
      "model_module": "@jupyter-widgets/base",
      "model_module_version": "1.1.0",
      "model_name": "LayoutModel",
      "state": {
       "width": "300px"
      }
     },
     "daf473fc4c374340bc95181daff39ea3": {
      "model_module": "@jupyter-widgets/base",
      "model_module_version": "1.1.0",
      "model_name": "LayoutModel",
      "state": {
       "width": "300px"
      }
     },
     "db08ba8455e040b3a91c48757b69ec50": {
      "model_module": "@jupyter-widgets/base",
      "model_module_version": "1.1.0",
      "model_name": "LayoutModel",
      "state": {}
     },
     "db29189450e342478d24960ed9628cb4": {
      "model_module": "@jupyter-widgets/controls",
      "model_module_version": "1.4.0",
      "model_name": "TextModel",
      "state": {
       "layout": "IPY_MODEL_415e9f238a3a4103b8e4673ee7ddd372",
       "placeholder": "Type the notebook's name without file format",
       "style": "IPY_MODEL_eb7761c8d9ed444fb257746b3cba0fa5"
      }
     },
     "db2d38c1c2764cb89cb0169d019fdde5": {
      "model_module": "@jupyter-widgets/controls",
      "model_module_version": "1.4.0",
      "model_name": "DescriptionStyleModel",
      "state": {
       "description_width": ""
      }
     },
     "db65c1e62e2a4c23bc199b05ff2553ba": {
      "model_module": "@jupyter-widgets/output",
      "model_module_version": "1.0.0",
      "model_name": "OutputModel",
      "state": {
       "layout": "IPY_MODEL_9249a25476b44ef39badc1628fe1dfbe"
      }
     },
     "db8f6d0fd61a4a078a53d85a341bc3a1": {
      "model_module": "@jupyter-widgets/controls",
      "model_module_version": "1.4.0",
      "model_name": "CheckboxModel",
      "state": {
       "description": "Print log in Notebook's cells",
       "disabled": false,
       "layout": "IPY_MODEL_57241bda40a647318faf9aec53f7ef44",
       "style": "IPY_MODEL_6809688c77e64bf4bcea947447c55cec",
       "value": false
      }
     },
     "dbb58ee7ad6f4722a8a3eecc728efbea": {
      "model_module": "@jupyter-widgets/controls",
      "model_module_version": "1.4.0",
      "model_name": "TextareaModel",
      "state": {
       "layout": "IPY_MODEL_0d8e0ca3da8444cf900916189d048bd7",
       "placeholder": "Example: IOC:m1 IOC:m3 LNLS:TEST:motor_g3",
       "style": "IPY_MODEL_c02780f14c7d41d29f641cfc5bf851a3"
      }
     },
     "dbce6eff20b54d8c9da215f56b084800": {
      "model_module": "@jupyter-widgets/controls",
      "model_module_version": "1.4.0",
      "model_name": "LabelModel",
      "state": {
       "layout": "IPY_MODEL_698b8b45cf1d4a62a3c375486dde831b",
       "style": "IPY_MODEL_20fbed9e8b0445c4a14086165815a88a",
       "value": "Notebook's name: "
      }
     },
     "dc168f3e8681420b9ed9946fbab85701": {
      "model_module": "@jupyter-widgets/controls",
      "model_module_version": "1.4.0",
      "model_name": "VBoxModel",
      "state": {
       "children": [
        "IPY_MODEL_353b00c99b3d42aab22458dac73fead7",
        "IPY_MODEL_b8b67edbe6fe4d259130f4959bb10a5c"
       ],
       "layout": "IPY_MODEL_eafc766d3f4a481993552b956e5811fc"
      }
     },
     "dc5c739f007c420d87ab5cbc18a49198": {
      "model_module": "@jupyter-widgets/controls",
      "model_module_version": "1.4.0",
      "model_name": "ButtonStyleModel",
      "state": {}
     },
     "dcd96aa0204944299e713826b2fb4979": {
      "model_module": "@jupyter-widgets/base",
      "model_module_version": "1.1.0",
      "model_name": "LayoutModel",
      "state": {}
     },
     "dcfe568141a94aca9ab594c720e4ef76": {
      "model_module": "@jupyter-widgets/controls",
      "model_module_version": "1.4.0",
      "model_name": "VBoxModel",
      "state": {
       "children": [
        "IPY_MODEL_aeb4499325c54272b0007b28659d4962"
       ],
       "layout": "IPY_MODEL_57d69b67cfc74fc5a048943ed5755342"
      }
     },
     "dd14b41b416f4c4e8026d8bd2d21ccfd": {
      "buffers": [
       {
        "data": "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",
        "encoding": "base64",
        "path": [
         "value"
        ]
       }
      ],
      "model_module": "@jupyter-widgets/controls",
      "model_module_version": "1.4.0",
      "model_name": "ImageModel",
      "state": {
       "height": "35",
       "layout": "IPY_MODEL_7fe59d499c384f68aaec2be962057ded",
       "value": {},
       "width": "35"
      }
     },
     "dd4d4b3aee184d22a8d650f1cb4b2096": {
      "model_module": "@jupyter-widgets/output",
      "model_module_version": "1.0.0",
      "model_name": "OutputModel",
      "state": {
       "layout": "IPY_MODEL_23aee4ad778245ddbc8216901b29bc52"
      }
     },
     "dd9e41821caa4ee2b061ca0373288de2": {
      "model_module": "@jupyter-widgets/controls",
      "model_module_version": "1.4.0",
      "model_name": "VBoxModel",
      "state": {
       "children": [
        "IPY_MODEL_f5adbb4b18af4b6f9fc0b41855107a74"
       ],
       "layout": "IPY_MODEL_a127867f9477449da91ce65f8f5106ba"
      }
     },
     "ddda8e8b62cc4027bbad341b43c98167": {
      "model_module": "@jupyter-widgets/controls",
      "model_module_version": "1.4.0",
      "model_name": "HBoxModel",
      "state": {
       "children": [
        "IPY_MODEL_b581c5e882d34757b9046f2a146f1ba4",
        "IPY_MODEL_4174e46852be4c4984b84496a9bfd1df"
       ],
       "layout": "IPY_MODEL_bf6cdee50036456f801186954f819820"
      }
     },
     "ddea5aa213994aec9367348d3809747f": {
      "model_module": "@jupyter-widgets/output",
      "model_module_version": "1.0.0",
      "model_name": "OutputModel",
      "state": {
       "layout": "IPY_MODEL_bfabe0af9da049e4b7a21f3ab4b697b4"
      }
     },
     "de12880c90354342aa69d04e9dc7078e": {
      "model_module": "@jupyter-widgets/base",
      "model_module_version": "1.1.0",
      "model_name": "LayoutModel",
      "state": {}
     },
     "de14ef2347e546eda06e0b76d59d30d4": {
      "model_module": "@jupyter-widgets/base",
      "model_module_version": "1.1.0",
      "model_name": "LayoutModel",
      "state": {}
     },
     "de814c50dc744ad4b1dc9bfb09b8ee5e": {
      "model_module": "@jupyter-widgets/base",
      "model_module_version": "1.1.0",
      "model_name": "LayoutModel",
      "state": {}
     },
     "dececb162e394a188b1e2ae6e162c713": {
      "model_module": "@jupyter-widgets/controls",
      "model_module_version": "1.4.0",
      "model_name": "VBoxModel",
      "state": {
       "children": [
        "IPY_MODEL_768fc38fbcc246a8b58bec2d4cfc739e",
        "IPY_MODEL_d8fb50a0261447668e8840740757fc29"
       ],
       "layout": "IPY_MODEL_bde62a7a4ad4422ab4ed0681f09966ef"
      }
     },
     "deea780815d3402f9c1dca52fcf6eba2": {
      "model_module": "@jupyter-widgets/base",
      "model_module_version": "1.1.0",
      "model_name": "LayoutModel",
      "state": {
       "width": "300px"
      }
     },
     "df62d757470a425599452dda450e8ef9": {
      "model_module": "@jupyter-widgets/base",
      "model_module_version": "1.1.0",
      "model_name": "LayoutModel",
      "state": {}
     },
     "dfc0929ffa9647198af2e8400f8c2f6b": {
      "model_module": "@jupyter-widgets/base",
      "model_module_version": "1.1.0",
      "model_name": "LayoutModel",
      "state": {}
     },
     "dfcfa7d3e01146619c97792f88e80891": {
      "model_module": "@jupyter-widgets/controls",
      "model_module_version": "1.4.0",
      "model_name": "ButtonStyleModel",
      "state": {}
     },
     "e00436b0876d4c0597285ed210dc57c4": {
      "model_module": "@jupyter-widgets/output",
      "model_module_version": "1.0.0",
      "model_name": "OutputModel",
      "state": {
       "layout": "IPY_MODEL_24aa37e3eca843c7855d00ac54602921"
      }
     },
     "e01ad3f8c48e492e8c69d14d57524576": {
      "model_module": "@jupyter-widgets/base",
      "model_module_version": "1.1.0",
      "model_name": "LayoutModel",
      "state": {}
     },
     "e021a2cf25c0406594302aee516f97f9": {
      "model_module": "@jupyter-widgets/base",
      "model_module_version": "1.1.0",
      "model_name": "LayoutModel",
      "state": {
       "width": "300px"
      }
     },
     "e03ea2b9324a45f8abed6b71cf7a64d0": {
      "model_module": "@jupyter-widgets/controls",
      "model_module_version": "1.4.0",
      "model_name": "VBoxModel",
      "state": {
       "children": [
        "IPY_MODEL_41170fe9a2784a02987b548cb6d75d36"
       ],
       "layout": "IPY_MODEL_00474e95bc9d40f19ea2f2de8ee6953b"
      }
     },
     "e0660fd67af246cca7c846ce7cbc4106": {
      "model_module": "@jupyter-widgets/controls",
      "model_module_version": "1.4.0",
      "model_name": "DropdownModel",
      "state": {
       "_options_labels": [
        "Plot after ends with PyQt",
        "Plot after ends with Plotly",
        "Live Plot"
       ],
       "disabled": true,
       "index": 1,
       "layout": "IPY_MODEL_40005acaa6f44414bde36e2b63575cd9",
       "style": "IPY_MODEL_5955ee5dd82543d8a975bc00f9728d60"
      }
     },
     "e0a31450faf7472eb313752068549f56": {
      "model_module": "@jupyter-widgets/controls",
      "model_module_version": "1.4.0",
      "model_name": "HBoxModel",
      "state": {
       "children": [
        "IPY_MODEL_7da5a51dbdf0492184fb67dae77a9042",
        "IPY_MODEL_28b03f0817cc4ccaa42b46a2988dac9f"
       ],
       "layout": "IPY_MODEL_ac27916a94654691aa6e9da9829e074f"
      }
     },
     "e0a5c1d2862647fc8192b40bf79f9055": {
      "model_module": "@jupyter-widgets/controls",
      "model_module_version": "1.4.0",
      "model_name": "BoxModel",
      "state": {
       "children": [
        "IPY_MODEL_01e5c50888054648a1a2afa64d7e85f7"
       ],
       "layout": "IPY_MODEL_56b9de3a2a70486c919b04e6cc405a0d"
      }
     },
     "e0b0a71049b5460a81de52b42a0878ec": {
      "model_module": "@jupyter-widgets/controls",
      "model_module_version": "1.4.0",
      "model_name": "ButtonModel",
      "state": {
       "button_style": "warning",
       "description": "Export Notebook to HTML",
       "layout": "IPY_MODEL_7ba13f8d57be4a86b27745c812e34499",
       "style": "IPY_MODEL_75c14d8ce832401da3126bf505704ea2",
       "tooltip": "Click me"
      }
     },
     "e0bc319c97754df89cebaf9369de447f": {
      "model_module": "@jupyter-widgets/controls",
      "model_module_version": "1.4.0",
      "model_name": "LabelModel",
      "state": {
       "layout": "IPY_MODEL_266da7d494824234b7b52bbf37526d14",
       "style": "IPY_MODEL_82361776a57740f08923756e4d378fdf",
       "value": "No motors initilized to be showed."
      }
     },
     "e13b08909a18496394dd181743b012af": {
      "model_module": "@jupyter-widgets/base",
      "model_module_version": "1.1.0",
      "model_name": "LayoutModel",
      "state": {
       "height": "40px",
       "width": "40px"
      }
     },
     "e156e3a7244e47b58fd5b0497cca032f": {
      "model_module": "@jupyter-widgets/controls",
      "model_module_version": "1.4.0",
      "model_name": "VBoxModel",
      "state": {
       "children": [
        "IPY_MODEL_40eb072343884e23859495a825639386"
       ],
       "layout": "IPY_MODEL_e32c5c5ac0e848f3bf02ac43514ef362"
      }
     },
     "e1987667c666440e86dd94913960c770": {
      "model_module": "@jupyter-widgets/base",
      "model_module_version": "1.1.0",
      "model_name": "LayoutModel",
      "state": {
       "width": "300px"
      }
     },
     "e1e2d62947bd450fbf684ad258f0ba30": {
      "model_module": "@jupyter-widgets/base",
      "model_module_version": "1.1.0",
      "model_name": "LayoutModel",
      "state": {
       "height": "40px",
       "width": "40px"
      }
     },
     "e1edb8b2341e44d2a923ef705b4bbd9a": {
      "model_module": "@jupyter-widgets/controls",
      "model_module_version": "1.4.0",
      "model_name": "ButtonModel",
      "state": {
       "button_style": "success",
       "description": "Start Manual Alignment",
       "layout": "IPY_MODEL_3311118c15fd4d9e88648539a844f3f2",
       "style": "IPY_MODEL_47ea89c21a674eb79c14212ba9470774",
       "tooltip": "Click me"
      }
     },
     "e23b4d94d2824a6ab1c82200f12f532f": {
      "model_module": "@jupyter-widgets/base",
      "model_module_version": "1.1.0",
      "model_name": "LayoutModel",
      "state": {}
     },
     "e24a3570544d4ffcb494cde2a21e8f50": {
      "model_module": "@jupyter-widgets/controls",
      "model_module_version": "1.4.0",
      "model_name": "LabelModel",
      "state": {
       "layout": "IPY_MODEL_a37a59bdb30241a4959e27b03cd7318c",
       "style": "IPY_MODEL_eb7c30607fb844c6a8a413d91c68a763",
       "value": "No motors initilized to be showed."
      }
     },
     "e256476d91d0499abab361b72834b8af": {
      "model_module": "@jupyter-widgets/controls",
      "model_module_version": "1.4.0",
      "model_name": "BoxModel",
      "state": {
       "children": [
        "IPY_MODEL_6ed34ffb9d164ce3bfa9bbf4409f1312"
       ],
       "layout": "IPY_MODEL_50f1b84a68f94de6a9a55bb86f53d6f6"
      }
     },
     "e281f46f91a046d189d5a8eab2e8db7c": {
      "model_module": "@jupyter-widgets/controls",
      "model_module_version": "1.4.0",
      "model_name": "DescriptionStyleModel",
      "state": {
       "description_width": "initial"
      }
     },
     "e29a9477d28e43aba82086ce344b27d5": {
      "model_module": "@jupyter-widgets/controls",
      "model_module_version": "1.4.0",
      "model_name": "ButtonModel",
      "state": {
       "button_style": "danger",
       "description": "Stop Scanning Plot",
       "layout": "IPY_MODEL_161480ad507a46a1866885753019b5af",
       "style": "IPY_MODEL_b097f3bf768e43b3818c87ed859a9df3",
       "tooltip": "Click me"
      }
     },
     "e2bbbbde430845588c67026bb3028401": {
      "model_module": "@jupyter-widgets/base",
      "model_module_version": "1.1.0",
      "model_name": "LayoutModel",
      "state": {
       "width": "300px"
      }
     },
     "e302d36a67534936a7a59bab7fdc07c0": {
      "model_module": "@jupyter-widgets/controls",
      "model_module_version": "1.4.0",
      "model_name": "VBoxModel",
      "state": {
       "children": [
        "IPY_MODEL_adf3e9cab2284c0eadc8f73e5bb50c24"
       ],
       "layout": "IPY_MODEL_79b15f2c3fd3416297510782b368836d"
      }
     },
     "e32c5c5ac0e848f3bf02ac43514ef362": {
      "model_module": "@jupyter-widgets/base",
      "model_module_version": "1.1.0",
      "model_name": "LayoutModel",
      "state": {}
     },
     "e34e4731675845d88de513b0e80f3559": {
      "model_module": "@jupyter-widgets/base",
      "model_module_version": "1.1.0",
      "model_name": "LayoutModel",
      "state": {
       "height": "40px",
       "width": "40px"
      }
     },
     "e37a5ac5cfdc427e9232b2c85ed8b258": {
      "model_module": "@jupyter-widgets/controls",
      "model_module_version": "1.4.0",
      "model_name": "CheckboxModel",
      "state": {
       "description": "Print log in Notebook's cells",
       "disabled": false,
       "layout": "IPY_MODEL_1e170747d7b84336b6fd8d29b75fff8c",
       "style": "IPY_MODEL_0cd2428637254b9d862ea2b2b4ae9e93",
       "value": false
      }
     },
     "e37d10f91e8d411aa33473945da81132": {
      "model_module": "@jupyter-widgets/controls",
      "model_module_version": "1.4.0",
      "model_name": "ButtonStyleModel",
      "state": {}
     },
     "e392643a319f4e83b0831057702114f4": {
      "model_module": "@jupyter-widgets/controls",
      "model_module_version": "1.4.0",
      "model_name": "BoxModel",
      "state": {
       "layout": "IPY_MODEL_3421eca57cb64df59d70bd95b79058a1"
      }
     },
     "e3a03382890f4169b676ba085fdb3e21": {
      "model_module": "@jupyter-widgets/base",
      "model_module_version": "1.1.0",
      "model_name": "LayoutModel",
      "state": {}
     },
     "e3b44495ef154e2eaa34cec39f8514fa": {
      "model_module": "@jupyter-widgets/controls",
      "model_module_version": "1.4.0",
      "model_name": "DescriptionStyleModel",
      "state": {
       "description_width": "initial"
      }
     },
     "e3c9bfacc6e04871919667e484c3f38c": {
      "model_module": "@jupyter-widgets/output",
      "model_module_version": "1.0.0",
      "model_name": "OutputModel",
      "state": {
       "layout": "IPY_MODEL_d0aab4d2a88d4df78c3cbbe3ad2106c8"
      }
     },
     "e405a6cbea484c459f7991ae852e69d1": {
      "model_module": "@jupyter-widgets/base",
      "model_module_version": "1.1.0",
      "model_name": "LayoutModel",
      "state": {}
     },
     "e4277ca4c153402289df0dc0fb3d7f38": {
      "model_module": "@jupyter-widgets/controls",
      "model_module_version": "1.4.0",
      "model_name": "LabelModel",
      "state": {
       "layout": "IPY_MODEL_b46e5ffc5ec54d85bf0b4b56c88f1779",
       "style": "IPY_MODEL_aaa4b666d4e1447384234f304fe8d97f",
       "value": "No motors initilized to be showed."
      }
     },
     "e43f2b0405cb4094ae5789ccbb1eab28": {
      "model_module": "@jupyter-widgets/base",
      "model_module_version": "1.1.0",
      "model_name": "LayoutModel",
      "state": {}
     },
     "e4b456405b2845da9bdc524303a61ca0": {
      "model_module": "@jupyter-widgets/controls",
      "model_module_version": "1.4.0",
      "model_name": "VBoxModel",
      "state": {
       "children": [
        "IPY_MODEL_072c822563f9483d9183258dae9fc26d",
        "IPY_MODEL_34592316a7b44958b3de761af202c980"
       ],
       "layout": "IPY_MODEL_9da939aa5da54e4e9a08c911b813eb7a"
      }
     },
     "e4dc5763d5d84b7cb99158b1dbc0c229": {
      "model_module": "@jupyter-widgets/base",
      "model_module_version": "1.1.0",
      "model_name": "LayoutModel",
      "state": {
       "width": "300px"
      }
     },
     "e4e42ee3779d42359f5dcbf9949b93e7": {
      "model_module": "@jupyter-widgets/controls",
      "model_module_version": "1.4.0",
      "model_name": "VBoxModel",
      "state": {
       "children": [
        "IPY_MODEL_fb4fd6f654fe427b9b9570dc21d59c97"
       ],
       "layout": "IPY_MODEL_b3035efd697946c392e856b06e0e631a"
      }
     },
     "e4ee57786cf844a28bc484f8a32ad9b2": {
      "model_module": "@jupyter-widgets/controls",
      "model_module_version": "1.4.0",
      "model_name": "DescriptionStyleModel",
      "state": {
       "description_width": ""
      }
     },
     "e4f19baf79a4427cab2dbf796109ae73": {
      "model_module": "@jupyter-widgets/base",
      "model_module_version": "1.1.0",
      "model_name": "LayoutModel",
      "state": {}
     },
     "e561d0f6a75f40cd8ff41dacd70e2c7f": {
      "model_module": "@jupyter-widgets/base",
      "model_module_version": "1.1.0",
      "model_name": "LayoutModel",
      "state": {}
     },
     "e5a573729b0a41deaf85c4bd341e3c38": {
      "model_module": "@jupyter-widgets/controls",
      "model_module_version": "1.4.0",
      "model_name": "DescriptionStyleModel",
      "state": {
       "description_width": "initial"
      }
     },
     "e5be2286f6f145b4ae37e460f938a7ba": {
      "model_module": "@jupyter-widgets/base",
      "model_module_version": "1.1.0",
      "model_name": "LayoutModel",
      "state": {}
     },
     "e5ec5e004c7e4a5b9ebe9dc6d70680ec": {
      "model_module": "@jupyter-widgets/controls",
      "model_module_version": "1.4.0",
      "model_name": "TextModel",
      "state": {
       "layout": "IPY_MODEL_ab90542471844d72a0ca2391f2a6ea5f",
       "placeholder": "Type the notebook's name without file format",
       "style": "IPY_MODEL_2e52592ea02348fd9989417d011d3b6a"
      }
     },
     "e60f4a9cd85947298fefbebb0bd532bf": {
      "model_module": "@jupyter-widgets/base",
      "model_module_version": "1.1.0",
      "model_name": "LayoutModel",
      "state": {}
     },
     "e6194af5e5c24c898ff1dde443db9d8e": {
      "model_module": "@jupyter-widgets/output",
      "model_module_version": "1.0.0",
      "model_name": "OutputModel",
      "state": {
       "layout": "IPY_MODEL_2ab8c7f42f3340b98b44c39c51556d1a"
      }
     },
     "e6b3e415c9a740f0a1c2a019d47434c3": {
      "model_module": "@jupyter-widgets/controls",
      "model_module_version": "1.4.0",
      "model_name": "DescriptionStyleModel",
      "state": {
       "description_width": ""
      }
     },
     "e6b5cb8f04ef4843929cada4cb898ce6": {
      "model_module": "@jupyter-widgets/controls",
      "model_module_version": "1.4.0",
      "model_name": "LabelModel",
      "state": {
       "layout": "IPY_MODEL_a675c499d6d34caaac8de9cd9a620119",
       "style": "IPY_MODEL_77f5083ef6434ebabd4ffb9e26ef83d1",
       "value": "Notebook's name: "
      }
     },
     "e6bc74e10fa642c3ae5a363369de3286": {
      "model_module": "@jupyter-widgets/controls",
      "model_module_version": "1.4.0",
      "model_name": "DescriptionStyleModel",
      "state": {
       "description_width": ""
      }
     },
     "e708c9476cc14e4ca9c1704fa26cab63": {
      "model_module": "@jupyter-widgets/controls",
      "model_module_version": "1.4.0",
      "model_name": "ButtonModel",
      "state": {
       "button_style": "warning",
       "description": "Export Notebook to HTML",
       "layout": "IPY_MODEL_05145197797a419d94579cbc80e38995",
       "style": "IPY_MODEL_e37d10f91e8d411aa33473945da81132",
       "tooltip": "Click me"
      }
     },
     "e71bcc9796e3499cb06abc28ece026d2": {
      "model_module": "@jupyter-widgets/controls",
      "model_module_version": "1.4.0",
      "model_name": "ButtonStyleModel",
      "state": {}
     },
     "e738fac6e2ce4a16a5b3d7a352fb0cbe": {
      "model_module": "@jupyter-widgets/controls",
      "model_module_version": "1.4.0",
      "model_name": "TextModel",
      "state": {
       "layout": "IPY_MODEL_98693edfd33d445b82d6fac4abf409b2",
       "placeholder": "Type the notebook's name without file format",
       "style": "IPY_MODEL_0d89b376f9ed413e9cbb62279e83112c",
       "value": "laser-beam-alignment"
      }
     },
     "e74409a234cd43ddaf82adab7f0c2f7d": {
      "model_module": "@jupyter-widgets/base",
      "model_module_version": "1.1.0",
      "model_name": "LayoutModel",
      "state": {}
     },
     "e7607591b38841ba8219fca6fe3ba3b1": {
      "model_module": "@jupyter-widgets/base",
      "model_module_version": "1.1.0",
      "model_name": "LayoutModel",
      "state": {
       "width": "300px"
      }
     },
     "e7a36ab2cd864897b2b51b1728990c73": {
      "model_module": "@jupyter-widgets/base",
      "model_module_version": "1.1.0",
      "model_name": "LayoutModel",
      "state": {}
     },
     "e7b838bc8e344b7684425f8c1bd70f3a": {
      "model_module": "@jupyter-widgets/controls",
      "model_module_version": "1.4.0",
      "model_name": "DescriptionStyleModel",
      "state": {
       "description_width": "initial"
      }
     },
     "e7d305594fa64b349a4ed5f851ccc3af": {
      "model_module": "@jupyter-widgets/controls",
      "model_module_version": "1.4.0",
      "model_name": "ButtonStyleModel",
      "state": {}
     },
     "e818d92c7fd94a8db07740e7d2dfb5a9": {
      "model_module": "@jupyter-widgets/controls",
      "model_module_version": "1.4.0",
      "model_name": "DescriptionStyleModel",
      "state": {
       "description_width": ""
      }
     },
     "e8215106b9594ed8929f1d42b5f2c23b": {
      "model_module": "@jupyter-widgets/controls",
      "model_module_version": "1.4.0",
      "model_name": "DescriptionStyleModel",
      "state": {
       "description_width": "initial"
      }
     },
     "e82f73885620421e8b040a314f5ed56d": {
      "model_module": "@jupyter-widgets/controls",
      "model_module_version": "1.4.0",
      "model_name": "CheckboxModel",
      "state": {
       "description": "Print log in Notebook's cells",
       "disabled": false,
       "layout": "IPY_MODEL_1f0b07f2000e4061bf4c7505d165e852",
       "style": "IPY_MODEL_043aba9a036649f79a580247197f9ead",
       "value": false
      }
     },
     "e8465c2d6833464e9b53bef967f34468": {
      "model_module": "@jupyter-widgets/base",
      "model_module_version": "1.1.0",
      "model_name": "LayoutModel",
      "state": {
       "width": "300px"
      }
     },
     "e859e54a94d847efbc12c90df03585f2": {
      "model_module": "@jupyter-widgets/controls",
      "model_module_version": "1.4.0",
      "model_name": "ButtonModel",
      "state": {
       "button_style": "warning",
       "description": "Export Notebook to HTML",
       "layout": "IPY_MODEL_25636bc2afad4700a25017f92bb41428",
       "style": "IPY_MODEL_cfd4b03f68564f1ca442836e8bc13c97",
       "tooltip": "Click me"
      }
     },
     "e8e4d637edd845b2a904bed606c147ff": {
      "model_module": "@jupyter-widgets/controls",
      "model_module_version": "1.4.0",
      "model_name": "ButtonStyleModel",
      "state": {}
     },
     "e8fec60e50054548932581c687fa759c": {
      "model_module": "@jupyter-widgets/controls",
      "model_module_version": "1.4.0",
      "model_name": "VBoxModel",
      "state": {
       "children": [
        "IPY_MODEL_98ba58a6845040a9bfadf0f2ea5f5e60",
        "IPY_MODEL_63d5c10014b549c2ac7bf6742a64bed7"
       ],
       "layout": "IPY_MODEL_48926daa70314584aa992af4b6718ff5"
      }
     },
     "e922ba1f6f344cfbb839a173c7905621": {
      "model_module": "@jupyter-widgets/controls",
      "model_module_version": "1.4.0",
      "model_name": "DescriptionStyleModel",
      "state": {
       "description_width": "initial"
      }
     },
     "e941d20272ed4f43b0096b6753abc2dc": {
      "model_module": "@jupyter-widgets/controls",
      "model_module_version": "1.4.0",
      "model_name": "DescriptionStyleModel",
      "state": {
       "description_width": ""
      }
     },
     "e9630e7d183e4a6b8f5df5a84f3d1591": {
      "model_module": "@jupyter-widgets/controls",
      "model_module_version": "1.4.0",
      "model_name": "DescriptionStyleModel",
      "state": {
       "description_width": ""
      }
     },
     "e973b13feddd49d09b639395e05e39f6": {
      "buffers": [
       {
        "data": "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",
        "encoding": "base64",
        "path": [
         "value"
        ]
       }
      ],
      "model_module": "@jupyter-widgets/controls",
      "model_module_version": "1.4.0",
      "model_name": "ImageModel",
      "state": {
       "height": "35",
       "layout": "IPY_MODEL_47f78ee798d24f2791107c8d6a93ff40",
       "value": {},
       "width": "35"
      }
     },
     "e9a910246c534f81be3eb810bdd2c532": {
      "model_module": "@jupyter-widgets/controls",
      "model_module_version": "1.4.0",
      "model_name": "DescriptionStyleModel",
      "state": {
       "description_width": "initial"
      }
     },
     "e9b80d117d9a410cbea721495f67e4dd": {
      "model_module": "@jupyter-widgets/base",
      "model_module_version": "1.1.0",
      "model_name": "LayoutModel",
      "state": {
       "width": "300px"
      }
     },
     "ea0d6208c1a941d380ddda51d6f826d7": {
      "model_module": "@jupyter-widgets/output",
      "model_module_version": "1.0.0",
      "model_name": "OutputModel",
      "state": {
       "layout": "IPY_MODEL_e60f4a9cd85947298fefbebb0bd532bf"
      }
     },
     "ea218e852ace4ed4843fb471e6ab3e21": {
      "model_module": "@jupyter-widgets/base",
      "model_module_version": "1.1.0",
      "model_name": "LayoutModel",
      "state": {}
     },
     "eada98dd4d7d4d32b1a28c4461094455": {
      "model_module": "@jupyter-widgets/base",
      "model_module_version": "1.1.0",
      "model_name": "LayoutModel",
      "state": {}
     },
     "eafc766d3f4a481993552b956e5811fc": {
      "model_module": "@jupyter-widgets/base",
      "model_module_version": "1.1.0",
      "model_name": "LayoutModel",
      "state": {}
     },
     "eb75245418914e1e98064bda396a2c70": {
      "model_module": "@jupyter-widgets/base",
      "model_module_version": "1.1.0",
      "model_name": "LayoutModel",
      "state": {}
     },
     "eb7761c8d9ed444fb257746b3cba0fa5": {
      "model_module": "@jupyter-widgets/controls",
      "model_module_version": "1.4.0",
      "model_name": "DescriptionStyleModel",
      "state": {
       "description_width": ""
      }
     },
     "eb7c30607fb844c6a8a413d91c68a763": {
      "model_module": "@jupyter-widgets/controls",
      "model_module_version": "1.4.0",
      "model_name": "DescriptionStyleModel",
      "state": {
       "description_width": ""
      }
     },
     "ebc9eb1ece2145b89fee53725d1b0803": {
      "model_module": "@jupyter-widgets/base",
      "model_module_version": "1.1.0",
      "model_name": "LayoutModel",
      "state": {}
     },
     "ebe9b3e2f8334c3f9e6434ae180d6d3b": {
      "model_module": "@jupyter-widgets/output",
      "model_module_version": "1.0.0",
      "model_name": "OutputModel",
      "state": {
       "layout": "IPY_MODEL_7cbb138d85e54e18b003bec75b414a0e"
      }
     },
     "ec1dc46bbbab488b9035bc1062101382": {
      "model_module": "@jupyter-widgets/controls",
      "model_module_version": "1.4.0",
      "model_name": "ButtonStyleModel",
      "state": {}
     },
     "ec264a757ad145dbbef6d9ff38aed4d4": {
      "model_module": "@jupyter-widgets/output",
      "model_module_version": "1.0.0",
      "model_name": "OutputModel",
      "state": {
       "layout": "IPY_MODEL_0af3110bbb164993a00002aab39a0592"
      }
     },
     "ec358ff1888547728951512ba3715812": {
      "model_module": "@jupyter-widgets/base",
      "model_module_version": "1.1.0",
      "model_name": "LayoutModel",
      "state": {
       "width": "300px"
      }
     },
     "ec39d56c52644ae990ad93eff7c50943": {
      "model_module": "@jupyter-widgets/base",
      "model_module_version": "1.1.0",
      "model_name": "LayoutModel",
      "state": {}
     },
     "ec3e3e9c38e64b159f450839f4a1e028": {
      "model_module": "@jupyter-widgets/base",
      "model_module_version": "1.1.0",
      "model_name": "LayoutModel",
      "state": {}
     },
     "ec543257521c4cfb927119d3ee98a67f": {
      "model_module": "@jupyter-widgets/base",
      "model_module_version": "1.1.0",
      "model_name": "LayoutModel",
      "state": {}
     },
     "ec8c3b49606d46df93633af831a3aba8": {
      "model_module": "@jupyter-widgets/base",
      "model_module_version": "1.1.0",
      "model_name": "LayoutModel",
      "state": {}
     },
     "ecc78a018437446c808ee9ae0a948822": {
      "model_module": "@jupyter-widgets/controls",
      "model_module_version": "1.4.0",
      "model_name": "ButtonModel",
      "state": {
       "button_style": "warning",
       "description": "Export Notebook to Latex",
       "layout": "IPY_MODEL_75c9e8a6d5ba42d695e715f1367ab5fa",
       "style": "IPY_MODEL_c9adc011bb714d62a0a5d3b362f33a66",
       "tooltip": "Click me"
      }
     },
     "ececba162a49454d8c61a4ee02fe36b3": {
      "model_module": "@jupyter-widgets/controls",
      "model_module_version": "1.4.0",
      "model_name": "CheckboxModel",
      "state": {
       "description": "Print log in Notebook's cells",
       "disabled": false,
       "layout": "IPY_MODEL_2ded8816f7e24b4cb4f75567aeade77f",
       "style": "IPY_MODEL_0b3ad54ba07c4beb9d9fdce723da8646",
       "value": false
      }
     },
     "ed3f57cf0cd4461fa8e39e428396be2d": {
      "model_module": "@jupyter-widgets/controls",
      "model_module_version": "1.4.0",
      "model_name": "DescriptionStyleModel",
      "state": {
       "description_width": "initial"
      }
     },
     "ed75d8de540f4b039b22c440572bb7f2": {
      "model_module": "@jupyter-widgets/controls",
      "model_module_version": "1.4.0",
      "model_name": "DescriptionStyleModel",
      "state": {
       "description_width": "initial"
      }
     },
     "edae57c6c60c4ea29bd44c4933f68f78": {
      "model_module": "@jupyter-widgets/base",
      "model_module_version": "1.1.0",
      "model_name": "LayoutModel",
      "state": {}
     },
     "edbe6e1cfd164c16b4624f308286defb": {
      "model_module": "@jupyter-widgets/controls",
      "model_module_version": "1.4.0",
      "model_name": "TextareaModel",
      "state": {
       "layout": "IPY_MODEL_f9cc48c75865420d94e32d2d4de5d474",
       "placeholder": "Example: IOC:m1 IOC:m3 LNLS:TEST:motor_g3",
       "style": "IPY_MODEL_301edbe6f4a34b639494b10e8f30daf5"
      }
     },
     "ee0bcb51917740309fa37097ea0ae5ae": {
      "model_module": "@jupyter-widgets/base",
      "model_module_version": "1.1.0",
      "model_name": "LayoutModel",
      "state": {
       "width": "300px"
      }
     },
     "ee821d08163b4433b2d27a0df8db7f7d": {
      "model_module": "@jupyter-widgets/base",
      "model_module_version": "1.1.0",
      "model_name": "LayoutModel",
      "state": {}
     },
     "eec4250f030b46a39646a5233e7795d8": {
      "model_module": "@jupyter-widgets/controls",
      "model_module_version": "1.4.0",
      "model_name": "BoxModel",
      "state": {
       "children": [
        "IPY_MODEL_c118fefecd41422098f7ef0a892036ea"
       ],
       "layout": "IPY_MODEL_ff8b252f78cb4872a5c2ae98a0c288b9"
      }
     },
     "eede9f6559da4cd69a63ae0827773480": {
      "model_module": "@jupyter-widgets/controls",
      "model_module_version": "1.4.0",
      "model_name": "ButtonModel",
      "state": {
       "button_style": "success",
       "description": "Start Manual Alignment",
       "layout": "IPY_MODEL_bf274a3ccb544a7b9aee65153c821db8",
       "style": "IPY_MODEL_6f132f1f978f47548f2fa7342b27378b",
       "tooltip": "Click me"
      }
     },
     "ef33ad69fcbd4d45bbb518f22658ffa3": {
      "model_module": "@jupyter-widgets/controls",
      "model_module_version": "1.4.0",
      "model_name": "HBoxModel",
      "state": {
       "children": [
        "IPY_MODEL_9cf1db6f2a2742fda99b00d3b59a3291",
        "IPY_MODEL_596b818e6f34452d8743816954ff111b"
       ],
       "layout": "IPY_MODEL_7d64429e1e934d83b89c2bc9de6c5e30"
      }
     },
     "ef42b91de11c4e9983857991f598cafe": {
      "model_module": "@jupyter-widgets/controls",
      "model_module_version": "1.4.0",
      "model_name": "LabelModel",
      "state": {
       "layout": "IPY_MODEL_26c258402eb74caa9317854b02f6d874",
       "style": "IPY_MODEL_58cce8e6c73643b7afa1ee3b8512af7a",
       "value": "No motors initilized to be showed."
      }
     },
     "ef8f512e791846b3aa3a5ddaf5fd8c70": {
      "model_module": "@jupyter-widgets/base",
      "model_module_version": "1.1.0",
      "model_name": "LayoutModel",
      "state": {}
     },
     "efaa3e980937482dbc3bb5687baf9a65": {
      "model_module": "@jupyter-widgets/output",
      "model_module_version": "1.0.0",
      "model_name": "OutputModel",
      "state": {
       "layout": "IPY_MODEL_2d20a56d13f74698a340dd591ca5a0ff"
      }
     },
     "f03ad3638d454eaa98d928a799681998": {
      "model_module": "@jupyter-widgets/base",
      "model_module_version": "1.1.0",
      "model_name": "LayoutModel",
      "state": {
       "width": "300px"
      }
     },
     "f11cd246f4c24df895ecd7af89bb551e": {
      "model_module": "@jupyter-widgets/base",
      "model_module_version": "1.1.0",
      "model_name": "LayoutModel",
      "state": {
       "width": "300px"
      }
     },
     "f12ab9a0d2b243079e9b4040411395d1": {
      "model_module": "@jupyter-widgets/controls",
      "model_module_version": "1.4.0",
      "model_name": "LabelModel",
      "state": {
       "layout": "IPY_MODEL_68f5b58ebd3a4c348d62559490eec897",
       "style": "IPY_MODEL_2503c049f7544ab7952195591f56282f",
       "value": "Notebook's name: "
      }
     },
     "f174ec48e9934ea3881174b1d5f40b1a": {
      "model_module": "@jupyter-widgets/base",
      "model_module_version": "1.1.0",
      "model_name": "LayoutModel",
      "state": {}
     },
     "f1839bc3243e4acd861d72412c0856fc": {
      "model_module": "@jupyter-widgets/base",
      "model_module_version": "1.1.0",
      "model_name": "LayoutModel",
      "state": {}
     },
     "f1acc20678934113a24989fb3b3ac835": {
      "model_module": "@jupyter-widgets/output",
      "model_module_version": "1.0.0",
      "model_name": "OutputModel",
      "state": {
       "layout": "IPY_MODEL_cb85033ac91849ad850f126c8d556e03",
       "outputs": [
        {
         "data": {
          "application/javascript": "IPython.notebook.save_checkpoint();",
          "text/plain": "<IPython.core.display.Javascript object>"
         },
         "metadata": {},
         "output_type": "display_data"
        },
        {
         "data": {
          "application/javascript": "IPython.notebook.save_checkpoint();",
          "text/plain": "<IPython.core.display.Javascript object>"
         },
         "metadata": {},
         "output_type": "display_data"
        },
        {
         "data": {
          "application/javascript": "IPython.notebook.save_checkpoint();",
          "text/plain": "<IPython.core.display.Javascript object>"
         },
         "metadata": {},
         "output_type": "display_data"
        },
        {
         "data": {
          "application/javascript": "IPython.notebook.save_checkpoint();",
          "text/plain": "<IPython.core.display.Javascript object>"
         },
         "metadata": {},
         "output_type": "display_data"
        }
       ]
      }
     },
     "f1efbe3befbb4153a576ffd8cf13270f": {
      "model_module": "@jupyter-widgets/base",
      "model_module_version": "1.1.0",
      "model_name": "LayoutModel",
      "state": {}
     },
     "f2002220ec114e48a92a117468ee89d9": {
      "model_module": "@jupyter-widgets/base",
      "model_module_version": "1.1.0",
      "model_name": "LayoutModel",
      "state": {}
     },
     "f212f3d08ba544f483254e03bc22b0f7": {
      "model_module": "@jupyter-widgets/controls",
      "model_module_version": "1.4.0",
      "model_name": "VBoxModel",
      "state": {
       "children": [
        "IPY_MODEL_b68b00cd9f8b480697776883ea66aabc",
        "IPY_MODEL_9cd8f57d61fd4d5383a9beecabd18f3c"
       ],
       "layout": "IPY_MODEL_b534e8e1a6f7452ca6f48cf6397ccece"
      }
     },
     "f23e4eb018a948329165cc6374ed1e87": {
      "model_module": "@jupyter-widgets/controls",
      "model_module_version": "1.4.0",
      "model_name": "LabelModel",
      "state": {
       "layout": "IPY_MODEL_5d722518d4704921aad880f8ffffea9c",
       "style": "IPY_MODEL_3b262cdc9ce446c4911bf2e2a679eedd",
       "value": "Notebook's name: "
      }
     },
     "f274a6e5de11481e88ec31a63979a9a3": {
      "model_module": "@jupyter-widgets/controls",
      "model_module_version": "1.4.0",
      "model_name": "DescriptionStyleModel",
      "state": {
       "description_width": "initial"
      }
     },
     "f2d8cd95a4574ce2b18c9850bbe33283": {
      "model_module": "@jupyter-widgets/output",
      "model_module_version": "1.0.0",
      "model_name": "OutputModel",
      "state": {
       "layout": "IPY_MODEL_6ce426806ec445ba9a3e67bfe4328d90"
      }
     },
     "f338278eed714def9f125cbfd1786912": {
      "model_module": "@jupyter-widgets/base",
      "model_module_version": "1.1.0",
      "model_name": "LayoutModel",
      "state": {
       "height": "40px",
       "width": "40px"
      }
     },
     "f34ccb6bc17a49a3955b33882f0d2513": {
      "model_module": "@jupyter-widgets/controls",
      "model_module_version": "1.4.0",
      "model_name": "TextModel",
      "state": {
       "layout": "IPY_MODEL_212e05c595e1494a86fa6cbba9998266",
       "placeholder": "Type the notebook's name without file format",
       "style": "IPY_MODEL_1c1b150f71504fa99e96e492a43617b9"
      }
     },
     "f35d1d212ff840e9898d96f5cf286996": {
      "model_module": "@jupyter-widgets/controls",
      "model_module_version": "1.4.0",
      "model_name": "DescriptionStyleModel",
      "state": {
       "description_width": ""
      }
     },
     "f38d6d7a27d346d290cf65eaf5e86bb5": {
      "model_module": "@jupyter-widgets/base",
      "model_module_version": "1.1.0",
      "model_name": "LayoutModel",
      "state": {}
     },
     "f3958c072333460385b49f055b28544d": {
      "model_module": "@jupyter-widgets/controls",
      "model_module_version": "1.4.0",
      "model_name": "TextModel",
      "state": {
       "layout": "IPY_MODEL_fff4c9b146194fffb255d442098cb9df",
       "placeholder": "Type the notebook's name without file format",
       "style": "IPY_MODEL_b5e579430639472a8ced0d1783b18ed0",
       "value": "laser-beam-alignment"
      }
     },
     "f39d434bea834870b84035f9d84b9ac3": {
      "model_module": "@jupyter-widgets/controls",
      "model_module_version": "1.4.0",
      "model_name": "DescriptionStyleModel",
      "state": {
       "description_width": ""
      }
     },
     "f3ac0077c7a040d38c6e1e0021f54256": {
      "model_module": "@jupyter-widgets/base",
      "model_module_version": "1.1.0",
      "model_name": "LayoutModel",
      "state": {}
     },
     "f3e98714362a47c4b670dcac012847eb": {
      "model_module": "@jupyter-widgets/output",
      "model_module_version": "1.0.0",
      "model_name": "OutputModel",
      "state": {
       "layout": "IPY_MODEL_fc4ac2c873c04ea5b248c235eb2261f2"
      }
     },
     "f407ed9bbef24029bf2084ed0266ed14": {
      "model_module": "@jupyter-widgets/controls",
      "model_module_version": "1.4.0",
      "model_name": "CheckboxModel",
      "state": {
       "description": "Print log in Notebook's cells",
       "disabled": false,
       "layout": "IPY_MODEL_ea218e852ace4ed4843fb471e6ab3e21",
       "style": "IPY_MODEL_c442a5f834464e4498fe82653a6d5802",
       "value": false
      }
     },
     "f437fac4662b4209aee56e23e96317cf": {
      "model_module": "@jupyter-widgets/controls",
      "model_module_version": "1.4.0",
      "model_name": "DescriptionStyleModel",
      "state": {
       "description_width": ""
      }
     },
     "f443011b1768499a8f223dea19841ca1": {
      "model_module": "@jupyter-widgets/controls",
      "model_module_version": "1.4.0",
      "model_name": "ButtonModel",
      "state": {
       "button_style": "success",
       "description": "Start Motor Initializaton",
       "layout": "IPY_MODEL_ec358ff1888547728951512ba3715812",
       "style": "IPY_MODEL_b219ce6333eb4ebebcc39b31ff41269e",
       "tooltip": "Click me"
      }
     },
     "f44d8de51bd84510bd71d32a30655f7a": {
      "model_module": "@jupyter-widgets/base",
      "model_module_version": "1.1.0",
      "model_name": "LayoutModel",
      "state": {
       "width": "300px"
      }
     },
     "f4706630632c4c5e9ee22cf07187a1a3": {
      "model_module": "@jupyter-widgets/controls",
      "model_module_version": "1.4.0",
      "model_name": "HBoxModel",
      "state": {
       "children": [
        "IPY_MODEL_4d8ea6a5e8c6458b99d4346725a7c9de",
        "IPY_MODEL_1bbdbb3e47a948809521ffd6a09bef8e"
       ],
       "layout": "IPY_MODEL_7ee4926a60c1463398cd2cb94cde5de7"
      }
     },
     "f4dcd876a5b048f2b6dcdf6ae2d12fdd": {
      "model_module": "@jupyter-widgets/base",
      "model_module_version": "1.1.0",
      "model_name": "LayoutModel",
      "state": {}
     },
     "f5557d306caa41e7a684ed79fd9668af": {
      "model_module": "@jupyter-widgets/controls",
      "model_module_version": "1.4.0",
      "model_name": "ButtonStyleModel",
      "state": {}
     },
     "f58c6d56ed864056963f4928f0cb8ef0": {
      "model_module": "@jupyter-widgets/base",
      "model_module_version": "1.1.0",
      "model_name": "LayoutModel",
      "state": {
       "width": "300px"
      }
     },
     "f5adbb4b18af4b6f9fc0b41855107a74": {
      "model_module": "@jupyter-widgets/controls",
      "model_module_version": "1.4.0",
      "model_name": "ButtonModel",
      "state": {
       "button_style": "success",
       "description": "Start Manual Alignment",
       "layout": "IPY_MODEL_3ca246962cdd4d6cac39ae54a88bf9e7",
       "style": "IPY_MODEL_278cc65ce36643ca893981b4702ee786",
       "tooltip": "Click me"
      }
     },
     "f5af86a8d0954f7bb99ad59e68d836a0": {
      "model_module": "@jupyter-widgets/base",
      "model_module_version": "1.1.0",
      "model_name": "LayoutModel",
      "state": {}
     },
     "f5e8001bb8314d4b961913a462211d01": {
      "model_module": "@jupyter-widgets/controls",
      "model_module_version": "1.4.0",
      "model_name": "VBoxModel",
      "state": {
       "children": [
        "IPY_MODEL_08fe64b00f42418b97f10c304fbf34fd"
       ],
       "layout": "IPY_MODEL_51505481e5bf47e29e72e9b7ccfbf07c"
      }
     },
     "f60f9dd0881c4fcb9b205365efdb625c": {
      "model_module": "@jupyter-widgets/controls",
      "model_module_version": "1.4.0",
      "model_name": "ButtonStyleModel",
      "state": {}
     },
     "f62987b9729b4f6c903087e28041cd6d": {
      "model_module": "@jupyter-widgets/controls",
      "model_module_version": "1.4.0",
      "model_name": "DropdownModel",
      "state": {
       "_options_labels": [
        "Plot after ends with PyQt",
        "Plot after ends with Plotly",
        "Live Plot"
       ],
       "disabled": true,
       "index": 1,
       "layout": "IPY_MODEL_09fcfd38c4b04940b7f81c22dc75a5e4",
       "style": "IPY_MODEL_a1ccd777995e4f699b53c160884689e5"
      }
     },
     "f62e3aadb20345fc989e0d55f5672614": {
      "model_module": "@jupyter-widgets/controls",
      "model_module_version": "1.4.0",
      "model_name": "DescriptionStyleModel",
      "state": {
       "description_width": ""
      }
     },
     "f63a32f27fd24a96ad7d8c36cb019c3d": {
      "model_module": "@jupyter-widgets/base",
      "model_module_version": "1.1.0",
      "model_name": "LayoutModel",
      "state": {}
     },
     "f652ef1c65644aaba0e0789b36f8cc5b": {
      "model_module": "@jupyter-widgets/base",
      "model_module_version": "1.1.0",
      "model_name": "LayoutModel",
      "state": {}
     },
     "f6895d7511824c1a9247571fff1e53d6": {
      "model_module": "@jupyter-widgets/controls",
      "model_module_version": "1.4.0",
      "model_name": "CheckboxModel",
      "state": {
       "description": "Print log in Notebook's cells",
       "disabled": false,
       "layout": "IPY_MODEL_1652a7e3bff84d5a92592bb629e4f175",
       "style": "IPY_MODEL_e9a910246c534f81be3eb810bdd2c532",
       "value": false
      }
     },
     "f6ae2b6408c7425899b9d760572b8745": {
      "model_module": "@jupyter-widgets/base",
      "model_module_version": "1.1.0",
      "model_name": "LayoutModel",
      "state": {}
     },
     "f6b27c75664b4f058d951748a69ef0a4": {
      "model_module": "@jupyter-widgets/base",
      "model_module_version": "1.1.0",
      "model_name": "LayoutModel",
      "state": {}
     },
     "f6b40f4e85184e94a1aae78e4e41ee42": {
      "model_module": "@jupyter-widgets/controls",
      "model_module_version": "1.4.0",
      "model_name": "TextModel",
      "state": {
       "layout": "IPY_MODEL_5f2cc29ce86945b98e9434efc1dc74aa",
       "placeholder": "Type the notebook's name without file format",
       "style": "IPY_MODEL_f39d434bea834870b84035f9d84b9ac3"
      }
     },
     "f6ca47edf04049d7afd62d38d64487e2": {
      "model_module": "@jupyter-widgets/controls",
      "model_module_version": "1.4.0",
      "model_name": "TextareaModel",
      "state": {
       "layout": "IPY_MODEL_9443924265b64060a92e7e32e21b02ab",
       "placeholder": "Example: IOC:m1 IOC:m3 LNLS:TEST:motor_g3",
       "style": "IPY_MODEL_140ddef60ed8451e913ad9708292c425"
      }
     },
     "f6cfa88a51be444e9d46ad3d51d50d30": {
      "model_module": "@jupyter-widgets/base",
      "model_module_version": "1.1.0",
      "model_name": "LayoutModel",
      "state": {
       "width": "300px"
      }
     },
     "f6e40e5b019c418ea5a5ac4304055572": {
      "model_module": "@jupyter-widgets/controls",
      "model_module_version": "1.4.0",
      "model_name": "TextareaModel",
      "state": {
       "layout": "IPY_MODEL_c3109e06badf4e64ab18c896b21cf871",
       "placeholder": "Example: IOC:m1 IOC:m3 LNLS:TEST:motor_g3",
       "style": "IPY_MODEL_17b05cc0bcad4c789c5d1feb2ad3f7c2"
      }
     },
     "f71009735d7e4674a29b1efb1bb55d18": {
      "model_module": "@jupyter-widgets/controls",
      "model_module_version": "1.4.0",
      "model_name": "VBoxModel",
      "state": {
       "children": [
        "IPY_MODEL_babd38442c8b40af95f544e4a1dce514"
       ],
       "layout": "IPY_MODEL_58034a65142745deb540e7a2d3857958"
      }
     },
     "f76dbf51ceda4ed5a26470d4b3cb3595": {
      "model_module": "@jupyter-widgets/base",
      "model_module_version": "1.1.0",
      "model_name": "LayoutModel",
      "state": {}
     },
     "f76e1f1f08fc42fb80a0ba717a397dc6": {
      "model_module": "@jupyter-widgets/base",
      "model_module_version": "1.1.0",
      "model_name": "LayoutModel",
      "state": {}
     },
     "f7a7c21204864ad6a2ef60d7d8f5a5ec": {
      "model_module": "@jupyter-widgets/base",
      "model_module_version": "1.1.0",
      "model_name": "LayoutModel",
      "state": {}
     },
     "f7b62da52a9841ac9010039046c0be67": {
      "model_module": "@jupyter-widgets/controls",
      "model_module_version": "1.4.0",
      "model_name": "CheckboxModel",
      "state": {
       "description": "Print log in Notebook's cells",
       "disabled": false,
       "layout": "IPY_MODEL_19d10b3136f64f129df64730b054c5a0",
       "style": "IPY_MODEL_85495065405440138789d07a4af660e9",
       "value": false
      }
     },
     "f7d4f6dd33f449ea8cb335ca21431e60": {
      "model_module": "@jupyter-widgets/base",
      "model_module_version": "1.1.0",
      "model_name": "LayoutModel",
      "state": {}
     },
     "f875fc683bfa48789a84e8f0c09826a2": {
      "model_module": "@jupyter-widgets/base",
      "model_module_version": "1.1.0",
      "model_name": "LayoutModel",
      "state": {}
     },
     "f8b8629400104ea5b5fc65b9ae943f3b": {
      "buffers": [
       {
        "data": "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",
        "encoding": "base64",
        "path": [
         "value"
        ]
       }
      ],
      "model_module": "@jupyter-widgets/controls",
      "model_module_version": "1.4.0",
      "model_name": "ImageModel",
      "state": {
       "height": "35",
       "layout": "IPY_MODEL_2069c10a39e6497ca41cf8589d6affe5",
       "value": {},
       "width": "35"
      }
     },
     "f8f712751588437da9b50b4ce9d10a1b": {
      "model_module": "@jupyter-widgets/base",
      "model_module_version": "1.1.0",
      "model_name": "LayoutModel",
      "state": {}
     },
     "f95ab07abb504de982fcc64a4bc41492": {
      "model_module": "@jupyter-widgets/controls",
      "model_module_version": "1.4.0",
      "model_name": "DescriptionStyleModel",
      "state": {
       "description_width": ""
      }
     },
     "f96e8445e6684a2781a3e8d0e51dfd09": {
      "model_module": "@jupyter-widgets/output",
      "model_module_version": "1.0.0",
      "model_name": "OutputModel",
      "state": {
       "layout": "IPY_MODEL_eb75245418914e1e98064bda396a2c70"
      }
     },
     "f9a16e15615d4b22a4c4980dae2389f3": {
      "model_module": "@jupyter-widgets/controls",
      "model_module_version": "1.4.0",
      "model_name": "VBoxModel",
      "state": {
       "children": [
        "IPY_MODEL_f6e40e5b019c418ea5a5ac4304055572",
        "IPY_MODEL_ff3957f0eadd4c019836cc3bdbbee283"
       ],
       "layout": "IPY_MODEL_83a96f22525942f08a459528218acc18"
      }
     },
     "f9b737c6469b40a5bf8654dc93c63e2c": {
      "model_module": "@jupyter-widgets/controls",
      "model_module_version": "1.4.0",
      "model_name": "ButtonModel",
      "state": {
       "button_style": "success",
       "description": "Start Manual Alignment",
       "layout": "IPY_MODEL_4edbd200d9804170a93715bb6499dc91",
       "style": "IPY_MODEL_bb1f75056ff24f828cc6aef596c88f89",
       "tooltip": "Click me"
      }
     },
     "f9cc48c75865420d94e32d2d4de5d474": {
      "model_module": "@jupyter-widgets/base",
      "model_module_version": "1.1.0",
      "model_name": "LayoutModel",
      "state": {}
     },
     "f9e4e1c8885542dfbf98a3971c7a3897": {
      "model_module": "@jupyter-widgets/base",
      "model_module_version": "1.1.0",
      "model_name": "LayoutModel",
      "state": {}
     },
     "f9eb99532aaf4432a2abdbe29e815913": {
      "model_module": "@jupyter-widgets/controls",
      "model_module_version": "1.4.0",
      "model_name": "DescriptionStyleModel",
      "state": {
       "description_width": "initial"
      }
     },
     "f9ef9eb88f1948ee8e8c9f7a29ad4e40": {
      "model_module": "@jupyter-widgets/base",
      "model_module_version": "1.1.0",
      "model_name": "LayoutModel",
      "state": {}
     },
     "fa163f3ab5ea40e3a84c13613de8af94": {
      "model_module": "@jupyter-widgets/controls",
      "model_module_version": "1.4.0",
      "model_name": "VBoxModel",
      "state": {
       "children": [
        "IPY_MODEL_9126c4d0e25640c1b35141a1d2304955",
        "IPY_MODEL_9685b329175e47d6adf01e3220e4fdcc"
       ],
       "layout": "IPY_MODEL_d7d0e0e86f494855880c8da030205d30"
      }
     },
     "fa1a0b6d9edc41df92d1487b26c64803": {
      "model_module": "@jupyter-widgets/controls",
      "model_module_version": "1.4.0",
      "model_name": "CheckboxModel",
      "state": {
       "description": "Plot with PyQtGraph after scan ends: ",
       "disabled": false,
       "layout": "IPY_MODEL_768ef98fb24a4c088a6854236c818cbc",
       "style": "IPY_MODEL_f9eb99532aaf4432a2abdbe29e815913",
       "value": true
      }
     },
     "fa3836f84eb4400d99b6789e334b012d": {
      "model_module": "@jupyter-widgets/base",
      "model_module_version": "1.1.0",
      "model_name": "LayoutModel",
      "state": {}
     },
     "fa3a50a0380746198003d622e8f42ff7": {
      "model_module": "@jupyter-widgets/base",
      "model_module_version": "1.1.0",
      "model_name": "LayoutModel",
      "state": {
       "width": "300px"
      }
     },
     "fa3b4eeff38247f5acb9477ffac9cfdd": {
      "model_module": "@jupyter-widgets/controls",
      "model_module_version": "1.4.0",
      "model_name": "DropdownModel",
      "state": {
       "_options_labels": [
        "Plot after ends with PyQt",
        "Plot after ends with Plotly",
        "Live Plot"
       ],
       "index": 0,
       "layout": "IPY_MODEL_73b15679c8fe4952b31aada3ceda76e8",
       "style": "IPY_MODEL_a610cdecb0534c31af273794cbc01280"
      }
     },
     "fa5abb7dfed54d08991559e60ea3e0df": {
      "model_module": "@jupyter-widgets/controls",
      "model_module_version": "1.4.0",
      "model_name": "ButtonStyleModel",
      "state": {}
     },
     "fa66a1d49a94468c984b33287c391741": {
      "model_module": "@jupyter-widgets/base",
      "model_module_version": "1.1.0",
      "model_name": "LayoutModel",
      "state": {
       "height": "40px",
       "width": "40px"
      }
     },
     "fa75e6b90f3440ebbae604413dfa6b4b": {
      "model_module": "@jupyter-widgets/controls",
      "model_module_version": "1.4.0",
      "model_name": "LabelModel",
      "state": {
       "layout": "IPY_MODEL_19c5515c546e41cd9e320845f0093a60",
       "style": "IPY_MODEL_9ded1f0e1939452daab413b5f27efc97",
       "value": "Notebook's name: "
      }
     },
     "fa8fcecd3e3a4eca95a42158ea2479a9": {
      "model_module": "@jupyter-widgets/base",
      "model_module_version": "1.1.0",
      "model_name": "LayoutModel",
      "state": {
       "width": "300px"
      }
     },
     "faafaeb702f24a71b5e4b61a95bf9672": {
      "model_module": "@jupyter-widgets/controls",
      "model_module_version": "1.4.0",
      "model_name": "DescriptionStyleModel",
      "state": {
       "description_width": ""
      }
     },
     "fab50c4a8d3b4eafa82c194adf801373": {
      "model_module": "@jupyter-widgets/controls",
      "model_module_version": "1.4.0",
      "model_name": "DescriptionStyleModel",
      "state": {
       "description_width": ""
      }
     },
     "fabbc68a8b4f45c988a5c9f95a6f1122": {
      "model_module": "@jupyter-widgets/output",
      "model_module_version": "1.0.0",
      "model_name": "OutputModel",
      "state": {
       "layout": "IPY_MODEL_53a6687288624a9eb1c17ad91e72714a",
       "outputs": [
        {
         "data": {
          "application/javascript": "IPython.notebook.save_checkpoint();",
          "text/plain": "<IPython.core.display.Javascript object>"
         },
         "metadata": {},
         "output_type": "display_data"
        },
        {
         "data": {
          "application/javascript": "IPython.notebook.save_checkpoint();",
          "text/plain": "<IPython.core.display.Javascript object>"
         },
         "metadata": {},
         "output_type": "display_data"
        }
       ]
      }
     },
     "faf7c15bcb47427ca54e91d2361b8118": {
      "model_module": "@jupyter-widgets/controls",
      "model_module_version": "1.4.0",
      "model_name": "VBoxModel",
      "state": {
       "children": [
        "IPY_MODEL_af89a5d4dc4e4063b29ec36726961db3"
       ],
       "layout": "IPY_MODEL_16a4d79522224533acf9b9cf77f11626"
      }
     },
     "fb0b2da3463c45a3a531707ae03d7d0f": {
      "model_module": "@jupyter-widgets/output",
      "model_module_version": "1.0.0",
      "model_name": "OutputModel",
      "state": {
       "layout": "IPY_MODEL_57e36147c4a74ffd9b344e57f2121600"
      }
     },
     "fb4fade10e4f444a8ab411d07e441117": {
      "model_module": "@jupyter-widgets/base",
      "model_module_version": "1.1.0",
      "model_name": "LayoutModel",
      "state": {
       "width": "300px"
      }
     },
     "fb4fd6f654fe427b9b9570dc21d59c97": {
      "model_module": "@jupyter-widgets/controls",
      "model_module_version": "1.4.0",
      "model_name": "ButtonModel",
      "state": {
       "button_style": "success",
       "description": "Start Scanning Plot",
       "layout": "IPY_MODEL_c42c7690404d45e395bd1a96f10f8a85",
       "style": "IPY_MODEL_5f7f17fa8ffb4ab59b328a6076a6c842",
       "tooltip": "Click me"
      }
     },
     "fb6af006d7f24941a92ee945520f6179": {
      "model_module": "@jupyter-widgets/base",
      "model_module_version": "1.1.0",
      "model_name": "LayoutModel",
      "state": {}
     },
     "fb8d2a448f5448f3bac9456a80be973a": {
      "model_module": "@jupyter-widgets/controls",
      "model_module_version": "1.4.0",
      "model_name": "DescriptionStyleModel",
      "state": {
       "description_width": ""
      }
     },
     "fc0de187c6cb434bb76818a50db4f9bc": {
      "model_module": "@jupyter-widgets/controls",
      "model_module_version": "1.4.0",
      "model_name": "ButtonModel",
      "state": {
       "button_style": "danger",
       "description": "Stop Scanning Plot",
       "layout": "IPY_MODEL_0f0d88279adf41bb922ab76a1de95003",
       "style": "IPY_MODEL_5c38be98c6dd4bd5bb64259ce3d3eb81",
       "tooltip": "Click me"
      }
     },
     "fc17aa78e89a4fb08d79c4c111e93cbc": {
      "model_module": "@jupyter-widgets/controls",
      "model_module_version": "1.4.0",
      "model_name": "ButtonModel",
      "state": {
       "button_style": "success",
       "description": "Start Motor Initializaton",
       "layout": "IPY_MODEL_4b1cebc4a3c8436893e69594f4477f56",
       "style": "IPY_MODEL_ae7762b1ab604578a466bf7c329a80ba",
       "tooltip": "Click me"
      }
     },
     "fc18362788e244458b3423551ac85bcf": {
      "model_module": "@jupyter-widgets/controls",
      "model_module_version": "1.4.0",
      "model_name": "BoxModel",
      "state": {
       "layout": "IPY_MODEL_bb7533d5e70548f0bda63821a7b290de"
      }
     },
     "fc301baf37d348078c90418d55de70a4": {
      "model_module": "@jupyter-widgets/controls",
      "model_module_version": "1.4.0",
      "model_name": "ButtonStyleModel",
      "state": {}
     },
     "fc45f5c83f2e470daf5e21f6aaf15441": {
      "model_module": "@jupyter-widgets/base",
      "model_module_version": "1.1.0",
      "model_name": "LayoutModel",
      "state": {}
     },
     "fc4ac2c873c04ea5b248c235eb2261f2": {
      "model_module": "@jupyter-widgets/base",
      "model_module_version": "1.1.0",
      "model_name": "LayoutModel",
      "state": {}
     },
     "fc7406f5838d43379015940e8241919e": {
      "model_module": "@jupyter-widgets/controls",
      "model_module_version": "1.4.0",
      "model_name": "ButtonStyleModel",
      "state": {}
     },
     "fc75357e0f284cd7a570a15289929afe": {
      "model_module": "@jupyter-widgets/base",
      "model_module_version": "1.1.0",
      "model_name": "LayoutModel",
      "state": {}
     },
     "fc8fb82a9b7747a39e378164be6a5518": {
      "model_module": "@jupyter-widgets/controls",
      "model_module_version": "1.4.0",
      "model_name": "ButtonModel",
      "state": {
       "button_style": "warning",
       "description": "Export Notebook to Latex",
       "layout": "IPY_MODEL_e1987667c666440e86dd94913960c770",
       "style": "IPY_MODEL_42800dbddfab4571b0c55a450806a7bf",
       "tooltip": "Click me"
      }
     },
     "fc95eaa4fdc842ad8230bdcf50962be0": {
      "model_module": "@jupyter-widgets/base",
      "model_module_version": "1.1.0",
      "model_name": "LayoutModel",
      "state": {}
     },
     "fca38fc3392647a8b30f501371bf720f": {
      "model_module": "@jupyter-widgets/controls",
      "model_module_version": "1.4.0",
      "model_name": "ButtonModel",
      "state": {
       "button_style": "success",
       "description": "Start Manual Alignment",
       "layout": "IPY_MODEL_393a33ba3e73478d875bbd11a81c976e",
       "style": "IPY_MODEL_5f7f8624f77d43cd96405f9204fd7904",
       "tooltip": "Click me"
      }
     },
     "fd5617112ec644a6b7ef77a79c637cd2": {
      "model_module": "@jupyter-widgets/output",
      "model_module_version": "1.0.0",
      "model_name": "OutputModel",
      "state": {
       "layout": "IPY_MODEL_5b768785cbc14d2faf57ed7d9b4d151a"
      }
     },
     "fd6d4b61bec04a0089b99e9a0be44457": {
      "model_module": "@jupyter-widgets/base",
      "model_module_version": "1.1.0",
      "model_name": "LayoutModel",
      "state": {}
     },
     "fd8d0649aae14112a041f36d91cb19f1": {
      "model_module": "@jupyter-widgets/base",
      "model_module_version": "1.1.0",
      "model_name": "LayoutModel",
      "state": {
       "width": "300px"
      }
     },
     "fde13901f5944e12aa39761d1934d7ff": {
      "model_module": "@jupyter-widgets/base",
      "model_module_version": "1.1.0",
      "model_name": "LayoutModel",
      "state": {}
     },
     "fdedd8c5d5a140b09b0429696fc68c83": {
      "model_module": "@jupyter-widgets/controls",
      "model_module_version": "1.4.0",
      "model_name": "TextModel",
      "state": {
       "layout": "IPY_MODEL_0b83bb37758e48ea86ab41d579e34f87",
       "placeholder": "Type the notebook's name without file format",
       "style": "IPY_MODEL_702105d5467146af85ce5ef547e99ba3",
       "value": "laser-beam-alignment"
      }
     },
     "fe144caf58f94a36a2998adb0dbd154c": {
      "model_module": "@jupyter-widgets/controls",
      "model_module_version": "1.4.0",
      "model_name": "ButtonStyleModel",
      "state": {}
     },
     "fe305253f1e44bfda53ce91d3ba9c4cf": {
      "model_module": "@jupyter-widgets/base",
      "model_module_version": "1.1.0",
      "model_name": "LayoutModel",
      "state": {}
     },
     "fe68ee5e2349450f93656e5e7f361838": {
      "model_module": "@jupyter-widgets/base",
      "model_module_version": "1.1.0",
      "model_name": "LayoutModel",
      "state": {}
     },
     "fe7272e5e3c2411eb2df55b1e562cfc5": {
      "model_module": "@jupyter-widgets/controls",
      "model_module_version": "1.4.0",
      "model_name": "DescriptionStyleModel",
      "state": {
       "description_width": "initial"
      }
     },
     "fe79b1f7cd154711bcdafe8c2fd866fa": {
      "model_module": "@jupyter-widgets/output",
      "model_module_version": "1.0.0",
      "model_name": "OutputModel",
      "state": {
       "layout": "IPY_MODEL_38aa36c57c5c47d8b173a3d8c771ab81",
       "outputs": [
        {
         "data": {
          "application/javascript": "IPython.notebook.save_checkpoint();",
          "text/plain": "<IPython.core.display.Javascript object>"
         },
         "metadata": {},
         "output_type": "display_data"
        }
       ]
      }
     },
     "fe7ed09ea1c8448f985efa21ebd8ec8b": {
      "model_module": "@jupyter-widgets/controls",
      "model_module_version": "1.4.0",
      "model_name": "ButtonStyleModel",
      "state": {}
     },
     "fe9c295d01eb4cf7b092156f2f2889a2": {
      "model_module": "@jupyter-widgets/base",
      "model_module_version": "1.1.0",
      "model_name": "LayoutModel",
      "state": {}
     },
     "feaa2606cf784aa097fc08a515121a5a": {
      "model_module": "@jupyter-widgets/base",
      "model_module_version": "1.1.0",
      "model_name": "LayoutModel",
      "state": {}
     },
     "fec672725a8f472f849dad7ae5666612": {
      "model_module": "@jupyter-widgets/controls",
      "model_module_version": "1.4.0",
      "model_name": "DescriptionStyleModel",
      "state": {
       "description_width": "initial"
      }
     },
     "fee32704965648baa54f25822c771f03": {
      "model_module": "@jupyter-widgets/base",
      "model_module_version": "1.1.0",
      "model_name": "LayoutModel",
      "state": {}
     },
     "ff22d723c61941d5be2edcac813b5c65": {
      "model_module": "@jupyter-widgets/controls",
      "model_module_version": "1.4.0",
      "model_name": "VBoxModel",
      "state": {
       "children": [
        "IPY_MODEL_42ad5962093345a4a8511024ea9f3c7b"
       ],
       "layout": "IPY_MODEL_39ccefbb955a4e97984ee2a9cc043eb3"
      }
     },
     "ff3957f0eadd4c019836cc3bdbbee283": {
      "model_module": "@jupyter-widgets/controls",
      "model_module_version": "1.4.0",
      "model_name": "ButtonModel",
      "state": {
       "button_style": "success",
       "description": "Start Motor Initializaton",
       "layout": "IPY_MODEL_a4b52b7344bc4f93a0d2e2dfbd791204",
       "style": "IPY_MODEL_f60f9dd0881c4fcb9b205365efdb625c",
       "tooltip": "Click me"
      }
     },
     "ff3a2ffcf41a47098b38f12e72a397e3": {
      "model_module": "@jupyter-widgets/base",
      "model_module_version": "1.1.0",
      "model_name": "LayoutModel",
      "state": {}
     },
     "ff7bca9c894f49b583e440d653f93288": {
      "model_module": "@jupyter-widgets/controls",
      "model_module_version": "1.4.0",
      "model_name": "VBoxModel",
      "state": {
       "children": [
        "IPY_MODEL_84af77007f054e90955afdbe8c8c0366",
        "IPY_MODEL_5654bb592c034b859a34145ad95f00d6"
       ],
       "layout": "IPY_MODEL_a22b0b6ec646488b8aba454c5b2019d5"
      }
     },
     "ff8b252f78cb4872a5c2ae98a0c288b9": {
      "model_module": "@jupyter-widgets/base",
      "model_module_version": "1.1.0",
      "model_name": "LayoutModel",
      "state": {}
     },
     "ffd1b79579b24bf89f17a476a34e2dae": {
      "model_module": "@jupyter-widgets/controls",
      "model_module_version": "1.4.0",
      "model_name": "TextModel",
      "state": {
       "layout": "IPY_MODEL_9285a6a742f5483880f2aa59818b2a68",
       "placeholder": "Type the notebook's name without file format",
       "style": "IPY_MODEL_e818d92c7fd94a8db07740e7d2dfb5a9"
      }
     },
     "fff4c9b146194fffb255d442098cb9df": {
      "model_module": "@jupyter-widgets/base",
      "model_module_version": "1.1.0",
      "model_name": "LayoutModel",
      "state": {
       "width": "300px"
      }
     }
    },
    "version_major": 2,
    "version_minor": 0
   }
  }
 },
 "nbformat": 4,
 "nbformat_minor": 2
}
