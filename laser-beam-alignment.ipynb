{
 "cells": [
  {
   "cell_type": "markdown",
   "metadata": {},
   "source": [
    "# TITLE\n",
    "\n",
    "## HEADER 1\n",
    "\n",
    "### HEADER 2"
   ]
  },
  {
   "cell_type": "code",
   "execution_count": 1,
   "metadata": {},
   "outputs": [
    {
     "data": {
      "text/html": [
       "<script type=\"text/javascript\">window.PlotlyConfig = {MathJaxConfig: 'local'};</script><script type=\"text/javascript\">if (window.MathJax) {MathJax.Hub.Config({SVG: {font: \"STIX-Web\"}});}</script><script>requirejs.config({paths: { 'plotly': ['https://cdn.plot.ly/plotly-latest.min']},});if(!window._Plotly) {require(['plotly'],function(plotly) {window._Plotly=plotly;});}</script>"
      ],
      "text/vnd.plotly.v1+html": [
       "<script type=\"text/javascript\">window.PlotlyConfig = {MathJaxConfig: 'local'};</script><script type=\"text/javascript\">if (window.MathJax) {MathJax.Hub.Config({SVG: {font: \"STIX-Web\"}});}</script><script>requirejs.config({paths: { 'plotly': ['https://cdn.plot.ly/plotly-latest.min']},});if(!window._Plotly) {require(['plotly'],function(plotly) {window._Plotly=plotly;});}</script>"
      ]
     },
     "metadata": {},
     "output_type": "display_data"
    }
   ],
   "source": [
    "from lib.StartMotorsButton import StartMotorsButton\n",
    "from lib.ManualAlignmentButton import ManualAlignmentButton\n",
    "from lib.PVMonitor import PVMonitor\n",
    "from lib.MonitorScanSave import MonitorScanSave\n",
    "from lib.ExportButtonPDF import ExportButtonPDF\n",
    "from lib.ExportButtonHTML import ExportButtonHTML\n",
    "\n",
    "import plotly.offline as py\n",
    "# Enable offline plots from plotly\n",
    "py.init_notebook_mode(connected=True)"
   ]
  },
  {
   "cell_type": "code",
   "execution_count": 2,
   "metadata": {},
   "outputs": [
    {
     "data": {
      "application/vnd.jupyter.widget-view+json": {
       "model_id": "6792c8295a0f481fb50f89a4c447bfba",
       "version_major": 2,
       "version_minor": 0
      },
      "text/plain": [
       "VBox(children=(Checkbox(value=False, description=\"Print log in Notebook's cells\", style=DescriptionStyle(descr…"
      ]
     },
     "metadata": {},
     "output_type": "display_data"
    }
   ],
   "source": [
    "import ipywidgets as widgets\n",
    "from lib.utils import logprint\n",
    "\n",
    "checkbox_logprint_in_cell = widgets.Checkbox(\n",
    "    value=False,\n",
    "    description=\"Print log in Notebook's cells\",\n",
    "    disabled=False,\n",
    "    style={'description_width': 'initial'},\n",
    ")\n",
    "\n",
    "config = {\"log_cell\": checkbox_logprint_in_cell}\n",
    "\n",
    "output = widgets.Output()\n",
    "\n",
    "@output.capture()\n",
    "def change_checkbox_logprint_in_cell(change):\n",
    "    logprint(\"Changed Logprint Checkbox to: \" + str(change.new))\n",
    "    \n",
    "checkbox_logprint_in_cell.observe(change_checkbox_logprint_in_cell, 'value')\n",
    "\n",
    "box = widgets.VBox([checkbox_logprint_in_cell, output])\n",
    "\n",
    "display(box)\n",
    "\n",
    "plots_list = []\n"
   ]
  },
  {
   "cell_type": "markdown",
   "metadata": {},
   "source": [
    "### First manual alignment"
   ]
  },
  {
   "cell_type": "code",
   "execution_count": 3,
   "metadata": {},
   "outputs": [
    {
     "data": {
      "application/vnd.jupyter.widget-view+json": {
       "model_id": "16eba6bc5c9947d69e5a99afd49fcfcd",
       "version_major": 2,
       "version_minor": 0
      },
      "text/plain": [
       "VBox(children=(Textarea(value='', placeholder='Example: IOC:m1 IOC:m3 LNLS:TEST:motor_g3'), StartMotorsButton(…"
      ]
     },
     "metadata": {},
     "output_type": "display_data"
    },
    {
     "data": {
      "application/vnd.jupyter.widget-view+json": {
       "model_id": "17f9bfcfb6604d30a0b4b19dd8909333",
       "version_major": 2,
       "version_minor": 0
      },
      "text/plain": [
       "Output()"
      ]
     },
     "metadata": {},
     "output_type": "display_data"
    }
   ],
   "source": [
    "start_motor_button_box = StartMotorsButton(config)\n",
    "start_motor_button_box.display_start_button()"
   ]
  },
  {
   "cell_type": "code",
   "execution_count": 4,
   "metadata": {},
   "outputs": [
    {
     "data": {
      "application/vnd.jupyter.widget-view+json": {
       "model_id": "5192ba6f897741c498f4a75e55800596",
       "version_major": 2,
       "version_minor": 0
      },
      "text/plain": [
       "VBox(children=(Label(value='No motors initilized to be showed.'),))"
      ]
     },
     "metadata": {},
     "output_type": "display_data"
    }
   ],
   "source": [
    "start_motor_button_box.display_motors_targ_buttons()"
   ]
  },
  {
   "cell_type": "code",
   "execution_count": 5,
   "metadata": {},
   "outputs": [
    {
     "data": {
      "application/vnd.jupyter.widget-view+json": {
       "model_id": "33abbc59f1064a76b526280a687522e3",
       "version_major": 2,
       "version_minor": 0
      },
      "text/plain": [
       "VBox(children=(ManualAlignmentButton(button_style='success', description='Start Manual Alignment', layout=Layo…"
      ]
     },
     "metadata": {},
     "output_type": "display_data"
    },
    {
     "data": {
      "application/vnd.jupyter.widget-view+json": {
       "model_id": "3e67b31de47f41b3bdbcd4814bb19fce",
       "version_major": 2,
       "version_minor": 0
      },
      "text/plain": [
       "Output()"
      ]
     },
     "metadata": {},
     "output_type": "display_data"
    }
   ],
   "source": [
    "# Slit interface\n",
    "slit = ManualAlignmentButton(config)\n",
    "slit.display_start_button()"
   ]
  },
  {
   "cell_type": "markdown",
   "metadata": {},
   "source": [
    "### PV's monitoring"
   ]
  },
  {
   "cell_type": "code",
   "execution_count": 6,
   "metadata": {},
   "outputs": [
    {
     "data": {
      "application/vnd.jupyter.widget-view+json": {
       "model_id": "8c15cd5d630c43228a320f043c5b60dc",
       "version_major": 2,
       "version_minor": 0
      },
      "text/plain": [
       "VBox(children=(PVMonitor(button_style='success', description='Start PV Monitoring', layout=Layout(width='300px…"
      ]
     },
     "metadata": {},
     "output_type": "display_data"
    },
    {
     "data": {
      "application/vnd.jupyter.widget-view+json": {
       "model_id": "e073bd86858e48c3b0afa80436c76dbb",
       "version_major": 2,
       "version_minor": 0
      },
      "text/plain": [
       "Output()"
      ]
     },
     "metadata": {},
     "output_type": "display_data"
    }
   ],
   "source": [
    "pv_monitor = PVMonitor(config)\n",
    "pv_monitor.display_monitor_pvs()"
   ]
  },
  {
   "cell_type": "code",
   "execution_count": 7,
   "metadata": {},
   "outputs": [
    {
     "data": {
      "application/vnd.jupyter.widget-view+json": {
       "model_id": "a0cb18255d2f4c3a92db3dddd3d95024",
       "version_major": 2,
       "version_minor": 0
      },
      "text/plain": [
       "VBox(children=(ManualAlignmentButton(button_style='success', description='Start Manual Alignment', layout=Layo…"
      ]
     },
     "metadata": {},
     "output_type": "display_data"
    },
    {
     "data": {
      "application/vnd.jupyter.widget-view+json": {
       "model_id": "06fe778650d34141bca6aba1d5e8a5ea",
       "version_major": 2,
       "version_minor": 0
      },
      "text/plain": [
       "Output()"
      ]
     },
     "metadata": {},
     "output_type": "display_data"
    }
   ],
   "source": [
    "# Monitoring interface\n",
    "# An example for initial tests\n",
    "temp = ManualAlignmentButton(config)\n",
    "temp.display_start_button()"
   ]
  },
  {
   "cell_type": "markdown",
   "metadata": {},
   "source": [
    "### Scan"
   ]
  },
  {
   "cell_type": "code",
   "execution_count": 8,
   "metadata": {},
   "outputs": [
    {
     "data": {
      "application/vnd.jupyter.widget-view+json": {
       "model_id": "3d6e39a0c21843c28449e4027b3f4929",
       "version_major": 2,
       "version_minor": 0
      },
      "text/plain": [
       "Checkbox(value=False, description='Live plot in Jupyter: ', style=DescriptionStyle(description_width='initial'…"
      ]
     },
     "metadata": {},
     "output_type": "display_data"
    },
    {
     "data": {
      "application/vnd.jupyter.widget-view+json": {
       "model_id": "a2ce4894b91044708837d2524d713fe7",
       "version_major": 2,
       "version_minor": 0
      },
      "text/plain": [
       "Checkbox(value=False, description=\"Plot scan-gui graph instead of Jupyter's: \", style=DescriptionStyle(descrip…"
      ]
     },
     "metadata": {},
     "output_type": "display_data"
    },
    {
     "data": {
      "application/vnd.jupyter.widget-view+json": {
       "model_id": "4c1b184eef4242fbb5fb49a3672c3665",
       "version_major": 2,
       "version_minor": 0
      },
      "text/plain": [
       "VBox(children=(MonitorScanSave(button_style='success', description='Start Scanning Plot', layout=Layout(width=…"
      ]
     },
     "metadata": {},
     "output_type": "display_data"
    },
    {
     "data": {
      "application/vnd.jupyter.widget-view+json": {
       "model_id": "135c6f9e9b8e47d9a65ecf47e1e80b39",
       "version_major": 2,
       "version_minor": 0
      },
      "text/plain": [
       "Box(layout=Layout(height='40px', width='40px'))"
      ]
     },
     "metadata": {},
     "output_type": "display_data"
    },
    {
     "data": {
      "application/vnd.jupyter.widget-view+json": {
       "model_id": "09946d2f4f3a4302adf19c8a582f8195",
       "version_major": 2,
       "version_minor": 0
      },
      "text/plain": [
       "Box()"
      ]
     },
     "metadata": {},
     "output_type": "display_data"
    },
    {
     "data": {
      "application/vnd.jupyter.widget-view+json": {
       "model_id": "972f4efed26e4bdf9eaa2d44b2647fc1",
       "version_major": 2,
       "version_minor": 0
      },
      "text/plain": [
       "Output()"
      ]
     },
     "metadata": {},
     "output_type": "display_data"
    },
    {
     "data": {
      "text/plain": [
       "''"
      ]
     },
     "metadata": {},
     "output_type": "display_data"
    },
    {
     "data": {
      "text/plain": [
       "''"
      ]
     },
     "metadata": {},
     "output_type": "display_data"
    }
   ],
   "source": [
    "# Scan-gui\n",
    "live_plot = MonitorScanSave(config, plots_list)\n",
    "live_plot.display_start_button()"
   ]
  },
  {
   "cell_type": "markdown",
   "metadata": {},
   "source": [
    "### Export notebook"
   ]
  },
  {
   "cell_type": "code",
   "execution_count": 9,
   "metadata": {},
   "outputs": [
    {
     "data": {
      "application/vnd.jupyter.widget-view+json": {
       "model_id": "ebc47b483fe74a0d8fa18c83617dbe04",
       "version_major": 2,
       "version_minor": 0
      },
      "text/plain": [
       "ExportButtonPDF(button_style='warning', description='Export Notebook to PDF', layout=Layout(width='300px'), st…"
      ]
     },
     "metadata": {},
     "output_type": "display_data"
    }
   ],
   "source": [
    "export_pdf = ExportButtonPDF(config, plots_list)\n",
    "export_pdf.display_export_button()"
   ]
  },
  {
   "cell_type": "code",
   "execution_count": 11,
   "metadata": {},
   "outputs": [
    {
     "data": {
      "application/vnd.jupyter.widget-view+json": {
       "model_id": "002b696f036b49a1b7e5172f3e6ea663",
       "version_major": 2,
       "version_minor": 0
      },
      "text/plain": [
       "ExportButtonHTML(button_style='warning', description='Export Notebook to HTML', layout=Layout(width='300px'), …"
      ]
     },
     "metadata": {},
     "output_type": "display_data"
    },
    {
     "data": {
      "application/vnd.jupyter.widget-view+json": {
       "model_id": "60496ce5c83e4c51bc9c145b5f0b9bd0",
       "version_major": 2,
       "version_minor": 0
      },
      "text/plain": [
       "Output()"
      ]
     },
     "metadata": {},
     "output_type": "display_data"
    }
   ],
   "source": [
    "export_html = ExportButtonHTML(config, \"laser-beam-alignment\", plots_list)\n",
    "export_html.display_export_button()"
   ]
  }
 ],
 "metadata": {
  "kernelspec": {
   "display_name": "Python 3",
   "language": "python",
   "name": "python3"
  },
  "language_info": {
   "codemirror_mode": {
    "name": "ipython",
    "version": 3
   },
   "file_extension": ".py",
   "mimetype": "text/x-python",
   "name": "python",
   "nbconvert_exporter": "python",
   "pygments_lexer": "ipython3",
   "version": "3.5.3"
  }
 },
 "nbformat": 4,
 "nbformat_minor": 2
}
