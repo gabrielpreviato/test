{
 "cells": [
  {
   "cell_type": "markdown",
   "metadata": {},
   "source": [
    "# XAFS1 -  Operation Notebook\n",
    "\n",
    "## Laser Beam Initial Alignment Notebook\n",
    "\n",
    "### Responsible Technician: Anna Sotero (ext 3555, 1139)\n",
    "\n",
    "#### More informations about this Laser Beam Line can be found in https://www.lnls.cnpem.br/linhas-de-luz/xafs1/"
   ]
  },
  {
   "cell_type": "markdown",
   "metadata": {},
   "source": [
    "This notebook provide a script in order to help the user at alignment tasks. With code interactive cells, Jupyter is a powerfull tool to increase productivity and to help non experts in programming.\n",
    "\n",
    "To use this notebook in the Laser Beam Line, follow the instructions of each section.\n",
    "\n",
    "It's expected that all the Notebook's dependencies are already installed. For more information read the jupy4syn documentation."
   ]
  },
  {
   "cell_type": "markdown",
   "metadata": {},
   "source": [
    "## \"####################################\"\n",
    "scan-util -> gui_plot\n",
    "\n",
    "scan-gui -> master\n",
    "\n",
    "scan_gui.py must be at ~/work/scan-gui/scan_gui.py\n",
    "\n",
    "py4syn -> https://github.com/gabrielpreviato/py4syn\n",
    "## \"####################################\""
   ]
  },
  {
   "cell_type": "markdown",
   "metadata": {},
   "source": [
    "### Openning/Closing proceedings at the Laser Beam Line\n",
    "\n",
    "- Unlock Gama. To do this, activate the painel button \"Abre/Fecha Linha\". The LED \"Bloqueio Gama\" will turn to green.\n",
    "\n",
    "<sup>Obs.: Game is blocked automatically in the injections.\n",
    "When \"Abre/Fecha Linha\" is activated, the \"Válvula Gate Anel\" and the \"Obturador Feixe Branco\" open automatically in this sequence. </sup>\n",
    "\n",
    "- The \"Obturador Monocromátio\" can be activated only after \"Busca\" (Search) is done.\n",
    "\n",
    "- Busca (Search). Take the key \"Procura\" (key number 1) from the board. Check if there isn't anyone inside of the hut, which meand that the other 3 keys must be on the board. Place the key \"Procura\" in the \"Tambor de Procura\" inside of the hut. Turn the key once, return and take it back. After this, we have 10 seconds to close the door and press the door's green button. As siren wil ring.\n",
    "\n",
    "- Place the key \"Procura\" in the board and when the siren stops, press the button \"Obturador Monocromático\" \n",
    "\n",
    "![](files/img/board.png)"
   ]
  },
  {
   "cell_type": "markdown",
   "metadata": {},
   "source": [
    "### Users motors list\n",
    "\n",
    "|              Motor             | High-level name |\n",
    "|:------------------------------:|:---------------:|\n",
    "|    Sample holder horizontal    |       shh       |\n",
    "|     Sample holder vertical     |       shv       |\n",
    "|  X-ray horizontal eye carrier  |       xh        |\n",
    "|   X-ray vertical eye carrier   |       xv        |\n",
    "|   Cryostat carrier horizontal  |      crioh      |\n",
    "|   Cryostat carrier vertical    |      criov      |\n",
    "|       Mettalic references      |       ref       |\n",
    "|           Goniometer           |       gon       |"
   ]
  },
  {
   "cell_type": "markdown",
   "metadata": {},
   "source": [
    "### References\n",
    "\n",
    "![](files/img/references.png)"
   ]
  },
  {
   "cell_type": "code",
   "execution_count": 1,
   "metadata": {
    "hide_input": true
   },
   "outputs": [
    {
     "data": {
      "text/html": [
       "<script type=\"text/javascript\">window.PlotlyConfig = {MathJaxConfig: 'local'};</script><script type=\"text/javascript\">if (window.MathJax) {MathJax.Hub.Config({SVG: {font: \"STIX-Web\"}});}</script><script>requirejs.config({paths: { 'plotly': ['https://cdn.plot.ly/plotly-latest.min']},});if(!window._Plotly) {require(['plotly'],function(plotly) {window._Plotly=plotly;});}</script>"
      ],
      "text/vnd.plotly.v1+html": [
       "<script type=\"text/javascript\">window.PlotlyConfig = {MathJaxConfig: 'local'};</script><script type=\"text/javascript\">if (window.MathJax) {MathJax.Hub.Config({SVG: {font: \"STIX-Web\"}});}</script><script>requirejs.config({paths: { 'plotly': ['https://cdn.plot.ly/plotly-latest.min']},});if(!window._Plotly) {require(['plotly'],function(plotly) {window._Plotly=plotly;});}</script>"
      ]
     },
     "metadata": {},
     "output_type": "display_data"
    }
   ],
   "source": [
    "# Import jupy4syn libraries\n",
    "from lib.StartMotorsButton import StartMotorsButton\n",
    "from lib.ManualAlignmentButton import ManualAlignmentButton\n",
    "from lib.PVMonitor import PVMonitor\n",
    "from lib.MonitorScanSave import MonitorScanSave\n",
    "from lib.ExportButtonLatex import ExportButtonLatex\n",
    "from lib.ExportButtonHTML import ExportButtonHTML\n",
    "from lib.Configuration import Configuration\n",
    "\n",
    "# Enable offline plots from Plotly\n",
    "import plotly.offline as py\n",
    "py.init_notebook_mode(connected=True)"
   ]
  },
  {
   "cell_type": "markdown",
   "metadata": {
    "hide_input": true
   },
   "source": [
    "### Configurations\n",
    "\n",
    "The following cell presents the user the choice of some configuration. We have the following configuration:\n",
    "* Print log in cells. If this option is selected, every run of cells will print a log in the output cell.\n",
    "* Notebook's name. If the user wants to export the notebook, this text box must have the Notebook's name WITHOUT the \".ipynb\" file format"
   ]
  },
  {
   "cell_type": "code",
   "execution_count": 2,
   "metadata": {
    "hide_input": true,
    "scrolled": false
   },
   "outputs": [
    {
     "data": {
      "application/vnd.jupyter.widget-view+json": {
       "model_id": "4d9035d5e5624c0fbe8f3c857b913baa",
       "version_major": 2,
       "version_minor": 0
      },
      "text/plain": [
       "Checkbox(value=False, description=\"Print log in Notebook's cells\", style=DescriptionStyle(description_width='i…"
      ]
     },
     "metadata": {},
     "output_type": "display_data"
    },
    {
     "data": {
      "application/vnd.jupyter.widget-view+json": {
       "model_id": "d09c44dc7ed94245acfd9ff5a10dc9cb",
       "version_major": 2,
       "version_minor": 0
      },
      "text/plain": [
       "HBox(children=(Label(value=\"Notebook's name: \"), Text(value='', layout=Layout(width='300px'), placeholder=\"Typ…"
      ]
     },
     "metadata": {},
     "output_type": "display_data"
    },
    {
     "data": {
      "application/vnd.jupyter.widget-view+json": {
       "model_id": "b07575c2e8794a2486a320ab78629685",
       "version_major": 2,
       "version_minor": 0
      },
      "text/plain": [
       "Output()"
      ]
     },
     "metadata": {},
     "output_type": "display_data"
    }
   ],
   "source": [
    "config = Configuration()\n",
    "config.display_configuration()"
   ]
  },
  {
   "cell_type": "markdown",
   "metadata": {},
   "source": [
    "### First manual alignment\n",
    "\n",
    "The following cells provides to the user tools to do a first \"rough\" alignment. The user has two options, use the Jupyter textbox interface or use the Slit PyQt interface. The later is recommended.\n",
    "\n",
    "To use the Jupyter textbox, the user needs to write the motors that will be aligned. Just write the motors' names separeted by spaces.\n",
    "\n",
    "To use the Slit PyQt interface, the user needs to click on the \"Start Manual Alignment\" button and the interface will open."
   ]
  },
  {
   "cell_type": "code",
   "execution_count": 3,
   "metadata": {
    "hide_input": false,
    "scrolled": false
   },
   "outputs": [
    {
     "data": {
      "application/vnd.jupyter.widget-view+json": {
       "model_id": "8938e843116c42beb04f0825cf812b08",
       "version_major": 2,
       "version_minor": 0
      },
      "text/plain": [
       "VBox(children=(Textarea(value='', placeholder='Example: IOC:m1 IOC:m3 LNLS:TEST:motor_g3'), StartMotorsButton(…"
      ]
     },
     "metadata": {},
     "output_type": "display_data"
    },
    {
     "data": {
      "application/vnd.jupyter.widget-view+json": {
       "model_id": "364f5544e8e04402b0bcb1cdc2ea87fa",
       "version_major": 2,
       "version_minor": 0
      },
      "text/plain": [
       "Output()"
      ]
     },
     "metadata": {},
     "output_type": "display_data"
    },
    {
     "data": {
      "application/vnd.jupyter.widget-view+json": {
       "model_id": "7f207605b8e54300852b94b6905c2736",
       "version_major": 2,
       "version_minor": 0
      },
      "text/plain": [
       "VBox(children=(Label(value='No motors initilized to be showed.'),))"
      ]
     },
     "metadata": {},
     "output_type": "display_data"
    }
   ],
   "source": [
    "# TODO: display in label the PV.DESC\n",
    "\n",
    "# Jupyter textbox interface\n",
    "start_motor_button_box = StartMotorsButton(config)\n",
    "start_motor_button_box.display_start_button()\n",
    "start_motor_button_box.display_motors_targ_buttons()"
   ]
  },
  {
   "cell_type": "code",
   "execution_count": 4,
   "metadata": {},
   "outputs": [
    {
     "data": {
      "application/vnd.jupyter.widget-view+json": {
       "model_id": "3e36d514d51d46fbb41ff7e431ed6ab7",
       "version_major": 2,
       "version_minor": 0
      },
      "text/plain": [
       "VBox(children=(ManualAlignmentButton(button_style='success', description='Start Manual Alignment', layout=Layo…"
      ]
     },
     "metadata": {},
     "output_type": "display_data"
    },
    {
     "data": {
      "application/vnd.jupyter.widget-view+json": {
       "model_id": "5edafd6ec74f405782af882d16b297a8",
       "version_major": 2,
       "version_minor": 0
      },
      "text/plain": [
       "Output()"
      ]
     },
     "metadata": {},
     "output_type": "display_data"
    }
   ],
   "source": [
    "# Slit PyQt Interface\n",
    "slit = ManualAlignmentButton(config)\n",
    "slit.display_start_button()"
   ]
  },
  {
   "cell_type": "markdown",
   "metadata": {},
   "source": [
    "### PV's monitoring\n",
    "\n",
    "The following cells provides to the user tools to monitorate PV's. A Jupyter interface is provided as well as a PyQt interface.\n",
    "\n",
    "To use the Jupyter interface, the user needs to write the PV's names in the text box and click on the \"Start PV Monitoring\" button.\n",
    "\n",
    "To use the PyQt interfaces, the user needs to click on the desired interface button."
   ]
  },
  {
   "cell_type": "code",
   "execution_count": 5,
   "metadata": {},
   "outputs": [
    {
     "data": {
      "application/vnd.jupyter.widget-view+json": {
       "model_id": "0f1679fcce3d4ff0a6e32b6a8bc21f4a",
       "version_major": 2,
       "version_minor": 0
      },
      "text/plain": [
       "VBox(children=(PVMonitor(button_style='success', description='Start PV Monitoring', layout=Layout(width='300px…"
      ]
     },
     "metadata": {},
     "output_type": "display_data"
    },
    {
     "data": {
      "application/vnd.jupyter.widget-view+json": {
       "model_id": "baad9515ed7b4a998c3263884d243a41",
       "version_major": 2,
       "version_minor": 0
      },
      "text/plain": [
       "Output()"
      ]
     },
     "metadata": {},
     "output_type": "display_data"
    }
   ],
   "source": [
    "pv_monitor = PVMonitor(config)\n",
    "pv_monitor.display_monitor_pvs()"
   ]
  },
  {
   "cell_type": "code",
   "execution_count": 6,
   "metadata": {},
   "outputs": [
    {
     "data": {
      "application/vnd.jupyter.widget-view+json": {
       "model_id": "fd16c46591e44b25be44ff5bbc8ba68e",
       "version_major": 2,
       "version_minor": 0
      },
      "text/plain": [
       "VBox(children=(ManualAlignmentButton(button_style='success', description='Start Manual Alignment', layout=Layo…"
      ]
     },
     "metadata": {},
     "output_type": "display_data"
    },
    {
     "data": {
      "application/vnd.jupyter.widget-view+json": {
       "model_id": "db78e04863c6444882278eed1283a648",
       "version_major": 2,
       "version_minor": 0
      },
      "text/plain": [
       "Output()"
      ]
     },
     "metadata": {},
     "output_type": "display_data"
    }
   ],
   "source": [
    "# Monitoring interface\n",
    "# An example for initial tests\n",
    "temp = ManualAlignmentButton(config)\n",
    "temp.display_start_button()"
   ]
  },
  {
   "cell_type": "markdown",
   "metadata": {},
   "source": [
    "### Scan\n",
    "\n",
    "The scan is made by the scan-gui interface. This interface < benefits of it...>.\n",
    "\n",
    "After the button \"Start Scanning Plot\" is pressed, the notebook will wait for any scan in the scan-gui interface to be started and will show a plot of the scan in the notebook. If the user made a scan, but did not pressed the \"Start Scanning Plot\" button, the notebook won't display the graph, but every data will be stored regardless of it being showed in the notebook or not.\n",
    "\n",
    "We have 3 options of showing the scan in the notebook.\n",
    "* Plot after end with PyQt\n",
    "* Plot after end with Plotly\n",
    "* Live Plot\n",
    "\n",
    "For the \"Plot after end with PyQt\" option, after the scan ends, the notebook will display the same image that is showed in the scan-gui interface, the only difference is that this will be a static image.\n",
    "\n",
    "For the \"Plot after end with Plotly\" option, after the scand ends, the notebook will display a Plotly graph with the data generated by the scan. This Plotly graph is interactive, so the user can zoom, pan the graph.\n",
    "\n",
    "For the \"Live Plot\" option, the scan is plotted in the notebook while the scan is being processed. For this option, the scan must be done in \"Synchronous Mode\""
   ]
  },
  {
   "cell_type": "code",
   "execution_count": 7,
   "metadata": {
    "scrolled": false
   },
   "outputs": [
    {
     "data": {
      "application/vnd.jupyter.widget-view+json": {
       "model_id": "1aa82faa7eb3433d9321233a20694d98",
       "version_major": 2,
       "version_minor": 0
      },
      "text/plain": [
       "Dropdown(options=('Plot after ends with PyQt', 'Plot after ends with Plotly', 'Live Plot'), style=DescriptionS…"
      ]
     },
     "metadata": {},
     "output_type": "display_data"
    },
    {
     "data": {
      "application/vnd.jupyter.widget-view+json": {
       "model_id": "619146d1442e44ba9a18911aab417ab3",
       "version_major": 2,
       "version_minor": 0
      },
      "text/plain": [
       "VBox(children=(MonitorScanSave(button_style='success', description='Start Scanning Plot', layout=Layout(width=…"
      ]
     },
     "metadata": {},
     "output_type": "display_data"
    },
    {
     "data": {
      "application/vnd.jupyter.widget-view+json": {
       "model_id": "81319f936da545aeac32eeb022ca3f42",
       "version_major": 2,
       "version_minor": 0
      },
      "text/plain": [
       "Box(layout=Layout(height='40px', width='40px'))"
      ]
     },
     "metadata": {},
     "output_type": "display_data"
    },
    {
     "data": {
      "application/vnd.jupyter.widget-view+json": {
       "model_id": "ff496e8ad7a94e498f52a30fd70c7c35",
       "version_major": 2,
       "version_minor": 0
      },
      "text/plain": [
       "Box()"
      ]
     },
     "metadata": {},
     "output_type": "display_data"
    },
    {
     "data": {
      "application/vnd.jupyter.widget-view+json": {
       "model_id": "7b9cab51a5324bcf9f7cfe6c3e3b255f",
       "version_major": 2,
       "version_minor": 0
      },
      "text/plain": [
       "Output()"
      ]
     },
     "metadata": {},
     "output_type": "display_data"
    },
    {
     "data": {
      "text/plain": [
       "''"
      ]
     },
     "metadata": {},
     "output_type": "display_data"
    },
    {
     "data": {
      "text/plain": [
       "''"
      ]
     },
     "metadata": {},
     "output_type": "display_data"
    }
   ],
   "source": [
    "# Scan-gui\n",
    "live_plot = MonitorScanSave(config)\n",
    "live_plot.display_start_button()"
   ]
  },
  {
   "cell_type": "markdown",
   "metadata": {},
   "source": [
    "### Export notebook\n",
    "\n",
    "The following cells allow the user to easily export the notebook to a HTML or PDF format.\n",
    "\n",
    "* For the export being successful, the user must save the widgets states. To do this, simply click in the \"Widgets\" option in the notebook tollbar and select option \"Save Notebook Widget State\". \n",
    "\n",
    "![](files/img/save_widget_state.png)\n",
    "\n",
    "\n",
    "\n",
    "* Also, the name of this notebook must be written in the text box in the Configuration section.\n",
    "\n",
    "\n",
    "\n",
    "![](files/img/notebooks_name.png)"
   ]
  },
  {
   "cell_type": "code",
   "execution_count": 8,
   "metadata": {},
   "outputs": [
    {
     "data": {
      "application/vnd.jupyter.widget-view+json": {
       "model_id": "4d0c15c5931348eeacdd328e6c4caafe",
       "version_major": 2,
       "version_minor": 0
      },
      "text/plain": [
       "ExportButtonLatex(button_style='warning', description='Export Notebook to Latex', layout=Layout(width='300px')…"
      ]
     },
     "metadata": {},
     "output_type": "display_data"
    },
    {
     "data": {
      "application/vnd.jupyter.widget-view+json": {
       "model_id": "f9b0ec2c1b2744f9bf41db4f69accd03",
       "version_major": 2,
       "version_minor": 0
      },
      "text/plain": [
       "Output()"
      ]
     },
     "metadata": {},
     "output_type": "display_data"
    }
   ],
   "source": [
    "export_latex = ExportButtonLatex(config)\n",
    "export_latex.display_export_button()"
   ]
  },
  {
   "cell_type": "code",
   "execution_count": 9,
   "metadata": {},
   "outputs": [
    {
     "data": {
      "application/vnd.jupyter.widget-view+json": {
       "model_id": "018e8f224ae84925a4d9af735e5bce9a",
       "version_major": 2,
       "version_minor": 0
      },
      "text/plain": [
       "ExportButtonHTML(button_style='warning', description='Export Notebook to HTML', layout=Layout(width='300px'), …"
      ]
     },
     "metadata": {},
     "output_type": "display_data"
    },
    {
     "data": {
      "application/vnd.jupyter.widget-view+json": {
       "model_id": "ade927aa2d284b219d4c70a694fe0d89",
       "version_major": 2,
       "version_minor": 0
      },
      "text/plain": [
       "Output()"
      ]
     },
     "metadata": {},
     "output_type": "display_data"
    }
   ],
   "source": [
    "export_html = ExportButtonHTML(config)\n",
    "export_html.display_export_button()"
   ]
  }
 ],
 "metadata": {
  "kernelspec": {
   "display_name": "Python 3",
   "language": "python",
   "name": "python3"
  },
  "language_info": {
   "codemirror_mode": {
    "name": "ipython",
    "version": 3
   },
   "file_extension": ".py",
   "mimetype": "text/x-python",
   "name": "python",
   "nbconvert_exporter": "python",
   "pygments_lexer": "ipython3",
   "version": "3.5.3"
  },
  "widgets": {
   "application/vnd.jupyter.widget-state+json": {
    "state": {
     "003ffd8ac5a448cf8e5f38f46b83cd6a": {
      "model_module": "@jupyter-widgets/controls",
      "model_module_version": "1.4.0",
      "model_name": "VBoxModel",
      "state": {
       "children": [
        "IPY_MODEL_6672a6ebf6f84d0f95065c2a0809a843"
       ],
       "layout": "IPY_MODEL_c59fe5daadfc489aafe566a8110ce4a9"
      }
     },
     "00b80dff2ad443aaae963f493e5728eb": {
      "model_module": "@jupyter-widgets/controls",
      "model_module_version": "1.4.0",
      "model_name": "ButtonStyleModel",
      "state": {}
     },
     "00f5db31dc234c3fbb62e891a7b13115": {
      "model_module": "@jupyter-widgets/controls",
      "model_module_version": "1.4.0",
      "model_name": "TextModel",
      "state": {
       "layout": "IPY_MODEL_0f4ae66f897f4013b46a2fc292f64297",
       "placeholder": "Type the notebook's name without file format",
       "style": "IPY_MODEL_fcac6a7edc3e4633b0f9d8012bb393ca"
      }
     },
     "0125d730c9c546ad90698ae55e2fa89e": {
      "model_module": "@jupyter-widgets/base",
      "model_module_version": "1.1.0",
      "model_name": "LayoutModel",
      "state": {}
     },
     "01f6ccc62fc14788b09b9166c22c823d": {
      "model_module": "@jupyter-widgets/output",
      "model_module_version": "1.0.0",
      "model_name": "OutputModel",
      "state": {
       "layout": "IPY_MODEL_ed46043e15854ff6b3c58d41505c900c"
      }
     },
     "01f78dfc31774dd3a010886778aa4047": {
      "model_module": "@jupyter-widgets/controls",
      "model_module_version": "1.4.0",
      "model_name": "TextModel",
      "state": {
       "layout": "IPY_MODEL_1ad998695b0740ed9ddb88437219614d",
       "placeholder": "Type the notebook's name without file format",
       "style": "IPY_MODEL_c21ea2cc09c8448fbb1478216b5e692a"
      }
     },
     "0318dc1e382941239802fc2ab1e3b0e5": {
      "model_module": "@jupyter-widgets/controls",
      "model_module_version": "1.4.0",
      "model_name": "DescriptionStyleModel",
      "state": {
       "description_width": ""
      }
     },
     "0356b818e91b45e69b00b632eb3ccd8f": {
      "model_module": "@jupyter-widgets/controls",
      "model_module_version": "1.4.0",
      "model_name": "CheckboxModel",
      "state": {
       "description": "Print log in Notebook's cells",
       "disabled": false,
       "layout": "IPY_MODEL_9b366db72c3040ae9c1dc892a51f5bcf",
       "style": "IPY_MODEL_e24536876402448587c2b3b725720903",
       "value": false
      }
     },
     "039ab925f94e4c7b8ae06de055b7ca2d": {
      "model_module": "@jupyter-widgets/base",
      "model_module_version": "1.1.0",
      "model_name": "LayoutModel",
      "state": {
       "width": "300px"
      }
     },
     "048c3af8ef084988887ca9f9fe10c1f3": {
      "model_module": "@jupyter-widgets/controls",
      "model_module_version": "1.4.0",
      "model_name": "ButtonModel",
      "state": {
       "button_style": "success",
       "description": "Start Manual Alignment",
       "layout": "IPY_MODEL_d67f85bab61743338a26c93c4ed41517",
       "style": "IPY_MODEL_7691151be8274e9ea193691dbe2c225c",
       "tooltip": "Click me"
      }
     },
     "051372b6e0e5490099b548af7b7dc8dc": {
      "model_module": "@jupyter-widgets/base",
      "model_module_version": "1.1.0",
      "model_name": "LayoutModel",
      "state": {}
     },
     "0534783f73d64d09b35fef735aacbb97": {
      "model_module": "@jupyter-widgets/controls",
      "model_module_version": "1.4.0",
      "model_name": "DescriptionStyleModel",
      "state": {
       "description_width": "initial"
      }
     },
     "0561fa3167ed4f358819418fe0d48af9": {
      "model_module": "@jupyter-widgets/controls",
      "model_module_version": "1.4.0",
      "model_name": "DescriptionStyleModel",
      "state": {
       "description_width": ""
      }
     },
     "058c7bd5bde746c3ae3d08c5c4f2c79d": {
      "model_module": "@jupyter-widgets/controls",
      "model_module_version": "1.4.0",
      "model_name": "BoxModel",
      "state": {
       "layout": "IPY_MODEL_3e9b0b6d2f9648559db6d6bf6fd837ae"
      }
     },
     "05ef149914fc4db38bd2cbbdf16312ac": {
      "model_module": "@jupyter-widgets/controls",
      "model_module_version": "1.4.0",
      "model_name": "DescriptionStyleModel",
      "state": {
       "description_width": ""
      }
     },
     "067ebe495bc945918f5021b403266c7e": {
      "model_module": "@jupyter-widgets/controls",
      "model_module_version": "1.4.0",
      "model_name": "ButtonModel",
      "state": {
       "button_style": "success",
       "description": "Start Motor Initializaton",
       "layout": "IPY_MODEL_ec64bce37dc54836b0cc0136ab17abae",
       "style": "IPY_MODEL_b77ba113815c43c99e9d09c08807381c",
       "tooltip": "Click me"
      }
     },
     "069e5473df444832bacf21310dbe69b3": {
      "model_module": "@jupyter-widgets/output",
      "model_module_version": "1.0.0",
      "model_name": "OutputModel",
      "state": {
       "layout": "IPY_MODEL_2be8eaa6e1144658ad41eef5d97915df"
      }
     },
     "06a5076450b04c3ab8d5dde5e90dbf6f": {
      "model_module": "@jupyter-widgets/base",
      "model_module_version": "1.1.0",
      "model_name": "LayoutModel",
      "state": {
       "width": "300px"
      }
     },
     "06e5df6642a74ec39c1b5aaf1eb33378": {
      "model_module": "@jupyter-widgets/base",
      "model_module_version": "1.1.0",
      "model_name": "LayoutModel",
      "state": {}
     },
     "06ed2a9c641c431eb80a7af0987eb3ec": {
      "model_module": "@jupyter-widgets/controls",
      "model_module_version": "1.4.0",
      "model_name": "DescriptionStyleModel",
      "state": {
       "description_width": ""
      }
     },
     "06fbdcf8c3a04379bef265e47ec4d62b": {
      "model_module": "@jupyter-widgets/output",
      "model_module_version": "1.0.0",
      "model_name": "OutputModel",
      "state": {
       "layout": "IPY_MODEL_d8d549997aba468daca91336b89f4513"
      }
     },
     "07091c1cc3ae4ca0bce40d50d14c756a": {
      "model_module": "@jupyter-widgets/controls",
      "model_module_version": "1.4.0",
      "model_name": "CheckboxModel",
      "state": {
       "description": "Print log in Notebook's cells",
       "disabled": false,
       "layout": "IPY_MODEL_28c0c50115f14f729a2cdc61b372b5d4",
       "style": "IPY_MODEL_c211758c46274d0c9336aef3bc5fc675",
       "value": false
      }
     },
     "07e40d414f6c46919fc5252879ed6871": {
      "model_module": "@jupyter-widgets/base",
      "model_module_version": "1.1.0",
      "model_name": "LayoutModel",
      "state": {}
     },
     "0883b7b003be49b28969543da76eeaac": {
      "model_module": "@jupyter-widgets/controls",
      "model_module_version": "1.4.0",
      "model_name": "ButtonModel",
      "state": {
       "button_style": "success",
       "description": "Start Manual Alignment",
       "layout": "IPY_MODEL_cc13e07d3ad94a2ca1fb4d780491cd6a",
       "style": "IPY_MODEL_324ba9c637eb4d5fa40459b69893ecf0",
       "tooltip": "Click me"
      }
     },
     "095cc623e4644212b4e25d01d85252b2": {
      "model_module": "@jupyter-widgets/controls",
      "model_module_version": "1.4.0",
      "model_name": "VBoxModel",
      "state": {
       "children": [
        "IPY_MODEL_fe9afc77d6344de4bafbe1d89207237d"
       ],
       "layout": "IPY_MODEL_0a867959b57647c18569202d728886fe"
      }
     },
     "0995897667eb427a8ef3dd89ac908811": {
      "model_module": "@jupyter-widgets/controls",
      "model_module_version": "1.4.0",
      "model_name": "TextModel",
      "state": {
       "layout": "IPY_MODEL_a3f974abd293449f85456d1cb55f73a9",
       "placeholder": "Type the notebook's name without file format",
       "style": "IPY_MODEL_ae411af223df48c28cd674bc1ad0f6fc",
       "value": "laser-alignment"
      }
     },
     "09e42144a5454a1880fc7c9f1ae79736": {
      "model_module": "@jupyter-widgets/controls",
      "model_module_version": "1.4.0",
      "model_name": "ButtonModel",
      "state": {
       "button_style": "success",
       "description": "Start PV Monitoring",
       "layout": "IPY_MODEL_c0c19c64eab34964a50d91fd76298b71",
       "style": "IPY_MODEL_98214cb53cf94207979ab7132cc0d480",
       "tooltip": "Click me"
      }
     },
     "0a05a01815ec4506a2d5d406df8d8baf": {
      "model_module": "@jupyter-widgets/base",
      "model_module_version": "1.1.0",
      "model_name": "LayoutModel",
      "state": {}
     },
     "0a32aab5afdb49638138b0cbb3a96fcd": {
      "model_module": "@jupyter-widgets/base",
      "model_module_version": "1.1.0",
      "model_name": "LayoutModel",
      "state": {
       "width": "300px"
      }
     },
     "0a867959b57647c18569202d728886fe": {
      "model_module": "@jupyter-widgets/base",
      "model_module_version": "1.1.0",
      "model_name": "LayoutModel",
      "state": {}
     },
     "0a96baacc2ab4760b339aaa8d4baf83a": {
      "model_module": "@jupyter-widgets/controls",
      "model_module_version": "1.4.0",
      "model_name": "DescriptionStyleModel",
      "state": {
       "description_width": ""
      }
     },
     "0af3ad3c0de84b1180b701efbb75563e": {
      "model_module": "@jupyter-widgets/controls",
      "model_module_version": "1.4.0",
      "model_name": "TextareaModel",
      "state": {
       "layout": "IPY_MODEL_6605367af2474000a73d9f9d2dc0fe7e",
       "placeholder": "Example: IOC:m1 IOC:m3 LNLS:TEST:motor_g3",
       "style": "IPY_MODEL_45cd0ef9369941c89b9c79a4d1b8b62d"
      }
     },
     "0c9d734b16584511985814e143880c5c": {
      "model_module": "@jupyter-widgets/base",
      "model_module_version": "1.1.0",
      "model_name": "LayoutModel",
      "state": {}
     },
     "0cbf83b3267e4913bbcf98e7314b3817": {
      "model_module": "@jupyter-widgets/base",
      "model_module_version": "1.1.0",
      "model_name": "LayoutModel",
      "state": {}
     },
     "0cf6e85c579c42e6a8208d4726f351ac": {
      "model_module": "@jupyter-widgets/controls",
      "model_module_version": "1.4.0",
      "model_name": "TextModel",
      "state": {
       "layout": "IPY_MODEL_83c5456506ad42ec8d28777cd06d17cd",
       "placeholder": "Type the notebook's name without file format",
       "style": "IPY_MODEL_0318dc1e382941239802fc2ab1e3b0e5"
      }
     },
     "0d0bebc0b05f40bbb405b9c89883b392": {
      "model_module": "@jupyter-widgets/controls",
      "model_module_version": "1.4.0",
      "model_name": "VBoxModel",
      "state": {
       "children": [
        "IPY_MODEL_4c8d13794a6846149c8c100e52d10a3b"
       ],
       "layout": "IPY_MODEL_dae63225fa4b438cb949d85e037fc680"
      }
     },
     "0d16c02a6bcb48188198880e35193de1": {
      "model_module": "@jupyter-widgets/controls",
      "model_module_version": "1.4.0",
      "model_name": "TextModel",
      "state": {
       "layout": "IPY_MODEL_ebac0b913c144e79bd2ab354bb898679",
       "placeholder": "Type the notebook's name without file format",
       "style": "IPY_MODEL_68600ff9ba9048f09ce77b7a4c381596"
      }
     },
     "0e05cf322ec740279a55ebb7d86b80c4": {
      "model_module": "@jupyter-widgets/controls",
      "model_module_version": "1.4.0",
      "model_name": "ButtonModel",
      "state": {
       "button_style": "warning",
       "description": "Export Notebook to HTML",
       "layout": "IPY_MODEL_70e4e6ca0d4945b986c3dde23dc63937",
       "style": "IPY_MODEL_35798bc0310444b79366f7cc05a1ed15",
       "tooltip": "Click me"
      }
     },
     "0e43f637ae924f42ba923caf48b6e50e": {
      "model_module": "@jupyter-widgets/base",
      "model_module_version": "1.1.0",
      "model_name": "LayoutModel",
      "state": {
       "width": "300px"
      }
     },
     "0e4a45a4b8414320990b3ff8d4e9a7dd": {
      "model_module": "@jupyter-widgets/base",
      "model_module_version": "1.1.0",
      "model_name": "LayoutModel",
      "state": {
       "width": "300px"
      }
     },
     "0e8b234554e54959b44826129c276673": {
      "model_module": "@jupyter-widgets/base",
      "model_module_version": "1.1.0",
      "model_name": "LayoutModel",
      "state": {}
     },
     "0f4ae66f897f4013b46a2fc292f64297": {
      "model_module": "@jupyter-widgets/base",
      "model_module_version": "1.1.0",
      "model_name": "LayoutModel",
      "state": {
       "width": "300px"
      }
     },
     "0fca213441e54bba82c557ac9f005c11": {
      "model_module": "@jupyter-widgets/base",
      "model_module_version": "1.1.0",
      "model_name": "LayoutModel",
      "state": {}
     },
     "10896c7bea754a5d8b16d2b22beba135": {
      "model_module": "@jupyter-widgets/controls",
      "model_module_version": "1.4.0",
      "model_name": "DescriptionStyleModel",
      "state": {
       "description_width": "initial"
      }
     },
     "1089a787949f437dbb47ae2556e8369c": {
      "model_module": "@jupyter-widgets/controls",
      "model_module_version": "1.4.0",
      "model_name": "ButtonStyleModel",
      "state": {}
     },
     "10ca24e1672e4ddc8f9dbf1d405f03c3": {
      "model_module": "@jupyter-widgets/controls",
      "model_module_version": "1.4.0",
      "model_name": "DescriptionStyleModel",
      "state": {
       "description_width": ""
      }
     },
     "10fc413168cb4b35a9a2df9cddeed693": {
      "model_module": "@jupyter-widgets/controls",
      "model_module_version": "1.4.0",
      "model_name": "DescriptionStyleModel",
      "state": {
       "description_width": ""
      }
     },
     "110a4f46086e4d4db0c06560eef58b18": {
      "model_module": "@jupyter-widgets/base",
      "model_module_version": "1.1.0",
      "model_name": "LayoutModel",
      "state": {}
     },
     "111eb8da88374c59bfcf7e639f957fbc": {
      "model_module": "@jupyter-widgets/base",
      "model_module_version": "1.1.0",
      "model_name": "LayoutModel",
      "state": {}
     },
     "1148ef56217542f1b3b6dcff1b515bff": {
      "model_module": "@jupyter-widgets/base",
      "model_module_version": "1.1.0",
      "model_name": "LayoutModel",
      "state": {}
     },
     "11e5619de86047c8b3e86cb16d19d855": {
      "model_module": "@jupyter-widgets/base",
      "model_module_version": "1.1.0",
      "model_name": "LayoutModel",
      "state": {}
     },
     "11ed9ae0257b42f2b049b58d8a8c3d1b": {
      "model_module": "@jupyter-widgets/base",
      "model_module_version": "1.1.0",
      "model_name": "LayoutModel",
      "state": {}
     },
     "11f38144c9b544388a671f631cc1697c": {
      "model_module": "@jupyter-widgets/controls",
      "model_module_version": "1.4.0",
      "model_name": "DescriptionStyleModel",
      "state": {
       "description_width": "initial"
      }
     },
     "1325383fecdc4c38afe53f70455b3445": {
      "model_module": "@jupyter-widgets/base",
      "model_module_version": "1.1.0",
      "model_name": "LayoutModel",
      "state": {}
     },
     "1346111740a445f79f6184ba65d55e20": {
      "model_module": "@jupyter-widgets/controls",
      "model_module_version": "1.4.0",
      "model_name": "DescriptionStyleModel",
      "state": {
       "description_width": "initial"
      }
     },
     "1356609978724615bafeeb5392e633b2": {
      "model_module": "@jupyter-widgets/controls",
      "model_module_version": "1.4.0",
      "model_name": "CheckboxModel",
      "state": {
       "description": "Print log in Notebook's cells",
       "disabled": false,
       "layout": "IPY_MODEL_0fca213441e54bba82c557ac9f005c11",
       "style": "IPY_MODEL_11f38144c9b544388a671f631cc1697c",
       "value": false
      }
     },
     "14060ce3e95f41749f47debbfbeb83ea": {
      "model_module": "@jupyter-widgets/controls",
      "model_module_version": "1.4.0",
      "model_name": "TextareaModel",
      "state": {
       "layout": "IPY_MODEL_31118598a78d4f47bf836706f6090f57",
       "placeholder": "Example: IOC:m1.DMOV IOC:m3.RBV LNLS:ANEL:corrente.VAL",
       "style": "IPY_MODEL_10ca24e1672e4ddc8f9dbf1d405f03c3"
      }
     },
     "14126c6d61cb44acbe64d78f18fd10c2": {
      "model_module": "@jupyter-widgets/output",
      "model_module_version": "1.0.0",
      "model_name": "OutputModel",
      "state": {
       "layout": "IPY_MODEL_1b0392b9d6af405cae7db2dfb85f0a00"
      }
     },
     "1450593d2fbe40d18278ee517352463a": {
      "model_module": "@jupyter-widgets/base",
      "model_module_version": "1.1.0",
      "model_name": "LayoutModel",
      "state": {}
     },
     "147db232a27c41e383d493701b4281e9": {
      "model_module": "@jupyter-widgets/controls",
      "model_module_version": "1.4.0",
      "model_name": "BoxModel",
      "state": {
       "layout": "IPY_MODEL_61a67984928e464187f8079d9b2297a9"
      }
     },
     "164db2f1a2774414962c9dd46d143e94": {
      "model_module": "@jupyter-widgets/controls",
      "model_module_version": "1.4.0",
      "model_name": "VBoxModel",
      "state": {
       "children": [
        "IPY_MODEL_d5d46cb3a515497c8966c8c03ed24c19"
       ],
       "layout": "IPY_MODEL_647fa8bdaeab43afb22a959b639738b7"
      }
     },
     "166e07b3baee44d69744f67af0db98c2": {
      "model_module": "@jupyter-widgets/controls",
      "model_module_version": "1.4.0",
      "model_name": "VBoxModel",
      "state": {
       "children": [
        "IPY_MODEL_74106c8918654f3c955f7ca1c46d1dad"
       ],
       "layout": "IPY_MODEL_2486dead45df490688026f9780e98dd7"
      }
     },
     "16bb08720c3f45b78905547a970a4abe": {
      "model_module": "@jupyter-widgets/controls",
      "model_module_version": "1.4.0",
      "model_name": "ButtonStyleModel",
      "state": {}
     },
     "171954c805e540e0b7f2b29fbe41cdf5": {
      "model_module": "@jupyter-widgets/base",
      "model_module_version": "1.1.0",
      "model_name": "LayoutModel",
      "state": {}
     },
     "179187a4eef84831ab50b793e03d9582": {
      "model_module": "@jupyter-widgets/output",
      "model_module_version": "1.0.0",
      "model_name": "OutputModel",
      "state": {
       "layout": "IPY_MODEL_0e8b234554e54959b44826129c276673"
      }
     },
     "187a9fd787d14732901893e98ac9dc94": {
      "model_module": "@jupyter-widgets/base",
      "model_module_version": "1.1.0",
      "model_name": "LayoutModel",
      "state": {}
     },
     "1880c208b6cf421b88943261e59dd2e9": {
      "model_module": "@jupyter-widgets/controls",
      "model_module_version": "1.4.0",
      "model_name": "CheckboxModel",
      "state": {
       "description": "Plot with Plotly after scan ends: ",
       "disabled": false,
       "layout": "IPY_MODEL_6eb502319ce44c4189c72542f2dc6977",
       "style": "IPY_MODEL_e305163224e7448eb78c8e8478affd2b",
       "value": false
      }
     },
     "189d366b6e764dc3a274425cdfd44775": {
      "model_module": "@jupyter-widgets/base",
      "model_module_version": "1.1.0",
      "model_name": "LayoutModel",
      "state": {}
     },
     "18cd16f221634907ba4a6fd481f566c8": {
      "model_module": "@jupyter-widgets/output",
      "model_module_version": "1.0.0",
      "model_name": "OutputModel",
      "state": {
       "layout": "IPY_MODEL_8957ff3912384a62a106464cd6be2f93"
      }
     },
     "193c71574b6a4693905ca0f1825a4931": {
      "model_module": "@jupyter-widgets/controls",
      "model_module_version": "1.4.0",
      "model_name": "CheckboxModel",
      "state": {
       "description": "Plot with PyQtGraph after scan ends: ",
       "disabled": false,
       "layout": "IPY_MODEL_e2e5f24f42954f2f8e4ea5d0bccee559",
       "style": "IPY_MODEL_c115ebec04f94a47875ea03f95622d35",
       "value": true
      }
     },
     "19ab40f239404a2bb9cd05da778710d0": {
      "model_module": "@jupyter-widgets/controls",
      "model_module_version": "1.4.0",
      "model_name": "ButtonModel",
      "state": {
       "button_style": "success",
       "description": "Start Manual Alignment",
       "layout": "IPY_MODEL_74c522ce07b349ed82e123aba1712a2d",
       "style": "IPY_MODEL_b035f30d14c447f89b5f053230875016",
       "tooltip": "Click me"
      }
     },
     "19c58501ebeb45759637c86acd3327fd": {
      "model_module": "@jupyter-widgets/controls",
      "model_module_version": "1.4.0",
      "model_name": "TextareaModel",
      "state": {
       "layout": "IPY_MODEL_6661637844474ec2ba0ece5618a30f69",
       "placeholder": "Example: IOC:m1.DMOV IOC:m3.RBV LNLS:ANEL:corrente.VAL",
       "style": "IPY_MODEL_a955c04ea21744b0b9101d7d6215b3d1"
      }
     },
     "19dff03314bb428588aa06a17a22480a": {
      "model_module": "@jupyter-widgets/base",
      "model_module_version": "1.1.0",
      "model_name": "LayoutModel",
      "state": {
       "width": "300px"
      }
     },
     "1a2e70232bb14fafbd12988740b29785": {
      "model_module": "@jupyter-widgets/base",
      "model_module_version": "1.1.0",
      "model_name": "LayoutModel",
      "state": {}
     },
     "1ad998695b0740ed9ddb88437219614d": {
      "model_module": "@jupyter-widgets/base",
      "model_module_version": "1.1.0",
      "model_name": "LayoutModel",
      "state": {
       "width": "300px"
      }
     },
     "1b0392b9d6af405cae7db2dfb85f0a00": {
      "model_module": "@jupyter-widgets/base",
      "model_module_version": "1.1.0",
      "model_name": "LayoutModel",
      "state": {}
     },
     "1b744fb0044d492db24740451ce2c850": {
      "model_module": "@jupyter-widgets/controls",
      "model_module_version": "1.4.0",
      "model_name": "ButtonModel",
      "state": {
       "button_style": "success",
       "description": "Start PV Monitoring",
       "layout": "IPY_MODEL_45383e1fd0fd4bf89524b7bb938b58b5",
       "style": "IPY_MODEL_a33dabe30aab44f8922b10eebbcb09c9",
       "tooltip": "Click me"
      }
     },
     "1b7bcf3a29f34ce4b3984832d419364d": {
      "model_module": "@jupyter-widgets/controls",
      "model_module_version": "1.4.0",
      "model_name": "VBoxModel",
      "state": {
       "children": [
        "IPY_MODEL_1b744fb0044d492db24740451ce2c850",
        "IPY_MODEL_e708f1410a7043feafed49ec5b9f39bb"
       ],
       "layout": "IPY_MODEL_a02130cee0854d24a9a6e7095e51cb04"
      }
     },
     "1c42274462fc4f5e8a59d4c0a703119d": {
      "model_module": "@jupyter-widgets/base",
      "model_module_version": "1.1.0",
      "model_name": "LayoutModel",
      "state": {}
     },
     "1d2cfe52088a4eb7b9e1ab406ab87833": {
      "model_module": "@jupyter-widgets/controls",
      "model_module_version": "1.4.0",
      "model_name": "LabelModel",
      "state": {
       "layout": "IPY_MODEL_187a9fd787d14732901893e98ac9dc94",
       "style": "IPY_MODEL_10fc413168cb4b35a9a2df9cddeed693",
       "value": "No motors initilized to be showed."
      }
     },
     "1e1a9e9069bd4927bb4fdde20b83e57b": {
      "model_module": "@jupyter-widgets/base",
      "model_module_version": "1.1.0",
      "model_name": "LayoutModel",
      "state": {}
     },
     "1e67be70ff7d4c38a76b2286508c65d0": {
      "model_module": "@jupyter-widgets/controls",
      "model_module_version": "1.4.0",
      "model_name": "VBoxModel",
      "state": {
       "children": [
        "IPY_MODEL_324ca0233d0f4e668c44a90957dc2c5b"
       ],
       "layout": "IPY_MODEL_70dffb7450fe4e748d97401ce24365e8"
      }
     },
     "1e7623f072f2409f9caf5403e202ba1c": {
      "model_module": "@jupyter-widgets/base",
      "model_module_version": "1.1.0",
      "model_name": "LayoutModel",
      "state": {}
     },
     "1ec1ebd4e6cf4ae89b7a34f24ced6109": {
      "model_module": "@jupyter-widgets/base",
      "model_module_version": "1.1.0",
      "model_name": "LayoutModel",
      "state": {}
     },
     "1f4ba9e4a0244d8d8694ae392245d295": {
      "model_module": "@jupyter-widgets/base",
      "model_module_version": "1.1.0",
      "model_name": "LayoutModel",
      "state": {
       "width": "300px"
      }
     },
     "1f9aab46c19446229e02b40144435759": {
      "model_module": "@jupyter-widgets/base",
      "model_module_version": "1.1.0",
      "model_name": "LayoutModel",
      "state": {}
     },
     "2089400010ff4743b701cdf883caffae": {
      "model_module": "@jupyter-widgets/controls",
      "model_module_version": "1.4.0",
      "model_name": "BoxModel",
      "state": {
       "layout": "IPY_MODEL_2a51bfc8ced34c0dbb24a937cc0d7e27"
      }
     },
     "221d83f6f89f4d509bbb01c7365c67e3": {
      "model_module": "@jupyter-widgets/controls",
      "model_module_version": "1.4.0",
      "model_name": "VBoxModel",
      "state": {
       "children": [
        "IPY_MODEL_7a346434f3e341678ec78d3a97ff4b79"
       ],
       "layout": "IPY_MODEL_355c8e4aadd64d788132cce4e0c6524f"
      }
     },
     "22995f0dcb904946b8c15db32f93be0a": {
      "model_module": "@jupyter-widgets/base",
      "model_module_version": "1.1.0",
      "model_name": "LayoutModel",
      "state": {
       "width": "300px"
      }
     },
     "22b24401b29245d0af0a9e44a0db251c": {
      "model_module": "@jupyter-widgets/base",
      "model_module_version": "1.1.0",
      "model_name": "LayoutModel",
      "state": {}
     },
     "22de13edff94402a955bb73d14aa2d6f": {
      "model_module": "@jupyter-widgets/controls",
      "model_module_version": "1.4.0",
      "model_name": "VBoxModel",
      "state": {
       "children": [
        "IPY_MODEL_d90ade1553f849abb0720dd96332afc2"
       ],
       "layout": "IPY_MODEL_d03c11dcb7f640b88c27954085a94d3b"
      }
     },
     "233b2a8c60ea4c0cb6086a4c1e9ee40c": {
      "model_module": "@jupyter-widgets/base",
      "model_module_version": "1.1.0",
      "model_name": "LayoutModel",
      "state": {}
     },
     "237bc27754df4273a6c4fa35d0861197": {
      "model_module": "@jupyter-widgets/base",
      "model_module_version": "1.1.0",
      "model_name": "LayoutModel",
      "state": {
       "height": "40px",
       "width": "40px"
      }
     },
     "2486dead45df490688026f9780e98dd7": {
      "model_module": "@jupyter-widgets/base",
      "model_module_version": "1.1.0",
      "model_name": "LayoutModel",
      "state": {}
     },
     "2526b7b79f074c99a4f7600ddcd01b32": {
      "model_module": "@jupyter-widgets/base",
      "model_module_version": "1.1.0",
      "model_name": "LayoutModel",
      "state": {
       "width": "300px"
      }
     },
     "253cea3b3df64cd2a985250a162cf5e7": {
      "model_module": "@jupyter-widgets/controls",
      "model_module_version": "1.4.0",
      "model_name": "TextModel",
      "state": {
       "layout": "IPY_MODEL_b38fd5c53d4540b5bfd081bf663c853b",
       "placeholder": "Type the notebook's name without file format",
       "style": "IPY_MODEL_3e45a55408f347639b164b522850d073"
      }
     },
     "25691f7b732045e39a283dce889e472f": {
      "model_module": "@jupyter-widgets/base",
      "model_module_version": "1.1.0",
      "model_name": "LayoutModel",
      "state": {}
     },
     "2571aa625a8840bca49919d561c3763e": {
      "model_module": "@jupyter-widgets/controls",
      "model_module_version": "1.4.0",
      "model_name": "TextModel",
      "state": {
       "layout": "IPY_MODEL_32bba04f435c4ee9a3900417aa222d6d",
       "placeholder": "Type the notebook's name without file format",
       "style": "IPY_MODEL_dc1c6fbddc514351b2347a2f4af76496",
       "value": "laser-beam-alignment"
      }
     },
     "261fbac3db834b62a945f3b3011572de": {
      "model_module": "@jupyter-widgets/base",
      "model_module_version": "1.1.0",
      "model_name": "LayoutModel",
      "state": {
       "width": "300px"
      }
     },
     "271c06ff376f491db9d5ecad5e544e29": {
      "model_module": "@jupyter-widgets/controls",
      "model_module_version": "1.4.0",
      "model_name": "DescriptionStyleModel",
      "state": {
       "description_width": "initial"
      }
     },
     "273f7e7cf62345088612e4dfe9c7fbca": {
      "model_module": "@jupyter-widgets/controls",
      "model_module_version": "1.4.0",
      "model_name": "ButtonModel",
      "state": {
       "button_style": "warning",
       "description": "Export Notebook to PDF",
       "layout": "IPY_MODEL_76b327a2d4244e5a8f60dcf8890cfed2",
       "style": "IPY_MODEL_73bb43537a884355b221a18c930ace5c",
       "tooltip": "Click me"
      }
     },
     "28c0c50115f14f729a2cdc61b372b5d4": {
      "model_module": "@jupyter-widgets/base",
      "model_module_version": "1.1.0",
      "model_name": "LayoutModel",
      "state": {}
     },
     "28e2ba8a2c764dbd8277cee2553355ab": {
      "model_module": "@jupyter-widgets/controls",
      "model_module_version": "1.4.0",
      "model_name": "VBoxModel",
      "state": {
       "children": [
        "IPY_MODEL_ee861097ec1f4f639391c7511a598847",
        "IPY_MODEL_067ebe495bc945918f5021b403266c7e"
       ],
       "layout": "IPY_MODEL_6c74f9a7165d4399928b2a821527c840"
      }
     },
     "2944177ad83b44279d68ec857a0bcb8c": {
      "model_module": "@jupyter-widgets/base",
      "model_module_version": "1.1.0",
      "model_name": "LayoutModel",
      "state": {}
     },
     "294e27eff09e41c6884fa7da26759222": {
      "model_module": "@jupyter-widgets/output",
      "model_module_version": "1.0.0",
      "model_name": "OutputModel",
      "state": {
       "layout": "IPY_MODEL_61ae1ed34ed24d00b33b5d88ed87dea8",
       "outputs": [
        {
         "data": {
          "application/javascript": "IPython.notebook.save_checkpoint();",
          "text/plain": "<IPython.core.display.Javascript object>"
         },
         "metadata": {},
         "output_type": "display_data"
        }
       ]
      }
     },
     "2997337208f748bfa1b094bcec1923a8": {
      "model_module": "@jupyter-widgets/controls",
      "model_module_version": "1.4.0",
      "model_name": "ButtonModel",
      "state": {
       "button_style": "success",
       "description": "Start Motor Initializaton",
       "layout": "IPY_MODEL_261fbac3db834b62a945f3b3011572de",
       "style": "IPY_MODEL_4106be2cd1d249b496ebd524f12c4d37",
       "tooltip": "Click me"
      }
     },
     "2a51bfc8ced34c0dbb24a937cc0d7e27": {
      "model_module": "@jupyter-widgets/base",
      "model_module_version": "1.1.0",
      "model_name": "LayoutModel",
      "state": {
       "height": "40px",
       "width": "40px"
      }
     },
     "2be8eaa6e1144658ad41eef5d97915df": {
      "model_module": "@jupyter-widgets/base",
      "model_module_version": "1.1.0",
      "model_name": "LayoutModel",
      "state": {}
     },
     "2c129af7c2ee4c1ca0ac480f61c78803": {
      "model_module": "@jupyter-widgets/base",
      "model_module_version": "1.1.0",
      "model_name": "LayoutModel",
      "state": {}
     },
     "2c304a4c13e047418d2b0ec53255f006": {
      "model_module": "@jupyter-widgets/controls",
      "model_module_version": "1.4.0",
      "model_name": "DescriptionStyleModel",
      "state": {
       "description_width": ""
      }
     },
     "2c63d0c1951241f286ed85e2a1d126e1": {
      "model_module": "@jupyter-widgets/base",
      "model_module_version": "1.1.0",
      "model_name": "LayoutModel",
      "state": {}
     },
     "2cebf07cdc164e06b35eb36c702dca5d": {
      "model_module": "@jupyter-widgets/base",
      "model_module_version": "1.1.0",
      "model_name": "LayoutModel",
      "state": {}
     },
     "2d7c709768ff4b349eb1b2fd8ff9dec1": {
      "model_module": "@jupyter-widgets/base",
      "model_module_version": "1.1.0",
      "model_name": "LayoutModel",
      "state": {}
     },
     "2d9ab71ae7924d46a21f159e09575ec3": {
      "model_module": "@jupyter-widgets/output",
      "model_module_version": "1.0.0",
      "model_name": "OutputModel",
      "state": {
       "layout": "IPY_MODEL_7142ace2499845e1a539410703d409b1"
      }
     },
     "2e280b0c47714e92938f150ba6d3277f": {
      "model_module": "@jupyter-widgets/base",
      "model_module_version": "1.1.0",
      "model_name": "LayoutModel",
      "state": {
       "width": "300px"
      }
     },
     "2e447900fea64a61886caad19252af91": {
      "model_module": "@jupyter-widgets/controls",
      "model_module_version": "1.4.0",
      "model_name": "CheckboxModel",
      "state": {
       "description": "Plot with PyQtGraph after scan ends: ",
       "disabled": false,
       "layout": "IPY_MODEL_ff1d9aba3cb648e88ebcfbf501d66937",
       "style": "IPY_MODEL_0534783f73d64d09b35fef735aacbb97",
       "value": true
      }
     },
     "2e96f846140e495994731df462c86f27": {
      "model_module": "@jupyter-widgets/base",
      "model_module_version": "1.1.0",
      "model_name": "LayoutModel",
      "state": {}
     },
     "2f8622deab01425f8041d1c172f4efd1": {
      "model_module": "@jupyter-widgets/controls",
      "model_module_version": "1.4.0",
      "model_name": "ButtonModel",
      "state": {
       "button_style": "success",
       "description": "Start Manual Alignment",
       "layout": "IPY_MODEL_4fdd40a9d5c54fcdbadc4dec868a326a",
       "style": "IPY_MODEL_e3f3f426c9774148b359113f201fec5d",
       "tooltip": "Click me"
      }
     },
     "2f8c83411f9a49fe9960ad7b43e9785b": {
      "model_module": "@jupyter-widgets/base",
      "model_module_version": "1.1.0",
      "model_name": "LayoutModel",
      "state": {}
     },
     "2fd91e306eb14c3fab59129e06368e3b": {
      "model_module": "@jupyter-widgets/base",
      "model_module_version": "1.1.0",
      "model_name": "LayoutModel",
      "state": {
       "width": "300px"
      }
     },
     "30567977310642ea8a1043f996b0dedc": {
      "model_module": "@jupyter-widgets/controls",
      "model_module_version": "1.4.0",
      "model_name": "DescriptionStyleModel",
      "state": {
       "description_width": "initial"
      }
     },
     "308aa01a3b9e408f9bedfb43a9300e1c": {
      "model_module": "@jupyter-widgets/output",
      "model_module_version": "1.0.0",
      "model_name": "OutputModel",
      "state": {
       "layout": "IPY_MODEL_35ee25d52b504771979737ff005f18f3",
       "outputs": [
        {
         "data": {
          "application/javascript": "IPython.notebook.save_checkpoint();",
          "text/plain": "<IPython.core.display.Javascript object>"
         },
         "metadata": {},
         "output_type": "display_data"
        }
       ]
      }
     },
     "309821c3682749e89c1ebd1d91385478": {
      "model_module": "@jupyter-widgets/output",
      "model_module_version": "1.0.0",
      "model_name": "OutputModel",
      "state": {
       "layout": "IPY_MODEL_9cff99f30e9b483e83760551a147a1e3"
      }
     },
     "31118598a78d4f47bf836706f6090f57": {
      "model_module": "@jupyter-widgets/base",
      "model_module_version": "1.1.0",
      "model_name": "LayoutModel",
      "state": {}
     },
     "3170b8f4520b47d49f0a196d341524f8": {
      "model_module": "@jupyter-widgets/controls",
      "model_module_version": "1.4.0",
      "model_name": "BoxModel",
      "state": {
       "layout": "IPY_MODEL_237bc27754df4273a6c4fa35d0861197"
      }
     },
     "31ebcff779914b43bb453b8d1f3dd354": {
      "model_module": "@jupyter-widgets/controls",
      "model_module_version": "1.4.0",
      "model_name": "ButtonStyleModel",
      "state": {}
     },
     "31f5eab0b3514948bdb9caad361f6f05": {
      "model_module": "@jupyter-widgets/controls",
      "model_module_version": "1.4.0",
      "model_name": "DropdownModel",
      "state": {
       "_options_labels": [
        "Plot after ends with PyQt",
        "Plot after ends with Plotly",
        "Live Plot"
       ],
       "index": 0,
       "layout": "IPY_MODEL_ac6f3577f66d4dcba98503d6177c3afa",
       "style": "IPY_MODEL_3404e15aed1541c2839252793fe43b7f"
      }
     },
     "31fc4d34fcb04337ab4ed5afc958bed0": {
      "model_module": "@jupyter-widgets/controls",
      "model_module_version": "1.4.0",
      "model_name": "BoxModel",
      "state": {
       "layout": "IPY_MODEL_1450593d2fbe40d18278ee517352463a"
      }
     },
     "324ba9c637eb4d5fa40459b69893ecf0": {
      "model_module": "@jupyter-widgets/controls",
      "model_module_version": "1.4.0",
      "model_name": "ButtonStyleModel",
      "state": {}
     },
     "324ca0233d0f4e668c44a90957dc2c5b": {
      "model_module": "@jupyter-widgets/controls",
      "model_module_version": "1.4.0",
      "model_name": "ButtonModel",
      "state": {
       "button_style": "success",
       "description": "Start Scanning Plot",
       "layout": "IPY_MODEL_aa4f78a14df949fd866a8437aed36e83",
       "style": "IPY_MODEL_fbd3b3959e7140b0bb8ba30f66801944",
       "tooltip": "Click me"
      }
     },
     "3278e04778ba4679b83654f25e9f6f1b": {
      "model_module": "@jupyter-widgets/output",
      "model_module_version": "1.0.0",
      "model_name": "OutputModel",
      "state": {
       "layout": "IPY_MODEL_9f19ed6666e0404bb47cd8dd9c6f118a",
       "outputs": [
        {
         "data": {
          "application/javascript": "IPython.notebook.save_checkpoint();",
          "text/plain": "<IPython.core.display.Javascript object>"
         },
         "metadata": {},
         "output_type": "display_data"
        }
       ]
      }
     },
     "32ad4fa3c70f4527a85d443fde626d8e": {
      "model_module": "@jupyter-widgets/base",
      "model_module_version": "1.1.0",
      "model_name": "LayoutModel",
      "state": {}
     },
     "32bb040d16ba4887b80fb00d6641ea20": {
      "model_module": "@jupyter-widgets/base",
      "model_module_version": "1.1.0",
      "model_name": "LayoutModel",
      "state": {
       "width": "300px"
      }
     },
     "32bba04f435c4ee9a3900417aa222d6d": {
      "model_module": "@jupyter-widgets/base",
      "model_module_version": "1.1.0",
      "model_name": "LayoutModel",
      "state": {
       "width": "300px"
      }
     },
     "32cb1848fa1f4e5ea3ec4c357fc07b16": {
      "model_module": "@jupyter-widgets/base",
      "model_module_version": "1.1.0",
      "model_name": "LayoutModel",
      "state": {
       "width": "300px"
      }
     },
     "32db5bbba9f0444e8b6315fbe626d0ab": {
      "model_module": "@jupyter-widgets/base",
      "model_module_version": "1.1.0",
      "model_name": "LayoutModel",
      "state": {}
     },
     "3364082136424cd29b239e13699cc3cb": {
      "model_module": "@jupyter-widgets/base",
      "model_module_version": "1.1.0",
      "model_name": "LayoutModel",
      "state": {}
     },
     "3398c890035d4cfcabe960578f13c068": {
      "model_module": "@jupyter-widgets/controls",
      "model_module_version": "1.4.0",
      "model_name": "ButtonModel",
      "state": {
       "button_style": "success",
       "description": "Start Manual Alignment",
       "layout": "IPY_MODEL_0a32aab5afdb49638138b0cbb3a96fcd",
       "style": "IPY_MODEL_b1a322410afd49bc9106bf51e8f9dde8",
       "tooltip": "Click me"
      }
     },
     "33a5bdac45a44c53af158ebaae852d79": {
      "model_module": "@jupyter-widgets/base",
      "model_module_version": "1.1.0",
      "model_name": "LayoutModel",
      "state": {}
     },
     "33e7a37e19f6406ca83ece2676204e2a": {
      "model_module": "@jupyter-widgets/output",
      "model_module_version": "1.0.0",
      "model_name": "OutputModel",
      "state": {
       "layout": "IPY_MODEL_587ef15b64ed46ebad4683141fe01207"
      }
     },
     "3404e15aed1541c2839252793fe43b7f": {
      "model_module": "@jupyter-widgets/controls",
      "model_module_version": "1.4.0",
      "model_name": "DescriptionStyleModel",
      "state": {
       "description_width": "initial"
      }
     },
     "34416f269b724f529835c226b5c6a7a6": {
      "model_module": "@jupyter-widgets/controls",
      "model_module_version": "1.4.0",
      "model_name": "DescriptionStyleModel",
      "state": {
       "description_width": "initial"
      }
     },
     "3447304cf0294bf79bb5167cdae04bcc": {
      "model_module": "@jupyter-widgets/base",
      "model_module_version": "1.1.0",
      "model_name": "LayoutModel",
      "state": {}
     },
     "349900411aec49ecacea28a750ec8beb": {
      "model_module": "@jupyter-widgets/controls",
      "model_module_version": "1.4.0",
      "model_name": "CheckboxModel",
      "state": {
       "description": "Print log in Notebook's cells",
       "disabled": false,
       "layout": "IPY_MODEL_b15164e9d56b49a994ae3dcb0cfd9ecf",
       "style": "IPY_MODEL_37037f33151942e0b4b677381f7171a3",
       "value": false
      }
     },
     "355c8e4aadd64d788132cce4e0c6524f": {
      "model_module": "@jupyter-widgets/base",
      "model_module_version": "1.1.0",
      "model_name": "LayoutModel",
      "state": {}
     },
     "3560db3163c948038cf88cb60f5f3e73": {
      "model_module": "@jupyter-widgets/base",
      "model_module_version": "1.1.0",
      "model_name": "LayoutModel",
      "state": {}
     },
     "35798bc0310444b79366f7cc05a1ed15": {
      "model_module": "@jupyter-widgets/controls",
      "model_module_version": "1.4.0",
      "model_name": "ButtonStyleModel",
      "state": {}
     },
     "35c099457ff84ab4be89bcfc187a1140": {
      "model_module": "@jupyter-widgets/controls",
      "model_module_version": "1.4.0",
      "model_name": "DescriptionStyleModel",
      "state": {
       "description_width": "initial"
      }
     },
     "35c7ba26e90c4b8895d319b223bbc301": {
      "model_module": "@jupyter-widgets/base",
      "model_module_version": "1.1.0",
      "model_name": "LayoutModel",
      "state": {
       "width": "300px"
      }
     },
     "35ee25d52b504771979737ff005f18f3": {
      "model_module": "@jupyter-widgets/base",
      "model_module_version": "1.1.0",
      "model_name": "LayoutModel",
      "state": {}
     },
     "37037f33151942e0b4b677381f7171a3": {
      "model_module": "@jupyter-widgets/controls",
      "model_module_version": "1.4.0",
      "model_name": "DescriptionStyleModel",
      "state": {
       "description_width": "initial"
      }
     },
     "383fb327a6ec4e5084ce3fa213e9df0f": {
      "model_module": "@jupyter-widgets/output",
      "model_module_version": "1.0.0",
      "model_name": "OutputModel",
      "state": {
       "layout": "IPY_MODEL_e77c4d328381482099744e4a1748bc97"
      }
     },
     "386ae063df16493a85f2c4da3ba216b1": {
      "model_module": "@jupyter-widgets/controls",
      "model_module_version": "1.4.0",
      "model_name": "VBoxModel",
      "state": {
       "children": [
        "IPY_MODEL_1d2cfe52088a4eb7b9e1ab406ab87833"
       ],
       "layout": "IPY_MODEL_32db5bbba9f0444e8b6315fbe626d0ab"
      }
     },
     "39223fa589b840f381a63fd91d39cb9c": {
      "model_module": "@jupyter-widgets/base",
      "model_module_version": "1.1.0",
      "model_name": "LayoutModel",
      "state": {}
     },
     "396f05e0322c42878d45246dc86439a4": {
      "model_module": "@jupyter-widgets/base",
      "model_module_version": "1.1.0",
      "model_name": "LayoutModel",
      "state": {}
     },
     "398a6f1b1b974083907285a1b17cb264": {
      "model_module": "@jupyter-widgets/controls",
      "model_module_version": "1.4.0",
      "model_name": "VBoxModel",
      "state": {
       "children": [
        "IPY_MODEL_0883b7b003be49b28969543da76eeaac"
       ],
       "layout": "IPY_MODEL_a8eff283f39748e6b4223aa8f94c0023"
      }
     },
     "3a5dc17824844ce4a1ba1817db84be24": {
      "model_module": "@jupyter-widgets/base",
      "model_module_version": "1.1.0",
      "model_name": "LayoutModel",
      "state": {
       "width": "300px"
      }
     },
     "3ae31f8429ad4a6e9768bc111e232eab": {
      "model_module": "@jupyter-widgets/controls",
      "model_module_version": "1.4.0",
      "model_name": "DescriptionStyleModel",
      "state": {
       "description_width": ""
      }
     },
     "3cc15496a715454a8d1c83ff0173406c": {
      "model_module": "@jupyter-widgets/base",
      "model_module_version": "1.1.0",
      "model_name": "LayoutModel",
      "state": {}
     },
     "3d4d86ca03cc4b6aaeb84c334bd7e21e": {
      "model_module": "@jupyter-widgets/controls",
      "model_module_version": "1.4.0",
      "model_name": "TextModel",
      "state": {
       "layout": "IPY_MODEL_fa27163ea8764dce928cc021af5e6f23",
       "placeholder": "Type the notebook's name without file format",
       "style": "IPY_MODEL_98823575a22e4889b495757d6d5955d5",
       "value": "laser-beam-alignment"
      }
     },
     "3d4fcb77b3d14a8e845a3515e790bc84": {
      "model_module": "@jupyter-widgets/base",
      "model_module_version": "1.1.0",
      "model_name": "LayoutModel",
      "state": {}
     },
     "3e3ba7c5c57c449482cc424973e2cf48": {
      "model_module": "@jupyter-widgets/base",
      "model_module_version": "1.1.0",
      "model_name": "LayoutModel",
      "state": {}
     },
     "3e45a55408f347639b164b522850d073": {
      "model_module": "@jupyter-widgets/controls",
      "model_module_version": "1.4.0",
      "model_name": "DescriptionStyleModel",
      "state": {
       "description_width": ""
      }
     },
     "3e9b0b6d2f9648559db6d6bf6fd837ae": {
      "model_module": "@jupyter-widgets/base",
      "model_module_version": "1.1.0",
      "model_name": "LayoutModel",
      "state": {}
     },
     "3ec8fd3d8baf4e29b58a568cdd8e70e2": {
      "model_module": "plotlywidget",
      "model_module_version": "0.8.0",
      "model_name": "FigureModel",
      "state": {
       "_config": {
        "plotlyServerURL": "https://plot.ly"
       },
       "_js2py_layoutDelta": {},
       "_js2py_pointsCallback": {},
       "_js2py_relayout": {},
       "_js2py_restyle": {},
       "_js2py_traceDeltas": {},
       "_js2py_update": {},
       "_layout": {
        "template": {}
       },
       "_model_module_version": "0.8.0",
       "_py2js_addTraces": {},
       "_py2js_animate": {},
       "_py2js_deleteTraces": {},
       "_py2js_moveTraces": {},
       "_py2js_removeLayoutProps": {},
       "_py2js_removeTraceProps": {},
       "_py2js_restyle": {},
       "_py2js_update": {},
       "_view_count": 0,
       "_view_module_version": "0.8.0"
      }
     },
     "3ef295c68daa4697a1dc95310e83ac87": {
      "model_module": "@jupyter-widgets/output",
      "model_module_version": "1.0.0",
      "model_name": "OutputModel",
      "state": {
       "layout": "IPY_MODEL_a4ac5ab374ad46f5bc39b78f69db68af"
      }
     },
     "3f9e5e26597c44629d8db775a15de1e5": {
      "model_module": "@jupyter-widgets/controls",
      "model_module_version": "1.4.0",
      "model_name": "CheckboxModel",
      "state": {
       "description": "Plot with Plotly after scan ends: ",
       "disabled": false,
       "layout": "IPY_MODEL_07e40d414f6c46919fc5252879ed6871",
       "style": "IPY_MODEL_e5bf7243984d4274a61cc4cc99864c82",
       "value": false
      }
     },
     "405ccabc0ac2433ba6d4a18e91bd00b0": {
      "model_module": "@jupyter-widgets/controls",
      "model_module_version": "1.4.0",
      "model_name": "DescriptionStyleModel",
      "state": {
       "description_width": "initial"
      }
     },
     "40943ee438f04dc18a832bf075b0b80c": {
      "model_module": "@jupyter-widgets/output",
      "model_module_version": "1.0.0",
      "model_name": "OutputModel",
      "state": {
       "layout": "IPY_MODEL_bfb39c11e35b4df198471057311b5c85",
       "outputs": [
        {
         "data": {
          "application/javascript": "IPython.notebook.save_checkpoint();",
          "text/plain": "<IPython.core.display.Javascript object>"
         },
         "metadata": {},
         "output_type": "display_data"
        },
        {
         "data": {
          "application/javascript": "IPython.notebook.save_checkpoint();",
          "text/plain": "<IPython.core.display.Javascript object>"
         },
         "metadata": {},
         "output_type": "display_data"
        }
       ]
      }
     },
     "40e75d0a7593492296c918a7e495812f": {
      "model_module": "@jupyter-widgets/controls",
      "model_module_version": "1.4.0",
      "model_name": "ButtonModel",
      "state": {
       "button_style": "warning",
       "description": "Export Notebook to PDF",
       "layout": "IPY_MODEL_e489ee9b4dfe45a7941e530c1cc3ecd2",
       "style": "IPY_MODEL_6dd7ff0c6f624c26abdce1219e8955ad",
       "tooltip": "Click me"
      }
     },
     "4106be2cd1d249b496ebd524f12c4d37": {
      "model_module": "@jupyter-widgets/controls",
      "model_module_version": "1.4.0",
      "model_name": "ButtonStyleModel",
      "state": {}
     },
     "41e6328065884d6caef63eb44ab47f35": {
      "model_module": "@jupyter-widgets/controls",
      "model_module_version": "1.4.0",
      "model_name": "TextareaModel",
      "state": {
       "layout": "IPY_MODEL_cc3558aa6c2f4fe2845cf8fd32d3219c",
       "placeholder": "Example: IOC:m1 IOC:m3 LNLS:TEST:motor_g3",
       "style": "IPY_MODEL_e65dcdae1d02407796419ea858319f12"
      }
     },
     "42e334271e10419c8d70595310d6eadf": {
      "model_module": "@jupyter-widgets/output",
      "model_module_version": "1.0.0",
      "model_name": "OutputModel",
      "state": {
       "layout": "IPY_MODEL_1325383fecdc4c38afe53f70455b3445"
      }
     },
     "434b49bf1f584a94856dac6719617fc2": {
      "model_module": "@jupyter-widgets/base",
      "model_module_version": "1.1.0",
      "model_name": "LayoutModel",
      "state": {}
     },
     "4388a003855543e6b15fb890a0a243e4": {
      "model_module": "@jupyter-widgets/base",
      "model_module_version": "1.1.0",
      "model_name": "LayoutModel",
      "state": {}
     },
     "44a2986dd46c480984233f134e968ed7": {
      "model_module": "@jupyter-widgets/base",
      "model_module_version": "1.1.0",
      "model_name": "LayoutModel",
      "state": {}
     },
     "45383e1fd0fd4bf89524b7bb938b58b5": {
      "model_module": "@jupyter-widgets/base",
      "model_module_version": "1.1.0",
      "model_name": "LayoutModel",
      "state": {
       "width": "300px"
      }
     },
     "453eec51863f415fba7a7429b4662604": {
      "model_module": "@jupyter-widgets/base",
      "model_module_version": "1.1.0",
      "model_name": "LayoutModel",
      "state": {}
     },
     "45cd0ef9369941c89b9c79a4d1b8b62d": {
      "model_module": "@jupyter-widgets/controls",
      "model_module_version": "1.4.0",
      "model_name": "DescriptionStyleModel",
      "state": {
       "description_width": ""
      }
     },
     "4620d9b671824e44ad51d183f6b8aeb9": {
      "model_module": "@jupyter-widgets/controls",
      "model_module_version": "1.4.0",
      "model_name": "ButtonStyleModel",
      "state": {}
     },
     "467d257328394ef88923bf8c2f4cf15a": {
      "model_module": "@jupyter-widgets/controls",
      "model_module_version": "1.4.0",
      "model_name": "DropdownModel",
      "state": {
       "_options_labels": [
        "Plot after ends with PyQt",
        "Plot after ends with Plotly",
        "Live Plot"
       ],
       "index": 0,
       "layout": "IPY_MODEL_9c909e99a31c45e29ce03eb022dde6bb",
       "style": "IPY_MODEL_b2a8ee9079ff40fc9caaabd38e0dd31a"
      }
     },
     "4742e1e8f46d4489b67d086f39803795": {
      "model_module": "@jupyter-widgets/output",
      "model_module_version": "1.0.0",
      "model_name": "OutputModel",
      "state": {
       "layout": "IPY_MODEL_7f11108a751f48139e86f7343a4f8100"
      }
     },
     "477bea41bf9145aea5c8e7a29da0874f": {
      "model_module": "@jupyter-widgets/base",
      "model_module_version": "1.1.0",
      "model_name": "LayoutModel",
      "state": {}
     },
     "47d4136a52f74c7bab5c2392a51d2bc8": {
      "model_module": "@jupyter-widgets/controls",
      "model_module_version": "1.4.0",
      "model_name": "DescriptionStyleModel",
      "state": {
       "description_width": "initial"
      }
     },
     "4862427261e94830b1c4cef40c8e0c44": {
      "model_module": "@jupyter-widgets/base",
      "model_module_version": "1.1.0",
      "model_name": "LayoutModel",
      "state": {}
     },
     "48fc32cd50ac4a40ab34bc45adcbc285": {
      "model_module": "@jupyter-widgets/base",
      "model_module_version": "1.1.0",
      "model_name": "LayoutModel",
      "state": {}
     },
     "4a1541ebec294d10ba9d3ae623445481": {
      "model_module": "@jupyter-widgets/base",
      "model_module_version": "1.1.0",
      "model_name": "LayoutModel",
      "state": {}
     },
     "4a793935dfc545e8a0955a49926088df": {
      "model_module": "@jupyter-widgets/base",
      "model_module_version": "1.1.0",
      "model_name": "LayoutModel",
      "state": {
       "width": "300px"
      }
     },
     "4ae94c25c35c4fd2bcbb5f7120472298": {
      "model_module": "@jupyter-widgets/base",
      "model_module_version": "1.1.0",
      "model_name": "LayoutModel",
      "state": {}
     },
     "4af1ca026e714e518abcdbbd82be2cda": {
      "model_module": "@jupyter-widgets/controls",
      "model_module_version": "1.4.0",
      "model_name": "ButtonStyleModel",
      "state": {}
     },
     "4bd0e8257ba14600937f2a80bc73f521": {
      "model_module": "@jupyter-widgets/controls",
      "model_module_version": "1.4.0",
      "model_name": "DescriptionStyleModel",
      "state": {
       "description_width": "initial"
      }
     },
     "4c8d13794a6846149c8c100e52d10a3b": {
      "model_module": "@jupyter-widgets/controls",
      "model_module_version": "1.4.0",
      "model_name": "LabelModel",
      "state": {
       "layout": "IPY_MODEL_db40ac7aef444115a1087fdb08286b25",
       "style": "IPY_MODEL_e465a64e54884b6ab58e23fb3653893a",
       "value": "No motors initilized to be showed."
      }
     },
     "4cc4625ac8da40f4b8a19fe68721a742": {
      "model_module": "@jupyter-widgets/base",
      "model_module_version": "1.1.0",
      "model_name": "LayoutModel",
      "state": {}
     },
     "4dedd3711ad644f8b485d916c2ca4b15": {
      "model_module": "@jupyter-widgets/controls",
      "model_module_version": "1.4.0",
      "model_name": "VBoxModel",
      "state": {
       "children": [
        "IPY_MODEL_19ab40f239404a2bb9cd05da778710d0"
       ],
       "layout": "IPY_MODEL_791baee3387b4e2488c711bc1459a66d"
      }
     },
     "4ec3918b4af24c6c9f63030d9428b1db": {
      "model_module": "@jupyter-widgets/controls",
      "model_module_version": "1.4.0",
      "model_name": "DropdownModel",
      "state": {
       "_options_labels": [
        "Plot after ends with PyQt",
        "Plot after ends with Plotly",
        "Live Plot"
       ],
       "index": 0,
       "layout": "IPY_MODEL_d336abeca204416b84f7bba1b29c5115",
       "style": "IPY_MODEL_5a3e92f48d2f4c799b0d32dbabfc46d4"
      }
     },
     "4eef63959fdc43d18d0953b5d03a64bd": {
      "model_module": "@jupyter-widgets/base",
      "model_module_version": "1.1.0",
      "model_name": "LayoutModel",
      "state": {}
     },
     "4f62b5d3f7434cf1bcd757d4eb8108b7": {
      "model_module": "@jupyter-widgets/controls",
      "model_module_version": "1.4.0",
      "model_name": "VBoxModel",
      "state": {
       "children": [
        "IPY_MODEL_bb24a6637837435ba4d33b2f49054d7c"
       ],
       "layout": "IPY_MODEL_4a1541ebec294d10ba9d3ae623445481"
      }
     },
     "4fdd40a9d5c54fcdbadc4dec868a326a": {
      "model_module": "@jupyter-widgets/base",
      "model_module_version": "1.1.0",
      "model_name": "LayoutModel",
      "state": {
       "width": "300px"
      }
     },
     "4fe0ff48c2f740179d9296fe19684cab": {
      "model_module": "@jupyter-widgets/controls",
      "model_module_version": "1.4.0",
      "model_name": "DescriptionStyleModel",
      "state": {
       "description_width": ""
      }
     },
     "510e4dc4414d47d79c011c8124b49933": {
      "model_module": "@jupyter-widgets/base",
      "model_module_version": "1.1.0",
      "model_name": "LayoutModel",
      "state": {}
     },
     "51ba8f61b46e4c4c9cb0bf7233d9a86f": {
      "model_module": "@jupyter-widgets/controls",
      "model_module_version": "1.4.0",
      "model_name": "DescriptionStyleModel",
      "state": {
       "description_width": "initial"
      }
     },
     "52371af7732b4acdb2145a9e7b22ca9b": {
      "model_module": "@jupyter-widgets/controls",
      "model_module_version": "1.4.0",
      "model_name": "CheckboxModel",
      "state": {
       "description": "Print log in Notebook's cells",
       "disabled": false,
       "layout": "IPY_MODEL_233b2a8c60ea4c0cb6086a4c1e9ee40c",
       "style": "IPY_MODEL_35c099457ff84ab4be89bcfc187a1140",
       "value": false
      }
     },
     "52f82174073a4c36a378590f002fbb18": {
      "model_module": "@jupyter-widgets/output",
      "model_module_version": "1.0.0",
      "model_name": "OutputModel",
      "state": {
       "layout": "IPY_MODEL_714fb55094bd460582c1aed6f86adf6c"
      }
     },
     "5300d1a7116542fda3a2c50cea89c281": {
      "model_module": "@jupyter-widgets/controls",
      "model_module_version": "1.4.0",
      "model_name": "ButtonModel",
      "state": {
       "button_style": "success",
       "description": "Start Motor Initializaton",
       "layout": "IPY_MODEL_06a5076450b04c3ab8d5dde5e90dbf6f",
       "style": "IPY_MODEL_00b80dff2ad443aaae963f493e5728eb",
       "tooltip": "Click me"
      }
     },
     "54cf2df4da584b1bb0cf34ea868b6187": {
      "model_module": "@jupyter-widgets/controls",
      "model_module_version": "1.4.0",
      "model_name": "DescriptionStyleModel",
      "state": {
       "description_width": "initial"
      }
     },
     "553d0d352f5e498ca78f7d086f3401bb": {
      "model_module": "@jupyter-widgets/output",
      "model_module_version": "1.0.0",
      "model_name": "OutputModel",
      "state": {
       "layout": "IPY_MODEL_111eb8da88374c59bfcf7e639f957fbc"
      }
     },
     "554a7dd4d3ae4c3cbe16014af3b6e6c0": {
      "model_module": "@jupyter-widgets/controls",
      "model_module_version": "1.4.0",
      "model_name": "DescriptionStyleModel",
      "state": {
       "description_width": ""
      }
     },
     "5631855fd0b144ec8ad2d7e0430afbf4": {
      "model_module": "@jupyter-widgets/base",
      "model_module_version": "1.1.0",
      "model_name": "LayoutModel",
      "state": {}
     },
     "587ef15b64ed46ebad4683141fe01207": {
      "model_module": "@jupyter-widgets/base",
      "model_module_version": "1.1.0",
      "model_name": "LayoutModel",
      "state": {}
     },
     "5897ffd66b6748f6b2b82dbb268ad5bf": {
      "model_module": "@jupyter-widgets/base",
      "model_module_version": "1.1.0",
      "model_name": "LayoutModel",
      "state": {}
     },
     "5a3e92f48d2f4c799b0d32dbabfc46d4": {
      "model_module": "@jupyter-widgets/controls",
      "model_module_version": "1.4.0",
      "model_name": "DescriptionStyleModel",
      "state": {
       "description_width": "initial"
      }
     },
     "5a7d1aae3b6c4a4a92992aede8012bf7": {
      "model_module": "@jupyter-widgets/base",
      "model_module_version": "1.1.0",
      "model_name": "LayoutModel",
      "state": {}
     },
     "5a847d8dca6c45d6a6051a35fc931173": {
      "model_module": "@jupyter-widgets/output",
      "model_module_version": "1.0.0",
      "model_name": "OutputModel",
      "state": {
       "layout": "IPY_MODEL_9486a484c648483ca80123adac32a1d8"
      }
     },
     "5baf8c19abed47bba136c09948a8d29b": {
      "model_module": "@jupyter-widgets/base",
      "model_module_version": "1.1.0",
      "model_name": "LayoutModel",
      "state": {}
     },
     "5bdcfbb06afc44b590171db334765986": {
      "model_module": "@jupyter-widgets/output",
      "model_module_version": "1.0.0",
      "model_name": "OutputModel",
      "state": {
       "layout": "IPY_MODEL_75b238fe629343a299b4f870921b464f"
      }
     },
     "5d15b424cdf843c0a36136f3793bd13f": {
      "model_module": "@jupyter-widgets/controls",
      "model_module_version": "1.4.0",
      "model_name": "DescriptionStyleModel",
      "state": {
       "description_width": "initial"
      }
     },
     "5d2e35f7580348a597f8f4aa8842a55d": {
      "model_module": "@jupyter-widgets/controls",
      "model_module_version": "1.4.0",
      "model_name": "CheckboxModel",
      "state": {
       "description": "Print log in Notebook's cells",
       "disabled": false,
       "layout": "IPY_MODEL_9e30036188ac4a7db508b73b1767c949",
       "style": "IPY_MODEL_bd86166a310945e680b50feae16666c3",
       "value": false
      }
     },
     "5da4bfa860fb44409bf7e26759ac4557": {
      "model_module": "@jupyter-widgets/output",
      "model_module_version": "1.0.0",
      "model_name": "OutputModel",
      "state": {
       "layout": "IPY_MODEL_4eef63959fdc43d18d0953b5d03a64bd"
      }
     },
     "5deb3887f1e1462588efe736c6ed6760": {
      "model_module": "@jupyter-widgets/output",
      "model_module_version": "1.0.0",
      "model_name": "OutputModel",
      "state": {
       "layout": "IPY_MODEL_fef387a8622349b984224773af70481d"
      }
     },
     "5e80fac9b61a42d7986c983fa19d7bcc": {
      "model_module": "@jupyter-widgets/base",
      "model_module_version": "1.1.0",
      "model_name": "LayoutModel",
      "state": {}
     },
     "60d2d94347464a0f81c803a748db98a7": {
      "model_module": "@jupyter-widgets/controls",
      "model_module_version": "1.4.0",
      "model_name": "ButtonModel",
      "state": {
       "button_style": "warning",
       "description": "Export Notebook to HTML",
       "layout": "IPY_MODEL_e7942b25fc344a288963722df614fb7d",
       "style": "IPY_MODEL_31ebcff779914b43bb453b8d1f3dd354",
       "tooltip": "Click me"
      }
     },
     "61a67984928e464187f8079d9b2297a9": {
      "model_module": "@jupyter-widgets/base",
      "model_module_version": "1.1.0",
      "model_name": "LayoutModel",
      "state": {}
     },
     "61ae1ed34ed24d00b33b5d88ed87dea8": {
      "model_module": "@jupyter-widgets/base",
      "model_module_version": "1.1.0",
      "model_name": "LayoutModel",
      "state": {}
     },
     "626ed1c861ab40ca98bfa59e4cd4e829": {
      "model_module": "@jupyter-widgets/controls",
      "model_module_version": "1.4.0",
      "model_name": "ButtonModel",
      "state": {
       "button_style": "warning",
       "description": "Export Notebook to PDF",
       "layout": "IPY_MODEL_19dff03314bb428588aa06a17a22480a",
       "style": "IPY_MODEL_eb2cf6f27b264891b71dad8cdc93a8d4",
       "tooltip": "Click me"
      }
     },
     "62958b74fb5946ecb80431ac7bb88746": {
      "model_module": "@jupyter-widgets/base",
      "model_module_version": "1.1.0",
      "model_name": "LayoutModel",
      "state": {}
     },
     "62cbecd092df41b0a4201998703d826e": {
      "model_module": "@jupyter-widgets/base",
      "model_module_version": "1.1.0",
      "model_name": "LayoutModel",
      "state": {}
     },
     "63b0ce473cc745fd97960d1b60848592": {
      "model_module": "@jupyter-widgets/controls",
      "model_module_version": "1.4.0",
      "model_name": "CheckboxModel",
      "state": {
       "description": "Print log in Notebook's cells",
       "disabled": false,
       "layout": "IPY_MODEL_67d4a70fb4b2401eac44b7a9ed984505",
       "style": "IPY_MODEL_d734ffb48b6746a8aea5ce89c13a2899",
       "value": false
      }
     },
     "647414ee3a8b4b7a8db0458ef11a7496": {
      "model_module": "@jupyter-widgets/output",
      "model_module_version": "1.0.0",
      "model_name": "OutputModel",
      "state": {
       "layout": "IPY_MODEL_b243f60487804652a5dd4ff2c20509f6"
      }
     },
     "647fa8bdaeab43afb22a959b639738b7": {
      "model_module": "@jupyter-widgets/base",
      "model_module_version": "1.1.0",
      "model_name": "LayoutModel",
      "state": {}
     },
     "64a064bc1e7247e7b6423bcb802be2e2": {
      "model_module": "@jupyter-widgets/controls",
      "model_module_version": "1.4.0",
      "model_name": "ButtonModel",
      "state": {
       "button_style": "success",
       "description": "Start PV Monitoring",
       "layout": "IPY_MODEL_4a793935dfc545e8a0955a49926088df",
       "style": "IPY_MODEL_c88be5c59f454b3ba9cb53953a480afe",
       "tooltip": "Click me"
      }
     },
     "658d69f3ca244df1a94ab5fde7493399": {
      "model_module": "@jupyter-widgets/output",
      "model_module_version": "1.0.0",
      "model_name": "OutputModel",
      "state": {
       "layout": "IPY_MODEL_62cbecd092df41b0a4201998703d826e"
      }
     },
     "65da49f7ceb5471b8dcb7f28f0f69578": {
      "model_module": "@jupyter-widgets/controls",
      "model_module_version": "1.4.0",
      "model_name": "DescriptionStyleModel",
      "state": {
       "description_width": ""
      }
     },
     "6605367af2474000a73d9f9d2dc0fe7e": {
      "model_module": "@jupyter-widgets/base",
      "model_module_version": "1.1.0",
      "model_name": "LayoutModel",
      "state": {}
     },
     "6661637844474ec2ba0ece5618a30f69": {
      "model_module": "@jupyter-widgets/base",
      "model_module_version": "1.1.0",
      "model_name": "LayoutModel",
      "state": {}
     },
     "6672a6ebf6f84d0f95065c2a0809a843": {
      "model_module": "@jupyter-widgets/controls",
      "model_module_version": "1.4.0",
      "model_name": "LabelModel",
      "state": {
       "layout": "IPY_MODEL_3e3ba7c5c57c449482cc424973e2cf48",
       "style": "IPY_MODEL_98659ca907d94cc29f2d55ac21d558e0",
       "value": "No motors initilized to be showed."
      }
     },
     "67d4a70fb4b2401eac44b7a9ed984505": {
      "model_module": "@jupyter-widgets/base",
      "model_module_version": "1.1.0",
      "model_name": "LayoutModel",
      "state": {}
     },
     "681bbbdbad6f4565a33309813fa71ff1": {
      "model_module": "@jupyter-widgets/base",
      "model_module_version": "1.1.0",
      "model_name": "LayoutModel",
      "state": {}
     },
     "68600ff9ba9048f09ce77b7a4c381596": {
      "model_module": "@jupyter-widgets/controls",
      "model_module_version": "1.4.0",
      "model_name": "DescriptionStyleModel",
      "state": {
       "description_width": ""
      }
     },
     "69336a6e74e1400c8041fa32df3715b6": {
      "model_module": "@jupyter-widgets/base",
      "model_module_version": "1.1.0",
      "model_name": "LayoutModel",
      "state": {}
     },
     "69b4ff2d8eea42ccb3dfbd96e43be971": {
      "model_module": "@jupyter-widgets/controls",
      "model_module_version": "1.4.0",
      "model_name": "DescriptionStyleModel",
      "state": {
       "description_width": ""
      }
     },
     "69bd64c719d14563bddbcbb71a387a17": {
      "model_module": "@jupyter-widgets/output",
      "model_module_version": "1.0.0",
      "model_name": "OutputModel",
      "state": {
       "layout": "IPY_MODEL_1148ef56217542f1b3b6dcff1b515bff"
      }
     },
     "69ceb640842a4d50ab61ab71b2c2687b": {
      "model_module": "@jupyter-widgets/controls",
      "model_module_version": "1.4.0",
      "model_name": "DescriptionStyleModel",
      "state": {
       "description_width": ""
      }
     },
     "6b5062985cf24188a69ec9d2785e17bc": {
      "model_module": "@jupyter-widgets/base",
      "model_module_version": "1.1.0",
      "model_name": "LayoutModel",
      "state": {}
     },
     "6c74f9a7165d4399928b2a821527c840": {
      "model_module": "@jupyter-widgets/base",
      "model_module_version": "1.1.0",
      "model_name": "LayoutModel",
      "state": {}
     },
     "6dc8892c526142c3ab461ca1583386fa": {
      "model_module": "@jupyter-widgets/controls",
      "model_module_version": "1.4.0",
      "model_name": "CheckboxModel",
      "state": {
       "description": "Print log in Notebook's cells",
       "disabled": false,
       "layout": "IPY_MODEL_0125d730c9c546ad90698ae55e2fa89e",
       "style": "IPY_MODEL_1346111740a445f79f6184ba65d55e20",
       "value": false
      }
     },
     "6dd7ff0c6f624c26abdce1219e8955ad": {
      "model_module": "@jupyter-widgets/controls",
      "model_module_version": "1.4.0",
      "model_name": "ButtonStyleModel",
      "state": {}
     },
     "6e5a4283ba7d4a299ad2e081512a94dd": {
      "model_module": "@jupyter-widgets/controls",
      "model_module_version": "1.4.0",
      "model_name": "HBoxModel",
      "state": {
       "children": [
        "IPY_MODEL_a3ebe82e1b6345c5ac3f904ba00d2ed9",
        "IPY_MODEL_e8785d0edb314d30ab4ff3756c130fd9"
       ],
       "layout": "IPY_MODEL_051372b6e0e5490099b548af7b7dc8dc"
      }
     },
     "6e66b65e7e86441e9a54b36c14db9ad3": {
      "model_module": "@jupyter-widgets/controls",
      "model_module_version": "1.4.0",
      "model_name": "ButtonModel",
      "state": {
       "button_style": "success",
       "description": "Start PV Monitoring",
       "layout": "IPY_MODEL_a43368abecb94c4081e9b07cc60a3230",
       "style": "IPY_MODEL_e78a05801da84f298f83d95e2dee0019",
       "tooltip": "Click me"
      }
     },
     "6eb502319ce44c4189c72542f2dc6977": {
      "model_module": "@jupyter-widgets/base",
      "model_module_version": "1.1.0",
      "model_name": "LayoutModel",
      "state": {}
     },
     "7023c104e35d46bb97dce927fd2deca4": {
      "model_module": "@jupyter-widgets/base",
      "model_module_version": "1.1.0",
      "model_name": "LayoutModel",
      "state": {}
     },
     "703a492e2d7f457a9f738abfaa02194f": {
      "model_module": "@jupyter-widgets/controls",
      "model_module_version": "1.4.0",
      "model_name": "DescriptionStyleModel",
      "state": {
       "description_width": ""
      }
     },
     "7069ee5c36c34a108c1ed7111e938aee": {
      "model_module": "@jupyter-widgets/base",
      "model_module_version": "1.1.0",
      "model_name": "LayoutModel",
      "state": {}
     },
     "708de16b480447cd967cf899befb3578": {
      "model_module": "@jupyter-widgets/controls",
      "model_module_version": "1.4.0",
      "model_name": "ButtonStyleModel",
      "state": {}
     },
     "70dffb7450fe4e748d97401ce24365e8": {
      "model_module": "@jupyter-widgets/base",
      "model_module_version": "1.1.0",
      "model_name": "LayoutModel",
      "state": {}
     },
     "70e4e6ca0d4945b986c3dde23dc63937": {
      "model_module": "@jupyter-widgets/base",
      "model_module_version": "1.1.0",
      "model_name": "LayoutModel",
      "state": {
       "width": "300px"
      }
     },
     "7142ace2499845e1a539410703d409b1": {
      "model_module": "@jupyter-widgets/base",
      "model_module_version": "1.1.0",
      "model_name": "LayoutModel",
      "state": {}
     },
     "714511ce78da481b883aca444c7a70a9": {
      "model_module": "@jupyter-widgets/controls",
      "model_module_version": "1.4.0",
      "model_name": "DescriptionStyleModel",
      "state": {
       "description_width": ""
      }
     },
     "7147a08eaea44c548a1bfe3a579357d0": {
      "model_module": "@jupyter-widgets/controls",
      "model_module_version": "1.4.0",
      "model_name": "DescriptionStyleModel",
      "state": {
       "description_width": ""
      }
     },
     "714fb55094bd460582c1aed6f86adf6c": {
      "model_module": "@jupyter-widgets/base",
      "model_module_version": "1.1.0",
      "model_name": "LayoutModel",
      "state": {}
     },
     "71c99590dbd84df58bd6ca0bf65c0a4c": {
      "model_module": "@jupyter-widgets/controls",
      "model_module_version": "1.4.0",
      "model_name": "LabelModel",
      "state": {
       "layout": "IPY_MODEL_be5f91a097fe46d1a8a8acbd79c0c185",
       "style": "IPY_MODEL_9e4a24668ea945c0827de5e3c1a5d689",
       "value": "Notebook's name: "
      }
     },
     "71d7eaef66ec4a8ead5283bf1cdacedb": {
      "model_module": "@jupyter-widgets/controls",
      "model_module_version": "1.4.0",
      "model_name": "ButtonModel",
      "state": {
       "button_style": "warning",
       "description": "Export Notebook to PDF",
       "layout": "IPY_MODEL_f98bea50352f4200ad026a39c65fff2a",
       "style": "IPY_MODEL_76da596d83d44053be9e34404fa8715c",
       "tooltip": "Click me"
      }
     },
     "721da0d74ffd421291469f34801b7010": {
      "model_module": "@jupyter-widgets/controls",
      "model_module_version": "1.4.0",
      "model_name": "ButtonStyleModel",
      "state": {}
     },
     "72b969575f26498faba1dfad2175596e": {
      "model_module": "@jupyter-widgets/controls",
      "model_module_version": "1.4.0",
      "model_name": "HBoxModel",
      "state": {
       "children": [
        "IPY_MODEL_71c99590dbd84df58bd6ca0bf65c0a4c",
        "IPY_MODEL_0995897667eb427a8ef3dd89ac908811"
       ],
       "layout": "IPY_MODEL_b1dd7658a20646319da8e6220f173205"
      }
     },
     "72fa5fa63d3141949229a6d183928b44": {
      "model_module": "@jupyter-widgets/controls",
      "model_module_version": "1.4.0",
      "model_name": "DescriptionStyleModel",
      "state": {
       "description_width": "initial"
      }
     },
     "73bb43537a884355b221a18c930ace5c": {
      "model_module": "@jupyter-widgets/controls",
      "model_module_version": "1.4.0",
      "model_name": "ButtonStyleModel",
      "state": {}
     },
     "74106c8918654f3c955f7ca1c46d1dad": {
      "model_module": "@jupyter-widgets/controls",
      "model_module_version": "1.4.0",
      "model_name": "LabelModel",
      "state": {
       "layout": "IPY_MODEL_25691f7b732045e39a283dce889e472f",
       "style": "IPY_MODEL_d2acc2be870a4b40aacacf77219d452a",
       "value": "No motors initilized to be showed."
      }
     },
     "74115c1e88e64b909bf8184201aa49a0": {
      "model_module": "@jupyter-widgets/controls",
      "model_module_version": "1.4.0",
      "model_name": "ButtonStyleModel",
      "state": {}
     },
     "74c522ce07b349ed82e123aba1712a2d": {
      "model_module": "@jupyter-widgets/base",
      "model_module_version": "1.1.0",
      "model_name": "LayoutModel",
      "state": {
       "width": "300px"
      }
     },
     "75b238fe629343a299b4f870921b464f": {
      "model_module": "@jupyter-widgets/base",
      "model_module_version": "1.1.0",
      "model_name": "LayoutModel",
      "state": {}
     },
     "7691151be8274e9ea193691dbe2c225c": {
      "model_module": "@jupyter-widgets/controls",
      "model_module_version": "1.4.0",
      "model_name": "ButtonStyleModel",
      "state": {}
     },
     "76b327a2d4244e5a8f60dcf8890cfed2": {
      "model_module": "@jupyter-widgets/base",
      "model_module_version": "1.1.0",
      "model_name": "LayoutModel",
      "state": {
       "width": "300px"
      }
     },
     "76d1385d82b343f2a59303c4878eecf5": {
      "model_module": "@jupyter-widgets/controls",
      "model_module_version": "1.4.0",
      "model_name": "ButtonStyleModel",
      "state": {}
     },
     "76da596d83d44053be9e34404fa8715c": {
      "model_module": "@jupyter-widgets/controls",
      "model_module_version": "1.4.0",
      "model_name": "ButtonStyleModel",
      "state": {}
     },
     "76f144da2f3b4cd897c4877ee36e6284": {
      "model_module": "@jupyter-widgets/output",
      "model_module_version": "1.0.0",
      "model_name": "OutputModel",
      "state": {
       "layout": "IPY_MODEL_189d366b6e764dc3a274425cdfd44775"
      }
     },
     "78474289620f45ee918a9270488b778b": {
      "model_module": "@jupyter-widgets/controls",
      "model_module_version": "1.4.0",
      "model_name": "VBoxModel",
      "state": {
       "children": [
        "IPY_MODEL_6e66b65e7e86441e9a54b36c14db9ad3",
        "IPY_MODEL_19c58501ebeb45759637c86acd3327fd"
       ],
       "layout": "IPY_MODEL_22b24401b29245d0af0a9e44a0db251c"
      }
     },
     "7885830dd03c4d72a8e240e64e88e6bd": {
      "model_module": "@jupyter-widgets/output",
      "model_module_version": "1.0.0",
      "model_name": "OutputModel",
      "state": {
       "layout": "IPY_MODEL_2944177ad83b44279d68ec857a0bcb8c"
      }
     },
     "78f464a4586d4c7faa4ae600df58e0cd": {
      "model_module": "@jupyter-widgets/controls",
      "model_module_version": "1.4.0",
      "model_name": "ButtonModel",
      "state": {
       "button_style": "warning",
       "description": "Export Notebook to PDF",
       "layout": "IPY_MODEL_a8fd61ae013b4e55924674d12a930fcb",
       "style": "IPY_MODEL_cfa962a27f274e61b841004ca0733af5",
       "tooltip": "Click me"
      }
     },
     "791baee3387b4e2488c711bc1459a66d": {
      "model_module": "@jupyter-widgets/base",
      "model_module_version": "1.1.0",
      "model_name": "LayoutModel",
      "state": {}
     },
     "797db05aa12d40fcbe45fd025275ab81": {
      "model_module": "@jupyter-widgets/base",
      "model_module_version": "1.1.0",
      "model_name": "LayoutModel",
      "state": {}
     },
     "7a346434f3e341678ec78d3a97ff4b79": {
      "model_module": "@jupyter-widgets/controls",
      "model_module_version": "1.4.0",
      "model_name": "LabelModel",
      "state": {
       "layout": "IPY_MODEL_c4868929df89470492f87df35b9deaeb",
       "style": "IPY_MODEL_65da49f7ceb5471b8dcb7f28f0f69578",
       "value": "No motors initilized to be showed."
      }
     },
     "7ac7a01b20e8438c88f3d679a2fb062c": {
      "model_module": "@jupyter-widgets/controls",
      "model_module_version": "1.4.0",
      "model_name": "TextareaModel",
      "state": {
       "layout": "IPY_MODEL_86f6be75b016432cacb21356718ef024",
       "placeholder": "Example: IOC:m1 IOC:m3 LNLS:TEST:motor_g3",
       "style": "IPY_MODEL_2c304a4c13e047418d2b0ec53255f006"
      }
     },
     "7acc80cac0dc4edf9c57a1d67aee0e0c": {
      "model_module": "@jupyter-widgets/controls",
      "model_module_version": "1.4.0",
      "model_name": "DescriptionStyleModel",
      "state": {
       "description_width": "initial"
      }
     },
     "7b5742cf8e024cdfb45a8c9dc0cb7c29": {
      "model_module": "@jupyter-widgets/controls",
      "model_module_version": "1.4.0",
      "model_name": "HBoxModel",
      "state": {
       "children": [
        "IPY_MODEL_eeb443e6e98d4eca8e947fd09196a06c",
        "IPY_MODEL_3d4d86ca03cc4b6aaeb84c334bd7e21e"
       ],
       "layout": "IPY_MODEL_973ffae63ce54dcda076339e7e8cea78"
      }
     },
     "7c5bdd6d95a74f00a5cd797a7e35beb0": {
      "model_module": "@jupyter-widgets/controls",
      "model_module_version": "1.4.0",
      "model_name": "CheckboxModel",
      "state": {
       "description": "Plot with Plotly after scan ends: ",
       "disabled": false,
       "layout": "IPY_MODEL_923d1df78cb14743baf144c4b514f517",
       "style": "IPY_MODEL_7d723e87a8c442b7aa09445940fb716e",
       "value": false
      }
     },
     "7d723e87a8c442b7aa09445940fb716e": {
      "model_module": "@jupyter-widgets/controls",
      "model_module_version": "1.4.0",
      "model_name": "DescriptionStyleModel",
      "state": {
       "description_width": "initial"
      }
     },
     "7df2509ca7804ba18e35cead37453bb6": {
      "model_module": "@jupyter-widgets/controls",
      "model_module_version": "1.4.0",
      "model_name": "VBoxModel",
      "state": {
       "children": [
        "IPY_MODEL_af7c8e5223834ddcbc631ffd102d3668",
        "IPY_MODEL_2997337208f748bfa1b094bcec1923a8"
       ],
       "layout": "IPY_MODEL_33a5bdac45a44c53af158ebaae852d79"
      }
     },
     "7e319dabc53f4d6f8b54f12bac8b91fc": {
      "model_module": "@jupyter-widgets/controls",
      "model_module_version": "1.4.0",
      "model_name": "DescriptionStyleModel",
      "state": {
       "description_width": ""
      }
     },
     "7f11108a751f48139e86f7343a4f8100": {
      "model_module": "@jupyter-widgets/base",
      "model_module_version": "1.1.0",
      "model_name": "LayoutModel",
      "state": {}
     },
     "819437b5ce814693a15dacdd689861df": {
      "model_module": "@jupyter-widgets/base",
      "model_module_version": "1.1.0",
      "model_name": "LayoutModel",
      "state": {}
     },
     "819a3a4dc4534166bfe7101a43c1e9ee": {
      "model_module": "@jupyter-widgets/controls",
      "model_module_version": "1.4.0",
      "model_name": "VBoxModel",
      "state": {
       "children": [
        "IPY_MODEL_0af3ad3c0de84b1180b701efbb75563e",
        "IPY_MODEL_5300d1a7116542fda3a2c50cea89c281"
       ],
       "layout": "IPY_MODEL_5631855fd0b144ec8ad2d7e0430afbf4"
      }
     },
     "81a5320970b54496b9968b3100cb23df": {
      "model_module": "@jupyter-widgets/base",
      "model_module_version": "1.1.0",
      "model_name": "LayoutModel",
      "state": {}
     },
     "8272921e56494b84b052ea052ede8235": {
      "model_module": "@jupyter-widgets/base",
      "model_module_version": "1.1.0",
      "model_name": "LayoutModel",
      "state": {}
     },
     "827d6fef395446b5abc51f5d448bc7c5": {
      "model_module": "@jupyter-widgets/base",
      "model_module_version": "1.1.0",
      "model_name": "LayoutModel",
      "state": {}
     },
     "82efc298995b4d459493fa232233f4be": {
      "model_module": "@jupyter-widgets/base",
      "model_module_version": "1.1.0",
      "model_name": "LayoutModel",
      "state": {}
     },
     "837bb46b65d04603abd41c1191796397": {
      "model_module": "@jupyter-widgets/controls",
      "model_module_version": "1.4.0",
      "model_name": "CheckboxModel",
      "state": {
       "description": "Live plot in Jupyter: ",
       "disabled": false,
       "layout": "IPY_MODEL_de9d964fe9514bf180b68b01ca731cfd",
       "style": "IPY_MODEL_54cf2df4da584b1bb0cf34ea868b6187",
       "value": false
      }
     },
     "83c5456506ad42ec8d28777cd06d17cd": {
      "model_module": "@jupyter-widgets/base",
      "model_module_version": "1.1.0",
      "model_name": "LayoutModel",
      "state": {
       "width": "300px"
      }
     },
     "84521f91c71b46e39298443fe5aa6276": {
      "model_module": "@jupyter-widgets/output",
      "model_module_version": "1.0.0",
      "model_name": "OutputModel",
      "state": {
       "layout": "IPY_MODEL_797db05aa12d40fcbe45fd025275ab81"
      }
     },
     "8533328c33f64898a725c254789a81dd": {
      "model_module": "@jupyter-widgets/controls",
      "model_module_version": "1.4.0",
      "model_name": "HBoxModel",
      "state": {
       "children": [
        "IPY_MODEL_95294f88a91346cfa3d7d835704e59a1",
        "IPY_MODEL_d020d244c6f04f6693a728615851a9d9"
       ],
       "layout": "IPY_MODEL_c330c25ee5244d5680580544d6937afe"
      }
     },
     "8596e4f4888a4b7a984adc06a14cdddd": {
      "model_module": "@jupyter-widgets/base",
      "model_module_version": "1.1.0",
      "model_name": "LayoutModel",
      "state": {
       "width": "300px"
      }
     },
     "8681cd94b67c4d809155704f1e403d94": {
      "model_module": "@jupyter-widgets/output",
      "model_module_version": "1.0.0",
      "model_name": "OutputModel",
      "state": {
       "layout": "IPY_MODEL_396f05e0322c42878d45246dc86439a4"
      }
     },
     "86e308c779c549e69dd70573ef37d61f": {
      "model_module": "@jupyter-widgets/base",
      "model_module_version": "1.1.0",
      "model_name": "LayoutModel",
      "state": {}
     },
     "86f6be75b016432cacb21356718ef024": {
      "model_module": "@jupyter-widgets/base",
      "model_module_version": "1.1.0",
      "model_name": "LayoutModel",
      "state": {}
     },
     "874c335934594c68b2a22f981f21de61": {
      "model_module": "@jupyter-widgets/output",
      "model_module_version": "1.0.0",
      "model_name": "OutputModel",
      "state": {
       "layout": "IPY_MODEL_f182bc10ac344bc0be3a900bd019a588"
      }
     },
     "889429bd896544db8e15654e32a81d97": {
      "model_module": "@jupyter-widgets/output",
      "model_module_version": "1.0.0",
      "model_name": "OutputModel",
      "state": {
       "layout": "IPY_MODEL_110a4f46086e4d4db0c06560eef58b18"
      }
     },
     "88b41946c5774827b11496841991e490": {
      "model_module": "@jupyter-widgets/base",
      "model_module_version": "1.1.0",
      "model_name": "LayoutModel",
      "state": {}
     },
     "88cf48b5e05441159355b203eacfe28a": {
      "model_module": "@jupyter-widgets/controls",
      "model_module_version": "1.4.0",
      "model_name": "BoxModel",
      "state": {
       "layout": "IPY_MODEL_c43edafd5da54e6d99239010502cb916"
      }
     },
     "8957ff3912384a62a106464cd6be2f93": {
      "model_module": "@jupyter-widgets/base",
      "model_module_version": "1.1.0",
      "model_name": "LayoutModel",
      "state": {}
     },
     "89d744d8f9574292a65a6b8a77521e0c": {
      "model_module": "@jupyter-widgets/output",
      "model_module_version": "1.0.0",
      "model_name": "OutputModel",
      "state": {
       "layout": "IPY_MODEL_0cbf83b3267e4913bbcf98e7314b3817"
      }
     },
     "8c21570563c84c12952de01306c83e51": {
      "model_module": "@jupyter-widgets/controls",
      "model_module_version": "1.4.0",
      "model_name": "VBoxModel",
      "state": {
       "children": [
        "IPY_MODEL_e27670bb13ec4e5eb4ca7a22db871812"
       ],
       "layout": "IPY_MODEL_1c42274462fc4f5e8a59d4c0a703119d"
      }
     },
     "8c67bbd5504841bb8a3969caf5bff2c7": {
      "model_module": "@jupyter-widgets/controls",
      "model_module_version": "1.4.0",
      "model_name": "ButtonStyleModel",
      "state": {}
     },
     "8cbfe33bfa5a4c9bbcc8f670fd56852f": {
      "model_module": "@jupyter-widgets/controls",
      "model_module_version": "1.4.0",
      "model_name": "CheckboxModel",
      "state": {
       "description": "Plot with PyQtGraph after scan ends: ",
       "disabled": false,
       "layout": "IPY_MODEL_e247dc2fd4284e12b5776c3f1ed64d4d",
       "style": "IPY_MODEL_cea581f68d1d45afa76e4c12abcdb7dc",
       "value": true
      }
     },
     "8d40e636da92425cb648a0274cae7bb3": {
      "model_module": "@jupyter-widgets/controls",
      "model_module_version": "1.4.0",
      "model_name": "DescriptionStyleModel",
      "state": {
       "description_width": "initial"
      }
     },
     "8dc69243c9974302a40d103a7a6eaade": {
      "model_module": "@jupyter-widgets/controls",
      "model_module_version": "1.4.0",
      "model_name": "CheckboxModel",
      "state": {
       "description": "Print log in Notebook's cells",
       "disabled": false,
       "layout": "IPY_MODEL_c899bae031f540b2bd99e2a63571c374",
       "style": "IPY_MODEL_405ccabc0ac2433ba6d4a18e91bd00b0",
       "value": false
      }
     },
     "8dea800631d54a68b15e1009a608ee5c": {
      "model_module": "@jupyter-widgets/base",
      "model_module_version": "1.1.0",
      "model_name": "LayoutModel",
      "state": {}
     },
     "90bc9c1fe2874c3b968bc80a49962946": {
      "model_module": "plotlywidget",
      "model_module_version": "0.8.0",
      "model_name": "FigureModel",
      "state": {
       "_config": {
        "plotlyServerURL": "https://plot.ly"
       },
       "_js2py_layoutDelta": {},
       "_js2py_pointsCallback": {},
       "_js2py_relayout": {},
       "_js2py_restyle": {},
       "_js2py_traceDeltas": {},
       "_js2py_update": {},
       "_layout": {
        "template": {}
       },
       "_model_module_version": "0.8.0",
       "_py2js_addTraces": {},
       "_py2js_animate": {},
       "_py2js_deleteTraces": {},
       "_py2js_moveTraces": {},
       "_py2js_removeLayoutProps": {},
       "_py2js_removeTraceProps": {},
       "_py2js_restyle": {},
       "_py2js_update": {},
       "_view_count": 0,
       "_view_module_version": "0.8.0"
      }
     },
     "9149a49ba3414c7bac06bafbdb8a8a08": {
      "model_module": "@jupyter-widgets/output",
      "model_module_version": "1.0.0",
      "model_name": "OutputModel",
      "state": {
       "layout": "IPY_MODEL_f7f3c09e4cf94412a69e2ab27079dbf0",
       "outputs": [
        {
         "data": {
          "application/javascript": "IPython.notebook.save_checkpoint();",
          "text/plain": "<IPython.core.display.Javascript object>"
         },
         "metadata": {},
         "output_type": "display_data"
        },
        {
         "data": {
          "application/javascript": "IPython.notebook.save_checkpoint();",
          "text/plain": "<IPython.core.display.Javascript object>"
         },
         "metadata": {},
         "output_type": "display_data"
        }
       ]
      }
     },
     "923d1df78cb14743baf144c4b514f517": {
      "model_module": "@jupyter-widgets/base",
      "model_module_version": "1.1.0",
      "model_name": "LayoutModel",
      "state": {}
     },
     "93dd4a2729924461b51cad8413e195fd": {
      "model_module": "@jupyter-widgets/controls",
      "model_module_version": "1.4.0",
      "model_name": "LabelModel",
      "state": {
       "layout": "IPY_MODEL_3560db3163c948038cf88cb60f5f3e73",
       "style": "IPY_MODEL_05ef149914fc4db38bd2cbbdf16312ac",
       "value": "Notebook's name: "
      }
     },
     "9433ce3710bf43198b0b3454d610127c": {
      "model_module": "@jupyter-widgets/base",
      "model_module_version": "1.1.0",
      "model_name": "LayoutModel",
      "state": {}
     },
     "943ffb6867c544e594b1676bf5d5d3e3": {
      "model_module": "@jupyter-widgets/base",
      "model_module_version": "1.1.0",
      "model_name": "LayoutModel",
      "state": {}
     },
     "9486a484c648483ca80123adac32a1d8": {
      "model_module": "@jupyter-widgets/base",
      "model_module_version": "1.1.0",
      "model_name": "LayoutModel",
      "state": {}
     },
     "948f779aedde427f829fc2064d80dca0": {
      "model_module": "@jupyter-widgets/base",
      "model_module_version": "1.1.0",
      "model_name": "LayoutModel",
      "state": {}
     },
     "94c81681a0e94fbaad4164d4e8770aed": {
      "model_module": "@jupyter-widgets/base",
      "model_module_version": "1.1.0",
      "model_name": "LayoutModel",
      "state": {}
     },
     "94ec5b28bdfb424f8ca31c80d8223910": {
      "model_module": "@jupyter-widgets/controls",
      "model_module_version": "1.4.0",
      "model_name": "TextareaModel",
      "state": {
       "layout": "IPY_MODEL_f98b457330e84a1f9f10c56858d2b5c2",
       "placeholder": "Example: IOC:m1.DMOV IOC:m3.RBV LNLS:ANEL:corrente.VAL",
       "style": "IPY_MODEL_0561fa3167ed4f358819418fe0d48af9"
      }
     },
     "95294f88a91346cfa3d7d835704e59a1": {
      "model_module": "@jupyter-widgets/controls",
      "model_module_version": "1.4.0",
      "model_name": "LabelModel",
      "state": {
       "layout": "IPY_MODEL_7069ee5c36c34a108c1ed7111e938aee",
       "style": "IPY_MODEL_714511ce78da481b883aca444c7a70a9",
       "value": "Notebook's name: "
      }
     },
     "96365f75145c435ebceed810a9d2963a": {
      "model_module": "@jupyter-widgets/controls",
      "model_module_version": "1.4.0",
      "model_name": "ButtonModel",
      "state": {
       "button_style": "success",
       "description": "Start Motor Initializaton",
       "layout": "IPY_MODEL_0e4a45a4b8414320990b3ff8d4e9a7dd",
       "style": "IPY_MODEL_aa8c747ee8934feebf709fccbe166a0d",
       "tooltip": "Click me"
      }
     },
     "967acf93a1a64d75a0f7cd53dfdc8352": {
      "model_module": "@jupyter-widgets/base",
      "model_module_version": "1.1.0",
      "model_name": "LayoutModel",
      "state": {}
     },
     "973ffae63ce54dcda076339e7e8cea78": {
      "model_module": "@jupyter-widgets/base",
      "model_module_version": "1.1.0",
      "model_name": "LayoutModel",
      "state": {}
     },
     "97b9314855ab4c639fe51f7c9fef178e": {
      "model_module": "@jupyter-widgets/controls",
      "model_module_version": "1.4.0",
      "model_name": "CheckboxModel",
      "state": {
       "description": "Print log in Notebook's cells",
       "disabled": false,
       "layout": "IPY_MODEL_3d4fcb77b3d14a8e845a3515e790bc84",
       "style": "IPY_MODEL_271c06ff376f491db9d5ecad5e544e29",
       "value": false
      }
     },
     "97f423c25da14d23b89c46bc7a7a3232": {
      "model_module": "@jupyter-widgets/controls",
      "model_module_version": "1.4.0",
      "model_name": "DescriptionStyleModel",
      "state": {
       "description_width": "initial"
      }
     },
     "98214cb53cf94207979ab7132cc0d480": {
      "model_module": "@jupyter-widgets/controls",
      "model_module_version": "1.4.0",
      "model_name": "ButtonStyleModel",
      "state": {}
     },
     "98659ca907d94cc29f2d55ac21d558e0": {
      "model_module": "@jupyter-widgets/controls",
      "model_module_version": "1.4.0",
      "model_name": "DescriptionStyleModel",
      "state": {
       "description_width": ""
      }
     },
     "98823575a22e4889b495757d6d5955d5": {
      "model_module": "@jupyter-widgets/controls",
      "model_module_version": "1.4.0",
      "model_name": "DescriptionStyleModel",
      "state": {
       "description_width": ""
      }
     },
     "9915ff1b25d941e28d39f3f7dc60f158": {
      "model_module": "@jupyter-widgets/base",
      "model_module_version": "1.1.0",
      "model_name": "LayoutModel",
      "state": {}
     },
     "993fc84dedf54c008adcbe92cd7284ea": {
      "model_module": "@jupyter-widgets/controls",
      "model_module_version": "1.4.0",
      "model_name": "BoxModel",
      "state": {
       "layout": "IPY_MODEL_434b49bf1f584a94856dac6719617fc2"
      }
     },
     "99d077ba1f6942d6ac1af6506692c035": {
      "model_module": "@jupyter-widgets/controls",
      "model_module_version": "1.4.0",
      "model_name": "ButtonModel",
      "state": {
       "button_style": "success",
       "description": "Start Scanning Plot",
       "layout": "IPY_MODEL_3a5dc17824844ce4a1ba1817db84be24",
       "style": "IPY_MODEL_afe1e1cfab0449f8949545cd4fc54292",
       "tooltip": "Click me"
      }
     },
     "9ab4900c297b4de18a6eb29c35f8fedd": {
      "model_module": "@jupyter-widgets/base",
      "model_module_version": "1.1.0",
      "model_name": "LayoutModel",
      "state": {}
     },
     "9b366db72c3040ae9c1dc892a51f5bcf": {
      "model_module": "@jupyter-widgets/base",
      "model_module_version": "1.1.0",
      "model_name": "LayoutModel",
      "state": {}
     },
     "9baab22ed88f4fa894af491dee0076c8": {
      "model_module": "@jupyter-widgets/controls",
      "model_module_version": "1.4.0",
      "model_name": "CheckboxModel",
      "state": {
       "description": "Print log in Notebook's cells",
       "disabled": false,
       "layout": "IPY_MODEL_5a7d1aae3b6c4a4a92992aede8012bf7",
       "style": "IPY_MODEL_8d40e636da92425cb648a0274cae7bb3",
       "value": false
      }
     },
     "9bcb969f65cc49b6bccabe3cb648139c": {
      "model_module": "@jupyter-widgets/controls",
      "model_module_version": "1.4.0",
      "model_name": "VBoxModel",
      "state": {
       "children": [
        "IPY_MODEL_2f8622deab01425f8041d1c172f4efd1"
       ],
       "layout": "IPY_MODEL_2c63d0c1951241f286ed85e2a1d126e1"
      }
     },
     "9c2425ecf4864756900bacc23bbd1f85": {
      "model_module": "@jupyter-widgets/base",
      "model_module_version": "1.1.0",
      "model_name": "LayoutModel",
      "state": {}
     },
     "9c438d536bc54f9184981e248d817a0e": {
      "model_module": "@jupyter-widgets/base",
      "model_module_version": "1.1.0",
      "model_name": "LayoutModel",
      "state": {
       "width": "300px"
      }
     },
     "9c909e99a31c45e29ce03eb022dde6bb": {
      "model_module": "@jupyter-widgets/base",
      "model_module_version": "1.1.0",
      "model_name": "LayoutModel",
      "state": {}
     },
     "9cff99f30e9b483e83760551a147a1e3": {
      "model_module": "@jupyter-widgets/base",
      "model_module_version": "1.1.0",
      "model_name": "LayoutModel",
      "state": {}
     },
     "9de9c9197fc34fea9735ca1b23e3d895": {
      "model_module": "@jupyter-widgets/base",
      "model_module_version": "1.1.0",
      "model_name": "LayoutModel",
      "state": {}
     },
     "9e30036188ac4a7db508b73b1767c949": {
      "model_module": "@jupyter-widgets/base",
      "model_module_version": "1.1.0",
      "model_name": "LayoutModel",
      "state": {}
     },
     "9e4a24668ea945c0827de5e3c1a5d689": {
      "model_module": "@jupyter-widgets/controls",
      "model_module_version": "1.4.0",
      "model_name": "DescriptionStyleModel",
      "state": {
       "description_width": ""
      }
     },
     "9ea314ad1105444f9bdefaa61ed012c2": {
      "model_module": "@jupyter-widgets/base",
      "model_module_version": "1.1.0",
      "model_name": "LayoutModel",
      "state": {}
     },
     "9f19ed6666e0404bb47cd8dd9c6f118a": {
      "model_module": "@jupyter-widgets/base",
      "model_module_version": "1.1.0",
      "model_name": "LayoutModel",
      "state": {}
     },
     "a02130cee0854d24a9a6e7095e51cb04": {
      "model_module": "@jupyter-widgets/base",
      "model_module_version": "1.1.0",
      "model_name": "LayoutModel",
      "state": {}
     },
     "a15214d685534a4895e7c86aa4e2e97c": {
      "model_module": "@jupyter-widgets/base",
      "model_module_version": "1.1.0",
      "model_name": "LayoutModel",
      "state": {
       "width": "300px"
      }
     },
     "a2743b1ffb124baa89630bcbf5a58bbf": {
      "model_module": "@jupyter-widgets/output",
      "model_module_version": "1.0.0",
      "model_name": "OutputModel",
      "state": {
       "layout": "IPY_MODEL_453eec51863f415fba7a7429b4662604"
      }
     },
     "a33dabe30aab44f8922b10eebbcb09c9": {
      "model_module": "@jupyter-widgets/controls",
      "model_module_version": "1.4.0",
      "model_name": "ButtonStyleModel",
      "state": {}
     },
     "a3e81eda311949c49bf41927320ed019": {
      "model_module": "@jupyter-widgets/controls",
      "model_module_version": "1.4.0",
      "model_name": "ButtonStyleModel",
      "state": {}
     },
     "a3ebe82e1b6345c5ac3f904ba00d2ed9": {
      "model_module": "@jupyter-widgets/controls",
      "model_module_version": "1.4.0",
      "model_name": "LabelModel",
      "state": {
       "layout": "IPY_MODEL_4388a003855543e6b15fb890a0a243e4",
       "style": "IPY_MODEL_69ceb640842a4d50ab61ab71b2c2687b",
       "value": "Notebook's name: "
      }
     },
     "a3f974abd293449f85456d1cb55f73a9": {
      "model_module": "@jupyter-widgets/base",
      "model_module_version": "1.1.0",
      "model_name": "LayoutModel",
      "state": {
       "width": "300px"
      }
     },
     "a43368abecb94c4081e9b07cc60a3230": {
      "model_module": "@jupyter-widgets/base",
      "model_module_version": "1.1.0",
      "model_name": "LayoutModel",
      "state": {
       "width": "300px"
      }
     },
     "a43de56fd6dc4044ab921b760bf2aeaf": {
      "model_module": "@jupyter-widgets/base",
      "model_module_version": "1.1.0",
      "model_name": "LayoutModel",
      "state": {
       "width": "300px"
      }
     },
     "a4ac5ab374ad46f5bc39b78f69db68af": {
      "model_module": "@jupyter-widgets/base",
      "model_module_version": "1.1.0",
      "model_name": "LayoutModel",
      "state": {}
     },
     "a60e8aa982b54341802a211a753f689e": {
      "model_module": "@jupyter-widgets/base",
      "model_module_version": "1.1.0",
      "model_name": "LayoutModel",
      "state": {
       "height": "40px",
       "width": "40px"
      }
     },
     "a7f2d72113b44280992fca5f7e9b2f67": {
      "model_module": "@jupyter-widgets/base",
      "model_module_version": "1.1.0",
      "model_name": "LayoutModel",
      "state": {}
     },
     "a7f9aacc8d5c434eb6029eb4bcdfd021": {
      "model_module": "@jupyter-widgets/output",
      "model_module_version": "1.0.0",
      "model_name": "OutputModel",
      "state": {
       "layout": "IPY_MODEL_9c2425ecf4864756900bacc23bbd1f85"
      }
     },
     "a887b21e189f4e10911413d3140c34c5": {
      "model_module": "plotlywidget",
      "model_module_version": "0.8.0",
      "model_name": "FigureModel",
      "state": {
       "_config": {
        "plotlyServerURL": "https://plot.ly"
       },
       "_js2py_layoutDelta": {},
       "_js2py_pointsCallback": {},
       "_js2py_relayout": {},
       "_js2py_restyle": {},
       "_js2py_traceDeltas": {},
       "_js2py_update": {},
       "_layout": {
        "template": {}
       },
       "_model_module_version": "0.8.0",
       "_py2js_addTraces": {},
       "_py2js_animate": {},
       "_py2js_deleteTraces": {},
       "_py2js_moveTraces": {},
       "_py2js_removeLayoutProps": {},
       "_py2js_removeTraceProps": {},
       "_py2js_restyle": {},
       "_py2js_update": {},
       "_view_count": 0,
       "_view_module_version": "0.8.0"
      }
     },
     "a88ab2cdb7a34af885394eaff4b88e2e": {
      "model_module": "@jupyter-widgets/controls",
      "model_module_version": "1.4.0",
      "model_name": "CheckboxModel",
      "state": {
       "description": "Print log in Notebook's cells",
       "disabled": false,
       "layout": "IPY_MODEL_3364082136424cd29b239e13699cc3cb",
       "style": "IPY_MODEL_e820b0ca656a4d3db3363374f791061e",
       "value": false
      }
     },
     "a8a472e05e8241088d4a93323455457a": {
      "model_module": "@jupyter-widgets/controls",
      "model_module_version": "1.4.0",
      "model_name": "DescriptionStyleModel",
      "state": {
       "description_width": ""
      }
     },
     "a8eff283f39748e6b4223aa8f94c0023": {
      "model_module": "@jupyter-widgets/base",
      "model_module_version": "1.1.0",
      "model_name": "LayoutModel",
      "state": {}
     },
     "a8fd61ae013b4e55924674d12a930fcb": {
      "model_module": "@jupyter-widgets/base",
      "model_module_version": "1.1.0",
      "model_name": "LayoutModel",
      "state": {
       "width": "300px"
      }
     },
     "a955c04ea21744b0b9101d7d6215b3d1": {
      "model_module": "@jupyter-widgets/controls",
      "model_module_version": "1.4.0",
      "model_name": "DescriptionStyleModel",
      "state": {
       "description_width": ""
      }
     },
     "a9bead63906c439c87e4eb3cebe6d4f1": {
      "model_module": "@jupyter-widgets/base",
      "model_module_version": "1.1.0",
      "model_name": "LayoutModel",
      "state": {}
     },
     "aa4f78a14df949fd866a8437aed36e83": {
      "model_module": "@jupyter-widgets/base",
      "model_module_version": "1.1.0",
      "model_name": "LayoutModel",
      "state": {
       "width": "300px"
      }
     },
     "aa8c747ee8934feebf709fccbe166a0d": {
      "model_module": "@jupyter-widgets/controls",
      "model_module_version": "1.4.0",
      "model_name": "ButtonStyleModel",
      "state": {}
     },
     "aaa5e88c64b148408a25bb22ebb21eba": {
      "model_module": "@jupyter-widgets/controls",
      "model_module_version": "1.4.0",
      "model_name": "VBoxModel",
      "state": {
       "children": [
        "IPY_MODEL_99d077ba1f6942d6ac1af6506692c035"
       ],
       "layout": "IPY_MODEL_477bea41bf9145aea5c8e7a29da0874f"
      }
     },
     "abad4ba9905941689ca27bf4785fc75d": {
      "model_module": "@jupyter-widgets/controls",
      "model_module_version": "1.4.0",
      "model_name": "CheckboxModel",
      "state": {
       "description": "Live plot in Jupyter: ",
       "disabled": false,
       "layout": "IPY_MODEL_943ffb6867c544e594b1676bf5d5d3e3",
       "style": "IPY_MODEL_4bd0e8257ba14600937f2a80bc73f521",
       "value": false
      }
     },
     "ac6f3577f66d4dcba98503d6177c3afa": {
      "model_module": "@jupyter-widgets/base",
      "model_module_version": "1.1.0",
      "model_name": "LayoutModel",
      "state": {}
     },
     "ad2e68d3a1cb447c8ba4f39612cc0720": {
      "model_module": "@jupyter-widgets/controls",
      "model_module_version": "1.4.0",
      "model_name": "DescriptionStyleModel",
      "state": {
       "description_width": ""
      }
     },
     "ae411af223df48c28cd674bc1ad0f6fc": {
      "model_module": "@jupyter-widgets/controls",
      "model_module_version": "1.4.0",
      "model_name": "DescriptionStyleModel",
      "state": {
       "description_width": ""
      }
     },
     "aeb400f8ca024e3790ead17b6744926a": {
      "model_module": "@jupyter-widgets/base",
      "model_module_version": "1.1.0",
      "model_name": "LayoutModel",
      "state": {
       "width": "300px"
      }
     },
     "af7c8e5223834ddcbc631ffd102d3668": {
      "model_module": "@jupyter-widgets/controls",
      "model_module_version": "1.4.0",
      "model_name": "TextareaModel",
      "state": {
       "layout": "IPY_MODEL_171954c805e540e0b7f2b29fbe41cdf5",
       "placeholder": "Example: IOC:m1 IOC:m3 LNLS:TEST:motor_g3",
       "style": "IPY_MODEL_69b4ff2d8eea42ccb3dfbd96e43be971"
      }
     },
     "afe1e1cfab0449f8949545cd4fc54292": {
      "model_module": "@jupyter-widgets/controls",
      "model_module_version": "1.4.0",
      "model_name": "ButtonStyleModel",
      "state": {}
     },
     "aff154572c4e4edd912ddb46f8db63d9": {
      "model_module": "@jupyter-widgets/controls",
      "model_module_version": "1.4.0",
      "model_name": "DescriptionStyleModel",
      "state": {
       "description_width": "initial"
      }
     },
     "b035f30d14c447f89b5f053230875016": {
      "model_module": "@jupyter-widgets/controls",
      "model_module_version": "1.4.0",
      "model_name": "ButtonStyleModel",
      "state": {}
     },
     "b05b8df9106d4c6293389ed0ff56a5ff": {
      "model_module": "@jupyter-widgets/controls",
      "model_module_version": "1.4.0",
      "model_name": "TextModel",
      "state": {
       "layout": "IPY_MODEL_2fd91e306eb14c3fab59129e06368e3b",
       "placeholder": "Type the notebook's name without file format",
       "style": "IPY_MODEL_7147a08eaea44c548a1bfe3a579357d0"
      }
     },
     "b15164e9d56b49a994ae3dcb0cfd9ecf": {
      "model_module": "@jupyter-widgets/base",
      "model_module_version": "1.1.0",
      "model_name": "LayoutModel",
      "state": {}
     },
     "b1a322410afd49bc9106bf51e8f9dde8": {
      "model_module": "@jupyter-widgets/controls",
      "model_module_version": "1.4.0",
      "model_name": "ButtonStyleModel",
      "state": {}
     },
     "b1dd7658a20646319da8e6220f173205": {
      "model_module": "@jupyter-widgets/base",
      "model_module_version": "1.1.0",
      "model_name": "LayoutModel",
      "state": {}
     },
     "b243f60487804652a5dd4ff2c20509f6": {
      "model_module": "@jupyter-widgets/base",
      "model_module_version": "1.1.0",
      "model_name": "LayoutModel",
      "state": {}
     },
     "b2a8ee9079ff40fc9caaabd38e0dd31a": {
      "model_module": "@jupyter-widgets/controls",
      "model_module_version": "1.4.0",
      "model_name": "DescriptionStyleModel",
      "state": {
       "description_width": "initial"
      }
     },
     "b350755337044d2c9f4ef1f86dc03595": {
      "model_module": "@jupyter-widgets/controls",
      "model_module_version": "1.4.0",
      "model_name": "VBoxModel",
      "state": {
       "children": [
        "IPY_MODEL_c2988fe259474261952a86a738d0f0ae"
       ],
       "layout": "IPY_MODEL_ca36d8a91265459796f258ef6464b085"
      }
     },
     "b38fd5c53d4540b5bfd081bf663c853b": {
      "model_module": "@jupyter-widgets/base",
      "model_module_version": "1.1.0",
      "model_name": "LayoutModel",
      "state": {
       "width": "300px"
      }
     },
     "b40b68d4d1f341bfa8ddac3954177e78": {
      "model_module": "@jupyter-widgets/controls",
      "model_module_version": "1.4.0",
      "model_name": "CheckboxModel",
      "state": {
       "description": "Print log in Notebook's cells",
       "disabled": false,
       "layout": "IPY_MODEL_69336a6e74e1400c8041fa32df3715b6",
       "style": "IPY_MODEL_10896c7bea754a5d8b16d2b22beba135",
       "value": false
      }
     },
     "b54d24e599b547f093c2f6f62c2f6bfd": {
      "model_module": "@jupyter-widgets/base",
      "model_module_version": "1.1.0",
      "model_name": "LayoutModel",
      "state": {}
     },
     "b5afdf76ffa148a8bc58553534e540f9": {
      "model_module": "@jupyter-widgets/controls",
      "model_module_version": "1.4.0",
      "model_name": "VBoxModel",
      "state": {
       "children": [
        "IPY_MODEL_dddf594346d74f7daa40a6005e0ec828",
        "IPY_MODEL_bdd3c3b492334cb79398f4592b42acb9"
       ],
       "layout": "IPY_MODEL_bc6e34e8f3aa4d05bd4a009422126535"
      }
     },
     "b644d8d9a1a7450b84e7c63c43a5f53b": {
      "model_module": "@jupyter-widgets/controls",
      "model_module_version": "1.4.0",
      "model_name": "CheckboxModel",
      "state": {
       "description": "Print log in Notebook's cells",
       "disabled": false,
       "layout": "IPY_MODEL_86e308c779c549e69dd70573ef37d61f",
       "style": "IPY_MODEL_72fa5fa63d3141949229a6d183928b44",
       "value": false
      }
     },
     "b6da889b533b45db91d5b9c7120334ad": {
      "model_module": "@jupyter-widgets/base",
      "model_module_version": "1.1.0",
      "model_name": "LayoutModel",
      "state": {}
     },
     "b713dbb2106d4d9a8a22a1a0fea69adf": {
      "model_module": "@jupyter-widgets/output",
      "model_module_version": "1.0.0",
      "model_name": "OutputModel",
      "state": {
       "layout": "IPY_MODEL_d94dbbc66d624a1ca8380929ab195096"
      }
     },
     "b77ba113815c43c99e9d09c08807381c": {
      "model_module": "@jupyter-widgets/controls",
      "model_module_version": "1.4.0",
      "model_name": "ButtonStyleModel",
      "state": {}
     },
     "b7820a8d655c4f63a62664d769970e87": {
      "model_module": "@jupyter-widgets/output",
      "model_module_version": "1.0.0",
      "model_name": "OutputModel",
      "state": {
       "layout": "IPY_MODEL_0a05a01815ec4506a2d5d406df8d8baf"
      }
     },
     "b94f101eb9164a299ef1f6b7cdc9a7e4": {
      "model_module": "@jupyter-widgets/base",
      "model_module_version": "1.1.0",
      "model_name": "LayoutModel",
      "state": {}
     },
     "b9512895054d4aea949b6b5ae9213ac3": {
      "model_module": "@jupyter-widgets/base",
      "model_module_version": "1.1.0",
      "model_name": "LayoutModel",
      "state": {}
     },
     "b95350dd46fd4dfc9bc801ed09ed5883": {
      "model_module": "@jupyter-widgets/controls",
      "model_module_version": "1.4.0",
      "model_name": "ButtonModel",
      "state": {
       "button_style": "warning",
       "description": "Export Notebook to HTML",
       "layout": "IPY_MODEL_32cb1848fa1f4e5ea3ec4c357fc07b16",
       "style": "IPY_MODEL_16bb08720c3f45b78905547a970a4abe",
       "tooltip": "Click me"
      }
     },
     "b99ad89b95bb44c5a412292666768fa8": {
      "model_module": "@jupyter-widgets/base",
      "model_module_version": "1.1.0",
      "model_name": "LayoutModel",
      "state": {}
     },
     "ba045312cb7a4a9dbb29114ef34d63c6": {
      "model_module": "@jupyter-widgets/base",
      "model_module_version": "1.1.0",
      "model_name": "LayoutModel",
      "state": {}
     },
     "baf2e56b14334693ac04bf8e788c94c3": {
      "model_module": "@jupyter-widgets/controls",
      "model_module_version": "1.4.0",
      "model_name": "VBoxModel",
      "state": {
       "children": [
        "IPY_MODEL_41e6328065884d6caef63eb44ab47f35",
        "IPY_MODEL_96365f75145c435ebceed810a9d2963a"
       ],
       "layout": "IPY_MODEL_94c81681a0e94fbaad4164d4e8770aed"
      }
     },
     "bb24a6637837435ba4d33b2f49054d7c": {
      "model_module": "@jupyter-widgets/controls",
      "model_module_version": "1.4.0",
      "model_name": "ButtonModel",
      "state": {
       "button_style": "success",
       "description": "Start Manual Alignment",
       "layout": "IPY_MODEL_e9e0997216214f85acc3a7edfc87ea67",
       "style": "IPY_MODEL_4af1ca026e714e518abcdbbd82be2cda",
       "tooltip": "Click me"
      }
     },
     "bc6e34e8f3aa4d05bd4a009422126535": {
      "model_module": "@jupyter-widgets/base",
      "model_module_version": "1.1.0",
      "model_name": "LayoutModel",
      "state": {}
     },
     "bceeff4415a4406486ecfd1002655131": {
      "model_module": "@jupyter-widgets/output",
      "model_module_version": "1.0.0",
      "model_name": "OutputModel",
      "state": {
       "layout": "IPY_MODEL_f375be4250a74a70b6c8761bc25a3dde",
       "outputs": [
        {
         "data": {
          "application/javascript": "IPython.notebook.save_checkpoint();",
          "text/plain": "<IPython.core.display.Javascript object>"
         },
         "metadata": {},
         "output_type": "display_data"
        },
        {
         "data": {
          "application/javascript": "IPython.notebook.save_checkpoint();",
          "text/plain": "<IPython.core.display.Javascript object>"
         },
         "metadata": {},
         "output_type": "display_data"
        },
        {
         "data": {
          "application/javascript": "IPython.notebook.save_checkpoint();",
          "text/plain": "<IPython.core.display.Javascript object>"
         },
         "metadata": {},
         "output_type": "display_data"
        },
        {
         "data": {
          "application/javascript": "IPython.notebook.save_checkpoint();",
          "text/plain": "<IPython.core.display.Javascript object>"
         },
         "metadata": {},
         "output_type": "display_data"
        },
        {
         "data": {
          "application/javascript": "IPython.notebook.save_checkpoint();",
          "text/plain": "<IPython.core.display.Javascript object>"
         },
         "metadata": {},
         "output_type": "display_data"
        },
        {
         "data": {
          "application/javascript": "IPython.notebook.save_checkpoint();",
          "text/plain": "<IPython.core.display.Javascript object>"
         },
         "metadata": {},
         "output_type": "display_data"
        },
        {
         "data": {
          "application/javascript": "IPython.notebook.save_checkpoint();",
          "text/plain": "<IPython.core.display.Javascript object>"
         },
         "metadata": {},
         "output_type": "display_data"
        },
        {
         "data": {
          "application/javascript": "IPython.notebook.save_checkpoint();",
          "text/plain": "<IPython.core.display.Javascript object>"
         },
         "metadata": {},
         "output_type": "display_data"
        },
        {
         "data": {
          "application/javascript": "IPython.notebook.save_checkpoint();",
          "text/plain": "<IPython.core.display.Javascript object>"
         },
         "metadata": {},
         "output_type": "display_data"
        },
        {
         "data": {
          "application/javascript": "IPython.notebook.save_checkpoint();",
          "text/plain": "<IPython.core.display.Javascript object>"
         },
         "metadata": {},
         "output_type": "display_data"
        }
       ]
      }
     },
     "bd0c6e662a7f44e0be66730c207a4f35": {
      "model_module": "@jupyter-widgets/controls",
      "model_module_version": "1.4.0",
      "model_name": "VBoxModel",
      "state": {
       "children": [
        "IPY_MODEL_64a064bc1e7247e7b6423bcb802be2e2",
        "IPY_MODEL_14060ce3e95f41749f47debbfbeb83ea"
       ],
       "layout": "IPY_MODEL_d4ec657db9734d16adc44ea7d3c7c576"
      }
     },
     "bd86166a310945e680b50feae16666c3": {
      "model_module": "@jupyter-widgets/controls",
      "model_module_version": "1.4.0",
      "model_name": "DescriptionStyleModel",
      "state": {
       "description_width": "initial"
      }
     },
     "bda62a93f38d495d88894e2eb0314651": {
      "model_module": "@jupyter-widgets/base",
      "model_module_version": "1.1.0",
      "model_name": "LayoutModel",
      "state": {
       "width": "300px"
      }
     },
     "bdad1adc5bcc48578f2102011db8ec28": {
      "model_module": "@jupyter-widgets/base",
      "model_module_version": "1.1.0",
      "model_name": "LayoutModel",
      "state": {}
     },
     "bdd3c3b492334cb79398f4592b42acb9": {
      "model_module": "@jupyter-widgets/controls",
      "model_module_version": "1.4.0",
      "model_name": "TextareaModel",
      "state": {
       "layout": "IPY_MODEL_8272921e56494b84b052ea052ede8235",
       "placeholder": "Example: IOC:m1.DMOV IOC:m3.RBV LNLS:ANEL:corrente.VAL",
       "style": "IPY_MODEL_7e319dabc53f4d6f8b54f12bac8b91fc"
      }
     },
     "bde3bdee25864f859fe76f2beaaba78c": {
      "model_module": "@jupyter-widgets/controls",
      "model_module_version": "1.4.0",
      "model_name": "DescriptionStyleModel",
      "state": {
       "description_width": ""
      }
     },
     "be55e347cdb1468d997e7f03c75a7536": {
      "model_module": "@jupyter-widgets/output",
      "model_module_version": "1.0.0",
      "model_name": "OutputModel",
      "state": {
       "layout": "IPY_MODEL_62958b74fb5946ecb80431ac7bb88746"
      }
     },
     "be5f91a097fe46d1a8a8acbd79c0c185": {
      "model_module": "@jupyter-widgets/base",
      "model_module_version": "1.1.0",
      "model_name": "LayoutModel",
      "state": {}
     },
     "bf8ec47540a146d88b6630fc511b7a84": {
      "model_module": "@jupyter-widgets/controls",
      "model_module_version": "1.4.0",
      "model_name": "DescriptionStyleModel",
      "state": {
       "description_width": "initial"
      }
     },
     "bfb39c11e35b4df198471057311b5c85": {
      "model_module": "@jupyter-widgets/base",
      "model_module_version": "1.1.0",
      "model_name": "LayoutModel",
      "state": {}
     },
     "c0c19c64eab34964a50d91fd76298b71": {
      "model_module": "@jupyter-widgets/base",
      "model_module_version": "1.1.0",
      "model_name": "LayoutModel",
      "state": {
       "width": "300px"
      }
     },
     "c115ebec04f94a47875ea03f95622d35": {
      "model_module": "@jupyter-widgets/controls",
      "model_module_version": "1.4.0",
      "model_name": "DescriptionStyleModel",
      "state": {
       "description_width": "initial"
      }
     },
     "c1318aa38c21456a9a2420cf51f2e1f8": {
      "model_module": "@jupyter-widgets/controls",
      "model_module_version": "1.4.0",
      "model_name": "CheckboxModel",
      "state": {
       "description": "Print log in Notebook's cells",
       "disabled": false,
       "layout": "IPY_MODEL_e1e277d49b734f53be3e4a6b6e98f4e6",
       "style": "IPY_MODEL_bf8ec47540a146d88b6630fc511b7a84",
       "value": false
      }
     },
     "c13b572f0f4a4f38bf013fca1708326b": {
      "model_module": "@jupyter-widgets/base",
      "model_module_version": "1.1.0",
      "model_name": "LayoutModel",
      "state": {}
     },
     "c17359a977e5456ab598a8f8fd4f7e78": {
      "model_module": "@jupyter-widgets/base",
      "model_module_version": "1.1.0",
      "model_name": "LayoutModel",
      "state": {}
     },
     "c1b80e774b5c46c7a3ebbdba4bd4544b": {
      "model_module": "@jupyter-widgets/controls",
      "model_module_version": "1.4.0",
      "model_name": "VBoxModel",
      "state": {
       "children": [
        "IPY_MODEL_e0bb6fe3c3944f038ac696857e2c2fcd"
       ],
       "layout": "IPY_MODEL_5e80fac9b61a42d7986c983fa19d7bcc"
      }
     },
     "c211758c46274d0c9336aef3bc5fc675": {
      "model_module": "@jupyter-widgets/controls",
      "model_module_version": "1.4.0",
      "model_name": "DescriptionStyleModel",
      "state": {
       "description_width": "initial"
      }
     },
     "c21ea2cc09c8448fbb1478216b5e692a": {
      "model_module": "@jupyter-widgets/controls",
      "model_module_version": "1.4.0",
      "model_name": "DescriptionStyleModel",
      "state": {
       "description_width": ""
      }
     },
     "c2988fe259474261952a86a738d0f0ae": {
      "model_module": "@jupyter-widgets/controls",
      "model_module_version": "1.4.0",
      "model_name": "ButtonModel",
      "state": {
       "button_style": "success",
       "description": "Start Manual Alignment",
       "layout": "IPY_MODEL_a43de56fd6dc4044ab921b760bf2aeaf",
       "style": "IPY_MODEL_e7d755429236400695251a0de3270914",
       "tooltip": "Click me"
      }
     },
     "c330c25ee5244d5680580544d6937afe": {
      "model_module": "@jupyter-widgets/base",
      "model_module_version": "1.1.0",
      "model_name": "LayoutModel",
      "state": {}
     },
     "c418a44ff37448d7b3648a5ec06d7778": {
      "model_module": "@jupyter-widgets/base",
      "model_module_version": "1.1.0",
      "model_name": "LayoutModel",
      "state": {}
     },
     "c43edafd5da54e6d99239010502cb916": {
      "model_module": "@jupyter-widgets/base",
      "model_module_version": "1.1.0",
      "model_name": "LayoutModel",
      "state": {
       "height": "40px",
       "width": "40px"
      }
     },
     "c47cb5216c174a02a9f97d98a01062d7": {
      "model_module": "@jupyter-widgets/output",
      "model_module_version": "1.0.0",
      "model_name": "OutputModel",
      "state": {
       "layout": "IPY_MODEL_0c9d734b16584511985814e143880c5c"
      }
     },
     "c4868929df89470492f87df35b9deaeb": {
      "model_module": "@jupyter-widgets/base",
      "model_module_version": "1.1.0",
      "model_name": "LayoutModel",
      "state": {}
     },
     "c4ba6cbed8a349c1a1d785d05c082b26": {
      "model_module": "@jupyter-widgets/base",
      "model_module_version": "1.1.0",
      "model_name": "LayoutModel",
      "state": {}
     },
     "c4d713d7b6ea4d1a8224a1d31737471d": {
      "model_module": "@jupyter-widgets/base",
      "model_module_version": "1.1.0",
      "model_name": "LayoutModel",
      "state": {}
     },
     "c4fb50961e0948c0be825187b369a702": {
      "model_module": "@jupyter-widgets/output",
      "model_module_version": "1.0.0",
      "model_name": "OutputModel",
      "state": {
       "layout": "IPY_MODEL_1e1a9e9069bd4927bb4fdde20b83e57b"
      }
     },
     "c59fe5daadfc489aafe566a8110ce4a9": {
      "model_module": "@jupyter-widgets/base",
      "model_module_version": "1.1.0",
      "model_name": "LayoutModel",
      "state": {}
     },
     "c7a0d19c507041e59e48303c38706cf5": {
      "model_module": "@jupyter-widgets/controls",
      "model_module_version": "1.4.0",
      "model_name": "ButtonStyleModel",
      "state": {}
     },
     "c88be5c59f454b3ba9cb53953a480afe": {
      "model_module": "@jupyter-widgets/controls",
      "model_module_version": "1.4.0",
      "model_name": "ButtonStyleModel",
      "state": {}
     },
     "c899bae031f540b2bd99e2a63571c374": {
      "model_module": "@jupyter-widgets/base",
      "model_module_version": "1.1.0",
      "model_name": "LayoutModel",
      "state": {}
     },
     "c978d86f47524d1db40757c2de8c061a": {
      "model_module": "@jupyter-widgets/controls",
      "model_module_version": "1.4.0",
      "model_name": "CheckboxModel",
      "state": {
       "description": "Live plot in Jupyter: ",
       "disabled": false,
       "layout": "IPY_MODEL_88b41946c5774827b11496841991e490",
       "style": "IPY_MODEL_5d15b424cdf843c0a36136f3793bd13f",
       "value": false
      }
     },
     "ca36d8a91265459796f258ef6464b085": {
      "model_module": "@jupyter-widgets/base",
      "model_module_version": "1.1.0",
      "model_name": "LayoutModel",
      "state": {}
     },
     "cadc2072c12b426691facc68be95c901": {
      "model_module": "@jupyter-widgets/controls",
      "model_module_version": "1.4.0",
      "model_name": "ButtonStyleModel",
      "state": {}
     },
     "cadd74c2e5d048ba9a3742b7c26e6815": {
      "model_module": "@jupyter-widgets/controls",
      "model_module_version": "1.4.0",
      "model_name": "ButtonModel",
      "state": {
       "button_style": "warning",
       "description": "Export Notebook to HTML",
       "layout": "IPY_MODEL_8596e4f4888a4b7a984adc06a14cdddd",
       "style": "IPY_MODEL_74115c1e88e64b909bf8184201aa49a0",
       "tooltip": "Click me"
      }
     },
     "cb592449a8894780ab8bbeeed9974618": {
      "model_module": "@jupyter-widgets/controls",
      "model_module_version": "1.4.0",
      "model_name": "DropdownModel",
      "state": {
       "_options_labels": [
        "Plot after ends with PyQt",
        "Plot after ends with Plotly",
        "Live Plot"
       ],
       "index": 0,
       "layout": "IPY_MODEL_4862427261e94830b1c4cef40c8e0c44",
       "style": "IPY_MODEL_30567977310642ea8a1043f996b0dedc"
      }
     },
     "cc13e07d3ad94a2ca1fb4d780491cd6a": {
      "model_module": "@jupyter-widgets/base",
      "model_module_version": "1.1.0",
      "model_name": "LayoutModel",
      "state": {
       "width": "300px"
      }
     },
     "cc3558aa6c2f4fe2845cf8fd32d3219c": {
      "model_module": "@jupyter-widgets/base",
      "model_module_version": "1.1.0",
      "model_name": "LayoutModel",
      "state": {}
     },
     "cc5eed5fb19448d59201abd782f5bd11": {
      "model_module": "@jupyter-widgets/controls",
      "model_module_version": "1.4.0",
      "model_name": "BoxModel",
      "state": {
       "layout": "IPY_MODEL_f4c435906c054a9dbd9a0a9ed5ae343d"
      }
     },
     "ce1ffc7274d545d6b25f06508adc91e9": {
      "model_module": "@jupyter-widgets/output",
      "model_module_version": "1.0.0",
      "model_name": "OutputModel",
      "state": {
       "layout": "IPY_MODEL_82efc298995b4d459493fa232233f4be"
      }
     },
     "cea1b274f1a744618d16424c91ec8b6a": {
      "model_module": "@jupyter-widgets/controls",
      "model_module_version": "1.4.0",
      "model_name": "TextModel",
      "state": {
       "layout": "IPY_MODEL_22995f0dcb904946b8c15db32f93be0a",
       "placeholder": "Type the notebook's name without file format",
       "style": "IPY_MODEL_0a96baacc2ab4760b339aaa8d4baf83a"
      }
     },
     "cea581f68d1d45afa76e4c12abcdb7dc": {
      "model_module": "@jupyter-widgets/controls",
      "model_module_version": "1.4.0",
      "model_name": "DescriptionStyleModel",
      "state": {
       "description_width": "initial"
      }
     },
     "cebaaa3a23c34f4b95f66130133631eb": {
      "model_module": "plotlywidget",
      "model_module_version": "0.8.0",
      "model_name": "FigureModel",
      "state": {
       "_config": {
        "plotlyServerURL": "https://plot.ly"
       },
       "_js2py_layoutDelta": {},
       "_js2py_pointsCallback": {},
       "_js2py_relayout": {},
       "_js2py_restyle": {},
       "_js2py_traceDeltas": {},
       "_js2py_update": {},
       "_layout": {
        "template": {}
       },
       "_model_module_version": "0.8.0",
       "_py2js_addTraces": {},
       "_py2js_animate": {},
       "_py2js_deleteTraces": {},
       "_py2js_moveTraces": {},
       "_py2js_removeLayoutProps": {},
       "_py2js_removeTraceProps": {},
       "_py2js_restyle": {},
       "_py2js_update": {},
       "_view_count": 0,
       "_view_module_version": "0.8.0"
      }
     },
     "cf135c7bdb224567a3f188619f3b6bfd": {
      "model_module": "@jupyter-widgets/base",
      "model_module_version": "1.1.0",
      "model_name": "LayoutModel",
      "state": {}
     },
     "cf791c4552884d6aa3d13601819ce5ae": {
      "model_module": "@jupyter-widgets/controls",
      "model_module_version": "1.4.0",
      "model_name": "DropdownModel",
      "state": {
       "_options_labels": [
        "Plot after ends with PyQt",
        "Plot after ends with Plotly",
        "Live Plot"
       ],
       "index": 0,
       "layout": "IPY_MODEL_5baf8c19abed47bba136c09948a8d29b",
       "style": "IPY_MODEL_51ba8f61b46e4c4c9cb0bf7233d9a86f"
      }
     },
     "cf9f5f1a9dca4e9eaf2b8588adffdea3": {
      "model_module": "@jupyter-widgets/base",
      "model_module_version": "1.1.0",
      "model_name": "LayoutModel",
      "state": {
       "width": "300px"
      }
     },
     "cfa962a27f274e61b841004ca0733af5": {
      "model_module": "@jupyter-widgets/controls",
      "model_module_version": "1.4.0",
      "model_name": "ButtonStyleModel",
      "state": {}
     },
     "d020d244c6f04f6693a728615851a9d9": {
      "model_module": "@jupyter-widgets/controls",
      "model_module_version": "1.4.0",
      "model_name": "TextModel",
      "state": {
       "layout": "IPY_MODEL_e0f0fcce9b5d481992bfa5258116e5d6",
       "placeholder": "Type the notebook's name without file format",
       "style": "IPY_MODEL_06ed2a9c641c431eb80a7af0987eb3ec",
       "value": "laser-beam-alignment"
      }
     },
     "d03c11dcb7f640b88c27954085a94d3b": {
      "model_module": "@jupyter-widgets/base",
      "model_module_version": "1.1.0",
      "model_name": "LayoutModel",
      "state": {}
     },
     "d1a61519494e410c8938503a1e64d63c": {
      "model_module": "@jupyter-widgets/controls",
      "model_module_version": "1.4.0",
      "model_name": "VBoxModel",
      "state": {
       "children": [
        "IPY_MODEL_048c3af8ef084988887ca9f9fe10c1f3"
       ],
       "layout": "IPY_MODEL_b6da889b533b45db91d5b9c7120334ad"
      }
     },
     "d2acc2be870a4b40aacacf77219d452a": {
      "model_module": "@jupyter-widgets/controls",
      "model_module_version": "1.4.0",
      "model_name": "DescriptionStyleModel",
      "state": {
       "description_width": ""
      }
     },
     "d336abeca204416b84f7bba1b29c5115": {
      "model_module": "@jupyter-widgets/base",
      "model_module_version": "1.1.0",
      "model_name": "LayoutModel",
      "state": {}
     },
     "d43ead9e62da458fa50e5d9ee5231e8e": {
      "model_module": "@jupyter-widgets/controls",
      "model_module_version": "1.4.0",
      "model_name": "CheckboxModel",
      "state": {
       "description": "Plot with Plotly after scan ends: ",
       "disabled": false,
       "layout": "IPY_MODEL_c4d713d7b6ea4d1a8224a1d31737471d",
       "style": "IPY_MODEL_47d4136a52f74c7bab5c2392a51d2bc8",
       "value": false
      }
     },
     "d4ec657db9734d16adc44ea7d3c7c576": {
      "model_module": "@jupyter-widgets/base",
      "model_module_version": "1.1.0",
      "model_name": "LayoutModel",
      "state": {}
     },
     "d5d46cb3a515497c8966c8c03ed24c19": {
      "model_module": "@jupyter-widgets/controls",
      "model_module_version": "1.4.0",
      "model_name": "ButtonModel",
      "state": {
       "button_style": "success",
       "description": "Start Scanning Plot",
       "layout": "IPY_MODEL_32bb040d16ba4887b80fb00d6641ea20",
       "style": "IPY_MODEL_c7a0d19c507041e59e48303c38706cf5",
       "tooltip": "Click me"
      }
     },
     "d67f85bab61743338a26c93c4ed41517": {
      "model_module": "@jupyter-widgets/base",
      "model_module_version": "1.1.0",
      "model_name": "LayoutModel",
      "state": {
       "width": "300px"
      }
     },
     "d6ea3a5021a74ffd9fd81daec1c579be": {
      "model_module": "@jupyter-widgets/output",
      "model_module_version": "1.0.0",
      "model_name": "OutputModel",
      "state": {
       "layout": "IPY_MODEL_510e4dc4414d47d79c011c8124b49933"
      }
     },
     "d734ffb48b6746a8aea5ce89c13a2899": {
      "model_module": "@jupyter-widgets/controls",
      "model_module_version": "1.4.0",
      "model_name": "DescriptionStyleModel",
      "state": {
       "description_width": "initial"
      }
     },
     "d77db274962742ecae46c3a8b0d1f8b5": {
      "model_module": "@jupyter-widgets/controls",
      "model_module_version": "1.4.0",
      "model_name": "CheckboxModel",
      "state": {
       "description": "Live plot in Jupyter: ",
       "disabled": false,
       "layout": "IPY_MODEL_f3ab95d80ce348a29e8122bf9cf987af",
       "style": "IPY_MODEL_e9fcd607b09242b0be7b0c481254ab90",
       "value": false
      }
     },
     "d83adface1bd4369a8365ff4fc19364d": {
      "model_module": "@jupyter-widgets/controls",
      "model_module_version": "1.4.0",
      "model_name": "VBoxModel",
      "state": {
       "children": [
        "IPY_MODEL_09e42144a5454a1880fc7c9f1ae79736",
        "IPY_MODEL_94ec5b28bdfb424f8ca31c80d8223910"
       ],
       "layout": "IPY_MODEL_e707a1ffad304e298e5016d80b1ddcf2"
      }
     },
     "d8d549997aba468daca91336b89f4513": {
      "model_module": "@jupyter-widgets/base",
      "model_module_version": "1.1.0",
      "model_name": "LayoutModel",
      "state": {}
     },
     "d90ade1553f849abb0720dd96332afc2": {
      "model_module": "@jupyter-widgets/controls",
      "model_module_version": "1.4.0",
      "model_name": "ButtonModel",
      "state": {
       "button_style": "success",
       "description": "Start Scanning Plot",
       "layout": "IPY_MODEL_9c438d536bc54f9184981e248d817a0e",
       "style": "IPY_MODEL_cadc2072c12b426691facc68be95c901",
       "tooltip": "Click me"
      }
     },
     "d94dbbc66d624a1ca8380929ab195096": {
      "model_module": "@jupyter-widgets/base",
      "model_module_version": "1.1.0",
      "model_name": "LayoutModel",
      "state": {}
     },
     "dae63225fa4b438cb949d85e037fc680": {
      "model_module": "@jupyter-widgets/base",
      "model_module_version": "1.1.0",
      "model_name": "LayoutModel",
      "state": {}
     },
     "db40ac7aef444115a1087fdb08286b25": {
      "model_module": "@jupyter-widgets/base",
      "model_module_version": "1.1.0",
      "model_name": "LayoutModel",
      "state": {}
     },
     "dba9385dc1e945e28b0ec11742a123dc": {
      "model_module": "@jupyter-widgets/controls",
      "model_module_version": "1.4.0",
      "model_name": "VBoxModel",
      "state": {
       "children": [
        "IPY_MODEL_7ac7a01b20e8438c88f3d679a2fb062c",
        "IPY_MODEL_e00a23133e3c4aa3aad7f147dc98b3ed"
       ],
       "layout": "IPY_MODEL_c13b572f0f4a4f38bf013fca1708326b"
      }
     },
     "dc1c6fbddc514351b2347a2f4af76496": {
      "model_module": "@jupyter-widgets/controls",
      "model_module_version": "1.4.0",
      "model_name": "DescriptionStyleModel",
      "state": {
       "description_width": ""
      }
     },
     "dc85fc0d5b8e4a638eddc8c270c7cacb": {
      "model_module": "@jupyter-widgets/output",
      "model_module_version": "1.0.0",
      "model_name": "OutputModel",
      "state": {
       "layout": "IPY_MODEL_ead602c038c84a499364b0c47780a385"
      }
     },
     "dddce203da4b4dd3873aabb12d9c6f12": {
      "model_module": "@jupyter-widgets/controls",
      "model_module_version": "1.4.0",
      "model_name": "VBoxModel",
      "state": {
       "children": [
        "IPY_MODEL_eef63429e72a47a291d08a11a0970159"
       ],
       "layout": "IPY_MODEL_11ed9ae0257b42f2b049b58d8a8c3d1b"
      }
     },
     "dddf594346d74f7daa40a6005e0ec828": {
      "model_module": "@jupyter-widgets/controls",
      "model_module_version": "1.4.0",
      "model_name": "ButtonModel",
      "state": {
       "button_style": "success",
       "description": "Start PV Monitoring",
       "layout": "IPY_MODEL_0e43f637ae924f42ba923caf48b6e50e",
       "style": "IPY_MODEL_1089a787949f437dbb47ae2556e8369c",
       "tooltip": "Click me"
      }
     },
     "de22c13d086c441ba2d2b2d071ee39c0": {
      "model_module": "@jupyter-widgets/controls",
      "model_module_version": "1.4.0",
      "model_name": "TextModel",
      "state": {
       "layout": "IPY_MODEL_2526b7b79f074c99a4f7600ddcd01b32",
       "placeholder": "Type the notebook's name without file format",
       "style": "IPY_MODEL_bde3bdee25864f859fe76f2beaaba78c"
      }
     },
     "de9d964fe9514bf180b68b01ca731cfd": {
      "model_module": "@jupyter-widgets/base",
      "model_module_version": "1.1.0",
      "model_name": "LayoutModel",
      "state": {}
     },
     "e00a23133e3c4aa3aad7f147dc98b3ed": {
      "model_module": "@jupyter-widgets/controls",
      "model_module_version": "1.4.0",
      "model_name": "ButtonModel",
      "state": {
       "button_style": "success",
       "description": "Start Motor Initializaton",
       "layout": "IPY_MODEL_2e280b0c47714e92938f150ba6d3277f",
       "style": "IPY_MODEL_4620d9b671824e44ad51d183f6b8aeb9",
       "tooltip": "Click me"
      }
     },
     "e0bb6fe3c3944f038ac696857e2c2fcd": {
      "model_module": "@jupyter-widgets/controls",
      "model_module_version": "1.4.0",
      "model_name": "ButtonModel",
      "state": {
       "button_style": "success",
       "description": "Start Manual Alignment",
       "layout": "IPY_MODEL_a15214d685534a4895e7c86aa4e2e97c",
       "style": "IPY_MODEL_8c67bbd5504841bb8a3969caf5bff2c7",
       "tooltip": "Click me"
      }
     },
     "e0f0fcce9b5d481992bfa5258116e5d6": {
      "model_module": "@jupyter-widgets/base",
      "model_module_version": "1.1.0",
      "model_name": "LayoutModel",
      "state": {
       "width": "300px"
      }
     },
     "e0f3bec615df4e92987f4ac5d2610078": {
      "model_module": "@jupyter-widgets/base",
      "model_module_version": "1.1.0",
      "model_name": "LayoutModel",
      "state": {}
     },
     "e16ec09174324f689effc58449fff3be": {
      "model_module": "@jupyter-widgets/base",
      "model_module_version": "1.1.0",
      "model_name": "LayoutModel",
      "state": {}
     },
     "e1e277d49b734f53be3e4a6b6e98f4e6": {
      "model_module": "@jupyter-widgets/base",
      "model_module_version": "1.1.0",
      "model_name": "LayoutModel",
      "state": {}
     },
     "e24536876402448587c2b3b725720903": {
      "model_module": "@jupyter-widgets/controls",
      "model_module_version": "1.4.0",
      "model_name": "DescriptionStyleModel",
      "state": {
       "description_width": "initial"
      }
     },
     "e247dc2fd4284e12b5776c3f1ed64d4d": {
      "model_module": "@jupyter-widgets/base",
      "model_module_version": "1.1.0",
      "model_name": "LayoutModel",
      "state": {}
     },
     "e27670bb13ec4e5eb4ca7a22db871812": {
      "model_module": "@jupyter-widgets/controls",
      "model_module_version": "1.4.0",
      "model_name": "ButtonModel",
      "state": {
       "button_style": "success",
       "description": "Start Manual Alignment",
       "layout": "IPY_MODEL_35c7ba26e90c4b8895d319b223bbc301",
       "style": "IPY_MODEL_708de16b480447cd967cf899befb3578",
       "tooltip": "Click me"
      }
     },
     "e2e5f24f42954f2f8e4ea5d0bccee559": {
      "model_module": "@jupyter-widgets/base",
      "model_module_version": "1.1.0",
      "model_name": "LayoutModel",
      "state": {}
     },
     "e305163224e7448eb78c8e8478affd2b": {
      "model_module": "@jupyter-widgets/controls",
      "model_module_version": "1.4.0",
      "model_name": "DescriptionStyleModel",
      "state": {
       "description_width": "initial"
      }
     },
     "e3210df5b80a4aaaaed64e3ebabb30a3": {
      "model_module": "@jupyter-widgets/output",
      "model_module_version": "1.0.0",
      "model_name": "OutputModel",
      "state": {
       "layout": "IPY_MODEL_2f8c83411f9a49fe9960ad7b43e9785b"
      }
     },
     "e3f3f426c9774148b359113f201fec5d": {
      "model_module": "@jupyter-widgets/controls",
      "model_module_version": "1.4.0",
      "model_name": "ButtonStyleModel",
      "state": {}
     },
     "e465a64e54884b6ab58e23fb3653893a": {
      "model_module": "@jupyter-widgets/controls",
      "model_module_version": "1.4.0",
      "model_name": "DescriptionStyleModel",
      "state": {
       "description_width": ""
      }
     },
     "e489ee9b4dfe45a7941e530c1cc3ecd2": {
      "model_module": "@jupyter-widgets/base",
      "model_module_version": "1.1.0",
      "model_name": "LayoutModel",
      "state": {
       "width": "300px"
      }
     },
     "e4f78bf7c8a949c09dbc37dac81fab90": {
      "model_module": "@jupyter-widgets/controls",
      "model_module_version": "1.4.0",
      "model_name": "BoxModel",
      "state": {
       "layout": "IPY_MODEL_1a2e70232bb14fafbd12988740b29785"
      }
     },
     "e5bf7243984d4274a61cc4cc99864c82": {
      "model_module": "@jupyter-widgets/controls",
      "model_module_version": "1.4.0",
      "model_name": "DescriptionStyleModel",
      "state": {
       "description_width": "initial"
      }
     },
     "e65dcdae1d02407796419ea858319f12": {
      "model_module": "@jupyter-widgets/controls",
      "model_module_version": "1.4.0",
      "model_name": "DescriptionStyleModel",
      "state": {
       "description_width": ""
      }
     },
     "e707a1ffad304e298e5016d80b1ddcf2": {
      "model_module": "@jupyter-widgets/base",
      "model_module_version": "1.1.0",
      "model_name": "LayoutModel",
      "state": {}
     },
     "e708f1410a7043feafed49ec5b9f39bb": {
      "model_module": "@jupyter-widgets/controls",
      "model_module_version": "1.4.0",
      "model_name": "TextareaModel",
      "state": {
       "layout": "IPY_MODEL_9ab4900c297b4de18a6eb29c35f8fedd",
       "placeholder": "Example: IOC:m1.DMOV IOC:m3.RBV LNLS:ANEL:corrente.VAL",
       "style": "IPY_MODEL_703a492e2d7f457a9f738abfaa02194f"
      }
     },
     "e77c4d328381482099744e4a1748bc97": {
      "model_module": "@jupyter-widgets/base",
      "model_module_version": "1.1.0",
      "model_name": "LayoutModel",
      "state": {}
     },
     "e78a05801da84f298f83d95e2dee0019": {
      "model_module": "@jupyter-widgets/controls",
      "model_module_version": "1.4.0",
      "model_name": "ButtonStyleModel",
      "state": {}
     },
     "e7942b25fc344a288963722df614fb7d": {
      "model_module": "@jupyter-widgets/base",
      "model_module_version": "1.1.0",
      "model_name": "LayoutModel",
      "state": {
       "width": "300px"
      }
     },
     "e7d755429236400695251a0de3270914": {
      "model_module": "@jupyter-widgets/controls",
      "model_module_version": "1.4.0",
      "model_name": "ButtonStyleModel",
      "state": {}
     },
     "e820b0ca656a4d3db3363374f791061e": {
      "model_module": "@jupyter-widgets/controls",
      "model_module_version": "1.4.0",
      "model_name": "DescriptionStyleModel",
      "state": {
       "description_width": "initial"
      }
     },
     "e8785d0edb314d30ab4ff3756c130fd9": {
      "model_module": "@jupyter-widgets/controls",
      "model_module_version": "1.4.0",
      "model_name": "TextModel",
      "state": {
       "layout": "IPY_MODEL_039ab925f94e4c7b8ae06de055b7ca2d",
       "placeholder": "Type the notebook's name without file format",
       "style": "IPY_MODEL_ad2e68d3a1cb447c8ba4f39612cc0720",
       "value": "laser-beam-alignment"
      }
     },
     "e87ca833f4f5445684b1e0cd786f81c1": {
      "model_module": "@jupyter-widgets/controls",
      "model_module_version": "1.4.0",
      "model_name": "BoxModel",
      "state": {
       "layout": "IPY_MODEL_a60e8aa982b54341802a211a753f689e"
      }
     },
     "e8a46cace9544482a24c4937e28f34fc": {
      "model_module": "@jupyter-widgets/controls",
      "model_module_version": "1.4.0",
      "model_name": "CheckboxModel",
      "state": {
       "description": "Live plot in Jupyter: ",
       "disabled": false,
       "layout": "IPY_MODEL_681bbbdbad6f4565a33309813fa71ff1",
       "style": "IPY_MODEL_7acc80cac0dc4edf9c57a1d67aee0e0c",
       "value": false
      }
     },
     "e8ca849994ec4e36a3dcf3bd7181aeca": {
      "model_module": "@jupyter-widgets/output",
      "model_module_version": "1.0.0",
      "model_name": "OutputModel",
      "state": {
       "layout": "IPY_MODEL_2e96f846140e495994731df462c86f27"
      }
     },
     "e9e0997216214f85acc3a7edfc87ea67": {
      "model_module": "@jupyter-widgets/base",
      "model_module_version": "1.1.0",
      "model_name": "LayoutModel",
      "state": {
       "width": "300px"
      }
     },
     "e9fcd607b09242b0be7b0c481254ab90": {
      "model_module": "@jupyter-widgets/controls",
      "model_module_version": "1.4.0",
      "model_name": "DescriptionStyleModel",
      "state": {
       "description_width": "initial"
      }
     },
     "ead602c038c84a499364b0c47780a385": {
      "model_module": "@jupyter-widgets/base",
      "model_module_version": "1.1.0",
      "model_name": "LayoutModel",
      "state": {}
     },
     "eb2cf6f27b264891b71dad8cdc93a8d4": {
      "model_module": "@jupyter-widgets/controls",
      "model_module_version": "1.4.0",
      "model_name": "ButtonStyleModel",
      "state": {}
     },
     "ebac0b913c144e79bd2ab354bb898679": {
      "model_module": "@jupyter-widgets/base",
      "model_module_version": "1.1.0",
      "model_name": "LayoutModel",
      "state": {
       "width": "300px"
      }
     },
     "ec0256fcc95041169f7453c2019b7ada": {
      "model_module": "plotlywidget",
      "model_module_version": "0.8.0",
      "model_name": "FigureModel",
      "state": {
       "_config": {
        "plotlyServerURL": "https://plot.ly"
       },
       "_js2py_layoutDelta": {},
       "_js2py_pointsCallback": {},
       "_js2py_relayout": {},
       "_js2py_restyle": {},
       "_js2py_traceDeltas": {},
       "_js2py_update": {},
       "_layout": {
        "template": {}
       },
       "_model_module_version": "0.8.0",
       "_py2js_addTraces": {},
       "_py2js_animate": {},
       "_py2js_deleteTraces": {},
       "_py2js_moveTraces": {},
       "_py2js_removeLayoutProps": {},
       "_py2js_removeTraceProps": {},
       "_py2js_restyle": {},
       "_py2js_update": {},
       "_view_count": 0,
       "_view_module_version": "0.8.0"
      }
     },
     "ec595640351e49688a57fda3f9c8fc1d": {
      "model_module": "@jupyter-widgets/output",
      "model_module_version": "1.0.0",
      "model_name": "OutputModel",
      "state": {
       "layout": "IPY_MODEL_3447304cf0294bf79bb5167cdae04bcc"
      }
     },
     "ec64bce37dc54836b0cc0136ab17abae": {
      "model_module": "@jupyter-widgets/base",
      "model_module_version": "1.1.0",
      "model_name": "LayoutModel",
      "state": {
       "width": "300px"
      }
     },
     "ed46043e15854ff6b3c58d41505c900c": {
      "model_module": "@jupyter-widgets/base",
      "model_module_version": "1.1.0",
      "model_name": "LayoutModel",
      "state": {}
     },
     "ee861097ec1f4f639391c7511a598847": {
      "model_module": "@jupyter-widgets/controls",
      "model_module_version": "1.4.0",
      "model_name": "TextareaModel",
      "state": {
       "layout": "IPY_MODEL_2cebf07cdc164e06b35eb36c702dca5d",
       "placeholder": "Example: IOC:m1 IOC:m3 LNLS:TEST:motor_g3",
       "style": "IPY_MODEL_4fe0ff48c2f740179d9296fe19684cab"
      }
     },
     "eeb443e6e98d4eca8e947fd09196a06c": {
      "model_module": "@jupyter-widgets/controls",
      "model_module_version": "1.4.0",
      "model_name": "LabelModel",
      "state": {
       "layout": "IPY_MODEL_8dea800631d54a68b15e1009a608ee5c",
       "style": "IPY_MODEL_554a7dd4d3ae4c3cbe16014af3b6e6c0",
       "value": "Notebook's name: "
      }
     },
     "eef63429e72a47a291d08a11a0970159": {
      "model_module": "@jupyter-widgets/controls",
      "model_module_version": "1.4.0",
      "model_name": "ButtonModel",
      "state": {
       "button_style": "success",
       "description": "Start Manual Alignment",
       "layout": "IPY_MODEL_fc50277f6345416cac5709d5f9ea4c1b",
       "style": "IPY_MODEL_76d1385d82b343f2a59303c4878eecf5",
       "tooltip": "Click me"
      }
     },
     "efbb7c55445f49dbb7906b1759611c67": {
      "model_module": "@jupyter-widgets/controls",
      "model_module_version": "1.4.0",
      "model_name": "HBoxModel",
      "state": {
       "children": [
        "IPY_MODEL_93dd4a2729924461b51cad8413e195fd",
        "IPY_MODEL_2571aa625a8840bca49919d561c3763e"
       ],
       "layout": "IPY_MODEL_c4ba6cbed8a349c1a1d785d05c082b26"
      }
     },
     "f182bc10ac344bc0be3a900bd019a588": {
      "model_module": "@jupyter-widgets/base",
      "model_module_version": "1.1.0",
      "model_name": "LayoutModel",
      "state": {}
     },
     "f1aea03236ca4ef39cc7fe845744cdc1": {
      "model_module": "@jupyter-widgets/output",
      "model_module_version": "1.0.0",
      "model_name": "OutputModel",
      "state": {
       "layout": "IPY_MODEL_9915ff1b25d941e28d39f3f7dc60f158"
      }
     },
     "f375be4250a74a70b6c8761bc25a3dde": {
      "model_module": "@jupyter-widgets/base",
      "model_module_version": "1.1.0",
      "model_name": "LayoutModel",
      "state": {}
     },
     "f3ab95d80ce348a29e8122bf9cf987af": {
      "model_module": "@jupyter-widgets/base",
      "model_module_version": "1.1.0",
      "model_name": "LayoutModel",
      "state": {}
     },
     "f3b3923d3f884e92a4805271cb449b29": {
      "model_module": "@jupyter-widgets/controls",
      "model_module_version": "1.4.0",
      "model_name": "CheckboxModel",
      "state": {
       "description": "Plot with PyQtGraph after scan ends: ",
       "disabled": false,
       "layout": "IPY_MODEL_9433ce3710bf43198b0b3454d610127c",
       "style": "IPY_MODEL_aff154572c4e4edd912ddb46f8db63d9",
       "value": true
      }
     },
     "f475f3a0f98a4ddea52e3dac07a1d1f2": {
      "model_module": "@jupyter-widgets/controls",
      "model_module_version": "1.4.0",
      "model_name": "VBoxModel",
      "state": {
       "children": [
        "IPY_MODEL_3398c890035d4cfcabe960578f13c068"
       ],
       "layout": "IPY_MODEL_6b5062985cf24188a69ec9d2785e17bc"
      }
     },
     "f4c435906c054a9dbd9a0a9ed5ae343d": {
      "model_module": "@jupyter-widgets/base",
      "model_module_version": "1.1.0",
      "model_name": "LayoutModel",
      "state": {
       "height": "40px",
       "width": "40px"
      }
     },
     "f53fb0f3be5c4617a4c24174afb852ae": {
      "model_module": "@jupyter-widgets/controls",
      "model_module_version": "1.4.0",
      "model_name": "TextModel",
      "state": {
       "layout": "IPY_MODEL_1f4ba9e4a0244d8d8694ae392245d295",
       "placeholder": "Type the notebook's name without file format",
       "style": "IPY_MODEL_a8a472e05e8241088d4a93323455457a"
      }
     },
     "f5f3d3a7b69a4aa8b7b67c0ceb241cba": {
      "model_module": "@jupyter-widgets/controls",
      "model_module_version": "1.4.0",
      "model_name": "TextModel",
      "state": {
       "layout": "IPY_MODEL_bda62a93f38d495d88894e2eb0314651",
       "placeholder": "Type the notebook's name without file format",
       "style": "IPY_MODEL_3ae31f8429ad4a6e9768bc111e232eab"
      }
     },
     "f6277662e010420eb54c4c72787ae6ce": {
      "model_module": "@jupyter-widgets/base",
      "model_module_version": "1.1.0",
      "model_name": "LayoutModel",
      "state": {}
     },
     "f7f3c09e4cf94412a69e2ab27079dbf0": {
      "model_module": "@jupyter-widgets/base",
      "model_module_version": "1.1.0",
      "model_name": "LayoutModel",
      "state": {}
     },
     "f86835e2e1734471a2999db18a051032": {
      "model_module": "@jupyter-widgets/controls",
      "model_module_version": "1.4.0",
      "model_name": "CheckboxModel",
      "state": {
       "description": "Plot with Plotly after scan ends: ",
       "disabled": false,
       "layout": "IPY_MODEL_5897ffd66b6748f6b2b82dbb268ad5bf",
       "style": "IPY_MODEL_34416f269b724f529835c226b5c6a7a6",
       "value": false
      }
     },
     "f96a9061660742f78609f4ee749e1cc9": {
      "model_module": "@jupyter-widgets/base",
      "model_module_version": "1.1.0",
      "model_name": "LayoutModel",
      "state": {}
     },
     "f98b457330e84a1f9f10c56858d2b5c2": {
      "model_module": "@jupyter-widgets/base",
      "model_module_version": "1.1.0",
      "model_name": "LayoutModel",
      "state": {}
     },
     "f98bea50352f4200ad026a39c65fff2a": {
      "model_module": "@jupyter-widgets/base",
      "model_module_version": "1.1.0",
      "model_name": "LayoutModel",
      "state": {
       "width": "300px"
      }
     },
     "f9b0b633788b433f95aee03151786507": {
      "model_module": "@jupyter-widgets/output",
      "model_module_version": "1.0.0",
      "model_name": "OutputModel",
      "state": {
       "layout": "IPY_MODEL_4cc4625ac8da40f4b8a19fe68721a742",
       "outputs": [
        {
         "data": {
          "application/javascript": "IPython.notebook.save_checkpoint();",
          "text/plain": "<IPython.core.display.Javascript object>"
         },
         "metadata": {},
         "output_type": "display_data"
        }
       ]
      }
     },
     "fa27163ea8764dce928cc021af5e6f23": {
      "model_module": "@jupyter-widgets/base",
      "model_module_version": "1.1.0",
      "model_name": "LayoutModel",
      "state": {
       "width": "300px"
      }
     },
     "fb82faedfc4946d2a75dd8d09f7bb289": {
      "model_module": "@jupyter-widgets/controls",
      "model_module_version": "1.4.0",
      "model_name": "ButtonModel",
      "state": {
       "button_style": "warning",
       "description": "Export Notebook to HTML",
       "layout": "IPY_MODEL_cf9f5f1a9dca4e9eaf2b8588adffdea3",
       "style": "IPY_MODEL_721da0d74ffd421291469f34801b7010",
       "tooltip": "Click me"
      }
     },
     "fbd3b3959e7140b0bb8ba30f66801944": {
      "model_module": "@jupyter-widgets/controls",
      "model_module_version": "1.4.0",
      "model_name": "ButtonStyleModel",
      "state": {}
     },
     "fc50277f6345416cac5709d5f9ea4c1b": {
      "model_module": "@jupyter-widgets/base",
      "model_module_version": "1.1.0",
      "model_name": "LayoutModel",
      "state": {
       "width": "300px"
      }
     },
     "fcac6a7edc3e4633b0f9d8012bb393ca": {
      "model_module": "@jupyter-widgets/controls",
      "model_module_version": "1.4.0",
      "model_name": "DescriptionStyleModel",
      "state": {
       "description_width": ""
      }
     },
     "fcc5b2b7fb7049a589fc0f36db57880b": {
      "model_module": "@jupyter-widgets/controls",
      "model_module_version": "1.4.0",
      "model_name": "CheckboxModel",
      "state": {
       "description": "Plot with PyQtGraph after scan ends: ",
       "disabled": false,
       "layout": "IPY_MODEL_bdad1adc5bcc48578f2102011db8ec28",
       "style": "IPY_MODEL_97f423c25da14d23b89c46bc7a7a3232",
       "value": true
      }
     },
     "fe9afc77d6344de4bafbe1d89207237d": {
      "model_module": "@jupyter-widgets/controls",
      "model_module_version": "1.4.0",
      "model_name": "ButtonModel",
      "state": {
       "button_style": "success",
       "description": "Start Scanning Plot",
       "layout": "IPY_MODEL_aeb400f8ca024e3790ead17b6744926a",
       "style": "IPY_MODEL_a3e81eda311949c49bf41927320ed019",
       "tooltip": "Click me"
      }
     },
     "fef387a8622349b984224773af70481d": {
      "model_module": "@jupyter-widgets/base",
      "model_module_version": "1.1.0",
      "model_name": "LayoutModel",
      "state": {}
     },
     "ff1d9aba3cb648e88ebcfbf501d66937": {
      "model_module": "@jupyter-widgets/base",
      "model_module_version": "1.1.0",
      "model_name": "LayoutModel",
      "state": {}
     }
    },
    "version_major": 2,
    "version_minor": 0
   }
  }
 },
 "nbformat": 4,
 "nbformat_minor": 2
}
