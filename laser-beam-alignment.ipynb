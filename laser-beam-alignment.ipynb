{
 "cells": [
  {
   "cell_type": "markdown",
   "metadata": {},
   "source": [
    "# TITLE\n",
    "\n",
    "## HEADER 1\n",
    "\n",
    "### HEADER 2"
   ]
  },
  {
   "cell_type": "code",
   "execution_count": 1,
   "metadata": {},
   "outputs": [
    {
     "data": {
      "text/html": [
       "<script type=\"text/javascript\">window.PlotlyConfig = {MathJaxConfig: 'local'};</script><script type=\"text/javascript\">if (window.MathJax) {MathJax.Hub.Config({SVG: {font: \"STIX-Web\"}});}</script><script>requirejs.config({paths: { 'plotly': ['https://cdn.plot.ly/plotly-latest.min']},});if(!window._Plotly) {require(['plotly'],function(plotly) {window._Plotly=plotly;});}</script>"
      ],
      "text/vnd.plotly.v1+html": [
       "<script type=\"text/javascript\">window.PlotlyConfig = {MathJaxConfig: 'local'};</script><script type=\"text/javascript\">if (window.MathJax) {MathJax.Hub.Config({SVG: {font: \"STIX-Web\"}});}</script><script>requirejs.config({paths: { 'plotly': ['https://cdn.plot.ly/plotly-latest.min']},});if(!window._Plotly) {require(['plotly'],function(plotly) {window._Plotly=plotly;});}</script>"
      ]
     },
     "metadata": {},
     "output_type": "display_data"
    }
   ],
   "source": [
    "# Import jupy4syn libraries\n",
    "from lib.StartMotorsButton import StartMotorsButton\n",
    "from lib.ManualAlignmentButton import ManualAlignmentButton\n",
    "from lib.PVMonitor import PVMonitor\n",
    "from lib.MonitorScanSave import MonitorScanSave\n",
    "from lib.ExportButtonPDF import ExportButtonPDF\n",
    "from lib.ExportButtonHTML import ExportButtonHTML\n",
    "from lib.Configuration import Configuration\n",
    "\n",
    "# Enable offline plots from Plotly\n",
    "import plotly.offline as py\n",
    "py.init_notebook_mode(connected=True)"
   ]
  },
  {
   "cell_type": "markdown",
   "metadata": {},
   "source": [
    "### Configurations"
   ]
  },
  {
   "cell_type": "code",
   "execution_count": 2,
   "metadata": {},
   "outputs": [
    {
     "data": {
      "application/vnd.jupyter.widget-view+json": {
       "model_id": "26002c600b084a85a6a088588ae8fca2",
       "version_major": 2,
       "version_minor": 0
      },
      "text/plain": [
       "Checkbox(value=False, description=\"Print log in Notebook's cells\", style=DescriptionStyle(description_width='i…"
      ]
     },
     "metadata": {},
     "output_type": "display_data"
    },
    {
     "data": {
      "application/vnd.jupyter.widget-view+json": {
       "model_id": "a6b9fce6e8494300b37ec8eae6a2e977",
       "version_major": 2,
       "version_minor": 0
      },
      "text/plain": [
       "HBox(children=(Label(value=\"Notebook's name: \"), Text(value='', layout=Layout(width='300px'), placeholder=\"Typ…"
      ]
     },
     "metadata": {},
     "output_type": "display_data"
    },
    {
     "data": {
      "application/vnd.jupyter.widget-view+json": {
       "model_id": "36e06b5811f34f62aeca89fa60b26b2a",
       "version_major": 2,
       "version_minor": 0
      },
      "text/plain": [
       "Output()"
      ]
     },
     "metadata": {},
     "output_type": "display_data"
    }
   ],
   "source": [
    "config = Configuration()\n",
    "config.display_configuration()"
   ]
  },
  {
   "cell_type": "markdown",
   "metadata": {},
   "source": [
    "### First manual alignment"
   ]
  },
  {
   "cell_type": "code",
   "execution_count": 3,
   "metadata": {},
   "outputs": [
    {
     "data": {
      "application/vnd.jupyter.widget-view+json": {
       "model_id": "fa6cbb337b2441e78817d056e1c7d319",
       "version_major": 2,
       "version_minor": 0
      },
      "text/plain": [
       "VBox(children=(Textarea(value='', placeholder='Example: IOC:m1 IOC:m3 LNLS:TEST:motor_g3'), StartMotorsButton(…"
      ]
     },
     "metadata": {},
     "output_type": "display_data"
    },
    {
     "data": {
      "application/vnd.jupyter.widget-view+json": {
       "model_id": "8d24a49bee5a4255808d421407cba0d1",
       "version_major": 2,
       "version_minor": 0
      },
      "text/plain": [
       "Output()"
      ]
     },
     "metadata": {},
     "output_type": "display_data"
    }
   ],
   "source": [
    "start_motor_button_box = StartMotorsButton(config)\n",
    "start_motor_button_box.display_start_button()"
   ]
  },
  {
   "cell_type": "code",
   "execution_count": 4,
   "metadata": {},
   "outputs": [
    {
     "data": {
      "application/vnd.jupyter.widget-view+json": {
       "model_id": "25b065da791b4e54ba218700d79c0657",
       "version_major": 2,
       "version_minor": 0
      },
      "text/plain": [
       "VBox(children=(Label(value='No motors initilized to be showed.'),))"
      ]
     },
     "metadata": {},
     "output_type": "display_data"
    }
   ],
   "source": [
    "start_motor_button_box.display_motors_targ_buttons()"
   ]
  },
  {
   "cell_type": "code",
   "execution_count": 5,
   "metadata": {},
   "outputs": [
    {
     "data": {
      "application/vnd.jupyter.widget-view+json": {
       "model_id": "a2345ad2ccce47f68e9f87a0f2c5a49c",
       "version_major": 2,
       "version_minor": 0
      },
      "text/plain": [
       "VBox(children=(ManualAlignmentButton(button_style='success', description='Start Manual Alignment', layout=Layo…"
      ]
     },
     "metadata": {},
     "output_type": "display_data"
    },
    {
     "data": {
      "application/vnd.jupyter.widget-view+json": {
       "model_id": "d9075ff1cb37406582ba73abe6c5b50f",
       "version_major": 2,
       "version_minor": 0
      },
      "text/plain": [
       "Output()"
      ]
     },
     "metadata": {},
     "output_type": "display_data"
    }
   ],
   "source": [
    "# Slit interface\n",
    "slit = ManualAlignmentButton(config)\n",
    "slit.display_start_button()"
   ]
  },
  {
   "cell_type": "markdown",
   "metadata": {},
   "source": [
    "### PV's monitoring"
   ]
  },
  {
   "cell_type": "code",
   "execution_count": 6,
   "metadata": {},
   "outputs": [
    {
     "data": {
      "application/vnd.jupyter.widget-view+json": {
       "model_id": "b8f16252083e4c328055222f1af1097b",
       "version_major": 2,
       "version_minor": 0
      },
      "text/plain": [
       "VBox(children=(PVMonitor(button_style='success', description='Start PV Monitoring', layout=Layout(width='300px…"
      ]
     },
     "metadata": {},
     "output_type": "display_data"
    },
    {
     "data": {
      "application/vnd.jupyter.widget-view+json": {
       "model_id": "4b4c1c1028984643bb085e91b9bbcbb4",
       "version_major": 2,
       "version_minor": 0
      },
      "text/plain": [
       "Output()"
      ]
     },
     "metadata": {},
     "output_type": "display_data"
    }
   ],
   "source": [
    "pv_monitor = PVMonitor(config)\n",
    "pv_monitor.display_monitor_pvs()"
   ]
  },
  {
   "cell_type": "code",
   "execution_count": 7,
   "metadata": {},
   "outputs": [
    {
     "data": {
      "application/vnd.jupyter.widget-view+json": {
       "model_id": "9bb5130490b64221b7dd6c536c19d51f",
       "version_major": 2,
       "version_minor": 0
      },
      "text/plain": [
       "VBox(children=(ManualAlignmentButton(button_style='success', description='Start Manual Alignment', layout=Layo…"
      ]
     },
     "metadata": {},
     "output_type": "display_data"
    },
    {
     "data": {
      "application/vnd.jupyter.widget-view+json": {
       "model_id": "da9ff726b34d4ee080e3ff8aa8a37349",
       "version_major": 2,
       "version_minor": 0
      },
      "text/plain": [
       "Output()"
      ]
     },
     "metadata": {},
     "output_type": "display_data"
    }
   ],
   "source": [
    "# Monitoring interface\n",
    "# An example for initial tests\n",
    "temp = ManualAlignmentButton(config)\n",
    "temp.display_start_button()"
   ]
  },
  {
   "cell_type": "markdown",
   "metadata": {},
   "source": [
    "### Scan"
   ]
  },
  {
   "cell_type": "code",
   "execution_count": 8,
   "metadata": {
    "scrolled": false
   },
   "outputs": [
    {
     "data": {
      "application/vnd.jupyter.widget-view+json": {
       "model_id": "a348346971294fb180c838afe1cf1c22",
       "version_major": 2,
       "version_minor": 0
      },
      "text/plain": [
       "Dropdown(options=('Plot after ends with PyQt', 'Plot after ends with Plotly', 'Live Plot'), style=DescriptionS…"
      ]
     },
     "metadata": {},
     "output_type": "display_data"
    },
    {
     "data": {
      "application/vnd.jupyter.widget-view+json": {
       "model_id": "16e9ee56d1b64bae9677d87398ee1245",
       "version_major": 2,
       "version_minor": 0
      },
      "text/plain": [
       "VBox(children=(MonitorScanSave(button_style='success', description='Start Scanning Plot', layout=Layout(width=…"
      ]
     },
     "metadata": {},
     "output_type": "display_data"
    },
    {
     "data": {
      "application/vnd.jupyter.widget-view+json": {
       "model_id": "4a9dd6bf749d43df9113cf9d8dead4ca",
       "version_major": 2,
       "version_minor": 0
      },
      "text/plain": [
       "Box(layout=Layout(height='40px', width='40px'))"
      ]
     },
     "metadata": {},
     "output_type": "display_data"
    },
    {
     "data": {
      "application/vnd.jupyter.widget-view+json": {
       "model_id": "9df18f73ab284069adf441f11ca2998f",
       "version_major": 2,
       "version_minor": 0
      },
      "text/plain": [
       "Box()"
      ]
     },
     "metadata": {},
     "output_type": "display_data"
    },
    {
     "data": {
      "application/vnd.jupyter.widget-view+json": {
       "model_id": "c8075d33bf4546dd98e4e7e6056262c8",
       "version_major": 2,
       "version_minor": 0
      },
      "text/plain": [
       "Output()"
      ]
     },
     "metadata": {},
     "output_type": "display_data"
    },
    {
     "data": {
      "text/plain": [
       "''"
      ]
     },
     "metadata": {},
     "output_type": "display_data"
    },
    {
     "data": {
      "text/plain": [
       "''"
      ]
     },
     "metadata": {},
     "output_type": "display_data"
    }
   ],
   "source": [
    "# Scan-gui\n",
    "live_plot = MonitorScanSave(config)\n",
    "live_plot.display_start_button()"
   ]
  },
  {
   "cell_type": "markdown",
   "metadata": {},
   "source": [
    "### Export notebook"
   ]
  },
  {
   "cell_type": "code",
   "execution_count": 9,
   "metadata": {},
   "outputs": [
    {
     "data": {
      "application/vnd.jupyter.widget-view+json": {
       "model_id": "fba86818a0f748f4bcf3f02faf4e1241",
       "version_major": 2,
       "version_minor": 0
      },
      "text/plain": [
       "ExportButtonPDF(button_style='warning', description='Export Notebook to PDF', layout=Layout(width='300px'), st…"
      ]
     },
     "metadata": {},
     "output_type": "display_data"
    },
    {
     "data": {
      "application/vnd.jupyter.widget-view+json": {
       "model_id": "a485ffb907114088b83b31bbff046614",
       "version_major": 2,
       "version_minor": 0
      },
      "text/plain": [
       "Output()"
      ]
     },
     "metadata": {},
     "output_type": "display_data"
    }
   ],
   "source": [
    "export_pdf = ExportButtonPDF(config)\n",
    "export_pdf.display_export_button()"
   ]
  },
  {
   "cell_type": "code",
   "execution_count": 10,
   "metadata": {
    "scrolled": false
   },
   "outputs": [
    {
     "data": {
      "application/vnd.jupyter.widget-view+json": {
       "model_id": "942b5af41e8a43749e5956fd78939045",
       "version_major": 2,
       "version_minor": 0
      },
      "text/plain": [
       "ExportButtonHTML(button_style='warning', description='Export Notebook to HTML', layout=Layout(width='300px'), …"
      ]
     },
     "metadata": {},
     "output_type": "display_data"
    },
    {
     "data": {
      "application/vnd.jupyter.widget-view+json": {
       "model_id": "689f99a37bb144068c9ba00738537a4a",
       "version_major": 2,
       "version_minor": 0
      },
      "text/plain": [
       "Output()"
      ]
     },
     "metadata": {},
     "output_type": "display_data"
    }
   ],
   "source": [
    "export_html = ExportButtonHTML(config)\n",
    "export_html.display_export_button()"
   ]
  },
  {
   "cell_type": "code",
   "execution_count": 11,
   "metadata": {},
   "outputs": [
    {
     "name": "stderr",
     "output_type": "stream",
     "text": [
      "No traceback available to show.\n"
     ]
    }
   ],
   "source": [
    "%tb"
   ]
  },
  {
   "cell_type": "code",
   "execution_count": 12,
   "metadata": {},
   "outputs": [
    {
     "name": "stdout",
     "output_type": "stream",
     "text": [
      "This is the format of your plot grid:\n",
      "[ (1,1) x1,y1 ]\n",
      "[ (2,1) x2,y2 ]\n",
      "\n"
     ]
    },
    {
     "data": {
      "text/plain": [
       "Scatter({\n",
       "    'mode': 'lines+markers',\n",
       "    'name': 'line1',\n",
       "    'uid': '4c095e18-badc-4fc5-8bc7-59d918dd43f4',\n",
       "    'x': [],\n",
       "    'xaxis': 'x',\n",
       "    'y': [],\n",
       "    'yaxis': 'y'\n",
       "})"
      ]
     },
     "execution_count": 12,
     "metadata": {},
     "output_type": "execute_result"
    }
   ],
   "source": [
    "import json\n",
    "import os\n",
    "import threading\n",
    "import IPython\n",
    "from IPython.display import display, update_display, Image\n",
    "import ipywidgets as widgets\n",
    "import time\n",
    "import pandas as pd\n",
    "import subprocess\n",
    "from lib.utils import logprint\n",
    "from pathlib import Path\n",
    "from lib.ScanParser import ScanParser\n",
    "import plotly.graph_objs as go\n",
    "import plotly.io as pio\n",
    "from plotly import tools\n",
    "\n",
    "number_traces = 2\n",
    "scan_names = [\"a\", \"b\", \"c\"]\n",
    "\n",
    "traces = []\n",
    "\n",
    "fig = go.FigureWidget(tools.make_subplots(rows=number_traces, cols=1))\n",
    "\n",
    "for i in range(number_traces):\n",
    "    traces.append([])\n",
    "\n",
    "    for j in range(len(scan_names)):\n",
    "        trace = go.Scatter(\n",
    "            x=[], y=[], # Data\n",
    "            mode='lines+markers', name='line' + str(i+1)\n",
    "        )\n",
    "\n",
    "        traces[i].append(trace)\n",
    "        fig.append_trace(trace, i + 1, 1) # using i + 1 because plot index starts at 1\n",
    "\n",
    "fig['layout'].update(title='Scan', plot_bgcolor='rgb(230, 230, 230)')\n",
    "fig.data[1]"
   ]
  }
 ],
 "metadata": {
  "kernelspec": {
   "display_name": "Python 3",
   "language": "python",
   "name": "python3"
  },
  "language_info": {
   "codemirror_mode": {
    "name": "ipython",
    "version": 3
   },
   "file_extension": ".py",
   "mimetype": "text/x-python",
   "name": "python",
   "nbconvert_exporter": "python",
   "pygments_lexer": "ipython3",
   "version": "3.5.3"
  },
  "widgets": {
   "application/vnd.jupyter.widget-state+json": {
    "state": {
     "002b696f036b49a1b7e5172f3e6ea663": {
      "model_module": "@jupyter-widgets/controls",
      "model_module_version": "1.4.0",
      "model_name": "ButtonModel",
      "state": {
       "button_style": "warning",
       "description": "Export Notebook to HTML",
       "layout": "IPY_MODEL_f4960f4152544d9abbff78b6e95afc6b",
       "style": "IPY_MODEL_851d91e00c9c418aa9f164afec31a02c",
       "tooltip": "Click me"
      }
     },
     "0040e6a72cc245edbdcd44c26877fbbb": {
      "model_module": "@jupyter-widgets/base",
      "model_module_version": "1.1.0",
      "model_name": "LayoutModel",
      "state": {
       "width": "300px"
      }
     },
     "005b3cd8781a46f09cbcee03034ddfc5": {
      "model_module": "@jupyter-widgets/base",
      "model_module_version": "1.1.0",
      "model_name": "LayoutModel",
      "state": {}
     },
     "00c581d5dd1342aca10c01919654ff94": {
      "model_module": "@jupyter-widgets/controls",
      "model_module_version": "1.4.0",
      "model_name": "DescriptionStyleModel",
      "state": {
       "description_width": ""
      }
     },
     "0156fcee6b5649cb81333a03174e0e27": {
      "model_module": "@jupyter-widgets/controls",
      "model_module_version": "1.4.0",
      "model_name": "ButtonModel",
      "state": {
       "button_style": "success",
       "description": "Start Motor Initializaton",
       "layout": "IPY_MODEL_bb3d700d4a554cf6b66e674b33c12a25",
       "style": "IPY_MODEL_1403f3603c0a41d2b1d8bd4858f985fe",
       "tooltip": "Click me"
      }
     },
     "018c539e48bc42b89608bf852a5e707e": {
      "model_module": "@jupyter-widgets/base",
      "model_module_version": "1.1.0",
      "model_name": "LayoutModel",
      "state": {}
     },
     "01baa007c16144bca09b2fcadd59954e": {
      "model_module": "@jupyter-widgets/output",
      "model_module_version": "1.0.0",
      "model_name": "OutputModel",
      "state": {
       "layout": "IPY_MODEL_9ce6a8312e6040bb8ea1b6eed432a1df"
      }
     },
     "01f3f817fa54492c9d8ab93fc38018d6": {
      "model_module": "@jupyter-widgets/base",
      "model_module_version": "1.1.0",
      "model_name": "LayoutModel",
      "state": {
       "width": "300px"
      }
     },
     "02563b5ff7eb4da98b31fe833e1885e5": {
      "model_module": "@jupyter-widgets/controls",
      "model_module_version": "1.4.0",
      "model_name": "DescriptionStyleModel",
      "state": {
       "description_width": ""
      }
     },
     "02780d535430494fabd6181ff82d608d": {
      "model_module": "@jupyter-widgets/base",
      "model_module_version": "1.1.0",
      "model_name": "LayoutModel",
      "state": {}
     },
     "02c518ba93104a0dbfb08712f07d1404": {
      "model_module": "@jupyter-widgets/controls",
      "model_module_version": "1.4.0",
      "model_name": "ButtonStyleModel",
      "state": {}
     },
     "02d2151d127b42ecbfb791918779cf0d": {
      "model_module": "@jupyter-widgets/base",
      "model_module_version": "1.1.0",
      "model_name": "LayoutModel",
      "state": {}
     },
     "02e00baca94a4404a6713f324c1f634d": {
      "model_module": "@jupyter-widgets/controls",
      "model_module_version": "1.4.0",
      "model_name": "ButtonStyleModel",
      "state": {}
     },
     "034476312585417fb96f39004737cd3b": {
      "model_module": "@jupyter-widgets/controls",
      "model_module_version": "1.4.0",
      "model_name": "DescriptionStyleModel",
      "state": {
       "description_width": "initial"
      }
     },
     "0350cd712f2a44579c8e58e86378d393": {
      "model_module": "@jupyter-widgets/base",
      "model_module_version": "1.1.0",
      "model_name": "LayoutModel",
      "state": {}
     },
     "035198fee88343598155c9751bb1bb9b": {
      "model_module": "@jupyter-widgets/controls",
      "model_module_version": "1.4.0",
      "model_name": "ButtonStyleModel",
      "state": {}
     },
     "03577d8d414641678d1c6c9a939ed29f": {
      "model_module": "@jupyter-widgets/controls",
      "model_module_version": "1.4.0",
      "model_name": "CheckboxModel",
      "state": {
       "description": "Plot scan-gui graph instead of Jupyter's: ",
       "disabled": false,
       "layout": "IPY_MODEL_1c77697cba7e4f7daae035dab4d40d00",
       "style": "IPY_MODEL_1f1bfd8898a64725ba1e9c1de3fcdec8",
       "value": false
      }
     },
     "037600f8ca154dd7b91bcf879cf975cf": {
      "model_module": "@jupyter-widgets/output",
      "model_module_version": "1.0.0",
      "model_name": "OutputModel",
      "state": {
       "layout": "IPY_MODEL_5d27a843c9ec4dadb49b7481c326f79c"
      }
     },
     "0380747faf3048aaa22ac861c5275236": {
      "model_module": "@jupyter-widgets/controls",
      "model_module_version": "1.4.0",
      "model_name": "DescriptionStyleModel",
      "state": {
       "description_width": ""
      }
     },
     "03817220bfe0481b90891b74a04b56b9": {
      "model_module": "@jupyter-widgets/base",
      "model_module_version": "1.1.0",
      "model_name": "LayoutModel",
      "state": {}
     },
     "03c2de3c02d84e0c8c181e541663739e": {
      "model_module": "@jupyter-widgets/base",
      "model_module_version": "1.1.0",
      "model_name": "LayoutModel",
      "state": {}
     },
     "040bc010505f4d24800eb66f7b3a3a9a": {
      "model_module": "@jupyter-widgets/base",
      "model_module_version": "1.1.0",
      "model_name": "LayoutModel",
      "state": {}
     },
     "0416644071fc4a78949a9a76c47ce1db": {
      "model_module": "@jupyter-widgets/controls",
      "model_module_version": "1.4.0",
      "model_name": "ButtonStyleModel",
      "state": {}
     },
     "04d304d27d6c4634967631ca08bb6161": {
      "model_module": "@jupyter-widgets/base",
      "model_module_version": "1.1.0",
      "model_name": "LayoutModel",
      "state": {}
     },
     "053f0f3ee5154d049136f96eb957585e": {
      "model_module": "@jupyter-widgets/controls",
      "model_module_version": "1.4.0",
      "model_name": "LabelModel",
      "state": {
       "layout": "IPY_MODEL_543ba9b4965941fba22937dd3ac43988",
       "style": "IPY_MODEL_4c21c82c8e5e4176a6858d087ec9f257",
       "value": "No motors initilized to be showed."
      }
     },
     "055a5b4c3d7b4422afd389f44b0cab69": {
      "model_module": "@jupyter-widgets/base",
      "model_module_version": "1.1.0",
      "model_name": "LayoutModel",
      "state": {}
     },
     "055b59cfbbe1451d9b9c334c1b7c039c": {
      "model_module": "@jupyter-widgets/base",
      "model_module_version": "1.1.0",
      "model_name": "LayoutModel",
      "state": {}
     },
     "05d4e917e5e748e8a92945e31d4affbd": {
      "model_module": "@jupyter-widgets/base",
      "model_module_version": "1.1.0",
      "model_name": "LayoutModel",
      "state": {}
     },
     "062f65cf40994f77a9a0ca09e1b44f40": {
      "model_module": "@jupyter-widgets/base",
      "model_module_version": "1.1.0",
      "model_name": "LayoutModel",
      "state": {}
     },
     "06477e4f823646a88d6bbc6969b0d70c": {
      "model_module": "@jupyter-widgets/output",
      "model_module_version": "1.0.0",
      "model_name": "OutputModel",
      "state": {
       "layout": "IPY_MODEL_829d5ffc85fa41159feedbe8c2bda8cd"
      }
     },
     "064aefbda11447e3800dcd7cebc23ce4": {
      "model_module": "@jupyter-widgets/controls",
      "model_module_version": "1.4.0",
      "model_name": "ButtonStyleModel",
      "state": {}
     },
     "06810495a7a246a89e37ba2f7de06555": {
      "model_module": "@jupyter-widgets/base",
      "model_module_version": "1.1.0",
      "model_name": "LayoutModel",
      "state": {
       "width": "300px"
      }
     },
     "0686938e0563435f8c441596f506b33a": {
      "model_module": "@jupyter-widgets/controls",
      "model_module_version": "1.4.0",
      "model_name": "ButtonStyleModel",
      "state": {}
     },
     "06af8739fbf94c668173a808880b9373": {
      "model_module": "@jupyter-widgets/base",
      "model_module_version": "1.1.0",
      "model_name": "LayoutModel",
      "state": {}
     },
     "06c3e58c05ce440285dbb219d458a010": {
      "model_module": "@jupyter-widgets/controls",
      "model_module_version": "1.4.0",
      "model_name": "VBoxModel",
      "state": {
       "children": [
        "IPY_MODEL_339ee207f41c48878643bf626673fdd8"
       ],
       "layout": "IPY_MODEL_9a20361d0ae74c7d8046e723f21cbada"
      }
     },
     "06fc374d76ab496aa61d695f2c8d1904": {
      "model_module": "@jupyter-widgets/controls",
      "model_module_version": "1.4.0",
      "model_name": "DescriptionStyleModel",
      "state": {
       "description_width": ""
      }
     },
     "06fe778650d34141bca6aba1d5e8a5ea": {
      "model_module": "@jupyter-widgets/output",
      "model_module_version": "1.0.0",
      "model_name": "OutputModel",
      "state": {
       "layout": "IPY_MODEL_a15baba43b7a42e69b3a9c346f8294b8"
      }
     },
     "0700e76e7bda442ea5d6e96e7d224eb2": {
      "model_module": "@jupyter-widgets/output",
      "model_module_version": "1.0.0",
      "model_name": "OutputModel",
      "state": {
       "layout": "IPY_MODEL_ff3f55b011214f7b8a0a1456f94c81a8",
       "msg_id": "84f13d9e0f3a48548efb07759ada715f",
       "outputs": [
        {
         "name": "stdout",
         "output_type": "stream",
         "text": "This is the format of your plot grid:\n[ (1,1) x1,y1 ]\n[ (2,1) x2,y2 ]\n\n"
        }
       ]
      }
     },
     "08146e10425d4c81ab703a406e662083": {
      "model_module": "@jupyter-widgets/output",
      "model_module_version": "1.0.0",
      "model_name": "OutputModel",
      "state": {
       "layout": "IPY_MODEL_69daf959377e47dcbb5889a43daac5cc"
      }
     },
     "083a8fcc18344d00a334964520e3e734": {
      "model_module": "@jupyter-widgets/base",
      "model_module_version": "1.1.0",
      "model_name": "LayoutModel",
      "state": {}
     },
     "0855b3a9cd3e4c13830218cca75b626d": {
      "model_module": "@jupyter-widgets/base",
      "model_module_version": "1.1.0",
      "model_name": "LayoutModel",
      "state": {}
     },
     "08b3d8b783c9473c853b6d49c1e34796": {
      "model_module": "@jupyter-widgets/output",
      "model_module_version": "1.0.0",
      "model_name": "OutputModel",
      "state": {
       "layout": "IPY_MODEL_f13774112b2843e28f442f00bba3be5b"
      }
     },
     "08b7a350078e412fbb3a918ae01c64ba": {
      "model_module": "plotlywidget",
      "model_module_version": "0.8.0",
      "model_name": "FigureModel",
      "state": {
       "_config": {
        "plotlyServerURL": "https://plot.ly"
       },
       "_js2py_layoutDelta": {},
       "_js2py_pointsCallback": {},
       "_js2py_relayout": {},
       "_js2py_restyle": {},
       "_js2py_traceDeltas": {},
       "_js2py_update": {},
       "_layout": {
        "template": {}
       },
       "_model_module_version": "0.8.0",
       "_py2js_addTraces": {},
       "_py2js_animate": {},
       "_py2js_deleteTraces": {},
       "_py2js_moveTraces": {},
       "_py2js_removeLayoutProps": {},
       "_py2js_removeTraceProps": {},
       "_py2js_restyle": {},
       "_py2js_update": {},
       "_view_count": 0,
       "_view_module_version": "0.8.0"
      }
     },
     "08b804566d444cd4b4a8951c5ab44e04": {
      "model_module": "@jupyter-widgets/controls",
      "model_module_version": "1.4.0",
      "model_name": "ButtonModel",
      "state": {
       "button_style": "success",
       "description": "Start PV Monitoring",
       "layout": "IPY_MODEL_f92d9c105ac24c499de0267dcd4d604b",
       "style": "IPY_MODEL_5301654f7f5c4bc7b346d76905d3778d",
       "tooltip": "Click me"
      }
     },
     "08e372bd25224abda7e831d4311a0e0a": {
      "model_module": "@jupyter-widgets/output",
      "model_module_version": "1.0.0",
      "model_name": "OutputModel",
      "state": {
       "layout": "IPY_MODEL_fb95931bd8894468bb40397d8a192e61"
      }
     },
     "090553d32e26492faff45af8a9f0d3d0": {
      "model_module": "@jupyter-widgets/base",
      "model_module_version": "1.1.0",
      "model_name": "LayoutModel",
      "state": {}
     },
     "0946fcb969a44cb1991f9611e70c37e5": {
      "model_module": "@jupyter-widgets/controls",
      "model_module_version": "1.4.0",
      "model_name": "LabelModel",
      "state": {
       "layout": "IPY_MODEL_2fb7e64baf1d4a5e963dcce9469e4bad",
       "style": "IPY_MODEL_ca322b0fc3c84ac68fc6c9f1b83d8b73",
       "value": "No motors initilized to be showed."
      }
     },
     "095dda8bdbda4d349aa578bfe02219dc": {
      "model_module": "@jupyter-widgets/controls",
      "model_module_version": "1.4.0",
      "model_name": "BoxModel",
      "state": {
       "children": [
        "IPY_MODEL_11c3f23d954d4cb3a09e4676a310b8cd"
       ],
       "layout": "IPY_MODEL_51ec9680ca4a4faba109faf9d154e3eb"
      }
     },
     "09946d2f4f3a4302adf19c8a582f8195": {
      "model_module": "@jupyter-widgets/controls",
      "model_module_version": "1.4.0",
      "model_name": "BoxModel",
      "state": {
       "layout": "IPY_MODEL_e35e607e127a402582e3619db79ae641"
      }
     },
     "09b5c9706cc7455286e99535da35216c": {
      "model_module": "@jupyter-widgets/base",
      "model_module_version": "1.1.0",
      "model_name": "LayoutModel",
      "state": {}
     },
     "09bd8fcd505b4b15a7cc2bc2d304ffff": {
      "model_module": "@jupyter-widgets/base",
      "model_module_version": "1.1.0",
      "model_name": "LayoutModel",
      "state": {
       "width": "300px"
      }
     },
     "09f6c55c70c54fb4971d3f392c35ff79": {
      "model_module": "@jupyter-widgets/controls",
      "model_module_version": "1.4.0",
      "model_name": "LabelModel",
      "state": {
       "layout": "IPY_MODEL_ce1f68f86893443697ea8834d58b8690",
       "style": "IPY_MODEL_fb560d6b29c24c81a5625b3b05bd0be9",
       "value": "5.000"
      }
     },
     "0a63068356cb4aee9e798168b8d0f812": {
      "model_module": "@jupyter-widgets/base",
      "model_module_version": "1.1.0",
      "model_name": "LayoutModel",
      "state": {}
     },
     "0a8f7db5cde4416eade1bf833b429cd1": {
      "model_module": "@jupyter-widgets/controls",
      "model_module_version": "1.4.0",
      "model_name": "VBoxModel",
      "state": {
       "children": [
        "IPY_MODEL_bf40cfd8719f402c9abb8663e4cb0fc4",
        "IPY_MODEL_1d205a99c4e4454db19498f22f3b02be"
       ],
       "layout": "IPY_MODEL_b43552b3e7cc44539cdc8eda683857ef"
      }
     },
     "0aa47160619144cfa4fa749602cda80f": {
      "model_module": "@jupyter-widgets/base",
      "model_module_version": "1.1.0",
      "model_name": "LayoutModel",
      "state": {
       "width": "300px"
      }
     },
     "0ad0f0cc9bd14fb2a6392d18792ebb85": {
      "model_module": "@jupyter-widgets/controls",
      "model_module_version": "1.4.0",
      "model_name": "VBoxModel",
      "state": {
       "children": [
        "IPY_MODEL_29c4d2659c82421f8ed9a229b7690dfa",
        "IPY_MODEL_c8f5173952ca4145bd5726c3262733da",
        "IPY_MODEL_2c44c016d52946d0b8aa83931f8b6020",
        "IPY_MODEL_59134076cee34fc09e9ad1d400a81801"
       ],
       "layout": "IPY_MODEL_7de1aeb389684267a0d2642e080342e4"
      }
     },
     "0adb72cd2d7f42c3bfde64228fc47f1f": {
      "model_module": "@jupyter-widgets/controls",
      "model_module_version": "1.4.0",
      "model_name": "ButtonModel",
      "state": {
       "button_style": "warning",
       "description": "Export Notebook to HTML",
       "layout": "IPY_MODEL_984f1664d1a24d44afa8b4683342d927",
       "style": "IPY_MODEL_8f6c349b660d40ce937bc72e17cca5a0",
       "tooltip": "Click me"
      }
     },
     "0b008094b7884d1e8f93af0ceeb93b6a": {
      "model_module": "@jupyter-widgets/controls",
      "model_module_version": "1.4.0",
      "model_name": "DescriptionStyleModel",
      "state": {
       "description_width": "initial"
      }
     },
     "0b2ebe86b1f345f3b6fb5f2e7f47f7f5": {
      "model_module": "@jupyter-widgets/controls",
      "model_module_version": "1.4.0",
      "model_name": "ButtonStyleModel",
      "state": {}
     },
     "0be2157faa914d68b53c0d78438fd32c": {
      "model_module": "@jupyter-widgets/controls",
      "model_module_version": "1.4.0",
      "model_name": "CheckboxModel",
      "state": {
       "disabled": false,
       "layout": "IPY_MODEL_fc70bdac4a954cc880fc89260b16eac7",
       "style": "IPY_MODEL_23959e12079249729da8a1362f26e7aa",
       "value": false
      }
     },
     "0c219623053c4ed4b1a6db32c8b1bb0a": {
      "model_module": "@jupyter-widgets/controls",
      "model_module_version": "1.4.0",
      "model_name": "ButtonModel",
      "state": {
       "button_style": "success",
       "description": "Start Scanning Plot",
       "layout": "IPY_MODEL_2f62c807a6024213893c486af2341321",
       "style": "IPY_MODEL_22526bf118244a85a286641997924bbc",
       "tooltip": "Click me"
      }
     },
     "0c249ee945f5403bbecacb7019e28502": {
      "model_module": "@jupyter-widgets/base",
      "model_module_version": "1.1.0",
      "model_name": "LayoutModel",
      "state": {
       "height": "40px",
       "width": "40px"
      }
     },
     "0c6b8adca1c54394b73ba114492e91db": {
      "model_module": "@jupyter-widgets/controls",
      "model_module_version": "1.4.0",
      "model_name": "LabelModel",
      "state": {
       "layout": "IPY_MODEL_8608f8405d1c4b85af515ee6130fe8b3",
       "style": "IPY_MODEL_76c3cf491b8d4c4998229c708215c85d",
       "value": "No motors initilized to be showed."
      }
     },
     "0cc7508cc1504876adfd7c98c4da3a60": {
      "model_module": "@jupyter-widgets/base",
      "model_module_version": "1.1.0",
      "model_name": "LayoutModel",
      "state": {}
     },
     "0cfdde4341d74e86a6268b45642194c1": {
      "model_module": "@jupyter-widgets/controls",
      "model_module_version": "1.4.0",
      "model_name": "ButtonStyleModel",
      "state": {}
     },
     "0d6d3910786a40918319f26f57e3cdf1": {
      "model_module": "@jupyter-widgets/output",
      "model_module_version": "1.0.0",
      "model_name": "OutputModel",
      "state": {
       "layout": "IPY_MODEL_365856482656448ba3fb738246b002d7"
      }
     },
     "0d9fff10070f474386bf32316b015562": {
      "model_module": "@jupyter-widgets/controls",
      "model_module_version": "1.4.0",
      "model_name": "ButtonModel",
      "state": {
       "button_style": "warning",
       "description": "Export Notebook to HTML",
       "layout": "IPY_MODEL_f39f64f0f73e40a6bb6e15f25ce133cf",
       "style": "IPY_MODEL_2f896ba550ea486389d70526bbf3e2c6",
       "tooltip": "Click me"
      }
     },
     "0da2f9a6cb904f77883bcc7a924e934c": {
      "model_module": "@jupyter-widgets/controls",
      "model_module_version": "1.4.0",
      "model_name": "BoxModel",
      "state": {
       "children": [
        "IPY_MODEL_623b3fa9944b4e0aaaca92610b4c1413"
       ],
       "layout": "IPY_MODEL_bb4d0435a5894c209a6a11c6c68d6847"
      }
     },
     "0dba092fdae74727b4ea916ccb98a2de": {
      "model_module": "plotlywidget",
      "model_module_version": "0.8.0",
      "model_name": "FigureModel",
      "state": {
       "_config": {
        "plotlyServerURL": "https://plot.ly"
       },
       "_js2py_layoutDelta": {},
       "_js2py_pointsCallback": {},
       "_js2py_relayout": {},
       "_js2py_restyle": {},
       "_js2py_traceDeltas": {},
       "_js2py_update": {},
       "_layout": {
        "template": {}
       },
       "_model_module_version": "0.8.0",
       "_py2js_addTraces": {},
       "_py2js_animate": {},
       "_py2js_deleteTraces": {},
       "_py2js_moveTraces": {},
       "_py2js_removeLayoutProps": {},
       "_py2js_removeTraceProps": {},
       "_py2js_restyle": {},
       "_py2js_update": {},
       "_view_count": 0,
       "_view_module_version": "0.8.0"
      }
     },
     "0df70591d3804e6c96ea036fa189860b": {
      "model_module": "@jupyter-widgets/base",
      "model_module_version": "1.1.0",
      "model_name": "LayoutModel",
      "state": {}
     },
     "0e4450660def4b6d8d6db7c30d141308": {
      "model_module": "@jupyter-widgets/base",
      "model_module_version": "1.1.0",
      "model_name": "LayoutModel",
      "state": {}
     },
     "0e68bd8226e24b2bb1a3cba06f9d60c5": {
      "model_module": "@jupyter-widgets/base",
      "model_module_version": "1.1.0",
      "model_name": "LayoutModel",
      "state": {}
     },
     "0f00e3d2523d4cb4b08af6e0847d565f": {
      "model_module": "@jupyter-widgets/controls",
      "model_module_version": "1.4.0",
      "model_name": "VBoxModel",
      "state": {
       "children": [
        "IPY_MODEL_a59c62928b244fbeaeeabefbaa7abcb9"
       ],
       "layout": "IPY_MODEL_56128382e7d64701adae564fce5315cb"
      }
     },
     "0f140241275f4535ba3ef6702f545171": {
      "model_module": "@jupyter-widgets/base",
      "model_module_version": "1.1.0",
      "model_name": "LayoutModel",
      "state": {}
     },
     "0f1ca91f57c04e3a92fe36cc52e4239b": {
      "model_module": "@jupyter-widgets/controls",
      "model_module_version": "1.4.0",
      "model_name": "CheckboxModel",
      "state": {
       "description": "Plot scan-gui graph instead of Jupyter's: ",
       "disabled": false,
       "layout": "IPY_MODEL_93d561a3652844b184d8418eb49094c4",
       "style": "IPY_MODEL_e9c994903c3a486cbd4a8f2b817808fb",
       "value": false
      }
     },
     "0f37e771c6484290b99cbf433d1adee5": {
      "model_module": "@jupyter-widgets/controls",
      "model_module_version": "1.4.0",
      "model_name": "ButtonStyleModel",
      "state": {}
     },
     "0f67e72957ef4864b9342d07a6356f9e": {
      "model_module": "@jupyter-widgets/controls",
      "model_module_version": "1.4.0",
      "model_name": "ButtonModel",
      "state": {
       "button_style": "success",
       "description": "Start Manual Alignment",
       "layout": "IPY_MODEL_aa75ab6685904182826a3cb7f092d827",
       "style": "IPY_MODEL_7eab8cae27294aa2881c3474429c87e6",
       "tooltip": "Click me"
      }
     },
     "0f78f33e070441ce9df84ea722c96772": {
      "model_module": "@jupyter-widgets/output",
      "model_module_version": "1.0.0",
      "model_name": "OutputModel",
      "state": {
       "layout": "IPY_MODEL_73d206e415e247b688ff82edf9ac9772"
      }
     },
     "0fac3983273547a898e236c8b3dba3f8": {
      "model_module": "@jupyter-widgets/base",
      "model_module_version": "1.1.0",
      "model_name": "LayoutModel",
      "state": {}
     },
     "0feb49e28fec4f32b1635d7fa44b80c8": {
      "model_module": "@jupyter-widgets/output",
      "model_module_version": "1.0.0",
      "model_name": "OutputModel",
      "state": {
       "layout": "IPY_MODEL_613ac4ef1dbb4c309da3d1bfac05106c"
      }
     },
     "1028d793ac0f4603b2647723aa81a528": {
      "model_module": "@jupyter-widgets/base",
      "model_module_version": "1.1.0",
      "model_name": "LayoutModel",
      "state": {}
     },
     "105f45226d0d44f4845ea533ca0fd0e8": {
      "model_module": "@jupyter-widgets/base",
      "model_module_version": "1.1.0",
      "model_name": "LayoutModel",
      "state": {}
     },
     "10c5ca59d7d74515b97a966516e661a3": {
      "model_module": "@jupyter-widgets/output",
      "model_module_version": "1.0.0",
      "model_name": "OutputModel",
      "state": {
       "layout": "IPY_MODEL_debb3799a8c84bb09b6134c47cc28e56"
      }
     },
     "110a04d298964a4da953c7cdb705c023": {
      "model_module": "plotlywidget",
      "model_module_version": "0.8.0",
      "model_name": "FigureModel",
      "state": {
       "_config": {
        "plotlyServerURL": "https://plot.ly"
       },
       "_js2py_layoutDelta": {},
       "_js2py_pointsCallback": {},
       "_js2py_relayout": {},
       "_js2py_restyle": {},
       "_js2py_traceDeltas": {},
       "_js2py_update": {},
       "_layout": {
        "template": {}
       },
       "_model_module_version": "0.8.0",
       "_py2js_addTraces": {},
       "_py2js_animate": {},
       "_py2js_deleteTraces": {},
       "_py2js_moveTraces": {},
       "_py2js_removeLayoutProps": {},
       "_py2js_removeTraceProps": {},
       "_py2js_restyle": {},
       "_py2js_update": {},
       "_view_count": 0,
       "_view_module_version": "0.8.0"
      }
     },
     "110fda271ef24caf8506ca70e8359134": {
      "model_module": "@jupyter-widgets/controls",
      "model_module_version": "1.4.0",
      "model_name": "ButtonModel",
      "state": {
       "button_style": "danger",
       "description": "Stop Scanning Plot",
       "layout": "IPY_MODEL_e982e7b8e1eb4bc4b37e1b67b1572948",
       "style": "IPY_MODEL_267084fbe3cc4773888fffc1f943d289",
       "tooltip": "Click me"
      }
     },
     "1122748ff41643e79d161bbff5965086": {
      "model_module": "@jupyter-widgets/output",
      "model_module_version": "1.0.0",
      "model_name": "OutputModel",
      "state": {
       "layout": "IPY_MODEL_a5c0cf7544da45c196b672f41021e473"
      }
     },
     "117b919fbbda4bbaa2f9bf31f1e16e1c": {
      "model_module": "@jupyter-widgets/controls",
      "model_module_version": "1.4.0",
      "model_name": "CheckboxModel",
      "state": {
       "description": "Print log in Notebook's cells",
       "disabled": false,
       "layout": "IPY_MODEL_4e482362ff6c4948b7edbb5dd65eb7c2",
       "style": "IPY_MODEL_cd4e7bfd56dd46579b5ab7f0a0e3d62a",
       "value": true
      }
     },
     "11997c47048a4fcdb2695512d023fe15": {
      "model_module": "@jupyter-widgets/controls",
      "model_module_version": "1.4.0",
      "model_name": "DescriptionStyleModel",
      "state": {
       "description_width": ""
      }
     },
     "11b5a370ad994e56b55197b2ef71b8dd": {
      "model_module": "@jupyter-widgets/base",
      "model_module_version": "1.1.0",
      "model_name": "LayoutModel",
      "state": {
       "width": "300px"
      }
     },
     "11bbc49a69fc4f1ab1a77b496d8b02a1": {
      "model_module": "@jupyter-widgets/controls",
      "model_module_version": "1.4.0",
      "model_name": "BoxModel",
      "state": {
       "layout": "IPY_MODEL_d5ae6fd504914e9e82cc7430be6f27ea"
      }
     },
     "11c3f23d954d4cb3a09e4676a310b8cd": {
      "buffers": [
       {
        "data": "AAAAAAAAGEAAAAAAAAAQQAAAAAAAABxAAAAAAAAAHEAAAAAAAAAQQA==",
        "encoding": "base64",
        "path": [
         "_data",
         0,
         "y",
         "value"
        ]
       },
       {
        "data": "AAAAAAAAGEAAAAAAAAAQQAAAAAAAABxAAAAAAAAAHEAAAAAAAAAQQA==",
        "encoding": "base64",
        "path": [
         "_data",
         1,
         "y",
         "value"
        ]
       }
      ],
      "model_module": "plotlywidget",
      "model_module_version": "0.8.0",
      "model_name": "FigureModel",
      "state": {
       "_config": {
        "plotlyServerURL": "https://plot.ly"
       },
       "_data": [
        {
         "mode": "lines+markers",
         "name": "line1",
         "type": "scatter",
         "uid": "341f570e-61e6-4e0c-b0b7-106eb451eed8",
         "x": [
          0,
          1,
          2,
          3,
          4
         ],
         "xaxis": "x",
         "y": {
          "dtype": "float64",
          "shape": [
           5
          ],
          "value": {}
         },
         "yaxis": "y"
        },
        {
         "mode": "lines+markers",
         "name": "line2",
         "type": "scatter",
         "uid": "cf8ac324-3626-4b59-9ab4-ff7f41de90a2",
         "x": [
          0,
          1,
          2,
          3,
          4
         ],
         "xaxis": "x2",
         "y": {
          "dtype": "float64",
          "shape": [
           5
          ],
          "value": {}
         },
         "yaxis": "y2"
        }
       ],
       "_js2py_restyle": {},
       "_js2py_update": {},
       "_last_layout_edit_id": 8,
       "_last_trace_edit_id": 7,
       "_layout": {
        "autosize": true,
        "plot_bgcolor": "rgb(230, 230, 230)",
        "template": {},
        "title": {
         "text": "Scan"
        },
        "xaxis": {
         "anchor": "y",
         "domain": [
          0,
          1
         ]
        },
        "xaxis2": {
         "anchor": "y2",
         "domain": [
          0,
          1
         ]
        },
        "yaxis": {
         "anchor": "x",
         "domain": [
          0.575,
          1
         ]
        },
        "yaxis2": {
         "anchor": "x2",
         "domain": [
          0,
          0.425
         ]
        }
       },
       "_model_module_version": "0.8.0",
       "_py2js_animate": {},
       "_py2js_deleteTraces": {},
       "_py2js_moveTraces": {},
       "_py2js_removeLayoutProps": {},
       "_py2js_removeTraceProps": {},
       "_view_count": 1,
       "_view_module_version": "0.8.0"
      }
     },
     "11d1e1933da64157a85e316df8c3043d": {
      "model_module": "@jupyter-widgets/controls",
      "model_module_version": "1.4.0",
      "model_name": "VBoxModel",
      "state": {
       "children": [
        "IPY_MODEL_5a9e66a12e0d47dfb0053aec32e221ac",
        "IPY_MODEL_17420fa980a74dcab3f4b3064f704bbf"
       ],
       "layout": "IPY_MODEL_1e1c617c8931469eb6f4f250872ffd02"
      }
     },
     "12426a76a4174b1cae3b03f70e22d852": {
      "model_module": "@jupyter-widgets/base",
      "model_module_version": "1.1.0",
      "model_name": "LayoutModel",
      "state": {}
     },
     "12533264b6f04e8d8fca3d73a126f7e9": {
      "model_module": "@jupyter-widgets/base",
      "model_module_version": "1.1.0",
      "model_name": "LayoutModel",
      "state": {
       "width": "300px"
      }
     },
     "12815d67f8e942e6804527ca605e3d03": {
      "model_module": "@jupyter-widgets/base",
      "model_module_version": "1.1.0",
      "model_name": "LayoutModel",
      "state": {}
     },
     "1298575ca027487982d0cd2c29c2048c": {
      "model_module": "@jupyter-widgets/base",
      "model_module_version": "1.1.0",
      "model_name": "LayoutModel",
      "state": {}
     },
     "131d87e544804672a317fb6f7dd81708": {
      "model_module": "@jupyter-widgets/controls",
      "model_module_version": "1.4.0",
      "model_name": "CheckboxModel",
      "state": {
       "description": "Print log in Notebook's cells",
       "disabled": false,
       "layout": "IPY_MODEL_c17e6c2596f043cc859a3f5e87c79777",
       "style": "IPY_MODEL_ba2c3833a31b43a48acc74924b3c7ae7",
       "value": true
      }
     },
     "132a4e2d2bc545bcab8a1a65d38113c4": {
      "model_module": "@jupyter-widgets/controls",
      "model_module_version": "1.4.0",
      "model_name": "HBoxModel",
      "state": {
       "children": [
        "IPY_MODEL_e6e2fcfefcb1426e993a7da3d94fdc9b",
        "IPY_MODEL_3e9487d006d943eaa72b60f95aed33ce"
       ],
       "layout": "IPY_MODEL_0e68bd8226e24b2bb1a3cba06f9d60c5"
      }
     },
     "1331936953d54475bfae606047fc9e52": {
      "model_module": "@jupyter-widgets/base",
      "model_module_version": "1.1.0",
      "model_name": "LayoutModel",
      "state": {}
     },
     "1340f5e81fa040f38d326b3846352347": {
      "model_module": "@jupyter-widgets/base",
      "model_module_version": "1.1.0",
      "model_name": "LayoutModel",
      "state": {}
     },
     "135c6f9e9b8e47d9a65ecf47e1e80b39": {
      "model_module": "@jupyter-widgets/controls",
      "model_module_version": "1.4.0",
      "model_name": "BoxModel",
      "state": {
       "layout": "IPY_MODEL_2c33929dcf144355a225369329fd2614"
      }
     },
     "135f793a19ef45568bb99b91342d698e": {
      "model_module": "@jupyter-widgets/output",
      "model_module_version": "1.0.0",
      "model_name": "OutputModel",
      "state": {
       "layout": "IPY_MODEL_8c33aa9e5a5a4ac799c2997656273ab9",
       "outputs": [
        {
         "data": {
          "application/javascript": "IPython.notebook.save_checkpoint();",
          "text/plain": "<IPython.core.display.Javascript object>"
         },
         "metadata": {},
         "output_type": "display_data"
        },
        {
         "data": {
          "application/javascript": "IPython.notebook.save_checkpoint();",
          "text/plain": "<IPython.core.display.Javascript object>"
         },
         "metadata": {},
         "output_type": "display_data"
        },
        {
         "data": {
          "application/javascript": "IPython.notebook.save_checkpoint();",
          "text/plain": "<IPython.core.display.Javascript object>"
         },
         "metadata": {},
         "output_type": "display_data"
        },
        {
         "data": {
          "application/javascript": "IPython.notebook.save_checkpoint();",
          "text/plain": "<IPython.core.display.Javascript object>"
         },
         "metadata": {},
         "output_type": "display_data"
        }
       ]
      }
     },
     "139f274b83cd4310bab0b948445c7a9c": {
      "model_module": "@jupyter-widgets/base",
      "model_module_version": "1.1.0",
      "model_name": "LayoutModel",
      "state": {
       "width": "300px"
      }
     },
     "13bb1890840a4b2eba049b947112b1ec": {
      "model_module": "@jupyter-widgets/controls",
      "model_module_version": "1.4.0",
      "model_name": "BoxModel",
      "state": {
       "layout": "IPY_MODEL_91d5c77825c940a0bc0266d16a93af11"
      }
     },
     "13c85c15f1444c5fb0a44c690bdcceed": {
      "model_module": "@jupyter-widgets/base",
      "model_module_version": "1.1.0",
      "model_name": "LayoutModel",
      "state": {}
     },
     "13fb51b1b6bc4b748ca43aa265b1ba02": {
      "model_module": "@jupyter-widgets/controls",
      "model_module_version": "1.4.0",
      "model_name": "CheckboxModel",
      "state": {
       "disabled": false,
       "layout": "IPY_MODEL_4e5175aba2384fefa4bb55869cc83ac1",
       "style": "IPY_MODEL_8f52d12f87754a6cae02ce4d3770b2df",
       "value": false
      }
     },
     "1403f3603c0a41d2b1d8bd4858f985fe": {
      "model_module": "@jupyter-widgets/controls",
      "model_module_version": "1.4.0",
      "model_name": "ButtonStyleModel",
      "state": {}
     },
     "140cbd725a2d43f0a3d65f4f6c73477b": {
      "model_module": "@jupyter-widgets/base",
      "model_module_version": "1.1.0",
      "model_name": "LayoutModel",
      "state": {}
     },
     "14f83113af5e4bf986c160ecc4abefc8": {
      "model_module": "@jupyter-widgets/base",
      "model_module_version": "1.1.0",
      "model_name": "LayoutModel",
      "state": {}
     },
     "151051d83b63469a83bf677bff044cea": {
      "model_module": "@jupyter-widgets/base",
      "model_module_version": "1.1.0",
      "model_name": "LayoutModel",
      "state": {
       "height": "40px",
       "width": "40px"
      }
     },
     "15446300a29f4fea9e578ef04ad954cf": {
      "model_module": "@jupyter-widgets/controls",
      "model_module_version": "1.4.0",
      "model_name": "CheckboxModel",
      "state": {
       "disabled": false,
       "layout": "IPY_MODEL_38894798bffc4f6a8409cc90835cc610",
       "style": "IPY_MODEL_8ccaace30e514bbd9afac6b49720b914",
       "value": false
      }
     },
     "157471bc362b41a2bc899e4e6f95ebf5": {
      "model_module": "@jupyter-widgets/controls",
      "model_module_version": "1.4.0",
      "model_name": "ButtonModel",
      "state": {
       "button_style": "warning",
       "description": "Export Notebook to HTML",
       "layout": "IPY_MODEL_f19aed98431043dea6460d218bf1e67f",
       "style": "IPY_MODEL_0b2ebe86b1f345f3b6fb5f2e7f47f7f5",
       "tooltip": "Click me"
      }
     },
     "15b16c8957244b7eacf31faccc8e6b0d": {
      "model_module": "@jupyter-widgets/output",
      "model_module_version": "1.0.0",
      "model_name": "OutputModel",
      "state": {
       "layout": "IPY_MODEL_2a236dc4029142f6823c55fecf2a5695"
      }
     },
     "15c5b4a0031e4c3d9d89344b302e15a4": {
      "model_module": "@jupyter-widgets/controls",
      "model_module_version": "1.4.0",
      "model_name": "ButtonStyleModel",
      "state": {}
     },
     "162738e92c2444a09d55d8c0bf514179": {
      "model_module": "@jupyter-widgets/base",
      "model_module_version": "1.1.0",
      "model_name": "LayoutModel",
      "state": {}
     },
     "16338da5d57b4f85a7e8c73396237e6e": {
      "model_module": "@jupyter-widgets/controls",
      "model_module_version": "1.4.0",
      "model_name": "VBoxModel",
      "state": {
       "children": [
        "IPY_MODEL_6f90166ea7a046708a0664fe7c87f9db",
        "IPY_MODEL_3e3a49233a014db3b65fc1b5b723f285"
       ],
       "layout": "IPY_MODEL_aee59a2ea26e47779880506bba842b9d"
      }
     },
     "169fd373325642aca73954143a358fdb": {
      "model_module": "@jupyter-widgets/base",
      "model_module_version": "1.1.0",
      "model_name": "LayoutModel",
      "state": {
       "width": "300px"
      }
     },
     "16a65fb4ce884419a64c3ba1551461df": {
      "model_module": "@jupyter-widgets/controls",
      "model_module_version": "1.4.0",
      "model_name": "CheckboxModel",
      "state": {
       "disabled": false,
       "layout": "IPY_MODEL_389dd7cce59c4443ae4c0631791661d8",
       "style": "IPY_MODEL_6ddd457be2564ac797bb8c2c69671a9c",
       "value": false
      }
     },
     "16b6f2710b384778bfa92566debf5adc": {
      "model_module": "@jupyter-widgets/controls",
      "model_module_version": "1.4.0",
      "model_name": "TextareaModel",
      "state": {
       "layout": "IPY_MODEL_404e103b08c9465c9e4199ab70552f6a",
       "placeholder": "Example: IOC:m1 IOC:m3 LNLS:TEST:motor_g3",
       "style": "IPY_MODEL_95b55fbc70874b42bcf0965149f0a381",
       "value": "IOC:m1"
      }
     },
     "16dedb2143eb45d6a9b42d09b64372e9": {
      "model_module": "@jupyter-widgets/controls",
      "model_module_version": "1.4.0",
      "model_name": "HBoxModel",
      "state": {
       "children": [
        "IPY_MODEL_bd769fa9998f4f0ab4d6961e81832689",
        "IPY_MODEL_f914dbf8f9384f23ab765a709e49f78b"
       ],
       "layout": "IPY_MODEL_bdeb76c35f98459aa5bd8185d361a8c8"
      }
     },
     "16e1b5d0d01349ab94d1411b2f59d7fa": {
      "model_module": "@jupyter-widgets/base",
      "model_module_version": "1.1.0",
      "model_name": "LayoutModel",
      "state": {}
     },
     "16eba6bc5c9947d69e5a99afd49fcfcd": {
      "model_module": "@jupyter-widgets/controls",
      "model_module_version": "1.4.0",
      "model_name": "VBoxModel",
      "state": {
       "children": [
        "IPY_MODEL_b5db9437dcb4441c820d5c8d2628b1e8",
        "IPY_MODEL_6755b3c6863d4964a94da9202b2ad650"
       ],
       "layout": "IPY_MODEL_fb0c02cc1ff04d9a81ba166412bf11a5"
      }
     },
     "16f90b0b40044abfbd762b22e4439ab0": {
      "model_module": "@jupyter-widgets/controls",
      "model_module_version": "1.4.0",
      "model_name": "BoundedFloatTextModel",
      "state": {
       "description": "IOC:m1",
       "layout": "IPY_MODEL_ac472ae9f2834808a90f1b3b1213ed0d",
       "min": -100,
       "step": 0.01,
       "style": "IPY_MODEL_17afeb2fcb5240a89ce755626d13afa6",
       "value": 10
      }
     },
     "173680754f974c95832929a9ae376c12": {
      "model_module": "@jupyter-widgets/base",
      "model_module_version": "1.1.0",
      "model_name": "LayoutModel",
      "state": {}
     },
     "17420fa980a74dcab3f4b3064f704bbf": {
      "model_module": "@jupyter-widgets/controls",
      "model_module_version": "1.4.0",
      "model_name": "TextareaModel",
      "state": {
       "layout": "IPY_MODEL_5d53329dee014c7bb0d7f23c7e076ff0",
       "placeholder": "Example: IOC:m1.DMOV IOC:m3.RBV LNLS:ANEL:corrente.VAL",
       "style": "IPY_MODEL_24a3707fc5324ba1a79dac53d5d7d81b"
      }
     },
     "17513ec526b2445c8ee86b0b5f6dfcc4": {
      "model_module": "@jupyter-widgets/output",
      "model_module_version": "1.0.0",
      "model_name": "OutputModel",
      "state": {
       "layout": "IPY_MODEL_e1a9932ddaaf4c0590cd4f731c5b29cd"
      }
     },
     "176cf6551ea345ce8c20421b136d3113": {
      "model_module": "@jupyter-widgets/controls",
      "model_module_version": "1.4.0",
      "model_name": "CheckboxModel",
      "state": {
       "disabled": false,
       "layout": "IPY_MODEL_e6e1ac6f38c24514b2c488e699305ae3",
       "style": "IPY_MODEL_a259dd0e825b47b2951f118c72c60916",
       "value": false
      }
     },
     "17afeb2fcb5240a89ce755626d13afa6": {
      "model_module": "@jupyter-widgets/controls",
      "model_module_version": "1.4.0",
      "model_name": "DescriptionStyleModel",
      "state": {
       "description_width": ""
      }
     },
     "17f9bfcfb6604d30a0b4b19dd8909333": {
      "model_module": "@jupyter-widgets/output",
      "model_module_version": "1.0.0",
      "model_name": "OutputModel",
      "state": {
       "layout": "IPY_MODEL_b2b84a80861942f8a0a70a9af0c133d3",
       "outputs": [
        {
         "name": "stdout",
         "output_type": "stream",
         "text": "2019-05-13 16:15:32 Starting motors IOC:m1 initialization\n2019-05-13 16:15:32 Motor: 'IOC:m1' succesfully created as 'IOC m1'\n2019-05-13 16:15:32 Finished motors IOC:m1 initialization\n"
        }
       ]
      }
     },
     "180fb949b34249cea8ee029d3ab0bd77": {
      "model_module": "@jupyter-widgets/base",
      "model_module_version": "1.1.0",
      "model_name": "LayoutModel",
      "state": {}
     },
     "1812665033934826ab37847d6442357e": {
      "model_module": "@jupyter-widgets/base",
      "model_module_version": "1.1.0",
      "model_name": "LayoutModel",
      "state": {}
     },
     "181cb03bfc144ce5a51985c3373c9bf6": {
      "model_module": "@jupyter-widgets/controls",
      "model_module_version": "1.4.0",
      "model_name": "ButtonStyleModel",
      "state": {}
     },
     "1823c98c50e442209e1af6adee450583": {
      "model_module": "@jupyter-widgets/controls",
      "model_module_version": "1.4.0",
      "model_name": "TextareaModel",
      "state": {
       "layout": "IPY_MODEL_3c8bd25a4cdb401f92b695e1c675ed7a",
       "placeholder": "Example: IOC:m1 IOC:m3 LNLS:TEST:motor_g3",
       "style": "IPY_MODEL_1a895e93286f407aaad0d8f507d7cc04"
      }
     },
     "1856ea7e9c5d4f62aba15f5344eadeef": {
      "model_module": "@jupyter-widgets/base",
      "model_module_version": "1.1.0",
      "model_name": "LayoutModel",
      "state": {
       "width": "300px"
      }
     },
     "1874a6cb8386458ca42a19a1e92c130a": {
      "model_module": "@jupyter-widgets/base",
      "model_module_version": "1.1.0",
      "model_name": "LayoutModel",
      "state": {}
     },
     "1876a205909f4791b5777bbd04606594": {
      "model_module": "@jupyter-widgets/controls",
      "model_module_version": "1.4.0",
      "model_name": "ButtonModel",
      "state": {
       "button_style": "warning",
       "description": "Export Notebook to HTML",
       "layout": "IPY_MODEL_ee449a5582d84ed59251edf7ec41cdc9",
       "style": "IPY_MODEL_cb195793ec72452f8744d73dbfee9853",
       "tooltip": "Click me"
      }
     },
     "18911361c3704552a659e4b882e78828": {
      "model_module": "@jupyter-widgets/base",
      "model_module_version": "1.1.0",
      "model_name": "LayoutModel",
      "state": {
       "width": "300px"
      }
     },
     "18a9d62818ce423b90821e3022ae94a6": {
      "model_module": "@jupyter-widgets/base",
      "model_module_version": "1.1.0",
      "model_name": "LayoutModel",
      "state": {}
     },
     "18e2af6deb124fe9a61d4ad086abdbfc": {
      "model_module": "@jupyter-widgets/base",
      "model_module_version": "1.1.0",
      "model_name": "LayoutModel",
      "state": {}
     },
     "18eb8c7625be48f992ef2b8ac9b8eb77": {
      "model_module": "@jupyter-widgets/controls",
      "model_module_version": "1.4.0",
      "model_name": "DescriptionStyleModel",
      "state": {
       "description_width": "initial"
      }
     },
     "191ab73023934283bc02ad178409c376": {
      "model_module": "@jupyter-widgets/base",
      "model_module_version": "1.1.0",
      "model_name": "LayoutModel",
      "state": {}
     },
     "193812282706427fb804e16a47ae03e2": {
      "model_module": "@jupyter-widgets/base",
      "model_module_version": "1.1.0",
      "model_name": "LayoutModel",
      "state": {}
     },
     "19a3be9d71cd4558850157311072da34": {
      "model_module": "@jupyter-widgets/base",
      "model_module_version": "1.1.0",
      "model_name": "LayoutModel",
      "state": {
       "width": "300px"
      }
     },
     "19a5dbffffb2437f9569620f4a233190": {
      "model_module": "@jupyter-widgets/base",
      "model_module_version": "1.1.0",
      "model_name": "LayoutModel",
      "state": {
       "width": "300px"
      }
     },
     "19c4379843e740488580885e2a83182d": {
      "model_module": "@jupyter-widgets/base",
      "model_module_version": "1.1.0",
      "model_name": "LayoutModel",
      "state": {}
     },
     "19f1435a14f044ed8fdcc859b79fe694": {
      "model_module": "@jupyter-widgets/controls",
      "model_module_version": "1.4.0",
      "model_name": "DescriptionStyleModel",
      "state": {
       "description_width": ""
      }
     },
     "1a6537e8a7ab4cb281252bac40ecb639": {
      "model_module": "@jupyter-widgets/controls",
      "model_module_version": "1.4.0",
      "model_name": "TextareaModel",
      "state": {
       "layout": "IPY_MODEL_dd6383e0cf454d53a2d10417588eabb8",
       "placeholder": "Example: IOC:m1.DMOV IOC:m3.RBV LNLS:ANEL:corrente.VAL",
       "style": "IPY_MODEL_c52938e2d10146ef88c3987bdf363d59"
      }
     },
     "1a7cf91aa7924485975dd539f4293669": {
      "model_module": "@jupyter-widgets/controls",
      "model_module_version": "1.4.0",
      "model_name": "ButtonStyleModel",
      "state": {}
     },
     "1a841cb104e648b384aff5d63ead94ce": {
      "model_module": "@jupyter-widgets/output",
      "model_module_version": "1.0.0",
      "model_name": "OutputModel",
      "state": {
       "layout": "IPY_MODEL_93d26958950744e48574015c3acc479f"
      }
     },
     "1a895e93286f407aaad0d8f507d7cc04": {
      "model_module": "@jupyter-widgets/controls",
      "model_module_version": "1.4.0",
      "model_name": "DescriptionStyleModel",
      "state": {
       "description_width": ""
      }
     },
     "1a959f3e2f9f4a2d88e3f82380bc0389": {
      "model_module": "@jupyter-widgets/base",
      "model_module_version": "1.1.0",
      "model_name": "LayoutModel",
      "state": {}
     },
     "1aa5cf8931c643a79315790d3dd53657": {
      "model_module": "@jupyter-widgets/output",
      "model_module_version": "1.0.0",
      "model_name": "OutputModel",
      "state": {
       "layout": "IPY_MODEL_ba37312823f049f698285204ff715e05"
      }
     },
     "1ab633f36afb44e8ae50d22153c0a398": {
      "model_module": "@jupyter-widgets/controls",
      "model_module_version": "1.4.0",
      "model_name": "DescriptionStyleModel",
      "state": {
       "description_width": "initial"
      }
     },
     "1adb3118c7f54dab939666032df8a844": {
      "model_module": "@jupyter-widgets/base",
      "model_module_version": "1.1.0",
      "model_name": "LayoutModel",
      "state": {
       "width": "300px"
      }
     },
     "1ae788611c794490bb5cd872cbaab12f": {
      "model_module": "@jupyter-widgets/controls",
      "model_module_version": "1.4.0",
      "model_name": "VBoxModel",
      "state": {
       "children": [
        "IPY_MODEL_e8f8f7271f634293b93504bb487d8dd4",
        "IPY_MODEL_e12cc312889943e085a09d71630fe24d"
       ],
       "layout": "IPY_MODEL_1874a6cb8386458ca42a19a1e92c130a"
      }
     },
     "1aebbceb3ff2420b84325e0aa75e09af": {
      "model_module": "@jupyter-widgets/base",
      "model_module_version": "1.1.0",
      "model_name": "LayoutModel",
      "state": {}
     },
     "1aeea7cac1d94e1a980a012d6bf414b1": {
      "model_module": "@jupyter-widgets/base",
      "model_module_version": "1.1.0",
      "model_name": "LayoutModel",
      "state": {}
     },
     "1b2ce9467e624e58b9ed614022dc84b9": {
      "model_module": "@jupyter-widgets/base",
      "model_module_version": "1.1.0",
      "model_name": "LayoutModel",
      "state": {}
     },
     "1b9cba22fb0c49c5afb7e185a48cbc75": {
      "model_module": "@jupyter-widgets/base",
      "model_module_version": "1.1.0",
      "model_name": "LayoutModel",
      "state": {}
     },
     "1c0131985ba74590bdc05c405815e8c4": {
      "model_module": "@jupyter-widgets/base",
      "model_module_version": "1.1.0",
      "model_name": "LayoutModel",
      "state": {}
     },
     "1c3ce109eb7b45269a91eb0938fc56f3": {
      "model_module": "@jupyter-widgets/controls",
      "model_module_version": "1.4.0",
      "model_name": "CheckboxModel",
      "state": {
       "disabled": false,
       "layout": "IPY_MODEL_887496b2d30d4c57bb1cec441fdd91cb",
       "style": "IPY_MODEL_cd145965d33048369243ff01cfff97bc",
       "value": false
      }
     },
     "1c6e3b1565de4eada1718f57aa217ba7": {
      "model_module": "@jupyter-widgets/controls",
      "model_module_version": "1.4.0",
      "model_name": "ButtonModel",
      "state": {
       "button_style": "success",
       "description": "Start PV Monitoring",
       "layout": "IPY_MODEL_705b6c0d4ca04e4eabd9fc068bd72e8a",
       "style": "IPY_MODEL_bb801e7f623d4a98b34cb31cebb648dc",
       "tooltip": "Click me"
      }
     },
     "1c6fc14f1ba54604bf9b40525c791f4c": {
      "model_module": "@jupyter-widgets/controls",
      "model_module_version": "1.4.0",
      "model_name": "ButtonStyleModel",
      "state": {}
     },
     "1c77697cba7e4f7daae035dab4d40d00": {
      "model_module": "@jupyter-widgets/base",
      "model_module_version": "1.1.0",
      "model_name": "LayoutModel",
      "state": {}
     },
     "1cb6034fcd244e34ba25c1798090e596": {
      "model_module": "@jupyter-widgets/controls",
      "model_module_version": "1.4.0",
      "model_name": "BoxModel",
      "state": {
       "layout": "IPY_MODEL_1298575ca027487982d0cd2c29c2048c"
      }
     },
     "1cca5933de9f4ed2a071fb47a3c3d597": {
      "model_module": "@jupyter-widgets/output",
      "model_module_version": "1.0.0",
      "model_name": "OutputModel",
      "state": {
       "layout": "IPY_MODEL_c04d28f08eb34e0a8266cfd0ef386838",
       "msg_id": "428358761c3a4b12a7cf43c151e08fcb",
       "outputs": [
        {
         "name": "stdout",
         "output_type": "stream",
         "text": "This is the format of your plot grid:\n[ (1,1) x1,y1 ]\n[ (2,1) x2,y2 ]\n\n"
        }
       ]
      }
     },
     "1cdc3b4320564625bf34827c0621194a": {
      "model_module": "@jupyter-widgets/controls",
      "model_module_version": "1.4.0",
      "model_name": "HBoxModel",
      "state": {
       "children": [
        "IPY_MODEL_c7b5638ac7054786a31c8127ddcc4296",
        "IPY_MODEL_5b23322d08614440880c0aeb709420c3"
       ],
       "layout": "IPY_MODEL_5537aaf4e5c24ddda3826e3701c82742"
      }
     },
     "1d205a99c4e4454db19498f22f3b02be": {
      "model_module": "@jupyter-widgets/controls",
      "model_module_version": "1.4.0",
      "model_name": "TextareaModel",
      "state": {
       "layout": "IPY_MODEL_d87baa2977184b68bfcdc85d8537cbd1",
       "placeholder": "Example: IOC:m1.DMOV IOC:m3.RBV LNLS:ANEL:corrente.VAL",
       "style": "IPY_MODEL_1f8a3a4e2123490788cba99d12bbe0ed"
      }
     },
     "1da58a8b36ca43688517e533b9739247": {
      "model_module": "@jupyter-widgets/base",
      "model_module_version": "1.1.0",
      "model_name": "LayoutModel",
      "state": {}
     },
     "1db5751b0f464039b6021ad4e0e21dc3": {
      "model_module": "@jupyter-widgets/base",
      "model_module_version": "1.1.0",
      "model_name": "LayoutModel",
      "state": {
       "width": "300px"
      }
     },
     "1dda9f0f0f1b483b90699c0ee1590a57": {
      "model_module": "@jupyter-widgets/controls",
      "model_module_version": "1.4.0",
      "model_name": "DescriptionStyleModel",
      "state": {
       "description_width": ""
      }
     },
     "1e000ba6b9f540b3aea56cf620173f75": {
      "model_module": "@jupyter-widgets/base",
      "model_module_version": "1.1.0",
      "model_name": "LayoutModel",
      "state": {}
     },
     "1e1c617c8931469eb6f4f250872ffd02": {
      "model_module": "@jupyter-widgets/base",
      "model_module_version": "1.1.0",
      "model_name": "LayoutModel",
      "state": {}
     },
     "1e9743a10bc84656ae3049a44db146e9": {
      "model_module": "@jupyter-widgets/controls",
      "model_module_version": "1.4.0",
      "model_name": "DescriptionStyleModel",
      "state": {
       "description_width": ""
      }
     },
     "1eb1cc3abbe24286af6431dac3369b86": {
      "model_module": "@jupyter-widgets/base",
      "model_module_version": "1.1.0",
      "model_name": "LayoutModel",
      "state": {}
     },
     "1eba415fe4cf47b0bebdff9ad194a5ed": {
      "model_module": "@jupyter-widgets/base",
      "model_module_version": "1.1.0",
      "model_name": "LayoutModel",
      "state": {}
     },
     "1ee992bef0a0434aaace2d68a41eb740": {
      "buffers": [
       {
        "data": "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",
        "encoding": "base64",
        "path": [
         "value"
        ]
       }
      ],
      "model_module": "@jupyter-widgets/controls",
      "model_module_version": "1.4.0",
      "model_name": "ImageModel",
      "state": {
       "height": "35",
       "layout": "IPY_MODEL_7ae1ccdeea8c41c4983031d581fb02f7",
       "value": {},
       "width": "35"
      }
     },
     "1f107d1cb0974fd5a0ee9ef821bfb225": {
      "model_module": "@jupyter-widgets/controls",
      "model_module_version": "1.4.0",
      "model_name": "HBoxModel",
      "state": {
       "children": [
        "IPY_MODEL_ddaee8bd473947dbab52c14bd2deb4d7",
        "IPY_MODEL_d1a28673983741a394bfa2c8fa4f248c"
       ],
       "layout": "IPY_MODEL_90bdc03d04684521a1376e57ee28e606"
      }
     },
     "1f1bfd8898a64725ba1e9c1de3fcdec8": {
      "model_module": "@jupyter-widgets/controls",
      "model_module_version": "1.4.0",
      "model_name": "DescriptionStyleModel",
      "state": {
       "description_width": "initial"
      }
     },
     "1f2b3db4f61e4541ae56d4aea9b035a9": {
      "model_module": "@jupyter-widgets/controls",
      "model_module_version": "1.4.0",
      "model_name": "DescriptionStyleModel",
      "state": {
       "description_width": ""
      }
     },
     "1f6283801c3b49a8ba6af543cdd3adf8": {
      "model_module": "@jupyter-widgets/output",
      "model_module_version": "1.0.0",
      "model_name": "OutputModel",
      "state": {
       "layout": "IPY_MODEL_d55d587dae0249e4945f386ddd7aca44"
      }
     },
     "1f7c60fd35ad4fdebe065dd672529ac0": {
      "model_module": "@jupyter-widgets/controls",
      "model_module_version": "1.4.0",
      "model_name": "ButtonStyleModel",
      "state": {}
     },
     "1f8a3a4e2123490788cba99d12bbe0ed": {
      "model_module": "@jupyter-widgets/controls",
      "model_module_version": "1.4.0",
      "model_name": "DescriptionStyleModel",
      "state": {
       "description_width": ""
      }
     },
     "1f928c74e55d44858e08ddd6f21a8325": {
      "model_module": "@jupyter-widgets/base",
      "model_module_version": "1.1.0",
      "model_name": "LayoutModel",
      "state": {}
     },
     "1fac609ce55c42afbe58f5861e242786": {
      "model_module": "@jupyter-widgets/controls",
      "model_module_version": "1.4.0",
      "model_name": "DescriptionStyleModel",
      "state": {
       "description_width": ""
      }
     },
     "1fb6424b831a4082a86498d74ed06137": {
      "model_module": "@jupyter-widgets/controls",
      "model_module_version": "1.4.0",
      "model_name": "ButtonModel",
      "state": {
       "button_style": "warning",
       "description": "Export Notebook to HTML",
       "layout": "IPY_MODEL_0aa47160619144cfa4fa749602cda80f",
       "style": "IPY_MODEL_76ce9a0465f047bf8f55d35be530548a",
       "tooltip": "Click me"
      }
     },
     "206696b01383451aad92c71dcf2b6662": {
      "model_module": "@jupyter-widgets/base",
      "model_module_version": "1.1.0",
      "model_name": "LayoutModel",
      "state": {}
     },
     "20a39b163fdc4299a52a4a2049e6eba9": {
      "model_module": "@jupyter-widgets/base",
      "model_module_version": "1.1.0",
      "model_name": "LayoutModel",
      "state": {}
     },
     "20a7b7d7f76944b89e9744093d0738d4": {
      "model_module": "@jupyter-widgets/controls",
      "model_module_version": "1.4.0",
      "model_name": "VBoxModel",
      "state": {
       "children": [
        "IPY_MODEL_8051b4d6da4b4cd991db627622ef44f0"
       ],
       "layout": "IPY_MODEL_917e6e63fe0a4966b5b393346f58a16a"
      }
     },
     "20c02bfb06f24e5e88eff1cddd2f9221": {
      "model_module": "@jupyter-widgets/base",
      "model_module_version": "1.1.0",
      "model_name": "LayoutModel",
      "state": {
       "width": "300px"
      }
     },
     "20fa7e844232475aa2577ee72b85ed81": {
      "model_module": "@jupyter-widgets/controls",
      "model_module_version": "1.4.0",
      "model_name": "DescriptionStyleModel",
      "state": {
       "description_width": ""
      }
     },
     "20fe4a0f14bd4cb79fac29d13ae3bae9": {
      "model_module": "@jupyter-widgets/controls",
      "model_module_version": "1.4.0",
      "model_name": "ButtonStyleModel",
      "state": {}
     },
     "211e062053d04185991b47d16ab48651": {
      "model_module": "@jupyter-widgets/base",
      "model_module_version": "1.1.0",
      "model_name": "LayoutModel",
      "state": {}
     },
     "21227c2aa8a642568e37b4aaacae5122": {
      "model_module": "@jupyter-widgets/base",
      "model_module_version": "1.1.0",
      "model_name": "LayoutModel",
      "state": {}
     },
     "2127c6eec5f041cc901a1b40c4422e69": {
      "model_module": "@jupyter-widgets/base",
      "model_module_version": "1.1.0",
      "model_name": "LayoutModel",
      "state": {}
     },
     "212ebc5492074013bb035853469574b6": {
      "model_module": "@jupyter-widgets/controls",
      "model_module_version": "1.4.0",
      "model_name": "ButtonStyleModel",
      "state": {}
     },
     "217ccb60d7ca4956811d343f68373b00": {
      "model_module": "@jupyter-widgets/controls",
      "model_module_version": "1.4.0",
      "model_name": "ButtonStyleModel",
      "state": {}
     },
     "219488307a1e4cdcaa21fa4d45e37844": {
      "model_module": "@jupyter-widgets/base",
      "model_module_version": "1.1.0",
      "model_name": "LayoutModel",
      "state": {}
     },
     "21a3aef52890456c94144ebb0158983c": {
      "model_module": "@jupyter-widgets/controls",
      "model_module_version": "1.4.0",
      "model_name": "VBoxModel",
      "state": {
       "children": [
        "IPY_MODEL_b4e652041845424386e71e6715742c97",
        "IPY_MODEL_1a6537e8a7ab4cb281252bac40ecb639"
       ],
       "layout": "IPY_MODEL_4fca65bc91b842e6b4dad446dde08ac0"
      }
     },
     "21db40ff32d24461828db0b465a4e052": {
      "model_module": "plotlywidget",
      "model_module_version": "0.8.0",
      "model_name": "FigureModel",
      "state": {
       "_config": {
        "plotlyServerURL": "https://plot.ly"
       },
       "_js2py_layoutDelta": {},
       "_js2py_pointsCallback": {},
       "_js2py_relayout": {},
       "_js2py_restyle": {},
       "_js2py_traceDeltas": {},
       "_js2py_update": {},
       "_layout": {
        "template": {}
       },
       "_model_module_version": "0.8.0",
       "_py2js_addTraces": {},
       "_py2js_animate": {},
       "_py2js_deleteTraces": {},
       "_py2js_moveTraces": {},
       "_py2js_removeLayoutProps": {},
       "_py2js_removeTraceProps": {},
       "_py2js_restyle": {},
       "_py2js_update": {},
       "_view_count": 0,
       "_view_module_version": "0.8.0"
      }
     },
     "21e25351db134aaf8de9be56decaa9d4": {
      "model_module": "@jupyter-widgets/controls",
      "model_module_version": "1.4.0",
      "model_name": "DescriptionStyleModel",
      "state": {
       "description_width": "initial"
      }
     },
     "21f9a2ce82944a8eb2cf9225abfb3415": {
      "model_module": "@jupyter-widgets/base",
      "model_module_version": "1.1.0",
      "model_name": "LayoutModel",
      "state": {
       "width": "300px"
      }
     },
     "223ec4ceb1394f5090c92156b3349d87": {
      "model_module": "@jupyter-widgets/base",
      "model_module_version": "1.1.0",
      "model_name": "LayoutModel",
      "state": {}
     },
     "22526bf118244a85a286641997924bbc": {
      "model_module": "@jupyter-widgets/controls",
      "model_module_version": "1.4.0",
      "model_name": "ButtonStyleModel",
      "state": {}
     },
     "2259bcb6247741aa945b75a0d5bdf9d9": {
      "model_module": "@jupyter-widgets/controls",
      "model_module_version": "1.4.0",
      "model_name": "ButtonStyleModel",
      "state": {}
     },
     "22b873d5a6f24dc7bb544fc3ca1d3978": {
      "model_module": "@jupyter-widgets/output",
      "model_module_version": "1.0.0",
      "model_name": "OutputModel",
      "state": {
       "layout": "IPY_MODEL_678bc3324ffe4d7da075f82132148f25"
      }
     },
     "22ba0f201b7142abb5a46ec4ed71ab54": {
      "model_module": "@jupyter-widgets/controls",
      "model_module_version": "1.4.0",
      "model_name": "ButtonModel",
      "state": {
       "layout": "IPY_MODEL_3fe912ecbb8a44a38a15463c8eda663c",
       "style": "IPY_MODEL_2259bcb6247741aa945b75a0d5bdf9d9"
      }
     },
     "22ebe77060a94820956eb12a731b93c8": {
      "model_module": "@jupyter-widgets/controls",
      "model_module_version": "1.4.0",
      "model_name": "VBoxModel",
      "state": {
       "children": [
        "IPY_MODEL_ea60941ad4014706b146684917bf0c51",
        "IPY_MODEL_c74a24b09b434d5eaeb193c09889f6c1"
       ],
       "layout": "IPY_MODEL_c9f7486837324f248e9320dbcc4af448"
      }
     },
     "23143ee8e04049e094cb56100e75d91c": {
      "model_module": "@jupyter-widgets/base",
      "model_module_version": "1.1.0",
      "model_name": "LayoutModel",
      "state": {}
     },
     "2325a90b305e454faa1289d7e9c2f37e": {
      "model_module": "@jupyter-widgets/base",
      "model_module_version": "1.1.0",
      "model_name": "LayoutModel",
      "state": {}
     },
     "2375c1d8d1a94eb3a6c1a28f324a14ac": {
      "model_module": "@jupyter-widgets/base",
      "model_module_version": "1.1.0",
      "model_name": "LayoutModel",
      "state": {}
     },
     "2383d03291dc498cbe9e4eed54157fd7": {
      "model_module": "@jupyter-widgets/base",
      "model_module_version": "1.1.0",
      "model_name": "LayoutModel",
      "state": {}
     },
     "2384893e03d344e3be5649b33285891b": {
      "model_module": "@jupyter-widgets/controls",
      "model_module_version": "1.4.0",
      "model_name": "DescriptionStyleModel",
      "state": {
       "description_width": ""
      }
     },
     "23959e12079249729da8a1362f26e7aa": {
      "model_module": "@jupyter-widgets/controls",
      "model_module_version": "1.4.0",
      "model_name": "DescriptionStyleModel",
      "state": {
       "description_width": ""
      }
     },
     "23c2e7f5a9d142f0b850803f03d758d9": {
      "model_module": "@jupyter-widgets/base",
      "model_module_version": "1.1.0",
      "model_name": "LayoutModel",
      "state": {}
     },
     "23d2df924e1c4893af0dd791eea4d76d": {
      "model_module": "@jupyter-widgets/controls",
      "model_module_version": "1.4.0",
      "model_name": "ButtonStyleModel",
      "state": {}
     },
     "23d3aa06d18d4fbea52c9d88813fb343": {
      "model_module": "@jupyter-widgets/controls",
      "model_module_version": "1.4.0",
      "model_name": "TextareaModel",
      "state": {
       "layout": "IPY_MODEL_18a9d62818ce423b90821e3022ae94a6",
       "placeholder": "Example: IOC:m1 IOC:m3 LNLS:TEST:motor_g3",
       "style": "IPY_MODEL_963d39bd0ad3405cac716a1b8179d716",
       "value": "IOC:m1"
      }
     },
     "23f6e0739fe346ac97edeb033b199d39": {
      "model_module": "@jupyter-widgets/base",
      "model_module_version": "1.1.0",
      "model_name": "LayoutModel",
      "state": {}
     },
     "23ff0376547f4a7c9d8c7f4b055fac85": {
      "model_module": "@jupyter-widgets/base",
      "model_module_version": "1.1.0",
      "model_name": "LayoutModel",
      "state": {}
     },
     "241e0d4c715c465baa0f9bd47a90927b": {
      "model_module": "@jupyter-widgets/controls",
      "model_module_version": "1.4.0",
      "model_name": "ButtonStyleModel",
      "state": {}
     },
     "2449f13d78ec46da9ba1998991078417": {
      "model_module": "@jupyter-widgets/base",
      "model_module_version": "1.1.0",
      "model_name": "LayoutModel",
      "state": {
       "width": "300px"
      }
     },
     "24a3707fc5324ba1a79dac53d5d7d81b": {
      "model_module": "@jupyter-widgets/controls",
      "model_module_version": "1.4.0",
      "model_name": "DescriptionStyleModel",
      "state": {
       "description_width": ""
      }
     },
     "24bf41d9311f4b9d8c5b58aa873176b2": {
      "model_module": "@jupyter-widgets/controls",
      "model_module_version": "1.4.0",
      "model_name": "VBoxModel",
      "state": {
       "children": [
        "IPY_MODEL_95dee10616314ff5a4154bedb9e4781d"
       ],
       "layout": "IPY_MODEL_5f4e4ad62ae94de78ae9241d83a44a41"
      }
     },
     "24c22e2aec184797a704eb51d7af2175": {
      "model_module": "@jupyter-widgets/base",
      "model_module_version": "1.1.0",
      "model_name": "LayoutModel",
      "state": {
       "width": "300px"
      }
     },
     "24c7930d08db4afda83776232dd3503d": {
      "model_module": "@jupyter-widgets/controls",
      "model_module_version": "1.4.0",
      "model_name": "ButtonModel",
      "state": {
       "button_style": "warning",
       "description": "Export Notebook to HTML",
       "layout": "IPY_MODEL_01f3f817fa54492c9d8ab93fc38018d6",
       "style": "IPY_MODEL_97fcba5614ae4156a8f0caf9760cfe09",
       "tooltip": "Click me"
      }
     },
     "253eb533796748b99a3556e5531beb8d": {
      "model_module": "@jupyter-widgets/controls",
      "model_module_version": "1.4.0",
      "model_name": "ButtonModel",
      "state": {
       "button_style": "success",
       "description": "Start Motor Initializaton",
       "layout": "IPY_MODEL_b19c0aa3e53640cd90720ef54e44974b",
       "style": "IPY_MODEL_02c518ba93104a0dbfb08712f07d1404",
       "tooltip": "Click me"
      }
     },
     "257b8b9272f047e4afa6f70c83e553ba": {
      "model_module": "@jupyter-widgets/controls",
      "model_module_version": "1.4.0",
      "model_name": "BoxModel",
      "state": {
       "children": [
        "IPY_MODEL_7f0f9c885883434697256a4280bccde4"
       ],
       "layout": "IPY_MODEL_d2f15635f115411bb0521bae816871ba"
      }
     },
     "2581b4fbeff345a6b329975023ae6f8b": {
      "model_module": "@jupyter-widgets/output",
      "model_module_version": "1.0.0",
      "model_name": "OutputModel",
      "state": {
       "layout": "IPY_MODEL_0fac3983273547a898e236c8b3dba3f8"
      }
     },
     "261326af97b34a02bcf23d65faab484b": {
      "model_module": "@jupyter-widgets/base",
      "model_module_version": "1.1.0",
      "model_name": "LayoutModel",
      "state": {}
     },
     "2667c71c999d44c3bc8cd9042db87551": {
      "model_module": "@jupyter-widgets/base",
      "model_module_version": "1.1.0",
      "model_name": "LayoutModel",
      "state": {
       "width": "300px"
      }
     },
     "267084fbe3cc4773888fffc1f943d289": {
      "model_module": "@jupyter-widgets/controls",
      "model_module_version": "1.4.0",
      "model_name": "ButtonStyleModel",
      "state": {}
     },
     "26c624368e19476e9049df2d7e61d545": {
      "model_module": "@jupyter-widgets/controls",
      "model_module_version": "1.4.0",
      "model_name": "DescriptionStyleModel",
      "state": {
       "description_width": ""
      }
     },
     "26cd7f017bce4ca69993dbc97729db26": {
      "buffers": [
       {
        "data": "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",
        "encoding": "base64",
        "path": [
         "value"
        ]
       }
      ],
      "model_module": "@jupyter-widgets/controls",
      "model_module_version": "1.4.0",
      "model_name": "ImageModel",
      "state": {
       "height": "35",
       "layout": "IPY_MODEL_4c98abd6c2fc4acdaf7d3928ec5b00a8",
       "value": {},
       "width": "35"
      }
     },
     "26d75381f22f419c8ab8284990810196": {
      "model_module": "@jupyter-widgets/base",
      "model_module_version": "1.1.0",
      "model_name": "LayoutModel",
      "state": {}
     },
     "26f57df15c904bf0910865ff12620000": {
      "model_module": "@jupyter-widgets/base",
      "model_module_version": "1.1.0",
      "model_name": "LayoutModel",
      "state": {}
     },
     "2704d1938f1a425dbca6d29fa20ecfe0": {
      "model_module": "@jupyter-widgets/base",
      "model_module_version": "1.1.0",
      "model_name": "LayoutModel",
      "state": {}
     },
     "272edbb7d4ce46f6861ad32906769c71": {
      "model_module": "@jupyter-widgets/base",
      "model_module_version": "1.1.0",
      "model_name": "LayoutModel",
      "state": {}
     },
     "2734daf283814b7fa844826490911252": {
      "model_module": "@jupyter-widgets/controls",
      "model_module_version": "1.4.0",
      "model_name": "ButtonStyleModel",
      "state": {}
     },
     "277e687d9377414daac26ede4c4c739e": {
      "model_module": "@jupyter-widgets/base",
      "model_module_version": "1.1.0",
      "model_name": "LayoutModel",
      "state": {}
     },
     "27a434883c6b4a1e8231c8300efc425f": {
      "model_module": "@jupyter-widgets/base",
      "model_module_version": "1.1.0",
      "model_name": "LayoutModel",
      "state": {}
     },
     "27c5c5edae104e45971caba5a2c524c4": {
      "model_module": "@jupyter-widgets/controls",
      "model_module_version": "1.4.0",
      "model_name": "ButtonModel",
      "state": {
       "button_style": "success",
       "description": "Start Motor Initializaton",
       "layout": "IPY_MODEL_ca83e84fbb7348d18dc14ee07965e7ec",
       "style": "IPY_MODEL_6209d041aa0d4713986f23a051b2ca29",
       "tooltip": "Click me"
      }
     },
     "27e80dede8084f6f8655f871581847cc": {
      "model_module": "@jupyter-widgets/base",
      "model_module_version": "1.1.0",
      "model_name": "LayoutModel",
      "state": {}
     },
     "27f589293648449785b9da3eb28982ce": {
      "model_module": "@jupyter-widgets/controls",
      "model_module_version": "1.4.0",
      "model_name": "CheckboxModel",
      "state": {
       "disabled": false,
       "layout": "IPY_MODEL_055a5b4c3d7b4422afd389f44b0cab69",
       "style": "IPY_MODEL_ececdba3272048b6a3a0cbed2650c831",
       "value": false
      }
     },
     "282253c7976747259f43e5d38b482168": {
      "model_module": "@jupyter-widgets/controls",
      "model_module_version": "1.4.0",
      "model_name": "VBoxModel",
      "state": {
       "children": [
        "IPY_MODEL_6631fb9266a148d0a2a02380b6af77e5"
       ],
       "layout": "IPY_MODEL_dfa183b89a584ee695120e73a877d536"
      }
     },
     "285c42539a1c41a4b65276dfacc19423": {
      "model_module": "@jupyter-widgets/base",
      "model_module_version": "1.1.0",
      "model_name": "LayoutModel",
      "state": {}
     },
     "28a0c0ac6e34496f984486ec07208980": {
      "model_module": "@jupyter-widgets/controls",
      "model_module_version": "1.4.0",
      "model_name": "ButtonStyleModel",
      "state": {}
     },
     "2934bb7c8740405d8e2fd82f0c1e1a4e": {
      "model_module": "@jupyter-widgets/base",
      "model_module_version": "1.1.0",
      "model_name": "LayoutModel",
      "state": {
       "height": "40px",
       "width": "40px"
      }
     },
     "296fde0bab2942208a084d96752b797e": {
      "model_module": "@jupyter-widgets/base",
      "model_module_version": "1.1.0",
      "model_name": "LayoutModel",
      "state": {}
     },
     "29766fb20d92455284d3d7d2305de73b": {
      "model_module": "@jupyter-widgets/base",
      "model_module_version": "1.1.0",
      "model_name": "LayoutModel",
      "state": {
       "width": "300px"
      }
     },
     "298f387d13d34102a297a89a92ff7a88": {
      "model_module": "@jupyter-widgets/output",
      "model_module_version": "1.0.0",
      "model_name": "OutputModel",
      "state": {
       "layout": "IPY_MODEL_23f6e0739fe346ac97edeb033b199d39"
      }
     },
     "29c4d2659c82421f8ed9a229b7690dfa": {
      "model_module": "@jupyter-widgets/controls",
      "model_module_version": "1.4.0",
      "model_name": "HBoxModel",
      "state": {
       "children": [
        "IPY_MODEL_16f90b0b40044abfbd762b22e4439ab0",
        "IPY_MODEL_3155542970ef43bab27469eead315d8f"
       ],
       "layout": "IPY_MODEL_d8c2dbe16a774aa1b36b0f52f595c972"
      }
     },
     "29d413d9082f425c9a18e29e1bd19153": {
      "model_module": "@jupyter-widgets/base",
      "model_module_version": "1.1.0",
      "model_name": "LayoutModel",
      "state": {}
     },
     "29de511b44604566a16ac449de0e4aaf": {
      "model_module": "@jupyter-widgets/controls",
      "model_module_version": "1.4.0",
      "model_name": "VBoxModel",
      "state": {
       "children": [
        "IPY_MODEL_8a4722cff2b441c8ad87c3bef65401bd"
       ],
       "layout": "IPY_MODEL_a3459cc5cca34164b4ed14ee2d86bb7d"
      }
     },
     "2a1db995281547e9b46ca82839c292d9": {
      "model_module": "@jupyter-widgets/base",
      "model_module_version": "1.1.0",
      "model_name": "LayoutModel",
      "state": {}
     },
     "2a236dc4029142f6823c55fecf2a5695": {
      "model_module": "@jupyter-widgets/base",
      "model_module_version": "1.1.0",
      "model_name": "LayoutModel",
      "state": {}
     },
     "2a8773319ee84719855d764f5a8ede6d": {
      "model_module": "@jupyter-widgets/controls",
      "model_module_version": "1.4.0",
      "model_name": "DescriptionStyleModel",
      "state": {
       "description_width": ""
      }
     },
     "2aee8571b09d45009d8401a8b917e0d3": {
      "model_module": "@jupyter-widgets/base",
      "model_module_version": "1.1.0",
      "model_name": "LayoutModel",
      "state": {}
     },
     "2b0c23b49db64aaaaa787cdec0818ce0": {
      "model_module": "@jupyter-widgets/output",
      "model_module_version": "1.0.0",
      "model_name": "OutputModel",
      "state": {
       "layout": "IPY_MODEL_fd20dce6bf434e9cbb7a4c6c8c303bcb"
      }
     },
     "2b0eeb41f3aa40b08feecbb4ed3510cb": {
      "model_module": "@jupyter-widgets/base",
      "model_module_version": "1.1.0",
      "model_name": "LayoutModel",
      "state": {}
     },
     "2b22dc5a0bc94218a30e13da1fb76df4": {
      "model_module": "@jupyter-widgets/base",
      "model_module_version": "1.1.0",
      "model_name": "LayoutModel",
      "state": {}
     },
     "2b2857bdebf143cc9a5c31d5f346f958": {
      "model_module": "@jupyter-widgets/base",
      "model_module_version": "1.1.0",
      "model_name": "LayoutModel",
      "state": {}
     },
     "2b608d2f17de4dc8b9d138210d368c9c": {
      "model_module": "@jupyter-widgets/controls",
      "model_module_version": "1.4.0",
      "model_name": "DescriptionStyleModel",
      "state": {
       "description_width": ""
      }
     },
     "2b63cca8c4c341468e2756535cbcaf84": {
      "model_module": "@jupyter-widgets/controls",
      "model_module_version": "1.4.0",
      "model_name": "VBoxModel",
      "state": {
       "children": [
        "IPY_MODEL_b5aa473615d04ce8b158105130f43e88"
       ],
       "layout": "IPY_MODEL_d3c4b1b16c634ee2becd0632b0bad91b"
      }
     },
     "2b7b87cde73141a5a1f5ad5a73a3d504": {
      "model_module": "@jupyter-widgets/controls",
      "model_module_version": "1.4.0",
      "model_name": "CheckboxModel",
      "state": {
       "description": "Live plot in Jupyter: ",
       "disabled": false,
       "layout": "IPY_MODEL_173680754f974c95832929a9ae376c12",
       "style": "IPY_MODEL_e4b8079629544c25abf9f051d7dbe266",
       "value": false
      }
     },
     "2c33929dcf144355a225369329fd2614": {
      "model_module": "@jupyter-widgets/base",
      "model_module_version": "1.1.0",
      "model_name": "LayoutModel",
      "state": {
       "height": "40px",
       "width": "40px"
      }
     },
     "2c3a07408851481cbf1478299b0153b0": {
      "model_module": "@jupyter-widgets/output",
      "model_module_version": "1.0.0",
      "model_name": "OutputModel",
      "state": {
       "layout": "IPY_MODEL_d70ad04a039547748248003576162bb3"
      }
     },
     "2c44c016d52946d0b8aa83931f8b6020": {
      "model_module": "@jupyter-widgets/output",
      "model_module_version": "1.0.0",
      "model_name": "OutputModel",
      "state": {
       "layout": "IPY_MODEL_90c1bf10fe1e42508dbf29817d73d0f3"
      }
     },
     "2c6547c9cdd04868ab4d5ccd29f767a1": {
      "model_module": "@jupyter-widgets/controls",
      "model_module_version": "1.4.0",
      "model_name": "CheckboxModel",
      "state": {
       "description": "Live plot in Jupyter: ",
       "disabled": false,
       "layout": "IPY_MODEL_206696b01383451aad92c71dcf2b6662",
       "style": "IPY_MODEL_664f084a0510494e964f2105a870fac7",
       "value": false
      }
     },
     "2cd7cce5c97b4d818018b33e923effd8": {
      "model_module": "@jupyter-widgets/base",
      "model_module_version": "1.1.0",
      "model_name": "LayoutModel",
      "state": {}
     },
     "2cdb001b953f421b92725dacdc0908b9": {
      "model_module": "@jupyter-widgets/output",
      "model_module_version": "1.0.0",
      "model_name": "OutputModel",
      "state": {
       "layout": "IPY_MODEL_54e671dd70ae4732970cb9d452447cc5"
      }
     },
     "2cf087dc8559418abfc4278ac07955b3": {
      "model_module": "@jupyter-widgets/controls",
      "model_module_version": "1.4.0",
      "model_name": "VBoxModel",
      "state": {
       "children": [
        "IPY_MODEL_0c6b8adca1c54394b73ba114492e91db"
       ],
       "layout": "IPY_MODEL_296fde0bab2942208a084d96752b797e"
      }
     },
     "2d1743fea061496daa089786cda7fa7b": {
      "model_module": "@jupyter-widgets/controls",
      "model_module_version": "1.4.0",
      "model_name": "ButtonStyleModel",
      "state": {}
     },
     "2d5d91fa4a5a46c083e4db3b73819cb0": {
      "model_module": "@jupyter-widgets/output",
      "model_module_version": "1.0.0",
      "model_name": "OutputModel",
      "state": {
       "layout": "IPY_MODEL_b3c940604c4245578d81e9efca249f26"
      }
     },
     "2e04e7106abe41008d177c6617b36189": {
      "model_module": "@jupyter-widgets/base",
      "model_module_version": "1.1.0",
      "model_name": "LayoutModel",
      "state": {}
     },
     "2e47735bbe9742d28431642c0246910a": {
      "model_module": "@jupyter-widgets/base",
      "model_module_version": "1.1.0",
      "model_name": "LayoutModel",
      "state": {}
     },
     "2e5a3003b92a47659ca8134d6e8cb02a": {
      "model_module": "@jupyter-widgets/controls",
      "model_module_version": "1.4.0",
      "model_name": "ButtonStyleModel",
      "state": {}
     },
     "2e620e9a195b4b1e8e3c93efe70246b1": {
      "model_module": "@jupyter-widgets/controls",
      "model_module_version": "1.4.0",
      "model_name": "VBoxModel",
      "state": {
       "children": [
        "IPY_MODEL_23d3aa06d18d4fbea52c9d88813fb343",
        "IPY_MODEL_0156fcee6b5649cb81333a03174e0e27"
       ],
       "layout": "IPY_MODEL_05d4e917e5e748e8a92945e31d4affbd"
      }
     },
     "2e6c90311e2f4762a28ac5aeb2173277": {
      "model_module": "@jupyter-widgets/base",
      "model_module_version": "1.1.0",
      "model_name": "LayoutModel",
      "state": {}
     },
     "2ec727dbc87347f8ae37f2d3fa843755": {
      "model_module": "@jupyter-widgets/output",
      "model_module_version": "1.0.0",
      "model_name": "OutputModel",
      "state": {
       "layout": "IPY_MODEL_2f349347fead45359b610c9ffe37eff1",
       "outputs": [
        {
         "name": "stdout",
         "output_type": "stream",
         "text": "2019-05-13 15:32:30 Starting motors IOC:m1 initialization\n2019-05-13 15:32:30 Motor: 'IOC:m1' succesfully created as 'IOC m1'\n2019-05-13 15:32:30 Error in initialziation of motors IOC:m1\n2019-05-13 15:32:30 name 'py4syn' is not defined\n"
        }
       ]
      }
     },
     "2f07d76a21b5489fba5244afee1da3f3": {
      "model_module": "@jupyter-widgets/base",
      "model_module_version": "1.1.0",
      "model_name": "LayoutModel",
      "state": {}
     },
     "2f349347fead45359b610c9ffe37eff1": {
      "model_module": "@jupyter-widgets/base",
      "model_module_version": "1.1.0",
      "model_name": "LayoutModel",
      "state": {}
     },
     "2f3ebf600d214749a06dd0bd3cf719bf": {
      "model_module": "@jupyter-widgets/base",
      "model_module_version": "1.1.0",
      "model_name": "LayoutModel",
      "state": {}
     },
     "2f56b4a75f8343c89aecc3ffff7bc157": {
      "model_module": "@jupyter-widgets/output",
      "model_module_version": "1.0.0",
      "model_name": "OutputModel",
      "state": {
       "layout": "IPY_MODEL_e2140f858858435ba9e390f48962949b"
      }
     },
     "2f62c807a6024213893c486af2341321": {
      "model_module": "@jupyter-widgets/base",
      "model_module_version": "1.1.0",
      "model_name": "LayoutModel",
      "state": {
       "width": "300px"
      }
     },
     "2f896ba550ea486389d70526bbf3e2c6": {
      "model_module": "@jupyter-widgets/controls",
      "model_module_version": "1.4.0",
      "model_name": "ButtonStyleModel",
      "state": {}
     },
     "2f948098732b4050bd5c72fefd3ab5f5": {
      "model_module": "@jupyter-widgets/controls",
      "model_module_version": "1.4.0",
      "model_name": "CheckboxModel",
      "state": {
       "description": "Plot scan-gui graph instead of Jupyter's: ",
       "disabled": false,
       "layout": "IPY_MODEL_8a623bb0b6914cb7a7a5f3b3aab91493",
       "style": "IPY_MODEL_98dd1f9283654407b4e2bf53fa292515",
       "value": false
      }
     },
     "2f94ca34251a44af80a91092062468fb": {
      "model_module": "@jupyter-widgets/base",
      "model_module_version": "1.1.0",
      "model_name": "LayoutModel",
      "state": {}
     },
     "2fb7e64baf1d4a5e963dcce9469e4bad": {
      "model_module": "@jupyter-widgets/base",
      "model_module_version": "1.1.0",
      "model_name": "LayoutModel",
      "state": {}
     },
     "2fdca1bf411f49a4923172758647e156": {
      "model_module": "@jupyter-widgets/base",
      "model_module_version": "1.1.0",
      "model_name": "LayoutModel",
      "state": {}
     },
     "301fbbd671694e4e88799fea4a82b593": {
      "model_module": "@jupyter-widgets/base",
      "model_module_version": "1.1.0",
      "model_name": "LayoutModel",
      "state": {}
     },
     "3030a036bc1243ab8b3c7d2b4f648101": {
      "model_module": "@jupyter-widgets/output",
      "model_module_version": "1.0.0",
      "model_name": "OutputModel",
      "state": {
       "layout": "IPY_MODEL_2b22dc5a0bc94218a30e13da1fb76df4"
      }
     },
     "306683ceff954b898f307301349243cf": {
      "model_module": "@jupyter-widgets/base",
      "model_module_version": "1.1.0",
      "model_name": "LayoutModel",
      "state": {}
     },
     "306e435543c1485b82c4aa293aca1cd7": {
      "model_module": "@jupyter-widgets/controls",
      "model_module_version": "1.4.0",
      "model_name": "DescriptionStyleModel",
      "state": {
       "description_width": "initial"
      }
     },
     "3080988d85744a1ca489ae6a6aa3e3dd": {
      "model_module": "@jupyter-widgets/controls",
      "model_module_version": "1.4.0",
      "model_name": "ButtonStyleModel",
      "state": {}
     },
     "30b527a5db8747589b9285474a64514e": {
      "model_module": "@jupyter-widgets/controls",
      "model_module_version": "1.4.0",
      "model_name": "DescriptionStyleModel",
      "state": {
       "description_width": ""
      }
     },
     "30ce3a9fa20042e49fa91c0808cd7240": {
      "model_module": "@jupyter-widgets/controls",
      "model_module_version": "1.4.0",
      "model_name": "ButtonStyleModel",
      "state": {}
     },
     "30fd1fd5945b48c6adcf93081e1a08f3": {
      "model_module": "@jupyter-widgets/controls",
      "model_module_version": "1.4.0",
      "model_name": "ButtonStyleModel",
      "state": {}
     },
     "313963e1177542b081a132a3ab2931ce": {
      "model_module": "@jupyter-widgets/controls",
      "model_module_version": "1.4.0",
      "model_name": "ButtonStyleModel",
      "state": {}
     },
     "3155542970ef43bab27469eead315d8f": {
      "model_module": "@jupyter-widgets/controls",
      "model_module_version": "1.4.0",
      "model_name": "ButtonModel",
      "state": {
       "button_style": "success",
       "description": "Set Target VAL",
       "layout": "IPY_MODEL_9d4fca172fea4928929ee11313769397",
       "style": "IPY_MODEL_2d1743fea061496daa089786cda7fa7b",
       "tooltip": "Click me"
      }
     },
     "315cb9d93cdb46e488c4baf446f1e9df": {
      "model_module": "@jupyter-widgets/base",
      "model_module_version": "1.1.0",
      "model_name": "LayoutModel",
      "state": {}
     },
     "3171ba52b58449c9bd23a9f1a0b2e525": {
      "model_module": "@jupyter-widgets/base",
      "model_module_version": "1.1.0",
      "model_name": "LayoutModel",
      "state": {}
     },
     "31a4c123ce7d45a6b709320535b0c629": {
      "model_module": "@jupyter-widgets/base",
      "model_module_version": "1.1.0",
      "model_name": "LayoutModel",
      "state": {}
     },
     "31e8f8c3602247b494d34652276d91a2": {
      "model_module": "@jupyter-widgets/base",
      "model_module_version": "1.1.0",
      "model_name": "LayoutModel",
      "state": {}
     },
     "3235a7bd4d7b4fd8b0c3a9c830d6bbb7": {
      "model_module": "@jupyter-widgets/controls",
      "model_module_version": "1.4.0",
      "model_name": "LabelModel",
      "state": {
       "layout": "IPY_MODEL_70c92a10967f4996974b8d5bf716b084",
       "style": "IPY_MODEL_2a8773319ee84719855d764f5a8ede6d",
       "value": "No motors initilized to be showed."
      }
     },
     "323a8b1b7c54431e8cfcdcf404972a11": {
      "model_module": "@jupyter-widgets/controls",
      "model_module_version": "1.4.0",
      "model_name": "ButtonModel",
      "state": {
       "button_style": "success",
       "description": "Set Target VAL",
       "layout": "IPY_MODEL_c0549f76b45f4ed09bd2ad614f978fdb",
       "style": "IPY_MODEL_b194e72cb6e8455e8fd23952bbbe3d91",
       "tooltip": "Click me"
      }
     },
     "325a8266390d44c3bec02c4f84e8869e": {
      "model_module": "@jupyter-widgets/controls",
      "model_module_version": "1.4.0",
      "model_name": "VBoxModel",
      "state": {
       "children": [
        "IPY_MODEL_7c6bef48430a4ca4b54612ab32b87597"
       ],
       "layout": "IPY_MODEL_919d3389bce146f8a2f630e4128559b3"
      }
     },
     "328116746a154232a80d7c854cbcfe23": {
      "model_module": "@jupyter-widgets/controls",
      "model_module_version": "1.4.0",
      "model_name": "ButtonModel",
      "state": {
       "button_style": "success",
       "description": "Start Motor Initializaton",
       "layout": "IPY_MODEL_c88e4e07f3164b909a848043afcda0e5",
       "style": "IPY_MODEL_afdcec4dad5a42d6a43fb23e8e9febe4",
       "tooltip": "Click me"
      }
     },
     "328b95c957d447e486e00ab069f7f0f9": {
      "model_module": "@jupyter-widgets/base",
      "model_module_version": "1.1.0",
      "model_name": "LayoutModel",
      "state": {}
     },
     "32c8a4b22d744e9aa56456a82d6d0cc6": {
      "model_module": "@jupyter-widgets/controls",
      "model_module_version": "1.4.0",
      "model_name": "LabelModel",
      "state": {
       "layout": "IPY_MODEL_82e3025f305040dfb62a6d59a658f8f4",
       "style": "IPY_MODEL_f4408163f05d41329d26cd6d874b5d75",
       "value": "1.000"
      }
     },
     "3307e84378c441cea5e8355e68357257": {
      "model_module": "@jupyter-widgets/controls",
      "model_module_version": "1.4.0",
      "model_name": "DescriptionStyleModel",
      "state": {
       "description_width": "initial"
      }
     },
     "33165d5e7e484388b9204b20690a6cd9": {
      "model_module": "@jupyter-widgets/output",
      "model_module_version": "1.0.0",
      "model_name": "OutputModel",
      "state": {
       "layout": "IPY_MODEL_4a0a732a209f4057acc5321b865f3925"
      }
     },
     "339ee207f41c48878643bf626673fdd8": {
      "model_module": "@jupyter-widgets/controls",
      "model_module_version": "1.4.0",
      "model_name": "ButtonModel",
      "state": {
       "button_style": "success",
       "description": "Start Scanning Plot",
       "layout": "IPY_MODEL_378c0d69d62a4a018a5b4689463c77da",
       "style": "IPY_MODEL_56271edada1a4f15afd8e746f68f8290",
       "tooltip": "Click me"
      }
     },
     "33abbc59f1064a76b526280a687522e3": {
      "model_module": "@jupyter-widgets/controls",
      "model_module_version": "1.4.0",
      "model_name": "VBoxModel",
      "state": {
       "children": [
        "IPY_MODEL_566ef0603c004fd3a5674b12feeaf6ed"
       ],
       "layout": "IPY_MODEL_eb15be58531844d1a38afbaa193367de"
      }
     },
     "33bd559fab15483387e6a840a8818c46": {
      "model_module": "@jupyter-widgets/base",
      "model_module_version": "1.1.0",
      "model_name": "LayoutModel",
      "state": {}
     },
     "33e304ffd4164550b1cd7c361064ce3c": {
      "model_module": "@jupyter-widgets/base",
      "model_module_version": "1.1.0",
      "model_name": "LayoutModel",
      "state": {}
     },
     "33eacbda7a3e489b8cfad82c46e0a5fd": {
      "model_module": "@jupyter-widgets/base",
      "model_module_version": "1.1.0",
      "model_name": "LayoutModel",
      "state": {}
     },
     "33fdb819ec4e44c5ae87b68f2707da5d": {
      "model_module": "@jupyter-widgets/controls",
      "model_module_version": "1.4.0",
      "model_name": "CheckboxModel",
      "state": {
       "description": "Live plot in Jupyter: ",
       "disabled": true,
       "layout": "IPY_MODEL_b1bc09b69d2b444eafa16d3c43d6a0ff",
       "style": "IPY_MODEL_f087be5c4c3d47ed8621894d303ae000",
       "value": true
      }
     },
     "348568ea27ba4de5a40d706b1c97e3a5": {
      "model_module": "@jupyter-widgets/base",
      "model_module_version": "1.1.0",
      "model_name": "LayoutModel",
      "state": {}
     },
     "349231830c3d452893940ea5c2048d09": {
      "model_module": "plotlywidget",
      "model_module_version": "0.8.0",
      "model_name": "FigureModel",
      "state": {
       "_config": {
        "plotlyServerURL": "https://plot.ly"
       },
       "_js2py_layoutDelta": {},
       "_js2py_pointsCallback": {},
       "_js2py_relayout": {},
       "_js2py_restyle": {},
       "_js2py_traceDeltas": {},
       "_js2py_update": {},
       "_layout": {
        "template": {}
       },
       "_model_module_version": "0.8.0",
       "_py2js_addTraces": {},
       "_py2js_animate": {},
       "_py2js_deleteTraces": {},
       "_py2js_moveTraces": {},
       "_py2js_removeLayoutProps": {},
       "_py2js_removeTraceProps": {},
       "_py2js_restyle": {},
       "_py2js_update": {},
       "_view_count": 0,
       "_view_module_version": "0.8.0"
      }
     },
     "34a45530ce8347eb864b28a2f4724617": {
      "model_module": "@jupyter-widgets/controls",
      "model_module_version": "1.4.0",
      "model_name": "VBoxModel",
      "state": {
       "children": [
        "IPY_MODEL_053f0f3ee5154d049136f96eb957585e"
       ],
       "layout": "IPY_MODEL_261326af97b34a02bcf23d65faab484b"
      }
     },
     "34caf2f226ce40c28df5f3adae5bae1d": {
      "model_module": "@jupyter-widgets/controls",
      "model_module_version": "1.4.0",
      "model_name": "CheckboxModel",
      "state": {
       "description": "Plot scan-gui graph instead of Jupyter's: ",
       "disabled": true,
       "layout": "IPY_MODEL_1eb1cc3abbe24286af6431dac3369b86",
       "style": "IPY_MODEL_3e7d6d75b082475fae42ebe6fe31c415",
       "value": false
      }
     },
     "3530b373729549d787c541f0e5928e86": {
      "model_module": "@jupyter-widgets/base",
      "model_module_version": "1.1.0",
      "model_name": "LayoutModel",
      "state": {
       "width": "300px"
      }
     },
     "353c53f3a6584d54bfd4cf56f1bec307": {
      "model_module": "@jupyter-widgets/base",
      "model_module_version": "1.1.0",
      "model_name": "LayoutModel",
      "state": {
       "height": "40px",
       "width": "40px"
      }
     },
     "3572673698474c03b85967179a90f362": {
      "model_module": "@jupyter-widgets/output",
      "model_module_version": "1.0.0",
      "model_name": "OutputModel",
      "state": {
       "layout": "IPY_MODEL_f55340f62d2646b79b49e1bbb0eeba7f"
      }
     },
     "35767e532ae149b788358840248313a1": {
      "model_module": "@jupyter-widgets/base",
      "model_module_version": "1.1.0",
      "model_name": "LayoutModel",
      "state": {
       "height": "40px",
       "width": "40px"
      }
     },
     "358efd1e46ee48a99c1c4b497f98dca2": {
      "model_module": "@jupyter-widgets/controls",
      "model_module_version": "1.4.0",
      "model_name": "ButtonStyleModel",
      "state": {}
     },
     "35d3ac4f765041f69ee4577d4412bcee": {
      "model_module": "@jupyter-widgets/controls",
      "model_module_version": "1.4.0",
      "model_name": "ButtonStyleModel",
      "state": {}
     },
     "35f0ca1b006b424ea22551c9785798ae": {
      "model_module": "@jupyter-widgets/controls",
      "model_module_version": "1.4.0",
      "model_name": "ButtonStyleModel",
      "state": {}
     },
     "365856482656448ba3fb738246b002d7": {
      "model_module": "@jupyter-widgets/base",
      "model_module_version": "1.1.0",
      "model_name": "LayoutModel",
      "state": {}
     },
     "36949d03b46a44b0afc3c73ab6ea23df": {
      "model_module": "@jupyter-widgets/controls",
      "model_module_version": "1.4.0",
      "model_name": "VBoxModel",
      "state": {
       "children": [
        "IPY_MODEL_fb9bc2e332ff40609f110097acbae2f9",
        "IPY_MODEL_bfb0ce15d46244b4a7fa15f91b40806c"
       ],
       "layout": "IPY_MODEL_f0fcf68d1f6f42d8bc73b85221e33e07"
      }
     },
     "3699415074874c958cf7b3aa5691e2c5": {
      "model_module": "@jupyter-widgets/controls",
      "model_module_version": "1.4.0",
      "model_name": "ButtonModel",
      "state": {
       "button_style": "success",
       "description": "Start Scanning Plot",
       "layout": "IPY_MODEL_abdb10346cad4e74a22d85f12bb2029c",
       "style": "IPY_MODEL_76173ad11a9844f79bfb4ee8796dfdce",
       "tooltip": "Click me"
      }
     },
     "3699c41f5b804b95b5d8db73b13a50bb": {
      "model_module": "@jupyter-widgets/controls",
      "model_module_version": "1.4.0",
      "model_name": "ButtonModel",
      "state": {
       "button_style": "success",
       "description": "Start Scanning Plot",
       "layout": "IPY_MODEL_5175d370fa184a0597ca5ba810a6ec78",
       "style": "IPY_MODEL_3fcde19754504866be54a17a1e8b865f",
       "tooltip": "Click me"
      }
     },
     "36bd0a6fd9d1432c99fbd2e54638a012": {
      "model_module": "@jupyter-widgets/controls",
      "model_module_version": "1.4.0",
      "model_name": "TextareaModel",
      "state": {
       "layout": "IPY_MODEL_77b50a2806134d3b997c4efbf50790cd",
       "placeholder": "Example: IOC:m1 IOC:m3 LNLS:TEST:motor_g3",
       "style": "IPY_MODEL_745f5d0921694fabb24c5aa32ed7b2e4",
       "value": "IOC:m1 IOC:m3"
      }
     },
     "36f93d29bb7445dd91b746c3be0fa9d1": {
      "model_module": "@jupyter-widgets/controls",
      "model_module_version": "1.4.0",
      "model_name": "DescriptionStyleModel",
      "state": {
       "description_width": "initial"
      }
     },
     "3735b6582f77473295f7917c976b07da": {
      "model_module": "@jupyter-widgets/base",
      "model_module_version": "1.1.0",
      "model_name": "LayoutModel",
      "state": {}
     },
     "373b0900b8e3493483961aaa5759e925": {
      "model_module": "@jupyter-widgets/base",
      "model_module_version": "1.1.0",
      "model_name": "LayoutModel",
      "state": {
       "width": "300px"
      }
     },
     "37666f473cf24f75a2d7e3198eaccb12": {
      "model_module": "@jupyter-widgets/controls",
      "model_module_version": "1.4.0",
      "model_name": "ButtonModel",
      "state": {
       "button_style": "warning",
       "description": "Export Notebook to HTML",
       "layout": "IPY_MODEL_b0d8566615eb4a688de62aede03a8753",
       "style": "IPY_MODEL_8fb14e3e58eb476e8dd416a22322fa5c",
       "tooltip": "Click me"
      }
     },
     "378c0d69d62a4a018a5b4689463c77da": {
      "model_module": "@jupyter-widgets/base",
      "model_module_version": "1.1.0",
      "model_name": "LayoutModel",
      "state": {
       "width": "300px"
      }
     },
     "380b3fc0209045e1984da684190af972": {
      "model_module": "@jupyter-widgets/base",
      "model_module_version": "1.1.0",
      "model_name": "LayoutModel",
      "state": {}
     },
     "3883a050cd084ec0adf98b31eb0dc806": {
      "model_module": "@jupyter-widgets/base",
      "model_module_version": "1.1.0",
      "model_name": "LayoutModel",
      "state": {
       "width": "300px"
      }
     },
     "38882f189bd543bf9561c13657dde693": {
      "model_module": "plotlywidget",
      "model_module_version": "0.8.0",
      "model_name": "FigureModel",
      "state": {
       "_config": {
        "plotlyServerURL": "https://plot.ly"
       },
       "_js2py_layoutDelta": {},
       "_js2py_pointsCallback": {},
       "_js2py_relayout": {},
       "_js2py_restyle": {},
       "_js2py_traceDeltas": {},
       "_js2py_update": {},
       "_layout": {
        "template": {}
       },
       "_model_module_version": "0.8.0",
       "_py2js_addTraces": {},
       "_py2js_animate": {},
       "_py2js_deleteTraces": {},
       "_py2js_moveTraces": {},
       "_py2js_removeLayoutProps": {},
       "_py2js_removeTraceProps": {},
       "_py2js_restyle": {},
       "_py2js_update": {},
       "_view_count": 0,
       "_view_module_version": "0.8.0"
      }
     },
     "38894798bffc4f6a8409cc90835cc610": {
      "model_module": "@jupyter-widgets/base",
      "model_module_version": "1.1.0",
      "model_name": "LayoutModel",
      "state": {}
     },
     "389dd7cce59c4443ae4c0631791661d8": {
      "model_module": "@jupyter-widgets/base",
      "model_module_version": "1.1.0",
      "model_name": "LayoutModel",
      "state": {}
     },
     "392d39ad39dd46d2a979e015dd0acb93": {
      "model_module": "@jupyter-widgets/output",
      "model_module_version": "1.0.0",
      "model_name": "OutputModel",
      "state": {
       "layout": "IPY_MODEL_105f45226d0d44f4845ea533ca0fd0e8"
      }
     },
     "3957b2a0516a4f42994921c74da27a0a": {
      "model_module": "@jupyter-widgets/base",
      "model_module_version": "1.1.0",
      "model_name": "LayoutModel",
      "state": {
       "height": "40px",
       "width": "40px"
      }
     },
     "395b8b2a244e4e6f970ffa8792c26f1d": {
      "model_module": "@jupyter-widgets/base",
      "model_module_version": "1.1.0",
      "model_name": "LayoutModel",
      "state": {}
     },
     "397305fa97b746f1919d871e8dbaeee9": {
      "model_module": "@jupyter-widgets/base",
      "model_module_version": "1.1.0",
      "model_name": "LayoutModel",
      "state": {
       "width": "300px"
      }
     },
     "398b13bbf1d64565b93fa8d4e8a5bd94": {
      "model_module": "@jupyter-widgets/base",
      "model_module_version": "1.1.0",
      "model_name": "LayoutModel",
      "state": {}
     },
     "39af2a5a6e2f45898cc8b3ff421365f6": {
      "model_module": "@jupyter-widgets/controls",
      "model_module_version": "1.4.0",
      "model_name": "ButtonModel",
      "state": {
       "button_style": "warning",
       "description": "Export Notebook to HTML",
       "layout": "IPY_MODEL_46ac79161b3445678200c57207f8c836",
       "style": "IPY_MODEL_1f7c60fd35ad4fdebe065dd672529ac0",
       "tooltip": "Click me"
      }
     },
     "39de70788bc04445aaea7163e0c8debb": {
      "model_module": "@jupyter-widgets/controls",
      "model_module_version": "1.4.0",
      "model_name": "VBoxModel",
      "state": {
       "children": [
        "IPY_MODEL_83f732d4938a445f8af04b341d5477cf"
       ],
       "layout": "IPY_MODEL_ecf78ef5d06f4870913826b7bcf6fff5"
      }
     },
     "3a8a7b4225824158a14d2054edaf4e82": {
      "model_module": "@jupyter-widgets/controls",
      "model_module_version": "1.4.0",
      "model_name": "CheckboxModel",
      "state": {
       "description": "Plot scan-gui graph instead of Jupyter's: ",
       "disabled": false,
       "layout": "IPY_MODEL_4eb93cd8e73b4381ab1628a1a7f868fd",
       "style": "IPY_MODEL_f79f2e30a5ac43d6bc8511cc92b2782c",
       "value": true
      }
     },
     "3a9c312a032c48bcb5c831822ec4b307": {
      "model_module": "@jupyter-widgets/controls",
      "model_module_version": "1.4.0",
      "model_name": "CheckboxModel",
      "state": {
       "disabled": false,
       "layout": "IPY_MODEL_d43e2a18e6894589927af062e0bf8a3a",
       "style": "IPY_MODEL_92af7395fdc2425ab87c28fe57579342",
       "value": false
      }
     },
     "3aca925b6b77400c88e64c703f4ce73a": {
      "model_module": "plotlywidget",
      "model_module_version": "0.8.0",
      "model_name": "FigureModel",
      "state": {
       "_config": {
        "plotlyServerURL": "https://plot.ly"
       },
       "_js2py_layoutDelta": {},
       "_js2py_pointsCallback": {},
       "_js2py_relayout": {},
       "_js2py_restyle": {},
       "_js2py_traceDeltas": {},
       "_js2py_update": {},
       "_layout": {
        "template": {}
       },
       "_model_module_version": "0.8.0",
       "_py2js_addTraces": {},
       "_py2js_animate": {},
       "_py2js_deleteTraces": {},
       "_py2js_moveTraces": {},
       "_py2js_removeLayoutProps": {},
       "_py2js_removeTraceProps": {},
       "_py2js_restyle": {},
       "_py2js_update": {},
       "_view_count": 0,
       "_view_module_version": "0.8.0"
      }
     },
     "3af87dbd945b45948596c92615dc5037": {
      "model_module": "@jupyter-widgets/base",
      "model_module_version": "1.1.0",
      "model_name": "LayoutModel",
      "state": {}
     },
     "3afbf75ca4ad43048ef7185eef137d68": {
      "model_module": "@jupyter-widgets/controls",
      "model_module_version": "1.4.0",
      "model_name": "VBoxModel",
      "state": {
       "children": [
        "IPY_MODEL_a61324025c0e4befa8996ea031e37a35"
       ],
       "layout": "IPY_MODEL_d69462176e42441ba0f62bc91481f7a6"
      }
     },
     "3b1db02b3c96460088d61f8ef55a0080": {
      "model_module": "@jupyter-widgets/base",
      "model_module_version": "1.1.0",
      "model_name": "LayoutModel",
      "state": {
       "width": "300px"
      }
     },
     "3b24a38f64e24845a3172be6a35b535c": {
      "model_module": "@jupyter-widgets/base",
      "model_module_version": "1.1.0",
      "model_name": "LayoutModel",
      "state": {}
     },
     "3b8ae2ca58aa4aaebe1e498bce73038c": {
      "model_module": "@jupyter-widgets/output",
      "model_module_version": "1.0.0",
      "model_name": "OutputModel",
      "state": {
       "layout": "IPY_MODEL_27a434883c6b4a1e8231c8300efc425f",
       "outputs": [
        {
         "name": "stdout",
         "output_type": "stream",
         "text": "2019-05-13 16:07:03 Starting motors IOC:m1 initialization\n2019-05-13 16:07:03 Motor: 'IOC:m1' succesfully created as 'IOC m1'\n2019-05-13 16:07:03 Error in initialziation of motors IOC:m1\n2019-05-13 16:07:03 name 'py4syn' is not defined\n"
        }
       ]
      }
     },
     "3bb1794be4f74a409516d7cfb64f0d77": {
      "model_module": "@jupyter-widgets/controls",
      "model_module_version": "1.4.0",
      "model_name": "VBoxModel",
      "state": {
       "children": [
        "IPY_MODEL_59d015f1996b4023922895e8218d27e4",
        "IPY_MODEL_881383f887ed4889a008228535d0ed78"
       ],
       "layout": "IPY_MODEL_8ff790e83cb8449791263adfd36c43dd"
      }
     },
     "3bedfef6ec10499183668e7ab72fba58": {
      "model_module": "@jupyter-widgets/controls",
      "model_module_version": "1.4.0",
      "model_name": "DescriptionStyleModel",
      "state": {
       "description_width": "initial"
      }
     },
     "3c244f726021464ebf15e10fa176f6b2": {
      "model_module": "@jupyter-widgets/controls",
      "model_module_version": "1.4.0",
      "model_name": "ButtonStyleModel",
      "state": {}
     },
     "3c38131d36444e14b35bb3dbd2862b87": {
      "model_module": "@jupyter-widgets/base",
      "model_module_version": "1.1.0",
      "model_name": "LayoutModel",
      "state": {}
     },
     "3c56384f84d8408aa8d722fb4fc6f3ca": {
      "model_module": "@jupyter-widgets/controls",
      "model_module_version": "1.4.0",
      "model_name": "DescriptionStyleModel",
      "state": {
       "description_width": "initial"
      }
     },
     "3c579a75190445edb74d1c13444e5b0f": {
      "model_module": "@jupyter-widgets/base",
      "model_module_version": "1.1.0",
      "model_name": "LayoutModel",
      "state": {
       "width": "300px"
      }
     },
     "3c66b461fe194b708afc6963f4c1adde": {
      "model_module": "@jupyter-widgets/controls",
      "model_module_version": "1.4.0",
      "model_name": "CheckboxModel",
      "state": {
       "description": "Plot scan-gui graph instead of Jupyter's: ",
       "disabled": false,
       "layout": "IPY_MODEL_8268b41745af4a258f3c4f289deca8a3",
       "style": "IPY_MODEL_4e031fa3fd954d89ab4f217f1150f7e5",
       "value": false
      }
     },
     "3c8bd25a4cdb401f92b695e1c675ed7a": {
      "model_module": "@jupyter-widgets/base",
      "model_module_version": "1.1.0",
      "model_name": "LayoutModel",
      "state": {}
     },
     "3cd0e440e5b8441cb20c10c9c11bb7ae": {
      "model_module": "@jupyter-widgets/output",
      "model_module_version": "1.0.0",
      "model_name": "OutputModel",
      "state": {
       "layout": "IPY_MODEL_5340ee4fea8349e3be07f29e2204f8c2"
      }
     },
     "3d37178edd6f4c59b7d9e17dcd24ac1d": {
      "model_module": "@jupyter-widgets/output",
      "model_module_version": "1.0.0",
      "model_name": "OutputModel",
      "state": {
       "layout": "IPY_MODEL_8da16be842eb4c25a3d18e0ff2c97c32",
       "outputs": [
        {
         "data": {
          "application/javascript": "IPython.notebook.save_checkpoint();",
          "text/plain": "<IPython.core.display.Javascript object>"
         },
         "metadata": {},
         "output_type": "display_data"
        }
       ]
      }
     },
     "3d478381b7224319b778d0ccacad8aab": {
      "model_module": "@jupyter-widgets/base",
      "model_module_version": "1.1.0",
      "model_name": "LayoutModel",
      "state": {
       "width": "300px"
      }
     },
     "3d6e39a0c21843c28449e4027b3f4929": {
      "model_module": "@jupyter-widgets/controls",
      "model_module_version": "1.4.0",
      "model_name": "CheckboxModel",
      "state": {
       "description": "Live plot in Jupyter: ",
       "disabled": false,
       "layout": "IPY_MODEL_2704d1938f1a425dbca6d29fa20ecfe0",
       "style": "IPY_MODEL_fccf2fe50e5345389648726e37fcc329",
       "value": false
      }
     },
     "3de52e35a14a49ef8167b6e4e1199f47": {
      "model_module": "@jupyter-widgets/base",
      "model_module_version": "1.1.0",
      "model_name": "LayoutModel",
      "state": {
       "width": "300px"
      }
     },
     "3e035979ff884066a06d24efbf8cd94d": {
      "model_module": "@jupyter-widgets/controls",
      "model_module_version": "1.4.0",
      "model_name": "LabelModel",
      "state": {
       "layout": "IPY_MODEL_75857f0830044b31b3654270e8753e87",
       "style": "IPY_MODEL_2384893e03d344e3be5649b33285891b",
       "value": "No motors initilized to be showed."
      }
     },
     "3e28b215131f4ce2a83c730121251a4a": {
      "model_module": "@jupyter-widgets/base",
      "model_module_version": "1.1.0",
      "model_name": "LayoutModel",
      "state": {}
     },
     "3e3a49233a014db3b65fc1b5b723f285": {
      "model_module": "@jupyter-widgets/controls",
      "model_module_version": "1.4.0",
      "model_name": "TextareaModel",
      "state": {
       "layout": "IPY_MODEL_452bf14af04641df9657ec56e65a60be",
       "placeholder": "Example: IOC:m1.DMOV IOC:m3.RBV LNLS:ANEL:corrente.VAL",
       "style": "IPY_MODEL_adfe7992a9e541a596e10e3be83bcf51"
      }
     },
     "3e56907759bd40468b5efa3a92cff7af": {
      "model_module": "@jupyter-widgets/controls",
      "model_module_version": "1.4.0",
      "model_name": "DescriptionStyleModel",
      "state": {
       "description_width": ""
      }
     },
     "3e67b31de47f41b3bdbcd4814bb19fce": {
      "model_module": "@jupyter-widgets/output",
      "model_module_version": "1.0.0",
      "model_name": "OutputModel",
      "state": {
       "layout": "IPY_MODEL_dda27e9beecb42c583159a44f570ad11"
      }
     },
     "3e744180d3854f27bf81ef26582f5706": {
      "buffers": [
       {
        "data": "AAAAAAAAHEAAAAAAAADwPwAAAAAAACBAAAAAAAAAAAAAAAAAAAAcQA==",
        "encoding": "base64",
        "path": [
         "_data",
         0,
         "y",
         "value"
        ]
       },
       {
        "data": "AAAAAAAAHEAAAAAAAADwPwAAAAAAACBAAAAAAAAAAAAAAAAAAAAcQA==",
        "encoding": "base64",
        "path": [
         "_data",
         1,
         "y",
         "value"
        ]
       }
      ],
      "model_module": "plotlywidget",
      "model_module_version": "0.8.0",
      "model_name": "FigureModel",
      "state": {
       "_config": {
        "plotlyServerURL": "https://plot.ly"
       },
       "_data": [
        {
         "mode": "lines+markers",
         "name": "line1",
         "type": "scatter",
         "uid": "e2137365-77ef-48c4-959f-c5dbe7a674b5",
         "x": [
          0,
          1,
          2,
          3,
          4
         ],
         "xaxis": "x",
         "y": {
          "dtype": "float64",
          "shape": [
           5
          ],
          "value": {}
         },
         "yaxis": "y"
        },
        {
         "mode": "lines+markers",
         "name": "line2",
         "type": "scatter",
         "uid": "f63b556a-8123-4d1d-84bb-d818d65ae181",
         "x": [
          0,
          1,
          2,
          3,
          4
         ],
         "xaxis": "x2",
         "y": {
          "dtype": "float64",
          "shape": [
           5
          ],
          "value": {}
         },
         "yaxis": "y2"
        }
       ],
       "_js2py_pointsCallback": {},
       "_js2py_restyle": {},
       "_js2py_update": {},
       "_last_layout_edit_id": 8,
       "_last_trace_edit_id": 7,
       "_layout": {
        "autosize": true,
        "plot_bgcolor": "rgb(230, 230, 230)",
        "template": {},
        "title": {
         "text": "Scan"
        },
        "xaxis": {
         "anchor": "y",
         "domain": [
          0,
          1
         ]
        },
        "xaxis2": {
         "anchor": "y2",
         "domain": [
          0,
          1
         ]
        },
        "yaxis": {
         "anchor": "x",
         "domain": [
          0.575,
          1
         ]
        },
        "yaxis2": {
         "anchor": "x2",
         "domain": [
          0,
          0.425
         ]
        }
       },
       "_model_module_version": "0.8.0",
       "_py2js_animate": {},
       "_py2js_deleteTraces": {},
       "_py2js_moveTraces": {},
       "_py2js_removeLayoutProps": {},
       "_py2js_removeTraceProps": {},
       "_view_count": 0,
       "_view_module_version": "0.8.0"
      }
     },
     "3e7d6d75b082475fae42ebe6fe31c415": {
      "model_module": "@jupyter-widgets/controls",
      "model_module_version": "1.4.0",
      "model_name": "DescriptionStyleModel",
      "state": {
       "description_width": "initial"
      }
     },
     "3e87c554bac14c50b564a577de96b9eb": {
      "model_module": "@jupyter-widgets/base",
      "model_module_version": "1.1.0",
      "model_name": "LayoutModel",
      "state": {
       "height": "40px",
       "width": "40px"
      }
     },
     "3e9487d006d943eaa72b60f95aed33ce": {
      "model_module": "@jupyter-widgets/controls",
      "model_module_version": "1.4.0",
      "model_name": "ButtonModel",
      "state": {
       "button_style": "success",
       "description": "Set Target VAL",
       "layout": "IPY_MODEL_c8c2dc50975147ab821bd36dc4e62688",
       "style": "IPY_MODEL_b99c1da0b1904ec0a189bb69ee36002f",
       "tooltip": "Click me"
      }
     },
     "3f0462690ed6442a85555172033e2bd3": {
      "model_module": "@jupyter-widgets/base",
      "model_module_version": "1.1.0",
      "model_name": "LayoutModel",
      "state": {}
     },
     "3f55314f028a47978cd1a342538e5ee5": {
      "model_module": "@jupyter-widgets/controls",
      "model_module_version": "1.4.0",
      "model_name": "ButtonModel",
      "state": {
       "button_style": "success",
       "description": "Set Target VAL",
       "layout": "IPY_MODEL_398b13bbf1d64565b93fa8d4e8a5bd94",
       "style": "IPY_MODEL_181cb03bfc144ce5a51985c3373c9bf6",
       "tooltip": "Click me"
      }
     },
     "3f64e529aed6439a9633ce1feb398af3": {
      "model_module": "@jupyter-widgets/controls",
      "model_module_version": "1.4.0",
      "model_name": "LabelModel",
      "state": {
       "layout": "IPY_MODEL_d71f999ca0c9455d8f4c7022d0bbcff5",
       "style": "IPY_MODEL_984b1e2d706445318b7958d825a2f58b",
       "value": "No motors initilized to be showed."
      }
     },
     "3f8d07001e574376b4e242d575dd0e6c": {
      "model_module": "@jupyter-widgets/controls",
      "model_module_version": "1.4.0",
      "model_name": "VBoxModel",
      "state": {
       "children": [
        "IPY_MODEL_b377c3c8277e4ff998409f5bb1fe09f4",
        "IPY_MODEL_3cd0e440e5b8441cb20c10c9c11bb7ae"
       ],
       "layout": "IPY_MODEL_42318f4a9f5f4136ab878f5d0bb5a5e1"
      }
     },
     "3f9331a6d50e4d57a2dec36315bec76d": {
      "model_module": "@jupyter-widgets/controls",
      "model_module_version": "1.4.0",
      "model_name": "TextareaModel",
      "state": {
       "layout": "IPY_MODEL_ca2e651d6c8a414985a0496cea347748",
       "placeholder": "Example: IOC:m1 IOC:m3 LNLS:TEST:motor_g3",
       "style": "IPY_MODEL_26c624368e19476e9049df2d7e61d545"
      }
     },
     "3fb485bf54724fbb825aaf45f8a0bf8f": {
      "model_module": "@jupyter-widgets/controls",
      "model_module_version": "1.4.0",
      "model_name": "VBoxModel",
      "state": {
       "children": [
        "IPY_MODEL_6210fc3da6ba41f98a9d076b279f3acd"
       ],
       "layout": "IPY_MODEL_0a63068356cb4aee9e798168b8d0f812"
      }
     },
     "3fc416d5f90c4a65949d1df33b61aea1": {
      "model_module": "@jupyter-widgets/base",
      "model_module_version": "1.1.0",
      "model_name": "LayoutModel",
      "state": {}
     },
     "3fcde19754504866be54a17a1e8b865f": {
      "model_module": "@jupyter-widgets/controls",
      "model_module_version": "1.4.0",
      "model_name": "ButtonStyleModel",
      "state": {}
     },
     "3fe0481ea32d4b8d8f09ac89e9375517": {
      "model_module": "@jupyter-widgets/controls",
      "model_module_version": "1.4.0",
      "model_name": "LabelModel",
      "state": {
       "layout": "IPY_MODEL_b960f2e1a817415da8c9536f01063aae",
       "style": "IPY_MODEL_e9f881ae74d2479784dd7a15450323a4",
       "value": "No motors initilized to be showed."
      }
     },
     "3fe912ecbb8a44a38a15463c8eda663c": {
      "model_module": "@jupyter-widgets/base",
      "model_module_version": "1.1.0",
      "model_name": "LayoutModel",
      "state": {}
     },
     "40012101a32a468ca021c486dadb9d60": {
      "model_module": "@jupyter-widgets/output",
      "model_module_version": "1.0.0",
      "model_name": "OutputModel",
      "state": {
       "layout": "IPY_MODEL_c2cef064b53b46ae98fd5faff6a1ad36"
      }
     },
     "404e103b08c9465c9e4199ab70552f6a": {
      "model_module": "@jupyter-widgets/base",
      "model_module_version": "1.1.0",
      "model_name": "LayoutModel",
      "state": {}
     },
     "405279c9ef73412baec2fc860ded14b6": {
      "model_module": "@jupyter-widgets/base",
      "model_module_version": "1.1.0",
      "model_name": "LayoutModel",
      "state": {}
     },
     "4060ee82d3034ee7acfb9c9a10298fac": {
      "model_module": "@jupyter-widgets/base",
      "model_module_version": "1.1.0",
      "model_name": "LayoutModel",
      "state": {}
     },
     "408763c6cbfe40c29842c04b00d2a5f1": {
      "model_module": "@jupyter-widgets/base",
      "model_module_version": "1.1.0",
      "model_name": "LayoutModel",
      "state": {}
     },
     "40a47b6e5129440590271fee544c58ee": {
      "model_module": "@jupyter-widgets/controls",
      "model_module_version": "1.4.0",
      "model_name": "VBoxModel",
      "state": {
       "children": [
        "IPY_MODEL_eb95cfce326148599a8b331b23cd0424",
        "IPY_MODEL_fed379165aa34c6a8cb072d4d670991b"
       ],
       "layout": "IPY_MODEL_8fb8c1926299490087f66c5fffe4cf83"
      }
     },
     "40a701871c974bb6bd0d7a8dee315613": {
      "model_module": "@jupyter-widgets/controls",
      "model_module_version": "1.4.0",
      "model_name": "CheckboxModel",
      "state": {
       "description": "Live plot in Jupyter: ",
       "disabled": false,
       "layout": "IPY_MODEL_946aa63f82c541f78275006b6a3b53e0",
       "style": "IPY_MODEL_d7ca592f1ddc40ffaa47e933f43e7c76",
       "value": false
      }
     },
     "40cabc27150e45c3a9f22189c385f7f2": {
      "model_module": "@jupyter-widgets/output",
      "model_module_version": "1.0.0",
      "model_name": "OutputModel",
      "state": {
       "layout": "IPY_MODEL_f91e0e91f13247d580bc64d5bab4da40"
      }
     },
     "40ea9dc6ed2a4b16a91a870ca869cc75": {
      "model_module": "@jupyter-widgets/controls",
      "model_module_version": "1.4.0",
      "model_name": "ButtonModel",
      "state": {
       "button_style": "success",
       "description": "Start Motor Initializaton",
       "layout": "IPY_MODEL_cbae082a7b774d4fa304a5f74d7cfa54",
       "style": "IPY_MODEL_669b301119c049fb8f6b28d32ab4a11a",
       "tooltip": "Click me"
      }
     },
     "410a043a17bb4590b14f93bea3307534": {
      "model_module": "@jupyter-widgets/base",
      "model_module_version": "1.1.0",
      "model_name": "LayoutModel",
      "state": {
       "width": "300px"
      }
     },
     "41206835cc11442bb486f3ca75da48fe": {
      "model_module": "@jupyter-widgets/base",
      "model_module_version": "1.1.0",
      "model_name": "LayoutModel",
      "state": {}
     },
     "4138af360de248f7b16daa0f2a450ac7": {
      "model_module": "@jupyter-widgets/controls",
      "model_module_version": "1.4.0",
      "model_name": "LabelModel",
      "state": {
       "layout": "IPY_MODEL_d5a60074041847ee89280218f5dcfcc9",
       "style": "IPY_MODEL_785d7f5029fa47e79feb6415449c4d6b",
       "value": "No motors initilized to be showed."
      }
     },
     "4192e05041974695a53b4c842d853405": {
      "model_module": "@jupyter-widgets/controls",
      "model_module_version": "1.4.0",
      "model_name": "LabelModel",
      "state": {
       "layout": "IPY_MODEL_fbc1940312fe4038b653a95c16398881",
       "style": "IPY_MODEL_1e9743a10bc84656ae3049a44db146e9",
       "value": "No motors initilized to be showed."
      }
     },
     "41c7134ba41a4565bd2edf4b2dbdba9b": {
      "model_module": "@jupyter-widgets/base",
      "model_module_version": "1.1.0",
      "model_name": "LayoutModel",
      "state": {}
     },
     "41cfdfa5e8934de69dbd7b736daa4255": {
      "model_module": "@jupyter-widgets/controls",
      "model_module_version": "1.4.0",
      "model_name": "LabelModel",
      "state": {
       "layout": "IPY_MODEL_f39f31d4e3e441ab8e27b456ebf09026",
       "style": "IPY_MODEL_b54a797520a341deac96b1f9cdae9c62",
       "value": "No motors initilized to be showed."
      }
     },
     "41ffef26bbce4fa19e5a1d72046889e1": {
      "model_module": "@jupyter-widgets/base",
      "model_module_version": "1.1.0",
      "model_name": "LayoutModel",
      "state": {}
     },
     "42318f4a9f5f4136ab878f5d0bb5a5e1": {
      "model_module": "@jupyter-widgets/base",
      "model_module_version": "1.1.0",
      "model_name": "LayoutModel",
      "state": {}
     },
     "42642191418a4d2e821b163600e3f158": {
      "model_module": "@jupyter-widgets/base",
      "model_module_version": "1.1.0",
      "model_name": "LayoutModel",
      "state": {}
     },
     "42a9103578364dc3bf35c064df5c04a2": {
      "model_module": "@jupyter-widgets/controls",
      "model_module_version": "1.4.0",
      "model_name": "ButtonStyleModel",
      "state": {}
     },
     "42a91ef42301415ab72ab6cd83e1b538": {
      "model_module": "@jupyter-widgets/controls",
      "model_module_version": "1.4.0",
      "model_name": "DescriptionStyleModel",
      "state": {
       "description_width": ""
      }
     },
     "42dac9c9ccc2450e915f6fc2b7ee3b0a": {
      "model_module": "plotlywidget",
      "model_module_version": "0.8.0",
      "model_name": "FigureModel",
      "state": {
       "_config": {
        "plotlyServerURL": "https://plot.ly"
       },
       "_js2py_layoutDelta": {},
       "_js2py_pointsCallback": {},
       "_js2py_relayout": {},
       "_js2py_restyle": {},
       "_js2py_traceDeltas": {},
       "_js2py_update": {},
       "_layout": {
        "template": {}
       },
       "_model_module_version": "0.8.0",
       "_py2js_addTraces": {},
       "_py2js_animate": {},
       "_py2js_deleteTraces": {},
       "_py2js_moveTraces": {},
       "_py2js_removeLayoutProps": {},
       "_py2js_removeTraceProps": {},
       "_py2js_restyle": {},
       "_py2js_update": {},
       "_view_count": 0,
       "_view_module_version": "0.8.0"
      }
     },
     "42f86c40814f49f9a9a3785b269310eb": {
      "model_module": "@jupyter-widgets/controls",
      "model_module_version": "1.4.0",
      "model_name": "HBoxModel",
      "state": {
       "children": [
        "IPY_MODEL_af3040c6d928491481c0a3eedac2bdad",
        "IPY_MODEL_32c8a4b22d744e9aa56456a82d6d0cc6"
       ],
       "layout": "IPY_MODEL_223ec4ceb1394f5090c92156b3349d87"
      }
     },
     "43037d4ed5034c9883759c17dd2c1c58": {
      "model_module": "@jupyter-widgets/controls",
      "model_module_version": "1.4.0",
      "model_name": "LabelModel",
      "state": {
       "layout": "IPY_MODEL_9cc920e69fd04943b205034b8ce48d8f",
       "style": "IPY_MODEL_bac751329fbb4bb88e307b5be214a281",
       "value": "IOC:m1"
      }
     },
     "4369b723ad2345fca93f41bb9213521f": {
      "model_module": "@jupyter-widgets/controls",
      "model_module_version": "1.4.0",
      "model_name": "VBoxModel",
      "state": {
       "children": [
        "IPY_MODEL_f6b9ce88b7e54cd3ad8d174e120f7f4e"
       ],
       "layout": "IPY_MODEL_56756bcafe2741cb9efaf96328cf566e"
      }
     },
     "43890cc4e29f47c98a08744b3a2de6a3": {
      "model_module": "@jupyter-widgets/controls",
      "model_module_version": "1.4.0",
      "model_name": "ButtonModel",
      "state": {
       "layout": "IPY_MODEL_aedf03c75c244f2b98c24c2d24bd615c",
       "style": "IPY_MODEL_e4008742c7544df3ade83caf80ed50ea"
      }
     },
     "43a86437165c488392029ccb33735940": {
      "model_module": "@jupyter-widgets/base",
      "model_module_version": "1.1.0",
      "model_name": "LayoutModel",
      "state": {}
     },
     "43bb4d00d0e248e18564756bd7a832d0": {
      "buffers": [
       {
        "data": "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",
        "encoding": "base64",
        "path": [
         "value"
        ]
       }
      ],
      "model_module": "@jupyter-widgets/controls",
      "model_module_version": "1.4.0",
      "model_name": "ImageModel",
      "state": {
       "height": "35",
       "layout": "IPY_MODEL_68233f5b803c48d6a414b6d6e8d9d1e0",
       "value": {},
       "width": "35"
      }
     },
     "442e86234baa444ea86c216cb8c577d8": {
      "model_module": "@jupyter-widgets/controls",
      "model_module_version": "1.4.0",
      "model_name": "CheckboxModel",
      "state": {
       "description": "Live plot in Jupyter: ",
       "disabled": false,
       "layout": "IPY_MODEL_2e47735bbe9742d28431642c0246910a",
       "style": "IPY_MODEL_c0dea3525db645e78989f1988422cb35",
       "value": false
      }
     },
     "452bf14af04641df9657ec56e65a60be": {
      "model_module": "@jupyter-widgets/base",
      "model_module_version": "1.1.0",
      "model_name": "LayoutModel",
      "state": {}
     },
     "457b02553b2043368df2ae4ce7f4df1f": {
      "model_module": "@jupyter-widgets/base",
      "model_module_version": "1.1.0",
      "model_name": "LayoutModel",
      "state": {}
     },
     "4591da6bae454edaaa5d61858bf8c771": {
      "model_module": "@jupyter-widgets/controls",
      "model_module_version": "1.4.0",
      "model_name": "VBoxModel",
      "state": {
       "children": [
        "IPY_MODEL_9bfbee363985482da71cf4b69759d55e",
        "IPY_MODEL_7346b88c0a394991b3d205e0a5c84da7"
       ],
       "layout": "IPY_MODEL_6168e47d4eac4a90ae8e9fd678dec832"
      }
     },
     "45a394486b244ab2af76878fe49b3238": {
      "model_module": "@jupyter-widgets/controls",
      "model_module_version": "1.4.0",
      "model_name": "ButtonModel",
      "state": {
       "button_style": "warning",
       "description": "Export Notebook to HTML",
       "layout": "IPY_MODEL_169fd373325642aca73954143a358fdb",
       "style": "IPY_MODEL_212ebc5492074013bb035853469574b6",
       "tooltip": "Click me"
      }
     },
     "45ecd10711834b1ea0bcc9420dc754cf": {
      "model_module": "@jupyter-widgets/controls",
      "model_module_version": "1.4.0",
      "model_name": "ButtonModel",
      "state": {
       "button_style": "success",
       "description": "Set Target VAL",
       "layout": "IPY_MODEL_7f196af9bbc546d5a2014bb9cf3d66ff",
       "style": "IPY_MODEL_f127b460ff844beb88870b8d32baa117",
       "tooltip": "Click me"
      }
     },
     "46596bf476c546dbb366733b664419f6": {
      "model_module": "@jupyter-widgets/controls",
      "model_module_version": "1.4.0",
      "model_name": "DescriptionStyleModel",
      "state": {
       "description_width": ""
      }
     },
     "46aa2f47a9f2472686fb11169973f265": {
      "model_module": "@jupyter-widgets/base",
      "model_module_version": "1.1.0",
      "model_name": "LayoutModel",
      "state": {}
     },
     "46ac79161b3445678200c57207f8c836": {
      "model_module": "@jupyter-widgets/base",
      "model_module_version": "1.1.0",
      "model_name": "LayoutModel",
      "state": {
       "width": "300px"
      }
     },
     "46db953aae244200afd9f64496e4d273": {
      "model_module": "@jupyter-widgets/controls",
      "model_module_version": "1.4.0",
      "model_name": "VBoxModel",
      "state": {
       "children": [
        "IPY_MODEL_de2d75b2d5c44e10a46993fa230587d5",
        "IPY_MODEL_ee91cf7244784df09790d54a49d1be5c"
       ],
       "layout": "IPY_MODEL_afa0634e141a44a39699a9f3bbf21f2f"
      }
     },
     "46e49a3e82e54e27857ac6c43bfd0249": {
      "model_module": "@jupyter-widgets/base",
      "model_module_version": "1.1.0",
      "model_name": "LayoutModel",
      "state": {}
     },
     "47066b6f054b4fb28cd4717b0044030f": {
      "model_module": "@jupyter-widgets/controls",
      "model_module_version": "1.4.0",
      "model_name": "ButtonModel",
      "state": {
       "button_style": "success",
       "description": "Start Manual Alignment",
       "layout": "IPY_MODEL_f6cdde003f114e778f441cde80b05eea",
       "style": "IPY_MODEL_35f0ca1b006b424ea22551c9785798ae",
       "tooltip": "Click me"
      }
     },
     "4735c9f978554877b51c5db010399b1c": {
      "model_module": "@jupyter-widgets/base",
      "model_module_version": "1.1.0",
      "model_name": "LayoutModel",
      "state": {}
     },
     "474028df41ab4a1ca27a0500ae62f212": {
      "model_module": "@jupyter-widgets/controls",
      "model_module_version": "1.4.0",
      "model_name": "VBoxModel",
      "state": {
       "children": [
        "IPY_MODEL_0f67e72957ef4864b9342d07a6356f9e"
       ],
       "layout": "IPY_MODEL_d04ead21599741ddabc5bb7b48218ac5"
      }
     },
     "47d520e1e07f49bb8396a54d6b5129e4": {
      "model_module": "@jupyter-widgets/base",
      "model_module_version": "1.1.0",
      "model_name": "LayoutModel",
      "state": {
       "width": "300px"
      }
     },
     "47e3263d77a64007a17ab48a43c5a5a9": {
      "model_module": "@jupyter-widgets/output",
      "model_module_version": "1.0.0",
      "model_name": "OutputModel",
      "state": {
       "layout": "IPY_MODEL_61ce8d2258ff47aa9d858d9c54ac0813"
      }
     },
     "48194383db5e4e028bb6808d1e629663": {
      "model_module": "@jupyter-widgets/controls",
      "model_module_version": "1.4.0",
      "model_name": "DescriptionStyleModel",
      "state": {
       "description_width": ""
      }
     },
     "484db997405a473cb2c6c0fa7e030698": {
      "model_module": "@jupyter-widgets/controls",
      "model_module_version": "1.4.0",
      "model_name": "ButtonStyleModel",
      "state": {}
     },
     "48b1e42c7aeb43ba81f938e2481cf136": {
      "model_module": "@jupyter-widgets/base",
      "model_module_version": "1.1.0",
      "model_name": "LayoutModel",
      "state": {}
     },
     "490f5872fb9d4227a4f5987bd28a530d": {
      "model_module": "@jupyter-widgets/controls",
      "model_module_version": "1.4.0",
      "model_name": "DescriptionStyleModel",
      "state": {
       "description_width": ""
      }
     },
     "4a0a732a209f4057acc5321b865f3925": {
      "model_module": "@jupyter-widgets/base",
      "model_module_version": "1.1.0",
      "model_name": "LayoutModel",
      "state": {}
     },
     "4a1cc836aa8d42f68cbc3d88e0ee21fc": {
      "model_module": "@jupyter-widgets/base",
      "model_module_version": "1.1.0",
      "model_name": "LayoutModel",
      "state": {}
     },
     "4a4a9a6d210f48c1bb324803f852c441": {
      "model_module": "@jupyter-widgets/base",
      "model_module_version": "1.1.0",
      "model_name": "LayoutModel",
      "state": {}
     },
     "4a730786ba4a43f28f33ae4a71cb00c4": {
      "model_module": "@jupyter-widgets/base",
      "model_module_version": "1.1.0",
      "model_name": "LayoutModel",
      "state": {}
     },
     "4a739ba800ff46a6848e12ef4f7e61f7": {
      "model_module": "@jupyter-widgets/base",
      "model_module_version": "1.1.0",
      "model_name": "LayoutModel",
      "state": {}
     },
     "4a7c12d62126499793c2f1b0a2032d24": {
      "model_module": "@jupyter-widgets/base",
      "model_module_version": "1.1.0",
      "model_name": "LayoutModel",
      "state": {
       "width": "300px"
      }
     },
     "4ab1bc3340cf46dfbab4952f3005d23f": {
      "model_module": "@jupyter-widgets/base",
      "model_module_version": "1.1.0",
      "model_name": "LayoutModel",
      "state": {}
     },
     "4ad382531b7244a2a68f6d6ce2fe2447": {
      "model_module": "@jupyter-widgets/controls",
      "model_module_version": "1.4.0",
      "model_name": "BoundedFloatTextModel",
      "state": {
       "description": "IOC:m1",
       "layout": "IPY_MODEL_3af87dbd945b45948596c92615dc5037",
       "min": -100,
       "step": 0.01,
       "style": "IPY_MODEL_1fac609ce55c42afbe58f5861e242786",
       "value": 10
      }
     },
     "4ad3d51d52e54242bd17d536819abfad": {
      "model_module": "@jupyter-widgets/controls",
      "model_module_version": "1.4.0",
      "model_name": "ButtonStyleModel",
      "state": {}
     },
     "4af5719a1ef54f479bcf01b982470065": {
      "model_module": "@jupyter-widgets/output",
      "model_module_version": "1.0.0",
      "model_name": "OutputModel",
      "state": {
       "layout": "IPY_MODEL_7598bfba61e144eab8da09ee3bce4807",
       "outputs": [
        {
         "ename": "NameError",
         "evalue": "name 'logprint' is not defined",
         "output_type": "error",
         "traceback": [
          "\u001b[0;31m---------------------------------------------------------------------------\u001b[0m",
          "\u001b[0;31mNameError\u001b[0m                                 Traceback (most recent call last)",
          "\u001b[0;32m~/.local/lib/python3.5/site-packages/ipywidgets/widgets/widget_output.py\u001b[0m in \u001b[0;36minner\u001b[0;34m(*args, **kwargs)\u001b[0m\n\u001b[1;32m     99\u001b[0m                     \u001b[0mself\u001b[0m\u001b[0;34m.\u001b[0m\u001b[0mclear_output\u001b[0m\u001b[0;34m(\u001b[0m\u001b[0;34m*\u001b[0m\u001b[0mclear_args\u001b[0m\u001b[0;34m,\u001b[0m \u001b[0;34m**\u001b[0m\u001b[0mclear_kwargs\u001b[0m\u001b[0;34m)\u001b[0m\u001b[0;34m\u001b[0m\u001b[0m\n\u001b[1;32m    100\u001b[0m                 \u001b[0;32mwith\u001b[0m \u001b[0mself\u001b[0m\u001b[0;34m:\u001b[0m\u001b[0;34m\u001b[0m\u001b[0m\n\u001b[0;32m--> 101\u001b[0;31m                     \u001b[0;32mreturn\u001b[0m \u001b[0mfunc\u001b[0m\u001b[0;34m(\u001b[0m\u001b[0;34m*\u001b[0m\u001b[0margs\u001b[0m\u001b[0;34m,\u001b[0m \u001b[0;34m**\u001b[0m\u001b[0mkwargs\u001b[0m\u001b[0;34m)\u001b[0m\u001b[0;34m\u001b[0m\u001b[0m\n\u001b[0m\u001b[1;32m    102\u001b[0m             \u001b[0;32mreturn\u001b[0m \u001b[0minner\u001b[0m\u001b[0;34m\u001b[0m\u001b[0m\n\u001b[1;32m    103\u001b[0m         \u001b[0;32mreturn\u001b[0m \u001b[0mcapture_decorator\u001b[0m\u001b[0;34m\u001b[0m\u001b[0m\n",
          "\u001b[0;32m<ipython-input-2-e4766012ced9>\u001b[0m in \u001b[0;36mchange_checkbox_logprint_in_cell\u001b[0;34m(change)\u001b[0m\n\u001b[1;32m     14\u001b[0m \u001b[0;34m@\u001b[0m\u001b[0moutput\u001b[0m\u001b[0;34m.\u001b[0m\u001b[0mcapture\u001b[0m\u001b[0;34m(\u001b[0m\u001b[0;34m)\u001b[0m\u001b[0;34m\u001b[0m\u001b[0m\n\u001b[1;32m     15\u001b[0m \u001b[0;32mdef\u001b[0m \u001b[0mchange_checkbox_logprint_in_cell\u001b[0m\u001b[0;34m(\u001b[0m\u001b[0mchange\u001b[0m\u001b[0;34m)\u001b[0m\u001b[0;34m:\u001b[0m\u001b[0;34m\u001b[0m\u001b[0m\n\u001b[0;32m---> 16\u001b[0;31m     \u001b[0mlogprint\u001b[0m\u001b[0;34m(\u001b[0m\u001b[0;34m\"Changed Logprint Checkbox to: \"\u001b[0m \u001b[0;34m+\u001b[0m \u001b[0mstr\u001b[0m\u001b[0;34m(\u001b[0m\u001b[0mchange\u001b[0m\u001b[0;34m.\u001b[0m\u001b[0mnew\u001b[0m\u001b[0;34m)\u001b[0m\u001b[0;34m)\u001b[0m\u001b[0;34m\u001b[0m\u001b[0m\n\u001b[0m\u001b[1;32m     17\u001b[0m \u001b[0;34m\u001b[0m\u001b[0m\n\u001b[1;32m     18\u001b[0m \u001b[0mcheckbox_logprint_in_cell\u001b[0m\u001b[0;34m.\u001b[0m\u001b[0mobserve\u001b[0m\u001b[0;34m(\u001b[0m\u001b[0mchange_checkbox_logprint_in_cell\u001b[0m\u001b[0;34m,\u001b[0m \u001b[0;34m'value'\u001b[0m\u001b[0;34m)\u001b[0m\u001b[0;34m\u001b[0m\u001b[0m\n",
          "\u001b[0;31mNameError\u001b[0m: name 'logprint' is not defined"
         ]
        }
       ]
      }
     },
     "4b0cd34fd9c746869a70fed80651c113": {
      "model_module": "@jupyter-widgets/controls",
      "model_module_version": "1.4.0",
      "model_name": "DescriptionStyleModel",
      "state": {
       "description_width": ""
      }
     },
     "4b2c0e70e18a4d78906c177945b3cc23": {
      "model_module": "@jupyter-widgets/controls",
      "model_module_version": "1.4.0",
      "model_name": "VBoxModel",
      "state": {
       "children": [
        "IPY_MODEL_73efa3875cf445828e7a844c39553043",
        "IPY_MODEL_9929c489cb4d42049cb17b7efc27f748"
       ],
       "layout": "IPY_MODEL_bddf3884980945efb50f538a79639742"
      }
     },
     "4bbac494a3e34487bc0380b75271526b": {
      "model_module": "@jupyter-widgets/base",
      "model_module_version": "1.1.0",
      "model_name": "LayoutModel",
      "state": {
       "width": "300px"
      }
     },
     "4bf1da3617a443f0b683486786ed38fa": {
      "model_module": "@jupyter-widgets/controls",
      "model_module_version": "1.4.0",
      "model_name": "ButtonModel",
      "state": {
       "button_style": "success",
       "description": "Start Manual Alignment",
       "layout": "IPY_MODEL_c76b12dbbded47b8b243fb2070719f68",
       "style": "IPY_MODEL_bf9a6820478e4dc9b0c38aa200eb76de",
       "tooltip": "Click me"
      }
     },
     "4c09bff92ba94e619a7042584989172d": {
      "model_module": "@jupyter-widgets/controls",
      "model_module_version": "1.4.0",
      "model_name": "ButtonStyleModel",
      "state": {}
     },
     "4c15d1d510b9432a93326d51b2445b65": {
      "model_module": "@jupyter-widgets/controls",
      "model_module_version": "1.4.0",
      "model_name": "ButtonModel",
      "state": {
       "button_style": "success",
       "description": "Start PV Monitoring",
       "layout": "IPY_MODEL_11b5a370ad994e56b55197b2ef71b8dd",
       "style": "IPY_MODEL_1a7cf91aa7924485975dd539f4293669",
       "tooltip": "Click me"
      }
     },
     "4c1b184eef4242fbb5fb49a3672c3665": {
      "model_module": "@jupyter-widgets/controls",
      "model_module_version": "1.4.0",
      "model_name": "VBoxModel",
      "state": {
       "children": [
        "IPY_MODEL_55ff18160bc042cfaa8cd79f26f3fb67"
       ],
       "layout": "IPY_MODEL_dd1b835d3c2448c88e1d338b4d06df5a"
      }
     },
     "4c1d42fb0bf74557a1b8fb4198516bfc": {
      "model_module": "@jupyter-widgets/base",
      "model_module_version": "1.1.0",
      "model_name": "LayoutModel",
      "state": {}
     },
     "4c21c82c8e5e4176a6858d087ec9f257": {
      "model_module": "@jupyter-widgets/controls",
      "model_module_version": "1.4.0",
      "model_name": "DescriptionStyleModel",
      "state": {
       "description_width": ""
      }
     },
     "4c2537669b6e4fa4bfc76d087221a7d7": {
      "model_module": "@jupyter-widgets/controls",
      "model_module_version": "1.4.0",
      "model_name": "DescriptionStyleModel",
      "state": {
       "description_width": ""
      }
     },
     "4c376f910c2545c198cc4a1838ecb1e4": {
      "model_module": "@jupyter-widgets/base",
      "model_module_version": "1.1.0",
      "model_name": "LayoutModel",
      "state": {}
     },
     "4c81cfbc09c8432995adcc82eacc0811": {
      "model_module": "@jupyter-widgets/base",
      "model_module_version": "1.1.0",
      "model_name": "LayoutModel",
      "state": {}
     },
     "4c8cbd5db04247478b92c4482fdf3957": {
      "model_module": "@jupyter-widgets/controls",
      "model_module_version": "1.4.0",
      "model_name": "VBoxModel",
      "state": {
       "children": [
        "IPY_MODEL_110fda271ef24caf8506ca70e8359134"
       ],
       "layout": "IPY_MODEL_cd1bfb758f3f4ab8b7a0fa1d87aefef0"
      }
     },
     "4c95e6bd00d74459a9d8e0d5c2b476ee": {
      "model_module": "@jupyter-widgets/base",
      "model_module_version": "1.1.0",
      "model_name": "LayoutModel",
      "state": {}
     },
     "4c98abd6c2fc4acdaf7d3928ec5b00a8": {
      "model_module": "@jupyter-widgets/base",
      "model_module_version": "1.1.0",
      "model_name": "LayoutModel",
      "state": {}
     },
     "4cb7bf9a8b1e4d048dbb6eae4670a075": {
      "model_module": "@jupyter-widgets/base",
      "model_module_version": "1.1.0",
      "model_name": "LayoutModel",
      "state": {}
     },
     "4cc8564e77c04e55af954d74797b3b8c": {
      "model_module": "@jupyter-widgets/controls",
      "model_module_version": "1.4.0",
      "model_name": "TextareaModel",
      "state": {
       "layout": "IPY_MODEL_97c2ab5b42d54832ba279a88a5834e71",
       "placeholder": "Example: IOC:m1.DMOV IOC:m3.RBV LNLS:ANEL:corrente.VAL",
       "style": "IPY_MODEL_b65a6de83ad4471dbb2f570a5e6b8d29",
       "value": "IOC:m1"
      }
     },
     "4ce0385d0f2c4434921e5feb69d48ff8": {
      "model_module": "@jupyter-widgets/controls",
      "model_module_version": "1.4.0",
      "model_name": "TextareaModel",
      "state": {
       "layout": "IPY_MODEL_d2e6c2f526f646d5a31c98ad9225a268",
       "placeholder": "Example: IOC:m1.DMOV IOC:m3.RBV LNLS:ANEL:corrente.VAL",
       "style": "IPY_MODEL_19f1435a14f044ed8fdcc859b79fe694"
      }
     },
     "4cf03b706d044a46b6f6d1d88166ae23": {
      "model_module": "@jupyter-widgets/output",
      "model_module_version": "1.0.0",
      "model_name": "OutputModel",
      "state": {
       "layout": "IPY_MODEL_43a86437165c488392029ccb33735940"
      }
     },
     "4cf76bc0ed5548aeadaf477d718cb3a7": {
      "model_module": "@jupyter-widgets/controls",
      "model_module_version": "1.4.0",
      "model_name": "VBoxModel",
      "state": {
       "children": [
        "IPY_MODEL_de3c9a2c9c734e04a89609d86964c766"
       ],
       "layout": "IPY_MODEL_c301ec657c244ecf838eefe8acf31f9b"
      }
     },
     "4d0d092aa5c34b6abc78758ad713f72e": {
      "model_module": "@jupyter-widgets/base",
      "model_module_version": "1.1.0",
      "model_name": "LayoutModel",
      "state": {}
     },
     "4d170d885c944fa9b3c40253e6543828": {
      "model_module": "@jupyter-widgets/base",
      "model_module_version": "1.1.0",
      "model_name": "LayoutModel",
      "state": {}
     },
     "4d4ad032c1f648938cc9d089040f0aa9": {
      "model_module": "@jupyter-widgets/controls",
      "model_module_version": "1.4.0",
      "model_name": "TextareaModel",
      "state": {
       "layout": "IPY_MODEL_cd91d317e0c548b198d90cfb3b1fe02d",
       "placeholder": "Example: IOC:m1 IOC:m3 LNLS:TEST:motor_g3",
       "style": "IPY_MODEL_e0dbf9c43cfd49d38d2df7f36dd69eaa"
      }
     },
     "4d97480a2232428ca7ef92cb0dafa3ec": {
      "model_module": "@jupyter-widgets/base",
      "model_module_version": "1.1.0",
      "model_name": "LayoutModel",
      "state": {}
     },
     "4dc3ceed950f417a8b477eaf4e231a34": {
      "model_module": "@jupyter-widgets/base",
      "model_module_version": "1.1.0",
      "model_name": "LayoutModel",
      "state": {}
     },
     "4e031fa3fd954d89ab4f217f1150f7e5": {
      "model_module": "@jupyter-widgets/controls",
      "model_module_version": "1.4.0",
      "model_name": "DescriptionStyleModel",
      "state": {
       "description_width": "initial"
      }
     },
     "4e3eae0b52454fadabe4d8e4e6784b59": {
      "model_module": "@jupyter-widgets/output",
      "model_module_version": "1.0.0",
      "model_name": "OutputModel",
      "state": {
       "layout": "IPY_MODEL_bd2aa804ccf64747a72170c3848b8960"
      }
     },
     "4e47e33351bd429ebda59a5beb2d9164": {
      "model_module": "@jupyter-widgets/controls",
      "model_module_version": "1.4.0",
      "model_name": "VBoxModel",
      "state": {
       "children": [
        "IPY_MODEL_3235a7bd4d7b4fd8b0c3a9c830d6bbb7"
       ],
       "layout": "IPY_MODEL_5bc8e23c975745fab5d9bfd50a1f780a"
      }
     },
     "4e482362ff6c4948b7edbb5dd65eb7c2": {
      "model_module": "@jupyter-widgets/base",
      "model_module_version": "1.1.0",
      "model_name": "LayoutModel",
      "state": {}
     },
     "4e5175aba2384fefa4bb55869cc83ac1": {
      "model_module": "@jupyter-widgets/base",
      "model_module_version": "1.1.0",
      "model_name": "LayoutModel",
      "state": {}
     },
     "4e5e4f1eff4b4771bf0576b31f683616": {
      "model_module": "@jupyter-widgets/base",
      "model_module_version": "1.1.0",
      "model_name": "LayoutModel",
      "state": {
       "width": "300px"
      }
     },
     "4e6d820f0d49405595191240f88b6357": {
      "model_module": "@jupyter-widgets/controls",
      "model_module_version": "1.4.0",
      "model_name": "CheckboxModel",
      "state": {
       "disabled": false,
       "layout": "IPY_MODEL_ea0e868153754b5cb6b6189dad33ae5b",
       "style": "IPY_MODEL_4b0cd34fd9c746869a70fed80651c113",
       "value": false
      }
     },
     "4e730aa058ac4c6dace66766a02a7541": {
      "model_module": "@jupyter-widgets/base",
      "model_module_version": "1.1.0",
      "model_name": "LayoutModel",
      "state": {}
     },
     "4e80c4cf576a4256a880b42d3655b571": {
      "model_module": "@jupyter-widgets/base",
      "model_module_version": "1.1.0",
      "model_name": "LayoutModel",
      "state": {}
     },
     "4eb93cd8e73b4381ab1628a1a7f868fd": {
      "model_module": "@jupyter-widgets/base",
      "model_module_version": "1.1.0",
      "model_name": "LayoutModel",
      "state": {}
     },
     "4ee93139248f4a6fa5c1764150c4355d": {
      "model_module": "@jupyter-widgets/controls",
      "model_module_version": "1.4.0",
      "model_name": "CheckboxModel",
      "state": {
       "description": "Print log in Notebook's cells",
       "disabled": false,
       "layout": "IPY_MODEL_6456359bc4434b4b8614058cec6e0958",
       "style": "IPY_MODEL_18eb8c7625be48f992ef2b8ac9b8eb77",
       "value": true
      }
     },
     "4efb2cb8bcff48118a476e6b575d2704": {
      "model_module": "@jupyter-widgets/controls",
      "model_module_version": "1.4.0",
      "model_name": "VBoxModel",
      "state": {
       "children": [
        "IPY_MODEL_a9abe49ecfde4078aa5fcdc869e7a0fa"
       ],
       "layout": "IPY_MODEL_2cd7cce5c97b4d818018b33e923effd8"
      }
     },
     "4f337db13562401892dec0d002cfe64e": {
      "model_module": "@jupyter-widgets/controls",
      "model_module_version": "1.4.0",
      "model_name": "ButtonModel",
      "state": {
       "layout": "IPY_MODEL_83cd163d06ab4f2d9be8b277a042ad2a",
       "style": "IPY_MODEL_4c09bff92ba94e619a7042584989172d"
      }
     },
     "4fa3fd6d6cb24829bae9af7a9a9e3379": {
      "model_module": "@jupyter-widgets/base",
      "model_module_version": "1.1.0",
      "model_name": "LayoutModel",
      "state": {}
     },
     "4fca65bc91b842e6b4dad446dde08ac0": {
      "model_module": "@jupyter-widgets/base",
      "model_module_version": "1.1.0",
      "model_name": "LayoutModel",
      "state": {}
     },
     "4ff3cd36b800469887a8ba57ff1dcaf6": {
      "model_module": "@jupyter-widgets/output",
      "model_module_version": "1.0.0",
      "model_name": "OutputModel",
      "state": {
       "layout": "IPY_MODEL_c111948f53f941a181b5897c6be66be8"
      }
     },
     "501dd6fce48b4a74950e4bb8860bd5b4": {
      "model_module": "@jupyter-widgets/base",
      "model_module_version": "1.1.0",
      "model_name": "LayoutModel",
      "state": {}
     },
     "50455a1bb2b5423eb7d996a62ace5af8": {
      "model_module": "@jupyter-widgets/output",
      "model_module_version": "1.0.0",
      "model_name": "OutputModel",
      "state": {
       "layout": "IPY_MODEL_0855b3a9cd3e4c13830218cca75b626d"
      }
     },
     "5125ffdbaede45828f302658729eb8da": {
      "model_module": "@jupyter-widgets/base",
      "model_module_version": "1.1.0",
      "model_name": "LayoutModel",
      "state": {}
     },
     "51473cf3a310407d85ff343d0dae826d": {
      "model_module": "@jupyter-widgets/controls",
      "model_module_version": "1.4.0",
      "model_name": "TextareaModel",
      "state": {
       "layout": "IPY_MODEL_860762d2d5494c1a917021b2d856076f",
       "placeholder": "Example: IOC:m1.DMOV IOC:m3.RBV LNLS:ANEL:corrente.VAL",
       "style": "IPY_MODEL_90522d61a85c468eb4794b0300f3239f"
      }
     },
     "5148dd476136422aa63855f149c61ecf": {
      "model_module": "@jupyter-widgets/base",
      "model_module_version": "1.1.0",
      "model_name": "LayoutModel",
      "state": {}
     },
     "514b3f08b972464e970c837d8e2bb8a6": {
      "model_module": "@jupyter-widgets/base",
      "model_module_version": "1.1.0",
      "model_name": "LayoutModel",
      "state": {
       "width": "300px"
      }
     },
     "5175d370fa184a0597ca5ba810a6ec78": {
      "model_module": "@jupyter-widgets/base",
      "model_module_version": "1.1.0",
      "model_name": "LayoutModel",
      "state": {
       "width": "300px"
      }
     },
     "5192ba6f897741c498f4a75e55800596": {
      "model_module": "@jupyter-widgets/controls",
      "model_module_version": "1.4.0",
      "model_name": "VBoxModel",
      "state": {
       "children": [
        "IPY_MODEL_9b2386c354964c0da49ebbbb3b22698f",
        "IPY_MODEL_1a841cb104e648b384aff5d63ead94ce"
       ],
       "layout": "IPY_MODEL_f5d0e9f77c454d728f468bfbf49555ed"
      }
     },
     "51b0ae840ae440e396024a2352133dfe": {
      "model_module": "@jupyter-widgets/controls",
      "model_module_version": "1.4.0",
      "model_name": "ButtonModel",
      "state": {
       "button_style": "success",
       "description": "Start Motor Initializaton",
       "layout": "IPY_MODEL_6458b66b09f84e86950edc9e91306224",
       "style": "IPY_MODEL_f57273c758274a7e92e694da20ef5f23",
       "tooltip": "Click me"
      }
     },
     "51ec9680ca4a4faba109faf9d154e3eb": {
      "model_module": "@jupyter-widgets/base",
      "model_module_version": "1.1.0",
      "model_name": "LayoutModel",
      "state": {}
     },
     "520dbc2e1c5348e0bbc791b0d4678167": {
      "model_module": "@jupyter-widgets/base",
      "model_module_version": "1.1.0",
      "model_name": "LayoutModel",
      "state": {}
     },
     "521984a8c50645258f757c704d86d1dc": {
      "buffers": [
       {
        "data": "AAAAAAAAHEAAAAAAAAAAQAAAAAAAABBAAAAAAAAAGEAAAAAAAAAcQA==",
        "encoding": "base64",
        "path": [
         "_data",
         0,
         "y",
         "value"
        ]
       },
       {
        "data": "AAAAAAAAHEAAAAAAAAAAQAAAAAAAABBAAAAAAAAAGEAAAAAAAAAcQA==",
        "encoding": "base64",
        "path": [
         "_data",
         1,
         "y",
         "value"
        ]
       }
      ],
      "model_module": "plotlywidget",
      "model_module_version": "0.8.0",
      "model_name": "FigureModel",
      "state": {
       "_config": {
        "plotlyServerURL": "https://plot.ly"
       },
       "_data": [
        {
         "mode": "lines+markers",
         "name": "line1",
         "type": "scatter",
         "uid": "23886526-17f2-4621-b6ef-d42a8c6f780a",
         "x": [
          0,
          1,
          2,
          3,
          4
         ],
         "xaxis": "x",
         "y": {
          "dtype": "float64",
          "shape": [
           5
          ],
          "value": {}
         },
         "yaxis": "y"
        },
        {
         "mode": "lines+markers",
         "name": "line2",
         "type": "scatter",
         "uid": "e104e411-3f09-4997-8c69-170dcfbbb48c",
         "x": [
          0,
          1,
          2,
          3,
          4
         ],
         "xaxis": "x2",
         "y": {
          "dtype": "float64",
          "shape": [
           5
          ],
          "value": {}
         },
         "yaxis": "y2"
        }
       ],
       "_js2py_pointsCallback": {},
       "_js2py_restyle": {},
       "_js2py_update": {},
       "_last_layout_edit_id": 8,
       "_last_trace_edit_id": 7,
       "_layout": {
        "autosize": true,
        "plot_bgcolor": "rgb(230, 230, 230)",
        "template": {},
        "title": {
         "text": "Scan"
        },
        "xaxis": {
         "anchor": "y",
         "domain": [
          0,
          1
         ]
        },
        "xaxis2": {
         "anchor": "y2",
         "domain": [
          0,
          1
         ]
        },
        "yaxis": {
         "anchor": "x",
         "domain": [
          0.575,
          1
         ]
        },
        "yaxis2": {
         "anchor": "x2",
         "domain": [
          0,
          0.425
         ]
        }
       },
       "_model_module_version": "0.8.0",
       "_py2js_animate": {},
       "_py2js_deleteTraces": {},
       "_py2js_moveTraces": {},
       "_py2js_removeLayoutProps": {},
       "_py2js_removeTraceProps": {},
       "_view_count": 0,
       "_view_module_version": "0.8.0"
      }
     },
     "5255fb6161f140de8ff26d4df8c01977": {
      "model_module": "@jupyter-widgets/output",
      "model_module_version": "1.0.0",
      "model_name": "OutputModel",
      "state": {
       "layout": "IPY_MODEL_33eacbda7a3e489b8cfad82c46e0a5fd"
      }
     },
     "52d9c6380adf44ea9e8550eef8be9686": {
      "model_module": "@jupyter-widgets/base",
      "model_module_version": "1.1.0",
      "model_name": "LayoutModel",
      "state": {}
     },
     "52dadb28d1b2446ba4bbf4db6a7bfe27": {
      "model_module": "@jupyter-widgets/controls",
      "model_module_version": "1.4.0",
      "model_name": "ButtonStyleModel",
      "state": {}
     },
     "52f3dbb5098548efa079bc19aa1d6f5f": {
      "model_module": "@jupyter-widgets/base",
      "model_module_version": "1.1.0",
      "model_name": "LayoutModel",
      "state": {}
     },
     "5301654f7f5c4bc7b346d76905d3778d": {
      "model_module": "@jupyter-widgets/controls",
      "model_module_version": "1.4.0",
      "model_name": "ButtonStyleModel",
      "state": {}
     },
     "53073d6019cc435d94e7f787b209543a": {
      "model_module": "@jupyter-widgets/controls",
      "model_module_version": "1.4.0",
      "model_name": "DescriptionStyleModel",
      "state": {
       "description_width": ""
      }
     },
     "530f749b5cc0485fb569ae481d15b940": {
      "model_module": "@jupyter-widgets/controls",
      "model_module_version": "1.4.0",
      "model_name": "LabelModel",
      "state": {
       "layout": "IPY_MODEL_520dbc2e1c5348e0bbc791b0d4678167",
       "style": "IPY_MODEL_69bf84d1db6e440ba28fa9c2e82d1260",
       "value": "No motors initilized to be showed."
      }
     },
     "533d25ce4abd4ccc87c87f3f2a2906c6": {
      "model_module": "@jupyter-widgets/controls",
      "model_module_version": "1.4.0",
      "model_name": "ButtonModel",
      "state": {
       "button_style": "success",
       "description": "Start Motor Initializaton",
       "layout": "IPY_MODEL_f47d16b996b5406cb1dc2c366a67d060",
       "style": "IPY_MODEL_d712320b8e7142178c658c59a63010ba",
       "tooltip": "Click me"
      }
     },
     "5340ee4fea8349e3be07f29e2204f8c2": {
      "model_module": "@jupyter-widgets/base",
      "model_module_version": "1.1.0",
      "model_name": "LayoutModel",
      "state": {}
     },
     "534f61a6c23745459b5819a28edf9ce6": {
      "model_module": "@jupyter-widgets/output",
      "model_module_version": "1.0.0",
      "model_name": "OutputModel",
      "state": {
       "layout": "IPY_MODEL_52f3dbb5098548efa079bc19aa1d6f5f",
       "outputs": [
        {
         "name": "stdout",
         "output_type": "stream",
         "text": "2019-05-13 15:38:25 Starting manual alignment\n2019-05-13 15:38:28 Finished manual alignment\n"
        }
       ]
      }
     },
     "538ed400b35e432da7cc17b08b2cbd4f": {
      "model_module": "@jupyter-widgets/base",
      "model_module_version": "1.1.0",
      "model_name": "LayoutModel",
      "state": {}
     },
     "53bdc3ee53c74b5e8a20b0fb93e02f91": {
      "model_module": "@jupyter-widgets/base",
      "model_module_version": "1.1.0",
      "model_name": "LayoutModel",
      "state": {}
     },
     "541187f218114a8ab4f2f86126a7f0ce": {
      "model_module": "@jupyter-widgets/controls",
      "model_module_version": "1.4.0",
      "model_name": "ButtonModel",
      "state": {
       "button_style": "warning",
       "description": "Export Notebook to HTML",
       "layout": "IPY_MODEL_20c02bfb06f24e5e88eff1cddd2f9221",
       "style": "IPY_MODEL_9ecb2677c2d54321be5f361c92b5f4b4",
       "tooltip": "Click me"
      }
     },
     "542888f0150c4c51bdab0faf4f330616": {
      "model_module": "@jupyter-widgets/controls",
      "model_module_version": "1.4.0",
      "model_name": "DescriptionStyleModel",
      "state": {
       "description_width": ""
      }
     },
     "543ba9b4965941fba22937dd3ac43988": {
      "model_module": "@jupyter-widgets/base",
      "model_module_version": "1.1.0",
      "model_name": "LayoutModel",
      "state": {}
     },
     "545cba50206548958e7a458d441b08e4": {
      "model_module": "@jupyter-widgets/output",
      "model_module_version": "1.0.0",
      "model_name": "OutputModel",
      "state": {
       "layout": "IPY_MODEL_380b3fc0209045e1984da684190af972"
      }
     },
     "546710a44315482796772170e47360fc": {
      "model_module": "@jupyter-widgets/controls",
      "model_module_version": "1.4.0",
      "model_name": "ButtonStyleModel",
      "state": {}
     },
     "54763f7e66534db7819143d700d42088": {
      "model_module": "@jupyter-widgets/base",
      "model_module_version": "1.1.0",
      "model_name": "LayoutModel",
      "state": {}
     },
     "54a0acdfb2d44fd6a34cbfe8edee04b9": {
      "buffers": [
       {
        "data": "AAAAAAAAFEAAAAAAAADwPwAAAAAAABBAAAAAAAAAEEAAAAAAAAAYQA==",
        "encoding": "base64",
        "path": [
         "_data",
         0,
         "y",
         "value"
        ]
       },
       {
        "data": "AAAAAAAAFEAAAAAAAADwPwAAAAAAABBAAAAAAAAAEEAAAAAAAAAYQA==",
        "encoding": "base64",
        "path": [
         "_data",
         1,
         "y",
         "value"
        ]
       }
      ],
      "model_module": "plotlywidget",
      "model_module_version": "0.8.0",
      "model_name": "FigureModel",
      "state": {
       "_config": {
        "plotlyServerURL": "https://plot.ly"
       },
       "_data": [
        {
         "mode": "lines+markers",
         "name": "line1",
         "type": "scatter",
         "uid": "27c723e7-65fa-42ba-8dcd-270fa432df6f",
         "x": [
          0,
          1,
          2,
          3,
          4
         ],
         "xaxis": "x",
         "y": {
          "dtype": "float64",
          "shape": [
           5
          ],
          "value": {}
         },
         "yaxis": "y"
        },
        {
         "mode": "lines+markers",
         "name": "line2",
         "type": "scatter",
         "uid": "206ddf07-7962-42cc-a19b-cbc4c2bfd2f0",
         "x": [
          0,
          1,
          2,
          3,
          4
         ],
         "xaxis": "x2",
         "y": {
          "dtype": "float64",
          "shape": [
           5
          ],
          "value": {}
         },
         "yaxis": "y2"
        }
       ],
       "_js2py_restyle": {},
       "_js2py_update": {},
       "_last_layout_edit_id": 8,
       "_last_trace_edit_id": 7,
       "_layout": {
        "autosize": true,
        "plot_bgcolor": "rgb(230, 230, 230)",
        "template": {},
        "title": {
         "text": "Scan"
        },
        "xaxis": {
         "anchor": "y",
         "domain": [
          0,
          1
         ]
        },
        "xaxis2": {
         "anchor": "y2",
         "domain": [
          0,
          1
         ]
        },
        "yaxis": {
         "anchor": "x",
         "domain": [
          0.575,
          1
         ]
        },
        "yaxis2": {
         "anchor": "x2",
         "domain": [
          0,
          0.425
         ]
        }
       },
       "_model_module_version": "0.8.0",
       "_py2js_animate": {},
       "_py2js_deleteTraces": {},
       "_py2js_moveTraces": {},
       "_py2js_removeLayoutProps": {},
       "_py2js_removeTraceProps": {},
       "_view_count": 0,
       "_view_module_version": "0.8.0"
      }
     },
     "54c102460b6047f4bb5482062c212c7a": {
      "model_module": "@jupyter-widgets/base",
      "model_module_version": "1.1.0",
      "model_name": "LayoutModel",
      "state": {
       "width": "300px"
      }
     },
     "54d4c3ee7fbf405692bb6ac552634dd4": {
      "model_module": "@jupyter-widgets/output",
      "model_module_version": "1.0.0",
      "model_name": "OutputModel",
      "state": {
       "layout": "IPY_MODEL_fc22b8f3919643b78ed316375c5d0282"
      }
     },
     "54e671dd70ae4732970cb9d452447cc5": {
      "model_module": "@jupyter-widgets/base",
      "model_module_version": "1.1.0",
      "model_name": "LayoutModel",
      "state": {}
     },
     "5537aaf4e5c24ddda3826e3701c82742": {
      "model_module": "@jupyter-widgets/base",
      "model_module_version": "1.1.0",
      "model_name": "LayoutModel",
      "state": {}
     },
     "559f70efcefb458cb60334047024b110": {
      "model_module": "@jupyter-widgets/controls",
      "model_module_version": "1.4.0",
      "model_name": "DescriptionStyleModel",
      "state": {
       "description_width": ""
      }
     },
     "55bcb01d6efb4e75abfe29bac4d8fb27": {
      "model_module": "@jupyter-widgets/base",
      "model_module_version": "1.1.0",
      "model_name": "LayoutModel",
      "state": {}
     },
     "55ee5a5e06c847b59aa57ed3ba9c4097": {
      "model_module": "@jupyter-widgets/base",
      "model_module_version": "1.1.0",
      "model_name": "LayoutModel",
      "state": {}
     },
     "55ff18160bc042cfaa8cd79f26f3fb67": {
      "model_module": "@jupyter-widgets/controls",
      "model_module_version": "1.4.0",
      "model_name": "ButtonModel",
      "state": {
       "button_style": "success",
       "description": "Start Scanning Plot",
       "layout": "IPY_MODEL_4bbac494a3e34487bc0380b75271526b",
       "style": "IPY_MODEL_02e00baca94a4404a6713f324c1f634d",
       "tooltip": "Click me"
      }
     },
     "56128382e7d64701adae564fce5315cb": {
      "model_module": "@jupyter-widgets/base",
      "model_module_version": "1.1.0",
      "model_name": "LayoutModel",
      "state": {}
     },
     "5620a4da58e34d6f89241b6487a6a557": {
      "model_module": "@jupyter-widgets/controls",
      "model_module_version": "1.4.0",
      "model_name": "VBoxModel",
      "state": {
       "children": [
        "IPY_MODEL_91e09d64047549169599805e29529d44",
        "IPY_MODEL_328116746a154232a80d7c854cbcfe23"
       ],
       "layout": "IPY_MODEL_4c376f910c2545c198cc4a1838ecb1e4"
      }
     },
     "56218783d9014deda46ddcc4be9f4e4e": {
      "model_module": "@jupyter-widgets/controls",
      "model_module_version": "1.4.0",
      "model_name": "DescriptionStyleModel",
      "state": {
       "description_width": "initial"
      }
     },
     "56271edada1a4f15afd8e746f68f8290": {
      "model_module": "@jupyter-widgets/controls",
      "model_module_version": "1.4.0",
      "model_name": "ButtonStyleModel",
      "state": {}
     },
     "564e35c6cf86489da6d69d456646525f": {
      "model_module": "@jupyter-widgets/base",
      "model_module_version": "1.1.0",
      "model_name": "LayoutModel",
      "state": {}
     },
     "565bbcea0e5d4b88bf41b82422881d71": {
      "model_module": "@jupyter-widgets/controls",
      "model_module_version": "1.4.0",
      "model_name": "ButtonStyleModel",
      "state": {}
     },
     "566ef0603c004fd3a5674b12feeaf6ed": {
      "model_module": "@jupyter-widgets/controls",
      "model_module_version": "1.4.0",
      "model_name": "ButtonModel",
      "state": {
       "button_style": "success",
       "description": "Start Manual Alignment",
       "layout": "IPY_MODEL_18911361c3704552a659e4b882e78828",
       "style": "IPY_MODEL_3080988d85744a1ca489ae6a6aa3e3dd",
       "tooltip": "Click me"
      }
     },
     "56756bcafe2741cb9efaf96328cf566e": {
      "model_module": "@jupyter-widgets/base",
      "model_module_version": "1.1.0",
      "model_name": "LayoutModel",
      "state": {}
     },
     "569cde2cb7ff42359a4113bdbb3a68ab": {
      "model_module": "@jupyter-widgets/controls",
      "model_module_version": "1.4.0",
      "model_name": "VBoxModel",
      "state": {
       "children": [
        "IPY_MODEL_8a177b6a1611465a9b3a1edd9240c1cc",
        "IPY_MODEL_e1676c02bec444b7a3bbd610627a2565"
       ],
       "layout": "IPY_MODEL_9b6d3dc9a8ef4ac68731d8a9382bcfae"
      }
     },
     "56dc8dbab93244dda24d169dcd8e8b2f": {
      "model_module": "@jupyter-widgets/output",
      "model_module_version": "1.0.0",
      "model_name": "OutputModel",
      "state": {
       "layout": "IPY_MODEL_af1750feb86545ca839c48b7c3b94dc5",
       "outputs": [
        {
         "data": {
          "application/javascript": "IPython.notebook.save_checkpoint();",
          "text/plain": "<IPython.core.display.Javascript object>"
         },
         "metadata": {},
         "output_type": "display_data"
        },
        {
         "data": {
          "application/javascript": "IPython.notebook.save_checkpoint();",
          "text/plain": "<IPython.core.display.Javascript object>"
         },
         "metadata": {},
         "output_type": "display_data"
        }
       ]
      }
     },
     "5722d21e9ed948e780fc4864c94a7e52": {
      "model_module": "@jupyter-widgets/base",
      "model_module_version": "1.1.0",
      "model_name": "LayoutModel",
      "state": {}
     },
     "57279d8fd0844689b609364276966ca0": {
      "model_module": "@jupyter-widgets/base",
      "model_module_version": "1.1.0",
      "model_name": "LayoutModel",
      "state": {}
     },
     "5763a84852f44f108dcb980aea8825d1": {
      "model_module": "@jupyter-widgets/controls",
      "model_module_version": "1.4.0",
      "model_name": "TextareaModel",
      "state": {
       "layout": "IPY_MODEL_2b2857bdebf143cc9a5c31d5f346f958",
       "placeholder": "Example: IOC:m1.DMOV IOC:m3.RBV LNLS:ANEL:corrente.VAL",
       "style": "IPY_MODEL_f742c33820654698944be7291f96200f"
      }
     },
     "57647db236e043d0b6ccabb2e56db01f": {
      "model_module": "@jupyter-widgets/base",
      "model_module_version": "1.1.0",
      "model_name": "LayoutModel",
      "state": {}
     },
     "57a6d236ccc8496496cc2f5a77b8f9ad": {
      "model_module": "@jupyter-widgets/controls",
      "model_module_version": "1.4.0",
      "model_name": "VBoxModel",
      "state": {
       "children": [
        "IPY_MODEL_36bd0a6fd9d1432c99fbd2e54638a012",
        "IPY_MODEL_533d25ce4abd4ccc87c87f3f2a2906c6"
       ],
       "layout": "IPY_MODEL_46aa2f47a9f2472686fb11169973f265"
      }
     },
     "57b6384e04164497a8f0a3abb020b703": {
      "model_module": "@jupyter-widgets/controls",
      "model_module_version": "1.4.0",
      "model_name": "TextareaModel",
      "state": {
       "layout": "IPY_MODEL_e77def91a27d43fe82bcc9c74e42fa90",
       "placeholder": "Example: IOC:m1.DMOV IOC:m3.RBV LNLS:ANEL:corrente.VAL",
       "style": "IPY_MODEL_7439ab4277df44c0addf4c5571454822",
       "value": "IOC:m1 IOC:m3"
      }
     },
     "58347ad3e11343518b4c0474ff31fe53": {
      "model_module": "@jupyter-widgets/controls",
      "model_module_version": "1.4.0",
      "model_name": "ButtonModel",
      "state": {
       "button_style": "success",
       "description": "Start Manual Alignment",
       "layout": "IPY_MODEL_397305fa97b746f1919d871e8dbaeee9",
       "style": "IPY_MODEL_28a0c0ac6e34496f984486ec07208980",
       "tooltip": "Click me"
      }
     },
     "585ab18990854b7e8655b3af2673f29a": {
      "model_module": "@jupyter-widgets/controls",
      "model_module_version": "1.4.0",
      "model_name": "DescriptionStyleModel",
      "state": {
       "description_width": "initial"
      }
     },
     "5888475d02d64143921f13d6ed6a47dc": {
      "model_module": "@jupyter-widgets/controls",
      "model_module_version": "1.4.0",
      "model_name": "DescriptionStyleModel",
      "state": {
       "description_width": ""
      }
     },
     "58e041e1a3e34d089843bd9a8d2111bd": {
      "model_module": "@jupyter-widgets/base",
      "model_module_version": "1.1.0",
      "model_name": "LayoutModel",
      "state": {}
     },
     "58effccc5de442988c8a5e5987743a73": {
      "model_module": "@jupyter-widgets/controls",
      "model_module_version": "1.4.0",
      "model_name": "ButtonStyleModel",
      "state": {}
     },
     "59134076cee34fc09e9ad1d400a81801": {
      "model_module": "@jupyter-widgets/output",
      "model_module_version": "1.0.0",
      "model_name": "OutputModel",
      "state": {
       "layout": "IPY_MODEL_a0ec26d9cefe4a028f011da0a28e6f04"
      }
     },
     "592898e306c14f7b8b483ab787d0ed11": {
      "model_module": "@jupyter-widgets/base",
      "model_module_version": "1.1.0",
      "model_name": "LayoutModel",
      "state": {}
     },
     "592c4e57ed4a40d5b2e889a661ddd007": {
      "model_module": "@jupyter-widgets/controls",
      "model_module_version": "1.4.0",
      "model_name": "DescriptionStyleModel",
      "state": {
       "description_width": ""
      }
     },
     "596cf4dad88b433c941b23faf538cf14": {
      "model_module": "@jupyter-widgets/controls",
      "model_module_version": "1.4.0",
      "model_name": "VBoxModel",
      "state": {
       "children": [
        "IPY_MODEL_4d4ad032c1f648938cc9d089040f0aa9",
        "IPY_MODEL_ff23f02988084142bf9d0037a86504f4"
       ],
       "layout": "IPY_MODEL_33e304ffd4164550b1cd7c361064ce3c"
      }
     },
     "5983374301e64b55a22a5b2da198709a": {
      "model_module": "@jupyter-widgets/controls",
      "model_module_version": "1.4.0",
      "model_name": "VBoxModel",
      "state": {
       "children": [
        "IPY_MODEL_d91479ecaa324a51b61e8864c184881a"
       ],
       "layout": "IPY_MODEL_2f94ca34251a44af80a91092062468fb"
      }
     },
     "59c7f95c2f03494c8c91356c1c5e42c0": {
      "model_module": "@jupyter-widgets/controls",
      "model_module_version": "1.4.0",
      "model_name": "CheckboxModel",
      "state": {
       "description": "Live plot in Jupyter: ",
       "disabled": false,
       "layout": "IPY_MODEL_de07193e0d534107888724bf7620dc3d",
       "style": "IPY_MODEL_034476312585417fb96f39004737cd3b",
       "value": false
      }
     },
     "59d015f1996b4023922895e8218d27e4": {
      "model_module": "@jupyter-widgets/controls",
      "model_module_version": "1.4.0",
      "model_name": "TextareaModel",
      "state": {
       "layout": "IPY_MODEL_5bbff27fc5524a80825bf2cad1d75279",
       "placeholder": "Example: IOC:m1 IOC:m3 LNLS:TEST:motor_g3",
       "style": "IPY_MODEL_e8d60ffebacc42569347393b4a9d05f4",
       "value": "IOC:m1"
      }
     },
     "5a2b5d4840084374b68206fed30b47bf": {
      "model_module": "@jupyter-widgets/controls",
      "model_module_version": "1.4.0",
      "model_name": "VBoxModel",
      "state": {
       "children": [
        "IPY_MODEL_baf607decb5e4e589d2662420a739dcc"
       ],
       "layout": "IPY_MODEL_bdf96934723b4e419c5f49528c13c468"
      }
     },
     "5a3943bdc0754a659c618b9890e7168d": {
      "model_module": "@jupyter-widgets/output",
      "model_module_version": "1.0.0",
      "model_name": "OutputModel",
      "state": {
       "layout": "IPY_MODEL_538ed400b35e432da7cc17b08b2cbd4f",
       "outputs": [
        {
         "name": "stdout",
         "output_type": "stream",
         "text": "2019-05-13 16:03:57 Starting motors IOC:m1 initialization\n2019-05-13 16:03:57 Motor: 'IOC:m1' succesfully created as 'IOC m1'\n2019-05-13 16:03:57 Error in initialziation of motors IOC:m1\n2019-05-13 16:03:57 name 'py4syn' is not defined\n"
        }
       ]
      }
     },
     "5a423a3f62014c97bb4c54af01138241": {
      "model_module": "@jupyter-widgets/controls",
      "model_module_version": "1.4.0",
      "model_name": "DescriptionStyleModel",
      "state": {
       "description_width": "initial"
      }
     },
     "5a9e66a12e0d47dfb0053aec32e221ac": {
      "model_module": "@jupyter-widgets/controls",
      "model_module_version": "1.4.0",
      "model_name": "ButtonModel",
      "state": {
       "button_style": "success",
       "description": "Start PV Monitoring",
       "layout": "IPY_MODEL_d93ac90fc5814a468a398ba5f456a2a3",
       "style": "IPY_MODEL_0f37e771c6484290b99cbf433d1adee5",
       "tooltip": "Click me"
      }
     },
     "5a9eef87304b4619b1050370bccc57d4": {
      "model_module": "@jupyter-widgets/controls",
      "model_module_version": "1.4.0",
      "model_name": "DescriptionStyleModel",
      "state": {
       "description_width": ""
      }
     },
     "5aab102975854c249394ad3110a43f1c": {
      "model_module": "@jupyter-widgets/controls",
      "model_module_version": "1.4.0",
      "model_name": "ButtonModel",
      "state": {
       "button_style": "success",
       "description": "Start PV Monitoring",
       "layout": "IPY_MODEL_95af696c27744d93b7eb93e6873f63b6",
       "style": "IPY_MODEL_f461b3454e3b42709a7b194bf2f4a0c6",
       "tooltip": "Click me"
      }
     },
     "5b23322d08614440880c0aeb709420c3": {
      "model_module": "@jupyter-widgets/controls",
      "model_module_version": "1.4.0",
      "model_name": "LabelModel",
      "state": {
       "layout": "IPY_MODEL_a8f585843ac843f381c222da7bbd826d",
       "style": "IPY_MODEL_67bc80949af04e6c857b08f35dc55907",
       "value": "10.0"
      }
     },
     "5b83dced6e5c4e75b967f2cf2fe65138": {
      "model_module": "@jupyter-widgets/controls",
      "model_module_version": "1.4.0",
      "model_name": "VBoxModel",
      "state": {
       "children": [
        "IPY_MODEL_47066b6f054b4fb28cd4717b0044030f"
       ],
       "layout": "IPY_MODEL_cfe613383c7e42abad76c179e3b594f0"
      }
     },
     "5b97e6ff5b774d70b3dfda761b9500fe": {
      "model_module": "@jupyter-widgets/base",
      "model_module_version": "1.1.0",
      "model_name": "LayoutModel",
      "state": {
       "width": "300px"
      }
     },
     "5bbff27fc5524a80825bf2cad1d75279": {
      "model_module": "@jupyter-widgets/base",
      "model_module_version": "1.1.0",
      "model_name": "LayoutModel",
      "state": {}
     },
     "5bc8e23c975745fab5d9bfd50a1f780a": {
      "model_module": "@jupyter-widgets/base",
      "model_module_version": "1.1.0",
      "model_name": "LayoutModel",
      "state": {}
     },
     "5be4ebe9cd4543b8bce1e510514807c0": {
      "model_module": "@jupyter-widgets/controls",
      "model_module_version": "1.4.0",
      "model_name": "HBoxModel",
      "state": {
       "children": [
        "IPY_MODEL_43037d4ed5034c9883759c17dd2c1c58",
        "IPY_MODEL_980d8009d7e94296972cfdb04f30d6f8"
       ],
       "layout": "IPY_MODEL_978b0245d4294a87878d38a639e3fade"
      }
     },
     "5c3324bb6f6243618280404e6759e9c7": {
      "model_module": "@jupyter-widgets/base",
      "model_module_version": "1.1.0",
      "model_name": "LayoutModel",
      "state": {}
     },
     "5d1bd9472c44471889f24656be109fee": {
      "model_module": "@jupyter-widgets/controls",
      "model_module_version": "1.4.0",
      "model_name": "LabelModel",
      "state": {
       "layout": "IPY_MODEL_405279c9ef73412baec2fc860ded14b6",
       "style": "IPY_MODEL_02563b5ff7eb4da98b31fe833e1885e5",
       "value": "No motors initilized to be showed."
      }
     },
     "5d27a843c9ec4dadb49b7481c326f79c": {
      "model_module": "@jupyter-widgets/base",
      "model_module_version": "1.1.0",
      "model_name": "LayoutModel",
      "state": {}
     },
     "5d53329dee014c7bb0d7f23c7e076ff0": {
      "model_module": "@jupyter-widgets/base",
      "model_module_version": "1.1.0",
      "model_name": "LayoutModel",
      "state": {}
     },
     "5e02cdaad12e4d66846d6ed0bea7b33a": {
      "model_module": "@jupyter-widgets/controls",
      "model_module_version": "1.4.0",
      "model_name": "VBoxModel",
      "state": {
       "children": [
        "IPY_MODEL_e4f5ccb327104dd3bf816c6a0dbd91ab",
        "IPY_MODEL_e73384b2452147b3a615598d78c1d399"
       ],
       "layout": "IPY_MODEL_79705690430c462b9e264f26b437ebed"
      }
     },
     "5e03b6cd85024c398e44f30ccbee7731": {
      "model_module": "@jupyter-widgets/controls",
      "model_module_version": "1.4.0",
      "model_name": "VBoxModel",
      "state": {
       "children": [
        "IPY_MODEL_e4cc47aba3b7468d9dd65c3bea9706cc",
        "IPY_MODEL_97362730a6bf4d1392d5c1e231493fa7"
       ],
       "layout": "IPY_MODEL_301fbbd671694e4e88799fea4a82b593"
      }
     },
     "5f2c9ff8e8624839be772c1fca2073b1": {
      "model_module": "@jupyter-widgets/controls",
      "model_module_version": "1.4.0",
      "model_name": "BoxModel",
      "state": {
       "layout": "IPY_MODEL_798aa222e4224850bb6478f43a3f3771"
      }
     },
     "5f4e4ad62ae94de78ae9241d83a44a41": {
      "model_module": "@jupyter-widgets/base",
      "model_module_version": "1.1.0",
      "model_name": "LayoutModel",
      "state": {}
     },
     "5f7bb10e23f24142b2920826115619e7": {
      "model_module": "@jupyter-widgets/controls",
      "model_module_version": "1.4.0",
      "model_name": "ButtonStyleModel",
      "state": {}
     },
     "60143fd7d0a048bea777fe2228d86b31": {
      "model_module": "@jupyter-widgets/base",
      "model_module_version": "1.1.0",
      "model_name": "LayoutModel",
      "state": {
       "width": "300px"
      }
     },
     "60221faa02b6443e9ce158f6ed9383c8": {
      "model_module": "@jupyter-widgets/controls",
      "model_module_version": "1.4.0",
      "model_name": "ButtonStyleModel",
      "state": {}
     },
     "60435ebbfeb34f14a7c79a570bc56249": {
      "model_module": "@jupyter-widgets/controls",
      "model_module_version": "1.4.0",
      "model_name": "ButtonModel",
      "state": {
       "button_style": "warning",
       "description": "Export Notebook to HTML",
       "layout": "IPY_MODEL_76fd9780326749f0a4124555bb33b87d",
       "style": "IPY_MODEL_ff0471f4bb624c6a92126f981f19aef7",
       "tooltip": "Click me"
      }
     },
     "60479148e9624e8e9e955da7368fc533": {
      "model_module": "@jupyter-widgets/controls",
      "model_module_version": "1.4.0",
      "model_name": "ButtonStyleModel",
      "state": {}
     },
     "60496ce5c83e4c51bc9c145b5f0b9bd0": {
      "model_module": "@jupyter-widgets/output",
      "model_module_version": "1.0.0",
      "model_name": "OutputModel",
      "state": {
       "layout": "IPY_MODEL_e6e77e9763a746319d353e8222f970cb",
       "outputs": [
        {
         "data": {
          "application/javascript": "IPython.notebook.save_checkpoint();",
          "text/plain": "<IPython.core.display.Javascript object>"
         },
         "metadata": {},
         "output_type": "display_data"
        }
       ]
      }
     },
     "60533580779643069bddc391c430df0d": {
      "model_module": "@jupyter-widgets/output",
      "model_module_version": "1.0.0",
      "model_name": "OutputModel",
      "state": {
       "layout": "IPY_MODEL_9525d6ccc5734de38a157f4ec3373f11"
      }
     },
     "6080e44a5b764da4984293acb13ca3cf": {
      "model_module": "@jupyter-widgets/controls",
      "model_module_version": "1.4.0",
      "model_name": "DescriptionStyleModel",
      "state": {
       "description_width": "initial"
      }
     },
     "60d7fe37d40d49698235ae72739bc1a5": {
      "model_module": "@jupyter-widgets/base",
      "model_module_version": "1.1.0",
      "model_name": "LayoutModel",
      "state": {}
     },
     "61191d1a8ffe436c9653f61f3142fb36": {
      "model_module": "@jupyter-widgets/base",
      "model_module_version": "1.1.0",
      "model_name": "LayoutModel",
      "state": {}
     },
     "613ac4ef1dbb4c309da3d1bfac05106c": {
      "model_module": "@jupyter-widgets/base",
      "model_module_version": "1.1.0",
      "model_name": "LayoutModel",
      "state": {}
     },
     "6168e47d4eac4a90ae8e9fd678dec832": {
      "model_module": "@jupyter-widgets/base",
      "model_module_version": "1.1.0",
      "model_name": "LayoutModel",
      "state": {}
     },
     "616ba5b315a24eb2b434c659531ad345": {
      "model_module": "@jupyter-widgets/base",
      "model_module_version": "1.1.0",
      "model_name": "LayoutModel",
      "state": {}
     },
     "61c6384f05b84c1b8b1b267330a748bf": {
      "model_module": "@jupyter-widgets/controls",
      "model_module_version": "1.4.0",
      "model_name": "VBoxModel",
      "state": {
       "children": [
        "IPY_MODEL_c998c8fe4c404a9a8e39a251346cf709",
        "IPY_MODEL_4ff3cd36b800469887a8ba57ff1dcaf6"
       ],
       "layout": "IPY_MODEL_cff4243efd9b4e1488b4f4123a8dd3f2"
      }
     },
     "61ce8d2258ff47aa9d858d9c54ac0813": {
      "model_module": "@jupyter-widgets/base",
      "model_module_version": "1.1.0",
      "model_name": "LayoutModel",
      "state": {}
     },
     "61e378a6ad3f4166b6d11d13adbdb906": {
      "model_module": "@jupyter-widgets/base",
      "model_module_version": "1.1.0",
      "model_name": "LayoutModel",
      "state": {
       "width": "300px"
      }
     },
     "6209d041aa0d4713986f23a051b2ca29": {
      "model_module": "@jupyter-widgets/controls",
      "model_module_version": "1.4.0",
      "model_name": "ButtonStyleModel",
      "state": {}
     },
     "6210fc3da6ba41f98a9d076b279f3acd": {
      "model_module": "@jupyter-widgets/controls",
      "model_module_version": "1.4.0",
      "model_name": "ButtonModel",
      "state": {
       "button_style": "success",
       "description": "Start Manual Alignment",
       "layout": "IPY_MODEL_f52cb00eafaa459f90c526127a9b9371",
       "style": "IPY_MODEL_a0574f629dc44a4db60ca4a2f62a763e",
       "tooltip": "Click me"
      }
     },
     "623b3fa9944b4e0aaaca92610b4c1413": {
      "buffers": [
       {
        "data": "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",
        "encoding": "base64",
        "path": [
         "value"
        ]
       }
      ],
      "model_module": "@jupyter-widgets/controls",
      "model_module_version": "1.4.0",
      "model_name": "ImageModel",
      "state": {
       "height": "35",
       "layout": "IPY_MODEL_f2828e772cf049edac2524e3572144a9",
       "value": {},
       "width": "35"
      }
     },
     "633a354f1f834a74a386b0ed1845d201": {
      "model_module": "@jupyter-widgets/controls",
      "model_module_version": "1.4.0",
      "model_name": "CheckboxModel",
      "state": {
       "disabled": false,
       "layout": "IPY_MODEL_55bcb01d6efb4e75abfe29bac4d8fb27",
       "style": "IPY_MODEL_5a9eef87304b4619b1050370bccc57d4",
       "value": false
      }
     },
     "63dd09e2549144ac864e3afc2699eb7a": {
      "model_module": "@jupyter-widgets/base",
      "model_module_version": "1.1.0",
      "model_name": "LayoutModel",
      "state": {}
     },
     "641d3dec421547e292f28d67a2a777c1": {
      "model_module": "@jupyter-widgets/base",
      "model_module_version": "1.1.0",
      "model_name": "LayoutModel",
      "state": {
       "width": "300px"
      }
     },
     "6456359bc4434b4b8614058cec6e0958": {
      "model_module": "@jupyter-widgets/base",
      "model_module_version": "1.1.0",
      "model_name": "LayoutModel",
      "state": {}
     },
     "6458b66b09f84e86950edc9e91306224": {
      "model_module": "@jupyter-widgets/base",
      "model_module_version": "1.1.0",
      "model_name": "LayoutModel",
      "state": {
       "width": "300px"
      }
     },
     "648b433d132e4c228fa14a2bf1ff0407": {
      "model_module": "@jupyter-widgets/base",
      "model_module_version": "1.1.0",
      "model_name": "LayoutModel",
      "state": {}
     },
     "649bb03c31544695953b466836a32d04": {
      "model_module": "@jupyter-widgets/controls",
      "model_module_version": "1.4.0",
      "model_name": "DescriptionStyleModel",
      "state": {
       "description_width": ""
      }
     },
     "653a1fe70c074c04a52be636ab1fd6a7": {
      "model_module": "@jupyter-widgets/controls",
      "model_module_version": "1.4.0",
      "model_name": "DescriptionStyleModel",
      "state": {
       "description_width": "initial"
      }
     },
     "658037c85a9749ea9e163c8c929b8375": {
      "model_module": "@jupyter-widgets/controls",
      "model_module_version": "1.4.0",
      "model_name": "VBoxModel",
      "state": {
       "children": [
        "IPY_MODEL_6dd7e50299ec422bae674fa87ed277fa"
       ],
       "layout": "IPY_MODEL_03817220bfe0481b90891b74a04b56b9"
      }
     },
     "65a79e5d3da0443aba134092ffc62d58": {
      "buffers": [
       {
        "data": "AAAAAAAAIEAAAAAAAAAIQAAAAAAAACBAAAAAAAAAEEAAAAAAAAAAQA==",
        "encoding": "base64",
        "path": [
         "_data",
         0,
         "y",
         "value"
        ]
       },
       {
        "data": "AAAAAAAAIEAAAAAAAAAIQAAAAAAAACBAAAAAAAAAEEAAAAAAAAAAQA==",
        "encoding": "base64",
        "path": [
         "_data",
         1,
         "y",
         "value"
        ]
       }
      ],
      "model_module": "plotlywidget",
      "model_module_version": "0.8.0",
      "model_name": "FigureModel",
      "state": {
       "_config": {
        "plotlyServerURL": "https://plot.ly"
       },
       "_data": [
        {
         "mode": "lines+markers",
         "name": "line1",
         "type": "scatter",
         "uid": "281dccac-c5f4-4f34-b6ad-97eaf4235e89",
         "x": [
          0,
          1,
          2,
          3,
          4
         ],
         "xaxis": "x",
         "y": {
          "dtype": "float64",
          "shape": [
           5
          ],
          "value": {}
         },
         "yaxis": "y"
        },
        {
         "mode": "lines+markers",
         "name": "line2",
         "type": "scatter",
         "uid": "77b2c24a-8813-4a31-882f-577f3371b0cd",
         "x": [
          0,
          1,
          2,
          3,
          4
         ],
         "xaxis": "x2",
         "y": {
          "dtype": "float64",
          "shape": [
           5
          ],
          "value": {}
         },
         "yaxis": "y2"
        }
       ],
       "_js2py_restyle": {},
       "_js2py_update": {},
       "_last_layout_edit_id": 8,
       "_last_trace_edit_id": 7,
       "_layout": {
        "autosize": true,
        "plot_bgcolor": "rgb(230, 230, 230)",
        "template": {},
        "title": {
         "text": "Scan"
        },
        "xaxis": {
         "anchor": "y",
         "domain": [
          0,
          1
         ]
        },
        "xaxis2": {
         "anchor": "y2",
         "domain": [
          0,
          1
         ]
        },
        "yaxis": {
         "anchor": "x",
         "domain": [
          0.575,
          1
         ]
        },
        "yaxis2": {
         "anchor": "x2",
         "domain": [
          0,
          0.425
         ]
        }
       },
       "_model_module_version": "0.8.0",
       "_py2js_animate": {},
       "_py2js_deleteTraces": {},
       "_py2js_moveTraces": {},
       "_py2js_removeLayoutProps": {},
       "_py2js_removeTraceProps": {},
       "_view_count": 0,
       "_view_module_version": "0.8.0"
      }
     },
     "6614d8615b7d47e4abf961f98c9287db": {
      "model_module": "@jupyter-widgets/controls",
      "model_module_version": "1.4.0",
      "model_name": "CheckboxModel",
      "state": {
       "description": "Print log in Notebook's cells",
       "disabled": false,
       "layout": "IPY_MODEL_c0a0ceb3826a4fcbaf63fbac964e1cf1",
       "style": "IPY_MODEL_56218783d9014deda46ddcc4be9f4e4e",
       "value": true
      }
     },
     "662595cbb23b4ba7b10c321847e5fba7": {
      "model_module": "@jupyter-widgets/base",
      "model_module_version": "1.1.0",
      "model_name": "LayoutModel",
      "state": {}
     },
     "662ff4c383f3439b88582a836ab6b703": {
      "model_module": "@jupyter-widgets/controls",
      "model_module_version": "1.4.0",
      "model_name": "VBoxModel",
      "state": {
       "children": [
        "IPY_MODEL_4ee93139248f4a6fa5c1764150c4355d",
        "IPY_MODEL_c7d4dbf376214e4fbae67157b7c3c940"
       ],
       "layout": "IPY_MODEL_9f10fc9e32a24f70a085cb2fbd9ae822"
      }
     },
     "6631fb9266a148d0a2a02380b6af77e5": {
      "model_module": "@jupyter-widgets/controls",
      "model_module_version": "1.4.0",
      "model_name": "LabelModel",
      "state": {
       "layout": "IPY_MODEL_1f928c74e55d44858e08ddd6f21a8325",
       "style": "IPY_MODEL_649bb03c31544695953b466836a32d04",
       "value": "No motors initilized to be showed."
      }
     },
     "664f084a0510494e964f2105a870fac7": {
      "model_module": "@jupyter-widgets/controls",
      "model_module_version": "1.4.0",
      "model_name": "DescriptionStyleModel",
      "state": {
       "description_width": "initial"
      }
     },
     "669b301119c049fb8f6b28d32ab4a11a": {
      "model_module": "@jupyter-widgets/controls",
      "model_module_version": "1.4.0",
      "model_name": "ButtonStyleModel",
      "state": {}
     },
     "66a715e7b4d2430c80fda59b8d8a4aa8": {
      "model_module": "@jupyter-widgets/controls",
      "model_module_version": "1.4.0",
      "model_name": "ButtonModel",
      "state": {
       "button_style": "success",
       "description": "Start Manual Alignment",
       "layout": "IPY_MODEL_3c579a75190445edb74d1c13444e5b0f",
       "style": "IPY_MODEL_0686938e0563435f8c441596f506b33a",
       "tooltip": "Click me"
      }
     },
     "66c1cebe560240f2ab16dbdeb5b6d3f7": {
      "model_module": "@jupyter-widgets/base",
      "model_module_version": "1.1.0",
      "model_name": "LayoutModel",
      "state": {
       "height": "40px",
       "width": "40px"
      }
     },
     "6755b3c6863d4964a94da9202b2ad650": {
      "model_module": "@jupyter-widgets/controls",
      "model_module_version": "1.4.0",
      "model_name": "ButtonModel",
      "state": {
       "button_style": "success",
       "description": "Start Motor Initializaton",
       "layout": "IPY_MODEL_f8550c588cc7465caad5d19be526e9f2",
       "style": "IPY_MODEL_f2cc0fa088a24454948e9a91ed3aeae5",
       "tooltip": "Click me"
      }
     },
     "6755cf9babe94ed295fabc6d997a044d": {
      "model_module": "@jupyter-widgets/output",
      "model_module_version": "1.0.0",
      "model_name": "OutputModel",
      "state": {
       "layout": "IPY_MODEL_868ce145322e4bbf97c7a68c5c119c23"
      }
     },
     "678bc3324ffe4d7da075f82132148f25": {
      "model_module": "@jupyter-widgets/base",
      "model_module_version": "1.1.0",
      "model_name": "LayoutModel",
      "state": {}
     },
     "6791abc4c4994ff987accee0023666a3": {
      "model_module": "@jupyter-widgets/base",
      "model_module_version": "1.1.0",
      "model_name": "LayoutModel",
      "state": {
       "width": "300px"
      }
     },
     "6792c8295a0f481fb50f89a4c447bfba": {
      "model_module": "@jupyter-widgets/controls",
      "model_module_version": "1.4.0",
      "model_name": "VBoxModel",
      "state": {
       "children": [
        "IPY_MODEL_117b919fbbda4bbaa2f9bf31f1e16e1c",
        "IPY_MODEL_f1592eefb1054811a60f802ffa29fbaa"
       ],
       "layout": "IPY_MODEL_e37dc11674aa4ae6a747f60a7beca610"
      }
     },
     "6794859b175c4fac90af701deb20449c": {
      "buffers": [
       {
        "data": "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",
        "encoding": "base64",
        "path": [
         "value"
        ]
       }
      ],
      "model_module": "@jupyter-widgets/controls",
      "model_module_version": "1.4.0",
      "model_name": "ImageModel",
      "state": {
       "height": "35",
       "layout": "IPY_MODEL_de895fd7c88a485fa1132f5170a1cbb2",
       "value": {},
       "width": "35"
      }
     },
     "67a190ef0bc44057b5886c99b1633fd9": {
      "model_module": "@jupyter-widgets/output",
      "model_module_version": "1.0.0",
      "model_name": "OutputModel",
      "state": {
       "layout": "IPY_MODEL_6d05481ad50049babe74ac856e954903"
      }
     },
     "67b6b73830b44d6daa36beba5d5af33f": {
      "model_module": "@jupyter-widgets/controls",
      "model_module_version": "1.4.0",
      "model_name": "DescriptionStyleModel",
      "state": {
       "description_width": ""
      }
     },
     "67ba8632e274455fa76a35beb53d5425": {
      "model_module": "@jupyter-widgets/controls",
      "model_module_version": "1.4.0",
      "model_name": "VBoxModel",
      "state": {
       "children": [
        "IPY_MODEL_3699415074874c958cf7b3aa5691e2c5"
       ],
       "layout": "IPY_MODEL_adc0aa64f8324dcb9dc38b58931870a4"
      }
     },
     "67bc80949af04e6c857b08f35dc55907": {
      "model_module": "@jupyter-widgets/controls",
      "model_module_version": "1.4.0",
      "model_name": "DescriptionStyleModel",
      "state": {
       "description_width": ""
      }
     },
     "67cc9d505824432aa057b06996f24f66": {
      "buffers": [
       {
        "data": "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",
        "encoding": "base64",
        "path": [
         "value"
        ]
       }
      ],
      "model_module": "@jupyter-widgets/controls",
      "model_module_version": "1.4.0",
      "model_name": "ImageModel",
      "state": {
       "height": "35",
       "layout": "IPY_MODEL_12426a76a4174b1cae3b03f70e22d852",
       "value": {},
       "width": "35"
      }
     },
     "67fc2fbc82b74da68dfc5f231978191d": {
      "model_module": "@jupyter-widgets/base",
      "model_module_version": "1.1.0",
      "model_name": "LayoutModel",
      "state": {
       "width": "300px"
      }
     },
     "68233f5b803c48d6a414b6d6e8d9d1e0": {
      "model_module": "@jupyter-widgets/base",
      "model_module_version": "1.1.0",
      "model_name": "LayoutModel",
      "state": {}
     },
     "6880d79452b44536874ccd2fc2f68ffa": {
      "model_module": "@jupyter-widgets/controls",
      "model_module_version": "1.4.0",
      "model_name": "VBoxModel",
      "state": {
       "children": [
        "IPY_MODEL_fb92eecfa6cc4d4ab76eaae8cf0971b0"
       ],
       "layout": "IPY_MODEL_60d7fe37d40d49698235ae72739bc1a5"
      }
     },
     "68a4a1e91a0043e68e62bbe025b6f3d0": {
      "model_module": "@jupyter-widgets/base",
      "model_module_version": "1.1.0",
      "model_name": "LayoutModel",
      "state": {
       "height": "40px",
       "width": "40px"
      }
     },
     "69343e2bae5340edbce6ce290c8c704e": {
      "model_module": "@jupyter-widgets/base",
      "model_module_version": "1.1.0",
      "model_name": "LayoutModel",
      "state": {}
     },
     "698d9c99e8f94714b17e87e1a9618287": {
      "buffers": [
       {
        "data": "AAAAAAAAEEAAAAAAAAAAQAAAAAAAABRAAAAAAAAAAEAAAAAAAAAYQA==",
        "encoding": "base64",
        "path": [
         "_data",
         0,
         "y",
         "value"
        ]
       },
       {
        "data": "AAAAAAAAEEAAAAAAAAAAQAAAAAAAABRAAAAAAAAAAEAAAAAAAAAYQA==",
        "encoding": "base64",
        "path": [
         "_data",
         1,
         "y",
         "value"
        ]
       }
      ],
      "model_module": "plotlywidget",
      "model_module_version": "0.8.0",
      "model_name": "FigureModel",
      "state": {
       "_config": {
        "plotlyServerURL": "https://plot.ly"
       },
       "_data": [
        {
         "mode": "lines+markers",
         "name": "line1",
         "type": "scatter",
         "uid": "b37640ed-e5f0-4d23-964f-e0ea9a2b67d6",
         "x": [
          0,
          1,
          2,
          3,
          4
         ],
         "xaxis": "x",
         "y": {
          "dtype": "float64",
          "shape": [
           5
          ],
          "value": {}
         },
         "yaxis": "y"
        },
        {
         "mode": "lines+markers",
         "name": "line2",
         "type": "scatter",
         "uid": "cb23e213-bd5f-4272-b125-71ed1b6f7581",
         "x": [
          0,
          1,
          2,
          3,
          4
         ],
         "xaxis": "x2",
         "y": {
          "dtype": "float64",
          "shape": [
           5
          ],
          "value": {}
         },
         "yaxis": "y2"
        }
       ],
       "_js2py_pointsCallback": {},
       "_js2py_restyle": {},
       "_js2py_update": {},
       "_last_layout_edit_id": 8,
       "_last_trace_edit_id": 7,
       "_layout": {
        "autosize": true,
        "plot_bgcolor": "rgb(230, 230, 230)",
        "template": {},
        "title": {
         "text": "Scan"
        },
        "xaxis": {
         "anchor": "y",
         "domain": [
          0,
          1
         ]
        },
        "xaxis2": {
         "anchor": "y2",
         "domain": [
          0,
          1
         ]
        },
        "yaxis": {
         "anchor": "x",
         "domain": [
          0.575,
          1
         ]
        },
        "yaxis2": {
         "anchor": "x2",
         "domain": [
          0,
          0.425
         ]
        }
       },
       "_model_module_version": "0.8.0",
       "_py2js_animate": {},
       "_py2js_deleteTraces": {},
       "_py2js_moveTraces": {},
       "_py2js_removeLayoutProps": {},
       "_py2js_removeTraceProps": {},
       "_view_count": 0,
       "_view_module_version": "0.8.0"
      }
     },
     "69978505164d4cc89fa2e94908e15327": {
      "model_module": "@jupyter-widgets/controls",
      "model_module_version": "1.4.0",
      "model_name": "DescriptionStyleModel",
      "state": {
       "description_width": "initial"
      }
     },
     "69bf84d1db6e440ba28fa9c2e82d1260": {
      "model_module": "@jupyter-widgets/controls",
      "model_module_version": "1.4.0",
      "model_name": "DescriptionStyleModel",
      "state": {
       "description_width": ""
      }
     },
     "69cb252fee784ab3b1f4550925cfbc99": {
      "model_module": "@jupyter-widgets/controls",
      "model_module_version": "1.4.0",
      "model_name": "VBoxModel",
      "state": {
       "children": [
        "IPY_MODEL_f216372d530c41f7a04a6c79b2a7333b"
       ],
       "layout": "IPY_MODEL_23ff0376547f4a7c9d8c7f4b055fac85"
      }
     },
     "69daf959377e47dcbb5889a43daac5cc": {
      "model_module": "@jupyter-widgets/base",
      "model_module_version": "1.1.0",
      "model_name": "LayoutModel",
      "state": {}
     },
     "6a3e5f8cc8aa4c08a3a40b9ab01a790e": {
      "model_module": "@jupyter-widgets/base",
      "model_module_version": "1.1.0",
      "model_name": "LayoutModel",
      "state": {}
     },
     "6a8cfb6d8e6c43df93b106abfa0c6b9d": {
      "model_module": "@jupyter-widgets/base",
      "model_module_version": "1.1.0",
      "model_name": "LayoutModel",
      "state": {
       "height": "40px",
       "width": "40px"
      }
     },
     "6aaf3690aa59414ea5e0b03ca9c471d6": {
      "model_module": "@jupyter-widgets/controls",
      "model_module_version": "1.4.0",
      "model_name": "DescriptionStyleModel",
      "state": {
       "description_width": ""
      }
     },
     "6b5382c61c734645a67d8ddf7abcfcf4": {
      "model_module": "@jupyter-widgets/base",
      "model_module_version": "1.1.0",
      "model_name": "LayoutModel",
      "state": {}
     },
     "6bf640be15a14d2d9045259c32d3df06": {
      "model_module": "@jupyter-widgets/controls",
      "model_module_version": "1.4.0",
      "model_name": "ButtonStyleModel",
      "state": {}
     },
     "6c0bdcfe728d4609a949be92c10e8d7f": {
      "model_module": "@jupyter-widgets/output",
      "model_module_version": "1.0.0",
      "model_name": "OutputModel",
      "state": {
       "layout": "IPY_MODEL_6f6cbb495ba146fcb3394efdb10d45e0"
      }
     },
     "6c70f7840bbf4900aff7d03a6e30fa54": {
      "model_module": "@jupyter-widgets/base",
      "model_module_version": "1.1.0",
      "model_name": "LayoutModel",
      "state": {}
     },
     "6cdd14946ed24175b47526cee5a0c8d2": {
      "model_module": "@jupyter-widgets/base",
      "model_module_version": "1.1.0",
      "model_name": "LayoutModel",
      "state": {
       "width": "300px"
      }
     },
     "6d05481ad50049babe74ac856e954903": {
      "model_module": "@jupyter-widgets/base",
      "model_module_version": "1.1.0",
      "model_name": "LayoutModel",
      "state": {}
     },
     "6d11fbf5e7e948fe896fa66416b1746b": {
      "model_module": "@jupyter-widgets/controls",
      "model_module_version": "1.4.0",
      "model_name": "LabelModel",
      "state": {
       "layout": "IPY_MODEL_2e6c90311e2f4762a28ac5aeb2173277",
       "style": "IPY_MODEL_a84be4a6addb4515b0a26f3613796ef6",
       "value": "No motors initilized to be showed."
      }
     },
     "6d438553e46d449983d7cc75b494e012": {
      "model_module": "@jupyter-widgets/base",
      "model_module_version": "1.1.0",
      "model_name": "LayoutModel",
      "state": {}
     },
     "6dcf096fcf17482e86587fb963a4ff51": {
      "model_module": "@jupyter-widgets/base",
      "model_module_version": "1.1.0",
      "model_name": "LayoutModel",
      "state": {}
     },
     "6dd7e50299ec422bae674fa87ed277fa": {
      "model_module": "@jupyter-widgets/controls",
      "model_module_version": "1.4.0",
      "model_name": "ButtonModel",
      "state": {
       "button_style": "success",
       "description": "Start Manual Alignment",
       "layout": "IPY_MODEL_b3abc7b4904243428c4647eadb5302b1",
       "style": "IPY_MODEL_f8100c4eba4b4c4e9d12b8d0a667351e",
       "tooltip": "Click me"
      }
     },
     "6ddd457be2564ac797bb8c2c69671a9c": {
      "model_module": "@jupyter-widgets/controls",
      "model_module_version": "1.4.0",
      "model_name": "DescriptionStyleModel",
      "state": {
       "description_width": ""
      }
     },
     "6e609b32956f4f88ab383f2148a4778e": {
      "model_module": "@jupyter-widgets/base",
      "model_module_version": "1.1.0",
      "model_name": "LayoutModel",
      "state": {}
     },
     "6e85f12ecc0d46f18c1500412901674d": {
      "model_module": "@jupyter-widgets/base",
      "model_module_version": "1.1.0",
      "model_name": "LayoutModel",
      "state": {}
     },
     "6e929ab1aa0c4534b99b0a7fdc5837f3": {
      "model_module": "@jupyter-widgets/base",
      "model_module_version": "1.1.0",
      "model_name": "LayoutModel",
      "state": {}
     },
     "6f20c308ed9e444cb72302032ca98432": {
      "model_module": "@jupyter-widgets/controls",
      "model_module_version": "1.4.0",
      "model_name": "VBoxModel",
      "state": {
       "children": [
        "IPY_MODEL_4bf1da3617a443f0b683486786ed38fa"
       ],
       "layout": "IPY_MODEL_04d304d27d6c4634967631ca08bb6161"
      }
     },
     "6f2ca2ea9eab48ca9c820b887798b119": {
      "model_module": "@jupyter-widgets/controls",
      "model_module_version": "1.4.0",
      "model_name": "HBoxModel",
      "state": {
       "children": [
        "IPY_MODEL_d961d0a1a5be4e27ad8b349b3586cb8c",
        "IPY_MODEL_09f6c55c70c54fb4971d3f392c35ff79"
       ],
       "layout": "IPY_MODEL_277e687d9377414daac26ede4c4c739e"
      }
     },
     "6f6cbb495ba146fcb3394efdb10d45e0": {
      "model_module": "@jupyter-widgets/base",
      "model_module_version": "1.1.0",
      "model_name": "LayoutModel",
      "state": {}
     },
     "6f77d095645d4b5da4524f8db89b15f2": {
      "model_module": "@jupyter-widgets/controls",
      "model_module_version": "1.4.0",
      "model_name": "CheckboxModel",
      "state": {
       "disabled": false,
       "layout": "IPY_MODEL_75183a3b6dc4416da519a348c0190a88",
       "style": "IPY_MODEL_832dce4eeb87462f90fe49746aebe032",
       "value": false
      }
     },
     "6f90166ea7a046708a0664fe7c87f9db": {
      "model_module": "@jupyter-widgets/controls",
      "model_module_version": "1.4.0",
      "model_name": "ButtonModel",
      "state": {
       "button_style": "success",
       "description": "Start PV Monitoring",
       "layout": "IPY_MODEL_fca212af6897437f8c26486d56272f2e",
       "style": "IPY_MODEL_b16049a1e295476a9738ca5f5138a81f",
       "tooltip": "Click me"
      }
     },
     "6feae3d5a164411e84eabc7d1909ea49": {
      "model_module": "@jupyter-widgets/base",
      "model_module_version": "1.1.0",
      "model_name": "LayoutModel",
      "state": {}
     },
     "703599dc64f84f4991ba590a2d9ba895": {
      "model_module": "@jupyter-widgets/controls",
      "model_module_version": "1.4.0",
      "model_name": "CheckboxModel",
      "state": {
       "description": "Plot scan-gui graph instead of Jupyter's: ",
       "disabled": true,
       "layout": "IPY_MODEL_b6f915f2de234fe0a97fc8214a97b7d6",
       "style": "IPY_MODEL_21e25351db134aaf8de9be56decaa9d4",
       "value": false
      }
     },
     "705b6c0d4ca04e4eabd9fc068bd72e8a": {
      "model_module": "@jupyter-widgets/base",
      "model_module_version": "1.1.0",
      "model_name": "LayoutModel",
      "state": {
       "width": "300px"
      }
     },
     "70623e1c6c9b4274a49d4b62ca852a2b": {
      "model_module": "@jupyter-widgets/base",
      "model_module_version": "1.1.0",
      "model_name": "LayoutModel",
      "state": {}
     },
     "7085b6a9ef0c44e3946ab445e52e60c2": {
      "model_module": "@jupyter-widgets/base",
      "model_module_version": "1.1.0",
      "model_name": "LayoutModel",
      "state": {}
     },
     "70c92a10967f4996974b8d5bf716b084": {
      "model_module": "@jupyter-widgets/base",
      "model_module_version": "1.1.0",
      "model_name": "LayoutModel",
      "state": {}
     },
     "718458522dfd4669bfc84a8a85c780f0": {
      "model_module": "@jupyter-widgets/controls",
      "model_module_version": "1.4.0",
      "model_name": "ButtonModel",
      "state": {
       "button_style": "success",
       "description": "Start Manual Alignment",
       "layout": "IPY_MODEL_92c1185c0f834c46ad68de3378bcfe8d",
       "style": "IPY_MODEL_358efd1e46ee48a99c1c4b497f98dca2",
       "tooltip": "Click me"
      }
     },
     "71bb841a15d6457f89a718495ee7cddc": {
      "model_module": "@jupyter-widgets/base",
      "model_module_version": "1.1.0",
      "model_name": "LayoutModel",
      "state": {
       "width": "300px"
      }
     },
     "71db55d975944fb387261bf91fb411b8": {
      "model_module": "@jupyter-widgets/base",
      "model_module_version": "1.1.0",
      "model_name": "LayoutModel",
      "state": {}
     },
     "7221f61ff9724f14a9154c22a92472ad": {
      "model_module": "@jupyter-widgets/base",
      "model_module_version": "1.1.0",
      "model_name": "LayoutModel",
      "state": {
       "width": "300px"
      }
     },
     "7261c587039b4ecab44930e2695421b3": {
      "model_module": "@jupyter-widgets/controls",
      "model_module_version": "1.4.0",
      "model_name": "DescriptionStyleModel",
      "state": {
       "description_width": ""
      }
     },
     "73190a574a3e4d4a8ed37df5df7d3a24": {
      "model_module": "@jupyter-widgets/controls",
      "model_module_version": "1.4.0",
      "model_name": "VBoxModel",
      "state": {
       "children": [
        "IPY_MODEL_6614d8615b7d47e4abf961f98c9287db",
        "IPY_MODEL_88c8aa97d6cc4f9a8bee2c19d0f2f176"
       ],
       "layout": "IPY_MODEL_5125ffdbaede45828f302658729eb8da"
      }
     },
     "7346b88c0a394991b3d205e0a5c84da7": {
      "model_module": "@jupyter-widgets/output",
      "model_module_version": "1.0.0",
      "model_name": "OutputModel",
      "state": {
       "layout": "IPY_MODEL_1da58a8b36ca43688517e533b9739247"
      }
     },
     "73540b7530314d92a8b34df8f1e46654": {
      "model_module": "@jupyter-widgets/output",
      "model_module_version": "1.0.0",
      "model_name": "OutputModel",
      "state": {
       "layout": "IPY_MODEL_1aebbceb3ff2420b84325e0aa75e09af"
      }
     },
     "7396a5195af1472dbcc69c0b9e3dc130": {
      "model_module": "@jupyter-widgets/base",
      "model_module_version": "1.1.0",
      "model_name": "LayoutModel",
      "state": {}
     },
     "73d206e415e247b688ff82edf9ac9772": {
      "model_module": "@jupyter-widgets/base",
      "model_module_version": "1.1.0",
      "model_name": "LayoutModel",
      "state": {}
     },
     "73efa3875cf445828e7a844c39553043": {
      "model_module": "@jupyter-widgets/controls",
      "model_module_version": "1.4.0",
      "model_name": "CheckboxModel",
      "state": {
       "description": "Print log in Notebook's cells",
       "disabled": false,
       "layout": "IPY_MODEL_3f0462690ed6442a85555172033e2bd3",
       "style": "IPY_MODEL_cda45bcac3c74d538367826405797b02",
       "value": false
      }
     },
     "73fa86903b4542c58dcead26b616d12b": {
      "model_module": "@jupyter-widgets/controls",
      "model_module_version": "1.4.0",
      "model_name": "ButtonModel",
      "state": {
       "button_style": "warning",
       "description": "Export Notebook to PDF",
       "layout": "IPY_MODEL_641d3dec421547e292f28d67a2a777c1",
       "style": "IPY_MODEL_df8547168ff7486d99f42184dec1d5bb",
       "tooltip": "Click me"
      }
     },
     "7439ab4277df44c0addf4c5571454822": {
      "model_module": "@jupyter-widgets/controls",
      "model_module_version": "1.4.0",
      "model_name": "DescriptionStyleModel",
      "state": {
       "description_width": ""
      }
     },
     "744ac900aa3d40ea8e893aa48fb392ad": {
      "model_module": "@jupyter-widgets/controls",
      "model_module_version": "1.4.0",
      "model_name": "ButtonModel",
      "state": {
       "button_style": "success",
       "description": "Start Manual Alignment",
       "layout": "IPY_MODEL_b9921bf8f58c4b67aef171196d78a73d",
       "style": "IPY_MODEL_7e18df6e68f9469fa854f093965c653f",
       "tooltip": "Click me"
      }
     },
     "745f5d0921694fabb24c5aa32ed7b2e4": {
      "model_module": "@jupyter-widgets/controls",
      "model_module_version": "1.4.0",
      "model_name": "DescriptionStyleModel",
      "state": {
       "description_width": ""
      }
     },
     "75183a3b6dc4416da519a348c0190a88": {
      "model_module": "@jupyter-widgets/base",
      "model_module_version": "1.1.0",
      "model_name": "LayoutModel",
      "state": {}
     },
     "7525e7595c4c4f8eb91981f8e4f5c5b8": {
      "model_module": "@jupyter-widgets/controls",
      "model_module_version": "1.4.0",
      "model_name": "VBoxModel",
      "state": {
       "children": [
        "IPY_MODEL_78ee7e270907453d946fde0cf5f966fa",
        "IPY_MODEL_1122748ff41643e79d161bbff5965086"
       ],
       "layout": "IPY_MODEL_e73a054029d449428a06300735ffb598"
      }
     },
     "7555b816f8b64d95bbd878f437db4e99": {
      "model_module": "@jupyter-widgets/controls",
      "model_module_version": "1.4.0",
      "model_name": "DescriptionStyleModel",
      "state": {
       "description_width": ""
      }
     },
     "755cfb9819844a2d9397febff81a5089": {
      "model_module": "@jupyter-widgets/controls",
      "model_module_version": "1.4.0",
      "model_name": "DescriptionStyleModel",
      "state": {
       "description_width": "initial"
      }
     },
     "75851fab0f224841a66d01df12d98dbc": {
      "model_module": "@jupyter-widgets/output",
      "model_module_version": "1.0.0",
      "model_name": "OutputModel",
      "state": {
       "layout": "IPY_MODEL_efb631af9d124702ac2ba3da1993fdad"
      }
     },
     "75857f0830044b31b3654270e8753e87": {
      "model_module": "@jupyter-widgets/base",
      "model_module_version": "1.1.0",
      "model_name": "LayoutModel",
      "state": {}
     },
     "7598bfba61e144eab8da09ee3bce4807": {
      "model_module": "@jupyter-widgets/base",
      "model_module_version": "1.1.0",
      "model_name": "LayoutModel",
      "state": {}
     },
     "75990a6fba8643b0957813093376610b": {
      "model_module": "@jupyter-widgets/controls",
      "model_module_version": "1.4.0",
      "model_name": "ButtonModel",
      "state": {
       "button_style": "success",
       "description": "Start Motor Initializaton",
       "layout": "IPY_MODEL_e59b972d46394dd685d2c2eb908bc617",
       "style": "IPY_MODEL_1c6fc14f1ba54604bf9b40525c791f4c",
       "tooltip": "Click me"
      }
     },
     "75be3c9e02e84f6fa73c1166363f27ce": {
      "model_module": "@jupyter-widgets/controls",
      "model_module_version": "1.4.0",
      "model_name": "TextareaModel",
      "state": {
       "layout": "IPY_MODEL_eb239913664649869172a0721d6b0184",
       "placeholder": "Example: IOC:m1.DMOV IOC:m3.RBV LNLS:ANEL:corrente.VAL",
       "style": "IPY_MODEL_48194383db5e4e028bb6808d1e629663",
       "value": "IOC:m1"
      }
     },
     "76173ad11a9844f79bfb4ee8796dfdce": {
      "model_module": "@jupyter-widgets/controls",
      "model_module_version": "1.4.0",
      "model_name": "ButtonStyleModel",
      "state": {}
     },
     "762e61c709d940bf9b7488b184283b87": {
      "model_module": "@jupyter-widgets/base",
      "model_module_version": "1.1.0",
      "model_name": "LayoutModel",
      "state": {}
     },
     "7636c162329e4fd4a8597737a62c881c": {
      "model_module": "@jupyter-widgets/controls",
      "model_module_version": "1.4.0",
      "model_name": "ButtonStyleModel",
      "state": {}
     },
     "76588d5065544c15a0670551b68cd124": {
      "model_module": "@jupyter-widgets/base",
      "model_module_version": "1.1.0",
      "model_name": "LayoutModel",
      "state": {
       "height": "40px",
       "width": "40px"
      }
     },
     "767c8347216d46a89ad1f37204cff4f6": {
      "model_module": "@jupyter-widgets/base",
      "model_module_version": "1.1.0",
      "model_name": "LayoutModel",
      "state": {
       "width": "300px"
      }
     },
     "767f82c3394e42e1a65217db9d3ef8f9": {
      "model_module": "@jupyter-widgets/controls",
      "model_module_version": "1.4.0",
      "model_name": "DescriptionStyleModel",
      "state": {
       "description_width": "initial"
      }
     },
     "769b45aa44894739b617547670335dd1": {
      "model_module": "@jupyter-widgets/base",
      "model_module_version": "1.1.0",
      "model_name": "LayoutModel",
      "state": {
       "width": "300px"
      }
     },
     "76c3cf491b8d4c4998229c708215c85d": {
      "model_module": "@jupyter-widgets/controls",
      "model_module_version": "1.4.0",
      "model_name": "DescriptionStyleModel",
      "state": {
       "description_width": ""
      }
     },
     "76ce9a0465f047bf8f55d35be530548a": {
      "model_module": "@jupyter-widgets/controls",
      "model_module_version": "1.4.0",
      "model_name": "ButtonStyleModel",
      "state": {}
     },
     "76d7dc63a55142a8882098703b09f1c7": {
      "model_module": "@jupyter-widgets/controls",
      "model_module_version": "1.4.0",
      "model_name": "VBoxModel",
      "state": {
       "children": [
        "IPY_MODEL_b39e4b591ad248fa872c5336c6c25fd9"
       ],
       "layout": "IPY_MODEL_d1b4a5381b024b0a9611ff1b1461c45d"
      }
     },
     "76fd9780326749f0a4124555bb33b87d": {
      "model_module": "@jupyter-widgets/base",
      "model_module_version": "1.1.0",
      "model_name": "LayoutModel",
      "state": {
       "width": "300px"
      }
     },
     "7705ccfd04254aa187696cb2893f510c": {
      "model_module": "@jupyter-widgets/controls",
      "model_module_version": "1.4.0",
      "model_name": "CheckboxModel",
      "state": {
       "disabled": false,
       "layout": "IPY_MODEL_d3bbc58c8c3f4bac9eb6fcf248b6945b",
       "style": "IPY_MODEL_870dc635d6e64010b38ea23a1634fe4e",
       "value": false
      }
     },
     "776114b2b4b246a0a67660dcdfc9a143": {
      "model_module": "@jupyter-widgets/base",
      "model_module_version": "1.1.0",
      "model_name": "LayoutModel",
      "state": {}
     },
     "77ad930fa9494cc4894afd65f417b006": {
      "model_module": "@jupyter-widgets/controls",
      "model_module_version": "1.4.0",
      "model_name": "ButtonModel",
      "state": {
       "button_style": "warning",
       "description": "Export Notebook to PDF",
       "layout": "IPY_MODEL_d4db31bb93e7431880d5da2d6a7b4336",
       "style": "IPY_MODEL_064aefbda11447e3800dcd7cebc23ce4",
       "tooltip": "Click me"
      }
     },
     "77b50a2806134d3b997c4efbf50790cd": {
      "model_module": "@jupyter-widgets/base",
      "model_module_version": "1.1.0",
      "model_name": "LayoutModel",
      "state": {}
     },
     "77f4dc44aad44f1a93d2271e981a32ec": {
      "model_module": "@jupyter-widgets/controls",
      "model_module_version": "1.4.0",
      "model_name": "TextareaModel",
      "state": {
       "layout": "IPY_MODEL_d4112de92dd64da69abcbe3af73402d7",
       "placeholder": "Example: IOC:m1 IOC:m3 LNLS:TEST:motor_g3",
       "style": "IPY_MODEL_bfa57de142c64b97aea00c3952c604e4"
      }
     },
     "785c9306aa3340bc9eeba989b286d287": {
      "model_module": "@jupyter-widgets/output",
      "model_module_version": "1.0.0",
      "model_name": "OutputModel",
      "state": {
       "layout": "IPY_MODEL_211e062053d04185991b47d16ab48651"
      }
     },
     "785d7f5029fa47e79feb6415449c4d6b": {
      "model_module": "@jupyter-widgets/controls",
      "model_module_version": "1.4.0",
      "model_name": "DescriptionStyleModel",
      "state": {
       "description_width": ""
      }
     },
     "7881a4c571b54f7982ab2556cf4d243e": {
      "buffers": [
       {
        "data": "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",
        "encoding": "base64",
        "path": [
         "value"
        ]
       }
      ],
      "model_module": "@jupyter-widgets/controls",
      "model_module_version": "1.4.0",
      "model_name": "ImageModel",
      "state": {
       "height": "35",
       "layout": "IPY_MODEL_48b1e42c7aeb43ba81f938e2481cf136",
       "value": {},
       "width": "35"
      }
     },
     "78b23f1425e74acc8b49907a833ff28d": {
      "model_module": "@jupyter-widgets/controls",
      "model_module_version": "1.4.0",
      "model_name": "ButtonStyleModel",
      "state": {}
     },
     "78db889a6bc940ea9950579e2a431e5f": {
      "model_module": "@jupyter-widgets/controls",
      "model_module_version": "1.4.0",
      "model_name": "LabelModel",
      "state": {
       "layout": "IPY_MODEL_fb396a48005e4ee3be965be7fa566d13",
       "style": "IPY_MODEL_a61ba9e33be1495abb9e2dfee9760dfc",
       "value": "No motors initilized to be showed."
      }
     },
     "78e300c678c04d49a1702f89beb7beae": {
      "model_module": "@jupyter-widgets/base",
      "model_module_version": "1.1.0",
      "model_name": "LayoutModel",
      "state": {}
     },
     "78ee7e270907453d946fde0cf5f966fa": {
      "model_module": "@jupyter-widgets/controls",
      "model_module_version": "1.4.0",
      "model_name": "CheckboxModel",
      "state": {
       "description": "Print log in Notebook's cells",
       "disabled": false,
       "layout": "IPY_MODEL_f3918c6692df4572989fad8d624c68ea",
       "style": "IPY_MODEL_b41e9add834749538ae502a89ea80a3d",
       "value": false
      }
     },
     "7967ea40ea624237840702f65d95fdfb": {
      "model_module": "@jupyter-widgets/base",
      "model_module_version": "1.1.0",
      "model_name": "LayoutModel",
      "state": {}
     },
     "79705690430c462b9e264f26b437ebed": {
      "model_module": "@jupyter-widgets/base",
      "model_module_version": "1.1.0",
      "model_name": "LayoutModel",
      "state": {}
     },
     "798aa222e4224850bb6478f43a3f3771": {
      "model_module": "@jupyter-widgets/base",
      "model_module_version": "1.1.0",
      "model_name": "LayoutModel",
      "state": {
       "height": "40px",
       "width": "40px"
      }
     },
     "799e2e8691ce472cb4e350616ce78557": {
      "model_module": "@jupyter-widgets/output",
      "model_module_version": "1.0.0",
      "model_name": "OutputModel",
      "state": {
       "layout": "IPY_MODEL_70623e1c6c9b4274a49d4b62ca852a2b"
      }
     },
     "79c0f5a2104d424596a95e8e5239cf62": {
      "model_module": "@jupyter-widgets/base",
      "model_module_version": "1.1.0",
      "model_name": "LayoutModel",
      "state": {}
     },
     "7a7472ee1fdf4ad69734f1e29ca670a6": {
      "model_module": "@jupyter-widgets/controls",
      "model_module_version": "1.4.0",
      "model_name": "BoxModel",
      "state": {
       "layout": "IPY_MODEL_35767e532ae149b788358840248313a1"
      }
     },
     "7ae1ccdeea8c41c4983031d581fb02f7": {
      "model_module": "@jupyter-widgets/base",
      "model_module_version": "1.1.0",
      "model_name": "LayoutModel",
      "state": {}
     },
     "7b3c1ced79ea4ebdbd6bac668ec7dc1f": {
      "model_module": "@jupyter-widgets/base",
      "model_module_version": "1.1.0",
      "model_name": "LayoutModel",
      "state": {}
     },
     "7b3fdf626ff543019caf71a2c8479889": {
      "model_module": "@jupyter-widgets/controls",
      "model_module_version": "1.4.0",
      "model_name": "VBoxModel",
      "state": {
       "children": [
        "IPY_MODEL_0c219623053c4ed4b1a6db32c8b1bb0a"
       ],
       "layout": "IPY_MODEL_f36a8cbdaa2d4eedbb096c46a36558ac"
      }
     },
     "7b49151888714f1381a4520f515a4116": {
      "model_module": "@jupyter-widgets/controls",
      "model_module_version": "1.4.0",
      "model_name": "VBoxModel",
      "state": {
       "children": [
        "IPY_MODEL_a77cff2be3fe446399066e455532b9f9"
       ],
       "layout": "IPY_MODEL_9af0d22451b44af6944a18c208db1c74"
      }
     },
     "7b9c9c09683d453393d0adba63e9caab": {
      "model_module": "@jupyter-widgets/controls",
      "model_module_version": "1.4.0",
      "model_name": "ButtonModel",
      "state": {
       "button_style": "warning",
       "description": "Export Notebook to PDF",
       "layout": "IPY_MODEL_f6c302325a3a48c5862ef60ef7dd4197",
       "style": "IPY_MODEL_cf788f922b9741de9eaadbb41afda11f",
       "tooltip": "Click me"
      }
     },
     "7bedea9b6ccf42a981406cf8344b741a": {
      "model_module": "@jupyter-widgets/base",
      "model_module_version": "1.1.0",
      "model_name": "LayoutModel",
      "state": {
       "width": "300px"
      }
     },
     "7c6bef48430a4ca4b54612ab32b87597": {
      "model_module": "@jupyter-widgets/controls",
      "model_module_version": "1.4.0",
      "model_name": "ButtonModel",
      "state": {
       "button_style": "success",
       "description": "Start Scanning Plot",
       "layout": "IPY_MODEL_12533264b6f04e8d8fca3d73a126f7e9",
       "style": "IPY_MODEL_f2d84460841243d492148675134b85f0",
       "tooltip": "Click me"
      }
     },
     "7c83d164a4db4753afdf9a8c28693fc0": {
      "model_module": "@jupyter-widgets/base",
      "model_module_version": "1.1.0",
      "model_name": "LayoutModel",
      "state": {}
     },
     "7d301ce70b8f49299e48968ac99d71c8": {
      "model_module": "@jupyter-widgets/base",
      "model_module_version": "1.1.0",
      "model_name": "LayoutModel",
      "state": {}
     },
     "7d36cfbb82314600bc0eeeef7e70349c": {
      "buffers": [
       {
        "data": "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",
        "encoding": "base64",
        "path": [
         "value"
        ]
       }
      ],
      "model_module": "@jupyter-widgets/controls",
      "model_module_version": "1.4.0",
      "model_name": "ImageModel",
      "state": {
       "height": "35",
       "layout": "IPY_MODEL_180fb949b34249cea8ee029d3ab0bd77",
       "value": {},
       "width": "35"
      }
     },
     "7d548edf7a98461995b0e3454c978480": {
      "model_module": "@jupyter-widgets/base",
      "model_module_version": "1.1.0",
      "model_name": "LayoutModel",
      "state": {}
     },
     "7db4119dc4be4f4d82e1a9ce22024ca9": {
      "model_module": "@jupyter-widgets/base",
      "model_module_version": "1.1.0",
      "model_name": "LayoutModel",
      "state": {}
     },
     "7de1aeb389684267a0d2642e080342e4": {
      "model_module": "@jupyter-widgets/base",
      "model_module_version": "1.1.0",
      "model_name": "LayoutModel",
      "state": {}
     },
     "7e18df6e68f9469fa854f093965c653f": {
      "model_module": "@jupyter-widgets/controls",
      "model_module_version": "1.4.0",
      "model_name": "ButtonStyleModel",
      "state": {}
     },
     "7e3d0ea991b54f76b18b5ed8fd62b6cf": {
      "model_module": "@jupyter-widgets/base",
      "model_module_version": "1.1.0",
      "model_name": "LayoutModel",
      "state": {}
     },
     "7e836b2263ad41debfcf2748e06ae9e9": {
      "model_module": "@jupyter-widgets/base",
      "model_module_version": "1.1.0",
      "model_name": "LayoutModel",
      "state": {}
     },
     "7e859adff6df40c8ae4f7febeab1aced": {
      "model_module": "@jupyter-widgets/base",
      "model_module_version": "1.1.0",
      "model_name": "LayoutModel",
      "state": {}
     },
     "7eab8cae27294aa2881c3474429c87e6": {
      "model_module": "@jupyter-widgets/controls",
      "model_module_version": "1.4.0",
      "model_name": "ButtonStyleModel",
      "state": {}
     },
     "7eb6b82adf3844f48980ab99321060be": {
      "model_module": "@jupyter-widgets/controls",
      "model_module_version": "1.4.0",
      "model_name": "ButtonStyleModel",
      "state": {}
     },
     "7eb8e1a024f04c1aad3195d9c0dce124": {
      "model_module": "@jupyter-widgets/base",
      "model_module_version": "1.1.0",
      "model_name": "LayoutModel",
      "state": {}
     },
     "7eec4ef2cce04bf8a7d1d7dce8a330b1": {
      "model_module": "@jupyter-widgets/base",
      "model_module_version": "1.1.0",
      "model_name": "LayoutModel",
      "state": {
       "width": "300px"
      }
     },
     "7ef6de185cb74c2f9ce3acd0564777b9": {
      "model_module": "@jupyter-widgets/controls",
      "model_module_version": "1.4.0",
      "model_name": "VBoxModel",
      "state": {
       "children": [
        "IPY_MODEL_9c78ba8749b741b2a56f5619943b14cc"
       ],
       "layout": "IPY_MODEL_083a8fcc18344d00a334964520e3e734"
      }
     },
     "7f0f9c885883434697256a4280bccde4": {
      "buffers": [
       {
        "data": "AAAAAAAAHEAAAAAAAADwPwAAAAAAACBAAAAAAAAAFEAAAAAAAAAIQA==",
        "encoding": "base64",
        "path": [
         "_data",
         0,
         "y",
         "value"
        ]
       },
       {
        "data": "AAAAAAAAHEAAAAAAAADwPwAAAAAAACBAAAAAAAAAFEAAAAAAAAAIQA==",
        "encoding": "base64",
        "path": [
         "_data",
         1,
         "y",
         "value"
        ]
       }
      ],
      "model_module": "plotlywidget",
      "model_module_version": "0.8.0",
      "model_name": "FigureModel",
      "state": {
       "_config": {
        "plotlyServerURL": "https://plot.ly"
       },
       "_data": [
        {
         "mode": "lines+markers",
         "name": "line1",
         "type": "scatter",
         "uid": "9528b4fe-1f84-45ce-8d29-145f1fb427f2",
         "x": [
          0,
          1,
          2,
          3,
          4
         ],
         "xaxis": "x",
         "y": {
          "dtype": "float64",
          "shape": [
           5
          ],
          "value": {}
         },
         "yaxis": "y"
        },
        {
         "mode": "lines+markers",
         "name": "line2",
         "type": "scatter",
         "uid": "4ef97763-c144-42f2-b2f3-c8a727175e37",
         "x": [
          0,
          1,
          2,
          3,
          4
         ],
         "xaxis": "x2",
         "y": {
          "dtype": "float64",
          "shape": [
           5
          ],
          "value": {}
         },
         "yaxis": "y2"
        }
       ],
       "_js2py_restyle": {},
       "_js2py_update": {},
       "_last_layout_edit_id": 8,
       "_last_trace_edit_id": 7,
       "_layout": {
        "autosize": true,
        "plot_bgcolor": "rgb(230, 230, 230)",
        "template": {},
        "title": {
         "text": "Scan"
        },
        "xaxis": {
         "anchor": "y",
         "domain": [
          0,
          1
         ]
        },
        "xaxis2": {
         "anchor": "y2",
         "domain": [
          0,
          1
         ]
        },
        "yaxis": {
         "anchor": "x",
         "domain": [
          0.575,
          1
         ]
        },
        "yaxis2": {
         "anchor": "x2",
         "domain": [
          0,
          0.425
         ]
        }
       },
       "_model_module_version": "0.8.0",
       "_py2js_animate": {},
       "_py2js_deleteTraces": {},
       "_py2js_moveTraces": {},
       "_py2js_removeLayoutProps": {},
       "_py2js_removeTraceProps": {},
       "_view_count": 0,
       "_view_module_version": "0.8.0"
      }
     },
     "7f196af9bbc546d5a2014bb9cf3d66ff": {
      "model_module": "@jupyter-widgets/base",
      "model_module_version": "1.1.0",
      "model_name": "LayoutModel",
      "state": {}
     },
     "7f21cfb12d9e47b3b1909fa62e908001": {
      "model_module": "@jupyter-widgets/controls",
      "model_module_version": "1.4.0",
      "model_name": "ButtonStyleModel",
      "state": {}
     },
     "7f41503d1f224aad8bf95376cd5fe2ca": {
      "model_module": "@jupyter-widgets/controls",
      "model_module_version": "1.4.0",
      "model_name": "DescriptionStyleModel",
      "state": {
       "description_width": ""
      }
     },
     "7fcd5979f9414ed192b2b43df188874a": {
      "model_module": "@jupyter-widgets/controls",
      "model_module_version": "1.4.0",
      "model_name": "LabelModel",
      "state": {
       "layout": "IPY_MODEL_6c70f7840bbf4900aff7d03a6e30fa54",
       "style": "IPY_MODEL_559f70efcefb458cb60334047024b110",
       "value": "No motors initilized to be showed."
      }
     },
     "8051b4d6da4b4cd991db627622ef44f0": {
      "model_module": "@jupyter-widgets/controls",
      "model_module_version": "1.4.0",
      "model_name": "LabelModel",
      "state": {
       "layout": "IPY_MODEL_4735c9f978554877b51c5db010399b1c",
       "style": "IPY_MODEL_6aaf3690aa59414ea5e0b03ca9c471d6",
       "value": "No motors initilized to be showed."
      }
     },
     "8094b62b46fd46eca67b6ca9d5a008ed": {
      "model_module": "@jupyter-widgets/base",
      "model_module_version": "1.1.0",
      "model_name": "LayoutModel",
      "state": {}
     },
     "80b1acf0f15a440d85bc4c55724f773d": {
      "model_module": "@jupyter-widgets/controls",
      "model_module_version": "1.4.0",
      "model_name": "ButtonStyleModel",
      "state": {}
     },
     "8189db3112f34bb3ae74edec1e119ee2": {
      "model_module": "@jupyter-widgets/base",
      "model_module_version": "1.1.0",
      "model_name": "LayoutModel",
      "state": {}
     },
     "8268b41745af4a258f3c4f289deca8a3": {
      "model_module": "@jupyter-widgets/base",
      "model_module_version": "1.1.0",
      "model_name": "LayoutModel",
      "state": {}
     },
     "8269ba3f4a4f4b1d9c4963e655ab71eb": {
      "model_module": "@jupyter-widgets/base",
      "model_module_version": "1.1.0",
      "model_name": "LayoutModel",
      "state": {}
     },
     "829d5ffc85fa41159feedbe8c2bda8cd": {
      "model_module": "@jupyter-widgets/base",
      "model_module_version": "1.1.0",
      "model_name": "LayoutModel",
      "state": {}
     },
     "82e3025f305040dfb62a6d59a658f8f4": {
      "model_module": "@jupyter-widgets/base",
      "model_module_version": "1.1.0",
      "model_name": "LayoutModel",
      "state": {}
     },
     "832dce4eeb87462f90fe49746aebe032": {
      "model_module": "@jupyter-widgets/controls",
      "model_module_version": "1.4.0",
      "model_name": "DescriptionStyleModel",
      "state": {
       "description_width": ""
      }
     },
     "8373d477ce5f4895bf26050608ce7b28": {
      "model_module": "@jupyter-widgets/controls",
      "model_module_version": "1.4.0",
      "model_name": "ButtonStyleModel",
      "state": {}
     },
     "83cd163d06ab4f2d9be8b277a042ad2a": {
      "model_module": "@jupyter-widgets/base",
      "model_module_version": "1.1.0",
      "model_name": "LayoutModel",
      "state": {}
     },
     "83f732d4938a445f8af04b341d5477cf": {
      "model_module": "@jupyter-widgets/controls",
      "model_module_version": "1.4.0",
      "model_name": "ButtonModel",
      "state": {
       "button_style": "success",
       "description": "Start Scanning Plot",
       "layout": "IPY_MODEL_2449f13d78ec46da9ba1998991078417",
       "style": "IPY_MODEL_0416644071fc4a78949a9a76c47ce1db",
       "tooltip": "Click me"
      }
     },
     "8401ba836dc34d05be0d288fb489228e": {
      "model_module": "@jupyter-widgets/base",
      "model_module_version": "1.1.0",
      "model_name": "LayoutModel",
      "state": {}
     },
     "84345cd5bc2c4341aef099be18d76aed": {
      "model_module": "@jupyter-widgets/controls",
      "model_module_version": "1.4.0",
      "model_name": "ButtonModel",
      "state": {
       "button_style": "success",
       "description": "Start Manual Alignment",
       "layout": "IPY_MODEL_29766fb20d92455284d3d7d2305de73b",
       "style": "IPY_MODEL_983aed6c40b94be69395ad293e29a232",
       "tooltip": "Click me"
      }
     },
     "84385bd365564c869f4e6a01684d1afe": {
      "model_module": "@jupyter-widgets/base",
      "model_module_version": "1.1.0",
      "model_name": "LayoutModel",
      "state": {
       "width": "300px"
      }
     },
     "84ad5a0e66ec4384b855c230c42d3b78": {
      "model_module": "@jupyter-widgets/controls",
      "model_module_version": "1.4.0",
      "model_name": "ButtonModel",
      "state": {
       "button_style": "success",
       "description": "Start Manual Alignment",
       "layout": "IPY_MODEL_24c22e2aec184797a704eb51d7af2175",
       "style": "IPY_MODEL_a6d4870432b342168534e293e0377030",
       "tooltip": "Click me"
      }
     },
     "84bf2adfe601439ca8b52eb90577aeb0": {
      "model_module": "@jupyter-widgets/base",
      "model_module_version": "1.1.0",
      "model_name": "LayoutModel",
      "state": {}
     },
     "84e026d1254a41a6ac7c30e954ee4ac9": {
      "model_module": "@jupyter-widgets/controls",
      "model_module_version": "1.4.0",
      "model_name": "VBoxModel",
      "state": {
       "children": [
        "IPY_MODEL_aa4b0cb22c8943d197d3a69aa7943752",
        "IPY_MODEL_5763a84852f44f108dcb980aea8825d1"
       ],
       "layout": "IPY_MODEL_71db55d975944fb387261bf91fb411b8"
      }
     },
     "84e4d53af63f46b994ff31ce6079f66b": {
      "model_module": "@jupyter-widgets/controls",
      "model_module_version": "1.4.0",
      "model_name": "VBoxModel",
      "state": {
       "children": [
        "IPY_MODEL_ce68bacbd191440d92202102625fc272",
        "IPY_MODEL_253eb533796748b99a3556e5531beb8d"
       ],
       "layout": "IPY_MODEL_5148dd476136422aa63855f149c61ecf"
      }
     },
     "851b027512f9467d8e769474818ca266": {
      "model_module": "@jupyter-widgets/base",
      "model_module_version": "1.1.0",
      "model_name": "LayoutModel",
      "state": {
       "height": "40px",
       "width": "40px"
      }
     },
     "851d91e00c9c418aa9f164afec31a02c": {
      "model_module": "@jupyter-widgets/controls",
      "model_module_version": "1.4.0",
      "model_name": "ButtonStyleModel",
      "state": {}
     },
     "8548ec4b876340c1bbdd4d850b679a65": {
      "model_module": "@jupyter-widgets/base",
      "model_module_version": "1.1.0",
      "model_name": "LayoutModel",
      "state": {}
     },
     "855ddfb49286405394747d72fa53e715": {
      "model_module": "@jupyter-widgets/controls",
      "model_module_version": "1.4.0",
      "model_name": "CheckboxModel",
      "state": {
       "disabled": false,
       "layout": "IPY_MODEL_328b95c957d447e486e00ab069f7f0f9",
       "style": "IPY_MODEL_a1e7f41c3c1a4b1f9908805b8c24d7ec",
       "value": false
      }
     },
     "86002446751548e0be7cc18fa4a73488": {
      "model_module": "@jupyter-widgets/output",
      "model_module_version": "1.0.0",
      "model_name": "OutputModel",
      "state": {
       "layout": "IPY_MODEL_e331843b44fb42d4ae57c93f4b72f020"
      }
     },
     "860762d2d5494c1a917021b2d856076f": {
      "model_module": "@jupyter-widgets/base",
      "model_module_version": "1.1.0",
      "model_name": "LayoutModel",
      "state": {}
     },
     "8608f8405d1c4b85af515ee6130fe8b3": {
      "model_module": "@jupyter-widgets/base",
      "model_module_version": "1.1.0",
      "model_name": "LayoutModel",
      "state": {}
     },
     "86262b4851c5476d9dbac4b8f8aaedae": {
      "model_module": "@jupyter-widgets/base",
      "model_module_version": "1.1.0",
      "model_name": "LayoutModel",
      "state": {}
     },
     "862db1da21f442ce8dcb960ab458aad8": {
      "model_module": "@jupyter-widgets/controls",
      "model_module_version": "1.4.0",
      "model_name": "ButtonModel",
      "state": {
       "button_style": "success",
       "description": "Start Manual Alignment",
       "layout": "IPY_MODEL_6cdd14946ed24175b47526cee5a0c8d2",
       "style": "IPY_MODEL_b18592e40a77493e98615a1bfece7b31",
       "tooltip": "Click me"
      }
     },
     "863f39dac362497f9dd752a9583e9fe2": {
      "model_module": "@jupyter-widgets/controls",
      "model_module_version": "1.4.0",
      "model_name": "BoxModel",
      "state": {
       "children": [
        "IPY_MODEL_a88c167071654c92903bf78aa20673b6"
       ],
       "layout": "IPY_MODEL_8d8d574e2b3948ba9c29cff9f0409b8e"
      }
     },
     "866c1a404fb24d0889d8e6ccd0750dd7": {
      "model_module": "@jupyter-widgets/controls",
      "model_module_version": "1.4.0",
      "model_name": "CheckboxModel",
      "state": {
       "description": "Plot scan-gui graph instead of Jupyter's: ",
       "disabled": false,
       "layout": "IPY_MODEL_2fdca1bf411f49a4923172758647e156",
       "style": "IPY_MODEL_755cfb9819844a2d9397febff81a5089",
       "value": false
      }
     },
     "867cc8a752be476ab036744b614907d8": {
      "model_module": "@jupyter-widgets/base",
      "model_module_version": "1.1.0",
      "model_name": "LayoutModel",
      "state": {}
     },
     "868ce145322e4bbf97c7a68c5c119c23": {
      "model_module": "@jupyter-widgets/base",
      "model_module_version": "1.1.0",
      "model_name": "LayoutModel",
      "state": {}
     },
     "86b26daf27cd4faea9b448d8305b18f3": {
      "model_module": "@jupyter-widgets/controls",
      "model_module_version": "1.4.0",
      "model_name": "HBoxModel",
      "state": {
       "children": [
        "IPY_MODEL_88d20a12656f44e982ce6eb2bdaed312",
        "IPY_MODEL_323a8b1b7c54431e8cfcdcf404972a11"
       ],
       "layout": "IPY_MODEL_f14326675bb54f63b5210ab8dfc44ec2"
      }
     },
     "86bb1bd8e81c4b5e86109979e6d5228d": {
      "model_module": "@jupyter-widgets/controls",
      "model_module_version": "1.4.0",
      "model_name": "VBoxModel",
      "state": {
       "children": [
        "IPY_MODEL_88fc351370f84c34bcfd295f07345fe5",
        "IPY_MODEL_b6e2caec0a4c442daa1da4bfbf6a24b5"
       ],
       "layout": "IPY_MODEL_1340f5e81fa040f38d326b3846352347"
      }
     },
     "86e46afac7984b73a979ebef0150d9c3": {
      "model_module": "@jupyter-widgets/base",
      "model_module_version": "1.1.0",
      "model_name": "LayoutModel",
      "state": {}
     },
     "870dc635d6e64010b38ea23a1634fe4e": {
      "model_module": "@jupyter-widgets/controls",
      "model_module_version": "1.4.0",
      "model_name": "DescriptionStyleModel",
      "state": {
       "description_width": ""
      }
     },
     "87551054cbed49daa42b12c5840358d2": {
      "model_module": "@jupyter-widgets/base",
      "model_module_version": "1.1.0",
      "model_name": "LayoutModel",
      "state": {}
     },
     "87dc4bde7c2144baa6eaedfd28eaf07f": {
      "model_module": "@jupyter-widgets/controls",
      "model_module_version": "1.4.0",
      "model_name": "DescriptionStyleModel",
      "state": {
       "description_width": ""
      }
     },
     "88101bfe45404aaba07e2faaa1398b06": {
      "model_module": "@jupyter-widgets/output",
      "model_module_version": "1.0.0",
      "model_name": "OutputModel",
      "state": {
       "layout": "IPY_MODEL_7b3c1ced79ea4ebdbd6bac668ec7dc1f"
      }
     },
     "881383f887ed4889a008228535d0ed78": {
      "model_module": "@jupyter-widgets/controls",
      "model_module_version": "1.4.0",
      "model_name": "ButtonModel",
      "state": {
       "button_style": "success",
       "description": "Start Motor Initializaton",
       "layout": "IPY_MODEL_5b97e6ff5b774d70b3dfda761b9500fe",
       "style": "IPY_MODEL_d674492d50444e1fa7b22978ec628abc",
       "tooltip": "Click me"
      }
     },
     "882f26ea7d1e4cd39f00be49ef4a83c5": {
      "model_module": "@jupyter-widgets/controls",
      "model_module_version": "1.4.0",
      "model_name": "CheckboxModel",
      "state": {
       "disabled": false,
       "layout": "IPY_MODEL_8189db3112f34bb3ae74edec1e119ee2",
       "style": "IPY_MODEL_93c5d9eb81f147ceb5a39534f13dd4d6",
       "value": false
      }
     },
     "884febd514e54172b1281cacc3a953cd": {
      "model_module": "@jupyter-widgets/controls",
      "model_module_version": "1.4.0",
      "model_name": "ButtonModel",
      "state": {
       "button_style": "warning",
       "description": "Export Notebook to PDF",
       "layout": "IPY_MODEL_7eec4ef2cce04bf8a7d1d7dce8a330b1",
       "style": "IPY_MODEL_52dadb28d1b2446ba4bbf4db6a7bfe27",
       "tooltip": "Click me"
      }
     },
     "884ff5cccef0470794b056c812fd4106": {
      "model_module": "@jupyter-widgets/controls",
      "model_module_version": "1.4.0",
      "model_name": "ButtonStyleModel",
      "state": {}
     },
     "887496b2d30d4c57bb1cec441fdd91cb": {
      "model_module": "@jupyter-widgets/base",
      "model_module_version": "1.1.0",
      "model_name": "LayoutModel",
      "state": {}
     },
     "88c8aa97d6cc4f9a8bee2c19d0f2f176": {
      "model_module": "@jupyter-widgets/output",
      "model_module_version": "1.0.0",
      "model_name": "OutputModel",
      "state": {
       "layout": "IPY_MODEL_592898e306c14f7b8b483ab787d0ed11"
      }
     },
     "88d20a12656f44e982ce6eb2bdaed312": {
      "model_module": "@jupyter-widgets/controls",
      "model_module_version": "1.4.0",
      "model_name": "BoundedFloatTextModel",
      "state": {
       "description": "IOC:m1",
       "layout": "IPY_MODEL_f911b9cab7f64b029d20b3c523472b86",
       "min": -100,
       "step": 0.01,
       "style": "IPY_MODEL_e23d7713df594116ac2cf7fd0066fd23",
       "value": 10
      }
     },
     "88fc351370f84c34bcfd295f07345fe5": {
      "model_module": "@jupyter-widgets/controls",
      "model_module_version": "1.4.0",
      "model_name": "TextareaModel",
      "state": {
       "layout": "IPY_MODEL_89a8e0fe296a4d6dbf1e2d2ff9cabe72",
       "placeholder": "Example: IOC:m1 IOC:m3 LNLS:TEST:motor_g3",
       "style": "IPY_MODEL_7555b816f8b64d95bbd878f437db4e99"
      }
     },
     "895718d7d29340e7870ee378ee0c029b": {
      "model_module": "@jupyter-widgets/controls",
      "model_module_version": "1.4.0",
      "model_name": "BoxModel",
      "state": {
       "layout": "IPY_MODEL_851b027512f9467d8e769474818ca266"
      }
     },
     "8979bda4b7f5404a8c00150ac467f2bd": {
      "model_module": "@jupyter-widgets/controls",
      "model_module_version": "1.4.0",
      "model_name": "BoxModel",
      "state": {
       "layout": "IPY_MODEL_457b02553b2043368df2ae4ce7f4df1f"
      }
     },
     "8989904119b34d8191f5fff1d85778b3": {
      "model_module": "@jupyter-widgets/controls",
      "model_module_version": "1.4.0",
      "model_name": "BoxModel",
      "state": {
       "layout": "IPY_MODEL_d662d0dd039a4e4bafb3dc45e59da227"
      }
     },
     "89a5d9f5cc3b4d64ae2e6e39376b1771": {
      "model_module": "@jupyter-widgets/controls",
      "model_module_version": "1.4.0",
      "model_name": "VBoxModel",
      "state": {
       "children": [
        "IPY_MODEL_9006f86343224f1498a1a380954f493f"
       ],
       "layout": "IPY_MODEL_616ba5b315a24eb2b434c659531ad345"
      }
     },
     "89a8e0fe296a4d6dbf1e2d2ff9cabe72": {
      "model_module": "@jupyter-widgets/base",
      "model_module_version": "1.1.0",
      "model_name": "LayoutModel",
      "state": {}
     },
     "89bfb009166244aba59f50e9813d3eca": {
      "model_module": "@jupyter-widgets/output",
      "model_module_version": "1.0.0",
      "model_name": "OutputModel",
      "state": {
       "layout": "IPY_MODEL_d73ed791a0a8474089b5677346c1db05"
      }
     },
     "89cd9eeff66f41ef9b843427291e8cc7": {
      "model_module": "@jupyter-widgets/base",
      "model_module_version": "1.1.0",
      "model_name": "LayoutModel",
      "state": {}
     },
     "8a058a165c2146b29214c9380ba7b51e": {
      "model_module": "@jupyter-widgets/base",
      "model_module_version": "1.1.0",
      "model_name": "LayoutModel",
      "state": {}
     },
     "8a177b6a1611465a9b3a1edd9240c1cc": {
      "model_module": "@jupyter-widgets/controls",
      "model_module_version": "1.4.0",
      "model_name": "ButtonModel",
      "state": {
       "button_style": "success",
       "description": "Start PV Monitoring",
       "layout": "IPY_MODEL_7bedea9b6ccf42a981406cf8344b741a",
       "style": "IPY_MODEL_cd8055e9e54a4442a331920721004a93",
       "tooltip": "Click me"
      }
     },
     "8a3eabff0adc43a3a5c6b50c311c5629": {
      "model_module": "@jupyter-widgets/base",
      "model_module_version": "1.1.0",
      "model_name": "LayoutModel",
      "state": {}
     },
     "8a4722cff2b441c8ad87c3bef65401bd": {
      "model_module": "@jupyter-widgets/controls",
      "model_module_version": "1.4.0",
      "model_name": "ButtonModel",
      "state": {
       "button_style": "success",
       "description": "Start Manual Alignment",
       "layout": "IPY_MODEL_4e5e4f1eff4b4771bf0576b31f683616",
       "style": "IPY_MODEL_60221faa02b6443e9ce158f6ed9383c8",
       "tooltip": "Click me"
      }
     },
     "8a623bb0b6914cb7a7a5f3b3aab91493": {
      "model_module": "@jupyter-widgets/base",
      "model_module_version": "1.1.0",
      "model_name": "LayoutModel",
      "state": {}
     },
     "8a7db3d9bdb4477d90c187844f7d1336": {
      "model_module": "@jupyter-widgets/base",
      "model_module_version": "1.1.0",
      "model_name": "LayoutModel",
      "state": {
       "height": "40px",
       "width": "40px"
      }
     },
     "8abba7c3feef4b06820d2500764752d3": {
      "model_module": "@jupyter-widgets/controls",
      "model_module_version": "1.4.0",
      "model_name": "LabelModel",
      "state": {
       "layout": "IPY_MODEL_018c539e48bc42b89608bf852a5e707e",
       "style": "IPY_MODEL_b28f80027e574fd68744614cb35d400e",
       "value": "No motors initilized to be showed."
      }
     },
     "8ae9002da6d04799ab0a6d4408f1a12d": {
      "model_module": "@jupyter-widgets/base",
      "model_module_version": "1.1.0",
      "model_name": "LayoutModel",
      "state": {
       "width": "300px"
      }
     },
     "8b21bc56f30444a7a0245326d5def214": {
      "model_module": "@jupyter-widgets/output",
      "model_module_version": "1.0.0",
      "model_name": "OutputModel",
      "state": {
       "layout": "IPY_MODEL_6e609b32956f4f88ab383f2148a4778e"
      }
     },
     "8b6f88e8132a45f9ac265a22d93f1fc0": {
      "model_module": "@jupyter-widgets/controls",
      "model_module_version": "1.4.0",
      "model_name": "BoxModel",
      "state": {
       "children": [
        "IPY_MODEL_43bb4d00d0e248e18564756bd7a832d0"
       ],
       "layout": "IPY_MODEL_ccd1b862736741a78633dae04d7179b8"
      }
     },
     "8b9eefc8a8914214886abdf0744f0cc8": {
      "model_module": "@jupyter-widgets/base",
      "model_module_version": "1.1.0",
      "model_name": "LayoutModel",
      "state": {}
     },
     "8bcb6fe2d039496a91796980f74cd5ba": {
      "model_module": "@jupyter-widgets/base",
      "model_module_version": "1.1.0",
      "model_name": "LayoutModel",
      "state": {}
     },
     "8c049b427c98431891803b1532575324": {
      "model_module": "@jupyter-widgets/controls",
      "model_module_version": "1.4.0",
      "model_name": "DescriptionStyleModel",
      "state": {
       "description_width": ""
      }
     },
     "8c15cd5d630c43228a320f043c5b60dc": {
      "model_module": "@jupyter-widgets/controls",
      "model_module_version": "1.4.0",
      "model_name": "VBoxModel",
      "state": {
       "children": [
        "IPY_MODEL_c50aaea664c0431991ffba24a21bbb71",
        "IPY_MODEL_51473cf3a310407d85ff343d0dae826d"
       ],
       "layout": "IPY_MODEL_d424ffca48454732a25edb0551bb1b4c"
      }
     },
     "8c2f93c118e749308c3d46f8f08b717a": {
      "model_module": "@jupyter-widgets/controls",
      "model_module_version": "1.4.0",
      "model_name": "CheckboxModel",
      "state": {
       "description": "Live plot in Jupyter: ",
       "disabled": false,
       "layout": "IPY_MODEL_53bdc3ee53c74b5e8a20b0fb93e02f91",
       "style": "IPY_MODEL_9438606be55d420398973d4704a225d5",
       "value": true
      }
     },
     "8c33aa9e5a5a4ac799c2997656273ab9": {
      "model_module": "@jupyter-widgets/base",
      "model_module_version": "1.1.0",
      "model_name": "LayoutModel",
      "state": {}
     },
     "8c797689ada943a3abc7ffc80882af63": {
      "model_module": "plotlywidget",
      "model_module_version": "0.8.0",
      "model_name": "FigureModel",
      "state": {
       "_config": {
        "plotlyServerURL": "https://plot.ly"
       },
       "_js2py_layoutDelta": {},
       "_js2py_pointsCallback": {},
       "_js2py_relayout": {},
       "_js2py_restyle": {},
       "_js2py_traceDeltas": {},
       "_js2py_update": {},
       "_layout": {
        "template": {}
       },
       "_model_module_version": "0.8.0",
       "_py2js_addTraces": {},
       "_py2js_animate": {},
       "_py2js_deleteTraces": {},
       "_py2js_moveTraces": {},
       "_py2js_removeLayoutProps": {},
       "_py2js_removeTraceProps": {},
       "_py2js_restyle": {},
       "_py2js_update": {},
       "_view_count": 0,
       "_view_module_version": "0.8.0"
      }
     },
     "8c9e8a11f82f49a4a30bddbd682183be": {
      "model_module": "@jupyter-widgets/base",
      "model_module_version": "1.1.0",
      "model_name": "LayoutModel",
      "state": {}
     },
     "8ccaace30e514bbd9afac6b49720b914": {
      "model_module": "@jupyter-widgets/controls",
      "model_module_version": "1.4.0",
      "model_name": "DescriptionStyleModel",
      "state": {
       "description_width": ""
      }
     },
     "8ce650b78b784fcba6fb5618e9c28952": {
      "model_module": "@jupyter-widgets/base",
      "model_module_version": "1.1.0",
      "model_name": "LayoutModel",
      "state": {}
     },
     "8d713bf084c94969ac5b72393fa27407": {
      "model_module": "@jupyter-widgets/base",
      "model_module_version": "1.1.0",
      "model_name": "LayoutModel",
      "state": {}
     },
     "8d8361bad8574ef693618379b9fb7ab7": {
      "model_module": "@jupyter-widgets/controls",
      "model_module_version": "1.4.0",
      "model_name": "BoxModel",
      "state": {
       "children": [
        "IPY_MODEL_67cc9d505824432aa057b06996f24f66"
       ],
       "layout": "IPY_MODEL_bc954d5cbeea431c9f23572d56aeaf46"
      }
     },
     "8d8d574e2b3948ba9c29cff9f0409b8e": {
      "model_module": "@jupyter-widgets/base",
      "model_module_version": "1.1.0",
      "model_name": "LayoutModel",
      "state": {}
     },
     "8da16be842eb4c25a3d18e0ff2c97c32": {
      "model_module": "@jupyter-widgets/base",
      "model_module_version": "1.1.0",
      "model_name": "LayoutModel",
      "state": {}
     },
     "8de4b0bf3831401f87b74737c90c9faa": {
      "model_module": "@jupyter-widgets/controls",
      "model_module_version": "1.4.0",
      "model_name": "ButtonModel",
      "state": {
       "layout": "IPY_MODEL_648b433d132e4c228fa14a2bf1ff0407",
       "style": "IPY_MODEL_60479148e9624e8e9e955da7368fc533"
      }
     },
     "8deb6c34503140c3a0485a35d0d59fdf": {
      "model_module": "@jupyter-widgets/base",
      "model_module_version": "1.1.0",
      "model_name": "LayoutModel",
      "state": {}
     },
     "8e0451afda594d25a93c1fce79c7ae4f": {
      "buffers": [
       {
        "data": "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",
        "encoding": "base64",
        "path": [
         "value"
        ]
       }
      ],
      "model_module": "@jupyter-widgets/controls",
      "model_module_version": "1.4.0",
      "model_name": "ImageModel",
      "state": {
       "height": "35",
       "layout": "IPY_MODEL_4cb7bf9a8b1e4d048dbb6eae4670a075",
       "value": {},
       "width": "35"
      }
     },
     "8e3b659a81bf4788b1f401c987da5d3a": {
      "model_module": "@jupyter-widgets/controls",
      "model_module_version": "1.4.0",
      "model_name": "BoxModel",
      "state": {
       "children": [
        "IPY_MODEL_7d36cfbb82314600bc0eeeef7e70349c"
       ],
       "layout": "IPY_MODEL_cdb14d820624418ba66ce4876fc48548"
      }
     },
     "8e6ffbfa534e470f8563368a8646f5cd": {
      "model_module": "@jupyter-widgets/base",
      "model_module_version": "1.1.0",
      "model_name": "LayoutModel",
      "state": {}
     },
     "8e848af1f4be4f5bb803080c0ea399a2": {
      "buffers": [
       {
        "data": "AAAAAAAAIkAAAAAAAAAQQAAAAAAAAPA/AAAAAAAA8D8AAAAAAADwPw==",
        "encoding": "base64",
        "path": [
         "_data",
         0,
         "y",
         "value"
        ]
       },
       {
        "data": "AAAAAAAAIkAAAAAAAAAQQAAAAAAAAPA/AAAAAAAA8D8AAAAAAADwPw==",
        "encoding": "base64",
        "path": [
         "_data",
         1,
         "y",
         "value"
        ]
       }
      ],
      "model_module": "plotlywidget",
      "model_module_version": "0.8.0",
      "model_name": "FigureModel",
      "state": {
       "_config": {
        "plotlyServerURL": "https://plot.ly"
       },
       "_data": [
        {
         "mode": "lines+markers",
         "name": "line1",
         "type": "scatter",
         "uid": "9cb4b7f7-ea75-4ccd-9dd4-7dd9079604f3",
         "x": [
          0,
          1,
          2,
          3,
          4
         ],
         "xaxis": "x",
         "y": {
          "dtype": "float64",
          "shape": [
           5
          ],
          "value": {}
         },
         "yaxis": "y"
        },
        {
         "mode": "lines+markers",
         "name": "line2",
         "type": "scatter",
         "uid": "1ef0df05-b822-4b08-8a8d-2a9da9b63cf3",
         "x": [
          0,
          1,
          2,
          3,
          4
         ],
         "xaxis": "x2",
         "y": {
          "dtype": "float64",
          "shape": [
           5
          ],
          "value": {}
         },
         "yaxis": "y2"
        }
       ],
       "_js2py_restyle": {},
       "_js2py_update": {},
       "_last_layout_edit_id": 8,
       "_last_trace_edit_id": 7,
       "_layout": {
        "autosize": true,
        "plot_bgcolor": "rgb(230, 230, 230)",
        "template": {},
        "title": {
         "text": "Scan"
        },
        "xaxis": {
         "anchor": "y",
         "domain": [
          0,
          1
         ]
        },
        "xaxis2": {
         "anchor": "y2",
         "domain": [
          0,
          1
         ]
        },
        "yaxis": {
         "anchor": "x",
         "domain": [
          0.575,
          1
         ]
        },
        "yaxis2": {
         "anchor": "x2",
         "domain": [
          0,
          0.425
         ]
        }
       },
       "_model_module_version": "0.8.0",
       "_py2js_animate": {},
       "_py2js_deleteTraces": {},
       "_py2js_moveTraces": {},
       "_py2js_removeLayoutProps": {},
       "_py2js_removeTraceProps": {},
       "_view_count": 0,
       "_view_module_version": "0.8.0"
      }
     },
     "8f1a4654003942209a6ed0195d7ea87e": {
      "model_module": "@jupyter-widgets/controls",
      "model_module_version": "1.4.0",
      "model_name": "DescriptionStyleModel",
      "state": {
       "description_width": ""
      }
     },
     "8f52d12f87754a6cae02ce4d3770b2df": {
      "model_module": "@jupyter-widgets/controls",
      "model_module_version": "1.4.0",
      "model_name": "DescriptionStyleModel",
      "state": {
       "description_width": ""
      }
     },
     "8f6c349b660d40ce937bc72e17cca5a0": {
      "model_module": "@jupyter-widgets/controls",
      "model_module_version": "1.4.0",
      "model_name": "ButtonStyleModel",
      "state": {}
     },
     "8f721dba91dc41258858f22d37dcedc9": {
      "model_module": "@jupyter-widgets/controls",
      "model_module_version": "1.4.0",
      "model_name": "DescriptionStyleModel",
      "state": {
       "description_width": ""
      }
     },
     "8f9c42a3d57d4004bfe79e694af547d1": {
      "model_module": "@jupyter-widgets/controls",
      "model_module_version": "1.4.0",
      "model_name": "DescriptionStyleModel",
      "state": {
       "description_width": "initial"
      }
     },
     "8fa288a08dca4b2889fdd29ef466550b": {
      "model_module": "@jupyter-widgets/base",
      "model_module_version": "1.1.0",
      "model_name": "LayoutModel",
      "state": {}
     },
     "8fb14e3e58eb476e8dd416a22322fa5c": {
      "model_module": "@jupyter-widgets/controls",
      "model_module_version": "1.4.0",
      "model_name": "ButtonStyleModel",
      "state": {}
     },
     "8fb8c1926299490087f66c5fffe4cf83": {
      "model_module": "@jupyter-widgets/base",
      "model_module_version": "1.1.0",
      "model_name": "LayoutModel",
      "state": {}
     },
     "8ff790e83cb8449791263adfd36c43dd": {
      "model_module": "@jupyter-widgets/base",
      "model_module_version": "1.1.0",
      "model_name": "LayoutModel",
      "state": {}
     },
     "9006f86343224f1498a1a380954f493f": {
      "model_module": "@jupyter-widgets/controls",
      "model_module_version": "1.4.0",
      "model_name": "LabelModel",
      "state": {
       "layout": "IPY_MODEL_97c3072cf7da449fb7e2334174e0d249",
       "style": "IPY_MODEL_11997c47048a4fcdb2695512d023fe15",
       "value": "No motors initilized to be showed."
      }
     },
     "900b8815c3ed42e58b774a0ffd28d1a9": {
      "model_module": "@jupyter-widgets/base",
      "model_module_version": "1.1.0",
      "model_name": "LayoutModel",
      "state": {}
     },
     "904a0d622a5a4b439e051384d6b8e5ad": {
      "model_module": "@jupyter-widgets/base",
      "model_module_version": "1.1.0",
      "model_name": "LayoutModel",
      "state": {}
     },
     "90522d61a85c468eb4794b0300f3239f": {
      "model_module": "@jupyter-widgets/controls",
      "model_module_version": "1.4.0",
      "model_name": "DescriptionStyleModel",
      "state": {
       "description_width": ""
      }
     },
     "909912bd11ae472c9f7bd56166285fc3": {
      "model_module": "plotlywidget",
      "model_module_version": "0.8.0",
      "model_name": "FigureModel",
      "state": {
       "_config": {
        "plotlyServerURL": "https://plot.ly"
       },
       "_js2py_layoutDelta": {},
       "_js2py_pointsCallback": {},
       "_js2py_relayout": {},
       "_js2py_restyle": {},
       "_js2py_traceDeltas": {},
       "_js2py_update": {},
       "_layout": {
        "template": {}
       },
       "_model_module_version": "0.8.0",
       "_py2js_addTraces": {},
       "_py2js_animate": {},
       "_py2js_deleteTraces": {},
       "_py2js_moveTraces": {},
       "_py2js_removeLayoutProps": {},
       "_py2js_removeTraceProps": {},
       "_py2js_restyle": {},
       "_py2js_update": {},
       "_view_count": 0,
       "_view_module_version": "0.8.0"
      }
     },
     "90bdc03d04684521a1376e57ee28e606": {
      "model_module": "@jupyter-widgets/base",
      "model_module_version": "1.1.0",
      "model_name": "LayoutModel",
      "state": {}
     },
     "90c1bf10fe1e42508dbf29817d73d0f3": {
      "model_module": "@jupyter-widgets/base",
      "model_module_version": "1.1.0",
      "model_name": "LayoutModel",
      "state": {}
     },
     "912a2449381b48b8bf2228d2d501aa44": {
      "model_module": "@jupyter-widgets/base",
      "model_module_version": "1.1.0",
      "model_name": "LayoutModel",
      "state": {}
     },
     "914c16d82bca444fabed5e2e3dd9d00b": {
      "model_module": "@jupyter-widgets/controls",
      "model_module_version": "1.4.0",
      "model_name": "VBoxModel",
      "state": {
       "children": [
        "IPY_MODEL_131d87e544804672a317fb6f7dd81708",
        "IPY_MODEL_4af5719a1ef54f479bcf01b982470065"
       ],
       "layout": "IPY_MODEL_02d2151d127b42ecbfb791918779cf0d"
      }
     },
     "9176cd4bc2a44f74a20187a6ecdd84b7": {
      "model_module": "@jupyter-widgets/output",
      "model_module_version": "1.0.0",
      "model_name": "OutputModel",
      "state": {
       "layout": "IPY_MODEL_de3b7d6d5edb430e8936e9e885d11cef"
      }
     },
     "917e6e63fe0a4966b5b393346f58a16a": {
      "model_module": "@jupyter-widgets/base",
      "model_module_version": "1.1.0",
      "model_name": "LayoutModel",
      "state": {}
     },
     "919d3389bce146f8a2f630e4128559b3": {
      "model_module": "@jupyter-widgets/base",
      "model_module_version": "1.1.0",
      "model_name": "LayoutModel",
      "state": {}
     },
     "91d5c77825c940a0bc0266d16a93af11": {
      "model_module": "@jupyter-widgets/base",
      "model_module_version": "1.1.0",
      "model_name": "LayoutModel",
      "state": {}
     },
     "91e09d64047549169599805e29529d44": {
      "model_module": "@jupyter-widgets/controls",
      "model_module_version": "1.4.0",
      "model_name": "TextareaModel",
      "state": {
       "layout": "IPY_MODEL_2a1db995281547e9b46ca82839c292d9",
       "placeholder": "Example: IOC:m1 IOC:m3 LNLS:TEST:motor_g3",
       "style": "IPY_MODEL_8f721dba91dc41258858f22d37dcedc9"
      }
     },
     "9211be5255d0496e812ba09b9d810c40": {
      "model_module": "@jupyter-widgets/output",
      "model_module_version": "1.0.0",
      "model_name": "OutputModel",
      "state": {
       "layout": "IPY_MODEL_db56f9d91eb14292b5ce6c2d67cde217"
      }
     },
     "922d4b9820b5434784c8d21e16bdd06b": {
      "model_module": "@jupyter-widgets/controls",
      "model_module_version": "1.4.0",
      "model_name": "ButtonModel",
      "state": {
       "button_style": "danger",
       "description": "Stop PV Monitoring",
       "layout": "IPY_MODEL_84385bd365564c869f4e6a01684d1afe",
       "style": "IPY_MODEL_2e5a3003b92a47659ca8134d6e8cb02a",
       "tooltip": "Click me"
      }
     },
     "923755295e774f63936c53ab397fc99d": {
      "model_module": "@jupyter-widgets/controls",
      "model_module_version": "1.4.0",
      "model_name": "TextareaModel",
      "state": {
       "layout": "IPY_MODEL_c3b3c52f80724a548874f0f8bad81765",
       "placeholder": "Example: IOC:m1 IOC:m3 LNLS:TEST:motor_g3",
       "style": "IPY_MODEL_20fa7e844232475aa2577ee72b85ed81",
       "value": "IOC:m1"
      }
     },
     "92762b3b1b2847d4a76adef64c5ddc1e": {
      "model_module": "@jupyter-widgets/controls",
      "model_module_version": "1.4.0",
      "model_name": "DescriptionStyleModel",
      "state": {
       "description_width": "initial"
      }
     },
     "929da2cb6b774a358ae0d6a03bf70343": {
      "model_module": "@jupyter-widgets/base",
      "model_module_version": "1.1.0",
      "model_name": "LayoutModel",
      "state": {}
     },
     "92af7395fdc2425ab87c28fe57579342": {
      "model_module": "@jupyter-widgets/controls",
      "model_module_version": "1.4.0",
      "model_name": "DescriptionStyleModel",
      "state": {
       "description_width": ""
      }
     },
     "92b177fb082e4c50a4c1d5e7971d78f8": {
      "model_module": "@jupyter-widgets/controls",
      "model_module_version": "1.4.0",
      "model_name": "ButtonModel",
      "state": {
       "button_style": "success",
       "description": "Start Manual Alignment",
       "layout": "IPY_MODEL_be31aa7e863e48f99fd6284b5dcf90ee",
       "style": "IPY_MODEL_0cfdde4341d74e86a6268b45642194c1",
       "tooltip": "Click me"
      }
     },
     "92c1185c0f834c46ad68de3378bcfe8d": {
      "model_module": "@jupyter-widgets/base",
      "model_module_version": "1.1.0",
      "model_name": "LayoutModel",
      "state": {
       "width": "300px"
      }
     },
     "9300248a32cd41fab64b061a24bdfb78": {
      "model_module": "@jupyter-widgets/base",
      "model_module_version": "1.1.0",
      "model_name": "LayoutModel",
      "state": {}
     },
     "937ee51fc48342a8995094dded0a46e2": {
      "model_module": "@jupyter-widgets/base",
      "model_module_version": "1.1.0",
      "model_name": "LayoutModel",
      "state": {}
     },
     "93c5d9eb81f147ceb5a39534f13dd4d6": {
      "model_module": "@jupyter-widgets/controls",
      "model_module_version": "1.4.0",
      "model_name": "DescriptionStyleModel",
      "state": {
       "description_width": ""
      }
     },
     "93d26958950744e48574015c3acc479f": {
      "model_module": "@jupyter-widgets/base",
      "model_module_version": "1.1.0",
      "model_name": "LayoutModel",
      "state": {}
     },
     "93d561a3652844b184d8418eb49094c4": {
      "model_module": "@jupyter-widgets/base",
      "model_module_version": "1.1.0",
      "model_name": "LayoutModel",
      "state": {}
     },
     "93d5e212a6334aab9227068fdb067a90": {
      "model_module": "@jupyter-widgets/base",
      "model_module_version": "1.1.0",
      "model_name": "LayoutModel",
      "state": {}
     },
     "93e6dfdb27f84cf5bacb54707c88363e": {
      "model_module": "@jupyter-widgets/output",
      "model_module_version": "1.0.0",
      "model_name": "OutputModel",
      "state": {
       "layout": "IPY_MODEL_12815d67f8e942e6804527ca605e3d03"
      }
     },
     "94138531f7a44409a5942ca611966ecc": {
      "model_module": "@jupyter-widgets/output",
      "model_module_version": "1.0.0",
      "model_name": "OutputModel",
      "state": {
       "layout": "IPY_MODEL_23c2e7f5a9d142f0b850803f03d758d9"
      }
     },
     "9438606be55d420398973d4704a225d5": {
      "model_module": "@jupyter-widgets/controls",
      "model_module_version": "1.4.0",
      "model_name": "DescriptionStyleModel",
      "state": {
       "description_width": "initial"
      }
     },
     "946aa63f82c541f78275006b6a3b53e0": {
      "model_module": "@jupyter-widgets/base",
      "model_module_version": "1.1.0",
      "model_name": "LayoutModel",
      "state": {}
     },
     "9478c766f44f43c19f95afbaacaad490": {
      "model_module": "@jupyter-widgets/controls",
      "model_module_version": "1.4.0",
      "model_name": "ButtonStyleModel",
      "state": {}
     },
     "94b811490b5543d9a9d8f07c80035d36": {
      "buffers": [
       {
        "data": "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",
        "encoding": "base64",
        "path": [
         "value"
        ]
       }
      ],
      "model_module": "@jupyter-widgets/controls",
      "model_module_version": "1.4.0",
      "model_name": "ImageModel",
      "state": {
       "height": "35",
       "layout": "IPY_MODEL_c28b7259b1af4ea8bea107d46c31b281",
       "value": {},
       "width": "35"
      }
     },
     "94e4f07fc05f44ae96bb42d930e08ba3": {
      "model_module": "@jupyter-widgets/controls",
      "model_module_version": "1.4.0",
      "model_name": "ButtonModel",
      "state": {
       "button_style": "success",
       "description": "Start Motor Initializaton",
       "layout": "IPY_MODEL_6791abc4c4994ff987accee0023666a3",
       "style": "IPY_MODEL_b9f81d01afa34559ab412003fbba9385",
       "tooltip": "Click me"
      }
     },
     "9525d6ccc5734de38a157f4ec3373f11": {
      "model_module": "@jupyter-widgets/base",
      "model_module_version": "1.1.0",
      "model_name": "LayoutModel",
      "state": {}
     },
     "957380353d674e23b9b611ba544067b5": {
      "model_module": "@jupyter-widgets/controls",
      "model_module_version": "1.4.0",
      "model_name": "CheckboxModel",
      "state": {
       "disabled": false,
       "layout": "IPY_MODEL_8b9eefc8a8914214886abdf0744f0cc8",
       "style": "IPY_MODEL_87dc4bde7c2144baa6eaedfd28eaf07f",
       "value": false
      }
     },
     "95af696c27744d93b7eb93e6873f63b6": {
      "model_module": "@jupyter-widgets/base",
      "model_module_version": "1.1.0",
      "model_name": "LayoutModel",
      "state": {
       "width": "300px"
      }
     },
     "95b02204f10841d0b185b1fd75d4f489": {
      "model_module": "@jupyter-widgets/base",
      "model_module_version": "1.1.0",
      "model_name": "LayoutModel",
      "state": {}
     },
     "95b55fbc70874b42bcf0965149f0a381": {
      "model_module": "@jupyter-widgets/controls",
      "model_module_version": "1.4.0",
      "model_name": "DescriptionStyleModel",
      "state": {
       "description_width": ""
      }
     },
     "95dee10616314ff5a4154bedb9e4781d": {
      "model_module": "@jupyter-widgets/controls",
      "model_module_version": "1.4.0",
      "model_name": "ButtonModel",
      "state": {
       "button_style": "success",
       "description": "Start Manual Alignment",
       "layout": "IPY_MODEL_3530b373729549d787c541f0e5928e86",
       "style": "IPY_MODEL_d174edb7792e458abc682fbaf4593f54",
       "tooltip": "Click me"
      }
     },
     "95fb1bee8b91497fa25bbb6d4427c19c": {
      "model_module": "plotlywidget",
      "model_module_version": "0.8.0",
      "model_name": "FigureModel",
      "state": {
       "_config": {
        "plotlyServerURL": "https://plot.ly"
       },
       "_js2py_layoutDelta": {},
       "_js2py_pointsCallback": {},
       "_js2py_relayout": {},
       "_js2py_restyle": {},
       "_js2py_traceDeltas": {},
       "_js2py_update": {},
       "_layout": {
        "template": {}
       },
       "_model_module_version": "0.8.0",
       "_py2js_addTraces": {},
       "_py2js_animate": {},
       "_py2js_deleteTraces": {},
       "_py2js_moveTraces": {},
       "_py2js_removeLayoutProps": {},
       "_py2js_removeTraceProps": {},
       "_py2js_restyle": {},
       "_py2js_update": {},
       "_view_count": 0,
       "_view_module_version": "0.8.0"
      }
     },
     "9621243d2d714a59b311cb33204876cc": {
      "model_module": "@jupyter-widgets/controls",
      "model_module_version": "1.4.0",
      "model_name": "BoxModel",
      "state": {
       "children": [
        "IPY_MODEL_b6b134a2ae0840079cd27a1f5de2e528"
       ],
       "layout": "IPY_MODEL_e05184c7a98141c284499c8a1c861ccf"
      }
     },
     "963d39bd0ad3405cac716a1b8179d716": {
      "model_module": "@jupyter-widgets/controls",
      "model_module_version": "1.4.0",
      "model_name": "DescriptionStyleModel",
      "state": {
       "description_width": ""
      }
     },
     "9654a503b023492ca8b69e8e3a807403": {
      "model_module": "@jupyter-widgets/controls",
      "model_module_version": "1.4.0",
      "model_name": "VBoxModel",
      "state": {
       "children": [
        "IPY_MODEL_84ad5a0e66ec4384b855c230c42d3b78"
       ],
       "layout": "IPY_MODEL_9a209d6a6cfc41219b86989816d35b83"
      }
     },
     "9687090529d04c2e8d5f5fd926d5859b": {
      "model_module": "@jupyter-widgets/base",
      "model_module_version": "1.1.0",
      "model_name": "LayoutModel",
      "state": {
       "height": "40px",
       "width": "40px"
      }
     },
     "96b7061395644281b438d013eaf9b927": {
      "model_module": "@jupyter-widgets/output",
      "model_module_version": "1.0.0",
      "model_name": "OutputModel",
      "state": {
       "layout": "IPY_MODEL_2e04e7106abe41008d177c6617b36189",
       "outputs": [
        {
         "data": {
          "application/javascript": "IPython.notebook.save_checkpoint();",
          "text/plain": "<IPython.core.display.Javascript object>"
         },
         "metadata": {},
         "output_type": "display_data"
        }
       ]
      }
     },
     "9706e91340e545c3be58f9eac33de81c": {
      "model_module": "@jupyter-widgets/controls",
      "model_module_version": "1.4.0",
      "model_name": "ButtonModel",
      "state": {
       "button_style": "warning",
       "description": "Export Notebook to PDF",
       "layout": "IPY_MODEL_139f274b83cd4310bab0b948445c7a9c",
       "style": "IPY_MODEL_bbd2782877d3443d82675bb78df965d5",
       "tooltip": "Click me"
      }
     },
     "972f4efed26e4bdf9eaa2d44b2647fc1": {
      "model_module": "@jupyter-widgets/output",
      "model_module_version": "1.0.0",
      "model_name": "OutputModel",
      "state": {
       "layout": "IPY_MODEL_6e85f12ecc0d46f18c1500412901674d"
      }
     },
     "97362730a6bf4d1392d5c1e231493fa7": {
      "model_module": "@jupyter-widgets/controls",
      "model_module_version": "1.4.0",
      "model_name": "ButtonModel",
      "state": {
       "button_style": "success",
       "description": "Start Motor Initializaton",
       "layout": "IPY_MODEL_d9451ac4684e4d0396bfd3fac8318a3d",
       "style": "IPY_MODEL_b4b08b4a737e40379de7c27b8ae4c1ce",
       "tooltip": "Click me"
      }
     },
     "97493012fbc74805b309775995facbdd": {
      "model_module": "@jupyter-widgets/base",
      "model_module_version": "1.1.0",
      "model_name": "LayoutModel",
      "state": {}
     },
     "975bb909613847c6a95778134084708d": {
      "model_module": "@jupyter-widgets/base",
      "model_module_version": "1.1.0",
      "model_name": "LayoutModel",
      "state": {}
     },
     "977a22f1cd1046d683dc6b658ea8cbbc": {
      "model_module": "@jupyter-widgets/controls",
      "model_module_version": "1.4.0",
      "model_name": "ButtonStyleModel",
      "state": {}
     },
     "978b0245d4294a87878d38a639e3fade": {
      "model_module": "@jupyter-widgets/base",
      "model_module_version": "1.1.0",
      "model_name": "LayoutModel",
      "state": {}
     },
     "97a2b78e6c9c43e68f966947271a9808": {
      "model_module": "@jupyter-widgets/controls",
      "model_module_version": "1.4.0",
      "model_name": "VBoxModel",
      "state": {
       "children": [
        "IPY_MODEL_744ac900aa3d40ea8e893aa48fb392ad"
       ],
       "layout": "IPY_MODEL_ceea386ed263414d9e616790dc23cd2a"
      }
     },
     "97c2ab5b42d54832ba279a88a5834e71": {
      "model_module": "@jupyter-widgets/base",
      "model_module_version": "1.1.0",
      "model_name": "LayoutModel",
      "state": {}
     },
     "97c3072cf7da449fb7e2334174e0d249": {
      "model_module": "@jupyter-widgets/base",
      "model_module_version": "1.1.0",
      "model_name": "LayoutModel",
      "state": {}
     },
     "97e26d1ff0bf44f4a2955ea2e53e9e4a": {
      "model_module": "@jupyter-widgets/base",
      "model_module_version": "1.1.0",
      "model_name": "LayoutModel",
      "state": {}
     },
     "97fcba5614ae4156a8f0caf9760cfe09": {
      "model_module": "@jupyter-widgets/controls",
      "model_module_version": "1.4.0",
      "model_name": "ButtonStyleModel",
      "state": {}
     },
     "9809ff2aa77e49cb891202e953a4ae82": {
      "model_module": "@jupyter-widgets/base",
      "model_module_version": "1.1.0",
      "model_name": "LayoutModel",
      "state": {}
     },
     "980d8009d7e94296972cfdb04f30d6f8": {
      "model_module": "@jupyter-widgets/controls",
      "model_module_version": "1.4.0",
      "model_name": "LabelModel",
      "state": {
       "layout": "IPY_MODEL_1b9cba22fb0c49c5afb7e185a48cbc75",
       "style": "IPY_MODEL_f36f92a60f5f4e36be97209655df1857",
       "value": "0.0"
      }
     },
     "981dfa9fe1a14e3c95d04c99c5d8ca4e": {
      "model_module": "@jupyter-widgets/base",
      "model_module_version": "1.1.0",
      "model_name": "LayoutModel",
      "state": {
       "width": "300px"
      }
     },
     "983aed6c40b94be69395ad293e29a232": {
      "model_module": "@jupyter-widgets/controls",
      "model_module_version": "1.4.0",
      "model_name": "ButtonStyleModel",
      "state": {}
     },
     "984b1e2d706445318b7958d825a2f58b": {
      "model_module": "@jupyter-widgets/controls",
      "model_module_version": "1.4.0",
      "model_name": "DescriptionStyleModel",
      "state": {
       "description_width": ""
      }
     },
     "984f1664d1a24d44afa8b4683342d927": {
      "model_module": "@jupyter-widgets/base",
      "model_module_version": "1.1.0",
      "model_name": "LayoutModel",
      "state": {
       "width": "300px"
      }
     },
     "98661d822187415a9034da3028cf6ec5": {
      "model_module": "@jupyter-widgets/controls",
      "model_module_version": "1.4.0",
      "model_name": "CheckboxModel",
      "state": {
       "disabled": false,
       "layout": "IPY_MODEL_d495c2f781454fc5bc3c1800a9bdf38a",
       "style": "IPY_MODEL_c426df88b57d4c3e87648a909506cad3",
       "value": false
      }
     },
     "98dd1f9283654407b4e2bf53fa292515": {
      "model_module": "@jupyter-widgets/controls",
      "model_module_version": "1.4.0",
      "model_name": "DescriptionStyleModel",
      "state": {
       "description_width": "initial"
      }
     },
     "98f01ae71dcd4bc1bf1a324064c32aba": {
      "model_module": "@jupyter-widgets/controls",
      "model_module_version": "1.4.0",
      "model_name": "ButtonStyleModel",
      "state": {}
     },
     "9929c489cb4d42049cb17b7efc27f748": {
      "model_module": "@jupyter-widgets/output",
      "model_module_version": "1.0.0",
      "model_name": "OutputModel",
      "state": {
       "layout": "IPY_MODEL_1331936953d54475bfae606047fc9e52"
      }
     },
     "992ff162f9db4641ac40ddb6011f704f": {
      "buffers": [
       {
        "data": "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",
        "encoding": "base64",
        "path": [
         "value"
        ]
       }
      ],
      "model_module": "@jupyter-widgets/controls",
      "model_module_version": "1.4.0",
      "model_name": "ImageModel",
      "state": {
       "height": "35",
       "layout": "IPY_MODEL_b29fbed7491e42d3ac8a1f1345cf2922",
       "value": {},
       "width": "35"
      }
     },
     "99a1d30ac6b54294a5ec940288e6e0eb": {
      "model_module": "@jupyter-widgets/base",
      "model_module_version": "1.1.0",
      "model_name": "LayoutModel",
      "state": {}
     },
     "9a20361d0ae74c7d8046e723f21cbada": {
      "model_module": "@jupyter-widgets/base",
      "model_module_version": "1.1.0",
      "model_name": "LayoutModel",
      "state": {}
     },
     "9a209d6a6cfc41219b86989816d35b83": {
      "model_module": "@jupyter-widgets/base",
      "model_module_version": "1.1.0",
      "model_name": "LayoutModel",
      "state": {}
     },
     "9a3cf3f0f0cc4fa48058162e0806e6e6": {
      "model_module": "@jupyter-widgets/controls",
      "model_module_version": "1.4.0",
      "model_name": "DescriptionStyleModel",
      "state": {
       "description_width": ""
      }
     },
     "9a65d70fb04845bab7bd9c9364ef698c": {
      "model_module": "@jupyter-widgets/controls",
      "model_module_version": "1.4.0",
      "model_name": "BoxModel",
      "state": {
       "layout": "IPY_MODEL_2934bb7c8740405d8e2fd82f0c1e1a4e"
      }
     },
     "9ab61681ade446bba1984e258b695e37": {
      "model_module": "@jupyter-widgets/controls",
      "model_module_version": "1.4.0",
      "model_name": "VBoxModel",
      "state": {
       "children": [
        "IPY_MODEL_cc483adbdec8438fa7ff595fbda11f55",
        "IPY_MODEL_2cdb001b953f421b92725dacdc0908b9"
       ],
       "layout": "IPY_MODEL_e7bda2704da545c6b416106397d27396"
      }
     },
     "9af0d22451b44af6944a18c208db1c74": {
      "model_module": "@jupyter-widgets/base",
      "model_module_version": "1.1.0",
      "model_name": "LayoutModel",
      "state": {}
     },
     "9b1c57ff3d334bde8f8351475376fc38": {
      "model_module": "@jupyter-widgets/controls",
      "model_module_version": "1.4.0",
      "model_name": "VBoxModel",
      "state": {
       "children": [
        "IPY_MODEL_92b177fb082e4c50a4c1d5e7971d78f8"
       ],
       "layout": "IPY_MODEL_e7918205908f46a28a2a5ef3bd71999e"
      }
     },
     "9b2386c354964c0da49ebbbb3b22698f": {
      "model_module": "@jupyter-widgets/controls",
      "model_module_version": "1.4.0",
      "model_name": "HBoxModel",
      "state": {
       "children": [
        "IPY_MODEL_4ad382531b7244a2a68f6d6ce2fe2447",
        "IPY_MODEL_45ecd10711834b1ea0bcc9420dc754cf"
       ],
       "layout": "IPY_MODEL_315cb9d93cdb46e488c4baf446f1e9df"
      }
     },
     "9b540c795e7c42b1827571d7b54fe564": {
      "model_module": "@jupyter-widgets/base",
      "model_module_version": "1.1.0",
      "model_name": "LayoutModel",
      "state": {}
     },
     "9b5d02abd8084c32a5d96bf17b663654": {
      "model_module": "@jupyter-widgets/base",
      "model_module_version": "1.1.0",
      "model_name": "LayoutModel",
      "state": {}
     },
     "9b6d3dc9a8ef4ac68731d8a9382bcfae": {
      "model_module": "@jupyter-widgets/base",
      "model_module_version": "1.1.0",
      "model_name": "LayoutModel",
      "state": {}
     },
     "9bfbee363985482da71cf4b69759d55e": {
      "model_module": "@jupyter-widgets/controls",
      "model_module_version": "1.4.0",
      "model_name": "CheckboxModel",
      "state": {
       "description": "Print log in Notebook's cells",
       "disabled": false,
       "layout": "IPY_MODEL_cd0b7caee35542fb8646de3fa61c9d4a",
       "style": "IPY_MODEL_ad4a5ac7105c41f3b1ac24679e35d63a",
       "value": false
      }
     },
     "9c58da57a8b546d09123d1727b0469c9": {
      "buffers": [
       {
        "data": "AAAAAAAAAAAAAAAAAAAIQAAAAAAAACBAAAAAAAAAAEAAAAAAAAAiQA==",
        "encoding": "base64",
        "path": [
         "_data",
         0,
         "y",
         "value"
        ]
       },
       {
        "data": "AAAAAAAAAAAAAAAAAAAIQAAAAAAAACBAAAAAAAAAAEAAAAAAAAAiQA==",
        "encoding": "base64",
        "path": [
         "_data",
         1,
         "y",
         "value"
        ]
       }
      ],
      "model_module": "plotlywidget",
      "model_module_version": "0.8.0",
      "model_name": "FigureModel",
      "state": {
       "_config": {
        "plotlyServerURL": "https://plot.ly"
       },
       "_data": [
        {
         "mode": "lines+markers",
         "name": "line1",
         "type": "scatter",
         "uid": "7e853bba-573d-4cf5-9ad8-b52b06c1ff74",
         "x": [
          0,
          1,
          2,
          3,
          4
         ],
         "xaxis": "x",
         "y": {
          "dtype": "float64",
          "shape": [
           5
          ],
          "value": {}
         },
         "yaxis": "y"
        },
        {
         "mode": "lines+markers",
         "name": "line2",
         "type": "scatter",
         "uid": "aadd13f3-63f7-4640-95ae-4256d6ee31d7",
         "x": [
          0,
          1,
          2,
          3,
          4
         ],
         "xaxis": "x2",
         "y": {
          "dtype": "float64",
          "shape": [
           5
          ],
          "value": {}
         },
         "yaxis": "y2"
        }
       ],
       "_js2py_pointsCallback": {},
       "_js2py_restyle": {},
       "_js2py_update": {},
       "_last_layout_edit_id": 8,
       "_last_trace_edit_id": 7,
       "_layout": {
        "autosize": true,
        "plot_bgcolor": "rgb(230, 230, 230)",
        "template": {},
        "title": {
         "text": "Scan"
        },
        "xaxis": {
         "anchor": "y",
         "domain": [
          0,
          1
         ]
        },
        "xaxis2": {
         "anchor": "y2",
         "domain": [
          0,
          1
         ]
        },
        "yaxis": {
         "anchor": "x",
         "domain": [
          0.575,
          1
         ]
        },
        "yaxis2": {
         "anchor": "x2",
         "domain": [
          0,
          0.425
         ]
        }
       },
       "_model_module_version": "0.8.0",
       "_py2js_animate": {},
       "_py2js_deleteTraces": {},
       "_py2js_moveTraces": {},
       "_py2js_removeLayoutProps": {},
       "_py2js_removeTraceProps": {},
       "_view_count": 0,
       "_view_module_version": "0.8.0"
      }
     },
     "9c78ba8749b741b2a56f5619943b14cc": {
      "model_module": "@jupyter-widgets/controls",
      "model_module_version": "1.4.0",
      "model_name": "ButtonModel",
      "state": {
       "button_style": "success",
       "description": "Start Manual Alignment",
       "layout": "IPY_MODEL_ac77648f4200443bbb026ae6613b7777",
       "style": "IPY_MODEL_ff418e1e88f64691bca8af579778695b",
       "tooltip": "Click me"
      }
     },
     "9cc920e69fd04943b205034b8ce48d8f": {
      "model_module": "@jupyter-widgets/base",
      "model_module_version": "1.1.0",
      "model_name": "LayoutModel",
      "state": {}
     },
     "9cda5efe41ad4d7abb881eb7ebe11241": {
      "model_module": "@jupyter-widgets/controls",
      "model_module_version": "1.4.0",
      "model_name": "CheckboxModel",
      "state": {
       "disabled": false,
       "layout": "IPY_MODEL_02780d535430494fabd6181ff82d608d",
       "style": "IPY_MODEL_67b6b73830b44d6daa36beba5d5af33f",
       "value": false
      }
     },
     "9ce6a8312e6040bb8ea1b6eed432a1df": {
      "model_module": "@jupyter-widgets/base",
      "model_module_version": "1.1.0",
      "model_name": "LayoutModel",
      "state": {}
     },
     "9d19e23ff6a64943a9158dbbf1e292a3": {
      "model_module": "@jupyter-widgets/base",
      "model_module_version": "1.1.0",
      "model_name": "LayoutModel",
      "state": {}
     },
     "9d4bf1bd5b934111a7fe2d745fa22b7e": {
      "model_module": "@jupyter-widgets/controls",
      "model_module_version": "1.4.0",
      "model_name": "VBoxModel",
      "state": {
       "children": [
        "IPY_MODEL_b85e16f2d2ac424baf20866f1f2c0b67"
       ],
       "layout": "IPY_MODEL_1028d793ac0f4603b2647723aa81a528"
      }
     },
     "9d4fca172fea4928929ee11313769397": {
      "model_module": "@jupyter-widgets/base",
      "model_module_version": "1.1.0",
      "model_name": "LayoutModel",
      "state": {}
     },
     "9d50fd0303ec4fdfac03a7fe7645e52b": {
      "model_module": "@jupyter-widgets/base",
      "model_module_version": "1.1.0",
      "model_name": "LayoutModel",
      "state": {}
     },
     "9d8fa12c115f40f191ee96cfc0374f96": {
      "model_module": "@jupyter-widgets/controls",
      "model_module_version": "1.4.0",
      "model_name": "ButtonModel",
      "state": {
       "button_style": "warning",
       "description": "Export Notebook to PDF",
       "layout": "IPY_MODEL_19a5dbffffb2437f9569620f4a233190",
       "style": "IPY_MODEL_58effccc5de442988c8a5e5987743a73",
       "tooltip": "Click me"
      }
     },
     "9d90ae3b86c3433490d57cd41a75fe99": {
      "model_module": "@jupyter-widgets/base",
      "model_module_version": "1.1.0",
      "model_name": "LayoutModel",
      "state": {}
     },
     "9db6e5b9e4e9419d93f6b8bbbfadd5cb": {
      "model_module": "@jupyter-widgets/base",
      "model_module_version": "1.1.0",
      "model_name": "LayoutModel",
      "state": {}
     },
     "9ddfcd7e73a3497eb8c5d257e6fdd093": {
      "model_module": "@jupyter-widgets/base",
      "model_module_version": "1.1.0",
      "model_name": "LayoutModel",
      "state": {
       "width": "300px"
      }
     },
     "9e18630ac8ad43259fbff3f97e4912ab": {
      "model_module": "@jupyter-widgets/controls",
      "model_module_version": "1.4.0",
      "model_name": "DescriptionStyleModel",
      "state": {
       "description_width": "initial"
      }
     },
     "9e87371fd7c746ad8430e23220d9c0ad": {
      "model_module": "@jupyter-widgets/controls",
      "model_module_version": "1.4.0",
      "model_name": "DescriptionStyleModel",
      "state": {
       "description_width": ""
      }
     },
     "9e8dd8ee65d14d6f8278e0ae08082593": {
      "model_module": "@jupyter-widgets/controls",
      "model_module_version": "1.4.0",
      "model_name": "ButtonStyleModel",
      "state": {}
     },
     "9e9511d374c2490dba93d47a9f73772c": {
      "model_module": "@jupyter-widgets/base",
      "model_module_version": "1.1.0",
      "model_name": "LayoutModel",
      "state": {}
     },
     "9ecb2677c2d54321be5f361c92b5f4b4": {
      "model_module": "@jupyter-widgets/controls",
      "model_module_version": "1.4.0",
      "model_name": "ButtonStyleModel",
      "state": {}
     },
     "9ee7f3b608534a1f824f4f75364e4470": {
      "model_module": "@jupyter-widgets/base",
      "model_module_version": "1.1.0",
      "model_name": "LayoutModel",
      "state": {
       "height": "40px",
       "width": "40px"
      }
     },
     "9f10fc9e32a24f70a085cb2fbd9ae822": {
      "model_module": "@jupyter-widgets/base",
      "model_module_version": "1.1.0",
      "model_name": "LayoutModel",
      "state": {}
     },
     "9f71b522f9b64d199efe4db9b19bb140": {
      "model_module": "@jupyter-widgets/base",
      "model_module_version": "1.1.0",
      "model_name": "LayoutModel",
      "state": {}
     },
     "9fecd1eff087478e86b233b6cdcb3dc1": {
      "model_module": "@jupyter-widgets/controls",
      "model_module_version": "1.4.0",
      "model_name": "BoxModel",
      "state": {
       "layout": "IPY_MODEL_162738e92c2444a09d55d8c0bf514179"
      }
     },
     "a024f919137d4c44937de7d880b6c22d": {
      "model_module": "@jupyter-widgets/base",
      "model_module_version": "1.1.0",
      "model_name": "LayoutModel",
      "state": {}
     },
     "a0574f629dc44a4db60ca4a2f62a763e": {
      "model_module": "@jupyter-widgets/controls",
      "model_module_version": "1.4.0",
      "model_name": "ButtonStyleModel",
      "state": {}
     },
     "a07bf7c25f2a4dc8b1f059fc8787b12b": {
      "model_module": "@jupyter-widgets/controls",
      "model_module_version": "1.4.0",
      "model_name": "VBoxModel",
      "state": {
       "children": [
        "IPY_MODEL_ab31f1555b8247c1bb3c04b778186f05"
       ],
       "layout": "IPY_MODEL_ccd3d740dcdd4eb58b78399b9c3a953c"
      }
     },
     "a099dd55ba3a45d695020983e046577e": {
      "model_module": "@jupyter-widgets/base",
      "model_module_version": "1.1.0",
      "model_name": "LayoutModel",
      "state": {}
     },
     "a0cb18255d2f4c3a92db3dddd3d95024": {
      "model_module": "@jupyter-widgets/controls",
      "model_module_version": "1.4.0",
      "model_name": "VBoxModel",
      "state": {
       "children": [
        "IPY_MODEL_58347ad3e11343518b4c0474ff31fe53"
       ],
       "layout": "IPY_MODEL_2b0eeb41f3aa40b08feecbb4ed3510cb"
      }
     },
     "a0ec26d9cefe4a028f011da0a28e6f04": {
      "model_module": "@jupyter-widgets/base",
      "model_module_version": "1.1.0",
      "model_name": "LayoutModel",
      "state": {}
     },
     "a0f63c719a114bdbb752808e46819125": {
      "model_module": "@jupyter-widgets/base",
      "model_module_version": "1.1.0",
      "model_name": "LayoutModel",
      "state": {}
     },
     "a15baba43b7a42e69b3a9c346f8294b8": {
      "model_module": "@jupyter-widgets/base",
      "model_module_version": "1.1.0",
      "model_name": "LayoutModel",
      "state": {}
     },
     "a1a4b7095d72457f9bc5e382a5729133": {
      "model_module": "@jupyter-widgets/controls",
      "model_module_version": "1.4.0",
      "model_name": "ButtonModel",
      "state": {
       "button_style": "success",
       "description": "Start PV Monitoring",
       "layout": "IPY_MODEL_21f9a2ce82944a8eb2cf9225abfb3415",
       "style": "IPY_MODEL_5f7bb10e23f24142b2920826115619e7",
       "tooltip": "Click me"
      }
     },
     "a1e7f41c3c1a4b1f9908805b8c24d7ec": {
      "model_module": "@jupyter-widgets/controls",
      "model_module_version": "1.4.0",
      "model_name": "DescriptionStyleModel",
      "state": {
       "description_width": ""
      }
     },
     "a1f0b382cfba4a4bb2485c7f0d450b4a": {
      "model_module": "@jupyter-widgets/controls",
      "model_module_version": "1.4.0",
      "model_name": "VBoxModel",
      "state": {
       "children": [
        "IPY_MODEL_bfa55716690c49eeb4d7a77b9e86de01",
        "IPY_MODEL_e3cb5e60632f4de784ab32bfec0c39c5"
       ],
       "layout": "IPY_MODEL_a6402ce161e14fceba8bde4114020cb3"
      }
     },
     "a259dd0e825b47b2951f118c72c60916": {
      "model_module": "@jupyter-widgets/controls",
      "model_module_version": "1.4.0",
      "model_name": "DescriptionStyleModel",
      "state": {
       "description_width": ""
      }
     },
     "a26d99093922497891af004d10c4ccd6": {
      "model_module": "@jupyter-widgets/controls",
      "model_module_version": "1.4.0",
      "model_name": "CheckboxModel",
      "state": {
       "description": "Live plot in Jupyter: ",
       "disabled": false,
       "layout": "IPY_MODEL_3171ba52b58449c9bd23a9f1a0b2e525",
       "style": "IPY_MODEL_3307e84378c441cea5e8355e68357257",
       "value": false
      }
     },
     "a2ce4894b91044708837d2524d713fe7": {
      "model_module": "@jupyter-widgets/controls",
      "model_module_version": "1.4.0",
      "model_name": "CheckboxModel",
      "state": {
       "description": "Plot scan-gui graph instead of Jupyter's: ",
       "disabled": false,
       "layout": "IPY_MODEL_0df70591d3804e6c96ea036fa189860b",
       "style": "IPY_MODEL_0b008094b7884d1e8f93af0ceeb93b6a",
       "value": false
      }
     },
     "a2fb57e1dfd840b4bd6c49575386d506": {
      "model_module": "@jupyter-widgets/output",
      "model_module_version": "1.0.0",
      "model_name": "OutputModel",
      "state": {
       "layout": "IPY_MODEL_eb7b7265dd6c437088775e0816980223"
      }
     },
     "a317d06d74fa462ea2f2b9a891646f70": {
      "model_module": "@jupyter-widgets/controls",
      "model_module_version": "1.4.0",
      "model_name": "CheckboxModel",
      "state": {
       "description": "Plot scan-gui graph instead of Jupyter's: ",
       "disabled": false,
       "layout": "IPY_MODEL_4d170d885c944fa9b3c40253e6543828",
       "style": "IPY_MODEL_ff19ba84ee714b30a849adb718a8c44b",
       "value": false
      }
     },
     "a31f49fedb1a4a5b9970bcd89a210a1b": {
      "model_module": "@jupyter-widgets/controls",
      "model_module_version": "1.4.0",
      "model_name": "ButtonStyleModel",
      "state": {}
     },
     "a3459cc5cca34164b4ed14ee2d86bb7d": {
      "model_module": "@jupyter-widgets/base",
      "model_module_version": "1.1.0",
      "model_name": "LayoutModel",
      "state": {}
     },
     "a36f38a7044b4bef8912ecfdbdc8fb6a": {
      "model_module": "@jupyter-widgets/controls",
      "model_module_version": "1.4.0",
      "model_name": "VBoxModel",
      "state": {
       "children": [
        "IPY_MODEL_c6f50d6f01994ff3a030a83fd7c81318",
        "IPY_MODEL_51b0ae840ae440e396024a2352133dfe"
       ],
       "layout": "IPY_MODEL_4c95e6bd00d74459a9d8e0d5c2b476ee"
      }
     },
     "a3dc8a7215934580934cada8fdb56f5c": {
      "model_module": "@jupyter-widgets/base",
      "model_module_version": "1.1.0",
      "model_name": "LayoutModel",
      "state": {}
     },
     "a3e94b34280f4f0ab79237b537582211": {
      "model_module": "@jupyter-widgets/controls",
      "model_module_version": "1.4.0",
      "model_name": "ButtonModel",
      "state": {
       "button_style": "warning",
       "description": "Export Notebook to HTML",
       "layout": "IPY_MODEL_d729bc75c5b843acbc72e5d6d3f26545",
       "style": "IPY_MODEL_7eb6b82adf3844f48980ab99321060be",
       "tooltip": "Click me"
      }
     },
     "a4630ef8677d42a48bf178f4b7001899": {
      "model_module": "@jupyter-widgets/controls",
      "model_module_version": "1.4.0",
      "model_name": "ButtonModel",
      "state": {
       "layout": "IPY_MODEL_c62706eea91744d08a5a2069b5ef0d2c",
       "style": "IPY_MODEL_484db997405a473cb2c6c0fa7e030698"
      }
     },
     "a4acfd330f9b465bb45e5b878afdcd73": {
      "model_module": "@jupyter-widgets/output",
      "model_module_version": "1.0.0",
      "model_name": "OutputModel",
      "state": {
       "layout": "IPY_MODEL_f138adde50c74c458e9102bef4306fa8"
      }
     },
     "a4c665ab1bf54e068ea3a794765df7a1": {
      "model_module": "@jupyter-widgets/controls",
      "model_module_version": "1.4.0",
      "model_name": "BoxModel",
      "state": {
       "layout": "IPY_MODEL_353c53f3a6584d54bfd4cf56f1bec307"
      }
     },
     "a50ef25229834ddc8ad5716da1d7e80f": {
      "model_module": "@jupyter-widgets/controls",
      "model_module_version": "1.4.0",
      "model_name": "VBoxModel",
      "state": {
       "children": [
        "IPY_MODEL_923755295e774f63936c53ab397fc99d",
        "IPY_MODEL_75990a6fba8643b0957813093376610b"
       ],
       "layout": "IPY_MODEL_a6da4dcea6ca484581b5b06545c5af68"
      }
     },
     "a5181f7b415c4e87bb7611fde7922eec": {
      "model_module": "@jupyter-widgets/output",
      "model_module_version": "1.0.0",
      "model_name": "OutputModel",
      "state": {
       "layout": "IPY_MODEL_f883c4a1095947b092edf21fb7d4a006"
      }
     },
     "a59c62928b244fbeaeeabefbaa7abcb9": {
      "model_module": "@jupyter-widgets/controls",
      "model_module_version": "1.4.0",
      "model_name": "ButtonModel",
      "state": {
       "button_style": "success",
       "description": "Start Manual Alignment",
       "layout": "IPY_MODEL_1adb3118c7f54dab939666032df8a844",
       "style": "IPY_MODEL_b132218efd3a4ba58e3a70f7420af54a",
       "tooltip": "Click me"
      }
     },
     "a5c0cf7544da45c196b672f41021e473": {
      "model_module": "@jupyter-widgets/base",
      "model_module_version": "1.1.0",
      "model_name": "LayoutModel",
      "state": {}
     },
     "a5c138d66b324b58ac36e97f3f46398c": {
      "model_module": "@jupyter-widgets/controls",
      "model_module_version": "1.4.0",
      "model_name": "VBoxModel",
      "state": {
       "children": [
        "IPY_MODEL_4c15d1d510b9432a93326d51b2445b65",
        "IPY_MODEL_4ce0385d0f2c4434921e5feb69d48ff8"
       ],
       "layout": "IPY_MODEL_69343e2bae5340edbce6ce290c8c704e"
      }
     },
     "a61324025c0e4befa8996ea031e37a35": {
      "model_module": "@jupyter-widgets/controls",
      "model_module_version": "1.4.0",
      "model_name": "LabelModel",
      "state": {
       "layout": "IPY_MODEL_4fa3fd6d6cb24829bae9af7a9a9e3379",
       "style": "IPY_MODEL_542888f0150c4c51bdab0faf4f330616",
       "value": "No motors initilized to be showed."
      }
     },
     "a61ba9e33be1495abb9e2dfee9760dfc": {
      "model_module": "@jupyter-widgets/controls",
      "model_module_version": "1.4.0",
      "model_name": "DescriptionStyleModel",
      "state": {
       "description_width": ""
      }
     },
     "a6334246232d4e439a0f6c8472da9ca7": {
      "model_module": "@jupyter-widgets/controls",
      "model_module_version": "1.4.0",
      "model_name": "DescriptionStyleModel",
      "state": {
       "description_width": ""
      }
     },
     "a6402ce161e14fceba8bde4114020cb3": {
      "model_module": "@jupyter-widgets/base",
      "model_module_version": "1.1.0",
      "model_name": "LayoutModel",
      "state": {}
     },
     "a65f5ff3fa4e418391738976798d0ec4": {
      "model_module": "@jupyter-widgets/base",
      "model_module_version": "1.1.0",
      "model_name": "LayoutModel",
      "state": {}
     },
     "a67a1d23b1d04632a7d61d0a35585f1a": {
      "model_module": "@jupyter-widgets/output",
      "model_module_version": "1.0.0",
      "model_name": "OutputModel",
      "state": {
       "layout": "IPY_MODEL_4a1cc836aa8d42f68cbc3d88e0ee21fc"
      }
     },
     "a6c22c30bb2a43679b90c63aa5f2f5a5": {
      "model_module": "@jupyter-widgets/controls",
      "model_module_version": "1.4.0",
      "model_name": "CheckboxModel",
      "state": {
       "disabled": false,
       "layout": "IPY_MODEL_14f83113af5e4bf986c160ecc4abefc8",
       "style": "IPY_MODEL_b3aef5cccbab4e87b4e8a7d1c9ea4e62",
       "value": false
      }
     },
     "a6d4870432b342168534e293e0377030": {
      "model_module": "@jupyter-widgets/controls",
      "model_module_version": "1.4.0",
      "model_name": "ButtonStyleModel",
      "state": {}
     },
     "a6da4dcea6ca484581b5b06545c5af68": {
      "model_module": "@jupyter-widgets/base",
      "model_module_version": "1.1.0",
      "model_name": "LayoutModel",
      "state": {}
     },
     "a704669b42004b838ae428a789a38f4e": {
      "model_module": "@jupyter-widgets/controls",
      "model_module_version": "1.4.0",
      "model_name": "VBoxModel",
      "state": {
       "children": [
        "IPY_MODEL_b2ef2483bf4d4443a8e3fb8758f6128f"
       ],
       "layout": "IPY_MODEL_7c83d164a4db4753afdf9a8c28693fc0"
      }
     },
     "a779d5de9ade49a1943bfc46f9648c3e": {
      "model_module": "@jupyter-widgets/controls",
      "model_module_version": "1.4.0",
      "model_name": "DescriptionStyleModel",
      "state": {
       "description_width": ""
      }
     },
     "a77cff2be3fe446399066e455532b9f9": {
      "model_module": "@jupyter-widgets/controls",
      "model_module_version": "1.4.0",
      "model_name": "ButtonModel",
      "state": {
       "button_style": "success",
       "description": "Start Scanning Plot",
       "layout": "IPY_MODEL_767c8347216d46a89ad1f37204cff4f6",
       "style": "IPY_MODEL_9478c766f44f43c19f95afbaacaad490",
       "tooltip": "Click me"
      }
     },
     "a788c6e77d2347bbb68003973f8a6b42": {
      "model_module": "plotlywidget",
      "model_module_version": "0.8.0",
      "model_name": "FigureModel",
      "state": {
       "_config": {
        "plotlyServerURL": "https://plot.ly"
       },
       "_js2py_layoutDelta": {},
       "_js2py_pointsCallback": {},
       "_js2py_relayout": {},
       "_js2py_restyle": {},
       "_js2py_traceDeltas": {},
       "_js2py_update": {},
       "_layout": {
        "template": {}
       },
       "_model_module_version": "0.8.0",
       "_py2js_addTraces": {},
       "_py2js_animate": {},
       "_py2js_deleteTraces": {},
       "_py2js_moveTraces": {},
       "_py2js_removeLayoutProps": {},
       "_py2js_removeTraceProps": {},
       "_py2js_restyle": {},
       "_py2js_update": {},
       "_view_count": 0,
       "_view_module_version": "0.8.0"
      }
     },
     "a799dba9046f4e78ba9d12077c456f36": {
      "model_module": "@jupyter-widgets/base",
      "model_module_version": "1.1.0",
      "model_name": "LayoutModel",
      "state": {}
     },
     "a7fa0c62904a42eb8c801e3a75bb289b": {
      "model_module": "@jupyter-widgets/controls",
      "model_module_version": "1.4.0",
      "model_name": "VBoxModel",
      "state": {
       "children": [
        "IPY_MODEL_3e035979ff884066a06d24efbf8cd94d"
       ],
       "layout": "IPY_MODEL_6d438553e46d449983d7cc75b494e012"
      }
     },
     "a820c41311664ef58f64254d73ba5bee": {
      "model_module": "@jupyter-widgets/base",
      "model_module_version": "1.1.0",
      "model_name": "LayoutModel",
      "state": {
       "width": "300px"
      }
     },
     "a83195d3ec5e417485d77c9342816bed": {
      "model_module": "@jupyter-widgets/base",
      "model_module_version": "1.1.0",
      "model_name": "LayoutModel",
      "state": {}
     },
     "a84be4a6addb4515b0a26f3613796ef6": {
      "model_module": "@jupyter-widgets/controls",
      "model_module_version": "1.4.0",
      "model_name": "DescriptionStyleModel",
      "state": {
       "description_width": ""
      }
     },
     "a8533557c15f4542b65c6df07de5de7b": {
      "model_module": "@jupyter-widgets/controls",
      "model_module_version": "1.4.0",
      "model_name": "BoxModel",
      "state": {
       "layout": "IPY_MODEL_9687090529d04c2e8d5f5fd926d5859b"
      }
     },
     "a8738857cc054bf990319b0ee6c1a45b": {
      "model_module": "@jupyter-widgets/base",
      "model_module_version": "1.1.0",
      "model_name": "LayoutModel",
      "state": {}
     },
     "a88c167071654c92903bf78aa20673b6": {
      "buffers": [
       {
        "data": "AAAAAAAAR0AAAAAAAAAkQAAAAAAAAFJAAAAAAAAAPEAAAAAAAAA5QAAAAAAAAEVAAAAAAADAWEAAAAAAAAAqQAAAAAAAAFNAAAAAAACAVkA=",
        "encoding": "base64",
        "path": [
         "_data",
         0,
         "y",
         "value"
        ]
       },
       {
        "data": "AAAAAAAAR0AAAAAAAAAkQAAAAAAAAFJAAAAAAAAAPEAAAAAAAAA5QAAAAAAAAEVAAAAAAADAWEAAAAAAAAAqQAAAAAAAAFNAAAAAAACAVkA=",
        "encoding": "base64",
        "path": [
         "_data",
         1,
         "y",
         "value"
        ]
       }
      ],
      "model_module": "plotlywidget",
      "model_module_version": "0.8.0",
      "model_name": "FigureModel",
      "state": {
       "_config": {
        "plotlyServerURL": "https://plot.ly"
       },
       "_data": [
        {
         "mode": "lines+markers",
         "name": "line1",
         "type": "scatter",
         "uid": "a11b5739-40ae-4519-bdd1-94635d491b77",
         "x": [
          0,
          1,
          2,
          3,
          4,
          5,
          6,
          7,
          8,
          9
         ],
         "xaxis": "x",
         "y": {
          "dtype": "float64",
          "shape": [
           10
          ],
          "value": {}
         },
         "yaxis": "y"
        },
        {
         "mode": "lines+markers",
         "name": "line2",
         "type": "scatter",
         "uid": "a5fe8849-d90d-493c-a9ba-1a2345126f09",
         "x": [
          0,
          1,
          2,
          3,
          4,
          5,
          6,
          7,
          8,
          9
         ],
         "xaxis": "x2",
         "y": {
          "dtype": "float64",
          "shape": [
           10
          ],
          "value": {}
         },
         "yaxis": "y2"
        }
       ],
       "_js2py_restyle": {},
       "_js2py_update": {},
       "_last_layout_edit_id": 44,
       "_last_trace_edit_id": 43,
       "_layout": {
        "autosize": true,
        "plot_bgcolor": "rgb(230, 230, 230)",
        "template": {},
        "title": {
         "text": "Scan"
        },
        "xaxis": {
         "anchor": "y",
         "domain": [
          0,
          1
         ]
        },
        "xaxis2": {
         "anchor": "y2",
         "domain": [
          0,
          1
         ]
        },
        "yaxis": {
         "anchor": "x",
         "domain": [
          0.575,
          1
         ]
        },
        "yaxis2": {
         "anchor": "x2",
         "domain": [
          0,
          0.425
         ]
        }
       },
       "_model_module_version": "0.8.0",
       "_py2js_animate": {},
       "_py2js_deleteTraces": {},
       "_py2js_moveTraces": {},
       "_py2js_removeLayoutProps": {},
       "_py2js_removeTraceProps": {},
       "_view_count": 0,
       "_view_module_version": "0.8.0"
      }
     },
     "a8972d795c394cd2845736539a44d0a4": {
      "model_module": "@jupyter-widgets/controls",
      "model_module_version": "1.4.0",
      "model_name": "DescriptionStyleModel",
      "state": {
       "description_width": ""
      }
     },
     "a8d9ae5a7f0f44478b0cdfa9c04c5b2a": {
      "model_module": "@jupyter-widgets/base",
      "model_module_version": "1.1.0",
      "model_name": "LayoutModel",
      "state": {}
     },
     "a8f585843ac843f381c222da7bbd826d": {
      "model_module": "@jupyter-widgets/base",
      "model_module_version": "1.1.0",
      "model_name": "LayoutModel",
      "state": {}
     },
     "a91e6393bbcc403c8ff6762bc531b2c5": {
      "model_module": "@jupyter-widgets/base",
      "model_module_version": "1.1.0",
      "model_name": "LayoutModel",
      "state": {
       "width": "300px"
      }
     },
     "a9269501e11e4be58ba9a2dfa7153963": {
      "model_module": "@jupyter-widgets/base",
      "model_module_version": "1.1.0",
      "model_name": "LayoutModel",
      "state": {}
     },
     "a9991f2cdbb04b80afc992979b19054e": {
      "model_module": "@jupyter-widgets/controls",
      "model_module_version": "1.4.0",
      "model_name": "ButtonModel",
      "state": {
       "button_style": "success",
       "description": "Start Motor Initializaton",
       "layout": "IPY_MODEL_bf5d3ac39bb84b10b290c531998be216",
       "style": "IPY_MODEL_30ce3a9fa20042e49fa91c0808cd7240",
       "tooltip": "Click me"
      }
     },
     "a9abe49ecfde4078aa5fcdc869e7a0fa": {
      "model_module": "@jupyter-widgets/controls",
      "model_module_version": "1.4.0",
      "model_name": "ButtonModel",
      "state": {
       "button_style": "success",
       "description": "Start Manual Alignment",
       "layout": "IPY_MODEL_410a043a17bb4590b14f93bea3307534",
       "style": "IPY_MODEL_78b23f1425e74acc8b49907a833ff28d",
       "tooltip": "Click me"
      }
     },
     "aa4b0cb22c8943d197d3a69aa7943752": {
      "model_module": "@jupyter-widgets/controls",
      "model_module_version": "1.4.0",
      "model_name": "ButtonModel",
      "state": {
       "button_style": "success",
       "description": "Start PV Monitoring",
       "layout": "IPY_MODEL_dd35609dc8594162ade11a73bbfe013e",
       "style": "IPY_MODEL_3c244f726021464ebf15e10fa176f6b2",
       "tooltip": "Click me"
      }
     },
     "aa7489a7a4db4515a397625bb40565d5": {
      "model_module": "@jupyter-widgets/controls",
      "model_module_version": "1.4.0",
      "model_name": "VBoxModel",
      "state": {
       "children": [
        "IPY_MODEL_5aab102975854c249394ad3110a43f1c",
        "IPY_MODEL_57b6384e04164497a8f0a3abb020b703"
       ],
       "layout": "IPY_MODEL_a65f5ff3fa4e418391738976798d0ec4"
      }
     },
     "aa75ab6685904182826a3cb7f092d827": {
      "model_module": "@jupyter-widgets/base",
      "model_module_version": "1.1.0",
      "model_name": "LayoutModel",
      "state": {
       "width": "300px"
      }
     },
     "aa81d2f200dc4de0b9ff902f667fd18c": {
      "model_module": "@jupyter-widgets/controls",
      "model_module_version": "1.4.0",
      "model_name": "ButtonStyleModel",
      "state": {}
     },
     "aacf29fa04044547b9ca044182aa3990": {
      "model_module": "@jupyter-widgets/controls",
      "model_module_version": "1.4.0",
      "model_name": "ButtonStyleModel",
      "state": {}
     },
     "aaee1561c1544ec48fa985f258cf1826": {
      "model_module": "@jupyter-widgets/controls",
      "model_module_version": "1.4.0",
      "model_name": "BoxModel",
      "state": {
       "children": [
        "IPY_MODEL_fd494b4b2fe04d139de9c491d09f2c8e"
       ],
       "layout": "IPY_MODEL_46e49a3e82e54e27857ac6c43bfd0249"
      }
     },
     "aafa7aaac4f54f4f8365730ca71d373d": {
      "model_module": "@jupyter-widgets/base",
      "model_module_version": "1.1.0",
      "model_name": "LayoutModel",
      "state": {}
     },
     "ab31f1555b8247c1bb3c04b778186f05": {
      "model_module": "@jupyter-widgets/controls",
      "model_module_version": "1.4.0",
      "model_name": "ButtonModel",
      "state": {
       "button_style": "danger",
       "description": "Stop Scanning Plot",
       "layout": "IPY_MODEL_3d478381b7224319b778d0ccacad8aab",
       "style": "IPY_MODEL_30fd1fd5945b48c6adcf93081e1a08f3",
       "tooltip": "Click me"
      }
     },
     "abb352f7c9ec4939bbaddda8499f8ca8": {
      "model_module": "@jupyter-widgets/controls",
      "model_module_version": "1.4.0",
      "model_name": "VBoxModel",
      "state": {
       "children": [
        "IPY_MODEL_ce02c76f835c482d981756f06c0e8bf6"
       ],
       "layout": "IPY_MODEL_78e300c678c04d49a1702f89beb7beae"
      }
     },
     "abc1815e0384461cb034c764924fea6f": {
      "model_module": "@jupyter-widgets/controls",
      "model_module_version": "1.4.0",
      "model_name": "ButtonStyleModel",
      "state": {}
     },
     "abc8af0d9b654c4ead45f5883c3e5c9a": {
      "model_module": "@jupyter-widgets/controls",
      "model_module_version": "1.4.0",
      "model_name": "VBoxModel",
      "state": {
       "children": [
        "IPY_MODEL_41cfdfa5e8934de69dbd7b736daa4255"
       ],
       "layout": "IPY_MODEL_8548ec4b876340c1bbdd4d850b679a65"
      }
     },
     "abdb10346cad4e74a22d85f12bb2029c": {
      "model_module": "@jupyter-widgets/base",
      "model_module_version": "1.1.0",
      "model_name": "LayoutModel",
      "state": {
       "width": "300px"
      }
     },
     "abe9a448b2ee4388bf56ecc5df66de4f": {
      "model_module": "@jupyter-widgets/base",
      "model_module_version": "1.1.0",
      "model_name": "LayoutModel",
      "state": {
       "width": "300px"
      }
     },
     "abefb9afbad44c979aa7b19822dc7140": {
      "model_module": "@jupyter-widgets/controls",
      "model_module_version": "1.4.0",
      "model_name": "DescriptionStyleModel",
      "state": {
       "description_width": "initial"
      }
     },
     "ac472ae9f2834808a90f1b3b1213ed0d": {
      "model_module": "@jupyter-widgets/base",
      "model_module_version": "1.1.0",
      "model_name": "LayoutModel",
      "state": {}
     },
     "ac69367d5915482abf0a95e163dd043e": {
      "model_module": "@jupyter-widgets/base",
      "model_module_version": "1.1.0",
      "model_name": "LayoutModel",
      "state": {}
     },
     "ac7263eb362d4e7996eeafa8d6908750": {
      "model_module": "@jupyter-widgets/base",
      "model_module_version": "1.1.0",
      "model_name": "LayoutModel",
      "state": {
       "width": "300px"
      }
     },
     "ac77648f4200443bbb026ae6613b7777": {
      "model_module": "@jupyter-widgets/base",
      "model_module_version": "1.1.0",
      "model_name": "LayoutModel",
      "state": {
       "width": "300px"
      }
     },
     "ac92988864db46929b3eed68362cfea0": {
      "model_module": "@jupyter-widgets/controls",
      "model_module_version": "1.4.0",
      "model_name": "CheckboxModel",
      "state": {
       "disabled": false,
       "layout": "IPY_MODEL_eecf6b4e7b474086bea9a24eed162685",
       "style": "IPY_MODEL_46596bf476c546dbb366733b664419f6",
       "value": false
      }
     },
     "acaeae5625bf4e7f8d65ab6330bda73a": {
      "model_module": "@jupyter-widgets/output",
      "model_module_version": "1.0.0",
      "model_name": "OutputModel",
      "state": {
       "layout": "IPY_MODEL_c0a53a01444d4e5dbacefc87fac0c9fa"
      }
     },
     "ace9f258b3e54dbb85626a72d6cfb663": {
      "model_module": "@jupyter-widgets/base",
      "model_module_version": "1.1.0",
      "model_name": "LayoutModel",
      "state": {}
     },
     "ad3dfa767fb74d51a6705ea4020b4dd1": {
      "model_module": "@jupyter-widgets/base",
      "model_module_version": "1.1.0",
      "model_name": "LayoutModel",
      "state": {}
     },
     "ad4a5ac7105c41f3b1ac24679e35d63a": {
      "model_module": "@jupyter-widgets/controls",
      "model_module_version": "1.4.0",
      "model_name": "DescriptionStyleModel",
      "state": {
       "description_width": "initial"
      }
     },
     "ad9fbb22a1924975a7174d5b7475921d": {
      "model_module": "@jupyter-widgets/controls",
      "model_module_version": "1.4.0",
      "model_name": "VBoxModel",
      "state": {
       "children": [
        "IPY_MODEL_66a715e7b4d2430c80fda59b8d8a4aa8"
       ],
       "layout": "IPY_MODEL_055b59cfbbe1451d9b9c334c1b7c039c"
      }
     },
     "adc0aa64f8324dcb9dc38b58931870a4": {
      "model_module": "@jupyter-widgets/base",
      "model_module_version": "1.1.0",
      "model_name": "LayoutModel",
      "state": {}
     },
     "adcd968bd7f34d00958dce680128701b": {
      "model_module": "@jupyter-widgets/controls",
      "model_module_version": "1.4.0",
      "model_name": "VBoxModel",
      "state": {
       "children": [
        "IPY_MODEL_c3c8ceeff68a40679908317ea2b73036"
       ],
       "layout": "IPY_MODEL_d30cff7990b14bd39898ccb064dcbbc1"
      }
     },
     "ade94d4ccc9c4c60a844609915f04909": {
      "model_module": "@jupyter-widgets/output",
      "model_module_version": "1.0.0",
      "model_name": "OutputModel",
      "state": {
       "layout": "IPY_MODEL_2aee8571b09d45009d8401a8b917e0d3"
      }
     },
     "adfe7992a9e541a596e10e3be83bcf51": {
      "model_module": "@jupyter-widgets/controls",
      "model_module_version": "1.4.0",
      "model_name": "DescriptionStyleModel",
      "state": {
       "description_width": ""
      }
     },
     "ae5c7db10d4a4d4aa9231fab8dbfdda5": {
      "model_module": "@jupyter-widgets/base",
      "model_module_version": "1.1.0",
      "model_name": "LayoutModel",
      "state": {}
     },
     "aedf03c75c244f2b98c24c2d24bd615c": {
      "model_module": "@jupyter-widgets/base",
      "model_module_version": "1.1.0",
      "model_name": "LayoutModel",
      "state": {}
     },
     "aedf6fe889384dfb99ac5b5269ee3fe9": {
      "model_module": "@jupyter-widgets/controls",
      "model_module_version": "1.4.0",
      "model_name": "ButtonStyleModel",
      "state": {}
     },
     "aee59a2ea26e47779880506bba842b9d": {
      "model_module": "@jupyter-widgets/base",
      "model_module_version": "1.1.0",
      "model_name": "LayoutModel",
      "state": {}
     },
     "af00f4d797e64953a13b41cc06cd4ab1": {
      "model_module": "@jupyter-widgets/base",
      "model_module_version": "1.1.0",
      "model_name": "LayoutModel",
      "state": {}
     },
     "af1750feb86545ca839c48b7c3b94dc5": {
      "model_module": "@jupyter-widgets/base",
      "model_module_version": "1.1.0",
      "model_name": "LayoutModel",
      "state": {}
     },
     "af3040c6d928491481c0a3eedac2bdad": {
      "model_module": "@jupyter-widgets/controls",
      "model_module_version": "1.4.0",
      "model_name": "LabelModel",
      "state": {
       "layout": "IPY_MODEL_662595cbb23b4ba7b10c321847e5fba7",
       "style": "IPY_MODEL_1f2b3db4f61e4541ae56d4aea9b035a9",
       "value": "IOC:m1"
      }
     },
     "af5de771582e4902ba5801af227e1ac6": {
      "model_module": "@jupyter-widgets/base",
      "model_module_version": "1.1.0",
      "model_name": "LayoutModel",
      "state": {}
     },
     "af7f962ce1b64834bf8b33ac67f72228": {
      "model_module": "@jupyter-widgets/base",
      "model_module_version": "1.1.0",
      "model_name": "LayoutModel",
      "state": {}
     },
     "af7fe1294de042d3a00614a4c9959993": {
      "model_module": "@jupyter-widgets/output",
      "model_module_version": "1.0.0",
      "model_name": "OutputModel",
      "state": {
       "layout": "IPY_MODEL_27e80dede8084f6f8655f871581847cc"
      }
     },
     "afa0634e141a44a39699a9f3bbf21f2f": {
      "model_module": "@jupyter-widgets/base",
      "model_module_version": "1.1.0",
      "model_name": "LayoutModel",
      "state": {}
     },
     "afdcec4dad5a42d6a43fb23e8e9febe4": {
      "model_module": "@jupyter-widgets/controls",
      "model_module_version": "1.4.0",
      "model_name": "ButtonStyleModel",
      "state": {}
     },
     "b07086b77ca4486f96247afdefed6674": {
      "model_module": "@jupyter-widgets/controls",
      "model_module_version": "1.4.0",
      "model_name": "CheckboxModel",
      "state": {
       "disabled": false,
       "layout": "IPY_MODEL_395b8b2a244e4e6f970ffa8792c26f1d",
       "style": "IPY_MODEL_00c581d5dd1342aca10c01919654ff94",
       "value": false
      }
     },
     "b0d8566615eb4a688de62aede03a8753": {
      "model_module": "@jupyter-widgets/base",
      "model_module_version": "1.1.0",
      "model_name": "LayoutModel",
      "state": {
       "width": "300px"
      }
     },
     "b132218efd3a4ba58e3a70f7420af54a": {
      "model_module": "@jupyter-widgets/controls",
      "model_module_version": "1.4.0",
      "model_name": "ButtonStyleModel",
      "state": {}
     },
     "b16049a1e295476a9738ca5f5138a81f": {
      "model_module": "@jupyter-widgets/controls",
      "model_module_version": "1.4.0",
      "model_name": "ButtonStyleModel",
      "state": {}
     },
     "b173d4c8421945beb5884301e5d838cf": {
      "model_module": "@jupyter-widgets/base",
      "model_module_version": "1.1.0",
      "model_name": "LayoutModel",
      "state": {}
     },
     "b18592e40a77493e98615a1bfece7b31": {
      "model_module": "@jupyter-widgets/controls",
      "model_module_version": "1.4.0",
      "model_name": "ButtonStyleModel",
      "state": {}
     },
     "b194e72cb6e8455e8fd23952bbbe3d91": {
      "model_module": "@jupyter-widgets/controls",
      "model_module_version": "1.4.0",
      "model_name": "ButtonStyleModel",
      "state": {}
     },
     "b19c0aa3e53640cd90720ef54e44974b": {
      "model_module": "@jupyter-widgets/base",
      "model_module_version": "1.1.0",
      "model_name": "LayoutModel",
      "state": {
       "width": "300px"
      }
     },
     "b1b9750aca284556a27c09a9e42a0f44": {
      "model_module": "@jupyter-widgets/controls",
      "model_module_version": "1.4.0",
      "model_name": "CheckboxModel",
      "state": {
       "description": "Live plot in Jupyter: ",
       "disabled": true,
       "layout": "IPY_MODEL_f076c27330a14c61944f86a856c80332",
       "style": "IPY_MODEL_3bedfef6ec10499183668e7ab72fba58",
       "value": false
      }
     },
     "b1bc09b69d2b444eafa16d3c43d6a0ff": {
      "model_module": "@jupyter-widgets/base",
      "model_module_version": "1.1.0",
      "model_name": "LayoutModel",
      "state": {}
     },
     "b273070111b74fff803c596fefd284c3": {
      "model_module": "@jupyter-widgets/base",
      "model_module_version": "1.1.0",
      "model_name": "LayoutModel",
      "state": {}
     },
     "b28f80027e574fd68744614cb35d400e": {
      "model_module": "@jupyter-widgets/controls",
      "model_module_version": "1.4.0",
      "model_name": "DescriptionStyleModel",
      "state": {
       "description_width": ""
      }
     },
     "b29cdac605e64cdab216365f86f1de44": {
      "model_module": "@jupyter-widgets/base",
      "model_module_version": "1.1.0",
      "model_name": "LayoutModel",
      "state": {}
     },
     "b29fbed7491e42d3ac8a1f1345cf2922": {
      "model_module": "@jupyter-widgets/base",
      "model_module_version": "1.1.0",
      "model_name": "LayoutModel",
      "state": {}
     },
     "b2b84a80861942f8a0a70a9af0c133d3": {
      "model_module": "@jupyter-widgets/base",
      "model_module_version": "1.1.0",
      "model_name": "LayoutModel",
      "state": {}
     },
     "b2db131c2f7e491e8ab8fd1094fb1ce4": {
      "model_module": "@jupyter-widgets/base",
      "model_module_version": "1.1.0",
      "model_name": "LayoutModel",
      "state": {}
     },
     "b2ef2483bf4d4443a8e3fb8758f6128f": {
      "model_module": "@jupyter-widgets/controls",
      "model_module_version": "1.4.0",
      "model_name": "ButtonModel",
      "state": {
       "button_style": "success",
       "description": "Start Manual Alignment",
       "layout": "IPY_MODEL_d72840422779405eb65b7aa896a0f391",
       "style": "IPY_MODEL_ebb169f1ba1546f4a9f8a1fdd462570f",
       "tooltip": "Click me"
      }
     },
     "b2f9028ff404431c835448d5179562d2": {
      "model_module": "@jupyter-widgets/base",
      "model_module_version": "1.1.0",
      "model_name": "LayoutModel",
      "state": {}
     },
     "b377c3c8277e4ff998409f5bb1fe09f4": {
      "model_module": "@jupyter-widgets/controls",
      "model_module_version": "1.4.0",
      "model_name": "CheckboxModel",
      "state": {
       "description": "Print log in Notebook's cells",
       "disabled": false,
       "layout": "IPY_MODEL_4ab1bc3340cf46dfbab4952f3005d23f",
       "style": "IPY_MODEL_69978505164d4cc89fa2e94908e15327",
       "value": false
      }
     },
     "b39e4b591ad248fa872c5336c6c25fd9": {
      "model_module": "@jupyter-widgets/controls",
      "model_module_version": "1.4.0",
      "model_name": "ButtonModel",
      "state": {
       "button_style": "success",
       "description": "Start Scanning Plot",
       "layout": "IPY_MODEL_4a7c12d62126499793c2f1b0a2032d24",
       "style": "IPY_MODEL_d8da0f6e7fea4aa8b448783b8901e95b",
       "tooltip": "Click me"
      }
     },
     "b3abc7b4904243428c4647eadb5302b1": {
      "model_module": "@jupyter-widgets/base",
      "model_module_version": "1.1.0",
      "model_name": "LayoutModel",
      "state": {
       "width": "300px"
      }
     },
     "b3aef5cccbab4e87b4e8a7d1c9ea4e62": {
      "model_module": "@jupyter-widgets/controls",
      "model_module_version": "1.4.0",
      "model_name": "DescriptionStyleModel",
      "state": {
       "description_width": ""
      }
     },
     "b3b81874f0364fccbca76bba89489611": {
      "model_module": "@jupyter-widgets/controls",
      "model_module_version": "1.4.0",
      "model_name": "CheckboxModel",
      "state": {
       "disabled": false,
       "layout": "IPY_MODEL_9809ff2aa77e49cb891202e953a4ae82",
       "style": "IPY_MODEL_e2cfb192d94e46f182f1a6ca7918593f",
       "value": false
      }
     },
     "b3c940604c4245578d81e9efca249f26": {
      "model_module": "@jupyter-widgets/base",
      "model_module_version": "1.1.0",
      "model_name": "LayoutModel",
      "state": {}
     },
     "b3ee48ba0a2843c1b2616f489b6da4b1": {
      "model_module": "@jupyter-widgets/controls",
      "model_module_version": "1.4.0",
      "model_name": "ButtonStyleModel",
      "state": {}
     },
     "b41e9add834749538ae502a89ea80a3d": {
      "model_module": "@jupyter-widgets/controls",
      "model_module_version": "1.4.0",
      "model_name": "DescriptionStyleModel",
      "state": {
       "description_width": "initial"
      }
     },
     "b43552b3e7cc44539cdc8eda683857ef": {
      "model_module": "@jupyter-widgets/base",
      "model_module_version": "1.1.0",
      "model_name": "LayoutModel",
      "state": {}
     },
     "b451aaee039943cf8f8f5de7f156ace8": {
      "model_module": "@jupyter-widgets/base",
      "model_module_version": "1.1.0",
      "model_name": "LayoutModel",
      "state": {
       "width": "300px"
      }
     },
     "b4b08b4a737e40379de7c27b8ae4c1ce": {
      "model_module": "@jupyter-widgets/controls",
      "model_module_version": "1.4.0",
      "model_name": "ButtonStyleModel",
      "state": {}
     },
     "b4d480147116444c9202cab2f6a08915": {
      "model_module": "@jupyter-widgets/controls",
      "model_module_version": "1.4.0",
      "model_name": "DescriptionStyleModel",
      "state": {
       "description_width": ""
      }
     },
     "b4e07da1085546f58a2339abc563c744": {
      "model_module": "@jupyter-widgets/base",
      "model_module_version": "1.1.0",
      "model_name": "LayoutModel",
      "state": {}
     },
     "b4e652041845424386e71e6715742c97": {
      "model_module": "@jupyter-widgets/controls",
      "model_module_version": "1.4.0",
      "model_name": "ButtonModel",
      "state": {
       "button_style": "success",
       "description": "Start PV Monitoring",
       "layout": "IPY_MODEL_54c102460b6047f4bb5482062c212c7a",
       "style": "IPY_MODEL_eed0c892e8ef4a4bacf45f5bab4f3d8c",
       "tooltip": "Click me"
      }
     },
     "b54a797520a341deac96b1f9cdae9c62": {
      "model_module": "@jupyter-widgets/controls",
      "model_module_version": "1.4.0",
      "model_name": "DescriptionStyleModel",
      "state": {
       "description_width": ""
      }
     },
     "b5837976fd5f4d03a428e9df5d6b7102": {
      "model_module": "@jupyter-widgets/output",
      "model_module_version": "1.0.0",
      "model_name": "OutputModel",
      "state": {
       "layout": "IPY_MODEL_9db6e5b9e4e9419d93f6b8bbbfadd5cb"
      }
     },
     "b5aa473615d04ce8b158105130f43e88": {
      "model_module": "@jupyter-widgets/controls",
      "model_module_version": "1.4.0",
      "model_name": "LabelModel",
      "state": {
       "layout": "IPY_MODEL_23143ee8e04049e094cb56100e75d91c",
       "style": "IPY_MODEL_a6334246232d4e439a0f6c8472da9ca7",
       "value": "No motors initilized to be showed."
      }
     },
     "b5db9437dcb4441c820d5c8d2628b1e8": {
      "model_module": "@jupyter-widgets/controls",
      "model_module_version": "1.4.0",
      "model_name": "TextareaModel",
      "state": {
       "layout": "IPY_MODEL_6e929ab1aa0c4534b99b0a7fdc5837f3",
       "placeholder": "Example: IOC:m1 IOC:m3 LNLS:TEST:motor_g3",
       "style": "IPY_MODEL_9a3cf3f0f0cc4fa48058162e0806e6e6",
       "value": "IOC:m1"
      }
     },
     "b605a2593c964659a21eae38f8fef4b2": {
      "model_module": "@jupyter-widgets/controls",
      "model_module_version": "1.4.0",
      "model_name": "CheckboxModel",
      "state": {
       "description": "Live plot in Jupyter: ",
       "disabled": false,
       "layout": "IPY_MODEL_3fc416d5f90c4a65949d1df33b61aea1",
       "style": "IPY_MODEL_585ab18990854b7e8655b3af2673f29a",
       "value": false
      }
     },
     "b6334b9e9e8a42e98842a8f22de8d364": {
      "model_module": "@jupyter-widgets/controls",
      "model_module_version": "1.4.0",
      "model_name": "BoxModel",
      "state": {
       "layout": "IPY_MODEL_5c3324bb6f6243618280404e6759e9c7"
      }
     },
     "b65a6de83ad4471dbb2f570a5e6b8d29": {
      "model_module": "@jupyter-widgets/controls",
      "model_module_version": "1.4.0",
      "model_name": "DescriptionStyleModel",
      "state": {
       "description_width": ""
      }
     },
     "b65b7c4b1b9c49cc9359c42644ab8823": {
      "model_module": "@jupyter-widgets/base",
      "model_module_version": "1.1.0",
      "model_name": "LayoutModel",
      "state": {}
     },
     "b6a84a5a3b1642abb40b3688d59bf7aa": {
      "model_module": "@jupyter-widgets/base",
      "model_module_version": "1.1.0",
      "model_name": "LayoutModel",
      "state": {}
     },
     "b6b134a2ae0840079cd27a1f5de2e528": {
      "buffers": [
       {
        "data": "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",
        "encoding": "base64",
        "path": [
         "value"
        ]
       }
      ],
      "model_module": "@jupyter-widgets/controls",
      "model_module_version": "1.4.0",
      "model_name": "ImageModel",
      "state": {
       "height": "35",
       "layout": "IPY_MODEL_904a0d622a5a4b439e051384d6b8e5ad",
       "value": {},
       "width": "35"
      }
     },
     "b6d2298bb98c49b9b5251fee2d708871": {
      "model_module": "@jupyter-widgets/output",
      "model_module_version": "1.0.0",
      "model_name": "OutputModel",
      "state": {
       "layout": "IPY_MODEL_7967ea40ea624237840702f65d95fdfb",
       "outputs": [
        {
         "name": "stdout",
         "output_type": "stream",
         "text": "2019-05-13 15:37:50 Starting manual alignment\n2019-05-13 15:37:52 Finished manual alignment\n"
        }
       ]
      }
     },
     "b6e2caec0a4c442daa1da4bfbf6a24b5": {
      "model_module": "@jupyter-widgets/controls",
      "model_module_version": "1.4.0",
      "model_name": "ButtonModel",
      "state": {
       "button_style": "success",
       "description": "Start Motor Initializaton",
       "layout": "IPY_MODEL_3883a050cd084ec0adf98b31eb0dc806",
       "style": "IPY_MODEL_15c5b4a0031e4c3d9d89344b302e15a4",
       "tooltip": "Click me"
      }
     },
     "b6f915f2de234fe0a97fc8214a97b7d6": {
      "model_module": "@jupyter-widgets/base",
      "model_module_version": "1.1.0",
      "model_name": "LayoutModel",
      "state": {}
     },
     "b73e7afaea7240aca7490f6dc67ec4d8": {
      "model_module": "@jupyter-widgets/controls",
      "model_module_version": "1.4.0",
      "model_name": "ButtonModel",
      "state": {
       "button_style": "warning",
       "description": "Export Notebook to PDF",
       "layout": "IPY_MODEL_c2c2594f999244c6a1fa41351530f16c",
       "style": "IPY_MODEL_f92edc3a352d45d2b3d105a5da207d04",
       "tooltip": "Click me"
      }
     },
     "b774fa1a8dda4a5c99f5bc7eed9bc221": {
      "model_module": "@jupyter-widgets/controls",
      "model_module_version": "1.4.0",
      "model_name": "DescriptionStyleModel",
      "state": {
       "description_width": ""
      }
     },
     "b77c363117e342829ca17447ecf1f5e8": {
      "model_module": "@jupyter-widgets/output",
      "model_module_version": "1.0.0",
      "model_name": "OutputModel",
      "state": {
       "layout": "IPY_MODEL_d2b641efaff84941b9d9e40068861ed1"
      }
     },
     "b85e16f2d2ac424baf20866f1f2c0b67": {
      "model_module": "@jupyter-widgets/controls",
      "model_module_version": "1.4.0",
      "model_name": "LabelModel",
      "state": {
       "layout": "IPY_MODEL_d1b05063fb10479a9326638fe6073d76",
       "style": "IPY_MODEL_3e56907759bd40468b5efa3a92cff7af",
       "value": "No motors initilized to be showed."
      }
     },
     "b960f2e1a817415da8c9536f01063aae": {
      "model_module": "@jupyter-widgets/base",
      "model_module_version": "1.1.0",
      "model_name": "LayoutModel",
      "state": {}
     },
     "b9921bf8f58c4b67aef171196d78a73d": {
      "model_module": "@jupyter-widgets/base",
      "model_module_version": "1.1.0",
      "model_name": "LayoutModel",
      "state": {
       "width": "300px"
      }
     },
     "b99c1da0b1904ec0a189bb69ee36002f": {
      "model_module": "@jupyter-widgets/controls",
      "model_module_version": "1.4.0",
      "model_name": "ButtonStyleModel",
      "state": {}
     },
     "b9f81d01afa34559ab412003fbba9385": {
      "model_module": "@jupyter-widgets/controls",
      "model_module_version": "1.4.0",
      "model_name": "ButtonStyleModel",
      "state": {}
     },
     "ba2c3833a31b43a48acc74924b3c7ae7": {
      "model_module": "@jupyter-widgets/controls",
      "model_module_version": "1.4.0",
      "model_name": "DescriptionStyleModel",
      "state": {
       "description_width": "initial"
      }
     },
     "ba37312823f049f698285204ff715e05": {
      "model_module": "@jupyter-widgets/base",
      "model_module_version": "1.1.0",
      "model_name": "LayoutModel",
      "state": {}
     },
     "ba834399e623489f8f681c141cb9a37d": {
      "model_module": "@jupyter-widgets/base",
      "model_module_version": "1.1.0",
      "model_name": "LayoutModel",
      "state": {}
     },
     "ba88e4be78834475afe9ce9f483a9880": {
      "model_module": "@jupyter-widgets/base",
      "model_module_version": "1.1.0",
      "model_name": "LayoutModel",
      "state": {}
     },
     "baa83aa4f3be4b0783db5d26ce25f066": {
      "model_module": "@jupyter-widgets/controls",
      "model_module_version": "1.4.0",
      "model_name": "CheckboxModel",
      "state": {
       "description": "Print log in Notebook's cells",
       "disabled": false,
       "layout": "IPY_MODEL_d9daceb57a3a413499324e5bfab4b1cf",
       "style": "IPY_MODEL_d772062b6f714aae8ad39f2b6385bb1e",
       "value": false
      }
     },
     "bac751329fbb4bb88e307b5be214a281": {
      "model_module": "@jupyter-widgets/controls",
      "model_module_version": "1.4.0",
      "model_name": "DescriptionStyleModel",
      "state": {
       "description_width": ""
      }
     },
     "baebffea4e2b4192a7b3647201fdbe76": {
      "model_module": "@jupyter-widgets/output",
      "model_module_version": "1.0.0",
      "model_name": "OutputModel",
      "state": {
       "layout": "IPY_MODEL_b2f9028ff404431c835448d5179562d2"
      }
     },
     "baecfbac72b6419f8ff604a6a36739fb": {
      "model_module": "@jupyter-widgets/controls",
      "model_module_version": "1.4.0",
      "model_name": "CheckboxModel",
      "state": {
       "description": "Live plot in Jupyter: ",
       "disabled": false,
       "layout": "IPY_MODEL_c13feaba7a3e4189a0194b5bb0787613",
       "style": "IPY_MODEL_9e18630ac8ad43259fbff3f97e4912ab",
       "value": false
      }
     },
     "baf607decb5e4e589d2662420a739dcc": {
      "model_module": "@jupyter-widgets/controls",
      "model_module_version": "1.4.0",
      "model_name": "ButtonModel",
      "state": {
       "button_style": "success",
       "description": "Start Manual Alignment",
       "layout": "IPY_MODEL_f6fe7e5c25a84411bb8f61fed2a4bd50",
       "style": "IPY_MODEL_abc1815e0384461cb034c764924fea6f",
       "tooltip": "Click me"
      }
     },
     "bb3d700d4a554cf6b66e674b33c12a25": {
      "model_module": "@jupyter-widgets/base",
      "model_module_version": "1.1.0",
      "model_name": "LayoutModel",
      "state": {
       "width": "300px"
      }
     },
     "bb4d0435a5894c209a6a11c6c68d6847": {
      "model_module": "@jupyter-widgets/base",
      "model_module_version": "1.1.0",
      "model_name": "LayoutModel",
      "state": {
       "height": "40px",
       "width": "40px"
      }
     },
     "bb56120f41814681a5fcf7419bdf2ed6": {
      "model_module": "@jupyter-widgets/controls",
      "model_module_version": "1.4.0",
      "model_name": "DescriptionStyleModel",
      "state": {
       "description_width": ""
      }
     },
     "bb801e7f623d4a98b34cb31cebb648dc": {
      "model_module": "@jupyter-widgets/controls",
      "model_module_version": "1.4.0",
      "model_name": "ButtonStyleModel",
      "state": {}
     },
     "bbcfb319d19646d899921bfd0e275d9b": {
      "model_module": "@jupyter-widgets/base",
      "model_module_version": "1.1.0",
      "model_name": "LayoutModel",
      "state": {}
     },
     "bbd2782877d3443d82675bb78df965d5": {
      "model_module": "@jupyter-widgets/controls",
      "model_module_version": "1.4.0",
      "model_name": "ButtonStyleModel",
      "state": {}
     },
     "bbe4a50d7b5b46f1bd38088986406635": {
      "model_module": "@jupyter-widgets/output",
      "model_module_version": "1.0.0",
      "model_name": "OutputModel",
      "state": {
       "layout": "IPY_MODEL_9f71b522f9b64d199efe4db9b19bb140"
      }
     },
     "bc04ac8209fb4ffebee1d4181511d449": {
      "model_module": "@jupyter-widgets/controls",
      "model_module_version": "1.4.0",
      "model_name": "DescriptionStyleModel",
      "state": {
       "description_width": ""
      }
     },
     "bc17f7e9449b4e3c8d62107e98f497b9": {
      "model_module": "@jupyter-widgets/controls",
      "model_module_version": "1.4.0",
      "model_name": "ButtonModel",
      "state": {
       "button_style": "success",
       "description": "Start Manual Alignment",
       "layout": "IPY_MODEL_c388bfc8d04348fe8ba6765432cdaa84",
       "style": "IPY_MODEL_fa944b95a14d4419b2225790a1367812",
       "tooltip": "Click me"
      }
     },
     "bc6a89e94eeb47c4a286cffbdf86d0fc": {
      "model_module": "@jupyter-widgets/controls",
      "model_module_version": "1.4.0",
      "model_name": "VBoxModel",
      "state": {
       "children": [
        "IPY_MODEL_84345cd5bc2c4341aef099be18d76aed"
       ],
       "layout": "IPY_MODEL_33bd559fab15483387e6a840a8818c46"
      }
     },
     "bc6b8a65e9504b7599eabd931492c568": {
      "model_module": "@jupyter-widgets/output",
      "model_module_version": "1.0.0",
      "model_name": "OutputModel",
      "state": {
       "layout": "IPY_MODEL_8e6ffbfa534e470f8563368a8646f5cd"
      }
     },
     "bc7b477a1cdd4f4086e6370a35f9ae68": {
      "model_module": "@jupyter-widgets/controls",
      "model_module_version": "1.4.0",
      "model_name": "VBoxModel",
      "state": {
       "children": [
        "IPY_MODEL_3699c41f5b804b95b5d8db73b13a50bb"
       ],
       "layout": "IPY_MODEL_4e80c4cf576a4256a880b42d3655b571"
      }
     },
     "bc954d5cbeea431c9f23572d56aeaf46": {
      "model_module": "@jupyter-widgets/base",
      "model_module_version": "1.1.0",
      "model_name": "LayoutModel",
      "state": {
       "height": "40px",
       "width": "40px"
      }
     },
     "bcd015898979473fb92a37a88b6894ca": {
      "model_module": "@jupyter-widgets/base",
      "model_module_version": "1.1.0",
      "model_name": "LayoutModel",
      "state": {
       "height": "40px",
       "width": "40px"
      }
     },
     "bcd0b76c841844f8864fe0f425f807ed": {
      "model_module": "@jupyter-widgets/controls",
      "model_module_version": "1.4.0",
      "model_name": "VBoxModel",
      "state": {
       "children": [
        "IPY_MODEL_77f4dc44aad44f1a93d2271e981a32ec",
        "IPY_MODEL_ed268ff1842b4410b25b30a965f3939c"
       ],
       "layout": "IPY_MODEL_7396a5195af1472dbcc69c0b9e3dc130"
      }
     },
     "bd2aa804ccf64747a72170c3848b8960": {
      "model_module": "@jupyter-widgets/base",
      "model_module_version": "1.1.0",
      "model_name": "LayoutModel",
      "state": {}
     },
     "bd769fa9998f4f0ab4d6961e81832689": {
      "model_module": "@jupyter-widgets/controls",
      "model_module_version": "1.4.0",
      "model_name": "LabelModel",
      "state": {
       "layout": "IPY_MODEL_e67e6e16362c49f48ee7534ff87a9924",
       "style": "IPY_MODEL_e9ec305fa92f454a9ded9bcc7d3c1807",
       "value": "IOC:m1"
      }
     },
     "bd77293382194aa3b16e1a837a3f73a3": {
      "model_module": "@jupyter-widgets/controls",
      "model_module_version": "1.4.0",
      "model_name": "CheckboxModel",
      "state": {
       "disabled": false,
       "layout": "IPY_MODEL_03c2de3c02d84e0c8c181e541663739e",
       "style": "IPY_MODEL_0380747faf3048aaa22ac861c5275236",
       "value": false
      }
     },
     "bd911d6e1ae14e1eb39b11929bd0524f": {
      "model_module": "@jupyter-widgets/controls",
      "model_module_version": "1.4.0",
      "model_name": "DescriptionStyleModel",
      "state": {
       "description_width": ""
      }
     },
     "bdc2d2f89c0b44a9b4717bcf515b79d6": {
      "model_module": "@jupyter-widgets/base",
      "model_module_version": "1.1.0",
      "model_name": "LayoutModel",
      "state": {}
     },
     "bddf3884980945efb50f538a79639742": {
      "model_module": "@jupyter-widgets/base",
      "model_module_version": "1.1.0",
      "model_name": "LayoutModel",
      "state": {}
     },
     "bdeb76c35f98459aa5bd8185d361a8c8": {
      "model_module": "@jupyter-widgets/base",
      "model_module_version": "1.1.0",
      "model_name": "LayoutModel",
      "state": {}
     },
     "bdf49cea4b67440a9c7a68199c9682f0": {
      "model_module": "@jupyter-widgets/base",
      "model_module_version": "1.1.0",
      "model_name": "LayoutModel",
      "state": {
       "width": "300px"
      }
     },
     "bdf96934723b4e419c5f49528c13c468": {
      "model_module": "@jupyter-widgets/base",
      "model_module_version": "1.1.0",
      "model_name": "LayoutModel",
      "state": {}
     },
     "be31aa7e863e48f99fd6284b5dcf90ee": {
      "model_module": "@jupyter-widgets/base",
      "model_module_version": "1.1.0",
      "model_name": "LayoutModel",
      "state": {
       "width": "300px"
      }
     },
     "bef4ced4336f4413998b6c5ba7de61d6": {
      "model_module": "@jupyter-widgets/controls",
      "model_module_version": "1.4.0",
      "model_name": "VBoxModel",
      "state": {
       "children": [
        "IPY_MODEL_e406de3c92494ffcb6f585ab2b9e0477"
       ],
       "layout": "IPY_MODEL_52d9c6380adf44ea9e8550eef8be9686"
      }
     },
     "bf40cfd8719f402c9abb8663e4cb0fc4": {
      "model_module": "@jupyter-widgets/controls",
      "model_module_version": "1.4.0",
      "model_name": "ButtonModel",
      "state": {
       "button_style": "success",
       "description": "Start PV Monitoring",
       "layout": "IPY_MODEL_8ae9002da6d04799ab0a6d4408f1a12d",
       "style": "IPY_MODEL_546710a44315482796772170e47360fc",
       "tooltip": "Click me"
      }
     },
     "bf5890c38c0a4a468819b12f33028303": {
      "model_module": "@jupyter-widgets/output",
      "model_module_version": "1.0.0",
      "model_name": "OutputModel",
      "state": {
       "layout": "IPY_MODEL_7eb8e1a024f04c1aad3195d9c0dce124"
      }
     },
     "bf5d3ac39bb84b10b290c531998be216": {
      "model_module": "@jupyter-widgets/base",
      "model_module_version": "1.1.0",
      "model_name": "LayoutModel",
      "state": {
       "width": "300px"
      }
     },
     "bf81bac2e59245dc86e87bfa7354c2a9": {
      "model_module": "@jupyter-widgets/output",
      "model_module_version": "1.0.0",
      "model_name": "OutputModel",
      "state": {
       "layout": "IPY_MODEL_54763f7e66534db7819143d700d42088"
      }
     },
     "bf9a6820478e4dc9b0c38aa200eb76de": {
      "model_module": "@jupyter-widgets/controls",
      "model_module_version": "1.4.0",
      "model_name": "ButtonStyleModel",
      "state": {}
     },
     "bfa55716690c49eeb4d7a77b9e86de01": {
      "model_module": "@jupyter-widgets/controls",
      "model_module_version": "1.4.0",
      "model_name": "ButtonModel",
      "state": {
       "button_style": "success",
       "description": "Start PV Monitoring",
       "layout": "IPY_MODEL_bdf49cea4b67440a9c7a68199c9682f0",
       "style": "IPY_MODEL_aedf6fe889384dfb99ac5b5269ee3fe9",
       "tooltip": "Click me"
      }
     },
     "bfa57de142c64b97aea00c3952c604e4": {
      "model_module": "@jupyter-widgets/controls",
      "model_module_version": "1.4.0",
      "model_name": "DescriptionStyleModel",
      "state": {
       "description_width": ""
      }
     },
     "bfb0ce15d46244b4a7fa15f91b40806c": {
      "model_module": "@jupyter-widgets/output",
      "model_module_version": "1.0.0",
      "model_name": "OutputModel",
      "state": {
       "layout": "IPY_MODEL_b6a84a5a3b1642abb40b3688d59bf7aa"
      }
     },
     "bfb395801bc747d6b8351eec97d56f3f": {
      "model_module": "@jupyter-widgets/output",
      "model_module_version": "1.0.0",
      "model_name": "OutputModel",
      "state": {
       "layout": "IPY_MODEL_062f65cf40994f77a9a0ca09e1b44f40"
      }
     },
     "bfe2d62544b147b898f006fccf9c169b": {
      "model_module": "@jupyter-widgets/controls",
      "model_module_version": "1.4.0",
      "model_name": "ButtonModel",
      "state": {
       "button_style": "warning",
       "description": "Export Notebook to HTML",
       "layout": "IPY_MODEL_47d520e1e07f49bb8396a54d6b5129e4",
       "style": "IPY_MODEL_6bf640be15a14d2d9045259c32d3df06",
       "tooltip": "Click me"
      }
     },
     "c016f63b968b46f7ac87448d4826a488": {
      "model_module": "@jupyter-widgets/base",
      "model_module_version": "1.1.0",
      "model_name": "LayoutModel",
      "state": {}
     },
     "c04d28f08eb34e0a8266cfd0ef386838": {
      "model_module": "@jupyter-widgets/base",
      "model_module_version": "1.1.0",
      "model_name": "LayoutModel",
      "state": {}
     },
     "c0549f76b45f4ed09bd2ad614f978fdb": {
      "model_module": "@jupyter-widgets/base",
      "model_module_version": "1.1.0",
      "model_name": "LayoutModel",
      "state": {}
     },
     "c07120b53d2b46978899458d576fab01": {
      "model_module": "@jupyter-widgets/base",
      "model_module_version": "1.1.0",
      "model_name": "LayoutModel",
      "state": {}
     },
     "c071930dc0254703941388f90d3b5f19": {
      "model_module": "@jupyter-widgets/controls",
      "model_module_version": "1.4.0",
      "model_name": "CheckboxModel",
      "state": {
       "disabled": false,
       "layout": "IPY_MODEL_42642191418a4d2e821b163600e3f158",
       "style": "IPY_MODEL_9e87371fd7c746ad8430e23220d9c0ad",
       "value": false
      }
     },
     "c0a0ceb3826a4fcbaf63fbac964e1cf1": {
      "model_module": "@jupyter-widgets/base",
      "model_module_version": "1.1.0",
      "model_name": "LayoutModel",
      "state": {}
     },
     "c0a53a01444d4e5dbacefc87fac0c9fa": {
      "model_module": "@jupyter-widgets/base",
      "model_module_version": "1.1.0",
      "model_name": "LayoutModel",
      "state": {}
     },
     "c0da717900b44d1394602afcff1eb3c8": {
      "model_module": "@jupyter-widgets/base",
      "model_module_version": "1.1.0",
      "model_name": "LayoutModel",
      "state": {
       "width": "300px"
      }
     },
     "c0dea3525db645e78989f1988422cb35": {
      "model_module": "@jupyter-widgets/controls",
      "model_module_version": "1.4.0",
      "model_name": "DescriptionStyleModel",
      "state": {
       "description_width": "initial"
      }
     },
     "c111948f53f941a181b5897c6be66be8": {
      "model_module": "@jupyter-widgets/base",
      "model_module_version": "1.1.0",
      "model_name": "LayoutModel",
      "state": {}
     },
     "c1311e02356242dca634144cd813ba4e": {
      "model_module": "@jupyter-widgets/base",
      "model_module_version": "1.1.0",
      "model_name": "LayoutModel",
      "state": {}
     },
     "c13feaba7a3e4189a0194b5bb0787613": {
      "model_module": "@jupyter-widgets/base",
      "model_module_version": "1.1.0",
      "model_name": "LayoutModel",
      "state": {}
     },
     "c17e6c2596f043cc859a3f5e87c79777": {
      "model_module": "@jupyter-widgets/base",
      "model_module_version": "1.1.0",
      "model_name": "LayoutModel",
      "state": {}
     },
     "c1c2325bd5bb432c9cac28b7636b01cf": {
      "model_module": "@jupyter-widgets/controls",
      "model_module_version": "1.4.0",
      "model_name": "LabelModel",
      "state": {
       "layout": "IPY_MODEL_cd05bc009be74b44909ce74cdd225bbd",
       "style": "IPY_MODEL_a779d5de9ade49a1943bfc46f9648c3e",
       "value": "No motors initilized to be showed."
      }
     },
     "c1cb36846fc4463c96568369b7f5d841": {
      "model_module": "@jupyter-widgets/controls",
      "model_module_version": "1.4.0",
      "model_name": "ButtonStyleModel",
      "state": {}
     },
     "c2020fc84507447590b4b9061bbdfa23": {
      "buffers": [
       {
        "data": "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",
        "encoding": "base64",
        "path": [
         "value"
        ]
       }
      ],
      "model_module": "@jupyter-widgets/controls",
      "model_module_version": "1.4.0",
      "model_name": "ImageModel",
      "state": {
       "height": "35",
       "layout": "IPY_MODEL_fa466a2b099346959c4fd1b3149459c0",
       "value": {},
       "width": "35"
      }
     },
     "c28b7259b1af4ea8bea107d46c31b281": {
      "model_module": "@jupyter-widgets/base",
      "model_module_version": "1.1.0",
      "model_name": "LayoutModel",
      "state": {}
     },
     "c2c2594f999244c6a1fa41351530f16c": {
      "model_module": "@jupyter-widgets/base",
      "model_module_version": "1.1.0",
      "model_name": "LayoutModel",
      "state": {
       "width": "300px"
      }
     },
     "c2cef064b53b46ae98fd5faff6a1ad36": {
      "model_module": "@jupyter-widgets/base",
      "model_module_version": "1.1.0",
      "model_name": "LayoutModel",
      "state": {}
     },
     "c2d0d72af2b148e7b2dd61955cbcb0a3": {
      "model_module": "@jupyter-widgets/controls",
      "model_module_version": "1.4.0",
      "model_name": "CheckboxModel",
      "state": {
       "description": "Plot scan-gui graph instead of Jupyter's: ",
       "disabled": false,
       "layout": "IPY_MODEL_af7f962ce1b64834bf8b33ac67f72228",
       "style": "IPY_MODEL_653a1fe70c074c04a52be636ab1fd6a7",
       "value": false
      }
     },
     "c2e7eb4846534f478cfcf5eec647caff": {
      "model_module": "@jupyter-widgets/controls",
      "model_module_version": "1.4.0",
      "model_name": "DescriptionStyleModel",
      "state": {
       "description_width": ""
      }
     },
     "c301ec657c244ecf838eefe8acf31f9b": {
      "model_module": "@jupyter-widgets/base",
      "model_module_version": "1.1.0",
      "model_name": "LayoutModel",
      "state": {}
     },
     "c385e568e79d4efebed9d63c64e02351": {
      "model_module": "@jupyter-widgets/base",
      "model_module_version": "1.1.0",
      "model_name": "LayoutModel",
      "state": {}
     },
     "c388bfc8d04348fe8ba6765432cdaa84": {
      "model_module": "@jupyter-widgets/base",
      "model_module_version": "1.1.0",
      "model_name": "LayoutModel",
      "state": {
       "width": "300px"
      }
     },
     "c3b3c52f80724a548874f0f8bad81765": {
      "model_module": "@jupyter-widgets/base",
      "model_module_version": "1.1.0",
      "model_name": "LayoutModel",
      "state": {}
     },
     "c3c8ceeff68a40679908317ea2b73036": {
      "model_module": "@jupyter-widgets/controls",
      "model_module_version": "1.4.0",
      "model_name": "ButtonModel",
      "state": {
       "button_style": "success",
       "description": "Start Scanning Plot",
       "layout": "IPY_MODEL_09bd8fcd505b4b15a7cc2bc2d304ffff",
       "style": "IPY_MODEL_cf1776f99a874804a58b578277f92c37",
       "tooltip": "Click me"
      }
     },
     "c426df88b57d4c3e87648a909506cad3": {
      "model_module": "@jupyter-widgets/controls",
      "model_module_version": "1.4.0",
      "model_name": "DescriptionStyleModel",
      "state": {
       "description_width": ""
      }
     },
     "c42dd4adec2f4bda83ed84024149a42e": {
      "model_module": "@jupyter-widgets/output",
      "model_module_version": "1.0.0",
      "model_name": "OutputModel",
      "state": {
       "layout": "IPY_MODEL_de392e76f4ea4f2dbb9c30a0821b7dc1"
      }
     },
     "c49e6045ee8f47f0b08baa0b00440b2f": {
      "model_module": "@jupyter-widgets/controls",
      "model_module_version": "1.4.0",
      "model_name": "ButtonModel",
      "state": {
       "button_style": "warning",
       "description": "Export Notebook to HTML",
       "layout": "IPY_MODEL_61e378a6ad3f4166b6d11d13adbdb906",
       "style": "IPY_MODEL_35d3ac4f765041f69ee4577d4412bcee",
       "tooltip": "Click me"
      }
     },
     "c4cf31bec07749d6af41c74f53c6a2a7": {
      "model_module": "@jupyter-widgets/output",
      "model_module_version": "1.0.0",
      "model_name": "OutputModel",
      "state": {
       "layout": "IPY_MODEL_e7961f468b584e5fa318488610b72005"
      }
     },
     "c50aaea664c0431991ffba24a21bbb71": {
      "model_module": "@jupyter-widgets/controls",
      "model_module_version": "1.4.0",
      "model_name": "ButtonModel",
      "state": {
       "button_style": "success",
       "description": "Start PV Monitoring",
       "layout": "IPY_MODEL_c590f9a9ff284c3cb9cc8e852ae42f6d",
       "style": "IPY_MODEL_aacf29fa04044547b9ca044182aa3990",
       "tooltip": "Click me"
      }
     },
     "c511deb479c14f66aa80a5e289026fd7": {
      "model_module": "@jupyter-widgets/controls",
      "model_module_version": "1.4.0",
      "model_name": "VBoxModel",
      "state": {
       "children": [
        "IPY_MODEL_3fe0481ea32d4b8d8f09ac89e9375517"
       ],
       "layout": "IPY_MODEL_4e730aa058ac4c6dace66766a02a7541"
      }
     },
     "c52938e2d10146ef88c3987bdf363d59": {
      "model_module": "@jupyter-widgets/controls",
      "model_module_version": "1.4.0",
      "model_name": "DescriptionStyleModel",
      "state": {
       "description_width": ""
      }
     },
     "c552f99ebdf549acb6f42f70626cd39a": {
      "model_module": "@jupyter-widgets/base",
      "model_module_version": "1.1.0",
      "model_name": "LayoutModel",
      "state": {}
     },
     "c56b2b95961f494e993c4cab05e39e91": {
      "model_module": "@jupyter-widgets/controls",
      "model_module_version": "1.4.0",
      "model_name": "ButtonModel",
      "state": {
       "button_style": "warning",
       "description": "Export Notebook to HTML",
       "layout": "IPY_MODEL_981dfa9fe1a14e3c95d04c99c5d8ca4e",
       "style": "IPY_MODEL_241e0d4c715c465baa0f9bd47a90927b",
       "tooltip": "Click me"
      }
     },
     "c571c52efc5c45ea9ccb5e34627ec5ca": {
      "model_module": "@jupyter-widgets/controls",
      "model_module_version": "1.4.0",
      "model_name": "VBoxModel",
      "state": {
       "children": [
        "IPY_MODEL_08b804566d444cd4b4a8951c5ab44e04",
        "IPY_MODEL_feed4a62b55f40d69e054cf8ab9bd251"
       ],
       "layout": "IPY_MODEL_ae5c7db10d4a4d4aa9231fab8dbfdda5"
      }
     },
     "c590f9a9ff284c3cb9cc8e852ae42f6d": {
      "model_module": "@jupyter-widgets/base",
      "model_module_version": "1.1.0",
      "model_name": "LayoutModel",
      "state": {
       "width": "300px"
      }
     },
     "c62706eea91744d08a5a2069b5ef0d2c": {
      "model_module": "@jupyter-widgets/base",
      "model_module_version": "1.1.0",
      "model_name": "LayoutModel",
      "state": {}
     },
     "c6f50d6f01994ff3a030a83fd7c81318": {
      "model_module": "@jupyter-widgets/controls",
      "model_module_version": "1.4.0",
      "model_name": "TextareaModel",
      "state": {
       "layout": "IPY_MODEL_aafa7aaac4f54f4f8365730ca71d373d",
       "placeholder": "Example: IOC:m1 IOC:m3 LNLS:TEST:motor_g3",
       "style": "IPY_MODEL_42a91ef42301415ab72ab6cd83e1b538"
      }
     },
     "c726ab81e8cd40d085e8cad01f896693": {
      "model_module": "@jupyter-widgets/base",
      "model_module_version": "1.1.0",
      "model_name": "LayoutModel",
      "state": {}
     },
     "c7357e5c7d9248418e0c649771493496": {
      "model_module": "@jupyter-widgets/base",
      "model_module_version": "1.1.0",
      "model_name": "LayoutModel",
      "state": {
       "height": "40px",
       "width": "40px"
      }
     },
     "c74a24b09b434d5eaeb193c09889f6c1": {
      "model_module": "@jupyter-widgets/output",
      "model_module_version": "1.0.0",
      "model_name": "OutputModel",
      "state": {
       "layout": "IPY_MODEL_9d50fd0303ec4fdfac03a7fe7645e52b"
      }
     },
     "c76b12dbbded47b8b243fb2070719f68": {
      "model_module": "@jupyter-widgets/base",
      "model_module_version": "1.1.0",
      "model_name": "LayoutModel",
      "state": {
       "width": "300px"
      }
     },
     "c7b5638ac7054786a31c8127ddcc4296": {
      "model_module": "@jupyter-widgets/controls",
      "model_module_version": "1.4.0",
      "model_name": "LabelModel",
      "state": {
       "layout": "IPY_MODEL_6feae3d5a164411e84eabc7d1909ea49",
       "style": "IPY_MODEL_8f1a4654003942209a6ed0195d7ea87e",
       "value": "IOC:m1"
      }
     },
     "c7c5b7b453384829923edc37cdb550b5": {
      "model_module": "@jupyter-widgets/controls",
      "model_module_version": "1.4.0",
      "model_name": "DescriptionStyleModel",
      "state": {
       "description_width": ""
      }
     },
     "c7d4dbf376214e4fbae67157b7c3c940": {
      "model_module": "@jupyter-widgets/output",
      "model_module_version": "1.0.0",
      "model_name": "OutputModel",
      "state": {
       "layout": "IPY_MODEL_ecce7ece26d04c2ead9e82835f3d45d0"
      }
     },
     "c8037362badd409286189ee0364e89ef": {
      "model_module": "@jupyter-widgets/controls",
      "model_module_version": "1.4.0",
      "model_name": "ButtonModel",
      "state": {
       "button_style": "warning",
       "description": "Export Notebook to PDF",
       "layout": "IPY_MODEL_9ddfcd7e73a3497eb8c5d257e6fdd093",
       "style": "IPY_MODEL_20fe4a0f14bd4cb79fac29d13ae3bae9",
       "tooltip": "Click me"
      }
     },
     "c8453f59067841e3a314431190ff6728": {
      "model_module": "@jupyter-widgets/controls",
      "model_module_version": "1.4.0",
      "model_name": "CheckboxModel",
      "state": {
       "description": "Plot scan-gui graph instead of Jupyter's: ",
       "disabled": true,
       "layout": "IPY_MODEL_f573192b964e4722ae796d6b043cf21b",
       "style": "IPY_MODEL_ca0bca46d757444c897a5f2bb411c5d1",
       "value": false
      }
     },
     "c889bba5c3154b5391b2bebf2b5542ca": {
      "model_module": "@jupyter-widgets/controls",
      "model_module_version": "1.4.0",
      "model_name": "ButtonModel",
      "state": {
       "button_style": "warning",
       "description": "Export Notebook to HTML",
       "layout": "IPY_MODEL_a91e6393bbcc403c8ff6762bc531b2c5",
       "style": "IPY_MODEL_4ad3d51d52e54242bd17d536819abfad",
       "tooltip": "Click me"
      }
     },
     "c88e4e07f3164b909a848043afcda0e5": {
      "model_module": "@jupyter-widgets/base",
      "model_module_version": "1.1.0",
      "model_name": "LayoutModel",
      "state": {
       "width": "300px"
      }
     },
     "c8c2dc50975147ab821bd36dc4e62688": {
      "model_module": "@jupyter-widgets/base",
      "model_module_version": "1.1.0",
      "model_name": "LayoutModel",
      "state": {}
     },
     "c8d44adb594a4d57985f14361967268a": {
      "model_module": "@jupyter-widgets/base",
      "model_module_version": "1.1.0",
      "model_name": "LayoutModel",
      "state": {}
     },
     "c8dc9b21bb4143e5aef08f38b38125fa": {
      "model_module": "@jupyter-widgets/base",
      "model_module_version": "1.1.0",
      "model_name": "LayoutModel",
      "state": {}
     },
     "c8e5a00d0cb04665b0512e3d4c862df7": {
      "model_module": "@jupyter-widgets/controls",
      "model_module_version": "1.4.0",
      "model_name": "CheckboxModel",
      "state": {
       "description": "Print log in Notebook's cells",
       "disabled": false,
       "layout": "IPY_MODEL_c07120b53d2b46978899458d576fab01",
       "style": "IPY_MODEL_e0069eab14a1498c9b099e32583f6c23",
       "value": true
      }
     },
     "c8f5173952ca4145bd5726c3262733da": {
      "model_module": "@jupyter-widgets/controls",
      "model_module_version": "1.4.0",
      "model_name": "HBoxModel",
      "state": {
       "children": [
        "IPY_MODEL_ef7d72c63f594494a1ed6fc8fe1840a2",
        "IPY_MODEL_3f55314f028a47978cd1a342538e5ee5"
       ],
       "layout": "IPY_MODEL_6dcf096fcf17482e86587fb963a4ff51"
      }
     },
     "c90bfa7f7ee14e71b76cf37461dae273": {
      "model_module": "@jupyter-widgets/output",
      "model_module_version": "1.0.0",
      "model_name": "OutputModel",
      "state": {
       "layout": "IPY_MODEL_005b3cd8781a46f09cbcee03034ddfc5",
       "outputs": [
        {
         "name": "stdout",
         "output_type": "stream",
         "text": "2019-05-13 16:10:21 Started monitoring PVs IOC:m1\n2019-05-13 16:10:21 Monitoring PVs IOC:m1\n"
        }
       ]
      }
     },
     "c92dd4d20a48436f80f6ce984e575fc4": {
      "model_module": "@jupyter-widgets/controls",
      "model_module_version": "1.4.0",
      "model_name": "ButtonModel",
      "state": {
       "button_style": "warning",
       "description": "Export Notebook to PDF",
       "layout": "IPY_MODEL_514b3f08b972464e970c837d8e2bb8a6",
       "style": "IPY_MODEL_98f01ae71dcd4bc1bf1a324064c32aba",
       "tooltip": "Click me"
      }
     },
     "c93ddd0c5fed4ac78bcfb70fecde44a1": {
      "model_module": "@jupyter-widgets/output",
      "model_module_version": "1.0.0",
      "model_name": "OutputModel",
      "state": {
       "layout": "IPY_MODEL_4a739ba800ff46a6848e12ef4f7e61f7",
       "outputs": [
        {
         "name": "stdout",
         "output_type": "stream",
         "text": "2019-05-13 15:46:08 Stopped monitoring PVs IOC:m1\n"
        }
       ]
      }
     },
     "c998c8fe4c404a9a8e39a251346cf709": {
      "model_module": "@jupyter-widgets/controls",
      "model_module_version": "1.4.0",
      "model_name": "CheckboxModel",
      "state": {
       "description": "Print log in Notebook's cells",
       "disabled": false,
       "layout": "IPY_MODEL_fb6a969fb31b4684818900377dd95309",
       "style": "IPY_MODEL_8f9c42a3d57d4004bfe79e694af547d1",
       "value": true
      }
     },
     "c9f7486837324f248e9320dbcc4af448": {
      "model_module": "@jupyter-widgets/base",
      "model_module_version": "1.1.0",
      "model_name": "LayoutModel",
      "state": {}
     },
     "ca0bca46d757444c897a5f2bb411c5d1": {
      "model_module": "@jupyter-widgets/controls",
      "model_module_version": "1.4.0",
      "model_name": "DescriptionStyleModel",
      "state": {
       "description_width": "initial"
      }
     },
     "ca2e651d6c8a414985a0496cea347748": {
      "model_module": "@jupyter-widgets/base",
      "model_module_version": "1.1.0",
      "model_name": "LayoutModel",
      "state": {}
     },
     "ca322b0fc3c84ac68fc6c9f1b83d8b73": {
      "model_module": "@jupyter-widgets/controls",
      "model_module_version": "1.4.0",
      "model_name": "DescriptionStyleModel",
      "state": {
       "description_width": ""
      }
     },
     "ca6da1630137435ebd446d92c82e486f": {
      "model_module": "@jupyter-widgets/controls",
      "model_module_version": "1.4.0",
      "model_name": "ButtonStyleModel",
      "state": {}
     },
     "ca83e84fbb7348d18dc14ee07965e7ec": {
      "model_module": "@jupyter-widgets/base",
      "model_module_version": "1.1.0",
      "model_name": "LayoutModel",
      "state": {
       "width": "300px"
      }
     },
     "cad11e699bda4209b8466d2eb8222a58": {
      "model_module": "@jupyter-widgets/base",
      "model_module_version": "1.1.0",
      "model_name": "LayoutModel",
      "state": {}
     },
     "cb119e2a83034635becf716782bfb761": {
      "model_module": "@jupyter-widgets/controls",
      "model_module_version": "1.4.0",
      "model_name": "ButtonModel",
      "state": {
       "description": "Stopping...",
       "disabled": true,
       "layout": "IPY_MODEL_a820c41311664ef58f64254d73ba5bee",
       "style": "IPY_MODEL_c1cb36846fc4463c96568369b7f5d841",
       "tooltip": "Click me"
      }
     },
     "cb195793ec72452f8744d73dbfee9853": {
      "model_module": "@jupyter-widgets/controls",
      "model_module_version": "1.4.0",
      "model_name": "ButtonStyleModel",
      "state": {}
     },
     "cb734a240e6f4a5c815eae4e1fcdeb6e": {
      "model_module": "@jupyter-widgets/base",
      "model_module_version": "1.1.0",
      "model_name": "LayoutModel",
      "state": {}
     },
     "cbae082a7b774d4fa304a5f74d7cfa54": {
      "model_module": "@jupyter-widgets/base",
      "model_module_version": "1.1.0",
      "model_name": "LayoutModel",
      "state": {
       "width": "300px"
      }
     },
     "cbc1e30a093e42748523482f33116714": {
      "model_module": "@jupyter-widgets/controls",
      "model_module_version": "1.4.0",
      "model_name": "LabelModel",
      "state": {
       "layout": "IPY_MODEL_b173d4c8421945beb5884301e5d838cf",
       "style": "IPY_MODEL_bc04ac8209fb4ffebee1d4181511d449",
       "value": "No motors initilized to be showed."
      }
     },
     "cc450c52cea849b6acfdabf1ef08906c": {
      "model_module": "@jupyter-widgets/controls",
      "model_module_version": "1.4.0",
      "model_name": "VBoxModel",
      "state": {
       "children": [
        "IPY_MODEL_8abba7c3feef4b06820d2500764752d3"
       ],
       "layout": "IPY_MODEL_900b8815c3ed42e58b774a0ffd28d1a9"
      }
     },
     "cc46dbe5345245fab64a88f9292a1bd8": {
      "model_module": "@jupyter-widgets/controls",
      "model_module_version": "1.4.0",
      "model_name": "VBoxModel",
      "state": {
       "children": [
        "IPY_MODEL_baa83aa4f3be4b0783db5d26ce25f066",
        "IPY_MODEL_a5181f7b415c4e87bb7611fde7922eec"
       ],
       "layout": "IPY_MODEL_57279d8fd0844689b609364276966ca0"
      }
     },
     "cc483adbdec8438fa7ff595fbda11f55": {
      "model_module": "@jupyter-widgets/controls",
      "model_module_version": "1.4.0",
      "model_name": "CheckboxModel",
      "state": {
       "description": "Print log in Notebook's cells",
       "disabled": false,
       "layout": "IPY_MODEL_d6dda309899242f88e2277f111723748",
       "style": "IPY_MODEL_e6afaf0e2a6b46bb9ff0d81d08682aa9",
       "value": false
      }
     },
     "cc7017cc151e4abab712f3bb7159c6a0": {
      "model_module": "@jupyter-widgets/controls",
      "model_module_version": "1.4.0",
      "model_name": "CheckboxModel",
      "state": {
       "description": "Live plot in Jupyter: ",
       "disabled": true,
       "layout": "IPY_MODEL_4060ee82d3034ee7acfb9c9a10298fac",
       "style": "IPY_MODEL_1ab633f36afb44e8ae50d22153c0a398",
       "value": false
      }
     },
     "cc9e0bb7e9b04e8b83b91851fdba2590": {
      "model_module": "@jupyter-widgets/output",
      "model_module_version": "1.0.0",
      "model_name": "OutputModel",
      "state": {
       "layout": "IPY_MODEL_20a39b163fdc4299a52a4a2049e6eba9"
      }
     },
     "ccb214b207d54dcb810cd8e4d61f336f": {
      "model_module": "@jupyter-widgets/controls",
      "model_module_version": "1.4.0",
      "model_name": "VBoxModel",
      "state": {
       "children": [
        "IPY_MODEL_3f9331a6d50e4d57a2dec36315bec76d",
        "IPY_MODEL_40ea9dc6ed2a4b16a91a870ca869cc75"
       ],
       "layout": "IPY_MODEL_8d713bf084c94969ac5b72393fa27407"
      }
     },
     "ccd1b862736741a78633dae04d7179b8": {
      "model_module": "@jupyter-widgets/base",
      "model_module_version": "1.1.0",
      "model_name": "LayoutModel",
      "state": {
       "height": "40px",
       "width": "40px"
      }
     },
     "ccd3d740dcdd4eb58b78399b9c3a953c": {
      "model_module": "@jupyter-widgets/base",
      "model_module_version": "1.1.0",
      "model_name": "LayoutModel",
      "state": {}
     },
     "cd05bc009be74b44909ce74cdd225bbd": {
      "model_module": "@jupyter-widgets/base",
      "model_module_version": "1.1.0",
      "model_name": "LayoutModel",
      "state": {}
     },
     "cd08aa7a6bfb44d4a7651f57f297c663": {
      "model_module": "@jupyter-widgets/controls",
      "model_module_version": "1.4.0",
      "model_name": "ButtonModel",
      "state": {
       "button_style": "warning",
       "description": "Export Notebook to PDF",
       "layout": "IPY_MODEL_2667c71c999d44c3bc8cd9042db87551",
       "style": "IPY_MODEL_2734daf283814b7fa844826490911252",
       "tooltip": "Click me"
      }
     },
     "cd0b7caee35542fb8646de3fa61c9d4a": {
      "model_module": "@jupyter-widgets/base",
      "model_module_version": "1.1.0",
      "model_name": "LayoutModel",
      "state": {}
     },
     "cd1126ed81654b4f858082d74565cfc2": {
      "model_module": "@jupyter-widgets/controls",
      "model_module_version": "1.4.0",
      "model_name": "CheckboxModel",
      "state": {
       "description": "Print log in Notebook's cells",
       "disabled": false,
       "layout": "IPY_MODEL_41ffef26bbce4fa19e5a1d72046889e1",
       "style": "IPY_MODEL_5a423a3f62014c97bb4c54af01138241",
       "value": true
      }
     },
     "cd145965d33048369243ff01cfff97bc": {
      "model_module": "@jupyter-widgets/controls",
      "model_module_version": "1.4.0",
      "model_name": "DescriptionStyleModel",
      "state": {
       "description_width": ""
      }
     },
     "cd1bfb758f3f4ab8b7a0fa1d87aefef0": {
      "model_module": "@jupyter-widgets/base",
      "model_module_version": "1.1.0",
      "model_name": "LayoutModel",
      "state": {}
     },
     "cd31781083d645b8830b71a40afa2d84": {
      "model_module": "@jupyter-widgets/controls",
      "model_module_version": "1.4.0",
      "model_name": "CheckboxModel",
      "state": {
       "disabled": false,
       "layout": "IPY_MODEL_867cc8a752be476ab036744b614907d8",
       "style": "IPY_MODEL_ff5519ad747f408585363a49f9b77a30",
       "value": false
      }
     },
     "cd4e7bfd56dd46579b5ab7f0a0e3d62a": {
      "model_module": "@jupyter-widgets/controls",
      "model_module_version": "1.4.0",
      "model_name": "DescriptionStyleModel",
      "state": {
       "description_width": "initial"
      }
     },
     "cd646c6fb78848c89134c9e258a113ba": {
      "model_module": "@jupyter-widgets/base",
      "model_module_version": "1.1.0",
      "model_name": "LayoutModel",
      "state": {}
     },
     "cd8055e9e54a4442a331920721004a93": {
      "model_module": "@jupyter-widgets/controls",
      "model_module_version": "1.4.0",
      "model_name": "ButtonStyleModel",
      "state": {}
     },
     "cd8c440f0ffb4a6690565c42b03c4663": {
      "model_module": "@jupyter-widgets/controls",
      "model_module_version": "1.4.0",
      "model_name": "VBoxModel",
      "state": {
       "children": [
        "IPY_MODEL_718458522dfd4669bfc84a8a85c780f0"
       ],
       "layout": "IPY_MODEL_8401ba836dc34d05be0d288fb489228e"
      }
     },
     "cd91d317e0c548b198d90cfb3b1fe02d": {
      "model_module": "@jupyter-widgets/base",
      "model_module_version": "1.1.0",
      "model_name": "LayoutModel",
      "state": {}
     },
     "cda45bcac3c74d538367826405797b02": {
      "model_module": "@jupyter-widgets/controls",
      "model_module_version": "1.4.0",
      "model_name": "DescriptionStyleModel",
      "state": {
       "description_width": "initial"
      }
     },
     "cdb14d820624418ba66ce4876fc48548": {
      "model_module": "@jupyter-widgets/base",
      "model_module_version": "1.1.0",
      "model_name": "LayoutModel",
      "state": {
       "height": "40px",
       "width": "40px"
      }
     },
     "ce02c76f835c482d981756f06c0e8bf6": {
      "model_module": "@jupyter-widgets/controls",
      "model_module_version": "1.4.0",
      "model_name": "ButtonModel",
      "state": {
       "button_style": "success",
       "description": "Start Manual Alignment",
       "layout": "IPY_MODEL_19a3be9d71cd4558850157311072da34",
       "style": "IPY_MODEL_aa81d2f200dc4de0b9ff902f667fd18c",
       "tooltip": "Click me"
      }
     },
     "ce1f68f86893443697ea8834d58b8690": {
      "model_module": "@jupyter-widgets/base",
      "model_module_version": "1.1.0",
      "model_name": "LayoutModel",
      "state": {}
     },
     "ce68bacbd191440d92202102625fc272": {
      "model_module": "@jupyter-widgets/controls",
      "model_module_version": "1.4.0",
      "model_name": "TextareaModel",
      "state": {
       "layout": "IPY_MODEL_2375c1d8d1a94eb3a6c1a28f324a14ac",
       "placeholder": "Example: IOC:m1 IOC:m3 LNLS:TEST:motor_g3",
       "style": "IPY_MODEL_592c4e57ed4a40d5b2e889a661ddd007",
       "value": "IOC:m1"
      }
     },
     "ced20e30fd8b45adbe9451a8d5ad85c3": {
      "model_module": "@jupyter-widgets/controls",
      "model_module_version": "1.4.0",
      "model_name": "ButtonModel",
      "state": {
       "button_style": "warning",
       "description": "Export Notebook to PDF",
       "layout": "IPY_MODEL_1db5751b0f464039b6021ad4e0e21dc3",
       "style": "IPY_MODEL_7636c162329e4fd4a8597737a62c881c",
       "tooltip": "Click me"
      }
     },
     "ced8259882a3424dad037d638a4432f0": {
      "model_module": "@jupyter-widgets/controls",
      "model_module_version": "1.4.0",
      "model_name": "CheckboxModel",
      "state": {
       "disabled": false,
       "layout": "IPY_MODEL_99a1d30ac6b54294a5ec940288e6e0eb",
       "style": "IPY_MODEL_bb56120f41814681a5fcf7419bdf2ed6",
       "value": false
      }
     },
     "cee0d37e00784bb896efaca2fdb311d4": {
      "model_module": "@jupyter-widgets/output",
      "model_module_version": "1.0.0",
      "model_name": "OutputModel",
      "state": {
       "layout": "IPY_MODEL_97e26d1ff0bf44f4a2955ea2e53e9e4a"
      }
     },
     "ceea386ed263414d9e616790dc23cd2a": {
      "model_module": "@jupyter-widgets/base",
      "model_module_version": "1.1.0",
      "model_name": "LayoutModel",
      "state": {}
     },
     "cf1776f99a874804a58b578277f92c37": {
      "model_module": "@jupyter-widgets/controls",
      "model_module_version": "1.4.0",
      "model_name": "ButtonStyleModel",
      "state": {}
     },
     "cf18011ce89748d8a0e1429c2763666f": {
      "model_module": "@jupyter-widgets/controls",
      "model_module_version": "1.4.0",
      "model_name": "VBoxModel",
      "state": {
       "children": [
        "IPY_MODEL_f2cb850a39be408091ee863da2b44063"
       ],
       "layout": "IPY_MODEL_fd5b020f918e45f0ba97bce78b2445c0"
      }
     },
     "cf757dbc641e449faf0709e07736bc7a": {
      "model_module": "@jupyter-widgets/controls",
      "model_module_version": "1.4.0",
      "model_name": "BoxModel",
      "state": {
       "layout": "IPY_MODEL_2325a90b305e454faa1289d7e9c2f37e"
      }
     },
     "cf788f922b9741de9eaadbb41afda11f": {
      "model_module": "@jupyter-widgets/controls",
      "model_module_version": "1.4.0",
      "model_name": "ButtonStyleModel",
      "state": {}
     },
     "cf78eab160dc4a1f8b146e12f6ea6148": {
      "model_module": "@jupyter-widgets/controls",
      "model_module_version": "1.4.0",
      "model_name": "VBoxModel",
      "state": {
       "children": [
        "IPY_MODEL_16b6f2710b384778bfa92566debf5adc",
        "IPY_MODEL_94e4f07fc05f44ae96bb42d930e08ba3"
       ],
       "layout": "IPY_MODEL_ead075bb540f4415846fb6fd2ef08a3a"
      }
     },
     "cf819504961241b386fe3a86333f4f84": {
      "model_module": "@jupyter-widgets/base",
      "model_module_version": "1.1.0",
      "model_name": "LayoutModel",
      "state": {}
     },
     "cf9c3cc5b7ec48279319a01ffcbc6422": {
      "model_module": "@jupyter-widgets/controls",
      "model_module_version": "1.4.0",
      "model_name": "BoxModel",
      "state": {
       "children": [
        "IPY_MODEL_94b811490b5543d9a9d8f07c80035d36"
       ],
       "layout": "IPY_MODEL_df9b5aab4b3c4cad8925519e852a7c66"
      }
     },
     "cfc3a25593464e6e972cac06bba50a87": {
      "model_module": "@jupyter-widgets/controls",
      "model_module_version": "1.4.0",
      "model_name": "CheckboxModel",
      "state": {
       "description": "Plot scan-gui graph instead of Jupyter's: ",
       "disabled": false,
       "layout": "IPY_MODEL_1a959f3e2f9f4a2d88e3f82380bc0389",
       "style": "IPY_MODEL_abefb9afbad44c979aa7b19822dc7140",
       "value": false
      }
     },
     "cfe1df60068147209067c8f82de4c793": {
      "model_module": "@jupyter-widgets/controls",
      "model_module_version": "1.4.0",
      "model_name": "ButtonStyleModel",
      "state": {}
     },
     "cfe613383c7e42abad76c179e3b594f0": {
      "model_module": "@jupyter-widgets/base",
      "model_module_version": "1.1.0",
      "model_name": "LayoutModel",
      "state": {}
     },
     "cff4243efd9b4e1488b4f4123a8dd3f2": {
      "model_module": "@jupyter-widgets/base",
      "model_module_version": "1.1.0",
      "model_name": "LayoutModel",
      "state": {}
     },
     "d0032b8885c049a99b708cfec0bef7b9": {
      "model_module": "@jupyter-widgets/controls",
      "model_module_version": "1.4.0",
      "model_name": "BoxModel",
      "state": {
       "children": [
        "IPY_MODEL_992ff162f9db4641ac40ddb6011f704f"
       ],
       "layout": "IPY_MODEL_3e87c554bac14c50b564a577de96b9eb"
      }
     },
     "d04ead21599741ddabc5bb7b48218ac5": {
      "model_module": "@jupyter-widgets/base",
      "model_module_version": "1.1.0",
      "model_name": "LayoutModel",
      "state": {}
     },
     "d12205ebf0304db88a857ae3f8a6238b": {
      "model_module": "@jupyter-widgets/base",
      "model_module_version": "1.1.0",
      "model_name": "LayoutModel",
      "state": {}
     },
     "d174edb7792e458abc682fbaf4593f54": {
      "model_module": "@jupyter-widgets/controls",
      "model_module_version": "1.4.0",
      "model_name": "ButtonStyleModel",
      "state": {}
     },
     "d1a28673983741a394bfa2c8fa4f248c": {
      "model_module": "@jupyter-widgets/controls",
      "model_module_version": "1.4.0",
      "model_name": "LabelModel",
      "state": {
       "layout": "IPY_MODEL_a8738857cc054bf990319b0ee6c1a45b",
       "style": "IPY_MODEL_4c2537669b6e4fa4bfc76d087221a7d7",
       "value": "10.000"
      }
     },
     "d1a2f1eefa434a5784a147328b15f900": {
      "model_module": "@jupyter-widgets/base",
      "model_module_version": "1.1.0",
      "model_name": "LayoutModel",
      "state": {}
     },
     "d1a69a0e65bc4a2bb61471694ce105aa": {
      "model_module": "@jupyter-widgets/controls",
      "model_module_version": "1.4.0",
      "model_name": "VBoxModel",
      "state": {
       "children": [
        "IPY_MODEL_c1c2325bd5bb432c9cac28b7636b01cf"
       ],
       "layout": "IPY_MODEL_a0f63c719a114bdbb752808e46819125"
      }
     },
     "d1b05063fb10479a9326638fe6073d76": {
      "model_module": "@jupyter-widgets/base",
      "model_module_version": "1.1.0",
      "model_name": "LayoutModel",
      "state": {}
     },
     "d1b4a5381b024b0a9611ff1b1461c45d": {
      "model_module": "@jupyter-widgets/base",
      "model_module_version": "1.1.0",
      "model_name": "LayoutModel",
      "state": {}
     },
     "d22bea074cdf47bdbafc7f9b68a5973f": {
      "model_module": "@jupyter-widgets/base",
      "model_module_version": "1.1.0",
      "model_name": "LayoutModel",
      "state": {}
     },
     "d2b641efaff84941b9d9e40068861ed1": {
      "model_module": "@jupyter-widgets/base",
      "model_module_version": "1.1.0",
      "model_name": "LayoutModel",
      "state": {}
     },
     "d2e6c2f526f646d5a31c98ad9225a268": {
      "model_module": "@jupyter-widgets/base",
      "model_module_version": "1.1.0",
      "model_name": "LayoutModel",
      "state": {}
     },
     "d2f15635f115411bb0521bae816871ba": {
      "model_module": "@jupyter-widgets/base",
      "model_module_version": "1.1.0",
      "model_name": "LayoutModel",
      "state": {}
     },
     "d30cff7990b14bd39898ccb064dcbbc1": {
      "model_module": "@jupyter-widgets/base",
      "model_module_version": "1.1.0",
      "model_name": "LayoutModel",
      "state": {}
     },
     "d3bbc58c8c3f4bac9eb6fcf248b6945b": {
      "model_module": "@jupyter-widgets/base",
      "model_module_version": "1.1.0",
      "model_name": "LayoutModel",
      "state": {}
     },
     "d3c4b1b16c634ee2becd0632b0bad91b": {
      "model_module": "@jupyter-widgets/base",
      "model_module_version": "1.1.0",
      "model_name": "LayoutModel",
      "state": {}
     },
     "d4112de92dd64da69abcbe3af73402d7": {
      "model_module": "@jupyter-widgets/base",
      "model_module_version": "1.1.0",
      "model_name": "LayoutModel",
      "state": {}
     },
     "d424ffca48454732a25edb0551bb1b4c": {
      "model_module": "@jupyter-widgets/base",
      "model_module_version": "1.1.0",
      "model_name": "LayoutModel",
      "state": {}
     },
     "d43e2a18e6894589927af062e0bf8a3a": {
      "model_module": "@jupyter-widgets/base",
      "model_module_version": "1.1.0",
      "model_name": "LayoutModel",
      "state": {}
     },
     "d495c2f781454fc5bc3c1800a9bdf38a": {
      "model_module": "@jupyter-widgets/base",
      "model_module_version": "1.1.0",
      "model_name": "LayoutModel",
      "state": {}
     },
     "d49e127507f04141b67f665f3adef57c": {
      "model_module": "@jupyter-widgets/controls",
      "model_module_version": "1.4.0",
      "model_name": "TextareaModel",
      "state": {
       "layout": "IPY_MODEL_306683ceff954b898f307301349243cf",
       "placeholder": "Example: IOC:m1 IOC:m3 LNLS:TEST:motor_g3",
       "style": "IPY_MODEL_d7bb688b98a44266aea0d2ba4b532876"
      }
     },
     "d4db31bb93e7431880d5da2d6a7b4336": {
      "model_module": "@jupyter-widgets/base",
      "model_module_version": "1.1.0",
      "model_name": "LayoutModel",
      "state": {
       "width": "300px"
      }
     },
     "d4e0da082bc142c796a8a2e97b8dadfa": {
      "model_module": "@jupyter-widgets/base",
      "model_module_version": "1.1.0",
      "model_name": "LayoutModel",
      "state": {}
     },
     "d4effad191614392b562e11d77f66768": {
      "model_module": "@jupyter-widgets/controls",
      "model_module_version": "1.4.0",
      "model_name": "BoxModel",
      "state": {
       "layout": "IPY_MODEL_912a2449381b48b8bf2228d2d501aa44"
      }
     },
     "d51077dc8fe544f78f2f9f9a8dea6755": {
      "model_module": "@jupyter-widgets/controls",
      "model_module_version": "1.4.0",
      "model_name": "DescriptionStyleModel",
      "state": {
       "description_width": ""
      }
     },
     "d542e167a7db4238a7588d53c790bb0d": {
      "model_module": "@jupyter-widgets/controls",
      "model_module_version": "1.4.0",
      "model_name": "LabelModel",
      "state": {
       "layout": "IPY_MODEL_1aeea7cac1d94e1a980a012d6bf414b1",
       "style": "IPY_MODEL_d99b3dbeb4584bb198ef418b6a1fac61",
       "value": "No motors initilized to be showed."
      }
     },
     "d55d587dae0249e4945f386ddd7aca44": {
      "model_module": "@jupyter-widgets/base",
      "model_module_version": "1.1.0",
      "model_name": "LayoutModel",
      "state": {}
     },
     "d5779b21f7354964be9e76d635e291f3": {
      "model_module": "plotlywidget",
      "model_module_version": "0.8.0",
      "model_name": "FigureModel",
      "state": {
       "_config": {
        "plotlyServerURL": "https://plot.ly"
       },
       "_js2py_layoutDelta": {},
       "_js2py_pointsCallback": {},
       "_js2py_relayout": {},
       "_js2py_restyle": {},
       "_js2py_traceDeltas": {},
       "_js2py_update": {},
       "_layout": {
        "template": {}
       },
       "_model_module_version": "0.8.0",
       "_py2js_addTraces": {},
       "_py2js_animate": {},
       "_py2js_deleteTraces": {},
       "_py2js_moveTraces": {},
       "_py2js_removeLayoutProps": {},
       "_py2js_removeTraceProps": {},
       "_py2js_restyle": {},
       "_py2js_update": {},
       "_view_count": 0,
       "_view_module_version": "0.8.0"
      }
     },
     "d5a60074041847ee89280218f5dcfcc9": {
      "model_module": "@jupyter-widgets/base",
      "model_module_version": "1.1.0",
      "model_name": "LayoutModel",
      "state": {}
     },
     "d5ae6fd504914e9e82cc7430be6f27ea": {
      "model_module": "@jupyter-widgets/base",
      "model_module_version": "1.1.0",
      "model_name": "LayoutModel",
      "state": {}
     },
     "d6121140efc1459580b94dc2c3ab3d20": {
      "buffers": [
       {
        "data": "AAAAAABAV0AAAAAAAEBQQAAAAAAAwFRAAAAAAACASEAAAAAAAABTQA==",
        "encoding": "base64",
        "path": [
         "_data",
         0,
         "y",
         "value"
        ]
       },
       {
        "data": "AAAAAABAV0AAAAAAAEBQQAAAAAAAwFRAAAAAAACASEAAAAAAAABTQA==",
        "encoding": "base64",
        "path": [
         "_data",
         1,
         "y",
         "value"
        ]
       }
      ],
      "model_module": "plotlywidget",
      "model_module_version": "0.8.0",
      "model_name": "FigureModel",
      "state": {
       "_config": {
        "plotlyServerURL": "https://plot.ly"
       },
       "_data": [
        {
         "mode": "lines+markers",
         "name": "line1",
         "type": "scatter",
         "uid": "d6bbaed6-06b2-4b24-ad78-507f53264399",
         "x": [
          0,
          1,
          2,
          3,
          4
         ],
         "xaxis": "x",
         "y": {
          "dtype": "float64",
          "shape": [
           5
          ],
          "value": {}
         },
         "yaxis": "y"
        },
        {
         "mode": "lines+markers",
         "name": "line2",
         "type": "scatter",
         "uid": "b4b1b190-742b-4450-ab35-dcf96705db05",
         "x": [
          0,
          1,
          2,
          3,
          4
         ],
         "xaxis": "x2",
         "y": {
          "dtype": "float64",
          "shape": [
           5
          ],
          "value": {}
         },
         "yaxis": "y2"
        }
       ],
       "_js2py_pointsCallback": {},
       "_js2py_restyle": {},
       "_js2py_update": {},
       "_last_layout_edit_id": 8,
       "_last_trace_edit_id": 7,
       "_layout": {
        "autosize": true,
        "plot_bgcolor": "rgb(230, 230, 230)",
        "template": {},
        "title": {
         "text": "Scan"
        },
        "xaxis": {
         "anchor": "y",
         "domain": [
          0,
          1
         ]
        },
        "xaxis2": {
         "anchor": "y2",
         "domain": [
          0,
          1
         ]
        },
        "yaxis": {
         "anchor": "x",
         "domain": [
          0.575,
          1
         ]
        },
        "yaxis2": {
         "anchor": "x2",
         "domain": [
          0,
          0.425
         ]
        }
       },
       "_model_module_version": "0.8.0",
       "_py2js_animate": {},
       "_py2js_deleteTraces": {},
       "_py2js_moveTraces": {},
       "_py2js_removeLayoutProps": {},
       "_py2js_removeTraceProps": {},
       "_view_count": 0,
       "_view_module_version": "0.8.0"
      }
     },
     "d662d0dd039a4e4bafb3dc45e59da227": {
      "model_module": "@jupyter-widgets/base",
      "model_module_version": "1.1.0",
      "model_name": "LayoutModel",
      "state": {
       "height": "40px",
       "width": "40px"
      }
     },
     "d674492d50444e1fa7b22978ec628abc": {
      "model_module": "@jupyter-widgets/controls",
      "model_module_version": "1.4.0",
      "model_name": "ButtonStyleModel",
      "state": {}
     },
     "d6859b78e10e4fa88ae86ce8881ec2f1": {
      "model_module": "@jupyter-widgets/controls",
      "model_module_version": "1.4.0",
      "model_name": "VBoxModel",
      "state": {
       "children": [
        "IPY_MODEL_cb119e2a83034635becf716782bfb761"
       ],
       "layout": "IPY_MODEL_ed180d46e3b943d989d30877a9213418"
      }
     },
     "d69462176e42441ba0f62bc91481f7a6": {
      "model_module": "@jupyter-widgets/base",
      "model_module_version": "1.1.0",
      "model_name": "LayoutModel",
      "state": {}
     },
     "d6c3eda3185b45f8972ad03126505391": {
      "model_module": "@jupyter-widgets/output",
      "model_module_version": "1.0.0",
      "model_name": "OutputModel",
      "state": {
       "layout": "IPY_MODEL_2f07d76a21b5489fba5244afee1da3f3",
       "outputs": [
        {
         "name": "stdout",
         "output_type": "stream",
         "text": "2019-05-13 16:06:22 Starting motors IOC:m1 initialization\n2019-05-13 16:06:22 Motor: 'IOC:m1' succesfully created as 'IOC m1'\n2019-05-13 16:06:22 Error in initialziation of motors IOC:m1\n2019-05-13 16:06:22 name 'py4syn' is not defined\n"
        }
       ]
      }
     },
     "d6ca109503734abbbbef2dca89037c47": {
      "model_module": "@jupyter-widgets/controls",
      "model_module_version": "1.4.0",
      "model_name": "CheckboxModel",
      "state": {
       "disabled": false,
       "layout": "IPY_MODEL_31e8f8c3602247b494d34652276d91a2",
       "style": "IPY_MODEL_7f41503d1f224aad8bf95376cd5fe2ca",
       "value": false
      }
     },
     "d6dda309899242f88e2277f111723748": {
      "model_module": "@jupyter-widgets/base",
      "model_module_version": "1.1.0",
      "model_name": "LayoutModel",
      "state": {}
     },
     "d6f0d0c322414e5eba381c3dd6d6dcbb": {
      "model_module": "@jupyter-widgets/base",
      "model_module_version": "1.1.0",
      "model_name": "LayoutModel",
      "state": {}
     },
     "d70ad04a039547748248003576162bb3": {
      "model_module": "@jupyter-widgets/base",
      "model_module_version": "1.1.0",
      "model_name": "LayoutModel",
      "state": {}
     },
     "d712320b8e7142178c658c59a63010ba": {
      "model_module": "@jupyter-widgets/controls",
      "model_module_version": "1.4.0",
      "model_name": "ButtonStyleModel",
      "state": {}
     },
     "d71f999ca0c9455d8f4c7022d0bbcff5": {
      "model_module": "@jupyter-widgets/base",
      "model_module_version": "1.1.0",
      "model_name": "LayoutModel",
      "state": {}
     },
     "d721a6be4be8499e8a02f60f448da2f8": {
      "model_module": "@jupyter-widgets/base",
      "model_module_version": "1.1.0",
      "model_name": "LayoutModel",
      "state": {}
     },
     "d72840422779405eb65b7aa896a0f391": {
      "model_module": "@jupyter-widgets/base",
      "model_module_version": "1.1.0",
      "model_name": "LayoutModel",
      "state": {
       "width": "300px"
      }
     },
     "d729bc75c5b843acbc72e5d6d3f26545": {
      "model_module": "@jupyter-widgets/base",
      "model_module_version": "1.1.0",
      "model_name": "LayoutModel",
      "state": {
       "width": "300px"
      }
     },
     "d73ed791a0a8474089b5677346c1db05": {
      "model_module": "@jupyter-widgets/base",
      "model_module_version": "1.1.0",
      "model_name": "LayoutModel",
      "state": {}
     },
     "d772062b6f714aae8ad39f2b6385bb1e": {
      "model_module": "@jupyter-widgets/controls",
      "model_module_version": "1.4.0",
      "model_name": "DescriptionStyleModel",
      "state": {
       "description_width": "initial"
      }
     },
     "d7bb688b98a44266aea0d2ba4b532876": {
      "model_module": "@jupyter-widgets/controls",
      "model_module_version": "1.4.0",
      "model_name": "DescriptionStyleModel",
      "state": {
       "description_width": ""
      }
     },
     "d7ca592f1ddc40ffaa47e933f43e7c76": {
      "model_module": "@jupyter-widgets/controls",
      "model_module_version": "1.4.0",
      "model_name": "DescriptionStyleModel",
      "state": {
       "description_width": "initial"
      }
     },
     "d87baa2977184b68bfcdc85d8537cbd1": {
      "model_module": "@jupyter-widgets/base",
      "model_module_version": "1.1.0",
      "model_name": "LayoutModel",
      "state": {}
     },
     "d8a76d7a12a240cab551142e92f27b8c": {
      "model_module": "@jupyter-widgets/controls",
      "model_module_version": "1.4.0",
      "model_name": "VBoxModel",
      "state": {
       "children": [
        "IPY_MODEL_4138af360de248f7b16daa0f2a450ac7"
       ],
       "layout": "IPY_MODEL_ef8060f61e72409587df59f618d932e8"
      }
     },
     "d8c2dbe16a774aa1b36b0f52f595c972": {
      "model_module": "@jupyter-widgets/base",
      "model_module_version": "1.1.0",
      "model_name": "LayoutModel",
      "state": {}
     },
     "d8da0f6e7fea4aa8b448783b8901e95b": {
      "model_module": "@jupyter-widgets/controls",
      "model_module_version": "1.4.0",
      "model_name": "ButtonStyleModel",
      "state": {}
     },
     "d91479ecaa324a51b61e8864c184881a": {
      "model_module": "@jupyter-widgets/controls",
      "model_module_version": "1.4.0",
      "model_name": "ButtonModel",
      "state": {
       "button_style": "success",
       "description": "Start Manual Alignment",
       "layout": "IPY_MODEL_67fc2fbc82b74da68dfc5f231978191d",
       "style": "IPY_MODEL_42a9103578364dc3bf35c064df5c04a2",
       "tooltip": "Click me"
      }
     },
     "d93ac90fc5814a468a398ba5f456a2a3": {
      "model_module": "@jupyter-widgets/base",
      "model_module_version": "1.1.0",
      "model_name": "LayoutModel",
      "state": {
       "width": "300px"
      }
     },
     "d9451ac4684e4d0396bfd3fac8318a3d": {
      "model_module": "@jupyter-widgets/base",
      "model_module_version": "1.1.0",
      "model_name": "LayoutModel",
      "state": {
       "width": "300px"
      }
     },
     "d961d0a1a5be4e27ad8b349b3586cb8c": {
      "model_module": "@jupyter-widgets/controls",
      "model_module_version": "1.4.0",
      "model_name": "LabelModel",
      "state": {
       "layout": "IPY_MODEL_cb734a240e6f4a5c815eae4e1fcdeb6e",
       "style": "IPY_MODEL_1dda9f0f0f1b483b90699c0ee1590a57",
       "value": "IOC:m3"
      }
     },
     "d99b3dbeb4584bb198ef418b6a1fac61": {
      "model_module": "@jupyter-widgets/controls",
      "model_module_version": "1.4.0",
      "model_name": "DescriptionStyleModel",
      "state": {
       "description_width": ""
      }
     },
     "d9b6c3f8ccdf4cc49d725cef71a50526": {
      "model_module": "@jupyter-widgets/base",
      "model_module_version": "1.1.0",
      "model_name": "LayoutModel",
      "state": {}
     },
     "d9c91416dd6e4a5aa0cd4ef0f9214e9e": {
      "model_module": "@jupyter-widgets/base",
      "model_module_version": "1.1.0",
      "model_name": "LayoutModel",
      "state": {}
     },
     "d9d213e6089c4f03924f187608292b71": {
      "model_module": "@jupyter-widgets/base",
      "model_module_version": "1.1.0",
      "model_name": "LayoutModel",
      "state": {}
     },
     "d9daceb57a3a413499324e5bfab4b1cf": {
      "model_module": "@jupyter-widgets/base",
      "model_module_version": "1.1.0",
      "model_name": "LayoutModel",
      "state": {}
     },
     "d9e3770e0674494aa733f8ab85267529": {
      "model_module": "@jupyter-widgets/output",
      "model_module_version": "1.0.0",
      "model_name": "OutputModel",
      "state": {
       "layout": "IPY_MODEL_bdc2d2f89c0b44a9b4717bcf515b79d6"
      }
     },
     "d9e94464f6b2410aa44bf79da1260636": {
      "model_module": "@jupyter-widgets/base",
      "model_module_version": "1.1.0",
      "model_name": "LayoutModel",
      "state": {
       "height": "40px",
       "width": "40px"
      }
     },
     "da1cd30db0b94969b21676f723a6adf8": {
      "model_module": "@jupyter-widgets/output",
      "model_module_version": "1.0.0",
      "model_name": "OutputModel",
      "state": {
       "layout": "IPY_MODEL_a799dba9046f4e78ba9d12077c456f36"
      }
     },
     "da2234b26dc8405d902f27cbabfbc5a5": {
      "model_module": "@jupyter-widgets/output",
      "model_module_version": "1.0.0",
      "model_name": "OutputModel",
      "state": {
       "layout": "IPY_MODEL_dbaad0afafc640d4b0c050ed2ab22a3a"
      }
     },
     "db56f9d91eb14292b5ce6c2d67cde217": {
      "model_module": "@jupyter-widgets/base",
      "model_module_version": "1.1.0",
      "model_name": "LayoutModel",
      "state": {}
     },
     "dbaad0afafc640d4b0c050ed2ab22a3a": {
      "model_module": "@jupyter-widgets/base",
      "model_module_version": "1.1.0",
      "model_name": "LayoutModel",
      "state": {}
     },
     "dbf8be50d7a54cbc8b239fadf592bee5": {
      "model_module": "@jupyter-widgets/controls",
      "model_module_version": "1.4.0",
      "model_name": "ButtonModel",
      "state": {
       "button_style": "warning",
       "description": "Export Notebook to PDF",
       "layout": "IPY_MODEL_c0da717900b44d1394602afcff1eb3c8",
       "style": "IPY_MODEL_7f21cfb12d9e47b3b1909fa62e908001",
       "tooltip": "Click me"
      }
     },
     "dd1b835d3c2448c88e1d338b4d06df5a": {
      "model_module": "@jupyter-widgets/base",
      "model_module_version": "1.1.0",
      "model_name": "LayoutModel",
      "state": {}
     },
     "dd35609dc8594162ade11a73bbfe013e": {
      "model_module": "@jupyter-widgets/base",
      "model_module_version": "1.1.0",
      "model_name": "LayoutModel",
      "state": {
       "width": "300px"
      }
     },
     "dd6383e0cf454d53a2d10417588eabb8": {
      "model_module": "@jupyter-widgets/base",
      "model_module_version": "1.1.0",
      "model_name": "LayoutModel",
      "state": {}
     },
     "dd94da8aeb324fabbc05e5de1038fe3e": {
      "model_module": "@jupyter-widgets/base",
      "model_module_version": "1.1.0",
      "model_name": "LayoutModel",
      "state": {
       "width": "300px"
      }
     },
     "dda27e9beecb42c583159a44f570ad11": {
      "model_module": "@jupyter-widgets/base",
      "model_module_version": "1.1.0",
      "model_name": "LayoutModel",
      "state": {}
     },
     "ddaee8bd473947dbab52c14bd2deb4d7": {
      "model_module": "@jupyter-widgets/controls",
      "model_module_version": "1.4.0",
      "model_name": "LabelModel",
      "state": {
       "layout": "IPY_MODEL_1c0131985ba74590bdc05c405815e8c4",
       "style": "IPY_MODEL_b4d480147116444c9202cab2f6a08915",
       "value": "IOC:m1"
      }
     },
     "de07193e0d534107888724bf7620dc3d": {
      "model_module": "@jupyter-widgets/base",
      "model_module_version": "1.1.0",
      "model_name": "LayoutModel",
      "state": {}
     },
     "de2d75b2d5c44e10a46993fa230587d5": {
      "model_module": "@jupyter-widgets/controls",
      "model_module_version": "1.4.0",
      "model_name": "TextareaModel",
      "state": {
       "layout": "IPY_MODEL_26d75381f22f419c8ab8284990810196",
       "placeholder": "Example: IOC:m1 IOC:m3 LNLS:TEST:motor_g3",
       "style": "IPY_MODEL_30b527a5db8747589b9285474a64514e"
      }
     },
     "de392e76f4ea4f2dbb9c30a0821b7dc1": {
      "model_module": "@jupyter-widgets/base",
      "model_module_version": "1.1.0",
      "model_name": "LayoutModel",
      "state": {}
     },
     "de3b7d6d5edb430e8936e9e885d11cef": {
      "model_module": "@jupyter-widgets/base",
      "model_module_version": "1.1.0",
      "model_name": "LayoutModel",
      "state": {}
     },
     "de3c9a2c9c734e04a89609d86964c766": {
      "model_module": "@jupyter-widgets/controls",
      "model_module_version": "1.4.0",
      "model_name": "ButtonModel",
      "state": {
       "button_style": "success",
       "description": "Start Manual Alignment",
       "layout": "IPY_MODEL_b451aaee039943cf8f8f5de7f156ace8",
       "style": "IPY_MODEL_b3ee48ba0a2843c1b2616f489b6da4b1",
       "tooltip": "Click me"
      }
     },
     "de895fd7c88a485fa1132f5170a1cbb2": {
      "model_module": "@jupyter-widgets/base",
      "model_module_version": "1.1.0",
      "model_name": "LayoutModel",
      "state": {}
     },
     "deab288fd17f4c279ba5798a73f9e15b": {
      "model_module": "@jupyter-widgets/base",
      "model_module_version": "1.1.0",
      "model_name": "LayoutModel",
      "state": {}
     },
     "dead411194c0484082f46ccbdb0cdf33": {
      "model_module": "@jupyter-widgets/base",
      "model_module_version": "1.1.0",
      "model_name": "LayoutModel",
      "state": {
       "height": "40px",
       "width": "40px"
      }
     },
     "debb3799a8c84bb09b6134c47cc28e56": {
      "model_module": "@jupyter-widgets/base",
      "model_module_version": "1.1.0",
      "model_name": "LayoutModel",
      "state": {}
     },
     "df5dcb0a5d2647b78f57d2143c705f53": {
      "model_module": "@jupyter-widgets/controls",
      "model_module_version": "1.4.0",
      "model_name": "VBoxModel",
      "state": {
       "children": [
        "IPY_MODEL_bc17f7e9449b4e3c8d62107e98f497b9"
       ],
       "layout": "IPY_MODEL_2127c6eec5f041cc901a1b40c4422e69"
      }
     },
     "df7b14d355e741488aa582332cad93c1": {
      "model_module": "@jupyter-widgets/controls",
      "model_module_version": "1.4.0",
      "model_name": "BoxModel",
      "state": {
       "layout": "IPY_MODEL_c8d44adb594a4d57985f14361967268a"
      }
     },
     "df8547168ff7486d99f42184dec1d5bb": {
      "model_module": "@jupyter-widgets/controls",
      "model_module_version": "1.4.0",
      "model_name": "ButtonStyleModel",
      "state": {}
     },
     "df9b5aab4b3c4cad8925519e852a7c66": {
      "model_module": "@jupyter-widgets/base",
      "model_module_version": "1.1.0",
      "model_name": "LayoutModel",
      "state": {
       "height": "40px",
       "width": "40px"
      }
     },
     "dfa183b89a584ee695120e73a877d536": {
      "model_module": "@jupyter-widgets/base",
      "model_module_version": "1.1.0",
      "model_name": "LayoutModel",
      "state": {}
     },
     "dfc3c7b1759a432b85c42d0ba9fbd194": {
      "model_module": "@jupyter-widgets/base",
      "model_module_version": "1.1.0",
      "model_name": "LayoutModel",
      "state": {}
     },
     "e0069eab14a1498c9b099e32583f6c23": {
      "model_module": "@jupyter-widgets/controls",
      "model_module_version": "1.4.0",
      "model_name": "DescriptionStyleModel",
      "state": {
       "description_width": "initial"
      }
     },
     "e05184c7a98141c284499c8a1c861ccf": {
      "model_module": "@jupyter-widgets/base",
      "model_module_version": "1.1.0",
      "model_name": "LayoutModel",
      "state": {
       "height": "40px",
       "width": "40px"
      }
     },
     "e05c5906abcd4646aada0cb194fc8eeb": {
      "model_module": "@jupyter-widgets/controls",
      "model_module_version": "1.4.0",
      "model_name": "ButtonModel",
      "state": {
       "button_style": "warning",
       "description": "Export Notebook to HTML",
       "layout": "IPY_MODEL_1856ea7e9c5d4f62aba15f5344eadeef",
       "style": "IPY_MODEL_217ccb60d7ca4956811d343f68373b00",
       "tooltip": "Click me"
      }
     },
     "e073bd86858e48c3b0afa80436c76dbb": {
      "model_module": "@jupyter-widgets/output",
      "model_module_version": "1.0.0",
      "model_name": "OutputModel",
      "state": {
       "layout": "IPY_MODEL_58e041e1a3e34d089843bd9a8d2111bd"
      }
     },
     "e0852799d41447bea156f178da999149": {
      "model_module": "@jupyter-widgets/output",
      "model_module_version": "1.0.0",
      "model_name": "OutputModel",
      "state": {
       "layout": "IPY_MODEL_f9507aecf5274f6e834464e17e427069",
       "outputs": [
        {
         "data": {
          "application/javascript": "IPython.notebook.save_checkpoint();",
          "text/plain": "<IPython.core.display.Javascript object>"
         },
         "metadata": {},
         "output_type": "display_data"
        },
        {
         "ename": "FileNotFoundError",
         "evalue": "No such file or directory: '/home/gabriel.andrade/work/jupy4syn/scans/plot_0244-jupy.png'",
         "output_type": "error",
         "traceback": [
          "\u001b[0;31m---------------------------------------\u001b[0m",
          "\u001b[0;31mTypeError\u001b[0mTraceback (most recent call last)",
          "\u001b[0;32m~/.local/lib/python3.5/site-packages/IPython/core/display.py\u001b[0m in \u001b[0;36m_data_and_metadata\u001b[0;34m(self, always_both)\u001b[0m\n\u001b[1;32m   1253\u001b[0m         \u001b[0;32mtry\u001b[0m\u001b[0;34m:\u001b[0m\u001b[0;34m\u001b[0m\u001b[0m\n\u001b[0;32m-> 1254\u001b[0;31m             \u001b[0mb64_data\u001b[0m \u001b[0;34m=\u001b[0m \u001b[0mb2a_base64\u001b[0m\u001b[0;34m(\u001b[0m\u001b[0mself\u001b[0m\u001b[0;34m.\u001b[0m\u001b[0mdata\u001b[0m\u001b[0;34m)\u001b[0m\u001b[0;34m.\u001b[0m\u001b[0mdecode\u001b[0m\u001b[0;34m(\u001b[0m\u001b[0;34m'ascii'\u001b[0m\u001b[0;34m)\u001b[0m\u001b[0;34m\u001b[0m\u001b[0m\n\u001b[0m\u001b[1;32m   1255\u001b[0m         \u001b[0;32mexcept\u001b[0m \u001b[0mTypeError\u001b[0m\u001b[0;34m:\u001b[0m\u001b[0;34m\u001b[0m\u001b[0m\n",
          "\u001b[0;31mTypeError\u001b[0m: a bytes-like object is required, not 'str'",
          "\nDuring handling of the above exception, another exception occurred:\n",
          "\u001b[0;31mFileNotFoundError\u001b[0mTraceback (most recent call last)",
          "\u001b[0;32m~/.local/lib/python3.5/site-packages/IPython/core/formatters.py\u001b[0m in \u001b[0;36m__call__\u001b[0;34m(self, obj, include, exclude)\u001b[0m\n\u001b[1;32m    968\u001b[0m \u001b[0;34m\u001b[0m\u001b[0m\n\u001b[1;32m    969\u001b[0m             \u001b[0;32mif\u001b[0m \u001b[0mmethod\u001b[0m \u001b[0;32mis\u001b[0m \u001b[0;32mnot\u001b[0m \u001b[0;32mNone\u001b[0m\u001b[0;34m:\u001b[0m\u001b[0;34m\u001b[0m\u001b[0m\n\u001b[0;32m--> 970\u001b[0;31m                 \u001b[0;32mreturn\u001b[0m \u001b[0mmethod\u001b[0m\u001b[0;34m(\u001b[0m\u001b[0minclude\u001b[0m\u001b[0;34m=\u001b[0m\u001b[0minclude\u001b[0m\u001b[0;34m,\u001b[0m \u001b[0mexclude\u001b[0m\u001b[0;34m=\u001b[0m\u001b[0mexclude\u001b[0m\u001b[0;34m)\u001b[0m\u001b[0;34m\u001b[0m\u001b[0m\n\u001b[0m\u001b[1;32m    971\u001b[0m             \u001b[0;32mreturn\u001b[0m \u001b[0;32mNone\u001b[0m\u001b[0;34m\u001b[0m\u001b[0m\n\u001b[1;32m    972\u001b[0m         \u001b[0;32melse\u001b[0m\u001b[0;34m:\u001b[0m\u001b[0;34m\u001b[0m\u001b[0m\n",
          "\u001b[0;32m~/.local/lib/python3.5/site-packages/IPython/core/display.py\u001b[0m in \u001b[0;36m_repr_mimebundle_\u001b[0;34m(self, include, exclude)\u001b[0m\n\u001b[1;32m   1242\u001b[0m         \u001b[0;32mif\u001b[0m \u001b[0mself\u001b[0m\u001b[0;34m.\u001b[0m\u001b[0membed\u001b[0m\u001b[0;34m:\u001b[0m\u001b[0;34m\u001b[0m\u001b[0m\n\u001b[1;32m   1243\u001b[0m             \u001b[0mmimetype\u001b[0m \u001b[0;34m=\u001b[0m \u001b[0mself\u001b[0m\u001b[0;34m.\u001b[0m\u001b[0m_mimetype\u001b[0m\u001b[0;34m\u001b[0m\u001b[0m\n\u001b[0;32m-> 1244\u001b[0;31m             \u001b[0mdata\u001b[0m\u001b[0;34m,\u001b[0m \u001b[0mmetadata\u001b[0m \u001b[0;34m=\u001b[0m \u001b[0mself\u001b[0m\u001b[0;34m.\u001b[0m\u001b[0m_data_and_metadata\u001b[0m\u001b[0;34m(\u001b[0m\u001b[0malways_both\u001b[0m\u001b[0;34m=\u001b[0m\u001b[0;32mTrue\u001b[0m\u001b[0;34m)\u001b[0m\u001b[0;34m\u001b[0m\u001b[0m\n\u001b[0m\u001b[1;32m   1245\u001b[0m             \u001b[0;32mif\u001b[0m \u001b[0mmetadata\u001b[0m\u001b[0;34m:\u001b[0m\u001b[0;34m\u001b[0m\u001b[0m\n\u001b[1;32m   1246\u001b[0m                 \u001b[0mmetadata\u001b[0m \u001b[0;34m=\u001b[0m \u001b[0;34m{\u001b[0m\u001b[0mmimetype\u001b[0m\u001b[0;34m:\u001b[0m \u001b[0mmetadata\u001b[0m\u001b[0;34m}\u001b[0m\u001b[0;34m\u001b[0m\u001b[0m\n",
          "\u001b[0;32m~/.local/lib/python3.5/site-packages/IPython/core/display.py\u001b[0m in \u001b[0;36m_data_and_metadata\u001b[0;34m(self, always_both)\u001b[0m\n\u001b[1;32m   1255\u001b[0m         \u001b[0;32mexcept\u001b[0m \u001b[0mTypeError\u001b[0m\u001b[0;34m:\u001b[0m\u001b[0;34m\u001b[0m\u001b[0m\n\u001b[1;32m   1256\u001b[0m             raise FileNotFoundError(\n\u001b[0;32m-> 1257\u001b[0;31m                 \"No such file or directory: '%s'\" % (self.data))\n\u001b[0m\u001b[1;32m   1258\u001b[0m         \u001b[0mmd\u001b[0m \u001b[0;34m=\u001b[0m \u001b[0;34m{\u001b[0m\u001b[0;34m}\u001b[0m\u001b[0;34m\u001b[0m\u001b[0m\n\u001b[1;32m   1259\u001b[0m         \u001b[0;32mif\u001b[0m \u001b[0mself\u001b[0m\u001b[0;34m.\u001b[0m\u001b[0mmetadata\u001b[0m\u001b[0;34m:\u001b[0m\u001b[0;34m\u001b[0m\u001b[0m\n",
          "\u001b[0;31mFileNotFoundError\u001b[0m: No such file or directory: '/home/gabriel.andrade/work/jupy4syn/scans/plot_0244-jupy.png'"
         ]
        },
        {
         "ename": "FileNotFoundError",
         "evalue": "No such file or directory: '/home/gabriel.andrade/work/jupy4syn/scans/plot_0244-jupy.png'",
         "output_type": "error",
         "traceback": [
          "\u001b[0;31m---------------------------------------\u001b[0m",
          "\u001b[0;31mTypeError\u001b[0mTraceback (most recent call last)",
          "\u001b[0;32m~/.local/lib/python3.5/site-packages/IPython/core/display.py\u001b[0m in \u001b[0;36m_data_and_metadata\u001b[0;34m(self, always_both)\u001b[0m\n\u001b[1;32m   1253\u001b[0m         \u001b[0;32mtry\u001b[0m\u001b[0;34m:\u001b[0m\u001b[0;34m\u001b[0m\u001b[0m\n\u001b[0;32m-> 1254\u001b[0;31m             \u001b[0mb64_data\u001b[0m \u001b[0;34m=\u001b[0m \u001b[0mb2a_base64\u001b[0m\u001b[0;34m(\u001b[0m\u001b[0mself\u001b[0m\u001b[0;34m.\u001b[0m\u001b[0mdata\u001b[0m\u001b[0;34m)\u001b[0m\u001b[0;34m.\u001b[0m\u001b[0mdecode\u001b[0m\u001b[0;34m(\u001b[0m\u001b[0;34m'ascii'\u001b[0m\u001b[0;34m)\u001b[0m\u001b[0;34m\u001b[0m\u001b[0m\n\u001b[0m\u001b[1;32m   1255\u001b[0m         \u001b[0;32mexcept\u001b[0m \u001b[0mTypeError\u001b[0m\u001b[0;34m:\u001b[0m\u001b[0;34m\u001b[0m\u001b[0m\n",
          "\u001b[0;31mTypeError\u001b[0m: a bytes-like object is required, not 'str'",
          "\nDuring handling of the above exception, another exception occurred:\n",
          "\u001b[0;31mFileNotFoundError\u001b[0mTraceback (most recent call last)",
          "\u001b[0;32m~/.local/lib/python3.5/site-packages/IPython/core/formatters.py\u001b[0m in \u001b[0;36m__call__\u001b[0;34m(self, obj)\u001b[0m\n\u001b[1;32m    343\u001b[0m             \u001b[0mmethod\u001b[0m \u001b[0;34m=\u001b[0m \u001b[0mget_real_method\u001b[0m\u001b[0;34m(\u001b[0m\u001b[0mobj\u001b[0m\u001b[0;34m,\u001b[0m \u001b[0mself\u001b[0m\u001b[0;34m.\u001b[0m\u001b[0mprint_method\u001b[0m\u001b[0;34m)\u001b[0m\u001b[0;34m\u001b[0m\u001b[0m\n\u001b[1;32m    344\u001b[0m             \u001b[0;32mif\u001b[0m \u001b[0mmethod\u001b[0m \u001b[0;32mis\u001b[0m \u001b[0;32mnot\u001b[0m \u001b[0;32mNone\u001b[0m\u001b[0;34m:\u001b[0m\u001b[0;34m\u001b[0m\u001b[0m\n\u001b[0;32m--> 345\u001b[0;31m                 \u001b[0;32mreturn\u001b[0m \u001b[0mmethod\u001b[0m\u001b[0;34m(\u001b[0m\u001b[0;34m)\u001b[0m\u001b[0;34m\u001b[0m\u001b[0m\n\u001b[0m\u001b[1;32m    346\u001b[0m             \u001b[0;32mreturn\u001b[0m \u001b[0;32mNone\u001b[0m\u001b[0;34m\u001b[0m\u001b[0m\n\u001b[1;32m    347\u001b[0m         \u001b[0;32melse\u001b[0m\u001b[0;34m:\u001b[0m\u001b[0;34m\u001b[0m\u001b[0m\n",
          "\u001b[0;32m~/.local/lib/python3.5/site-packages/IPython/core/display.py\u001b[0m in \u001b[0;36m_repr_png_\u001b[0;34m(self)\u001b[0m\n\u001b[1;32m   1272\u001b[0m     \u001b[0;32mdef\u001b[0m \u001b[0m_repr_png_\u001b[0m\u001b[0;34m(\u001b[0m\u001b[0mself\u001b[0m\u001b[0;34m)\u001b[0m\u001b[0;34m:\u001b[0m\u001b[0;34m\u001b[0m\u001b[0m\n\u001b[1;32m   1273\u001b[0m         \u001b[0;32mif\u001b[0m \u001b[0mself\u001b[0m\u001b[0;34m.\u001b[0m\u001b[0membed\u001b[0m \u001b[0;32mand\u001b[0m \u001b[0mself\u001b[0m\u001b[0;34m.\u001b[0m\u001b[0mformat\u001b[0m \u001b[0;34m==\u001b[0m \u001b[0mself\u001b[0m\u001b[0;34m.\u001b[0m\u001b[0m_FMT_PNG\u001b[0m\u001b[0;34m:\u001b[0m\u001b[0;34m\u001b[0m\u001b[0m\n\u001b[0;32m-> 1274\u001b[0;31m             \u001b[0;32mreturn\u001b[0m \u001b[0mself\u001b[0m\u001b[0;34m.\u001b[0m\u001b[0m_data_and_metadata\u001b[0m\u001b[0;34m(\u001b[0m\u001b[0;34m)\u001b[0m\u001b[0;34m\u001b[0m\u001b[0m\n\u001b[0m\u001b[1;32m   1275\u001b[0m \u001b[0;34m\u001b[0m\u001b[0m\n\u001b[1;32m   1276\u001b[0m     \u001b[0;32mdef\u001b[0m \u001b[0m_repr_jpeg_\u001b[0m\u001b[0;34m(\u001b[0m\u001b[0mself\u001b[0m\u001b[0;34m)\u001b[0m\u001b[0;34m:\u001b[0m\u001b[0;34m\u001b[0m\u001b[0m\n",
          "\u001b[0;32m~/.local/lib/python3.5/site-packages/IPython/core/display.py\u001b[0m in \u001b[0;36m_data_and_metadata\u001b[0;34m(self, always_both)\u001b[0m\n\u001b[1;32m   1255\u001b[0m         \u001b[0;32mexcept\u001b[0m \u001b[0mTypeError\u001b[0m\u001b[0;34m:\u001b[0m\u001b[0;34m\u001b[0m\u001b[0m\n\u001b[1;32m   1256\u001b[0m             raise FileNotFoundError(\n\u001b[0;32m-> 1257\u001b[0;31m                 \"No such file or directory: '%s'\" % (self.data))\n\u001b[0m\u001b[1;32m   1258\u001b[0m         \u001b[0mmd\u001b[0m \u001b[0;34m=\u001b[0m \u001b[0;34m{\u001b[0m\u001b[0;34m}\u001b[0m\u001b[0;34m\u001b[0m\u001b[0m\n\u001b[1;32m   1259\u001b[0m         \u001b[0;32mif\u001b[0m \u001b[0mself\u001b[0m\u001b[0;34m.\u001b[0m\u001b[0mmetadata\u001b[0m\u001b[0;34m:\u001b[0m\u001b[0;34m\u001b[0m\u001b[0m\n",
          "\u001b[0;31mFileNotFoundError\u001b[0m: No such file or directory: '/home/gabriel.andrade/work/jupy4syn/scans/plot_0244-jupy.png'"
         ]
        },
        {
         "data": {
          "application/javascript": "IPython.notebook.save_checkpoint();",
          "text/plain": "<IPython.core.display.Javascript object>"
         },
         "metadata": {},
         "output_type": "display_data"
        },
        {
         "data": {
          "application/javascript": "IPython.notebook.save_checkpoint();",
          "text/plain": "<IPython.core.display.Javascript object>"
         },
         "metadata": {},
         "output_type": "display_data"
        },
        {
         "data": {
          "application/javascript": "IPython.notebook.save_checkpoint();",
          "text/plain": "<IPython.core.display.Javascript object>"
         },
         "metadata": {},
         "output_type": "display_data"
        }
       ]
      }
     },
     "e0b68b5e9d2441cd80143b9fbc15e480": {
      "model_module": "@jupyter-widgets/base",
      "model_module_version": "1.1.0",
      "model_name": "LayoutModel",
      "state": {}
     },
     "e0dbf9c43cfd49d38d2df7f36dd69eaa": {
      "model_module": "@jupyter-widgets/controls",
      "model_module_version": "1.4.0",
      "model_name": "DescriptionStyleModel",
      "state": {
       "description_width": ""
      }
     },
     "e12cc312889943e085a09d71630fe24d": {
      "model_module": "@jupyter-widgets/controls",
      "model_module_version": "1.4.0",
      "model_name": "ButtonModel",
      "state": {
       "button_style": "success",
       "description": "Start Motor Initializaton",
       "layout": "IPY_MODEL_dd94da8aeb324fabbc05e5de1038fe3e",
       "style": "IPY_MODEL_23d2df924e1c4893af0dd791eea4d76d",
       "tooltip": "Click me"
      }
     },
     "e1676c02bec444b7a3bbd610627a2565": {
      "model_module": "@jupyter-widgets/controls",
      "model_module_version": "1.4.0",
      "model_name": "TextareaModel",
      "state": {
       "layout": "IPY_MODEL_87551054cbed49daa42b12c5840358d2",
       "placeholder": "Example: IOC:m1.DMOV IOC:m3.RBV LNLS:ANEL:corrente.VAL",
       "style": "IPY_MODEL_c7c5b7b453384829923edc37cdb550b5"
      }
     },
     "e186d1c64b07474884245e5822fa9ebb": {
      "model_module": "@jupyter-widgets/base",
      "model_module_version": "1.1.0",
      "model_name": "LayoutModel",
      "state": {}
     },
     "e1a9932ddaaf4c0590cd4f731c5b29cd": {
      "model_module": "@jupyter-widgets/base",
      "model_module_version": "1.1.0",
      "model_name": "LayoutModel",
      "state": {}
     },
     "e1aae2d9359b449287d9abe84b2aaeea": {
      "model_module": "@jupyter-widgets/controls",
      "model_module_version": "1.4.0",
      "model_name": "ButtonModel",
      "state": {
       "button_style": "warning",
       "description": "Export Notebook to HTML",
       "layout": "IPY_MODEL_f36189979f804c57bf9fccc429372b08",
       "style": "IPY_MODEL_313963e1177542b081a132a3ab2931ce",
       "tooltip": "Click me"
      }
     },
     "e1d6cf4ba3614d3dbe2ba4bae4dfff60": {
      "model_module": "@jupyter-widgets/controls",
      "model_module_version": "1.4.0",
      "model_name": "VBoxModel",
      "state": {
       "children": [
        "IPY_MODEL_1823c98c50e442209e1af6adee450583",
        "IPY_MODEL_a9991f2cdbb04b80afc992979b19054e"
       ],
       "layout": "IPY_MODEL_d9d213e6089c4f03924f187608292b71"
      }
     },
     "e21275298e3c4326b3dc026d129f4ea7": {
      "model_module": "@jupyter-widgets/output",
      "model_module_version": "1.0.0",
      "model_name": "OutputModel",
      "state": {
       "layout": "IPY_MODEL_408763c6cbfe40c29842c04b00d2a5f1",
       "outputs": [
        {
         "data": {
          "application/javascript": "IPython.notebook.save_checkpoint();",
          "text/plain": "<IPython.core.display.Javascript object>"
         },
         "metadata": {},
         "output_type": "display_data"
        },
        {
         "data": {
          "application/javascript": "IPython.notebook.save_checkpoint();",
          "text/plain": "<IPython.core.display.Javascript object>"
         },
         "metadata": {},
         "output_type": "display_data"
        },
        {
         "data": {
          "application/javascript": "IPython.notebook.save_checkpoint();",
          "text/plain": "<IPython.core.display.Javascript object>"
         },
         "metadata": {},
         "output_type": "display_data"
        }
       ]
      }
     },
     "e2140f858858435ba9e390f48962949b": {
      "model_module": "@jupyter-widgets/base",
      "model_module_version": "1.1.0",
      "model_name": "LayoutModel",
      "state": {}
     },
     "e23d7713df594116ac2cf7fd0066fd23": {
      "model_module": "@jupyter-widgets/controls",
      "model_module_version": "1.4.0",
      "model_name": "DescriptionStyleModel",
      "state": {
       "description_width": ""
      }
     },
     "e2cfb192d94e46f182f1a6ca7918593f": {
      "model_module": "@jupyter-widgets/controls",
      "model_module_version": "1.4.0",
      "model_name": "DescriptionStyleModel",
      "state": {
       "description_width": ""
      }
     },
     "e30cbcb93ce54d3db959e78d71fc1982": {
      "model_module": "@jupyter-widgets/controls",
      "model_module_version": "1.4.0",
      "model_name": "VBoxModel",
      "state": {
       "children": [
        "IPY_MODEL_1c6e3b1565de4eada1718f57aa217ba7",
        "IPY_MODEL_e4712fa1e7b34f5a9fda8769b187ab75"
       ],
       "layout": "IPY_MODEL_ff2202bacbd04565be3390c04abe2f4e"
      }
     },
     "e30fefbd1bbe4a44b4a8b3d173867c33": {
      "model_module": "@jupyter-widgets/base",
      "model_module_version": "1.1.0",
      "model_name": "LayoutModel",
      "state": {}
     },
     "e331843b44fb42d4ae57c93f4b72f020": {
      "model_module": "@jupyter-widgets/base",
      "model_module_version": "1.1.0",
      "model_name": "LayoutModel",
      "state": {}
     },
     "e35e607e127a402582e3619db79ae641": {
      "model_module": "@jupyter-widgets/base",
      "model_module_version": "1.1.0",
      "model_name": "LayoutModel",
      "state": {}
     },
     "e37dc11674aa4ae6a747f60a7beca610": {
      "model_module": "@jupyter-widgets/base",
      "model_module_version": "1.1.0",
      "model_name": "LayoutModel",
      "state": {}
     },
     "e3cb5e60632f4de784ab32bfec0c39c5": {
      "model_module": "@jupyter-widgets/controls",
      "model_module_version": "1.4.0",
      "model_name": "TextareaModel",
      "state": {
       "layout": "IPY_MODEL_8deb6c34503140c3a0485a35d0d59fdf",
       "placeholder": "Example: IOC:m1.DMOV IOC:m3.RBV LNLS:ANEL:corrente.VAL",
       "style": "IPY_MODEL_d51077dc8fe544f78f2f9f9a8dea6755"
      }
     },
     "e4008742c7544df3ade83caf80ed50ea": {
      "model_module": "@jupyter-widgets/controls",
      "model_module_version": "1.4.0",
      "model_name": "ButtonStyleModel",
      "state": {}
     },
     "e406de3c92494ffcb6f585ab2b9e0477": {
      "model_module": "@jupyter-widgets/controls",
      "model_module_version": "1.4.0",
      "model_name": "ButtonModel",
      "state": {
       "button_style": "success",
       "description": "Start Manual Alignment",
       "layout": "IPY_MODEL_71bb841a15d6457f89a718495ee7cddc",
       "style": "IPY_MODEL_884ff5cccef0470794b056c812fd4106",
       "tooltip": "Click me"
      }
     },
     "e4712fa1e7b34f5a9fda8769b187ab75": {
      "model_module": "@jupyter-widgets/controls",
      "model_module_version": "1.4.0",
      "model_name": "TextareaModel",
      "state": {
       "layout": "IPY_MODEL_93d5e212a6334aab9227068fdb067a90",
       "placeholder": "Example: IOC:m1.DMOV IOC:m3.RBV LNLS:ANEL:corrente.VAL",
       "style": "IPY_MODEL_5888475d02d64143921f13d6ed6a47dc"
      }
     },
     "e4b8079629544c25abf9f051d7dbe266": {
      "model_module": "@jupyter-widgets/controls",
      "model_module_version": "1.4.0",
      "model_name": "DescriptionStyleModel",
      "state": {
       "description_width": "initial"
      }
     },
     "e4cc47aba3b7468d9dd65c3bea9706cc": {
      "model_module": "@jupyter-widgets/controls",
      "model_module_version": "1.4.0",
      "model_name": "TextareaModel",
      "state": {
       "layout": "IPY_MODEL_8fa288a08dca4b2889fdd29ef466550b",
       "placeholder": "Example: IOC:m1 IOC:m3 LNLS:TEST:motor_g3",
       "style": "IPY_MODEL_b774fa1a8dda4a5c99f5bc7eed9bc221"
      }
     },
     "e4f5ccb327104dd3bf816c6a0dbd91ab": {
      "model_module": "@jupyter-widgets/controls",
      "model_module_version": "1.4.0",
      "model_name": "TextareaModel",
      "state": {
       "layout": "IPY_MODEL_ea0afe860ac64b0ca3ef99ee731f874d",
       "placeholder": "Example: IOC:m1 IOC:m3 LNLS:TEST:motor_g3",
       "style": "IPY_MODEL_bd911d6e1ae14e1eb39b11929bd0524f",
       "value": "IOC:m1 IOC:m4"
      }
     },
     "e4f790e35e1347a1854ae5627482acfd": {
      "model_module": "@jupyter-widgets/base",
      "model_module_version": "1.1.0",
      "model_name": "LayoutModel",
      "state": {}
     },
     "e59b972d46394dd685d2c2eb908bc617": {
      "model_module": "@jupyter-widgets/base",
      "model_module_version": "1.1.0",
      "model_name": "LayoutModel",
      "state": {
       "width": "300px"
      }
     },
     "e5a87bdea5c14881adcda7f119caf11b": {
      "model_module": "@jupyter-widgets/controls",
      "model_module_version": "1.4.0",
      "model_name": "ButtonStyleModel",
      "state": {}
     },
     "e5f9e5a22bba450080832bbaef46b76a": {
      "model_module": "@jupyter-widgets/controls",
      "model_module_version": "1.4.0",
      "model_name": "CheckboxModel",
      "state": {
       "disabled": false,
       "layout": "IPY_MODEL_4a4a9a6d210f48c1bb324803f852c441",
       "style": "IPY_MODEL_7261c587039b4ecab44930e2695421b3",
       "value": false
      }
     },
     "e62c3da7f7ee4c26a55ae572384cad2a": {
      "model_module": "@jupyter-widgets/controls",
      "model_module_version": "1.4.0",
      "model_name": "DescriptionStyleModel",
      "state": {
       "description_width": "initial"
      }
     },
     "e67e6e16362c49f48ee7534ff87a9924": {
      "model_module": "@jupyter-widgets/base",
      "model_module_version": "1.1.0",
      "model_name": "LayoutModel",
      "state": {}
     },
     "e6afaf0e2a6b46bb9ff0d81d08682aa9": {
      "model_module": "@jupyter-widgets/controls",
      "model_module_version": "1.4.0",
      "model_name": "DescriptionStyleModel",
      "state": {
       "description_width": "initial"
      }
     },
     "e6e1ac6f38c24514b2c488e699305ae3": {
      "model_module": "@jupyter-widgets/base",
      "model_module_version": "1.1.0",
      "model_name": "LayoutModel",
      "state": {}
     },
     "e6e2fcfefcb1426e993a7da3d94fdc9b": {
      "model_module": "@jupyter-widgets/controls",
      "model_module_version": "1.4.0",
      "model_name": "BoundedFloatTextModel",
      "state": {
       "description": "IOC:m1",
       "layout": "IPY_MODEL_8ce650b78b784fcba6fb5618e9c28952",
       "min": -100,
       "step": 0.01,
       "style": "IPY_MODEL_490f5872fb9d4227a4f5987bd28a530d",
       "value": 10
      }
     },
     "e6e77e9763a746319d353e8222f970cb": {
      "model_module": "@jupyter-widgets/base",
      "model_module_version": "1.1.0",
      "model_name": "LayoutModel",
      "state": {}
     },
     "e73384b2452147b3a615598d78c1d399": {
      "model_module": "@jupyter-widgets/controls",
      "model_module_version": "1.4.0",
      "model_name": "ButtonModel",
      "state": {
       "button_style": "success",
       "description": "Start Motor Initializaton",
       "layout": "IPY_MODEL_7221f61ff9724f14a9154c22a92472ad",
       "style": "IPY_MODEL_565bbcea0e5d4b88bf41b82422881d71",
       "tooltip": "Click me"
      }
     },
     "e73a054029d449428a06300735ffb598": {
      "model_module": "@jupyter-widgets/base",
      "model_module_version": "1.1.0",
      "model_name": "LayoutModel",
      "state": {}
     },
     "e7514e0dbd6644a180bc00dd9f543921": {
      "model_module": "@jupyter-widgets/base",
      "model_module_version": "1.1.0",
      "model_name": "LayoutModel",
      "state": {}
     },
     "e77def91a27d43fe82bcc9c74e42fa90": {
      "model_module": "@jupyter-widgets/base",
      "model_module_version": "1.1.0",
      "model_name": "LayoutModel",
      "state": {}
     },
     "e7918205908f46a28a2a5ef3bd71999e": {
      "model_module": "@jupyter-widgets/base",
      "model_module_version": "1.1.0",
      "model_name": "LayoutModel",
      "state": {}
     },
     "e7961f468b584e5fa318488610b72005": {
      "model_module": "@jupyter-widgets/base",
      "model_module_version": "1.1.0",
      "model_name": "LayoutModel",
      "state": {}
     },
     "e7ad6aa168f5484f9a0426c10d935171": {
      "model_module": "@jupyter-widgets/output",
      "model_module_version": "1.0.0",
      "model_name": "OutputModel",
      "state": {
       "layout": "IPY_MODEL_0cc7508cc1504876adfd7c98c4da3a60"
      }
     },
     "e7bda2704da545c6b416106397d27396": {
      "model_module": "@jupyter-widgets/base",
      "model_module_version": "1.1.0",
      "model_name": "LayoutModel",
      "state": {}
     },
     "e804f91afd96458283df7188c9b322b7": {
      "model_module": "@jupyter-widgets/output",
      "model_module_version": "1.0.0",
      "model_name": "OutputModel",
      "state": {
       "layout": "IPY_MODEL_d9b6c3f8ccdf4cc49d725cef71a50526"
      }
     },
     "e8d60ffebacc42569347393b4a9d05f4": {
      "model_module": "@jupyter-widgets/controls",
      "model_module_version": "1.4.0",
      "model_name": "DescriptionStyleModel",
      "state": {
       "description_width": ""
      }
     },
     "e8ed70d23b914261b3cc52ddf50d1825": {
      "model_module": "@jupyter-widgets/controls",
      "model_module_version": "1.4.0",
      "model_name": "CheckboxModel",
      "state": {
       "disabled": false,
       "layout": "IPY_MODEL_762e61c709d940bf9b7488b184283b87",
       "style": "IPY_MODEL_06fc374d76ab496aa61d695f2c8d1904",
       "value": false
      }
     },
     "e8f8f7271f634293b93504bb487d8dd4": {
      "model_module": "@jupyter-widgets/controls",
      "model_module_version": "1.4.0",
      "model_name": "TextareaModel",
      "state": {
       "layout": "IPY_MODEL_b29cdac605e64cdab216365f86f1de44",
       "placeholder": "Example: IOC:m1 IOC:m3 LNLS:TEST:motor_g3",
       "style": "IPY_MODEL_f9a2dc4d79fe4c039d963a391180f442"
      }
     },
     "e91accb267b348e79973b412d1309985": {
      "model_module": "@jupyter-widgets/controls",
      "model_module_version": "1.4.0",
      "model_name": "VBoxModel",
      "state": {
       "children": [
        "IPY_MODEL_0946fcb969a44cb1991f9611e70c37e5"
       ],
       "layout": "IPY_MODEL_8c9e8a11f82f49a4a30bddbd682183be"
      }
     },
     "e982e7b8e1eb4bc4b37e1b67b1572948": {
      "model_module": "@jupyter-widgets/base",
      "model_module_version": "1.1.0",
      "model_name": "LayoutModel",
      "state": {
       "width": "300px"
      }
     },
     "e9c994903c3a486cbd4a8f2b817808fb": {
      "model_module": "@jupyter-widgets/controls",
      "model_module_version": "1.4.0",
      "model_name": "DescriptionStyleModel",
      "state": {
       "description_width": "initial"
      }
     },
     "e9ec305fa92f454a9ded9bcc7d3c1807": {
      "model_module": "@jupyter-widgets/controls",
      "model_module_version": "1.4.0",
      "model_name": "DescriptionStyleModel",
      "state": {
       "description_width": ""
      }
     },
     "e9f881ae74d2479784dd7a15450323a4": {
      "model_module": "@jupyter-widgets/controls",
      "model_module_version": "1.4.0",
      "model_name": "DescriptionStyleModel",
      "state": {
       "description_width": ""
      }
     },
     "ea0afe860ac64b0ca3ef99ee731f874d": {
      "model_module": "@jupyter-widgets/base",
      "model_module_version": "1.1.0",
      "model_name": "LayoutModel",
      "state": {}
     },
     "ea0e868153754b5cb6b6189dad33ae5b": {
      "model_module": "@jupyter-widgets/base",
      "model_module_version": "1.1.0",
      "model_name": "LayoutModel",
      "state": {}
     },
     "ea127d24bd0043308d91fd73ad682c12": {
      "model_module": "@jupyter-widgets/controls",
      "model_module_version": "1.4.0",
      "model_name": "ButtonModel",
      "state": {
       "layout": "IPY_MODEL_4c1d42fb0bf74557a1b8fb4198516bfc",
       "style": "IPY_MODEL_e5a87bdea5c14881adcda7f119caf11b"
      }
     },
     "ea60941ad4014706b146684917bf0c51": {
      "model_module": "@jupyter-widgets/controls",
      "model_module_version": "1.4.0",
      "model_name": "CheckboxModel",
      "state": {
       "description": "Print log in Notebook's cells",
       "disabled": false,
       "layout": "IPY_MODEL_a83195d3ec5e417485d77c9342816bed",
       "style": "IPY_MODEL_3c56384f84d8408aa8d722fb4fc6f3ca",
       "value": false
      }
     },
     "ea6e807fde6b46a79f5a792b3ad38785": {
      "model_module": "@jupyter-widgets/base",
      "model_module_version": "1.1.0",
      "model_name": "LayoutModel",
      "state": {}
     },
     "ead075bb540f4415846fb6fd2ef08a3a": {
      "model_module": "@jupyter-widgets/base",
      "model_module_version": "1.1.0",
      "model_name": "LayoutModel",
      "state": {}
     },
     "eb15be58531844d1a38afbaa193367de": {
      "model_module": "@jupyter-widgets/base",
      "model_module_version": "1.1.0",
      "model_name": "LayoutModel",
      "state": {}
     },
     "eb239913664649869172a0721d6b0184": {
      "model_module": "@jupyter-widgets/base",
      "model_module_version": "1.1.0",
      "model_name": "LayoutModel",
      "state": {}
     },
     "eb6044a123514f318fd11a0e607a7eb6": {
      "model_module": "@jupyter-widgets/controls",
      "model_module_version": "1.4.0",
      "model_name": "VBoxModel",
      "state": {
       "children": [
        "IPY_MODEL_c8e5a00d0cb04665b0512e3d4c862df7",
        "IPY_MODEL_54d4c3ee7fbf405692bb6ac552634dd4"
       ],
       "layout": "IPY_MODEL_1b2ce9467e624e58b9ed614022dc84b9"
      }
     },
     "eb7b7265dd6c437088775e0816980223": {
      "model_module": "@jupyter-widgets/base",
      "model_module_version": "1.1.0",
      "model_name": "LayoutModel",
      "state": {}
     },
     "eb95cfce326148599a8b331b23cd0424": {
      "model_module": "@jupyter-widgets/controls",
      "model_module_version": "1.4.0",
      "model_name": "CheckboxModel",
      "state": {
       "description": "Print log in Notebook's cells",
       "disabled": false,
       "layout": "IPY_MODEL_95b02204f10841d0b185b1fd75d4f489",
       "style": "IPY_MODEL_e62c3da7f7ee4c26a55ae572384cad2a",
       "value": true
      }
     },
     "ebb169f1ba1546f4a9f8a1fdd462570f": {
      "model_module": "@jupyter-widgets/controls",
      "model_module_version": "1.4.0",
      "model_name": "ButtonStyleModel",
      "state": {}
     },
     "ebc47b483fe74a0d8fa18c83617dbe04": {
      "model_module": "@jupyter-widgets/controls",
      "model_module_version": "1.4.0",
      "model_name": "ButtonModel",
      "state": {
       "button_style": "warning",
       "description": "Export Notebook to PDF",
       "layout": "IPY_MODEL_0040e6a72cc245edbdcd44c26877fbbb",
       "style": "IPY_MODEL_8373d477ce5f4895bf26050608ce7b28",
       "tooltip": "Click me"
      }
     },
     "ebfb9ad3e50a4a89a7acbef9c86adf06": {
      "model_module": "@jupyter-widgets/controls",
      "model_module_version": "1.4.0",
      "model_name": "CheckboxModel",
      "state": {
       "description": "Live plot in Jupyter: ",
       "disabled": false,
       "layout": "IPY_MODEL_9e9511d374c2490dba93d47a9f73772c",
       "style": "IPY_MODEL_6080e44a5b764da4984293acb13ca3cf",
       "value": false
      }
     },
     "ec12a1c73ba44fc6a63b13c98f00fed8": {
      "model_module": "@jupyter-widgets/controls",
      "model_module_version": "1.4.0",
      "model_name": "ButtonStyleModel",
      "state": {}
     },
     "ec26d984b85e4a42a63ba8b5f8cd2f65": {
      "model_module": "@jupyter-widgets/output",
      "model_module_version": "1.0.0",
      "model_name": "OutputModel",
      "state": {
       "layout": "IPY_MODEL_929da2cb6b774a358ae0d6a03bf70343"
      }
     },
     "ecc8021872fb4b7894766ddb47246c49": {
      "model_module": "@jupyter-widgets/controls",
      "model_module_version": "1.4.0",
      "model_name": "VBoxModel",
      "state": {
       "children": [
        "IPY_MODEL_862db1da21f442ce8dcb960ab458aad8"
       ],
       "layout": "IPY_MODEL_fa685a2ed7f549289fdec798056adb99"
      }
     },
     "ecce7ece26d04c2ead9e82835f3d45d0": {
      "model_module": "@jupyter-widgets/base",
      "model_module_version": "1.1.0",
      "model_name": "LayoutModel",
      "state": {}
     },
     "ececdba3272048b6a3a0cbed2650c831": {
      "model_module": "@jupyter-widgets/controls",
      "model_module_version": "1.4.0",
      "model_name": "DescriptionStyleModel",
      "state": {
       "description_width": ""
      }
     },
     "ecf365c8573b4989967f08bb34109f69": {
      "model_module": "@jupyter-widgets/output",
      "model_module_version": "1.0.0",
      "model_name": "OutputModel",
      "state": {
       "layout": "IPY_MODEL_d721a6be4be8499e8a02f60f448da2f8"
      }
     },
     "ecf3c322e63446f0b1ffd5a958dc3423": {
      "model_module": "@jupyter-widgets/base",
      "model_module_version": "1.1.0",
      "model_name": "LayoutModel",
      "state": {}
     },
     "ecf78ef5d06f4870913826b7bcf6fff5": {
      "model_module": "@jupyter-widgets/base",
      "model_module_version": "1.1.0",
      "model_name": "LayoutModel",
      "state": {}
     },
     "ed180d46e3b943d989d30877a9213418": {
      "model_module": "@jupyter-widgets/base",
      "model_module_version": "1.1.0",
      "model_name": "LayoutModel",
      "state": {}
     },
     "ed268ff1842b4410b25b30a965f3939c": {
      "model_module": "@jupyter-widgets/controls",
      "model_module_version": "1.4.0",
      "model_name": "ButtonModel",
      "state": {
       "button_style": "success",
       "description": "Start Motor Initializaton",
       "layout": "IPY_MODEL_ac7263eb362d4e7996eeafa8d6908750",
       "style": "IPY_MODEL_9e8dd8ee65d14d6f8278e0ae08082593",
       "tooltip": "Click me"
      }
     },
     "ee28c57081404662937066ef640874f1": {
      "model_module": "@jupyter-widgets/base",
      "model_module_version": "1.1.0",
      "model_name": "LayoutModel",
      "state": {}
     },
     "ee34d5a76a894473b68e9f0984f2be15": {
      "model_module": "@jupyter-widgets/controls",
      "model_module_version": "1.4.0",
      "model_name": "VBoxModel",
      "state": {
       "children": [
        "IPY_MODEL_cd1126ed81654b4f858082d74565cfc2",
        "IPY_MODEL_9211be5255d0496e812ba09b9d810c40"
       ],
       "layout": "IPY_MODEL_deab288fd17f4c279ba5798a73f9e15b"
      }
     },
     "ee449a5582d84ed59251edf7ec41cdc9": {
      "model_module": "@jupyter-widgets/base",
      "model_module_version": "1.1.0",
      "model_name": "LayoutModel",
      "state": {
       "width": "300px"
      }
     },
     "ee91cf7244784df09790d54a49d1be5c": {
      "model_module": "@jupyter-widgets/controls",
      "model_module_version": "1.4.0",
      "model_name": "ButtonModel",
      "state": {
       "button_style": "success",
       "description": "Start Motor Initializaton",
       "layout": "IPY_MODEL_06810495a7a246a89e37ba2f7de06555",
       "style": "IPY_MODEL_ca6da1630137435ebd446d92c82e486f",
       "tooltip": "Click me"
      }
     },
     "eea455281cba43178f7a6b0292908715": {
      "model_module": "@jupyter-widgets/base",
      "model_module_version": "1.1.0",
      "model_name": "LayoutModel",
      "state": {}
     },
     "eecf6b4e7b474086bea9a24eed162685": {
      "model_module": "@jupyter-widgets/base",
      "model_module_version": "1.1.0",
      "model_name": "LayoutModel",
      "state": {}
     },
     "eed0c892e8ef4a4bacf45f5bab4f3d8c": {
      "model_module": "@jupyter-widgets/controls",
      "model_module_version": "1.4.0",
      "model_name": "ButtonStyleModel",
      "state": {}
     },
     "ef7d72c63f594494a1ed6fc8fe1840a2": {
      "model_module": "@jupyter-widgets/controls",
      "model_module_version": "1.4.0",
      "model_name": "BoundedFloatTextModel",
      "state": {
       "description": "IOC:m4",
       "layout": "IPY_MODEL_e4f790e35e1347a1854ae5627482acfd",
       "min": -100,
       "step": 0.01,
       "style": "IPY_MODEL_a8972d795c394cd2845736539a44d0a4"
      }
     },
     "ef8060f61e72409587df59f618d932e8": {
      "model_module": "@jupyter-widgets/base",
      "model_module_version": "1.1.0",
      "model_name": "LayoutModel",
      "state": {}
     },
     "efb631af9d124702ac2ba3da1993fdad": {
      "model_module": "@jupyter-widgets/base",
      "model_module_version": "1.1.0",
      "model_name": "LayoutModel",
      "state": {}
     },
     "efc1b18ae4d941d4a46183b41ddf4773": {
      "model_module": "@jupyter-widgets/controls",
      "model_module_version": "1.4.0",
      "model_name": "VBoxModel",
      "state": {
       "children": [
        "IPY_MODEL_d49e127507f04141b67f665f3adef57c",
        "IPY_MODEL_27c5c5edae104e45971caba5a2c524c4"
       ],
       "layout": "IPY_MODEL_d6f0d0c322414e5eba381c3dd6d6dcbb"
      }
     },
     "effbe41a67f54fd4866daff2ac8606b8": {
      "model_module": "@jupyter-widgets/output",
      "model_module_version": "1.0.0",
      "model_name": "OutputModel",
      "state": {
       "layout": "IPY_MODEL_55ee5a5e06c847b59aa57ed3ba9c4097"
      }
     },
     "f076c27330a14c61944f86a856c80332": {
      "model_module": "@jupyter-widgets/base",
      "model_module_version": "1.1.0",
      "model_name": "LayoutModel",
      "state": {}
     },
     "f087be5c4c3d47ed8621894d303ae000": {
      "model_module": "@jupyter-widgets/controls",
      "model_module_version": "1.4.0",
      "model_name": "DescriptionStyleModel",
      "state": {
       "description_width": "initial"
      }
     },
     "f0e6bdd559b249e6871f1b71c5819fc6": {
      "model_module": "@jupyter-widgets/controls",
      "model_module_version": "1.4.0",
      "model_name": "CheckboxModel",
      "state": {
       "description": "Live plot in Jupyter: ",
       "disabled": false,
       "layout": "IPY_MODEL_57647db236e043d0b6ccabb2e56db01f",
       "style": "IPY_MODEL_306e435543c1485b82c4aa293aca1cd7",
       "value": false
      }
     },
     "f0fcf68d1f6f42d8bc73b85221e33e07": {
      "model_module": "@jupyter-widgets/base",
      "model_module_version": "1.1.0",
      "model_name": "LayoutModel",
      "state": {}
     },
     "f10c3867344348bfb65470087a60be6f": {
      "model_module": "@jupyter-widgets/base",
      "model_module_version": "1.1.0",
      "model_name": "LayoutModel",
      "state": {}
     },
     "f127b460ff844beb88870b8d32baa117": {
      "model_module": "@jupyter-widgets/controls",
      "model_module_version": "1.4.0",
      "model_name": "ButtonStyleModel",
      "state": {}
     },
     "f13774112b2843e28f442f00bba3be5b": {
      "model_module": "@jupyter-widgets/base",
      "model_module_version": "1.1.0",
      "model_name": "LayoutModel",
      "state": {}
     },
     "f138adde50c74c458e9102bef4306fa8": {
      "model_module": "@jupyter-widgets/base",
      "model_module_version": "1.1.0",
      "model_name": "LayoutModel",
      "state": {}
     },
     "f14326675bb54f63b5210ab8dfc44ec2": {
      "model_module": "@jupyter-widgets/base",
      "model_module_version": "1.1.0",
      "model_name": "LayoutModel",
      "state": {}
     },
     "f1592eefb1054811a60f802ffa29fbaa": {
      "model_module": "@jupyter-widgets/output",
      "model_module_version": "1.0.0",
      "model_name": "OutputModel",
      "state": {
       "layout": "IPY_MODEL_b4e07da1085546f58a2339abc563c744"
      }
     },
     "f18e7df85c514b9f8f21423409d470e1": {
      "model_module": "@jupyter-widgets/controls",
      "model_module_version": "1.4.0",
      "model_name": "CheckboxModel",
      "state": {
       "description": "Plot scan-gui graph instead of Jupyter's: ",
       "disabled": false,
       "layout": "IPY_MODEL_a9269501e11e4be58ba9a2dfa7153963",
       "style": "IPY_MODEL_92762b3b1b2847d4a76adef64c5ddc1e",
       "value": false
      }
     },
     "f19aed98431043dea6460d218bf1e67f": {
      "model_module": "@jupyter-widgets/base",
      "model_module_version": "1.1.0",
      "model_name": "LayoutModel",
      "state": {
       "width": "300px"
      }
     },
     "f216372d530c41f7a04a6c79b2a7333b": {
      "model_module": "@jupyter-widgets/controls",
      "model_module_version": "1.4.0",
      "model_name": "ButtonModel",
      "state": {
       "button_style": "success",
       "description": "Start Manual Alignment",
       "layout": "IPY_MODEL_3b1db02b3c96460088d61f8ef55a0080",
       "style": "IPY_MODEL_977a22f1cd1046d683dc6b658ea8cbbc",
       "tooltip": "Click me"
      }
     },
     "f2828e772cf049edac2524e3572144a9": {
      "model_module": "@jupyter-widgets/base",
      "model_module_version": "1.1.0",
      "model_name": "LayoutModel",
      "state": {}
     },
     "f2cb850a39be408091ee863da2b44063": {
      "model_module": "@jupyter-widgets/controls",
      "model_module_version": "1.4.0",
      "model_name": "ButtonModel",
      "state": {
       "button_style": "success",
       "description": "Start Scanning Plot",
       "layout": "IPY_MODEL_769b45aa44894739b617547670335dd1",
       "style": "IPY_MODEL_035198fee88343598155c9751bb1bb9b",
       "tooltip": "Click me"
      }
     },
     "f2cc0fa088a24454948e9a91ed3aeae5": {
      "model_module": "@jupyter-widgets/controls",
      "model_module_version": "1.4.0",
      "model_name": "ButtonStyleModel",
      "state": {}
     },
     "f2d84460841243d492148675134b85f0": {
      "model_module": "@jupyter-widgets/controls",
      "model_module_version": "1.4.0",
      "model_name": "ButtonStyleModel",
      "state": {}
     },
     "f2ed846bd8bd40ad9d443261c24a86ac": {
      "model_module": "@jupyter-widgets/base",
      "model_module_version": "1.1.0",
      "model_name": "LayoutModel",
      "state": {}
     },
     "f3010a8c97cc4fa1b9af95180db1a7a1": {
      "model_module": "@jupyter-widgets/base",
      "model_module_version": "1.1.0",
      "model_name": "LayoutModel",
      "state": {}
     },
     "f36189979f804c57bf9fccc429372b08": {
      "model_module": "@jupyter-widgets/base",
      "model_module_version": "1.1.0",
      "model_name": "LayoutModel",
      "state": {
       "width": "300px"
      }
     },
     "f36a8cbdaa2d4eedbb096c46a36558ac": {
      "model_module": "@jupyter-widgets/base",
      "model_module_version": "1.1.0",
      "model_name": "LayoutModel",
      "state": {}
     },
     "f36b5f95e58c4a7f93454b87ff118008": {
      "model_module": "@jupyter-widgets/base",
      "model_module_version": "1.1.0",
      "model_name": "LayoutModel",
      "state": {}
     },
     "f36f92a60f5f4e36be97209655df1857": {
      "model_module": "@jupyter-widgets/controls",
      "model_module_version": "1.4.0",
      "model_name": "DescriptionStyleModel",
      "state": {
       "description_width": ""
      }
     },
     "f3918c6692df4572989fad8d624c68ea": {
      "model_module": "@jupyter-widgets/base",
      "model_module_version": "1.1.0",
      "model_name": "LayoutModel",
      "state": {}
     },
     "f39f31d4e3e441ab8e27b456ebf09026": {
      "model_module": "@jupyter-widgets/base",
      "model_module_version": "1.1.0",
      "model_name": "LayoutModel",
      "state": {}
     },
     "f39f64f0f73e40a6bb6e15f25ce133cf": {
      "model_module": "@jupyter-widgets/base",
      "model_module_version": "1.1.0",
      "model_name": "LayoutModel",
      "state": {
       "width": "300px"
      }
     },
     "f4408163f05d41329d26cd6d874b5d75": {
      "model_module": "@jupyter-widgets/controls",
      "model_module_version": "1.4.0",
      "model_name": "DescriptionStyleModel",
      "state": {
       "description_width": ""
      }
     },
     "f461b3454e3b42709a7b194bf2f4a0c6": {
      "model_module": "@jupyter-widgets/controls",
      "model_module_version": "1.4.0",
      "model_name": "ButtonStyleModel",
      "state": {}
     },
     "f47d16b996b5406cb1dc2c366a67d060": {
      "model_module": "@jupyter-widgets/base",
      "model_module_version": "1.1.0",
      "model_name": "LayoutModel",
      "state": {
       "width": "300px"
      }
     },
     "f489d99f5e2d44388f0ab4803eea0828": {
      "model_module": "plotlywidget",
      "model_module_version": "0.8.0",
      "model_name": "FigureModel",
      "state": {
       "_config": {
        "plotlyServerURL": "https://plot.ly"
       },
       "_js2py_layoutDelta": {},
       "_js2py_pointsCallback": {},
       "_js2py_relayout": {},
       "_js2py_restyle": {},
       "_js2py_traceDeltas": {},
       "_js2py_update": {},
       "_layout": {
        "template": {}
       },
       "_model_module_version": "0.8.0",
       "_py2js_addTraces": {},
       "_py2js_animate": {},
       "_py2js_deleteTraces": {},
       "_py2js_moveTraces": {},
       "_py2js_removeLayoutProps": {},
       "_py2js_removeTraceProps": {},
       "_py2js_restyle": {},
       "_py2js_update": {},
       "_view_count": 0,
       "_view_module_version": "0.8.0"
      }
     },
     "f4960f4152544d9abbff78b6e95afc6b": {
      "model_module": "@jupyter-widgets/base",
      "model_module_version": "1.1.0",
      "model_name": "LayoutModel",
      "state": {
       "width": "300px"
      }
     },
     "f4bc80081b4a4e75a45432b1b71d8f79": {
      "model_module": "@jupyter-widgets/base",
      "model_module_version": "1.1.0",
      "model_name": "LayoutModel",
      "state": {}
     },
     "f52cb00eafaa459f90c526127a9b9371": {
      "model_module": "@jupyter-widgets/base",
      "model_module_version": "1.1.0",
      "model_name": "LayoutModel",
      "state": {
       "width": "300px"
      }
     },
     "f55340f62d2646b79b49e1bbb0eeba7f": {
      "model_module": "@jupyter-widgets/base",
      "model_module_version": "1.1.0",
      "model_name": "LayoutModel",
      "state": {}
     },
     "f57273c758274a7e92e694da20ef5f23": {
      "model_module": "@jupyter-widgets/controls",
      "model_module_version": "1.4.0",
      "model_name": "ButtonStyleModel",
      "state": {}
     },
     "f573192b964e4722ae796d6b043cf21b": {
      "model_module": "@jupyter-widgets/base",
      "model_module_version": "1.1.0",
      "model_name": "LayoutModel",
      "state": {}
     },
     "f5baa35457434b309f99a706f4f27ce9": {
      "model_module": "@jupyter-widgets/output",
      "model_module_version": "1.0.0",
      "model_name": "OutputModel",
      "state": {
       "layout": "IPY_MODEL_41206835cc11442bb486f3ca75da48fe"
      }
     },
     "f5d0e9f77c454d728f468bfbf49555ed": {
      "model_module": "@jupyter-widgets/base",
      "model_module_version": "1.1.0",
      "model_name": "LayoutModel",
      "state": {}
     },
     "f5ee98d940c349e68edcd10d26636ebf": {
      "model_module": "@jupyter-widgets/base",
      "model_module_version": "1.1.0",
      "model_name": "LayoutModel",
      "state": {}
     },
     "f63496ab20134545a3d5c80d03b20f37": {
      "model_module": "@jupyter-widgets/controls",
      "model_module_version": "1.4.0",
      "model_name": "BoxModel",
      "state": {
       "children": [
        "IPY_MODEL_8e848af1f4be4f5bb803080c0ea399a2"
       ],
       "layout": "IPY_MODEL_0e4450660def4b6d8d6db7c30d141308"
      }
     },
     "f63ea3f15495493e8ee9ffdcfbe5417b": {
      "model_module": "@jupyter-widgets/controls",
      "model_module_version": "1.4.0",
      "model_name": "CheckboxModel",
      "state": {
       "disabled": false,
       "layout": "IPY_MODEL_f5ee98d940c349e68edcd10d26636ebf",
       "style": "IPY_MODEL_53073d6019cc435d94e7f787b209543a",
       "value": false
      }
     },
     "f64ac064c3734930b328ec3428ee840b": {
      "model_module": "@jupyter-widgets/controls",
      "model_module_version": "1.4.0",
      "model_name": "VBoxModel",
      "state": {
       "children": [
        "IPY_MODEL_a1a4b7095d72457f9bc5e382a5729133",
        "IPY_MODEL_75be3c9e02e84f6fa73c1166363f27ce"
       ],
       "layout": "IPY_MODEL_7e836b2263ad41debfcf2748e06ae9e9"
      }
     },
     "f6b9ce88b7e54cd3ad8d174e120f7f4e": {
      "model_module": "@jupyter-widgets/controls",
      "model_module_version": "1.4.0",
      "model_name": "ButtonModel",
      "state": {
       "button_style": "success",
       "description": "Start Manual Alignment",
       "layout": "IPY_MODEL_60143fd7d0a048bea777fe2228d86b31",
       "style": "IPY_MODEL_cfe1df60068147209067c8f82de4c793",
       "tooltip": "Click me"
      }
     },
     "f6c302325a3a48c5862ef60ef7dd4197": {
      "model_module": "@jupyter-widgets/base",
      "model_module_version": "1.1.0",
      "model_name": "LayoutModel",
      "state": {
       "width": "300px"
      }
     },
     "f6cdde003f114e778f441cde80b05eea": {
      "model_module": "@jupyter-widgets/base",
      "model_module_version": "1.1.0",
      "model_name": "LayoutModel",
      "state": {
       "width": "300px"
      }
     },
     "f6fe7e5c25a84411bb8f61fed2a4bd50": {
      "model_module": "@jupyter-widgets/base",
      "model_module_version": "1.1.0",
      "model_name": "LayoutModel",
      "state": {
       "width": "300px"
      }
     },
     "f72ec685a8f04aec931eac3f737d0fa2": {
      "model_module": "@jupyter-widgets/base",
      "model_module_version": "1.1.0",
      "model_name": "LayoutModel",
      "state": {}
     },
     "f742c33820654698944be7291f96200f": {
      "model_module": "@jupyter-widgets/controls",
      "model_module_version": "1.4.0",
      "model_name": "DescriptionStyleModel",
      "state": {
       "description_width": ""
      }
     },
     "f7490ee044be4f28bcbb743e0cc75804": {
      "model_module": "@jupyter-widgets/output",
      "model_module_version": "1.0.0",
      "model_name": "OutputModel",
      "state": {
       "layout": "IPY_MODEL_285c42539a1c41a4b65276dfacc19423"
      }
     },
     "f79f2e30a5ac43d6bc8511cc92b2782c": {
      "model_module": "@jupyter-widgets/controls",
      "model_module_version": "1.4.0",
      "model_name": "DescriptionStyleModel",
      "state": {
       "description_width": "initial"
      }
     },
     "f8100c4eba4b4c4e9d12b8d0a667351e": {
      "model_module": "@jupyter-widgets/controls",
      "model_module_version": "1.4.0",
      "model_name": "ButtonStyleModel",
      "state": {}
     },
     "f8550c588cc7465caad5d19be526e9f2": {
      "model_module": "@jupyter-widgets/base",
      "model_module_version": "1.1.0",
      "model_name": "LayoutModel",
      "state": {
       "width": "300px"
      }
     },
     "f883c4a1095947b092edf21fb7d4a006": {
      "model_module": "@jupyter-widgets/base",
      "model_module_version": "1.1.0",
      "model_name": "LayoutModel",
      "state": {}
     },
     "f911b9cab7f64b029d20b3c523472b86": {
      "model_module": "@jupyter-widgets/base",
      "model_module_version": "1.1.0",
      "model_name": "LayoutModel",
      "state": {}
     },
     "f914dbf8f9384f23ab765a709e49f78b": {
      "model_module": "@jupyter-widgets/controls",
      "model_module_version": "1.4.0",
      "model_name": "LabelModel",
      "state": {
       "layout": "IPY_MODEL_ace9f258b3e54dbb85626a72d6cfb663",
       "style": "IPY_MODEL_8c049b427c98431891803b1532575324",
       "value": "0.0"
      }
     },
     "f91e0e91f13247d580bc64d5bab4da40": {
      "model_module": "@jupyter-widgets/base",
      "model_module_version": "1.1.0",
      "model_name": "LayoutModel",
      "state": {}
     },
     "f92d9c105ac24c499de0267dcd4d604b": {
      "model_module": "@jupyter-widgets/base",
      "model_module_version": "1.1.0",
      "model_name": "LayoutModel",
      "state": {
       "width": "300px"
      }
     },
     "f92edc3a352d45d2b3d105a5da207d04": {
      "model_module": "@jupyter-widgets/controls",
      "model_module_version": "1.4.0",
      "model_name": "ButtonStyleModel",
      "state": {}
     },
     "f9507aecf5274f6e834464e17e427069": {
      "model_module": "@jupyter-widgets/base",
      "model_module_version": "1.1.0",
      "model_name": "LayoutModel",
      "state": {}
     },
     "f9a2dc4d79fe4c039d963a391180f442": {
      "model_module": "@jupyter-widgets/controls",
      "model_module_version": "1.4.0",
      "model_name": "DescriptionStyleModel",
      "state": {
       "description_width": ""
      }
     },
     "f9f9aaca4e1e4956b1054e117bfaab8b": {
      "model_module": "@jupyter-widgets/controls",
      "model_module_version": "1.4.0",
      "model_name": "CheckboxModel",
      "state": {
       "description": "Plot scan-gui graph instead of Jupyter's: ",
       "disabled": false,
       "layout": "IPY_MODEL_4d97480a2232428ca7ef92cb0dafa3ec",
       "style": "IPY_MODEL_36f93d29bb7445dd91b746c3be0fa9d1",
       "value": false
      }
     },
     "fa466a2b099346959c4fd1b3149459c0": {
      "model_module": "@jupyter-widgets/base",
      "model_module_version": "1.1.0",
      "model_name": "LayoutModel",
      "state": {}
     },
     "fa685a2ed7f549289fdec798056adb99": {
      "model_module": "@jupyter-widgets/base",
      "model_module_version": "1.1.0",
      "model_name": "LayoutModel",
      "state": {}
     },
     "fa944b95a14d4419b2225790a1367812": {
      "model_module": "@jupyter-widgets/controls",
      "model_module_version": "1.4.0",
      "model_name": "ButtonStyleModel",
      "state": {}
     },
     "fb0c02cc1ff04d9a81ba166412bf11a5": {
      "model_module": "@jupyter-widgets/base",
      "model_module_version": "1.1.0",
      "model_name": "LayoutModel",
      "state": {}
     },
     "fb2b08ceb32f43aab6e8ed22e7e24ac5": {
      "model_module": "@jupyter-widgets/controls",
      "model_module_version": "1.4.0",
      "model_name": "VBoxModel",
      "state": {
       "children": [
        "IPY_MODEL_922d4b9820b5434784c8d21e16bdd06b",
        "IPY_MODEL_1cdc3b4320564625bf34827c0621194a"
       ],
       "layout": "IPY_MODEL_7db4119dc4be4f4d82e1a9ce22024ca9"
      }
     },
     "fb396a48005e4ee3be965be7fa566d13": {
      "model_module": "@jupyter-widgets/base",
      "model_module_version": "1.1.0",
      "model_name": "LayoutModel",
      "state": {}
     },
     "fb560d6b29c24c81a5625b3b05bd0be9": {
      "model_module": "@jupyter-widgets/controls",
      "model_module_version": "1.4.0",
      "model_name": "DescriptionStyleModel",
      "state": {
       "description_width": ""
      }
     },
     "fb6a969fb31b4684818900377dd95309": {
      "model_module": "@jupyter-widgets/base",
      "model_module_version": "1.1.0",
      "model_name": "LayoutModel",
      "state": {}
     },
     "fb6b802168724afba15bcec8f2fcdc9b": {
      "model_module": "@jupyter-widgets/controls",
      "model_module_version": "1.4.0",
      "model_name": "ButtonModel",
      "state": {
       "button_style": "warning",
       "description": "Export Notebook to HTML",
       "layout": "IPY_MODEL_373b0900b8e3493483961aaa5759e925",
       "style": "IPY_MODEL_a31f49fedb1a4a5b9970bcd89a210a1b",
       "tooltip": "Click me"
      }
     },
     "fb92eecfa6cc4d4ab76eaae8cf0971b0": {
      "model_module": "@jupyter-widgets/controls",
      "model_module_version": "1.4.0",
      "model_name": "ButtonModel",
      "state": {
       "button_style": "danger",
       "description": "Stop Scanning Plot",
       "layout": "IPY_MODEL_3de52e35a14a49ef8167b6e4e1199f47",
       "style": "IPY_MODEL_ec12a1c73ba44fc6a63b13c98f00fed8",
       "tooltip": "Click me"
      }
     },
     "fb95931bd8894468bb40397d8a192e61": {
      "model_module": "@jupyter-widgets/base",
      "model_module_version": "1.1.0",
      "model_name": "LayoutModel",
      "state": {}
     },
     "fb9bc2e332ff40609f110097acbae2f9": {
      "model_module": "@jupyter-widgets/controls",
      "model_module_version": "1.4.0",
      "model_name": "CheckboxModel",
      "state": {
       "description": "Print log in Notebook's cells",
       "disabled": false,
       "layout": "IPY_MODEL_ac69367d5915482abf0a95e163dd043e",
       "style": "IPY_MODEL_767f82c3394e42e1a65217db9d3ef8f9",
       "value": false
      }
     },
     "fbc1940312fe4038b653a95c16398881": {
      "model_module": "@jupyter-widgets/base",
      "model_module_version": "1.1.0",
      "model_name": "LayoutModel",
      "state": {}
     },
     "fc22b8f3919643b78ed316375c5d0282": {
      "model_module": "@jupyter-widgets/base",
      "model_module_version": "1.1.0",
      "model_name": "LayoutModel",
      "state": {}
     },
     "fc70bdac4a954cc880fc89260b16eac7": {
      "model_module": "@jupyter-widgets/base",
      "model_module_version": "1.1.0",
      "model_name": "LayoutModel",
      "state": {}
     },
     "fc937d91758c4f4d9fff960213359c3a": {
      "model_module": "plotlywidget",
      "model_module_version": "0.8.0",
      "model_name": "FigureModel",
      "state": {
       "_config": {
        "plotlyServerURL": "https://plot.ly"
       },
       "_js2py_layoutDelta": {},
       "_js2py_pointsCallback": {},
       "_js2py_relayout": {},
       "_js2py_restyle": {},
       "_js2py_traceDeltas": {},
       "_js2py_update": {},
       "_layout": {
        "template": {}
       },
       "_model_module_version": "0.8.0",
       "_py2js_addTraces": {},
       "_py2js_animate": {},
       "_py2js_deleteTraces": {},
       "_py2js_moveTraces": {},
       "_py2js_removeLayoutProps": {},
       "_py2js_removeTraceProps": {},
       "_py2js_restyle": {},
       "_py2js_update": {},
       "_view_count": 0,
       "_view_module_version": "0.8.0"
      }
     },
     "fca212af6897437f8c26486d56272f2e": {
      "model_module": "@jupyter-widgets/base",
      "model_module_version": "1.1.0",
      "model_name": "LayoutModel",
      "state": {
       "width": "300px"
      }
     },
     "fcab55db8beb4eb0aeb5e0e1eccf3ff5": {
      "model_module": "@jupyter-widgets/base",
      "model_module_version": "1.1.0",
      "model_name": "LayoutModel",
      "state": {}
     },
     "fccf2fe50e5345389648726e37fcc329": {
      "model_module": "@jupyter-widgets/controls",
      "model_module_version": "1.4.0",
      "model_name": "DescriptionStyleModel",
      "state": {
       "description_width": "initial"
      }
     },
     "fd20dce6bf434e9cbb7a4c6c8c303bcb": {
      "model_module": "@jupyter-widgets/base",
      "model_module_version": "1.1.0",
      "model_name": "LayoutModel",
      "state": {}
     },
     "fd26b46b1b4c44b79a2d2e1ce0815852": {
      "model_module": "@jupyter-widgets/base",
      "model_module_version": "1.1.0",
      "model_name": "LayoutModel",
      "state": {}
     },
     "fd2fdf5e9acb400099bf4fd8429ec9cc": {
      "model_module": "@jupyter-widgets/base",
      "model_module_version": "1.1.0",
      "model_name": "LayoutModel",
      "state": {}
     },
     "fd482d3536a5473a9f271ded08ca3e67": {
      "model_module": "@jupyter-widgets/base",
      "model_module_version": "1.1.0",
      "model_name": "LayoutModel",
      "state": {}
     },
     "fd494b4b2fe04d139de9c491d09f2c8e": {
      "buffers": [
       {
        "data": "AAAAAAAAAAAAAAAAAAAUQAAAAAAAAAhAAAAAAAAAAEAAAAAAAAAgQA==",
        "encoding": "base64",
        "path": [
         "_data",
         0,
         "y",
         "value"
        ]
       },
       {
        "data": "AAAAAAAAAAAAAAAAAAAUQAAAAAAAAAhAAAAAAAAAAEAAAAAAAAAgQA==",
        "encoding": "base64",
        "path": [
         "_data",
         1,
         "y",
         "value"
        ]
       }
      ],
      "model_module": "plotlywidget",
      "model_module_version": "0.8.0",
      "model_name": "FigureModel",
      "state": {
       "_config": {
        "plotlyServerURL": "https://plot.ly"
       },
       "_data": [
        {
         "mode": "lines+markers",
         "name": "line1",
         "type": "scatter",
         "uid": "ec3030eb-8308-4a5f-a2f8-81120f953770",
         "x": [
          0,
          1,
          2,
          3,
          4
         ],
         "xaxis": "x",
         "y": {
          "dtype": "float64",
          "shape": [
           5
          ],
          "value": {}
         },
         "yaxis": "y"
        },
        {
         "mode": "lines+markers",
         "name": "line2",
         "type": "scatter",
         "uid": "52d4c385-4451-4e70-9d95-9c126977040a",
         "x": [
          0,
          1,
          2,
          3,
          4
         ],
         "xaxis": "x2",
         "y": {
          "dtype": "float64",
          "shape": [
           5
          ],
          "value": {}
         },
         "yaxis": "y2"
        }
       ],
       "_js2py_layoutDelta": {
        "layout_delta": {
         "annotations": [],
         "calendar": "gregorian",
         "clickmode": "event",
         "colorscale": {
          "diverging": [
           [
            0,
            "rgb(5,10,172)"
           ],
           [
            0.35,
            "rgb(106,137,247)"
           ],
           [
            0.5,
            "rgb(190,190,190)"
           ],
           [
            0.6,
            "rgb(220,170,132)"
           ],
           [
            0.7,
            "rgb(230,145,90)"
           ],
           [
            1,
            "rgb(178,10,28)"
           ]
          ],
          "sequential": [
           [
            0,
            "rgb(220,220,220)"
           ],
           [
            0.2,
            "rgb(245,195,157)"
           ],
           [
            0.4,
            "rgb(245,160,105)"
           ],
           [
            1,
            "rgb(178,10,28)"
           ]
          ],
          "sequentialminus": [
           [
            0,
            "rgb(5,10,172)"
           ],
           [
            0.35,
            "rgb(40,60,190)"
           ],
           [
            0.5,
            "rgb(70,100,245)"
           ],
           [
            0.6,
            "rgb(90,120,245)"
           ],
           [
            0.7,
            "rgb(106,137,247)"
           ],
           [
            1,
            "rgb(220,220,220)"
           ]
          ]
         },
         "colorway": [
          "#1f77b4",
          "#ff7f0e",
          "#2ca02c",
          "#d62728",
          "#9467bd",
          "#8c564b",
          "#e377c2",
          "#7f7f7f",
          "#bcbd22",
          "#17becf"
         ],
         "dragmode": "zoom",
         "font": {
          "color": "#444",
          "family": "\"Open Sans\", verdana, arial, sans-serif",
          "size": 12
         },
         "height": 490,
         "hidesources": false,
         "hoverdistance": 20,
         "hoverlabel": {
          "font": {
           "family": "Arial, sans-serif",
           "size": 13
          },
          "namelength": 15
         },
         "hovermode": "x",
         "images": [],
         "legend": {
          "bgcolor": "#fff",
          "bordercolor": "#444",
          "borderwidth": 0,
          "font": {
           "color": "#444",
           "family": "\"Open Sans\", verdana, arial, sans-serif",
           "size": 12
          },
          "orientation": "v",
          "traceorder": "normal",
          "valign": "middle",
          "x": 1.02,
          "xanchor": "left",
          "y": 1,
          "yanchor": "auto"
         },
         "margin": {
          "autoexpand": true,
          "b": 80,
          "l": 80,
          "pad": 0,
          "r": 80,
          "t": 100
         },
         "modebar": {
          "activecolor": "rgba(68, 68, 68, 0.7)",
          "bgcolor": "rgba(255, 255, 255, 0.5)",
          "color": "rgba(68, 68, 68, 0.3)",
          "orientation": "h"
         },
         "paper_bgcolor": "#fff",
         "separators": ".,",
         "shapes": [],
         "showlegend": true,
         "sliders": [],
         "spikedistance": 20,
         "title": {
          "font": {
           "color": "#444",
           "family": "\"Open Sans\", verdana, arial, sans-serif",
           "size": 17
          },
          "pad": {
           "b": 0,
           "l": 0,
           "r": 0,
           "t": 0
          },
          "x": 0.5,
          "xanchor": "auto",
          "xref": "container",
          "y": "auto",
          "yanchor": "auto",
          "yref": "container"
         },
         "updatemenus": [],
         "width": 575.812,
         "xaxis": {
          "automargin": false,
          "autorange": true,
          "color": "#444",
          "constrain": "range",
          "constraintoward": "center",
          "dtick": 1,
          "exponentformat": "B",
          "fixedrange": false,
          "gridcolor": "rgb(215, 215, 215)",
          "gridwidth": 1,
          "hoverformat": "",
          "layer": "above traces",
          "nticks": 0,
          "overlaying": false,
          "range": [
           -0.26914414414414406,
           4.2691441441441444
          ],
          "rangemode": "normal",
          "separatethousands": false,
          "showexponent": "all",
          "showgrid": true,
          "showline": false,
          "showspikes": false,
          "showticklabels": true,
          "side": "bottom",
          "tick0": 0,
          "tickangle": "auto",
          "tickfont": {
           "color": "#444",
           "family": "\"Open Sans\", verdana, arial, sans-serif",
           "size": 12
          },
          "tickformat": "",
          "tickmode": "auto",
          "tickprefix": "",
          "ticks": "",
          "ticksuffix": "",
          "title": {
           "font": {
            "color": "#444",
            "family": "\"Open Sans\", verdana, arial, sans-serif",
            "size": 14
           },
           "text": "Click to enter X axis title"
          },
          "type": "linear",
          "visible": true,
          "zeroline": true,
          "zerolinecolor": "#444",
          "zerolinewidth": 1
         },
         "xaxis2": {
          "automargin": false,
          "autorange": true,
          "color": "#444",
          "constrain": "range",
          "constraintoward": "center",
          "dtick": 1,
          "exponentformat": "B",
          "fixedrange": false,
          "gridcolor": "rgb(215, 215, 215)",
          "gridwidth": 1,
          "hoverformat": "",
          "layer": "above traces",
          "nticks": 0,
          "overlaying": false,
          "range": [
           -0.26914414414414406,
           4.2691441441441444
          ],
          "rangemode": "normal",
          "separatethousands": false,
          "showexponent": "all",
          "showgrid": true,
          "showline": false,
          "showspikes": false,
          "showticklabels": true,
          "side": "bottom",
          "tick0": 0,
          "tickangle": "auto",
          "tickfont": {
           "color": "#444",
           "family": "\"Open Sans\", verdana, arial, sans-serif",
           "size": 12
          },
          "tickformat": "",
          "tickmode": "auto",
          "tickprefix": "",
          "ticks": "",
          "ticksuffix": "",
          "title": {
           "font": {
            "color": "#444",
            "family": "\"Open Sans\", verdana, arial, sans-serif",
            "size": 14
           },
           "text": "Click to enter X axis title"
          },
          "type": "linear",
          "visible": true,
          "zeroline": true,
          "zerolinecolor": "#444",
          "zerolinewidth": 1
         },
         "yaxis": {
          "automargin": false,
          "autorange": true,
          "color": "#444",
          "constrain": "range",
          "constraintoward": "middle",
          "dtick": 2,
          "exponentformat": "B",
          "fixedrange": false,
          "gridcolor": "rgb(215, 215, 215)",
          "gridwidth": 1,
          "hoverformat": "",
          "layer": "above traces",
          "nticks": 0,
          "overlaying": false,
          "range": [
           -0.7445419761422463,
           8.744541976142246
          ],
          "rangemode": "normal",
          "separatethousands": false,
          "showexponent": "all",
          "showgrid": true,
          "showline": false,
          "showspikes": false,
          "showticklabels": true,
          "side": "left",
          "tick0": 0,
          "tickangle": "auto",
          "tickfont": {
           "color": "#444",
           "family": "\"Open Sans\", verdana, arial, sans-serif",
           "size": 12
          },
          "tickformat": "",
          "tickmode": "auto",
          "tickprefix": "",
          "ticks": "",
          "ticksuffix": "",
          "title": {
           "font": {
            "color": "#444",
            "family": "\"Open Sans\", verdana, arial, sans-serif",
            "size": 14
           },
           "text": "Click to enter Y axis title"
          },
          "type": "linear",
          "visible": true,
          "zeroline": true,
          "zerolinecolor": "#444",
          "zerolinewidth": 1
         },
         "yaxis2": {
          "automargin": false,
          "autorange": true,
          "color": "#444",
          "constrain": "range",
          "constraintoward": "middle",
          "dtick": 2,
          "exponentformat": "B",
          "fixedrange": false,
          "gridcolor": "rgb(215, 215, 215)",
          "gridwidth": 1,
          "hoverformat": "",
          "layer": "above traces",
          "nticks": 0,
          "overlaying": false,
          "range": [
           -0.7445419761422463,
           8.744541976142246
          ],
          "rangemode": "normal",
          "separatethousands": false,
          "showexponent": "all",
          "showgrid": true,
          "showline": false,
          "showspikes": false,
          "showticklabels": true,
          "side": "left",
          "tick0": 0,
          "tickangle": "auto",
          "tickfont": {
           "color": "#444",
           "family": "\"Open Sans\", verdana, arial, sans-serif",
           "size": 12
          },
          "tickformat": "",
          "tickmode": "auto",
          "tickprefix": "",
          "ticks": "",
          "ticksuffix": "",
          "title": {
           "font": {
            "color": "#444",
            "family": "\"Open Sans\", verdana, arial, sans-serif",
            "size": 14
           },
           "text": "Click to enter Y axis title"
          },
          "type": "linear",
          "visible": true,
          "zeroline": true,
          "zerolinecolor": "#444",
          "zerolinewidth": 1
         }
        },
        "layout_edit_id": 24
       },
       "_js2py_pointsCallback": {},
       "_js2py_relayout": {
        "relayout_data": {
         "autosize": true
        },
        "source_view_id": "81d81f"
       },
       "_js2py_restyle": {},
       "_js2py_traceDeltas": {
        "trace_deltas": [
         {
          "cliponaxis": true,
          "connectgaps": false,
          "error_x": {
           "visible": false
          },
          "error_y": {
           "visible": false
          },
          "fill": "none",
          "hoverinfo": "all",
          "hoverlabel": {
           "font": {
            "family": "Arial, sans-serif",
            "size": 13
           },
           "namelength": 15
          },
          "hoveron": "points",
          "hovertemplate": "",
          "hovertext": "",
          "index": 0,
          "legendgroup": "",
          "line": {
           "color": "#1f77b4",
           "dash": "solid",
           "shape": "linear",
           "simplify": true,
           "width": 2
          },
          "marker": {
           "color": "#1f77b4",
           "gradient": {
            "type": "none"
           },
           "line": {
            "color": "#444",
            "width": 0
           },
           "maxdisplayed": 0,
           "opacity": 1,
           "size": 6,
           "symbol": "circle"
          },
          "opacity": 1,
          "selected": {
           "marker": {
            "opacity": 1
           }
          },
          "showlegend": true,
          "stackgroup": "",
          "text": "",
          "uid": "ec3030eb-8308-4a5f-a2f8-81120f953770",
          "unselected": {
           "marker": {
            "opacity": 0.2
           }
          },
          "visible": true,
          "xcalendar": "gregorian",
          "ycalendar": "gregorian"
         },
         {
          "cliponaxis": true,
          "connectgaps": false,
          "error_x": {
           "visible": false
          },
          "error_y": {
           "visible": false
          },
          "fill": "none",
          "hoverinfo": "all",
          "hoverlabel": {
           "font": {
            "family": "Arial, sans-serif",
            "size": 13
           },
           "namelength": 15
          },
          "hoveron": "points",
          "hovertemplate": "",
          "hovertext": "",
          "index": 1,
          "legendgroup": "",
          "line": {
           "color": "#ff7f0e",
           "dash": "solid",
           "shape": "linear",
           "simplify": true,
           "width": 2
          },
          "marker": {
           "color": "#ff7f0e",
           "gradient": {
            "type": "none"
           },
           "line": {
            "color": "#444",
            "width": 0
           },
           "maxdisplayed": 0,
           "opacity": 1,
           "size": 6,
           "symbol": "circle"
          },
          "opacity": 1,
          "selected": {
           "marker": {
            "opacity": 1
           }
          },
          "showlegend": true,
          "stackgroup": "",
          "text": "",
          "uid": "52d4c385-4451-4e70-9d95-9c126977040a",
          "unselected": {
           "marker": {
            "opacity": 0.2
           }
          },
          "visible": true,
          "xcalendar": "gregorian",
          "ycalendar": "gregorian"
         }
        ],
        "trace_edit_id": 23
       },
       "_js2py_update": {},
       "_last_layout_edit_id": 24,
       "_last_trace_edit_id": 23,
       "_layout": {
        "autosize": true,
        "plot_bgcolor": "rgb(230, 230, 230)",
        "template": {},
        "title": {
         "text": "Scan"
        },
        "xaxis": {
         "anchor": "y",
         "domain": [
          0,
          1
         ]
        },
        "xaxis2": {
         "anchor": "y2",
         "domain": [
          0,
          1
         ]
        },
        "yaxis": {
         "anchor": "x",
         "domain": [
          0.575,
          1
         ]
        },
        "yaxis2": {
         "anchor": "x2",
         "domain": [
          0,
          0.425
         ]
        }
       },
       "_model_module_version": "0.8.0",
       "_py2js_animate": {},
       "_py2js_deleteTraces": {},
       "_py2js_moveTraces": {},
       "_py2js_removeLayoutProps": {},
       "_py2js_removeTraceProps": {},
       "_view_count": 1,
       "_view_module_version": "0.8.0"
      }
     },
     "fd5b020f918e45f0ba97bce78b2445c0": {
      "model_module": "@jupyter-widgets/base",
      "model_module_version": "1.1.0",
      "model_name": "LayoutModel",
      "state": {}
     },
     "fdd5cb4360354194b147af6f68c9f8e1": {
      "model_module": "@jupyter-widgets/controls",
      "model_module_version": "1.4.0",
      "model_name": "CheckboxModel",
      "state": {
       "disabled": false,
       "layout": "IPY_MODEL_21227c2aa8a642568e37b4aaacae5122",
       "style": "IPY_MODEL_2b608d2f17de4dc8b9d138210d368c9c",
       "value": false
      }
     },
     "fe76b72085a04f82b25d84a042743316": {
      "model_module": "@jupyter-widgets/base",
      "model_module_version": "1.1.0",
      "model_name": "LayoutModel",
      "state": {}
     },
     "fe8fd354f12147daa38e76c98b457ba9": {
      "model_module": "@jupyter-widgets/base",
      "model_module_version": "1.1.0",
      "model_name": "LayoutModel",
      "state": {}
     },
     "fed379165aa34c6a8cb072d4d670991b": {
      "model_module": "@jupyter-widgets/output",
      "model_module_version": "1.0.0",
      "model_name": "OutputModel",
      "state": {
       "layout": "IPY_MODEL_0f140241275f4535ba3ef6702f545171"
      }
     },
     "feed4a62b55f40d69e054cf8ab9bd251": {
      "model_module": "@jupyter-widgets/controls",
      "model_module_version": "1.4.0",
      "model_name": "TextareaModel",
      "state": {
       "layout": "IPY_MODEL_3735b6582f77473295f7917c976b07da",
       "placeholder": "Example: IOC:m1.DMOV IOC:m3.RBV LNLS:ANEL:corrente.VAL",
       "style": "IPY_MODEL_c2e7eb4846534f478cfcf5eec647caff"
      }
     },
     "ff0471f4bb624c6a92126f981f19aef7": {
      "model_module": "@jupyter-widgets/controls",
      "model_module_version": "1.4.0",
      "model_name": "ButtonStyleModel",
      "state": {}
     },
     "ff19ba84ee714b30a849adb718a8c44b": {
      "model_module": "@jupyter-widgets/controls",
      "model_module_version": "1.4.0",
      "model_name": "DescriptionStyleModel",
      "state": {
       "description_width": "initial"
      }
     },
     "ff2202bacbd04565be3390c04abe2f4e": {
      "model_module": "@jupyter-widgets/base",
      "model_module_version": "1.1.0",
      "model_name": "LayoutModel",
      "state": {}
     },
     "ff23f02988084142bf9d0037a86504f4": {
      "model_module": "@jupyter-widgets/controls",
      "model_module_version": "1.4.0",
      "model_name": "ButtonModel",
      "state": {
       "button_style": "success",
       "description": "Start Motor Initializaton",
       "layout": "IPY_MODEL_abe9a448b2ee4388bf56ecc5df66de4f",
       "style": "IPY_MODEL_80b1acf0f15a440d85bc4c55724f773d",
       "tooltip": "Click me"
      }
     },
     "ff3f55b011214f7b8a0a1456f94c81a8": {
      "model_module": "@jupyter-widgets/base",
      "model_module_version": "1.1.0",
      "model_name": "LayoutModel",
      "state": {}
     },
     "ff418e1e88f64691bca8af579778695b": {
      "model_module": "@jupyter-widgets/controls",
      "model_module_version": "1.4.0",
      "model_name": "ButtonStyleModel",
      "state": {}
     },
     "ff5519ad747f408585363a49f9b77a30": {
      "model_module": "@jupyter-widgets/controls",
      "model_module_version": "1.4.0",
      "model_name": "DescriptionStyleModel",
      "state": {
       "description_width": ""
      }
     },
     "ff6e7396488f4ef6ae739f392882c1f7": {
      "model_module": "@jupyter-widgets/controls",
      "model_module_version": "1.4.0",
      "model_name": "VBoxModel",
      "state": {
       "children": [
        "IPY_MODEL_86b26daf27cd4faea9b448d8305b18f3",
        "IPY_MODEL_ecf365c8573b4989967f08bb34109f69"
       ],
       "layout": "IPY_MODEL_191ab73023934283bc02ad178409c376"
      }
     },
     "ff8ba9d6c5a8493db72677eb8ed4652a": {
      "model_module": "@jupyter-widgets/output",
      "model_module_version": "1.0.0",
      "model_name": "OutputModel",
      "state": {
       "layout": "IPY_MODEL_fd2fdf5e9acb400099bf4fd8429ec9cc",
       "outputs": [
        {
         "name": "stdout",
         "output_type": "stream",
         "text": "2019-05-13 16:10:11 Starting motors IOC:m1 initialization\n2019-05-13 16:10:11 Motor: 'IOC:m1' succesfully created as 'IOC m1'\n2019-05-13 16:10:11 Finished motors IOC:m1 initialization\n"
        }
       ]
      }
     },
     "ff8e6b8dae4c480f9a2a9f639440fe22": {
      "model_module": "@jupyter-widgets/base",
      "model_module_version": "1.1.0",
      "model_name": "LayoutModel",
      "state": {}
     }
    },
    "version_major": 2,
    "version_minor": 0
   }
  }
 },
 "nbformat": 4,
 "nbformat_minor": 2
}
