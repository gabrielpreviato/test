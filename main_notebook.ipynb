{
 "cells": [
  {
   "cell_type": "markdown",
   "metadata": {},
   "source": [
    "# LINHA <> - Caderno de Operação\n",
    "\n",
    "## Caderno de Inicialização e Calibração inicial da Linha de Luz\n",
    "\n",
    "### Técnico responsável:"
   ]
  },
  {
   "cell_type": "markdown",
   "metadata": {},
   "source": [
    "Texto inicial\n",
    "\n",
    "\n",
    "\n",
    "\n",
    "\n",
    "\n",
    "\n",
    "\n"
   ]
  },
  {
   "cell_type": "markdown",
   "metadata": {},
   "source": [
    "## Notebook Initialization\n",
    "\n",
    "The next cell loads the <b><i>util.ipynb</i></b> notebook, which provides functions and classes to connect the IJupyter and EPICS interfaces.\n",
    "\n",
    "<sup><sup>Any bug or unexpected behavior from any of these functions and classes, please contact SOL.</sup></sup>"
   ]
  },
  {
   "cell_type": "code",
   "execution_count": 2,
   "metadata": {},
   "outputs": [],
   "source": [
    "import io, os, sys, types\n",
    "from IPython import get_ipython\n",
    "import nbformat\n",
    "from IPython.core.interactiveshell import InteractiveShell\n",
    "\n",
    "\n",
    "def find_notebook(fullname, path=None):\n",
    "    \"\"\"find a notebook, given its fully qualified name and an optional path\n",
    "\n",
    "    This turns \"foo.bar\" into \"foo/bar.ipynb\"\n",
    "    and tries turning \"Foo_Bar\" into \"Foo Bar\" if Foo_Bar\n",
    "    does not exist.\n",
    "    \"\"\"\n",
    "    name = fullname.rsplit('.', 1)[-1]\n",
    "    if not path:\n",
    "        path = ['']\n",
    "    for d in path:\n",
    "        nb_path = os.path.join(d, name + \".ipynb\")\n",
    "        if os.path.isfile(nb_path):\n",
    "            return nb_path\n",
    "        # let import Notebook_Name find \"Notebook Name.ipynb\"\n",
    "        nb_path = nb_path.replace(\"_\", \" \")\n",
    "        if os.path.isfile(nb_path):\n",
    "            return nb_path\n",
    "\n",
    "\n",
    "class NotebookLoader(object):\n",
    "    \"\"\"Module Loader for Jupyter Notebooks\"\"\"\n",
    "    def __init__(self, path=None):\n",
    "        self.shell = InteractiveShell.instance()\n",
    "        self.path = path\n",
    "\n",
    "    def load_module(self, fullname):\n",
    "        \"\"\"import a notebook as a module\"\"\"\n",
    "        path = find_notebook(fullname, self.path)\n",
    "\n",
    "        print (\"importing Jupyter notebook from %s\" % path)\n",
    "\n",
    "        # load the notebook object\n",
    "        with io.open(path, 'r', encoding='utf-8') as f:\n",
    "            nb = nbformat.read(f, nbformat.NO_CONVERT)\n",
    "\n",
    "\n",
    "        # create the module and add it to sys.modules\n",
    "        # if name in sys.modules:\n",
    "        #    return sys.modules[name]\n",
    "        mod = types.ModuleType(fullname)\n",
    "        mod.__file__ = path\n",
    "        mod.__loader__ = self\n",
    "        mod.__dict__['get_ipython'] = get_ipython\n",
    "        sys.modules[fullname] = mod\n",
    "\n",
    "        # extra work to ensure that magics that would affect the user_ns\n",
    "        # actually affect the notebook module's ns\n",
    "        save_user_ns = self.shell.user_ns\n",
    "        self.shell.user_ns = mod.__dict__\n",
    "\n",
    "        try:\n",
    "            for cell in nb.cells:\n",
    "                if cell.cell_type == 'code':\n",
    "                    # transform the input to executable Python\n",
    "                    code = self.shell.input_transformer_manager.transform_cell(cell.source)\n",
    "                    # run the code in themodule\n",
    "                    exec(code, mod.__dict__)\n",
    "        finally:\n",
    "            self.shell.user_ns = save_user_ns\n",
    "        return mod\n",
    "\n",
    "\n",
    "class NotebookFinder(object):\n",
    "    \"\"\"Module finder that locates Jupyter Notebooks\"\"\"\n",
    "    def __init__(self):\n",
    "        self.loaders = {}\n",
    "\n",
    "    def find_module(self, fullname, path=None):\n",
    "        nb_path = find_notebook(fullname, path)\n",
    "        if not nb_path:\n",
    "            return\n",
    "\n",
    "        key = path\n",
    "        if path:\n",
    "            # lists aren't hashable\n",
    "            key = os.path.sep.join(path)\n",
    "\n",
    "        if key not in self.loaders:\n",
    "            self.loaders[key] = NotebookLoader(path)\n",
    "        return self.loaders[key]\n",
    "\n",
    "sys.meta_path.append(NotebookFinder())"
   ]
  },
  {
   "cell_type": "code",
   "execution_count": 3,
   "metadata": {
    "scrolled": true
   },
   "outputs": [
    {
     "name": "stdout",
     "output_type": "stream",
     "text": [
      "importing Jupyter notebook from util.ipynb\n"
     ]
    },
    {
     "data": {
      "text/html": [
       "<script type=\"text/javascript\">window.PlotlyConfig = {MathJaxConfig: 'local'};</script><script type=\"text/javascript\">if (window.MathJax) {MathJax.Hub.Config({SVG: {font: \"STIX-Web\"}});}</script><script>requirejs.config({paths: { 'plotly': ['https://cdn.plot.ly/plotly-latest.min']},});if(!window._Plotly) {require(['plotly'],function(plotly) {window._Plotly=plotly;});}</script>"
      ],
      "text/vnd.plotly.v1+html": [
       "<script type=\"text/javascript\">window.PlotlyConfig = {MathJaxConfig: 'local'};</script><script type=\"text/javascript\">if (window.MathJax) {MathJax.Hub.Config({SVG: {font: \"STIX-Web\"}});}</script><script>requirejs.config({paths: { 'plotly': ['https://cdn.plot.ly/plotly-latest.min']},});if(!window._Plotly) {require(['plotly'],function(plotly) {window._Plotly=plotly;});}</script>"
      ]
     },
     "metadata": {},
     "output_type": "display_data"
    }
   ],
   "source": [
    "from util import *"
   ]
  },
  {
   "cell_type": "markdown",
   "metadata": {},
   "source": [
    "## Configuration Cell"
   ]
  },
  {
   "cell_type": "markdown",
   "metadata": {},
   "source": [
    "Check the boxes to set some notebook's configuration"
   ]
  },
  {
   "cell_type": "code",
   "execution_count": 7,
   "metadata": {
    "codeCellConfig": {
     "codeFolding": true,
     "lineNumbers": true
    }
   },
   "outputs": [
    {
     "data": {
      "application/vnd.jupyter.widget-view+json": {
       "model_id": "46d206b8032b4c1b883468f80589b1df",
       "version_major": 2,
       "version_minor": 0
      },
      "text/plain": [
       "VBox(children=(Checkbox(value=False, description=\"Print log in Notebook's cells\", style=DescriptionStyle(descr…"
      ]
     },
     "metadata": {},
     "output_type": "display_data"
    }
   ],
   "source": [
    "checkbox_logprint_in_cell = widgets.Checkbox(\n",
    "    value=False,\n",
    "    description=\"Print log in Notebook's cells\",\n",
    "    disabled=False,\n",
    "    style={'description_width': 'initial'},\n",
    ")\n",
    "\n",
    "config = {\"log_cell\": checkbox_logprint_in_cell}\n",
    "\n",
    "output = widgets.Output()\n",
    "\n",
    "@output.capture()\n",
    "def change_checkbox_logprint_in_cell(change):\n",
    "    logprint(\"Changed Logprint Checkbox to: \" + str(change.new))\n",
    "    \n",
    "checkbox_logprint_in_cell.observe(change_checkbox_logprint_in_cell, 'value')\n",
    "\n",
    "box = widgets.VBox([checkbox_logprint_in_cell, output])\n",
    "\n",
    "display(box)\n",
    "\n"
   ]
  },
  {
   "cell_type": "markdown",
   "metadata": {},
   "source": [
    "## Motor Calibration"
   ]
  },
  {
   "cell_type": "markdown",
   "metadata": {},
   "source": [
    "### Write in the Text Box, separated by spaces, every motor name that should be initialized.\n",
    "\n",
    "###### PS: Do not use any other character separation other than spaces!"
   ]
  },
  {
   "cell_type": "code",
   "execution_count": null,
   "metadata": {},
   "outputs": [],
   "source": [
    "config"
   ]
  },
  {
   "cell_type": "code",
   "execution_count": null,
   "metadata": {},
   "outputs": [],
   "source": [
    "start_motor_button_box = StartMotorsButton(config)\n",
    "start_motor_button_box.display_start_button()"
   ]
  },
  {
   "cell_type": "markdown",
   "metadata": {},
   "source": [
    "### Write in the \"Number Text Box\" the absolute target value desired for the motor "
   ]
  },
  {
   "cell_type": "code",
   "execution_count": null,
   "metadata": {},
   "outputs": [],
   "source": [
    "start_motor_button_box.display_motors_targ_buttons()"
   ]
  },
  {
   "cell_type": "markdown",
   "metadata": {},
   "source": [
    "### Write in the Text Box, separated by spaces, every motor PV name that should be monitored.\n",
    "\n",
    "###### PS: Do not use any other character separation other than spaces!"
   ]
  },
  {
   "cell_type": "code",
   "execution_count": null,
   "metadata": {},
   "outputs": [],
   "source": [
    "motor_monitor = MotorsMonitor(config)\n",
    "motor_monitor.display_monitor_motors()"
   ]
  },
  {
   "cell_type": "code",
   "execution_count": null,
   "metadata": {},
   "outputs": [],
   "source": [
    "# from py4syn.utils.scan import scan\n",
    "# scan(cnew_motor, 10, 5, 10, 0.1)"
   ]
  },
  {
   "cell_type": "code",
   "execution_count": null,
   "metadata": {},
   "outputs": [],
   "source": [
    "pv_monitor = PVMonitor(config)\n",
    "pv_monitor.display_monitor_pvs()"
   ]
  },
  {
   "cell_type": "markdown",
   "metadata": {},
   "source": [
    "## Call Scan"
   ]
  },
  {
   "cell_type": "markdown",
   "metadata": {},
   "source": [
    "## Plotting data"
   ]
  },
  {
   "cell_type": "markdown",
   "metadata": {},
   "source": [
    "### Plotly\n",
    "\n",
    "Plotly is a great library for plotting data in a Jupyter Notebook.\n",
    "\n",
    "Informations and examples of how to use this library can be found in https://plot.ly/python/\n",
    "\n",
    "\n",
    "#### Simple scatter plot example:"
   ]
  },
  {
   "cell_type": "code",
   "execution_count": null,
   "metadata": {
    "scrolled": true
   },
   "outputs": [],
   "source": [
    "# Enable offline plots from plotly\n",
    "py.init_notebook_mode(connected=True)\n",
    "\n",
    "# Read sample csv file with pandas library (CSV example obatained from https://catalog.data.gov/dataset/age-adjusted-death-rates-for-the-top-10-leading-causes-of-death-united-states-2013/resource/0e603f1d-31bf-4809-8f10-a994b305b379)\n",
    "df = pd.read_csv('sample-data.csv')\n",
    "\n",
    "# Let's plot the number of total deaths for every USA state\n",
    "data = df.groupby('State').sum().reset_index()\n",
    "\n",
    "# Looking at our data, there is a United States row that includes the sum of all states, we should remove this row\n",
    "for i in range(len(data.index) - 1):\n",
    "    if data.iloc[i]['State'] == 'United States':\n",
    "        data = data.drop(i, axis=0)\n",
    "\n",
    "# Create a Scatter graph\n",
    "trace1 = go.Scatter(\n",
    "                    x=data['State'], y=data['Deaths'], # Data\n",
    "                    mode='lines+markers', name='logx' # Additional options\n",
    "                   )\n",
    "\n",
    "# Create a Layout for the graph\n",
    "layout = go.Layout(title='Number of deaths for every USA State',\n",
    "                   plot_bgcolor='rgb(230, 230, 230)')\n",
    "\n",
    "# Create a figure to be plotted\n",
    "fig = go.FigureWidget(data=[trace1], layout=layout)\n",
    "\n",
    "# Plot figure in the notebook\n",
    "df.columns"
   ]
  },
  {
   "cell_type": "code",
   "execution_count": 11,
   "metadata": {},
   "outputs": [],
   "source": [
    "import json\n",
    "import os\n",
    "import threading\n",
    "from IPython.display import display\n",
    "import ipywidgets as widgets\n",
    "import time\n",
    "import pandas\n",
    "\n",
    "\n",
    "class MonitorScanSave(widgets.Button):\n",
    "    \n",
    "    def __init__(self, config, *args, **kwargs):\n",
    "        widgets.Button.__init__(self, *args, **kwargs)\n",
    "        \n",
    "        # Config\n",
    "        self.config = config\n",
    "        \n",
    "        # class Button values for MonitorScanSave\n",
    "        self.description='Start Scanning Plot'\n",
    "        self.disabled=False\n",
    "        self.button_style='success'\n",
    "        self.tooltip='Click me'\n",
    "        self.icon=''\n",
    "        self.layout = widgets.Layout(width='300px')\n",
    "        \n",
    "        # Scan save file and directory\n",
    "        self.scan_save_dir = '/tmp/'\n",
    "        self.scan_save_file = 'scan_gui.temp'\n",
    "\n",
    "        self.scan_path = Path(self.scan_save_dir + self.scan_save_file)\n",
    "        \n",
    "        # Logging\n",
    "        self.output = widgets.Output()\n",
    "        \n",
    "        # Threading\n",
    "        self.monitor = False\n",
    "        self.thread = None\n",
    "        \n",
    "        # Set callback function for click event\n",
    "        self.on_click(self._start_button)\n",
    "        \n",
    "        # Widgets displays\n",
    "        self.start_button = widgets.VBox([self])\n",
    "        \n",
    "        # Clean previous temp config file\n",
    "        try:\n",
    "            os.remove(str(self.scan_path))\n",
    "        except:\n",
    "            pass\n",
    "        \n",
    "        self.fig = go.FigureWidget()\n",
    "        self.fig_box = widgets.Box()\n",
    "        \n",
    "        \n",
    "    @staticmethod\n",
    "    def _start_button(b):\n",
    "        # Clear previous logs outputs\n",
    "        b.output.clear_output()\n",
    "        \n",
    "        # with statement to output logs in stdou (if this option is enabled)\n",
    "        with b.output:\n",
    "            if b.monitor:\n",
    "                # Change button monitor status\n",
    "                b.monitor = not b.monitor\n",
    "                \n",
    "                # Change button to a \"clicked status\"\n",
    "                b.disabled = True\n",
    "                b.button_style = ''\n",
    "                b.description='Stopping...'\n",
    "                \n",
    "                # We should sleep for some time to give some responsiveness to the user\n",
    "                time.sleep(0.5)\n",
    "\n",
    "                # Stop thread to monitor the save file\n",
    "                try:\n",
    "                    logprint(\"Stopping thread\", config=b.config)\n",
    "                    b.thread.join()\n",
    "                except Exception as e:\n",
    "                    # If any error occurs, log that but dont stop code exection\n",
    "                    logprint(\"Error in stopping thread\", \"[ERROR]\", config=b.config)\n",
    "                    logprint(str(e), \"[ERROR]\", config=b.config)\n",
    "\n",
    "                # Change button layout monitoring\n",
    "                b.disabled = False\n",
    "                b.button_style = 'success'\n",
    "                b.description='Start Scanning Plot'\n",
    "            else:\n",
    "                # Change button monitor status\n",
    "                b.monitor = not b.monitor\n",
    "                \n",
    "                # Change button to a \"clicked status\"\n",
    "                b.disabled = True\n",
    "                b.button_style = ''\n",
    "                b.description='Starting...'\n",
    "                \n",
    "                # We should sleep for some time to give some responsiveness to the user\n",
    "                time.sleep(0.5)\n",
    "\n",
    "                # Start thread to monitor the save file\n",
    "                try:\n",
    "                    logprint(\"Starting thread\", config=b.config)\n",
    "                    b.thread = threading.Thread(target=b.monitor_save_file)\n",
    "                    b.thread.start()\n",
    "                except Exception as e:\n",
    "                    # If any error occurs, log that but dont stop code exection\n",
    "                    logprint(\"Error in starting thread\", \"[ERROR]\", config=b.config)\n",
    "                    logprint(str(e), \"[ERROR]\", config=b.config)\n",
    "\n",
    "                # Change button layout monitoring\n",
    "                b.disabled = False\n",
    "                b.button_style = 'danger'\n",
    "                b.description='Stop Scanning Plot'\n",
    "            \n",
    "    \n",
    "    def monitor_save_file(self):\n",
    "        with self.output:\n",
    "            while self.monitor:\n",
    "                if self.scan_path.is_file():\n",
    "                    with open(str(self.scan_path)) as file:\n",
    "                        try: \n",
    "                             save_file = json.load(file)\n",
    "                        except ValueError: \n",
    "                             pass\n",
    "                    \n",
    "                    os.remove(str(self.scan_path))\n",
    "                    \n",
    "                    save_file_str = json.dumps(save_file)\n",
    "                    save_file_pretty_str = json.dumps(save_file, indent=4)\n",
    "                    \n",
    "                    command = save_file[\"command\"][\"value\"]\n",
    "                    parser = self.scan_parser()\n",
    "                    \n",
    "                    self.scan_name = self.get_scan_name(command, parser)\n",
    "                    config_name = self.get_config_name(command, parser)\n",
    "                    \n",
    "                    self.plot_name = self.scan_name + \".png\"\n",
    "                    \n",
    "                    ts = time.gmtime()\n",
    "    \n",
    "                    year_month_day = time.strftime(\"%Y-%m-%d\", ts)\n",
    "                    time_stamp = time.strftime(\"%Y-%m-%d %H:%M:%S\", ts) + \" UTC-0\"\n",
    "                    log_str = time_stamp + \"| [SCAN]:\\n\" + \\\n",
    "                              \"Scan with command: '\" + command + \"'\\n\" + \\\n",
    "                              \"Scan configuration: '\" + config_name + \"'\\n\" + \\\n",
    "                              \"Scan data saved in: '\" + self.scan_name + \"'\\n\" + \\\n",
    "                              \"Scan plot saved in: '\" + self.plot_name + \"'\\n\"\n",
    "                    \n",
    "                    log_file_name = Path('./' + year_month_day + '-scanlog.txt')\n",
    "                    with open(str(log_file_name), \"a\") as f:\n",
    "                        f.write(log_str + '\\n')\n",
    "                                    \n",
    "\n",
    "                    # Call graph\n",
    "                    self.list_motors = save_file[\"listMotors\"][\"value\"]\n",
    "                    \n",
    "                    self.fig_thread = threading.Thread(target=self.work)\n",
    "                    self.fig_thread.start()\n",
    "                    \n",
    "\n",
    "                else:\n",
    "                    pass\n",
    "                time.sleep(0.5)\n",
    "                \n",
    "    def get_scan_name(self, command, parser):\n",
    "        args = parser.parse_known_args(command.split(' '))\n",
    "\n",
    "        fileName = args[0].output\n",
    "\n",
    "        leadingZeros = 4\n",
    "        newName = \"\"\n",
    "        cont = 0\n",
    "        while(True):\n",
    "            cont += 1\n",
    "            newName = fileName + \"_\" + str(cont).zfill(leadingZeros)\n",
    "            if(os.path.isfile(newName)):\n",
    "                continue\n",
    "            else:\n",
    "#                 newName = fileName + \"_\" + str(cont - 1).zfill(leadingZeros)\n",
    "                break\n",
    "                \n",
    "        return newName\n",
    "    \n",
    "    def get_config_name(self, command, parser):\n",
    "        args = parser.parse_known_args(command.split(' '))\n",
    "\n",
    "        config_name = args[0].configuration\n",
    "        \n",
    "        return config_name\n",
    "    \n",
    "    def scan_parser(self):\n",
    "        parser = argparse.ArgumentParser(description=\"Perform a scan with \\\n",
    "                                        specified devices (e.g.: motors) and the list of counters provided by the \\\n",
    "                                        configuration file.\")\n",
    "\n",
    "        parser.add_argument('-l', '--list-configurations',\n",
    "                            help='list configurations instead of scanning',\n",
    "                            action='store_true')\n",
    "\n",
    "        parser.add_argument('-c', '--configuration',\n",
    "                            help='choose a counter configuration file',\n",
    "                            default='default')\n",
    "\n",
    "        parser.add_argument('--optimum',\n",
    "                            help='move motor to the optimal point according to \\\n",
    "                            this counter after scan')\n",
    "\n",
    "        parser.add_argument('--repeat',\n",
    "                            help='scan multiple times',\n",
    "                            type=int,\n",
    "                            default=1)\n",
    "\n",
    "        parser.add_argument('--sleep',\n",
    "                            help='sleep time before each acquisition',\n",
    "                            type=float,\n",
    "                            default=0)\n",
    "\n",
    "        parser.add_argument('-m', '--message',\n",
    "                            help='string of comments to put in output file header')\n",
    "\n",
    "        parser.add_argument('-o', '--output',\n",
    "                            help='output data to file output-prefix/<fileprefix>_nnnn')\n",
    "\n",
    "        parser.add_argument('-s', '--sync',\n",
    "                            help='write to the output file after each point',\n",
    "                            action='store_true')\n",
    "\n",
    "        parser.add_argument('--snake',\n",
    "                            help='snake scan mode',\n",
    "                            action='store_true')\n",
    "\n",
    "        parser.add_argument('--motor',\n",
    "                            help='list of motors',\n",
    "                            nargs='+')\n",
    "\n",
    "        parser.add_argument('--xlabel',\n",
    "                            help='motor which position is shown in x axis \\\n",
    "                            (if not set, point index is shown instead)',\n",
    "                            default='points')\n",
    "\n",
    "        # Arguments describing a run\n",
    "        group_run = parser.add_argument_group(\n",
    "                            description=\"Arguments for describing a given run \\\n",
    "                            (define this set of arguments again for each new run):\")\n",
    "\n",
    "        group_run.add_argument('--start',\n",
    "                            help='list of start positions of each device',\n",
    "                            nargs='+',\n",
    "                            action='append',\n",
    "                            type=float)\n",
    "\n",
    "        group_run.add_argument('--end',\n",
    "                            help='list of end positions of each device',\n",
    "                            nargs='+',\n",
    "                            action='append',\n",
    "                            type=float)\n",
    "\n",
    "        group_run.add_argument('--step-or-points',\n",
    "                            help='list of step size (or number of points) for each device',\n",
    "                            nargs='+',\n",
    "                            action='append',\n",
    "                            type=float)\n",
    "\n",
    "        group_run.add_argument('--time',\n",
    "                            help='acquisition time',\n",
    "                            nargs=1,\n",
    "                            action='append',\n",
    "                            type=float)\n",
    "\n",
    "        group_run.add_argument('-f',\n",
    "                            help='ipython test',\n",
    "                            nargs=1,\n",
    "                            action='append',\n",
    "                            type=str)\n",
    "        \n",
    "        return parser\n",
    "    \n",
    "    def update_pd(self, default_name, label):\n",
    "        try:\n",
    "            df = pd.read_csv(default_name, sep=' ', comment='#', header=None)\n",
    "        except Exception as e:\n",
    "            return pd.DataFrame(), label\n",
    "\n",
    "        filtered_label = label\n",
    "        if not label:\n",
    "            labels = []\n",
    "            with open(default_name) as file:\n",
    "                for i, line in enumerate(file):\n",
    "                    if i == 6:\n",
    "                        self.number_reads = (int(line.split(' ')[1]))\n",
    "                    elif i == 8:\n",
    "                        labels = line.split(' ')[1:]\n",
    "                        break\n",
    "\n",
    "            labels = list(filter(lambda x: x != '', labels))\n",
    "\n",
    "            for item in labels:\n",
    "                filtered_label.append(item.rstrip('\\n'))\n",
    "\n",
    "            label = filtered_label\n",
    "\n",
    "        df.columns = pd.Index(filtered_label, dtype='object')\n",
    "        return df, label\n",
    "\n",
    "    def work(self):\n",
    "        df = pd.DataFrame()\n",
    "        while df.empty:\n",
    "            label = []\n",
    "            df, label = self.update_pd(self.scan_name, label)\n",
    "        \n",
    "        number_motors = len(self.list_motors)\n",
    "        self.create_figure(len(df.columns) - number_motors)\n",
    "        \n",
    "        while df.shape[0] < self.number_reads:\n",
    "            df, label = self.update_pd(self.scan_name, label)\n",
    "            if df.empty:\n",
    "                continue\n",
    "                \n",
    "            for i in range(len(df.columns) - number_motors): \n",
    "                self.fig['data'][i]['x'] = df.index.values\n",
    "                self.fig['data'][i]['y'] = df[df.columns[number_motors + i]].values\n",
    "\n",
    "            time.sleep(1)\n",
    "        \n",
    "        # update last scan value\n",
    "        for i in range(len(df.columns) - number_motors): \n",
    "                self.fig['data'][i]['x'] = df.index.values\n",
    "                self.fig['data'][i]['y'] = df[df.columns[number_motors + i]].values\n",
    "                \n",
    "        # save image as png\n",
    "        pio.write_image(self.fig, self.plot_name)\n",
    "            \n",
    "    def create_figure(self, number_traces):\n",
    "        self.traces = []\n",
    "        \n",
    "        self.fig = go.FigureWidget(tools.make_subplots(rows=number_traces, cols=1))\n",
    "        \n",
    "        for i in range(number_traces):\n",
    "            trace = go.Scatter(\n",
    "                x=[], y=[], # Data\n",
    "                mode='lines+markers', name='line' + str(i+1)\n",
    "            )\n",
    "\n",
    "            self.traces.append(trace)\n",
    "            self.fig.append_trace(trace, i + 1, 1) # using i + 1 because plot index starts at 1\n",
    "\n",
    "        self.fig['layout'].update(title='Scan', plot_bgcolor='rgb(230, 230, 230)')\n",
    "        self.fig_box.children = (self.fig,)\n",
    "    \n",
    "    def display_start_button(self):\n",
    "        display(self.start_button, self.output, self.fig_box)\n",
    "        display(IPython.display.Image(\"./scans/plot_0090.png\"))\n"
   ]
  },
  {
   "cell_type": "code",
   "execution_count": 12,
   "metadata": {},
   "outputs": [
    {
     "data": {
      "image/png": "[encoded data removed]",
      "text/plain": [
       "<IPython.core.display.Image object>"
      ]
     },
     "metadata": {},
     "output_type": "display_data"
    }
   ],
   "source": [
    "display(IPython.display.Image(\"./scans/plot_0090.png\"))"
   ]
  },
  {
   "cell_type": "code",
   "execution_count": 13,
   "metadata": {
    "scrolled": false
   },
   "outputs": [
    {
     "ename": "NameError",
     "evalue": "name 'config' is not defined",
     "output_type": "error",
     "traceback": [
      "\u001b[0;31m---------------------------------------------------------------------------\u001b[0m",
      "\u001b[0;31mNameError\u001b[0m                                 Traceback (most recent call last)",
      "\u001b[0;32m<ipython-input-6-ec04b716dd03>\u001b[0m in \u001b[0;36m<module>\u001b[0;34m\u001b[0m\n\u001b[1;32m      1\u001b[0m \u001b[0mget_ipython\u001b[0m\u001b[0;34m(\u001b[0m\u001b[0;34m)\u001b[0m\u001b[0;34m.\u001b[0m\u001b[0mrun_line_magic\u001b[0m\u001b[0;34m(\u001b[0m\u001b[0;34m'tb'\u001b[0m\u001b[0;34m,\u001b[0m \u001b[0;34m''\u001b[0m\u001b[0;34m)\u001b[0m\u001b[0;34m\u001b[0m\u001b[0m\n\u001b[0;32m----> 2\u001b[0;31m \u001b[0mscan_save\u001b[0m \u001b[0;34m=\u001b[0m \u001b[0mMonitorScanSave\u001b[0m\u001b[0;34m(\u001b[0m\u001b[0mconfig\u001b[0m\u001b[0;34m)\u001b[0m\u001b[0;34m\u001b[0m\u001b[0m\n\u001b[0m\u001b[1;32m      3\u001b[0m \u001b[0mscan_save\u001b[0m\u001b[0;34m.\u001b[0m\u001b[0mdisplay_start_button\u001b[0m\u001b[0;34m(\u001b[0m\u001b[0;34m)\u001b[0m\u001b[0;34m\u001b[0m\u001b[0m\n",
      "\u001b[0;31mNameError\u001b[0m: name 'config' is not defined"
     ]
    },
    {
     "data": {
      "application/vnd.jupyter.widget-view+json": {
       "model_id": "256d1f656e394e748e6fa358eb1dc547",
       "version_major": 2,
       "version_minor": 0
      },
      "text/plain": [
       "VBox(children=(MonitorScanSave(button_style='success', description='Start Scanning Plot', layout=Layout(width=…"
      ]
     },
     "metadata": {},
     "output_type": "display_data"
    },
    {
     "data": {
      "application/vnd.jupyter.widget-view+json": {
       "model_id": "a1075da5fc2a4d9c92d4fb20e4a9d39e",
       "version_major": 2,
       "version_minor": 0
      },
      "text/plain": [
       "Output()"
      ]
     },
     "metadata": {},
     "output_type": "display_data"
    },
    {
     "data": {
      "application/vnd.jupyter.widget-view+json": {
       "model_id": "5fbc2748a89d494897601319e8fc7c8a",
       "version_major": 2,
       "version_minor": 0
      },
      "text/plain": [
       "Box()"
      ]
     },
     "metadata": {},
     "output_type": "display_data"
    },
    {
     "data": {
      "image/png": "[encoded data removed]",
      "text/plain": [
       "<IPython.core.display.Image object>"
      ]
     },
     "metadata": {},
     "output_type": "display_data"
    }
   ],
   "source": [
    "%tb\n",
    "scan_save = MonitorScanSave(config)\n",
    "scan_save.display_start_button()"
   ]
  },
  {
   "cell_type": "code",
   "execution_count": null,
   "metadata": {},
   "outputs": [],
   "source": [
    "#%%script bash --bg\n",
    "#!cd ~/work/scan-gui && ./scan_gui"
   ]
  }
 ],
 "metadata": {
  "kernelspec": {
   "display_name": "Python 3",
   "language": "python",
   "name": "python3"
  },
  "language_info": {
   "codemirror_mode": {
    "name": "ipython",
    "version": 3
   },
   "file_extension": ".py",
   "mimetype": "text/x-python",
   "name": "python",
   "nbconvert_exporter": "python",
   "pygments_lexer": "ipython3",
   "version": "3.5.3"
  }
 },
 "nbformat": 4,
 "nbformat_minor": 2
}
