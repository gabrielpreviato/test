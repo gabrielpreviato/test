{
 "cells": [
  {
   "cell_type": "markdown",
   "metadata": {},
   "source": [
    "# LINHA <> - Caderno de Operação\n",
    "\n",
    "## Caderno de Inicialização e Calibração inicial da Linha de Luz\n",
    "\n",
    "### Técnico responsável:"
   ]
  },
  {
   "cell_type": "markdown",
   "metadata": {},
   "source": [
    "Texto inicial\n",
    "\n",
    "\n",
    "\n",
    "\n",
    "\n",
    "\n",
    "\n",
    "\n"
   ]
  },
  {
   "cell_type": "markdown",
   "metadata": {},
   "source": [
    "## Notebook Initialization\n",
    "\n",
    "The next cell loads the <b><i>util.ipynb</i></b> notebook, which provides functions and classes to connect the IJupyter and EPICS interfaces.\n",
    "\n",
    "<sup><sup>Any bug or unexpected behavior from any of these functions and classes, please contact SOL.</sup></sup>"
   ]
  },
  {
   "cell_type": "code",
   "execution_count": 1,
   "metadata": {},
   "outputs": [],
   "source": [
    "import io, os, sys, types\n",
    "from IPython import get_ipython\n",
    "import nbformat\n",
    "from IPython.core.interactiveshell import InteractiveShell\n",
    "\n",
    "\n",
    "def find_notebook(fullname, path=None):\n",
    "    \"\"\"find a notebook, given its fully qualified name and an optional path\n",
    "\n",
    "    This turns \"foo.bar\" into \"foo/bar.ipynb\"\n",
    "    and tries turning \"Foo_Bar\" into \"Foo Bar\" if Foo_Bar\n",
    "    does not exist.\n",
    "    \"\"\"\n",
    "    name = fullname.rsplit('.', 1)[-1]\n",
    "    if not path:\n",
    "        path = ['']\n",
    "    for d in path:\n",
    "        nb_path = os.path.join(d, name + \".ipynb\")\n",
    "        if os.path.isfile(nb_path):\n",
    "            return nb_path\n",
    "        # let import Notebook_Name find \"Notebook Name.ipynb\"\n",
    "        nb_path = nb_path.replace(\"_\", \" \")\n",
    "        if os.path.isfile(nb_path):\n",
    "            return nb_path\n",
    "\n",
    "\n",
    "class NotebookLoader(object):\n",
    "    \"\"\"Module Loader for Jupyter Notebooks\"\"\"\n",
    "    def __init__(self, path=None):\n",
    "        self.shell = InteractiveShell.instance()\n",
    "        self.path = path\n",
    "\n",
    "    def load_module(self, fullname):\n",
    "        \"\"\"import a notebook as a module\"\"\"\n",
    "        path = find_notebook(fullname, self.path)\n",
    "\n",
    "        print (\"importing Jupyter notebook from %s\" % path)\n",
    "\n",
    "        # load the notebook object\n",
    "        with io.open(path, 'r', encoding='utf-8') as f:\n",
    "            nb = nbformat.read(f, nbformat.NO_CONVERT)\n",
    "\n",
    "\n",
    "        # create the module and add it to sys.modules\n",
    "        # if name in sys.modules:\n",
    "        #    return sys.modules[name]\n",
    "        mod = types.ModuleType(fullname)\n",
    "        mod.__file__ = path\n",
    "        mod.__loader__ = self\n",
    "        mod.__dict__['get_ipython'] = get_ipython\n",
    "        sys.modules[fullname] = mod\n",
    "\n",
    "        # extra work to ensure that magics that would affect the user_ns\n",
    "        # actually affect the notebook module's ns\n",
    "        save_user_ns = self.shell.user_ns\n",
    "        self.shell.user_ns = mod.__dict__\n",
    "\n",
    "        try:\n",
    "            for cell in nb.cells:\n",
    "                if cell.cell_type == 'code':\n",
    "                    # transform the input to executable Python\n",
    "                    code = self.shell.input_transformer_manager.transform_cell(cell.source)\n",
    "                    # run the code in themodule\n",
    "                    exec(code, mod.__dict__)\n",
    "        finally:\n",
    "            self.shell.user_ns = save_user_ns\n",
    "        return mod\n",
    "\n",
    "\n",
    "class NotebookFinder(object):\n",
    "    \"\"\"Module finder that locates Jupyter Notebooks\"\"\"\n",
    "    def __init__(self):\n",
    "        self.loaders = {}\n",
    "\n",
    "    def find_module(self, fullname, path=None):\n",
    "        nb_path = find_notebook(fullname, path)\n",
    "        if not nb_path:\n",
    "            return\n",
    "\n",
    "        key = path\n",
    "        if path:\n",
    "            # lists aren't hashable\n",
    "            key = os.path.sep.join(path)\n",
    "\n",
    "        if key not in self.loaders:\n",
    "            self.loaders[key] = NotebookLoader(path)\n",
    "        return self.loaders[key]\n",
    "\n",
    "sys.meta_path.append(NotebookFinder())"
   ]
  },
  {
   "cell_type": "code",
   "execution_count": 2,
   "metadata": {
    "scrolled": true
   },
   "outputs": [
    {
     "name": "stdout",
     "output_type": "stream",
     "text": [
      "importing Jupyter notebook from util.ipynb\n"
     ]
    },
    {
     "data": {
      "text/html": [
       "<script type=\"text/javascript\">window.PlotlyConfig = {MathJaxConfig: 'local'};</script><script type=\"text/javascript\">if (window.MathJax) {MathJax.Hub.Config({SVG: {font: \"STIX-Web\"}});}</script><script>requirejs.config({paths: { 'plotly': ['https://cdn.plot.ly/plotly-latest.min']},});if(!window._Plotly) {require(['plotly'],function(plotly) {window._Plotly=plotly;});}</script>"
      ],
      "text/vnd.plotly.v1+html": [
       "<script type=\"text/javascript\">window.PlotlyConfig = {MathJaxConfig: 'local'};</script><script type=\"text/javascript\">if (window.MathJax) {MathJax.Hub.Config({SVG: {font: \"STIX-Web\"}});}</script><script>requirejs.config({paths: { 'plotly': ['https://cdn.plot.ly/plotly-latest.min']},});if(!window._Plotly) {require(['plotly'],function(plotly) {window._Plotly=plotly;});}</script>"
      ]
     },
     "metadata": {},
     "output_type": "display_data"
    }
   ],
   "source": [
    "from util import *"
   ]
  },
  {
   "cell_type": "markdown",
   "metadata": {},
   "source": [
    "## Configuration Cell"
   ]
  },
  {
   "cell_type": "markdown",
   "metadata": {},
   "source": [
    "Check the boxes to set some notebook's configuration"
   ]
  },
  {
   "cell_type": "code",
   "execution_count": 11,
   "metadata": {
    "codeCellConfig": {
     "codeFolding": true,
     "lineNumbers": true
    }
   },
   "outputs": [
    {
     "data": {
      "application/vnd.jupyter.widget-view+json": {
       "model_id": "90dd511d52f645479839d96664ba317b",
       "version_major": 2,
       "version_minor": 0
      },
      "text/plain": [
       "VBox(children=(Checkbox(value=False, description=\"Print log in Notebook's cells\", style=DescriptionStyle(descr…"
      ]
     },
     "metadata": {},
     "output_type": "display_data"
    }
   ],
   "source": [
    "checkbox_logprint_in_cell = widgets.Checkbox(\n",
    "    value=False,\n",
    "    description=\"Print log in Notebook's cells\",\n",
    "    disabled=False,\n",
    "    style={'description_width': 'initial'},\n",
    ")\n",
    "\n",
    "config = {\"log_cell\": checkbox_logprint_in_cell}\n",
    "\n",
    "output = widgets.Output()\n",
    "\n",
    "@output.capture()\n",
    "def change_checkbox_logprint_in_cell(change):\n",
    "    logprint(\"Changed Logprint Checkbox to: \" + str(change.new))\n",
    "    \n",
    "checkbox_logprint_in_cell.observe(change_checkbox_logprint_in_cell, 'value')\n",
    "\n",
    "box = widgets.VBox([checkbox_logprint_in_cell, output])\n",
    "\n",
    "display(box)\n",
    "\n"
   ]
  },
  {
   "cell_type": "markdown",
   "metadata": {},
   "source": [
    "## Motor Calibration"
   ]
  },
  {
   "cell_type": "markdown",
   "metadata": {},
   "source": [
    "### Write in the Text Box, separated by spaces, every motor name that should be initialized.\n",
    "\n",
    "###### PS: Do not use any other character separation other than spaces!"
   ]
  },
  {
   "cell_type": "code",
   "execution_count": null,
   "metadata": {},
   "outputs": [],
   "source": [
    "config"
   ]
  },
  {
   "cell_type": "code",
   "execution_count": null,
   "metadata": {},
   "outputs": [],
   "source": [
    "start_motor_button_box = StartMotorsButton(config)\n",
    "start_motor_button_box.display_start_button()"
   ]
  },
  {
   "cell_type": "markdown",
   "metadata": {},
   "source": [
    "### Write in the \"Number Text Box\" the absolute target value desired for the motor "
   ]
  },
  {
   "cell_type": "code",
   "execution_count": null,
   "metadata": {},
   "outputs": [],
   "source": [
    "start_motor_button_box.display_motors_targ_buttons()"
   ]
  },
  {
   "cell_type": "markdown",
   "metadata": {},
   "source": [
    "### Write in the Text Box, separated by spaces, every motor PV name that should be monitored.\n",
    "\n",
    "###### PS: Do not use any other character separation other than spaces!"
   ]
  },
  {
   "cell_type": "code",
   "execution_count": null,
   "metadata": {},
   "outputs": [],
   "source": [
    "motor_monitor = MotorsMonitor(config)\n",
    "motor_monitor.display_monitor_motors()"
   ]
  },
  {
   "cell_type": "code",
   "execution_count": null,
   "metadata": {},
   "outputs": [],
   "source": [
    "# from py4syn.utils.scan import scan\n",
    "# scan(cnew_motor, 10, 5, 10, 0.1)"
   ]
  },
  {
   "cell_type": "code",
   "execution_count": null,
   "metadata": {},
   "outputs": [],
   "source": [
    "pv_monitor = PVMonitor(config)\n",
    "pv_monitor.display_monitor_pvs()"
   ]
  },
  {
   "cell_type": "markdown",
   "metadata": {},
   "source": [
    "## Call Scan"
   ]
  },
  {
   "cell_type": "code",
   "execution_count": null,
   "metadata": {},
   "outputs": [],
   "source": [
    "# import matplotlib\n",
    "# matplotlib.get_backend()"
   ]
  },
  {
   "cell_type": "code",
   "execution_count": null,
   "metadata": {},
   "outputs": [],
   "source": [
    "%pylab\n",
    "\n",
    "%run untitled.py"
   ]
  },
  {
   "cell_type": "code",
   "execution_count": null,
   "metadata": {},
   "outputs": [],
   "source": [
    "import matplotlib.pyplot as plt\n",
    "import multiprocessing\n",
    "from queue import Empty\n",
    "from haha import call\n",
    "\n",
    "# queue = None\n",
    "\n",
    "%matplotlib\n",
    "\n",
    "%tb\n",
    "\n",
    "def poll_draw(queue, fig):\n",
    "    def call_back(arg=None):\n",
    "        try:\n",
    "            while 1:\n",
    "                try:\n",
    "                    command = queue.get_nowait()\n",
    "                except Empty:\n",
    "                    break\n",
    "\n",
    "                cmd = command['cmd']\n",
    "                try:\n",
    "                    idx = command['idx']\n",
    "                except:\n",
    "                    idx = -1\n",
    "\n",
    "                if(cmd == \"plot\"):\n",
    "                    x = np.linspace(0, 6*np.pi, 100)\n",
    "                    y = np.sin(x)\n",
    "\n",
    "                    ax = fig.add_subplot(111)\n",
    "                    line1, = ax.plot(x, y, 'r-') \n",
    "                else:\n",
    "                    pass # not implemented\n",
    "\n",
    "            self.fig.canvas.draw()\n",
    "            self.fig.canvas.flush_events()\n",
    "        except Exception as e:\n",
    "            pass\n",
    "        return True\n",
    "    return call_back\n",
    "\n",
    "if __name__ == '__main__':\n",
    "    \n",
    "    \n",
    "#     __spec__ = None\n",
    "    fig = plt.figure()\n",
    "    print(\"he\")\n",
    "    title = 'ha'\n",
    "    plotsCount = 0\n",
    "    ctx = multiprocessing.get_context('fork')  # @UndefinedVariable\n",
    "    plot_queue =  ctx.Queue()\n",
    "    plot_process = ctx.Process(target=call, args=(plot_queue, title, fig))\n",
    "    plot_process.daemon = True\n",
    "    plot_process.start()\n",
    "    \n",
    "    plot_process.join()"
   ]
  },
  {
   "cell_type": "code",
   "execution_count": null,
   "metadata": {},
   "outputs": [],
   "source": [
    "matplotlib.rcsetup.all_backends"
   ]
  },
  {
   "cell_type": "code",
   "execution_count": null,
   "metadata": {},
   "outputs": [],
   "source": [
    "# %matplotlib\n",
    "\n",
    "import matplotlib\n",
    "\n",
    "matplotlib.use(\"TkAgg\", force=True)\n",
    "\n",
    "import matplotlib.pyplot as plt\n",
    "\n",
    "import py4syn.utils.plotter\n",
    "py4syn.utils.plotter.main()"
   ]
  },
  {
   "cell_type": "code",
   "execution_count": null,
   "metadata": {},
   "outputs": [],
   "source": [
    "main_module = sys.modules['__main__']\n",
    "main_mod_name = getattr(main_module.__spec__, \"name\", None)\n",
    "main_mod_name"
   ]
  },
  {
   "cell_type": "code",
   "execution_count": null,
   "metadata": {},
   "outputs": [],
   "source": [
    "%matplotlib\n",
    "\n",
    "scan -c default --start 0 --end 1 --step-or-point 0.1 --time 0.1 --motor solm1"
   ]
  },
  {
   "cell_type": "code",
   "execution_count": null,
   "metadata": {},
   "outputs": [],
   "source": [
    "%matplotlib\n",
    "import sys\n",
    "\n",
    "if __name__ == '__main__':\n",
    "#     subprocess.Popen([\"/home/gabriel.andrade/work/scan-utils/scan\", \"-c\", \"default\", \"--start\", \"0\", \"--end\", \"1\", \"--step-or-point\", \"0.1\", \"--time\", \"0.1\", \"--motor\", \"solm1\"])\n",
    "    \n",
    "    from scan_utils.scan import runScan\n",
    "    import pylab\n",
    "    \n",
    "    sys.argv = ['-f'] + [\"-c\", \"default\", \"--start\", \"0\", \"--end\", \"1\", \"--step-or-point\", \"0.1\", \"--time\", \"0.1\", \"--motor\", \"solm1\"]\n",
    "    %tb\n",
    "    runScan()\n",
    "\n",
    "#     pylab.show()"
   ]
  },
  {
   "cell_type": "code",
   "execution_count": null,
   "metadata": {},
   "outputs": [],
   "source": [
    "%%script bash --bg --out output\n",
    "echo \"ha\"\n",
    "cd /home/gabriel.andrade/work/scan-gui/\n",
    "./scan_gui"
   ]
  },
  {
   "cell_type": "code",
   "execution_count": null,
   "metadata": {},
   "outputs": [],
   "source": [
    "!cd ~/work/scan-gui/ && ./scan_gui"
   ]
  },
  {
   "cell_type": "code",
   "execution_count": null,
   "metadata": {
    "scrolled": false
   },
   "outputs": [],
   "source": [
    "scan_but = ScanButton(config)\n",
    "scan_but.display_scan()"
   ]
  },
  {
   "cell_type": "code",
   "execution_count": null,
   "metadata": {},
   "outputs": [],
   "source": [
    "ha = 2"
   ]
  },
  {
   "cell_type": "markdown",
   "metadata": {},
   "source": [
    "## Plotting data"
   ]
  },
  {
   "cell_type": "markdown",
   "metadata": {},
   "source": [
    "### Plotly\n",
    "\n",
    "Plotly is a great library for plotting data in a Jupyter Notebook.\n",
    "\n",
    "Informations and examples of how to use this library can be found in https://plot.ly/python/\n",
    "\n",
    "\n",
    "#### Simple scatter plot example:"
   ]
  },
  {
   "cell_type": "code",
   "execution_count": null,
   "metadata": {
    "scrolled": true
   },
   "outputs": [],
   "source": [
    "# Enable offline plots from plotly\n",
    "py.init_notebook_mode(connected=True)\n",
    "\n",
    "# Read sample csv file with pandas library (CSV example obatained from https://catalog.data.gov/dataset/age-adjusted-death-rates-for-the-top-10-leading-causes-of-death-united-states-2013/resource/0e603f1d-31bf-4809-8f10-a994b305b379)\n",
    "df = pd.read_csv('sample-data.csv')\n",
    "\n",
    "# Let's plot the number of total deaths for every USA state\n",
    "data = df.groupby('State').sum().reset_index()\n",
    "\n",
    "# Looking at our data, there is a United States row that includes the sum of all states, we should remove this row\n",
    "for i in range(len(data.index) - 1):\n",
    "    if data.iloc[i]['State'] == 'United States':\n",
    "        data = data.drop(i, axis=0)\n",
    "\n",
    "# Create a Scatter graph\n",
    "trace1 = go.Scatter(\n",
    "                    x=data['State'], y=data['Deaths'], # Data\n",
    "                    mode='lines+markers', name='logx' # Additional options\n",
    "                   )\n",
    "\n",
    "# Create a Layout for the graph\n",
    "layout = go.Layout(title='Number of deaths for every USA State',\n",
    "                   plot_bgcolor='rgb(230, 230, 230)')\n",
    "\n",
    "# Create a figure to be plotted\n",
    "fig = go.FigureWidget(data=[trace1], layout=layout)\n",
    "\n",
    "# Plot figure in the notebook\n",
    "df.columns"
   ]
  },
  {
   "cell_type": "code",
   "execution_count": null,
   "metadata": {},
   "outputs": [],
   "source": []
  },
  {
   "cell_type": "code",
   "execution_count": null,
   "metadata": {},
   "outputs": [],
   "source": [
    "x = np.arange(1000) * 1/2\n",
    "y = x * 2 + 9\n",
    "\n",
    "s = pd.DataFrame({'x':x, 'y':y})\n",
    "s"
   ]
  },
  {
   "cell_type": "code",
   "execution_count": null,
   "metadata": {},
   "outputs": [],
   "source": [
    "default_name = 'scans/test_0012'\n",
    "\n",
    "df = pd.read_csv(default_name, sep=' ', comment='#', header=None)\n",
    "\n",
    "labels = []\n",
    "with open(default_name) as file:\n",
    "    for i, line in enumerate(file):\n",
    "        if i == 7:\n",
    "            labels = line.split(' ')[1:]\n",
    "\n",
    "labels = list(filter(lambda x: x != '', labels))\n",
    "\n",
    "filtered_label = []\n",
    "\n",
    "for item in labels:\n",
    "    filtered_label.append(item.rstrip('\\n'))\n",
    "    print(item)\n",
    "\n",
    "df.columns = pd.Index(filtered_label, dtype='object')\n",
    "df[df.columns[2]].values"
   ]
  },
  {
   "cell_type": "code",
   "execution_count": null,
   "metadata": {},
   "outputs": [],
   "source": [
    "import json\n",
    "\n",
    "j = json.load(open(\"./save\"))\n",
    "len(j['listMotors']['value'])"
   ]
  },
  {
   "cell_type": "code",
   "execution_count": null,
   "metadata": {
    "scrolled": true
   },
   "outputs": [],
   "source": [
    "trace1 = go.Scatter(\n",
    "                    x=df.index.values, y=df['ringcurrent'], # Data\n",
    "                    mode='lines+markers', name='line' # Additional options\n",
    "                   )\n",
    "\n",
    "# Create a Layout for the graph\n",
    "layout = go.Layout(title='Number of deaths for every USA State',\n",
    "                   plot_bgcolor='rgb(230, 230, 230)')\n",
    "\n",
    "# Create a figure to be plotted\n",
    "fig = go.FigureWidget(data=[trace1], layout=layout)"
   ]
  },
  {
   "cell_type": "code",
   "execution_count": 20,
   "metadata": {
    "scrolled": false
   },
   "outputs": [
    {
     "ename": "NameError",
     "evalue": "name 'config' is not defined",
     "output_type": "error",
     "traceback": [
      "\u001b[0;31m---------------------------------------------------------------------------\u001b[0m",
      "\u001b[0;31mNameError\u001b[0m                                 Traceback (most recent call last)",
      "\u001b[0;32m<ipython-input-8-368816e40af3>\u001b[0m in \u001b[0;36m<module>\u001b[0;34m\u001b[0m\n\u001b[0;32m----> 1\u001b[0;31m \u001b[0mscan_save\u001b[0m \u001b[0;34m=\u001b[0m \u001b[0mMonitorScanSave\u001b[0m\u001b[0;34m(\u001b[0m\u001b[0mconfig\u001b[0m\u001b[0;34m)\u001b[0m\u001b[0;34m\u001b[0m\u001b[0m\n\u001b[0m\u001b[1;32m      2\u001b[0m \u001b[0mscan_save\u001b[0m\u001b[0;34m.\u001b[0m\u001b[0mdisplay_start_button\u001b[0m\u001b[0;34m(\u001b[0m\u001b[0;34m)\u001b[0m\u001b[0;34m\u001b[0m\u001b[0m\n",
      "\u001b[0;31mNameError\u001b[0m: name 'config' is not defined"
     ]
    },
    {
     "data": {
      "application/vnd.jupyter.widget-view+json": {
       "model_id": "29104debe90f4c53816d7a41d7ae6842",
       "version_major": 2,
       "version_minor": 0
      },
      "text/plain": [
       "FigureWidget({\n",
       "    'data': [{'mode': 'lines+markers',\n",
       "              'name': 'line1',\n",
       "              'type': 'sc…"
      ]
     },
     "metadata": {},
     "output_type": "display_data"
    }
   ],
   "source": [
    "import threading\n",
    "from IPython.display import display\n",
    "import ipywidgets as widgets\n",
    "import time\n",
    "import pandas\n",
    "\n",
    "import json\n",
    "\n",
    "j = json.load(open(\"./save\"))\n",
    "j['listMotors']['value']\n",
    "\n",
    "progress = widgets.FloatProgress(value=0.0, min=0.0, max=1.0)\n",
    "\n",
    "trace1 = go.Scatter(\n",
    "                    x=[], y=[], # Data\n",
    "                    mode='lines+markers', name='line1' # Additional options\n",
    "                   )\n",
    "\n",
    "trace2 = go.Scatter(\n",
    "                    x=[], y=[], # Data\n",
    "                    mode='lines+markers', name='line2' # Additional options\n",
    "                   )\n",
    "\n",
    "# Create a Layout for the graph\n",
    "layout = go.Layout(title='Scan',\n",
    "                   plot_bgcolor='rgb(230, 230, 230)')\n",
    "\n",
    "# Create a figure to be plotted\n",
    "fig = go.FigureWidget(data=[trace1, trace2], layout=layout)\n",
    "\n",
    "def update_pd(default_name, label):\n",
    "    try:\n",
    "        df = pd.read_csv(default_name, sep=' ', comment='#', header=None)\n",
    "    except Exception as e:\n",
    "        return pd.DataFrame(), label\n",
    "\n",
    "    filtered_label = label\n",
    "    if not label:\n",
    "        labels = []\n",
    "        with open(default_name) as file:\n",
    "            for i, line in enumerate(file):\n",
    "                if i == 8:\n",
    "                    labels = line.split(' ')[1:]\n",
    "\n",
    "        labels = list(filter(lambda x: x != '', labels))\n",
    "\n",
    "        for item in labels:\n",
    "            filtered_label.append(item.rstrip('\\n'))\n",
    "        \n",
    "        label = filtered_label\n",
    "\n",
    "    df.columns = pd.Index(filtered_label, dtype='object')\n",
    "    return df, label\n",
    "\n",
    "def work(figure, default_name, js):\n",
    "    total = 200\n",
    "    label = []\n",
    "    \n",
    "    for i in range(total):\n",
    "        df, label = update_pd(default_name, label)\n",
    "#         print(df)\n",
    "        if df.empty:\n",
    "            continue\n",
    "\n",
    "        number_motors = len(js['listMotors']['value'])\n",
    "\n",
    "        for i in range(len(df.columns) - number_motors): \n",
    "#             print(i)\n",
    "    #         print(len(figure['data']))\n",
    "            figure['data'][i]['x'] = df.index.values\n",
    "            figure['data'][i]['y'] = df[df.columns[number_motors + i]].values\n",
    "        \n",
    "        time.sleep(1)\n",
    "%tb\n",
    "        \n",
    "thread = threading.Thread(target=work, args=(fig, \"/home/gabriel.andrade/work/jupy4syn/scans/plot_0025\", j))\n",
    "display(fig)\n",
    "thread.start()"
   ]
  },
  {
   "cell_type": "code",
   "execution_count": null,
   "metadata": {},
   "outputs": [],
   "source": [
    "progress = widgets.FloatProgress(value=0.0, min=0.0, max=1.0)\n",
    "\n",
    "def work(progress):\n",
    "    total = 100\n",
    "    for i in range(total):\n",
    "        time.sleep(0.2)\n",
    "        progress.value = float(i+1)/total\n",
    "\n",
    "thread = threading.Thread(target=work, args=(progress,))\n",
    "display(progress)\n",
    "thread.start()"
   ]
  },
  {
   "cell_type": "code",
   "execution_count": null,
   "metadata": {},
   "outputs": [],
   "source": [
    "fig['data'][1]['y']"
   ]
  },
  {
   "cell_type": "code",
   "execution_count": null,
   "metadata": {},
   "outputs": [],
   "source": [
    "%tb\n",
    "work(fig, \"/home/gabriel.andrade/work/jupy4syn/scans/plot_0006\", j)"
   ]
  },
  {
   "cell_type": "code",
   "execution_count": null,
   "metadata": {
    "scrolled": false
   },
   "outputs": [],
   "source": [
    "fig['data'][0]['y']"
   ]
  },
  {
   "cell_type": "code",
   "execution_count": 7,
   "metadata": {},
   "outputs": [],
   "source": [
    "import json\n",
    "import os\n",
    "\n",
    "class MonitorScanSave(widgets.Button):\n",
    "    \n",
    "    def __init__(self, config, *args, **kwargs):\n",
    "        widgets.Button.__init__(self, *args, **kwargs)\n",
    "        \n",
    "        # Config\n",
    "        self.config = config\n",
    "        \n",
    "        # class Button values for MonitorScanSave\n",
    "        self.description='Start Scanning Plot'\n",
    "        self.disabled=False\n",
    "        self.button_style='success'\n",
    "        self.tooltip='Click me'\n",
    "        self.icon=''\n",
    "        self.layout = widgets.Layout(width='300px')\n",
    "        \n",
    "        # Scan save file and directory\n",
    "        self.scan_save_dir = '/home/gabriel.andrade/work/.tmp/solshua/'\n",
    "        self.scan_save_file = 'haha.save'\n",
    "\n",
    "        self.scan_path = Path(self.scan_save_dir + self.scan_save_file)\n",
    "        \n",
    "        # Logging\n",
    "        self.output = widgets.Output()\n",
    "        \n",
    "        # Threading\n",
    "        self.monitor = False\n",
    "        self.thread = threading.Thread(target=self.monitor_save_file)\n",
    "        \n",
    "        # Set callback function for click event\n",
    "        self.on_click(self._start_button)\n",
    "        \n",
    "        # Widgets displays\n",
    "        self.start_button = widgets.VBox([self])\n",
    "        \n",
    "        \n",
    "    @staticmethod\n",
    "    def _start_button(b):\n",
    "        # Clear previous logs outputs\n",
    "        b.output.clear_output()\n",
    "        \n",
    "        # with statement to output logs in stdou (if this option is enabled)\n",
    "        with b.output:\n",
    "            if b.monitor:\n",
    "                # Change button to a \"clicked status\"\n",
    "                b.disabled = True\n",
    "                b.button_style = ''\n",
    "                b.description='Stopping...'\n",
    "                \n",
    "                # We should sleep for some time to give some responsiveness to the user\n",
    "                time.sleep(0.5)\n",
    "\n",
    "                # Stop thread to monitor the save file\n",
    "                try:\n",
    "                    logprint(\"Stopping thread\", config=b.config)\n",
    "                    b.thread.join()\n",
    "                except Exception as e:\n",
    "                    # If any error occurs, log that but dont stop code exection\n",
    "                    logprint(\"Error in stopping thread\", \"[ERROR]\", config=b.config)\n",
    "                    logprint(str(e), \"[ERROR]\", config=b.config)\n",
    "\n",
    "                # Change button layout monitoring\n",
    "                b.disabled = False\n",
    "                b.button_style = 'success'\n",
    "                b.description='Start Scanning Plot'\n",
    "            else:\n",
    "                # Change button to a \"clicked status\"\n",
    "                b.disabled = True\n",
    "                b.button_style = ''\n",
    "                b.description='Starting...'\n",
    "                \n",
    "                # We should sleep for some time to give some responsiveness to the user\n",
    "                time.sleep(0.5)\n",
    "\n",
    "                # Start thread to monitor the save file\n",
    "                try:\n",
    "                    logprint(\"Starting thread\", config=b.config)\n",
    "                    b.thread.start()\n",
    "                except Exception as e:\n",
    "                    # If any error occurs, log that but dont stop code exection\n",
    "                    logprint(\"Error in starting thread\", \"[ERROR]\", config=b.config)\n",
    "                    logprint(str(e), \"[ERROR]\", config=b.config)\n",
    "\n",
    "                # Change button layout monitoring\n",
    "                b.disabled = False\n",
    "                b.button_style = 'danger'\n",
    "                b.description='Stop Scanning Plot'\n",
    "            \n",
    "            # Change button monitor status\n",
    "            b.monitor = not b.monitor\n",
    "    \n",
    "    def monitor_save_file(self):\n",
    "        with self.output:\n",
    "            while self.monitor:\n",
    "                logprint(\"haha\", config=self.config)\n",
    "                if self.scan_path.is_file():\n",
    "                    logprint(\"ha\", config=self.config)\n",
    "                    save_file = []\n",
    "                    with open(str(self.scan_path)) as file:\n",
    "                        try: \n",
    "                             save_file = json.load(file)\n",
    "                        except ValueError: \n",
    "                             pass\n",
    "                    logprint(\"ha1\", config=self.config)\n",
    "                    os.remove(str(self.scan_path))\n",
    "                    logprint(\"ha2\", config=self.config)\n",
    "\n",
    "                # Call graph\n",
    "                time.sleep(0.5)\n",
    "    \n",
    "    def display_start_button(self):\n",
    "        display(self.start_button, self.output)\n"
   ]
  },
  {
   "cell_type": "code",
   "execution_count": 21,
   "metadata": {},
   "outputs": [
    {
     "data": {
      "application/vnd.jupyter.widget-view+json": {
       "model_id": "9853e60b44e543bba2af3a42573bc0b9",
       "version_major": 2,
       "version_minor": 0
      },
      "text/plain": [
       "VBox(children=(MonitorScanSave(button_style='success', description='Start Scanning Plot', layout=Layout(width=…"
      ]
     },
     "metadata": {},
     "output_type": "display_data"
    },
    {
     "data": {
      "application/vnd.jupyter.widget-view+json": {
       "model_id": "6e08392bf217418d94728143d1f341a1",
       "version_major": 2,
       "version_minor": 0
      },
      "text/plain": [
       "Output()"
      ]
     },
     "metadata": {},
     "output_type": "display_data"
    }
   ],
   "source": [
    "scan_save = MonitorScanSave(config)\n",
    "scan_save.display_start_button()"
   ]
  },
  {
   "cell_type": "code",
   "execution_count": null,
   "metadata": {},
   "outputs": [],
   "source": [
    "scan_save_dir = '/home/gabriel.andrade/work/.tmp/solshua/'\n",
    "scan_save_file = 'haha.save'\n",
    "\n",
    "scan_path = Path(scan_save_dir + scan_save_file)\n",
    "scan_path.is_file()"
   ]
  },
  {
   "cell_type": "code",
   "execution_count": null,
   "metadata": {},
   "outputs": [],
   "source": [
    "scan_save.monitor"
   ]
  }
 ],
 "metadata": {
  "kernelspec": {
   "display_name": "Python 3",
   "language": "python",
   "name": "python3"
  },
  "language_info": {
   "codemirror_mode": {
    "name": "ipython",
    "version": 3
   },
   "file_extension": ".py",
   "mimetype": "text/x-python",
   "name": "python",
   "nbconvert_exporter": "python",
   "pygments_lexer": "ipython3",
   "version": "3.5.3"
  }
 },
 "nbformat": 4,
 "nbformat_minor": 2
}
