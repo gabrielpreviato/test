{
 "cells": [
  {
   "cell_type": "markdown",
   "metadata": {},
   "source": [
    "# LINHA <> - Caderno de Operação\n",
    "\n",
    "## Caderno de Inicialização e Calibração inicial da Linha de Luz\n",
    "\n",
    "### Técnico responsável:"
   ]
  },
  {
   "cell_type": "markdown",
   "metadata": {},
   "source": [
    "Texto inicial\n",
    "\n",
    "\n",
    "\n",
    "\n",
    "\n",
    "\n",
    "\n",
    "\n"
   ]
  },
  {
   "cell_type": "markdown",
   "metadata": {},
   "source": [
    "## Notebook Initialization\n",
    "\n",
    "The next cell loads the <b><i>util.ipynb</i></b> notebook, which provides functions and classes to connect the IJupyter and EPICS interfaces.\n",
    "\n",
    "<sup><sup>Any bug or unexpected behavior from any of these functions and classes, please contact SOL.</sup></sup>"
   ]
  },
  {
   "cell_type": "code",
   "execution_count": 1,
   "metadata": {},
   "outputs": [],
   "source": [
    "import io, os, sys, types\n",
    "from IPython import get_ipython\n",
    "import nbformat\n",
    "from IPython.core.interactiveshell import InteractiveShell\n",
    "\n",
    "\n",
    "def find_notebook(fullname, path=None):\n",
    "    \"\"\"find a notebook, given its fully qualified name and an optional path\n",
    "\n",
    "    This turns \"foo.bar\" into \"foo/bar.ipynb\"\n",
    "    and tries turning \"Foo_Bar\" into \"Foo Bar\" if Foo_Bar\n",
    "    does not exist.\n",
    "    \"\"\"\n",
    "    name = fullname.rsplit('.', 1)[-1]\n",
    "    if not path:\n",
    "        path = ['']\n",
    "    for d in path:\n",
    "        nb_path = os.path.join(d, name + \".ipynb\")\n",
    "        if os.path.isfile(nb_path):\n",
    "            return nb_path\n",
    "        # let import Notebook_Name find \"Notebook Name.ipynb\"\n",
    "        nb_path = nb_path.replace(\"_\", \" \")\n",
    "        if os.path.isfile(nb_path):\n",
    "            return nb_path\n",
    "\n",
    "\n",
    "class NotebookLoader(object):\n",
    "    \"\"\"Module Loader for Jupyter Notebooks\"\"\"\n",
    "    def __init__(self, path=None):\n",
    "        self.shell = InteractiveShell.instance()\n",
    "        self.path = path\n",
    "\n",
    "    def load_module(self, fullname):\n",
    "        \"\"\"import a notebook as a module\"\"\"\n",
    "        path = find_notebook(fullname, self.path)\n",
    "\n",
    "        print (\"importing Jupyter notebook from %s\" % path)\n",
    "\n",
    "        # load the notebook object\n",
    "        with io.open(path, 'r', encoding='utf-8') as f:\n",
    "            nb = nbformat.read(f, nbformat.NO_CONVERT)\n",
    "\n",
    "\n",
    "        # create the module and add it to sys.modules\n",
    "        # if name in sys.modules:\n",
    "        #    return sys.modules[name]\n",
    "        mod = types.ModuleType(fullname)\n",
    "        mod.__file__ = path\n",
    "        mod.__loader__ = self\n",
    "        mod.__dict__['get_ipython'] = get_ipython\n",
    "        sys.modules[fullname] = mod\n",
    "\n",
    "        # extra work to ensure that magics that would affect the user_ns\n",
    "        # actually affect the notebook module's ns\n",
    "        save_user_ns = self.shell.user_ns\n",
    "        self.shell.user_ns = mod.__dict__\n",
    "\n",
    "        try:\n",
    "            for cell in nb.cells:\n",
    "                if cell.cell_type == 'code':\n",
    "                    # transform the input to executable Python\n",
    "                    code = self.shell.input_transformer_manager.transform_cell(cell.source)\n",
    "                    # run the code in themodule\n",
    "                    exec(code, mod.__dict__)\n",
    "        finally:\n",
    "            self.shell.user_ns = save_user_ns\n",
    "        return mod\n",
    "\n",
    "\n",
    "class NotebookFinder(object):\n",
    "    \"\"\"Module finder that locates Jupyter Notebooks\"\"\"\n",
    "    def __init__(self):\n",
    "        self.loaders = {}\n",
    "\n",
    "    def find_module(self, fullname, path=None):\n",
    "        nb_path = find_notebook(fullname, path)\n",
    "        if not nb_path:\n",
    "            return\n",
    "\n",
    "        key = path\n",
    "        if path:\n",
    "            # lists aren't hashable\n",
    "            key = os.path.sep.join(path)\n",
    "\n",
    "        if key not in self.loaders:\n",
    "            self.loaders[key] = NotebookLoader(path)\n",
    "        return self.loaders[key]\n",
    "\n",
    "sys.meta_path.append(NotebookFinder())"
   ]
  },
  {
   "cell_type": "code",
   "execution_count": 2,
   "metadata": {
    "scrolled": true
   },
   "outputs": [
    {
     "name": "stdout",
     "output_type": "stream",
     "text": [
      "importing Jupyter notebook from util.ipynb\n"
     ]
    },
    {
     "data": {
      "text/html": [
       "<script type=\"text/javascript\">window.PlotlyConfig = {MathJaxConfig: 'local'};</script><script type=\"text/javascript\">if (window.MathJax) {MathJax.Hub.Config({SVG: {font: \"STIX-Web\"}});}</script><script>requirejs.config({paths: { 'plotly': ['https://cdn.plot.ly/plotly-latest.min']},});if(!window._Plotly) {require(['plotly'],function(plotly) {window._Plotly=plotly;});}</script>"
      ],
      "text/vnd.plotly.v1+html": [
       "<script type=\"text/javascript\">window.PlotlyConfig = {MathJaxConfig: 'local'};</script><script type=\"text/javascript\">if (window.MathJax) {MathJax.Hub.Config({SVG: {font: \"STIX-Web\"}});}</script><script>requirejs.config({paths: { 'plotly': ['https://cdn.plot.ly/plotly-latest.min']},});if(!window._Plotly) {require(['plotly'],function(plotly) {window._Plotly=plotly;});}</script>"
      ]
     },
     "metadata": {},
     "output_type": "display_data"
    }
   ],
   "source": [
    "from util import *"
   ]
  },
  {
   "cell_type": "markdown",
   "metadata": {},
   "source": [
    "## Configuration Cell"
   ]
  },
  {
   "cell_type": "markdown",
   "metadata": {},
   "source": [
    "Check the boxes to set some notebook's configuration"
   ]
  },
  {
   "cell_type": "code",
   "execution_count": 3,
   "metadata": {
    "codeCellConfig": {
     "codeFolding": true,
     "lineNumbers": true
    }
   },
   "outputs": [
    {
     "data": {
      "application/vnd.jupyter.widget-view+json": {
       "model_id": "bc3cd78fe62d47028b1ad1724a745122",
       "version_major": 2,
       "version_minor": 0
      },
      "text/plain": [
       "VBox(children=(Checkbox(value=False, description=\"Print log in Notebook's cells\", style=DescriptionStyle(descr…"
      ]
     },
     "metadata": {},
     "output_type": "display_data"
    }
   ],
   "source": [
    "checkbox_logprint_in_cell = widgets.Checkbox(\n",
    "    value=False,\n",
    "    description=\"Print log in Notebook's cells\",\n",
    "    disabled=False,\n",
    "    style={'description_width': 'initial'},\n",
    ")\n",
    "\n",
    "config = {\"log_cell\": checkbox_logprint_in_cell}\n",
    "\n",
    "output = widgets.Output()\n",
    "\n",
    "@output.capture()\n",
    "def change_checkbox_logprint_in_cell(change):\n",
    "    logprint(\"Changed Logprint Checkbox to: \" + str(change.new))\n",
    "    \n",
    "checkbox_logprint_in_cell.observe(change_checkbox_logprint_in_cell, 'value')\n",
    "\n",
    "box = widgets.VBox([checkbox_logprint_in_cell, output])\n",
    "\n",
    "display(box)\n",
    "\n",
    "plots_list = []\n"
   ]
  },
  {
   "cell_type": "markdown",
   "metadata": {},
   "source": [
    "## Motor Calibration"
   ]
  },
  {
   "cell_type": "markdown",
   "metadata": {},
   "source": [
    "### Write in the Text Box, separated by spaces, every motor name that should be initialized.\n",
    "\n",
    "###### PS: Do not use any other character separation other than spaces!"
   ]
  },
  {
   "cell_type": "code",
   "execution_count": 4,
   "metadata": {},
   "outputs": [
    {
     "data": {
      "text/plain": [
       "{'log_cell': Checkbox(value=False, description=\"Print log in Notebook's cells\", style=DescriptionStyle(description_width='initial'))}"
      ]
     },
     "execution_count": 4,
     "metadata": {},
     "output_type": "execute_result"
    }
   ],
   "source": [
    "config"
   ]
  },
  {
   "cell_type": "code",
   "execution_count": 5,
   "metadata": {},
   "outputs": [
    {
     "data": {
      "application/vnd.jupyter.widget-view+json": {
       "model_id": "38df864c1b5642d4acc07e008c11b8e7",
       "version_major": 2,
       "version_minor": 0
      },
      "text/plain": [
       "VBox(children=(Textarea(value='', placeholder='Example: IOC:m1 IOC:m3 LNLS:TEST:motor_g3'), StartMotorsButton(…"
      ]
     },
     "metadata": {},
     "output_type": "display_data"
    },
    {
     "data": {
      "application/vnd.jupyter.widget-view+json": {
       "model_id": "70d218ddf67745d9aa760e3ae18a3a75",
       "version_major": 2,
       "version_minor": 0
      },
      "text/plain": [
       "Output()"
      ]
     },
     "metadata": {},
     "output_type": "display_data"
    }
   ],
   "source": [
    "start_motor_button_box = StartMotorsButton(config)\n",
    "start_motor_button_box.display_start_button()"
   ]
  },
  {
   "cell_type": "markdown",
   "metadata": {},
   "source": [
    "### Write in the \"Number Text Box\" the absolute target value desired for the motor "
   ]
  },
  {
   "cell_type": "code",
   "execution_count": 6,
   "metadata": {},
   "outputs": [
    {
     "data": {
      "application/vnd.jupyter.widget-view+json": {
       "model_id": "3824d9b6a671434086ce3b3cde1c5ef3",
       "version_major": 2,
       "version_minor": 0
      },
      "text/plain": [
       "VBox(children=(Label(value='No motors initilized to be showed.'),))"
      ]
     },
     "metadata": {},
     "output_type": "display_data"
    }
   ],
   "source": [
    "start_motor_button_box.display_motors_targ_buttons()"
   ]
  },
  {
   "cell_type": "markdown",
   "metadata": {},
   "source": [
    "### Write in the Text Box, separated by spaces, every motor PV name that should be monitored.\n",
    "\n",
    "###### PS: Do not use any other character separation other than spaces!"
   ]
  },
  {
   "cell_type": "code",
   "execution_count": 7,
   "metadata": {},
   "outputs": [
    {
     "data": {
      "application/vnd.jupyter.widget-view+json": {
       "model_id": "df9dabfbd1254364b969a3b382ac2231",
       "version_major": 2,
       "version_minor": 0
      },
      "text/plain": [
       "VBox(children=(MotorsMonitor(button_style='success', description='Start Motor Monitoring', layout=Layout(width…"
      ]
     },
     "metadata": {},
     "output_type": "display_data"
    },
    {
     "data": {
      "application/vnd.jupyter.widget-view+json": {
       "model_id": "928e881efc9944eda1246f588317fb45",
       "version_major": 2,
       "version_minor": 0
      },
      "text/plain": [
       "Output()"
      ]
     },
     "metadata": {},
     "output_type": "display_data"
    }
   ],
   "source": [
    "motor_monitor = MotorsMonitor(config)\n",
    "motor_monitor.display_monitor_motors()"
   ]
  },
  {
   "cell_type": "code",
   "execution_count": 8,
   "metadata": {},
   "outputs": [],
   "source": [
    "# from py4syn.utils.scan import scan\n",
    "# scan(cnew_motor, 10, 5, 10, 0.1)"
   ]
  },
  {
   "cell_type": "code",
   "execution_count": 9,
   "metadata": {},
   "outputs": [
    {
     "data": {
      "application/vnd.jupyter.widget-view+json": {
       "model_id": "855dd7db7b424e7a9db2f99e4d721801",
       "version_major": 2,
       "version_minor": 0
      },
      "text/plain": [
       "VBox(children=(PVMonitor(button_style='success', description='Start PV Monitoring', layout=Layout(width='300px…"
      ]
     },
     "metadata": {},
     "output_type": "display_data"
    },
    {
     "data": {
      "application/vnd.jupyter.widget-view+json": {
       "model_id": "b610a5c5afa342f89100512ac9b99248",
       "version_major": 2,
       "version_minor": 0
      },
      "text/plain": [
       "Output()"
      ]
     },
     "metadata": {},
     "output_type": "display_data"
    }
   ],
   "source": [
    "pv_monitor = PVMonitor(config)\n",
    "pv_monitor.display_monitor_pvs()"
   ]
  },
  {
   "cell_type": "markdown",
   "metadata": {},
   "source": [
    "## Call Scan"
   ]
  },
  {
   "cell_type": "markdown",
   "metadata": {},
   "source": [
    "## Plotting data"
   ]
  },
  {
   "cell_type": "markdown",
   "metadata": {},
   "source": [
    "### Plotly\n",
    "\n",
    "Plotly is a great library for plotting data in a Jupyter Notebook.\n",
    "\n",
    "Informations and examples of how to use this library can be found in https://plot.ly/python/\n",
    "\n",
    "\n",
    "#### Simple scatter plot example:"
   ]
  },
  {
   "cell_type": "code",
   "execution_count": 27,
   "metadata": {},
   "outputs": [],
   "source": [
    "import json\n",
    "import os\n",
    "import threading\n",
    "from IPython.display import display\n",
    "import ipywidgets as widgets\n",
    "import time\n",
    "import pandas\n",
    "import subprocess\n",
    "\n",
    "\n",
    "class MonitorScanSave(widgets.Button):\n",
    "    \n",
    "    def __init__(self, config, plots_list, *args, **kwargs):\n",
    "        widgets.Button.__init__(self, *args, **kwargs)\n",
    "        \n",
    "        # Config\n",
    "        self.config = config\n",
    "        \n",
    "        # class Button values for MonitorScanSave\n",
    "        self.description='Start Scanning Plot'\n",
    "        self.disabled=False\n",
    "        self.button_style='success'\n",
    "        self.tooltip='Click me'\n",
    "        self.icon=''\n",
    "        self.layout = widgets.Layout(width='300px')\n",
    "        \n",
    "        # Scan save file and directory\n",
    "        self.scan_save_dir = '/tmp/'\n",
    "        self.scan_save_file = 'scan_gui.temp'\n",
    "\n",
    "        self.scan_path = Path(self.scan_save_dir + self.scan_save_file)\n",
    "        \n",
    "        # Logging\n",
    "        self.output = widgets.Output()\n",
    "        \n",
    "        # Threading\n",
    "        self.monitor = False\n",
    "        self.thread = None\n",
    "        self.refresh_thread = None\n",
    "        \n",
    "        # Set callback function for click event\n",
    "        self.on_click(self._start_button)\n",
    "        \n",
    "        # Widgets displays\n",
    "        self.start_button = widgets.VBox([self])\n",
    "        \n",
    "        # Clean previous temp config file\n",
    "        try:\n",
    "            os.remove(str(self.scan_path))\n",
    "        except:\n",
    "            pass\n",
    "        \n",
    "        self.checkbox_live_plot = widgets.Checkbox(\n",
    "            value=False,\n",
    "            description=\"Live plot in Jupyter: \",\n",
    "            disabled=False,\n",
    "            style={'description_width': 'initial'},\n",
    "        )\n",
    "        \n",
    "        self.checkbox_final_plot = widgets.Checkbox(\n",
    "            value=False,\n",
    "            description=\"Plot scan-gui graph instead of Jupyter's: \",\n",
    "            disabled=False,\n",
    "            style={'description_width': 'initial'},\n",
    "        )\n",
    "        \n",
    "        \n",
    "        \n",
    "        self.fig = go.FigureWidget()\n",
    "        self.fig_box = widgets.Box()\n",
    "        self.refresh_icon_box = widgets.Box(layout=widgets.Layout(width='40px', height='40px'))\n",
    "        \n",
    "        self.plots_list = plots_list\n",
    "        \n",
    "        self.export = False\n",
    "        self.clear_threads = False\n",
    "        \n",
    "    @staticmethod\n",
    "    def _start_button(b):\n",
    "        # Clear previous logs outputs\n",
    "        b.output.clear_output()\n",
    "        \n",
    "        # with statement to output logs in stdou (if this option is enabled)\n",
    "        with b.output:\n",
    "            if b.monitor:\n",
    "                # Enable checkboxes\n",
    "                b.checkbox_live_plot.disabled = False\n",
    "                b.checkbox_final_plot.disabled = False\n",
    "                \n",
    "                # Change button monitor status\n",
    "                b.monitor = not b.monitor\n",
    "                \n",
    "                # Change button to a \"clicked status\"\n",
    "                b.disabled = True\n",
    "                b.button_style = ''\n",
    "                b.description='Stopping...'\n",
    "                \n",
    "                # We should sleep for some time to give some responsiveness to the user\n",
    "                time.sleep(0.5)\n",
    "\n",
    "                # Stop thread to monitor the save file\n",
    "                try:\n",
    "                    logprint(\"Stopping threads\", config=b.config)\n",
    "                    b.thread.join()\n",
    "                    b.fig_thread.join()\n",
    "                    b.refresh_thread.join()\n",
    "                    \n",
    "                    b.clear_threads = False\n",
    "                except Exception as e:\n",
    "                    # If any error occurs, log that but dont stop code exection\n",
    "                    logprint(\"Error in stopping threads\", \"[ERROR]\", config=b.config)\n",
    "                    logprint(str(e), \"[ERROR]\", config=b.config)\n",
    "\n",
    "                # Change button layout monitoring\n",
    "                b.disabled = False\n",
    "                b.button_style = 'success'\n",
    "                b.description='Start Scanning Plot'\n",
    "            else:\n",
    "                # Disable checkboxes\n",
    "                b.checkbox_live_plot.disabled = True\n",
    "                b.checkbox_final_plot.disabled = True\n",
    "                \n",
    "                p = subprocess.Popen([\"pydm --hide-nav-bar --hide-menu-bar /home/gabriel.andrade/work/scan-gui/scan_gui.py\"],\n",
    "                                     shell=True)\n",
    "                \n",
    "                # Change button monitor status\n",
    "                b.monitor = not b.monitor\n",
    "                \n",
    "                # Change button to a \"clicked status\"\n",
    "                b.disabled = True\n",
    "                b.button_style = ''\n",
    "                b.description='Starting...'\n",
    "                \n",
    "                # We should sleep for some time to give some responsiveness to the user\n",
    "                time.sleep(0.5)\n",
    "                \n",
    "                # Clean previous scans config\n",
    "                try:\n",
    "                    os.remove(str(b.scan_path))\n",
    "                except:\n",
    "                    pass\n",
    "\n",
    "                # Start thread to monitor the save file\n",
    "                try:\n",
    "                    logprint(\"Starting thread\", config=b.config)\n",
    "                    b.thread = threading.Thread(target=b.monitor_save_file)\n",
    "                    b.thread.start()\n",
    "                except Exception as e:\n",
    "                    # If any error occurs, log that but dont stop code exection\n",
    "                    logprint(\"Error in starting thread\", \"[ERROR]\", config=b.config)\n",
    "                    logprint(str(e), \"[ERROR]\", config=b.config)\n",
    "\n",
    "                # Change button layout monitoring\n",
    "                b.disabled = False\n",
    "                b.button_style = 'danger'\n",
    "                b.description='Stop Scanning Plot'\n",
    "            \n",
    "    \n",
    "    def monitor_save_file(self):\n",
    "        with self.output:\n",
    "            while self.monitor:\n",
    "                if self.scan_path.is_file():\n",
    "                    # Started scan\n",
    "                    self.started_scan = True\n",
    "                    \n",
    "                    with open(str(self.scan_path)) as file:\n",
    "                        try: \n",
    "                             save_file = json.load(file)\n",
    "                        except ValueError: \n",
    "                             pass\n",
    "                    \n",
    "                    os.remove(str(self.scan_path))\n",
    "                    \n",
    "                    save_file_str = json.dumps(save_file)\n",
    "                    save_file_pretty_str = json.dumps(save_file, indent=4)\n",
    "                    \n",
    "                    command = save_file[\"command\"][\"value\"]\n",
    "                    parser = self.scan_parser()\n",
    "                    \n",
    "                    self.synchronous = save_file[\"checkSync\"][\"value\"]                    \n",
    "                    self.scan_name = self.get_scan_name(command, parser)\n",
    "                    config_name = self.get_config_name(command, parser)\n",
    "                    \n",
    "                    self.plot_name = self.scan_name + \"-jupy.png\"\n",
    "                    \n",
    "                    ts = time.gmtime()\n",
    "    \n",
    "                    year_month_day = time.strftime(\"%Y-%m-%d\", ts)\n",
    "                    time_stamp = time.strftime(\"%Y-%m-%d %H:%M:%S\", ts) + \" UTC-0\"\n",
    "                    self.log_str = time_stamp + \"| [SCAN]:\\n\" + \\\n",
    "                              \"Scan with command: '\" + command + \"'\\n\" + \\\n",
    "                              \"Scan configuration: '\" + config_name + \"'\\n\" + \\\n",
    "                              \"Scan data saved in: '\" + self.scan_name + \"'\\n\" + \\\n",
    "                              \"Scan plot saved in: '\" + self.plot_name + \"'\\n\"\n",
    "                    \n",
    "                    log_file_name = Path('./' + year_month_day + '-scanlog.txt')\n",
    "                    with open(str(log_file_name), \"a\") as f:\n",
    "                        f.write(self.log_str + '\\n')\n",
    "                    IPython.display.update_display(IPython.display.Pretty(self.log_str), display_id='text')\n",
    "                                    \n",
    "                    self.plots_list.append([self, self.plot_name])\n",
    "\n",
    "                    # Call live graph\n",
    "                    self.list_motors = save_file[\"listMotors\"][\"value\"]\n",
    "\n",
    "                    self.fig_thread = threading.Thread(target=self.thread_plot)\n",
    "                    self.fig_thread.start()\n",
    "                    \n",
    "                    # Scan status icon\n",
    "                    self.refresh_thread = threading.Thread(target=self.thread_refresh_icon)\n",
    "                    self.refresh_thread.start()  \n",
    "                else:\n",
    "                    pass\n",
    "                \n",
    "                if self.clear_threads:\n",
    "                    self.fig_thread.join()\n",
    "                    self.refresh_thread.join()\n",
    "                    \n",
    "                    self.clear_threads = False\n",
    "                \n",
    "                time.sleep(0.5)\n",
    "                \n",
    "    def get_scan_name(self, command, parser):\n",
    "        args = parser.parse_known_args(command.split(' '))\n",
    "\n",
    "        fileName = args[0].output\n",
    "\n",
    "        leadingZeros = 4\n",
    "        newName = \"\"\n",
    "        cont = 0\n",
    "        while(True):\n",
    "            cont += 1\n",
    "            newName = fileName + \"_\" + str(cont).zfill(leadingZeros)\n",
    "            if(os.path.isfile(newName)):\n",
    "                continue\n",
    "            else:\n",
    "#                 if self.synchronous:\n",
    "#                     newName = fileName + \"_\" + str(cont - 1).zfill(leadingZeros)\n",
    "                break\n",
    "                \n",
    "        return newName\n",
    "    \n",
    "    def get_config_name(self, command, parser):\n",
    "        args = parser.parse_known_args(command.split(' '))\n",
    "\n",
    "        config_name = args[0].configuration\n",
    "        \n",
    "        return config_name\n",
    "    \n",
    "    def scan_parser(self):\n",
    "        parser = ScanParser()\n",
    "        \n",
    "        return parser.parser\n",
    "    \n",
    "    def update_pd(self, default_name, label):\n",
    "        try:\n",
    "            df = pd.read_csv(default_name, sep=' ', comment='#', header=None)\n",
    "        except Exception as e:\n",
    "            return pd.DataFrame(), label\n",
    "\n",
    "        filtered_label = label\n",
    "        if not label:\n",
    "            labels = []\n",
    "            with open(default_name) as file:\n",
    "                for i, line in enumerate(file):\n",
    "                    if i == 6:\n",
    "                        self.number_reads = (int(line.split(' ')[1]))\n",
    "                    elif i == 8:\n",
    "                        labels = line.split(' ')[1:]\n",
    "                        break\n",
    "\n",
    "            labels = list(filter(lambda x: x != '', labels))\n",
    "\n",
    "            for item in labels:\n",
    "                filtered_label.append(item.rstrip('\\n'))\n",
    "\n",
    "            label = filtered_label\n",
    "\n",
    "        df.columns = pd.Index(filtered_label, dtype='object')\n",
    "        return df, label\n",
    "\n",
    "    def thread_plot(self):\n",
    "        df = pd.DataFrame()\n",
    "        while df.empty:\n",
    "            label = []\n",
    "            df, label = self.update_pd(self.scan_name, label)\n",
    "        \n",
    "        number_motors = len(self.list_motors)\n",
    "        self.create_figure(len(df.columns) - number_motors)\n",
    "        \n",
    "        while df.shape[0] < self.number_reads:\n",
    "            df, label = self.update_pd(self.scan_name, label)\n",
    "            if self.checkbox_live_plot.value:           \n",
    "                if df.empty:\n",
    "                    continue\n",
    "\n",
    "                for i in range(len(df.columns) - number_motors): \n",
    "                    self.fig['data'][i]['x'] = df.index.values\n",
    "                    self.fig['data'][i]['y'] = df[df.columns[number_motors + i]].values               \n",
    "\n",
    "            time.sleep(1)\n",
    "        \n",
    "        # Finished scan\n",
    "        self.started_scan = False\n",
    "        self.clear_threads = True\n",
    "        \n",
    "        # update last scan value\n",
    "        for i in range(len(df.columns) - number_motors): \n",
    "                self.fig['data'][i]['x'] = df.index.values\n",
    "                self.fig['data'][i]['y'] = df[df.columns[number_motors + i]].values\n",
    "                \n",
    "        # save image as png\n",
    "        pio.write_image(self.fig, self.plot_name)\n",
    "        \n",
    "        # Plot scan-gui pyqt graph\n",
    "        if self.checkbox_final_plot.value:\n",
    "            self.load_image_file(self.scan_name + \".png\")\n",
    "            \n",
    "#         self._start_button(self)\n",
    "            \n",
    "    def create_figure(self, number_traces):\n",
    "        self.traces = []\n",
    "        \n",
    "        self.fig = go.FigureWidget(tools.make_subplots(rows=number_traces, cols=1))\n",
    "        \n",
    "        for i in range(number_traces):\n",
    "            trace = go.Scatter(\n",
    "                x=[], y=[], # Data\n",
    "                mode='lines+markers', name='line' + str(i+1)\n",
    "            )\n",
    "\n",
    "            self.traces.append(trace)\n",
    "            self.fig.append_trace(trace, i + 1, 1) # using i + 1 because plot index starts at 1\n",
    "\n",
    "        self.fig['layout'].update(title='Scan', plot_bgcolor='rgb(230, 230, 230)')\n",
    "        self.fig_box.children = (self.fig,)\n",
    "        \n",
    "    def thread_refresh_icon(self):\n",
    "        self.refresh_icon_box.layout = widgets.Layout(width='40px', height='40px')\n",
    "        \n",
    "        file = open(\".img/refresh_00.png\", \"rb\")\n",
    "        image = file.read()\n",
    "        img_w = widgets.Image(\n",
    "            value=image,\n",
    "            format='png',\n",
    "            width=35,\n",
    "            height=35,\n",
    "        )\n",
    "        \n",
    "        self.refresh_icon_box.children = (img_w,)\n",
    "\n",
    "        i = 0\n",
    "        f = 0\n",
    "        while self.started_scan:\n",
    "            time.sleep(0.1)\n",
    "            i += 1\n",
    "            file = open(\".img/refresh_\" + str(i).zfill(2) + \".png\", \"rb\")\n",
    "            image = file.read()\n",
    "            img_w .value = image\n",
    "            if i == 11:\n",
    "                i = -1\n",
    "            f += 1\n",
    "        \n",
    "        # Ended scan, blank the resfresh image\n",
    "        file = open(\".img/tick.png\", \"rb\")\n",
    "        image = file.read()\n",
    "        img_w .value = image\n",
    "        \n",
    "    def clean_refresh_icon(self):\n",
    "        file = open(\".img/blank.png\", \"rb\")\n",
    "        image = file.read()\n",
    "        img_w = widgets.Image(\n",
    "            value=image,\n",
    "            format='png',\n",
    "            width=35,\n",
    "            height=35,\n",
    "        )\n",
    "        \n",
    "        self.refresh_icon_box.children = (img_w,)\n",
    "        \n",
    "    def export_image_thread(self):\n",
    "        updating = True\n",
    "        while True:\n",
    "            if self.export:\n",
    "                if updating:\n",
    "                    img = IPython.display.Image(data=self.plot_name)\n",
    "                    IPython.display.update_display(img, display_id='img')\n",
    "                    updating = False\n",
    "                    \n",
    "            else:\n",
    "                if not updating:\n",
    "                    IPython.display.update_display(\"\", display_id='img')\n",
    "                    updating = True\n",
    "                \n",
    "            time.sleep(0.5)\n",
    "            \n",
    "    def load_image_file(self, filename):\n",
    "        self.fig_box.children = []\n",
    "        \n",
    "        img = IPython.display.Image(data=filename)\n",
    "        IPython.display.update_display(img, display_id='img')\n",
    "    \n",
    "    def display_start_button(self):\n",
    "        display(self.checkbox_live_plot, self.checkbox_final_plot, self.start_button, self.refresh_icon_box, self.fig_box, self.output)\n",
    "        IPython.display.display((\"\"), display_id='text')\n",
    "        IPython.display.display((\"\"), display_id='img')\n",
    "        self.export_thread = threading.Thread(target=self.export_image_thread)\n",
    "        self.export_thread.start()\n"
   ]
  },
  {
   "cell_type": "code",
   "execution_count": 26,
   "metadata": {},
   "outputs": [],
   "source": [
    "import ipywidgets as widgets\n",
    "import subprocess\n",
    "\n",
    "\n",
    "class ManualAlignmentButton(widgets.Button):\n",
    "    \n",
    "    def __init__(self, config, *args, **kwargs):\n",
    "        widgets.Button.__init__(self, *args, **kwargs)\n",
    "        \n",
    "        # Config\n",
    "        self.config = config\n",
    "        \n",
    "        # class Button values for MonitorScanSave\n",
    "        self.description = 'Start Manual Alignment'\n",
    "        self.disabled = False\n",
    "        self.button_style = 'success'\n",
    "        self.tooltip = 'Click me'\n",
    "        self.icon = ''\n",
    "        self.layout = widgets.Layout(width='300px')\n",
    "               \n",
    "        # Logging\n",
    "        self.output = widgets.Output()\n",
    "        \n",
    "        # Set callback function for click event\n",
    "        self.on_click(self._start_button)\n",
    "        \n",
    "        # Widgets displays\n",
    "        self.start_button = widgets.VBox([self])\n",
    "        \n",
    "    @staticmethod\n",
    "    def _start_button(b):\n",
    "        # Clear previous logs outputs\n",
    "        b.output.clear_output()\n",
    "        \n",
    "        # with statement to output logs in stdou (if this option is enabled)\n",
    "        with b.output:\n",
    "            # Change button to a \"clicked status\"\n",
    "            b.disabled = True\n",
    "            b.button_style = ''\n",
    "            b.description='Aligning...'\n",
    "\n",
    "            # We should sleep for some time to give some responsiveness to the user\n",
    "            time.sleep(0.5)\n",
    "\n",
    "            # Stop thread to monitor the save file\n",
    "            try:\n",
    "                logprint(\"Starting manual alignment\", config=b.config)\n",
    "                p = subprocess.run([\"pydm /home/gabriel.andrade/work/sol-widgets/examples/motor/slits.ui\"],\n",
    "                                 shell=True, check=True)\n",
    "\n",
    "                logprint(\"Finished manual alignment\", config=b.config)\n",
    "            except Exception as e:\n",
    "                # If any error occurs, log that but dont stop code exection\n",
    "                logprint(\"Error in manual alignment\", \"[ERROR]\", config=b.config)\n",
    "                logprint(str(e), \"[ERROR]\", config=b.config)\n",
    "\n",
    "            # Change button layout monitoring\n",
    "            b.disabled = False\n",
    "            b.button_style = 'success'\n",
    "            b.description='Start Manual Alignment'\n",
    "    \n",
    "    def display_start_button(self):\n",
    "        display(self.start_button, self.output)\n"
   ]
  },
  {
   "cell_type": "code",
   "execution_count": 25,
   "metadata": {},
   "outputs": [
    {
     "data": {
      "application/vnd.jupyter.widget-view+json": {
       "model_id": "12d2eb96899d440b995bec675708cd39",
       "version_major": 2,
       "version_minor": 0
      },
      "text/plain": [
       "VBox(children=(ManualAlignmentButton(button_style='success', description='Start Manual Alignment', layout=Layo…"
      ]
     },
     "metadata": {},
     "output_type": "display_data"
    },
    {
     "data": {
      "application/vnd.jupyter.widget-view+json": {
       "model_id": "f78eab33e4274410bb8e4828e91451ef",
       "version_major": 2,
       "version_minor": 0
      },
      "text/plain": [
       "Output()"
      ]
     },
     "metadata": {},
     "output_type": "display_data"
    }
   ],
   "source": [
    "a = ManualAlignmentButton(config)\n",
    "a.display_start_button()"
   ]
  },
  {
   "cell_type": "code",
   "execution_count": 11,
   "metadata": {
    "scrolled": false
   },
   "outputs": [
    {
     "name": "stderr",
     "output_type": "stream",
     "text": [
      "No traceback available to show.\n"
     ]
    },
    {
     "data": {
      "application/vnd.jupyter.widget-view+json": {
       "model_id": "b9a418a5779f49f683c49ee2e9b59500",
       "version_major": 2,
       "version_minor": 0
      },
      "text/plain": [
       "Checkbox(value=False, description='Live plot in Jupyter: ', style=DescriptionStyle(description_width='initial'…"
      ]
     },
     "metadata": {},
     "output_type": "display_data"
    },
    {
     "data": {
      "application/vnd.jupyter.widget-view+json": {
       "model_id": "6160a4768b9b49c7996b1dbefd7f8414",
       "version_major": 2,
       "version_minor": 0
      },
      "text/plain": [
       "Checkbox(value=False, description=\"Plot scan-gui graph instead of Jupyter's: \", style=DescriptionStyle(descrip…"
      ]
     },
     "metadata": {},
     "output_type": "display_data"
    },
    {
     "data": {
      "application/vnd.jupyter.widget-view+json": {
       "model_id": "8a6159560ce741328051780ddb3e3b4e",
       "version_major": 2,
       "version_minor": 0
      },
      "text/plain": [
       "VBox(children=(MonitorScanSave(button_style='success', description='Start Scanning Plot', layout=Layout(width=…"
      ]
     },
     "metadata": {},
     "output_type": "display_data"
    },
    {
     "data": {
      "application/vnd.jupyter.widget-view+json": {
       "model_id": "ec3ac0e22c4d4b4a8bff36482cb46f35",
       "version_major": 2,
       "version_minor": 0
      },
      "text/plain": [
       "Box(layout=Layout(height='40px', width='40px'))"
      ]
     },
     "metadata": {},
     "output_type": "display_data"
    },
    {
     "data": {
      "application/vnd.jupyter.widget-view+json": {
       "model_id": "5bf807492d9040a78ae2f0abb342a911",
       "version_major": 2,
       "version_minor": 0
      },
      "text/plain": [
       "Box()"
      ]
     },
     "metadata": {},
     "output_type": "display_data"
    },
    {
     "data": {
      "application/vnd.jupyter.widget-view+json": {
       "model_id": "5d3b859652a048848bb829f07be015bc",
       "version_major": 2,
       "version_minor": 0
      },
      "text/plain": [
       "Output()"
      ]
     },
     "metadata": {},
     "output_type": "display_data"
    },
    {
     "data": {
      "text/plain": [
       "2019-05-13 13:20:36 UTC-0| [SCAN]:\n",
       "Scan with command: 'scan -c default -o /home/gabriel.andrade/work/jupy4syn/scans/plot -s --snake --motor solm1 --start 1.0 --end 5.0 --step-or-points 1.0 --time 0.1'\n",
       "Scan configuration: 'default'\n",
       "Scan data saved in: '/home/gabriel.andrade/work/jupy4syn/scans/plot_0234'\n",
       "Scan plot saved in: '/home/gabriel.andrade/work/jupy4syn/scans/plot_0234.png'\n"
      ]
     },
     "metadata": {},
     "output_type": "display_data"
    },
    {
     "data": {
      "text/plain": [
       "''"
      ]
     },
     "metadata": {},
     "output_type": "display_data"
    },
    {
     "name": "stdout",
     "output_type": "stream",
     "text": [
      "This is the format of your plot grid:\n",
      "[ (1,1) x1,y1 ]\n",
      "[ (2,1) x2,y2 ]\n",
      "\n"
     ]
    }
   ],
   "source": [
    "%tb\n",
    "live_plot = MonitorScanSave(config, plots_list)\n",
    "live_plot.display_start_button()"
   ]
  },
  {
   "cell_type": "code",
   "execution_count": 31,
   "metadata": {
    "scrolled": true
   },
   "outputs": [
    {
     "data": {
      "application/vnd.jupyter.widget-view+json": {
       "model_id": "6fc29cc2bb8e40a6bd0b95b0bd5632c0",
       "version_major": 2,
       "version_minor": 0
      },
      "text/plain": [
       "ExportButtonPDF(button_style='warning', description='Export Notebook to PDF', layout=Layout(width='300px'), st…"
      ]
     },
     "metadata": {},
     "output_type": "display_data"
    }
   ],
   "source": [
    "class ExportButtonPDF(widgets.Button):\n",
    "    def __init__(self, config, plots_list, *args, **kwargs):\n",
    "        widgets.Button.__init__(self, *args, **kwargs)\n",
    "        \n",
    "        # Config\n",
    "        self.config = config\n",
    "        self.description='Export Notebook to PDF'\n",
    "        self.disabled=False\n",
    "        self.button_style='warning' # 'success', 'info', 'warning', 'danger' or ''\n",
    "        self.tooltip='Click me'\n",
    "        self.icon=''\n",
    "        self.layout = widgets.Layout(width='300px')\n",
    "    \n",
    "        self.on_click(self._export_button)\n",
    "        \n",
    "        self.plots_list = plots_list\n",
    "    \n",
    "    @staticmethod\n",
    "    def _export_button(b):\n",
    "        # Change button to a \"clicked status\"\n",
    "        b.disabled = True\n",
    "        b.button_style = ''\n",
    "        b.description='Exporting...'\n",
    "\n",
    "        # We should sleep for some time to give some responsiveness to the user\n",
    "        time.sleep(0.5)\n",
    "        \n",
    "        try:\n",
    "            from IPython.display import Javascript\n",
    "    \n",
    "            year_month_day = time.strftime(\"%Y-%m-%d\", ts)\n",
    "            time_stamp = time.strftime(\"%Y-%m-%d-%H:%M:%S\", ts)\n",
    "            output_file = time_stamp + \"-main_notebook\"\n",
    "\n",
    "            display(Javascript('IPython.notebook.save_checkpoint();'))\n",
    "            \n",
    "            time.sleep(3)\n",
    "            \n",
    "            os.system(\"python3 -m nbconvert main_notebook.ipynb --output-dir=./exports --output=\" + output_file + \" --to pdf\")\n",
    "            \n",
    "            for plot in b.plots_list:\n",
    "                plot[0].export = False\n",
    "        except:\n",
    "            pass\n",
    "        \n",
    "        # Reenable button\n",
    "        b.disabled = False\n",
    "        b.button_style = 'warning'\n",
    "        b.description='Export Notebook to PDF'\n",
    "        \n",
    "    def display_export_button(self):\n",
    "        display(self)\n",
    "                    \n",
    "but = ExportButtonPDF(config, plots_list)\n",
    "but.display_export_button()"
   ]
  },
  {
   "cell_type": "code",
   "execution_count": 32,
   "metadata": {},
   "outputs": [
    {
     "data": {
      "application/vnd.jupyter.widget-view+json": {
       "model_id": "518b4cf287e64dac886533fbe740590f",
       "version_major": 2,
       "version_minor": 0
      },
      "text/plain": [
       "ExportButtonHTML(button_style='warning', description='Export Notebook to HTML', layout=Layout(width='300px'), …"
      ]
     },
     "metadata": {},
     "output_type": "display_data"
    }
   ],
   "source": [
    "class ExportButtonHTML(widgets.Button):\n",
    "    def __init__(self, config, plots_list, *args, **kwargs):\n",
    "        widgets.Button.__init__(self, *args, **kwargs)\n",
    "        \n",
    "        # Config\n",
    "        self.config = config\n",
    "        self.description='Export Notebook to HTML'\n",
    "        self.disabled=False\n",
    "        self.button_style='warning' # 'success', 'info', 'warning', 'danger' or ''\n",
    "        self.tooltip='Click me'\n",
    "        self.icon=''\n",
    "        self.layout = widgets.Layout(width='300px')\n",
    "    \n",
    "        self.on_click(self._export_button)\n",
    "        \n",
    "        self.plots_list = plots_list\n",
    "    \n",
    "    @staticmethod\n",
    "    def _export_button(b):\n",
    "        # Change button to a \"clicked status\"\n",
    "        b.disabled = True\n",
    "        b.button_style = ''\n",
    "        b.description='Exporting...'\n",
    "\n",
    "        # We should sleep for some time to give some responsiveness to the user\n",
    "        time.sleep(0.5)\n",
    "        \n",
    "        try:\n",
    "            from IPython.display import Javascript\n",
    "    \n",
    "            year_month_day = time.strftime(\"%Y-%m-%d\", ts)\n",
    "            time_stamp = time.strftime(\"%Y-%m-%d-%H:%M:%S\", ts)\n",
    "            output_file = time_stamp + \"-main_notebook\"\n",
    "\n",
    "            display(Javascript('IPython.notebook.save_checkpoint();'))\n",
    "            \n",
    "            time.sleep(3)\n",
    "            \n",
    "            os.system(\"python3 -m nbconvert main_notebook.ipynb --output-dir=./exports --output=\" + output_file + \" --to html\")\n",
    "            \n",
    "            for plot in b.plots_list:\n",
    "                plot[0].export = False\n",
    "        except:\n",
    "            pass\n",
    "        \n",
    "        # Reenable button\n",
    "        b.disabled = False\n",
    "        b.button_style = 'warning'\n",
    "        b.description='Export Notebook to HTML'\n",
    "        \n",
    "    def display_export_button(self):\n",
    "        display(self)\n",
    "                    \n",
    "but = ExportButtonHTML(config, plots_list)\n",
    "but.display_export_button()"
   ]
  }
 ],
 "metadata": {
  "kernelspec": {
   "display_name": "Python 3",
   "language": "python",
   "name": "python3"
  },
  "language_info": {
   "codemirror_mode": {
    "name": "ipython",
    "version": 3
   },
   "file_extension": ".py",
   "mimetype": "text/x-python",
   "name": "python",
   "nbconvert_exporter": "python",
   "pygments_lexer": "ipython3",
   "version": "3.5.3"
  },
  "widgets": {
   "application/vnd.jupyter.widget-state+json": {
    "state": {
     "0020dbdf27254cc8be521c4d1085a4c5": {
      "model_module": "@jupyter-widgets/controls",
      "model_module_version": "1.4.0",
      "model_name": "BoxModel",
      "state": {
       "layout": "IPY_MODEL_84b21766e8ae45e78019ae6c2091731a"
      }
     },
     "0059c378dd614f25acbb8f6467c33c84": {
      "model_module": "@jupyter-widgets/controls",
      "model_module_version": "1.4.0",
      "model_name": "CheckboxModel",
      "state": {
       "description": "Plot scan-gui graph instead of Jupyter's: ",
       "disabled": false,
       "layout": "IPY_MODEL_e48360dda92d489e804c27addd6b7d75",
       "style": "IPY_MODEL_506a51f7669746489caefef620a2abc9",
       "value": true
      }
     },
     "0067c089ee7948709eb4abb39e522308": {
      "model_module": "@jupyter-widgets/controls",
      "model_module_version": "1.4.0",
      "model_name": "ButtonStyleModel",
      "state": {}
     },
     "01b70b2ca24a4ca6a33e3a7aae1057e5": {
      "model_module": "@jupyter-widgets/output",
      "model_module_version": "1.0.0",
      "model_name": "OutputModel",
      "state": {
       "layout": "IPY_MODEL_ca740b125f7345caa2753cbaa4fbba81"
      }
     },
     "0253bd5636bf43929e5ec2d02818f6a0": {
      "model_module": "@jupyter-widgets/base",
      "model_module_version": "1.1.0",
      "model_name": "LayoutModel",
      "state": {}
     },
     "0272a1f8e8f5440199b2379276da66da": {
      "model_module": "@jupyter-widgets/controls",
      "model_module_version": "1.4.0",
      "model_name": "ButtonModel",
      "state": {
       "button_style": "success",
       "description": "Start Motor Monitoring",
       "layout": "IPY_MODEL_3b2525a7f6e044e2899fe8648e3740cc",
       "style": "IPY_MODEL_ee8d1a953a084b8da8336af44fccd281",
       "tooltip": "Click me"
      }
     },
     "03d98b71fc3b459b9a51cf3328a9e837": {
      "model_module": "@jupyter-widgets/controls",
      "model_module_version": "1.4.0",
      "model_name": "CheckboxModel",
      "state": {
       "description": "Plot scan-gui graph instead of Jupyter's: ",
       "disabled": false,
       "layout": "IPY_MODEL_555aee2717d6422981a4aa3a1d4814b3",
       "style": "IPY_MODEL_075ad505177e43fc958cd70ad1826503",
       "value": false
      }
     },
     "03f45ab9b66f48cca4269861052ee8b5": {
      "model_module": "@jupyter-widgets/controls",
      "model_module_version": "1.4.0",
      "model_name": "ButtonStyleModel",
      "state": {}
     },
     "04e93dda2561427c81da0cf3ddcf54f2": {
      "model_module": "@jupyter-widgets/controls",
      "model_module_version": "1.4.0",
      "model_name": "ButtonModel",
      "state": {
       "button_style": "success",
       "description": "Start Motor Initializaton",
       "layout": "IPY_MODEL_84635c65a0094dc3814ad9b631e8f804",
       "style": "IPY_MODEL_03f45ab9b66f48cca4269861052ee8b5",
       "tooltip": "Click me"
      }
     },
     "058b3575d0e14460b1cceb6c6fae23d1": {
      "model_module": "@jupyter-widgets/controls",
      "model_module_version": "1.4.0",
      "model_name": "DescriptionStyleModel",
      "state": {
       "description_width": "initial"
      }
     },
     "05c2d19bcd25452f97a4818bb690a840": {
      "model_module": "@jupyter-widgets/base",
      "model_module_version": "1.1.0",
      "model_name": "LayoutModel",
      "state": {
       "width": "300px"
      }
     },
     "06f882c326824443bace6534ba029416": {
      "model_module": "@jupyter-widgets/base",
      "model_module_version": "1.1.0",
      "model_name": "LayoutModel",
      "state": {
       "height": "40px",
       "width": "40px"
      }
     },
     "071beed0b88740faa9ae32ecc11c7688": {
      "model_module": "plotlywidget",
      "model_module_version": "0.8.0",
      "model_name": "FigureModel",
      "state": {
       "_config": {
        "plotlyServerURL": "https://plot.ly"
       },
       "_js2py_layoutDelta": {},
       "_js2py_pointsCallback": {},
       "_js2py_relayout": {},
       "_js2py_restyle": {},
       "_js2py_traceDeltas": {},
       "_js2py_update": {},
       "_layout": {
        "template": {}
       },
       "_model_module_version": "0.8.0",
       "_py2js_addTraces": {},
       "_py2js_animate": {},
       "_py2js_deleteTraces": {},
       "_py2js_moveTraces": {},
       "_py2js_removeLayoutProps": {},
       "_py2js_removeTraceProps": {},
       "_py2js_restyle": {},
       "_py2js_update": {},
       "_view_count": 0,
       "_view_module_version": "0.8.0"
      }
     },
     "075ad505177e43fc958cd70ad1826503": {
      "model_module": "@jupyter-widgets/controls",
      "model_module_version": "1.4.0",
      "model_name": "DescriptionStyleModel",
      "state": {
       "description_width": "initial"
      }
     },
     "07abceae62fd4b8590879caa58a36239": {
      "model_module": "@jupyter-widgets/base",
      "model_module_version": "1.1.0",
      "model_name": "LayoutModel",
      "state": {
       "width": "300px"
      }
     },
     "08a47c709e0247eaafbb72eaf8ac2ecb": {
      "model_module": "@jupyter-widgets/controls",
      "model_module_version": "1.4.0",
      "model_name": "VBoxModel",
      "state": {
       "children": [
        "IPY_MODEL_cb17391ba8bd4a68a54f5818f6073b13"
       ],
       "layout": "IPY_MODEL_5fe7a5b6d5df42f1bc9b140e0b8bec69"
      }
     },
     "0ab542a6f95442809b9087acf853863e": {
      "model_module": "@jupyter-widgets/base",
      "model_module_version": "1.1.0",
      "model_name": "LayoutModel",
      "state": {}
     },
     "0b7514471f1a4d6c876e03493fbe185f": {
      "model_module": "@jupyter-widgets/controls",
      "model_module_version": "1.4.0",
      "model_name": "VBoxModel",
      "state": {
       "children": [
        "IPY_MODEL_0bc890e8f6e94669a3b29c80a49e8968",
        "IPY_MODEL_598cb240db76420e88f75ecbc9408804"
       ],
       "layout": "IPY_MODEL_412f69f9579b428896ce1d74e16ee81c"
      }
     },
     "0bc890e8f6e94669a3b29c80a49e8968": {
      "model_module": "@jupyter-widgets/controls",
      "model_module_version": "1.4.0",
      "model_name": "ButtonModel",
      "state": {
       "button_style": "success",
       "description": "Start Motor Monitoring",
       "layout": "IPY_MODEL_07abceae62fd4b8590879caa58a36239",
       "style": "IPY_MODEL_b7972af835094d77af2055acd8a8cebf",
       "tooltip": "Click me"
      }
     },
     "0c28bcc772a848dc88fb0d3cbe0246b6": {
      "model_module": "@jupyter-widgets/output",
      "model_module_version": "1.0.0",
      "model_name": "OutputModel",
      "state": {
       "layout": "IPY_MODEL_7d01ebe3d09c4556b122e75d23a3d350"
      }
     },
     "0c7cb740f82f45e28bc7a6fc817c76a1": {
      "model_module": "@jupyter-widgets/controls",
      "model_module_version": "1.4.0",
      "model_name": "TextareaModel",
      "state": {
       "layout": "IPY_MODEL_dcc99f23990f43d3aba9848e8e6306a6",
       "placeholder": "Example: IOC:m1 IOC:m3 LNLS:TEST:motor_g3",
       "style": "IPY_MODEL_7cc7486bb79144f2b828614194bcaf9a"
      }
     },
     "0d68f720337341df8f665175f4a86de7": {
      "model_module": "@jupyter-widgets/controls",
      "model_module_version": "1.4.0",
      "model_name": "DescriptionStyleModel",
      "state": {
       "description_width": "initial"
      }
     },
     "0dad1bb6c068446cb466afd260843352": {
      "model_module": "@jupyter-widgets/base",
      "model_module_version": "1.1.0",
      "model_name": "LayoutModel",
      "state": {
       "width": "300px"
      }
     },
     "0e0c18f4fea9456aaf97aecde5dcafa8": {
      "model_module": "plotlywidget",
      "model_module_version": "0.8.0",
      "model_name": "FigureModel",
      "state": {
       "_config": {
        "plotlyServerURL": "https://plot.ly"
       },
       "_js2py_layoutDelta": {},
       "_js2py_pointsCallback": {},
       "_js2py_relayout": {},
       "_js2py_restyle": {},
       "_js2py_traceDeltas": {},
       "_js2py_update": {},
       "_model_module_version": "0.8.0",
       "_py2js_addTraces": {},
       "_py2js_animate": {},
       "_py2js_deleteTraces": {},
       "_py2js_moveTraces": {},
       "_py2js_removeLayoutProps": {},
       "_py2js_removeTraceProps": {},
       "_py2js_restyle": {},
       "_py2js_update": {},
       "_view_count": 0,
       "_view_module_version": "0.8.0"
      }
     },
     "0e2178c54dd14762887c5710ae5d1c7c": {
      "model_module": "@jupyter-widgets/controls",
      "model_module_version": "1.4.0",
      "model_name": "ButtonModel",
      "state": {
       "button_style": "warning",
       "description": "Export Notebook to PDF",
       "layout": "IPY_MODEL_3b1950ebb80947ccbb5b45b780665d7d",
       "style": "IPY_MODEL_21cbe9092c9c4c5caf9b6984602d1d29",
       "tooltip": "Click me"
      }
     },
     "0e8a01ae26b64330bebce9482090ecaf": {
      "model_module": "@jupyter-widgets/controls",
      "model_module_version": "1.4.0",
      "model_name": "ButtonStyleModel",
      "state": {}
     },
     "0f7f77a477144436b30566c2b4dcadb8": {
      "model_module": "@jupyter-widgets/controls",
      "model_module_version": "1.4.0",
      "model_name": "ButtonStyleModel",
      "state": {}
     },
     "0f829312f19c4890a0a3520f029c1fc2": {
      "model_module": "@jupyter-widgets/controls",
      "model_module_version": "1.4.0",
      "model_name": "ButtonModel",
      "state": {
       "button_style": "success",
       "description": "Start Motor Monitoring",
       "layout": "IPY_MODEL_f21acbf1bf22494b9532094e1df4b8ba",
       "style": "IPY_MODEL_0f7f77a477144436b30566c2b4dcadb8",
       "tooltip": "Click me"
      }
     },
     "0fea41058a514d728dd140d806d84449": {
      "model_module": "@jupyter-widgets/controls",
      "model_module_version": "1.4.0",
      "model_name": "DescriptionStyleModel",
      "state": {
       "description_width": "initial"
      }
     },
     "105a5b4f972b410f98305686b453b538": {
      "model_module": "@jupyter-widgets/controls",
      "model_module_version": "1.4.0",
      "model_name": "VBoxModel",
      "state": {
       "children": [
        "IPY_MODEL_96e5d5926d8d4499bcbf3a781c60d0e9",
        "IPY_MODEL_cffed8884f16433c81e0f3ae00966721"
       ],
       "layout": "IPY_MODEL_67e9dab309cb443a905cd7cff927748e"
      }
     },
     "108f7fb28dc14913859c11a2f41f4599": {
      "model_module": "@jupyter-widgets/controls",
      "model_module_version": "1.4.0",
      "model_name": "ButtonModel",
      "state": {
       "button_style": "success",
       "description": "Start Scanning Plot",
       "layout": "IPY_MODEL_d1ff8608aa3d4eb1995be24dc4a9a30b",
       "style": "IPY_MODEL_3a2ce19771f348c9929edbef82155ec4",
       "tooltip": "Click me"
      }
     },
     "10a8d563e1c9479e82380c4e02028fd3": {
      "model_module": "plotlywidget",
      "model_module_version": "0.8.0",
      "model_name": "FigureModel",
      "state": {
       "_config": {
        "plotlyServerURL": "https://plot.ly"
       },
       "_js2py_layoutDelta": {},
       "_js2py_pointsCallback": {},
       "_js2py_relayout": {},
       "_js2py_restyle": {},
       "_js2py_traceDeltas": {},
       "_js2py_update": {},
       "_layout": {
        "template": {}
       },
       "_model_module_version": "0.8.0",
       "_py2js_addTraces": {},
       "_py2js_animate": {},
       "_py2js_deleteTraces": {},
       "_py2js_moveTraces": {},
       "_py2js_removeLayoutProps": {},
       "_py2js_removeTraceProps": {},
       "_py2js_restyle": {},
       "_py2js_update": {},
       "_view_count": 0,
       "_view_module_version": "0.8.0"
      }
     },
     "116c1c1ce91d4d299b947c27886c93c4": {
      "model_module": "@jupyter-widgets/output",
      "model_module_version": "1.0.0",
      "model_name": "OutputModel",
      "state": {
       "layout": "IPY_MODEL_1da9bdd497c74e1f8f62e5224f5808af"
      }
     },
     "121c1a8fc2524d16bb049d5d619dc9cc": {
      "model_module": "@jupyter-widgets/controls",
      "model_module_version": "1.4.0",
      "model_name": "CheckboxModel",
      "state": {
       "description": "Live plot in Jupyter: ",
       "disabled": false,
       "layout": "IPY_MODEL_309040ea05f74b5f8c6db3e6e9074937",
       "style": "IPY_MODEL_5637cd9311d74dada1d0f2ec5503e518",
       "value": false
      }
     },
     "137ba11af68b4abf84b935249c08beca": {
      "model_module": "plotlywidget",
      "model_module_version": "0.8.0",
      "model_name": "FigureModel",
      "state": {
       "_config": {
        "plotlyServerURL": "https://plot.ly"
       },
       "_js2py_layoutDelta": {},
       "_js2py_pointsCallback": {},
       "_js2py_relayout": {},
       "_js2py_restyle": {},
       "_js2py_traceDeltas": {},
       "_js2py_update": {},
       "_layout": {
        "template": {}
       },
       "_model_module_version": "0.8.0",
       "_py2js_addTraces": {},
       "_py2js_animate": {},
       "_py2js_deleteTraces": {},
       "_py2js_moveTraces": {},
       "_py2js_removeLayoutProps": {},
       "_py2js_removeTraceProps": {},
       "_py2js_restyle": {},
       "_py2js_update": {},
       "_view_count": 0,
       "_view_module_version": "0.8.0"
      }
     },
     "1630f02f85da4a33bfbdbc2458eefdd2": {
      "model_module": "@jupyter-widgets/base",
      "model_module_version": "1.1.0",
      "model_name": "LayoutModel",
      "state": {
       "height": "40px",
       "width": "40px"
      }
     },
     "168284e71cf74f24929f59facba07bf2": {
      "model_module": "@jupyter-widgets/controls",
      "model_module_version": "1.4.0",
      "model_name": "VBoxModel",
      "state": {
       "children": [
        "IPY_MODEL_3ff314d5f57741f1b4db0352ef58c730"
       ],
       "layout": "IPY_MODEL_a2514c4cb1fc41b0ba71fe732112e383"
      }
     },
     "17f5442dd6c64ec5ba833c8fa7403a3a": {
      "model_module": "@jupyter-widgets/base",
      "model_module_version": "1.1.0",
      "model_name": "LayoutModel",
      "state": {
       "height": "40px",
       "width": "40px"
      }
     },
     "1825675f7d7a488890bfacb256b701fa": {
      "model_module": "@jupyter-widgets/controls",
      "model_module_version": "1.4.0",
      "model_name": "ButtonStyleModel",
      "state": {}
     },
     "1841f66a289d498ea444bf150b7a6f6d": {
      "model_module": "plotlywidget",
      "model_module_version": "0.8.0",
      "model_name": "FigureModel",
      "state": {
       "_config": {
        "plotlyServerURL": "https://plot.ly"
       },
       "_js2py_layoutDelta": {},
       "_js2py_pointsCallback": {},
       "_js2py_relayout": {},
       "_js2py_restyle": {},
       "_js2py_traceDeltas": {},
       "_js2py_update": {},
       "_layout": {
        "template": {}
       },
       "_model_module_version": "0.8.0",
       "_py2js_addTraces": {},
       "_py2js_animate": {},
       "_py2js_deleteTraces": {},
       "_py2js_moveTraces": {},
       "_py2js_removeLayoutProps": {},
       "_py2js_removeTraceProps": {},
       "_py2js_restyle": {},
       "_py2js_update": {},
       "_view_count": 0,
       "_view_module_version": "0.8.0"
      }
     },
     "1a3afc1d0e7942aaaca387263dea1779": {
      "model_module": "@jupyter-widgets/base",
      "model_module_version": "1.1.0",
      "model_name": "LayoutModel",
      "state": {}
     },
     "1ab348d8569444eea1ca4cc260a5c40c": {
      "model_module": "@jupyter-widgets/controls",
      "model_module_version": "1.4.0",
      "model_name": "ButtonModel",
      "state": {
       "button_style": "success",
       "description": "Start Motor Initializaton",
       "layout": "IPY_MODEL_4a4e0d9328df454ca9dc301b764cd10d",
       "style": "IPY_MODEL_c4ba5dcea00b4ee888369d16ef2cc5f3",
       "tooltip": "Click me"
      }
     },
     "1c8c304694514fceb82369c9f80cf14e": {
      "model_module": "@jupyter-widgets/output",
      "model_module_version": "1.0.0",
      "model_name": "OutputModel",
      "state": {
       "layout": "IPY_MODEL_66196b0bff8742e1aef9a67015a3cba6"
      }
     },
     "1d671d10a9824d1c80c0f262b1af13c8": {
      "model_module": "@jupyter-widgets/base",
      "model_module_version": "1.1.0",
      "model_name": "LayoutModel",
      "state": {
       "height": "40px",
       "width": "40px"
      }
     },
     "1da9bdd497c74e1f8f62e5224f5808af": {
      "model_module": "@jupyter-widgets/base",
      "model_module_version": "1.1.0",
      "model_name": "LayoutModel",
      "state": {}
     },
     "1deeee2a7f4a49efb2d5a992f262d445": {
      "model_module": "@jupyter-widgets/controls",
      "model_module_version": "1.4.0",
      "model_name": "CheckboxModel",
      "state": {
       "description": "Print log in Notebook's cells",
       "disabled": false,
       "layout": "IPY_MODEL_d3a6261fd593421da274de90bb70250e",
       "style": "IPY_MODEL_a8110bfdad504999911fb75a937e3d1e",
       "value": false
      }
     },
     "1f41fa05346f4565b9ecc3484e155d98": {
      "model_module": "@jupyter-widgets/controls",
      "model_module_version": "1.4.0",
      "model_name": "ButtonModel",
      "state": {
       "button_style": "success",
       "description": "Start Scanning Plot",
       "layout": "IPY_MODEL_3371c4761ff246f3a69f5d2612c4e423",
       "style": "IPY_MODEL_a905ca1179d04800b25e4ef48a310c4f",
       "tooltip": "Click me"
      }
     },
     "1f5bed2e06f8480786142007c7e6da1c": {
      "model_module": "@jupyter-widgets/base",
      "model_module_version": "1.1.0",
      "model_name": "LayoutModel",
      "state": {}
     },
     "209ca1f447af4fdda336e5ab774d9c34": {
      "model_module": "@jupyter-widgets/output",
      "model_module_version": "1.0.0",
      "model_name": "OutputModel",
      "state": {
       "layout": "IPY_MODEL_a801b624e7da4842915aeda4135a39d3"
      }
     },
     "21cbe9092c9c4c5caf9b6984602d1d29": {
      "model_module": "@jupyter-widgets/controls",
      "model_module_version": "1.4.0",
      "model_name": "ButtonStyleModel",
      "state": {}
     },
     "233550ef7982482fb3a8a6079df4b70e": {
      "model_module": "@jupyter-widgets/controls",
      "model_module_version": "1.4.0",
      "model_name": "DescriptionStyleModel",
      "state": {
       "description_width": ""
      }
     },
     "23990d98263d418a8731a94716e9f05c": {
      "model_module": "@jupyter-widgets/base",
      "model_module_version": "1.1.0",
      "model_name": "LayoutModel",
      "state": {}
     },
     "241c54303d1e407086fc36154a3492f7": {
      "model_module": "@jupyter-widgets/controls",
      "model_module_version": "1.4.0",
      "model_name": "ButtonModel",
      "state": {
       "button_style": "success",
       "description": "Start Scanning Plot",
       "layout": "IPY_MODEL_55d981ceab78426ca37c8be8fa846d08",
       "style": "IPY_MODEL_856201c0095d47ef823ebc6410114c40",
       "tooltip": "Click me"
      }
     },
     "24cd47953cb64c348fab6c43bcbb8bba": {
      "model_module": "@jupyter-widgets/base",
      "model_module_version": "1.1.0",
      "model_name": "LayoutModel",
      "state": {
       "width": "300px"
      }
     },
     "24e984ed4205454086d46a78bbce818a": {
      "model_module": "@jupyter-widgets/base",
      "model_module_version": "1.1.0",
      "model_name": "LayoutModel",
      "state": {
       "width": "300px"
      }
     },
     "25644efb52954aaab68b879410695f66": {
      "model_module": "@jupyter-widgets/base",
      "model_module_version": "1.1.0",
      "model_name": "LayoutModel",
      "state": {}
     },
     "2667579890114546a18357de4a41b572": {
      "model_module": "@jupyter-widgets/controls",
      "model_module_version": "1.4.0",
      "model_name": "VBoxModel",
      "state": {
       "children": [
        "IPY_MODEL_108f7fb28dc14913859c11a2f41f4599"
       ],
       "layout": "IPY_MODEL_577e7f8a75334a19ad42d7e04238ec11"
      }
     },
     "2692bf5e99054fd6ae5e1a64abba3480": {
      "model_module": "@jupyter-widgets/base",
      "model_module_version": "1.1.0",
      "model_name": "LayoutModel",
      "state": {}
     },
     "271e39791b7440328f46842172c6a8ce": {
      "model_module": "@jupyter-widgets/base",
      "model_module_version": "1.1.0",
      "model_name": "LayoutModel",
      "state": {
       "width": "300px"
      }
     },
     "273fffe6c81847c391f0aca2751ed738": {
      "model_module": "@jupyter-widgets/base",
      "model_module_version": "1.1.0",
      "model_name": "LayoutModel",
      "state": {}
     },
     "28046e8b76bf4910b1cb0abb391b7ace": {
      "model_module": "@jupyter-widgets/controls",
      "model_module_version": "1.4.0",
      "model_name": "VBoxModel",
      "state": {
       "children": [
        "IPY_MODEL_b893688abe85451c9c1a4a9e197b8723",
        "IPY_MODEL_b8109ee03efd4f0fb69a52538ac0f56e"
       ],
       "layout": "IPY_MODEL_cba8c5c794254aeba07017a5826ddcd9"
      }
     },
     "28315bfe1b994176b5004cd105743934": {
      "model_module": "@jupyter-widgets/controls",
      "model_module_version": "1.4.0",
      "model_name": "ButtonModel",
      "state": {
       "button_style": "success",
       "description": "Start Scanning Plot",
       "layout": "IPY_MODEL_271e39791b7440328f46842172c6a8ce",
       "style": "IPY_MODEL_b835804e7c214569a7cc1a16afe5d091",
       "tooltip": "Click me"
      }
     },
     "283f5f40bb0841ed854fde8c707ea653": {
      "model_module": "@jupyter-widgets/controls",
      "model_module_version": "1.4.0",
      "model_name": "BoxModel",
      "state": {
       "layout": "IPY_MODEL_b66812acca5b4b98969dd7828075a80f"
      }
     },
     "28b15ec9207f4784944928a767098435": {
      "model_module": "@jupyter-widgets/controls",
      "model_module_version": "1.4.0",
      "model_name": "DescriptionStyleModel",
      "state": {
       "description_width": ""
      }
     },
     "28ba868c7dc54ea3973077788a699a2b": {
      "model_module": "@jupyter-widgets/controls",
      "model_module_version": "1.4.0",
      "model_name": "CheckboxModel",
      "state": {
       "disabled": false,
       "layout": "IPY_MODEL_a9613758034c41849579059e449b9f4c",
       "style": "IPY_MODEL_dbe5f11d431c418e88d8d8177f46b155",
       "value": false
      }
     },
     "29879fa014df400e9ce9b078378c1276": {
      "model_module": "@jupyter-widgets/controls",
      "model_module_version": "1.4.0",
      "model_name": "ButtonModel",
      "state": {
       "button_style": "success",
       "description": "Start Motor Initializaton",
       "layout": "IPY_MODEL_3181990a39284edbb8d43e9be23ae85e",
       "style": "IPY_MODEL_832fd3d6dbbd4af89d8566345f429e8c",
       "tooltip": "Click me"
      }
     },
     "2c031995eeaf44cc819cf15836bc70ee": {
      "model_module": "@jupyter-widgets/controls",
      "model_module_version": "1.4.0",
      "model_name": "DescriptionStyleModel",
      "state": {
       "description_width": "initial"
      }
     },
     "2c5e851a5a684430a0c6d78563b26485": {
      "model_module": "@jupyter-widgets/base",
      "model_module_version": "1.1.0",
      "model_name": "LayoutModel",
      "state": {}
     },
     "2ca81f5620e24dcca47a707e8dceebb9": {
      "model_module": "@jupyter-widgets/base",
      "model_module_version": "1.1.0",
      "model_name": "LayoutModel",
      "state": {}
     },
     "2cc829dab78e4a2c8611c7e8ee448942": {
      "model_module": "@jupyter-widgets/controls",
      "model_module_version": "1.4.0",
      "model_name": "VBoxModel",
      "state": {
       "children": [
        "IPY_MODEL_241c54303d1e407086fc36154a3492f7"
       ],
       "layout": "IPY_MODEL_bd8395838a43407cb0ecaa28ff9bfd46"
      }
     },
     "2d95a80ca47241e6ad83d407be691361": {
      "model_module": "@jupyter-widgets/controls",
      "model_module_version": "1.4.0",
      "model_name": "TextareaModel",
      "state": {
       "layout": "IPY_MODEL_35a3f1725f99416d8fb871747ce96d11",
       "placeholder": "Example: IOC:m1.DMOV IOC:m3.RBV LNLS:ANEL:corrente.VAL",
       "style": "IPY_MODEL_4c1d833a5ba34bcbb9e5541df05611c8"
      }
     },
     "2d98e4d5a03a4e3fa072c93bb7aef50e": {
      "model_module": "@jupyter-widgets/base",
      "model_module_version": "1.1.0",
      "model_name": "LayoutModel",
      "state": {}
     },
     "2dc5fd2de99043649486f30b3215f02e": {
      "model_module": "@jupyter-widgets/controls",
      "model_module_version": "1.4.0",
      "model_name": "CheckboxModel",
      "state": {
       "description": "Live plot in Jupyter: ",
       "disabled": false,
       "layout": "IPY_MODEL_d8e42d4e03f74a19ab6a0c75853d112d",
       "style": "IPY_MODEL_beb68e1e44994bd089e896ee96ac2161",
       "value": false
      }
     },
     "2e4792f15daa4d1b96acbb6061a1f5ff": {
      "model_module": "@jupyter-widgets/controls",
      "model_module_version": "1.4.0",
      "model_name": "BoxModel",
      "state": {
       "children": [
        "IPY_MODEL_513496c41cc14eac83455dc9a25f5cc9"
       ],
       "layout": "IPY_MODEL_d84adce6bf4d483f9eddc7a3d555d7c4"
      }
     },
     "2ef89e6a08754dae8d0d700b17d6d19c": {
      "model_module": "@jupyter-widgets/base",
      "model_module_version": "1.1.0",
      "model_name": "LayoutModel",
      "state": {}
     },
     "309040ea05f74b5f8c6db3e6e9074937": {
      "model_module": "@jupyter-widgets/base",
      "model_module_version": "1.1.0",
      "model_name": "LayoutModel",
      "state": {}
     },
     "317a48374e284cf481e144674fce84a3": {
      "model_module": "@jupyter-widgets/controls",
      "model_module_version": "1.4.0",
      "model_name": "ButtonModel",
      "state": {
       "button_style": "success",
       "description": "Start PV Monitoring",
       "layout": "IPY_MODEL_750ceb7f018740ea8bfdc2c4fd348e37",
       "style": "IPY_MODEL_1825675f7d7a488890bfacb256b701fa",
       "tooltip": "Click me"
      }
     },
     "317d2d2edf5d4aed9c2acee2cd90894a": {
      "model_module": "@jupyter-widgets/base",
      "model_module_version": "1.1.0",
      "model_name": "LayoutModel",
      "state": {}
     },
     "3181990a39284edbb8d43e9be23ae85e": {
      "model_module": "@jupyter-widgets/base",
      "model_module_version": "1.1.0",
      "model_name": "LayoutModel",
      "state": {
       "width": "300px"
      }
     },
     "3371c4761ff246f3a69f5d2612c4e423": {
      "model_module": "@jupyter-widgets/base",
      "model_module_version": "1.1.0",
      "model_name": "LayoutModel",
      "state": {
       "width": "300px"
      }
     },
     "34259a747ff04ce880d32f07aaf64922": {
      "model_module": "plotlywidget",
      "model_module_version": "0.8.0",
      "model_name": "FigureModel",
      "state": {
       "_config": {
        "plotlyServerURL": "https://plot.ly"
       },
       "_js2py_layoutDelta": {},
       "_js2py_pointsCallback": {},
       "_js2py_relayout": {},
       "_js2py_restyle": {},
       "_js2py_traceDeltas": {},
       "_js2py_update": {},
       "_layout": {
        "template": {}
       },
       "_model_module_version": "0.8.0",
       "_py2js_addTraces": {},
       "_py2js_animate": {},
       "_py2js_deleteTraces": {},
       "_py2js_moveTraces": {},
       "_py2js_removeLayoutProps": {},
       "_py2js_removeTraceProps": {},
       "_py2js_restyle": {},
       "_py2js_update": {},
       "_view_count": 0,
       "_view_module_version": "0.8.0"
      }
     },
     "34833f5668404560be27abb5fbb10157": {
      "model_module": "@jupyter-widgets/base",
      "model_module_version": "1.1.0",
      "model_name": "LayoutModel",
      "state": {}
     },
     "34a7de7593ee4ead9ea26c60795dc996": {
      "model_module": "@jupyter-widgets/controls",
      "model_module_version": "1.4.0",
      "model_name": "BoxModel",
      "state": {
       "layout": "IPY_MODEL_e22feb83f922428cb8fc2f327edcea1d"
      }
     },
     "351d8dcabb5d45c9aad32b8a47b800f4": {
      "model_module": "@jupyter-widgets/controls",
      "model_module_version": "1.4.0",
      "model_name": "DescriptionStyleModel",
      "state": {
       "description_width": "initial"
      }
     },
     "35a3f1725f99416d8fb871747ce96d11": {
      "model_module": "@jupyter-widgets/base",
      "model_module_version": "1.1.0",
      "model_name": "LayoutModel",
      "state": {}
     },
     "371a9844f0224f8d98287f45c864a7cc": {
      "model_module": "@jupyter-widgets/output",
      "model_module_version": "1.0.0",
      "model_name": "OutputModel",
      "state": {
       "layout": "IPY_MODEL_23990d98263d418a8731a94716e9f05c"
      }
     },
     "38530cdaf7d345ca98cc39bc922ad30c": {
      "model_module": "@jupyter-widgets/output",
      "model_module_version": "1.0.0",
      "model_name": "OutputModel",
      "state": {
       "layout": "IPY_MODEL_0ab542a6f95442809b9087acf853863e"
      }
     },
     "3855bab0943f44de849ebfd15b21460b": {
      "model_module": "@jupyter-widgets/controls",
      "model_module_version": "1.4.0",
      "model_name": "VBoxModel",
      "state": {
       "children": [
        "IPY_MODEL_d9615a94c8b6444b93c16f16f0c20099",
        "IPY_MODEL_04e93dda2561427c81da0cf3ddcf54f2"
       ],
       "layout": "IPY_MODEL_6d4799aee00b41b18086f02d616fd5ad"
      }
     },
     "3954027757394220b1bf9d68d5d189a6": {
      "model_module": "@jupyter-widgets/base",
      "model_module_version": "1.1.0",
      "model_name": "LayoutModel",
      "state": {}
     },
     "39acbd8b32d04062b4d91ce714c60f22": {
      "model_module": "@jupyter-widgets/controls",
      "model_module_version": "1.4.0",
      "model_name": "VBoxModel",
      "state": {
       "children": [
        "IPY_MODEL_0272a1f8e8f5440199b2379276da66da",
        "IPY_MODEL_3f81fe751f564f0c8adc3432fc83dd1e"
       ],
       "layout": "IPY_MODEL_f19a6c8aa84f40cd9481eaf618e32a28"
      }
     },
     "39fc8d9235a64d32b445359d4d6dd91f": {
      "model_module": "@jupyter-widgets/output",
      "model_module_version": "1.0.0",
      "model_name": "OutputModel",
      "state": {
       "layout": "IPY_MODEL_6c823da5887149d9b12cfe25ae8733de"
      }
     },
     "3a21a90e33b8431ebe66c7029e7bdd9e": {
      "model_module": "@jupyter-widgets/base",
      "model_module_version": "1.1.0",
      "model_name": "LayoutModel",
      "state": {}
     },
     "3a2ce19771f348c9929edbef82155ec4": {
      "model_module": "@jupyter-widgets/controls",
      "model_module_version": "1.4.0",
      "model_name": "ButtonStyleModel",
      "state": {}
     },
     "3b1950ebb80947ccbb5b45b780665d7d": {
      "model_module": "@jupyter-widgets/base",
      "model_module_version": "1.1.0",
      "model_name": "LayoutModel",
      "state": {
       "width": "300px"
      }
     },
     "3b2525a7f6e044e2899fe8648e3740cc": {
      "model_module": "@jupyter-widgets/base",
      "model_module_version": "1.1.0",
      "model_name": "LayoutModel",
      "state": {
       "width": "300px"
      }
     },
     "3b3ddb7fc1b4490c8612f19ca9604e62": {
      "model_module": "@jupyter-widgets/base",
      "model_module_version": "1.1.0",
      "model_name": "LayoutModel",
      "state": {}
     },
     "3ba1cafa5b3c4fd68c6c19c25f9f3329": {
      "model_module": "@jupyter-widgets/base",
      "model_module_version": "1.1.0",
      "model_name": "LayoutModel",
      "state": {}
     },
     "3c31f2a5d1bd48ee9ed459cffbe79ffb": {
      "model_module": "@jupyter-widgets/base",
      "model_module_version": "1.1.0",
      "model_name": "LayoutModel",
      "state": {}
     },
     "3e1b8cb80c4e423183ed0f65d780a927": {
      "model_module": "@jupyter-widgets/controls",
      "model_module_version": "1.4.0",
      "model_name": "VBoxModel",
      "state": {
       "children": [
        "IPY_MODEL_409856f520f04deb990256716cf6503e"
       ],
       "layout": "IPY_MODEL_d5001321870c44a8afd70cc4fc75feb3"
      }
     },
     "3e58e3a76c78401e9f0235e625a4f54a": {
      "model_module": "@jupyter-widgets/controls",
      "model_module_version": "1.4.0",
      "model_name": "DescriptionStyleModel",
      "state": {
       "description_width": ""
      }
     },
     "3eb083b5fb264bb88e5d173142139e54": {
      "model_module": "@jupyter-widgets/base",
      "model_module_version": "1.1.0",
      "model_name": "LayoutModel",
      "state": {}
     },
     "3f7c70a94b4f4219bbc1c2478a31764e": {
      "model_module": "@jupyter-widgets/controls",
      "model_module_version": "1.4.0",
      "model_name": "CheckboxModel",
      "state": {
       "description": "Print log in Notebook's cells",
       "disabled": false,
       "layout": "IPY_MODEL_d68015788aed4f41943dc0950c94ac05",
       "style": "IPY_MODEL_6819e81c9dce49f19bc4620f1db0c849",
       "value": false
      }
     },
     "3f81fe751f564f0c8adc3432fc83dd1e": {
      "model_module": "@jupyter-widgets/controls",
      "model_module_version": "1.4.0",
      "model_name": "TextareaModel",
      "state": {
       "layout": "IPY_MODEL_5ac01780c0974207be0cba31ba574071",
       "placeholder": "Example: IOC:m1 IOC:m3 LNLS:TEST:motor_g3",
       "style": "IPY_MODEL_83a08c64be994e82ad73f4447333e252"
      }
     },
     "3ff314d5f57741f1b4db0352ef58c730": {
      "model_module": "@jupyter-widgets/controls",
      "model_module_version": "1.4.0",
      "model_name": "ButtonModel",
      "state": {
       "button_style": "success",
       "description": "Start Scanning Plot",
       "layout": "IPY_MODEL_bee7e96652ea4d34b94827c1f493234d",
       "style": "IPY_MODEL_0067c089ee7948709eb4abb39e522308",
       "tooltip": "Click me"
      }
     },
     "409856f520f04deb990256716cf6503e": {
      "model_module": "@jupyter-widgets/controls",
      "model_module_version": "1.4.0",
      "model_name": "ButtonModel",
      "state": {
       "button_style": "success",
       "description": "Start Scanning Plot",
       "layout": "IPY_MODEL_da9dc1ef043a472fba2402706757af35",
       "style": "IPY_MODEL_4983d56c87b148e486f8b21987079ab9",
       "tooltip": "Click me"
      }
     },
     "412f69f9579b428896ce1d74e16ee81c": {
      "model_module": "@jupyter-widgets/base",
      "model_module_version": "1.1.0",
      "model_name": "LayoutModel",
      "state": {}
     },
     "43408b57d47441e692ddbb1e5a94b870": {
      "model_module": "@jupyter-widgets/controls",
      "model_module_version": "1.4.0",
      "model_name": "ButtonStyleModel",
      "state": {}
     },
     "4361796055f3450faa3436ea72e3db4e": {
      "model_module": "@jupyter-widgets/controls",
      "model_module_version": "1.4.0",
      "model_name": "BoxModel",
      "state": {
       "layout": "IPY_MODEL_61db9e15fdd54b44ae4f34d7acdd8a2f"
      }
     },
     "43f75139ef6c40fb8c2d00a4f8bc9906": {
      "model_module": "@jupyter-widgets/controls",
      "model_module_version": "1.4.0",
      "model_name": "VBoxModel",
      "state": {
       "children": [
        "IPY_MODEL_cc8069f44f054b128c51ab18d7dcc9ed"
       ],
       "layout": "IPY_MODEL_f1a00a6999374119ac424f182e15fada"
      }
     },
     "44026a4fe08d44568f78ac91150399d0": {
      "model_module": "@jupyter-widgets/base",
      "model_module_version": "1.1.0",
      "model_name": "LayoutModel",
      "state": {}
     },
     "445c92e964944ca9aea611850ae74caf": {
      "model_module": "@jupyter-widgets/controls",
      "model_module_version": "1.4.0",
      "model_name": "CheckboxModel",
      "state": {
       "description": "Plot after scan ends: ",
       "disabled": false,
       "layout": "IPY_MODEL_53988c1ea5784f588f1e7a2ce1e55f45",
       "style": "IPY_MODEL_058b3575d0e14460b1cceb6c6fae23d1",
       "value": false
      }
     },
     "4461036c0e0e471a9c70759d69982852": {
      "model_module": "@jupyter-widgets/base",
      "model_module_version": "1.1.0",
      "model_name": "LayoutModel",
      "state": {}
     },
     "44d78d7d31e4448899cbe9b96c17812c": {
      "model_module": "@jupyter-widgets/base",
      "model_module_version": "1.1.0",
      "model_name": "LayoutModel",
      "state": {}
     },
     "45ae8d7617384141af040eb11a8a92e3": {
      "model_module": "@jupyter-widgets/base",
      "model_module_version": "1.1.0",
      "model_name": "LayoutModel",
      "state": {}
     },
     "46222ad4c4fa4dc8853e47e10052ad23": {
      "model_module": "@jupyter-widgets/controls",
      "model_module_version": "1.4.0",
      "model_name": "CheckboxModel",
      "state": {
       "disabled": false,
       "layout": "IPY_MODEL_f755347417e844048f59aa26e998adc6",
       "style": "IPY_MODEL_c9191ffc5fc14b0eb9a9e8bb87a3e140",
       "value": false
      }
     },
     "468490a89ff444358862849e0f7f6735": {
      "model_module": "@jupyter-widgets/controls",
      "model_module_version": "1.4.0",
      "model_name": "ButtonModel",
      "state": {
       "button_style": "success",
       "description": "Start Scanning Plot",
       "layout": "IPY_MODEL_687198f626834791823d833fc32c9b75",
       "style": "IPY_MODEL_c1957fea94f24029a84f3dd52598c440",
       "tooltip": "Click me"
      }
     },
     "46e3cb704eef4be081611f2ecd074d46": {
      "model_module": "@jupyter-widgets/controls",
      "model_module_version": "1.4.0",
      "model_name": "ButtonModel",
      "state": {
       "button_style": "success",
       "description": "Start PV Monitoring",
       "layout": "IPY_MODEL_709cb40e15634b71b40e5d4fd1184ece",
       "style": "IPY_MODEL_d5ed3b25804143ea92880f767cfa664a",
       "tooltip": "Click me"
      }
     },
     "46f09eca8861429bac79c850dfd7eba5": {
      "model_module": "@jupyter-widgets/base",
      "model_module_version": "1.1.0",
      "model_name": "LayoutModel",
      "state": {}
     },
     "4869dcf36213464ea1f1a76f90935803": {
      "model_module": "@jupyter-widgets/controls",
      "model_module_version": "1.4.0",
      "model_name": "BoxModel",
      "state": {
       "children": [
        "IPY_MODEL_baec6a3b3d8841cfa7bc3e870e14d72e"
       ],
       "layout": "IPY_MODEL_d6334aa3ff194030b28ae4b6f84a567d"
      }
     },
     "4983d56c87b148e486f8b21987079ab9": {
      "model_module": "@jupyter-widgets/controls",
      "model_module_version": "1.4.0",
      "model_name": "ButtonStyleModel",
      "state": {}
     },
     "49f477d3bc964e64971515ecb8e386c1": {
      "model_module": "@jupyter-widgets/base",
      "model_module_version": "1.1.0",
      "model_name": "LayoutModel",
      "state": {}
     },
     "4a4e0d9328df454ca9dc301b764cd10d": {
      "model_module": "@jupyter-widgets/base",
      "model_module_version": "1.1.0",
      "model_name": "LayoutModel",
      "state": {
       "width": "300px"
      }
     },
     "4b2378a663174c5ab4174c132eca1d09": {
      "model_module": "plotlywidget",
      "model_module_version": "0.8.0",
      "model_name": "FigureModel",
      "state": {
       "_config": {
        "plotlyServerURL": "https://plot.ly"
       },
       "_js2py_layoutDelta": {},
       "_js2py_pointsCallback": {},
       "_js2py_relayout": {},
       "_js2py_restyle": {},
       "_js2py_traceDeltas": {},
       "_js2py_update": {},
       "_layout": {
        "template": {}
       },
       "_model_module_version": "0.8.0",
       "_py2js_addTraces": {},
       "_py2js_animate": {},
       "_py2js_deleteTraces": {},
       "_py2js_moveTraces": {},
       "_py2js_removeLayoutProps": {},
       "_py2js_removeTraceProps": {},
       "_py2js_restyle": {},
       "_py2js_update": {},
       "_view_count": 0,
       "_view_module_version": "0.8.0"
      }
     },
     "4bef2d4af01e4e88b7219afc0c68e214": {
      "model_module": "@jupyter-widgets/controls",
      "model_module_version": "1.4.0",
      "model_name": "DescriptionStyleModel",
      "state": {
       "description_width": "initial"
      }
     },
     "4c1d833a5ba34bcbb9e5541df05611c8": {
      "model_module": "@jupyter-widgets/controls",
      "model_module_version": "1.4.0",
      "model_name": "DescriptionStyleModel",
      "state": {
       "description_width": ""
      }
     },
     "4c97933370dd4961a2274b4029a4dce9": {
      "model_module": "@jupyter-widgets/base",
      "model_module_version": "1.1.0",
      "model_name": "LayoutModel",
      "state": {}
     },
     "4d614c17ec9647ccae82a406bc5a0e6a": {
      "model_module": "@jupyter-widgets/base",
      "model_module_version": "1.1.0",
      "model_name": "LayoutModel",
      "state": {}
     },
     "4dbbdef7cd0141e48cdf72cc1c2375a6": {
      "model_module": "@jupyter-widgets/controls",
      "model_module_version": "1.4.0",
      "model_name": "CheckboxModel",
      "state": {
       "description": "Plot scan-gui graph instead of Jupyter's: ",
       "disabled": false,
       "layout": "IPY_MODEL_a3ff766778ef4fc39586d427b592b9e5",
       "style": "IPY_MODEL_b64c99bfded14ae5987dfdf504345bde",
       "value": false
      }
     },
     "4dc32fcdf0474e6a932b78d7c650ecc9": {
      "model_module": "@jupyter-widgets/controls",
      "model_module_version": "1.4.0",
      "model_name": "BoxModel",
      "state": {
       "layout": "IPY_MODEL_fad9c21482734e6380f42669bf2cdb72"
      }
     },
     "4ddcbdf67e1441b08c6d521f37e0b543": {
      "model_module": "@jupyter-widgets/output",
      "model_module_version": "1.0.0",
      "model_name": "OutputModel",
      "state": {
       "layout": "IPY_MODEL_46f09eca8861429bac79c850dfd7eba5"
      }
     },
     "4e6a37acd84f4b7197ee7b048c06a7ed": {
      "model_module": "@jupyter-widgets/controls",
      "model_module_version": "1.4.0",
      "model_name": "BoxModel",
      "state": {
       "layout": "IPY_MODEL_73e8d4b3a73b457492460bc3d71082b8"
      }
     },
     "4ef23f2f225e449db6058c989e8f9ce4": {
      "model_module": "@jupyter-widgets/output",
      "model_module_version": "1.0.0",
      "model_name": "OutputModel",
      "state": {
       "layout": "IPY_MODEL_a7630c88362d4c3bb7d5726aa4f4a8e0"
      }
     },
     "4f964b677e5d44d48faaf3c75d404dbc": {
      "model_module": "@jupyter-widgets/base",
      "model_module_version": "1.1.0",
      "model_name": "LayoutModel",
      "state": {}
     },
     "4fbb7fa368554c0aa13e86a6a70741bf": {
      "model_module": "@jupyter-widgets/base",
      "model_module_version": "1.1.0",
      "model_name": "LayoutModel",
      "state": {}
     },
     "4fbe8d0814104a23b7786db8a039a218": {
      "model_module": "@jupyter-widgets/base",
      "model_module_version": "1.1.0",
      "model_name": "LayoutModel",
      "state": {}
     },
     "506a51f7669746489caefef620a2abc9": {
      "model_module": "@jupyter-widgets/controls",
      "model_module_version": "1.4.0",
      "model_name": "DescriptionStyleModel",
      "state": {
       "description_width": "initial"
      }
     },
     "50c2680fe14f48b087e848f005a3b2b9": {
      "model_module": "@jupyter-widgets/controls",
      "model_module_version": "1.4.0",
      "model_name": "ButtonStyleModel",
      "state": {}
     },
     "513496c41cc14eac83455dc9a25f5cc9": {
      "buffers": [
       {
        "data": "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",
        "encoding": "base64",
        "path": [
         "value"
        ]
       }
      ],
      "model_module": "@jupyter-widgets/controls",
      "model_module_version": "1.4.0",
      "model_name": "ImageModel",
      "state": {
       "height": "35",
       "layout": "IPY_MODEL_8f64cd93dcb549e39f7092ef0c71523a",
       "value": {},
       "width": "35"
      }
     },
     "51dfbb180cf24827818e9ef834e9bf39": {
      "model_module": "@jupyter-widgets/base",
      "model_module_version": "1.1.0",
      "model_name": "LayoutModel",
      "state": {}
     },
     "51f4f846e55d4cc5acdfcfe09f8c5f01": {
      "model_module": "@jupyter-widgets/controls",
      "model_module_version": "1.4.0",
      "model_name": "CheckboxModel",
      "state": {
       "description": "Plot after scan ends: ",
       "disabled": false,
       "layout": "IPY_MODEL_94c95f66800e439d84c895592f50a803",
       "style": "IPY_MODEL_a3925a71c7894ae18505988c86289aeb",
       "value": false
      }
     },
     "5207b10ffd84457bab73fc0ee6e7f7eb": {
      "model_module": "@jupyter-widgets/controls",
      "model_module_version": "1.4.0",
      "model_name": "ButtonStyleModel",
      "state": {}
     },
     "5209197465f0462fba3c418b8edb6735": {
      "model_module": "@jupyter-widgets/output",
      "model_module_version": "1.0.0",
      "model_name": "OutputModel",
      "state": {
       "layout": "IPY_MODEL_4fbb7fa368554c0aa13e86a6a70741bf"
      }
     },
     "5212edfd832c4a578ad0207a1d9ee71e": {
      "model_module": "@jupyter-widgets/controls",
      "model_module_version": "1.4.0",
      "model_name": "CheckboxModel",
      "state": {
       "disabled": false,
       "layout": "IPY_MODEL_4d614c17ec9647ccae82a406bc5a0e6a",
       "style": "IPY_MODEL_233550ef7982482fb3a8a6079df4b70e",
       "value": false
      }
     },
     "52dba118bc1a497b8ede226524fa8f5d": {
      "model_module": "@jupyter-widgets/controls",
      "model_module_version": "1.4.0",
      "model_name": "DescriptionStyleModel",
      "state": {
       "description_width": "initial"
      }
     },
     "53988c1ea5784f588f1e7a2ce1e55f45": {
      "model_module": "@jupyter-widgets/base",
      "model_module_version": "1.1.0",
      "model_name": "LayoutModel",
      "state": {}
     },
     "54ecc7e7908d4c5a9d66ec8ac4612cd1": {
      "model_module": "@jupyter-widgets/base",
      "model_module_version": "1.1.0",
      "model_name": "LayoutModel",
      "state": {}
     },
     "5513a725955f4449a56255bf7c11212d": {
      "model_module": "@jupyter-widgets/controls",
      "model_module_version": "1.4.0",
      "model_name": "ButtonStyleModel",
      "state": {}
     },
     "555aee2717d6422981a4aa3a1d4814b3": {
      "model_module": "@jupyter-widgets/base",
      "model_module_version": "1.1.0",
      "model_name": "LayoutModel",
      "state": {}
     },
     "55d71521b3044952929ad0a45f543ae2": {
      "model_module": "@jupyter-widgets/base",
      "model_module_version": "1.1.0",
      "model_name": "LayoutModel",
      "state": {}
     },
     "55d981ceab78426ca37c8be8fa846d08": {
      "model_module": "@jupyter-widgets/base",
      "model_module_version": "1.1.0",
      "model_name": "LayoutModel",
      "state": {
       "width": "300px"
      }
     },
     "5637cd9311d74dada1d0f2ec5503e518": {
      "model_module": "@jupyter-widgets/controls",
      "model_module_version": "1.4.0",
      "model_name": "DescriptionStyleModel",
      "state": {
       "description_width": "initial"
      }
     },
     "568cf55da4334a1b81e3350ac73e7e0e": {
      "model_module": "@jupyter-widgets/base",
      "model_module_version": "1.1.0",
      "model_name": "LayoutModel",
      "state": {}
     },
     "577e7f8a75334a19ad42d7e04238ec11": {
      "model_module": "@jupyter-widgets/base",
      "model_module_version": "1.1.0",
      "model_name": "LayoutModel",
      "state": {}
     },
     "58d25e17ff25413e929d317439c9f9f1": {
      "model_module": "@jupyter-widgets/base",
      "model_module_version": "1.1.0",
      "model_name": "LayoutModel",
      "state": {}
     },
     "596e8c7e9dab4c76922b5d387f1343e0": {
      "model_module": "@jupyter-widgets/base",
      "model_module_version": "1.1.0",
      "model_name": "LayoutModel",
      "state": {}
     },
     "598cb240db76420e88f75ecbc9408804": {
      "model_module": "@jupyter-widgets/controls",
      "model_module_version": "1.4.0",
      "model_name": "TextareaModel",
      "state": {
       "layout": "IPY_MODEL_b7bb5c8e83604e42815570ba902141d9",
       "placeholder": "Example: IOC:m1 IOC:m3 LNLS:TEST:motor_g3",
       "style": "IPY_MODEL_c5ccc27939624be78f77effc29d50839"
      }
     },
     "5a9cbbad850f4bd1bd13223945bd6465": {
      "model_module": "@jupyter-widgets/controls",
      "model_module_version": "1.4.0",
      "model_name": "TextareaModel",
      "state": {
       "layout": "IPY_MODEL_80552bd564e548c7a3714781328bf927",
       "placeholder": "Example: IOC:m1 IOC:m3 LNLS:TEST:motor_g3",
       "style": "IPY_MODEL_f8beb4a86b81432084746e756a8ce4cb"
      }
     },
     "5ac01780c0974207be0cba31ba574071": {
      "model_module": "@jupyter-widgets/base",
      "model_module_version": "1.1.0",
      "model_name": "LayoutModel",
      "state": {}
     },
     "5b5ccac01bd44d31bf8937061d9a3607": {
      "model_module": "@jupyter-widgets/output",
      "model_module_version": "1.0.0",
      "model_name": "OutputModel",
      "state": {
       "layout": "IPY_MODEL_df9b42d450da4d069782662f966941f5"
      }
     },
     "5c75393e45b545dc8a25ec2bc482db2d": {
      "model_module": "@jupyter-widgets/base",
      "model_module_version": "1.1.0",
      "model_name": "LayoutModel",
      "state": {
       "height": "40px",
       "width": "40px"
      }
     },
     "5c96537de75a4c3dba531f3170c32151": {
      "model_module": "@jupyter-widgets/base",
      "model_module_version": "1.1.0",
      "model_name": "LayoutModel",
      "state": {
       "height": "40px",
       "width": "40px"
      }
     },
     "5ebd8207e35b45db9ed5aa797ef3ebff": {
      "model_module": "@jupyter-widgets/controls",
      "model_module_version": "1.4.0",
      "model_name": "DescriptionStyleModel",
      "state": {
       "description_width": ""
      }
     },
     "5f44717cd0df4fb691f12c7b6654906c": {
      "model_module": "@jupyter-widgets/controls",
      "model_module_version": "1.4.0",
      "model_name": "ButtonStyleModel",
      "state": {}
     },
     "5f836f4a3cd54d6d84d619260e747efd": {
      "model_module": "@jupyter-widgets/base",
      "model_module_version": "1.1.0",
      "model_name": "LayoutModel",
      "state": {}
     },
     "5f905c77d05c4dcb8177924750359d56": {
      "model_module": "@jupyter-widgets/output",
      "model_module_version": "1.0.0",
      "model_name": "OutputModel",
      "state": {
       "layout": "IPY_MODEL_7e76331ef19b467c8bbe19523503480c"
      }
     },
     "5fe7a5b6d5df42f1bc9b140e0b8bec69": {
      "model_module": "@jupyter-widgets/base",
      "model_module_version": "1.1.0",
      "model_name": "LayoutModel",
      "state": {}
     },
     "60944dbd601140168226076743be6d38": {
      "model_module": "@jupyter-widgets/controls",
      "model_module_version": "1.4.0",
      "model_name": "DescriptionStyleModel",
      "state": {
       "description_width": "initial"
      }
     },
     "6166740afe7f4af59ff6df9bc3ed80f8": {
      "model_module": "@jupyter-widgets/controls",
      "model_module_version": "1.4.0",
      "model_name": "CheckboxModel",
      "state": {
       "description": "Live plot in Jupyter: ",
       "disabled": false,
       "layout": "IPY_MODEL_908e81d0226b49b2901fbb8ee736c3e5",
       "style": "IPY_MODEL_67813fb7778a49c7b6dce1e6db705a5c",
       "value": false
      }
     },
     "61db9e15fdd54b44ae4f34d7acdd8a2f": {
      "model_module": "@jupyter-widgets/base",
      "model_module_version": "1.1.0",
      "model_name": "LayoutModel",
      "state": {
       "height": "40px",
       "width": "40px"
      }
     },
     "62967e0a485f4c73b7eedae61c87d6d2": {
      "model_module": "@jupyter-widgets/controls",
      "model_module_version": "1.4.0",
      "model_name": "CheckboxModel",
      "state": {
       "disabled": false,
       "layout": "IPY_MODEL_55d71521b3044952929ad0a45f543ae2",
       "style": "IPY_MODEL_fad38f0c85a5487785509aa2ed9b9e9d",
       "value": false
      }
     },
     "62e16bfe37dd418bbb9a923c6c22bd13": {
      "model_module": "@jupyter-widgets/output",
      "model_module_version": "1.0.0",
      "model_name": "OutputModel",
      "state": {
       "layout": "IPY_MODEL_2ef89e6a08754dae8d0d700b17d6d19c"
      }
     },
     "6398a14ab611414f937ef223d6decb4e": {
      "model_module": "@jupyter-widgets/controls",
      "model_module_version": "1.4.0",
      "model_name": "DescriptionStyleModel",
      "state": {
       "description_width": ""
      }
     },
     "63d0357949bd422fa835c06a891eafe9": {
      "model_module": "@jupyter-widgets/base",
      "model_module_version": "1.1.0",
      "model_name": "LayoutModel",
      "state": {}
     },
     "647895ee33ba416993585227d49f374a": {
      "model_module": "@jupyter-widgets/controls",
      "model_module_version": "1.4.0",
      "model_name": "BoxModel",
      "state": {
       "layout": "IPY_MODEL_6b7a276b276d49cf9e4fb11e89d2d282"
      }
     },
     "64b2fa2dfb874509b142ff6b11c05597": {
      "model_module": "@jupyter-widgets/base",
      "model_module_version": "1.1.0",
      "model_name": "LayoutModel",
      "state": {}
     },
     "64baf7be8a6c4dddaec3001ca82e2e99": {
      "model_module": "@jupyter-widgets/controls",
      "model_module_version": "1.4.0",
      "model_name": "DescriptionStyleModel",
      "state": {
       "description_width": "initial"
      }
     },
     "65977f9e5a15402ba713bb7e6b01bab8": {
      "model_module": "@jupyter-widgets/controls",
      "model_module_version": "1.4.0",
      "model_name": "LabelModel",
      "state": {
       "layout": "IPY_MODEL_d62aff543faf4d098ce01aebb581a456",
       "style": "IPY_MODEL_958b019d90834fac926f6e354412862e",
       "value": "No motors initilized to be showed."
      }
     },
     "65b5d7a1a660493db0053ef681610213": {
      "model_module": "@jupyter-widgets/controls",
      "model_module_version": "1.4.0",
      "model_name": "BoxModel",
      "state": {
       "layout": "IPY_MODEL_88bea80ca5db451085743aeaa1181083"
      }
     },
     "65d9e7d17b6f4f1cab551f2ed7410844": {
      "model_module": "@jupyter-widgets/controls",
      "model_module_version": "1.4.0",
      "model_name": "VBoxModel",
      "state": {
       "children": [
        "IPY_MODEL_8be519c504f74890b33d1ac91d0aee4a",
        "IPY_MODEL_b76c6e473b3d4f2dac434cddcd2577cf"
       ],
       "layout": "IPY_MODEL_b0c1190515db4a9bb4b2ae566f74168f"
      }
     },
     "66196b0bff8742e1aef9a67015a3cba6": {
      "model_module": "@jupyter-widgets/base",
      "model_module_version": "1.1.0",
      "model_name": "LayoutModel",
      "state": {}
     },
     "67813fb7778a49c7b6dce1e6db705a5c": {
      "model_module": "@jupyter-widgets/controls",
      "model_module_version": "1.4.0",
      "model_name": "DescriptionStyleModel",
      "state": {
       "description_width": "initial"
      }
     },
     "67c6f4a57a4c49a0b827439bf90faee1": {
      "model_module": "@jupyter-widgets/controls",
      "model_module_version": "1.4.0",
      "model_name": "DescriptionStyleModel",
      "state": {
       "description_width": ""
      }
     },
     "67cdf6ad47cf4dbb9b600e0df1bfba94": {
      "model_module": "@jupyter-widgets/controls",
      "model_module_version": "1.4.0",
      "model_name": "ButtonModel",
      "state": {
       "button_style": "success",
       "description": "Start Motor Initializaton",
       "layout": "IPY_MODEL_24e984ed4205454086d46a78bbce818a",
       "style": "IPY_MODEL_5513a725955f4449a56255bf7c11212d",
       "tooltip": "Click me"
      }
     },
     "67e9dab309cb443a905cd7cff927748e": {
      "model_module": "@jupyter-widgets/base",
      "model_module_version": "1.1.0",
      "model_name": "LayoutModel",
      "state": {}
     },
     "6819e81c9dce49f19bc4620f1db0c849": {
      "model_module": "@jupyter-widgets/controls",
      "model_module_version": "1.4.0",
      "model_name": "DescriptionStyleModel",
      "state": {
       "description_width": "initial"
      }
     },
     "687198f626834791823d833fc32c9b75": {
      "model_module": "@jupyter-widgets/base",
      "model_module_version": "1.1.0",
      "model_name": "LayoutModel",
      "state": {
       "width": "300px"
      }
     },
     "68c7858536fb438782eee29e483cb450": {
      "model_module": "@jupyter-widgets/controls",
      "model_module_version": "1.4.0",
      "model_name": "DescriptionStyleModel",
      "state": {
       "description_width": "initial"
      }
     },
     "69ee97fd5adb41b383650ed06d083e81": {
      "model_module": "@jupyter-widgets/controls",
      "model_module_version": "1.4.0",
      "model_name": "VBoxModel",
      "state": {
       "children": [
        "IPY_MODEL_b414938e51814ef8bced367a7f23b8ba"
       ],
       "layout": "IPY_MODEL_45ae8d7617384141af040eb11a8a92e3"
      }
     },
     "6a857ba499304391a732ef3f5fdc9e2d": {
      "model_module": "@jupyter-widgets/controls",
      "model_module_version": "1.4.0",
      "model_name": "CheckboxModel",
      "state": {
       "disabled": false,
       "layout": "IPY_MODEL_ce78a6d1492546a0a550db56470d5bed",
       "style": "IPY_MODEL_67c6f4a57a4c49a0b827439bf90faee1",
       "value": false
      }
     },
     "6aa4cc5b9a304017bce499b66e9bd2fa": {
      "model_module": "@jupyter-widgets/controls",
      "model_module_version": "1.4.0",
      "model_name": "VBoxModel",
      "state": {
       "children": [
        "IPY_MODEL_65977f9e5a15402ba713bb7e6b01bab8"
       ],
       "layout": "IPY_MODEL_d4be32a37ef342c9a61a91f16fe246ff"
      }
     },
     "6b7a276b276d49cf9e4fb11e89d2d282": {
      "model_module": "@jupyter-widgets/base",
      "model_module_version": "1.1.0",
      "model_name": "LayoutModel",
      "state": {}
     },
     "6c5d84787f0842b4b6bffc4714aeca9c": {
      "model_module": "@jupyter-widgets/controls",
      "model_module_version": "1.4.0",
      "model_name": "DescriptionStyleModel",
      "state": {
       "description_width": ""
      }
     },
     "6c823da5887149d9b12cfe25ae8733de": {
      "model_module": "@jupyter-widgets/base",
      "model_module_version": "1.1.0",
      "model_name": "LayoutModel",
      "state": {}
     },
     "6d4799aee00b41b18086f02d616fd5ad": {
      "model_module": "@jupyter-widgets/base",
      "model_module_version": "1.1.0",
      "model_name": "LayoutModel",
      "state": {}
     },
     "6d6855a718b641498f535f19f2f97a9d": {
      "model_module": "@jupyter-widgets/base",
      "model_module_version": "1.1.0",
      "model_name": "LayoutModel",
      "state": {}
     },
     "6d769c78e3dd45a28a35fafe0dc259c9": {
      "model_module": "@jupyter-widgets/controls",
      "model_module_version": "1.4.0",
      "model_name": "DescriptionStyleModel",
      "state": {
       "description_width": ""
      }
     },
     "6decb6dd21354541b684bf02bf322778": {
      "model_module": "@jupyter-widgets/controls",
      "model_module_version": "1.4.0",
      "model_name": "BoxModel",
      "state": {
       "layout": "IPY_MODEL_5c96537de75a4c3dba531f3170c32151"
      }
     },
     "6e1e284fc59841d7b959073c72a2481f": {
      "model_module": "@jupyter-widgets/controls",
      "model_module_version": "1.4.0",
      "model_name": "VBoxModel",
      "state": {
       "children": [
        "IPY_MODEL_bf5221de28d8453cbd14da2c2119234f"
       ],
       "layout": "IPY_MODEL_0253bd5636bf43929e5ec2d02818f6a0"
      }
     },
     "6ead58717996445e8356dcc5fea381eb": {
      "model_module": "@jupyter-widgets/base",
      "model_module_version": "1.1.0",
      "model_name": "LayoutModel",
      "state": {}
     },
     "6ef5205650a0422487ec9d4ceb70a641": {
      "model_module": "@jupyter-widgets/base",
      "model_module_version": "1.1.0",
      "model_name": "LayoutModel",
      "state": {
       "height": "40px",
       "width": "40px"
      }
     },
     "6fd6f73a0a0e443a9143a6cd2dd88cfd": {
      "model_module": "@jupyter-widgets/output",
      "model_module_version": "1.0.0",
      "model_name": "OutputModel",
      "state": {
       "layout": "IPY_MODEL_3954027757394220b1bf9d68d5d189a6"
      }
     },
     "706a968bced342fbb60afc19497451f7": {
      "model_module": "@jupyter-widgets/controls",
      "model_module_version": "1.4.0",
      "model_name": "CheckboxModel",
      "state": {
       "description": "Print log in Notebook's cells",
       "disabled": false,
       "layout": "IPY_MODEL_64b2fa2dfb874509b142ff6b11c05597",
       "style": "IPY_MODEL_e6fc675a63af4bfa8aa3d91946a15dd7",
       "value": false
      }
     },
     "709cb40e15634b71b40e5d4fd1184ece": {
      "model_module": "@jupyter-widgets/base",
      "model_module_version": "1.1.0",
      "model_name": "LayoutModel",
      "state": {
       "width": "300px"
      }
     },
     "70c7495eeb7d450893374fea20de665a": {
      "model_module": "plotlywidget",
      "model_module_version": "0.8.0",
      "model_name": "FigureModel",
      "state": {
       "_config": {
        "plotlyServerURL": "https://plot.ly"
       },
       "_data": [
        {
         "mode": "lines+markers",
         "name": "line1",
         "type": "scatter",
         "uid": "9207a83a-a3e2-4486-a2f3-7827ac16b537",
         "x": [],
         "xaxis": "x",
         "y": [],
         "yaxis": "y"
        },
        {
         "mode": "lines+markers",
         "name": "line2",
         "type": "scatter",
         "uid": "4ca91e9a-0559-4a0c-8b55-10105c26a130",
         "x": [],
         "xaxis": "x2",
         "y": [],
         "yaxis": "y2"
        }
       ],
       "_js2py_pointsCallback": {},
       "_js2py_relayout": {},
       "_js2py_restyle": {},
       "_js2py_update": {},
       "_last_layout_edit_id": 3,
       "_last_trace_edit_id": 3,
       "_layout": {
        "plot_bgcolor": "rgb(230, 230, 230)",
        "template": {},
        "title": {
         "text": "Scan"
        },
        "xaxis": {
         "anchor": "y",
         "domain": [
          0,
          1
         ]
        },
        "xaxis2": {
         "anchor": "y2",
         "domain": [
          0,
          1
         ]
        },
        "yaxis": {
         "anchor": "x",
         "domain": [
          0.575,
          1
         ]
        },
        "yaxis2": {
         "anchor": "x2",
         "domain": [
          0,
          0.425
         ]
        }
       },
       "_model_module_version": "0.8.0",
       "_py2js_animate": {},
       "_py2js_deleteTraces": {},
       "_py2js_moveTraces": {},
       "_py2js_removeLayoutProps": {},
       "_py2js_removeTraceProps": {},
       "_py2js_restyle": {},
       "_view_count": 0,
       "_view_module_version": "0.8.0"
      }
     },
     "716f7379d8804275b9436405a60f3470": {
      "model_module": "plotlywidget",
      "model_module_version": "0.8.0",
      "model_name": "FigureModel",
      "state": {
       "_config": {
        "plotlyServerURL": "https://plot.ly"
       },
       "_js2py_layoutDelta": {},
       "_js2py_pointsCallback": {},
       "_js2py_relayout": {},
       "_js2py_restyle": {},
       "_js2py_traceDeltas": {},
       "_js2py_update": {},
       "_layout": {
        "template": {}
       },
       "_model_module_version": "0.8.0",
       "_py2js_addTraces": {},
       "_py2js_animate": {},
       "_py2js_deleteTraces": {},
       "_py2js_moveTraces": {},
       "_py2js_removeLayoutProps": {},
       "_py2js_removeTraceProps": {},
       "_py2js_restyle": {},
       "_py2js_update": {},
       "_view_count": 0,
       "_view_module_version": "0.8.0"
      }
     },
     "71b9c99501f14469afdb6ad6e070e816": {
      "model_module": "@jupyter-widgets/controls",
      "model_module_version": "1.4.0",
      "model_name": "TextareaModel",
      "state": {
       "layout": "IPY_MODEL_25644efb52954aaab68b879410695f66",
       "placeholder": "Example: IOC:m1 IOC:m3 LNLS:TEST:motor_g3",
       "style": "IPY_MODEL_6398a14ab611414f937ef223d6decb4e"
      }
     },
     "71baf325844b416e87947bf57192bc86": {
      "model_module": "@jupyter-widgets/controls",
      "model_module_version": "1.4.0",
      "model_name": "VBoxModel",
      "state": {
       "children": [
        "IPY_MODEL_1deeee2a7f4a49efb2d5a992f262d445",
        "IPY_MODEL_38530cdaf7d345ca98cc39bc922ad30c"
       ],
       "layout": "IPY_MODEL_db23984ceeae44cea9e47651ccf1a982"
      }
     },
     "7220f3b490b34451a0d9630c219808d7": {
      "model_module": "@jupyter-widgets/base",
      "model_module_version": "1.1.0",
      "model_name": "LayoutModel",
      "state": {}
     },
     "73e8d4b3a73b457492460bc3d71082b8": {
      "model_module": "@jupyter-widgets/base",
      "model_module_version": "1.1.0",
      "model_name": "LayoutModel",
      "state": {}
     },
     "7502215057434ddf904fb203c78550d7": {
      "model_module": "@jupyter-widgets/base",
      "model_module_version": "1.1.0",
      "model_name": "LayoutModel",
      "state": {}
     },
     "750ceb7f018740ea8bfdc2c4fd348e37": {
      "model_module": "@jupyter-widgets/base",
      "model_module_version": "1.1.0",
      "model_name": "LayoutModel",
      "state": {
       "width": "300px"
      }
     },
     "7576cc1926984bf7b460181463940bae": {
      "buffers": [
       {
        "data": "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",
        "encoding": "base64",
        "path": [
         "value"
        ]
       }
      ],
      "model_module": "@jupyter-widgets/controls",
      "model_module_version": "1.4.0",
      "model_name": "ImageModel",
      "state": {
       "height": "35",
       "layout": "IPY_MODEL_bbad478c1e1d408cbeb3293f148476d6",
       "value": {},
       "width": "35"
      }
     },
     "7629ec9cb6c049c8b1c7a7fe74a8f91b": {
      "model_module": "@jupyter-widgets/controls",
      "model_module_version": "1.4.0",
      "model_name": "DescriptionStyleModel",
      "state": {
       "description_width": ""
      }
     },
     "764bbc55f37c4ea890aa13b3e20891f9": {
      "model_module": "@jupyter-widgets/base",
      "model_module_version": "1.1.0",
      "model_name": "LayoutModel",
      "state": {}
     },
     "7744b21f94594ab897a8f827950d06ef": {
      "model_module": "@jupyter-widgets/controls",
      "model_module_version": "1.4.0",
      "model_name": "VBoxModel",
      "state": {
       "children": [
        "IPY_MODEL_3f7c70a94b4f4219bbc1c2478a31764e",
        "IPY_MODEL_eadd490d315f487ba9cc5855fca54e4d"
       ],
       "layout": "IPY_MODEL_8419bb9bd67e45cd86377b7ab8fd4fa6"
      }
     },
     "780b5bb3fcf641ca94e6cf16196150cf": {
      "model_module": "@jupyter-widgets/controls",
      "model_module_version": "1.4.0",
      "model_name": "VBoxModel",
      "state": {
       "children": [
        "IPY_MODEL_bd83095fd75249e7bca754ae763c3908",
        "IPY_MODEL_01b70b2ca24a4ca6a33e3a7aae1057e5"
       ],
       "layout": "IPY_MODEL_cdd2b887f43647219c68df4d18edf431"
      }
     },
     "78570f445fc640a2ba52e47b5c03d1df": {
      "model_module": "@jupyter-widgets/controls",
      "model_module_version": "1.4.0",
      "model_name": "DescriptionStyleModel",
      "state": {
       "description_width": "initial"
      }
     },
     "78d80c3d17fa41a8b38f2b9c084f4632": {
      "model_module": "@jupyter-widgets/base",
      "model_module_version": "1.1.0",
      "model_name": "LayoutModel",
      "state": {
       "height": "40px",
       "width": "40px"
      }
     },
     "78fcf2a856bd4a65966907cb86070904": {
      "model_module": "@jupyter-widgets/base",
      "model_module_version": "1.1.0",
      "model_name": "LayoutModel",
      "state": {
       "height": "40px",
       "width": "40px"
      }
     },
     "79388d95029248bc95b4b292810ad139": {
      "model_module": "@jupyter-widgets/base",
      "model_module_version": "1.1.0",
      "model_name": "LayoutModel",
      "state": {}
     },
     "7cc7486bb79144f2b828614194bcaf9a": {
      "model_module": "@jupyter-widgets/controls",
      "model_module_version": "1.4.0",
      "model_name": "DescriptionStyleModel",
      "state": {
       "description_width": ""
      }
     },
     "7d01ebe3d09c4556b122e75d23a3d350": {
      "model_module": "@jupyter-widgets/base",
      "model_module_version": "1.1.0",
      "model_name": "LayoutModel",
      "state": {}
     },
     "7e6baf7258dd4daf881e936250e15003": {
      "model_module": "@jupyter-widgets/controls",
      "model_module_version": "1.4.0",
      "model_name": "VBoxModel",
      "state": {
       "children": [
        "IPY_MODEL_46e3cb704eef4be081611f2ecd074d46",
        "IPY_MODEL_8766c85d832447629809d86929d756b9"
       ],
       "layout": "IPY_MODEL_d1db8c03946547a58a9abcd7101f003e"
      }
     },
     "7e76331ef19b467c8bbe19523503480c": {
      "model_module": "@jupyter-widgets/base",
      "model_module_version": "1.1.0",
      "model_name": "LayoutModel",
      "state": {}
     },
     "7e849dedef2146d0afd9e6f8a87e6451": {
      "buffers": [
       {
        "data": "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",
        "encoding": "base64",
        "path": [
         "value"
        ]
       }
      ],
      "model_module": "@jupyter-widgets/controls",
      "model_module_version": "1.4.0",
      "model_name": "ImageModel",
      "state": {
       "height": "35",
       "layout": "IPY_MODEL_273fffe6c81847c391f0aca2751ed738",
       "value": {},
       "width": "35"
      }
     },
     "7e894e571edd4b678a9ba733303c2a6e": {
      "model_module": "@jupyter-widgets/base",
      "model_module_version": "1.1.0",
      "model_name": "LayoutModel",
      "state": {}
     },
     "7f145aa863264523b11384b4d12943da": {
      "model_module": "@jupyter-widgets/controls",
      "model_module_version": "1.4.0",
      "model_name": "BoxModel",
      "state": {
       "layout": "IPY_MODEL_8b9b114688174921b101c0201602fb4e"
      }
     },
     "80295925732d4455838739761ba56611": {
      "model_module": "@jupyter-widgets/base",
      "model_module_version": "1.1.0",
      "model_name": "LayoutModel",
      "state": {}
     },
     "80552bd564e548c7a3714781328bf927": {
      "model_module": "@jupyter-widgets/base",
      "model_module_version": "1.1.0",
      "model_name": "LayoutModel",
      "state": {}
     },
     "824233dc961b4128ab2d1aa1b4560039": {
      "buffers": [
       {
        "data": "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",
        "encoding": "base64",
        "path": [
         "value"
        ]
       }
      ],
      "model_module": "@jupyter-widgets/controls",
      "model_module_version": "1.4.0",
      "model_name": "ImageModel",
      "state": {
       "height": "35",
       "layout": "IPY_MODEL_c43b7860b0b84609a53130e3f8f7ed3e",
       "value": {},
       "width": "35"
      }
     },
     "830ec2c61eeb441fbb0463c16bb6de7a": {
      "buffers": [
       {
        "data": "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",
        "encoding": "base64",
        "path": [
         "value"
        ]
       }
      ],
      "model_module": "@jupyter-widgets/controls",
      "model_module_version": "1.4.0",
      "model_name": "ImageModel",
      "state": {
       "height": "35",
       "layout": "IPY_MODEL_fef0e6b477da415d974ee0fc4b7bcadf",
       "value": {},
       "width": "35"
      }
     },
     "832fd3d6dbbd4af89d8566345f429e8c": {
      "model_module": "@jupyter-widgets/controls",
      "model_module_version": "1.4.0",
      "model_name": "ButtonStyleModel",
      "state": {}
     },
     "83a08c64be994e82ad73f4447333e252": {
      "model_module": "@jupyter-widgets/controls",
      "model_module_version": "1.4.0",
      "model_name": "DescriptionStyleModel",
      "state": {
       "description_width": ""
      }
     },
     "8419bb9bd67e45cd86377b7ab8fd4fa6": {
      "model_module": "@jupyter-widgets/base",
      "model_module_version": "1.1.0",
      "model_name": "LayoutModel",
      "state": {}
     },
     "84635c65a0094dc3814ad9b631e8f804": {
      "model_module": "@jupyter-widgets/base",
      "model_module_version": "1.1.0",
      "model_name": "LayoutModel",
      "state": {
       "width": "300px"
      }
     },
     "846d24981d274ec6807c530346a1a069": {
      "model_module": "@jupyter-widgets/controls",
      "model_module_version": "1.4.0",
      "model_name": "BoxModel",
      "state": {
       "children": [
        "IPY_MODEL_7576cc1926984bf7b460181463940bae"
       ],
       "layout": "IPY_MODEL_9c7b0d20634c450dbe6c619537911444"
      }
     },
     "84b21766e8ae45e78019ae6c2091731a": {
      "model_module": "@jupyter-widgets/base",
      "model_module_version": "1.1.0",
      "model_name": "LayoutModel",
      "state": {}
     },
     "856201c0095d47ef823ebc6410114c40": {
      "model_module": "@jupyter-widgets/controls",
      "model_module_version": "1.4.0",
      "model_name": "ButtonStyleModel",
      "state": {}
     },
     "869c153264764c589b2ea2c343553f4b": {
      "model_module": "@jupyter-widgets/controls",
      "model_module_version": "1.4.0",
      "model_name": "TextareaModel",
      "state": {
       "layout": "IPY_MODEL_7220f3b490b34451a0d9630c219808d7",
       "placeholder": "Example: IOC:m1.DMOV IOC:m3.RBV LNLS:ANEL:corrente.VAL",
       "style": "IPY_MODEL_c55259e33d214862ba497bfa4c54439a"
      }
     },
     "8766c85d832447629809d86929d756b9": {
      "model_module": "@jupyter-widgets/controls",
      "model_module_version": "1.4.0",
      "model_name": "TextareaModel",
      "state": {
       "layout": "IPY_MODEL_63d0357949bd422fa835c06a891eafe9",
       "placeholder": "Example: IOC:m1.DMOV IOC:m3.RBV LNLS:ANEL:corrente.VAL",
       "style": "IPY_MODEL_ea3470c50fd34ec5ba69c4fc4f20d617"
      }
     },
     "876eaf425aae4e33a6a72643beb0ac2d": {
      "model_module": "@jupyter-widgets/controls",
      "model_module_version": "1.4.0",
      "model_name": "CheckboxModel",
      "state": {
       "description": "Plot scan-gui graph instead of Jupyter's: ",
       "disabled": false,
       "layout": "IPY_MODEL_9b269e7e92b34d2989db05f592276363",
       "style": "IPY_MODEL_52dba118bc1a497b8ede226524fa8f5d",
       "value": false
      }
     },
     "87cf752196814d50b44251a2bf598d09": {
      "model_module": "@jupyter-widgets/base",
      "model_module_version": "1.1.0",
      "model_name": "LayoutModel",
      "state": {}
     },
     "88bea80ca5db451085743aeaa1181083": {
      "model_module": "@jupyter-widgets/base",
      "model_module_version": "1.1.0",
      "model_name": "LayoutModel",
      "state": {
       "height": "40px",
       "width": "40px"
      }
     },
     "890a0527a47c40848ddad2fe14b60f66": {
      "model_module": "@jupyter-widgets/base",
      "model_module_version": "1.1.0",
      "model_name": "LayoutModel",
      "state": {}
     },
     "8997f7ef581642b8a81733717ac7e63a": {
      "model_module": "@jupyter-widgets/controls",
      "model_module_version": "1.4.0",
      "model_name": "VBoxModel",
      "state": {
       "children": [
        "IPY_MODEL_0f829312f19c4890a0a3520f029c1fc2",
        "IPY_MODEL_5a9cbbad850f4bd1bd13223945bd6465"
       ],
       "layout": "IPY_MODEL_c2be06e5dec44b74b148c941ce4bd714"
      }
     },
     "89a1e85e914f4b658edda30561e7cd75": {
      "model_module": "@jupyter-widgets/base",
      "model_module_version": "1.1.0",
      "model_name": "LayoutModel",
      "state": {}
     },
     "8b364be5a10146348745afeb810d7852": {
      "model_module": "@jupyter-widgets/controls",
      "model_module_version": "1.4.0",
      "model_name": "VBoxModel",
      "state": {
       "children": [
        "IPY_MODEL_8e83d66da8c3428c9f96441083ded78b",
        "IPY_MODEL_1ab348d8569444eea1ca4cc260a5c40c"
       ],
       "layout": "IPY_MODEL_da92030c320147f091a399097a2643a6"
      }
     },
     "8b9b114688174921b101c0201602fb4e": {
      "model_module": "@jupyter-widgets/base",
      "model_module_version": "1.1.0",
      "model_name": "LayoutModel",
      "state": {}
     },
     "8be519c504f74890b33d1ac91d0aee4a": {
      "model_module": "@jupyter-widgets/controls",
      "model_module_version": "1.4.0",
      "model_name": "CheckboxModel",
      "state": {
       "description": "Print log in Notebook's cells",
       "disabled": false,
       "layout": "IPY_MODEL_f1e2e07e7e6c4767b2f10538714561f8",
       "style": "IPY_MODEL_64baf7be8a6c4dddaec3001ca82e2e99",
       "value": false
      }
     },
     "8cea8776aeae464598fb80f381f123b7": {
      "model_module": "@jupyter-widgets/base",
      "model_module_version": "1.1.0",
      "model_name": "LayoutModel",
      "state": {
       "width": "300px"
      }
     },
     "8e83d66da8c3428c9f96441083ded78b": {
      "model_module": "@jupyter-widgets/controls",
      "model_module_version": "1.4.0",
      "model_name": "TextareaModel",
      "state": {
       "layout": "IPY_MODEL_568cf55da4334a1b81e3350ac73e7e0e",
       "placeholder": "Example: IOC:m1 IOC:m3 LNLS:TEST:motor_g3",
       "style": "IPY_MODEL_dd42b4d8cb3549efa104cceddcbf4a73"
      }
     },
     "8f64cd93dcb549e39f7092ef0c71523a": {
      "model_module": "@jupyter-widgets/base",
      "model_module_version": "1.1.0",
      "model_name": "LayoutModel",
      "state": {}
     },
     "903c99016a944a7abf18738376a9c76a": {
      "model_module": "@jupyter-widgets/controls",
      "model_module_version": "1.4.0",
      "model_name": "BoxModel",
      "state": {
       "layout": "IPY_MODEL_f9e54cfb501945e79af2f823d84c1578"
      }
     },
     "908e81d0226b49b2901fbb8ee736c3e5": {
      "model_module": "@jupyter-widgets/base",
      "model_module_version": "1.1.0",
      "model_name": "LayoutModel",
      "state": {}
     },
     "9099372c8a8d4130abccce29ad50e836": {
      "buffers": [
       {
        "data": "AAAAAACASUAAAAAAAABKQAAAAAAAACBAAAAAAACAVUAAAAAAAAAwQAAAAAAAQFdAAAAAAACAQEAAAAAAAABRQAAAAAAAAAAAAAAAAACAUkA=",
        "encoding": "base64",
        "path": [
         "_data",
         0,
         "y",
         "value"
        ]
       },
       {
        "data": "AAAAAACASUAAAAAAAABKQAAAAAAAACBAAAAAAACAVUAAAAAAAAAwQAAAAAAAQFdAAAAAAACAQEAAAAAAAABRQAAAAAAAAAAAAAAAAACAUkA=",
        "encoding": "base64",
        "path": [
         "_data",
         1,
         "y",
         "value"
        ]
       }
      ],
      "model_module": "plotlywidget",
      "model_module_version": "0.8.0",
      "model_name": "FigureModel",
      "state": {
       "_config": {
        "plotlyServerURL": "https://plot.ly"
       },
       "_data": [
        {
         "mode": "lines+markers",
         "name": "line1",
         "type": "scatter",
         "uid": "4d6d816f-217b-4658-b257-fdb8e2829f2a",
         "x": [
          0,
          1,
          2,
          3,
          4,
          5,
          6,
          7,
          8,
          9
         ],
         "xaxis": "x",
         "y": {
          "dtype": "float64",
          "shape": [
           10
          ],
          "value": {}
         },
         "yaxis": "y"
        },
        {
         "mode": "lines+markers",
         "name": "line2",
         "type": "scatter",
         "uid": "b5834081-c667-4835-bdbc-fecf0cc0a10e",
         "x": [
          0,
          1,
          2,
          3,
          4,
          5,
          6,
          7,
          8,
          9
         ],
         "xaxis": "x2",
         "y": {
          "dtype": "float64",
          "shape": [
           10
          ],
          "value": {}
         },
         "yaxis": "y2"
        }
       ],
       "_js2py_pointsCallback": {},
       "_js2py_restyle": {},
       "_js2py_update": {},
       "_last_layout_edit_id": 8,
       "_last_trace_edit_id": 7,
       "_layout": {
        "autosize": true,
        "plot_bgcolor": "rgb(230, 230, 230)",
        "template": {},
        "title": {
         "text": "Scan"
        },
        "xaxis": {
         "anchor": "y",
         "domain": [
          0,
          1
         ]
        },
        "xaxis2": {
         "anchor": "y2",
         "domain": [
          0,
          1
         ]
        },
        "yaxis": {
         "anchor": "x",
         "domain": [
          0.575,
          1
         ]
        },
        "yaxis2": {
         "anchor": "x2",
         "domain": [
          0,
          0.425
         ]
        }
       },
       "_model_module_version": "0.8.0",
       "_py2js_animate": {},
       "_py2js_deleteTraces": {},
       "_py2js_moveTraces": {},
       "_py2js_removeLayoutProps": {},
       "_py2js_removeTraceProps": {},
       "_view_count": 0,
       "_view_module_version": "0.8.0"
      }
     },
     "9161d36bf2bc46f7b54942d08b181374": {
      "model_module": "@jupyter-widgets/controls",
      "model_module_version": "1.4.0",
      "model_name": "VBoxModel",
      "state": {
       "children": [
        "IPY_MODEL_1f41fa05346f4565b9ecc3484e155d98"
       ],
       "layout": "IPY_MODEL_a9037f9098314d71ada6ad72e1575fb4"
      }
     },
     "91bf34542a224123b6833b9370b4c5a8": {
      "model_module": "@jupyter-widgets/output",
      "model_module_version": "1.0.0",
      "model_name": "OutputModel",
      "state": {
       "layout": "IPY_MODEL_87cf752196814d50b44251a2bf598d09"
      }
     },
     "9347088535b64057a49888fc913e5dae": {
      "model_module": "@jupyter-widgets/base",
      "model_module_version": "1.1.0",
      "model_name": "LayoutModel",
      "state": {}
     },
     "93d1dd1816ac47b6b67ecc095ba2deb2": {
      "model_module": "@jupyter-widgets/controls",
      "model_module_version": "1.4.0",
      "model_name": "DescriptionStyleModel",
      "state": {
       "description_width": ""
      }
     },
     "93e3ac9d32694c5a8bb1ccc14ddd46f5": {
      "model_module": "@jupyter-widgets/base",
      "model_module_version": "1.1.0",
      "model_name": "LayoutModel",
      "state": {}
     },
     "94c95f66800e439d84c895592f50a803": {
      "model_module": "@jupyter-widgets/base",
      "model_module_version": "1.1.0",
      "model_name": "LayoutModel",
      "state": {}
     },
     "958b019d90834fac926f6e354412862e": {
      "model_module": "@jupyter-widgets/controls",
      "model_module_version": "1.4.0",
      "model_name": "DescriptionStyleModel",
      "state": {
       "description_width": ""
      }
     },
     "95dbd9b9f2be494a8d839f51512d4ade": {
      "model_module": "@jupyter-widgets/base",
      "model_module_version": "1.1.0",
      "model_name": "LayoutModel",
      "state": {}
     },
     "96de704ffbf5477a816c9c00fe385182": {
      "model_module": "@jupyter-widgets/base",
      "model_module_version": "1.1.0",
      "model_name": "LayoutModel",
      "state": {}
     },
     "96e5d5926d8d4499bcbf3a781c60d0e9": {
      "model_module": "@jupyter-widgets/controls",
      "model_module_version": "1.4.0",
      "model_name": "ButtonModel",
      "state": {
       "button_style": "success",
       "description": "Start Motor Monitoring",
       "layout": "IPY_MODEL_0dad1bb6c068446cb466afd260843352",
       "style": "IPY_MODEL_5f44717cd0df4fb691f12c7b6654906c",
       "tooltip": "Click me"
      }
     },
     "992cbf4def43416bbc2adafbca5c3114": {
      "model_module": "@jupyter-widgets/base",
      "model_module_version": "1.1.0",
      "model_name": "LayoutModel",
      "state": {}
     },
     "9a094f4e5f2849f5b88fec57c6ba54b0": {
      "model_module": "@jupyter-widgets/base",
      "model_module_version": "1.1.0",
      "model_name": "LayoutModel",
      "state": {}
     },
     "9b00b4f830664e4bb00c814cfcd8e73d": {
      "model_module": "@jupyter-widgets/output",
      "model_module_version": "1.0.0",
      "model_name": "OutputModel",
      "state": {
       "layout": "IPY_MODEL_4f964b677e5d44d48faaf3c75d404dbc"
      }
     },
     "9b269e7e92b34d2989db05f592276363": {
      "model_module": "@jupyter-widgets/base",
      "model_module_version": "1.1.0",
      "model_name": "LayoutModel",
      "state": {}
     },
     "9b5e14e8110543819b5bfbabc2d9ec67": {
      "model_module": "@jupyter-widgets/controls",
      "model_module_version": "1.4.0",
      "model_name": "CheckboxModel",
      "state": {
       "description": "Live plot in Jupyter: ",
       "disabled": false,
       "layout": "IPY_MODEL_df5ac2ccfae445a2b0570f833fc24cf1",
       "style": "IPY_MODEL_4bef2d4af01e4e88b7219afc0c68e214",
       "value": false
      }
     },
     "9c7b0d20634c450dbe6c619537911444": {
      "model_module": "@jupyter-widgets/base",
      "model_module_version": "1.1.0",
      "model_name": "LayoutModel",
      "state": {
       "height": "40px",
       "width": "40px"
      }
     },
     "9ce6717a571842429ee29f68f35bcf5a": {
      "model_module": "@jupyter-widgets/controls",
      "model_module_version": "1.4.0",
      "model_name": "ButtonModel",
      "state": {
       "button_style": "success",
       "description": "Start PV Monitoring",
       "layout": "IPY_MODEL_e33e138b0aee4f3fbfb995a8dce9fd81",
       "style": "IPY_MODEL_43408b57d47441e692ddbb1e5a94b870",
       "tooltip": "Click me"
      }
     },
     "9f16c53453eb49959c33551350a2393f": {
      "model_module": "@jupyter-widgets/base",
      "model_module_version": "1.1.0",
      "model_name": "LayoutModel",
      "state": {}
     },
     "a025035d95634254899c70f9c03311dc": {
      "model_module": "plotlywidget",
      "model_module_version": "0.8.0",
      "model_name": "FigureModel",
      "state": {
       "_js2py_layoutDelta": {},
       "_js2py_pointsCallback": {},
       "_js2py_relayout": {},
       "_js2py_restyle": {},
       "_js2py_traceDeltas": {},
       "_js2py_update": {},
       "_model_module_version": "0.8.0",
       "_py2js_addTraces": {},
       "_py2js_animate": {},
       "_py2js_deleteTraces": {},
       "_py2js_moveTraces": {},
       "_py2js_relayout": {},
       "_py2js_removeLayoutProps": {},
       "_py2js_removeTraceProps": {},
       "_py2js_restyle": {},
       "_py2js_update": {},
       "_view_module_version": "0.8.0"
      }
     },
     "a21d23428cd045859368ff54150d2686": {
      "model_module": "@jupyter-widgets/output",
      "model_module_version": "1.0.0",
      "model_name": "OutputModel",
      "state": {
       "layout": "IPY_MODEL_764bbc55f37c4ea890aa13b3e20891f9"
      }
     },
     "a2514c4cb1fc41b0ba71fe732112e383": {
      "model_module": "@jupyter-widgets/base",
      "model_module_version": "1.1.0",
      "model_name": "LayoutModel",
      "state": {}
     },
     "a3925a71c7894ae18505988c86289aeb": {
      "model_module": "@jupyter-widgets/controls",
      "model_module_version": "1.4.0",
      "model_name": "DescriptionStyleModel",
      "state": {
       "description_width": "initial"
      }
     },
     "a3ae03d707e04eb78ac4ccf88ff85bb9": {
      "buffers": [
       {
        "data": "AAAAAAAAAEAAAAAAAAAIQAAAAAAAAAAAAAAAAAAAEEAAAAAAAAAUQA==",
        "encoding": "base64",
        "path": [
         "_data",
         0,
         "y",
         "value"
        ]
       },
       {
        "data": "AAAAAAAAAEAAAAAAAAAIQAAAAAAAAAAAAAAAAAAAEEAAAAAAAAAUQA==",
        "encoding": "base64",
        "path": [
         "_data",
         1,
         "y",
         "value"
        ]
       }
      ],
      "model_module": "plotlywidget",
      "model_module_version": "0.8.0",
      "model_name": "FigureModel",
      "state": {
       "_config": {
        "plotlyServerURL": "https://plot.ly"
       },
       "_data": [
        {
         "mode": "lines+markers",
         "name": "line1",
         "type": "scatter",
         "uid": "de670643-89e2-4975-bd49-e2b3278e909a",
         "x": [
          0,
          1,
          2,
          3,
          4
         ],
         "xaxis": "x",
         "y": {
          "dtype": "float64",
          "shape": [
           5
          ],
          "value": {}
         },
         "yaxis": "y"
        },
        {
         "mode": "lines+markers",
         "name": "line2",
         "type": "scatter",
         "uid": "ad3a311d-5212-4914-b2db-b92ad08621ae",
         "x": [
          0,
          1,
          2,
          3,
          4
         ],
         "xaxis": "x2",
         "y": {
          "dtype": "float64",
          "shape": [
           5
          ],
          "value": {}
         },
         "yaxis": "y2"
        }
       ],
       "_js2py_restyle": {},
       "_js2py_update": {},
       "_last_layout_edit_id": 8,
       "_last_trace_edit_id": 7,
       "_layout": {
        "autosize": true,
        "plot_bgcolor": "rgb(230, 230, 230)",
        "template": {},
        "title": {
         "text": "Scan"
        },
        "xaxis": {
         "anchor": "y",
         "domain": [
          0,
          1
         ]
        },
        "xaxis2": {
         "anchor": "y2",
         "domain": [
          0,
          1
         ]
        },
        "yaxis": {
         "anchor": "x",
         "domain": [
          0.575,
          1
         ]
        },
        "yaxis2": {
         "anchor": "x2",
         "domain": [
          0,
          0.425
         ]
        }
       },
       "_model_module_version": "0.8.0",
       "_py2js_animate": {},
       "_py2js_deleteTraces": {},
       "_py2js_moveTraces": {},
       "_py2js_removeLayoutProps": {},
       "_py2js_removeTraceProps": {},
       "_view_count": 0,
       "_view_module_version": "0.8.0"
      }
     },
     "a3ff766778ef4fc39586d427b592b9e5": {
      "model_module": "@jupyter-widgets/base",
      "model_module_version": "1.1.0",
      "model_name": "LayoutModel",
      "state": {}
     },
     "a7630c88362d4c3bb7d5726aa4f4a8e0": {
      "model_module": "@jupyter-widgets/base",
      "model_module_version": "1.1.0",
      "model_name": "LayoutModel",
      "state": {}
     },
     "a801b624e7da4842915aeda4135a39d3": {
      "model_module": "@jupyter-widgets/base",
      "model_module_version": "1.1.0",
      "model_name": "LayoutModel",
      "state": {}
     },
     "a8110bfdad504999911fb75a937e3d1e": {
      "model_module": "@jupyter-widgets/controls",
      "model_module_version": "1.4.0",
      "model_name": "DescriptionStyleModel",
      "state": {
       "description_width": "initial"
      }
     },
     "a8c2ff4026c64378b12c970d593f539e": {
      "model_module": "@jupyter-widgets/base",
      "model_module_version": "1.1.0",
      "model_name": "LayoutModel",
      "state": {}
     },
     "a9037f9098314d71ada6ad72e1575fb4": {
      "model_module": "@jupyter-widgets/base",
      "model_module_version": "1.1.0",
      "model_name": "LayoutModel",
      "state": {}
     },
     "a905ca1179d04800b25e4ef48a310c4f": {
      "model_module": "@jupyter-widgets/controls",
      "model_module_version": "1.4.0",
      "model_name": "ButtonStyleModel",
      "state": {}
     },
     "a9613758034c41849579059e449b9f4c": {
      "model_module": "@jupyter-widgets/base",
      "model_module_version": "1.1.0",
      "model_name": "LayoutModel",
      "state": {}
     },
     "a9e4844e5b2f4e45b6f048d136866806": {
      "model_module": "@jupyter-widgets/base",
      "model_module_version": "1.1.0",
      "model_name": "LayoutModel",
      "state": {}
     },
     "ad308286f18c41729b38d5872dda8bdf": {
      "model_module": "@jupyter-widgets/controls",
      "model_module_version": "1.4.0",
      "model_name": "VBoxModel",
      "state": {
       "children": [
        "IPY_MODEL_706a968bced342fbb60afc19497451f7",
        "IPY_MODEL_4ddcbdf67e1441b08c6d521f37e0b543"
       ],
       "layout": "IPY_MODEL_4461036c0e0e471a9c70759d69982852"
      }
     },
     "af9478f2d7cf4cf1a5425f9a6272c222": {
      "model_module": "@jupyter-widgets/base",
      "model_module_version": "1.1.0",
      "model_name": "LayoutModel",
      "state": {
       "width": "300px"
      }
     },
     "b06427cee414482182bf15572775486e": {
      "model_module": "@jupyter-widgets/base",
      "model_module_version": "1.1.0",
      "model_name": "LayoutModel",
      "state": {}
     },
     "b0c1190515db4a9bb4b2ae566f74168f": {
      "model_module": "@jupyter-widgets/base",
      "model_module_version": "1.1.0",
      "model_name": "LayoutModel",
      "state": {}
     },
     "b2d8ab2df52d49ce81cc1cf21b6a5f42": {
      "model_module": "@jupyter-widgets/controls",
      "model_module_version": "1.4.0",
      "model_name": "DescriptionStyleModel",
      "state": {
       "description_width": "initial"
      }
     },
     "b376edb5def34431931a50abe50836f2": {
      "model_module": "@jupyter-widgets/controls",
      "model_module_version": "1.4.0",
      "model_name": "VBoxModel",
      "state": {
       "children": [
        "IPY_MODEL_468490a89ff444358862849e0f7f6735"
       ],
       "layout": "IPY_MODEL_c6b1ee9e8e47494abf2d2e0aeda25016"
      }
     },
     "b414938e51814ef8bced367a7f23b8ba": {
      "model_module": "@jupyter-widgets/controls",
      "model_module_version": "1.4.0",
      "model_name": "ButtonModel",
      "state": {
       "button_style": "success",
       "description": "Start Scanning Plot",
       "layout": "IPY_MODEL_24cd47953cb64c348fab6c43bcbb8bba",
       "style": "IPY_MODEL_0e8a01ae26b64330bebce9482090ecaf",
       "tooltip": "Click me"
      }
     },
     "b5d88d68213e478fac3970436aa47a18": {
      "buffers": [
       {
        "data": "AAAAAAAAREAAAAAAAAAsQAAAAAAAAERAAAAAAACAU0AAAAAAAAAQQAAAAAAAAERAAAAAAADAVUAAAAAAAMBWQAAAAAAAADJAAAAAAACARUA=",
        "encoding": "base64",
        "path": [
         "_data",
         0,
         "y",
         "value"
        ]
       },
       {
        "data": "AAAAAAAAREAAAAAAAAAsQAAAAAAAAERAAAAAAACAU0AAAAAAAAAQQAAAAAAAAERAAAAAAADAVUAAAAAAAMBWQAAAAAAAADJAAAAAAACARUA=",
        "encoding": "base64",
        "path": [
         "_data",
         1,
         "y",
         "value"
        ]
       }
      ],
      "model_module": "plotlywidget",
      "model_module_version": "0.8.0",
      "model_name": "FigureModel",
      "state": {
       "_config": {
        "plotlyServerURL": "https://plot.ly"
       },
       "_data": [
        {
         "mode": "lines+markers",
         "name": "line1",
         "type": "scatter",
         "uid": "7f9e05ad-3ae2-4d0e-87f6-c83d587d243a",
         "x": [
          0,
          1,
          2,
          3,
          4,
          5,
          6,
          7,
          8,
          9
         ],
         "xaxis": "x",
         "y": {
          "dtype": "float64",
          "shape": [
           10
          ],
          "value": {}
         },
         "yaxis": "y"
        },
        {
         "mode": "lines+markers",
         "name": "line2",
         "type": "scatter",
         "uid": "a0daacd3-0ace-4f15-b636-98cea811bdb5",
         "x": [
          0,
          1,
          2,
          3,
          4,
          5,
          6,
          7,
          8,
          9
         ],
         "xaxis": "x2",
         "y": {
          "dtype": "float64",
          "shape": [
           10
          ],
          "value": {}
         },
         "yaxis": "y2"
        }
       ],
       "_js2py_pointsCallback": {},
       "_js2py_restyle": {},
       "_js2py_update": {},
       "_last_layout_edit_id": 8,
       "_last_trace_edit_id": 7,
       "_layout": {
        "autosize": true,
        "plot_bgcolor": "rgb(230, 230, 230)",
        "template": {},
        "title": {
         "text": "Scan"
        },
        "xaxis": {
         "anchor": "y",
         "domain": [
          0,
          1
         ]
        },
        "xaxis2": {
         "anchor": "y2",
         "domain": [
          0,
          1
         ]
        },
        "yaxis": {
         "anchor": "x",
         "domain": [
          0.575,
          1
         ]
        },
        "yaxis2": {
         "anchor": "x2",
         "domain": [
          0,
          0.425
         ]
        }
       },
       "_model_module_version": "0.8.0",
       "_py2js_animate": {},
       "_py2js_deleteTraces": {},
       "_py2js_moveTraces": {},
       "_py2js_removeLayoutProps": {},
       "_py2js_removeTraceProps": {},
       "_view_count": 0,
       "_view_module_version": "0.8.0"
      }
     },
     "b64c99bfded14ae5987dfdf504345bde": {
      "model_module": "@jupyter-widgets/controls",
      "model_module_version": "1.4.0",
      "model_name": "DescriptionStyleModel",
      "state": {
       "description_width": "initial"
      }
     },
     "b66812acca5b4b98969dd7828075a80f": {
      "model_module": "@jupyter-widgets/base",
      "model_module_version": "1.1.0",
      "model_name": "LayoutModel",
      "state": {
       "height": "40px",
       "width": "40px"
      }
     },
     "b707073487b54095b1cab1b5ce2b5848": {
      "model_module": "@jupyter-widgets/base",
      "model_module_version": "1.1.0",
      "model_name": "LayoutModel",
      "state": {}
     },
     "b76c6e473b3d4f2dac434cddcd2577cf": {
      "model_module": "@jupyter-widgets/output",
      "model_module_version": "1.0.0",
      "model_name": "OutputModel",
      "state": {
       "layout": "IPY_MODEL_9f16c53453eb49959c33551350a2393f"
      }
     },
     "b7972af835094d77af2055acd8a8cebf": {
      "model_module": "@jupyter-widgets/controls",
      "model_module_version": "1.4.0",
      "model_name": "ButtonStyleModel",
      "state": {}
     },
     "b7bb5c8e83604e42815570ba902141d9": {
      "model_module": "@jupyter-widgets/base",
      "model_module_version": "1.1.0",
      "model_name": "LayoutModel",
      "state": {}
     },
     "b8109ee03efd4f0fb69a52538ac0f56e": {
      "model_module": "@jupyter-widgets/controls",
      "model_module_version": "1.4.0",
      "model_name": "TextareaModel",
      "state": {
       "layout": "IPY_MODEL_ba57db62fa1b440d8dfc9bf01bd2bf66",
       "placeholder": "Example: IOC:m1.DMOV IOC:m3.RBV LNLS:ANEL:corrente.VAL",
       "style": "IPY_MODEL_6d769c78e3dd45a28a35fafe0dc259c9"
      }
     },
     "b835804e7c214569a7cc1a16afe5d091": {
      "model_module": "@jupyter-widgets/controls",
      "model_module_version": "1.4.0",
      "model_name": "ButtonStyleModel",
      "state": {}
     },
     "b893688abe85451c9c1a4a9e197b8723": {
      "model_module": "@jupyter-widgets/controls",
      "model_module_version": "1.4.0",
      "model_name": "ButtonModel",
      "state": {
       "button_style": "success",
       "description": "Start PV Monitoring",
       "layout": "IPY_MODEL_05c2d19bcd25452f97a4818bb690a840",
       "style": "IPY_MODEL_50c2680fe14f48b087e848f005a3b2b9",
       "tooltip": "Click me"
      }
     },
     "b93806b92f61407fa4d0933aa5b38549": {
      "model_module": "@jupyter-widgets/controls",
      "model_module_version": "1.4.0",
      "model_name": "BoxModel",
      "state": {
       "children": [
        "IPY_MODEL_c89b20accb49441eaf88f4f42e23be36"
       ],
       "layout": "IPY_MODEL_2c5e851a5a684430a0c6d78563b26485"
      }
     },
     "b9ce9e8b940443b49a7e09d0a0b244ff": {
      "model_module": "@jupyter-widgets/base",
      "model_module_version": "1.1.0",
      "model_name": "LayoutModel",
      "state": {}
     },
     "ba57db62fa1b440d8dfc9bf01bd2bf66": {
      "model_module": "@jupyter-widgets/base",
      "model_module_version": "1.1.0",
      "model_name": "LayoutModel",
      "state": {}
     },
     "baec6a3b3d8841cfa7bc3e870e14d72e": {
      "buffers": [
       {
        "data": "AAAAAAAA8D8AAAAAAAAcQAAAAAAAAAhAAAAAAAAAHEAAAAAAAAAgQA==",
        "encoding": "base64",
        "path": [
         "_data",
         0,
         "y",
         "value"
        ]
       },
       {
        "data": "AAAAAAAA8D8AAAAAAAAcQAAAAAAAAAhAAAAAAAAAHEAAAAAAAAAgQA==",
        "encoding": "base64",
        "path": [
         "_data",
         1,
         "y",
         "value"
        ]
       }
      ],
      "model_module": "plotlywidget",
      "model_module_version": "0.8.0",
      "model_name": "FigureModel",
      "state": {
       "_config": {
        "plotlyServerURL": "https://plot.ly"
       },
       "_data": [
        {
         "mode": "lines+markers",
         "name": "line1",
         "type": "scatter",
         "uid": "b759f581-5cf0-4266-857f-0060f0531a1a",
         "x": [
          0,
          1,
          2,
          3,
          4
         ],
         "xaxis": "x",
         "y": {
          "dtype": "float64",
          "shape": [
           5
          ],
          "value": {}
         },
         "yaxis": "y"
        },
        {
         "mode": "lines+markers",
         "name": "line2",
         "type": "scatter",
         "uid": "817211dd-ceda-4dda-99cd-9c3931e3f165",
         "x": [
          0,
          1,
          2,
          3,
          4
         ],
         "xaxis": "x2",
         "y": {
          "dtype": "float64",
          "shape": [
           5
          ],
          "value": {}
         },
         "yaxis": "y2"
        }
       ],
       "_js2py_restyle": {},
       "_js2py_update": {},
       "_last_layout_edit_id": 24,
       "_last_trace_edit_id": 23,
       "_layout": {
        "autosize": true,
        "plot_bgcolor": "rgb(230, 230, 230)",
        "template": {},
        "title": {
         "text": "Scan"
        },
        "xaxis": {
         "anchor": "y",
         "domain": [
          0,
          1
         ]
        },
        "xaxis2": {
         "anchor": "y2",
         "domain": [
          0,
          1
         ]
        },
        "yaxis": {
         "anchor": "x",
         "domain": [
          0.575,
          1
         ]
        },
        "yaxis2": {
         "anchor": "x2",
         "domain": [
          0,
          0.425
         ]
        }
       },
       "_model_module_version": "0.8.0",
       "_py2js_animate": {},
       "_py2js_deleteTraces": {},
       "_py2js_moveTraces": {},
       "_py2js_removeLayoutProps": {},
       "_py2js_removeTraceProps": {},
       "_view_count": 1,
       "_view_module_version": "0.8.0"
      }
     },
     "bbad478c1e1d408cbeb3293f148476d6": {
      "model_module": "@jupyter-widgets/base",
      "model_module_version": "1.1.0",
      "model_name": "LayoutModel",
      "state": {}
     },
     "bcfd71ec428a4458b35b774f2a67833e": {
      "model_module": "@jupyter-widgets/controls",
      "model_module_version": "1.4.0",
      "model_name": "VBoxModel",
      "state": {
       "children": [
        "IPY_MODEL_9ce6717a571842429ee29f68f35bcf5a",
        "IPY_MODEL_2d95a80ca47241e6ad83d407be691361"
       ],
       "layout": "IPY_MODEL_79388d95029248bc95b4b292810ad139"
      }
     },
     "bd83095fd75249e7bca754ae763c3908": {
      "model_module": "@jupyter-widgets/controls",
      "model_module_version": "1.4.0",
      "model_name": "CheckboxModel",
      "state": {
       "description": "Print log in Notebook's cells",
       "disabled": false,
       "layout": "IPY_MODEL_f313ee747eee47c3ad31b970b23cb356",
       "style": "IPY_MODEL_0fea41058a514d728dd140d806d84449",
       "value": false
      }
     },
     "bd8395838a43407cb0ecaa28ff9bfd46": {
      "model_module": "@jupyter-widgets/base",
      "model_module_version": "1.1.0",
      "model_name": "LayoutModel",
      "state": {}
     },
     "bd94a826cd9e425b926991394b9b7374": {
      "model_module": "@jupyter-widgets/controls",
      "model_module_version": "1.4.0",
      "model_name": "CheckboxModel",
      "state": {
       "description": "Live plot in Jupyter: ",
       "disabled": false,
       "layout": "IPY_MODEL_9347088535b64057a49888fc913e5dae",
       "style": "IPY_MODEL_dcc93be193654d339fe057577f35e77e",
       "value": true
      }
     },
     "bde78d066df64ceb89d6a95028bd60f5": {
      "model_module": "@jupyter-widgets/controls",
      "model_module_version": "1.4.0",
      "model_name": "DescriptionStyleModel",
      "state": {
       "description_width": ""
      }
     },
     "beb68e1e44994bd089e896ee96ac2161": {
      "model_module": "@jupyter-widgets/controls",
      "model_module_version": "1.4.0",
      "model_name": "DescriptionStyleModel",
      "state": {
       "description_width": "initial"
      }
     },
     "bee7e96652ea4d34b94827c1f493234d": {
      "model_module": "@jupyter-widgets/base",
      "model_module_version": "1.1.0",
      "model_name": "LayoutModel",
      "state": {
       "width": "300px"
      }
     },
     "bf5221de28d8453cbd14da2c2119234f": {
      "model_module": "@jupyter-widgets/controls",
      "model_module_version": "1.4.0",
      "model_name": "LabelModel",
      "state": {
       "layout": "IPY_MODEL_b9ce9e8b940443b49a7e09d0a0b244ff",
       "style": "IPY_MODEL_ce1ada6fff52434dae589252f2ac8300",
       "value": "No motors initilized to be showed."
      }
     },
     "c1957fea94f24029a84f3dd52598c440": {
      "model_module": "@jupyter-widgets/controls",
      "model_module_version": "1.4.0",
      "model_name": "ButtonStyleModel",
      "state": {}
     },
     "c2be06e5dec44b74b148c941ce4bd714": {
      "model_module": "@jupyter-widgets/base",
      "model_module_version": "1.1.0",
      "model_name": "LayoutModel",
      "state": {}
     },
     "c43b7860b0b84609a53130e3f8f7ed3e": {
      "model_module": "@jupyter-widgets/base",
      "model_module_version": "1.1.0",
      "model_name": "LayoutModel",
      "state": {}
     },
     "c4ba5dcea00b4ee888369d16ef2cc5f3": {
      "model_module": "@jupyter-widgets/controls",
      "model_module_version": "1.4.0",
      "model_name": "ButtonStyleModel",
      "state": {}
     },
     "c55259e33d214862ba497bfa4c54439a": {
      "model_module": "@jupyter-widgets/controls",
      "model_module_version": "1.4.0",
      "model_name": "DescriptionStyleModel",
      "state": {
       "description_width": ""
      }
     },
     "c5b9421875704f6ba2a4b6792bcbaaff": {
      "model_module": "@jupyter-widgets/controls",
      "model_module_version": "1.4.0",
      "model_name": "ButtonModel",
      "state": {
       "button_style": "warning",
       "description": "Export Notebook to PDF",
       "layout": "IPY_MODEL_af9478f2d7cf4cf1a5425f9a6272c222",
       "style": "IPY_MODEL_5207b10ffd84457bab73fc0ee6e7f7eb",
       "tooltip": "Click me"
      }
     },
     "c5ccc27939624be78f77effc29d50839": {
      "model_module": "@jupyter-widgets/controls",
      "model_module_version": "1.4.0",
      "model_name": "DescriptionStyleModel",
      "state": {
       "description_width": ""
      }
     },
     "c5dc0a8cb3b246928312620db6b00e13": {
      "model_module": "@jupyter-widgets/base",
      "model_module_version": "1.1.0",
      "model_name": "LayoutModel",
      "state": {}
     },
     "c6921deab385450498016bb2824521ff": {
      "model_module": "@jupyter-widgets/base",
      "model_module_version": "1.1.0",
      "model_name": "LayoutModel",
      "state": {}
     },
     "c6b1ee9e8e47494abf2d2e0aeda25016": {
      "model_module": "@jupyter-widgets/base",
      "model_module_version": "1.1.0",
      "model_name": "LayoutModel",
      "state": {}
     },
     "c7f8a66ec89041f9874059354282f657": {
      "model_module": "@jupyter-widgets/output",
      "model_module_version": "1.0.0",
      "model_name": "OutputModel",
      "state": {
       "layout": "IPY_MODEL_d23fdece280b4b4ba4279a83145d07da"
      }
     },
     "c8441c9c81a94890912f5408dd150a44": {
      "buffers": [
       {
        "data": "AAAAAAAAAEAAAAAAAAAAAAAAAAAAABRAAAAAAAAAGEAAAAAAAAAIQA==",
        "encoding": "base64",
        "path": [
         "_data",
         0,
         "y",
         "value"
        ]
       },
       {
        "data": "AAAAAAAAAEAAAAAAAAAAAAAAAAAAABRAAAAAAAAAGEAAAAAAAAAIQA==",
        "encoding": "base64",
        "path": [
         "_data",
         1,
         "y",
         "value"
        ]
       }
      ],
      "model_module": "plotlywidget",
      "model_module_version": "0.8.0",
      "model_name": "FigureModel",
      "state": {
       "_config": {
        "plotlyServerURL": "https://plot.ly"
       },
       "_data": [
        {
         "mode": "lines+markers",
         "name": "line1",
         "type": "scatter",
         "uid": "0238e5f9-4a2b-4f6c-9788-51917f78a748",
         "x": [
          0,
          1,
          2,
          3,
          4
         ],
         "xaxis": "x",
         "y": {
          "dtype": "float64",
          "shape": [
           5
          ],
          "value": {}
         },
         "yaxis": "y"
        },
        {
         "mode": "lines+markers",
         "name": "line2",
         "type": "scatter",
         "uid": "533948fb-7d4f-4139-9020-51e23db201ab",
         "x": [
          0,
          1,
          2,
          3,
          4
         ],
         "xaxis": "x2",
         "y": {
          "dtype": "float64",
          "shape": [
           5
          ],
          "value": {}
         },
         "yaxis": "y2"
        }
       ],
       "_js2py_restyle": {},
       "_js2py_update": {},
       "_last_layout_edit_id": 24,
       "_last_trace_edit_id": 23,
       "_layout": {
        "autosize": true,
        "plot_bgcolor": "rgb(230, 230, 230)",
        "template": {},
        "title": {
         "text": "Scan"
        },
        "xaxis": {
         "anchor": "y",
         "domain": [
          0,
          1
         ]
        },
        "xaxis2": {
         "anchor": "y2",
         "domain": [
          0,
          1
         ]
        },
        "yaxis": {
         "anchor": "x",
         "domain": [
          0.575,
          1
         ]
        },
        "yaxis2": {
         "anchor": "x2",
         "domain": [
          0,
          0.425
         ]
        }
       },
       "_model_module_version": "0.8.0",
       "_py2js_animate": {},
       "_py2js_deleteTraces": {},
       "_py2js_moveTraces": {},
       "_py2js_removeLayoutProps": {},
       "_py2js_removeTraceProps": {},
       "_view_count": 0,
       "_view_module_version": "0.8.0"
      }
     },
     "c857b394f9a84e5783371901a97d8db5": {
      "model_module": "@jupyter-widgets/controls",
      "model_module_version": "1.4.0",
      "model_name": "VBoxModel",
      "state": {
       "children": [
        "IPY_MODEL_28315bfe1b994176b5004cd105743934"
       ],
       "layout": "IPY_MODEL_89a1e85e914f4b658edda30561e7cd75"
      }
     },
     "c89b20accb49441eaf88f4f42e23be36": {
      "buffers": [
       {
        "data": "AAAAAAAAEEAAAAAAAAAYQAAAAAAAACJAAAAAAAAACEAAAAAAAAAYQA==",
        "encoding": "base64",
        "path": [
         "_data",
         0,
         "y",
         "value"
        ]
       },
       {
        "data": "AAAAAAAAEEAAAAAAAAAYQAAAAAAAACJAAAAAAAAACEAAAAAAAAAYQA==",
        "encoding": "base64",
        "path": [
         "_data",
         1,
         "y",
         "value"
        ]
       }
      ],
      "model_module": "plotlywidget",
      "model_module_version": "0.8.0",
      "model_name": "FigureModel",
      "state": {
       "_config": {
        "plotlyServerURL": "https://plot.ly"
       },
       "_data": [
        {
         "mode": "lines+markers",
         "name": "line1",
         "type": "scatter",
         "uid": "999de4dd-b846-42ab-8378-7f9ee44e9605",
         "x": [
          0,
          1,
          2,
          3,
          4
         ],
         "xaxis": "x",
         "y": {
          "dtype": "float64",
          "shape": [
           5
          ],
          "value": {}
         },
         "yaxis": "y"
        },
        {
         "mode": "lines+markers",
         "name": "line2",
         "type": "scatter",
         "uid": "e255da7d-dcbd-4eef-873d-8b5adc75a1d3",
         "x": [
          0,
          1,
          2,
          3,
          4
         ],
         "xaxis": "x2",
         "y": {
          "dtype": "float64",
          "shape": [
           5
          ],
          "value": {}
         },
         "yaxis": "y2"
        }
       ],
       "_js2py_restyle": {},
       "_js2py_update": {},
       "_last_layout_edit_id": 24,
       "_last_trace_edit_id": 23,
       "_layout": {
        "autosize": true,
        "plot_bgcolor": "rgb(230, 230, 230)",
        "template": {},
        "title": {
         "text": "Scan"
        },
        "xaxis": {
         "anchor": "y",
         "domain": [
          0,
          1
         ]
        },
        "xaxis2": {
         "anchor": "y2",
         "domain": [
          0,
          1
         ]
        },
        "yaxis": {
         "anchor": "x",
         "domain": [
          0.575,
          1
         ]
        },
        "yaxis2": {
         "anchor": "x2",
         "domain": [
          0,
          0.425
         ]
        }
       },
       "_model_module_version": "0.8.0",
       "_py2js_animate": {},
       "_py2js_deleteTraces": {},
       "_py2js_moveTraces": {},
       "_py2js_removeLayoutProps": {},
       "_py2js_removeTraceProps": {},
       "_view_count": 0,
       "_view_module_version": "0.8.0"
      }
     },
     "c9191ffc5fc14b0eb9a9e8bb87a3e140": {
      "model_module": "@jupyter-widgets/controls",
      "model_module_version": "1.4.0",
      "model_name": "DescriptionStyleModel",
      "state": {
       "description_width": ""
      }
     },
     "c9b598f00ea44593b4b0b4b67a66438a": {
      "model_module": "@jupyter-widgets/base",
      "model_module_version": "1.1.0",
      "model_name": "LayoutModel",
      "state": {}
     },
     "ca740b125f7345caa2753cbaa4fbba81": {
      "model_module": "@jupyter-widgets/base",
      "model_module_version": "1.1.0",
      "model_name": "LayoutModel",
      "state": {}
     },
     "cb17391ba8bd4a68a54f5818f6073b13": {
      "model_module": "@jupyter-widgets/controls",
      "model_module_version": "1.4.0",
      "model_name": "LabelModel",
      "state": {
       "layout": "IPY_MODEL_ee3f4b6b9beb4c1a9876c05eecd6f077",
       "style": "IPY_MODEL_28b15ec9207f4784944928a767098435",
       "value": "No motors initilized to be showed."
      }
     },
     "cb1f924bfc6f4bde9bc416baeaab540b": {
      "model_module": "@jupyter-widgets/output",
      "model_module_version": "1.0.0",
      "model_name": "OutputModel",
      "state": {
       "layout": "IPY_MODEL_3c31f2a5d1bd48ee9ed459cffbe79ffb"
      }
     },
     "cb1fe70ad7264110b5354f0f0b596bda": {
      "buffers": [
       {
        "data": "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",
        "encoding": "base64",
        "path": [
         "value"
        ]
       }
      ],
      "model_module": "@jupyter-widgets/controls",
      "model_module_version": "1.4.0",
      "model_name": "ImageModel",
      "state": {
       "height": "35",
       "layout": "IPY_MODEL_4fbe8d0814104a23b7786db8a039a218",
       "value": {},
       "width": "35"
      }
     },
     "cba8c5c794254aeba07017a5826ddcd9": {
      "model_module": "@jupyter-widgets/base",
      "model_module_version": "1.1.0",
      "model_name": "LayoutModel",
      "state": {}
     },
     "cc8069f44f054b128c51ab18d7dcc9ed": {
      "model_module": "@jupyter-widgets/controls",
      "model_module_version": "1.4.0",
      "model_name": "ButtonModel",
      "state": {
       "button_style": "success",
       "description": "Start Scanning Plot",
       "layout": "IPY_MODEL_8cea8776aeae464598fb80f381f123b7",
       "style": "IPY_MODEL_cd2844fff1724dc8a0faca3b7ce18289",
       "tooltip": "Click me"
      }
     },
     "ccd6a96560b34fd2a923e92164777c7b": {
      "model_module": "@jupyter-widgets/controls",
      "model_module_version": "1.4.0",
      "model_name": "CheckboxModel",
      "state": {
       "description": "Live plot in Jupyter: ",
       "disabled": false,
       "layout": "IPY_MODEL_93e3ac9d32694c5a8bb1ccc14ddd46f5",
       "style": "IPY_MODEL_60944dbd601140168226076743be6d38",
       "value": false
      }
     },
     "cce0108e856248ee825dc4476b3a803e": {
      "model_module": "@jupyter-widgets/controls",
      "model_module_version": "1.4.0",
      "model_name": "CheckboxModel",
      "state": {
       "description": "Plot after scan ends: ",
       "disabled": false,
       "layout": "IPY_MODEL_c5dc0a8cb3b246928312620db6b00e13",
       "style": "IPY_MODEL_351d8dcabb5d45c9aad32b8a47b800f4",
       "value": false
      }
     },
     "cd2844fff1724dc8a0faca3b7ce18289": {
      "model_module": "@jupyter-widgets/controls",
      "model_module_version": "1.4.0",
      "model_name": "ButtonStyleModel",
      "state": {}
     },
     "cda282bb87b94b5b9a033ba9a013bbca": {
      "model_module": "@jupyter-widgets/controls",
      "model_module_version": "1.4.0",
      "model_name": "VBoxModel",
      "state": {
       "children": [
        "IPY_MODEL_71b9c99501f14469afdb6ad6e070e816",
        "IPY_MODEL_29879fa014df400e9ce9b078378c1276"
       ],
       "layout": "IPY_MODEL_3a21a90e33b8431ebe66c7029e7bdd9e"
      }
     },
     "cdd2b887f43647219c68df4d18edf431": {
      "model_module": "@jupyter-widgets/base",
      "model_module_version": "1.1.0",
      "model_name": "LayoutModel",
      "state": {}
     },
     "ce1ada6fff52434dae589252f2ac8300": {
      "model_module": "@jupyter-widgets/controls",
      "model_module_version": "1.4.0",
      "model_name": "DescriptionStyleModel",
      "state": {
       "description_width": ""
      }
     },
     "ce23f1081856436d9be34dac121e3aba": {
      "model_module": "@jupyter-widgets/base",
      "model_module_version": "1.1.0",
      "model_name": "LayoutModel",
      "state": {}
     },
     "ce78a6d1492546a0a550db56470d5bed": {
      "model_module": "@jupyter-widgets/base",
      "model_module_version": "1.1.0",
      "model_name": "LayoutModel",
      "state": {}
     },
     "cffed8884f16433c81e0f3ae00966721": {
      "model_module": "@jupyter-widgets/controls",
      "model_module_version": "1.4.0",
      "model_name": "TextareaModel",
      "state": {
       "layout": "IPY_MODEL_54ecc7e7908d4c5a9d66ec8ac4612cd1",
       "placeholder": "Example: IOC:m1 IOC:m3 LNLS:TEST:motor_g3",
       "style": "IPY_MODEL_bde78d066df64ceb89d6a95028bd60f5"
      }
     },
     "d1db8c03946547a58a9abcd7101f003e": {
      "model_module": "@jupyter-widgets/base",
      "model_module_version": "1.1.0",
      "model_name": "LayoutModel",
      "state": {}
     },
     "d1ff8608aa3d4eb1995be24dc4a9a30b": {
      "model_module": "@jupyter-widgets/base",
      "model_module_version": "1.1.0",
      "model_name": "LayoutModel",
      "state": {
       "width": "300px"
      }
     },
     "d23fdece280b4b4ba4279a83145d07da": {
      "model_module": "@jupyter-widgets/base",
      "model_module_version": "1.1.0",
      "model_name": "LayoutModel",
      "state": {}
     },
     "d28fc95320b341aca8139f747db27afd": {
      "model_module": "@jupyter-widgets/output",
      "model_module_version": "1.0.0",
      "model_name": "OutputModel",
      "state": {
       "layout": "IPY_MODEL_6d6855a718b641498f535f19f2f97a9d"
      }
     },
     "d2c064485f9f4e22a76485e0697212ad": {
      "model_module": "@jupyter-widgets/base",
      "model_module_version": "1.1.0",
      "model_name": "LayoutModel",
      "state": {}
     },
     "d3a6261fd593421da274de90bb70250e": {
      "model_module": "@jupyter-widgets/base",
      "model_module_version": "1.1.0",
      "model_name": "LayoutModel",
      "state": {}
     },
     "d4be32a37ef342c9a61a91f16fe246ff": {
      "model_module": "@jupyter-widgets/base",
      "model_module_version": "1.1.0",
      "model_name": "LayoutModel",
      "state": {}
     },
     "d5001321870c44a8afd70cc4fc75feb3": {
      "model_module": "@jupyter-widgets/base",
      "model_module_version": "1.1.0",
      "model_name": "LayoutModel",
      "state": {}
     },
     "d56634ae3dd04d1db589d00aee391237": {
      "model_module": "@jupyter-widgets/controls",
      "model_module_version": "1.4.0",
      "model_name": "CheckboxModel",
      "state": {
       "disabled": false,
       "layout": "IPY_MODEL_b707073487b54095b1cab1b5ce2b5848",
       "style": "IPY_MODEL_7629ec9cb6c049c8b1c7a7fe74a8f91b",
       "value": false
      }
     },
     "d5ed3b25804143ea92880f767cfa664a": {
      "model_module": "@jupyter-widgets/controls",
      "model_module_version": "1.4.0",
      "model_name": "ButtonStyleModel",
      "state": {}
     },
     "d62aff543faf4d098ce01aebb581a456": {
      "model_module": "@jupyter-widgets/base",
      "model_module_version": "1.1.0",
      "model_name": "LayoutModel",
      "state": {}
     },
     "d6334aa3ff194030b28ae4b6f84a567d": {
      "model_module": "@jupyter-widgets/base",
      "model_module_version": "1.1.0",
      "model_name": "LayoutModel",
      "state": {}
     },
     "d68015788aed4f41943dc0950c94ac05": {
      "model_module": "@jupyter-widgets/base",
      "model_module_version": "1.1.0",
      "model_name": "LayoutModel",
      "state": {}
     },
     "d7b40a10d195442a9e5af62508c24595": {
      "model_module": "plotlywidget",
      "model_module_version": "0.8.0",
      "model_name": "FigureModel",
      "state": {
       "_config": {
        "plotlyServerURL": "https://plot.ly"
       },
       "_js2py_layoutDelta": {},
       "_js2py_pointsCallback": {},
       "_js2py_relayout": {},
       "_js2py_restyle": {},
       "_js2py_traceDeltas": {},
       "_js2py_update": {},
       "_layout": {
        "template": {}
       },
       "_model_module_version": "0.8.0",
       "_py2js_addTraces": {},
       "_py2js_animate": {},
       "_py2js_deleteTraces": {},
       "_py2js_moveTraces": {},
       "_py2js_removeLayoutProps": {},
       "_py2js_removeTraceProps": {},
       "_py2js_restyle": {},
       "_py2js_update": {},
       "_view_count": 0,
       "_view_module_version": "0.8.0"
      }
     },
     "d7b72a3440684b4a986bf1de6e438073": {
      "model_module": "@jupyter-widgets/controls",
      "model_module_version": "1.4.0",
      "model_name": "BoxModel",
      "state": {
       "children": [
        "IPY_MODEL_f7cdbd0cd6c64bd89c1e43a7a905c766"
       ],
       "layout": "IPY_MODEL_5c75393e45b545dc8a25ec2bc482db2d"
      }
     },
     "d84adce6bf4d483f9eddc7a3d555d7c4": {
      "model_module": "@jupyter-widgets/base",
      "model_module_version": "1.1.0",
      "model_name": "LayoutModel",
      "state": {
       "height": "40px",
       "width": "40px"
      }
     },
     "d8b5183c144d4ba7b43f3dbbce85eb4a": {
      "model_module": "@jupyter-widgets/controls",
      "model_module_version": "1.4.0",
      "model_name": "CheckboxModel",
      "state": {
       "disabled": false,
       "layout": "IPY_MODEL_9a094f4e5f2849f5b88fec57c6ba54b0",
       "style": "IPY_MODEL_5ebd8207e35b45db9ed5aa797ef3ebff",
       "value": false
      }
     },
     "d8e42d4e03f74a19ab6a0c75853d112d": {
      "model_module": "@jupyter-widgets/base",
      "model_module_version": "1.1.0",
      "model_name": "LayoutModel",
      "state": {}
     },
     "d9615a94c8b6444b93c16f16f0c20099": {
      "model_module": "@jupyter-widgets/controls",
      "model_module_version": "1.4.0",
      "model_name": "TextareaModel",
      "state": {
       "layout": "IPY_MODEL_3b3ddb7fc1b4490c8612f19ca9604e62",
       "placeholder": "Example: IOC:m1 IOC:m3 LNLS:TEST:motor_g3",
       "style": "IPY_MODEL_3e58e3a76c78401e9f0235e625a4f54a"
      }
     },
     "da5bad07cd07485f958c1ab4febc84da": {
      "model_module": "@jupyter-widgets/controls",
      "model_module_version": "1.4.0",
      "model_name": "VBoxModel",
      "state": {
       "children": [
        "IPY_MODEL_e6e096ee675d4a9bbac4c8661ced0be3"
       ],
       "layout": "IPY_MODEL_2692bf5e99054fd6ae5e1a64abba3480"
      }
     },
     "da92030c320147f091a399097a2643a6": {
      "model_module": "@jupyter-widgets/base",
      "model_module_version": "1.1.0",
      "model_name": "LayoutModel",
      "state": {}
     },
     "da9dc1ef043a472fba2402706757af35": {
      "model_module": "@jupyter-widgets/base",
      "model_module_version": "1.1.0",
      "model_name": "LayoutModel",
      "state": {
       "width": "300px"
      }
     },
     "db23984ceeae44cea9e47651ccf1a982": {
      "model_module": "@jupyter-widgets/base",
      "model_module_version": "1.1.0",
      "model_name": "LayoutModel",
      "state": {}
     },
     "dbe5f11d431c418e88d8d8177f46b155": {
      "model_module": "@jupyter-widgets/controls",
      "model_module_version": "1.4.0",
      "model_name": "DescriptionStyleModel",
      "state": {
       "description_width": ""
      }
     },
     "dc3bd7dab89044748d8cffb13205a980": {
      "model_module": "@jupyter-widgets/base",
      "model_module_version": "1.1.0",
      "model_name": "LayoutModel",
      "state": {}
     },
     "dcc93be193654d339fe057577f35e77e": {
      "model_module": "@jupyter-widgets/controls",
      "model_module_version": "1.4.0",
      "model_name": "DescriptionStyleModel",
      "state": {
       "description_width": "initial"
      }
     },
     "dcc99f23990f43d3aba9848e8e6306a6": {
      "model_module": "@jupyter-widgets/base",
      "model_module_version": "1.1.0",
      "model_name": "LayoutModel",
      "state": {}
     },
     "dd42b4d8cb3549efa104cceddcbf4a73": {
      "model_module": "@jupyter-widgets/controls",
      "model_module_version": "1.4.0",
      "model_name": "DescriptionStyleModel",
      "state": {
       "description_width": ""
      }
     },
     "de59cc44d8104326b6e20d4096a73341": {
      "buffers": [
       {
        "data": "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",
        "encoding": "base64",
        "path": [
         "value"
        ]
       }
      ],
      "model_module": "@jupyter-widgets/controls",
      "model_module_version": "1.4.0",
      "model_name": "ImageModel",
      "state": {
       "height": "35",
       "layout": "IPY_MODEL_dc3bd7dab89044748d8cffb13205a980",
       "value": {},
       "width": "35"
      }
     },
     "dedb21ffc95044cfaf83a4168633b13f": {
      "model_module": "@jupyter-widgets/base",
      "model_module_version": "1.1.0",
      "model_name": "LayoutModel",
      "state": {
       "height": "40px",
       "width": "40px"
      }
     },
     "dee0c33b1ee5402aab3897b9e15dfcd3": {
      "model_module": "@jupyter-widgets/controls",
      "model_module_version": "1.4.0",
      "model_name": "CheckboxModel",
      "state": {
       "disabled": false,
       "layout": "IPY_MODEL_96de704ffbf5477a816c9c00fe385182",
       "style": "IPY_MODEL_93d1dd1816ac47b6b67ecc095ba2deb2",
       "value": false
      }
     },
     "df5ac2ccfae445a2b0570f833fc24cf1": {
      "model_module": "@jupyter-widgets/base",
      "model_module_version": "1.1.0",
      "model_name": "LayoutModel",
      "state": {}
     },
     "df9b42d450da4d069782662f966941f5": {
      "model_module": "@jupyter-widgets/base",
      "model_module_version": "1.1.0",
      "model_name": "LayoutModel",
      "state": {}
     },
     "e22feb83f922428cb8fc2f327edcea1d": {
      "model_module": "@jupyter-widgets/base",
      "model_module_version": "1.1.0",
      "model_name": "LayoutModel",
      "state": {}
     },
     "e2ba59cc73e34c0a8d96a242008c164a": {
      "model_module": "@jupyter-widgets/controls",
      "model_module_version": "1.4.0",
      "model_name": "BoxModel",
      "state": {
       "children": [
        "IPY_MODEL_7e849dedef2146d0afd9e6f8a87e6451"
       ],
       "layout": "IPY_MODEL_17f5442dd6c64ec5ba833c8fa7403a3a"
      }
     },
     "e2d272d00934497da1ddd564c5b6cd24": {
      "model_module": "@jupyter-widgets/output",
      "model_module_version": "1.0.0",
      "model_name": "OutputModel",
      "state": {
       "layout": "IPY_MODEL_ff96776bc689459b8de0377c2edeefc7"
      }
     },
     "e2f82bd049e44a538d8557c30aff5438": {
      "model_module": "@jupyter-widgets/base",
      "model_module_version": "1.1.0",
      "model_name": "LayoutModel",
      "state": {}
     },
     "e3029153a9314baabf19a36ebc4fca57": {
      "model_module": "@jupyter-widgets/base",
      "model_module_version": "1.1.0",
      "model_name": "LayoutModel",
      "state": {}
     },
     "e30fa0aa965243e6ba2bda3664a9a7fc": {
      "model_module": "@jupyter-widgets/controls",
      "model_module_version": "1.4.0",
      "model_name": "BoxModel",
      "state": {
       "layout": "IPY_MODEL_dedb21ffc95044cfaf83a4168633b13f"
      }
     },
     "e3161c548ec64b3b85564e86ed846919": {
      "model_module": "@jupyter-widgets/controls",
      "model_module_version": "1.4.0",
      "model_name": "VBoxModel",
      "state": {
       "children": [
        "IPY_MODEL_0c7cb740f82f45e28bc7a6fc817c76a1",
        "IPY_MODEL_67cdf6ad47cf4dbb9b600e0df1bfba94"
       ],
       "layout": "IPY_MODEL_f079bbff19a84452b4f310da8b9daced"
      }
     },
     "e33e138b0aee4f3fbfb995a8dce9fd81": {
      "model_module": "@jupyter-widgets/base",
      "model_module_version": "1.1.0",
      "model_name": "LayoutModel",
      "state": {
       "width": "300px"
      }
     },
     "e41042ebeb2141ea9d260e029edccfc7": {
      "model_module": "@jupyter-widgets/base",
      "model_module_version": "1.1.0",
      "model_name": "LayoutModel",
      "state": {}
     },
     "e48360dda92d489e804c27addd6b7d75": {
      "model_module": "@jupyter-widgets/base",
      "model_module_version": "1.1.0",
      "model_name": "LayoutModel",
      "state": {}
     },
     "e62ec78ca9184b5089e37e7bc0927960": {
      "model_module": "@jupyter-widgets/controls",
      "model_module_version": "1.4.0",
      "model_name": "CheckboxModel",
      "state": {
       "description": "Live plot in Jupyter: ",
       "disabled": false,
       "layout": "IPY_MODEL_3eb083b5fb264bb88e5d173142139e54",
       "style": "IPY_MODEL_2c031995eeaf44cc819cf15836bc70ee",
       "value": false
      }
     },
     "e6e096ee675d4a9bbac4c8661ced0be3": {
      "model_module": "@jupyter-widgets/controls",
      "model_module_version": "1.4.0",
      "model_name": "LabelModel",
      "state": {
       "layout": "IPY_MODEL_e3029153a9314baabf19a36ebc4fca57",
       "style": "IPY_MODEL_6c5d84787f0842b4b6bffc4714aeca9c",
       "value": "No motors initilized to be showed."
      }
     },
     "e6fc675a63af4bfa8aa3d91946a15dd7": {
      "model_module": "@jupyter-widgets/controls",
      "model_module_version": "1.4.0",
      "model_name": "DescriptionStyleModel",
      "state": {
       "description_width": "initial"
      }
     },
     "ea3470c50fd34ec5ba69c4fc4f20d617": {
      "model_module": "@jupyter-widgets/controls",
      "model_module_version": "1.4.0",
      "model_name": "DescriptionStyleModel",
      "state": {
       "description_width": ""
      }
     },
     "eaab3b26e7b24fc39cc6c6ddf70d6f57": {
      "buffers": [
       {
        "data": "AAAAAAAAIEAAAAAAAAAcQAAAAAAAABxAAAAAAAAAAAAAAAAAAAAYQA==",
        "encoding": "base64",
        "path": [
         "_data",
         0,
         "y",
         "value"
        ]
       },
       {
        "data": "AAAAAAAAIEAAAAAAAAAcQAAAAAAAABxAAAAAAAAAAAAAAAAAAAAYQA==",
        "encoding": "base64",
        "path": [
         "_data",
         1,
         "y",
         "value"
        ]
       }
      ],
      "model_module": "plotlywidget",
      "model_module_version": "0.8.0",
      "model_name": "FigureModel",
      "state": {
       "_config": {
        "plotlyServerURL": "https://plot.ly"
       },
       "_data": [
        {
         "mode": "lines+markers",
         "name": "line1",
         "type": "scatter",
         "uid": "803226f9-8e8a-4539-b53b-32227b7f4dc6",
         "x": [
          0,
          1,
          2,
          3,
          4
         ],
         "xaxis": "x",
         "y": {
          "dtype": "float64",
          "shape": [
           5
          ],
          "value": {}
         },
         "yaxis": "y"
        },
        {
         "mode": "lines+markers",
         "name": "line2",
         "type": "scatter",
         "uid": "969bee1d-e0c3-484b-b459-6a772efdef0f",
         "x": [
          0,
          1,
          2,
          3,
          4
         ],
         "xaxis": "x2",
         "y": {
          "dtype": "float64",
          "shape": [
           5
          ],
          "value": {}
         },
         "yaxis": "y2"
        }
       ],
       "_js2py_pointsCallback": {},
       "_js2py_restyle": {},
       "_js2py_update": {},
       "_last_layout_edit_id": 8,
       "_last_trace_edit_id": 7,
       "_layout": {
        "autosize": true,
        "plot_bgcolor": "rgb(230, 230, 230)",
        "template": {},
        "title": {
         "text": "Scan"
        },
        "xaxis": {
         "anchor": "y",
         "domain": [
          0,
          1
         ]
        },
        "xaxis2": {
         "anchor": "y2",
         "domain": [
          0,
          1
         ]
        },
        "yaxis": {
         "anchor": "x",
         "domain": [
          0.575,
          1
         ]
        },
        "yaxis2": {
         "anchor": "x2",
         "domain": [
          0,
          0.425
         ]
        }
       },
       "_model_module_version": "0.8.0",
       "_py2js_animate": {},
       "_py2js_deleteTraces": {},
       "_py2js_moveTraces": {},
       "_py2js_removeLayoutProps": {},
       "_py2js_removeTraceProps": {},
       "_view_count": 0,
       "_view_module_version": "0.8.0"
      }
     },
     "eadd490d315f487ba9cc5855fca54e4d": {
      "model_module": "@jupyter-widgets/output",
      "model_module_version": "1.0.0",
      "model_name": "OutputModel",
      "state": {
       "layout": "IPY_MODEL_44026a4fe08d44568f78ac91150399d0"
      }
     },
     "eb8e347640de42938e97b50c1b291f61": {
      "model_module": "@jupyter-widgets/controls",
      "model_module_version": "1.4.0",
      "model_name": "VBoxModel",
      "state": {
       "children": [
        "IPY_MODEL_317a48374e284cf481e144674fce84a3",
        "IPY_MODEL_869c153264764c589b2ea2c343553f4b"
       ],
       "layout": "IPY_MODEL_992cbf4def43416bbc2adafbca5c3114"
      }
     },
     "ee3f4b6b9beb4c1a9876c05eecd6f077": {
      "model_module": "@jupyter-widgets/base",
      "model_module_version": "1.1.0",
      "model_name": "LayoutModel",
      "state": {}
     },
     "ee7a3919b405460d826cfd186c1184d4": {
      "model_module": "@jupyter-widgets/controls",
      "model_module_version": "1.4.0",
      "model_name": "CheckboxModel",
      "state": {
       "description": "Live plot in Jupyter: ",
       "disabled": false,
       "layout": "IPY_MODEL_7e894e571edd4b678a9ba733303c2a6e",
       "style": "IPY_MODEL_b2d8ab2df52d49ce81cc1cf21b6a5f42",
       "value": false
      }
     },
     "ee8d1a953a084b8da8336af44fccd281": {
      "model_module": "@jupyter-widgets/controls",
      "model_module_version": "1.4.0",
      "model_name": "ButtonStyleModel",
      "state": {}
     },
     "f079bbff19a84452b4f310da8b9daced": {
      "model_module": "@jupyter-widgets/base",
      "model_module_version": "1.1.0",
      "model_name": "LayoutModel",
      "state": {}
     },
     "f19a6c8aa84f40cd9481eaf618e32a28": {
      "model_module": "@jupyter-widgets/base",
      "model_module_version": "1.1.0",
      "model_name": "LayoutModel",
      "state": {}
     },
     "f1a00a6999374119ac424f182e15fada": {
      "model_module": "@jupyter-widgets/base",
      "model_module_version": "1.1.0",
      "model_name": "LayoutModel",
      "state": {}
     },
     "f1e2e07e7e6c4767b2f10538714561f8": {
      "model_module": "@jupyter-widgets/base",
      "model_module_version": "1.1.0",
      "model_name": "LayoutModel",
      "state": {}
     },
     "f21acbf1bf22494b9532094e1df4b8ba": {
      "model_module": "@jupyter-widgets/base",
      "model_module_version": "1.1.0",
      "model_name": "LayoutModel",
      "state": {
       "width": "300px"
      }
     },
     "f313ee747eee47c3ad31b970b23cb356": {
      "model_module": "@jupyter-widgets/base",
      "model_module_version": "1.1.0",
      "model_name": "LayoutModel",
      "state": {}
     },
     "f3a15bbeb1f846ce8048904ae08d6614": {
      "model_module": "@jupyter-widgets/base",
      "model_module_version": "1.1.0",
      "model_name": "LayoutModel",
      "state": {}
     },
     "f41fd0178c3b4f778d2fdd34095a3f36": {
      "model_module": "@jupyter-widgets/base",
      "model_module_version": "1.1.0",
      "model_name": "LayoutModel",
      "state": {
       "height": "40px",
       "width": "40px"
      }
     },
     "f755347417e844048f59aa26e998adc6": {
      "model_module": "@jupyter-widgets/base",
      "model_module_version": "1.1.0",
      "model_name": "LayoutModel",
      "state": {}
     },
     "f7cdbd0cd6c64bd89c1e43a7a905c766": {
      "buffers": [
       {
        "data": "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",
        "encoding": "base64",
        "path": [
         "value"
        ]
       }
      ],
      "model_module": "@jupyter-widgets/controls",
      "model_module_version": "1.4.0",
      "model_name": "ImageModel",
      "state": {
       "height": "35",
       "layout": "IPY_MODEL_e2f82bd049e44a538d8557c30aff5438",
       "value": {},
       "width": "35"
      }
     },
     "f8beb4a86b81432084746e756a8ce4cb": {
      "model_module": "@jupyter-widgets/controls",
      "model_module_version": "1.4.0",
      "model_name": "DescriptionStyleModel",
      "state": {
       "description_width": ""
      }
     },
     "f9e54cfb501945e79af2f823d84c1578": {
      "model_module": "@jupyter-widgets/base",
      "model_module_version": "1.1.0",
      "model_name": "LayoutModel",
      "state": {}
     },
     "fa72172899f4420db36709695892e60a": {
      "model_module": "@jupyter-widgets/base",
      "model_module_version": "1.1.0",
      "model_name": "LayoutModel",
      "state": {
       "height": "40px",
       "width": "40px"
      }
     },
     "fad38f0c85a5487785509aa2ed9b9e9d": {
      "model_module": "@jupyter-widgets/controls",
      "model_module_version": "1.4.0",
      "model_name": "DescriptionStyleModel",
      "state": {
       "description_width": ""
      }
     },
     "fad9c21482734e6380f42669bf2cdb72": {
      "model_module": "@jupyter-widgets/base",
      "model_module_version": "1.1.0",
      "model_name": "LayoutModel",
      "state": {}
     },
     "fcd86517521f48a89b12d9343b9c99c3": {
      "model_module": "@jupyter-widgets/controls",
      "model_module_version": "1.4.0",
      "model_name": "CheckboxModel",
      "state": {
       "description": "Plot scan-gui graph instead of Jupyter's: ",
       "disabled": false,
       "layout": "IPY_MODEL_e41042ebeb2141ea9d260e029edccfc7",
       "style": "IPY_MODEL_68c7858536fb438782eee29e483cb450",
       "value": false
      }
     },
     "fd17de4205984e97a15f8379f2bdcebb": {
      "model_module": "@jupyter-widgets/controls",
      "model_module_version": "1.4.0",
      "model_name": "CheckboxModel",
      "state": {
       "description": "Plot scan-gui graph instead of Jupyter's: ",
       "disabled": false,
       "layout": "IPY_MODEL_80295925732d4455838739761ba56611",
       "style": "IPY_MODEL_0d68f720337341df8f665175f4a86de7",
       "value": true
      }
     },
     "feb9ee64c0094495a146918dbf7456b0": {
      "model_module": "@jupyter-widgets/output",
      "model_module_version": "1.0.0",
      "model_name": "OutputModel",
      "state": {
       "layout": "IPY_MODEL_b06427cee414482182bf15572775486e"
      }
     },
     "fef0e6b477da415d974ee0fc4b7bcadf": {
      "model_module": "@jupyter-widgets/base",
      "model_module_version": "1.1.0",
      "model_name": "LayoutModel",
      "state": {}
     },
     "ff945d2204d94930a4d9004275781afd": {
      "model_module": "@jupyter-widgets/output",
      "model_module_version": "1.0.0",
      "model_name": "OutputModel",
      "state": {
       "layout": "IPY_MODEL_6ead58717996445e8356dcc5fea381eb"
      }
     },
     "ff96776bc689459b8de0377c2edeefc7": {
      "model_module": "@jupyter-widgets/base",
      "model_module_version": "1.1.0",
      "model_name": "LayoutModel",
      "state": {}
     },
     "fff92ec6d32a4de2a84f970e4311f16d": {
      "model_module": "@jupyter-widgets/controls",
      "model_module_version": "1.4.0",
      "model_name": "CheckboxModel",
      "state": {
       "description": "Live plot in Jupyter: ",
       "disabled": false,
       "layout": "IPY_MODEL_7502215057434ddf904fb203c78550d7",
       "style": "IPY_MODEL_78570f445fc640a2ba52e47b5c03d1df",
       "value": true
      }
     }
    },
    "version_major": 2,
    "version_minor": 0
   }
  }
 },
 "nbformat": 4,
 "nbformat_minor": 2
}
