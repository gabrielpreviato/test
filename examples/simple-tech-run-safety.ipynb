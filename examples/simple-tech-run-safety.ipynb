{
 "cells": [
  {
   "cell_type": "markdown",
   "metadata": {},
   "source": [
    "# **XAFS1 - Calibration**"
   ]
  },
  {
   "cell_type": "markdown",
   "metadata": {},
   "source": [
    "## **Energy**"
   ]
  },
  {
   "cell_type": "code",
   "execution_count": null,
   "metadata": {},
   "outputs": [],
   "source": [
    "!wm solm3"
   ]
  },
  {
   "cell_type": "code",
   "execution_count": null,
   "metadata": {},
   "outputs": [],
   "source": [
    "from jupy4syn.wmButton import wmButton\n",
    "\n",
    "wm = wmButton()\n",
    "wm.display()"
   ]
  },
  {
   "cell_type": "code",
   "execution_count": null,
   "metadata": {},
   "outputs": [],
   "source": [
    "import subprocess"
   ]
  },
  {
   "cell_type": "code",
   "execution_count": null,
   "metadata": {},
   "outputs": [],
   "source": [
    "!wa"
   ]
  },
  {
   "cell_type": "code",
   "execution_count": null,
   "metadata": {
    "scrolled": true
   },
   "outputs": [],
   "source": [
    "from jupy4syn.waButton import waButton\n",
    "\n",
    "wa = waButton()\n",
    "wa.display()"
   ]
  },
  {
   "cell_type": "code",
   "execution_count": null,
   "metadata": {
    "scrolled": true
   },
   "outputs": [],
   "source": [
    "!wm energy"
   ]
  },
  {
   "cell_type": "code",
   "execution_count": null,
   "metadata": {},
   "outputs": [],
   "source": [
    "!move energy 10300"
   ]
  },
  {
   "cell_type": "code",
   "execution_count": null,
   "metadata": {},
   "outputs": [],
   "source": [
    "from jupy4syn.moveButton import moveButton\n",
    "\n",
    "move = moveButton()\n",
    "move.display()"
   ]
  },
  {
   "cell_type": "markdown",
   "metadata": {},
   "source": [
    "- **Set Energy**"
   ]
  },
  {
   "cell_type": "code",
   "execution_count": null,
   "metadata": {},
   "outputs": [],
   "source": [
    "!caput XAFS1:calibEnergy 10367\n",
    "!caput XAFS1:calibrate 1"
   ]
  },
  {
   "cell_type": "markdown",
   "metadata": {},
   "source": [
    "- **Mesa ON/OFF**"
   ]
  },
  {
   "cell_type": "code",
   "execution_count": null,
   "metadata": {},
   "outputs": [],
   "source": [
    "!caget XAFS1:HeightFlag"
   ]
  },
  {
   "cell_type": "code",
   "execution_count": null,
   "metadata": {},
   "outputs": [],
   "source": [
    "!caput XAFS1:HeightFlag <On/Off> "
   ]
  },
  {
   "cell_type": "markdown",
   "metadata": {},
   "source": [
    "- **Crystal Parameter**\n",
    "  - **Si(111) - 6.27086**\n",
    "  - **Si(220) - 1.92004**"
   ]
  },
  {
   "cell_type": "code",
   "execution_count": null,
   "metadata": {},
   "outputs": [],
   "source": [
    "!caget XAFS1:CrystalParam"
   ]
  },
  {
   "cell_type": "code",
   "execution_count": null,
   "metadata": {},
   "outputs": [],
   "source": [
    "from jupy4syn.PVGetter import PVGetter\n",
    "\n",
    "crystal_param = PVGetter(\"XAFS1:CrystalParam\")\n",
    "crystal_param.display()"
   ]
  },
  {
   "cell_type": "code",
   "execution_count": null,
   "metadata": {},
   "outputs": [],
   "source": [
    "!caput XAFS1:CrystalParam <insert>"
   ]
  },
  {
   "cell_type": "markdown",
   "metadata": {},
   "source": [
    "- #### Cristal pos for \n",
    "\n",
    "   - **Si(111) = 0**\n",
    "\n",
    "   - **Si(220) = 59**\n"
   ]
  },
  {
   "cell_type": "code",
   "execution_count": null,
   "metadata": {},
   "outputs": [],
   "source": [
    "!wm cristal"
   ]
  },
  {
   "cell_type": "code",
   "execution_count": null,
   "metadata": {},
   "outputs": [],
   "source": [
    "!move cristal <insert>"
   ]
  },
  {
   "cell_type": "markdown",
   "metadata": {},
   "source": [
    "## **Slits**"
   ]
  },
  {
   "cell_type": "markdown",
   "metadata": {},
   "source": [
    "- **Pre-mono**"
   ]
  },
  {
   "cell_type": "code",
   "execution_count": null,
   "metadata": {},
   "outputs": [],
   "source": [
    "%%script bash --bg\n",
    "export LEFT=`get-pv-by-name preesq`\n",
    "export RIGHT=`get-pv-by-name predir`\n",
    "export TOP=`get-pv-by-name presup`\n",
    "export BOTTOM=`get-pv-by-name preinf`\n",
    "slits ${LEFT} ${RIGHT} ${TOP} ${BOTTOM}"
   ]
  },
  {
   "cell_type": "code",
   "execution_count": null,
   "metadata": {},
   "outputs": [],
   "source": [
    "from jupy4syn.slitsButton import slitsButton\n",
    "\n",
    "slits = slitsButton(left=\"preesq\", right=\"predir\", top=\"presup\", bottom=\"preinf\")\n",
    "slits.display()"
   ]
  },
  {
   "cell_type": "markdown",
   "metadata": {},
   "source": [
    "- **Post-mono**"
   ]
  },
  {
   "cell_type": "code",
   "execution_count": null,
   "metadata": {},
   "outputs": [],
   "source": [
    "%%script bash --bg\n",
    "export LEFT=`get-pv-by-name posesq`\n",
    "export RIGHT=`get-pv-by-name posdir`\n",
    "export TOP=`get-pv-by-name possup`\n",
    "export BOTTOM=`get-pv-by-name posinf`\n",
    "slits ${LEFT} ${RIGHT} ${TOP} ${BOTTOM}"
   ]
  },
  {
   "cell_type": "code",
   "execution_count": null,
   "metadata": {},
   "outputs": [],
   "source": [
    "from jupy4syn.slitsButton import slitsButton\n",
    "\n",
    "slits = slitsButton(left=\"posesq\", right=\"posdir\", top=\"possup\", bottom=\"posinf\")\n",
    "slits.display()"
   ]
  },
  {
   "cell_type": "markdown",
   "metadata": {},
   "source": [
    "## **Motors**"
   ]
  },
  {
   "cell_type": "code",
   "execution_count": null,
   "metadata": {},
   "outputs": [],
   "source": [
    "%%script bash --bg\n",
    "export M1=`get-pv-by-name shv`\n",
    "export M2=`get-pv-by-name shh`\n",
    "export M3=`get-pv-by-name criov`\n",
    "export M4=`get-pv-by-name crioh`\n",
    "export M5=`get-pv-by-name gon`\n",
    "motors_gui ${M1} ${M2} ${M3} ${M4} ${M5} --user"
   ]
  },
  {
   "cell_type": "code",
   "execution_count": null,
   "metadata": {},
   "outputs": [],
   "source": [
    "import jupy4syn.motorsButton\n",
    "\n",
    "motors = jupy4syn.motorsButton.motorsButton(\"shv\", \"shh\", \"criov\", \"crioh\", \"gon\", user_flag=True)\n",
    "motors.display()"
   ]
  },
  {
   "cell_type": "code",
   "execution_count": null,
   "metadata": {},
   "outputs": [],
   "source": [
    "%%script bash --bg\n",
    "export M1=`get-pv-by-name mono`\n",
    "export M2=`get-pv-by-name mesa`\n",
    "export M3=`get-pv-by-name energy`\n",
    "export M4=``\n",
    "export M5=``\n",
    "motors_gui ${M1} ${M2} ${M3} ${M4} ${M5}"
   ]
  },
  {
   "cell_type": "code",
   "execution_count": null,
   "metadata": {},
   "outputs": [],
   "source": [
    "import jupy4syn.motorsButton\n",
    "\n",
    "motors = jupy4syn.motorsButton.motorsButton(\"mono\", \"mesa\", \"energy\")\n",
    "motors.display()"
   ]
  },
  {
   "cell_type": "markdown",
   "metadata": {},
   "source": [
    "## **Counters**"
   ]
  },
  {
   "cell_type": "markdown",
   "metadata": {},
   "source": [
    "#### Stanford Calibration"
   ]
  },
  {
   "cell_type": "code",
   "execution_count": null,
   "metadata": {},
   "outputs": [],
   "source": [
    "!ic_tune"
   ]
  },
  {
   "cell_type": "markdown",
   "metadata": {},
   "source": [
    "- **I0**"
   ]
  },
  {
   "cell_type": "code",
   "execution_count": null,
   "metadata": {
    "scrolled": false
   },
   "outputs": [],
   "source": [
    "!caget XAFS1:SR5701:sens_num XAFS1:SR5701:sens_unit \n",
    "                "
   ]
  },
  {
   "cell_type": "code",
   "execution_count": null,
   "metadata": {
    "scrolled": true
   },
   "outputs": [],
   "source": [
    "!caput XAFS1:SR5701:sens_num 500\n",
    "!caput XAFS1:SR5701:sens_unit pA/V"
   ]
  },
  {
   "cell_type": "markdown",
   "metadata": {},
   "source": [
    "- **I1**"
   ]
  },
  {
   "cell_type": "code",
   "execution_count": null,
   "metadata": {
    "scrolled": true
   },
   "outputs": [],
   "source": [
    "!caget XAFS1:SR5702:sens_num XAFS1:SR5702:sens_unit "
   ]
  },
  {
   "cell_type": "code",
   "execution_count": null,
   "metadata": {},
   "outputs": [],
   "source": [
    "!caput XAFS1:SR5702:sens_num 500\n",
    "!caput XAFS1:SR5702:sens_unit pA/V"
   ]
  },
  {
   "cell_type": "markdown",
   "metadata": {},
   "source": [
    "- **Counters status**"
   ]
  },
  {
   "cell_type": "code",
   "execution_count": null,
   "metadata": {},
   "outputs": [],
   "source": [
    "!ct"
   ]
  },
  {
   "cell_type": "code",
   "execution_count": null,
   "metadata": {
    "scrolled": false
   },
   "outputs": [],
   "source": [
    "from jupy4syn.ctButton import ctButton\n",
    "\n",
    "ct = ctButton()\n",
    "ct.display()"
   ]
  },
  {
   "cell_type": "markdown",
   "metadata": {},
   "source": [
    "- **Scaler Interface**"
   ]
  },
  {
   "cell_type": "code",
   "execution_count": null,
   "metadata": {},
   "outputs": [],
   "source": [
    "subprocess.Popen(['pydm', '--hide-menu-bar', '--hide-nav-bar', '-m', 'P=SOL:CRIO1:SCALER_AN', 'scaler.py'])"
   ]
  },
  {
   "cell_type": "code",
   "execution_count": null,
   "metadata": {},
   "outputs": [],
   "source": [
    "from jupy4syn.ScalerButton import ScalerButton\n",
    "\n",
    "scaler = ScalerButton()\n",
    "scaler.display()"
   ]
  },
  {
   "cell_type": "markdown",
   "metadata": {},
   "source": [
    "- **Vortex Interface**"
   ]
  },
  {
   "cell_type": "code",
   "execution_count": null,
   "metadata": {},
   "outputs": [],
   "source": [
    "subprocess.Popen(['pydm', '--hide-menu-bar', '--hide-nav-bar', '-m', 'P=XSPRESS3-CARNAUBA', 'vortex.py'])"
   ]
  },
  {
   "cell_type": "markdown",
   "metadata": {},
   "source": [
    "## **Scan**"
   ]
  },
  {
   "cell_type": "code",
   "execution_count": null,
   "metadata": {},
   "outputs": [],
   "source": [
    "subprocess.Popen(['scan_gui'])"
   ]
  },
  {
   "cell_type": "code",
   "execution_count": null,
   "metadata": {
    "scrolled": false
   },
   "outputs": [],
   "source": [
    "from jupy4syn.CommandButton import CommandButton\n",
    "\n",
    "command = CommandButton('scan_gui')\n",
    "command.display()"
   ]
  },
  {
   "cell_type": "markdown",
   "metadata": {},
   "source": [
    "## **Energy scan**"
   ]
  },
  {
   "cell_type": "code",
   "execution_count": null,
   "metadata": {},
   "outputs": [],
   "source": [
    "subprocess.Popen(['energy_scan_gui', 'energy'])"
   ]
  },
  {
   "cell_type": "code",
   "execution_count": null,
   "metadata": {},
   "outputs": [],
   "source": [
    "from jupy4syn.CommandButton import CommandButton\n",
    "\n",
    "command_1 = CommandButton('energy_scan_gui energy')\n",
    "command_1.display()"
   ]
  },
  {
   "cell_type": "markdown",
   "metadata": {},
   "source": [
    "## **Data analysis**"
   ]
  },
  {
   "cell_type": "code",
   "execution_count": null,
   "metadata": {},
   "outputs": [],
   "source": [
    "subprocess.Popen(['pymca'])"
   ]
  },
  {
   "cell_type": "code",
   "execution_count": null,
   "metadata": {},
   "outputs": [],
   "source": [
    "from jupy4syn.CommandButton import CommandButton\n",
    "\n",
    "command_2 = CommandButton('pymca')\n",
    "command_2.display()"
   ]
  },
  {
   "cell_type": "code",
   "execution_count": null,
   "metadata": {},
   "outputs": [],
   "source": [
    "!move solm1 1"
   ]
  },
  {
   "cell_type": "code",
   "execution_count": null,
   "metadata": {},
   "outputs": [],
   "source": [
    "from IPython.display import display, Javascript\n",
    "display(Javascript('IPython.notebook.save_checkpoint();'))\n",
    "!python3 -m nbconvert simple-tech-run.ipynb --template=nbextensions --output-dir=./exports --output=simple-tech-run.html --to html"
   ]
  }
 ],
 "metadata": {
  "kernelspec": {
   "display_name": "Python 3",
   "language": "python",
   "name": "python3"
  },
  "language_info": {
   "codemirror_mode": {
    "name": "ipython",
    "version": 3
   },
   "file_extension": ".py",
   "mimetype": "text/x-python",
   "name": "python",
   "nbconvert_exporter": "python",
   "pygments_lexer": "ipython3",
   "version": "3.5.3"
  }
 },
 "nbformat": 4,
 "nbformat_minor": 2
}
