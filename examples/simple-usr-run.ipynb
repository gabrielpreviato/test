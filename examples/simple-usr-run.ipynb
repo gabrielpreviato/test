{
 "cells": [
  {
   "cell_type": "code",
   "execution_count": 1,
   "metadata": {},
   "outputs": [],
   "source": [
    "import subprocess"
   ]
  },
  {
   "cell_type": "code",
   "execution_count": 12,
   "metadata": {},
   "outputs": [],
   "source": [
    "from scan_utils.configuration import Configuration\n",
    "import sys\n",
    "\n",
    "def get_pv(name):\n",
    "    \"\"\" Return PV for a given name in scan-utils config.yml\"\"\"\n",
    "\n",
    "    config = Configuration()\n",
    "#     name = sys.argv[1]\n",
    "\n",
    "    motors = config['motors']\n",
    "\n",
    "    if name in motors:\n",
    "        pv = motors[name].get('pv')\n",
    "        return pv\n",
    "\n",
    "    counters = config['counters']\n",
    "\n",
    "    if name in counters:\n",
    "        pv = counters[name].get('pv')\n",
    "        return pv\n"
   ]
  },
  {
   "cell_type": "code",
   "execution_count": 2,
   "metadata": {},
   "outputs": [
    {
     "name": "stdout",
     "output_type": "stream",
     "text": [
      "\r\n",
      "              Motor:                User:                Dial:\r\n",
      "               solm1              10.0000              10.0000\r\n",
      "               solm3               0.0000               0.0000\r\n",
      "                gap2               0.0000               0.0000\r\n",
      "             offset2               0.0000               0.0000\r\n",
      "               solm2               3.0000               3.0000\r\n",
      "               solm4               0.0000               0.0000\r\n"
     ]
    }
   ],
   "source": [
    "!wa"
   ]
  },
  {
   "cell_type": "code",
   "execution_count": 13,
   "metadata": {},
   "outputs": [
    {
     "data": {
      "text/plain": [
       "<subprocess.Popen at 0x7f2cd40ec4a8>"
      ]
     },
     "execution_count": 13,
     "metadata": {},
     "output_type": "execute_result"
    }
   ],
   "source": [
    "motor = get_pv(\"solm2\")\n",
    "subprocess.Popen(['motor', motor])"
   ]
  },
  {
   "cell_type": "code",
   "execution_count": 4,
   "metadata": {},
   "outputs": [
    {
     "name": "stdout",
     "output_type": "stream",
     "text": [
      "/bin/sh: 1: ./home/gabriel.andrade/work/scan-utils/o_ct: not found\r\n"
     ]
    }
   ],
   "source": [
    "## Here goes ct\n",
    "# Antes de executar, certificar que os arquivos estao linkados no bin\n",
    "# Exemplo:\n",
    "# ln -s /usr/local/SOL/scan-utils/ct /usr/local/bin/ct\n",
    "!./home/gabriel.andrade/work/scan-utils/o_ct"
   ]
  },
  {
   "cell_type": "code",
   "execution_count": 5,
   "metadata": {},
   "outputs": [
    {
     "data": {
      "text/plain": [
       "<subprocess.Popen at 0x7f2cd47e1cf8>"
      ]
     },
     "execution_count": 5,
     "metadata": {},
     "output_type": "execute_result"
    }
   ],
   "source": [
    "## Here goes scaler\n",
    "#!pydm --hide-menu-bar --hide-nav-bar -m \"P=REFLET:SCALER\" scaler.py\n",
    "subprocess.Popen(['pydm', '--hide-menu-bar', '--hide-nav-bar', '-m', 'P=REFLET:SCALER', 'scaler.py'])"
   ]
  },
  {
   "cell_type": "code",
   "execution_count": 6,
   "metadata": {},
   "outputs": [
    {
     "data": {
      "text/plain": [
       "<subprocess.Popen at 0x7f2cd414c1d0>"
      ]
     },
     "execution_count": 6,
     "metadata": {},
     "output_type": "execute_result"
    }
   ],
   "source": [
    "# Antes de executar, certificar que os arquivos estao linkados no bin\n",
    "# Exemplo:\n",
    "# ln -s /home/gabriel.andrade/work/vortex-gui/vortex.py /usr/local/bin/vortex.py\n",
    "# ln -s /home/gabriel.andrade/work/vortex-gui/plot /usr/local/bin/plot\n",
    "# ln -s /home/gabriel.andrade/work/vortex-gui/roi_set/ /usr/local/bin/roi_set\n",
    "subprocess.Popen(['pydm', '--hide-menu-bar', '--hide-nav-bar', '-m', 'P=XPRESS3-CARNAUBA', 'vortex.py'])"
   ]
  },
  {
   "cell_type": "code",
   "execution_count": 7,
   "metadata": {},
   "outputs": [
    {
     "data": {
      "text/plain": [
       "<subprocess.Popen at 0x7f2cd414c4a8>"
      ]
     },
     "execution_count": 7,
     "metadata": {},
     "output_type": "execute_result"
    }
   ],
   "source": [
    "# First instal pymca\n",
    "# pip3 install PyMca5\n",
    "# pip3 install silx\n",
    "subprocess.Popen(['scan_gui'])"
   ]
  },
  {
   "cell_type": "code",
   "execution_count": 8,
   "metadata": {},
   "outputs": [
    {
     "data": {
      "text/plain": [
       "<subprocess.Popen at 0x7f2cd47c2eb8>"
      ]
     },
     "execution_count": 8,
     "metadata": {},
     "output_type": "execute_result"
    }
   ],
   "source": [
    "subprocess.Popen(['pymca'])"
   ]
  },
  {
   "cell_type": "code",
   "execution_count": 9,
   "metadata": {},
   "outputs": [],
   "source": [
    "## Here goes energy-scan-gui\n",
    "#!energy_scan_gui\n",
    "#subprocess.Popen(['energy_scan_gui'])"
   ]
  },
  {
   "cell_type": "code",
   "execution_count": 10,
   "metadata": {},
   "outputs": [
    {
     "data": {
      "application/javascript": [
       "IPython.notebook.save_checkpoint();"
      ],
      "text/plain": [
       "<IPython.core.display.Javascript object>"
      ]
     },
     "metadata": {},
     "output_type": "display_data"
    },
    {
     "name": "stdout",
     "output_type": "stream",
     "text": [
      "[NbConvertApp] Converting notebook simple-usr-run.ipynb to html\n",
      "[NbConvertApp] Writing 281745 bytes to ./exports/simple-usr-run.html\n"
     ]
    }
   ],
   "source": [
    "from IPython.display import display, Javascript\n",
    "display(Javascript('IPython.notebook.save_checkpoint();'))\n",
    "!python3 -m nbconvert simple-usr-run.ipynb --template=nbextensions --output-dir=./exports --output=simple-usr-run.html --to html"
   ]
  }
 ],
 "metadata": {
  "kernelspec": {
   "display_name": "Python 3",
   "language": "python",
   "name": "python3"
  },
  "language_info": {
   "codemirror_mode": {
    "name": "ipython",
    "version": 3
   },
   "file_extension": ".py",
   "mimetype": "text/x-python",
   "name": "python",
   "nbconvert_exporter": "python",
   "pygments_lexer": "ipython3",
   "version": "3.5.3"
  }
 },
 "nbformat": 4,
 "nbformat_minor": 2
}
