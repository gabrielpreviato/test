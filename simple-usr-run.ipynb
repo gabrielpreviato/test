{
 "cells": [
  {
   "cell_type": "code",
   "execution_count": null,
   "metadata": {},
   "outputs": [],
   "source": [
    "!wa"
   ]
  },
  {
   "cell_type": "code",
   "execution_count": null,
   "metadata": {},
   "outputs": [],
   "source": [
    "!motor"
   ]
  },
  {
   "cell_type": "code",
   "execution_count": 1,
   "metadata": {},
   "outputs": [
    {
     "name": "stdout",
     "output_type": "stream",
     "text": [
      "/usr/local/bin/ct:91: YAMLLoadWarning: calling yaml.load() without Loader=... is deprecated, as the default Loader is unsafe. Please read https://msg.pyyaml.org/load for full details.\n",
      "  counters_in_file = yaml.load(config_file)\n",
      "/usr/local/SOL/scan-utils/scan_utils/configuration.py:21: YAMLLoadWarning: calling yaml.load() without Loader=... is deprecated, as the default Loader is unsafe. Please read https://msg.pyyaml.org/load for full details.\n",
      "  return yaml.load(f), path\n",
      "Warning while getting pseudo counter value: 'sol2s2'\n",
      "--------------------------------\n",
      "Counts:\n",
      "--------------------------------\n",
      "      norm                    0\n",
      "    sol1s2                    0\n",
      "  noisesim                    0\n",
      "    sol1s3                    0\n",
      "    sol2s1              1000000\n",
      "  virtual2                   27\n",
      "     math1                    0\n",
      "ringcurrent                    0\n",
      "     math2                    0\n",
      "--------------------------------\n"
     ]
    }
   ],
   "source": [
    "## Here goes ct\n",
    "# Antes de executar, certificar que os arquivos estao linkados no bin\n",
    "# Exemplo:\n",
    "# ln -s /usr/local/SOL/scan-utils/ct /usr/local/bin/ct\n",
    "!ct"
   ]
  },
  {
   "cell_type": "code",
   "execution_count": null,
   "metadata": {},
   "outputs": [],
   "source": [
    "## Here goes scaler\n",
    "!pydm --hide-menu-bar --hide-nav-bar -m \"P=REFLET:SCALER\" scaler.py"
   ]
  },
  {
   "cell_type": "code",
   "execution_count": null,
   "metadata": {},
   "outputs": [],
   "source": [
    "# Antes de executar, certificar que os arquivos estao linkados no bin\n",
    "# Exemplo:\n",
    "# ln -s /home/gabriel.andrade/work/vortex-gui/vortex.py /usr/local/bin/vortex.py\n",
    "# ln -s /home/gabriel.andrade/work/vortex-gui/plot /usr/local/bin/plot\n",
    "# ln -s /home/gabriel.andrade/work/vortex-gui/roi_set/ /usr/local/bin/roi_set\n",
    "!pydm --hide-menu-bar --hide-nav-bar -m \"P=XPRESS3-CARNAUBA\" vortex.py"
   ]
  },
  {
   "cell_type": "code",
   "execution_count": null,
   "metadata": {},
   "outputs": [],
   "source": [
    "# First instal pymca\n",
    "# pip3 install PyMca5\n",
    "# pip3 install silx\n",
    "!scan_gui"
   ]
  },
  {
   "cell_type": "code",
   "execution_count": null,
   "metadata": {},
   "outputs": [],
   "source": [
    "!pymca"
   ]
  },
  {
   "cell_type": "code",
   "execution_count": null,
   "metadata": {},
   "outputs": [],
   "source": [
    "## Here goes energy-scan-gui\n",
    "#!energy_scan_gui"
   ]
  },
  {
   "cell_type": "code",
   "execution_count": null,
   "metadata": {},
   "outputs": [],
   "source": [
    "from IPython.display import display, Javascript\n",
    "display(Javascript('IPython.notebook.save_checkpoint();'))\n",
    "!python3 -m nbconvert simple-usr-run.ipynb --template=nbextensions --output-dir=./exports --output=simple-usr-run.html --to html"
   ]
  }
 ],
 "metadata": {
  "kernelspec": {
   "display_name": "Python 3",
   "language": "python",
   "name": "python3"
  },
  "language_info": {
   "codemirror_mode": {
    "name": "ipython",
    "version": 3
   },
   "file_extension": ".py",
   "mimetype": "text/x-python",
   "name": "python",
   "nbconvert_exporter": "python",
   "pygments_lexer": "ipython3",
   "version": "3.5.3"
  }
 },
 "nbformat": 4,
 "nbformat_minor": 2
}
