{
 "cells": [
  {
   "cell_type": "code",
   "execution_count": null,
   "metadata": {},
   "outputs": [],
   "source": [
    "!wa"
   ]
  },
  {
   "cell_type": "code",
   "execution_count": 3,
   "metadata": {},
   "outputs": [
    {
     "name": "stdout",
     "output_type": "stream",
     "text": [
      "[2019-05-31 13:53:19,623] [INFO    ] - Opening the default stylesheet '/usr/local/lib/python3.5/dist-packages/pydm/default_stylesheet.qss'...\n",
      "libGL error: failed to open drm device: Permission denied\n",
      "libGL error: failed to load driver: nouveau\n",
      "/usr/local/SOL/GUI/sol-widgets/sol_widgets/widgets/motor.py:496: YAMLLoadWarning: calling yaml.load() without Loader=... is deprecated, as the default Loader is unsafe. Please read https://msg.pyyaml.org/load for full details.\n",
      "  self.fields_map = yaml.load(f)\n"
     ]
    }
   ],
   "source": [
    "!motor"
   ]
  },
  {
   "cell_type": "code",
   "execution_count": 1,
   "metadata": {},
   "outputs": [
    {
     "name": "stdout",
     "output_type": "stream",
     "text": [
      "/usr/local/bin/ct:91: YAMLLoadWarning: calling yaml.load() without Loader=... is deprecated, as the default Loader is unsafe. Please read https://msg.pyyaml.org/load for full details.\n",
      "  counters_in_file = yaml.load(config_file)\n",
      "/usr/local/SOL/scan-utils/scan_utils/configuration.py:21: YAMLLoadWarning: calling yaml.load() without Loader=... is deprecated, as the default Loader is unsafe. Please read https://msg.pyyaml.org/load for full details.\n",
      "  return yaml.load(f), path\n",
      "Warning while getting pseudo counter value: 'sol2s2'\n",
      "--------------------------------\n",
      "Counts:\n",
      "--------------------------------\n",
      "      norm                    0\n",
      "    sol1s2                    0\n",
      "  noisesim                    0\n",
      "    sol1s3                    0\n",
      "    sol2s1              1000000\n",
      "  virtual2                   27\n",
      "     math1                    0\n",
      "ringcurrent                    0\n",
      "     math2                    0\n",
      "--------------------------------\n"
     ]
    }
   ],
   "source": [
    "## Here goes ct\n",
    "# Antes de executar, certificar que os arquivos estao linkados no bin\n",
    "# Exemplo:\n",
    "# ln -s /usr/local/SOL/scan-utils/ct /usr/local/bin/ct\n",
    "!ct"
   ]
  },
  {
   "cell_type": "code",
   "execution_count": 1,
   "metadata": {},
   "outputs": [
    {
     "name": "stdout",
     "output_type": "stream",
     "text": [
      "[2019-05-31 13:51:12,385] [INFO    ] - Opening the default stylesheet '/usr/local/lib/python3.5/dist-packages/pydm/default_stylesheet.qss'...\r\n",
      "libGL error: failed to open drm device: Permission denied\r\n",
      "libGL error: failed to load driver: nouveau\r\n",
      "/usr/local/SOL/GUI/Scaler_GUI\r\n",
      "/usr/local/lib/python3.5/dist-packages/pydm/application.py:407: RuntimeWarning: More than one Display class in file /usr/local/bin/scaler.py. The first occurence (in alphabetical order) will be opened: ConfigDisplay\r\n",
      "  widget = self.load_py_file(filepath, args, merged_macros)\r\n"
     ]
    }
   ],
   "source": [
    "## Here goes scaler\n",
    "!scaler -m \"P=SOL:CRIO1:SCALER_DIG\""
   ]
  },
  {
   "cell_type": "code",
   "execution_count": 4,
   "metadata": {},
   "outputs": [
    {
     "name": "stdout",
     "output_type": "stream",
     "text": [
      "[2019-05-31 13:53:34,288] [INFO    ] - Opening the default stylesheet '/usr/local/lib/python3.5/dist-packages/pydm/default_stylesheet.qss'...\n",
      "libGL error: failed to open drm device: Permission denied\n",
      "libGL error: failed to load driver: nouveau\n",
      "/usr/local/lib/python3.5/dist-packages/pydm/application.py:407: RuntimeWarning: More than one Display class in file /usr/local/bin/vortex.py. The first occurence (in alphabetical order) will be opened: ConfigDisplay\n",
      "  widget = self.load_py_file(filepath, args, merged_macros)\n"
     ]
    }
   ],
   "source": [
    "# Antes de executar, certificar que os arquivos estao linkados no bin\n",
    "# Exemplo:\n",
    "# ln -s /home/gabriel.andrade/work/vortex-gui/vortex.py /usr/local/bin/vortex.py\n",
    "# ln -s /home/gabriel.andrade/work/vortex-gui/plot /usr/local/bin/plot\n",
    "# ln -s /home/gabriel.andrade/work/vortex-gui/roi_set/ /usr/local/bin/roi_set\n",
    "!vortex -m \"P=XPRESS3-CARNAUBA\"\n"
   ]
  },
  {
   "cell_type": "code",
   "execution_count": null,
   "metadata": {},
   "outputs": [],
   "source": [
    "# First instal pymca\n",
    "# pip3 install PyMca5\n",
    "# pip3 install silx\n",
    "!scan_gui"
   ]
  },
  {
   "cell_type": "code",
   "execution_count": 5,
   "metadata": {},
   "outputs": [
    {
     "name": "stdout",
     "output_type": "stream",
     "text": [
      "libGL error: failed to open drm device: Permission denied\r\n",
      "libGL error: failed to load driver: nouveau\r\n"
     ]
    }
   ],
   "source": [
    "!pymca"
   ]
  },
  {
   "cell_type": "code",
   "execution_count": null,
   "metadata": {},
   "outputs": [],
   "source": [
    "## Here goes energy-scan-gui\n",
    "#!energy_scan_gui"
   ]
  },
  {
   "cell_type": "code",
   "execution_count": 6,
   "metadata": {},
   "outputs": [
    {
     "data": {
      "application/javascript": [
       "IPython.notebook.save_checkpoint();"
      ],
      "text/plain": [
       "<IPython.core.display.Javascript object>"
      ]
     },
     "metadata": {},
     "output_type": "display_data"
    },
    {
     "name": "stdout",
     "output_type": "stream",
     "text": [
      "[NbConvertApp] Converting notebook simple-usr-run.ipynb to html\n",
      "[NbConvertApp] Writing 281205 bytes to ./exports/simple-usr-run.html\n"
     ]
    }
   ],
   "source": [
    "from IPython.display import display, Javascript\n",
    "display(Javascript('IPython.notebook.save_checkpoint();'))\n",
    "!python3 -m nbconvert simple-usr-run.ipynb --template=nbextensions --output-dir=./exports --output=simple-usr-run.html --to html"
   ]
  }
 ],
 "metadata": {
  "kernelspec": {
   "display_name": "Python 3",
   "language": "python",
   "name": "python3"
  },
  "language_info": {
   "codemirror_mode": {
    "name": "ipython",
    "version": 3
   },
   "file_extension": ".py",
   "mimetype": "text/x-python",
   "name": "python",
   "nbconvert_exporter": "python",
   "pygments_lexer": "ipython3",
   "version": "3.5.3"
  }
 },
 "nbformat": 4,
 "nbformat_minor": 2
}
