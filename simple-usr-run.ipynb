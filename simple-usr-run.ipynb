{
 "cells": [
  {
   "cell_type": "code",
   "execution_count": 1,
   "metadata": {},
   "outputs": [
    {
     "name": "stdout",
     "output_type": "stream",
     "text": [
      "/usr/local/SOL/scan-utils/scan_utils/configuration.py:51: YAMLLoadWarning: calling yaml.load() without Loader=... is deprecated, as the default Loader is unsafe. Please read https://msg.pyyaml.org/load for full details.\n",
      "  yield loader(f)\n",
      "Motor offset2 described in config file not found \n",
      "Motor solm4 described in config file not found \n",
      "Motor solm2 described in config file not found \n",
      "Motor gap2 described in config file not found \n",
      "Motor solm3 described in config file not found \n",
      "Motor solm1 described in config file not found \n",
      "\n",
      "              Motor:                User:                Dial:\n"
     ]
    }
   ],
   "source": [
    "!wa"
   ]
  },
  {
   "cell_type": "code",
   "execution_count": 2,
   "metadata": {},
   "outputs": [
    {
     "name": "stdout",
     "output_type": "stream",
     "text": [
      "[2019-05-29 13:04:01,702] [INFO    ] - Opening the default stylesheet '/usr/local/lib/python3.5/dist-packages/pydm/default_stylesheet.qss'...\n",
      "/usr/local/SOL/GUI/sol-widgets/sol_widgets/widgets/motor.py:496: YAMLLoadWarning: calling yaml.load() without Loader=... is deprecated, as the default Loader is unsafe. Please read https://msg.pyyaml.org/load for full details.\n",
      "  self.fields_map = yaml.load(f)\n"
     ]
    }
   ],
   "source": [
    "!motor"
   ]
  },
  {
   "cell_type": "code",
   "execution_count": null,
   "metadata": {},
   "outputs": [],
   "source": [
    "## Here goes ct\n",
    "#!ct"
   ]
  },
  {
   "cell_type": "code",
   "execution_count": null,
   "metadata": {},
   "outputs": [],
   "source": [
    "## Here goes scaler\n",
    "#!scaler"
   ]
  },
  {
   "cell_type": "code",
   "execution_count": null,
   "metadata": {},
   "outputs": [],
   "source": [
    "#!vortex-gui"
   ]
  },
  {
   "cell_type": "code",
   "execution_count": 3,
   "metadata": {},
   "outputs": [
    {
     "name": "stdout",
     "output_type": "stream",
     "text": [
      "[2019-05-29 13:06:21,044] [INFO    ] - Opening the default stylesheet '/usr/local/lib/python3.5/dist-packages/pydm/default_stylesheet.qss'...\n",
      "[2019-05-29 13:06:21,223] [ERROR   ] - Image file  '/home/lais.carmo/work/SOL/GUI/scan-gui/img/lnls-sirius.png' does not exist\n",
      "[2019-05-29 13:06:21,223] [ERROR   ] - Image file  '/home/lais.carmo/work/SOL/GUI/scan-gui/img/cnpem.png' does not exist\n",
      "/usr/local/bin/scan_utils/configuration.py:51: YAMLLoadWarning: calling yaml.load() without Loader=... is deprecated, as the default Loader is unsafe. Please read https://msg.pyyaml.org/load for full details.\n",
      "  yield loader(f)\n",
      "/usr/local/bin/scan_utils/configuration.py:273: YAMLLoadWarning: calling yaml.load() without Loader=... is deprecated, as the default Loader is unsafe. Please read https://msg.pyyaml.org/load for full details.\n",
      "  counters_in_config = yaml.load(config_file)\n"
     ]
    }
   ],
   "source": [
    "!scan_gui"
   ]
  },
  {
   "cell_type": "code",
   "execution_count": 4,
   "metadata": {},
   "outputs": [],
   "source": [
    "!pymca"
   ]
  },
  {
   "cell_type": "code",
   "execution_count": null,
   "metadata": {},
   "outputs": [],
   "source": [
    "## Here goes energy-scan-gui\n",
    "#!energy_scan_gui"
   ]
  },
  {
   "cell_type": "code",
   "execution_count": 6,
   "metadata": {},
   "outputs": [
    {
     "data": {
      "application/javascript": [
       "IPython.notebook.save_checkpoint();"
      ],
      "text/plain": [
       "<IPython.core.display.Javascript object>"
      ]
     },
     "metadata": {},
     "output_type": "display_data"
    },
    {
     "name": "stdout",
     "output_type": "stream",
     "text": [
      "[NbConvertApp] Converting notebook simple-usr-run.ipynb to html\n",
      "[NbConvertApp] Writing 278812 bytes to ./exports/simple-usr-run.html\n"
     ]
    }
   ],
   "source": [
    "from IPython.display import display, Javascript\n",
    "display(Javascript('IPython.notebook.save_checkpoint();'))\n",
    "!python3 -m nbconvert simple-usr-run.ipynb --template=nbextensions --output-dir=./exports --output=simple-usr-run.html --to html"
   ]
  }
 ],
 "metadata": {
  "kernelspec": {
   "display_name": "Python 3",
   "language": "python",
   "name": "python3"
  },
  "language_info": {
   "codemirror_mode": {
    "name": "ipython",
    "version": 3
   },
   "file_extension": ".py",
   "mimetype": "text/x-python",
   "name": "python",
   "nbconvert_exporter": "python",
   "pygments_lexer": "ipython3",
   "version": "3.5.3"
  }
 },
 "nbformat": 4,
 "nbformat_minor": 2
}
