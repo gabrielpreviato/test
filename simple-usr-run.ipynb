{
 "cells": [
  {
   "cell_type": "code",
   "execution_count": 1,
   "metadata": {},
   "outputs": [
    {
     "name": "stdout",
     "output_type": "stream",
     "text": [
      "/usr/local/SOL/scan-utils/scan_utils/configuration.py:51: YAMLLoadWarning: calling yaml.load() without Loader=... is deprecated, as the default Loader is unsafe. Please read https://msg.pyyaml.org/load for full details.\n",
      "  yield loader(f)\n",
      "Motor offset2 described in config file not found \n",
      "Motor solm4 described in config file not found \n",
      "Motor solm2 described in config file not found \n",
      "Motor gap2 described in config file not found \n",
      "Motor solm3 described in config file not found \n",
      "Motor solm1 described in config file not found \n",
      "\n",
      "              Motor:                User:                Dial:\n"
     ]
    }
   ],
   "source": [
    "!wa"
   ]
  },
  {
   "cell_type": "code",
   "execution_count": 2,
   "metadata": {},
   "outputs": [
    {
     "name": "stdout",
     "output_type": "stream",
     "text": [
      "[2019-05-29 13:04:01,702] [INFO    ] - Opening the default stylesheet '/usr/local/lib/python3.5/dist-packages/pydm/default_stylesheet.qss'...\n",
      "/usr/local/SOL/GUI/sol-widgets/sol_widgets/widgets/motor.py:496: YAMLLoadWarning: calling yaml.load() without Loader=... is deprecated, as the default Loader is unsafe. Please read https://msg.pyyaml.org/load for full details.\n",
      "  self.fields_map = yaml.load(f)\n"
     ]
    }
   ],
   "source": [
    "!motor"
   ]
  },
  {
   "cell_type": "code",
   "execution_count": 9,
   "metadata": {},
   "outputs": [
    {
     "name": "stdout",
     "output_type": "stream",
     "text": [
      "/usr/local/bin/ct:91: YAMLLoadWarning: calling yaml.load() without Loader=... is deprecated, as the default Loader is unsafe. Please read https://msg.pyyaml.org/load for full details.\n",
      "  counters_in_file = yaml.load(config_file)\n",
      "/usr/local/SOL/scan-utils/scan_utils/configuration.py:21: YAMLLoadWarning: calling yaml.load() without Loader=... is deprecated, as the default Loader is unsafe. Please read https://msg.pyyaml.org/load for full details.\n",
      "  return yaml.load(f), path\n",
      "Warning while getting pseudo counter value: 'sol2s2'\n",
      "--------------------------------\n",
      "Counts:\n",
      "--------------------------------\n",
      "    sol1s2                    0\n",
      "    sol1s3                    0\n",
      "     math1                    0\n",
      "  virtual2                   86\n",
      "    sol2s1              1000000\n",
      "  noisesim                    0\n",
      "ringcurrent                    0\n",
      "     math2                    0\n",
      "      norm                    0\n",
      "--------------------------------\n"
     ]
    }
   ],
   "source": [
    "## Here goes ct\n",
    "# Antes de executar, certificar que os arquivos estao linkados no bin\n",
    "# Exemplo:\n",
    "# ln -s /usr/local/SOL/scan-utils/ct /usr/local/bin/ct\n",
    "!ct"
   ]
  },
  {
   "cell_type": "code",
   "execution_count": null,
   "metadata": {},
   "outputs": [],
   "source": [
    "## Here goes scaler\n",
    "#!scaler"
   ]
  },
  {
   "cell_type": "code",
   "execution_count": 14,
   "metadata": {},
   "outputs": [
    {
     "name": "stdout",
     "output_type": "stream",
     "text": [
      "[2019-05-29 14:38:11,071] [INFO    ] - Opening the default stylesheet '/usr/local/lib/python3.5/dist-packages/pydm/default_stylesheet.qss'...\n",
      "/usr/local/lib/python3.5/dist-packages/pydm/application.py:407: RuntimeWarning: More than one Display class in file /usr/local/bin/vortex.py. The first occurence (in alphabetical order) will be opened: ConfigDisplay\n",
      "  widget = self.load_py_file(filepath, args, merged_macros)\n",
      "[2019-05-29 14:38:11,337] [ERROR   ] - Channel {P}:Acquire did not specify a valid protocol and no default protocol is defined. This channel will receive no data. To specify a default protocol, set the PYDM_DEFAULT_PROTOCOL environment variable.\n",
      "[2019-05-29 14:38:11,337] [ERROR   ] - Unable to make proper connection for <PyDMChannel ({P}:Acquire)>\n",
      "Traceback (most recent call last):\n",
      "  File \"/usr/local/lib/python3.5/dist-packages/pydm/widgets/channel.py\", line 103, in connect\n",
      "    plugin.add_connection(self)\n",
      "AttributeError: 'NoneType' object has no attribute 'add_connection'\n",
      "Traceback (most recent call last):\n",
      "  File \"/usr/local/bin/pydm\", line 11, in <module>\n",
      "    load_entry_point('pydm==1.6.5', 'gui_scripts', 'pydm')()\n",
      "  File \"/usr/local/lib/python3.5/dist-packages/pydm_launcher/main.py\", line 120, in main\n",
      "    stylesheet_path=pydm_args.stylesheet\n",
      "  File \"/usr/local/lib/python3.5/dist-packages/pydm/application.py\", line 110, in __init__\n",
      "    self.make_window(ui_file, macros, command_line_args)\n",
      "  File \"/usr/local/lib/python3.5/dist-packages/pydm/application.py\", line 270, in make_window\n",
      "    self.main_window.open_file(ui_file, macros, command_line_args)\n",
      "  File \"/usr/local/lib/python3.5/dist-packages/pydm/main_window.py\", line 133, in open_file\n",
      "    self.open_abs_file(filename, macros, command_line_args)\n",
      "  File \"/usr/local/lib/python3.5/dist-packages/pydm/main_window.py\", line 143, in open_abs_file\n",
      "    widget = self.app.open_file(filename, merged_macros, command_line_args)\n",
      "  File \"/usr/local/lib/python3.5/dist-packages/pydm/application.py\", line 407, in open_file\n",
      "    widget = self.load_py_file(filepath, args, merged_macros)\n",
      "  File \"/usr/local/lib/python3.5/dist-packages/pydm/application.py\", line 361, in load_py_file\n",
      "    return cls(**kwargs)\n",
      "  File \"/usr/local/bin/vortex.py\", line 53, in __init__\n",
      "    self.pv_list_main = [self.macros['P']+':ARRSUM1:ArrayData',\\\n",
      "KeyError: 'P'\n"
     ]
    }
   ],
   "source": [
    "# Antes de executar, certificar que os arquivos estao linkados no bin\n",
    "# Exemplo:\n",
    "# ln -s /home/gabriel.andrade/work/vortex-gui/vortex.py /usr/local/bin/vortex.py\n",
    "# ln -s /home/gabriel.andrade/work/vortex-gui/plot /usr/local/bin/plot\n",
    "# ln -s /home/gabriel.andrade/work/vortex-gui/roi_set/ /usr/local/bin/roi_set\n",
    "!pydm --hide-menu-bar --hide-nav-bar vortex.py"
   ]
  },
  {
   "cell_type": "code",
   "execution_count": 10,
   "metadata": {},
   "outputs": [
    {
     "name": "stdout",
     "output_type": "stream",
     "text": [
      "[2019-05-29 14:32:05,633] [INFO    ] - Opening the default stylesheet '/usr/local/lib/python3.5/dist-packages/pydm/default_stylesheet.qss'...\n",
      "[2019-05-29 14:32:05,712] [ERROR   ] - Image file  '/home/lais.carmo/work/SOL/GUI/scan-gui/img/lnls-sirius.png' does not exist\n",
      "[2019-05-29 14:32:05,712] [ERROR   ] - Image file  '/home/lais.carmo/work/SOL/GUI/scan-gui/img/cnpem.png' does not exist\n",
      "/usr/local/bin/scan_utils/configuration.py:51: YAMLLoadWarning: calling yaml.load() without Loader=... is deprecated, as the default Loader is unsafe. Please read https://msg.pyyaml.org/load for full details.\n",
      "  yield loader(f)\n",
      "/usr/local/bin/scan_utils/configuration.py:273: YAMLLoadWarning: calling yaml.load() without Loader=... is deprecated, as the default Loader is unsafe. Please read https://msg.pyyaml.org/load for full details.\n",
      "  counters_in_config = yaml.load(config_file)\n"
     ]
    }
   ],
   "source": [
    "!scan_gui"
   ]
  },
  {
   "cell_type": "code",
   "execution_count": 4,
   "metadata": {},
   "outputs": [],
   "source": [
    "!pymca"
   ]
  },
  {
   "cell_type": "code",
   "execution_count": null,
   "metadata": {},
   "outputs": [],
   "source": [
    "## Here goes energy-scan-gui\n",
    "#!energy_scan_gui"
   ]
  },
  {
   "cell_type": "code",
   "execution_count": 6,
   "metadata": {},
   "outputs": [
    {
     "data": {
      "application/javascript": [
       "IPython.notebook.save_checkpoint();"
      ],
      "text/plain": [
       "<IPython.core.display.Javascript object>"
      ]
     },
     "metadata": {},
     "output_type": "display_data"
    },
    {
     "name": "stdout",
     "output_type": "stream",
     "text": [
      "[NbConvertApp] Converting notebook simple-usr-run.ipynb to html\n",
      "[NbConvertApp] Writing 278812 bytes to ./exports/simple-usr-run.html\n"
     ]
    }
   ],
   "source": [
    "from IPython.display import display, Javascript\n",
    "display(Javascript('IPython.notebook.save_checkpoint();'))\n",
    "!python3 -m nbconvert simple-usr-run.ipynb --template=nbextensions --output-dir=./exports --output=simple-usr-run.html --to html"
   ]
  }
 ],
 "metadata": {
  "kernelspec": {
   "display_name": "Python 3",
   "language": "python",
   "name": "python3"
  },
  "language_info": {
   "codemirror_mode": {
    "name": "ipython",
    "version": 3
   },
   "file_extension": ".py",
   "mimetype": "text/x-python",
   "name": "python",
   "nbconvert_exporter": "python",
   "pygments_lexer": "ipython3",
   "version": "3.5.3"
  }
 },
 "nbformat": 4,
 "nbformat_minor": 2
}
