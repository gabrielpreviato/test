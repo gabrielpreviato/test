{
 "cells": [
  {
   "cell_type": "code",
   "execution_count": null,
   "metadata": {},
   "outputs": [],
   "source": [
    "!wa"
   ]
  },
  {
   "cell_type": "code",
   "execution_count": null,
   "metadata": {},
   "outputs": [],
   "source": [
    "subprocess.Popen(['motor solm2'])"
   ]
  },
  {
   "cell_type": "code",
   "execution_count": null,
   "metadata": {},
   "outputs": [],
   "source": [
    "## Here goes ct\n",
    "# Antes de executar, certificar que os arquivos estao linkados no bin\n",
    "# Exemplo:\n",
    "# ln -s /usr/local/SOL/scan-utils/ct /usr/local/bin/ct\n",
    "!./home/gabriel.andrade/work/scan-utils/o_ct"
   ]
  },
  {
   "cell_type": "code",
   "execution_count": null,
   "metadata": {},
   "outputs": [],
   "source": [
    "## Here goes scaler\n",
    "#!pydm --hide-menu-bar --hide-nav-bar -m \"P=REFLET:SCALER\" scaler.py\n",
    "subprocess.Popen(['pydm', '--hide-menu-bar', '--hide-nav-bar', '-m', 'P=REFLET:SCALER', 'scaler.py'])"
   ]
  },
  {
   "cell_type": "code",
   "execution_count": null,
   "metadata": {},
   "outputs": [],
   "source": [
    "# Antes de executar, certificar que os arquivos estao linkados no bin\n",
    "# Exemplo:\n",
    "# ln -s /home/gabriel.andrade/work/vortex-gui/vortex.py /usr/local/bin/vortex.py\n",
    "# ln -s /home/gabriel.andrade/work/vortex-gui/plot /usr/local/bin/plot\n",
    "# ln -s /home/gabriel.andrade/work/vortex-gui/roi_set/ /usr/local/bin/roi_set\n",
    "subprocess.Popen(['pydm', '--hide-menu-bar', '--hide-nav-bar', '-m', 'P=XPRESS3-CARNAUBA', 'vortex.py'])"
   ]
  },
  {
   "cell_type": "code",
   "execution_count": null,
   "metadata": {},
   "outputs": [],
   "source": [
    "# First instal pymca\n",
    "# pip3 install PyMca5\n",
    "# pip3 install silx\n",
    "subprocess.Popen(['scan_gui'])"
   ]
  },
  {
   "cell_type": "code",
   "execution_count": null,
   "metadata": {},
   "outputs": [],
   "source": [
    "subprocess.Popen(['pymca'])"
   ]
  },
  {
   "cell_type": "code",
   "execution_count": null,
   "metadata": {},
   "outputs": [],
   "source": [
    "## Here goes energy-scan-gui\n",
    "#!energy_scan_gui\n",
    "#subprocess.Popen(['energy_scan_gui'])"
   ]
  },
  {
   "cell_type": "code",
   "execution_count": null,
   "metadata": {},
   "outputs": [],
   "source": [
    "from IPython.display import display, Javascript\n",
    "display(Javascript('IPython.notebook.save_checkpoint();'))\n",
    "!python3 -m nbconvert simple-usr-run.ipynb --template=nbextensions --output-dir=./exports --output=simple-usr-run.html --to html"
   ]
  }
 ],
 "metadata": {
  "kernelspec": {
   "display_name": "Python 3",
   "language": "python",
   "name": "python3"
  },
  "language_info": {
   "codemirror_mode": {
    "name": "ipython",
    "version": 3
   },
   "file_extension": ".py",
   "mimetype": "text/x-python",
   "name": "python",
   "nbconvert_exporter": "python",
   "pygments_lexer": "ipython3",
   "version": "3.5.3"
  }
 },
 "nbformat": 4,
 "nbformat_minor": 2
}
